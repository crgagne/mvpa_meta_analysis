{
 "cells": [
  {
   "cell_type": "code",
   "execution_count": 1,
   "metadata": {
    "collapsed": true
   },
   "outputs": [],
   "source": [
    "%matplotlib inline"
   ]
  },
  {
   "cell_type": "code",
   "execution_count": 2,
   "metadata": {
    "collapsed": true
   },
   "outputs": [],
   "source": [
    "import matplotlib.pyplot as plt\n",
    "from nilearn import datasets\n",
    "from nilearn import plotting\n",
    "import nibabel as nib\n",
    "import pandas as pd\n",
    "from nipy import load_image\n",
    "import numpy as np"
   ]
  },
  {
   "cell_type": "code",
   "execution_count": 3,
   "metadata": {
    "collapsed": false
   },
   "outputs": [],
   "source": [
    "#import os\n",
    "#os.listdir('/srv/local/mricron-gtk1-20101203/templates')"
   ]
  },
  {
   "cell_type": "markdown",
   "metadata": {},
   "source": [
    "## MNI Coordinates to AAL"
   ]
  },
  {
   "cell_type": "code",
   "execution_count": 4,
   "metadata": {
    "collapsed": true
   },
   "outputs": [],
   "source": [
    "all_md_regions = nib.load('../data_inhouse_fmri/data_rois/MDROI_sized.nii')\n",
    "all_md_regions_data = all_md_regions.get_data();"
   ]
  },
  {
   "cell_type": "code",
   "execution_count": 5,
   "metadata": {
    "collapsed": false
   },
   "outputs": [
    {
     "data": {
      "text/plain": [
       "array([[  -2.,    0.,    0.,   78.],\n",
       "       [   0.,    2.,    0., -112.],\n",
       "       [   0.,    0.,    2.,  -50.],\n",
       "       [   0.,    0.,    0.,    1.]])"
      ]
     },
     "execution_count": 5,
     "metadata": {},
     "output_type": "execute_result"
    }
   ],
   "source": [
    "all_md_regions.affine"
   ]
  },
  {
   "cell_type": "code",
   "execution_count": 6,
   "metadata": {
    "collapsed": false
   },
   "outputs": [
    {
     "data": {
      "text/plain": [
       "array([ 58.,  75.,  44.,   1.])"
      ]
     },
     "execution_count": 6,
     "metadata": {},
     "output_type": "execute_result"
    }
   ],
   "source": [
    "def MNI_coordinate_to_md_index(coord,myimg):\n",
    "    return(np.dot(np.linalg.inv(myimg.affine),coord))\n",
    "\n",
    "MNI_coordinate_to_md_index(np.array([-38,38,38,1]),all_md_regions)"
   ]
  },
  {
   "cell_type": "code",
   "execution_count": 7,
   "metadata": {
    "collapsed": false
   },
   "outputs": [],
   "source": [
    "dataset = datasets.fetch_atlas_harvard_oxford('cort-maxprob-thr50-2mm')"
   ]
  },
  {
   "cell_type": "code",
   "execution_count": 8,
   "metadata": {
    "collapsed": false
   },
   "outputs": [],
   "source": [
    "# ## Get AAL image\n",
    "# dataset = datasets.fetch_atlas_aal()\n",
    "# atlas_filename = dataset.maps\n",
    "# dataset.indices\n",
    "# dataset.indices.append('0')\n",
    "# dataset.labels\n",
    "# dataset.labels.append('Outside Brain')\n",
    "# atlas_img = nib.load(dataset.maps)\n",
    "# atlas_img_data = atlas_img.get_data()\n",
    "# print(atlas_img.affine)"
   ]
  },
  {
   "cell_type": "code",
   "execution_count": 9,
   "metadata": {
    "collapsed": false
   },
   "outputs": [],
   "source": [
    "# print(dataset.labels[0:4])\n",
    "# print(dataset.indices[0:4])"
   ]
  },
  {
   "cell_type": "code",
   "execution_count": 10,
   "metadata": {
    "collapsed": false
   },
   "outputs": [],
   "source": [
    "mdnames = {}\n",
    "mdnames['13350']='IFGop_R'\n",
    "mdnames['12136']='IFGop_L'\n",
    "mdnames['10922'] = 'Insula_R'\n",
    "mdnames['9709'] = 'Insula_L'\n",
    "mdnames['27913'] = 'MFGorb_R'\n",
    "mdnames['25485'] = 'MFGorb_L'\n",
    "mdnames['14563'] = 'ACC'\n",
    "mdnames['16990'] = 'PrecG_R'\n",
    "mdnames['15777'] = 'PrecG_L'\n",
    "mdnames['29126'] = 'MFG_R'\n",
    "mdnames['26699'] = 'MFG_L'\n",
    "\n"
   ]
  },
  {
   "cell_type": "markdown",
   "metadata": {},
   "source": [
    "### Read in v7"
   ]
  },
  {
   "cell_type": "code",
   "execution_count": 11,
   "metadata": {
    "collapsed": false
   },
   "outputs": [
    {
     "data": {
      "text/plain": [
       "array([nan, '3,53,-20', '60,17,34', '-35, 19, 3; 35, 19, 3', '0, 23, 39'], dtype=object)"
      ]
     },
     "execution_count": 11,
     "metadata": {},
     "output_type": "execute_result"
    }
   ],
   "source": [
    "# read data set in \n",
    "df= pd.read_csv(\"../data_meta_analysis/Data_Classifications_v7.csv\")\n",
    "df['MNI.Coordinates'].unique()[0:5]\n"
   ]
  },
  {
   "cell_type": "code",
   "execution_count": 12,
   "metadata": {
    "collapsed": false
   },
   "outputs": [],
   "source": [
    "\n",
    "## convert each MNI coordinate into a region name, and concatenate each rows names. \n",
    "for i,c in enumerate(df['MNI.Coordinates']):\n",
    "    if isinstance(c, basestring):\n",
    "        cc = c.split(';')\n",
    "        rnames = []\n",
    "        \n",
    "        for s,single_coord in enumerate(cc):\n",
    "            single_coord = single_coord.replace('_','') # replace underscores\n",
    "            single_coord = single_coord.replace('\\x05','') # replace underscores\n",
    "            #try:\n",
    "            single_coord = np.array([float(x) for x in single_coord.split(',')]) # convert each number to float\n",
    "            #array_of_coords.append(single_coord) # append each entries 1 to multiple single coordinates \n",
    "            #except:\n",
    "            #    print(single_coord)\n",
    "            single_coord = np.append(single_coord,1) # padd with a 1 for the affine transform\n",
    "            vindex = MNI_coordinate_to_md_index(single_coord,all_md_regions)  # convert to AAL voxel indices\n",
    "            vindex = vindex.astype('int')\n",
    "            rindex = all_md_regions_data[vindex[0],vindex[1],vindex[2]] # find the code for the region in the map\n",
    "            #print(rindex)\n",
    "            try:\n",
    "                name = mdnames[str(rindex)]\n",
    "                \n",
    "            except:\n",
    "                name = 'Outside_MD'\n",
    "            rnames.append(name)  # convert the code into region name \n",
    "        \n",
    "            #print(rnames)\n",
    "        df.loc[i,'Region.MD.1']=\";\".join(rnames)\n",
    "            #print(rindex)"
   ]
  },
  {
   "cell_type": "code",
   "execution_count": 13,
   "metadata": {
    "collapsed": false
   },
   "outputs": [
    {
     "data": {
      "text/plain": [
       "array([nan, 'Outside_MD', 'Insula_R;Insula_L', 'ACC', 'MFG_R;MFG_L',\n",
       "       'Insula_R', 'IFGop_L', 'PrecG_L', 'PrecG_R', 'MFG_L;MFG_R',\n",
       "       'Insula_L;Insula_R', 'MFG_R', 'IFGop_R', 'ACC;ACC', 'MFG_L',\n",
       "       'IFGop_R;IFGop_L', 'Outside_MD;Outside_MD', 'Insula_L',\n",
       "       'Outside_MD;ACC', 'IFGop_L;IFGop_L', 'Outside_MD;PrecG_L',\n",
       "       'Outside_MD;MFG_L', 'MFGorb_R',\n",
       "       'ACC;ACC;PrecG_R;IFGop_L;MFG_R;Outside_MD;IFGop_R;IFGop_L'], dtype=object)"
      ]
     },
     "execution_count": 13,
     "metadata": {},
     "output_type": "execute_result"
    }
   ],
   "source": [
    "df['Region.MD.1'].unique()"
   ]
  },
  {
   "cell_type": "markdown",
   "metadata": {},
   "source": [
    "\n",
    "## Name Conversions"
   ]
  },
  {
   "cell_type": "markdown",
   "metadata": {},
   "source": [
    "### AAL"
   ]
  },
  {
   "cell_type": "code",
   "execution_count": 14,
   "metadata": {
    "collapsed": true
   },
   "outputs": [],
   "source": [
    "aal = datasets.fetch_atlas_aal()\n",
    "\n",
    "\n",
    "aal.indices\n",
    "aal.indices.append('0')\n",
    "aal.labels\n",
    "aal.labels.append('Outside Brain')\n",
    "\n",
    "aal_img = nib.load(aal.maps)\n",
    "aal_img_data = aal_img.get_data()"
   ]
  },
  {
   "cell_type": "code",
   "execution_count": 15,
   "metadata": {
    "collapsed": false
   },
   "outputs": [],
   "source": [
    "def AALtoMD(AALname,aal,aal_img,aal_img_data,mdnames,all_md_regions_data):\n",
    "    boolindex = [label==AALname for label in aal.labels]\n",
    "    AALnumber = np.array(aal.indices)[boolindex][0]\n",
    "    coords = np.where(aal_img_data==int(AALnumber))\n",
    "    coords = np.vstack((coords[0],coords[1],coords[2]))\n",
    "    rnames = []\n",
    "    for ci in range(np.shape(coords)[1]):\n",
    "        coord = coords[:,ci]\n",
    "        MNIcoord = np.dot(aal_img.affine,np.append(coord,1.0))\n",
    "        MDindex = MNI_coordinate_to_md_index(MNIcoord,all_md_regions)\n",
    "        vindex = MDindex.astype('int')\n",
    "        rindex = all_md_regions_data[vindex[0],vindex[1],vindex[2]] # find the code for the region in the map\n",
    "        #print(rindex)\n",
    "        try:\n",
    "            name = mdnames[str(rindex)]\n",
    "            rnames.append(name)  # convert the code into region name \n",
    "\n",
    "        except:\n",
    "            x=1\n",
    "\n",
    "    rnames = list(set(rnames))\n",
    "    if rnames:\n",
    "        rnames = ';'.join(rnames)\n",
    "    else:\n",
    "        rnames = None\n",
    "    return(rnames)"
   ]
  },
  {
   "cell_type": "code",
   "execution_count": 16,
   "metadata": {
    "collapsed": false
   },
   "outputs": [],
   "source": [
    "\n",
    "for i,c in enumerate(df['AAL']):\n",
    "    \n",
    "    if isinstance(c, basestring):\n",
    "        # create region list     \n",
    "        cc = c.split(';')\n",
    "        rnames = []\n",
    "        for s,AAL in enumerate(cc):\n",
    "            AAL = AAL.replace(' ','')\n",
    "            rnames = rnames +  [AALtoMD(AAL,aal,aal_img,aal_img_data,mdnames,all_md_regions_data)]\n",
    "        \n",
    "        # remove duplicates using set and make single string # \n",
    "        rnames = [r for r in rnames if r is not None]\n",
    "        \n",
    "        if not rnames:\n",
    "            rnames = ['Outside_MD']\n",
    "        \n",
    "        region_str = ';'.join(list(set(rnames))) \n",
    "        #print(c)\n",
    "        #print(region_str)\n",
    "\n",
    "        # save to dataframe\n",
    "        df.loc[i,'Region.MD.1']=region_str# set removes duplicates, then makes it all into a string"
   ]
  },
  {
   "cell_type": "markdown",
   "metadata": {},
   "source": [
    "### BA"
   ]
  },
  {
   "cell_type": "code",
   "execution_count": 17,
   "metadata": {
    "collapsed": false
   },
   "outputs": [],
   "source": [
    "\n",
    "BAtoAAL = {}\n",
    "\n",
    "BAtoAAL['6'] = 'PrecG_L; PrecG_R' #\n",
    "BAtoAAL['8'] = 'Outside_MD' #\n",
    "BAtoAAL['9'] =  'Outside_MD' #\n",
    "BAtoAAL['10'] ='MFGorb_R; MFGorb_L'\n",
    "BAtoAAL['11'] ='Outside_MD' #\n",
    "BAtoAAL['12'] = 'Outside_MD' #\n",
    "BAtoAAL['13'] ='Outside_MD' #\n",
    "BAtoAAL['14'] = 'Outside_MD' #\n",
    "\n",
    "# these are straight\n",
    "BAtoAAL['47'] = 'Insula_R; Insula_L' #\n",
    "BAtoAAL['45'] = 'Insula_R; Insula_L' #\n",
    "BAtoAAL['44'] = 'IFGop_R; IFGop_L' #\n",
    "BAtoAAL['46'] = 'MFG_R; MFG_L' #\n",
    "BAtoAAL['24'] = 'ACC' #\n",
    "BAtoAAL['32'] = 'ACC' #\n"
   ]
  },
  {
   "cell_type": "code",
   "execution_count": 18,
   "metadata": {
    "collapsed": false,
    "scrolled": true
   },
   "outputs": [],
   "source": [
    "remove_left=True\n",
    "remove_right=False\n",
    "\n",
    "\n",
    "# remove left and right if they are not in the name\n",
    "exclude_index = []\n",
    "for n,name in enumerate(rnames):\n",
    "    if 'R' in name and remove_right:  \n",
    "        exclude_index=exclude_index+[n]\n",
    "    if 'L' in name and remove_left: \n",
    "        exclude_index=exclude_index+[n]\n",
    "        \n",
    "rnames = [element for i, element in enumerate(rnames) if i not in exclude_index]"
   ]
  },
  {
   "cell_type": "code",
   "execution_count": 19,
   "metadata": {
    "collapsed": false,
    "scrolled": true
   },
   "outputs": [],
   "source": [
    "for i,c in enumerate(df['BA']):\n",
    "\n",
    "    if isinstance(c, basestring):\n",
    "\n",
    "        # create region list     \n",
    "        cc = c.split(',')\n",
    "        rnames = []\n",
    "        for s,BA in enumerate(cc):\n",
    "            BA = str(int(BA)) # gets rid of spaces\n",
    "            rnames = rnames +  BAtoAAL[BA].split(';') # add to list\n",
    "            \n",
    "\n",
    "        # determine if BA is right, left, or both\n",
    "        region_name = df.loc[i,'Region.name']\n",
    "        if isinstance(region_name, basestring):\n",
    "            if ' R' in region_name or 'Right' in region_name or 'right' in region_name:\n",
    "                remove_left=True # if the name contains R, then remove left \n",
    "            else:\n",
    "                remove_left=False\n",
    "\n",
    "            if ' L' in region_name or 'Left' in region_name or 'left' in region_name:\n",
    "                remove_right=True\n",
    "            else:\n",
    "                remove_right=False        \n",
    "\n",
    "        # remove left and right if they are not in the name\n",
    "        exclude_index = []\n",
    "        for n,name in enumerate(rnames):\n",
    "            if 'R' in name and remove_right:  \n",
    "                exclude_index=exclude_index+[n]\n",
    "            if 'L' in name and remove_left: \n",
    "                exclude_index=exclude_index+[n]\n",
    "\n",
    "\n",
    "        rnames = [element for ii, element in enumerate(rnames) if ii not in exclude_index]\n",
    "        \n",
    "\n",
    "        \n",
    "        # remove duplicates using set and make single string # \n",
    "        region_list = list(set(rnames))\n",
    "        if len(region_list)>1:\n",
    "            region_list = [r for r in region_list if r is not 'Outside_MD']\n",
    "        \n",
    "        region_list = ';'.join(region_list) \n",
    "        \n",
    "        #print(region_list)\n",
    "        \n",
    "        # save to dataframe\n",
    "        df.loc[i,'Region.MD.1']=region_list# set removes duplicates, then makes it all into a string"
   ]
  },
  {
   "cell_type": "code",
   "execution_count": 20,
   "metadata": {
    "collapsed": false
   },
   "outputs": [],
   "source": [
    "#df.loc[df['BA'].notnull(),['Region.name','BA','Region.AAL.1']]"
   ]
  },
  {
   "cell_type": "markdown",
   "metadata": {},
   "source": [
    "### OxHarvard"
   ]
  },
  {
   "cell_type": "code",
   "execution_count": 21,
   "metadata": {
    "collapsed": true
   },
   "outputs": [],
   "source": [
    "OxHarvard = {}\n",
    "\n",
    "\n",
    "OxHarvard['DLPFC'] = 'MFG_R; MFG_R' #\n",
    "OxHarvard['dorsal premotor'] = 'PrecG_L; PrecG_R' #\n",
    "OxHarvard['ventral premotor']= 'PrecG_L; PrecG_R' #\n",
    "OxHarvard['SMA'] = 'PrecG_L; PrecG_R' #\n",
    "OxHarvard['pre SMA'] = 'PrecG_L; PrecG_R' #\n",
    "OxHarvard['ventrolateral PFC'] ='Insula_R; Insula_L' #\n",
    "\n"
   ]
  },
  {
   "cell_type": "code",
   "execution_count": 22,
   "metadata": {
    "collapsed": false,
    "scrolled": true
   },
   "outputs": [],
   "source": [
    "for i,c in enumerate(df['OxHarvard']):\n",
    "    if isinstance(c, basestring):\n",
    "        cc = c.split(',')\n",
    "        rnames = []\n",
    "        for s,BA in enumerate(cc):\n",
    "            rnames = rnames +  OxHarvard[BA].split(';') # add to list\n",
    "        #print(c)\n",
    "        #print(rnames)\n",
    "        df.loc[i,'Region.MD.1']=';'.join(list(set(rnames))) # set removes duplicates, then makes it all into a string"
   ]
  },
  {
   "cell_type": "code",
   "execution_count": 23,
   "metadata": {
    "collapsed": false
   },
   "outputs": [
    {
     "data": {
      "text/html": [
       "<div>\n",
       "<table border=\"1\" class=\"dataframe\">\n",
       "  <thead>\n",
       "    <tr style=\"text-align: right;\">\n",
       "      <th></th>\n",
       "      <th>Region.name</th>\n",
       "      <th>OxHarvard</th>\n",
       "      <th>Region.MD.1</th>\n",
       "    </tr>\n",
       "  </thead>\n",
       "  <tbody>\n",
       "    <tr>\n",
       "      <th>581</th>\n",
       "      <td>DLPFC</td>\n",
       "      <td>DLPFC</td>\n",
       "      <td>MFG_R;MFG_R</td>\n",
       "    </tr>\n",
       "    <tr>\n",
       "      <th>582</th>\n",
       "      <td>dorsal premotor</td>\n",
       "      <td>dorsal premotor</td>\n",
       "      <td>PrecG_R;PrecG_L</td>\n",
       "    </tr>\n",
       "    <tr>\n",
       "      <th>583</th>\n",
       "      <td>SMA</td>\n",
       "      <td>SMA</td>\n",
       "      <td>PrecG_R;PrecG_L</td>\n",
       "    </tr>\n",
       "    <tr>\n",
       "      <th>584</th>\n",
       "      <td>SMA</td>\n",
       "      <td>SMA</td>\n",
       "      <td>PrecG_R;PrecG_L</td>\n",
       "    </tr>\n",
       "    <tr>\n",
       "      <th>585</th>\n",
       "      <td>SMA</td>\n",
       "      <td>SMA</td>\n",
       "      <td>PrecG_R;PrecG_L</td>\n",
       "    </tr>\n",
       "  </tbody>\n",
       "</table>\n",
       "</div>"
      ],
      "text/plain": [
       "         Region.name        OxHarvard       Region.MD.1\n",
       "581            DLPFC            DLPFC       MFG_R;MFG_R\n",
       "582  dorsal premotor  dorsal premotor   PrecG_R;PrecG_L\n",
       "583              SMA              SMA   PrecG_R;PrecG_L\n",
       "584              SMA              SMA   PrecG_R;PrecG_L\n",
       "585              SMA              SMA   PrecG_R;PrecG_L"
      ]
     },
     "execution_count": 23,
     "metadata": {},
     "output_type": "execute_result"
    }
   ],
   "source": [
    "df.loc[df['OxHarvard'].notnull(),['Region.name','OxHarvard','Region.MD.1']].head()"
   ]
  },
  {
   "cell_type": "markdown",
   "metadata": {},
   "source": [
    "### Desikan"
   ]
  },
  {
   "cell_type": "code",
   "execution_count": 24,
   "metadata": {
    "collapsed": true
   },
   "outputs": [],
   "source": [
    "desikan = {}\n",
    "\n",
    "desikan['LPFC L'] = 'MFG_L'\n",
    "desikan['LPFC R'] = 'MFG_R'\n",
    "desikan['Bi-lateral LPFC'] = 'MFG_R; MFG_L' \n",
    "# these were explicitly listed in paper 7 \n",
    "\n",
    "desikan['Caudal Anterior Cingulate'] = 'ACC'\n",
    "desikan['Rostral Anterior Cingulate'] = 'ACC'\n",
    "\n",
    "\n",
    "desikan['Pars Opercularis'] ='IFGop_R; IFGop_L'\n",
    "\n",
    "desikan['Pars Triangularis']='Insula_R; Insula_L'\n",
    "desikan['Pars Orbitalis'] = 'Insula_R; Insula_L'\n",
    "desikan['Lateral Orbitofrontal'] = 'Outside_MD'\n",
    "\n",
    "desikan['Superior Frontal'] = 'Outside_MD'\n",
    "desikan['Caudal Middle Frontal'] ='MFG_R; MFG_L'\n",
    "desikan['Caudal Mid Frontal'] = 'MFG_R; MFG_L'\n",
    "\n",
    "desikan['Rostral Mid Frontal'] = 'MFGorb_R; MFGorb_L'\n",
    "desikan['Rostral Middle Frontal'] = 'MFGorb_R; MFGorb_L'\n",
    "\n",
    "desikan['Frontal Pole'] ='MFGorb_R; MFGorb_L'\n",
    "\n",
    "desikan['Insula'] = 'Insula_R; Insula_L'\n",
    "\n",
    "\n",
    "\n"
   ]
  },
  {
   "cell_type": "code",
   "execution_count": 25,
   "metadata": {
    "collapsed": false,
    "scrolled": true
   },
   "outputs": [],
   "source": [
    "for i,c in enumerate(df['Desikan']):\n",
    "    if isinstance(c, basestring):\n",
    "        cc = c.split(',')\n",
    "        rnames = []\n",
    "        for s,BA in enumerate(cc):\n",
    "            BA = BA.rstrip() # remove trailing white space\n",
    "            rnames = rnames +  desikan[BA].split(';') # add to list\n",
    "        #print(c)\n",
    "        #print(rnames)\n",
    "        df.loc[i,'Region.MD.1']=';'.join(list(set(rnames))) # set removes duplicates, then makes it all into a string"
   ]
  },
  {
   "cell_type": "code",
   "execution_count": 26,
   "metadata": {
    "collapsed": false,
    "scrolled": false
   },
   "outputs": [
    {
     "data": {
      "text/html": [
       "<div>\n",
       "<table border=\"1\" class=\"dataframe\">\n",
       "  <thead>\n",
       "    <tr style=\"text-align: right;\">\n",
       "      <th></th>\n",
       "      <th>Region.name</th>\n",
       "      <th>Desikan</th>\n",
       "      <th>Region.MD.1</th>\n",
       "    </tr>\n",
       "  </thead>\n",
       "  <tbody>\n",
       "    <tr>\n",
       "      <th>104</th>\n",
       "      <td>Pars Opercularis</td>\n",
       "      <td>Pars Opercularis</td>\n",
       "      <td>IFGop_L;IFGop_R</td>\n",
       "    </tr>\n",
       "    <tr>\n",
       "      <th>105</th>\n",
       "      <td>Caudal Anterior Cingulate_</td>\n",
       "      <td>Caudal Anterior Cingulate</td>\n",
       "      <td>ACC</td>\n",
       "    </tr>\n",
       "    <tr>\n",
       "      <th>106</th>\n",
       "      <td>Rostral Anterior Cingulate_</td>\n",
       "      <td>Rostral Anterior Cingulate</td>\n",
       "      <td>ACC</td>\n",
       "    </tr>\n",
       "    <tr>\n",
       "      <th>107</th>\n",
       "      <td>Caudal Middle Frontal_</td>\n",
       "      <td>Caudal Middle Frontal</td>\n",
       "      <td>MFG_L;MFG_R</td>\n",
       "    </tr>\n",
       "    <tr>\n",
       "      <th>108</th>\n",
       "      <td>Frontal Pole_</td>\n",
       "      <td>Frontal Pole</td>\n",
       "      <td>MFGorb_R; MFGorb_L</td>\n",
       "    </tr>\n",
       "  </tbody>\n",
       "</table>\n",
       "</div>"
      ],
      "text/plain": [
       "                     Region.name                     Desikan  \\\n",
       "104             Pars Opercularis            Pars Opercularis   \n",
       "105   Caudal Anterior Cingulate_   Caudal Anterior Cingulate   \n",
       "106  Rostral Anterior Cingulate_  Rostral Anterior Cingulate   \n",
       "107       Caudal Middle Frontal_       Caudal Middle Frontal   \n",
       "108                Frontal Pole_                Frontal Pole   \n",
       "\n",
       "            Region.MD.1  \n",
       "104     IFGop_L;IFGop_R  \n",
       "105                 ACC  \n",
       "106                 ACC  \n",
       "107         MFG_L;MFG_R  \n",
       "108  MFGorb_R; MFGorb_L  "
      ]
     },
     "execution_count": 26,
     "metadata": {},
     "output_type": "execute_result"
    }
   ],
   "source": [
    "df.loc[df['Desikan'].notnull(),['Region.name','Desikan','Region.MD.1']].head()"
   ]
  },
  {
   "cell_type": "markdown",
   "metadata": {},
   "source": [
    "### Destrieux"
   ]
  },
  {
   "cell_type": "code",
   "execution_count": 27,
   "metadata": {
    "collapsed": true
   },
   "outputs": [],
   "source": [
    "destrieux = {}\n",
    "destrieux['premotor'] = 'PrecG_L; PrecG_R'"
   ]
  },
  {
   "cell_type": "code",
   "execution_count": 28,
   "metadata": {
    "collapsed": false,
    "scrolled": true
   },
   "outputs": [],
   "source": [
    "for i,c in enumerate(df['Destrieux']):\n",
    "    if isinstance(c, basestring):\n",
    "        cc = c.split(',')\n",
    "        rnames = []\n",
    "        for s,BA in enumerate(cc):\n",
    "            BA = BA.rstrip() # remove trailing white space\n",
    "            rnames = rnames +  destrieux[BA].split(';') # add to list\n",
    "        #print(c)\n",
    "        #print(rnames)\n",
    "        df.loc[i,'Region.MD.1']=';'.join(list(set(rnames))) # set removes duplicates, then makes it all into a string"
   ]
  },
  {
   "cell_type": "code",
   "execution_count": 29,
   "metadata": {
    "collapsed": false
   },
   "outputs": [
    {
     "data": {
      "text/html": [
       "<div>\n",
       "<table border=\"1\" class=\"dataframe\">\n",
       "  <thead>\n",
       "    <tr style=\"text-align: right;\">\n",
       "      <th></th>\n",
       "      <th>Region.name</th>\n",
       "      <th>Destrieux</th>\n",
       "      <th>Region.MD.1</th>\n",
       "    </tr>\n",
       "  </thead>\n",
       "  <tbody>\n",
       "    <tr>\n",
       "      <th>572</th>\n",
       "      <td>premotor</td>\n",
       "      <td>premotor</td>\n",
       "      <td>PrecG_R;PrecG_L</td>\n",
       "    </tr>\n",
       "    <tr>\n",
       "      <th>573</th>\n",
       "      <td>premotor</td>\n",
       "      <td>premotor</td>\n",
       "      <td>PrecG_R;PrecG_L</td>\n",
       "    </tr>\n",
       "    <tr>\n",
       "      <th>574</th>\n",
       "      <td>premotor</td>\n",
       "      <td>premotor</td>\n",
       "      <td>PrecG_R;PrecG_L</td>\n",
       "    </tr>\n",
       "  </tbody>\n",
       "</table>\n",
       "</div>"
      ],
      "text/plain": [
       "    Region.name Destrieux       Region.MD.1\n",
       "572    premotor  premotor   PrecG_R;PrecG_L\n",
       "573    premotor  premotor   PrecG_R;PrecG_L\n",
       "574    premotor  premotor   PrecG_R;PrecG_L"
      ]
     },
     "execution_count": 29,
     "metadata": {},
     "output_type": "execute_result"
    }
   ],
   "source": [
    "df.loc[df['Destrieux'].notnull(),['Region.name','Destrieux','Region.MD.1']].head()"
   ]
  },
  {
   "cell_type": "markdown",
   "metadata": {},
   "source": [
    "### No Atlas Specified"
   ]
  },
  {
   "cell_type": "code",
   "execution_count": 30,
   "metadata": {
    "collapsed": true
   },
   "outputs": [],
   "source": [
    "unknown = {}\n",
    "\n",
    "\n",
    "unknown['SMA']= 'PrecG_L; PrecG_R'\n",
    "unknown['LOper'] = 'IFGop_L'\n",
    "unknown['ROper'] = 'IFGop_R'\n",
    "unknown['LTria'] = 'Insula_L'\n",
    "unknown['RTria'] = 'Insula_R'\n",
    "unknown['FO'] ='Insula_R; Insula_L'\n",
    "unknown['MFC'] = 'MFG_R; MFG_L'\n",
    "unknown['SEF'] ='Outside_MD'\n",
    "unknown['lFEF'] = 'PrecG_L; PrecG_R'\n",
    "unknown['mPFC'] = 'Outside_MD'\n",
    "unknown['Insula']= 'Insula_L; Insula_R'\n",
    "unknown['mSFG']= 'Outside_MD'\n",
    "unknown['MFG']= 'MFG_R; MFG_L'\n",
    "unknown['Frontal'] = 'Outside_MD'\n",
    "unknown['lPFC']= 'MFG_R; MFG_L'\n",
    "unknown['Superior frontal sulcus'] = 'Outside_MD'\n",
    "unknown['FEF'] = 'Outside_MD'\n",
    "unknown['bilateral FEF'] = 'Outside_MD'\n",
    "unknown['RFEF'] ='Outside_MD'\n",
    "unknown['Cingulate'] = 'ACC'\n",
    "unknown['rACC R'] = 'ACC'\n",
    "unknown['rACC'] = 'ACC'\n",
    "unknown['dACC L'] = 'ACC'\n",
    "unknown['ACC'] =  'ACC'\n",
    "unknown['Medial prefrontal'] = 'Outside_MD'\n",
    "unknown['left medial frontal gyrus'] =  'Outside_MD'\n",
    "unknown['Anterior Insula L'] = 'Insula_L'\n",
    "unknown['Anterior Insula R'] = 'Insula_R'\n",
    "unknown['INS'] = 'Insula_L; Insula_R'\n",
    "unknown['Anterior Insula R'] = 'Insula_R'\n",
    "unknown['left inferior frontal gyrus'] = 'Insula_L'\n",
    "unknown['right inferior frontal gyrus'] = 'Insula_R'\n",
    "unknown['IFG'] = 'Insula_L; Insula_R'\n",
    "unknown['DLPFC'] = 'MFG_L; MFG_R'\n",
    "unknown['DLFPC'] = 'MFG_L; MFG_R'\n",
    "unknown['Dorsolateral PFC'] = 'MFG_L; MFG_R'\n",
    "unknown['left DLPFC']  = 'MFG_L; MFG_R'\n",
    "unknown['LDLPFC']  = 'MFG_L'\n",
    "unknown['RDLPFC'] = 'MFG_R'\n",
    "unknown['right DLPFC']  = 'MFG_R'\n",
    "unknown['left middle frontal gyrus']='MFG_L'\n",
    "unknown['anterior regions of left lateral PFC'] = 'MFGorb_L; MFGorb_R'\n",
    "unknown['OFC'] = 'Outside_MD'\n",
    "unknown['orbitofrontal cortex'] = 'Outside_MD'\n",
    "unknown['mOFC'] = 'Outside_MD'\n",
    "unknown['LOFC'] ='Outside_MD'\n",
    "unknown['right PMC'] ='PrecG_R'\n",
    "unknown['medial frontopolar'] = 'Outside_MD'\n",
    "\n",
    "\n"
   ]
  },
  {
   "cell_type": "code",
   "execution_count": 31,
   "metadata": {
    "collapsed": false,
    "scrolled": true
   },
   "outputs": [],
   "source": [
    "for i,c in enumerate(df['Unkown Atlas']):\n",
    "    if isinstance(c, basestring):\n",
    "        cc = c.split(',')\n",
    "        rnames = []\n",
    "        for s,BA in enumerate(cc):\n",
    "            BA = BA.rstrip() # remove trailing white space\n",
    "            rnames = rnames +  unknown[BA].split(';') # add to list\n",
    "        #print(c)\n",
    "        #print(rnames)\n",
    "        df.loc[i,'Region.MD.1']=';'.join(list(set(rnames))) # set removes duplicates, then makes it all into a string"
   ]
  },
  {
   "cell_type": "code",
   "execution_count": 32,
   "metadata": {
    "collapsed": false,
    "scrolled": false
   },
   "outputs": [
    {
     "data": {
      "text/html": [
       "<div>\n",
       "<table border=\"1\" class=\"dataframe\">\n",
       "  <thead>\n",
       "    <tr style=\"text-align: right;\">\n",
       "      <th></th>\n",
       "      <th>Region.name</th>\n",
       "      <th>Unkown Atlas</th>\n",
       "      <th>Region.MD.1</th>\n",
       "    </tr>\n",
       "  </thead>\n",
       "  <tbody>\n",
       "    <tr>\n",
       "      <th>38</th>\n",
       "      <td>NaN</td>\n",
       "      <td>FEF</td>\n",
       "      <td>Outside_MD</td>\n",
       "    </tr>\n",
       "    <tr>\n",
       "      <th>42</th>\n",
       "      <td>Medial prefrontal</td>\n",
       "      <td>Medial prefrontal</td>\n",
       "      <td>Outside_MD</td>\n",
       "    </tr>\n",
       "    <tr>\n",
       "      <th>43</th>\n",
       "      <td>Medial prefrontal</td>\n",
       "      <td>Medial prefrontal</td>\n",
       "      <td>Outside_MD</td>\n",
       "    </tr>\n",
       "    <tr>\n",
       "      <th>44</th>\n",
       "      <td>Medial prefrontal</td>\n",
       "      <td>Medial prefrontal</td>\n",
       "      <td>Outside_MD</td>\n",
       "    </tr>\n",
       "    <tr>\n",
       "      <th>45</th>\n",
       "      <td>Cingulate</td>\n",
       "      <td>Cingulate</td>\n",
       "      <td>ACC</td>\n",
       "    </tr>\n",
       "  </tbody>\n",
       "</table>\n",
       "</div>"
      ],
      "text/plain": [
       "          Region.name       Unkown Atlas Region.MD.1\n",
       "38                NaN                FEF  Outside_MD\n",
       "42  Medial prefrontal  Medial prefrontal  Outside_MD\n",
       "43  Medial prefrontal  Medial prefrontal  Outside_MD\n",
       "44  Medial prefrontal  Medial prefrontal  Outside_MD\n",
       "45          Cingulate          Cingulate         ACC"
      ]
     },
     "execution_count": 32,
     "metadata": {},
     "output_type": "execute_result"
    }
   ],
   "source": [
    "df.loc[df['Unkown Atlas'].notnull(),['Region.name','Unkown Atlas','Region.MD.1']].head()"
   ]
  },
  {
   "cell_type": "markdown",
   "metadata": {},
   "source": [
    "### Outside brain fixes"
   ]
  },
  {
   "cell_type": "code",
   "execution_count": 33,
   "metadata": {
    "collapsed": false
   },
   "outputs": [
    {
     "name": "stdout",
     "output_type": "stream",
     "text": [
      "Series([], Name: Region.name, dtype: object)\n",
      "0\n"
     ]
    }
   ],
   "source": [
    "print(df.loc[df['Region.MD.1']=='Outside Brain','Region.name']) # print the outside of the brain.\n",
    "print(len(df.loc[df['Region.MD.1']=='Outside Brain','Region.name']))"
   ]
  },
  {
   "cell_type": "code",
   "execution_count": 34,
   "metadata": {
    "collapsed": false
   },
   "outputs": [],
   "source": [
    "# df.loc[(df['Region.AAL.1']=='Outside Brain')&(df['PID']==42),'Region.MD.1']=['Frontal_Inf_Tri_R; Frontal_Inf_Tri_L; Frontal_Mid_L; Frontal_Mid_R',\n",
    "#                                                             'Frontal_Inf_Tri_R; Frontal_Inf_Tri_L; Frontal_Mid_L; Frontal_Mid_R']"
   ]
  },
  {
   "cell_type": "code",
   "execution_count": 35,
   "metadata": {
    "collapsed": false
   },
   "outputs": [],
   "source": [
    "## other mscl fixes \n",
    "# df.loc[df['Region.AAL.1']=='; Frontal_Inf_Oper_L;Frontal_Inf_Oper_R',['Region.AAL.1']] = 'Frontal_Inf_Oper_L;Frontal_Inf_Oper_R'\n",
    "# df.loc[df['Region.AAL.1']==';Frontal_Mid_Orb_R; Frontal_Inf_Orb_L;Frontal_Sup_Orb_L;Frontal_Inf_Orb_L;Frontal_Sup_Orb_R; Frontal_Mid_Orb_L'\n",
    "#        ,['Region.AAL.1']]= 'Frontal_Mid_Orb_R; Frontal_Inf_Orb_L;Frontal_Sup_Orb_L;Frontal_Inf_Orb_L;Frontal_Sup_Orb_R; Frontal_Mid_Orb_L'"
   ]
  },
  {
   "cell_type": "markdown",
   "metadata": {},
   "source": [
    "## Save a CSV with region"
   ]
  },
  {
   "cell_type": "code",
   "execution_count": 36,
   "metadata": {
    "collapsed": true
   },
   "outputs": [],
   "source": [
    "df.to_csv('../data_meta_analysis/data_derived_meta_analysis/Data_Classifications_v7_with_region_md.csv',index=False)\n",
    "df= pd.read_csv(\"../data_meta_analysis/data_derived_meta_analysis/Data_Classifications_v7_with_region_md.csv\")"
   ]
  },
  {
   "cell_type": "markdown",
   "metadata": {},
   "source": [
    "## Create a region design (X) Matrix"
   ]
  },
  {
   "cell_type": "code",
   "execution_count": 37,
   "metadata": {
    "collapsed": false
   },
   "outputs": [
    {
     "data": {
      "text/plain": [
       "array(['ACC', 'IFGop_L', 'IFGop_R', 'Insula_L', 'Insula_R', 'MFG_L',\n",
       "       'MFG_R', 'MFGorb_L', 'MFGorb_R', 'PrecG_L', 'PrecG_R', 'Outside_MD'], \n",
       "      dtype='|S10')"
      ]
     },
     "execution_count": 37,
     "metadata": {},
     "output_type": "execute_result"
    }
   ],
   "source": [
    "labels = [mdnames[key] for key in mdnames.keys()]\n",
    "labels = np.array(np.sort(labels))\n",
    "labels = np.append(labels,np.array(['Outside_MD']))\n",
    "labels"
   ]
  },
  {
   "cell_type": "code",
   "execution_count": 38,
   "metadata": {
    "collapsed": false
   },
   "outputs": [],
   "source": [
    "# create X matrix for region\n",
    "\n",
    "X = np.zeros((len(df),len(labels))) # make it the size of the entire AAL list\n",
    "\n",
    "# go through each row of dataset,and for each name in the string, find the location in the region name in the list\n",
    "for i,c in enumerate(df['Region.MD.1']):\n",
    "    if isinstance(c, basestring):\n",
    "        cc = c.split(';')\n",
    "        for single_name in cc:\n",
    "            #print(single_name)\n",
    "            single_name = single_name.lstrip()\n",
    "            X[i,labels==single_name]=1\n",
    "\n",
    "# remove the labels with no ones\n",
    "labels =np.array(labels)\n",
    "labels =labels[X.sum(0)!=0]\n",
    "# now remove row's with no region. \n",
    "X = X[:,X.sum(0)!=0]\n",
    "\n",
    "\n"
   ]
  },
  {
   "cell_type": "code",
   "execution_count": 39,
   "metadata": {
    "collapsed": false
   },
   "outputs": [
    {
     "data": {
      "text/plain": [
       "array(['ACC', 'IFGop_L', 'IFGop_R', 'Insula_L', 'Insula_R', 'MFG_L',\n",
       "       'MFG_R', 'MFGorb_L', 'MFGorb_R', 'PrecG_L', 'PrecG_R', 'Outside_MD'], \n",
       "      dtype='|S10')"
      ]
     },
     "execution_count": 39,
     "metadata": {},
     "output_type": "execute_result"
    }
   ],
   "source": [
    "labels[X.sum(0)!=0]"
   ]
  },
  {
   "cell_type": "code",
   "execution_count": 40,
   "metadata": {
    "collapsed": false
   },
   "outputs": [
    {
     "data": {
      "text/html": [
       "<div>\n",
       "<table border=\"1\" class=\"dataframe\">\n",
       "  <thead>\n",
       "    <tr style=\"text-align: right;\">\n",
       "      <th></th>\n",
       "      <th>ACC</th>\n",
       "      <th>IFGop_L</th>\n",
       "      <th>IFGop_R</th>\n",
       "      <th>Insula_L</th>\n",
       "      <th>Insula_R</th>\n",
       "      <th>MFG_L</th>\n",
       "      <th>MFG_R</th>\n",
       "      <th>MFGorb_L</th>\n",
       "      <th>MFGorb_R</th>\n",
       "      <th>PrecG_L</th>\n",
       "      <th>PrecG_R</th>\n",
       "      <th>Outside_MD</th>\n",
       "    </tr>\n",
       "  </thead>\n",
       "  <tbody>\n",
       "    <tr>\n",
       "      <th>0</th>\n",
       "      <td>1</td>\n",
       "      <td>0</td>\n",
       "      <td>0</td>\n",
       "      <td>0</td>\n",
       "      <td>0</td>\n",
       "      <td>0</td>\n",
       "      <td>0</td>\n",
       "      <td>0</td>\n",
       "      <td>0</td>\n",
       "      <td>0</td>\n",
       "      <td>0</td>\n",
       "      <td>0</td>\n",
       "    </tr>\n",
       "    <tr>\n",
       "      <th>1</th>\n",
       "      <td>1</td>\n",
       "      <td>0</td>\n",
       "      <td>0</td>\n",
       "      <td>0</td>\n",
       "      <td>0</td>\n",
       "      <td>0</td>\n",
       "      <td>0</td>\n",
       "      <td>0</td>\n",
       "      <td>0</td>\n",
       "      <td>0</td>\n",
       "      <td>0</td>\n",
       "      <td>0</td>\n",
       "    </tr>\n",
       "    <tr>\n",
       "      <th>2</th>\n",
       "      <td>1</td>\n",
       "      <td>0</td>\n",
       "      <td>0</td>\n",
       "      <td>0</td>\n",
       "      <td>0</td>\n",
       "      <td>0</td>\n",
       "      <td>0</td>\n",
       "      <td>0</td>\n",
       "      <td>0</td>\n",
       "      <td>0</td>\n",
       "      <td>0</td>\n",
       "      <td>0</td>\n",
       "    </tr>\n",
       "    <tr>\n",
       "      <th>3</th>\n",
       "      <td>1</td>\n",
       "      <td>0</td>\n",
       "      <td>0</td>\n",
       "      <td>0</td>\n",
       "      <td>0</td>\n",
       "      <td>0</td>\n",
       "      <td>0</td>\n",
       "      <td>0</td>\n",
       "      <td>0</td>\n",
       "      <td>0</td>\n",
       "      <td>0</td>\n",
       "      <td>0</td>\n",
       "    </tr>\n",
       "    <tr>\n",
       "      <th>4</th>\n",
       "      <td>1</td>\n",
       "      <td>0</td>\n",
       "      <td>0</td>\n",
       "      <td>0</td>\n",
       "      <td>0</td>\n",
       "      <td>0</td>\n",
       "      <td>0</td>\n",
       "      <td>0</td>\n",
       "      <td>0</td>\n",
       "      <td>0</td>\n",
       "      <td>0</td>\n",
       "      <td>0</td>\n",
       "    </tr>\n",
       "  </tbody>\n",
       "</table>\n",
       "</div>"
      ],
      "text/plain": [
       "   ACC  IFGop_L  IFGop_R  Insula_L  Insula_R  MFG_L  MFG_R  MFGorb_L  \\\n",
       "0    1        0        0         0         0      0      0         0   \n",
       "1    1        0        0         0         0      0      0         0   \n",
       "2    1        0        0         0         0      0      0         0   \n",
       "3    1        0        0         0         0      0      0         0   \n",
       "4    1        0        0         0         0      0      0         0   \n",
       "\n",
       "   MFGorb_R  PrecG_L  PrecG_R  Outside_MD  \n",
       "0         0        0        0           0  \n",
       "1         0        0        0           0  \n",
       "2         0        0        0           0  \n",
       "3         0        0        0           0  \n",
       "4         0        0        0           0  "
      ]
     },
     "execution_count": 40,
     "metadata": {},
     "output_type": "execute_result"
    }
   ],
   "source": [
    "# make design matrix into a dataframe \n",
    "d = pd.DataFrame(X)\n",
    "d.columns = labels\n",
    "d.head()"
   ]
  },
  {
   "cell_type": "markdown",
   "metadata": {},
   "source": [
    "### Plot Design Matrix"
   ]
  },
  {
   "cell_type": "code",
   "execution_count": 41,
   "metadata": {
    "collapsed": false
   },
   "outputs": [
    {
     "data": {
      "text/plain": [
       "<matplotlib.image.AxesImage at 0x7f705920dc50>"
      ]
     },
     "execution_count": 41,
     "metadata": {},
     "output_type": "execute_result"
    },
    {
     "data": {
      "image/png": "[encoded data removed]",
      "text/plain": [
       "<matplotlib.figure.Figure at 0x7f705b83afd0>"
      ]
     },
     "metadata": {},
     "output_type": "display_data"
    }
   ],
   "source": [
    "plt.matshow(X,aspect='auto')"
   ]
  },
  {
   "cell_type": "markdown",
   "metadata": {},
   "source": [
    "### Rows that have no region.."
   ]
  },
  {
   "cell_type": "code",
   "execution_count": 42,
   "metadata": {
    "collapsed": false,
    "scrolled": true
   },
   "outputs": [
    {
     "data": {
      "text/plain": [
       "0"
      ]
     },
     "execution_count": 42,
     "metadata": {},
     "output_type": "execute_result"
    }
   ],
   "source": [
    "(d.sum(1)==0).sum()"
   ]
  },
  {
   "cell_type": "code",
   "execution_count": 43,
   "metadata": {
    "collapsed": false
   },
   "outputs": [
    {
     "data": {
      "text/html": [
       "<div>\n",
       "<table border=\"1\" class=\"dataframe\">\n",
       "  <thead>\n",
       "    <tr style=\"text-align: right;\">\n",
       "      <th></th>\n",
       "      <th>PID</th>\n",
       "      <th>Title</th>\n",
       "      <th>Info.type</th>\n",
       "      <th>Source.in.paper</th>\n",
       "      <th>Task.variable.decoded</th>\n",
       "      <th>Accuracy.50</th>\n",
       "      <th>Accuracy.other</th>\n",
       "      <th>Num_classes</th>\n",
       "      <th>Significance</th>\n",
       "      <th>Roi.Search</th>\n",
       "      <th>...</th>\n",
       "      <th>ROI.Atlas</th>\n",
       "      <th>BA</th>\n",
       "      <th>AAL</th>\n",
       "      <th>Desikan</th>\n",
       "      <th>OxHarvard</th>\n",
       "      <th>Destrieux</th>\n",
       "      <th>Unkown Atlas</th>\n",
       "      <th>Method.of.Assigning.Region</th>\n",
       "      <th>Region.name</th>\n",
       "      <th>Region.MD.1</th>\n",
       "    </tr>\n",
       "  </thead>\n",
       "  <tbody>\n",
       "  </tbody>\n",
       "</table>\n",
       "<p>0 rows × 33 columns</p>\n",
       "</div>"
      ],
      "text/plain": [
       "Empty DataFrame\n",
       "Columns: [PID, Title, Info.type, Source.in.paper, Task.variable.decoded, Accuracy.50, Accuracy.other, Num_classes, Significance, Roi.Search, Pattern.type, Classifier.type, Classifier.Fitted, Scanner, Resolution, Smoothing, Coregistration, Movement.Correction, Pattern.normalization.type, Num_subs, Talairach.Coordinates, MNI.Coordinates, Coordinate.Space, ROI.Atlas, BA, AAL, Desikan, OxHarvard, Destrieux, Unkown Atlas, Method.of.Assigning.Region, Region.name, Region.MD.1]\n",
       "Index: []\n",
       "\n",
       "[0 rows x 33 columns]"
      ]
     },
     "execution_count": 43,
     "metadata": {},
     "output_type": "execute_result"
    }
   ],
   "source": [
    "df.loc[(d.sum(1)==0)]"
   ]
  },
  {
   "cell_type": "markdown",
   "metadata": {},
   "source": [
    "### Save X"
   ]
  },
  {
   "cell_type": "code",
   "execution_count": 44,
   "metadata": {
    "collapsed": false
   },
   "outputs": [],
   "source": [
    "d.to_csv('../data_meta_analysis/data_derived_meta_analysis/X_region1_2_md.csv',index=None)"
   ]
  },
  {
   "cell_type": "code",
   "execution_count": 45,
   "metadata": {
    "collapsed": false
   },
   "outputs": [
    {
     "name": "stdout",
     "output_type": "stream",
     "text": [
      "done\n"
     ]
    }
   ],
   "source": [
    "print('done')"
   ]
  }
 ],
 "metadata": {
  "hide_input": false,
  "kernelspec": {
   "display_name": "Python 2",
   "language": "python",
   "name": "python2"
  },
  "language_info": {
   "codemirror_mode": {
    "name": "ipython",
    "version": 2
   },
   "file_extension": ".py",
   "mimetype": "text/x-python",
   "name": "python",
   "nbconvert_exporter": "python",
   "pygments_lexer": "ipython2",
   "version": "2.7.12"
  }
 },
 "nbformat": 4,
 "nbformat_minor": 0
}
