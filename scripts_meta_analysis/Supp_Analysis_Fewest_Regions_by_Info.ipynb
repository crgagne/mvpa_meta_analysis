{
 "cells": [
  {
   "cell_type": "code",
   "execution_count": 6,
   "metadata": {
    "collapsed": false,
    "init_cell": true
   },
   "outputs": [],
   "source": [
    "library(nlme)\n",
    "library(multcomp)\n",
    "options(jupyter.plot_mimetypes = \"image/png\")\n",
    "library(ggplot2)\n",
    "library(corrplot)\n",
    "library(gridExtra)\n",
    "library(grid)\n",
    "library(data.table)\n",
    "library(effects)\n",
    "library(xtable)\n",
    "library(reshape)"
   ]
  },
  {
   "cell_type": "markdown",
   "metadata": {},
   "source": [
    "# Load Data"
   ]
  },
  {
   "cell_type": "code",
   "execution_count": 7,
   "metadata": {
    "collapsed": true
   },
   "outputs": [],
   "source": [
    "#stat_sum_single <- function(fun, geom=\"point\", ...) {\n",
    "#  stat_summary(fun.y=fun, colour=\"red\", geom=geom, size = 3, ...)\n",
    "#}"
   ]
  },
  {
   "cell_type": "code",
   "execution_count": 8,
   "metadata": {
    "collapsed": false,
    "init_cell": true
   },
   "outputs": [
    {
     "data": {
      "text/html": [
       "<ol class=list-inline>\n",
       "\t<li>'R4Frontal_Sup'</li>\n",
       "\t<li>'R4Frontal_Mid'</li>\n",
       "\t<li>'R4Frontal_Inf'</li>\n",
       "\t<li>'R4Frontal_Orb'</li>\n",
       "\t<li>'R4Insula'</li>\n",
       "\t<li>'R4Motor'</li>\n",
       "\t<li>'R4Cingulum'</li>\n",
       "</ol>\n"
      ],
      "text/latex": [
       "\\begin{enumerate*}\n",
       "\\item 'R4Frontal_Sup'\n",
       "\\item 'R4Frontal_Mid'\n",
       "\\item 'R4Frontal_Inf'\n",
       "\\item 'R4Frontal_Orb'\n",
       "\\item 'R4Insula'\n",
       "\\item 'R4Motor'\n",
       "\\item 'R4Cingulum'\n",
       "\\end{enumerate*}\n"
      ],
      "text/markdown": [
       "1. 'R4Frontal_Sup'\n",
       "2. 'R4Frontal_Mid'\n",
       "3. 'R4Frontal_Inf'\n",
       "4. 'R4Frontal_Orb'\n",
       "5. 'R4Insula'\n",
       "6. 'R4Motor'\n",
       "7. 'R4Cingulum'\n",
       "\n",
       "\n"
      ],
      "text/plain": [
       "[1] \"R4Frontal_Sup\" \"R4Frontal_Mid\" \"R4Frontal_Inf\" \"R4Frontal_Orb\"\n",
       "[5] \"R4Insula\"      \"R4Motor\"       \"R4Cingulum\"   "
      ]
     },
     "execution_count": 8,
     "metadata": {},
     "output_type": "execute_result"
    },
    {
     "data": {
      "text/html": [
       "<table>\n",
       "<thead><tr><th></th><th scope=col>R4Frontal_Sup</th><th scope=col>R4Frontal_Mid</th><th scope=col>R4Frontal_Inf</th><th scope=col>R4Frontal_Orb</th><th scope=col>R4Insula</th><th scope=col>R4Motor</th><th scope=col>R4Cingulum</th></tr></thead>\n",
       "<tbody>\n",
       "\t<tr><th scope=row>1</th><td>1</td><td>0</td><td>0</td><td>0</td><td>0</td><td>0</td><td>0</td></tr>\n",
       "\t<tr><th scope=row>2</th><td>1</td><td>0</td><td>0</td><td>0</td><td>0</td><td>0</td><td>0</td></tr>\n",
       "\t<tr><th scope=row>3</th><td>1</td><td>0</td><td>0</td><td>0</td><td>0</td><td>0</td><td>0</td></tr>\n",
       "\t<tr><th scope=row>4</th><td>1</td><td>0</td><td>0</td><td>0</td><td>0</td><td>0</td><td>0</td></tr>\n",
       "\t<tr><th scope=row>5</th><td>1</td><td>0</td><td>0</td><td>0</td><td>0</td><td>0</td><td>0</td></tr>\n",
       "\t<tr><th scope=row>6</th><td>1</td><td>0</td><td>0</td><td>0</td><td>0</td><td>0</td><td>0</td></tr>\n",
       "</tbody>\n",
       "</table>\n"
      ],
      "text/latex": [
       "\\begin{tabular}{r|lllllll}\n",
       "  & R4Frontal_Sup & R4Frontal_Mid & R4Frontal_Inf & R4Frontal_Orb & R4Insula & R4Motor & R4Cingulum\\\\\n",
       "\\hline\n",
       "\t1 & 1 & 0 & 0 & 0 & 0 & 0 & 0\\\\\n",
       "\t2 & 1 & 0 & 0 & 0 & 0 & 0 & 0\\\\\n",
       "\t3 & 1 & 0 & 0 & 0 & 0 & 0 & 0\\\\\n",
       "\t4 & 1 & 0 & 0 & 0 & 0 & 0 & 0\\\\\n",
       "\t5 & 1 & 0 & 0 & 0 & 0 & 0 & 0\\\\\n",
       "\t6 & 1 & 0 & 0 & 0 & 0 & 0 & 0\\\\\n",
       "\\end{tabular}\n"
      ],
      "text/plain": [
       "  R4Frontal_Sup R4Frontal_Mid R4Frontal_Inf R4Frontal_Orb R4Insula R4Motor\n",
       "1             1             0             0             0        0       0\n",
       "2             1             0             0             0        0       0\n",
       "3             1             0             0             0        0       0\n",
       "4             1             0             0             0        0       0\n",
       "5             1             0             0             0        0       0\n",
       "6             1             0             0             0        0       0\n",
       "  R4Cingulum\n",
       "1          0\n",
       "2          0\n",
       "3          0\n",
       "4          0\n",
       "5          0\n",
       "6          0"
      ]
     },
     "execution_count": 8,
     "metadata": {},
     "output_type": "execute_result"
    }
   ],
   "source": [
    "data = read.csv(\"../data_meta_analysis/Data_Classifications_v7.csv\")\n",
    "\n",
    "data<-data[c('PID','Info.type','Accuracy.50','Significance','Roi.Search',\n",
    "             'Pattern.type','Classifier.type','Scanner','Smoothing','Coregistration','Pattern.normalization.type','Num_subs')]\n",
    "\n",
    "factors<-c('Info.type','Significance','Roi.Search',\n",
    "             'Pattern.type','Classifier.type','Scanner','Smoothing','Coregistration','Pattern.normalization.type','Num_subs')\n",
    "\n",
    "R4 = read.csv(paste(\"../data_meta_analysis/data_derived_meta_analysis/X_region1_after_clustering2_2.csv\"))\n",
    "\n",
    "R4names = colnames(R4)\n",
    "i=1\n",
    "for (name in R4names){\n",
    "    R4names[i]<-paste(sep='','R4',name)\n",
    "    i=i+1\n",
    "}\n",
    "R4names\n",
    "colnames(R4)<-R4names\n",
    "head(R4)"
   ]
  },
  {
   "cell_type": "code",
   "execution_count": 9,
   "metadata": {
    "collapsed": false
   },
   "outputs": [
    {
     "data": {
      "text/html": [
       "877"
      ],
      "text/latex": [
       "877"
      ],
      "text/markdown": [
       "877"
      ],
      "text/plain": [
       "[1] 877"
      ]
     },
     "execution_count": 9,
     "metadata": {},
     "output_type": "execute_result"
    },
    {
     "data": {
      "text/html": [
       "877"
      ],
      "text/latex": [
       "877"
      ],
      "text/markdown": [
       "877"
      ],
      "text/plain": [
       "[1] 877"
      ]
     },
     "execution_count": 9,
     "metadata": {},
     "output_type": "execute_result"
    }
   ],
   "source": [
    "nrow(R4)\n",
    "nrow(data)"
   ]
  },
  {
   "cell_type": "code",
   "execution_count": 10,
   "metadata": {
    "collapsed": false,
    "init_cell": true
   },
   "outputs": [
    {
     "data": {
      "text/html": [
       "<table>\n",
       "<thead><tr><th></th><th scope=col>PID</th><th scope=col>Info.type</th><th scope=col>Accuracy.50</th><th scope=col>Significance</th><th scope=col>Roi.Search</th><th scope=col>Pattern.type</th><th scope=col>Classifier.type</th><th scope=col>Scanner</th><th scope=col>Smoothing</th><th scope=col>Coregistration</th><th scope=col>Pattern.normalization.type</th><th scope=col>Num_subs</th><th scope=col>R4Frontal_Sup</th><th scope=col>R4Frontal_Mid</th><th scope=col>R4Frontal_Inf</th><th scope=col>R4Frontal_Orb</th><th scope=col>R4Insula</th><th scope=col>R4Motor</th><th scope=col>R4Cingulum</th></tr></thead>\n",
       "<tbody>\n",
       "\t<tr><th scope=row>2</th><td>93</td><td>Perceptual</td><td>0.52</td><td>1</td><td>ROI</td><td>Single Trial Multi-Time Point</td><td>svm-lin</td><td>3T</td><td>smoothed</td><td>coregistered</td><td>Normalized Temporally</td><td>21</td><td>1</td><td>0</td><td>0</td><td>0</td><td>0</td><td>0</td><td>0</td></tr>\n",
       "\t<tr><th scope=row>3</th><td>93</td><td>Perceptual</td><td>0.52</td><td>1</td><td>ROI</td><td>Single Trial Multi-Time Point</td><td>svm-lin</td><td>3T</td><td>smoothed</td><td>coregistered</td><td>Normalized Temporally</td><td>21</td><td>1</td><td>0</td><td>0</td><td>0</td><td>0</td><td>0</td><td>0</td></tr>\n",
       "\t<tr><th scope=row>4</th><td>93</td><td>Perceptual</td><td>0.52</td><td>1</td><td>ROI</td><td>Single Trial Multi-Time Point</td><td>svm-lin</td><td>3T</td><td>smoothed</td><td>coregistered</td><td>Normalized Temporally</td><td>21</td><td>1</td><td>0</td><td>0</td><td>0</td><td>0</td><td>0</td><td>0</td></tr>\n",
       "\t<tr><th scope=row>5</th><td>93</td><td>Perceptual</td><td>0.52</td><td>1</td><td>ROI</td><td>Single Trial Multi-Time Point</td><td>svm-lin</td><td>3T</td><td>smoothed</td><td>coregistered</td><td>Normalized Temporally</td><td>21</td><td>1</td><td>0</td><td>0</td><td>0</td><td>0</td><td>0</td><td>0</td></tr>\n",
       "\t<tr><th scope=row>6</th><td>93</td><td>Perceptual</td><td>0.525</td><td>1</td><td>ROI</td><td>Single Trial Multi-Time Point</td><td>svm-lin</td><td>3T</td><td>smoothed</td><td>coregistered</td><td>Normalized Temporally</td><td>21</td><td>1</td><td>0</td><td>0</td><td>0</td><td>0</td><td>0</td><td>0</td></tr>\n",
       "\t<tr><th scope=row>7</th><td>93</td><td>Perceptual</td><td>0.53</td><td>1</td><td>ROI</td><td>Single Trial Multi-Time Point</td><td>svm-lin</td><td>3T</td><td>smoothed</td><td>coregistered</td><td>Normalized Temporally</td><td>21</td><td>1</td><td>0</td><td>0</td><td>0</td><td>0</td><td>0</td><td>0</td></tr>\n",
       "</tbody>\n",
       "</table>\n"
      ],
      "text/latex": [
       "\\begin{tabular}{r|lllllllllllllllllll}\n",
       "  & PID & Info.type & Accuracy.50 & Significance & Roi.Search & Pattern.type & Classifier.type & Scanner & Smoothing & Coregistration & Pattern.normalization.type & Num_subs & R4Frontal_Sup & R4Frontal_Mid & R4Frontal_Inf & R4Frontal_Orb & R4Insula & R4Motor & R4Cingulum\\\\\n",
       "\\hline\n",
       "\t2 & 93 & Perceptual & 0.52 & 1 & ROI & Single Trial Multi-Time Point & svm-lin & 3T & smoothed & coregistered & Normalized Temporally & 21 & 1 & 0 & 0 & 0 & 0 & 0 & 0\\\\\n",
       "\t3 & 93 & Perceptual & 0.52 & 1 & ROI & Single Trial Multi-Time Point & svm-lin & 3T & smoothed & coregistered & Normalized Temporally & 21 & 1 & 0 & 0 & 0 & 0 & 0 & 0\\\\\n",
       "\t4 & 93 & Perceptual & 0.52 & 1 & ROI & Single Trial Multi-Time Point & svm-lin & 3T & smoothed & coregistered & Normalized Temporally & 21 & 1 & 0 & 0 & 0 & 0 & 0 & 0\\\\\n",
       "\t5 & 93 & Perceptual & 0.52 & 1 & ROI & Single Trial Multi-Time Point & svm-lin & 3T & smoothed & coregistered & Normalized Temporally & 21 & 1 & 0 & 0 & 0 & 0 & 0 & 0\\\\\n",
       "\t6 & 93 & Perceptual & 0.525 & 1 & ROI & Single Trial Multi-Time Point & svm-lin & 3T & smoothed & coregistered & Normalized Temporally & 21 & 1 & 0 & 0 & 0 & 0 & 0 & 0\\\\\n",
       "\t7 & 93 & Perceptual & 0.53 & 1 & ROI & Single Trial Multi-Time Point & svm-lin & 3T & smoothed & coregistered & Normalized Temporally & 21 & 1 & 0 & 0 & 0 & 0 & 0 & 0\\\\\n",
       "\\end{tabular}\n"
      ],
      "text/plain": [
       "  PID  Info.type Accuracy.50 Significance Roi.Search\n",
       "2  93 Perceptual       0.520            1        ROI\n",
       "3  93 Perceptual       0.520            1        ROI\n",
       "4  93 Perceptual       0.520            1        ROI\n",
       "5  93 Perceptual       0.520            1        ROI\n",
       "6  93 Perceptual       0.525            1        ROI\n",
       "7  93 Perceptual       0.530            1        ROI\n",
       "                   Pattern.type Classifier.type Scanner Smoothing\n",
       "2 Single Trial Multi-Time Point         svm-lin      3T  smoothed\n",
       "3 Single Trial Multi-Time Point         svm-lin      3T  smoothed\n",
       "4 Single Trial Multi-Time Point         svm-lin      3T  smoothed\n",
       "5 Single Trial Multi-Time Point         svm-lin      3T  smoothed\n",
       "6 Single Trial Multi-Time Point         svm-lin      3T  smoothed\n",
       "7 Single Trial Multi-Time Point         svm-lin      3T  smoothed\n",
       "  Coregistration Pattern.normalization.type Num_subs R4Frontal_Sup\n",
       "2   coregistered      Normalized Temporally       21             1\n",
       "3   coregistered      Normalized Temporally       21             1\n",
       "4   coregistered      Normalized Temporally       21             1\n",
       "5   coregistered      Normalized Temporally       21             1\n",
       "6   coregistered      Normalized Temporally       21             1\n",
       "7   coregistered      Normalized Temporally       21             1\n",
       "  R4Frontal_Mid R4Frontal_Inf R4Frontal_Orb R4Insula R4Motor R4Cingulum\n",
       "2             0             0             0        0       0          0\n",
       "3             0             0             0        0       0          0\n",
       "4             0             0             0        0       0          0\n",
       "5             0             0             0        0       0          0\n",
       "6             0             0             0        0       0          0\n",
       "7             0             0             0        0       0          0"
      ]
     },
     "execution_count": 10,
     "metadata": {},
     "output_type": "execute_result"
    },
    {
     "data": {
      "text/html": [
       "506"
      ],
      "text/latex": [
       "506"
      ],
      "text/markdown": [
       "506"
      ],
      "text/plain": [
       "[1] 506"
      ]
     },
     "execution_count": 10,
     "metadata": {},
     "output_type": "execute_result"
    }
   ],
   "source": [
    "data = cbind(data,R4) # will bind with other region names too \n",
    "\n",
    "\n",
    "# mscl fixed \n",
    "data<-data[!data$Classifier.type=='neural-net',] # no observations but still has a level\n",
    "data[data$Scanner=='4T','Scanner']='3T' # only one observatoin with 3T\n",
    "\n",
    "data$PID<-as.factor(data$PID)\n",
    "data$Info.type<-as.factor(data$Info.type)\n",
    "data$Smoothing<-as.factor(data$Smoothing)\n",
    "data$Roi.Search<-as.factor(data$Roi.Search)\n",
    "data$Classifier.type<-as.factor(data$Classifier.type)\n",
    "data$Coregistration<-as.factor(data$Coregistration)\n",
    "data$Pattern.type<-as.factor(data$Pattern.type)\n",
    "data$Pattern.normalization.type<-as.factor(data$Pattern.normalization.type)\n",
    "\n",
    "# droplevels\n",
    "data<-droplevels(data)\n",
    "\n",
    "# sig / non sig split \n",
    "data_50<-subset(data,!is.na(Accuracy.50))\n",
    "data_50_non<-subset(data,!is.na(Accuracy.50)& Significance==0)\n",
    "data_50_sig<-subset(data,!is.na(Accuracy.50) & Significance==1)\n",
    "head(data_50_sig)\n",
    "nrow(data_50_sig)\n",
    "\n"
   ]
  },
  {
   "cell_type": "code",
   "execution_count": 11,
   "metadata": {
    "collapsed": false
   },
   "outputs": [
    {
     "data": {
      "text/html": [
       "<ol class=list-inline>\n",
       "\t<li>'Perceptual'</li>\n",
       "\t<li>'Response'</li>\n",
       "\t<li>'Rule'</li>\n",
       "\t<li>'Value'</li>\n",
       "</ol>\n"
      ],
      "text/latex": [
       "\\begin{enumerate*}\n",
       "\\item 'Perceptual'\n",
       "\\item 'Response'\n",
       "\\item 'Rule'\n",
       "\\item 'Value'\n",
       "\\end{enumerate*}\n"
      ],
      "text/markdown": [
       "1. 'Perceptual'\n",
       "2. 'Response'\n",
       "3. 'Rule'\n",
       "4. 'Value'\n",
       "\n",
       "\n"
      ],
      "text/plain": [
       "[1] \"Perceptual\" \"Response\"   \"Rule\"       \"Value\"     "
      ]
     },
     "execution_count": 11,
     "metadata": {},
     "output_type": "execute_result"
    }
   ],
   "source": [
    "#data[data$Info.type==levels(data$Info.type)[1],]\n",
    "levels(data$Info.type)"
   ]
  },
  {
   "cell_type": "markdown",
   "metadata": {},
   "source": [
    "# Just interaction model "
   ]
  },
  {
   "cell_type": "code",
   "execution_count": 12,
   "metadata": {
    "collapsed": false
   },
   "outputs": [
    {
     "data": {
      "text/html": [
       "'R4Frontal_Sup+R4Frontal_Mid+R4Frontal_Inf+R4Frontal_Orb+R4Insula+R4Motor+R4Cingulum'"
      ],
      "text/latex": [
       "'R4Frontal_Sup+R4Frontal_Mid+R4Frontal_Inf+R4Frontal_Orb+R4Insula+R4Motor+R4Cingulum'"
      ],
      "text/markdown": [
       "'R4Frontal_Sup+R4Frontal_Mid+R4Frontal_Inf+R4Frontal_Orb+R4Insula+R4Motor+R4Cingulum'"
      ],
      "text/plain": [
       "[1] \"R4Frontal_Sup+R4Frontal_Mid+R4Frontal_Inf+R4Frontal_Orb+R4Insula+R4Motor+R4Cingulum\""
      ]
     },
     "execution_count": 12,
     "metadata": {},
     "output_type": "execute_result"
    }
   ],
   "source": [
    "R1names_string<-c()\n",
    "for (R in R4names){\n",
    "    R1names_string<-paste(R1names_string,R,sep='+')\n",
    "    \n",
    "}\n",
    "R1names_string<-substring(R1names_string, 2)\n",
    "R1names_string"
   ]
  },
  {
   "cell_type": "code",
   "execution_count": 13,
   "metadata": {
    "collapsed": true
   },
   "outputs": [],
   "source": [
    "d<-data_50_sig[c('Accuracy.50','PID','Info.type',R4names)]\n",
    "gmean<-mean(d$Accuracy.50)\n",
    "d$Accuracy.50_wo_gmean<-d$Accuracy.50-gmean\n",
    "R1names_string2<-paste(R1names_string,')',sep='')\n",
    "d$Info.type<-as.factor(d$Info.type)\n"
   ]
  },
  {
   "cell_type": "code",
   "execution_count": 14,
   "metadata": {
    "collapsed": false
   },
   "outputs": [
    {
     "data": {
      "text/html": [
       "<ol class=list-inline>\n",
       "\t<li>'Value'</li>\n",
       "\t<li>'Perceptual'</li>\n",
       "\t<li>'Response'</li>\n",
       "\t<li>'Rule'</li>\n",
       "</ol>\n"
      ],
      "text/latex": [
       "\\begin{enumerate*}\n",
       "\\item 'Value'\n",
       "\\item 'Perceptual'\n",
       "\\item 'Response'\n",
       "\\item 'Rule'\n",
       "\\end{enumerate*}\n"
      ],
      "text/markdown": [
       "1. 'Value'\n",
       "2. 'Perceptual'\n",
       "3. 'Response'\n",
       "4. 'Rule'\n",
       "\n",
       "\n"
      ],
      "text/plain": [
       "[1] \"Value\"      \"Perceptual\" \"Response\"   \"Rule\"      "
      ]
     },
     "execution_count": 14,
     "metadata": {},
     "output_type": "execute_result"
    }
   ],
   "source": [
    "# first model matrix # value as reference\n",
    "d$Info.type=relevel(d$Info.type,ref='Value')\n",
    "levels(d$Info.type)\n",
    "region_model<-lme(as.formula(paste('Accuracy.50_wo_gmean~(',R1names_string2,'*Info.type',sep='')),random=~1|PID,data=d,method='REML')\n",
    "X<-model.matrix(region_model,d)\n",
    "X_interactions<-X[,12:ncol(X)]\n",
    "#head(X_interactions)"
   ]
  },
  {
   "cell_type": "code",
   "execution_count": 15,
   "metadata": {
    "collapsed": false,
    "scrolled": true
   },
   "outputs": [
    {
     "data": {
      "text/html": [
       "<ol class=list-inline>\n",
       "\t<li>'Rule'</li>\n",
       "\t<li>'Value'</li>\n",
       "\t<li>'Perceptual'</li>\n",
       "\t<li>'Response'</li>\n",
       "</ol>\n"
      ],
      "text/latex": [
       "\\begin{enumerate*}\n",
       "\\item 'Rule'\n",
       "\\item 'Value'\n",
       "\\item 'Perceptual'\n",
       "\\item 'Response'\n",
       "\\end{enumerate*}\n"
      ],
      "text/markdown": [
       "1. 'Rule'\n",
       "2. 'Value'\n",
       "3. 'Perceptual'\n",
       "4. 'Response'\n",
       "\n",
       "\n"
      ],
      "text/plain": [
       "[1] \"Rule\"       \"Value\"      \"Perceptual\" \"Response\"  "
      ]
     },
     "execution_count": 15,
     "metadata": {},
     "output_type": "execute_result"
    }
   ],
   "source": [
    "# second one \n",
    "d$Info.type=relevel(d$Info.type,ref='Rule')\n",
    "levels(d$Info.type)\n",
    "region_model<-lme(as.formula(paste('Accuracy.50_wo_gmean~(',R1names_string2,'*Info.type',sep='')),random=~1|PID,data=d,method='REML')\n",
    "X<-model.matrix(region_model,d)\n",
    "X_interactions2<-X[,12:ncol(X)]\n",
    "#head(X_interactions2)"
   ]
  },
  {
   "cell_type": "code",
   "execution_count": 16,
   "metadata": {
    "collapsed": false
   },
   "outputs": [],
   "source": [
    "#colnames(X_interactions2)\n",
    "#colnames(X_interactions)"
   ]
  },
  {
   "cell_type": "code",
   "execution_count": 17,
   "metadata": {
    "collapsed": false
   },
   "outputs": [],
   "source": [
    "\n",
    "X_value<-X_interactions2[,c(1,4,7,10,13,16,19)]\n",
    "X_perc<-X_interactions2[,c(2,5,8,11,14,17,20)]\n",
    "X_resp<-X_interactions2[,c(3,6,9,12,15,18,21)]\n",
    "X_rule<-X_interactions[,c(3,6,9,12,15,18,21)]\n",
    "X_new<-data.frame(cbind(X_value,X_perc,X_resp,X_rule))\n",
    "X_new<-as.matrix(X_new)\n"
   ]
  },
  {
   "cell_type": "code",
   "execution_count": 18,
   "metadata": {
    "collapsed": false
   },
   "outputs": [
    {
     "data": {
      "text/html": [
       "<table>\n",
       "<thead><tr><th></th><th scope=col>Value</th><th scope=col>Std.Error</th><th scope=col>DF</th><th scope=col>t-value</th><th scope=col>p-value</th></tr></thead>\n",
       "<tbody>\n",
       "\t<tr><th scope=row>(Intercept)</th><td> -0.006004366</td><td>  0.013915899</td><td>403.000000000</td><td> -0.431475257</td><td>  0.666353565</td></tr>\n",
       "\t<tr><th scope=row>X_newR4Frontal_Sup.Info.typeValue</th><td>2.838642e-03</td><td>1.665926e-02</td><td>4.030000e+02</td><td>1.703942e-01</td><td>8.647856e-01</td></tr>\n",
       "\t<tr><th scope=row>X_newR4Frontal_Mid.Info.typeValue</th><td> -0.01300298</td><td>  0.01853889</td><td>403.00000000</td><td> -0.70138968</td><td>  0.48346468</td></tr>\n",
       "\t<tr><th scope=row>X_newR4Frontal_Inf.Info.typeValue</th><td> -0.02237108</td><td>  0.02359659</td><td>403.00000000</td><td> -0.94806416</td><td>  0.34366494</td></tr>\n",
       "\t<tr><th scope=row>X_newR4Frontal_Orb.Info.typeValue</th><td>  0.01263054</td><td>  0.02800135</td><td>403.00000000</td><td>  0.45106904</td><td>  0.65218240</td></tr>\n",
       "\t<tr><th scope=row>X_newR4Insula.Info.typeValue</th><td> -0.01987325</td><td>  0.05642054</td><td>403.00000000</td><td> -0.35223431</td><td>  0.72484667</td></tr>\n",
       "\t<tr><th scope=row>X_newR4Motor.Info.typeValue</th><td> -0.01670002</td><td>  0.02374131</td><td>403.00000000</td><td> -0.70341624</td><td>  0.48220257</td></tr>\n",
       "\t<tr><th scope=row>X_newR4Cingulum.Info.typeValue</th><td>6.662075e-03</td><td>2.680151e-02</td><td>4.030000e+02</td><td>2.485709e-01</td><td>8.038193e-01</td></tr>\n",
       "\t<tr><th scope=row>X_newR4Frontal_Sup.Info.typePerceptual</th><td> -0.01684198</td><td>  0.01505933</td><td>403.00000000</td><td> -1.11837514</td><td>  0.26407301</td></tr>\n",
       "\t<tr><th scope=row>X_newR4Frontal_Mid.Info.typePerceptual</th><td>3.477833e-03</td><td>1.724333e-02</td><td>4.030000e+02</td><td>2.016915e-01</td><td>8.402597e-01</td></tr>\n",
       "\t<tr><th scope=row>X_newR4Frontal_Inf.Info.typePerceptual</th><td>7.429909e-03</td><td>1.540640e-02</td><td>4.030000e+02</td><td>4.822611e-01</td><td>6.298823e-01</td></tr>\n",
       "\t<tr><th scope=row>X_newR4Frontal_Orb.Info.typePerceptual</th><td> -0.03464627</td><td>  0.02029047</td><td>403.00000000</td><td> -1.70751424</td><td>  0.08849669</td></tr>\n",
       "\t<tr><th scope=row>X_newR4Insula.Info.typePerceptual</th><td> -0.03189179</td><td>  0.02824963</td><td>403.00000000</td><td> -1.12892791</td><td>  0.25959981</td></tr>\n",
       "\t<tr><th scope=row>X_newR4Motor.Info.typePerceptual</th><td> -0.03435593</td><td>  0.02708757</td><td>403.00000000</td><td> -1.26832834</td><td>  0.20541290</td></tr>\n",
       "\t<tr><th scope=row>X_newR4Cingulum.Info.typePerceptual</th><td>7.212311e-02</td><td>2.501662e-02</td><td>4.030000e+02</td><td>2.883008e+00</td><td>4.149982e-03</td></tr>\n",
       "\t<tr><th scope=row>X_newR4Frontal_Sup.Info.typeResponse</th><td>  0.04740377</td><td>  0.02234901</td><td>403.00000000</td><td>  2.12106831</td><td>  0.03452606</td></tr>\n",
       "\t<tr><th scope=row>X_newR4Frontal_Mid.Info.typeResponse</th><td> -0.02140022</td><td>  0.02263618</td><td>403.00000000</td><td> -0.94539866</td><td>  0.34502186</td></tr>\n",
       "\t<tr><th scope=row>X_newR4Frontal_Inf.Info.typeResponse</th><td> -0.01286069</td><td>  0.03011273</td><td>403.00000000</td><td> -0.42708470</td><td>  0.66954572</td></tr>\n",
       "\t<tr><th scope=row>X_newR4Frontal_Orb.Info.typeResponse</th><td> -0.02842871</td><td>  0.05870267</td><td>403.00000000</td><td> -0.48428318</td><td>  0.62844799</td></tr>\n",
       "\t<tr><th scope=row>X_newR4Insula.Info.typeResponse</th><td> -0.05567475</td><td>  0.05607634</td><td>403.00000000</td><td> -0.99283855</td><td>  0.32138438</td></tr>\n",
       "\t<tr><th scope=row>X_newR4Motor.Info.typeResponse</th><td>  0.03084992</td><td>  0.01822859</td><td>403.00000000</td><td>  1.69239217</td><td>  0.09134414</td></tr>\n",
       "\t<tr><th scope=row>X_newR4Cingulum.Info.typeResponse</th><td>  0.01399081</td><td>  0.02653956</td><td>403.00000000</td><td>  0.52716818</td><td>  0.59836687</td></tr>\n",
       "\t<tr><th scope=row>X_newR4Frontal_Sup.Info.typeRule</th><td> -0.01338622</td><td>  0.01745089</td><td>403.00000000</td><td> -0.76707951</td><td>  0.44348339</td></tr>\n",
       "\t<tr><th scope=row>X_newR4Frontal_Mid.Info.typeRule</th><td> -0.01407805</td><td>  0.01463205</td><td>403.00000000</td><td> -0.96213797</td><td>  0.33655724</td></tr>\n",
       "\t<tr><th scope=row>X_newR4Frontal_Inf.Info.typeRule</th><td> -0.01230451</td><td>  0.01564532</td><td>403.00000000</td><td> -0.78646596</td><td>  0.43205677</td></tr>\n",
       "\t<tr><th scope=row>X_newR4Frontal_Orb.Info.typeRule</th><td> -0.04949241</td><td>  0.03826544</td><td>403.00000000</td><td> -1.29339708</td><td>  0.19661463</td></tr>\n",
       "\t<tr><th scope=row>X_newR4Insula.Info.typeRule</th><td> -0.02370781</td><td>  0.02712107</td><td>403.00000000</td><td> -0.87414732</td><td>  0.38255865</td></tr>\n",
       "\t<tr><th scope=row>X_newR4Motor.Info.typeRule</th><td>  0.01656610</td><td>  0.01584811</td><td>403.00000000</td><td>  1.04530442</td><td>  0.29650887</td></tr>\n",
       "\t<tr><th scope=row>X_newR4Cingulum.Info.typeRule</th><td>7.757109e-04</td><td>2.083909e-02</td><td>4.030000e+02</td><td>3.722383e-02</td><td>9.703250e-01</td></tr>\n",
       "</tbody>\n",
       "</table>\n"
      ],
      "text/latex": [
       "\\begin{tabular}{r|lllll}\n",
       "  & Value & Std.Error & DF & t-value & p-value\\\\\n",
       "\\hline\n",
       "\t(Intercept) &  -0.006004366 &   0.013915899 & 403.000000000 &  -0.431475257 &   0.666353565\\\\\n",
       "\tX_newR4Frontal_Sup.Info.typeValue & 2.838642e-03 & 1.665926e-02 & 4.030000e+02 & 1.703942e-01 & 8.647856e-01\\\\\n",
       "\tX_newR4Frontal_Mid.Info.typeValue &  -0.01300298 &   0.01853889 & 403.00000000 &  -0.70138968 &   0.48346468\\\\\n",
       "\tX_newR4Frontal_Inf.Info.typeValue &  -0.02237108 &   0.02359659 & 403.00000000 &  -0.94806416 &   0.34366494\\\\\n",
       "\tX_newR4Frontal_Orb.Info.typeValue &   0.01263054 &   0.02800135 & 403.00000000 &   0.45106904 &   0.65218240\\\\\n",
       "\tX_newR4Insula.Info.typeValue &  -0.01987325 &   0.05642054 & 403.00000000 &  -0.35223431 &   0.72484667\\\\\n",
       "\tX_newR4Motor.Info.typeValue &  -0.01670002 &   0.02374131 & 403.00000000 &  -0.70341624 &   0.48220257\\\\\n",
       "\tX_newR4Cingulum.Info.typeValue & 6.662075e-03 & 2.680151e-02 & 4.030000e+02 & 2.485709e-01 & 8.038193e-01\\\\\n",
       "\tX_newR4Frontal_Sup.Info.typePerceptual &  -0.01684198 &   0.01505933 & 403.00000000 &  -1.11837514 &   0.26407301\\\\\n",
       "\tX_newR4Frontal_Mid.Info.typePerceptual & 3.477833e-03 & 1.724333e-02 & 4.030000e+02 & 2.016915e-01 & 8.402597e-01\\\\\n",
       "\tX_newR4Frontal_Inf.Info.typePerceptual & 7.429909e-03 & 1.540640e-02 & 4.030000e+02 & 4.822611e-01 & 6.298823e-01\\\\\n",
       "\tX_newR4Frontal_Orb.Info.typePerceptual &  -0.03464627 &   0.02029047 & 403.00000000 &  -1.70751424 &   0.08849669\\\\\n",
       "\tX_newR4Insula.Info.typePerceptual &  -0.03189179 &   0.02824963 & 403.00000000 &  -1.12892791 &   0.25959981\\\\\n",
       "\tX_newR4Motor.Info.typePerceptual &  -0.03435593 &   0.02708757 & 403.00000000 &  -1.26832834 &   0.20541290\\\\\n",
       "\tX_newR4Cingulum.Info.typePerceptual & 7.212311e-02 & 2.501662e-02 & 4.030000e+02 & 2.883008e+00 & 4.149982e-03\\\\\n",
       "\tX_newR4Frontal_Sup.Info.typeResponse &   0.04740377 &   0.02234901 & 403.00000000 &   2.12106831 &   0.03452606\\\\\n",
       "\tX_newR4Frontal_Mid.Info.typeResponse &  -0.02140022 &   0.02263618 & 403.00000000 &  -0.94539866 &   0.34502186\\\\\n",
       "\tX_newR4Frontal_Inf.Info.typeResponse &  -0.01286069 &   0.03011273 & 403.00000000 &  -0.42708470 &   0.66954572\\\\\n",
       "\tX_newR4Frontal_Orb.Info.typeResponse &  -0.02842871 &   0.05870267 & 403.00000000 &  -0.48428318 &   0.62844799\\\\\n",
       "\tX_newR4Insula.Info.typeResponse &  -0.05567475 &   0.05607634 & 403.00000000 &  -0.99283855 &   0.32138438\\\\\n",
       "\tX_newR4Motor.Info.typeResponse &   0.03084992 &   0.01822859 & 403.00000000 &   1.69239217 &   0.09134414\\\\\n",
       "\tX_newR4Cingulum.Info.typeResponse &   0.01399081 &   0.02653956 & 403.00000000 &   0.52716818 &   0.59836687\\\\\n",
       "\tX_newR4Frontal_Sup.Info.typeRule &  -0.01338622 &   0.01745089 & 403.00000000 &  -0.76707951 &   0.44348339\\\\\n",
       "\tX_newR4Frontal_Mid.Info.typeRule &  -0.01407805 &   0.01463205 & 403.00000000 &  -0.96213797 &   0.33655724\\\\\n",
       "\tX_newR4Frontal_Inf.Info.typeRule &  -0.01230451 &   0.01564532 & 403.00000000 &  -0.78646596 &   0.43205677\\\\\n",
       "\tX_newR4Frontal_Orb.Info.typeRule &  -0.04949241 &   0.03826544 & 403.00000000 &  -1.29339708 &   0.19661463\\\\\n",
       "\tX_newR4Insula.Info.typeRule &  -0.02370781 &   0.02712107 & 403.00000000 &  -0.87414732 &   0.38255865\\\\\n",
       "\tX_newR4Motor.Info.typeRule &   0.01656610 &   0.01584811 & 403.00000000 &   1.04530442 &   0.29650887\\\\\n",
       "\tX_newR4Cingulum.Info.typeRule & 7.757109e-04 & 2.083909e-02 & 4.030000e+02 & 3.722383e-02 & 9.703250e-01\\\\\n",
       "\\end{tabular}\n"
      ],
      "text/markdown": [
       "1. -0.00600436610762775\n",
       "2. 0.00283864186162765\n",
       "3. -0.0130029844793094\n",
       "4. -0.0223710815537198\n",
       "5. 0.0126305434025551\n",
       "6. -0.0198732508848746\n",
       "7. -0.0167000246025696\n",
       "8. 0.0066620749466707\n",
       "9. -0.0168419811910687\n",
       "10. 0.00347783275206406\n",
       "11. 0.00742990868663563\n",
       "12. -0.0346462744066543\n",
       "13. -0.0318917902800364\n",
       "14. -0.0343559281216473\n",
       "15. 0.0721231146543854\n",
       "16. 0.047403772866191\n",
       "17. -0.0214002164421053\n",
       "18. -0.0128606854009977\n",
       "19. -0.0284287149681561\n",
       "20. -0.055674752173358\n",
       "21. 0.0308499237823874\n",
       "22. 0.0139908132322317\n",
       "23. -0.0133862193748447\n",
       "24. -0.0140780487216649\n",
       "25. -0.0123045143806068\n",
       "26. -0.0494924055962863\n",
       "27. -0.0237078144240923\n",
       "28. 0.0165660971252574\n",
       "29. 0.000775710892385572\n",
       "30. 0.0139158990365251\n",
       "31. 0.0166592635207711\n",
       "32. 0.018538887764832\n",
       "33. 0.0235965903857204\n",
       "34. 0.0280013532129888\n",
       "35. 0.0564205429043166\n",
       "36. 0.0237413122367431\n",
       "37. 0.0268015057747338\n",
       "38. 0.0150593307618011\n",
       "39. 0.0172433255704195\n",
       "40. 0.0154064025796892\n",
       "41. 0.0202904746208954\n",
       "42. 0.0282496250600597\n",
       "43. 0.0270875662995966\n",
       "44. 0.025016622384568\n",
       "45. 0.022349008073471\n",
       "46. 0.0226361824247736\n",
       "47. 0.0301127278782191\n",
       "48. 0.0587026680963203\n",
       "49. 0.0560763400296311\n",
       "50. 0.0182285904421055\n",
       "51. 0.0265395630854336\n",
       "52. 0.0174508888912913\n",
       "53. 0.0146320477559009\n",
       "54. 0.0156453235983798\n",
       "55. 0.0382654379852498\n",
       "56. 0.0271210742294929\n",
       "57. 0.0158481077987229\n",
       "58. 0.0208390947003149\n",
       "59. 403\n",
       "60. 403\n",
       "61. 403\n",
       "62. 403\n",
       "63. 403\n",
       "64. 403\n",
       "65. 403\n",
       "66. 403\n",
       "67. 403\n",
       "68. 403\n",
       "69. 403\n",
       "70. 403\n",
       "71. 403\n",
       "72. 403\n",
       "73. 403\n",
       "74. 403\n",
       "75. 403\n",
       "76. 403\n",
       "77. 403\n",
       "78. 403\n",
       "79. 403\n",
       "80. 403\n",
       "81. 403\n",
       "82. 403\n",
       "83. 403\n",
       "84. 403\n",
       "85. 403\n",
       "86. 403\n",
       "87. 403\n",
       "88. -0.431475256601682\n",
       "89. 0.170394198884505\n",
       "90. -0.701389675813012\n",
       "91. -0.948064156220544\n",
       "92. 0.451069036074165\n",
       "93. -0.352234307964344\n",
       "94. -0.70341624068799\n",
       "95. 0.248570919957458\n",
       "96. -1.11837514279117\n",
       "97. 0.201691532057493\n",
       "98. 0.482261102045375\n",
       "99. -1.70751424271638\n",
       "100. -1.12892791363543\n",
       "101. -1.26832834451277\n",
       "102. 2.88300768767553\n",
       "103. 2.12106831365195\n",
       "104. -0.945398656033289\n",
       "105. -0.427084701625453\n",
       "106. -0.484283183202334\n",
       "107. -0.992838550874381\n",
       "108. 1.69239217263493\n",
       "109. 0.527168182354539\n",
       "110. -0.767079514300552\n",
       "111. -0.962137969785362\n",
       "112. -0.786465955992182\n",
       "113. -1.29339707585117\n",
       "114. -0.874147322612727\n",
       "115. 1.04530441966027\n",
       "116. 0.0372238287478894\n",
       "117. 0.666353564784516\n",
       "118. 0.864785644072453\n",
       "119. 0.483464679560948\n",
       "120. 0.343664941281142\n",
       "121. 0.652182403755846\n",
       "122. 0.724846673056359\n",
       "123. 0.482202570010628\n",
       "124. 0.803819325721961\n",
       "125. 0.264073008839273\n",
       "126. 0.840259650030168\n",
       "127. 0.629882296183077\n",
       "128. 0.0884966886431281\n",
       "129. 0.259599807004201\n",
       "130. 0.205412904494954\n",
       "131. 0.00414998209881962\n",
       "132. 0.034526062276413\n",
       "133. 0.345021860217687\n",
       "134. 0.669545716179575\n",
       "135. 0.628447986628418\n",
       "136. 0.321384379933591\n",
       "137. 0.0913441402771214\n",
       "138. 0.598366873500971\n",
       "139. 0.443483386469634\n",
       "140. 0.336557236291832\n",
       "141. 0.432056766561835\n",
       "142. 0.196614629300942\n",
       "143. 0.382558645416539\n",
       "144. 0.296508868013431\n",
       "145. 0.970324970707372\n",
       "\n",
       "\n"
      ],
      "text/plain": [
       "                                               Value  Std.Error  DF     t-value\n",
       "(Intercept)                            -0.0060043661 0.01391590 403 -0.43147526\n",
       "X_newR4Frontal_Sup.Info.typeValue       0.0028386419 0.01665926 403  0.17039420\n",
       "X_newR4Frontal_Mid.Info.typeValue      -0.0130029845 0.01853889 403 -0.70138968\n",
       "X_newR4Frontal_Inf.Info.typeValue      -0.0223710816 0.02359659 403 -0.94806416\n",
       "X_newR4Frontal_Orb.Info.typeValue       0.0126305434 0.02800135 403  0.45106904\n",
       "X_newR4Insula.Info.typeValue           -0.0198732509 0.05642054 403 -0.35223431\n",
       "X_newR4Motor.Info.typeValue            -0.0167000246 0.02374131 403 -0.70341624\n",
       "X_newR4Cingulum.Info.typeValue          0.0066620749 0.02680151 403  0.24857092\n",
       "X_newR4Frontal_Sup.Info.typePerceptual -0.0168419812 0.01505933 403 -1.11837514\n",
       "X_newR4Frontal_Mid.Info.typePerceptual  0.0034778328 0.01724333 403  0.20169153\n",
       "X_newR4Frontal_Inf.Info.typePerceptual  0.0074299087 0.01540640 403  0.48226110\n",
       "X_newR4Frontal_Orb.Info.typePerceptual -0.0346462744 0.02029047 403 -1.70751424\n",
       "X_newR4Insula.Info.typePerceptual      -0.0318917903 0.02824963 403 -1.12892791\n",
       "X_newR4Motor.Info.typePerceptual       -0.0343559281 0.02708757 403 -1.26832834\n",
       "X_newR4Cingulum.Info.typePerceptual     0.0721231147 0.02501662 403  2.88300769\n",
       "X_newR4Frontal_Sup.Info.typeResponse    0.0474037729 0.02234901 403  2.12106831\n",
       "X_newR4Frontal_Mid.Info.typeResponse   -0.0214002164 0.02263618 403 -0.94539866\n",
       "X_newR4Frontal_Inf.Info.typeResponse   -0.0128606854 0.03011273 403 -0.42708470\n",
       "X_newR4Frontal_Orb.Info.typeResponse   -0.0284287150 0.05870267 403 -0.48428318\n",
       "X_newR4Insula.Info.typeResponse        -0.0556747522 0.05607634 403 -0.99283855\n",
       "X_newR4Motor.Info.typeResponse          0.0308499238 0.01822859 403  1.69239217\n",
       "X_newR4Cingulum.Info.typeResponse       0.0139908132 0.02653956 403  0.52716818\n",
       "X_newR4Frontal_Sup.Info.typeRule       -0.0133862194 0.01745089 403 -0.76707951\n",
       "X_newR4Frontal_Mid.Info.typeRule       -0.0140780487 0.01463205 403 -0.96213797\n",
       "X_newR4Frontal_Inf.Info.typeRule       -0.0123045144 0.01564532 403 -0.78646596\n",
       "X_newR4Frontal_Orb.Info.typeRule       -0.0494924056 0.03826544 403 -1.29339708\n",
       "X_newR4Insula.Info.typeRule            -0.0237078144 0.02712107 403 -0.87414732\n",
       "X_newR4Motor.Info.typeRule              0.0165660971 0.01584811 403  1.04530442\n",
       "X_newR4Cingulum.Info.typeRule           0.0007757109 0.02083909 403  0.03722383\n",
       "                                           p-value\n",
       "(Intercept)                            0.666353565\n",
       "X_newR4Frontal_Sup.Info.typeValue      0.864785644\n",
       "X_newR4Frontal_Mid.Info.typeValue      0.483464680\n",
       "X_newR4Frontal_Inf.Info.typeValue      0.343664941\n",
       "X_newR4Frontal_Orb.Info.typeValue      0.652182404\n",
       "X_newR4Insula.Info.typeValue           0.724846673\n",
       "X_newR4Motor.Info.typeValue            0.482202570\n",
       "X_newR4Cingulum.Info.typeValue         0.803819326\n",
       "X_newR4Frontal_Sup.Info.typePerceptual 0.264073009\n",
       "X_newR4Frontal_Mid.Info.typePerceptual 0.840259650\n",
       "X_newR4Frontal_Inf.Info.typePerceptual 0.629882296\n",
       "X_newR4Frontal_Orb.Info.typePerceptual 0.088496689\n",
       "X_newR4Insula.Info.typePerceptual      0.259599807\n",
       "X_newR4Motor.Info.typePerceptual       0.205412904\n",
       "X_newR4Cingulum.Info.typePerceptual    0.004149982\n",
       "X_newR4Frontal_Sup.Info.typeResponse   0.034526062\n",
       "X_newR4Frontal_Mid.Info.typeResponse   0.345021860\n",
       "X_newR4Frontal_Inf.Info.typeResponse   0.669545716\n",
       "X_newR4Frontal_Orb.Info.typeResponse   0.628447987\n",
       "X_newR4Insula.Info.typeResponse        0.321384380\n",
       "X_newR4Motor.Info.typeResponse         0.091344140\n",
       "X_newR4Cingulum.Info.typeResponse      0.598366874\n",
       "X_newR4Frontal_Sup.Info.typeRule       0.443483386\n",
       "X_newR4Frontal_Mid.Info.typeRule       0.336557236\n",
       "X_newR4Frontal_Inf.Info.typeRule       0.432056767\n",
       "X_newR4Frontal_Orb.Info.typeRule       0.196614629\n",
       "X_newR4Insula.Info.typeRule            0.382558645\n",
       "X_newR4Motor.Info.typeRule             0.296508868\n",
       "X_newR4Cingulum.Info.typeRule          0.970324971"
      ]
     },
     "execution_count": 18,
     "metadata": {},
     "output_type": "execute_result"
    }
   ],
   "source": [
    "d<-data_50_sig[c('Accuracy.50','PID','Info.type',R4names)]\n",
    "gmean<-mean(d$Accuracy.50)\n",
    "d$Accuracy.50_wo_gmean<-d$Accuracy.50-gmean\n",
    "\n",
    "region_model<-lme(Accuracy.50_wo_gmean~X_new,random=~1|PID,data=d,method='REML')\n",
    "summary(region_model)$tTable"
   ]
  },
  {
   "cell_type": "code",
   "execution_count": null,
   "metadata": {
    "collapsed": true
   },
   "outputs": [],
   "source": []
  },
  {
   "cell_type": "code",
   "execution_count": 19,
   "metadata": {
    "collapsed": false
   },
   "outputs": [],
   "source": [
    "\n",
    "# get data #\n",
    "s<-summary(region_model)\n",
    "coef<-s$tTable[,1] \n",
    "se<-s$tTable[,2] \n",
    "df<-data.frame(cbind(coef,se))\n",
    "\n",
    "df$name<-rownames(df)\n",
    "df<-df[2:nrow(df),] # remove intercept"
   ]
  },
  {
   "cell_type": "code",
   "execution_count": 24,
   "metadata": {
    "collapsed": false
   },
   "outputs": [
    {
     "data": {
      "text/html": [
       "<table>\n",
       "<thead><tr><th></th><th scope=col>coef</th><th scope=col>se</th><th scope=col>name</th><th scope=col>name2</th><th scope=col>coef_gmean</th></tr></thead>\n",
       "<tbody>\n",
       "\t<tr><th scope=row>X_newR4Frontal_Sup.Info.typeValue</th><td>0.002838642</td><td>0.01665926</td><td>X_newR4Frontal_Sup.Info.typeValue</td><td>superior frontal gyrus (Value)</td><td>0.6159669</td></tr>\n",
       "\t<tr><th scope=row>X_newR4Frontal_Mid.Info.typeValue</th><td>-0.01300298</td><td>0.01853889</td><td>X_newR4Frontal_Mid.Info.typeValue</td><td>middle frontal gyrus (Value)</td><td>0.6001253</td></tr>\n",
       "\t<tr><th scope=row>X_newR4Frontal_Inf.Info.typeValue</th><td>-0.02237108</td><td>0.02359659</td><td>X_newR4Frontal_Inf.Info.typeValue</td><td>inferior frontal gyrus (Value)</td><td>0.5907572</td></tr>\n",
       "\t<tr><th scope=row>X_newR4Frontal_Orb.Info.typeValue</th><td>0.01263054</td><td>0.02800135</td><td>X_newR4Frontal_Orb.Info.typeValue</td><td>superior & middle frontal gyrus, orbital part (Value)</td><td>0.6257588</td></tr>\n",
       "\t<tr><th scope=row>X_newR4Insula.Info.typeValue</th><td>-0.01987325</td><td>0.05642054</td><td>X_newR4Insula.Info.typeValue</td><td>insula (Value)</td><td>0.593255</td></tr>\n",
       "\t<tr><th scope=row>X_newR4Motor.Info.typeValue</th><td>-0.01670002</td><td>0.02374131</td><td>X_newR4Motor.Info.typeValue</td><td>precentral gyrus & supplementary motory cortex (Value)</td><td>0.5964282</td></tr>\n",
       "\t<tr><th scope=row>X_newR4Cingulum.Info.typeValue</th><td>0.006662075</td><td>0.02680151</td><td>X_newR4Cingulum.Info.typeValue</td><td>cingulate gyrus (Value)</td><td>0.6197903</td></tr>\n",
       "\t<tr><th scope=row>X_newR4Frontal_Sup.Info.typePerceptual</th><td>-0.01684198</td><td>0.01505933</td><td>X_newR4Frontal_Sup.Info.typePerceptual</td><td>superior frontal gyrus (Perceptual)</td><td>0.5962863</td></tr>\n",
       "\t<tr><th scope=row>X_newR4Frontal_Mid.Info.typePerceptual</th><td>0.003477833</td><td>0.01724333</td><td>X_newR4Frontal_Mid.Info.typePerceptual</td><td>middle frontal gyrus (Perceptual)</td><td>0.6166061</td></tr>\n",
       "\t<tr><th scope=row>X_newR4Frontal_Inf.Info.typePerceptual</th><td>0.007429909</td><td>0.0154064</td><td>X_newR4Frontal_Inf.Info.typePerceptual</td><td>inferior frontal gyrus (Perceptual)</td><td>0.6205582</td></tr>\n",
       "\t<tr><th scope=row>X_newR4Frontal_Orb.Info.typePerceptual</th><td>-0.03464627</td><td>0.02029047</td><td>X_newR4Frontal_Orb.Info.typePerceptual</td><td>superior & middle frontal gyrus, orbital part (Perceptual)</td><td>0.578482</td></tr>\n",
       "\t<tr><th scope=row>X_newR4Insula.Info.typePerceptual</th><td>-0.03189179</td><td>0.02824963</td><td>X_newR4Insula.Info.typePerceptual</td><td>insula (Perceptual)</td><td>0.5812365</td></tr>\n",
       "\t<tr><th scope=row>X_newR4Motor.Info.typePerceptual</th><td>-0.03435593</td><td>0.02708757</td><td>X_newR4Motor.Info.typePerceptual</td><td>precentral gyrus & supplementary motory cortex (Perceptual)</td><td>0.5787723</td></tr>\n",
       "\t<tr><th scope=row>X_newR4Cingulum.Info.typePerceptual</th><td>0.07212311</td><td>0.02501662</td><td>X_newR4Cingulum.Info.typePerceptual</td><td>cingulate gyrus (Perceptual)</td><td>0.6852514</td></tr>\n",
       "\t<tr><th scope=row>X_newR4Frontal_Sup.Info.typeResponse</th><td>0.04740377</td><td>0.02234901</td><td>X_newR4Frontal_Sup.Info.typeResponse</td><td>superior frontal gyrus (Response)</td><td>0.660532</td></tr>\n",
       "\t<tr><th scope=row>X_newR4Frontal_Mid.Info.typeResponse</th><td>-0.02140022</td><td>0.02263618</td><td>X_newR4Frontal_Mid.Info.typeResponse</td><td>middle frontal gyrus (Response)</td><td>0.591728</td></tr>\n",
       "\t<tr><th scope=row>X_newR4Frontal_Inf.Info.typeResponse</th><td>-0.01286069</td><td>0.03011273</td><td>X_newR4Frontal_Inf.Info.typeResponse</td><td>inferior frontal gyrus (Response)</td><td>0.6002676</td></tr>\n",
       "\t<tr><th scope=row>X_newR4Frontal_Orb.Info.typeResponse</th><td>-0.02842871</td><td>0.05870267</td><td>X_newR4Frontal_Orb.Info.typeResponse</td><td>superior & middle frontal gyrus, orbital part (Response)</td><td>0.5846995</td></tr>\n",
       "\t<tr><th scope=row>X_newR4Insula.Info.typeResponse</th><td>-0.05567475</td><td>0.05607634</td><td>X_newR4Insula.Info.typeResponse</td><td>insula (Response)</td><td>0.5574535</td></tr>\n",
       "\t<tr><th scope=row>X_newR4Motor.Info.typeResponse</th><td>0.03084992</td><td>0.01822859</td><td>X_newR4Motor.Info.typeResponse</td><td>precentral gyrus & supplementary motory cortex (Response)</td><td>0.6439782</td></tr>\n",
       "\t<tr><th scope=row>X_newR4Cingulum.Info.typeResponse</th><td>0.01399081</td><td>0.02653956</td><td>X_newR4Cingulum.Info.typeResponse</td><td>cingulate gyrus (Response)</td><td>0.6271191</td></tr>\n",
       "\t<tr><th scope=row>X_newR4Frontal_Sup.Info.typeRule</th><td>-0.01338622</td><td>0.01745089</td><td>X_newR4Frontal_Sup.Info.typeRule</td><td>superior frontal gyrus (Rule)</td><td>0.599742</td></tr>\n",
       "\t<tr><th scope=row>X_newR4Frontal_Mid.Info.typeRule</th><td>-0.01407805</td><td>0.01463205</td><td>X_newR4Frontal_Mid.Info.typeRule</td><td>middle frontal gyrus (Rule)</td><td>0.5990502</td></tr>\n",
       "\t<tr><th scope=row>X_newR4Frontal_Inf.Info.typeRule</th><td>-0.01230451</td><td>0.01564532</td><td>X_newR4Frontal_Inf.Info.typeRule</td><td>inferior frontal gyrus (Rule)</td><td>0.6008237</td></tr>\n",
       "\t<tr><th scope=row>X_newR4Frontal_Orb.Info.typeRule</th><td>-0.04949241</td><td>0.03826544</td><td>X_newR4Frontal_Orb.Info.typeRule</td><td>superior & middle frontal gyrus, orbital part (Rule)</td><td>0.5636359</td></tr>\n",
       "\t<tr><th scope=row>X_newR4Insula.Info.typeRule</th><td>-0.02370781</td><td>0.02712107</td><td>X_newR4Insula.Info.typeRule</td><td>insula (Rule)</td><td>0.5894204</td></tr>\n",
       "\t<tr><th scope=row>X_newR4Motor.Info.typeRule</th><td>0.0165661</td><td>0.01584811</td><td>X_newR4Motor.Info.typeRule</td><td>precentral gyrus & supplementary motory cortex (Rule)</td><td>0.6296944</td></tr>\n",
       "\t<tr><th scope=row>X_newR4Cingulum.Info.typeRule</th><td>0.0007757109</td><td>0.02083909</td><td>X_newR4Cingulum.Info.typeRule</td><td>cingulate gyrus (Rule)</td><td>0.613904</td></tr>\n",
       "</tbody>\n",
       "</table>\n"
      ],
      "text/latex": [
       "\\begin{tabular}{r|lllll}\n",
       "  & coef & se & name & name2 & coef_gmean\\\\\n",
       "\\hline\n",
       "\tX_newR4Frontal_Sup.Info.typeValue & 0.002838642 & 0.01665926 & X_newR4Frontal_Sup.Info.typeValue & superior frontal gyrus (Value) & 0.6159669\\\\\n",
       "\tX_newR4Frontal_Mid.Info.typeValue & -0.01300298 & 0.01853889 & X_newR4Frontal_Mid.Info.typeValue & middle frontal gyrus (Value) & 0.6001253\\\\\n",
       "\tX_newR4Frontal_Inf.Info.typeValue & -0.02237108 & 0.02359659 & X_newR4Frontal_Inf.Info.typeValue & inferior frontal gyrus (Value) & 0.5907572\\\\\n",
       "\tX_newR4Frontal_Orb.Info.typeValue & 0.01263054 & 0.02800135 & X_newR4Frontal_Orb.Info.typeValue & superior & middle frontal gyrus, orbital part (Value) & 0.6257588\\\\\n",
       "\tX_newR4Insula.Info.typeValue & -0.01987325 & 0.05642054 & X_newR4Insula.Info.typeValue & insula (Value) & 0.593255\\\\\n",
       "\tX_newR4Motor.Info.typeValue & -0.01670002 & 0.02374131 & X_newR4Motor.Info.typeValue & precentral gyrus & supplementary motory cortex (Value) & 0.5964282\\\\\n",
       "\tX_newR4Cingulum.Info.typeValue & 0.006662075 & 0.02680151 & X_newR4Cingulum.Info.typeValue & cingulate gyrus (Value) & 0.6197903\\\\\n",
       "\tX_newR4Frontal_Sup.Info.typePerceptual & -0.01684198 & 0.01505933 & X_newR4Frontal_Sup.Info.typePerceptual & superior frontal gyrus (Perceptual) & 0.5962863\\\\\n",
       "\tX_newR4Frontal_Mid.Info.typePerceptual & 0.003477833 & 0.01724333 & X_newR4Frontal_Mid.Info.typePerceptual & middle frontal gyrus (Perceptual) & 0.6166061\\\\\n",
       "\tX_newR4Frontal_Inf.Info.typePerceptual & 0.007429909 & 0.0154064 & X_newR4Frontal_Inf.Info.typePerceptual & inferior frontal gyrus (Perceptual) & 0.6205582\\\\\n",
       "\tX_newR4Frontal_Orb.Info.typePerceptual & -0.03464627 & 0.02029047 & X_newR4Frontal_Orb.Info.typePerceptual & superior & middle frontal gyrus, orbital part (Perceptual) & 0.578482\\\\\n",
       "\tX_newR4Insula.Info.typePerceptual & -0.03189179 & 0.02824963 & X_newR4Insula.Info.typePerceptual & insula (Perceptual) & 0.5812365\\\\\n",
       "\tX_newR4Motor.Info.typePerceptual & -0.03435593 & 0.02708757 & X_newR4Motor.Info.typePerceptual & precentral gyrus & supplementary motory cortex (Perceptual) & 0.5787723\\\\\n",
       "\tX_newR4Cingulum.Info.typePerceptual & 0.07212311 & 0.02501662 & X_newR4Cingulum.Info.typePerceptual & cingulate gyrus (Perceptual) & 0.6852514\\\\\n",
       "\tX_newR4Frontal_Sup.Info.typeResponse & 0.04740377 & 0.02234901 & X_newR4Frontal_Sup.Info.typeResponse & superior frontal gyrus (Response) & 0.660532\\\\\n",
       "\tX_newR4Frontal_Mid.Info.typeResponse & -0.02140022 & 0.02263618 & X_newR4Frontal_Mid.Info.typeResponse & middle frontal gyrus (Response) & 0.591728\\\\\n",
       "\tX_newR4Frontal_Inf.Info.typeResponse & -0.01286069 & 0.03011273 & X_newR4Frontal_Inf.Info.typeResponse & inferior frontal gyrus (Response) & 0.6002676\\\\\n",
       "\tX_newR4Frontal_Orb.Info.typeResponse & -0.02842871 & 0.05870267 & X_newR4Frontal_Orb.Info.typeResponse & superior & middle frontal gyrus, orbital part (Response) & 0.5846995\\\\\n",
       "\tX_newR4Insula.Info.typeResponse & -0.05567475 & 0.05607634 & X_newR4Insula.Info.typeResponse & insula (Response) & 0.5574535\\\\\n",
       "\tX_newR4Motor.Info.typeResponse & 0.03084992 & 0.01822859 & X_newR4Motor.Info.typeResponse & precentral gyrus & supplementary motory cortex (Response) & 0.6439782\\\\\n",
       "\tX_newR4Cingulum.Info.typeResponse & 0.01399081 & 0.02653956 & X_newR4Cingulum.Info.typeResponse & cingulate gyrus (Response) & 0.6271191\\\\\n",
       "\tX_newR4Frontal_Sup.Info.typeRule & -0.01338622 & 0.01745089 & X_newR4Frontal_Sup.Info.typeRule & superior frontal gyrus (Rule) & 0.599742\\\\\n",
       "\tX_newR4Frontal_Mid.Info.typeRule & -0.01407805 & 0.01463205 & X_newR4Frontal_Mid.Info.typeRule & middle frontal gyrus (Rule) & 0.5990502\\\\\n",
       "\tX_newR4Frontal_Inf.Info.typeRule & -0.01230451 & 0.01564532 & X_newR4Frontal_Inf.Info.typeRule & inferior frontal gyrus (Rule) & 0.6008237\\\\\n",
       "\tX_newR4Frontal_Orb.Info.typeRule & -0.04949241 & 0.03826544 & X_newR4Frontal_Orb.Info.typeRule & superior & middle frontal gyrus, orbital part (Rule) & 0.5636359\\\\\n",
       "\tX_newR4Insula.Info.typeRule & -0.02370781 & 0.02712107 & X_newR4Insula.Info.typeRule & insula (Rule) & 0.5894204\\\\\n",
       "\tX_newR4Motor.Info.typeRule & 0.0165661 & 0.01584811 & X_newR4Motor.Info.typeRule & precentral gyrus & supplementary motory cortex (Rule) & 0.6296944\\\\\n",
       "\tX_newR4Cingulum.Info.typeRule & 0.0007757109 & 0.02083909 & X_newR4Cingulum.Info.typeRule & cingulate gyrus (Rule) & 0.613904\\\\\n",
       "\\end{tabular}\n"
      ],
      "text/plain": [
       "                                                coef         se\n",
       "X_newR4Frontal_Sup.Info.typeValue       0.0028386419 0.01665926\n",
       "X_newR4Frontal_Mid.Info.typeValue      -0.0130029845 0.01853889\n",
       "X_newR4Frontal_Inf.Info.typeValue      -0.0223710816 0.02359659\n",
       "X_newR4Frontal_Orb.Info.typeValue       0.0126305434 0.02800135\n",
       "X_newR4Insula.Info.typeValue           -0.0198732509 0.05642054\n",
       "X_newR4Motor.Info.typeValue            -0.0167000246 0.02374131\n",
       "X_newR4Cingulum.Info.typeValue          0.0066620749 0.02680151\n",
       "X_newR4Frontal_Sup.Info.typePerceptual -0.0168419812 0.01505933\n",
       "X_newR4Frontal_Mid.Info.typePerceptual  0.0034778328 0.01724333\n",
       "X_newR4Frontal_Inf.Info.typePerceptual  0.0074299087 0.01540640\n",
       "X_newR4Frontal_Orb.Info.typePerceptual -0.0346462744 0.02029047\n",
       "X_newR4Insula.Info.typePerceptual      -0.0318917903 0.02824963\n",
       "X_newR4Motor.Info.typePerceptual       -0.0343559281 0.02708757\n",
       "X_newR4Cingulum.Info.typePerceptual     0.0721231147 0.02501662\n",
       "X_newR4Frontal_Sup.Info.typeResponse    0.0474037729 0.02234901\n",
       "X_newR4Frontal_Mid.Info.typeResponse   -0.0214002164 0.02263618\n",
       "X_newR4Frontal_Inf.Info.typeResponse   -0.0128606854 0.03011273\n",
       "X_newR4Frontal_Orb.Info.typeResponse   -0.0284287150 0.05870267\n",
       "X_newR4Insula.Info.typeResponse        -0.0556747522 0.05607634\n",
       "X_newR4Motor.Info.typeResponse          0.0308499238 0.01822859\n",
       "X_newR4Cingulum.Info.typeResponse       0.0139908132 0.02653956\n",
       "X_newR4Frontal_Sup.Info.typeRule       -0.0133862194 0.01745089\n",
       "X_newR4Frontal_Mid.Info.typeRule       -0.0140780487 0.01463205\n",
       "X_newR4Frontal_Inf.Info.typeRule       -0.0123045144 0.01564532\n",
       "X_newR4Frontal_Orb.Info.typeRule       -0.0494924056 0.03826544\n",
       "X_newR4Insula.Info.typeRule            -0.0237078144 0.02712107\n",
       "X_newR4Motor.Info.typeRule              0.0165660971 0.01584811\n",
       "X_newR4Cingulum.Info.typeRule           0.0007757109 0.02083909\n",
       "                                                                         name\n",
       "X_newR4Frontal_Sup.Info.typeValue           X_newR4Frontal_Sup.Info.typeValue\n",
       "X_newR4Frontal_Mid.Info.typeValue           X_newR4Frontal_Mid.Info.typeValue\n",
       "X_newR4Frontal_Inf.Info.typeValue           X_newR4Frontal_Inf.Info.typeValue\n",
       "X_newR4Frontal_Orb.Info.typeValue           X_newR4Frontal_Orb.Info.typeValue\n",
       "X_newR4Insula.Info.typeValue                     X_newR4Insula.Info.typeValue\n",
       "X_newR4Motor.Info.typeValue                       X_newR4Motor.Info.typeValue\n",
       "X_newR4Cingulum.Info.typeValue                 X_newR4Cingulum.Info.typeValue\n",
       "X_newR4Frontal_Sup.Info.typePerceptual X_newR4Frontal_Sup.Info.typePerceptual\n",
       "X_newR4Frontal_Mid.Info.typePerceptual X_newR4Frontal_Mid.Info.typePerceptual\n",
       "X_newR4Frontal_Inf.Info.typePerceptual X_newR4Frontal_Inf.Info.typePerceptual\n",
       "X_newR4Frontal_Orb.Info.typePerceptual X_newR4Frontal_Orb.Info.typePerceptual\n",
       "X_newR4Insula.Info.typePerceptual           X_newR4Insula.Info.typePerceptual\n",
       "X_newR4Motor.Info.typePerceptual             X_newR4Motor.Info.typePerceptual\n",
       "X_newR4Cingulum.Info.typePerceptual       X_newR4Cingulum.Info.typePerceptual\n",
       "X_newR4Frontal_Sup.Info.typeResponse     X_newR4Frontal_Sup.Info.typeResponse\n",
       "X_newR4Frontal_Mid.Info.typeResponse     X_newR4Frontal_Mid.Info.typeResponse\n",
       "X_newR4Frontal_Inf.Info.typeResponse     X_newR4Frontal_Inf.Info.typeResponse\n",
       "X_newR4Frontal_Orb.Info.typeResponse     X_newR4Frontal_Orb.Info.typeResponse\n",
       "X_newR4Insula.Info.typeResponse               X_newR4Insula.Info.typeResponse\n",
       "X_newR4Motor.Info.typeResponse                 X_newR4Motor.Info.typeResponse\n",
       "X_newR4Cingulum.Info.typeResponse           X_newR4Cingulum.Info.typeResponse\n",
       "X_newR4Frontal_Sup.Info.typeRule             X_newR4Frontal_Sup.Info.typeRule\n",
       "X_newR4Frontal_Mid.Info.typeRule             X_newR4Frontal_Mid.Info.typeRule\n",
       "X_newR4Frontal_Inf.Info.typeRule             X_newR4Frontal_Inf.Info.typeRule\n",
       "X_newR4Frontal_Orb.Info.typeRule             X_newR4Frontal_Orb.Info.typeRule\n",
       "X_newR4Insula.Info.typeRule                       X_newR4Insula.Info.typeRule\n",
       "X_newR4Motor.Info.typeRule                         X_newR4Motor.Info.typeRule\n",
       "X_newR4Cingulum.Info.typeRule                   X_newR4Cingulum.Info.typeRule\n",
       "                                                                                             name2\n",
       "X_newR4Frontal_Sup.Info.typeValue                                   superior frontal gyrus (Value)\n",
       "X_newR4Frontal_Mid.Info.typeValue                                     middle frontal gyrus (Value)\n",
       "X_newR4Frontal_Inf.Info.typeValue                                   inferior frontal gyrus (Value)\n",
       "X_newR4Frontal_Orb.Info.typeValue            superior & middle frontal gyrus, orbital part (Value)\n",
       "X_newR4Insula.Info.typeValue                                                        insula (Value)\n",
       "X_newR4Motor.Info.typeValue                 precentral gyrus & supplementary motory cortex (Value)\n",
       "X_newR4Cingulum.Info.typeValue                                             cingulate gyrus (Value)\n",
       "X_newR4Frontal_Sup.Info.typePerceptual                         superior frontal gyrus (Perceptual)\n",
       "X_newR4Frontal_Mid.Info.typePerceptual                           middle frontal gyrus (Perceptual)\n",
       "X_newR4Frontal_Inf.Info.typePerceptual                         inferior frontal gyrus (Perceptual)\n",
       "X_newR4Frontal_Orb.Info.typePerceptual  superior & middle frontal gyrus, orbital part (Perceptual)\n",
       "X_newR4Insula.Info.typePerceptual                                              insula (Perceptual)\n",
       "X_newR4Motor.Info.typePerceptual       precentral gyrus & supplementary motory cortex (Perceptual)\n",
       "X_newR4Cingulum.Info.typePerceptual                                   cingulate gyrus (Perceptual)\n",
       "X_newR4Frontal_Sup.Info.typeResponse                             superior frontal gyrus (Response)\n",
       "X_newR4Frontal_Mid.Info.typeResponse                               middle frontal gyrus (Response)\n",
       "X_newR4Frontal_Inf.Info.typeResponse                             inferior frontal gyrus (Response)\n",
       "X_newR4Frontal_Orb.Info.typeResponse      superior & middle frontal gyrus, orbital part (Response)\n",
       "X_newR4Insula.Info.typeResponse                                                  insula (Response)\n",
       "X_newR4Motor.Info.typeResponse           precentral gyrus & supplementary motory cortex (Response)\n",
       "X_newR4Cingulum.Info.typeResponse                                       cingulate gyrus (Response)\n",
       "X_newR4Frontal_Sup.Info.typeRule                                     superior frontal gyrus (Rule)\n",
       "X_newR4Frontal_Mid.Info.typeRule                                       middle frontal gyrus (Rule)\n",
       "X_newR4Frontal_Inf.Info.typeRule                                     inferior frontal gyrus (Rule)\n",
       "X_newR4Frontal_Orb.Info.typeRule              superior & middle frontal gyrus, orbital part (Rule)\n",
       "X_newR4Insula.Info.typeRule                                                          insula (Rule)\n",
       "X_newR4Motor.Info.typeRule                   precentral gyrus & supplementary motory cortex (Rule)\n",
       "X_newR4Cingulum.Info.typeRule                                               cingulate gyrus (Rule)\n",
       "                                       coef_gmean\n",
       "X_newR4Frontal_Sup.Info.typeValue       0.6159669\n",
       "X_newR4Frontal_Mid.Info.typeValue       0.6001253\n",
       "X_newR4Frontal_Inf.Info.typeValue       0.5907572\n",
       "X_newR4Frontal_Orb.Info.typeValue       0.6257588\n",
       "X_newR4Insula.Info.typeValue            0.5932550\n",
       "X_newR4Motor.Info.typeValue             0.5964282\n",
       "X_newR4Cingulum.Info.typeValue          0.6197903\n",
       "X_newR4Frontal_Sup.Info.typePerceptual  0.5962863\n",
       "X_newR4Frontal_Mid.Info.typePerceptual  0.6166061\n",
       "X_newR4Frontal_Inf.Info.typePerceptual  0.6205582\n",
       "X_newR4Frontal_Orb.Info.typePerceptual  0.5784820\n",
       "X_newR4Insula.Info.typePerceptual       0.5812365\n",
       "X_newR4Motor.Info.typePerceptual        0.5787723\n",
       "X_newR4Cingulum.Info.typePerceptual     0.6852514\n",
       "X_newR4Frontal_Sup.Info.typeResponse    0.6605320\n",
       "X_newR4Frontal_Mid.Info.typeResponse    0.5917280\n",
       "X_newR4Frontal_Inf.Info.typeResponse    0.6002676\n",
       "X_newR4Frontal_Orb.Info.typeResponse    0.5846995\n",
       "X_newR4Insula.Info.typeResponse         0.5574535\n",
       "X_newR4Motor.Info.typeResponse          0.6439782\n",
       "X_newR4Cingulum.Info.typeResponse       0.6271191\n",
       "X_newR4Frontal_Sup.Info.typeRule        0.5997420\n",
       "X_newR4Frontal_Mid.Info.typeRule        0.5990502\n",
       "X_newR4Frontal_Inf.Info.typeRule        0.6008237\n",
       "X_newR4Frontal_Orb.Info.typeRule        0.5636359\n",
       "X_newR4Insula.Info.typeRule             0.5894204\n",
       "X_newR4Motor.Info.typeRule              0.6296944\n",
       "X_newR4Cingulum.Info.typeRule           0.6139040"
      ]
     },
     "execution_count": 24,
     "metadata": {},
     "output_type": "execute_result"
    }
   ],
   "source": [
    "df$coef_gmean <- df$coef+gmean\n",
    "df"
   ]
  },
  {
   "cell_type": "code",
   "execution_count": 21,
   "metadata": {
    "collapsed": false
   },
   "outputs": [],
   "source": [
    "# do some name changes for axis # \n",
    "\n",
    "cc<-c()\n",
    "for (name in df$name){\n",
    "    newname<-gsub(\"R4\",\"\",name)\n",
    "    newname<-gsub(\"X_new\",\"\",newname)\n",
    "    newname<-gsub(\"Info.type\",\"\",newname)\n",
    "    newname<-gsub(\".Rule\",\" (Rule)\",newname)\n",
    "    newname<-gsub(\".Response\",\" (Response)\",newname)\n",
    "    newname<-gsub(\".Perceptual\",\" (Perceptual)\",newname)\n",
    "    newname<-gsub(\".Value\",\" (Value)\",newname)\n",
    "    newname<-gsub(\"Frontal_Sup\",\"superior frontal gyrus\",newname)\n",
    "    newname<-gsub(\"Frontal_Mid\",\"middle frontal gyrus\",newname)\n",
    "    newname<-gsub(\"Frontal_Inf\",\"inferior frontal gyrus\",newname)\n",
    "    newname<-gsub(\"Frontal_Orb\",\"superior & middle frontal gyrus, orbital part\",newname)\n",
    "    newname<-gsub(\"Insula\",\"insula\",newname)\n",
    "    newname<-gsub(\"Motor\",\"precentral gyrus & supplementary motory cortex\",newname)\n",
    "    newname<-gsub(\"Cingulum\",\"cingulate gyrus\",newname)\n",
    "    #newname<-gsub(\".\",\"_\",newname)\n",
    "    cc<-c(cc,newname)\n",
    "    #print(newname)\n",
    "    \n",
    "}\n",
    "df$name2<-cc"
   ]
  },
  {
   "cell_type": "code",
   "execution_count": 22,
   "metadata": {
    "collapsed": false
   },
   "outputs": [
    {
     "data": {
      "text/html": [
       "<strong>pdf:</strong> 2"
      ],
      "text/latex": [
       "\\textbf{pdf:} 2"
      ],
      "text/markdown": [
       "**pdf:** 2"
      ],
      "text/plain": [
       "pdf \n",
       "  2 "
      ]
     },
     "execution_count": 22,
     "metadata": {},
     "output_type": "execute_result"
    },
    {
     "data": {
      "image/png": "[encoded data removed]"
     },
     "metadata": {},
     "output_type": "display_data"
    }
   ],
   "source": [
    "\n",
    "\n",
    "# main plot \n",
    "p<-ggplot(data=df,aes(x=name2))+\n",
    "geom_point(aes(y=coef),size=1)+\n",
    "geom_errorbar(aes(ymax = coef + se, ymin=coef- se),width=0.3)\n",
    "p<-p+geom_hline(yintercept=0,linetype='dotted') \n",
    "\n",
    "# theme \n",
    "p<-p+xlab('Region (grouped by information type)')\n",
    "p<-p+ylab('Decoding Accuracy \\n (difference from grand mean)')\n",
    "p<-p+theme(panel.background=element_blank())\n",
    "p<-p+theme(axis.text.y = element_text(family=\"sans\",size=8))\n",
    "p<-p+theme(axis.text.x = element_text(family=\"sans\",angle = 90, hjust = 1,size=8))\n",
    "p<-p+theme(plot.title = element_text(family=\"sans\",size=10))\n",
    "p<-p+theme(axis.title.x = element_text(family=\"sans\",size=10))\n",
    "p<-p+theme(axis.title.y = element_text(family=\"sans\",size=10))\n",
    "p<-p+theme(axis.line.x = element_line(color=\"black\", size = .3),\n",
    "        axis.line.y = element_line(color=\"black\", size = .3))\n",
    "\n",
    "png('../Figures/Supp/accuracy_by_region_info_interaction.png',width=6,height=6,\n",
    "    units=\"in\",res=400)\n",
    "p\n",
    "dev.off()\n",
    "options(repr.plot.width=6, repr.plot.height=6)\n",
    "p\n"
   ]
  }
 ],
 "metadata": {
  "hide_input": false,
  "kernelspec": {
   "display_name": "R",
   "language": "R",
   "name": "ir"
  },
  "language_info": {
   "codemirror_mode": "r",
   "file_extension": ".r",
   "mimetype": "text/x-r-source",
   "name": "R",
   "pygments_lexer": "r",
   "version": "3.2.2"
  }
 },
 "nbformat": 4,
 "nbformat_minor": 0
}
