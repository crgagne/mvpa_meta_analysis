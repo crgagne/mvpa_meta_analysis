{
 "cells": [
  {
   "cell_type": "markdown",
   "metadata": {},
   "source": [
    "# Average Trial Count for Rule Papers\n",
    "\n"
   ]
  },
  {
   "cell_type": "code",
   "execution_count": 1,
   "metadata": {
    "init_cell": true
   },
   "outputs": [
    {
     "name": "stderr",
     "output_type": "stream",
     "text": [
      "Loading required package: carData\n",
      "lattice theme set by effectsTheme()\n",
      "See ?effectsTheme for details.\n",
      "Registering fonts with R\n",
      "Loading required package: estimability\n",
      "Loading required package: mvtnorm\n",
      "Loading required package: survival\n",
      "Loading required package: TH.data\n",
      "Loading required package: MASS\n",
      "\n",
      "Attaching package: ‘TH.data’\n",
      "\n",
      "The following object is masked from ‘package:MASS’:\n",
      "\n",
      "    geyser\n",
      "\n"
     ]
    }
   ],
   "source": [
    "options(jupyter.plot_mimetypes = \"image/png\")\n",
    "library(nlme)\n",
    "library(ggplot2)\n",
    "library(gridExtra)\n",
    "library(grid)\n",
    "library(data.table)\n",
    "library(effects)\n",
    "library(xtable)\n",
    "library(extrafont)\n",
    "library(lsmeans)\n",
    "library(multcomp)\n"
   ]
  },
  {
   "cell_type": "markdown",
   "metadata": {},
   "source": [
    "## Load Data and Data Prep\n",
    "\n",
    "- Data used can be found in 'Data_Classifications_v7.csv'\n"
   ]
  },
  {
   "cell_type": "code",
   "execution_count": 2,
   "metadata": {
    "init_cell": true
   },
   "outputs": [
    {
     "name": "stdout",
     "output_type": "stream",
     "text": [
      "[1] \"number of observations\"\n",
      "[1] 311\n",
      "[1] \"number of studies\"\n",
      "[1] 36\n",
      "[1] \"number of observations after dropping NAs\"\n",
      "[1] 268\n",
      "[1] \"number of studies after dropping NAs\"\n",
      "[1] 34\n"
     ]
    }
   ],
   "source": [
    "data = read.csv(\"../data_meta_analysis/Data_Classifications_v7.csv\")\n",
    "\n",
    "d<-data[data$Info.type=='Rule',]\n",
    "d<-d[c('PID','Accuracy.50','Num_trials','Num_class_types')]\n",
    "\n",
    "print('number of observations')\n",
    "print(nrow(d))\n",
    "\n",
    "print('number of studies')\n",
    "print(length(unique(d$PID)))\n",
    "\n",
    "d<-d[complete.cases(d),]\n",
    "\n",
    "print('number of observations after dropping NAs')\n",
    "print(nrow(d))\n",
    "\n",
    "print('number of studies after dropping NAs')\n",
    "print(length(unique(d$PID)))\n",
    "\n"
   ]
  },
  {
   "cell_type": "code",
   "execution_count": 13,
   "metadata": {},
   "outputs": [
    {
     "data": {
      "text/html": [
       "<table>\n",
       "<thead><tr><th scope=col>StudyID</th><th scope=col>Num_trials</th><th scope=col>Num_class_types</th><th scope=col>Trials_per_class</th></tr></thead>\n",
       "<tbody>\n",
       "\t<tr><td>1    </td><td> 931 </td><td>2    </td><td>465.5</td></tr>\n",
       "\t<tr><td>2    </td><td> 100 </td><td>2    </td><td> 50.0</td></tr>\n",
       "\t<tr><td>5    </td><td> 144 </td><td>2    </td><td> 72.0</td></tr>\n",
       "\t<tr><td>6    </td><td>  64 </td><td>2    </td><td> 32.0</td></tr>\n",
       "\t<tr><td>7    </td><td>1080 </td><td>2    </td><td>540.0</td></tr>\n",
       "\t<tr><td>8    </td><td> 168 </td><td>2    </td><td> 84.0</td></tr>\n",
       "</tbody>\n",
       "</table>\n"
      ],
      "text/latex": [
       "\\begin{tabular}{r|llll}\n",
       " StudyID & Num\\_trials & Num\\_class\\_types & Trials\\_per\\_class\\\\\n",
       "\\hline\n",
       "\t 1     &  931  & 2     & 465.5\\\\\n",
       "\t 2     &  100  & 2     &  50.0\\\\\n",
       "\t 5     &  144  & 2     &  72.0\\\\\n",
       "\t 6     &   64  & 2     &  32.0\\\\\n",
       "\t 7     & 1080  & 2     & 540.0\\\\\n",
       "\t 8     &  168  & 2     &  84.0\\\\\n",
       "\\end{tabular}\n"
      ],
      "text/markdown": [
       "\n",
       "StudyID | Num_trials | Num_class_types | Trials_per_class | \n",
       "|---|---|---|---|---|---|\n",
       "| 1     |  931  | 2     | 465.5 | \n",
       "| 2     |  100  | 2     |  50.0 | \n",
       "| 5     |  144  | 2     |  72.0 | \n",
       "| 6     |   64  | 2     |  32.0 | \n",
       "| 7     | 1080  | 2     | 540.0 | \n",
       "| 8     |  168  | 2     |  84.0 | \n",
       "\n",
       "\n"
      ],
      "text/plain": [
       "  StudyID Num_trials Num_class_types Trials_per_class\n",
       "1 1        931       2               465.5           \n",
       "2 2        100       2                50.0           \n",
       "3 5        144       2                72.0           \n",
       "4 6         64       2                32.0           \n",
       "5 7       1080       2               540.0           \n",
       "6 8        168       2                84.0           "
      ]
     },
     "metadata": {},
     "output_type": "display_data"
    }
   ],
   "source": [
    "# reduce to just 1 number per study \n",
    "d_by_study = merge(aggregate(d$Num_trials,list(d$PID),max),aggregate(d$Num_class_types,list(d$PID),max),by='Group.1')\n",
    "names(d_by_study)<-c('StudyID','Num_trials','Num_class_types')\n",
    "d_by_study$Trials_per_class<-d_by_study$Num_trials/d_by_study$Num_class_types\n",
    "head(d_by_study)"
   ]
  },
  {
   "cell_type": "code",
   "execution_count": 4,
   "metadata": {},
   "outputs": [
    {
     "name": "stderr",
     "output_type": "stream",
     "text": [
      "`stat_bin()` using `bins = 30`. Pick better value with `binwidth`.\n"
     ]
    },
    {
     "data": {},
     "metadata": {},
     "output_type": "display_data"
    },
    {
     "data": {
      "text/html": [
       "<strong>pdf:</strong> 2"
      ],
      "text/latex": [
       "\\textbf{pdf:} 2"
      ],
      "text/markdown": [
       "**pdf:** 2"
      ],
      "text/plain": [
       "pdf \n",
       "  2 "
      ]
     },
     "metadata": {},
     "output_type": "display_data"
    },
    {
     "name": "stderr",
     "output_type": "stream",
     "text": [
      "`stat_bin()` using `bins = 30`. Pick better value with `binwidth`.\n"
     ]
    },
    {
     "data": {},
     "metadata": {},
     "output_type": "display_data"
    },
    {
     "data": {
      "image/png": "[encoded data removed]"
     },
     "metadata": {},
     "output_type": "display_data"
    }
   ],
   "source": [
    "p1<-ggplot(d_by_study, aes(Num_trials)) +\n",
    "  geom_histogram()+xlab('Total Number of Trials per Paper')+ylab('Number of Papers')\n",
    "\n",
    "png('../Figures/Trial_Count_Analysis_TotalNumber.png',width=6,height=3,units=\"in\",res=400)\n",
    "p1\n",
    "dev.off()\n",
    "\n",
    "options(repr.plot.width=6, repr.plot.height=3)\n",
    "p1"
   ]
  },
  {
   "cell_type": "code",
   "execution_count": 5,
   "metadata": {},
   "outputs": [
    {
     "name": "stdout",
     "output_type": "stream",
     "text": [
      "[1] \"min\"\n",
      "[1] 55\n",
      "[1] \"mean\"\n",
      "[1] 359.5882\n",
      "[1] \"median\"\n",
      "[1] 248\n",
      "[1] \"max\"\n",
      "[1] 1080\n",
      "[1] \"sd\"\n",
      "[1] 310.8732\n",
      "[1] \"sem\"\n",
      "[1] 53.31431\n"
     ]
    }
   ],
   "source": [
    "print('min')\n",
    "print(min(d_by_study$Num_trials))\n",
    "print('mean')\n",
    "print(mean(d_by_study$Num_trials))\n",
    "print('median')\n",
    "print(median(d_by_study$Num_trials))\n",
    "print('max')\n",
    "print(max(d_by_study$Num_trials))\n",
    "print('sd')\n",
    "print(sd(d_by_study$Num_trials))\n",
    "print('sem')\n",
    "print(sd(d_by_study$Num_trials)/sqrt(nrow(d_by_study)))"
   ]
  },
  {
   "cell_type": "code",
   "execution_count": 6,
   "metadata": {},
   "outputs": [
    {
     "data": {
      "text/html": [
       "19"
      ],
      "text/latex": [
       "19"
      ],
      "text/markdown": [
       "19"
      ],
      "text/plain": [
       "[1] 19"
      ]
     },
     "metadata": {},
     "output_type": "display_data"
    },
    {
     "data": {
      "text/html": [
       "12"
      ],
      "text/latex": [
       "12"
      ],
      "text/markdown": [
       "12"
      ],
      "text/plain": [
       "[1] 12"
      ]
     },
     "metadata": {},
     "output_type": "display_data"
    },
    {
     "data": {
      "text/html": [
       "3"
      ],
      "text/latex": [
       "3"
      ],
      "text/markdown": [
       "3"
      ],
      "text/plain": [
       "[1] 3"
      ]
     },
     "metadata": {},
     "output_type": "display_data"
    }
   ],
   "source": [
    "sum(d_by_study$Num_class_types==2)\n",
    "sum(d_by_study$Num_class_types==4)\n",
    "sum(d_by_study$Num_class_types==6)"
   ]
  },
  {
   "cell_type": "code",
   "execution_count": 7,
   "metadata": {},
   "outputs": [
    {
     "name": "stderr",
     "output_type": "stream",
     "text": [
      "`stat_bin()` using `bins = 30`. Pick better value with `binwidth`.\n"
     ]
    },
    {
     "data": {},
     "metadata": {},
     "output_type": "display_data"
    },
    {
     "data": {
      "text/html": [
       "<strong>pdf:</strong> 2"
      ],
      "text/latex": [
       "\\textbf{pdf:} 2"
      ],
      "text/markdown": [
       "**pdf:** 2"
      ],
      "text/plain": [
       "pdf \n",
       "  2 "
      ]
     },
     "metadata": {},
     "output_type": "display_data"
    },
    {
     "name": "stderr",
     "output_type": "stream",
     "text": [
      "`stat_bin()` using `bins = 30`. Pick better value with `binwidth`.\n"
     ]
    },
    {
     "data": {},
     "metadata": {},
     "output_type": "display_data"
    },
    {
     "data": {
      "image/png": "[encoded data removed]"
     },
     "metadata": {},
     "output_type": "display_data"
    }
   ],
   "source": [
    "\n",
    "p1<-ggplot(d_by_study, aes(Num_class_types)) +\n",
    "  geom_histogram()+xlab('Number of Class Types')+ylab('Number of Papers')\n",
    "\n",
    "png('../Figures/Trial_Count_Analysis_ClassNumbers.png',width=6,height=3,units=\"in\",res=400)\n",
    "p1\n",
    "dev.off()\n",
    "\n",
    "options(repr.plot.width=6, repr.plot.height=3)\n",
    "p1"
   ]
  },
  {
   "cell_type": "code",
   "execution_count": 8,
   "metadata": {},
   "outputs": [
    {
     "name": "stderr",
     "output_type": "stream",
     "text": [
      "`stat_bin()` using `bins = 30`. Pick better value with `binwidth`.\n"
     ]
    },
    {
     "data": {},
     "metadata": {},
     "output_type": "display_data"
    },
    {
     "data": {
      "text/html": [
       "<strong>pdf:</strong> 2"
      ],
      "text/latex": [
       "\\textbf{pdf:} 2"
      ],
      "text/markdown": [
       "**pdf:** 2"
      ],
      "text/plain": [
       "pdf \n",
       "  2 "
      ]
     },
     "metadata": {},
     "output_type": "display_data"
    },
    {
     "name": "stderr",
     "output_type": "stream",
     "text": [
      "`stat_bin()` using `bins = 30`. Pick better value with `binwidth`.\n"
     ]
    },
    {
     "data": {},
     "metadata": {},
     "output_type": "display_data"
    },
    {
     "data": {
      "image/png": "[encoded data removed]"
     },
     "metadata": {},
     "output_type": "display_data"
    }
   ],
   "source": [
    "p1<-ggplot(d_by_study, aes(Trials_per_class)) +\n",
    "  geom_histogram()+xlab('Number of Trials per Class')+ylab('Number of Papers')\n",
    "\n",
    "png('../Figures/Trial_Count_Analysis_Trials_per_Class.png',width=6,height=3,units=\"in\",res=400)\n",
    "p1\n",
    "dev.off()\n",
    "\n",
    "options(repr.plot.width=6, repr.plot.height=3)\n",
    "p1"
   ]
  },
  {
   "cell_type": "code",
   "execution_count": 9,
   "metadata": {},
   "outputs": [
    {
     "name": "stdout",
     "output_type": "stream",
     "text": [
      "[1] \"min\"\n",
      "[1] 27.5\n",
      "[1] \"mean\"\n",
      "[1] 125.7941\n",
      "[1] \"median\"\n",
      "[1] 87\n",
      "[1] \"max\"\n",
      "[1] 540\n",
      "[1] \"sd\"\n",
      "[1] 113.6145\n",
      "[1] \"sem\"\n",
      "[1] 19.48472\n"
     ]
    }
   ],
   "source": [
    "print('min')\n",
    "print(min(d_by_study$Trials_per_class))\n",
    "print('mean')\n",
    "print(mean(d_by_study$Trials_per_class))\n",
    "print('median')\n",
    "print(median(d_by_study$Trials_per_class))\n",
    "print('max')\n",
    "print(max(d_by_study$Trials_per_class))\n",
    "print('sd')\n",
    "print(sd(d_by_study$Trials_per_class))\n",
    "print('sem')\n",
    "print(sd(d_by_study$Trials_per_class)/sqrt(nrow(d_by_study)))"
   ]
  },
  {
   "cell_type": "markdown",
   "metadata": {},
   "source": [
    "# Does Trial Number Relate to Accuracy? "
   ]
  },
  {
   "cell_type": "code",
   "execution_count": 18,
   "metadata": {
    "collapsed": true
   },
   "outputs": [],
   "source": [
    "d$Trials_per_class<-d$Num_trials/d$Num_class_types"
   ]
  },
  {
   "cell_type": "code",
   "execution_count": 21,
   "metadata": {},
   "outputs": [
    {
     "data": {
      "text/plain": [
       "Linear mixed-effects model fit by maximum likelihood\n",
       " Data: d \n",
       "        AIC       BIC   logLik\n",
       "  -728.8053 -714.4414 368.4027\n",
       "\n",
       "Random effects:\n",
       " Formula: ~1 | PID\n",
       "        (Intercept)   Residual\n",
       "StdDev:  0.04017499 0.05627983\n",
       "\n",
       "Fixed effects: Accuracy.50 ~ Trials_per_class \n",
       "                      Value   Std.Error  DF  t-value p-value\n",
       "(Intercept)       0.5957314 0.012685244 234 46.96255   0.000\n",
       "Trials_per_class -0.0000839 0.000069158  32 -1.21311   0.234\n",
       " Correlation: \n",
       "                 (Intr)\n",
       "Trials_per_class -0.745\n",
       "\n",
       "Standardized Within-Group Residuals:\n",
       "        Min          Q1         Med          Q3         Max \n",
       "-2.36053210 -0.51481114 -0.08325286  0.46944138  4.22781828 \n",
       "\n",
       "Number of Observations: 268\n",
       "Number of Groups: 34 "
      ]
     },
     "metadata": {},
     "output_type": "display_data"
    }
   ],
   "source": [
    "mod<-lme(Accuracy.50~Trials_per_class,random=~1|PID,data=d,method='ML')\n",
    "summary(mod)"
   ]
  },
  {
   "cell_type": "code",
   "execution_count": 24,
   "metadata": {},
   "outputs": [
    {
     "data": {
      "text/plain": [
       "Linear mixed-effects model fit by maximum likelihood\n",
       " Data: d \n",
       "        AIC       BIC   logLik\n",
       "  -727.8757 -713.5117 367.9378\n",
       "\n",
       "Random effects:\n",
       " Formula: ~1 | PID\n",
       "        (Intercept)   Residual\n",
       "StdDev:  0.04104777 0.05627373\n",
       "\n",
       "Fixed effects: Accuracy.50 ~ Num_trials \n",
       "                 Value   Std.Error  DF  t-value p-value\n",
       "(Intercept)  0.5915941 0.013426634 234 44.06124  0.0000\n",
       "Num_trials  -0.0000190 0.000026572  32 -0.71374  0.4806\n",
       " Correlation: \n",
       "           (Intr)\n",
       "Num_trials -0.768\n",
       "\n",
       "Standardized Within-Group Residuals:\n",
       "       Min         Q1        Med         Q3        Max \n",
       "-2.3647624 -0.5157185 -0.0842035  0.4662021  4.2333892 \n",
       "\n",
       "Number of Observations: 268\n",
       "Number of Groups: 34 "
      ]
     },
     "metadata": {},
     "output_type": "display_data"
    }
   ],
   "source": [
    "mod<-lme(Accuracy.50~Num_trials,random=~1|PID,data=d,method='ML')\n",
    "summary(mod)"
   ]
  },
  {
   "cell_type": "code",
   "execution_count": 27,
   "metadata": {
    "collapsed": true
   },
   "outputs": [],
   "source": [
    "#aggregate(d$Accuracy.50,list(d$PID),mean)"
   ]
  },
  {
   "cell_type": "code",
   "execution_count": 28,
   "metadata": {},
   "outputs": [
    {
     "data": {
      "text/html": [
       "<table>\n",
       "<thead><tr><th scope=col>StudyID</th><th scope=col>Num_trials</th><th scope=col>Num_class_types</th><th scope=col>Accuracy.50</th><th scope=col>Trials_per_class</th></tr></thead>\n",
       "<tbody>\n",
       "\t<tr><td>1        </td><td> 931     </td><td>2        </td><td>0.5486000</td><td>465.5    </td></tr>\n",
       "\t<tr><td>2        </td><td> 100     </td><td>2        </td><td>0.5925000</td><td> 50.0    </td></tr>\n",
       "\t<tr><td>5        </td><td> 144     </td><td>2        </td><td>0.5300000</td><td> 72.0    </td></tr>\n",
       "\t<tr><td>6        </td><td>  64     </td><td>2        </td><td>0.5700000</td><td> 32.0    </td></tr>\n",
       "\t<tr><td>7        </td><td>1080     </td><td>2        </td><td>0.5338095</td><td>540.0    </td></tr>\n",
       "\t<tr><td>8        </td><td> 168     </td><td>2        </td><td>0.5800000</td><td> 84.0    </td></tr>\n",
       "</tbody>\n",
       "</table>\n"
      ],
      "text/latex": [
       "\\begin{tabular}{r|lllll}\n",
       " StudyID & Num\\_trials & Num\\_class\\_types & Accuracy.50 & Trials\\_per\\_class\\\\\n",
       "\\hline\n",
       "\t 1         &  931      & 2         & 0.5486000 & 465.5    \\\\\n",
       "\t 2         &  100      & 2         & 0.5925000 &  50.0    \\\\\n",
       "\t 5         &  144      & 2         & 0.5300000 &  72.0    \\\\\n",
       "\t 6         &   64      & 2         & 0.5700000 &  32.0    \\\\\n",
       "\t 7         & 1080      & 2         & 0.5338095 & 540.0    \\\\\n",
       "\t 8         &  168      & 2         & 0.5800000 &  84.0    \\\\\n",
       "\\end{tabular}\n"
      ],
      "text/markdown": [
       "\n",
       "StudyID | Num_trials | Num_class_types | Accuracy.50 | Trials_per_class | \n",
       "|---|---|---|---|---|---|\n",
       "| 1         |  931      | 2         | 0.5486000 | 465.5     | \n",
       "| 2         |  100      | 2         | 0.5925000 |  50.0     | \n",
       "| 5         |  144      | 2         | 0.5300000 |  72.0     | \n",
       "| 6         |   64      | 2         | 0.5700000 |  32.0     | \n",
       "| 7         | 1080      | 2         | 0.5338095 | 540.0     | \n",
       "| 8         |  168      | 2         | 0.5800000 |  84.0     | \n",
       "\n",
       "\n"
      ],
      "text/plain": [
       "  StudyID Num_trials Num_class_types Accuracy.50 Trials_per_class\n",
       "1 1        931       2               0.5486000   465.5           \n",
       "2 2        100       2               0.5925000    50.0           \n",
       "3 5        144       2               0.5300000    72.0           \n",
       "4 6         64       2               0.5700000    32.0           \n",
       "5 7       1080       2               0.5338095   540.0           \n",
       "6 8        168       2               0.5800000    84.0           "
      ]
     },
     "metadata": {},
     "output_type": "display_data"
    }
   ],
   "source": [
    "# reduce to just 1 number per study \n",
    "d_by_study = merge(aggregate(d$Num_trials,list(d$PID),max),aggregate(d$Num_class_types,list(d$PID),max),by='Group.1')\n",
    "d_by_study = merge(d_by_study,aggregate(d$Accuracy.50,list(d$PID),mean),by='Group.1')\n",
    "names(d_by_study)<-c('StudyID','Num_trials','Num_class_types','Accuracy.50')\n",
    "d_by_study$Trials_per_class<-d_by_study$Num_trials/d_by_study$Num_class_types\n",
    "head(d_by_study)"
   ]
  },
  {
   "cell_type": "code",
   "execution_count": 30,
   "metadata": {},
   "outputs": [
    {
     "data": {
      "text/plain": [
       "\n",
       "Call:\n",
       "lm(formula = Accuracy.50 ~ Trials_per_class, data = d_by_study)\n",
       "\n",
       "Residuals:\n",
       "      Min        1Q    Median        3Q       Max \n",
       "-0.060007 -0.026625 -0.006632  0.009279  0.167327 \n",
       "\n",
       "Coefficients:\n",
       "                   Estimate Std. Error t value Pr(>|t|)    \n",
       "(Intercept)       5.918e-01  1.214e-02  48.759   <2e-16 ***\n",
       "Trials_per_class -7.646e-05  7.208e-05  -1.061    0.297    \n",
       "---\n",
       "Signif. codes:  0 ‘***’ 0.001 ‘**’ 0.01 ‘*’ 0.05 ‘.’ 0.1 ‘ ’ 1\n",
       "\n",
       "Residual standard error: 0.04704 on 32 degrees of freedom\n",
       "Multiple R-squared:  0.03397,\tAdjusted R-squared:  0.00378 \n",
       "F-statistic: 1.125 on 1 and 32 DF,  p-value: 0.2967\n"
      ]
     },
     "metadata": {},
     "output_type": "display_data"
    }
   ],
   "source": [
    "summary(lm(Accuracy.50~Trials_per_class,data=d_by_study))"
   ]
  },
  {
   "cell_type": "code",
   "execution_count": 31,
   "metadata": {},
   "outputs": [
    {
     "data": {
      "text/plain": [
       "\n",
       "Call:\n",
       "lm(formula = Accuracy.50 ~ Num_trials, data = d_by_study)\n",
       "\n",
       "Residuals:\n",
       "      Min        1Q    Median        3Q       Max \n",
       "-0.063226 -0.024644 -0.005490  0.009394  0.170970 \n",
       "\n",
       "Coefficients:\n",
       "              Estimate Std. Error t value Pr(>|t|)    \n",
       "(Intercept)  5.876e-01  1.260e-02  46.656   <2e-16 ***\n",
       "Num_trials  -1.524e-05  2.667e-05  -0.571    0.572    \n",
       "---\n",
       "Signif. codes:  0 ‘***’ 0.001 ‘**’ 0.01 ‘*’ 0.05 ‘.’ 0.1 ‘ ’ 1\n",
       "\n",
       "Residual standard error: 0.04762 on 32 degrees of freedom\n",
       "Multiple R-squared:  0.0101,\tAdjusted R-squared:  -0.02083 \n",
       "F-statistic: 0.3265 on 1 and 32 DF,  p-value: 0.5717\n"
      ]
     },
     "metadata": {},
     "output_type": "display_data"
    }
   ],
   "source": [
    "summary(lm(Accuracy.50~Num_trials,data=d_by_study))"
   ]
  },
  {
   "cell_type": "code",
   "execution_count": null,
   "metadata": {
    "collapsed": true
   },
   "outputs": [],
   "source": []
  }
 ],
 "metadata": {
  "hide_input": false,
  "kernelspec": {
   "display_name": "R",
   "language": "R",
   "name": "ir"
  },
  "language_info": {
   "codemirror_mode": "r",
   "file_extension": ".r",
   "mimetype": "text/x-r-source",
   "name": "R",
   "pygments_lexer": "r",
   "version": "3.4.1"
  },
  "toc": {
   "nav_menu": {},
   "number_sections": true,
   "sideBar": true,
   "skip_h1_title": false,
   "toc_cell": false,
   "toc_position": {},
   "toc_section_display": "block",
   "toc_window_display": false
  }
 },
 "nbformat": 4,
 "nbformat_minor": 1
}
