{
 "cells": [
  {
   "cell_type": "markdown",
   "metadata": {},
   "source": [
    "Loading in data v8, converting the CONVERT_AAL to voxel numbers by referencing AAL ROIs in the atlas.  "
   ]
  },
  {
   "cell_type": "code",
   "execution_count": 1,
   "metadata": {},
   "outputs": [
    {
     "name": "stderr",
     "output_type": "stream",
     "text": [
      "/Users/chris/anaconda/lib/python3.6/site-packages/h5py/__init__.py:34: FutureWarning: Conversion of the second argument of issubdtype from `float` to `np.floating` is deprecated. In future, it will be treated as `np.float64 == np.dtype(float).type`.\n",
      "  from ._conv import register_converters as _register_converters\n"
     ]
    }
   ],
   "source": [
    "import pandas as pd\n",
    "import sys\n",
    "sys.path.append('/usr/local/lib/python2.7/site-packages/')\n",
    "import nilearn\n",
    "import numpy as np"
   ]
  },
  {
   "cell_type": "code",
   "execution_count": 2,
   "metadata": {
    "collapsed": true
   },
   "outputs": [],
   "source": [
    "df = pd.read_csv('../data_meta_analysis/Data_Classifications_v8.csv',encoding = \"ISO-8859-1\")"
   ]
  },
  {
   "cell_type": "code",
   "execution_count": 3,
   "metadata": {},
   "outputs": [
    {
     "data": {
      "text/plain": [
       "Index(['PID', 'Year', 'Title', 'Info.type', 'Source.in.paper',\n",
       "       'Task.variable.decoded', 'Accuracy.50', 'Accuracy.other', 'Num_classes',\n",
       "       'Significance', 'Roi.Search', 'Pattern.type', 'Classifier.type',\n",
       "       'Classifier.Fitted', 'Scanner', 'Resolution', 'Smoothing',\n",
       "       'Coregistration', 'Movement.Correction', 'Pattern.normalization.type',\n",
       "       'Num_subs', 'Num_trials', 'Num_class_types', 'Talairach.Coordinates',\n",
       "       'MNI.Coordinates', 'Coordinate.Space', 'ROI.Atlas', 'BA', 'AAL',\n",
       "       'Desikan', 'OxHarvard', 'Destrieux', 'Unkown Atlas',\n",
       "       'Method.of.Assigning.Region', 'Region.name', 'Voxel.numbers',\n",
       "       'Training.setsize', 'Accuracy.50.Median', 'Notes', 'More.Notes'],\n",
       "      dtype='object')"
      ]
     },
     "execution_count": 3,
     "metadata": {},
     "output_type": "execute_result"
    }
   ],
   "source": [
    "df.columns"
   ]
  },
  {
   "cell_type": "markdown",
   "metadata": {},
   "source": [
    "### Converting AAL "
   ]
  },
  {
   "cell_type": "code",
   "execution_count": 4,
   "metadata": {
    "collapsed": true
   },
   "outputs": [],
   "source": [
    "import nibabel as nib\n",
    "from nilearn import datasets\n",
    "\n",
    "aal_atlas_meta_data = datasets.fetch_atlas_aal()\n",
    "aal_atlas_filename = aal_atlas_meta_data.maps\n",
    "aal_atlas_img = nib.load(aal_atlas_meta_data.maps)\n",
    "aal_atlas_img_data = aal_atlas_img.get_data()"
   ]
  },
  {
   "cell_type": "code",
   "execution_count": 5,
   "metadata": {
    "collapsed": true
   },
   "outputs": [],
   "source": [
    "def find_voxel_size(atlas_meta_data,atlas_img_data,label):\n",
    "    # find number associated with label\n",
    "    idx = atlas_meta_data.indices[atlas_meta_data.labels.index(label)]\n",
    "    num_voxels = np.sum(atlas_img_data==int(idx))\n",
    "    return(num_voxels)"
   ]
  },
  {
   "cell_type": "code",
   "execution_count": 6,
   "metadata": {},
   "outputs": [
    {
     "data": {
      "text/plain": [
       "(91, 109, 91)"
      ]
     },
     "execution_count": 6,
     "metadata": {},
     "output_type": "execute_result"
    }
   ],
   "source": [
    "aal_atlas_img_data.shape"
   ]
  },
  {
   "cell_type": "code",
   "execution_count": 7,
   "metadata": {},
   "outputs": [
    {
     "data": {
      "text/html": [
       "<div>\n",
       "<style>\n",
       "    .dataframe thead tr:only-child th {\n",
       "        text-align: right;\n",
       "    }\n",
       "\n",
       "    .dataframe thead th {\n",
       "        text-align: left;\n",
       "    }\n",
       "\n",
       "    .dataframe tbody tr th {\n",
       "        vertical-align: top;\n",
       "    }\n",
       "</style>\n",
       "<table border=\"1\" class=\"dataframe\">\n",
       "  <thead>\n",
       "    <tr style=\"text-align: right;\">\n",
       "      <th></th>\n",
       "      <th>Region.name</th>\n",
       "      <th>AAL</th>\n",
       "    </tr>\n",
       "  </thead>\n",
       "  <tbody>\n",
       "    <tr>\n",
       "      <th>79</th>\n",
       "      <td>Frontal Sup Orb R</td>\n",
       "      <td>Frontal_Sup_Orb_R</td>\n",
       "    </tr>\n",
       "    <tr>\n",
       "      <th>80</th>\n",
       "      <td>Supp Motor Area R</td>\n",
       "      <td>Supp_Motor_Area_R</td>\n",
       "    </tr>\n",
       "    <tr>\n",
       "      <th>81</th>\n",
       "      <td>Frontal Sup Orb L</td>\n",
       "      <td>Frontal_Sup_Orb_L</td>\n",
       "    </tr>\n",
       "    <tr>\n",
       "      <th>82</th>\n",
       "      <td>Anterior Cingulate R</td>\n",
       "      <td>Cingulum_Ant_R</td>\n",
       "    </tr>\n",
       "    <tr>\n",
       "      <th>83</th>\n",
       "      <td>Insula L</td>\n",
       "      <td>Insula_L</td>\n",
       "    </tr>\n",
       "  </tbody>\n",
       "</table>\n",
       "</div>"
      ],
      "text/plain": [
       "             Region.name                AAL\n",
       "79     Frontal Sup Orb R  Frontal_Sup_Orb_R\n",
       "80     Supp Motor Area R  Supp_Motor_Area_R\n",
       "81     Frontal Sup Orb L  Frontal_Sup_Orb_L\n",
       "82  Anterior Cingulate R     Cingulum_Ant_R\n",
       "83              Insula L           Insula_L"
      ]
     },
     "execution_count": 7,
     "metadata": {},
     "output_type": "execute_result"
    }
   ],
   "source": [
    "# 'CONVERT_AAL'\n",
    "# 'CONVERT_DK'\n",
    "df.loc[df['Voxel.numbers']=='CONVERT_AAL',['Region.name','AAL']].head()"
   ]
  },
  {
   "cell_type": "code",
   "execution_count": 8,
   "metadata": {},
   "outputs": [
    {
     "data": {
      "text/plain": [
       "2151"
      ]
     },
     "execution_count": 8,
     "metadata": {},
     "output_type": "execute_result"
    }
   ],
   "source": [
    "find_voxel_size(aal_atlas_meta_data,aal_atlas_img_data,'Frontal_Inf_Tri_R')"
   ]
  },
  {
   "cell_type": "code",
   "execution_count": 9,
   "metadata": {},
   "outputs": [
    {
     "data": {
      "text/plain": [
       "Int64Index([ 79,  80,  81,  82,  83,  84,  85,  86,  87,  88,  89,  90,  91,\n",
       "             92,  93,  94,  95,  96,  97,  98,  99, 100, 101, 102, 281, 282,\n",
       "            283, 284, 285, 286, 287, 288, 289, 290, 291, 292, 293, 294, 295,\n",
       "            296, 297, 298, 659, 660, 661, 662, 663, 664, 665, 666, 806, 807,\n",
       "            808],\n",
       "           dtype='int64')"
      ]
     },
     "execution_count": 9,
     "metadata": {},
     "output_type": "execute_result"
    }
   ],
   "source": [
    "df.loc[df['Voxel.numbers']=='CONVERT_AAL',['Region.name','AAL']].index"
   ]
  },
  {
   "cell_type": "code",
   "execution_count": 10,
   "metadata": {
    "collapsed": true
   },
   "outputs": [],
   "source": [
    "df_copy = df.copy()"
   ]
  },
  {
   "cell_type": "code",
   "execution_count": 11,
   "metadata": {
    "collapsed": true
   },
   "outputs": [],
   "source": [
    "for index,row in df_copy.iterrows():\n",
    "    if row['Voxel.numbers']=='CONVERT_AAL':\n",
    "        label = row['AAL']\n",
    "        label_list = label.split(';')\n",
    "        if len(label_list)>1:\n",
    "            voxelnumbers=0\n",
    "            for l in label_list:\n",
    "                voxelnumbers+=find_voxel_size(aal_atlas_meta_data,aal_atlas_img_data,l.strip())\n",
    "        else:\n",
    "            voxelnumbers = find_voxel_size(aal_atlas_meta_data,aal_atlas_img_data,label_list[0])\n",
    "        df_copy.loc[index,'Voxel.numbers']=voxelnumbers"
   ]
  },
  {
   "cell_type": "code",
   "execution_count": 12,
   "metadata": {},
   "outputs": [
    {
     "data": {
      "text/html": [
       "<div>\n",
       "<style>\n",
       "    .dataframe thead tr:only-child th {\n",
       "        text-align: right;\n",
       "    }\n",
       "\n",
       "    .dataframe thead th {\n",
       "        text-align: left;\n",
       "    }\n",
       "\n",
       "    .dataframe tbody tr th {\n",
       "        vertical-align: top;\n",
       "    }\n",
       "</style>\n",
       "<table border=\"1\" class=\"dataframe\">\n",
       "  <thead>\n",
       "    <tr style=\"text-align: right;\">\n",
       "      <th></th>\n",
       "      <th>Voxel.numbers</th>\n",
       "      <th>AAL</th>\n",
       "    </tr>\n",
       "  </thead>\n",
       "  <tbody>\n",
       "    <tr>\n",
       "      <th>79</th>\n",
       "      <td>997</td>\n",
       "      <td>Frontal_Sup_Orb_R</td>\n",
       "    </tr>\n",
       "    <tr>\n",
       "      <th>80</th>\n",
       "      <td>2371</td>\n",
       "      <td>Supp_Motor_Area_R</td>\n",
       "    </tr>\n",
       "    <tr>\n",
       "      <th>81</th>\n",
       "      <td>963</td>\n",
       "      <td>Frontal_Sup_Orb_L</td>\n",
       "    </tr>\n",
       "    <tr>\n",
       "      <th>82</th>\n",
       "      <td>1313</td>\n",
       "      <td>Cingulum_Ant_R</td>\n",
       "    </tr>\n",
       "    <tr>\n",
       "      <th>83</th>\n",
       "      <td>1858</td>\n",
       "      <td>Insula_L</td>\n",
       "    </tr>\n",
       "    <tr>\n",
       "      <th>84</th>\n",
       "      <td>1770</td>\n",
       "      <td>Insula_R</td>\n",
       "    </tr>\n",
       "    <tr>\n",
       "      <th>85</th>\n",
       "      <td>3381</td>\n",
       "      <td>Precentral_R</td>\n",
       "    </tr>\n",
       "    <tr>\n",
       "      <th>86</th>\n",
       "      <td>1399</td>\n",
       "      <td>Frontal_Inf_Oper_R</td>\n",
       "    </tr>\n",
       "    <tr>\n",
       "      <th>87</th>\n",
       "      <td>856</td>\n",
       "      <td>Frontal_Med_Orb_R</td>\n",
       "    </tr>\n",
       "    <tr>\n",
       "      <th>88</th>\n",
       "      <td>856</td>\n",
       "      <td>Frontal_Med_Orb_R</td>\n",
       "    </tr>\n",
       "    <tr>\n",
       "      <th>89</th>\n",
       "      <td>719</td>\n",
       "      <td>Frontal_Med_Orb_L</td>\n",
       "    </tr>\n",
       "    <tr>\n",
       "      <th>90</th>\n",
       "      <td>2147</td>\n",
       "      <td>Supp_Motor_Area_L</td>\n",
       "    </tr>\n",
       "    <tr>\n",
       "      <th>91</th>\n",
       "      <td>1707</td>\n",
       "      <td>Frontal_Inf_Orb_R</td>\n",
       "    </tr>\n",
       "    <tr>\n",
       "      <th>92</th>\n",
       "      <td>5104</td>\n",
       "      <td>Frontal_Mid_R</td>\n",
       "    </tr>\n",
       "    <tr>\n",
       "      <th>93</th>\n",
       "      <td>1038</td>\n",
       "      <td>Frontal_Inf_Oper_L</td>\n",
       "    </tr>\n",
       "    <tr>\n",
       "      <th>94</th>\n",
       "      <td>4056</td>\n",
       "      <td>Frontal_Sup_R</td>\n",
       "    </tr>\n",
       "    <tr>\n",
       "      <th>95</th>\n",
       "      <td>888</td>\n",
       "      <td>Frontal_Mid_Orb_L</td>\n",
       "    </tr>\n",
       "    <tr>\n",
       "      <th>96</th>\n",
       "      <td>2134</td>\n",
       "      <td>Frontal_Sup_Medial_R</td>\n",
       "    </tr>\n",
       "    <tr>\n",
       "      <th>97</th>\n",
       "      <td>2151</td>\n",
       "      <td>Frontal_Inf_Tri_R</td>\n",
       "    </tr>\n",
       "    <tr>\n",
       "      <th>98</th>\n",
       "      <td>2992</td>\n",
       "      <td>Frontal_Sup_Medial_L</td>\n",
       "    </tr>\n",
       "    <tr>\n",
       "      <th>99</th>\n",
       "      <td>3599</td>\n",
       "      <td>Frontal_Sup_L</td>\n",
       "    </tr>\n",
       "    <tr>\n",
       "      <th>100</th>\n",
       "      <td>4863</td>\n",
       "      <td>Frontal_Mid_L</td>\n",
       "    </tr>\n",
       "    <tr>\n",
       "      <th>101</th>\n",
       "      <td>1690</td>\n",
       "      <td>Frontal_Inf_Orb_L</td>\n",
       "    </tr>\n",
       "    <tr>\n",
       "      <th>102</th>\n",
       "      <td>2529</td>\n",
       "      <td>Frontal_Inf_Tri_L</td>\n",
       "    </tr>\n",
       "    <tr>\n",
       "      <th>281</th>\n",
       "      <td>2371</td>\n",
       "      <td>Supp_Motor_Area_R</td>\n",
       "    </tr>\n",
       "    <tr>\n",
       "      <th>282</th>\n",
       "      <td>1400</td>\n",
       "      <td>Cingulum_Ant_L</td>\n",
       "    </tr>\n",
       "    <tr>\n",
       "      <th>283</th>\n",
       "      <td>1313</td>\n",
       "      <td>Cingulum_Ant_R</td>\n",
       "    </tr>\n",
       "    <tr>\n",
       "      <th>284</th>\n",
       "      <td>1399</td>\n",
       "      <td>Frontal_Inf_Oper_R</td>\n",
       "    </tr>\n",
       "    <tr>\n",
       "      <th>285</th>\n",
       "      <td>1770</td>\n",
       "      <td>Insula_R</td>\n",
       "    </tr>\n",
       "    <tr>\n",
       "      <th>286</th>\n",
       "      <td>2134</td>\n",
       "      <td>Frontal_Sup_Medial_R</td>\n",
       "    </tr>\n",
       "    <tr>\n",
       "      <th>287</th>\n",
       "      <td>15570</td>\n",
       "      <td>Frontal_Mid_L; Frontal_Sup_L; Frontal_Inf_Orb_...</td>\n",
       "    </tr>\n",
       "    <tr>\n",
       "      <th>288</th>\n",
       "      <td>16429</td>\n",
       "      <td>Frontal_Mid_R; Frontal_Sup_R; Frontal_Inf_Orb_...</td>\n",
       "    </tr>\n",
       "    <tr>\n",
       "      <th>289</th>\n",
       "      <td>2147</td>\n",
       "      <td>Supp_Motor_Area_L</td>\n",
       "    </tr>\n",
       "    <tr>\n",
       "      <th>290</th>\n",
       "      <td>2151</td>\n",
       "      <td>Frontal_Inf_Tri_R</td>\n",
       "    </tr>\n",
       "    <tr>\n",
       "      <th>291</th>\n",
       "      <td>2151</td>\n",
       "      <td>Frontal_Inf_Tri_R</td>\n",
       "    </tr>\n",
       "    <tr>\n",
       "      <th>292</th>\n",
       "      <td>4863</td>\n",
       "      <td>Frontal_Mid_L</td>\n",
       "    </tr>\n",
       "    <tr>\n",
       "      <th>293</th>\n",
       "      <td>2992</td>\n",
       "      <td>Frontal_Sup_Medial_L</td>\n",
       "    </tr>\n",
       "    <tr>\n",
       "      <th>294</th>\n",
       "      <td>4056</td>\n",
       "      <td>Frontal_Sup_R</td>\n",
       "    </tr>\n",
       "    <tr>\n",
       "      <th>295</th>\n",
       "      <td>5104</td>\n",
       "      <td>Frontal_Mid_R</td>\n",
       "    </tr>\n",
       "    <tr>\n",
       "      <th>296</th>\n",
       "      <td>2529</td>\n",
       "      <td>Frontal_Inf_Tri_L</td>\n",
       "    </tr>\n",
       "    <tr>\n",
       "      <th>297</th>\n",
       "      <td>1858</td>\n",
       "      <td>Insula_L</td>\n",
       "    </tr>\n",
       "    <tr>\n",
       "      <th>298</th>\n",
       "      <td>3599</td>\n",
       "      <td>Frontal_Sup_L</td>\n",
       "    </tr>\n",
       "    <tr>\n",
       "      <th>659</th>\n",
       "      <td>1038</td>\n",
       "      <td>Frontal_Inf_Oper_L</td>\n",
       "    </tr>\n",
       "    <tr>\n",
       "      <th>660</th>\n",
       "      <td>1399</td>\n",
       "      <td>Frontal_Inf_Oper_R</td>\n",
       "    </tr>\n",
       "    <tr>\n",
       "      <th>661</th>\n",
       "      <td>2529</td>\n",
       "      <td>Frontal_Inf_Tri_L</td>\n",
       "    </tr>\n",
       "    <tr>\n",
       "      <th>662</th>\n",
       "      <td>2151</td>\n",
       "      <td>Frontal_Inf_Tri_R</td>\n",
       "    </tr>\n",
       "    <tr>\n",
       "      <th>663</th>\n",
       "      <td>1038</td>\n",
       "      <td>Frontal_Inf_Oper_L</td>\n",
       "    </tr>\n",
       "    <tr>\n",
       "      <th>664</th>\n",
       "      <td>1399</td>\n",
       "      <td>Frontal_Inf_Oper_R</td>\n",
       "    </tr>\n",
       "    <tr>\n",
       "      <th>665</th>\n",
       "      <td>2529</td>\n",
       "      <td>Frontal_Inf_Tri_L</td>\n",
       "    </tr>\n",
       "    <tr>\n",
       "      <th>666</th>\n",
       "      <td>2151</td>\n",
       "      <td>Frontal_Inf_Tri_R</td>\n",
       "    </tr>\n",
       "    <tr>\n",
       "      <th>806</th>\n",
       "      <td>1960</td>\n",
       "      <td>Frontal_Sup_Orb_R; Frontal_Sup_Orb_L</td>\n",
       "    </tr>\n",
       "    <tr>\n",
       "      <th>807</th>\n",
       "      <td>1903</td>\n",
       "      <td>Frontal_Mid_Orb_R; Frontal_Mid_Orb_L</td>\n",
       "    </tr>\n",
       "    <tr>\n",
       "      <th>808</th>\n",
       "      <td>3397</td>\n",
       "      <td>Frontal_Inf_Orb_R; Frontal_Inf_Orb_L</td>\n",
       "    </tr>\n",
       "  </tbody>\n",
       "</table>\n",
       "</div>"
      ],
      "text/plain": [
       "    Voxel.numbers                                                AAL\n",
       "79            997                                  Frontal_Sup_Orb_R\n",
       "80           2371                                  Supp_Motor_Area_R\n",
       "81            963                                  Frontal_Sup_Orb_L\n",
       "82           1313                                     Cingulum_Ant_R\n",
       "83           1858                                           Insula_L\n",
       "84           1770                                           Insula_R\n",
       "85           3381                                       Precentral_R\n",
       "86           1399                                 Frontal_Inf_Oper_R\n",
       "87            856                                  Frontal_Med_Orb_R\n",
       "88            856                                  Frontal_Med_Orb_R\n",
       "89            719                                  Frontal_Med_Orb_L\n",
       "90           2147                                  Supp_Motor_Area_L\n",
       "91           1707                                  Frontal_Inf_Orb_R\n",
       "92           5104                                      Frontal_Mid_R\n",
       "93           1038                                 Frontal_Inf_Oper_L\n",
       "94           4056                                      Frontal_Sup_R\n",
       "95            888                                  Frontal_Mid_Orb_L\n",
       "96           2134                               Frontal_Sup_Medial_R\n",
       "97           2151                                  Frontal_Inf_Tri_R\n",
       "98           2992                               Frontal_Sup_Medial_L\n",
       "99           3599                                      Frontal_Sup_L\n",
       "100          4863                                      Frontal_Mid_L\n",
       "101          1690                                  Frontal_Inf_Orb_L\n",
       "102          2529                                  Frontal_Inf_Tri_L\n",
       "281          2371                                  Supp_Motor_Area_R\n",
       "282          1400                                     Cingulum_Ant_L\n",
       "283          1313                                     Cingulum_Ant_R\n",
       "284          1399                                 Frontal_Inf_Oper_R\n",
       "285          1770                                           Insula_R\n",
       "286          2134                               Frontal_Sup_Medial_R\n",
       "287         15570  Frontal_Mid_L; Frontal_Sup_L; Frontal_Inf_Orb_...\n",
       "288         16429  Frontal_Mid_R; Frontal_Sup_R; Frontal_Inf_Orb_...\n",
       "289          2147                                  Supp_Motor_Area_L\n",
       "290          2151                                  Frontal_Inf_Tri_R\n",
       "291          2151                                  Frontal_Inf_Tri_R\n",
       "292          4863                                      Frontal_Mid_L\n",
       "293          2992                               Frontal_Sup_Medial_L\n",
       "294          4056                                      Frontal_Sup_R\n",
       "295          5104                                      Frontal_Mid_R\n",
       "296          2529                                  Frontal_Inf_Tri_L\n",
       "297          1858                                           Insula_L\n",
       "298          3599                                      Frontal_Sup_L\n",
       "659          1038                                 Frontal_Inf_Oper_L\n",
       "660          1399                                 Frontal_Inf_Oper_R\n",
       "661          2529                                  Frontal_Inf_Tri_L\n",
       "662          2151                                  Frontal_Inf_Tri_R\n",
       "663          1038                                 Frontal_Inf_Oper_L\n",
       "664          1399                                 Frontal_Inf_Oper_R\n",
       "665          2529                                  Frontal_Inf_Tri_L\n",
       "666          2151                                  Frontal_Inf_Tri_R\n",
       "806          1960               Frontal_Sup_Orb_R; Frontal_Sup_Orb_L\n",
       "807          1903               Frontal_Mid_Orb_R; Frontal_Mid_Orb_L\n",
       "808          3397               Frontal_Inf_Orb_R; Frontal_Inf_Orb_L"
      ]
     },
     "execution_count": 12,
     "metadata": {},
     "output_type": "execute_result"
    }
   ],
   "source": [
    "df_copy.loc[df['Voxel.numbers']=='CONVERT_AAL',['Voxel.numbers','AAL']]"
   ]
  },
  {
   "cell_type": "markdown",
   "metadata": {},
   "source": [
    "### Swapping the medians in for the original data\n",
    "\n",
    "This will make it easier to run other analyses. "
   ]
  },
  {
   "cell_type": "code",
   "execution_count": 13,
   "metadata": {
    "collapsed": true
   },
   "outputs": [],
   "source": [
    "df_copy['Accuracy.50.original']=df_copy['Accuracy.50'].copy()\n"
   ]
  },
  {
   "cell_type": "code",
   "execution_count": 15,
   "metadata": {
    "collapsed": true
   },
   "outputs": [],
   "source": [
    "df_copy.loc[~df_copy['Accuracy.50.Median'].isnull(),'Accuracy.50']=df_copy.loc[~df_copy['Accuracy.50.Median'].isnull(),'Accuracy.50.Median']"
   ]
  },
  {
   "cell_type": "markdown",
   "metadata": {},
   "source": [
    "### Swap NR to NaN"
   ]
  },
  {
   "cell_type": "code",
   "execution_count": 20,
   "metadata": {},
   "outputs": [
    {
     "data": {
      "text/plain": [
       "array([6.3000e+02, 1.1100e+02, 3.1500e+02, 1.3500e+02, 1.2500e+02,\n",
       "       1.4000e+02, 9.0400e+02, 2.6800e+02, 9.5400e+02, 9.5600e+02,\n",
       "       1.9090e+03,        nan, 1.1300e+02, 9.9700e+02, 2.3710e+03,\n",
       "       9.6300e+02, 1.3130e+03, 1.8580e+03, 1.7700e+03, 3.3810e+03,\n",
       "       1.3990e+03, 8.5600e+02, 7.1900e+02, 2.1470e+03, 1.7070e+03,\n",
       "       5.1040e+03, 1.0380e+03, 4.0560e+03, 8.8800e+02, 2.1340e+03,\n",
       "       2.1510e+03, 2.9920e+03, 3.5990e+03, 4.8630e+03, 1.6900e+03,\n",
       "       2.5290e+03, 1.0000e+02, 6.8000e+01, 5.4000e+01, 5.2000e+01,\n",
       "       6.3000e+01, 5.9000e+01, 4.6000e+01, 7.3000e+01, 4.8000e+01,\n",
       "       5.3000e+01, 1.1980e+03, 2.9800e+03, 3.3980e+03, 2.3140e+03,\n",
       "       3.0520e+03, 4.3600e+02, 2.6300e+02, 1.4000e+03, 1.5570e+04,\n",
       "       1.6429e+04, 2.5100e+02, 7.7700e+02, 3.3000e+01, 2.8000e+01,\n",
       "       2.6000e+01, 5.2420e+03, 2.3200e+02, 2.1990e+04, 1.5460e+04,\n",
       "       3.7520e+03, 2.2180e+03, 4.2150e+03, 1.2510e+04, 7.9000e+01,\n",
       "       7.1000e+01, 9.2000e+01, 8.2000e+01, 8.6000e+01, 7.6000e+01,\n",
       "       7.0000e+01, 7.5000e+01, 6.0000e+01, 2.7000e+01, 6.2600e+02,\n",
       "       6.9500e+02, 2.5600e+02, 5.0000e+02, 2.3300e+02, 2.7000e+02,\n",
       "       6.5000e+01, 2.4240e+03, 2.1000e+01, 1.2300e+02, 2.0000e+02,\n",
       "       1.7500e+02, 3.7000e+01, 5.0000e+01, 2.5000e+01, 6.6000e+01,\n",
       "       8.5000e+01, 8.3000e+01, 1.3900e+02, 8.8000e+01, 7.5500e+02,\n",
       "       6.2000e+01, 1.2100e+02, 5.0200e+02, 2.6900e+02, 2.6660e+03,\n",
       "       5.1500e+02, 4.7060e+02, 5.7710e+02, 1.7600e+02, 1.4900e+02,\n",
       "       1.2600e+02, 3.3700e+02, 1.2000e+02, 9.3000e+01, 1.9600e+03,\n",
       "       1.9030e+03, 3.3970e+03, 1.7000e+02, 4.1000e+01, 4.5000e+01,\n",
       "       3.9000e+01, 3.5000e+01, 9.9000e+01, 4.3700e+02, 5.2400e+02,\n",
       "       5.8600e+02, 1.6150e+03, 8.0000e+01])"
      ]
     },
     "execution_count": 20,
     "metadata": {},
     "output_type": "execute_result"
    }
   ],
   "source": [
    "df_copy.loc[df_copy['Voxel.numbers']=='NR','Voxel.numbers']='NaN'#.unique()\n",
    "df_copy['Voxel.numbers']=df_copy['Voxel.numbers'].astype('float')\n",
    "df_copy['Voxel.numbers'].unique()"
   ]
  },
  {
   "cell_type": "code",
   "execution_count": 24,
   "metadata": {},
   "outputs": [
    {
     "data": {
      "text/plain": [
       "array([ 36.,  98., 142.,   6., 114., 228., 167.,  14.,  80.,  90., 126.,\n",
       "        39.,  40.,  70., 112.,  72.,  20., 158.,  50.,  18., 405.,   9.,\n",
       "        96., 175., 189.,  12.,  nan,  10., 240.,  38.,  43.,  34.,  22.,\n",
       "       280., 192., 150., 109., 169., 160., 120.,  63., 505., 407., 210.,\n",
       "        15., 200., 108.,  75.,  88.,   8.,  35., 319.,  28., 216., 176.,\n",
       "       255.,  46.,  84., 168.])"
      ]
     },
     "execution_count": 24,
     "metadata": {},
     "output_type": "execute_result"
    }
   ],
   "source": [
    "df_copy.loc[df_copy['Training.setsize']=='NR','Training.setsize']='NaN'#.unique()\n",
    "df_copy['Training.setsize']=df_copy['Training.setsize'].astype('float')\n",
    "df_copy['Training.setsize'].unique()"
   ]
  },
  {
   "cell_type": "code",
   "execution_count": 25,
   "metadata": {
    "collapsed": true
   },
   "outputs": [],
   "source": [
    "df_copy.to_csv('../data_meta_analysis/Data_Classifications_v8b.csv',encoding='utf-8')"
   ]
  }
 ],
 "metadata": {
  "hide_input": false,
  "kernelspec": {
   "display_name": "Python 3",
   "language": "python",
   "name": "python3"
  },
  "language_info": {
   "codemirror_mode": {
    "name": "ipython",
    "version": 3
   },
   "file_extension": ".py",
   "mimetype": "text/x-python",
   "name": "python",
   "nbconvert_exporter": "python",
   "pygments_lexer": "ipython3",
   "version": "3.6.1"
  },
  "toc": {
   "nav_menu": {},
   "number_sections": true,
   "sideBar": true,
   "skip_h1_title": false,
   "toc_cell": false,
   "toc_position": {},
   "toc_section_display": "block",
   "toc_window_display": true
  }
 },
 "nbformat": 4,
 "nbformat_minor": 2
}
