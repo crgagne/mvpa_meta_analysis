{
 "cells": [
  {
   "cell_type": "code",
   "execution_count": 5,
   "metadata": {
    "collapsed": false,
    "init_cell": true
   },
   "outputs": [],
   "source": [
    "library(nlme)\n",
    "library(multcomp)\n",
    "options(jupyter.plot_mimetypes = \"image/png\")\n",
    "library(ggplot2)\n",
    "library(corrplot)\n",
    "library(gridExtra)\n",
    "library(grid)\n",
    "library(data.table)\n",
    "library(effects)\n",
    "library(xtable)\n",
    "library(reshape)\n",
    "library(lsmeans)"
   ]
  },
  {
   "cell_type": "markdown",
   "metadata": {},
   "source": [
    "# Load Data"
   ]
  },
  {
   "cell_type": "code",
   "execution_count": 6,
   "metadata": {
    "collapsed": true
   },
   "outputs": [],
   "source": [
    "stat_sum_single <- function(fun, geom=\"point\", ...) {\n",
    "  stat_summary(fun.y=fun, colour=\"red\", geom=geom, size = 3, ...)\n",
    "}"
   ]
  },
  {
   "cell_type": "code",
   "execution_count": 7,
   "metadata": {
    "collapsed": false,
    "init_cell": true
   },
   "outputs": [
    {
     "data": {
      "text/html": [
       "<ol class=list-inline>\n",
       "\t<li>'R3Precentral'</li>\n",
       "\t<li>'R3Frontal_Mid'</li>\n",
       "\t<li>'R3Frontal_Mid_Orb'</li>\n",
       "\t<li>'R3Frontal_Inf_Orb'</li>\n",
       "\t<li>'R3Frontal_Inf_Oper'</li>\n",
       "\t<li>'R3Frontal_Inf_Tri'</li>\n",
       "\t<li>'R3Supp_Motor_Area'</li>\n",
       "\t<li>'R3Cingulum_Mid'</li>\n",
       "\t<li>'R3Cingulum_Ant'</li>\n",
       "\t<li>'R3Frontal_Sup'</li>\n",
       "\t<li>'R3Frontal_Sup_Medial'</li>\n",
       "\t<li>'R3Insula'</li>\n",
       "</ol>\n"
      ],
      "text/latex": [
       "\\begin{enumerate*}\n",
       "\\item 'R3Precentral'\n",
       "\\item 'R3Frontal_Mid'\n",
       "\\item 'R3Frontal_Mid_Orb'\n",
       "\\item 'R3Frontal_Inf_Orb'\n",
       "\\item 'R3Frontal_Inf_Oper'\n",
       "\\item 'R3Frontal_Inf_Tri'\n",
       "\\item 'R3Supp_Motor_Area'\n",
       "\\item 'R3Cingulum_Mid'\n",
       "\\item 'R3Cingulum_Ant'\n",
       "\\item 'R3Frontal_Sup'\n",
       "\\item 'R3Frontal_Sup_Medial'\n",
       "\\item 'R3Insula'\n",
       "\\end{enumerate*}\n"
      ],
      "text/markdown": [
       "1. 'R3Precentral'\n",
       "2. 'R3Frontal_Mid'\n",
       "3. 'R3Frontal_Mid_Orb'\n",
       "4. 'R3Frontal_Inf_Orb'\n",
       "5. 'R3Frontal_Inf_Oper'\n",
       "6. 'R3Frontal_Inf_Tri'\n",
       "7. 'R3Supp_Motor_Area'\n",
       "8. 'R3Cingulum_Mid'\n",
       "9. 'R3Cingulum_Ant'\n",
       "10. 'R3Frontal_Sup'\n",
       "11. 'R3Frontal_Sup_Medial'\n",
       "12. 'R3Insula'\n",
       "\n",
       "\n"
      ],
      "text/plain": [
       " [1] \"R3Precentral\"         \"R3Frontal_Mid\"        \"R3Frontal_Mid_Orb\"   \n",
       " [4] \"R3Frontal_Inf_Orb\"    \"R3Frontal_Inf_Oper\"   \"R3Frontal_Inf_Tri\"   \n",
       " [7] \"R3Supp_Motor_Area\"    \"R3Cingulum_Mid\"       \"R3Cingulum_Ant\"      \n",
       "[10] \"R3Frontal_Sup\"        \"R3Frontal_Sup_Medial\" \"R3Insula\"            "
      ]
     },
     "execution_count": 7,
     "metadata": {},
     "output_type": "execute_result"
    }
   ],
   "source": [
    "data = read.csv(\"../data_meta_analysis/Data_Classifications_v7.csv\")\n",
    "\n",
    "data<-data[c('PID','Info.type','Accuracy.50','Significance','Roi.Search',\n",
    "             'Pattern.type','Classifier.type','Scanner','Smoothing','Coregistration','Pattern.normalization.type','Num_subs')]\n",
    "\n",
    "factors<-c('Info.type','Significance','Roi.Search',\n",
    "             'Pattern.type','Classifier.type','Scanner','Smoothing','Coregistration','Pattern.normalization.type','Num_subs')\n",
    "\n",
    "for (pid in unique(data$PID)){\n",
    "    #print('--')\n",
    "    #print(pid)\n",
    "    #print(nrow(data1[data1$PID==pid,]))\n",
    "    #print('--')\n",
    "    data[data$PID==pid,'n_per_study']=nrow(data[data$PID==pid,])\n",
    "}\n",
    "\n",
    "R3 = read.csv(paste(\"../data_meta_analysis/data_derived_meta_analysis/X_region1_after_clustering_lr_2.csv\"))\n",
    "R3names = colnames(R3)\n",
    "\n",
    "i=1\n",
    "for (name in R3names){\n",
    "    R3names[i]<-paste(sep='','R3',name)\n",
    "    i=i+1\n",
    "}\n",
    "R3names\n",
    "colnames(R3)<-R3names\n"
   ]
  },
  {
   "cell_type": "code",
   "execution_count": 8,
   "metadata": {
    "collapsed": false,
    "init_cell": true
   },
   "outputs": [
    {
     "data": {
      "text/html": [
       "506"
      ],
      "text/latex": [
       "506"
      ],
      "text/markdown": [
       "506"
      ],
      "text/plain": [
       "[1] 506"
      ]
     },
     "execution_count": 8,
     "metadata": {},
     "output_type": "execute_result"
    }
   ],
   "source": [
    "data = cbind(data,R3) # will bind with other region names too \n",
    "\n",
    "\n",
    "# mscl fixed \n",
    "data<-data[!data$Classifier.type=='neural-net',] # no observations but still has a level\n",
    "data[data$Scanner=='4T','Scanner']='3T' # only one observatoin with 3T\n",
    "\n",
    "data$PID<-as.factor(data$PID)\n",
    "data$Info.type<-as.factor(data$Info.type)\n",
    "data$Smoothing<-as.factor(data$Smoothing)\n",
    "data$Roi.Search<-as.factor(data$Roi.Search)\n",
    "data$Classifier.type<-as.factor(data$Classifier.type)\n",
    "data$Coregistration<-as.factor(data$Coregistration)\n",
    "data$Pattern.type<-as.factor(data$Pattern.type)\n",
    "\n",
    "#data[data$Pattern.normalization.type=='Normalized Spatially']\n",
    "\n",
    "data$Pattern.normalization.type<-as.factor(data$Pattern.normalization.type)\n",
    "\n",
    "data<-droplevels(data)\n",
    "\n",
    "data_50<-subset(data,!is.na(Accuracy.50))\n",
    "data_50_non<-subset(data,!is.na(Accuracy.50)& Significance==0)\n",
    "data_50_sig<-subset(data,!is.na(Accuracy.50) & Significance==1)\n",
    "#head(data_50_sig)\n",
    "nrow(data_50_sig)\n",
    "\n",
    "\n"
   ]
  },
  {
   "cell_type": "code",
   "execution_count": 9,
   "metadata": {
    "collapsed": false
   },
   "outputs": [
    {
     "data": {
      "text/html": [
       "<table>\n",
       "<thead><tr><th></th><th scope=col>Accuracy.50</th><th scope=col>PID</th><th scope=col>R3Precentral</th><th scope=col>R3Frontal_Mid</th><th scope=col>R3Frontal_Mid_Orb</th><th scope=col>R3Frontal_Inf_Orb</th><th scope=col>R3Frontal_Inf_Oper</th><th scope=col>R3Frontal_Inf_Tri</th><th scope=col>R3Supp_Motor_Area</th><th scope=col>R3Cingulum_Mid</th><th scope=col>R3Cingulum_Ant</th><th scope=col>R3Frontal_Sup</th><th scope=col>R3Frontal_Sup_Medial</th><th scope=col>R3Insula</th></tr></thead>\n",
       "<tbody>\n",
       "\t<tr><th scope=row>2</th><td>0.52</td><td>93</td><td>0</td><td>0</td><td>0</td><td>0</td><td>0</td><td>0</td><td>0</td><td>0</td><td>0</td><td>0</td><td>1</td><td>0</td></tr>\n",
       "\t<tr><th scope=row>3</th><td>0.52</td><td>93</td><td>0</td><td>0</td><td>0</td><td>0</td><td>0</td><td>0</td><td>0</td><td>0</td><td>0</td><td>0</td><td>1</td><td>0</td></tr>\n",
       "\t<tr><th scope=row>4</th><td>0.52</td><td>93</td><td>0</td><td>0</td><td>0</td><td>0</td><td>0</td><td>0</td><td>0</td><td>0</td><td>0</td><td>0</td><td>1</td><td>0</td></tr>\n",
       "\t<tr><th scope=row>5</th><td>0.52</td><td>93</td><td>0</td><td>0</td><td>0</td><td>0</td><td>0</td><td>0</td><td>0</td><td>0</td><td>0</td><td>0</td><td>1</td><td>0</td></tr>\n",
       "\t<tr><th scope=row>6</th><td>0.525</td><td>93</td><td>0</td><td>0</td><td>0</td><td>0</td><td>0</td><td>0</td><td>0</td><td>0</td><td>0</td><td>0</td><td>1</td><td>0</td></tr>\n",
       "\t<tr><th scope=row>7</th><td>0.53</td><td>93</td><td>0</td><td>0</td><td>0</td><td>0</td><td>0</td><td>0</td><td>0</td><td>0</td><td>0</td><td>0</td><td>1</td><td>0</td></tr>\n",
       "</tbody>\n",
       "</table>\n"
      ],
      "text/latex": [
       "\\begin{tabular}{r|llllllllllllll}\n",
       "  & Accuracy.50 & PID & R3Precentral & R3Frontal_Mid & R3Frontal_Mid_Orb & R3Frontal_Inf_Orb & R3Frontal_Inf_Oper & R3Frontal_Inf_Tri & R3Supp_Motor_Area & R3Cingulum_Mid & R3Cingulum_Ant & R3Frontal_Sup & R3Frontal_Sup_Medial & R3Insula\\\\\n",
       "\\hline\n",
       "\t2 & 0.52 & 93 & 0 & 0 & 0 & 0 & 0 & 0 & 0 & 0 & 0 & 0 & 1 & 0\\\\\n",
       "\t3 & 0.52 & 93 & 0 & 0 & 0 & 0 & 0 & 0 & 0 & 0 & 0 & 0 & 1 & 0\\\\\n",
       "\t4 & 0.52 & 93 & 0 & 0 & 0 & 0 & 0 & 0 & 0 & 0 & 0 & 0 & 1 & 0\\\\\n",
       "\t5 & 0.52 & 93 & 0 & 0 & 0 & 0 & 0 & 0 & 0 & 0 & 0 & 0 & 1 & 0\\\\\n",
       "\t6 & 0.525 & 93 & 0 & 0 & 0 & 0 & 0 & 0 & 0 & 0 & 0 & 0 & 1 & 0\\\\\n",
       "\t7 & 0.53 & 93 & 0 & 0 & 0 & 0 & 0 & 0 & 0 & 0 & 0 & 0 & 1 & 0\\\\\n",
       "\\end{tabular}\n"
      ],
      "text/plain": [
       "  Accuracy.50 PID R3Precentral R3Frontal_Mid R3Frontal_Mid_Orb\n",
       "2       0.520  93            0             0                 0\n",
       "3       0.520  93            0             0                 0\n",
       "4       0.520  93            0             0                 0\n",
       "5       0.520  93            0             0                 0\n",
       "6       0.525  93            0             0                 0\n",
       "7       0.530  93            0             0                 0\n",
       "  R3Frontal_Inf_Orb R3Frontal_Inf_Oper R3Frontal_Inf_Tri R3Supp_Motor_Area\n",
       "2                 0                  0                 0                 0\n",
       "3                 0                  0                 0                 0\n",
       "4                 0                  0                 0                 0\n",
       "5                 0                  0                 0                 0\n",
       "6                 0                  0                 0                 0\n",
       "7                 0                  0                 0                 0\n",
       "  R3Cingulum_Mid R3Cingulum_Ant R3Frontal_Sup R3Frontal_Sup_Medial R3Insula\n",
       "2              0              0             0                    1        0\n",
       "3              0              0             0                    1        0\n",
       "4              0              0             0                    1        0\n",
       "5              0              0             0                    1        0\n",
       "6              0              0             0                    1        0\n",
       "7              0              0             0                    1        0"
      ]
     },
     "execution_count": 9,
     "metadata": {},
     "output_type": "execute_result"
    },
    {
     "data": {
      "text/html": [
       "506"
      ],
      "text/latex": [
       "506"
      ],
      "text/markdown": [
       "506"
      ],
      "text/plain": [
       "[1] 506"
      ]
     },
     "execution_count": 9,
     "metadata": {},
     "output_type": "execute_result"
    }
   ],
   "source": [
    "d<-data_50_sig[c('Accuracy.50','PID',R3names)]\n",
    "head(d)\n",
    "nrow(d)"
   ]
  },
  {
   "cell_type": "markdown",
   "metadata": {},
   "source": [
    "# Mixed Effects "
   ]
  },
  {
   "cell_type": "code",
   "execution_count": 10,
   "metadata": {
    "collapsed": false
   },
   "outputs": [
    {
     "data": {
      "text/html": [
       "'R3Precentral+R3Frontal_Mid+R3Frontal_Mid_Orb+R3Frontal_Inf_Orb+R3Frontal_Inf_Oper+R3Frontal_Inf_Tri+R3Supp_Motor_Area+R3Cingulum_Mid+R3Cingulum_Ant+R3Frontal_Sup+R3Frontal_Sup_Medial+R3Insula'"
      ],
      "text/latex": [
       "'R3Precentral+R3Frontal_Mid+R3Frontal_Mid_Orb+R3Frontal_Inf_Orb+R3Frontal_Inf_Oper+R3Frontal_Inf_Tri+R3Supp_Motor_Area+R3Cingulum_Mid+R3Cingulum_Ant+R3Frontal_Sup+R3Frontal_Sup_Medial+R3Insula'"
      ],
      "text/markdown": [
       "'R3Precentral+R3Frontal_Mid+R3Frontal_Mid_Orb+R3Frontal_Inf_Orb+R3Frontal_Inf_Oper+R3Frontal_Inf_Tri+R3Supp_Motor_Area+R3Cingulum_Mid+R3Cingulum_Ant+R3Frontal_Sup+R3Frontal_Sup_Medial+R3Insula'"
      ],
      "text/plain": [
       "[1] \"R3Precentral+R3Frontal_Mid+R3Frontal_Mid_Orb+R3Frontal_Inf_Orb+R3Frontal_Inf_Oper+R3Frontal_Inf_Tri+R3Supp_Motor_Area+R3Cingulum_Mid+R3Cingulum_Ant+R3Frontal_Sup+R3Frontal_Sup_Medial+R3Insula\""
      ]
     },
     "execution_count": 10,
     "metadata": {},
     "output_type": "execute_result"
    }
   ],
   "source": [
    "R1names_string<-c()\n",
    "for (R in R3names){\n",
    "    R1names_string<-paste(R1names_string,R,sep='+')\n",
    "    \n",
    "}\n",
    "R1names_string<-substring(R1names_string, 2)\n",
    "R1names_string"
   ]
  },
  {
   "cell_type": "code",
   "execution_count": 11,
   "metadata": {
    "collapsed": false
   },
   "outputs": [
    {
     "data": {
      "text/plain": [
       "Linear mixed-effects model fit by REML\n",
       " Data: d \n",
       "        AIC       BIC   logLik\n",
       "  -1296.033 -1237.198 662.0166\n",
       "\n",
       "Random effects:\n",
       " Formula: ~1 | PID\n",
       "        (Intercept)   Residual\n",
       "StdDev:  0.06498947 0.05220903\n",
       "\n",
       "Fixed effects: as.formula(paste(\"Accuracy.50_wo_gmean~-1+\", R1names_string,      sep = \"\")) \n",
       "                            Value   Std.Error  DF    t-value p-value\n",
       "R3Precentral          0.010603196 0.008491684 420  1.2486564  0.2125\n",
       "R3Frontal_Mid        -0.017075153 0.007701780 420 -2.2170398  0.0272\n",
       "R3Frontal_Mid_Orb    -0.029015477 0.014396023 420 -2.0155204  0.0445\n",
       "R3Frontal_Inf_Orb     0.010946019 0.013059354 420  0.8381746  0.4024\n",
       "R3Frontal_Inf_Oper   -0.012460577 0.012076341 420 -1.0318173  0.3028\n",
       "R3Frontal_Inf_Tri    -0.002980384 0.010325944 420 -0.2886306  0.7730\n",
       "R3Supp_Motor_Area     0.014498129 0.010282498 420  1.4099813  0.1593\n",
       "R3Cingulum_Mid        0.003470424 0.015773606 420  0.2200146  0.8260\n",
       "R3Cingulum_Ant        0.016040472 0.014001470 420  1.1456277  0.2526\n",
       "R3Frontal_Sup         0.005501433 0.010287602 420  0.5347634  0.5931\n",
       "R3Frontal_Sup_Medial -0.007872136 0.010457768 420 -0.7527549  0.4520\n",
       "R3Insula             -0.024394174 0.017853784 420 -1.3663308  0.1726\n",
       " Correlation: \n",
       "                     R3Prcn R3Fr_M R3F_M_ R3Frntl_Inf_Or R3Frntl_Inf_Op R3F_I_T\n",
       "R3Frontal_Mid         0.380                                                    \n",
       "R3Frontal_Mid_Orb     0.152  0.162                                             \n",
       "R3Frontal_Inf_Orb     0.089  0.104 -0.201                                      \n",
       "R3Frontal_Inf_Oper    0.138  0.134  0.135 -0.187                               \n",
       "R3Frontal_Inf_Tri     0.142  0.097  0.127 -0.092         -0.274                \n",
       "R3Supp_Motor_Area     0.460  0.228  0.129  0.070          0.107          0.036 \n",
       "R3Cingulum_Mid        0.233  0.177  0.051  0.029          0.063          0.050 \n",
       "R3Cingulum_Ant        0.126  0.205  0.094  0.070          0.054          0.073 \n",
       "R3Frontal_Sup         0.242  0.100  0.070  0.096          0.110          0.060 \n",
       "R3Frontal_Sup_Medial  0.075  0.036  0.063  0.027          0.010          0.194 \n",
       "R3Insula              0.112  0.121  0.122  0.061         -0.025          0.250 \n",
       "                     R3S_M_ R3Cn_M R3Cn_A R3Fr_S R3F_S_\n",
       "R3Frontal_Mid                                          \n",
       "R3Frontal_Mid_Orb                                      \n",
       "R3Frontal_Inf_Orb                                      \n",
       "R3Frontal_Inf_Oper                                     \n",
       "R3Frontal_Inf_Tri                                      \n",
       "R3Supp_Motor_Area                                      \n",
       "R3Cingulum_Mid        0.163                            \n",
       "R3Cingulum_Ant        0.062 -0.176                     \n",
       "R3Frontal_Sup         0.090  0.129  0.108              \n",
       "R3Frontal_Sup_Medial -0.008  0.065 -0.067 -0.160       \n",
       "R3Insula              0.063  0.047  0.080  0.076  0.184\n",
       "\n",
       "Standardized Within-Group Residuals:\n",
       "       Min         Q1        Med         Q3        Max \n",
       "-2.4947567 -0.5009094 -0.1126923  0.3263622  4.6667429 \n",
       "\n",
       "Number of Observations: 506\n",
       "Number of Groups: 75 "
      ]
     },
     "execution_count": 11,
     "metadata": {},
     "output_type": "execute_result"
    }
   ],
   "source": [
    "d<-data_50_sig[c('Accuracy.50','PID',R3names)]\n",
    "gmean<-mean(d$Accuracy.50)\n",
    "d$Accuracy.50_wo_gmean<-d$Accuracy.50-gmean\n",
    "region_model<-lme(as.formula(paste('Accuracy.50_wo_gmean~-1+',R1names_string,sep='')),random=~1|PID,data=d,method='REML')\n",
    "summary(region_model)"
   ]
  },
  {
   "cell_type": "code",
   "execution_count": 12,
   "metadata": {
    "collapsed": false
   },
   "outputs": [],
   "source": [
    "#summary(region_model)"
   ]
  },
  {
   "cell_type": "code",
   "execution_count": 13,
   "metadata": {
    "collapsed": false
   },
   "outputs": [],
   "source": [
    "#lsmeans(region_model,pairwise~.,adjust='Tukey')"
   ]
  },
  {
   "cell_type": "code",
   "execution_count": 14,
   "metadata": {
    "collapsed": false
   },
   "outputs": [
    {
     "data": {
      "text/html": [
       "<ol class=list-inline>\n",
       "\t<li>'Precentral'</li>\n",
       "\t<li>'Frontal_Mid'</li>\n",
       "\t<li>'Frontal_Mid_Orb'</li>\n",
       "\t<li>'Frontal_Inf_Orb'</li>\n",
       "\t<li>'Frontal_Inf_Oper'</li>\n",
       "\t<li>'Frontal_Inf_Tri'</li>\n",
       "\t<li>'Supp_Motor_Area'</li>\n",
       "\t<li>'Cingulum_Mid'</li>\n",
       "\t<li>'Cingulum_Ant'</li>\n",
       "\t<li>'Frontal_Sup'</li>\n",
       "\t<li>'Frontal_Sup_Medial'</li>\n",
       "\t<li>'Insula'</li>\n",
       "</ol>\n"
      ],
      "text/latex": [
       "\\begin{enumerate*}\n",
       "\\item 'Precentral'\n",
       "\\item 'Frontal_Mid'\n",
       "\\item 'Frontal_Mid_Orb'\n",
       "\\item 'Frontal_Inf_Orb'\n",
       "\\item 'Frontal_Inf_Oper'\n",
       "\\item 'Frontal_Inf_Tri'\n",
       "\\item 'Supp_Motor_Area'\n",
       "\\item 'Cingulum_Mid'\n",
       "\\item 'Cingulum_Ant'\n",
       "\\item 'Frontal_Sup'\n",
       "\\item 'Frontal_Sup_Medial'\n",
       "\\item 'Insula'\n",
       "\\end{enumerate*}\n"
      ],
      "text/markdown": [
       "1. 'Precentral'\n",
       "2. 'Frontal_Mid'\n",
       "3. 'Frontal_Mid_Orb'\n",
       "4. 'Frontal_Inf_Orb'\n",
       "5. 'Frontal_Inf_Oper'\n",
       "6. 'Frontal_Inf_Tri'\n",
       "7. 'Supp_Motor_Area'\n",
       "8. 'Cingulum_Mid'\n",
       "9. 'Cingulum_Ant'\n",
       "10. 'Frontal_Sup'\n",
       "11. 'Frontal_Sup_Medial'\n",
       "12. 'Insula'\n",
       "\n",
       "\n"
      ],
      "text/plain": [
       " [1] \"Precentral\"         \"Frontal_Mid\"        \"Frontal_Mid_Orb\"   \n",
       " [4] \"Frontal_Inf_Orb\"    \"Frontal_Inf_Oper\"   \"Frontal_Inf_Tri\"   \n",
       " [7] \"Supp_Motor_Area\"    \"Cingulum_Mid\"       \"Cingulum_Ant\"      \n",
       "[10] \"Frontal_Sup\"        \"Frontal_Sup_Medial\" \"Insula\"            "
      ]
     },
     "execution_count": 14,
     "metadata": {},
     "output_type": "execute_result"
    }
   ],
   "source": [
    "R3namesnew<-c()\n",
    "for (R in R3names){\n",
    "    R3namesnew<-c(R3namesnew,gsub(\"R3\", \"\",R))\n",
    "    \n",
    "}\n",
    "R3namesnew"
   ]
  },
  {
   "cell_type": "code",
   "execution_count": 15,
   "metadata": {
    "collapsed": true
   },
   "outputs": [],
   "source": [
    "# get data for plot \n",
    "fits<-c()\n",
    "se<-c()\n",
    "i=1\n",
    "for (name in R3names){\n",
    "    ef<-effect(name,region_model)\n",
    "    fits[i]<-tail(ef$fit, n=1)\n",
    "    se[i]<-tail(ef$se, n=1)\n",
    "    i=i+1 \n",
    "}\n",
    "dd = data.table(name=R3namesnew,se=se,Accuracy=fits)\n",
    "\n"
   ]
  },
  {
   "cell_type": "code",
   "execution_count": 16,
   "metadata": {
    "collapsed": false
   },
   "outputs": [
    {
     "ename": "ERROR",
     "evalue": "Error in `[.data.table`(dd, \"Accuracy\"): When i is a data.table (or character vector), x must be keyed (i.e. sorted, and, marked as sorted) so data.table knows which columns to join to and take advantage of x being sorted. Call setkey(x,...) first, see ?setkey.\n",
     "output_type": "error",
     "traceback": [
      "Error in `[.data.table`(dd, \"Accuracy\"): When i is a data.table (or character vector), x must be keyed (i.e. sorted, and, marked as sorted) so data.table knows which columns to join to and take advantage of x being sorted. Call setkey(x,...) first, see ?setkey.\n"
     ]
    }
   ],
   "source": [
    "dd['Accuracy+Gmean']=dd['Accuracy']+gmean"
   ]
  },
  {
   "cell_type": "code",
   "execution_count": 17,
   "metadata": {
    "collapsed": false
   },
   "outputs": [
    {
     "data": {
      "text/html": [
       "0.613128260869565"
      ],
      "text/latex": [
       "0.613128260869565"
      ],
      "text/markdown": [
       "0.613128260869565"
      ],
      "text/plain": [
       "[1] 0.6131283"
      ]
     },
     "execution_count": 17,
     "metadata": {},
     "output_type": "execute_result"
    }
   ],
   "source": [
    "gmean"
   ]
  },
  {
   "cell_type": "code",
   "execution_count": 18,
   "metadata": {
    "collapsed": false
   },
   "outputs": [
    {
     "data": {
      "text/html": [
       "<table>\n",
       "<thead><tr><th></th><th scope=col>name</th><th scope=col>se</th><th scope=col>Accuracy</th><th scope=col>Accuracy_gmean</th></tr></thead>\n",
       "<tbody>\n",
       "\t<tr><th scope=row>1</th><td>Precentral</td><td>0.01148528</td><td>0.00515548</td><td>0.6182837</td></tr>\n",
       "\t<tr><th scope=row>2</th><td>Frontal_Mid</td><td>0.01066997</td><td>-0.01575745</td><td>0.5973708</td></tr>\n",
       "\t<tr><th scope=row>3</th><td>Frontal_Mid_Orb</td><td>0.01665021</td><td>-0.03051942</td><td>0.5826088</td></tr>\n",
       "\t<tr><th scope=row>4</th><td>Frontal_Inf_Orb</td><td>0.0144774</td><td>0.007618091</td><td>0.6207464</td></tr>\n",
       "\t<tr><th scope=row>5</th><td>Frontal_Inf_Oper</td><td>0.01371015</td><td>-0.01384702</td><td>0.5992812</td></tr>\n",
       "\t<tr><th scope=row>6</th><td>Frontal_Inf_Tri</td><td>0.01233857</td><td>-0.005345342</td><td>0.6077829</td></tr>\n",
       "\t<tr><th scope=row>7</th><td>Supp_Motor_Area</td><td>0.01327331</td><td>0.01032868</td><td>0.6234569</td></tr>\n",
       "\t<tr><th scope=row>8</th><td>Cingulum_Mid</td><td>0.01801578</td><td>0.000595203</td><td>0.6137235</td></tr>\n",
       "\t<tr><th scope=row>9</th><td>Cingulum_Ant</td><td>0.0160108</td><td>0.01254587</td><td>0.6256741</td></tr>\n",
       "\t<tr><th scope=row>10</th><td>Frontal_Sup</td><td>0.01260627</td><td>0.002116222</td><td>0.6152445</td></tr>\n",
       "\t<tr><th scope=row>11</th><td>Frontal_Sup_Medial</td><td>0.01226304</td><td>-0.009564147</td><td>0.6035641</td></tr>\n",
       "\t<tr><th scope=row>12</th><td>Insula</td><td>0.02003215</td><td>-0.02648472</td><td>0.5866435</td></tr>\n",
       "</tbody>\n",
       "</table>\n"
      ],
      "text/latex": [
       "\\begin{tabular}{r|llll}\n",
       "  & name & se & Accuracy & Accuracy_gmean\\\\\n",
       "\\hline\n",
       "\t1 & Precentral & 0.01148528 & 0.00515548 & 0.6182837\\\\\n",
       "\t2 & Frontal_Mid & 0.01066997 & -0.01575745 & 0.5973708\\\\\n",
       "\t3 & Frontal_Mid_Orb & 0.01665021 & -0.03051942 & 0.5826088\\\\\n",
       "\t4 & Frontal_Inf_Orb & 0.0144774 & 0.007618091 & 0.6207464\\\\\n",
       "\t5 & Frontal_Inf_Oper & 0.01371015 & -0.01384702 & 0.5992812\\\\\n",
       "\t6 & Frontal_Inf_Tri & 0.01233857 & -0.005345342 & 0.6077829\\\\\n",
       "\t7 & Supp_Motor_Area & 0.01327331 & 0.01032868 & 0.6234569\\\\\n",
       "\t8 & Cingulum_Mid & 0.01801578 & 0.000595203 & 0.6137235\\\\\n",
       "\t9 & Cingulum_Ant & 0.0160108 & 0.01254587 & 0.6256741\\\\\n",
       "\t10 & Frontal_Sup & 0.01260627 & 0.002116222 & 0.6152445\\\\\n",
       "\t11 & Frontal_Sup_Medial & 0.01226304 & -0.009564147 & 0.6035641\\\\\n",
       "\t12 & Insula & 0.02003215 & -0.02648472 & 0.5866435\\\\\n",
       "\\end{tabular}\n"
      ],
      "text/plain": [
       "                  name         se     Accuracy Accuracy_gmean\n",
       " 1:         Precentral 0.01148528  0.005155480      0.6182837\n",
       " 2:        Frontal_Mid 0.01066997 -0.015757449      0.5973708\n",
       " 3:    Frontal_Mid_Orb 0.01665021 -0.030519419      0.5826088\n",
       " 4:    Frontal_Inf_Orb 0.01447740  0.007618091      0.6207464\n",
       " 5:   Frontal_Inf_Oper 0.01371015 -0.013847025      0.5992812\n",
       " 6:    Frontal_Inf_Tri 0.01233857 -0.005345342      0.6077829\n",
       " 7:    Supp_Motor_Area 0.01327331  0.010328676      0.6234569\n",
       " 8:       Cingulum_Mid 0.01801578  0.000595203      0.6137235\n",
       " 9:       Cingulum_Ant 0.01601080  0.012545875      0.6256741\n",
       "10:        Frontal_Sup 0.01260627  0.002116222      0.6152445\n",
       "11: Frontal_Sup_Medial 0.01226304 -0.009564147      0.6035641\n",
       "12:             Insula 0.02003215 -0.026484721      0.5866435"
      ]
     },
     "execution_count": 18,
     "metadata": {},
     "output_type": "execute_result"
    }
   ],
   "source": [
    "dd$Accuracy_gmean = dd$Accuracy+gmean\n",
    "dd"
   ]
  },
  {
   "cell_type": "code",
   "execution_count": 19,
   "metadata": {
    "collapsed": false
   },
   "outputs": [
    {
     "data": {
      "text/html": [
       "<strong>pdf:</strong> 2"
      ],
      "text/latex": [
       "\\textbf{pdf:} 2"
      ],
      "text/markdown": [
       "**pdf:** 2"
      ],
      "text/plain": [
       "pdf \n",
       "  2 "
      ]
     },
     "execution_count": 19,
     "metadata": {},
     "output_type": "execute_result"
    },
    {
     "data": {
      "text/html": [
       "<strong>pdf:</strong> 2"
      ],
      "text/latex": [
       "\\textbf{pdf:} 2"
      ],
      "text/markdown": [
       "**pdf:** 2"
      ],
      "text/plain": [
       "pdf \n",
       "  2 "
      ]
     },
     "execution_count": 19,
     "metadata": {},
     "output_type": "execute_result"
    },
    {
     "data": {
      "image/png": "[encoded data removed]"
     },
     "metadata": {},
     "output_type": "display_data"
    }
   ],
   "source": [
    "\n",
    "\n",
    "p<-ggplot(aes(y = Accuracy, x = name,ymax = Accuracy + se, ymin=Accuracy - se), \n",
    "          data = dd) +\n",
    "geom_point(size=1)+geom_errorbar(width=0.15)\n",
    "\n",
    "mainlinewidth=.5\n",
    "textsize = 8\n",
    "labelsize = 8\n",
    "\n",
    "p<-p+geom_hline(yintercept=0,linetype='dotted')\n",
    "p<-p+theme(axis.line.x = element_line(color=\"black\", size = mainlinewidth),\n",
    "        axis.line.y = element_line(color=\"black\", size = mainlinewidth))\n",
    "\n",
    "p<-p+xlab('Region')\n",
    "p<-p+ylab('Decoding Accuracy \\n (difference from grand mean)')\n",
    "p<-p+theme(panel.background=element_blank())\n",
    "p<-p+theme(axis.text.y = element_text(family=\"Helvetica\",size=textsize,colour='black'))\n",
    "p<-p+theme(axis.text.x = element_text(family=\"Helvetica\",angle = 90, vjust=0.5,\n",
    "                                      hjust = 1,size=textsize,colour='black'))\n",
    "p<-p+theme(plot.title = element_text(family=\"Helvetica\",size=labelsize,colour='black'))\n",
    "p<-p+theme(axis.title.x = element_text(family=\"Helvetica\",size=labelsize,,colour='black'))\n",
    "p<-p+theme(axis.title.y = element_text(family=\"Helvetica\",size=labelsize,hjust=.8,colour='black'))\n",
    "\n",
    "rlabels = c('Anterior cingulate gyrus','Midcingulate area',\n",
    "            'Inferior frontal gyrus, pars opercularis',\n",
    "           'Inferior frontal gyrus, pars orbitalis',\n",
    "            'Inferior frontal gyrus, pars triangularis',\n",
    "           'Middle frontal gyrus',\n",
    "            'Superior & middle frontal gyrus, orbital part',\n",
    "           'Superior frontal gyrus',\n",
    "            'Medial frontal gyrus',\n",
    "            'Insula',\n",
    "            'Precentral gyrus',\n",
    "           'Supplementary motor cortex')\n",
    "p<-p+scale_x_discrete(labels=rlabels)\n",
    "\n",
    "p<-p+theme(axis.ticks.x=element_blank(),axis.ticks.y=element_blank())\n",
    "\n",
    "setEPS()\n",
    "postscript('../Figures/Supp_accuracy_by_region_medium_mixed_effects.eps',width=6,height=4)\n",
    "p\n",
    "dev.off()\n",
    "\n",
    "\n",
    "png('../Figures/Supp_accuracy_by_region_medium_mixed_effects.png',width=6,height=4,\n",
    "     units=\"in\",res=400)\n",
    "p\n",
    "dev.off()\n",
    "options(repr.plot.width=6, repr.plot.height=4)\n",
    "p"
   ]
  },
  {
   "cell_type": "code",
   "execution_count": 20,
   "metadata": {
    "collapsed": false
   },
   "outputs": [
    {
     "data": {
      "text/html": [
       "<table>\n",
       "<thead><tr><th></th><th scope=col>call</th><th scope=col>Model</th><th scope=col>df</th><th scope=col>AIC</th><th scope=col>BIC</th><th scope=col>logLik</th><th scope=col>Test</th><th scope=col>L.Ratio</th><th scope=col>p-value</th></tr></thead>\n",
       "<tbody>\n",
       "\t<tr><th scope=row>region_model_ml</th><td>lme.formula(fixed = as.formula(paste(\"Accuracy.50_wo_gmean~-1+\",     R1names_string, sep = \"\")), data = d, random = ~1 | PID,     method = \"ML\")</td><td>1</td><td>14</td><td>-1382.108</td><td>-1322.936</td><td>705.0538</td><td></td><td>NA</td><td>NA</td></tr>\n",
       "\t<tr><th scope=row>region_model_baseline</th><td>lme.formula(fixed = Accuracy.50_wo_gmean ~ 1, data = d, random = ~1 |     PID, method = \"ML\")</td><td>2</td><td>3</td><td>-1384.061</td><td>-1371.381</td><td>695.0305</td><td>1 vs 2</td><td>20.04656</td><td>0.04470627</td></tr>\n",
       "</tbody>\n",
       "</table>\n"
      ],
      "text/latex": [
       "\\begin{tabular}{r|lllllllll}\n",
       "  & call & Model & df & AIC & BIC & logLik & Test & L.Ratio & p-value\\\\\n",
       "\\hline\n",
       "\tregion_model_ml & lme.formula(fixed = as.formula(paste(\"Accuracy.50_wo_gmean~-1+\",     R1names_string, sep = \"\")), data = d, random = ~1 | PID,     method = \"ML\") & 1 & 14 & -1382.108 & -1322.936 & 705.0538 &  & NA & NA\\\\\n",
       "\tregion_model_baseline & lme.formula(fixed = Accuracy.50_wo_gmean ~ 1, data = d, random = ~1 |     PID, method = \"ML\") & 2 & 3 & -1384.061 & -1371.381 & 695.0305 & 1 vs 2 & 20.04656 & 0.04470627\\\\\n",
       "\\end{tabular}\n"
      ],
      "text/plain": [
       "                      Model df       AIC       BIC   logLik   Test  L.Ratio\n",
       "region_model_ml           1 14 -1382.108 -1322.936 705.0538                \n",
       "region_model_baseline     2  3 -1384.061 -1371.381 695.0305 1 vs 2 20.04656\n",
       "                      p-value\n",
       "region_model_ml              \n",
       "region_model_baseline  0.0447"
      ]
     },
     "execution_count": 20,
     "metadata": {},
     "output_type": "execute_result"
    }
   ],
   "source": [
    "region_model_ml<-lme(as.formula(paste('Accuracy.50_wo_gmean~-1+',R1names_string,sep='')),random=~1|PID,data=d,method='ML')\n",
    "region_model_baseline<-lme(Accuracy.50_wo_gmean~1,random=~1|PID,data=d,method='ML')\n",
    "anova(region_model_ml,region_model_baseline)\n"
   ]
  }
 ],
 "metadata": {
  "hide_input": false,
  "kernelspec": {
   "display_name": "R",
   "language": "R",
   "name": "ir"
  },
  "language_info": {
   "codemirror_mode": "r",
   "file_extension": ".r",
   "mimetype": "text/x-r-source",
   "name": "R",
   "pygments_lexer": "r",
   "version": "3.2.2"
  }
 },
 "nbformat": 4,
 "nbformat_minor": 0
}
