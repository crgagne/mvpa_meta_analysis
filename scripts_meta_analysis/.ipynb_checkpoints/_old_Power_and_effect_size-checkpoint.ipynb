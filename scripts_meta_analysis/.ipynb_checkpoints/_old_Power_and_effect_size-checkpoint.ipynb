{
 "cells": [
  {
   "cell_type": "code",
   "execution_count": 12,
   "metadata": {
    "collapsed": true
   },
   "outputs": [],
   "source": [
    "import numpy as np\n",
    "import matplotlib.pyplot as plt\n",
    "import scipy.stats\n",
    "%matplotlib inline"
   ]
  },
  {
   "cell_type": "code",
   "execution_count": 2,
   "metadata": {
    "collapsed": false
   },
   "outputs": [],
   "source": [
    "boot_results_frontal_sig = np.load('../data_meta_analysis/data_derived_meta_analysis/bootstrap_results_sig.npz')\n",
    "boot_results_frontal_non = np.load('../data_meta_analysis/data_derived_meta_analysis/bootstrap_results_nonsig.npz')\n"
   ]
  },
  {
   "cell_type": "code",
   "execution_count": 3,
   "metadata": {
    "collapsed": true
   },
   "outputs": [],
   "source": [
    "\n",
    "epcdf_store_frontal_sig = boot_results_frontal_sig['epcdf_store']\n",
    "eppdf_store_frontal_sig = boot_results_frontal_sig['eppdf_store']\n",
    "meann_frontal_sig = boot_results_frontal_sig['meann']\n",
    "mediann_frontal_sig = boot_results_frontal_sig['mediann']\n",
    "meann_study_frontal_sig=boot_results_frontal_sig['meann_study']\n",
    "perc25_frontal_sig = boot_results_frontal_sig['perc25']\n",
    "perc75_frontal_sig = boot_results_frontal_sig['perc75']\n",
    "\n",
    "epcdf_store_frontal_non = boot_results_frontal_non['epcdf_store']\n",
    "eppdf_store_frontal_non = boot_results_frontal_non['eppdf_store']\n",
    "meann_frontal_non = boot_results_frontal_non['meann']\n",
    "mediann_frontal_non = boot_results_frontal_non['mediann']\n",
    "meann_study_frontal_non=boot_results_frontal_non['meann_study']\n",
    "perc25_frontal_non = boot_results_frontal_non['perc25']\n",
    "perc75_frontal_non = boot_results_frontal_non['perc75']"
   ]
  },
  {
   "cell_type": "code",
   "execution_count": 34,
   "metadata": {
    "collapsed": false,
    "scrolled": true
   },
   "outputs": [],
   "source": [
    "#plt.plot(eppdf_store_frontal_sig[0,:])"
   ]
  },
  {
   "cell_type": "markdown",
   "metadata": {},
   "source": [
    "# Variance t..\n",
    "\n",
    "\n",
    "1. get a boot of my Xbars - null? \n",
    "2. calculate SE(X) from P(N=n), Xbar(n). assumes they observe SE(X) not estimating it\n",
    "3. calculate SE(Xbar_n) for each n=5..60\n",
    "4. draw Xbar (assumes alt but don't adjust for n\n",
    "4. calculate T95dfn-1 [1.95,..2.1]\n",
    "4. calculate Xbar_n>T95*SE(X_n) \n",
    "\n"
   ]
  },
  {
   "cell_type": "markdown",
   "metadata": {
    "collapsed": true
   },
   "source": [
    "# Sampling From T-Distributions \n",
    "- Just to check some stuff\n"
   ]
  },
  {
   "cell_type": "code",
   "execution_count": 18,
   "metadata": {
    "collapsed": false,
    "scrolled": true
   },
   "outputs": [
    {
     "data": {
      "text/plain": [
       "(array([   1.,    0.,    1.,    0.,    0.,    1.,    0.,    0.,    0.,\n",
       "           0.,    0.,    0.,    0.,    3.,    4.,    7.,    3.,    1.,\n",
       "           5.,    6.,   11.,   10.,   13.,   21.,   24.,   30.,   45.,\n",
       "          33.,   48.,   65.,   88.,   93.,  116.,  168.,  189.,  231.,\n",
       "         259.,  315.,  365.,  436.,  467.,  460.,  518.,  542.,  536.,\n",
       "         548.,  543.,  453.,  459.,  421.,  392.,  325.,  275.,  254.,\n",
       "         232.,  174.,  159.,  123.,  110.,   80.,   74.,   59.,   43.,\n",
       "          32.,   30.,   20.,   19.,    9.,   14.,    4.,    6.,    2.,\n",
       "           6.,    3.,    2.,    0.,    4.,    3.,    1.,    0.,    1.,\n",
       "           0.,    0.,    0.,    2.,    0.,    0.,    1.,    0.,    0.,\n",
       "           0.,    0.,    0.,    0.,    0.,    0.,    0.,    0.,    1.,    1.]),\n",
       " array([-6.57858129, -6.43192834, -6.2852754 , -6.13862245, -5.99196951,\n",
       "        -5.84531656, -5.69866362, -5.55201068, -5.40535773, -5.25870479,\n",
       "        -5.11205184, -4.9653989 , -4.81874595, -4.67209301, -4.52544007,\n",
       "        -4.37878712, -4.23213418, -4.08548123, -3.93882829, -3.79217534,\n",
       "        -3.6455224 , -3.49886946, -3.35221651, -3.20556357, -3.05891062,\n",
       "        -2.91225768, -2.76560473, -2.61895179, -2.47229885, -2.3256459 ,\n",
       "        -2.17899296, -2.03234001, -1.88568707, -1.73903413, -1.59238118,\n",
       "        -1.44572824, -1.29907529, -1.15242235, -1.0057694 , -0.85911646,\n",
       "        -0.71246352, -0.56581057, -0.41915763, -0.27250468, -0.12585174,\n",
       "         0.02080121,  0.16745415,  0.31410709,  0.46076004,  0.60741298,\n",
       "         0.75406593,  0.90071887,  1.04737182,  1.19402476,  1.3406777 ,\n",
       "         1.48733065,  1.63398359,  1.78063654,  1.92728948,  2.07394243,\n",
       "         2.22059537,  2.36724831,  2.51390126,  2.6605542 ,  2.80720715,\n",
       "         2.95386009,  3.10051304,  3.24716598,  3.39381892,  3.54047187,\n",
       "         3.68712481,  3.83377776,  3.9804307 ,  4.12708365,  4.27373659,\n",
       "         4.42038953,  4.56704248,  4.71369542,  4.86034837,  5.00700131,\n",
       "         5.15365426,  5.3003072 ,  5.44696014,  5.59361309,  5.74026603,\n",
       "         5.88691898,  6.03357192,  6.18022487,  6.32687781,  6.47353075,\n",
       "         6.6201837 ,  6.76683664,  6.91348959,  7.06014253,  7.20679547,\n",
       "         7.35344842,  7.50010136,  7.64675431,  7.79340725,  7.9400602 ,\n",
       "         8.08671314]),\n",
       " <a list of 100 Patch objects>)"
      ]
     },
     "execution_count": 18,
     "metadata": {},
     "output_type": "execute_result"
    },
    {
     "data": {
      "image/png": "[encoded data removed]",
      "text/plain": [
       "<matplotlib.figure.Figure at 0x7f17d8db2d90>"
      ]
     },
     "metadata": {},
     "output_type": "display_data"
    }
   ],
   "source": [
    "\n",
    "\n",
    "import scipy.stats\n",
    "import numpy as np\n",
    "import matplotlib.pyplot as plt\n",
    "%matplotlib inline\n",
    "\n",
    "### Does sigma matter for the t-distribution \n",
    "Ud = 0\n",
    "sigma = 1\n",
    "sigma2 = 4\n",
    "n=10\n",
    "\n",
    "T1 = np.array([])\n",
    "T2 = np.array([])\n",
    "for sim in range(10000):\n",
    "\n",
    "    X = scipy.stats.norm.rvs(Ud,sigma,n)\n",
    "    Xbar=X.mean()\n",
    "    T1 =np.append(T1,Xbar/(X.std()/np.sqrt(n)))\n",
    "    \n",
    "    X = scipy.stats.norm.rvs(Ud,sigma2,n)\n",
    "    Xbar=X.mean()\n",
    "    T2 = np.append(T2,Xbar/(X.std()/np.sqrt(n)))\n",
    "    \n",
    "    \n",
    "plt.hist(T1,alpha=0.25,bins=100)\n",
    "plt.hist(T2,alpha=0.25,bins=100)\n",
    "\n",
    "# No - T values will be distributed exactly the same and only depends on N. "
   ]
  },
  {
   "cell_type": "code",
   "execution_count": 47,
   "metadata": {
    "collapsed": false,
    "scrolled": true
   },
   "outputs": [
    {
     "data": {
      "text/plain": [
       "[<matplotlib.lines.Line2D at 0x7f17cf8f4190>]"
      ]
     },
     "execution_count": 47,
     "metadata": {},
     "output_type": "execute_result"
    },
    {
     "data": {
      "image/png": "[encoded data removed]",
      "text/plain": [
       "<matplotlib.figure.Figure at 0x7f17cfd62a50>"
      ]
     },
     "metadata": {},
     "output_type": "display_data"
    }
   ],
   "source": [
    "\n",
    "\n",
    "import scipy.stats\n",
    "import numpy as np\n",
    "import matplotlib.pyplot as plt\n",
    "%matplotlib inline\n",
    "\n",
    "### Does sigma matter for the t-distribution when you are sampling from alt? \n",
    "Ud = 1\n",
    "sigma = 1\n",
    "sigma2 = 4\n",
    "n=10\n",
    "\n",
    "T1 = np.array([])\n",
    "T2 = np.array([])\n",
    "T3 = np.array([])\n",
    "for sim in range(10000):\n",
    "\n",
    "    X = scipy.stats.norm.rvs(Ud,sigma,n)\n",
    "    Xbar=X.mean()\n",
    "    T1 =np.append(T1,(Xbar)/(X.std()/np.sqrt(n)))\n",
    "    \n",
    "    X = scipy.stats.norm.rvs(Ud,sigma2,n)\n",
    "    Xbar=X.mean()\n",
    "    T2 = np.append(T2,(Xbar)/(X.std()/np.sqrt(n)))\n",
    "    \n",
    "    # what if you calculate your t using the known Std. \n",
    "    #X = scipy.stats.norm.rvs(Ud,sigma,n)\n",
    "    #Xbar=X.mean()\n",
    "    #T3 = np.append(T3,(Xbar)/(sigma/np.sqrt(n)))\n",
    "    \n",
    "plt.hist(T1,alpha=0.25,bins=100,color='b')\n",
    "plt.hist(T2,alpha=0.25,bins=100,color='g')\n",
    "#plt.hist(T3,alpha=0.25,bins=100,color='r')\n",
    "x = np.arange(0,20,.1)\n",
    "plt.plot(x,scipy.stats.nct(df=n-1,nc=(np.sqrt(n)*Ud)/sigma).pdf(x))\n",
    "plt.plot(x,scipy.stats.nct(df=n-1,nc=(np.sqrt(n)*Ud)/sigma2).pdf(x))\n",
    "\n",
    "\n",
    "# yes - T values will be distributed exactly the same and only depends on N. "
   ]
  },
  {
   "cell_type": "code",
   "execution_count": 51,
   "metadata": {
    "collapsed": false
   },
   "outputs": [],
   "source": [
    "#plt.hist(T1,alpha=0.25,bins=100,color='b')\n",
    "#plt.hist(scipy.stats.nct(df=n-1,nc=(np.sqrt(n)*Ud)/sigma).rvs(10000),bins=100,alpha=.5)"
   ]
  },
  {
   "cell_type": "markdown",
   "metadata": {
    "collapsed": true
   },
   "source": [
    "# Power / Sample Size Calculations \n"
   ]
  },
  {
   "cell_type": "code",
   "execution_count": 4,
   "metadata": {
    "collapsed": true
   },
   "outputs": [],
   "source": [
    "import Scripts_SigNonSig\n",
    "reload(Scripts_SigNonSig)\n",
    "from Scripts_SigNonSig import * "
   ]
  },
  {
   "cell_type": "code",
   "execution_count": 5,
   "metadata": {
    "collapsed": false
   },
   "outputs": [
    {
     "name": "stderr",
     "output_type": "stream",
     "text": [
      "/home/bishop/cgagne/anaconda2/lib/python2.7/site-packages/pandas/core/frame.py:1997: UserWarning: Boolean Series key will be reindexed to match DataFrame index.\n",
      "  \"DataFrame index.\", UserWarning)\n",
      "Scripts_SigNonSig.py:72: SettingWithCopyWarning: \n",
      "A value is trying to be set on a copy of a slice from a DataFrame\n",
      "\n",
      "See the caveats in the documentation: http://pandas.pydata.org/pandas-docs/stable/indexing.html#indexing-view-versus-copy\n",
      "  region_data_single_row['Accuracy.50'] = np.mean(region_data['Accuracy.50'])\n",
      "Scripts_SigNonSig.py:157: FutureWarning: sort(columns=....) is deprecated, use sort_values(by=.....)\n",
      "  df_50_sig = df_50_sig.sort('PID') ## careful with the soring #\n",
      "Scripts_SigNonSig.py:165: FutureWarning: sort(columns=....) is deprecated, use sort_values(by=.....)\n",
      "  df_50_nonsig = df_50_nonsig.sort('PID') ## Careful with the sorting ##\n"
     ]
    }
   ],
   "source": [
    "out = get_data_for_sig_nonsig_analyses()\n",
    "df_50_nonsig = out['df_50_nonsig']\n",
    "df_50_sig = out['df_50_sig']"
   ]
  },
  {
   "cell_type": "code",
   "execution_count": 7,
   "metadata": {
    "collapsed": false
   },
   "outputs": [],
   "source": [
    "def calc_power(sigma,ud,n,t_95):\n",
    "    # assumes t_95>0\n",
    "    power = 1-scipy.stats.nct(df=n-1,nc=(np.sqrt(n)*ud)/sigma).cdf(t_95)\n",
    "    return(power)\n",
    "    \n",
    "def calc_sample_size(sigma,ud,power,t_95):\n",
    "    \n",
    "    powers = np.array([])\n",
    "    ns = np.array([])\n",
    "    for n in range(5,200):\n",
    "        powers = np.append(powers,calc_power(sigma,ud,n,t_95))\n",
    "        ns = np.append(ns,n)\n",
    "    closest_n_i = np.argmin(np.abs(powers-power))\n",
    "    closest_n = ns[closest_n_i]\n",
    "    return(closest_n,powers,ns)\n",
    "    \n",
    "def calc_t_95_onetailed(n):\n",
    "    return(scipy.stats.t(df=n-1).ppf(.95))\n",
    "    "
   ]
  },
  {
   "cell_type": "code",
   "execution_count": 186,
   "metadata": {
    "collapsed": false
   },
   "outputs": [],
   "source": [
    "#scipy.stats.nct(df=n-1,nc=(np.sqrt(n)*ud1)/sigma).cdf(t_95)"
   ]
  },
  {
   "cell_type": "code",
   "execution_count": 14,
   "metadata": {
    "collapsed": false
   },
   "outputs": [
    {
     "name": "stdout",
     "output_type": "stream",
     "text": [
      "method 1:  \n",
      "\n",
      " sigma 0.339893069286 \n",
      " mu 0.11312826087 \n",
      " thresh 1.73960672608\n",
      "\n",
      " sample size 18: power is 0.386262189692\n",
      " sample size 60.0 needed for power of .8\n",
      " population effect size is 0.332834856289\n"
     ]
    }
   ],
   "source": [
    "\n",
    "\n",
    "x_sig = df_50_sig['Accuracy.50'].as_matrix()\n",
    "\n",
    "# method 1\n",
    "# take the observed SD for significant results, and calculate sigma pop \n",
    "# take the obseved mean for significant results\n",
    "n_avg_study = 18\n",
    "ud1= x_sig.mean()-.5\n",
    "sigma1 = x_sig.std()*np.sqrt(n_avg_study)\n",
    "\n",
    "\n",
    "# given sample size calculate power\n",
    "n = 18\n",
    "t_95 = calc_t_95_onetailed(n)\n",
    "power = calc_power(sigma1,ud1,n,t_95)\n",
    "print('method 1:  ')\n",
    "print('\\n sigma {0} \\n mu {1} \\n thresh {2}').format(sigma1,ud1,t_95)\n",
    "\n",
    "print('\\n sample size {0}: power is {1}').format(n,power)\n",
    "# given power calcualte sa\n",
    "power = 0.8\n",
    "n_needed,powers,ns = calc_sample_size(sigma1,ud1,power,t_95)\n",
    "print(' sample size {0} needed for power of .8').format(n_needed)\n",
    "\n",
    "# calculate effect size \n",
    "# population \n",
    "es = ud1/sigma1\n",
    "print(' population effect size is {0}').format(es)\n"
   ]
  },
  {
   "cell_type": "code",
   "execution_count": 15,
   "metadata": {
    "collapsed": false
   },
   "outputs": [
    {
     "data": {
      "text/plain": [
       "[<matplotlib.lines.Line2D at 0x7f5b2d521190>]"
      ]
     },
     "execution_count": 15,
     "metadata": {},
     "output_type": "execute_result"
    },
    {
     "data": {
      "image/png": "[encoded data removed]",
      "text/plain": [
       "<matplotlib.figure.Figure at 0x7f5b35c99690>"
      ]
     },
     "metadata": {},
     "output_type": "display_data"
    }
   ],
   "source": [
    "power=0.8\n",
    "n_needed,powers,ns = calc_sample_size(sigma1,ud1,power,t_95)\n",
    "plt.plot(ns,powers)"
   ]
  },
  {
   "cell_type": "code",
   "execution_count": 260,
   "metadata": {
    "collapsed": false
   },
   "outputs": [],
   "source": [
    "#x_non.std()*np.sqrt(18)"
   ]
  },
  {
   "cell_type": "code",
   "execution_count": 16,
   "metadata": {
    "collapsed": false
   },
   "outputs": [
    {
     "name": "stdout",
     "output_type": "stream",
     "text": [
      "method 1:  \n",
      "\n",
      " sigma 0.141459222306 \n",
      " mu 0.11312826087 \n",
      " thresh 1.73960672608\n",
      "\n",
      " sample size 18: power is 0.946144438016\n",
      " sample size 11.0 needed for power of .8\n",
      " population effect size is 0.799723475256\n"
     ]
    }
   ],
   "source": [
    "\n",
    "\n",
    "x_non = df_50_nonsig['Accuracy.50'].as_matrix()\n",
    "\n",
    "# method 1\n",
    "# take the observed SD for significant results, and calculate sigma pop \n",
    "# take the obseved mean for significant results\n",
    "n_avg_study = 18\n",
    "ud1= x_sig.mean()-.5\n",
    "sigma1 = x_non.std()*np.sqrt(n_avg_study)\n",
    "\n",
    "\n",
    "# given sample size calculate power\n",
    "n = 18\n",
    "t_95 = calc_t_95_onetailed(n)\n",
    "power = calc_power(sigma1,ud1,n,t_95)\n",
    "print('method 1:  ')\n",
    "print('\\n sigma {0} \\n mu {1} \\n thresh {2}').format(sigma1,ud1,t_95)\n",
    "\n",
    "print('\\n sample size {0}: power is {1}').format(n,power)\n",
    "# given power calcualte sa\n",
    "power = 0.8\n",
    "n_needed,powers,ns = calc_sample_size(sigma1,ud1,power,t_95)\n",
    "print(' sample size {0} needed for power of .8').format(n_needed)\n",
    "\n",
    "# calculate effect size \n",
    "# population \n",
    "es = ud1/sigma1\n",
    "print(' population effect size is {0}').format(es)\n"
   ]
  },
  {
   "cell_type": "code",
   "execution_count": 23,
   "metadata": {
    "collapsed": false
   },
   "outputs": [
    {
     "name": "stdout",
     "output_type": "stream",
     "text": [
      "0.141459222306\n"
     ]
    }
   ],
   "source": [
    "print(x_non.std()*np.sqrt(18))"
   ]
  },
  {
   "cell_type": "code",
   "execution_count": 24,
   "metadata": {
    "collapsed": false
   },
   "outputs": [
    {
     "data": {
      "text/plain": [
       "(array([   3.,   18.,   49.,  142.,   75.,   48.,    7.,    2.,    3.,    2.]),\n",
       " array([ 0.42 ,  0.446,  0.472,  0.498,  0.524,  0.55 ,  0.576,  0.602,\n",
       "         0.628,  0.654,  0.68 ]),\n",
       " <a list of 10 Patch objects>)"
      ]
     },
     "execution_count": 24,
     "metadata": {},
     "output_type": "execute_result"
    },
    {
     "data": {
      "image/png": "[encoded data removed]",
      "text/plain": [
       "<matplotlib.figure.Figure at 0x7f5b2f5f9b50>"
      ]
     },
     "metadata": {},
     "output_type": "display_data"
    }
   ],
   "source": [
    "plt.hist(x_non)"
   ]
  },
  {
   "cell_type": "code",
   "execution_count": 26,
   "metadata": {
    "collapsed": false
   },
   "outputs": [
    {
     "data": {
      "text/plain": [
       "0.033342258451332894"
      ]
     },
     "execution_count": 26,
     "metadata": {},
     "output_type": "execute_result"
    }
   ],
   "source": [
    "x_non.std()"
   ]
  },
  {
   "cell_type": "markdown",
   "metadata": {},
   "source": [
    "## reweight SD by n's"
   ]
  },
  {
   "cell_type": "code",
   "execution_count": 27,
   "metadata": {
    "collapsed": false
   },
   "outputs": [
    {
     "name": "stdout",
     "output_type": "stream",
     "text": [
      "18.0395256917\n"
     ]
    }
   ],
   "source": [
    "# calculate empirical probability of getting a certain N\n",
    "n_s = df_50_sig['Num_subs'].as_matrix()\n",
    "n_s_unique = df_50_sig['Num_subs'].unique()\n",
    "pN = np.zeros(len(n_s_unique))\n",
    "\n",
    "for ni,n in enumerate(n_s_unique):\n",
    "    pN[ni] = np.sum(n_s==n)/np.float(len(n_s))\n",
    "\n",
    "    \n",
    "print(np.dot(n_s_unique,pN)) # equals average # \n",
    "\n",
    "\n"
   ]
  },
  {
   "cell_type": "code",
   "execution_count": 256,
   "metadata": {
    "collapsed": false
   },
   "outputs": [
    {
     "name": "stdout",
     "output_type": "stream",
     "text": [
      "std of Xbars with various ns 0.0801135647235\n",
      "sigmaX using average n in our dataset 0.340266045443\n",
      "sigmaX using reweighted 0.309742342443\n",
      " sample size 50.0 needed for power of .8\n",
      " population effect size is 0.332834856289\n"
     ]
    }
   ],
   "source": [
    "sigma_xbar_avgn = x_sig.std()\n",
    "\n",
    "print('std of Xbars with various ns {0}').format(sigma_xbar_avgn)\n",
    "\n",
    "print('sigmaX using average n in our dataset {0}').format(sigma_xbar_avgn*np.sqrt(n_s.mean()))\n",
    "\n",
    "scale=0\n",
    "\n",
    "for ni,n in enumerate(n_s_unique):\n",
    "    scale+=pN[ni]/np.sqrt(n)\n",
    "\n",
    "#print(scale)\n",
    "# sigma \n",
    "\n",
    "sigma_X = sigma_xbar_avgn/scale\n",
    "sigma2=sigma_X\n",
    "print('sigmaX using reweighted {0}').format(sigma_X)\n",
    "\n",
    "# given power calcualte sa\n",
    "power = 0.8\n",
    "n_needed,powers,ns = calc_sample_size(sigma2,ud1,power,t_95)\n",
    "print(' sample size {0} needed for power of .8').format(n_needed)\n",
    "\n",
    "# calculate effect size \n",
    "# population \n",
    "es = ud1/sigma1\n",
    "print(' population effect size is {0}').format(es)"
   ]
  },
  {
   "cell_type": "code",
   "execution_count": 32,
   "metadata": {
    "collapsed": false
   },
   "outputs": [
    {
     "name": "stdout",
     "output_type": "stream",
     "text": [
      "15.3209169054\n",
      "std of Xbars with various ns 0.0333422584513\n",
      "sigmaX using average n in our dataset 0.130508077499\n",
      "sigmaX using reweighted 0.120967903963\n",
      "using alt mean as 0.11312826087\n",
      " sample size 8.0 needed for power of .8\n",
      " population effect size is 0.799723475256\n"
     ]
    }
   ],
   "source": [
    "### Using Non-Sig \n",
    "\n",
    "# calculate empirical probability of getting a certain N\n",
    "n_n = df_50_nonsig['Num_subs'].as_matrix()\n",
    "n_n_unique = df_50_nonsig['Num_subs'].unique()\n",
    "pN = np.zeros(len(n_n_unique))\n",
    "\n",
    "for ni,n in enumerate(n_n_unique):\n",
    "    pN[ni] = np.sum(n_n==n)/np.float(len(n_n))\n",
    "\n",
    "    \n",
    "print(np.dot(n_n_unique,pN)) # equals average # \n",
    "\n",
    "\n",
    "\n",
    "sigma_xbar_avgn = x_non.std()\n",
    "\n",
    "print('std of Xbars with various ns {0}').format(sigma_xbar_avgn)\n",
    "\n",
    "print('sigmaX using average n in our dataset {0}').format(sigma_xbar_avgn*np.sqrt(n_n.mean()))\n",
    "\n",
    "scale=0\n",
    "\n",
    "for ni,n in enumerate(n_n_unique):\n",
    "    scale+=pN[ni]/np.sqrt(n)\n",
    "\n",
    "#print(scale)\n",
    "# sigma \n",
    "\n",
    "sigma_X = sigma_xbar_avgn/scale\n",
    "sigma2=sigma_X\n",
    "print('sigmaX using reweighted {0}').format(sigma_X)\n",
    "\n",
    "\n",
    "# given power calcualte sa\n",
    "power = 0.8\n",
    "n_needed,powers,ns = calc_sample_size(sigma2,ud1,power,t_95)\n",
    "print('using alt mean as {0}').format(ud1)\n",
    "print(' sample size {0} needed for power of .8').format(n_needed)\n",
    "\n",
    "# calculate effect size \n",
    "# population \n",
    "es = ud1/sigma1\n",
    "print(' population effect size is {0}').format(es)"
   ]
  },
  {
   "cell_type": "code",
   "execution_count": 36,
   "metadata": {
    "collapsed": false
   },
   "outputs": [
    {
     "data": {
      "text/plain": [
       "5.2665622429448078"
      ]
     },
     "execution_count": 36,
     "metadata": {},
     "output_type": "execute_result"
    }
   ],
   "source": [
    "np.sum(n_n*(x_non-x_non.mean())**2)"
   ]
  },
  {
   "cell_type": "code",
   "execution_count": 42,
   "metadata": {
    "collapsed": false
   },
   "outputs": [
    {
     "name": "stdout",
     "output_type": "stream",
     "text": [
      "0.0313840161483\n"
     ]
    }
   ],
   "source": [
    "# weighted sample variance where n is the weight. \n",
    "n_n = df_50_nonsig['Num_subs'].as_matrix()\n",
    "N = float(len(n_n))\n",
    "std_weighted = np.sqrt(np.sum(n_n*(x_non-x_non.mean())**2) / np.sum(n_n))\n",
    "print(std_weighted)"
   ]
  },
  {
   "cell_type": "code",
   "execution_count": 43,
   "metadata": {
    "collapsed": false
   },
   "outputs": [],
   "source": [
    "#"
   ]
  }
 ],
 "metadata": {
  "hide_input": false,
  "kernelspec": {
   "display_name": "Python 2",
   "language": "python",
   "name": "python2"
  },
  "language_info": {
   "codemirror_mode": {
    "name": "ipython",
    "version": 2
   },
   "file_extension": ".py",
   "mimetype": "text/x-python",
   "name": "python",
   "nbconvert_exporter": "python",
   "pygments_lexer": "ipython2",
   "version": "2.7.12"
  }
 },
 "nbformat": 4,
 "nbformat_minor": 0
}
