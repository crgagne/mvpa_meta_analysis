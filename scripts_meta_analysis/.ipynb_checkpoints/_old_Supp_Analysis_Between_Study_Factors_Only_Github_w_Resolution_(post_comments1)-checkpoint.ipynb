{
 "cells": [
  {
   "cell_type": "code",
   "execution_count": 1,
   "metadata": {},
   "outputs": [
    {
     "name": "stderr",
     "output_type": "stream",
     "text": [
      "Warning message:\n",
      "“package ‘corrplot’ was built under R version 3.4.2”corrplot 0.84 loaded\n"
     ]
    }
   ],
   "source": [
    "library(ggplot2)\n",
    "library(corrplot)"
   ]
  },
  {
   "cell_type": "code",
   "execution_count": 12,
   "metadata": {
    "collapsed": true
   },
   "outputs": [],
   "source": [
    "data = read.csv(\"../data_meta_analysis/Data_Classifications_v8b.csv\")\n"
   ]
  },
  {
   "cell_type": "code",
   "execution_count": 13,
   "metadata": {
    "collapsed": true
   },
   "outputs": [],
   "source": [
    "## remove neural-net\n",
    "data<-data[!data$Classifier.type=='neural-net',]"
   ]
  },
  {
   "cell_type": "code",
   "execution_count": 14,
   "metadata": {
    "collapsed": true
   },
   "outputs": [],
   "source": [
    "# change the resolution string 3mmx3mmx3mm->volumne 9mm^3\n",
    "calc_resolution <-function(string){\n",
    "    str_list<-strsplit(gsub('mm','',string),'x')[[1]] # \n",
    "    vol<-prod(as.integer(str_list))\n",
    "    return(vol)\n",
    "}\n",
    "\n",
    "data$Resolution_Volume<-unlist(lapply(data$Resolution,calc_resolution))"
   ]
  },
  {
   "cell_type": "code",
   "execution_count": 15,
   "metadata": {
    "collapsed": true
   },
   "outputs": [],
   "source": [
    "#data$Region<-as.factor(data$Region)\n",
    "data$PID<-as.factor(data$PID)\n",
    "data$Info.type<-as.factor(data$Info.type)\n",
    "data$Smoothing<-as.factor(data$Smoothing)\n",
    "data$Roi.Search<-as.factor(data$Roi.Search)\n",
    "data$Classifier.type<-as.factor(data$Classifier.type)\n",
    "data$Coregistration<-as.factor(data$Coregistration)\n",
    "data$Pattern.type<-as.factor(data$Pattern.type)\n",
    "data$Pattern.normalization.type<-as.factor(data$Pattern.normalization.type)\n",
    "\n",
    "data$Voxel.numbers<-as.numeric(data$Voxel.numbers)\n",
    "data$Training.setsize<-as.numeric(data$Training.setsize)"
   ]
  },
  {
   "cell_type": "code",
   "execution_count": 16,
   "metadata": {
    "collapsed": true
   },
   "outputs": [],
   "source": [
    "data$Classifier.type<-relevel(data$Classifier.type,'correlation')"
   ]
  },
  {
   "cell_type": "code",
   "execution_count": 17,
   "metadata": {
    "collapsed": true
   },
   "outputs": [],
   "source": [
    "data<-droplevels(data)\n"
   ]
  },
  {
   "cell_type": "code",
   "execution_count": 18,
   "metadata": {
    "collapsed": true
   },
   "outputs": [],
   "source": [
    "#data$Resolution_Volume"
   ]
  },
  {
   "cell_type": "code",
   "execution_count": 19,
   "metadata": {},
   "outputs": [
    {
     "data": {
      "text/html": [
       "<ol class=list-inline>\n",
       "\t<li>'1'</li>\n",
       "\t<li>'2'</li>\n",
       "\t<li>'5'</li>\n",
       "\t<li>'6'</li>\n",
       "\t<li>'7'</li>\n",
       "\t<li>'8'</li>\n",
       "\t<li>'9'</li>\n",
       "\t<li>'10'</li>\n",
       "\t<li>'11'</li>\n",
       "\t<li>'12'</li>\n",
       "\t<li>'13'</li>\n",
       "\t<li>'16'</li>\n",
       "\t<li>'18'</li>\n",
       "\t<li>'20'</li>\n",
       "\t<li>'21'</li>\n",
       "\t<li>'22'</li>\n",
       "\t<li>'23'</li>\n",
       "\t<li>'24'</li>\n",
       "\t<li>'25'</li>\n",
       "\t<li>'26'</li>\n",
       "\t<li>'27'</li>\n",
       "\t<li>'28'</li>\n",
       "\t<li>'31'</li>\n",
       "\t<li>'32'</li>\n",
       "\t<li>'33'</li>\n",
       "\t<li>'37'</li>\n",
       "\t<li>'39'</li>\n",
       "\t<li>'41'</li>\n",
       "\t<li>'42'</li>\n",
       "\t<li>'43'</li>\n",
       "\t<li>'46'</li>\n",
       "\t<li>'47'</li>\n",
       "\t<li>'48'</li>\n",
       "\t<li>'49'</li>\n",
       "\t<li>'50'</li>\n",
       "\t<li>'52'</li>\n",
       "\t<li>'53'</li>\n",
       "\t<li>'54'</li>\n",
       "\t<li>'55'</li>\n",
       "\t<li>'56'</li>\n",
       "\t<li>'57'</li>\n",
       "\t<li>'59'</li>\n",
       "\t<li>'60'</li>\n",
       "\t<li>'61'</li>\n",
       "\t<li>'62'</li>\n",
       "\t<li>'63'</li>\n",
       "\t<li>'64'</li>\n",
       "\t<li>'65'</li>\n",
       "\t<li>'66'</li>\n",
       "\t<li>'67'</li>\n",
       "\t<li>'68'</li>\n",
       "\t<li>'69'</li>\n",
       "\t<li>'70'</li>\n",
       "\t<li>'71'</li>\n",
       "\t<li>'72'</li>\n",
       "\t<li>'73'</li>\n",
       "\t<li>'74'</li>\n",
       "\t<li>'75'</li>\n",
       "\t<li>'76'</li>\n",
       "\t<li>'77'</li>\n",
       "\t<li>'78'</li>\n",
       "\t<li>'79'</li>\n",
       "\t<li>'80'</li>\n",
       "\t<li>'81'</li>\n",
       "\t<li>'82'</li>\n",
       "\t<li>'83'</li>\n",
       "\t<li>'84'</li>\n",
       "\t<li>'85'</li>\n",
       "\t<li>'86'</li>\n",
       "\t<li>'87'</li>\n",
       "\t<li>'88'</li>\n",
       "\t<li>'89'</li>\n",
       "\t<li>'90'</li>\n",
       "\t<li>'91'</li>\n",
       "\t<li>'92'</li>\n",
       "\t<li>'93'</li>\n",
       "</ol>\n"
      ],
      "text/latex": [
       "\\begin{enumerate*}\n",
       "\\item '1'\n",
       "\\item '2'\n",
       "\\item '5'\n",
       "\\item '6'\n",
       "\\item '7'\n",
       "\\item '8'\n",
       "\\item '9'\n",
       "\\item '10'\n",
       "\\item '11'\n",
       "\\item '12'\n",
       "\\item '13'\n",
       "\\item '16'\n",
       "\\item '18'\n",
       "\\item '20'\n",
       "\\item '21'\n",
       "\\item '22'\n",
       "\\item '23'\n",
       "\\item '24'\n",
       "\\item '25'\n",
       "\\item '26'\n",
       "\\item '27'\n",
       "\\item '28'\n",
       "\\item '31'\n",
       "\\item '32'\n",
       "\\item '33'\n",
       "\\item '37'\n",
       "\\item '39'\n",
       "\\item '41'\n",
       "\\item '42'\n",
       "\\item '43'\n",
       "\\item '46'\n",
       "\\item '47'\n",
       "\\item '48'\n",
       "\\item '49'\n",
       "\\item '50'\n",
       "\\item '52'\n",
       "\\item '53'\n",
       "\\item '54'\n",
       "\\item '55'\n",
       "\\item '56'\n",
       "\\item '57'\n",
       "\\item '59'\n",
       "\\item '60'\n",
       "\\item '61'\n",
       "\\item '62'\n",
       "\\item '63'\n",
       "\\item '64'\n",
       "\\item '65'\n",
       "\\item '66'\n",
       "\\item '67'\n",
       "\\item '68'\n",
       "\\item '69'\n",
       "\\item '70'\n",
       "\\item '71'\n",
       "\\item '72'\n",
       "\\item '73'\n",
       "\\item '74'\n",
       "\\item '75'\n",
       "\\item '76'\n",
       "\\item '77'\n",
       "\\item '78'\n",
       "\\item '79'\n",
       "\\item '80'\n",
       "\\item '81'\n",
       "\\item '82'\n",
       "\\item '83'\n",
       "\\item '84'\n",
       "\\item '85'\n",
       "\\item '86'\n",
       "\\item '87'\n",
       "\\item '88'\n",
       "\\item '89'\n",
       "\\item '90'\n",
       "\\item '91'\n",
       "\\item '92'\n",
       "\\item '93'\n",
       "\\end{enumerate*}\n"
      ],
      "text/markdown": [
       "1. '1'\n",
       "2. '2'\n",
       "3. '5'\n",
       "4. '6'\n",
       "5. '7'\n",
       "6. '8'\n",
       "7. '9'\n",
       "8. '10'\n",
       "9. '11'\n",
       "10. '12'\n",
       "11. '13'\n",
       "12. '16'\n",
       "13. '18'\n",
       "14. '20'\n",
       "15. '21'\n",
       "16. '22'\n",
       "17. '23'\n",
       "18. '24'\n",
       "19. '25'\n",
       "20. '26'\n",
       "21. '27'\n",
       "22. '28'\n",
       "23. '31'\n",
       "24. '32'\n",
       "25. '33'\n",
       "26. '37'\n",
       "27. '39'\n",
       "28. '41'\n",
       "29. '42'\n",
       "30. '43'\n",
       "31. '46'\n",
       "32. '47'\n",
       "33. '48'\n",
       "34. '49'\n",
       "35. '50'\n",
       "36. '52'\n",
       "37. '53'\n",
       "38. '54'\n",
       "39. '55'\n",
       "40. '56'\n",
       "41. '57'\n",
       "42. '59'\n",
       "43. '60'\n",
       "44. '61'\n",
       "45. '62'\n",
       "46. '63'\n",
       "47. '64'\n",
       "48. '65'\n",
       "49. '66'\n",
       "50. '67'\n",
       "51. '68'\n",
       "52. '69'\n",
       "53. '70'\n",
       "54. '71'\n",
       "55. '72'\n",
       "56. '73'\n",
       "57. '74'\n",
       "58. '75'\n",
       "59. '76'\n",
       "60. '77'\n",
       "61. '78'\n",
       "62. '79'\n",
       "63. '80'\n",
       "64. '81'\n",
       "65. '82'\n",
       "66. '83'\n",
       "67. '84'\n",
       "68. '85'\n",
       "69. '86'\n",
       "70. '87'\n",
       "71. '88'\n",
       "72. '89'\n",
       "73. '90'\n",
       "74. '91'\n",
       "75. '92'\n",
       "76. '93'\n",
       "\n",
       "\n"
      ],
      "text/plain": [
       " [1] \"1\"  \"2\"  \"5\"  \"6\"  \"7\"  \"8\"  \"9\"  \"10\" \"11\" \"12\" \"13\" \"16\" \"18\" \"20\" \"21\"\n",
       "[16] \"22\" \"23\" \"24\" \"25\" \"26\" \"27\" \"28\" \"31\" \"32\" \"33\" \"37\" \"39\" \"41\" \"42\" \"43\"\n",
       "[31] \"46\" \"47\" \"48\" \"49\" \"50\" \"52\" \"53\" \"54\" \"55\" \"56\" \"57\" \"59\" \"60\" \"61\" \"62\"\n",
       "[46] \"63\" \"64\" \"65\" \"66\" \"67\" \"68\" \"69\" \"70\" \"71\" \"72\" \"73\" \"74\" \"75\" \"76\" \"77\"\n",
       "[61] \"78\" \"79\" \"80\" \"81\" \"82\" \"83\" \"84\" \"85\" \"86\" \"87\" \"88\" \"89\" \"90\" \"91\" \"92\"\n",
       "[76] \"93\""
      ]
     },
     "metadata": {},
     "output_type": "display_data"
    },
    {
     "data": {
      "text/html": [
       "<ol class=list-inline>\n",
       "\t<li>'Perceptual'</li>\n",
       "\t<li>'Response'</li>\n",
       "\t<li>'Rule'</li>\n",
       "\t<li>'Value'</li>\n",
       "</ol>\n"
      ],
      "text/latex": [
       "\\begin{enumerate*}\n",
       "\\item 'Perceptual'\n",
       "\\item 'Response'\n",
       "\\item 'Rule'\n",
       "\\item 'Value'\n",
       "\\end{enumerate*}\n"
      ],
      "text/markdown": [
       "1. 'Perceptual'\n",
       "2. 'Response'\n",
       "3. 'Rule'\n",
       "4. 'Value'\n",
       "\n",
       "\n"
      ],
      "text/plain": [
       "[1] \"Perceptual\" \"Response\"   \"Rule\"       \"Value\"     "
      ]
     },
     "metadata": {},
     "output_type": "display_data"
    },
    {
     "data": {
      "text/html": [
       "<ol class=list-inline>\n",
       "\t<li>'smoothed'</li>\n",
       "\t<li>'unsmooth'</li>\n",
       "</ol>\n"
      ],
      "text/latex": [
       "\\begin{enumerate*}\n",
       "\\item 'smoothed'\n",
       "\\item 'unsmooth'\n",
       "\\end{enumerate*}\n"
      ],
      "text/markdown": [
       "1. 'smoothed'\n",
       "2. 'unsmooth'\n",
       "\n",
       "\n"
      ],
      "text/plain": [
       "[1] \"smoothed\" \"unsmooth\""
      ]
     },
     "metadata": {},
     "output_type": "display_data"
    },
    {
     "data": {
      "text/html": [
       "<ol class=list-inline>\n",
       "\t<li>'ROI'</li>\n",
       "\t<li>'Searchlight Peak'</li>\n",
       "</ol>\n"
      ],
      "text/latex": [
       "\\begin{enumerate*}\n",
       "\\item 'ROI'\n",
       "\\item 'Searchlight Peak'\n",
       "\\end{enumerate*}\n"
      ],
      "text/markdown": [
       "1. 'ROI'\n",
       "2. 'Searchlight Peak'\n",
       "\n",
       "\n"
      ],
      "text/plain": [
       "[1] \"ROI\"              \"Searchlight Peak\""
      ]
     },
     "metadata": {},
     "output_type": "display_data"
    },
    {
     "data": {
      "text/html": [
       "<ol class=list-inline>\n",
       "\t<li>'correlation'</li>\n",
       "\t<li>'GNB'</li>\n",
       "\t<li>'LDA'</li>\n",
       "\t<li>'LogReg'</li>\n",
       "\t<li>'svm-lin'</li>\n",
       "\t<li>'svm-nonlin'</li>\n",
       "</ol>\n"
      ],
      "text/latex": [
       "\\begin{enumerate*}\n",
       "\\item 'correlation'\n",
       "\\item 'GNB'\n",
       "\\item 'LDA'\n",
       "\\item 'LogReg'\n",
       "\\item 'svm-lin'\n",
       "\\item 'svm-nonlin'\n",
       "\\end{enumerate*}\n"
      ],
      "text/markdown": [
       "1. 'correlation'\n",
       "2. 'GNB'\n",
       "3. 'LDA'\n",
       "4. 'LogReg'\n",
       "5. 'svm-lin'\n",
       "6. 'svm-nonlin'\n",
       "\n",
       "\n"
      ],
      "text/plain": [
       "[1] \"correlation\" \"GNB\"         \"LDA\"         \"LogReg\"      \"svm-lin\"    \n",
       "[6] \"svm-nonlin\" "
      ]
     },
     "metadata": {},
     "output_type": "display_data"
    },
    {
     "data": {
      "text/html": [
       "<ol class=list-inline>\n",
       "\t<li>'coregistered'</li>\n",
       "\t<li>'Native Space'</li>\n",
       "</ol>\n"
      ],
      "text/latex": [
       "\\begin{enumerate*}\n",
       "\\item 'coregistered'\n",
       "\\item 'Native Space'\n",
       "\\end{enumerate*}\n"
      ],
      "text/markdown": [
       "1. 'coregistered'\n",
       "2. 'Native Space'\n",
       "\n",
       "\n"
      ],
      "text/plain": [
       "[1] \"coregistered\" \"Native Space\""
      ]
     },
     "metadata": {},
     "output_type": "display_data"
    },
    {
     "data": {
      "text/html": [
       "<ol class=list-inline>\n",
       "\t<li>'Multi-Trial Multi-Time Point'</li>\n",
       "\t<li>'Multi-Trial Single-Time Point'</li>\n",
       "\t<li>'Single Trial Multi-Time Point'</li>\n",
       "\t<li>'Single Trial Single-Time Point'</li>\n",
       "</ol>\n"
      ],
      "text/latex": [
       "\\begin{enumerate*}\n",
       "\\item 'Multi-Trial Multi-Time Point'\n",
       "\\item 'Multi-Trial Single-Time Point'\n",
       "\\item 'Single Trial Multi-Time Point'\n",
       "\\item 'Single Trial Single-Time Point'\n",
       "\\end{enumerate*}\n"
      ],
      "text/markdown": [
       "1. 'Multi-Trial Multi-Time Point'\n",
       "2. 'Multi-Trial Single-Time Point'\n",
       "3. 'Single Trial Multi-Time Point'\n",
       "4. 'Single Trial Single-Time Point'\n",
       "\n",
       "\n"
      ],
      "text/plain": [
       "[1] \"Multi-Trial Multi-Time Point\"   \"Multi-Trial Single-Time Point\" \n",
       "[3] \"Single Trial Multi-Time Point\"  \"Single Trial Single-Time Point\""
      ]
     },
     "metadata": {},
     "output_type": "display_data"
    },
    {
     "data": {
      "text/html": [
       "<ol class=list-inline>\n",
       "\t<li>'None'</li>\n",
       "\t<li>'Normalized Spatially'</li>\n",
       "\t<li>'Normalized Temporally'</li>\n",
       "</ol>\n"
      ],
      "text/latex": [
       "\\begin{enumerate*}\n",
       "\\item 'None'\n",
       "\\item 'Normalized Spatially'\n",
       "\\item 'Normalized Temporally'\n",
       "\\end{enumerate*}\n"
      ],
      "text/markdown": [
       "1. 'None'\n",
       "2. 'Normalized Spatially'\n",
       "3. 'Normalized Temporally'\n",
       "\n",
       "\n"
      ],
      "text/plain": [
       "[1] \"None\"                  \"Normalized Spatially\"  \"Normalized Temporally\""
      ]
     },
     "metadata": {},
     "output_type": "display_data"
    },
    {
     "data": {
      "text/html": [
       "<ol class=list-inline>\n",
       "\t<li>'3T'</li>\n",
       "\t<li>'7T'</li>\n",
       "</ol>\n"
      ],
      "text/latex": [
       "\\begin{enumerate*}\n",
       "\\item '3T'\n",
       "\\item '7T'\n",
       "\\end{enumerate*}\n"
      ],
      "text/markdown": [
       "1. '3T'\n",
       "2. '7T'\n",
       "\n",
       "\n"
      ],
      "text/plain": [
       "[1] \"3T\" \"7T\""
      ]
     },
     "metadata": {},
     "output_type": "display_data"
    }
   ],
   "source": [
    "levels(data$PID)\n",
    "levels(data$Info.type)\n",
    "levels(data$Smoothing)\n",
    "levels(data$Roi.Search)\n",
    "levels(data$Classifier.type)\n",
    "levels(data$Coregistration)\n",
    "levels(data$Pattern.type)\n",
    "levels(data$Pattern.normalization.type)\n",
    "levels(data$Scanner)"
   ]
  },
  {
   "cell_type": "code",
   "execution_count": 20,
   "metadata": {
    "collapsed": true
   },
   "outputs": [],
   "source": [
    "variables = c('Accuracy.50','PID','Info.type','Smoothing','Roi.Search',\n",
    "              'Classifier.type','Coregistration','Pattern.type',\n",
    "              'Pattern.normalization.type','Significance','Scanner','Num_subs',\n",
    "              'Resolution_Volume',\n",
    "             'Voxel.numbers','Training.setsize')\n",
    "\n",
    "#data[,variables]"
   ]
  },
  {
   "cell_type": "code",
   "execution_count": 23,
   "metadata": {
    "collapsed": true
   },
   "outputs": [],
   "source": [
    "# replacing missing values with median and adding indicator variable\n",
    "data['Voxel.numbers.idx'] = as.numeric(is.na(data['Voxel.numbers']))\n",
    "data[is.na(data['Voxel.numbers']),'Voxel.numbers'] = median(data$Voxel.numbers,na.rm=TRUE)\n",
    "\n",
    "data['Training.setsize.idx'] = as.numeric(is.na(data['Training.setsize']))\n",
    "data[is.na(data['Training.setsize']),'Training.setsize'] = median(data$Training.setsize,na.rm=TRUE)\n",
    "\n"
   ]
  },
  {
   "cell_type": "markdown",
   "metadata": {},
   "source": [
    "subset to 50% accuracy"
   ]
  },
  {
   "cell_type": "markdown",
   "metadata": {},
   "source": [
    "adding significance reduces the dataset. "
   ]
  },
  {
   "cell_type": "code",
   "execution_count": 24,
   "metadata": {},
   "outputs": [
    {
     "data": {
      "text/html": [
       "891"
      ],
      "text/latex": [
       "891"
      ],
      "text/markdown": [
       "891"
      ],
      "text/plain": [
       "[1] 891"
      ]
     },
     "metadata": {},
     "output_type": "display_data"
    },
    {
     "data": {
      "text/html": [
       "891"
      ],
      "text/latex": [
       "891"
      ],
      "text/markdown": [
       "891"
      ],
      "text/plain": [
       "[1] 891"
      ]
     },
     "metadata": {},
     "output_type": "display_data"
    }
   ],
   "source": [
    "data_50<-data[!is.na(data$Accuracy.50),variables]\n",
    "nrow(data_50)\n",
    "data_50<-data_50[complete.cases(data_50),]\n",
    "nrow(data_50)"
   ]
  },
  {
   "cell_type": "markdown",
   "metadata": {},
   "source": [
    "# Models Just Testing Between Subject Designs"
   ]
  },
  {
   "cell_type": "markdown",
   "metadata": {},
   "source": [
    "take average of each study. \n",
    "- check which studies use more than one method. \n",
    "- probably want to do it between region as well. "
   ]
  },
  {
   "cell_type": "code",
   "execution_count": 25,
   "metadata": {
    "collapsed": true
   },
   "outputs": [],
   "source": [
    "data_50_paper = data.frame(Accuracy.50 = numeric(), PID = factor(), Info.type = factor(),Smoothing=factor(),\n",
    "                           Roi.Search=factor(),Classifier.type=factor(),Coregistration=factor(),Pattern.type=factor(),\n",
    "                          Pattern.normalization.type=factor(),Significance=factor(),NumSubs=numeric(),Scanner=factor(),Resolution_Volume=numeric())"
   ]
  },
  {
   "cell_type": "code",
   "execution_count": 26,
   "metadata": {},
   "outputs": [
    {
     "data": {
      "text/html": [
       "<ol class=list-inline>\n",
       "\t<li>1</li>\n",
       "\t<li>2</li>\n",
       "\t<li>5</li>\n",
       "\t<li>6</li>\n",
       "\t<li>7</li>\n",
       "\t<li>8</li>\n",
       "\t<li>9</li>\n",
       "\t<li>10</li>\n",
       "\t<li>11</li>\n",
       "\t<li>12</li>\n",
       "\t<li>13</li>\n",
       "\t<li>16</li>\n",
       "\t<li>18</li>\n",
       "\t<li>20</li>\n",
       "\t<li>21</li>\n",
       "\t<li>22</li>\n",
       "\t<li>23</li>\n",
       "\t<li>24</li>\n",
       "\t<li>25</li>\n",
       "\t<li>26</li>\n",
       "\t<li>27</li>\n",
       "\t<li>28</li>\n",
       "\t<li>31</li>\n",
       "\t<li>32</li>\n",
       "\t<li>33</li>\n",
       "\t<li>37</li>\n",
       "\t<li>39</li>\n",
       "\t<li>41</li>\n",
       "\t<li>42</li>\n",
       "\t<li>43</li>\n",
       "\t<li>46</li>\n",
       "\t<li>47</li>\n",
       "\t<li>48</li>\n",
       "\t<li>49</li>\n",
       "\t<li>50</li>\n",
       "\t<li>52</li>\n",
       "\t<li>53</li>\n",
       "\t<li>54</li>\n",
       "\t<li>55</li>\n",
       "\t<li>56</li>\n",
       "\t<li>57</li>\n",
       "\t<li>59</li>\n",
       "\t<li>60</li>\n",
       "\t<li>61</li>\n",
       "\t<li>62</li>\n",
       "\t<li>63</li>\n",
       "\t<li>64</li>\n",
       "\t<li>65</li>\n",
       "\t<li>66</li>\n",
       "\t<li>67</li>\n",
       "\t<li>68</li>\n",
       "\t<li>69</li>\n",
       "\t<li>70</li>\n",
       "\t<li>71</li>\n",
       "\t<li>72</li>\n",
       "\t<li>73</li>\n",
       "\t<li>74</li>\n",
       "\t<li>75</li>\n",
       "\t<li>76</li>\n",
       "\t<li>77</li>\n",
       "\t<li>78</li>\n",
       "\t<li>79</li>\n",
       "\t<li>80</li>\n",
       "\t<li>81</li>\n",
       "\t<li>82</li>\n",
       "\t<li>83</li>\n",
       "\t<li>84</li>\n",
       "\t<li>85</li>\n",
       "\t<li>86</li>\n",
       "\t<li>87</li>\n",
       "\t<li>88</li>\n",
       "\t<li>89</li>\n",
       "\t<li>90</li>\n",
       "\t<li>91</li>\n",
       "\t<li>92</li>\n",
       "\t<li>93</li>\n",
       "</ol>\n"
      ],
      "text/latex": [
       "\\begin{enumerate*}\n",
       "\\item 1\n",
       "\\item 2\n",
       "\\item 5\n",
       "\\item 6\n",
       "\\item 7\n",
       "\\item 8\n",
       "\\item 9\n",
       "\\item 10\n",
       "\\item 11\n",
       "\\item 12\n",
       "\\item 13\n",
       "\\item 16\n",
       "\\item 18\n",
       "\\item 20\n",
       "\\item 21\n",
       "\\item 22\n",
       "\\item 23\n",
       "\\item 24\n",
       "\\item 25\n",
       "\\item 26\n",
       "\\item 27\n",
       "\\item 28\n",
       "\\item 31\n",
       "\\item 32\n",
       "\\item 33\n",
       "\\item 37\n",
       "\\item 39\n",
       "\\item 41\n",
       "\\item 42\n",
       "\\item 43\n",
       "\\item 46\n",
       "\\item 47\n",
       "\\item 48\n",
       "\\item 49\n",
       "\\item 50\n",
       "\\item 52\n",
       "\\item 53\n",
       "\\item 54\n",
       "\\item 55\n",
       "\\item 56\n",
       "\\item 57\n",
       "\\item 59\n",
       "\\item 60\n",
       "\\item 61\n",
       "\\item 62\n",
       "\\item 63\n",
       "\\item 64\n",
       "\\item 65\n",
       "\\item 66\n",
       "\\item 67\n",
       "\\item 68\n",
       "\\item 69\n",
       "\\item 70\n",
       "\\item 71\n",
       "\\item 72\n",
       "\\item 73\n",
       "\\item 74\n",
       "\\item 75\n",
       "\\item 76\n",
       "\\item 77\n",
       "\\item 78\n",
       "\\item 79\n",
       "\\item 80\n",
       "\\item 81\n",
       "\\item 82\n",
       "\\item 83\n",
       "\\item 84\n",
       "\\item 85\n",
       "\\item 86\n",
       "\\item 87\n",
       "\\item 88\n",
       "\\item 89\n",
       "\\item 90\n",
       "\\item 91\n",
       "\\item 92\n",
       "\\item 93\n",
       "\\end{enumerate*}\n"
      ],
      "text/markdown": [
       "1. 1\n",
       "2. 2\n",
       "3. 5\n",
       "4. 6\n",
       "5. 7\n",
       "6. 8\n",
       "7. 9\n",
       "8. 10\n",
       "9. 11\n",
       "10. 12\n",
       "11. 13\n",
       "12. 16\n",
       "13. 18\n",
       "14. 20\n",
       "15. 21\n",
       "16. 22\n",
       "17. 23\n",
       "18. 24\n",
       "19. 25\n",
       "20. 26\n",
       "21. 27\n",
       "22. 28\n",
       "23. 31\n",
       "24. 32\n",
       "25. 33\n",
       "26. 37\n",
       "27. 39\n",
       "28. 41\n",
       "29. 42\n",
       "30. 43\n",
       "31. 46\n",
       "32. 47\n",
       "33. 48\n",
       "34. 49\n",
       "35. 50\n",
       "36. 52\n",
       "37. 53\n",
       "38. 54\n",
       "39. 55\n",
       "40. 56\n",
       "41. 57\n",
       "42. 59\n",
       "43. 60\n",
       "44. 61\n",
       "45. 62\n",
       "46. 63\n",
       "47. 64\n",
       "48. 65\n",
       "49. 66\n",
       "50. 67\n",
       "51. 68\n",
       "52. 69\n",
       "53. 70\n",
       "54. 71\n",
       "55. 72\n",
       "56. 73\n",
       "57. 74\n",
       "58. 75\n",
       "59. 76\n",
       "60. 77\n",
       "61. 78\n",
       "62. 79\n",
       "63. 80\n",
       "64. 81\n",
       "65. 82\n",
       "66. 83\n",
       "67. 84\n",
       "68. 85\n",
       "69. 86\n",
       "70. 87\n",
       "71. 88\n",
       "72. 89\n",
       "73. 90\n",
       "74. 91\n",
       "75. 92\n",
       "76. 93\n",
       "\n",
       "\n"
      ],
      "text/plain": [
       " [1] 1  2  5  6  7  8  9  10 11 12 13 16 18 20 21 22 23 24 25 26 27 28 31 32 33\n",
       "[26] 37 39 41 42 43 46 47 48 49 50 52 53 54 55 56 57 59 60 61 62 63 64 65 66 67\n",
       "[51] 68 69 70 71 72 73 74 75 76 77 78 79 80 81 82 83 84 85 86 87 88 89 90 91 92\n",
       "[76] 93\n",
       "76 Levels: 1 2 5 6 7 8 9 10 11 12 13 16 18 20 21 22 23 24 25 26 27 28 31 ... 93"
      ]
     },
     "metadata": {},
     "output_type": "display_data"
    }
   ],
   "source": [
    "unique(data_50$PID)"
   ]
  },
  {
   "cell_type": "code",
   "execution_count": 27,
   "metadata": {
    "collapsed": true
   },
   "outputs": [],
   "source": [
    "data_50<-data_50[data_50$Significance==1,]"
   ]
  },
  {
   "cell_type": "code",
   "execution_count": 89,
   "metadata": {
    "collapsed": true
   },
   "outputs": [],
   "source": [
    "#d"
   ]
  },
  {
   "cell_type": "code",
   "execution_count": 28,
   "metadata": {
    "collapsed": true,
    "scrolled": true
   },
   "outputs": [],
   "source": [
    "\n",
    "for (pi in unique(data_50$PID)){\n",
    "    d<-data_50[data_50$PID==pi,]\n",
    "    data_50_paper<-rbind(data_50_paper,data.frame(Accuracy.50 = mean(d$Accuracy.50), \n",
    "                                                  PID = pi, Info.type = d$Info.type[1],\n",
    "                                                 Smoothing=d$Smoothing[1],\n",
    "                                                  Roi.Search=d$Roi.Search[1],\n",
    "                                                  Classifier.type=d$Classifier.type[1],\n",
    "                                                  Coregistration=d$Coregistration[1],\n",
    "                                                  Pattern.type=d$Pattern.type[1],\n",
    "                                                  Pattern.normalization.type=d$Pattern.normalization.type[1],\n",
    "                                                  Significance=d$Significance[1],\n",
    "                                                  Resolution_Volume=d$Resolution_Volume[1],\n",
    "                                                  NumSubs=d$Num_subs[1],\n",
    "                                                  Scanner=d$Scanner[1],\n",
    "                                                  Voxel.numbers=mean(d$Voxel.numbers),\n",
    "                                                  Training.setsize=mean(d$Training.setsize)\n",
    "                                                 ))\n",
    "\n",
    "    \n",
    "}"
   ]
  },
  {
   "cell_type": "code",
   "execution_count": 29,
   "metadata": {
    "scrolled": false
   },
   "outputs": [
    {
     "data": {
      "text/html": [
       "75"
      ],
      "text/latex": [
       "75"
      ],
      "text/markdown": [
       "75"
      ],
      "text/plain": [
       "[1] 75"
      ]
     },
     "metadata": {},
     "output_type": "display_data"
    }
   ],
   "source": [
    "\n",
    "data_50_paper<-data_50_paper[order(data_50_paper$PID),]\n",
    "#head(data_50_paper)\n",
    "nrow(data_50_paper)"
   ]
  },
  {
   "cell_type": "code",
   "execution_count": 32,
   "metadata": {
    "scrolled": false
   },
   "outputs": [
    {
     "data": {},
     "metadata": {},
     "output_type": "display_data"
    },
    {
     "data": {
      "image/png": "[encoded data removed]",
      "text/plain": [
       "plot without title"
      ]
     },
     "metadata": {},
     "output_type": "display_data"
    }
   ],
   "source": [
    "\n",
    "data_50_paper$PID2<-as.numeric(data_50_paper$PID)\n",
    "data_50_paper['Classifier']<-data_50_paper$Classifier.type\n",
    "#levels(data_50_paper$Classifier)<-c('linear svm','correlation','gnb','lda','logistic reg','nonlinear svm')\n",
    "\n",
    "#jpeg('../Figures/Supp/scatter_single_study_classifier.jpg',width=8,height=4,units=\"in\",res=800)\n",
    "p<-ggplot(aes(y = Accuracy.50, x = PID2,color=Classifier), data = data_50_paper) +geom_point()+xlab('Study')#+facet_wrap('Info.type')\n",
    "#p<-p+theme(panel.background=element_blank(),axis.ticks.x=element_blank(),axis.text.x=element_blank())\n",
    "p<-p+theme(panel.background=element_blank())\n",
    "#p<-p+theme(axis.text.x = element_text(angle = 0, hjust = 1,size=6))\n",
    "p<-p+theme(axis.line.x = element_line(color=\"black\", size = .3),\n",
    "        axis.line.y = element_line(color=\"black\", size = .3))\n",
    "\n",
    "p<-p+ylab('Classification Accuracy')\n",
    "p<-p+xlab('Study ID')\n",
    "p\n",
    "\n",
    "#dev.off()\n",
    "#p\n",
    "#options(repr.plot.width=8, repr.plot.height=4)"
   ]
  },
  {
   "cell_type": "code",
   "execution_count": 33,
   "metadata": {
    "scrolled": false
   },
   "outputs": [
    {
     "data": {},
     "metadata": {},
     "output_type": "display_data"
    },
    {
     "data": {
      "image/png": "[encoded data removed]",
      "text/plain": [
       "plot without title"
      ]
     },
     "metadata": {},
     "output_type": "display_data"
    }
   ],
   "source": [
    "\n",
    "\n",
    "#jpeg('../Figures/Supp/scatter_single_study_classifier.jpg',width=8,height=4,units=\"in\",res=800)\n",
    "p<-ggplot(aes(y = Accuracy.50, x = PID2,color=Voxel.numbers), data = data_50_paper) +geom_point()+xlab('Study')#+facet_wrap('Info.type')\n",
    "#p<-p+theme(panel.background=element_blank(),axis.ticks.x=element_blank(),axis.text.x=element_blank())\n",
    "p<-p+theme(panel.background=element_blank())\n",
    "#p<-p+theme(axis.text.x = element_text(angle = 0, hjust = 1,size=6))\n",
    "p<-p+theme(axis.line.x = element_line(color=\"black\", size = .3),\n",
    "        axis.line.y = element_line(color=\"black\", size = .3))\n",
    "\n",
    "p<-p+ylab('Voxel Numbers')\n",
    "p<-p+xlab('Study ID')\n",
    "p\n",
    "\n",
    "#dev.off()\n",
    "#p\n",
    "#options(repr.plot.width=8, repr.plot.height=4)"
   ]
  },
  {
   "cell_type": "code",
   "execution_count": 34,
   "metadata": {
    "scrolled": false
   },
   "outputs": [
    {
     "data": {},
     "metadata": {},
     "output_type": "display_data"
    },
    {
     "data": {
      "image/png": "[encoded data removed]",
      "text/plain": [
       "plot without title"
      ]
     },
     "metadata": {},
     "output_type": "display_data"
    }
   ],
   "source": [
    "\n",
    "\n",
    "#jpeg('../Figures/Supp/scatter_single_study_classifier.jpg',width=8,height=4,units=\"in\",res=800)\n",
    "p<-ggplot(aes(y = Accuracy.50, x = PID2,color=Training.setsize), data = data_50_paper) +geom_point()+xlab('Study')#+facet_wrap('Info.type')\n",
    "#p<-p+theme(panel.background=element_blank(),axis.ticks.x=element_blank(),axis.text.x=element_blank())\n",
    "p<-p+theme(panel.background=element_blank())\n",
    "#p<-p+theme(axis.text.x = element_text(angle = 0, hjust = 1,size=6))\n",
    "p<-p+theme(axis.line.x = element_line(color=\"black\", size = .3),\n",
    "        axis.line.y = element_line(color=\"black\", size = .3))\n",
    "\n",
    "p<-p+ylab('Training Set Size')\n",
    "p<-p+xlab('Study ID')\n",
    "p\n",
    "\n",
    "#dev.off()\n",
    "#p\n",
    "#options(repr.plot.width=8, repr.plot.height=4)"
   ]
  },
  {
   "cell_type": "code",
   "execution_count": 37,
   "metadata": {
    "scrolled": false
   },
   "outputs": [
    {
     "data": {},
     "metadata": {},
     "output_type": "display_data"
    },
    {
     "data": {
      "image/png": "[encoded data removed]",
      "text/plain": [
       "plot without title"
      ]
     },
     "metadata": {},
     "output_type": "display_data"
    }
   ],
   "source": [
    "\n",
    "\n",
    "#jpeg('../Figures/Supp/scatter_single_study_classifier.jpg',width=8,height=4,units=\"in\",res=800)\n",
    "p<-ggplot(aes(y = Accuracy.50, x = PID2,color=Resolution_Volume), data = data_50_paper) +geom_point()+xlab('Study')#+facet_wrap('Info.type')\n",
    "#p<-p+theme(panel.background=element_blank(),axis.ticks.x=element_blank(),axis.text.x=element_blank())\n",
    "p<-p+theme(panel.background=element_blank())\n",
    "#p<-p+theme(axis.text.x = element_text(angle = 0, hjust = 1,size=6))\n",
    "p<-p+theme(axis.line.x = element_line(color=\"black\", size = .3),\n",
    "        axis.line.y = element_line(color=\"black\", size = .3))\n",
    "\n",
    "p<-p+ylab('Resolution')\n",
    "p<-p+xlab('Study ID')\n",
    "p\n",
    "\n",
    "#dev.off()\n",
    "#p\n",
    "#options(repr.plot.width=8, repr.plot.height=4)"
   ]
  },
  {
   "cell_type": "code",
   "execution_count": 39,
   "metadata": {
    "scrolled": false
   },
   "outputs": [
    {
     "data": {},
     "metadata": {},
     "output_type": "display_data"
    },
    {
     "data": {
      "image/png": "[encoded data removed]",
      "text/plain": [
       "plot without title"
      ]
     },
     "metadata": {},
     "output_type": "display_data"
    }
   ],
   "source": [
    "\n",
    "\n",
    "#jpeg('../Figures/Supp/scatter_single_study_classifier.jpg',width=8,height=4,units=\"in\",res=800)\n",
    "p<-ggplot(aes(y = Accuracy.50, x = PID2,color=Pattern.type), data = data_50_paper) +geom_point()+xlab('Study')#+facet_wrap('Info.type')\n",
    "#p<-p+theme(panel.background=element_blank(),axis.ticks.x=element_blank(),axis.text.x=element_blank())\n",
    "p<-p+theme(panel.background=element_blank())\n",
    "#p<-p+theme(axis.text.x = element_text(angle = 0, hjust = 1,size=6))\n",
    "p<-p+theme(axis.line.x = element_line(color=\"black\", size = .3),\n",
    "        axis.line.y = element_line(color=\"black\", size = .3))\n",
    "\n",
    "p<-p+ylab('Accuracy')\n",
    "p<-p+xlab('Study ID')\n",
    "p\n",
    "\n",
    "#dev.off()\n",
    "#p\n",
    "#options(repr.plot.width=8, repr.plot.height=4)"
   ]
  },
  {
   "cell_type": "code",
   "execution_count": 40,
   "metadata": {},
   "outputs": [
    {
     "data": {
      "text/html": [
       "<ol class=list-inline>\n",
       "\t<li>27</li>\n",
       "\t<li>36</li>\n",
       "\t<li>27</li>\n",
       "\t<li>18</li>\n",
       "\t<li>27</li>\n",
       "\t<li>27</li>\n",
       "\t<li>9</li>\n",
       "\t<li>27</li>\n",
       "\t<li>27</li>\n",
       "\t<li>3</li>\n",
       "\t<li>27</li>\n",
       "\t<li>36</li>\n",
       "\t<li>12</li>\n",
       "\t<li>27</li>\n",
       "\t<li>27</li>\n",
       "\t<li>27</li>\n",
       "\t<li>45</li>\n",
       "\t<li>27</li>\n",
       "\t<li>27</li>\n",
       "\t<li>1</li>\n",
       "\t<li>1</li>\n",
       "\t<li>27</li>\n",
       "\t<li>27</li>\n",
       "\t<li>12</li>\n",
       "\t<li>12</li>\n",
       "\t<li>36</li>\n",
       "\t<li>18</li>\n",
       "\t<li>27</li>\n",
       "\t<li>27</li>\n",
       "\t<li>8</li>\n",
       "\t<li>27</li>\n",
       "\t<li>27</li>\n",
       "\t<li>27</li>\n",
       "\t<li>27</li>\n",
       "\t<li>36</li>\n",
       "\t<li>36</li>\n",
       "\t<li>4</li>\n",
       "\t<li>27</li>\n",
       "\t<li>27</li>\n",
       "\t<li>27</li>\n",
       "\t<li>36</li>\n",
       "\t<li>27</li>\n",
       "\t<li>27</li>\n",
       "\t<li>36</li>\n",
       "\t<li>64</li>\n",
       "\t<li>27</li>\n",
       "\t<li>36</li>\n",
       "\t<li>27</li>\n",
       "\t<li>8</li>\n",
       "\t<li>18</li>\n",
       "\t<li>27</li>\n",
       "\t<li>27</li>\n",
       "\t<li>4</li>\n",
       "\t<li>27</li>\n",
       "\t<li>27</li>\n",
       "\t<li>27</li>\n",
       "\t<li>8</li>\n",
       "\t<li>27</li>\n",
       "\t<li>36</li>\n",
       "\t<li>27</li>\n",
       "\t<li>36</li>\n",
       "\t<li>2</li>\n",
       "\t<li>27</li>\n",
       "\t<li>2</li>\n",
       "\t<li>64</li>\n",
       "\t<li>27</li>\n",
       "\t<li>12</li>\n",
       "\t<li>64</li>\n",
       "\t<li>27</li>\n",
       "\t<li>8</li>\n",
       "\t<li>27</li>\n",
       "\t<li>27</li>\n",
       "\t<li>4</li>\n",
       "\t<li>27</li>\n",
       "\t<li>27</li>\n",
       "</ol>\n"
      ],
      "text/latex": [
       "\\begin{enumerate*}\n",
       "\\item 27\n",
       "\\item 36\n",
       "\\item 27\n",
       "\\item 18\n",
       "\\item 27\n",
       "\\item 27\n",
       "\\item 9\n",
       "\\item 27\n",
       "\\item 27\n",
       "\\item 3\n",
       "\\item 27\n",
       "\\item 36\n",
       "\\item 12\n",
       "\\item 27\n",
       "\\item 27\n",
       "\\item 27\n",
       "\\item 45\n",
       "\\item 27\n",
       "\\item 27\n",
       "\\item 1\n",
       "\\item 1\n",
       "\\item 27\n",
       "\\item 27\n",
       "\\item 12\n",
       "\\item 12\n",
       "\\item 36\n",
       "\\item 18\n",
       "\\item 27\n",
       "\\item 27\n",
       "\\item 8\n",
       "\\item 27\n",
       "\\item 27\n",
       "\\item 27\n",
       "\\item 27\n",
       "\\item 36\n",
       "\\item 36\n",
       "\\item 4\n",
       "\\item 27\n",
       "\\item 27\n",
       "\\item 27\n",
       "\\item 36\n",
       "\\item 27\n",
       "\\item 27\n",
       "\\item 36\n",
       "\\item 64\n",
       "\\item 27\n",
       "\\item 36\n",
       "\\item 27\n",
       "\\item 8\n",
       "\\item 18\n",
       "\\item 27\n",
       "\\item 27\n",
       "\\item 4\n",
       "\\item 27\n",
       "\\item 27\n",
       "\\item 27\n",
       "\\item 8\n",
       "\\item 27\n",
       "\\item 36\n",
       "\\item 27\n",
       "\\item 36\n",
       "\\item 2\n",
       "\\item 27\n",
       "\\item 2\n",
       "\\item 64\n",
       "\\item 27\n",
       "\\item 12\n",
       "\\item 64\n",
       "\\item 27\n",
       "\\item 8\n",
       "\\item 27\n",
       "\\item 27\n",
       "\\item 4\n",
       "\\item 27\n",
       "\\item 27\n",
       "\\end{enumerate*}\n"
      ],
      "text/markdown": [
       "1. 27\n",
       "2. 36\n",
       "3. 27\n",
       "4. 18\n",
       "5. 27\n",
       "6. 27\n",
       "7. 9\n",
       "8. 27\n",
       "9. 27\n",
       "10. 3\n",
       "11. 27\n",
       "12. 36\n",
       "13. 12\n",
       "14. 27\n",
       "15. 27\n",
       "16. 27\n",
       "17. 45\n",
       "18. 27\n",
       "19. 27\n",
       "20. 1\n",
       "21. 1\n",
       "22. 27\n",
       "23. 27\n",
       "24. 12\n",
       "25. 12\n",
       "26. 36\n",
       "27. 18\n",
       "28. 27\n",
       "29. 27\n",
       "30. 8\n",
       "31. 27\n",
       "32. 27\n",
       "33. 27\n",
       "34. 27\n",
       "35. 36\n",
       "36. 36\n",
       "37. 4\n",
       "38. 27\n",
       "39. 27\n",
       "40. 27\n",
       "41. 36\n",
       "42. 27\n",
       "43. 27\n",
       "44. 36\n",
       "45. 64\n",
       "46. 27\n",
       "47. 36\n",
       "48. 27\n",
       "49. 8\n",
       "50. 18\n",
       "51. 27\n",
       "52. 27\n",
       "53. 4\n",
       "54. 27\n",
       "55. 27\n",
       "56. 27\n",
       "57. 8\n",
       "58. 27\n",
       "59. 36\n",
       "60. 27\n",
       "61. 36\n",
       "62. 2\n",
       "63. 27\n",
       "64. 2\n",
       "65. 64\n",
       "66. 27\n",
       "67. 12\n",
       "68. 64\n",
       "69. 27\n",
       "70. 8\n",
       "71. 27\n",
       "72. 27\n",
       "73. 4\n",
       "74. 27\n",
       "75. 27\n",
       "\n",
       "\n"
      ],
      "text/plain": [
       " [1] 27 36 27 18 27 27  9 27 27  3 27 36 12 27 27 27 45 27 27  1  1 27 27 12 12\n",
       "[26] 36 18 27 27  8 27 27 27 27 36 36  4 27 27 27 36 27 27 36 64 27 36 27  8 18\n",
       "[51] 27 27  4 27 27 27  8 27 36 27 36  2 27  2 64 27 12 64 27  8 27 27  4 27 27"
      ]
     },
     "metadata": {},
     "output_type": "display_data"
    }
   ],
   "source": [
    "data_50_paper$Resolution_Volume"
   ]
  },
  {
   "cell_type": "code",
   "execution_count": 41,
   "metadata": {
    "collapsed": true
   },
   "outputs": [],
   "source": [
    "# factor_model<-lm(Accuracy.50~Scanner+Resolution_Volume,data=data_50_paper)\n",
    "# summary(factor_model)"
   ]
  },
  {
   "cell_type": "code",
   "execution_count": 42,
   "metadata": {
    "collapsed": true
   },
   "outputs": [],
   "source": [
    "#data_50_paper$NumSubs"
   ]
  },
  {
   "cell_type": "code",
   "execution_count": 43,
   "metadata": {
    "collapsed": true
   },
   "outputs": [],
   "source": [
    "#data_50_paper$Resolution_Volume"
   ]
  },
  {
   "cell_type": "code",
   "execution_count": 52,
   "metadata": {},
   "outputs": [
    {
     "data": {
      "text/plain": [
       "\n",
       "Call:\n",
       "lm(formula = Accuracy.50 ~ Classifier.type + Smoothing + Coregistration + \n",
       "    Pattern.normalization.type + NumSubs + Scanner + Roi.Search + \n",
       "    Pattern.type + Resolution_Volume + Voxel.numbers + Training.setsize, \n",
       "    data = data_50_paper)\n",
       "\n",
       "Residuals:\n",
       "      Min        1Q    Median        3Q       Max \n",
       "-0.130011 -0.040732 -0.002901  0.024670  0.203668 \n",
       "\n",
       "Coefficients:\n",
       "                                                  Estimate Std. Error t value\n",
       "(Intercept)                                      6.220e-01  3.250e-02  19.140\n",
       "Classifier.typecorrelation                       9.663e-02  6.981e-02   1.384\n",
       "Classifier.typeGNB                               1.782e-03  4.364e-02   0.041\n",
       "Classifier.typeLDA                               2.322e-02  5.537e-02   0.419\n",
       "Classifier.typeLogReg                           -1.786e-02  2.769e-02  -0.645\n",
       "Classifier.typesvm-nonlin                        1.170e-01  3.863e-02   3.028\n",
       "Smoothingunsmooth                                1.822e-02  2.033e-02   0.896\n",
       "CoregistrationNative Space                      -5.988e-04  1.791e-02  -0.033\n",
       "Pattern.normalization.typeNormalized Spatially   1.133e-02  3.318e-02   0.342\n",
       "Pattern.normalization.typeNormalized Temporally  1.402e-02  2.415e-02   0.580\n",
       "NumSubs                                         -1.173e-03  8.079e-04  -1.452\n",
       "Scanner7T                                        1.750e-02  4.724e-02   0.371\n",
       "Roi.SearchSearchlight Peak                      -4.014e-03  2.317e-02  -0.173\n",
       "Pattern.typeMulti-Trial Single-Time Point       -6.350e-02  3.166e-02  -2.006\n",
       "Pattern.typeSingle Trial Multi-Time Point       -3.690e-02  2.532e-02  -1.457\n",
       "Pattern.typeSingle Trial Single-Time Point      -2.628e-02  3.183e-02  -0.826\n",
       "Resolution_Volume                                2.288e-04  6.447e-04   0.355\n",
       "Voxel.numbers                                    3.154e-06  6.834e-06   0.461\n",
       "Training.setsize                                -1.316e-04  1.141e-04  -1.153\n",
       "                                                Pr(>|t|)    \n",
       "(Intercept)                                      < 2e-16 ***\n",
       "Classifier.typecorrelation                       0.17179    \n",
       "Classifier.typeGNB                               0.96758    \n",
       "Classifier.typeLDA                               0.67662    \n",
       "Classifier.typeLogReg                            0.52149    \n",
       "Classifier.typesvm-nonlin                        0.00371 ** \n",
       "Smoothingunsmooth                                0.37417    \n",
       "CoregistrationNative Space                       0.97344    \n",
       "Pattern.normalization.typeNormalized Spatially   0.73394    \n",
       "Pattern.normalization.typeNormalized Temporally  0.56400    \n",
       "NumSubs                                          0.15207    \n",
       "Scanner7T                                        0.71239    \n",
       "Roi.SearchSearchlight Peak                       0.86308    \n",
       "Pattern.typeMulti-Trial Single-Time Point        0.04973 *  \n",
       "Pattern.typeSingle Trial Multi-Time Point        0.15072    \n",
       "Pattern.typeSingle Trial Single-Time Point       0.41249    \n",
       "Resolution_Volume                                0.72403    \n",
       "Voxel.numbers                                    0.64624    \n",
       "Training.setsize                                 0.25362    \n",
       "---\n",
       "Signif. codes:  0 ‘***’ 0.001 ‘**’ 0.01 ‘*’ 0.05 ‘.’ 0.1 ‘ ’ 1\n",
       "\n",
       "Residual standard error: 0.0644 on 56 degrees of freedom\n",
       "Multiple R-squared:  0.3695,\tAdjusted R-squared:  0.1669 \n",
       "F-statistic: 1.823 on 18 and 56 DF,  p-value: 0.04502\n"
      ]
     },
     "metadata": {},
     "output_type": "display_data"
    }
   ],
   "source": [
    "data_50_paper$Classifier.type<-relevel(data_50_paper$Classifier.type,'svm-lin')\n",
    "factor_model<-lm(Accuracy.50~Classifier.type+Smoothing+Coregistration+Pattern.normalization.type+NumSubs+Scanner+Roi.Search+Pattern.type+Resolution_Volume+Voxel.numbers+Training.setsize,data=data_50_paper)\n",
    "summary(factor_model)\n",
    "d<-anova(factor_model)\n",
    "\n",
    "# no info-type - it's not really between study - 10 studies with more than 1 type - "
   ]
  },
  {
   "cell_type": "code",
   "execution_count": 53,
   "metadata": {},
   "outputs": [
    {
     "data": {
      "text/html": [
       "<table>\n",
       "<thead><tr><th></th><th scope=col>Df</th><th scope=col>Sum Sq</th><th scope=col>Mean Sq</th><th scope=col>F value</th><th scope=col>Pr(&gt;F)</th></tr></thead>\n",
       "<tbody>\n",
       "\t<tr><th scope=row>Classifier.type</th><td>50        </td><td>0.9635366 </td><td>0.1927073 </td><td>46.46195  </td><td>0.01286382</td></tr>\n",
       "</tbody>\n",
       "</table>\n"
      ],
      "text/latex": [
       "\\begin{tabular}{r|lllll}\n",
       "  & Df & Sum Sq & Mean Sq & F value & Pr(>F)\\\\\n",
       "\\hline\n",
       "\tClassifier.type & 50         & 0.9635366  & 0.1927073  & 46.46195   & 0.01286382\\\\\n",
       "\\end{tabular}\n"
      ],
      "text/markdown": [
       "\n",
       "| <!--/--> | Df | Sum Sq | Mean Sq | F value | Pr(>F) | \n",
       "|---|\n",
       "| Classifier.type | 50         | 0.9635366  | 0.1927073  | 46.46195   | 0.01286382 | \n",
       "\n",
       "\n"
      ],
      "text/plain": [
       "                Df Sum Sq    Mean Sq   F value  Pr(>F)    \n",
       "Classifier.type 50 0.9635366 0.1927073 46.46195 0.01286382"
      ]
     },
     "metadata": {},
     "output_type": "display_data"
    }
   ],
   "source": [
    "d[1,]*10"
   ]
  },
  {
   "cell_type": "code",
   "execution_count": 54,
   "metadata": {},
   "outputs": [
    {
     "data": {
      "text/html": [
       "<table>\n",
       "<thead><tr><th></th><th scope=col>Df</th><th scope=col>Sum Sq</th><th scope=col>Mean Sq</th><th scope=col>F value</th><th scope=col>Pr(&gt;F)</th></tr></thead>\n",
       "<tbody>\n",
       "\t<tr><th scope=row>Classifier.type</th><td> 5   </td><td>0.096</td><td>0.019</td><td>4.646</td><td>0.001</td></tr>\n",
       "\t<tr><th scope=row>Smoothing</th><td> 1   </td><td>0.001</td><td>0.001</td><td>0.178</td><td>0.674</td></tr>\n",
       "\t<tr><th scope=row>Coregistration</th><td> 1   </td><td>0.000</td><td>0.000</td><td>0.006</td><td>0.941</td></tr>\n",
       "\t<tr><th scope=row>Pattern.normalization.type</th><td> 2   </td><td>0.001</td><td>0.001</td><td>0.149</td><td>0.862</td></tr>\n",
       "\t<tr><th scope=row>NumSubs</th><td> 1   </td><td>0.003</td><td>0.003</td><td>0.763</td><td>0.386</td></tr>\n",
       "\t<tr><th scope=row>Scanner</th><td> 1   </td><td>0.000</td><td>0.000</td><td>0.045</td><td>0.833</td></tr>\n",
       "\t<tr><th scope=row>Roi.Search</th><td> 1   </td><td>0.004</td><td>0.004</td><td>1.080</td><td>0.303</td></tr>\n",
       "\t<tr><th scope=row>Pattern.type</th><td> 3   </td><td>0.024</td><td>0.008</td><td>1.897</td><td>0.141</td></tr>\n",
       "\t<tr><th scope=row>Resolution_Volume</th><td> 1   </td><td>0.001</td><td>0.001</td><td>0.147</td><td>0.703</td></tr>\n",
       "\t<tr><th scope=row>Voxel.numbers</th><td> 1   </td><td>0.000</td><td>0.000</td><td>0.052</td><td>0.821</td></tr>\n",
       "\t<tr><th scope=row>Training.setsize</th><td> 1   </td><td>0.006</td><td>0.006</td><td>1.330</td><td>0.254</td></tr>\n",
       "\t<tr><th scope=row>Residuals</th><td>56   </td><td>0.232</td><td>0.004</td><td>   NA</td><td>   NA</td></tr>\n",
       "</tbody>\n",
       "</table>\n"
      ],
      "text/latex": [
       "\\begin{tabular}{r|lllll}\n",
       "  & Df & Sum Sq & Mean Sq & F value & Pr(>F)\\\\\n",
       "\\hline\n",
       "\tClassifier.type &  5    & 0.096 & 0.019 & 4.646 & 0.001\\\\\n",
       "\tSmoothing &  1    & 0.001 & 0.001 & 0.178 & 0.674\\\\\n",
       "\tCoregistration &  1    & 0.000 & 0.000 & 0.006 & 0.941\\\\\n",
       "\tPattern.normalization.type &  2    & 0.001 & 0.001 & 0.149 & 0.862\\\\\n",
       "\tNumSubs &  1    & 0.003 & 0.003 & 0.763 & 0.386\\\\\n",
       "\tScanner &  1    & 0.000 & 0.000 & 0.045 & 0.833\\\\\n",
       "\tRoi.Search &  1    & 0.004 & 0.004 & 1.080 & 0.303\\\\\n",
       "\tPattern.type &  3    & 0.024 & 0.008 & 1.897 & 0.141\\\\\n",
       "\tResolution\\_Volume &  1    & 0.001 & 0.001 & 0.147 & 0.703\\\\\n",
       "\tVoxel.numbers &  1    & 0.000 & 0.000 & 0.052 & 0.821\\\\\n",
       "\tTraining.setsize &  1    & 0.006 & 0.006 & 1.330 & 0.254\\\\\n",
       "\tResiduals & 56    & 0.232 & 0.004 &    NA &    NA\\\\\n",
       "\\end{tabular}\n"
      ],
      "text/markdown": [
       "\n",
       "| <!--/--> | Df | Sum Sq | Mean Sq | F value | Pr(>F) | \n",
       "|---|---|---|---|---|---|---|---|---|---|---|---|\n",
       "| Classifier.type |  5    | 0.096 | 0.019 | 4.646 | 0.001 | \n",
       "| Smoothing |  1    | 0.001 | 0.001 | 0.178 | 0.674 | \n",
       "| Coregistration |  1    | 0.000 | 0.000 | 0.006 | 0.941 | \n",
       "| Pattern.normalization.type |  2    | 0.001 | 0.001 | 0.149 | 0.862 | \n",
       "| NumSubs |  1    | 0.003 | 0.003 | 0.763 | 0.386 | \n",
       "| Scanner |  1    | 0.000 | 0.000 | 0.045 | 0.833 | \n",
       "| Roi.Search |  1    | 0.004 | 0.004 | 1.080 | 0.303 | \n",
       "| Pattern.type |  3    | 0.024 | 0.008 | 1.897 | 0.141 | \n",
       "| Resolution_Volume |  1    | 0.001 | 0.001 | 0.147 | 0.703 | \n",
       "| Voxel.numbers |  1    | 0.000 | 0.000 | 0.052 | 0.821 | \n",
       "| Training.setsize |  1    | 0.006 | 0.006 | 1.330 | 0.254 | \n",
       "| Residuals | 56    | 0.232 | 0.004 |    NA |    NA | \n",
       "\n",
       "\n"
      ],
      "text/plain": [
       "                           Df Sum Sq Mean Sq F value Pr(>F)\n",
       "Classifier.type             5 0.096  0.019   4.646   0.001 \n",
       "Smoothing                   1 0.001  0.001   0.178   0.674 \n",
       "Coregistration              1 0.000  0.000   0.006   0.941 \n",
       "Pattern.normalization.type  2 0.001  0.001   0.149   0.862 \n",
       "NumSubs                     1 0.003  0.003   0.763   0.386 \n",
       "Scanner                     1 0.000  0.000   0.045   0.833 \n",
       "Roi.Search                  1 0.004  0.004   1.080   0.303 \n",
       "Pattern.type                3 0.024  0.008   1.897   0.141 \n",
       "Resolution_Volume           1 0.001  0.001   0.147   0.703 \n",
       "Voxel.numbers               1 0.000  0.000   0.052   0.821 \n",
       "Training.setsize            1 0.006  0.006   1.330   0.254 \n",
       "Residuals                  56 0.232  0.004      NA      NA "
      ]
     },
     "metadata": {},
     "output_type": "display_data"
    }
   ],
   "source": [
    "d$Df<-round(d$Df,0)\n",
    "d['Sum Sq']<-round(d['Sum Sq'],3)\n",
    "d['Mean Sq']<-round(d['Mean Sq'],3)\n",
    "d['F value']<-round(d['F value'],3)\n",
    "d['Pr(>F)']<-round(d['Pr(>F)'],3)\n",
    "d"
   ]
  },
  {
   "cell_type": "code",
   "execution_count": null,
   "metadata": {
    "collapsed": true
   },
   "outputs": [],
   "source": [
    "d[,$]"
   ]
  }
 ],
 "metadata": {
  "hide_input": false,
  "kernelspec": {
   "display_name": "R",
   "language": "R",
   "name": "ir"
  },
  "language_info": {
   "codemirror_mode": "r",
   "file_extension": ".r",
   "mimetype": "text/x-r-source",
   "name": "R",
   "pygments_lexer": "r",
   "version": "3.4.1"
  },
  "toc": {
   "nav_menu": {},
   "number_sections": true,
   "sideBar": true,
   "skip_h1_title": false,
   "toc_cell": false,
   "toc_position": {},
   "toc_section_display": "block",
   "toc_window_display": false
  }
 },
 "nbformat": 4,
 "nbformat_minor": 1
}
