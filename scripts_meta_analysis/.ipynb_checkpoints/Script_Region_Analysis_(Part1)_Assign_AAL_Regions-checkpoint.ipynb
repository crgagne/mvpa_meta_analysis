{
 "cells": [
  {
   "cell_type": "code",
   "execution_count": 1,
   "metadata": {
    "collapsed": true
   },
   "outputs": [],
   "source": [
    "%matplotlib inline"
   ]
  },
  {
   "cell_type": "code",
   "execution_count": 4,
   "metadata": {
    "collapsed": true
   },
   "outputs": [],
   "source": [
    "import matplotlib.pyplot as plt\n",
    "import sys\n",
    "sys.path.append('/usr/local/lib/python2.7/site-packages/')\n",
    "from nilearn import datasets\n",
    "from nilearn import plotting\n",
    "import nibabel as nib\n",
    "import pandas as pd\n",
    "from nipy import load_image\n",
    "import numpy as np"
   ]
  },
  {
   "cell_type": "markdown",
   "metadata": {},
   "source": [
    "## MNI Coordinates to AAL"
   ]
  },
  {
   "cell_type": "code",
   "execution_count": 5,
   "metadata": {
    "collapsed": true
   },
   "outputs": [],
   "source": [
    "## Get AAL image\n",
    "\n",
    "\n",
    "dataset = datasets.fetch_atlas_aal()\n",
    "atlas_filename = dataset.maps\n",
    "\n",
    "dataset.indices\n",
    "dataset.indices.append('0')\n",
    "dataset.labels\n",
    "dataset.labels.append('Outside Brain')\n",
    "\n",
    "atlas_img = nib.load(dataset.maps)\n",
    "atlas_img_data = atlas_img.get_data()\n",
    "\n"
   ]
  },
  {
   "cell_type": "code",
   "execution_count": 6,
   "metadata": {},
   "outputs": [
    {
     "name": "stdout",
     "output_type": "stream",
     "text": [
      "['Precentral_L', 'Precentral_R', 'Frontal_Sup_L', 'Frontal_Sup_R']\n",
      "['2001', '2002', '2101', '2102']\n"
     ]
    }
   ],
   "source": [
    "print(dataset.labels[0:4])\n",
    "print(dataset.indices[0:4])"
   ]
  },
  {
   "cell_type": "code",
   "execution_count": 7,
   "metadata": {},
   "outputs": [
    {
     "data": {
      "text/plain": [
       "array([ 64.,  82.,  55.,   1.])"
      ]
     },
     "execution_count": 7,
     "metadata": {},
     "output_type": "execute_result"
    }
   ],
   "source": [
    "def MNI_coordinate_to_aal_index(coord,myimg):\n",
    "    return(np.dot(np.linalg.inv(myimg.affine),coord))\n",
    "\n",
    "MNI_coordinate_to_aal_index(np.array([-38,38,38,1]),atlas_img)"
   ]
  },
  {
   "cell_type": "markdown",
   "metadata": {},
   "source": [
    "### Read in v7"
   ]
  },
  {
   "cell_type": "code",
   "execution_count": 8,
   "metadata": {},
   "outputs": [
    {
     "data": {
      "text/plain": [
       "0    -38,26,24;38,26,24\n",
       "1      -35,19,3;35,19,3\n",
       "2    -38,26,24;38,26,24\n",
       "3      -35,19,3;35,19,3\n",
       "4              38,26,24\n",
       "Name: MNI.Coordinates, dtype: object"
      ]
     },
     "execution_count": 8,
     "metadata": {},
     "output_type": "execute_result"
    }
   ],
   "source": [
    "# read data set in \n",
    "df= pd.read_csv(\"../data_meta_analysis/Data_Classifications_v8b.csv\")\n",
    "df['MNI.Coordinates'].head()\n"
   ]
  },
  {
   "cell_type": "code",
   "execution_count": 9,
   "metadata": {
    "collapsed": true
   },
   "outputs": [],
   "source": [
    "\n",
    "## convert each MNI coordinate into a region name, and concatenate each rows names. \n",
    "for i,c in enumerate(df['MNI.Coordinates']):\n",
    "    if isinstance(c, basestring):\n",
    "        cc = c.split(';')\n",
    "        rnames = []\n",
    "        \n",
    "        for s,single_coord in enumerate(cc):\n",
    "            single_coord = single_coord.replace('_','') # replace underscores\n",
    "            single_coord = single_coord.replace('\\x05','') # replace underscores\n",
    "            #try:\n",
    "            single_coord = np.array([float(x) for x in single_coord.split(',')]) # convert each number to float\n",
    "            #array_of_coords.append(single_coord) # append each entries 1 to multiple single coordinates \n",
    "            #except:\n",
    "            #    print(single_coord)\n",
    "            single_coord = np.append(single_coord,1) # padd with a 1 for the affine transform\n",
    "            vindex = MNI_coordinate_to_aal_index(single_coord,atlas_img)  # convert to AAL voxel indices\n",
    "            vindex = vindex.astype('int')\n",
    "            rindex = atlas_img_data[vindex[0],vindex[1],vindex[2]] # find the code for the region in the map\n",
    "            \n",
    "            rnames.append(dataset.labels[dataset.indices.index(str(rindex))])  # convert the code into region name \n",
    "        \n",
    "            #print(rnames)\n",
    "        df.loc[i,'Region.AAL.1']=\";\".join(rnames)\n",
    "            #print(rindex)"
   ]
  },
  {
   "cell_type": "code",
   "execution_count": 10,
   "metadata": {},
   "outputs": [
    {
     "data": {
      "text/plain": [
       "array(['Frontal_Inf_Tri_L;Frontal_Inf_Tri_R', 'Insula_L;Insula_R',\n",
       "       'Frontal_Inf_Tri_R', 'Frontal_Inf_Tri_L', nan,\n",
       "       'Supp_Motor_Area_L;Supp_Motor_Area_R',\n",
       "       'Supp_Motor_Area_L;Supp_Motor_Area_R;Precentral_L;Precentral_R;Frontal_Mid_L;Frontal_Mid_R;Precentral_L;Precentral_R',\n",
       "       'Frontal_Inf_Orb_L', 'Frontal_Sup_L', 'Frontal_Inf_Oper_L',\n",
       "       'Frontal_Mid_R', 'Cingulum_Ant_R', 'Insula_L', 'Cingulum_Ant_L',\n",
       "       'Frontal_Mid_L', 'Frontal_Sup_Medial_R', 'Precentral_L',\n",
       "       'Cingulum_Mid_L', 'Cingulum_Mid_R', 'Frontal_Sup_R',\n",
       "       'Postcentral_R', 'Postcentral_L;Precentral_R',\n",
       "       'Frontal_Mid_L;Frontal_Mid_R', 'Outside Brain', 'Frontal_Inf_Orb_R',\n",
       "       'Supp_Motor_Area_L', 'Supp_Motor_Area_R', 'Frontal_Med_Orb_L',\n",
       "       'Frontal_Mid_Orb_L', 'Frontal_Sup_Medial_L',\n",
       "       'Frontal_Inf_Tri_R;Frontal_Inf_Tri_L', 'Insula_R;Insula_L',\n",
       "       'Frontal_Inf_Oper_R', 'Precentral_R', 'Frontal_Med_Orb_R',\n",
       "       'Supp_Motor_Area_R;Supp_Motor_Area_R', 'Frontal_Mid_R;Precentral_R',\n",
       "       'Outside Brain;Outside Brain', 'Insula_R',\n",
       "       'Cingulum_Ant_R;Frontal_Sup_Medial_R',\n",
       "       'Frontal_Mid_R;Frontal_Mid_L', 'Precentral_L;Frontal_Inf_Oper_R',\n",
       "       'Rectus_L', 'Rectus_R'], dtype=object)"
      ]
     },
     "execution_count": 10,
     "metadata": {},
     "output_type": "execute_result"
    }
   ],
   "source": [
    "df['Region.AAL.1'].unique()"
   ]
  },
  {
   "cell_type": "markdown",
   "metadata": {},
   "source": [
    "\n",
    "## Name Conversions"
   ]
  },
  {
   "cell_type": "markdown",
   "metadata": {},
   "source": [
    "### AAL"
   ]
  },
  {
   "cell_type": "code",
   "execution_count": 11,
   "metadata": {
    "collapsed": true
   },
   "outputs": [],
   "source": [
    "# take the column in the csv file with non-null AAL entries and puts them in the the Region.AAL.1column \n",
    "df.loc[~df['AAL'].isnull(),'Region.AAL.1'] = df.loc[~df['AAL'].isnull(),'AAL']"
   ]
  },
  {
   "cell_type": "markdown",
   "metadata": {},
   "source": [
    "### BA"
   ]
  },
  {
   "cell_type": "code",
   "execution_count": 12,
   "metadata": {
    "collapsed": true
   },
   "outputs": [],
   "source": [
    "\n",
    "BAtoAAL = {}\n",
    "\n",
    "BAtoAAL['6'] = 'Precentral_R; Precentral_L' #\n",
    "BAtoAAL['6'] = 'Precentral_R; Precentral_L' #\n",
    "BAtoAAL['8'] = 'Frontal_Sup_R; Frontal_Sup_L; Frontal_Mid_R;Frontal_Mid_L; Supp_Motor_Area_R; Supp_Motor_Area_L; Frontal_Sup_Medial_R; Frontal_Sup_Medial_L' #\n",
    "BAtoAAL['9'] =  'Frontal_Mid_L; Frontal_Mid_R; Frontal_Sup_L; Frontal_Sup_R; Frontal_Sup_Medial_R; Frontal_Sup_Medial_L' \n",
    "BAtoAAL['10'] = 'Frontal_Sup_Medial_L; Frontal_Sup_Medial_R; Frontal_Sup_L; Frontal_Sup_R'\n",
    "BAtoAAL['11'] = 'Frontal_Mid_Orb_L; Frontal_Mid_Orb_R; Frontal_Sup_Orb_L; Frontal_Sup_Orb_R'\n",
    "BAtoAAL['12'] = 'Frontal_Mid_Orb_L; Frontal_Mid_Orb_R; Frontal_Sup_Orb_L; Frontal_Sup_Orb_R'\n",
    "BAtoAAL['13'] = 'Frontal_Mid_Orb_L; Frontal_Mid_Orb_R; Frontal_Sup_Orb_L; Frontal_Sup_Orb_R'\n",
    "BAtoAAL['14'] = 'Frontal_Mid_Orb_L; Frontal_Mid_Orb_R; Frontal_Sup_Orb_L; Frontal_Sup_Orb_R' ### check these \n",
    "#'12' 13' # only listed with 11, and I've covered 11\n",
    "\n",
    "# these are straight\n",
    "BAtoAAL['47'] = 'Frontal_Inf_Orb_L; Frontal_Inf_Orb_R'\n",
    "BAtoAAL['45'] = 'Frontal_Inf_Tri_L; Frontal_Inf_Tri_R'\n",
    "BAtoAAL['44'] = 'Frontal_Inf_Oper_L; Frontal_Inf_Oper_R'\n",
    "BAtoAAL['46'] = 'Frontal_Inf_Tri_R; Frontal_Inf_Tri_L; Frontal_Mid_L; Frontal_Mid_R'\n",
    "BAtoAAL['24'] = 'Cingulum_Ant_R; Cingulum_Ant_L; Cingulum_Mid_R; Cingulum_Mid_R'\n",
    "BAtoAAL['32'] = 'Cingulum_Ant_R; Cingulum_Ant_L; Cingulum_Mid_R; Cingulum_Mid_R'"
   ]
  },
  {
   "cell_type": "code",
   "execution_count": 13,
   "metadata": {
    "collapsed": true,
    "scrolled": true
   },
   "outputs": [],
   "source": [
    "remove_left=True\n",
    "remove_right=False\n",
    "\n",
    "\n",
    "# remove left and right if they are not in the name\n",
    "exclude_index = []\n",
    "for n,name in enumerate(rnames):\n",
    "    if 'R' in name and remove_right:  \n",
    "        exclude_index=exclude_index+[n]\n",
    "    if 'L' in name and remove_left: \n",
    "        exclude_index=exclude_index+[n]\n",
    "        \n",
    "rnames = [element for i, element in enumerate(rnames) if i not in exclude_index]"
   ]
  },
  {
   "cell_type": "code",
   "execution_count": 14,
   "metadata": {
    "collapsed": true,
    "scrolled": true
   },
   "outputs": [],
   "source": [
    "for i,c in enumerate(df['BA']):\n",
    "\n",
    "    if isinstance(c, basestring):\n",
    "\n",
    "        # create region list     \n",
    "        cc = c.split(',')\n",
    "        rnames = []\n",
    "        for s,BA in enumerate(cc):\n",
    "            BA = str(int(BA)) # gets rid of spaces\n",
    "            rnames = rnames +  BAtoAAL[BA].split(';') # add to list\n",
    "            \n",
    "\n",
    "        # determine if BA is right, left, or both\n",
    "        region_name = df.loc[i,'Region.name']\n",
    "        if isinstance(region_name, basestring):\n",
    "            if ' R' in region_name or 'Right' in region_name or 'right' in region_name:\n",
    "                remove_left=True # if the name contains R, then remove left \n",
    "            else:\n",
    "                remove_left=False\n",
    "\n",
    "            if ' L' in region_name or 'Left' in region_name or 'left' in region_name:\n",
    "                remove_right=True\n",
    "            else:\n",
    "                remove_right=False        \n",
    "\n",
    "        # remove left and right if they are not in the name\n",
    "        exclude_index = []\n",
    "        for n,name in enumerate(rnames):\n",
    "            if 'R' in name and remove_right:  \n",
    "                exclude_index=exclude_index+[n]\n",
    "            if 'L' in name and remove_left: \n",
    "                exclude_index=exclude_index+[n]\n",
    "\n",
    "\n",
    "        rnames = [element for ii, element in enumerate(rnames) if ii not in exclude_index]\n",
    "        \n",
    "\n",
    "        \n",
    "        # remove duplicates using set and make single string # \n",
    "        region_list = ';'.join(list(set(rnames))) \n",
    "        \n",
    "        \n",
    "        #print(remove_right)\n",
    "        #print(region_list)\n",
    "        \n",
    "        # save to dataframe\n",
    "        df.loc[i,'Region.AAL.1']=region_list# set removes duplicates, then makes it all into a string"
   ]
  },
  {
   "cell_type": "markdown",
   "metadata": {},
   "source": [
    "### OxHarvard"
   ]
  },
  {
   "cell_type": "code",
   "execution_count": 15,
   "metadata": {
    "collapsed": true
   },
   "outputs": [],
   "source": [
    "OxHarvard = {}\n",
    "\n",
    "\n",
    "OxHarvard['DLPFC'] = 'Frontal_Mid_R;Frontal_Mid_L'\n",
    "OxHarvard['dorsal premotor'] = 'Precentral_L; Precentral_R'\n",
    "OxHarvard['ventral premotor']= 'Precentral_L; Precentral_R'\n",
    "OxHarvard['SMA'] = 'Supp_Motor_Area_L; Supp_Motor_Area_R'\n",
    "OxHarvard['pre SMA'] = 'Supp_Motor_Area_L; Supp_Motor_Area_R'\n",
    "OxHarvard['ventrolateral PFC'] = 'Frontal_Inf_Tri_R; Frontal_Inf_Tri_L;Frontal_Inf_Oper_L; Frontal_Inf_Oper_R;Frontal_Inf_Orb_L; Frontal_Inf_Orb_R'\n"
   ]
  },
  {
   "cell_type": "code",
   "execution_count": 16,
   "metadata": {
    "collapsed": true,
    "scrolled": true
   },
   "outputs": [],
   "source": [
    "for i,c in enumerate(df['OxHarvard']):\n",
    "    if isinstance(c, basestring):\n",
    "        cc = c.split(',')\n",
    "        rnames = []\n",
    "        for s,BA in enumerate(cc):\n",
    "            rnames = rnames +  OxHarvard[BA].split(';') # add to list\n",
    "        #print(c)\n",
    "        #print(rnames)\n",
    "        df.loc[i,'Region.AAL.1']=';'.join(list(set(rnames))) # set removes duplicates, then makes it all into a string"
   ]
  },
  {
   "cell_type": "code",
   "execution_count": 17,
   "metadata": {},
   "outputs": [
    {
     "data": {
      "text/html": [
       "<div>\n",
       "<style scoped>\n",
       "    .dataframe tbody tr th:only-of-type {\n",
       "        vertical-align: middle;\n",
       "    }\n",
       "\n",
       "    .dataframe tbody tr th {\n",
       "        vertical-align: top;\n",
       "    }\n",
       "\n",
       "    .dataframe thead th {\n",
       "        text-align: right;\n",
       "    }\n",
       "</style>\n",
       "<table border=\"1\" class=\"dataframe\">\n",
       "  <thead>\n",
       "    <tr style=\"text-align: right;\">\n",
       "      <th></th>\n",
       "      <th>Region.name</th>\n",
       "      <th>OxHarvard</th>\n",
       "      <th>Region.AAL.1</th>\n",
       "    </tr>\n",
       "  </thead>\n",
       "  <tbody>\n",
       "    <tr>\n",
       "      <th>425</th>\n",
       "      <td>DLPFC</td>\n",
       "      <td>DLPFC</td>\n",
       "      <td>Frontal_Mid_R;Frontal_Mid_L</td>\n",
       "    </tr>\n",
       "    <tr>\n",
       "      <th>426</th>\n",
       "      <td>dorsal premotor</td>\n",
       "      <td>dorsal premotor</td>\n",
       "      <td>Precentral_L; Precentral_R</td>\n",
       "    </tr>\n",
       "    <tr>\n",
       "      <th>427</th>\n",
       "      <td>SMA</td>\n",
       "      <td>SMA</td>\n",
       "      <td>Supp_Motor_Area_R;Supp_Motor_Area_L</td>\n",
       "    </tr>\n",
       "    <tr>\n",
       "      <th>428</th>\n",
       "      <td>SMA</td>\n",
       "      <td>SMA</td>\n",
       "      <td>Supp_Motor_Area_R;Supp_Motor_Area_L</td>\n",
       "    </tr>\n",
       "    <tr>\n",
       "      <th>429</th>\n",
       "      <td>SMA</td>\n",
       "      <td>SMA</td>\n",
       "      <td>Supp_Motor_Area_R;Supp_Motor_Area_L</td>\n",
       "    </tr>\n",
       "  </tbody>\n",
       "</table>\n",
       "</div>"
      ],
      "text/plain": [
       "         Region.name        OxHarvard                          Region.AAL.1\n",
       "425            DLPFC            DLPFC           Frontal_Mid_R;Frontal_Mid_L\n",
       "426  dorsal premotor  dorsal premotor            Precentral_L; Precentral_R\n",
       "427              SMA              SMA   Supp_Motor_Area_R;Supp_Motor_Area_L\n",
       "428              SMA              SMA   Supp_Motor_Area_R;Supp_Motor_Area_L\n",
       "429              SMA              SMA   Supp_Motor_Area_R;Supp_Motor_Area_L"
      ]
     },
     "execution_count": 17,
     "metadata": {},
     "output_type": "execute_result"
    }
   ],
   "source": [
    "df.loc[df['OxHarvard'].notnull(),['Region.name','OxHarvard','Region.AAL.1']].head()"
   ]
  },
  {
   "cell_type": "markdown",
   "metadata": {},
   "source": [
    "### Desikan"
   ]
  },
  {
   "cell_type": "code",
   "execution_count": 18,
   "metadata": {
    "collapsed": true
   },
   "outputs": [],
   "source": [
    "desikan = {}\n",
    "\n",
    "\n",
    "desikan['LPFC L'] = 'Frontal_Mid_L; Frontal_Inf_Tri_L; Frontal_Inf_Oper_L' \n",
    "desikan['LPFC R'] = 'Frontal_Mid_R; Frontal_Inf_Tri_R; Frontal_Inf_Oper_R' \n",
    "desikan['Bi-lateral LPFC'] = 'Frontal_Mid_L; Frontal_Inf_Tri_L; Frontal_Inf_Oper_L; Frontal_Mid_R; Frontal_Inf_Tri_R; Frontal_Inf_Oper_R' \n",
    "# these were explicitly listed in paper 7 \n",
    "\n",
    "desikan['Caudal Anterior Cingulate'] = 'Cingulum_Mid_R; Cingulum_Mid_L'\n",
    "desikan['Rostral Anterior Cingulate'] = 'Cingulum_Ant_R; Cingulum_Ant_L'\n",
    "\n",
    "\n",
    "desikan['Pars Opercularis'] = 'Frontal_Inf_Oper_L;Frontal_Inf_Oper_R'\n",
    "\n",
    "desikan['Pars Triangularis']= 'Frontal_Inf_Tri_L;Frontal_Inf_Tri_R'\n",
    "desikan['Pars Orbitalis'] = 'Frontal_Inf_Orb_L;Frontal_Inf_Orb_R'\n",
    "desikan['Lateral Orbitofrontal'] = 'Frontal_Mid_Orb_R; Frontal_Mid_Orb_L; Frontal_Inf_Orb_R; Frontal_Inf_Orb_L'\n",
    "\n",
    "desikan['Superior Frontal'] = 'Frontal_Sup_R; Frontal_Sup_L'\n",
    "desikan['Caudal Middle Frontal'] = 'Frontal_Mid_R; Frontal_Mid_L'\n",
    "desikan['Caudal Mid Frontal'] = 'Frontal_Mid_R; Frontal_Mid_L'\n",
    "\n",
    "desikan['Rostral Mid Frontal'] = 'Frontal_Mid_R; Frontal_Mid_L'\n",
    "desikan['Rostral Middle Frontal'] = 'Frontal_Mid_R; Frontal_Mid_L'\n",
    "\n",
    "desikan['Frontal Pole'] = 'Frontal_Sup_Medial_L; Frontal_Sup_Medial_R; Frontal_Sup_L; Frontal_Sup_R'\n",
    "\n",
    "desikan['Insula'] = 'Insula_R; Insula_L'\n",
    "\n"
   ]
  },
  {
   "cell_type": "code",
   "execution_count": 19,
   "metadata": {
    "collapsed": true,
    "scrolled": true
   },
   "outputs": [],
   "source": [
    "for i,c in enumerate(df['Desikan']):\n",
    "    if isinstance(c, basestring):\n",
    "        cc = c.split(',')\n",
    "        rnames = []\n",
    "        for s,BA in enumerate(cc):\n",
    "            BA = BA.rstrip() # remove trailing white space\n",
    "            rnames = rnames +  desikan[BA].split(';') # add to list\n",
    "        #print(c)\n",
    "        #print(rnames)\n",
    "        df.loc[i,'Region.AAL.1']=';'.join(list(set(rnames))) # set removes duplicates, then makes it all into a string"
   ]
  },
  {
   "cell_type": "code",
   "execution_count": 20,
   "metadata": {
    "scrolled": false
   },
   "outputs": [
    {
     "data": {
      "text/html": [
       "<div>\n",
       "<style scoped>\n",
       "    .dataframe tbody tr th:only-of-type {\n",
       "        vertical-align: middle;\n",
       "    }\n",
       "\n",
       "    .dataframe tbody tr th {\n",
       "        vertical-align: top;\n",
       "    }\n",
       "\n",
       "    .dataframe thead th {\n",
       "        text-align: right;\n",
       "    }\n",
       "</style>\n",
       "<table border=\"1\" class=\"dataframe\">\n",
       "  <thead>\n",
       "    <tr style=\"text-align: right;\">\n",
       "      <th></th>\n",
       "      <th>Region.name</th>\n",
       "      <th>Desikan</th>\n",
       "      <th>Region.AAL.1</th>\n",
       "    </tr>\n",
       "  </thead>\n",
       "  <tbody>\n",
       "    <tr>\n",
       "      <th>22</th>\n",
       "      <td>LPFC R</td>\n",
       "      <td>LPFC R</td>\n",
       "      <td>Frontal_Inf_Tri_R;Frontal_Mid_R; Frontal_Inf_...</td>\n",
       "    </tr>\n",
       "    <tr>\n",
       "      <th>23</th>\n",
       "      <td>LPFC L</td>\n",
       "      <td>LPFC L</td>\n",
       "      <td>Frontal_Inf_Oper_L;Frontal_Mid_L; Frontal_Inf...</td>\n",
       "    </tr>\n",
       "    <tr>\n",
       "      <th>24</th>\n",
       "      <td>LPFC R</td>\n",
       "      <td>LPFC R</td>\n",
       "      <td>Frontal_Inf_Tri_R;Frontal_Mid_R; Frontal_Inf_...</td>\n",
       "    </tr>\n",
       "    <tr>\n",
       "      <th>25</th>\n",
       "      <td>LPFC R</td>\n",
       "      <td>LPFC R</td>\n",
       "      <td>Frontal_Inf_Tri_R;Frontal_Mid_R; Frontal_Inf_...</td>\n",
       "    </tr>\n",
       "    <tr>\n",
       "      <th>26</th>\n",
       "      <td>LPFC R</td>\n",
       "      <td>LPFC R</td>\n",
       "      <td>Frontal_Inf_Tri_R;Frontal_Mid_R; Frontal_Inf_...</td>\n",
       "    </tr>\n",
       "  </tbody>\n",
       "</table>\n",
       "</div>"
      ],
      "text/plain": [
       "   Region.name Desikan                                       Region.AAL.1\n",
       "22      LPFC R  LPFC R   Frontal_Inf_Tri_R;Frontal_Mid_R; Frontal_Inf_...\n",
       "23      LPFC L  LPFC L   Frontal_Inf_Oper_L;Frontal_Mid_L; Frontal_Inf...\n",
       "24      LPFC R  LPFC R   Frontal_Inf_Tri_R;Frontal_Mid_R; Frontal_Inf_...\n",
       "25      LPFC R  LPFC R   Frontal_Inf_Tri_R;Frontal_Mid_R; Frontal_Inf_...\n",
       "26      LPFC R  LPFC R   Frontal_Inf_Tri_R;Frontal_Mid_R; Frontal_Inf_..."
      ]
     },
     "execution_count": 20,
     "metadata": {},
     "output_type": "execute_result"
    }
   ],
   "source": [
    "df.loc[df['Desikan'].notnull(),['Region.name','Desikan','Region.AAL.1']].head()"
   ]
  },
  {
   "cell_type": "markdown",
   "metadata": {},
   "source": [
    "### Destrieux"
   ]
  },
  {
   "cell_type": "code",
   "execution_count": 21,
   "metadata": {
    "collapsed": true
   },
   "outputs": [],
   "source": [
    "destrieux = {}\n",
    "destrieux['premotor'] = 'Precentral_L; Precentral_R'"
   ]
  },
  {
   "cell_type": "code",
   "execution_count": 22,
   "metadata": {
    "collapsed": true,
    "scrolled": true
   },
   "outputs": [],
   "source": [
    "for i,c in enumerate(df['Destrieux']):\n",
    "    if isinstance(c, basestring):\n",
    "        cc = c.split(',')\n",
    "        rnames = []\n",
    "        for s,BA in enumerate(cc):\n",
    "            BA = BA.rstrip() # remove trailing white space\n",
    "            rnames = rnames +  destrieux[BA].split(';') # add to list\n",
    "        #print(c)\n",
    "        #print(rnames)\n",
    "        df.loc[i,'Region.AAL.1']=';'.join(list(set(rnames))) # set removes duplicates, then makes it all into a string"
   ]
  },
  {
   "cell_type": "code",
   "execution_count": 23,
   "metadata": {},
   "outputs": [
    {
     "data": {
      "text/html": [
       "<div>\n",
       "<style scoped>\n",
       "    .dataframe tbody tr th:only-of-type {\n",
       "        vertical-align: middle;\n",
       "    }\n",
       "\n",
       "    .dataframe tbody tr th {\n",
       "        vertical-align: top;\n",
       "    }\n",
       "\n",
       "    .dataframe thead th {\n",
       "        text-align: right;\n",
       "    }\n",
       "</style>\n",
       "<table border=\"1\" class=\"dataframe\">\n",
       "  <thead>\n",
       "    <tr style=\"text-align: right;\">\n",
       "      <th></th>\n",
       "      <th>Region.name</th>\n",
       "      <th>Destrieux</th>\n",
       "      <th>Region.AAL.1</th>\n",
       "    </tr>\n",
       "  </thead>\n",
       "  <tbody>\n",
       "    <tr>\n",
       "      <th>603</th>\n",
       "      <td>premotor</td>\n",
       "      <td>premotor</td>\n",
       "      <td>Precentral_L; Precentral_R</td>\n",
       "    </tr>\n",
       "    <tr>\n",
       "      <th>604</th>\n",
       "      <td>premotor</td>\n",
       "      <td>premotor</td>\n",
       "      <td>Precentral_L; Precentral_R</td>\n",
       "    </tr>\n",
       "    <tr>\n",
       "      <th>605</th>\n",
       "      <td>premotor</td>\n",
       "      <td>premotor</td>\n",
       "      <td>Precentral_L; Precentral_R</td>\n",
       "    </tr>\n",
       "  </tbody>\n",
       "</table>\n",
       "</div>"
      ],
      "text/plain": [
       "    Region.name Destrieux                Region.AAL.1\n",
       "603    premotor  premotor  Precentral_L; Precentral_R\n",
       "604    premotor  premotor  Precentral_L; Precentral_R\n",
       "605    premotor  premotor  Precentral_L; Precentral_R"
      ]
     },
     "execution_count": 23,
     "metadata": {},
     "output_type": "execute_result"
    }
   ],
   "source": [
    "df.loc[df['Destrieux'].notnull(),['Region.name','Destrieux','Region.AAL.1']].head()"
   ]
  },
  {
   "cell_type": "markdown",
   "metadata": {},
   "source": [
    "### No Atlas Specified"
   ]
  },
  {
   "cell_type": "code",
   "execution_count": 24,
   "metadata": {
    "collapsed": true
   },
   "outputs": [],
   "source": [
    "unknown = {}\n",
    "\n",
    "\n",
    "unknown['SMA']= 'Supp_Motor_Area_R; Supp_Motor_Area_L'\n",
    "unknown['LOper'] = 'Frontal_Inf_Oper_L'\n",
    "unknown['ROper'] = 'Frontal_Inf_Oper_R'\n",
    "unknown['LTria'] = 'Frontal_Inf_Tri_L'\n",
    "unknown['RTria'] = 'Frontal_Inf_Tri_R'\n",
    "unknown['FO'] = 'Frontal_Inf_Oper_R; Frontal_Inf_Oper_L;'\n",
    "unknown['MFC'] = 'Cingulum_Mid_R;Cingulum_Mid_L;Cingulum_Ant_R;Cingulum_Ant_L'\n",
    "unknown['SEF'] = 'Supp_Motor_Area_L; Supp_Motor_Area_R'\n",
    "\n",
    "unknown['lFEF'] = 'Supp_Motor_Area_L'\n",
    "unknown['mPFC'] = 'Frontal_Sup_Medial_R; Frontal_Sup_Medial_L' \n",
    "\n",
    "unknown['Insula']= 'Insula_R; Insula_L'\n",
    "\n",
    "unknown['mSFG']= 'Frontal_Sup_Medial_L; Frontal_Sup_Medial_R'\n",
    "unknown['MFG']= 'Frontal_Mid_L; Frontal_Mid_R'\n",
    "\n",
    "unknown['Frontal'] = 'Frontal_Mid_L; Frontal_Mid_R'  ## Check \n",
    "unknown['lPFC']= 'Frontal_Mid_L; Frontal_Mid_R' \n",
    "unknown['Superior frontal sulcus'] = 'Frontal_Sup_L; Frontal_Sup_R' \n",
    "\n",
    "unknown['FEF'] = 'Precentral_R; Precentral_L'\n",
    "unknown['bilateral FEF'] = 'Precentral_R; Precentral_L'\n",
    "unknown['RFEF'] = 'Precentral_R'\n",
    "\n",
    "unknown['Cingulate'] = 'Cingulum_Ant_R; Cingulum_Ant_L; Cingulum_Mid_R; Cingulum_Mid_L'\n",
    "unknown['rACC R'] = 'Cingulum_Ant_R'\n",
    "unknown['rACC'] = 'Cingulum_Ant_R; Cingulum_Ant_L'\n",
    "unknown['dACC L'] = 'Cingulum_Ant_L'\n",
    "unknown['ACC'] =  'Cingulum_Ant_L; Cingulum_Ant_R'\n",
    "unknown['Medial prefrontal'] = 'Frontal_Sup_Medial_L; Frontal_Sup_Medial_R'\n",
    "unknown['left medial frontal gyrus'] =  'Frontal_Sup_Medial_L'\n",
    "\n",
    "\n",
    "unknown['Anterior Insula L'] = 'Insula_L'\n",
    "unknown['Anterior Insula R'] = 'Insula_R'\n",
    "unknown['INS'] = 'Insula_R; Insula_L'\n",
    "unknown['Anterior Insula R'] = 'Insula_R'\n",
    "\n",
    "\n",
    "unknown['left inferior frontal gyrus'] = 'Frontal_Inf_Tri_L' ##\n",
    "unknown['right inferior frontal gyrus'] = 'Frontal_Inf_Tri_R'\n",
    "unknown['IFG'] = 'Frontal_Inf_Tri_L' ## \n",
    "\n",
    "\n",
    "unknown['DLPFC'] = 'Frontal_Mid_L; Frontal_Mid_R' ##\n",
    "unknown['DLFPC'] = 'Frontal_Mid_L; Frontal_Mid_R' ##\n",
    "\n",
    "unknown['Dorsolateral PFC'] = 'Frontal_Mid_L; Frontal_Mid_R' \n",
    "\n",
    "unknown['left DLPFC']  = 'Frontal_Mid_L' ##\n",
    "unknown['LDLPFC']  = 'Frontal_Mid_L' ##\n",
    "unknown['RDLPFC'] = 'Frontal_Mid_R' ##\n",
    "unknown['right DLPFC']  = 'Frontal_Mid_R' ##\n",
    "unknown['left middle frontal gyrus']='Frontal_Mid_L' ##\n",
    "\n",
    "unknown['anterior regions of left lateral PFC'] = 'Frontal_Mid_L'\n",
    "\n",
    "unknown['OFC'] = 'Frontal_Inf_Orb_L; Frontal_Inf_Orb_L; Frontal_Mid_Orb_L;Frontal_Mid_Orb_R;Frontal_Sup_Orb_L;Frontal_Sup_Orb_R;'\n",
    "unknown['orbitofrontal cortex'] = 'Frontal_Inf_Orb_L; Frontal_Inf_Orb_L; Frontal_Mid_Orb_L;Frontal_Mid_Orb_R;Frontal_Sup_Orb_L;Frontal_Sup_Orb_R;'\n",
    "unknown['mOFC'] = 'Frontal_Mid_Orb_L;Frontal_Mid_Orb_R'\n",
    "unknown['LOFC'] = 'Frontal_Inf_Orb_L; Frontal_Inf_Orb_L'\n",
    "\n",
    "\n",
    "unknown['right PMC'] = 'Precentral_R'\n",
    "unknown['medial frontopolar'] = 'Frontal_Sup_Medial_R; Frontal_Sup_Medial_L'\n"
   ]
  },
  {
   "cell_type": "code",
   "execution_count": 25,
   "metadata": {
    "collapsed": true,
    "scrolled": true
   },
   "outputs": [],
   "source": [
    "for i,c in enumerate(df['Unkown Atlas']):\n",
    "    if isinstance(c, basestring):\n",
    "        cc = c.split(',')\n",
    "        rnames = []\n",
    "        for s,BA in enumerate(cc):\n",
    "            BA = BA.rstrip() # remove trailing white space\n",
    "            rnames = rnames +  unknown[BA].split(';') # add to list\n",
    "        #print(c)\n",
    "        #print(rnames)\n",
    "        df.loc[i,'Region.AAL.1']=';'.join(list(set(rnames))) # set removes duplicates, then makes it all into a string"
   ]
  },
  {
   "cell_type": "code",
   "execution_count": 26,
   "metadata": {
    "scrolled": false
   },
   "outputs": [
    {
     "data": {
      "text/html": [
       "<div>\n",
       "<style scoped>\n",
       "    .dataframe tbody tr th:only-of-type {\n",
       "        vertical-align: middle;\n",
       "    }\n",
       "\n",
       "    .dataframe tbody tr th {\n",
       "        vertical-align: top;\n",
       "    }\n",
       "\n",
       "    .dataframe thead th {\n",
       "        text-align: right;\n",
       "    }\n",
       "</style>\n",
       "<table border=\"1\" class=\"dataframe\">\n",
       "  <thead>\n",
       "    <tr style=\"text-align: right;\">\n",
       "      <th></th>\n",
       "      <th>Region.name</th>\n",
       "      <th>Unkown Atlas</th>\n",
       "      <th>Region.AAL.1</th>\n",
       "    </tr>\n",
       "  </thead>\n",
       "  <tbody>\n",
       "    <tr>\n",
       "      <th>12</th>\n",
       "      <td>Insula</td>\n",
       "      <td>Insula</td>\n",
       "      <td>Insula_R; Insula_L</td>\n",
       "    </tr>\n",
       "    <tr>\n",
       "      <th>13</th>\n",
       "      <td>mSFG</td>\n",
       "      <td>mSFG</td>\n",
       "      <td>Frontal_Sup_Medial_R;Frontal_Sup_Medial_L</td>\n",
       "    </tr>\n",
       "    <tr>\n",
       "      <th>14</th>\n",
       "      <td>MFG</td>\n",
       "      <td>MFG</td>\n",
       "      <td>Frontal_Mid_R;Frontal_Mid_L</td>\n",
       "    </tr>\n",
       "    <tr>\n",
       "      <th>15</th>\n",
       "      <td>FEF</td>\n",
       "      <td>FEF</td>\n",
       "      <td>Precentral_L;Precentral_R</td>\n",
       "    </tr>\n",
       "    <tr>\n",
       "      <th>64</th>\n",
       "      <td>Frontal ROI: The frontal region included the e...</td>\n",
       "      <td>Frontal</td>\n",
       "      <td>Frontal_Mid_R;Frontal_Mid_L</td>\n",
       "    </tr>\n",
       "  </tbody>\n",
       "</table>\n",
       "</div>"
      ],
      "text/plain": [
       "                                          Region.name Unkown Atlas  \\\n",
       "12                                             Insula       Insula   \n",
       "13                                               mSFG         mSFG   \n",
       "14                                                MFG          MFG   \n",
       "15                                                FEF          FEF   \n",
       "64  Frontal ROI: The frontal region included the e...      Frontal   \n",
       "\n",
       "                                  Region.AAL.1  \n",
       "12                          Insula_R; Insula_L  \n",
       "13   Frontal_Sup_Medial_R;Frontal_Sup_Medial_L  \n",
       "14                 Frontal_Mid_R;Frontal_Mid_L  \n",
       "15                   Precentral_L;Precentral_R  \n",
       "64                 Frontal_Mid_R;Frontal_Mid_L  "
      ]
     },
     "execution_count": 26,
     "metadata": {},
     "output_type": "execute_result"
    }
   ],
   "source": [
    "df.loc[df['Unkown Atlas'].notnull(),['Region.name','Unkown Atlas','Region.AAL.1']].head()"
   ]
  },
  {
   "cell_type": "markdown",
   "metadata": {},
   "source": [
    "### Outside brain fixes"
   ]
  },
  {
   "cell_type": "code",
   "execution_count": 27,
   "metadata": {},
   "outputs": [
    {
     "name": "stdout",
     "output_type": "stream",
     "text": [
      "266    right superior frontal lobe\n",
      "302     Lateral frontopolar cortex\n",
      "305               dorsomedial aPFC\n",
      "307               dorsomedial aPFC\n",
      "384         Medial frontal gyrus _\n",
      "413              RLPFC right BA 46\n",
      "416              RLPFC right BA 46\n",
      "Name: Region.name, dtype: object\n",
      "7\n"
     ]
    }
   ],
   "source": [
    "print(df.loc[df['Region.AAL.1']=='Outside Brain','Region.name']) # print the outside of the brain.\n",
    "print(len(df.loc[df['Region.AAL.1']=='Outside Brain','Region.name']))"
   ]
  },
  {
   "cell_type": "code",
   "execution_count": 28,
   "metadata": {
    "collapsed": true
   },
   "outputs": [],
   "source": [
    "df.loc[(df['Region.AAL.1']=='Outside Brain')&(df['PID']==42),'Region.AAL.1']=['Frontal_Inf_Tri_R; Frontal_Inf_Tri_L; Frontal_Mid_L; Frontal_Mid_R',\n",
    "                                                            'Frontal_Inf_Tri_R; Frontal_Inf_Tri_L; Frontal_Mid_L; Frontal_Mid_R']"
   ]
  },
  {
   "cell_type": "code",
   "execution_count": 29,
   "metadata": {
    "collapsed": true
   },
   "outputs": [],
   "source": [
    "df.loc[(df['Region.AAL.1']=='Outside Brain')&(df['PID']==27),'Region.AAL.1']=['Frontal_Sup_Medial_L; Frontal_Sup_Medial_R',\n",
    "                                                                              'Frontal_Sup_Medial_L; Frontal_Sup_Medial_R']"
   ]
  },
  {
   "cell_type": "code",
   "execution_count": 30,
   "metadata": {
    "collapsed": true
   },
   "outputs": [],
   "source": [
    "df.loc[(df['Region.AAL.1']=='Outside Brain')&(df['PID']==20),'Region.AAL.1']=['Frontal_Sup_R']"
   ]
  },
  {
   "cell_type": "code",
   "execution_count": 31,
   "metadata": {
    "collapsed": true
   },
   "outputs": [],
   "source": [
    "df.loc[(df['Region.AAL.1']=='Outside Brain')&(df['PID']==39),'Region.AAL.1']=['Frontal_Sup_Medial_L; Frontal_Sup_Medial_R']"
   ]
  },
  {
   "cell_type": "code",
   "execution_count": 32,
   "metadata": {
    "collapsed": true
   },
   "outputs": [],
   "source": [
    "df.loc[(df['Region.AAL.1']=='Outside Brain')&(df['PID']==24),'Region.AAL.1']=['Frontal_Sup_Medial_L; Frontal_Sup_Medial_R']"
   ]
  },
  {
   "cell_type": "code",
   "execution_count": 33,
   "metadata": {
    "collapsed": true
   },
   "outputs": [],
   "source": [
    "## other mscl fixes \n",
    "df.loc[df['Region.AAL.1']=='; Frontal_Inf_Oper_L;Frontal_Inf_Oper_R',['Region.AAL.1']] = 'Frontal_Inf_Oper_L;Frontal_Inf_Oper_R'\n",
    "df.loc[df['Region.AAL.1']==';Frontal_Mid_Orb_R; Frontal_Inf_Orb_L;Frontal_Sup_Orb_L;Frontal_Inf_Orb_L;Frontal_Sup_Orb_R; Frontal_Mid_Orb_L'\n",
    "       ,['Region.AAL.1']]= 'Frontal_Mid_Orb_R; Frontal_Inf_Orb_L;Frontal_Sup_Orb_L;Frontal_Inf_Orb_L;Frontal_Sup_Orb_R; Frontal_Mid_Orb_L'"
   ]
  },
  {
   "cell_type": "code",
   "execution_count": 34,
   "metadata": {
    "collapsed": true
   },
   "outputs": [],
   "source": [
    "## other mscl fixes \n",
    "df.loc[df['Region.AAL.1']=='Outside Brain;Outside Brain','Region.AAL.1'] = 'Supp_Motor_Area_R;Supp_Motor_Area_L'"
   ]
  },
  {
   "cell_type": "code",
   "execution_count": 35,
   "metadata": {
    "collapsed": true
   },
   "outputs": [],
   "source": [
    "df.loc[df['Region.AAL.1']=='Rectus_R','Region.AAL.1']='Frontal_Sup_Orb_R'\n",
    "df.loc[df['Region.AAL.1']=='Rectus_L','Region.AAL.1']='Frontal_Sup_Orb_L'"
   ]
  },
  {
   "cell_type": "markdown",
   "metadata": {},
   "source": [
    "## Save a CSV with region"
   ]
  },
  {
   "cell_type": "code",
   "execution_count": 36,
   "metadata": {
    "collapsed": true
   },
   "outputs": [],
   "source": [
    "df.to_csv('../data_meta_analysis/data_derived_meta_analysis/Data_Classifications_v8b_with_region.csv',index=False)\n",
    "df= pd.read_csv(\"../data_meta_analysis/data_derived_meta_analysis/Data_Classifications_v8b_with_region.csv\")"
   ]
  },
  {
   "cell_type": "markdown",
   "metadata": {},
   "source": [
    "## Create a region design (X) Matrix"
   ]
  },
  {
   "cell_type": "code",
   "execution_count": 37,
   "metadata": {
    "collapsed": true
   },
   "outputs": [],
   "source": [
    "# create X matrix for region\n",
    "\n",
    "labels = dataset.labels\n",
    "X = np.zeros((len(df),len(labels))) # make it the size of the entire AAL list\n",
    "\n",
    "# go through each row of dataset,and for each name in the string, find the location in the region name in the list\n",
    "for i,c in enumerate(df['Region.AAL.1']):\n",
    "    if isinstance(c, basestring):\n",
    "        cc = c.split(';')\n",
    "        for single_name in cc:\n",
    "            #print(single_name)\n",
    "            single_name = single_name.lstrip()\n",
    "            X[i,dataset.labels.index(single_name)]=1\n",
    "\n",
    "# remove the labels with no ones\n",
    "labels =np.array(labels)\n",
    "labels =labels[X.sum(0)!=0]\n",
    "# now remove row's with no region. \n",
    "X = X[:,X.sum(0)!=0]\n",
    "\n",
    "\n"
   ]
  },
  {
   "cell_type": "code",
   "execution_count": 38,
   "metadata": {},
   "outputs": [
    {
     "data": {
      "text/plain": [
       "array(['Precentral_L', 'Precentral_R', 'Frontal_Sup_L', 'Frontal_Sup_R',\n",
       "       'Frontal_Sup_Orb_L', 'Frontal_Sup_Orb_R', 'Frontal_Mid_L',\n",
       "       'Frontal_Mid_R', 'Frontal_Mid_Orb_L', 'Frontal_Mid_Orb_R',\n",
       "       'Frontal_Inf_Oper_L', 'Frontal_Inf_Oper_R', 'Frontal_Inf_Tri_L',\n",
       "       'Frontal_Inf_Tri_R', 'Frontal_Inf_Orb_L', 'Frontal_Inf_Orb_R',\n",
       "       'Supp_Motor_Area_L', 'Supp_Motor_Area_R', 'Frontal_Sup_Medial_L',\n",
       "       'Frontal_Sup_Medial_R', 'Frontal_Med_Orb_L', 'Frontal_Med_Orb_R',\n",
       "       'Insula_L', 'Insula_R', 'Cingulum_Ant_L', 'Cingulum_Ant_R',\n",
       "       'Cingulum_Mid_L', 'Cingulum_Mid_R', 'Postcentral_L', 'Postcentral_R'],\n",
       "      dtype='|S20')"
      ]
     },
     "execution_count": 38,
     "metadata": {},
     "output_type": "execute_result"
    }
   ],
   "source": [
    "labels = np.array(labels)\n",
    "labels[X.sum(0)!=0]"
   ]
  },
  {
   "cell_type": "code",
   "execution_count": 39,
   "metadata": {},
   "outputs": [
    {
     "data": {
      "text/html": [
       "<div>\n",
       "<style scoped>\n",
       "    .dataframe tbody tr th:only-of-type {\n",
       "        vertical-align: middle;\n",
       "    }\n",
       "\n",
       "    .dataframe tbody tr th {\n",
       "        vertical-align: top;\n",
       "    }\n",
       "\n",
       "    .dataframe thead th {\n",
       "        text-align: right;\n",
       "    }\n",
       "</style>\n",
       "<table border=\"1\" class=\"dataframe\">\n",
       "  <thead>\n",
       "    <tr style=\"text-align: right;\">\n",
       "      <th></th>\n",
       "      <th>Precentral_L</th>\n",
       "      <th>Precentral_R</th>\n",
       "      <th>Frontal_Sup_L</th>\n",
       "      <th>Frontal_Sup_R</th>\n",
       "      <th>Frontal_Sup_Orb_L</th>\n",
       "      <th>Frontal_Sup_Orb_R</th>\n",
       "      <th>Frontal_Mid_L</th>\n",
       "      <th>Frontal_Mid_R</th>\n",
       "      <th>Frontal_Mid_Orb_L</th>\n",
       "      <th>Frontal_Mid_Orb_R</th>\n",
       "      <th>...</th>\n",
       "      <th>Frontal_Med_Orb_L</th>\n",
       "      <th>Frontal_Med_Orb_R</th>\n",
       "      <th>Insula_L</th>\n",
       "      <th>Insula_R</th>\n",
       "      <th>Cingulum_Ant_L</th>\n",
       "      <th>Cingulum_Ant_R</th>\n",
       "      <th>Cingulum_Mid_L</th>\n",
       "      <th>Cingulum_Mid_R</th>\n",
       "      <th>Postcentral_L</th>\n",
       "      <th>Postcentral_R</th>\n",
       "    </tr>\n",
       "  </thead>\n",
       "  <tbody>\n",
       "    <tr>\n",
       "      <th>0</th>\n",
       "      <td>0.0</td>\n",
       "      <td>0.0</td>\n",
       "      <td>0.0</td>\n",
       "      <td>0.0</td>\n",
       "      <td>0.0</td>\n",
       "      <td>0.0</td>\n",
       "      <td>0.0</td>\n",
       "      <td>0.0</td>\n",
       "      <td>0.0</td>\n",
       "      <td>0.0</td>\n",
       "      <td>...</td>\n",
       "      <td>0.0</td>\n",
       "      <td>0.0</td>\n",
       "      <td>0.0</td>\n",
       "      <td>0.0</td>\n",
       "      <td>0.0</td>\n",
       "      <td>0.0</td>\n",
       "      <td>0.0</td>\n",
       "      <td>0.0</td>\n",
       "      <td>0.0</td>\n",
       "      <td>0.0</td>\n",
       "    </tr>\n",
       "    <tr>\n",
       "      <th>1</th>\n",
       "      <td>0.0</td>\n",
       "      <td>0.0</td>\n",
       "      <td>0.0</td>\n",
       "      <td>0.0</td>\n",
       "      <td>0.0</td>\n",
       "      <td>0.0</td>\n",
       "      <td>0.0</td>\n",
       "      <td>0.0</td>\n",
       "      <td>0.0</td>\n",
       "      <td>0.0</td>\n",
       "      <td>...</td>\n",
       "      <td>0.0</td>\n",
       "      <td>0.0</td>\n",
       "      <td>1.0</td>\n",
       "      <td>1.0</td>\n",
       "      <td>0.0</td>\n",
       "      <td>0.0</td>\n",
       "      <td>0.0</td>\n",
       "      <td>0.0</td>\n",
       "      <td>0.0</td>\n",
       "      <td>0.0</td>\n",
       "    </tr>\n",
       "    <tr>\n",
       "      <th>2</th>\n",
       "      <td>0.0</td>\n",
       "      <td>0.0</td>\n",
       "      <td>0.0</td>\n",
       "      <td>0.0</td>\n",
       "      <td>0.0</td>\n",
       "      <td>0.0</td>\n",
       "      <td>0.0</td>\n",
       "      <td>0.0</td>\n",
       "      <td>0.0</td>\n",
       "      <td>0.0</td>\n",
       "      <td>...</td>\n",
       "      <td>0.0</td>\n",
       "      <td>0.0</td>\n",
       "      <td>0.0</td>\n",
       "      <td>0.0</td>\n",
       "      <td>0.0</td>\n",
       "      <td>0.0</td>\n",
       "      <td>0.0</td>\n",
       "      <td>0.0</td>\n",
       "      <td>0.0</td>\n",
       "      <td>0.0</td>\n",
       "    </tr>\n",
       "    <tr>\n",
       "      <th>3</th>\n",
       "      <td>0.0</td>\n",
       "      <td>0.0</td>\n",
       "      <td>0.0</td>\n",
       "      <td>0.0</td>\n",
       "      <td>0.0</td>\n",
       "      <td>0.0</td>\n",
       "      <td>0.0</td>\n",
       "      <td>0.0</td>\n",
       "      <td>0.0</td>\n",
       "      <td>0.0</td>\n",
       "      <td>...</td>\n",
       "      <td>0.0</td>\n",
       "      <td>0.0</td>\n",
       "      <td>1.0</td>\n",
       "      <td>1.0</td>\n",
       "      <td>0.0</td>\n",
       "      <td>0.0</td>\n",
       "      <td>0.0</td>\n",
       "      <td>0.0</td>\n",
       "      <td>0.0</td>\n",
       "      <td>0.0</td>\n",
       "    </tr>\n",
       "    <tr>\n",
       "      <th>4</th>\n",
       "      <td>0.0</td>\n",
       "      <td>0.0</td>\n",
       "      <td>0.0</td>\n",
       "      <td>0.0</td>\n",
       "      <td>0.0</td>\n",
       "      <td>0.0</td>\n",
       "      <td>0.0</td>\n",
       "      <td>0.0</td>\n",
       "      <td>0.0</td>\n",
       "      <td>0.0</td>\n",
       "      <td>...</td>\n",
       "      <td>0.0</td>\n",
       "      <td>0.0</td>\n",
       "      <td>0.0</td>\n",
       "      <td>0.0</td>\n",
       "      <td>0.0</td>\n",
       "      <td>0.0</td>\n",
       "      <td>0.0</td>\n",
       "      <td>0.0</td>\n",
       "      <td>0.0</td>\n",
       "      <td>0.0</td>\n",
       "    </tr>\n",
       "  </tbody>\n",
       "</table>\n",
       "<p>5 rows × 30 columns</p>\n",
       "</div>"
      ],
      "text/plain": [
       "   Precentral_L  Precentral_R  Frontal_Sup_L  Frontal_Sup_R  \\\n",
       "0           0.0           0.0            0.0            0.0   \n",
       "1           0.0           0.0            0.0            0.0   \n",
       "2           0.0           0.0            0.0            0.0   \n",
       "3           0.0           0.0            0.0            0.0   \n",
       "4           0.0           0.0            0.0            0.0   \n",
       "\n",
       "   Frontal_Sup_Orb_L  Frontal_Sup_Orb_R  Frontal_Mid_L  Frontal_Mid_R  \\\n",
       "0                0.0                0.0            0.0            0.0   \n",
       "1                0.0                0.0            0.0            0.0   \n",
       "2                0.0                0.0            0.0            0.0   \n",
       "3                0.0                0.0            0.0            0.0   \n",
       "4                0.0                0.0            0.0            0.0   \n",
       "\n",
       "   Frontal_Mid_Orb_L  Frontal_Mid_Orb_R      ...        Frontal_Med_Orb_L  \\\n",
       "0                0.0                0.0      ...                      0.0   \n",
       "1                0.0                0.0      ...                      0.0   \n",
       "2                0.0                0.0      ...                      0.0   \n",
       "3                0.0                0.0      ...                      0.0   \n",
       "4                0.0                0.0      ...                      0.0   \n",
       "\n",
       "   Frontal_Med_Orb_R  Insula_L  Insula_R  Cingulum_Ant_L  Cingulum_Ant_R  \\\n",
       "0                0.0       0.0       0.0             0.0             0.0   \n",
       "1                0.0       1.0       1.0             0.0             0.0   \n",
       "2                0.0       0.0       0.0             0.0             0.0   \n",
       "3                0.0       1.0       1.0             0.0             0.0   \n",
       "4                0.0       0.0       0.0             0.0             0.0   \n",
       "\n",
       "   Cingulum_Mid_L  Cingulum_Mid_R  Postcentral_L  Postcentral_R  \n",
       "0             0.0             0.0            0.0            0.0  \n",
       "1             0.0             0.0            0.0            0.0  \n",
       "2             0.0             0.0            0.0            0.0  \n",
       "3             0.0             0.0            0.0            0.0  \n",
       "4             0.0             0.0            0.0            0.0  \n",
       "\n",
       "[5 rows x 30 columns]"
      ]
     },
     "execution_count": 39,
     "metadata": {},
     "output_type": "execute_result"
    }
   ],
   "source": [
    "# make design matrix into a dataframe \n",
    "d = pd.DataFrame(X)\n",
    "d.columns = labels\n",
    "d.head()"
   ]
  },
  {
   "cell_type": "markdown",
   "metadata": {},
   "source": [
    "### Plot Design Matrix"
   ]
  },
  {
   "cell_type": "code",
   "execution_count": 40,
   "metadata": {},
   "outputs": [
    {
     "data": {
      "text/plain": [
       "<matplotlib.image.AxesImage at 0x1154f5990>"
      ]
     },
     "execution_count": 40,
     "metadata": {},
     "output_type": "execute_result"
    },
    {
     "data": {
      "image/png": "[encoded data removed]",
      "text/plain": [
       "<matplotlib.figure.Figure at 0x114c08150>"
      ]
     },
     "metadata": {},
     "output_type": "display_data"
    }
   ],
   "source": [
    "plt.matshow(X,aspect='auto')"
   ]
  },
  {
   "cell_type": "markdown",
   "metadata": {},
   "source": [
    "### Rows that have no region.."
   ]
  },
  {
   "cell_type": "code",
   "execution_count": 41,
   "metadata": {
    "scrolled": true
   },
   "outputs": [
    {
     "data": {
      "text/plain": [
       "0"
      ]
     },
     "execution_count": 41,
     "metadata": {},
     "output_type": "execute_result"
    }
   ],
   "source": [
    "(d.sum(1)==0).sum()"
   ]
  },
  {
   "cell_type": "code",
   "execution_count": 42,
   "metadata": {},
   "outputs": [
    {
     "data": {
      "text/html": [
       "<div>\n",
       "<style scoped>\n",
       "    .dataframe tbody tr th:only-of-type {\n",
       "        vertical-align: middle;\n",
       "    }\n",
       "\n",
       "    .dataframe tbody tr th {\n",
       "        vertical-align: top;\n",
       "    }\n",
       "\n",
       "    .dataframe thead th {\n",
       "        text-align: right;\n",
       "    }\n",
       "</style>\n",
       "<table border=\"1\" class=\"dataframe\">\n",
       "  <thead>\n",
       "    <tr style=\"text-align: right;\">\n",
       "      <th></th>\n",
       "      <th>Unnamed: 0</th>\n",
       "      <th>PID</th>\n",
       "      <th>Year</th>\n",
       "      <th>Title</th>\n",
       "      <th>Info.type</th>\n",
       "      <th>Source.in.paper</th>\n",
       "      <th>Task.variable.decoded</th>\n",
       "      <th>Accuracy.50</th>\n",
       "      <th>Accuracy.other</th>\n",
       "      <th>Num_classes</th>\n",
       "      <th>...</th>\n",
       "      <th>Unkown Atlas</th>\n",
       "      <th>Method.of.Assigning.Region</th>\n",
       "      <th>Region.name</th>\n",
       "      <th>Voxel.numbers</th>\n",
       "      <th>Training.setsize</th>\n",
       "      <th>Accuracy.50.Median</th>\n",
       "      <th>Notes</th>\n",
       "      <th>More.Notes</th>\n",
       "      <th>Accuracy.50.original</th>\n",
       "      <th>Region.AAL.1</th>\n",
       "    </tr>\n",
       "  </thead>\n",
       "  <tbody>\n",
       "  </tbody>\n",
       "</table>\n",
       "<p>0 rows × 43 columns</p>\n",
       "</div>"
      ],
      "text/plain": [
       "Empty DataFrame\n",
       "Columns: [Unnamed: 0, PID, Year, Title, Info.type, Source.in.paper, Task.variable.decoded, Accuracy.50, Accuracy.other, Num_classes, Significance, Roi.Search, Pattern.type, Classifier.type, Classifier.Fitted, Scanner, Resolution, Smoothing, Coregistration, Movement.Correction, Pattern.normalization.type, Num_subs, Num_trials, Num_class_types, Talairach.Coordinates, MNI.Coordinates, Coordinate.Space, ROI.Atlas, BA, AAL, Desikan, OxHarvard, Destrieux, Unkown Atlas, Method.of.Assigning.Region, Region.name, Voxel.numbers, Training.setsize, Accuracy.50.Median, Notes, More.Notes, Accuracy.50.original, Region.AAL.1]\n",
       "Index: []\n",
       "\n",
       "[0 rows x 43 columns]"
      ]
     },
     "execution_count": 42,
     "metadata": {},
     "output_type": "execute_result"
    }
   ],
   "source": [
    "df.loc[(d.sum(1)==0)]"
   ]
  },
  {
   "cell_type": "markdown",
   "metadata": {},
   "source": [
    "### Save X"
   ]
  },
  {
   "cell_type": "code",
   "execution_count": 43,
   "metadata": {
    "collapsed": true
   },
   "outputs": [],
   "source": [
    "d.to_csv('../data_meta_analysis/data_derived_meta_analysis/X_region1_v8b.csv',index=None)"
   ]
  },
  {
   "cell_type": "code",
   "execution_count": 44,
   "metadata": {},
   "outputs": [
    {
     "name": "stdout",
     "output_type": "stream",
     "text": [
      "done\n"
     ]
    }
   ],
   "source": [
    "print('done')"
   ]
  }
 ],
 "metadata": {
  "hide_input": false,
  "kernelspec": {
   "display_name": "Python 2",
   "language": "python",
   "name": "python2"
  },
  "language_info": {
   "codemirror_mode": {
    "name": "ipython",
    "version": 2
   },
   "file_extension": ".py",
   "mimetype": "text/x-python",
   "name": "python",
   "nbconvert_exporter": "python",
   "pygments_lexer": "ipython2",
   "version": "2.7.14"
  },
  "toc": {
   "nav_menu": {},
   "number_sections": true,
   "sideBar": true,
   "skip_h1_title": false,
   "toc_cell": false,
   "toc_position": {},
   "toc_section_display": "block",
   "toc_window_display": false
  }
 },
 "nbformat": 4,
 "nbformat_minor": 1
}
