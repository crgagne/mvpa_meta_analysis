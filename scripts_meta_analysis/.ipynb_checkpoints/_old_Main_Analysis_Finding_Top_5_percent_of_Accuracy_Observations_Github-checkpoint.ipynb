{
 "cells": [
  {
   "cell_type": "markdown",
   "metadata": {},
   "source": [
    "Finding the Top 5% of Observations for use in the outlier analysis "
   ]
  },
  {
   "cell_type": "code",
   "execution_count": 1,
   "metadata": {
    "collapsed": true
   },
   "outputs": [],
   "source": [
    "import pandas as pd\n",
    "import numpy as np\n",
    "import matplotlib.pyplot as plt\n",
    "%matplotlib inline"
   ]
  },
  {
   "cell_type": "code",
   "execution_count": 2,
   "metadata": {
    "collapsed": true
   },
   "outputs": [],
   "source": [
    "df = pd.read_csv('../data_meta_analysis/Data_Classifications_v7.csv')"
   ]
  },
  {
   "cell_type": "code",
   "execution_count": 3,
   "metadata": {
    "collapsed": true
   },
   "outputs": [],
   "source": [
    "X = pd.read_csv('../data_meta_analysis/data_derived_meta_analysis/X_region1_2.csv')"
   ]
  },
  {
   "cell_type": "code",
   "execution_count": 4,
   "metadata": {
    "collapsed": true
   },
   "outputs": [],
   "source": [
    "# add aal names\n",
    "for row in range(X.shape[0]):\n",
    "    df.loc[row,'AAL.Region.2']=','.join(list(X.columns[X.loc[row,:]==1]))"
   ]
  },
  {
   "cell_type": "code",
   "execution_count": 5,
   "metadata": {},
   "outputs": [
    {
     "data": {
      "text/plain": [
       "877"
      ]
     },
     "execution_count": 5,
     "metadata": {},
     "output_type": "execute_result"
    }
   ],
   "source": [
    "df.head()\n",
    "len(df)"
   ]
  },
  {
   "cell_type": "code",
   "execution_count": 6,
   "metadata": {},
   "outputs": [
    {
     "name": "stdout",
     "output_type": "stream",
     "text": [
      "[93 88 87 80 77 75 69 66 64 63 59 57 56 55 53 52 50 43 37 33 32 28 23 16 11\n",
      " 10  6  1 91 85 82 78 71 49 48 24 13  5 84 83 79 76 74 73 72 70 67 65 60 54\n",
      " 47 46 42 41 31 27 26 25 22 21 20 18 12  9  8  7  2 92 90 89 86 81 68 62 61\n",
      " 39]\n",
      "76\n"
     ]
    }
   ],
   "source": [
    "print(df.PID.unique())\n",
    "print(len(df.PID.unique()))"
   ]
  },
  {
   "cell_type": "markdown",
   "metadata": {},
   "source": [
    "Find the 95% percetile for the raw accuracy data (na's excluded). "
   ]
  },
  {
   "cell_type": "code",
   "execution_count": 7,
   "metadata": {},
   "outputs": [
    {
     "name": "stdout",
     "output_type": "stream",
     "text": [
      "0.75\n"
     ]
    }
   ],
   "source": [
    "acc = df['Accuracy.50'].as_matrix()[:]\n",
    "acc = acc[~np.isnan(acc)]\n",
    "p95 = np.percentile(acc,95)\n",
    "print(p95)"
   ]
  },
  {
   "cell_type": "code",
   "execution_count": 8,
   "metadata": {},
   "outputs": [
    {
     "data": {
      "text/plain": [
       "<matplotlib.lines.Line2D at 0x7fce784bbc90>"
      ]
     },
     "execution_count": 8,
     "metadata": {},
     "output_type": "execute_result"
    },
    {
     "data": {
      "image/png": "[encoded data removed]",
      "text/plain": [
       "<matplotlib.figure.Figure at 0x7fce784bb550>"
      ]
     },
     "metadata": {},
     "output_type": "display_data"
    }
   ],
   "source": [
    "\n",
    "plt.hist(acc)\n",
    "plt.axvline(x=p95)"
   ]
  },
  {
   "cell_type": "markdown",
   "metadata": {},
   "source": [
    "There are 41 observations of accuracy > .75 coming from 11 papers. "
   ]
  },
  {
   "cell_type": "code",
   "execution_count": 9,
   "metadata": {},
   "outputs": [
    {
     "name": "stdout",
     "output_type": "stream",
     "text": [
      "41\n",
      "[69 66 52 50 78 71 48 70 54 31 39]\n",
      "11\n"
     ]
    }
   ],
   "source": [
    "outliers = df.loc[df['Accuracy.50']>p95,]\n",
    "print(len(outliers))\n",
    "print(outliers.PID.unique())\n",
    "print(len(outliers.PID.unique()))"
   ]
  },
  {
   "cell_type": "markdown",
   "metadata": {},
   "source": [
    "Save to look at "
   ]
  },
  {
   "cell_type": "code",
   "execution_count": 10,
   "metadata": {},
   "outputs": [
    {
     "data": {
      "text/html": [
       "<div>\n",
       "<table border=\"1\" class=\"dataframe\">\n",
       "  <thead>\n",
       "    <tr style=\"text-align: right;\">\n",
       "      <th></th>\n",
       "      <th>PID</th>\n",
       "      <th>Title</th>\n",
       "      <th>Info.type</th>\n",
       "      <th>Source.in.paper</th>\n",
       "      <th>Task.variable.decoded</th>\n",
       "      <th>Accuracy.50</th>\n",
       "      <th>Accuracy.other</th>\n",
       "      <th>Num_classes</th>\n",
       "      <th>Significance</th>\n",
       "      <th>Roi.Search</th>\n",
       "      <th>...</th>\n",
       "      <th>ROI.Atlas</th>\n",
       "      <th>BA</th>\n",
       "      <th>AAL</th>\n",
       "      <th>Desikan</th>\n",
       "      <th>OxHarvard</th>\n",
       "      <th>Destrieux</th>\n",
       "      <th>Unkown Atlas</th>\n",
       "      <th>Method.of.Assigning.Region</th>\n",
       "      <th>Region.name</th>\n",
       "      <th>AAL.Region.2</th>\n",
       "    </tr>\n",
       "  </thead>\n",
       "  <tbody>\n",
       "    <tr>\n",
       "      <th>49</th>\n",
       "      <td>69</td>\n",
       "      <td>Judging semantic similarity: an event-related ...</td>\n",
       "      <td>Perceptual</td>\n",
       "      <td>Figure 3B</td>\n",
       "      <td>whether subjects heard and made similarity jud...</td>\n",
       "      <td>0.80</td>\n",
       "      <td>NaN</td>\n",
       "      <td>2</td>\n",
       "      <td>1</td>\n",
       "      <td>ROI</td>\n",
       "      <td>...</td>\n",
       "      <td>unkown</td>\n",
       "      <td>NaN</td>\n",
       "      <td>NaN</td>\n",
       "      <td>NaN</td>\n",
       "      <td>NaN</td>\n",
       "      <td>NaN</td>\n",
       "      <td>Cingulate</td>\n",
       "      <td>name similarity</td>\n",
       "      <td>Cingulate</td>\n",
       "      <td>Cingulum_Ant_L,Cingulum_Ant_R,Cingulum_Mid_L,C...</td>\n",
       "    </tr>\n",
       "    <tr>\n",
       "      <th>50</th>\n",
       "      <td>69</td>\n",
       "      <td>Judging semantic similarity: an event-related ...</td>\n",
       "      <td>Perceptual</td>\n",
       "      <td>Figure 3B</td>\n",
       "      <td>whether subjects heard and made similarity jud...</td>\n",
       "      <td>0.85</td>\n",
       "      <td>NaN</td>\n",
       "      <td>2</td>\n",
       "      <td>1</td>\n",
       "      <td>ROI</td>\n",
       "      <td>...</td>\n",
       "      <td>unkown</td>\n",
       "      <td>NaN</td>\n",
       "      <td>NaN</td>\n",
       "      <td>NaN</td>\n",
       "      <td>NaN</td>\n",
       "      <td>NaN</td>\n",
       "      <td>Cingulate</td>\n",
       "      <td>name similarity</td>\n",
       "      <td>Cingulate</td>\n",
       "      <td>Cingulum_Ant_L,Cingulum_Ant_R,Cingulum_Mid_L,C...</td>\n",
       "    </tr>\n",
       "    <tr>\n",
       "      <th>52</th>\n",
       "      <td>66</td>\n",
       "      <td>Representation of Spatial Information in Key A...</td>\n",
       "      <td>Perceptual</td>\n",
       "      <td>Table 1</td>\n",
       "      <td>whether subjects experience pain on arm or leg</td>\n",
       "      <td>0.79</td>\n",
       "      <td>NaN</td>\n",
       "      <td>2</td>\n",
       "      <td>1</td>\n",
       "      <td>ROI</td>\n",
       "      <td>...</td>\n",
       "      <td>unkown</td>\n",
       "      <td>NaN</td>\n",
       "      <td>NaN</td>\n",
       "      <td>NaN</td>\n",
       "      <td>NaN</td>\n",
       "      <td>NaN</td>\n",
       "      <td>left DLPFC</td>\n",
       "      <td>name similarity</td>\n",
       "      <td>left DLPFC</td>\n",
       "      <td>Frontal_Mid_L</td>\n",
       "    </tr>\n",
       "    <tr>\n",
       "      <th>53</th>\n",
       "      <td>66</td>\n",
       "      <td>Representation of Spatial Information in Key A...</td>\n",
       "      <td>Perceptual</td>\n",
       "      <td>Table 1</td>\n",
       "      <td>whether subjects anticipated pain on arm or leg</td>\n",
       "      <td>0.79</td>\n",
       "      <td>NaN</td>\n",
       "      <td>2</td>\n",
       "      <td>1</td>\n",
       "      <td>ROI</td>\n",
       "      <td>...</td>\n",
       "      <td>unkown</td>\n",
       "      <td>NaN</td>\n",
       "      <td>NaN</td>\n",
       "      <td>NaN</td>\n",
       "      <td>NaN</td>\n",
       "      <td>NaN</td>\n",
       "      <td>right DLPFC</td>\n",
       "      <td>name similarity</td>\n",
       "      <td>right DLPFC</td>\n",
       "      <td>Frontal_Mid_R</td>\n",
       "    </tr>\n",
       "    <tr>\n",
       "      <th>54</th>\n",
       "      <td>66</td>\n",
       "      <td>Representation of Spatial Information in Key A...</td>\n",
       "      <td>Perceptual</td>\n",
       "      <td>Table 1</td>\n",
       "      <td>whether subjects experience pain on arm or leg</td>\n",
       "      <td>0.83</td>\n",
       "      <td>NaN</td>\n",
       "      <td>2</td>\n",
       "      <td>1</td>\n",
       "      <td>ROI</td>\n",
       "      <td>...</td>\n",
       "      <td>unkown</td>\n",
       "      <td>NaN</td>\n",
       "      <td>NaN</td>\n",
       "      <td>NaN</td>\n",
       "      <td>NaN</td>\n",
       "      <td>NaN</td>\n",
       "      <td>right DLPFC</td>\n",
       "      <td>name similarity</td>\n",
       "      <td>right DLPFC</td>\n",
       "      <td>Frontal_Mid_R</td>\n",
       "    </tr>\n",
       "  </tbody>\n",
       "</table>\n",
       "<p>5 rows × 33 columns</p>\n",
       "</div>"
      ],
      "text/plain": [
       "    PID                                              Title   Info.type  \\\n",
       "49   69  Judging semantic similarity: an event-related ...  Perceptual   \n",
       "50   69  Judging semantic similarity: an event-related ...  Perceptual   \n",
       "52   66  Representation of Spatial Information in Key A...  Perceptual   \n",
       "53   66  Representation of Spatial Information in Key A...  Perceptual   \n",
       "54   66  Representation of Spatial Information in Key A...  Perceptual   \n",
       "\n",
       "   Source.in.paper                              Task.variable.decoded  \\\n",
       "49       Figure 3B  whether subjects heard and made similarity jud...   \n",
       "50       Figure 3B  whether subjects heard and made similarity jud...   \n",
       "52         Table 1     whether subjects experience pain on arm or leg   \n",
       "53         Table 1    whether subjects anticipated pain on arm or leg   \n",
       "54         Table 1     whether subjects experience pain on arm or leg   \n",
       "\n",
       "    Accuracy.50  Accuracy.other  Num_classes Significance Roi.Search  \\\n",
       "49         0.80             NaN            2            1        ROI   \n",
       "50         0.85             NaN            2            1        ROI   \n",
       "52         0.79             NaN            2            1        ROI   \n",
       "53         0.79             NaN            2            1        ROI   \n",
       "54         0.83             NaN            2            1        ROI   \n",
       "\n",
       "                          ...                         ROI.Atlas   BA  AAL  \\\n",
       "49                        ...                            unkown  NaN  NaN   \n",
       "50                        ...                            unkown  NaN  NaN   \n",
       "52                        ...                            unkown  NaN  NaN   \n",
       "53                        ...                            unkown  NaN  NaN   \n",
       "54                        ...                            unkown  NaN  NaN   \n",
       "\n",
       "   Desikan OxHarvard Destrieux Unkown Atlas Method.of.Assigning.Region  \\\n",
       "49     NaN       NaN       NaN    Cingulate            name similarity   \n",
       "50     NaN       NaN       NaN    Cingulate            name similarity   \n",
       "52     NaN       NaN       NaN   left DLPFC            name similarity   \n",
       "53     NaN       NaN       NaN  right DLPFC            name similarity   \n",
       "54     NaN       NaN       NaN  right DLPFC            name similarity   \n",
       "\n",
       "    Region.name                                       AAL.Region.2  \n",
       "49    Cingulate  Cingulum_Ant_L,Cingulum_Ant_R,Cingulum_Mid_L,C...  \n",
       "50    Cingulate  Cingulum_Ant_L,Cingulum_Ant_R,Cingulum_Mid_L,C...  \n",
       "52   left DLPFC                                      Frontal_Mid_L  \n",
       "53  right DLPFC                                      Frontal_Mid_R  \n",
       "54  right DLPFC                                      Frontal_Mid_R  \n",
       "\n",
       "[5 rows x 33 columns]"
      ]
     },
     "execution_count": 10,
     "metadata": {},
     "output_type": "execute_result"
    }
   ],
   "source": [
    "outliers.head()"
   ]
  },
  {
   "cell_type": "code",
   "execution_count": 11,
   "metadata": {
    "collapsed": true
   },
   "outputs": [],
   "source": [
    "outliers.to_csv('../data_meta_analysis/data_derived_meta_analysis/outliers_dataframe_with_full_data.csv',header=True)"
   ]
  }
 ],
 "metadata": {
  "hide_input": false,
  "kernelspec": {
   "display_name": "Python 2",
   "language": "python",
   "name": "python2"
  },
  "language_info": {
   "codemirror_mode": {
    "name": "ipython",
    "version": 2
   },
   "file_extension": ".py",
   "mimetype": "text/x-python",
   "name": "python",
   "nbconvert_exporter": "python",
   "pygments_lexer": "ipython2",
   "version": "2.7.14"
  },
  "toc": {
   "nav_menu": {},
   "number_sections": true,
   "sideBar": true,
   "skip_h1_title": false,
   "toc_cell": false,
   "toc_position": {},
   "toc_section_display": "block",
   "toc_window_display": false
  }
 },
 "nbformat": 4,
 "nbformat_minor": 1
}
