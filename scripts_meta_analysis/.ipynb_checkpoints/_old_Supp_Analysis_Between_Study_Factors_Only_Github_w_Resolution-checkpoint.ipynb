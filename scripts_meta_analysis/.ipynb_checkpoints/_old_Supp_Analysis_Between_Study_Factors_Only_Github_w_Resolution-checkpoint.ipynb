{
 "cells": [
  {
   "cell_type": "code",
   "execution_count": 71,
   "metadata": {
    "collapsed": true
   },
   "outputs": [],
   "source": [
    "library(ggplot2)\n",
    "library(corrplot)"
   ]
  },
  {
   "cell_type": "code",
   "execution_count": 72,
   "metadata": {
    "collapsed": true
   },
   "outputs": [],
   "source": [
    "data = read.csv(\"../data_meta_analysis/Data_Classifications_v7.csv\")\n"
   ]
  },
  {
   "cell_type": "code",
   "execution_count": 73,
   "metadata": {
    "collapsed": true
   },
   "outputs": [],
   "source": [
    "## remove neural-net\n",
    "data<-data[!data$Classifier.type=='neural-net',]"
   ]
  },
  {
   "cell_type": "code",
   "execution_count": 74,
   "metadata": {
    "collapsed": true
   },
   "outputs": [],
   "source": [
    "# change the resolution string 3mmx3mmx3mm->volumne 9mm^3\n",
    "calc_resolution <-function(string){\n",
    "    str_list<-strsplit(gsub('mm','',string),'x')[[1]] # \n",
    "    vol<-prod(as.integer(str_list))\n",
    "    return(vol)\n",
    "}\n",
    "\n",
    "data$Resolution_Volume<-unlist(lapply(data$Resolution,calc_resolution))"
   ]
  },
  {
   "cell_type": "code",
   "execution_count": 75,
   "metadata": {
    "collapsed": true
   },
   "outputs": [],
   "source": [
    "#data$Region<-as.factor(data$Region)\n",
    "data$PID<-as.factor(data$PID)\n",
    "data$Info.type<-as.factor(data$Info.type)\n",
    "data$Smoothing<-as.factor(data$Smoothing)\n",
    "data$Roi.Search<-as.factor(data$Roi.Search)\n",
    "data$Classifier.type<-as.factor(data$Classifier.type)\n",
    "data$Coregistration<-as.factor(data$Coregistration)\n",
    "data$Pattern.type<-as.factor(data$Pattern.type)\n",
    "data$Pattern.normalization.type<-as.factor(data$Pattern.normalization.type)"
   ]
  },
  {
   "cell_type": "code",
   "execution_count": 76,
   "metadata": {
    "collapsed": true
   },
   "outputs": [],
   "source": [
    "data$Classifier.type<-relevel(data$Classifier.type,'correlation')"
   ]
  },
  {
   "cell_type": "code",
   "execution_count": 77,
   "metadata": {
    "collapsed": true
   },
   "outputs": [],
   "source": [
    "data<-droplevels(data)\n"
   ]
  },
  {
   "cell_type": "code",
   "execution_count": 78,
   "metadata": {
    "collapsed": true
   },
   "outputs": [],
   "source": [
    "#data$Resolution_Volume"
   ]
  },
  {
   "cell_type": "code",
   "execution_count": 79,
   "metadata": {},
   "outputs": [
    {
     "data": {
      "text/html": [
       "<ol class=list-inline>\n",
       "\t<li>'1'</li>\n",
       "\t<li>'2'</li>\n",
       "\t<li>'5'</li>\n",
       "\t<li>'6'</li>\n",
       "\t<li>'7'</li>\n",
       "\t<li>'8'</li>\n",
       "\t<li>'9'</li>\n",
       "\t<li>'10'</li>\n",
       "\t<li>'11'</li>\n",
       "\t<li>'12'</li>\n",
       "\t<li>'13'</li>\n",
       "\t<li>'16'</li>\n",
       "\t<li>'18'</li>\n",
       "\t<li>'20'</li>\n",
       "\t<li>'21'</li>\n",
       "\t<li>'22'</li>\n",
       "\t<li>'23'</li>\n",
       "\t<li>'24'</li>\n",
       "\t<li>'25'</li>\n",
       "\t<li>'26'</li>\n",
       "\t<li>'27'</li>\n",
       "\t<li>'28'</li>\n",
       "\t<li>'31'</li>\n",
       "\t<li>'32'</li>\n",
       "\t<li>'33'</li>\n",
       "\t<li>'37'</li>\n",
       "\t<li>'39'</li>\n",
       "\t<li>'41'</li>\n",
       "\t<li>'42'</li>\n",
       "\t<li>'43'</li>\n",
       "\t<li>'46'</li>\n",
       "\t<li>'47'</li>\n",
       "\t<li>'48'</li>\n",
       "\t<li>'49'</li>\n",
       "\t<li>'50'</li>\n",
       "\t<li>'52'</li>\n",
       "\t<li>'53'</li>\n",
       "\t<li>'54'</li>\n",
       "\t<li>'55'</li>\n",
       "\t<li>'56'</li>\n",
       "\t<li>'57'</li>\n",
       "\t<li>'59'</li>\n",
       "\t<li>'60'</li>\n",
       "\t<li>'61'</li>\n",
       "\t<li>'62'</li>\n",
       "\t<li>'63'</li>\n",
       "\t<li>'64'</li>\n",
       "\t<li>'65'</li>\n",
       "\t<li>'66'</li>\n",
       "\t<li>'67'</li>\n",
       "\t<li>'68'</li>\n",
       "\t<li>'69'</li>\n",
       "\t<li>'70'</li>\n",
       "\t<li>'71'</li>\n",
       "\t<li>'72'</li>\n",
       "\t<li>'73'</li>\n",
       "\t<li>'74'</li>\n",
       "\t<li>'75'</li>\n",
       "\t<li>'76'</li>\n",
       "\t<li>'77'</li>\n",
       "\t<li>'78'</li>\n",
       "\t<li>'79'</li>\n",
       "\t<li>'80'</li>\n",
       "\t<li>'81'</li>\n",
       "\t<li>'82'</li>\n",
       "\t<li>'83'</li>\n",
       "\t<li>'84'</li>\n",
       "\t<li>'85'</li>\n",
       "\t<li>'86'</li>\n",
       "\t<li>'87'</li>\n",
       "\t<li>'88'</li>\n",
       "\t<li>'89'</li>\n",
       "\t<li>'90'</li>\n",
       "\t<li>'91'</li>\n",
       "\t<li>'92'</li>\n",
       "\t<li>'93'</li>\n",
       "</ol>\n"
      ],
      "text/latex": [
       "\\begin{enumerate*}\n",
       "\\item '1'\n",
       "\\item '2'\n",
       "\\item '5'\n",
       "\\item '6'\n",
       "\\item '7'\n",
       "\\item '8'\n",
       "\\item '9'\n",
       "\\item '10'\n",
       "\\item '11'\n",
       "\\item '12'\n",
       "\\item '13'\n",
       "\\item '16'\n",
       "\\item '18'\n",
       "\\item '20'\n",
       "\\item '21'\n",
       "\\item '22'\n",
       "\\item '23'\n",
       "\\item '24'\n",
       "\\item '25'\n",
       "\\item '26'\n",
       "\\item '27'\n",
       "\\item '28'\n",
       "\\item '31'\n",
       "\\item '32'\n",
       "\\item '33'\n",
       "\\item '37'\n",
       "\\item '39'\n",
       "\\item '41'\n",
       "\\item '42'\n",
       "\\item '43'\n",
       "\\item '46'\n",
       "\\item '47'\n",
       "\\item '48'\n",
       "\\item '49'\n",
       "\\item '50'\n",
       "\\item '52'\n",
       "\\item '53'\n",
       "\\item '54'\n",
       "\\item '55'\n",
       "\\item '56'\n",
       "\\item '57'\n",
       "\\item '59'\n",
       "\\item '60'\n",
       "\\item '61'\n",
       "\\item '62'\n",
       "\\item '63'\n",
       "\\item '64'\n",
       "\\item '65'\n",
       "\\item '66'\n",
       "\\item '67'\n",
       "\\item '68'\n",
       "\\item '69'\n",
       "\\item '70'\n",
       "\\item '71'\n",
       "\\item '72'\n",
       "\\item '73'\n",
       "\\item '74'\n",
       "\\item '75'\n",
       "\\item '76'\n",
       "\\item '77'\n",
       "\\item '78'\n",
       "\\item '79'\n",
       "\\item '80'\n",
       "\\item '81'\n",
       "\\item '82'\n",
       "\\item '83'\n",
       "\\item '84'\n",
       "\\item '85'\n",
       "\\item '86'\n",
       "\\item '87'\n",
       "\\item '88'\n",
       "\\item '89'\n",
       "\\item '90'\n",
       "\\item '91'\n",
       "\\item '92'\n",
       "\\item '93'\n",
       "\\end{enumerate*}\n"
      ],
      "text/markdown": [
       "1. '1'\n",
       "2. '2'\n",
       "3. '5'\n",
       "4. '6'\n",
       "5. '7'\n",
       "6. '8'\n",
       "7. '9'\n",
       "8. '10'\n",
       "9. '11'\n",
       "10. '12'\n",
       "11. '13'\n",
       "12. '16'\n",
       "13. '18'\n",
       "14. '20'\n",
       "15. '21'\n",
       "16. '22'\n",
       "17. '23'\n",
       "18. '24'\n",
       "19. '25'\n",
       "20. '26'\n",
       "21. '27'\n",
       "22. '28'\n",
       "23. '31'\n",
       "24. '32'\n",
       "25. '33'\n",
       "26. '37'\n",
       "27. '39'\n",
       "28. '41'\n",
       "29. '42'\n",
       "30. '43'\n",
       "31. '46'\n",
       "32. '47'\n",
       "33. '48'\n",
       "34. '49'\n",
       "35. '50'\n",
       "36. '52'\n",
       "37. '53'\n",
       "38. '54'\n",
       "39. '55'\n",
       "40. '56'\n",
       "41. '57'\n",
       "42. '59'\n",
       "43. '60'\n",
       "44. '61'\n",
       "45. '62'\n",
       "46. '63'\n",
       "47. '64'\n",
       "48. '65'\n",
       "49. '66'\n",
       "50. '67'\n",
       "51. '68'\n",
       "52. '69'\n",
       "53. '70'\n",
       "54. '71'\n",
       "55. '72'\n",
       "56. '73'\n",
       "57. '74'\n",
       "58. '75'\n",
       "59. '76'\n",
       "60. '77'\n",
       "61. '78'\n",
       "62. '79'\n",
       "63. '80'\n",
       "64. '81'\n",
       "65. '82'\n",
       "66. '83'\n",
       "67. '84'\n",
       "68. '85'\n",
       "69. '86'\n",
       "70. '87'\n",
       "71. '88'\n",
       "72. '89'\n",
       "73. '90'\n",
       "74. '91'\n",
       "75. '92'\n",
       "76. '93'\n",
       "\n",
       "\n"
      ],
      "text/plain": [
       " [1] \"1\"  \"2\"  \"5\"  \"6\"  \"7\"  \"8\"  \"9\"  \"10\" \"11\" \"12\" \"13\" \"16\" \"18\" \"20\" \"21\"\n",
       "[16] \"22\" \"23\" \"24\" \"25\" \"26\" \"27\" \"28\" \"31\" \"32\" \"33\" \"37\" \"39\" \"41\" \"42\" \"43\"\n",
       "[31] \"46\" \"47\" \"48\" \"49\" \"50\" \"52\" \"53\" \"54\" \"55\" \"56\" \"57\" \"59\" \"60\" \"61\" \"62\"\n",
       "[46] \"63\" \"64\" \"65\" \"66\" \"67\" \"68\" \"69\" \"70\" \"71\" \"72\" \"73\" \"74\" \"75\" \"76\" \"77\"\n",
       "[61] \"78\" \"79\" \"80\" \"81\" \"82\" \"83\" \"84\" \"85\" \"86\" \"87\" \"88\" \"89\" \"90\" \"91\" \"92\"\n",
       "[76] \"93\""
      ]
     },
     "metadata": {},
     "output_type": "display_data"
    },
    {
     "data": {
      "text/html": [
       "<ol class=list-inline>\n",
       "\t<li>'Perceptual'</li>\n",
       "\t<li>'Response'</li>\n",
       "\t<li>'Rule'</li>\n",
       "\t<li>'Value'</li>\n",
       "</ol>\n"
      ],
      "text/latex": [
       "\\begin{enumerate*}\n",
       "\\item 'Perceptual'\n",
       "\\item 'Response'\n",
       "\\item 'Rule'\n",
       "\\item 'Value'\n",
       "\\end{enumerate*}\n"
      ],
      "text/markdown": [
       "1. 'Perceptual'\n",
       "2. 'Response'\n",
       "3. 'Rule'\n",
       "4. 'Value'\n",
       "\n",
       "\n"
      ],
      "text/plain": [
       "[1] \"Perceptual\" \"Response\"   \"Rule\"       \"Value\"     "
      ]
     },
     "metadata": {},
     "output_type": "display_data"
    },
    {
     "data": {
      "text/html": [
       "<ol class=list-inline>\n",
       "\t<li>'smoothed'</li>\n",
       "\t<li>'unsmooth'</li>\n",
       "</ol>\n"
      ],
      "text/latex": [
       "\\begin{enumerate*}\n",
       "\\item 'smoothed'\n",
       "\\item 'unsmooth'\n",
       "\\end{enumerate*}\n"
      ],
      "text/markdown": [
       "1. 'smoothed'\n",
       "2. 'unsmooth'\n",
       "\n",
       "\n"
      ],
      "text/plain": [
       "[1] \"smoothed\" \"unsmooth\""
      ]
     },
     "metadata": {},
     "output_type": "display_data"
    },
    {
     "data": {
      "text/html": [
       "<ol class=list-inline>\n",
       "\t<li>'ROI'</li>\n",
       "\t<li>'Searchlight Peak'</li>\n",
       "</ol>\n"
      ],
      "text/latex": [
       "\\begin{enumerate*}\n",
       "\\item 'ROI'\n",
       "\\item 'Searchlight Peak'\n",
       "\\end{enumerate*}\n"
      ],
      "text/markdown": [
       "1. 'ROI'\n",
       "2. 'Searchlight Peak'\n",
       "\n",
       "\n"
      ],
      "text/plain": [
       "[1] \"ROI\"              \"Searchlight Peak\""
      ]
     },
     "metadata": {},
     "output_type": "display_data"
    },
    {
     "data": {
      "text/html": [
       "<ol class=list-inline>\n",
       "\t<li>'correlation'</li>\n",
       "\t<li>'GNB'</li>\n",
       "\t<li>'LDA'</li>\n",
       "\t<li>'LogReg'</li>\n",
       "\t<li>'svm-lin'</li>\n",
       "\t<li>'svm-nonlin'</li>\n",
       "</ol>\n"
      ],
      "text/latex": [
       "\\begin{enumerate*}\n",
       "\\item 'correlation'\n",
       "\\item 'GNB'\n",
       "\\item 'LDA'\n",
       "\\item 'LogReg'\n",
       "\\item 'svm-lin'\n",
       "\\item 'svm-nonlin'\n",
       "\\end{enumerate*}\n"
      ],
      "text/markdown": [
       "1. 'correlation'\n",
       "2. 'GNB'\n",
       "3. 'LDA'\n",
       "4. 'LogReg'\n",
       "5. 'svm-lin'\n",
       "6. 'svm-nonlin'\n",
       "\n",
       "\n"
      ],
      "text/plain": [
       "[1] \"correlation\" \"GNB\"         \"LDA\"         \"LogReg\"      \"svm-lin\"    \n",
       "[6] \"svm-nonlin\" "
      ]
     },
     "metadata": {},
     "output_type": "display_data"
    },
    {
     "data": {
      "text/html": [
       "<ol class=list-inline>\n",
       "\t<li>'coregistered'</li>\n",
       "\t<li>'Native Space'</li>\n",
       "</ol>\n"
      ],
      "text/latex": [
       "\\begin{enumerate*}\n",
       "\\item 'coregistered'\n",
       "\\item 'Native Space'\n",
       "\\end{enumerate*}\n"
      ],
      "text/markdown": [
       "1. 'coregistered'\n",
       "2. 'Native Space'\n",
       "\n",
       "\n"
      ],
      "text/plain": [
       "[1] \"coregistered\" \"Native Space\""
      ]
     },
     "metadata": {},
     "output_type": "display_data"
    },
    {
     "data": {
      "text/html": [
       "<ol class=list-inline>\n",
       "\t<li>'Multi-Trial Multi-Time Point'</li>\n",
       "\t<li>'Multi-Trial Single-Time Point'</li>\n",
       "\t<li>'Single Trial Multi-Time Point'</li>\n",
       "\t<li>'Single Trial Single-Time Point'</li>\n",
       "</ol>\n"
      ],
      "text/latex": [
       "\\begin{enumerate*}\n",
       "\\item 'Multi-Trial Multi-Time Point'\n",
       "\\item 'Multi-Trial Single-Time Point'\n",
       "\\item 'Single Trial Multi-Time Point'\n",
       "\\item 'Single Trial Single-Time Point'\n",
       "\\end{enumerate*}\n"
      ],
      "text/markdown": [
       "1. 'Multi-Trial Multi-Time Point'\n",
       "2. 'Multi-Trial Single-Time Point'\n",
       "3. 'Single Trial Multi-Time Point'\n",
       "4. 'Single Trial Single-Time Point'\n",
       "\n",
       "\n"
      ],
      "text/plain": [
       "[1] \"Multi-Trial Multi-Time Point\"   \"Multi-Trial Single-Time Point\" \n",
       "[3] \"Single Trial Multi-Time Point\"  \"Single Trial Single-Time Point\""
      ]
     },
     "metadata": {},
     "output_type": "display_data"
    },
    {
     "data": {
      "text/html": [
       "<ol class=list-inline>\n",
       "\t<li>'None'</li>\n",
       "\t<li>'Normalized Spatially'</li>\n",
       "\t<li>'Normalized Temporally'</li>\n",
       "</ol>\n"
      ],
      "text/latex": [
       "\\begin{enumerate*}\n",
       "\\item 'None'\n",
       "\\item 'Normalized Spatially'\n",
       "\\item 'Normalized Temporally'\n",
       "\\end{enumerate*}\n"
      ],
      "text/markdown": [
       "1. 'None'\n",
       "2. 'Normalized Spatially'\n",
       "3. 'Normalized Temporally'\n",
       "\n",
       "\n"
      ],
      "text/plain": [
       "[1] \"None\"                  \"Normalized Spatially\"  \"Normalized Temporally\""
      ]
     },
     "metadata": {},
     "output_type": "display_data"
    },
    {
     "data": {
      "text/html": [
       "<ol class=list-inline>\n",
       "\t<li>'3T'</li>\n",
       "\t<li>'7T'</li>\n",
       "</ol>\n"
      ],
      "text/latex": [
       "\\begin{enumerate*}\n",
       "\\item '3T'\n",
       "\\item '7T'\n",
       "\\end{enumerate*}\n"
      ],
      "text/markdown": [
       "1. '3T'\n",
       "2. '7T'\n",
       "\n",
       "\n"
      ],
      "text/plain": [
       "[1] \"3T\" \"7T\""
      ]
     },
     "metadata": {},
     "output_type": "display_data"
    }
   ],
   "source": [
    "levels(data$PID)\n",
    "levels(data$Info.type)\n",
    "levels(data$Smoothing)\n",
    "levels(data$Roi.Search)\n",
    "levels(data$Classifier.type)\n",
    "levels(data$Coregistration)\n",
    "levels(data$Pattern.type)\n",
    "levels(data$Pattern.normalization.type)\n",
    "levels(data$Scanner)"
   ]
  },
  {
   "cell_type": "code",
   "execution_count": 80,
   "metadata": {
    "collapsed": true
   },
   "outputs": [],
   "source": [
    "variables = c('Accuracy.50','PID','Info.type','Smoothing','Roi.Search','Classifier.type','Coregistration','Pattern.type','Pattern.normalization.type','Significance','Scanner','Num_subs','Resolution_Volume')\n",
    "\n",
    "#data[,variables]"
   ]
  },
  {
   "cell_type": "markdown",
   "metadata": {},
   "source": [
    "subset to 50% accuracy"
   ]
  },
  {
   "cell_type": "markdown",
   "metadata": {},
   "source": [
    "adding significance reduces the dataset. "
   ]
  },
  {
   "cell_type": "code",
   "execution_count": 83,
   "metadata": {},
   "outputs": [
    {
     "data": {
      "text/html": [
       "877"
      ],
      "text/latex": [
       "877"
      ],
      "text/markdown": [
       "877"
      ],
      "text/plain": [
       "[1] 877"
      ]
     },
     "metadata": {},
     "output_type": "display_data"
    },
    {
     "data": {
      "text/html": [
       "877"
      ],
      "text/latex": [
       "877"
      ],
      "text/markdown": [
       "877"
      ],
      "text/plain": [
       "[1] 877"
      ]
     },
     "metadata": {},
     "output_type": "display_data"
    }
   ],
   "source": [
    "data_50<-data[!is.na(data$Accuracy.50),variables]\n",
    "nrow(data_50)\n",
    "data_50<-data_50[complete.cases(data_50),]\n",
    "nrow(data_50)"
   ]
  },
  {
   "cell_type": "markdown",
   "metadata": {},
   "source": [
    "# Models Just Testing Between Subject Designs"
   ]
  },
  {
   "cell_type": "markdown",
   "metadata": {},
   "source": [
    "take average of each study. \n",
    "- check which studies use more than one method. \n",
    "- probably want to do it between region as well. "
   ]
  },
  {
   "cell_type": "code",
   "execution_count": 84,
   "metadata": {
    "collapsed": true
   },
   "outputs": [],
   "source": [
    "data_50_paper = data.frame(Accuracy.50 = numeric(), PID = factor(), Info.type = factor(),Smoothing=factor(),\n",
    "                           Roi.Search=factor(),Classifier.type=factor(),Coregistration=factor(),Pattern.type=factor(),\n",
    "                          Pattern.normalization.type=factor(),Significance=factor(),NumSubs=numeric(),Scanner=factor(),Resolution_Volume=numeric())"
   ]
  },
  {
   "cell_type": "code",
   "execution_count": 85,
   "metadata": {},
   "outputs": [
    {
     "data": {
      "text/html": [
       "<ol class=list-inline>\n",
       "\t<li>1</li>\n",
       "\t<li>6</li>\n",
       "\t<li>10</li>\n",
       "\t<li>11</li>\n",
       "\t<li>16</li>\n",
       "\t<li>23</li>\n",
       "\t<li>28</li>\n",
       "\t<li>32</li>\n",
       "\t<li>33</li>\n",
       "\t<li>37</li>\n",
       "\t<li>43</li>\n",
       "\t<li>50</li>\n",
       "\t<li>52</li>\n",
       "\t<li>53</li>\n",
       "\t<li>55</li>\n",
       "\t<li>56</li>\n",
       "\t<li>57</li>\n",
       "\t<li>59</li>\n",
       "\t<li>63</li>\n",
       "\t<li>64</li>\n",
       "\t<li>66</li>\n",
       "\t<li>69</li>\n",
       "\t<li>75</li>\n",
       "\t<li>77</li>\n",
       "\t<li>80</li>\n",
       "\t<li>87</li>\n",
       "\t<li>88</li>\n",
       "\t<li>93</li>\n",
       "\t<li>5</li>\n",
       "\t<li>13</li>\n",
       "\t<li>24</li>\n",
       "\t<li>48</li>\n",
       "\t<li>49</li>\n",
       "\t<li>71</li>\n",
       "\t<li>78</li>\n",
       "\t<li>82</li>\n",
       "\t<li>85</li>\n",
       "\t<li>91</li>\n",
       "\t<li>2</li>\n",
       "\t<li>7</li>\n",
       "\t<li>8</li>\n",
       "\t<li>9</li>\n",
       "\t<li>12</li>\n",
       "\t<li>18</li>\n",
       "\t<li>20</li>\n",
       "\t<li>21</li>\n",
       "\t<li>22</li>\n",
       "\t<li>25</li>\n",
       "\t<li>26</li>\n",
       "\t<li>27</li>\n",
       "\t<li>31</li>\n",
       "\t<li>41</li>\n",
       "\t<li>42</li>\n",
       "\t<li>46</li>\n",
       "\t<li>47</li>\n",
       "\t<li>54</li>\n",
       "\t<li>60</li>\n",
       "\t<li>65</li>\n",
       "\t<li>67</li>\n",
       "\t<li>70</li>\n",
       "\t<li>72</li>\n",
       "\t<li>73</li>\n",
       "\t<li>74</li>\n",
       "\t<li>76</li>\n",
       "\t<li>79</li>\n",
       "\t<li>83</li>\n",
       "\t<li>84</li>\n",
       "\t<li>39</li>\n",
       "\t<li>61</li>\n",
       "\t<li>62</li>\n",
       "\t<li>68</li>\n",
       "\t<li>81</li>\n",
       "\t<li>86</li>\n",
       "\t<li>89</li>\n",
       "\t<li>90</li>\n",
       "\t<li>92</li>\n",
       "</ol>\n"
      ],
      "text/latex": [
       "\\begin{enumerate*}\n",
       "\\item 1\n",
       "\\item 6\n",
       "\\item 10\n",
       "\\item 11\n",
       "\\item 16\n",
       "\\item 23\n",
       "\\item 28\n",
       "\\item 32\n",
       "\\item 33\n",
       "\\item 37\n",
       "\\item 43\n",
       "\\item 50\n",
       "\\item 52\n",
       "\\item 53\n",
       "\\item 55\n",
       "\\item 56\n",
       "\\item 57\n",
       "\\item 59\n",
       "\\item 63\n",
       "\\item 64\n",
       "\\item 66\n",
       "\\item 69\n",
       "\\item 75\n",
       "\\item 77\n",
       "\\item 80\n",
       "\\item 87\n",
       "\\item 88\n",
       "\\item 93\n",
       "\\item 5\n",
       "\\item 13\n",
       "\\item 24\n",
       "\\item 48\n",
       "\\item 49\n",
       "\\item 71\n",
       "\\item 78\n",
       "\\item 82\n",
       "\\item 85\n",
       "\\item 91\n",
       "\\item 2\n",
       "\\item 7\n",
       "\\item 8\n",
       "\\item 9\n",
       "\\item 12\n",
       "\\item 18\n",
       "\\item 20\n",
       "\\item 21\n",
       "\\item 22\n",
       "\\item 25\n",
       "\\item 26\n",
       "\\item 27\n",
       "\\item 31\n",
       "\\item 41\n",
       "\\item 42\n",
       "\\item 46\n",
       "\\item 47\n",
       "\\item 54\n",
       "\\item 60\n",
       "\\item 65\n",
       "\\item 67\n",
       "\\item 70\n",
       "\\item 72\n",
       "\\item 73\n",
       "\\item 74\n",
       "\\item 76\n",
       "\\item 79\n",
       "\\item 83\n",
       "\\item 84\n",
       "\\item 39\n",
       "\\item 61\n",
       "\\item 62\n",
       "\\item 68\n",
       "\\item 81\n",
       "\\item 86\n",
       "\\item 89\n",
       "\\item 90\n",
       "\\item 92\n",
       "\\end{enumerate*}\n"
      ],
      "text/markdown": [
       "1. 1\n",
       "2. 6\n",
       "3. 10\n",
       "4. 11\n",
       "5. 16\n",
       "6. 23\n",
       "7. 28\n",
       "8. 32\n",
       "9. 33\n",
       "10. 37\n",
       "11. 43\n",
       "12. 50\n",
       "13. 52\n",
       "14. 53\n",
       "15. 55\n",
       "16. 56\n",
       "17. 57\n",
       "18. 59\n",
       "19. 63\n",
       "20. 64\n",
       "21. 66\n",
       "22. 69\n",
       "23. 75\n",
       "24. 77\n",
       "25. 80\n",
       "26. 87\n",
       "27. 88\n",
       "28. 93\n",
       "29. 5\n",
       "30. 13\n",
       "31. 24\n",
       "32. 48\n",
       "33. 49\n",
       "34. 71\n",
       "35. 78\n",
       "36. 82\n",
       "37. 85\n",
       "38. 91\n",
       "39. 2\n",
       "40. 7\n",
       "41. 8\n",
       "42. 9\n",
       "43. 12\n",
       "44. 18\n",
       "45. 20\n",
       "46. 21\n",
       "47. 22\n",
       "48. 25\n",
       "49. 26\n",
       "50. 27\n",
       "51. 31\n",
       "52. 41\n",
       "53. 42\n",
       "54. 46\n",
       "55. 47\n",
       "56. 54\n",
       "57. 60\n",
       "58. 65\n",
       "59. 67\n",
       "60. 70\n",
       "61. 72\n",
       "62. 73\n",
       "63. 74\n",
       "64. 76\n",
       "65. 79\n",
       "66. 83\n",
       "67. 84\n",
       "68. 39\n",
       "69. 61\n",
       "70. 62\n",
       "71. 68\n",
       "72. 81\n",
       "73. 86\n",
       "74. 89\n",
       "75. 90\n",
       "76. 92\n",
       "\n",
       "\n"
      ],
      "text/plain": [
       " [1] 1  6  10 11 16 23 28 32 33 37 43 50 52 53 55 56 57 59 63 64 66 69 75 77 80\n",
       "[26] 87 88 93 5  13 24 48 49 71 78 82 85 91 2  7  8  9  12 18 20 21 22 25 26 27\n",
       "[51] 31 41 42 46 47 54 60 65 67 70 72 73 74 76 79 83 84 39 61 62 68 81 86 89 90\n",
       "[76] 92\n",
       "76 Levels: 1 2 5 6 7 8 9 10 11 12 13 16 18 20 21 22 23 24 25 26 27 28 31 ... 93"
      ]
     },
     "metadata": {},
     "output_type": "display_data"
    }
   ],
   "source": [
    "unique(data_50$PID)"
   ]
  },
  {
   "cell_type": "code",
   "execution_count": 87,
   "metadata": {
    "collapsed": true
   },
   "outputs": [],
   "source": [
    "data_50<-data_50[data_50$Significance==1,]"
   ]
  },
  {
   "cell_type": "code",
   "execution_count": 89,
   "metadata": {
    "collapsed": true
   },
   "outputs": [],
   "source": [
    "#d"
   ]
  },
  {
   "cell_type": "code",
   "execution_count": 90,
   "metadata": {
    "collapsed": true,
    "scrolled": true
   },
   "outputs": [],
   "source": [
    "\n",
    "for (pi in unique(data_50$PID)){\n",
    "    d<-data_50[data_50$PID==pi,]\n",
    "    data_50_paper<-rbind(data_50_paper,data.frame(Accuracy.50 = mean(d$Accuracy.50), PID = pi, Info.type = d$Info.type[1],\n",
    "                                                 Smoothing=d$Smoothing[1],Roi.Search=d$Roi.Search[1],Classifier.type=d$Classifier.type[1],\n",
    "                                                  Coregistration=d$Coregistration[1],Pattern.type=d$Pattern.type[1],\n",
    "                                                  Pattern.normalization.type=d$Pattern.normalization.type[1],\n",
    "                                                  Significance=d$Significance[1],Resolution_Volume=d$Resolution_Volume[1],\n",
    "                                                  NumSubs=d$Num_subs[1],Scanner=d$Scanner[1]))\n",
    "\n",
    "    \n",
    "}"
   ]
  },
  {
   "cell_type": "code",
   "execution_count": 91,
   "metadata": {
    "scrolled": false
   },
   "outputs": [
    {
     "data": {
      "text/html": [
       "75"
      ],
      "text/latex": [
       "75"
      ],
      "text/markdown": [
       "75"
      ],
      "text/plain": [
       "[1] 75"
      ]
     },
     "metadata": {},
     "output_type": "display_data"
    }
   ],
   "source": [
    "\n",
    "data_50_paper<-data_50_paper[order(data_50_paper$PID),]\n",
    "#head(data_50_paper)\n",
    "nrow(data_50_paper)"
   ]
  },
  {
   "cell_type": "code",
   "execution_count": 92,
   "metadata": {
    "scrolled": false
   },
   "outputs": [
    {
     "data": {},
     "metadata": {},
     "output_type": "display_data"
    },
    {
     "data": {},
     "metadata": {},
     "output_type": "display_data"
    },
    {
     "data": {
      "image/png": "[encoded data removed]",
      "text/plain": [
       "plot without title"
      ]
     },
     "metadata": {},
     "output_type": "display_data"
    },
    {
     "data": {
      "image/png": "[encoded data removed]",
      "text/plain": [
       "plot without title"
      ]
     },
     "metadata": {},
     "output_type": "display_data"
    }
   ],
   "source": [
    "\n",
    "data_50_paper$PID2<-as.numeric(data_50_paper$PID)\n",
    "data_50_paper['Classifier']<-data_50_paper$Classifier.type\n",
    "#levels(data_50_paper$Classifier)<-c('linear svm','correlation','gnb','lda','logistic reg','nonlinear svm')\n",
    "\n",
    "#jpeg('../Figures/Supp/scatter_single_study_classifier.jpg',width=8,height=4,units=\"in\",res=800)\n",
    "p<-ggplot(aes(y = Accuracy.50, x = PID2,color=Classifier), data = data_50_paper) +geom_point()+xlab('Study')#+facet_wrap('Info.type')\n",
    "#p<-p+theme(panel.background=element_blank(),axis.ticks.x=element_blank(),axis.text.x=element_blank())\n",
    "p<-p+theme(panel.background=element_blank())\n",
    "#p<-p+theme(axis.text.x = element_text(angle = 0, hjust = 1,size=6))\n",
    "p<-p+theme(axis.line.x = element_line(color=\"black\", size = .3),\n",
    "        axis.line.y = element_line(color=\"black\", size = .3))\n",
    "\n",
    "p<-p+ylab('Classification Accuracy')\n",
    "p<-p+xlab('Study ID')\n",
    "p\n",
    "\n",
    "#dev.off()\n",
    "p\n",
    "options(repr.plot.width=8, repr.plot.height=4)"
   ]
  },
  {
   "cell_type": "code",
   "execution_count": 93,
   "metadata": {},
   "outputs": [
    {
     "data": {
      "text/html": [
       "<ol class=list-inline>\n",
       "\t<li>27</li>\n",
       "\t<li>18</li>\n",
       "\t<li>27</li>\n",
       "\t<li>27</li>\n",
       "\t<li>36</li>\n",
       "\t<li>45</li>\n",
       "\t<li>27</li>\n",
       "\t<li>12</li>\n",
       "\t<li>12</li>\n",
       "\t<li>8</li>\n",
       "\t<li>36</li>\n",
       "\t<li>36</li>\n",
       "\t<li>4</li>\n",
       "\t<li>27</li>\n",
       "\t<li>27</li>\n",
       "\t<li>36</li>\n",
       "\t<li>27</li>\n",
       "\t<li>27</li>\n",
       "\t<li>36</li>\n",
       "\t<li>8</li>\n",
       "\t<li>27</li>\n",
       "\t<li>8</li>\n",
       "\t<li>36</li>\n",
       "\t<li>2</li>\n",
       "\t<li>27</li>\n",
       "\t<li>8</li>\n",
       "\t<li>27</li>\n",
       "\t<li>27</li>\n",
       "\t<li>27</li>\n",
       "\t<li>27</li>\n",
       "\t<li>27</li>\n",
       "\t<li>27</li>\n",
       "\t<li>4</li>\n",
       "\t<li>27</li>\n",
       "\t<li>2</li>\n",
       "\t<li>12</li>\n",
       "\t<li>4</li>\n",
       "\t<li>36</li>\n",
       "\t<li>27</li>\n",
       "\t<li>27</li>\n",
       "\t<li>9</li>\n",
       "\t<li>3</li>\n",
       "\t<li>12</li>\n",
       "\t<li>27</li>\n",
       "\t<li>27</li>\n",
       "\t<li>27</li>\n",
       "\t<li>27</li>\n",
       "\t<li>1</li>\n",
       "\t<li>1</li>\n",
       "\t<li>1</li>\n",
       "\t<li>27</li>\n",
       "\t<li>27</li>\n",
       "\t<li>27</li>\n",
       "\t<li>27</li>\n",
       "\t<li>27</li>\n",
       "\t<li>27</li>\n",
       "\t<li>27</li>\n",
       "\t<li>18</li>\n",
       "\t<li>27</li>\n",
       "\t<li>27</li>\n",
       "\t<li>27</li>\n",
       "\t<li>27</li>\n",
       "\t<li>36</li>\n",
       "\t<li>64</li>\n",
       "\t<li>27</li>\n",
       "\t<li>36</li>\n",
       "\t<li>18</li>\n",
       "\t<li>36</li>\n",
       "\t<li>64</li>\n",
       "\t<li>27</li>\n",
       "\t<li>27</li>\n",
       "\t<li>64</li>\n",
       "\t<li>27</li>\n",
       "\t<li>27</li>\n",
       "\t<li>27</li>\n",
       "</ol>\n"
      ],
      "text/latex": [
       "\\begin{enumerate*}\n",
       "\\item 27\n",
       "\\item 18\n",
       "\\item 27\n",
       "\\item 27\n",
       "\\item 36\n",
       "\\item 45\n",
       "\\item 27\n",
       "\\item 12\n",
       "\\item 12\n",
       "\\item 8\n",
       "\\item 36\n",
       "\\item 36\n",
       "\\item 4\n",
       "\\item 27\n",
       "\\item 27\n",
       "\\item 36\n",
       "\\item 27\n",
       "\\item 27\n",
       "\\item 36\n",
       "\\item 8\n",
       "\\item 27\n",
       "\\item 8\n",
       "\\item 36\n",
       "\\item 2\n",
       "\\item 27\n",
       "\\item 8\n",
       "\\item 27\n",
       "\\item 27\n",
       "\\item 27\n",
       "\\item 27\n",
       "\\item 27\n",
       "\\item 27\n",
       "\\item 4\n",
       "\\item 27\n",
       "\\item 2\n",
       "\\item 12\n",
       "\\item 4\n",
       "\\item 36\n",
       "\\item 27\n",
       "\\item 27\n",
       "\\item 9\n",
       "\\item 3\n",
       "\\item 12\n",
       "\\item 27\n",
       "\\item 27\n",
       "\\item 27\n",
       "\\item 27\n",
       "\\item 1\n",
       "\\item 1\n",
       "\\item 1\n",
       "\\item 27\n",
       "\\item 27\n",
       "\\item 27\n",
       "\\item 27\n",
       "\\item 27\n",
       "\\item 27\n",
       "\\item 27\n",
       "\\item 18\n",
       "\\item 27\n",
       "\\item 27\n",
       "\\item 27\n",
       "\\item 27\n",
       "\\item 36\n",
       "\\item 64\n",
       "\\item 27\n",
       "\\item 36\n",
       "\\item 18\n",
       "\\item 36\n",
       "\\item 64\n",
       "\\item 27\n",
       "\\item 27\n",
       "\\item 64\n",
       "\\item 27\n",
       "\\item 27\n",
       "\\item 27\n",
       "\\end{enumerate*}\n"
      ],
      "text/markdown": [
       "1. 27\n",
       "2. 18\n",
       "3. 27\n",
       "4. 27\n",
       "5. 36\n",
       "6. 45\n",
       "7. 27\n",
       "8. 12\n",
       "9. 12\n",
       "10. 8\n",
       "11. 36\n",
       "12. 36\n",
       "13. 4\n",
       "14. 27\n",
       "15. 27\n",
       "16. 36\n",
       "17. 27\n",
       "18. 27\n",
       "19. 36\n",
       "20. 8\n",
       "21. 27\n",
       "22. 8\n",
       "23. 36\n",
       "24. 2\n",
       "25. 27\n",
       "26. 8\n",
       "27. 27\n",
       "28. 27\n",
       "29. 27\n",
       "30. 27\n",
       "31. 27\n",
       "32. 27\n",
       "33. 4\n",
       "34. 27\n",
       "35. 2\n",
       "36. 12\n",
       "37. 4\n",
       "38. 36\n",
       "39. 27\n",
       "40. 27\n",
       "41. 9\n",
       "42. 3\n",
       "43. 12\n",
       "44. 27\n",
       "45. 27\n",
       "46. 27\n",
       "47. 27\n",
       "48. 1\n",
       "49. 1\n",
       "50. 1\n",
       "51. 27\n",
       "52. 27\n",
       "53. 27\n",
       "54. 27\n",
       "55. 27\n",
       "56. 27\n",
       "57. 27\n",
       "58. 18\n",
       "59. 27\n",
       "60. 27\n",
       "61. 27\n",
       "62. 27\n",
       "63. 36\n",
       "64. 64\n",
       "65. 27\n",
       "66. 36\n",
       "67. 18\n",
       "68. 36\n",
       "69. 64\n",
       "70. 27\n",
       "71. 27\n",
       "72. 64\n",
       "73. 27\n",
       "74. 27\n",
       "75. 27\n",
       "\n",
       "\n"
      ],
      "text/plain": [
       " [1] 27 18 27 27 36 45 27 12 12  8 36 36  4 27 27 36 27 27 36  8 27  8 36  2 27\n",
       "[26]  8 27 27 27 27 27 27  4 27  2 12  4 36 27 27  9  3 12 27 27 27 27  1  1  1\n",
       "[51] 27 27 27 27 27 27 27 18 27 27 27 27 36 64 27 36 18 36 64 27 27 64 27 27 27"
      ]
     },
     "metadata": {},
     "output_type": "display_data"
    }
   ],
   "source": [
    "data_50_paper$Resolution_Volume"
   ]
  },
  {
   "cell_type": "code",
   "execution_count": 95,
   "metadata": {
    "collapsed": true
   },
   "outputs": [],
   "source": [
    "# factor_model<-lm(Accuracy.50~Scanner+Resolution_Volume,data=data_50_paper)\n",
    "# summary(factor_model)"
   ]
  },
  {
   "cell_type": "code",
   "execution_count": 98,
   "metadata": {
    "collapsed": true
   },
   "outputs": [],
   "source": [
    "#data_50_paper$NumSubs"
   ]
  },
  {
   "cell_type": "code",
   "execution_count": 99,
   "metadata": {
    "collapsed": true
   },
   "outputs": [],
   "source": [
    "#data_50_paper$Resolution_Volume"
   ]
  },
  {
   "cell_type": "code",
   "execution_count": 115,
   "metadata": {},
   "outputs": [
    {
     "data": {
      "text/plain": [
       "\n",
       "Call:\n",
       "lm(formula = Accuracy.50 ~ Classifier.type + Smoothing + Coregistration + \n",
       "    Pattern.normalization.type + NumSubs + Scanner + Roi.Search + \n",
       "    Pattern.type + Resolution_Volume, data = data_50_paper)\n",
       "\n",
       "Residuals:\n",
       "      Min        1Q    Median        3Q       Max \n",
       "-0.137675 -0.038092 -0.002889  0.020495  0.229875 \n",
       "\n",
       "Coefficients:\n",
       "                                                  Estimate Std. Error t value\n",
       "(Intercept)                                      0.6158333  0.0323589  19.031\n",
       "Classifier.typecorrelation                       0.1267219  0.0695000   1.823\n",
       "Classifier.typeGNB                              -0.0071228  0.0434562  -0.164\n",
       "Classifier.typeLDA                               0.0079892  0.0548065   0.146\n",
       "Classifier.typeLogReg                           -0.0174416  0.0276358  -0.631\n",
       "Classifier.typesvm-nonlin                        0.1470395  0.0381340   3.856\n",
       "Smoothingunsmooth                                0.0145716  0.0207117   0.704\n",
       "CoregistrationNative Space                      -0.0038537  0.0184418  -0.209\n",
       "Pattern.normalization.typeNormalized Spatially  -0.0049070  0.0323539  -0.152\n",
       "Pattern.normalization.typeNormalized Temporally -0.0069298  0.0217643  -0.318\n",
       "NumSubs                                         -0.0010099  0.0008070  -1.252\n",
       "Scanner7T                                        0.0521928  0.0479366   1.089\n",
       "Roi.SearchSearchlight Peak                      -0.0017966  0.0226776  -0.079\n",
       "Pattern.typeMulti-Trial Single-Time Point       -0.0350035  0.0310450  -1.128\n",
       "Pattern.typeSingle Trial Multi-Time Point       -0.0229246  0.0245691  -0.933\n",
       "Pattern.typeSingle Trial Single-Time Point      -0.0158875  0.0273150  -0.582\n",
       "Resolution_Volume                                0.0002363  0.0006569   0.360\n",
       "                                                Pr(>|t|)    \n",
       "(Intercept)                                      < 2e-16 ***\n",
       "Classifier.typecorrelation                      0.073407 .  \n",
       "Classifier.typeGNB                              0.870374    \n",
       "Classifier.typeLDA                              0.884608    \n",
       "Classifier.typeLogReg                           0.530438    \n",
       "Classifier.typesvm-nonlin                       0.000291 ***\n",
       "Smoothingunsmooth                               0.484532    \n",
       "CoregistrationNative Space                      0.835206    \n",
       "Pattern.normalization.typeNormalized Spatially  0.879977    \n",
       "Pattern.normalization.typeNormalized Temporally 0.751323    \n",
       "NumSubs                                         0.215765    \n",
       "Scanner7T                                       0.280751    \n",
       "Roi.SearchSearchlight Peak                      0.937128    \n",
       "Pattern.typeMulti-Trial Single-Time Point       0.264169    \n",
       "Pattern.typeSingle Trial Multi-Time Point       0.354653    \n",
       "Pattern.typeSingle Trial Single-Time Point      0.563063    \n",
       "Resolution_Volume                               0.720345    \n",
       "---\n",
       "Signif. codes:  0 ‘***’ 0.001 ‘**’ 0.01 ‘*’ 0.05 ‘.’ 0.1 ‘ ’ 1\n",
       "\n",
       "Residual standard error: 0.065 on 58 degrees of freedom\n",
       "Multiple R-squared:  0.3584,\tAdjusted R-squared:  0.1814 \n",
       "F-statistic: 2.025 on 16 and 58 DF,  p-value: 0.02634\n"
      ]
     },
     "metadata": {},
     "output_type": "display_data"
    }
   ],
   "source": [
    "data_50_paper$Classifier.type<-relevel(data_50_paper$Classifier.type,'svm-lin')\n",
    "factor_model<-lm(Accuracy.50~Classifier.type+Smoothing+Coregistration+Pattern.normalization.type+NumSubs+Scanner+Roi.Search+Pattern.type+Resolution_Volume,data=data_50_paper)\n",
    "summary(factor_model)\n",
    "d<-anova(factor_model)\n",
    "\n",
    "# no info-type - it's not really between study - 10 studies with more than 1 type - "
   ]
  },
  {
   "cell_type": "code",
   "execution_count": 118,
   "metadata": {},
   "outputs": [
    {
     "data": {
      "text/html": [
       "<table>\n",
       "<thead><tr><th></th><th scope=col>Df</th><th scope=col>Sum Sq</th><th scope=col>Mean Sq</th><th scope=col>F value</th><th scope=col>Pr(&gt;F)</th></tr></thead>\n",
       "<tbody>\n",
       "\t<tr><th scope=row>Classifier.type</th><td>50         </td><td>1.166693   </td><td>0.2333386  </td><td>55.23354   </td><td>0.003164175</td></tr>\n",
       "</tbody>\n",
       "</table>\n"
      ],
      "text/latex": [
       "\\begin{tabular}{r|lllll}\n",
       "  & Df & Sum Sq & Mean Sq & F value & Pr(>F)\\\\\n",
       "\\hline\n",
       "\tClassifier.type & 50          & 1.166693    & 0.2333386   & 55.23354    & 0.003164175\\\\\n",
       "\\end{tabular}\n"
      ],
      "text/markdown": [
       "\n",
       "| <!--/--> | Df | Sum Sq | Mean Sq | F value | Pr(>F) | \n",
       "|---|\n",
       "| Classifier.type | 50          | 1.166693    | 0.2333386   | 55.23354    | 0.003164175 | \n",
       "\n",
       "\n"
      ],
      "text/plain": [
       "                Df Sum Sq   Mean Sq   F value  Pr(>F)     \n",
       "Classifier.type 50 1.166693 0.2333386 55.23354 0.003164175"
      ]
     },
     "metadata": {},
     "output_type": "display_data"
    }
   ],
   "source": [
    "d[1,]*10"
   ]
  },
  {
   "cell_type": "code",
   "execution_count": 114,
   "metadata": {},
   "outputs": [
    {
     "data": {
      "text/html": [
       "<table>\n",
       "<thead><tr><th></th><th scope=col>Df</th><th scope=col>Sum Sq</th><th scope=col>Mean Sq</th><th scope=col>F value</th><th scope=col>Pr(&gt;F)</th></tr></thead>\n",
       "<tbody>\n",
       "\t<tr><th scope=row>Classifier.type</th><td> 5   </td><td>0.117</td><td>0.023</td><td>5.523</td><td>0.000</td></tr>\n",
       "\t<tr><th scope=row>Smoothing</th><td> 1   </td><td>0.002</td><td>0.002</td><td>0.391</td><td>0.534</td></tr>\n",
       "\t<tr><th scope=row>Coregistration</th><td> 1   </td><td>0.000</td><td>0.000</td><td>0.035</td><td>0.851</td></tr>\n",
       "\t<tr><th scope=row>Pattern.normalization.type</th><td> 2   </td><td>0.001</td><td>0.000</td><td>0.080</td><td>0.924</td></tr>\n",
       "\t<tr><th scope=row>NumSubs</th><td> 1   </td><td>0.005</td><td>0.005</td><td>1.241</td><td>0.270</td></tr>\n",
       "\t<tr><th scope=row>Scanner</th><td> 1   </td><td>0.003</td><td>0.003</td><td>0.771</td><td>0.383</td></tr>\n",
       "\t<tr><th scope=row>Roi.Search</th><td> 1   </td><td>0.001</td><td>0.001</td><td>0.125</td><td>0.725</td></tr>\n",
       "\t<tr><th scope=row>Pattern.type</th><td> 3   </td><td>0.008</td><td>0.003</td><td>0.643</td><td>0.590</td></tr>\n",
       "\t<tr><th scope=row>Resolution_Volume</th><td> 1   </td><td>0.001</td><td>0.001</td><td>0.129</td><td>0.720</td></tr>\n",
       "\t<tr><th scope=row>Residuals</th><td>58   </td><td>0.245</td><td>0.004</td><td>   NA</td><td>   NA</td></tr>\n",
       "</tbody>\n",
       "</table>\n"
      ],
      "text/latex": [
       "\\begin{tabular}{r|lllll}\n",
       "  & Df & Sum Sq & Mean Sq & F value & Pr(>F)\\\\\n",
       "\\hline\n",
       "\tClassifier.type &  5    & 0.117 & 0.023 & 5.523 & 0.000\\\\\n",
       "\tSmoothing &  1    & 0.002 & 0.002 & 0.391 & 0.534\\\\\n",
       "\tCoregistration &  1    & 0.000 & 0.000 & 0.035 & 0.851\\\\\n",
       "\tPattern.normalization.type &  2    & 0.001 & 0.000 & 0.080 & 0.924\\\\\n",
       "\tNumSubs &  1    & 0.005 & 0.005 & 1.241 & 0.270\\\\\n",
       "\tScanner &  1    & 0.003 & 0.003 & 0.771 & 0.383\\\\\n",
       "\tRoi.Search &  1    & 0.001 & 0.001 & 0.125 & 0.725\\\\\n",
       "\tPattern.type &  3    & 0.008 & 0.003 & 0.643 & 0.590\\\\\n",
       "\tResolution\\_Volume &  1    & 0.001 & 0.001 & 0.129 & 0.720\\\\\n",
       "\tResiduals & 58    & 0.245 & 0.004 &    NA &    NA\\\\\n",
       "\\end{tabular}\n"
      ],
      "text/markdown": [
       "\n",
       "| <!--/--> | Df | Sum Sq | Mean Sq | F value | Pr(>F) | \n",
       "|---|---|---|---|---|---|---|---|---|---|\n",
       "| Classifier.type |  5    | 0.117 | 0.023 | 5.523 | 0.000 | \n",
       "| Smoothing |  1    | 0.002 | 0.002 | 0.391 | 0.534 | \n",
       "| Coregistration |  1    | 0.000 | 0.000 | 0.035 | 0.851 | \n",
       "| Pattern.normalization.type |  2    | 0.001 | 0.000 | 0.080 | 0.924 | \n",
       "| NumSubs |  1    | 0.005 | 0.005 | 1.241 | 0.270 | \n",
       "| Scanner |  1    | 0.003 | 0.003 | 0.771 | 0.383 | \n",
       "| Roi.Search |  1    | 0.001 | 0.001 | 0.125 | 0.725 | \n",
       "| Pattern.type |  3    | 0.008 | 0.003 | 0.643 | 0.590 | \n",
       "| Resolution_Volume |  1    | 0.001 | 0.001 | 0.129 | 0.720 | \n",
       "| Residuals | 58    | 0.245 | 0.004 |    NA |    NA | \n",
       "\n",
       "\n"
      ],
      "text/plain": [
       "                           Df Sum Sq Mean Sq F value Pr(>F)\n",
       "Classifier.type             5 0.117  0.023   5.523   0.000 \n",
       "Smoothing                   1 0.002  0.002   0.391   0.534 \n",
       "Coregistration              1 0.000  0.000   0.035   0.851 \n",
       "Pattern.normalization.type  2 0.001  0.000   0.080   0.924 \n",
       "NumSubs                     1 0.005  0.005   1.241   0.270 \n",
       "Scanner                     1 0.003  0.003   0.771   0.383 \n",
       "Roi.Search                  1 0.001  0.001   0.125   0.725 \n",
       "Pattern.type                3 0.008  0.003   0.643   0.590 \n",
       "Resolution_Volume           1 0.001  0.001   0.129   0.720 \n",
       "Residuals                  58 0.245  0.004      NA      NA "
      ]
     },
     "metadata": {},
     "output_type": "display_data"
    }
   ],
   "source": [
    "d$Df<-round(d$Df,0)\n",
    "d['Sum Sq']<-round(d['Sum Sq'],3)\n",
    "d['Mean Sq']<-round(d['Mean Sq'],3)\n",
    "d['F value']<-round(d['F value'],3)\n",
    "d['Pr(>F)']<-round(d['Pr(>F)'],3)\n",
    "d"
   ]
  },
  {
   "cell_type": "code",
   "execution_count": null,
   "metadata": {
    "collapsed": true
   },
   "outputs": [],
   "source": [
    "d[,$]"
   ]
  }
 ],
 "metadata": {
  "hide_input": false,
  "kernelspec": {
   "display_name": "R",
   "language": "R",
   "name": "ir"
  },
  "language_info": {
   "codemirror_mode": "r",
   "file_extension": ".r",
   "mimetype": "text/x-r-source",
   "name": "R",
   "pygments_lexer": "r",
   "version": "3.4.1"
  },
  "toc": {
   "nav_menu": {},
   "number_sections": true,
   "sideBar": true,
   "skip_h1_title": false,
   "toc_cell": false,
   "toc_position": {},
   "toc_section_display": "block",
   "toc_window_display": false
  }
 },
 "nbformat": 4,
 "nbformat_minor": 1
}
