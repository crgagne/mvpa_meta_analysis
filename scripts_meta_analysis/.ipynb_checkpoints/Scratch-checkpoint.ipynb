{
 "cells": [
  {
   "cell_type": "code",
   "execution_count": 2,
   "metadata": {
    "collapsed": true
   },
   "outputs": [],
   "source": [
    "import matplotlib.pyplot as plt\n",
    "import os.path\n",
    "import seaborn as sns\n",
    "import numpy as np\n",
    "%matplotlib inline"
   ]
  },
  {
   "cell_type": "code",
   "execution_count": null,
   "metadata": {
    "collapsed": true
   },
   "outputs": [],
   "source": [
    "import Scripts_SigNonSig\n",
    "reload(Scripts_SigNonSig)\n",
    "from Scripts_SigNonSig import * "
   ]
  },
  {
   "cell_type": "code",
   "execution_count": null,
   "metadata": {
    "collapsed": false
   },
   "outputs": [
    {
     "name": "stderr",
     "output_type": "stream",
     "text": [
      "/home/bishop/cgagne/anaconda2/lib/python2.7/site-packages/pandas/core/frame.py:1997: UserWarning: Boolean Series key will be reindexed to match DataFrame index.\n",
      "  \"DataFrame index.\", UserWarning)\n",
      "Scripts_SigNonSig.py:72: SettingWithCopyWarning: \n",
      "A value is trying to be set on a copy of a slice from a DataFrame\n",
      "\n",
      "See the caveats in the documentation: http://pandas.pydata.org/pandas-docs/stable/indexing.html#indexing-view-versus-copy\n",
      "  region_data_single_row['Accuracy.50'] = np.mean(region_data['Accuracy.50'])\n"
     ]
    }
   ],
   "source": [
    "out = get_data_for_sig_nonsig_analyses()\n",
    "df_50_nonsig = out['df_50_nonsig']\n",
    "df_50_sig = out['df_50_sig']"
   ]
  },
  {
   "cell_type": "code",
   "execution_count": null,
   "metadata": {
    "collapsed": true
   },
   "outputs": [],
   "source": [
    "df_50 = out['df_50']"
   ]
  },
  {
   "cell_type": "code",
   "execution_count": null,
   "metadata": {
    "collapsed": true
   },
   "outputs": [],
   "source": [
    "df_50_study = collapse_study_data(df_50)"
   ]
  },
  {
   "cell_type": "code",
   "execution_count": 1,
   "metadata": {
    "collapsed": false
   },
   "outputs": [
    {
     "ename": "NameError",
     "evalue": "name 'df_50_study' is not defined",
     "output_type": "error",
     "traceback": [
      "\u001b[1;31m---------------------------------------------------------------------------\u001b[0m",
      "\u001b[1;31mNameError\u001b[0m                                 Traceback (most recent call last)",
      "\u001b[1;32m<ipython-input-1-da88f96607ee>\u001b[0m in \u001b[0;36m<module>\u001b[1;34m()\u001b[0m\n\u001b[1;32m----> 1\u001b[1;33m \u001b[0mreduced\u001b[0m \u001b[1;33m=\u001b[0m \u001b[0mdf_50_study\u001b[0m\u001b[1;33m[\u001b[0m\u001b[1;33m[\u001b[0m\u001b[1;34m'PID'\u001b[0m\u001b[1;33m,\u001b[0m\u001b[1;34m'Title'\u001b[0m\u001b[1;33m,\u001b[0m\u001b[1;34m'Info.type'\u001b[0m\u001b[1;33m,\u001b[0m\u001b[1;34m'Accuracy.50'\u001b[0m\u001b[1;33m]\u001b[0m\u001b[1;33m]\u001b[0m\u001b[1;33m.\u001b[0m\u001b[0msort\u001b[0m\u001b[1;33m(\u001b[0m\u001b[1;33m[\u001b[0m\u001b[1;34m'Info.type'\u001b[0m\u001b[1;33m,\u001b[0m\u001b[1;34m'PID'\u001b[0m\u001b[1;33m]\u001b[0m\u001b[1;33m)\u001b[0m\u001b[1;33m\u001b[0m\u001b[0m\n\u001b[0m\u001b[0;32m      2\u001b[0m \u001b[0mreduced\u001b[0m\u001b[1;33m.\u001b[0m\u001b[0mloc\u001b[0m\u001b[1;33m[\u001b[0m\u001b[0mreduced\u001b[0m\u001b[1;33m[\u001b[0m\u001b[1;34m'Info.type'\u001b[0m\u001b[1;33m]\u001b[0m\u001b[1;33m==\u001b[0m\u001b[1;34m'Rule'\u001b[0m\u001b[1;33m,\u001b[0m\u001b[1;33m]\u001b[0m\u001b[1;33m\u001b[0m\u001b[0m\n\u001b[0;32m      3\u001b[0m \u001b[1;31m#reduced.sort_values(by='PID')\u001b[0m\u001b[1;33m\u001b[0m\u001b[1;33m\u001b[0m\u001b[0m\n",
      "\u001b[1;31mNameError\u001b[0m: name 'df_50_study' is not defined"
     ]
    }
   ],
   "source": [
    "reduced = df_50_study[['PID','Title','Info.type','Accuracy.50']].sort(['Info.type','PID'])\n",
    "reduced.loc[reduced['Info.type']=='Rule',]\n",
    "#reduced.sort_values(by='PID')"
   ]
  },
  {
   "cell_type": "code",
   "execution_count": 15,
   "metadata": {
    "collapsed": false,
    "scrolled": false
   },
   "outputs": [
    {
     "name": "stderr",
     "output_type": "stream",
     "text": [
      "/home/bishop/cgagne/anaconda2/lib/python2.7/site-packages/ipykernel/__main__.py:1: FutureWarning: sort(columns=....) is deprecated, use sort_values(by=.....)\n",
      "  if __name__ == '__main__':\n"
     ]
    },
    {
     "data": {
      "text/html": [
       "<div>\n",
       "<table border=\"1\" class=\"dataframe\">\n",
       "  <thead>\n",
       "    <tr style=\"text-align: right;\">\n",
       "      <th></th>\n",
       "      <th>PID</th>\n",
       "      <th>Title</th>\n",
       "      <th>Info.type</th>\n",
       "      <th>Accuracy.50</th>\n",
       "    </tr>\n",
       "  </thead>\n",
       "  <tbody>\n",
       "    <tr>\n",
       "      <th>22</th>\n",
       "      <td>1</td>\n",
       "      <td>Multi-voxel coding of stimuli, Rules, and Resp...</td>\n",
       "      <td>Response</td>\n",
       "      <td>0.474</td>\n",
       "    </tr>\n",
       "    <tr>\n",
       "      <th>288</th>\n",
       "      <td>2</td>\n",
       "      <td>Neural correlates of object-based attentional ...</td>\n",
       "      <td>Rule</td>\n",
       "      <td>0.55</td>\n",
       "    </tr>\n",
       "    <tr>\n",
       "      <th>353</th>\n",
       "      <td>5</td>\n",
       "      <td>Frontal and Parietal Cortical Interactions wit...</td>\n",
       "      <td>Response</td>\n",
       "      <td>0.52</td>\n",
       "    </tr>\n",
       "    <tr>\n",
       "      <th>465</th>\n",
       "      <td>6</td>\n",
       "      <td>Decoding sequential stages of task preparation...</td>\n",
       "      <td>Perceptual</td>\n",
       "      <td>0.56</td>\n",
       "    </tr>\n",
       "    <tr>\n",
       "      <th>1</th>\n",
       "      <td>7</td>\n",
       "      <td>Rapid transfer of abstract rules to novel cont...</td>\n",
       "      <td>Rule</td>\n",
       "      <td>0.438</td>\n",
       "    </tr>\n",
       "    <tr>\n",
       "      <th>423</th>\n",
       "      <td>8</td>\n",
       "      <td>The Relationship between Working Memory Storag...</td>\n",
       "      <td>Rule</td>\n",
       "      <td>0.55</td>\n",
       "    </tr>\n",
       "    <tr>\n",
       "      <th>3</th>\n",
       "      <td>9</td>\n",
       "      <td>Reading Hidden Intentions in the Human Brain</td>\n",
       "      <td>Rule</td>\n",
       "      <td>0.45</td>\n",
       "    </tr>\n",
       "    <tr>\n",
       "      <th>23</th>\n",
       "      <td>10</td>\n",
       "      <td>Decoding abstract and concrete concept represe...</td>\n",
       "      <td>Perceptual</td>\n",
       "      <td>0.48</td>\n",
       "    </tr>\n",
       "    <tr>\n",
       "      <th>180</th>\n",
       "      <td>11</td>\n",
       "      <td>Decoding the perception of pain from fMRI usin...</td>\n",
       "      <td>Perceptual</td>\n",
       "      <td>0.52</td>\n",
       "    </tr>\n",
       "    <tr>\n",
       "      <th>477</th>\n",
       "      <td>12</td>\n",
       "      <td>Training Improves Multitasking Performance by ...</td>\n",
       "      <td>Rule</td>\n",
       "      <td>0.56</td>\n",
       "    </tr>\n",
       "    <tr>\n",
       "      <th>4</th>\n",
       "      <td>13</td>\n",
       "      <td>Where One Hand Meets the Other: Limb-Specific ...</td>\n",
       "      <td>Response</td>\n",
       "      <td>0.45</td>\n",
       "    </tr>\n",
       "    <tr>\n",
       "      <th>65</th>\n",
       "      <td>16</td>\n",
       "      <td>Multi-voxel patterns of visual category repres...</td>\n",
       "      <td>Perceptual</td>\n",
       "      <td>0.495</td>\n",
       "    </tr>\n",
       "    <tr>\n",
       "      <th>190</th>\n",
       "      <td>18</td>\n",
       "      <td>Flexible Coding for Categorical Decisions in t...</td>\n",
       "      <td>Rule</td>\n",
       "      <td>0.52</td>\n",
       "    </tr>\n",
       "    <tr>\n",
       "      <th>458</th>\n",
       "      <td>20</td>\n",
       "      <td>Distributed representations of Rule identity a...</td>\n",
       "      <td>Rule</td>\n",
       "      <td>0.554</td>\n",
       "    </tr>\n",
       "    <tr>\n",
       "      <th>432</th>\n",
       "      <td>21</td>\n",
       "      <td>Compositionality of Rule representations in hu...</td>\n",
       "      <td>Rule</td>\n",
       "      <td>0.55</td>\n",
       "    </tr>\n",
       "    <tr>\n",
       "      <th>63</th>\n",
       "      <td>22</td>\n",
       "      <td>Network structure and dynamics of the mental w...</td>\n",
       "      <td>Rule</td>\n",
       "      <td>0.492</td>\n",
       "    </tr>\n",
       "    <tr>\n",
       "      <th>89</th>\n",
       "      <td>23</td>\n",
       "      <td>Exploring commonalities across participants in...</td>\n",
       "      <td>Perceptual</td>\n",
       "      <td>0.5</td>\n",
       "    </tr>\n",
       "    <tr>\n",
       "      <th>433</th>\n",
       "      <td>24</td>\n",
       "      <td>Unconscious determiNAts of free decisions in t...</td>\n",
       "      <td>Response</td>\n",
       "      <td>0.55</td>\n",
       "    </tr>\n",
       "    <tr>\n",
       "      <th>482</th>\n",
       "      <td>25</td>\n",
       "      <td>Cortical Mechanisms of Cognitive Control for S...</td>\n",
       "      <td>Rule</td>\n",
       "      <td>0.56</td>\n",
       "    </tr>\n",
       "    <tr>\n",
       "      <th>521</th>\n",
       "      <td>26</td>\n",
       "      <td>Tracking the Unconscious Generation of Free De...</td>\n",
       "      <td>Rule</td>\n",
       "      <td>0.57</td>\n",
       "    </tr>\n",
       "    <tr>\n",
       "      <th>296</th>\n",
       "      <td>27</td>\n",
       "      <td>Human anterior prefrontal cortex encodes the w...</td>\n",
       "      <td>Rule</td>\n",
       "      <td>0.55</td>\n",
       "    </tr>\n",
       "    <tr>\n",
       "      <th>27</th>\n",
       "      <td>28</td>\n",
       "      <td>Adaptive Coding of Task-Relevant Information i...</td>\n",
       "      <td>Perceptual</td>\n",
       "      <td>0.48</td>\n",
       "    </tr>\n",
       "    <tr>\n",
       "      <th>344</th>\n",
       "      <td>31</td>\n",
       "      <td>Using fMRI to decode true thoughts independent...</td>\n",
       "      <td>Rule</td>\n",
       "      <td>0.63</td>\n",
       "    </tr>\n",
       "    <tr>\n",
       "      <th>62</th>\n",
       "      <td>32</td>\n",
       "      <td>Neural Correlates of Subliminal Language Proce...</td>\n",
       "      <td>Perceptual</td>\n",
       "      <td>0.491</td>\n",
       "    </tr>\n",
       "    <tr>\n",
       "      <th>386</th>\n",
       "      <td>33</td>\n",
       "      <td>Distributed representations of dynamic facial ...</td>\n",
       "      <td>Perceptual</td>\n",
       "      <td>0.539</td>\n",
       "    </tr>\n",
       "    <tr>\n",
       "      <th>39</th>\n",
       "      <td>37</td>\n",
       "      <td>Ubiquity and specificity of reinforcement sign...</td>\n",
       "      <td>Response</td>\n",
       "      <td>0.484</td>\n",
       "    </tr>\n",
       "    <tr>\n",
       "      <th>799</th>\n",
       "      <td>39</td>\n",
       "      <td>Neural Responses to unattended products predic...</td>\n",
       "      <td>Value</td>\n",
       "      <td>0.72</td>\n",
       "    </tr>\n",
       "    <tr>\n",
       "      <th>298</th>\n",
       "      <td>41</td>\n",
       "      <td>Amodal processing in human prefrontal cortex.</td>\n",
       "      <td>Rule</td>\n",
       "      <td>0.55</td>\n",
       "    </tr>\n",
       "    <tr>\n",
       "      <th>146</th>\n",
       "      <td>42</td>\n",
       "      <td>Encoding of prospective tasks in the human pre...</td>\n",
       "      <td>Rule</td>\n",
       "      <td>0.51</td>\n",
       "    </tr>\n",
       "    <tr>\n",
       "      <th>92</th>\n",
       "      <td>43</td>\n",
       "      <td>Format-dependent representations of symbolic a...</td>\n",
       "      <td>Perceptual</td>\n",
       "      <td>0.5</td>\n",
       "    </tr>\n",
       "    <tr>\n",
       "      <th>...</th>\n",
       "      <td>...</td>\n",
       "      <td>...</td>\n",
       "      <td>...</td>\n",
       "      <td>...</td>\n",
       "    </tr>\n",
       "    <tr>\n",
       "      <th>678</th>\n",
       "      <td>64</td>\n",
       "      <td>Within- and cross-participant classifiers reve...</td>\n",
       "      <td>Perceptual</td>\n",
       "      <td>0.616</td>\n",
       "    </tr>\n",
       "    <tr>\n",
       "      <th>322</th>\n",
       "      <td>65</td>\n",
       "      <td>Feature-Specific Attentional Priority Signals ...</td>\n",
       "      <td>Rule</td>\n",
       "      <td>0.56</td>\n",
       "    </tr>\n",
       "    <tr>\n",
       "      <th>814</th>\n",
       "      <td>66</td>\n",
       "      <td>Representation of Spatial Information in Key A...</td>\n",
       "      <td>Perceptual</td>\n",
       "      <td>0.74</td>\n",
       "    </tr>\n",
       "    <tr>\n",
       "      <th>621</th>\n",
       "      <td>67</td>\n",
       "      <td>Predicting free choices for abstract intentions</td>\n",
       "      <td>Rule</td>\n",
       "      <td>0.595</td>\n",
       "    </tr>\n",
       "    <tr>\n",
       "      <th>598</th>\n",
       "      <td>68</td>\n",
       "      <td>Interpersonal Liking modulates motor related r...</td>\n",
       "      <td>Value</td>\n",
       "      <td>0.585</td>\n",
       "    </tr>\n",
       "    <tr>\n",
       "      <th>282</th>\n",
       "      <td>69</td>\n",
       "      <td>Judging semantic similarity: an event-related ...</td>\n",
       "      <td>Perceptual</td>\n",
       "      <td>0.54</td>\n",
       "    </tr>\n",
       "    <tr>\n",
       "      <th>857</th>\n",
       "      <td>70</td>\n",
       "      <td>Task Encoding across the Multiple Demand Corte...</td>\n",
       "      <td>Rule</td>\n",
       "      <td>0.51</td>\n",
       "    </tr>\n",
       "    <tr>\n",
       "      <th>802</th>\n",
       "      <td>71</td>\n",
       "      <td>The involvement of the fronto-parietal brain n...</td>\n",
       "      <td>Response</td>\n",
       "      <td>0.72</td>\n",
       "    </tr>\n",
       "    <tr>\n",
       "      <th>496</th>\n",
       "      <td>72</td>\n",
       "      <td>Multiple neural representations of elementary ...</td>\n",
       "      <td>Rule</td>\n",
       "      <td>0.56</td>\n",
       "    </tr>\n",
       "    <tr>\n",
       "      <th>354</th>\n",
       "      <td>73</td>\n",
       "      <td>Awake, Offline Processing during Associative L...</td>\n",
       "      <td>Rule</td>\n",
       "      <td>0.52</td>\n",
       "    </tr>\n",
       "    <tr>\n",
       "      <th>372</th>\n",
       "      <td>74</td>\n",
       "      <td>Similar coding of freely chosen and externally...</td>\n",
       "      <td>Rule</td>\n",
       "      <td>0.53</td>\n",
       "    </tr>\n",
       "    <tr>\n",
       "      <th>52</th>\n",
       "      <td>75</td>\n",
       "      <td>A Brain System for Auditory Working Memory</td>\n",
       "      <td>Perceptual</td>\n",
       "      <td>0.49</td>\n",
       "    </tr>\n",
       "    <tr>\n",
       "      <th>35</th>\n",
       "      <td>76</td>\n",
       "      <td>Neural Coding for Instruction-Based Task Sets ...</td>\n",
       "      <td>Rule</td>\n",
       "      <td>0.48</td>\n",
       "    </tr>\n",
       "    <tr>\n",
       "      <th>652</th>\n",
       "      <td>77</td>\n",
       "      <td>Neural representation of object-specific atten...</td>\n",
       "      <td>Perceptual</td>\n",
       "      <td>0.6</td>\n",
       "    </tr>\n",
       "    <tr>\n",
       "      <th>498</th>\n",
       "      <td>78</td>\n",
       "      <td>Probing the reaching-grasping network in human...</td>\n",
       "      <td>Response</td>\n",
       "      <td>0.56</td>\n",
       "    </tr>\n",
       "    <tr>\n",
       "      <th>2</th>\n",
       "      <td>79</td>\n",
       "      <td>Decoding the view expectation during learned m...</td>\n",
       "      <td>Rule</td>\n",
       "      <td>0.44</td>\n",
       "    </tr>\n",
       "    <tr>\n",
       "      <th>36</th>\n",
       "      <td>80</td>\n",
       "      <td>Attention enhances multi-voxel representation ...</td>\n",
       "      <td>Perceptual</td>\n",
       "      <td>0.48</td>\n",
       "    </tr>\n",
       "    <tr>\n",
       "      <th>285</th>\n",
       "      <td>81</td>\n",
       "      <td>Neural Representation of EmotionRegulation Goals</td>\n",
       "      <td>Value</td>\n",
       "      <td>0.5431</td>\n",
       "    </tr>\n",
       "    <tr>\n",
       "      <th>158</th>\n",
       "      <td>82</td>\n",
       "      <td>Stable Task Representations under Attentional ...</td>\n",
       "      <td>Response</td>\n",
       "      <td>0.51</td>\n",
       "    </tr>\n",
       "    <tr>\n",
       "      <th>208</th>\n",
       "      <td>83</td>\n",
       "      <td>Reward Motivation Enhances Task Coding in Fron...</td>\n",
       "      <td>Rule</td>\n",
       "      <td>0.52</td>\n",
       "    </tr>\n",
       "    <tr>\n",
       "      <th>37</th>\n",
       "      <td>84</td>\n",
       "      <td>Flexible Coding of Task Rules in Frontoparieta...</td>\n",
       "      <td>Rule</td>\n",
       "      <td>0.48</td>\n",
       "    </tr>\n",
       "    <tr>\n",
       "      <th>502</th>\n",
       "      <td>85</td>\n",
       "      <td>Dopamine D2-Receptor Blockade Enhances Decodin...</td>\n",
       "      <td>Value</td>\n",
       "      <td>0.56</td>\n",
       "    </tr>\n",
       "    <tr>\n",
       "      <th>312</th>\n",
       "      <td>86</td>\n",
       "      <td>The Behavioral Relevance of Task Information i...</td>\n",
       "      <td>Value</td>\n",
       "      <td>0.55</td>\n",
       "    </tr>\n",
       "    <tr>\n",
       "      <th>110</th>\n",
       "      <td>87</td>\n",
       "      <td>Characterizing the Associative Content of Brai...</td>\n",
       "      <td>Perceptual</td>\n",
       "      <td>0.5</td>\n",
       "    </tr>\n",
       "    <tr>\n",
       "      <th>38</th>\n",
       "      <td>88</td>\n",
       "      <td>Discrimination of Visual Categories Based on B...</td>\n",
       "      <td>Perceptual</td>\n",
       "      <td>0.48</td>\n",
       "    </tr>\n",
       "    <tr>\n",
       "      <th>163</th>\n",
       "      <td>89</td>\n",
       "      <td>Cross-Modal Decoding of Neural Patterns Associ...</td>\n",
       "      <td>Value</td>\n",
       "      <td>0.51</td>\n",
       "    </tr>\n",
       "    <tr>\n",
       "      <th>679</th>\n",
       "      <td>90</td>\n",
       "      <td>The Neural Representation of Voluntary Task-Se...</td>\n",
       "      <td>Value</td>\n",
       "      <td>0.618</td>\n",
       "    </tr>\n",
       "    <tr>\n",
       "      <th>506</th>\n",
       "      <td>91</td>\n",
       "      <td>Differentiating Intended Sensory Outcome from ...</td>\n",
       "      <td>Response</td>\n",
       "      <td>0.56</td>\n",
       "    </tr>\n",
       "    <tr>\n",
       "      <th>618</th>\n",
       "      <td>92</td>\n",
       "      <td>Classifying the wandering mind: Revealing the ...</td>\n",
       "      <td>Value</td>\n",
       "      <td>0.59</td>\n",
       "    </tr>\n",
       "    <tr>\n",
       "      <th>172</th>\n",
       "      <td>93</td>\n",
       "      <td>A Common Neural Code for Perceived and Inferre...</td>\n",
       "      <td>Perceptual</td>\n",
       "      <td>0.515</td>\n",
       "    </tr>\n",
       "  </tbody>\n",
       "</table>\n",
       "<p>76 rows × 4 columns</p>\n",
       "</div>"
      ],
      "text/plain": [
       "    PID                                              Title   Info.type  \\\n",
       "22    1  Multi-voxel coding of stimuli, Rules, and Resp...    Response   \n",
       "288   2  Neural correlates of object-based attentional ...        Rule   \n",
       "353   5  Frontal and Parietal Cortical Interactions wit...    Response   \n",
       "465   6  Decoding sequential stages of task preparation...  Perceptual   \n",
       "1     7  Rapid transfer of abstract rules to novel cont...        Rule   \n",
       "423   8  The Relationship between Working Memory Storag...        Rule   \n",
       "3     9       Reading Hidden Intentions in the Human Brain        Rule   \n",
       "23   10  Decoding abstract and concrete concept represe...  Perceptual   \n",
       "180  11  Decoding the perception of pain from fMRI usin...  Perceptual   \n",
       "477  12  Training Improves Multitasking Performance by ...        Rule   \n",
       "4    13  Where One Hand Meets the Other: Limb-Specific ...    Response   \n",
       "65   16  Multi-voxel patterns of visual category repres...  Perceptual   \n",
       "190  18  Flexible Coding for Categorical Decisions in t...        Rule   \n",
       "458  20  Distributed representations of Rule identity a...        Rule   \n",
       "432  21  Compositionality of Rule representations in hu...        Rule   \n",
       "63   22  Network structure and dynamics of the mental w...        Rule   \n",
       "89   23  Exploring commonalities across participants in...  Perceptual   \n",
       "433  24  Unconscious determiNAts of free decisions in t...    Response   \n",
       "482  25  Cortical Mechanisms of Cognitive Control for S...        Rule   \n",
       "521  26  Tracking the Unconscious Generation of Free De...        Rule   \n",
       "296  27  Human anterior prefrontal cortex encodes the w...        Rule   \n",
       "27   28  Adaptive Coding of Task-Relevant Information i...  Perceptual   \n",
       "344  31  Using fMRI to decode true thoughts independent...        Rule   \n",
       "62   32  Neural Correlates of Subliminal Language Proce...  Perceptual   \n",
       "386  33  Distributed representations of dynamic facial ...  Perceptual   \n",
       "39   37  Ubiquity and specificity of reinforcement sign...    Response   \n",
       "799  39  Neural Responses to unattended products predic...       Value   \n",
       "298  41      Amodal processing in human prefrontal cortex.        Rule   \n",
       "146  42  Encoding of prospective tasks in the human pre...        Rule   \n",
       "92   43  Format-dependent representations of symbolic a...  Perceptual   \n",
       "..   ..                                                ...         ...   \n",
       "678  64  Within- and cross-participant classifiers reve...  Perceptual   \n",
       "322  65  Feature-Specific Attentional Priority Signals ...        Rule   \n",
       "814  66  Representation of Spatial Information in Key A...  Perceptual   \n",
       "621  67    Predicting free choices for abstract intentions        Rule   \n",
       "598  68  Interpersonal Liking modulates motor related r...       Value   \n",
       "282  69  Judging semantic similarity: an event-related ...  Perceptual   \n",
       "857  70  Task Encoding across the Multiple Demand Corte...        Rule   \n",
       "802  71  The involvement of the fronto-parietal brain n...    Response   \n",
       "496  72  Multiple neural representations of elementary ...        Rule   \n",
       "354  73  Awake, Offline Processing during Associative L...        Rule   \n",
       "372  74  Similar coding of freely chosen and externally...        Rule   \n",
       "52   75         A Brain System for Auditory Working Memory  Perceptual   \n",
       "35   76  Neural Coding for Instruction-Based Task Sets ...        Rule   \n",
       "652  77  Neural representation of object-specific atten...  Perceptual   \n",
       "498  78  Probing the reaching-grasping network in human...    Response   \n",
       "2    79  Decoding the view expectation during learned m...        Rule   \n",
       "36   80  Attention enhances multi-voxel representation ...  Perceptual   \n",
       "285  81   Neural Representation of EmotionRegulation Goals       Value   \n",
       "158  82  Stable Task Representations under Attentional ...    Response   \n",
       "208  83  Reward Motivation Enhances Task Coding in Fron...        Rule   \n",
       "37   84  Flexible Coding of Task Rules in Frontoparieta...        Rule   \n",
       "502  85  Dopamine D2-Receptor Blockade Enhances Decodin...       Value   \n",
       "312  86  The Behavioral Relevance of Task Information i...       Value   \n",
       "110  87  Characterizing the Associative Content of Brai...  Perceptual   \n",
       "38   88  Discrimination of Visual Categories Based on B...  Perceptual   \n",
       "163  89  Cross-Modal Decoding of Neural Patterns Associ...       Value   \n",
       "679  90  The Neural Representation of Voluntary Task-Se...       Value   \n",
       "506  91  Differentiating Intended Sensory Outcome from ...    Response   \n",
       "618  92  Classifying the wandering mind: Revealing the ...       Value   \n",
       "172  93  A Common Neural Code for Perceived and Inferre...  Perceptual   \n",
       "\n",
       "    Accuracy.50  \n",
       "22        0.474  \n",
       "288        0.55  \n",
       "353        0.52  \n",
       "465        0.56  \n",
       "1         0.438  \n",
       "423        0.55  \n",
       "3          0.45  \n",
       "23         0.48  \n",
       "180        0.52  \n",
       "477        0.56  \n",
       "4          0.45  \n",
       "65        0.495  \n",
       "190        0.52  \n",
       "458       0.554  \n",
       "432        0.55  \n",
       "63        0.492  \n",
       "89          0.5  \n",
       "433        0.55  \n",
       "482        0.56  \n",
       "521        0.57  \n",
       "296        0.55  \n",
       "27         0.48  \n",
       "344        0.63  \n",
       "62        0.491  \n",
       "386       0.539  \n",
       "39        0.484  \n",
       "799        0.72  \n",
       "298        0.55  \n",
       "146        0.51  \n",
       "92          0.5  \n",
       "..          ...  \n",
       "678       0.616  \n",
       "322        0.56  \n",
       "814        0.74  \n",
       "621       0.595  \n",
       "598       0.585  \n",
       "282        0.54  \n",
       "857        0.51  \n",
       "802        0.72  \n",
       "496        0.56  \n",
       "354        0.52  \n",
       "372        0.53  \n",
       "52         0.49  \n",
       "35         0.48  \n",
       "652         0.6  \n",
       "498        0.56  \n",
       "2          0.44  \n",
       "36         0.48  \n",
       "285      0.5431  \n",
       "158        0.51  \n",
       "208        0.52  \n",
       "37         0.48  \n",
       "502        0.56  \n",
       "312        0.55  \n",
       "110         0.5  \n",
       "38         0.48  \n",
       "163        0.51  \n",
       "679       0.618  \n",
       "506        0.56  \n",
       "618        0.59  \n",
       "172       0.515  \n",
       "\n",
       "[76 rows x 4 columns]"
      ]
     },
     "execution_count": 15,
     "metadata": {},
     "output_type": "execute_result"
    }
   ],
   "source": [
    "reduced = df_50_study[['PID','Title','Info.type','Accuracy.50']].sort(['Info.type','PID'])\n",
    "#reduced.loc[reduced['Info.type']=='Rule',]\n",
    "reduced.sort_values(by='PID')"
   ]
  },
  {
   "cell_type": "code",
   "execution_count": 18,
   "metadata": {
    "collapsed": false
   },
   "outputs": [
    {
     "data": {
      "text/plain": [
       "76"
      ]
     },
     "execution_count": 18,
     "metadata": {},
     "output_type": "execute_result"
    }
   ],
   "source": [
    "len(reduced)"
   ]
  },
  {
   "cell_type": "code",
   "execution_count": 16,
   "metadata": {
    "collapsed": false
   },
   "outputs": [
    {
     "data": {
      "text/plain": [
       "array([ 48.,   7.,  79.,   9.,  13.,   1.,  10.,  28.,  76.,  80.,  84.,\n",
       "        88.,  37.,  56.,  75.,  32.,  22.,  16.,  23.,  43.,  49.,  87.,\n",
       "        42.,  57.,  82.,  89.,  93.,  11.,  18.,  83.,  55.,  69.,  81.,\n",
       "         2.,  27.,  41.,  86.,  65.,  31.,   5.,  73.,  59.,  47.,  74.,\n",
       "        53.,  33.,   8.,  21.,  24.,  46.,  20.,   6.,  12.,  25.,  60.,\n",
       "        72.,  78.,  85.,  91.,  26.,  63.,  68.,  92.,  67.,  62.,  77.,\n",
       "        64.,  90.,  54.,  61.,  39.,  71.,  52.,  66.,  50.,  70.])"
      ]
     },
     "execution_count": 16,
     "metadata": {},
     "output_type": "execute_result"
    }
   ],
   "source": [
    "df_50.PID.unique()"
   ]
  },
  {
   "cell_type": "code",
   "execution_count": 17,
   "metadata": {
    "collapsed": false
   },
   "outputs": [
    {
     "data": {
      "text/plain": [
       "76"
      ]
     },
     "execution_count": 17,
     "metadata": {},
     "output_type": "execute_result"
    }
   ],
   "source": [
    "len(df_50.PID.unique())"
   ]
  },
  {
   "cell_type": "code",
   "execution_count": 70,
   "metadata": {
    "collapsed": true
   },
   "outputs": [],
   "source": [
    "num_analyses = np.array([])\n",
    "for PID in df_50.PID.unique():\n",
    "    d = df_50.loc[df_50['PID']==PID]\n",
    "    num_analyses=np.append(num_analyses,len(d))\n",
    "    \n",
    "    "
   ]
  },
  {
   "cell_type": "code",
   "execution_count": 71,
   "metadata": {
    "collapsed": false
   },
   "outputs": [
    {
     "data": {
      "text/plain": [
       "array([ 12.,   4.,  42.,  12.,  24.,  24.,  96.,  15.,  24.,  10.,  18.,\n",
       "         4.,  18.,   4.,  31.,  26.,   6.,   8.,  96.,  24.,   9.,   4.,\n",
       "        11.,   6.,   9.,   2.,   8.,  22.,  12.,  15.,   8.,  10.,   6.,\n",
       "        16.,   6.,  12.,   8.,  20.,   2.,   4.,   3.,   3.,   3.,   3.,\n",
       "         4.,   1.,   1.,  10.,   1.,  10.,  42.,   6.,   1.,   6.,   3.,\n",
       "         3.,   1.,   6.,   1.,   1.,   6.,   1.,   6.,   1.,   1.,   4.,\n",
       "         1.,   1.,   6.,   2.,  12.,   4.,   2.,   4.,   7.])"
      ]
     },
     "execution_count": 71,
     "metadata": {},
     "output_type": "execute_result"
    }
   ],
   "source": [
    "num_analyses"
   ]
  },
  {
   "cell_type": "code",
   "execution_count": 72,
   "metadata": {
    "collapsed": false
   },
   "outputs": [
    {
     "data": {
      "text/plain": [
       "array([13, 48])"
      ]
     },
     "execution_count": 72,
     "metadata": {},
     "output_type": "execute_result"
    }
   ],
   "source": [
    "df_50.PID.unique()[num_analyses==96]"
   ]
  },
  {
   "cell_type": "code",
   "execution_count": 73,
   "metadata": {
    "collapsed": false
   },
   "outputs": [
    {
     "data": {
      "image/png": "[encoded data removed]",
      "text/plain": [
       "<matplotlib.figure.Figure at 0x7fc9f55b6a90>"
      ]
     },
     "metadata": {},
     "output_type": "display_data"
    }
   ],
   "source": [
    "sns.set_context('paper')\n",
    "sns.set_style('white')\n",
    "plt.hist(num_analyses)\n",
    "plt.xlabel('Number of Analyses per Study')\n",
    "ax1 = plt.gca()\n",
    "ax1.spines[\"top\"].set_visible(False)  \n",
    "ax1.spines[\"right\"].set_visible(False) \n",
    "#ax1.spines[\"bottom\"].set_visible(False) \n",
    "#ax1.spines[\"left\"].set_visible(False)\n",
    "plt.savefig('../Paper_Figs/number_of_analysses_per_study.svg')\n",
    "plt.savefig('../Paper_Figs/number_of_analysses_per_study.png',dpi=900)"
   ]
  },
  {
   "cell_type": "code",
   "execution_count": 74,
   "metadata": {
    "collapsed": false
   },
   "outputs": [
    {
     "data": {
      "text/plain": [
       "0.5748223391812871"
      ]
     },
     "execution_count": 74,
     "metadata": {},
     "output_type": "execute_result"
    }
   ],
   "source": [
    "df_50['Accuracy.50'].mean()"
   ]
  },
  {
   "cell_type": "code",
   "execution_count": 75,
   "metadata": {
    "collapsed": false
   },
   "outputs": [
    {
     "name": "stdout",
     "output_type": "stream",
     "text": [
      "542\n"
     ]
    }
   ],
   "source": [
    "print(np.sum(df_50['Accuracy.50']<df_50['Accuracy.50'].mean()))"
   ]
  },
  {
   "cell_type": "code",
   "execution_count": 76,
   "metadata": {
    "collapsed": false
   },
   "outputs": [
    {
     "name": "stdout",
     "output_type": "stream",
     "text": [
      "0.633918128655\n"
     ]
    }
   ],
   "source": [
    "print(np.mean(df_50['Accuracy.50']<df_50['Accuracy.50'].mean()))"
   ]
  },
  {
   "cell_type": "code",
   "execution_count": 77,
   "metadata": {
    "collapsed": false
   },
   "outputs": [
    {
     "name": "stdout",
     "output_type": "stream",
     "text": [
      "855\n"
     ]
    }
   ],
   "source": [
    "print(len(df_50['Accuracy.50']<df_50['Accuracy.50'].mean()))"
   ]
  },
  {
   "cell_type": "code",
   "execution_count": 78,
   "metadata": {
    "collapsed": false
   },
   "outputs": [
    {
     "data": {
      "text/plain": [
       "45"
      ]
     },
     "execution_count": 78,
     "metadata": {},
     "output_type": "execute_result"
    }
   ],
   "source": [
    "np.random.randint(93)"
   ]
  },
  {
   "cell_type": "code",
   "execution_count": 79,
   "metadata": {
    "collapsed": false
   },
   "outputs": [
    {
     "data": {
      "text/plain": [
       "9"
      ]
     },
     "execution_count": 79,
     "metadata": {},
     "output_type": "execute_result"
    }
   ],
   "source": [
    "np.sum(df_50.PID==69)"
   ]
  },
  {
   "cell_type": "code",
   "execution_count": 80,
   "metadata": {
    "collapsed": false
   },
   "outputs": [
    {
     "data": {
      "text/plain": [
       "array([ 1,  2,  5,  6,  7,  8,  9, 10, 11, 12, 13, 16, 18, 20, 21, 22, 23,\n",
       "       24, 25, 26, 27, 28, 31, 32, 33, 37, 39, 41, 42, 43, 46, 47, 48, 49,\n",
       "       50, 52, 53, 54, 55, 56, 57, 59, 60, 61, 62, 63, 64, 65, 66, 67, 68,\n",
       "       69, 71, 72, 73, 74, 75, 76, 77, 78, 79, 80, 81, 82, 83, 84, 85, 86,\n",
       "       87, 88, 89, 90, 91, 92, 93])"
      ]
     },
     "execution_count": 80,
     "metadata": {},
     "output_type": "execute_result"
    }
   ],
   "source": [
    "np.sort(df_50.PID.unique())"
   ]
  },
  {
   "cell_type": "code",
   "execution_count": null,
   "metadata": {
    "collapsed": true
   },
   "outputs": [],
   "source": []
  }
 ],
 "metadata": {
  "hide_input": false,
  "kernelspec": {
   "display_name": "Python 2",
   "language": "python",
   "name": "python2"
  },
  "language_info": {
   "codemirror_mode": {
    "name": "ipython",
    "version": 2
   },
   "file_extension": ".py",
   "mimetype": "text/x-python",
   "name": "python",
   "nbconvert_exporter": "python",
   "pygments_lexer": "ipython2",
   "version": "2.7.12"
  }
 },
 "nbformat": 4,
 "nbformat_minor": 0
}
