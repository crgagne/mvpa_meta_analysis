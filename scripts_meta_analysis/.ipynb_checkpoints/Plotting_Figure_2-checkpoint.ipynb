{
 "cells": [
  {
   "cell_type": "code",
   "execution_count": 1,
   "metadata": {
    "collapsed": true
   },
   "outputs": [],
   "source": [
    "import matplotlib.pyplot as plt\n",
    "import os.path\n",
    "import numpy as np\n",
    "%matplotlib inline"
   ]
  },
  {
   "cell_type": "code",
   "execution_count": 2,
   "metadata": {
    "collapsed": true
   },
   "outputs": [],
   "source": [
    "import Scripts_SigNonSig\n",
    "reload(Scripts_SigNonSig)\n",
    "from Scripts_SigNonSig import * "
   ]
  },
  {
   "cell_type": "code",
   "execution_count": 3,
   "metadata": {
    "collapsed": false
   },
   "outputs": [
    {
     "name": "stderr",
     "output_type": "stream",
     "text": [
      "/home/bishop/cgagne/anaconda2/lib/python2.7/site-packages/pandas/core/frame.py:1997: UserWarning: Boolean Series key will be reindexed to match DataFrame index.\n",
      "  \"DataFrame index.\", UserWarning)\n",
      "Scripts_SigNonSig.py:72: SettingWithCopyWarning: \n",
      "A value is trying to be set on a copy of a slice from a DataFrame\n",
      "\n",
      "See the caveats in the documentation: http://pandas.pydata.org/pandas-docs/stable/indexing.html#indexing-view-versus-copy\n",
      "  region_data_single_row['Accuracy.50'] = np.mean(region_data['Accuracy.50'])\n",
      "Scripts_SigNonSig.py:158: FutureWarning: sort(columns=....) is deprecated, use sort_values(by=.....)\n",
      "  df_50_sig = df_50_sig.sort('PID') ## careful with the soring #\n",
      "Scripts_SigNonSig.py:166: FutureWarning: sort(columns=....) is deprecated, use sort_values(by=.....)\n",
      "  df_50_nonsig = df_50_nonsig.sort('PID') ## Careful with the sorting ##\n"
     ]
    }
   ],
   "source": [
    "out = get_data_for_sig_nonsig_analyses()\n",
    "df_50_nonsig = out['df_50_nonsig']\n",
    "df_50_sig = out['df_50_sig']"
   ]
  },
  {
   "cell_type": "markdown",
   "metadata": {},
   "source": [
    "# Load Bootstrap Data "
   ]
  },
  {
   "cell_type": "code",
   "execution_count": 4,
   "metadata": {
    "collapsed": false
   },
   "outputs": [],
   "source": [
    "boot_results_sig = np.load('../data_meta_analysis/data_derived_meta_analysis/bootstrap_results_sig.npz')\n",
    "boot_results_non = np.load('../data_meta_analysis/data_derived_meta_analysis/bootstrap_results_nonsig.npz')\n",
    "boot_results_both = np.load('../data_meta_analysis/data_derived_meta_analysis/bootstrap_results_together_recenter.npz')\n",
    "\n",
    "\n",
    " \n",
    "sig_thresh1=boot_results_both['sig_thresh1'].mean() # 95% of re-centered\n",
    "#sig_thresh2=boot_results_both['sig_thresh2'].mean() # max of means nonsig\n",
    "mediann_sig = boot_results_sig['mediann'].mean()\n",
    "mediann_non = boot_results_non['mediann'].mean()\n",
    "\n",
    "epcdf_store_non = boot_results_non['epcdf_store']\n",
    "epcdf_store_sig = boot_results_sig['epcdf_store']\n",
    "eppdf_store_non = boot_results_non['eppdf_store']\n",
    "eppdf_store_sig = boot_results_sig['eppdf_store']\n",
    "\n",
    "\n",
    "x = np.linspace(0,1,100) # what range for cdf # \n"
   ]
  },
  {
   "cell_type": "code",
   "execution_count": 5,
   "metadata": {
    "collapsed": false
   },
   "outputs": [
    {
     "data": {
      "text/plain": [
       "0.68000000000000005"
      ]
     },
     "execution_count": 5,
     "metadata": {},
     "output_type": "execute_result"
    }
   ],
   "source": [
    "np.max(df_50_nonsig['Accuracy.50'])"
   ]
  },
  {
   "cell_type": "markdown",
   "metadata": {},
   "source": [
    "# Plot\n"
   ]
  },
  {
   "cell_type": "code",
   "execution_count": 107,
   "metadata": {
    "collapsed": false
   },
   "outputs": [
    {
     "data": {
      "image/png": "[encoded data removed]",
      "text/plain": [
       "<matplotlib.figure.Figure at 0x7f0e658a3310>"
      ]
     },
     "metadata": {},
     "output_type": "display_data"
    },
    {
     "data": {
      "image/png": "[encoded data removed]",
      "text/plain": [
       "<matplotlib.figure.Figure at 0x7f0e68635290>"
      ]
     },
     "metadata": {},
     "output_type": "display_data"
    },
    {
     "data": {
      "image/png": "[encoded data removed]",
      "text/plain": [
       "<matplotlib.figure.Figure at 0x7f0e65856690>"
      ]
     },
     "metadata": {},
     "output_type": "display_data"
    },
    {
     "data": {
      "image/png": "[encoded data removed]",
      "text/plain": [
       "<matplotlib.figure.Figure at 0x7f0e683b0590>"
      ]
     },
     "metadata": {},
     "output_type": "display_data"
    },
    {
     "data": {
      "image/png": "[encoded data removed]",
      "text/plain": [
       "<matplotlib.figure.Figure at 0x7f0e68b02a50>"
      ]
     },
     "metadata": {},
     "output_type": "display_data"
    },
    {
     "data": {
      "image/png": "[encoded data removed]",
      "text/plain": [
       "<matplotlib.figure.Figure at 0x7f0e658a3210>"
      ]
     },
     "metadata": {},
     "output_type": "display_data"
    },
    {
     "data": {
      "image/png": "[encoded data removed]",
      "text/plain": [
       "<matplotlib.figure.Figure at 0x7f0e686d9fd0>"
      ]
     },
     "metadata": {},
     "output_type": "display_data"
    }
   ],
   "source": [
    "import seaborn as sns\n",
    "\n",
    "\n",
    "pcube = sns.color_palette(\"cubehelix\",20)\n",
    "sns.palplot(pcube)\n",
    "\n",
    "pbg = sns.color_palette(\"BuGn_r\")\n",
    "sns.palplot(pbg)\n",
    "\n",
    "ppaired =sns.color_palette(\"Paired\")\n",
    "sns.palplot(ppaired)\n",
    "\n",
    "phusl = sns.hls_palette(20,l=.4,s=.8)\n",
    "sns.palplot(phusl)\n",
    "\n",
    "pdefault =sns.color_palette()\n",
    "sns.palplot(pdefault)\n",
    "\n",
    "frontalsig = pdefault[0]\n",
    "frontalnon = pdefault[1]\n",
    "\n",
    "frontalsig = phusl[12]\n",
    "frontalnon = phusl[7]\n",
    "\n",
    "frontalsig = ppaired[1]\n",
    "frontalnon = ppaired[3]\n",
    "\n",
    "sns.palplot(frontalsig)\n",
    "sns.palplot(frontalnon)\n",
    "\n"
   ]
  },
  {
   "cell_type": "code",
   "execution_count": 10,
   "metadata": {
    "collapsed": true
   },
   "outputs": [],
   "source": [
    "# Set the font dictionaries (for plot title and axis titles)\n",
    "#title_font = {'fontname':'Arial', 'size':'20', 'color':'black', 'weight':'normal',\n",
    "#              'verticalalignment':'bottom'} # Bottom vertical alignment for more space#\n",
    "\n",
    "#axis_font = {'fontname':'Arial', 'size':'20'}\n",
    "\n",
    "# ax1.set_xlabel('Study ID',**axis_font)\n",
    "# ax1.set_ylabel('Decoding Accuracy',**axis_font)\n",
    "# ax2.set_xlabel('Decoding Accuracy',**axis_font)\n",
    "# ax2.set_ylabel('Cumulative Probability',**axis_font)\n",
    "# ax3.set_xlabel('Decoding Accuracy',**axis_font)\n",
    "# ax3.set_ylabel('Probability Density',**axis_font)\n",
    "# ax1.set_title('(a)',**axis_font)\n",
    "# ax2.set_title('(b)',**axis_font)\n",
    "# ax3.set_title('(c)',**axis_font)"
   ]
  },
  {
   "cell_type": "code",
   "execution_count": 108,
   "metadata": {
    "collapsed": false
   },
   "outputs": [
    {
     "data": {
      "image/png": "[encoded data removed]",
      "text/plain": [
       "<matplotlib.figure.Figure at 0x7f0e68bd8450>"
      ]
     },
     "metadata": {},
     "output_type": "display_data"
    }
   ],
   "source": [
    "import matplotlib.gridspec as gridspec\n",
    "\n",
    "alphaa = 0.7\n",
    "\n",
    "sns.set_style('white')\n",
    "fig = plt.figure()\n",
    "params = {\n",
    "   'axes.labelsize': 8,\n",
    "   'axes.titlesize': 8,\n",
    "    'axes.titleweight': 'normal',\n",
    "    'axes.labelweight':'normal',\n",
    "   'text.fontsize': 6,\n",
    "   'legend.fontsize': 6,\n",
    "   'xtick.labelsize': 8,\n",
    "   'ytick.labelsize': 8,\n",
    "   'text.usetex': False,\n",
    "   'figure.figsize': [6, 4],\n",
    "    'font.family':'cambria'\n",
    "}\n",
    "plt.rcParams.update(params)\n",
    "\n",
    "alphadots=1\n",
    "sizedots=8\n",
    "mainlinewidth = 1\n",
    "whiteoutline = 0.1\n",
    "chanceline = 1\n",
    "\n",
    "gs = gridspec.GridSpec(10, 2) # number of columns to be able to use\n",
    "ax1 = plt.subplot(gs[0:6,:])\n",
    "ax2 = plt.subplot(gs[6:10,0:1])\n",
    "ax3 = plt.subplot(gs[6:10,1:2])\n",
    "\n",
    "\n",
    "#\n",
    "ax1.scatter(y=df_50_sig['Accuracy.50'].as_matrix(),x=df_50_sig['PID'].as_matrix(),\n",
    "            s=sizedots,c=frontalsig,alpha=alphadots)\n",
    "ax1.scatter(y=df_50_nonsig['Accuracy.50'].as_matrix(),x=df_50_nonsig['PID'].as_matrix()+.2,\n",
    "            s=sizedots,c=frontalnon,alpha=alphadots)\n",
    "ax1.axhline(y=0.5,color='k',linestyle='--',linewidth=chanceline)\n",
    "#ax1.axhline(y=np.mean(sig_thresh2),color='g')\n",
    "#ax1.axhline(y=np.mean(sig_thresh1),color='g')\n",
    "#ax1.axhline(y=np.mean(mediann),color='b')\n",
    "\n",
    "\n",
    "#### CDF \n",
    "# significant \n",
    "upci = np.percentile(epcdf_store_sig[40:100],97.5,axis=0)\n",
    "loci = np.percentile(epcdf_store_sig[40:100],2.5,axis=0)\n",
    "ax2.plot(x[40:100],np.mean(epcdf_store_sig,axis=0)[40:100],linewidth=mainlinewidth,color=frontalsig)\n",
    "ax2.fill_between(x[40:100],upci[40:100],loci[40:100],color=frontalsig,alpha=alphaa)\n",
    "ax2.plot(x[40:100],upci[40:100],color='white',linewidth=whiteoutline)\n",
    "ax2.plot(x[40:100],loci[40:100],color='white',linewidth=whiteoutline)\n",
    "\n",
    "# non significant \n",
    "upci = np.percentile(epcdf_store_non[40:100],97.5,axis=0)\n",
    "loci = np.percentile(epcdf_store_non[40:100],2.5,axis=0)\n",
    "ax2.plot(x[40:100],np.mean(epcdf_store_non,axis=0)[40:100],linewidth=mainlinewidth,color=frontalnon)\n",
    "ax2.fill_between(x[40:100],upci[40:100],loci[40:100],color=frontalnon,alpha=alphaa)\n",
    "ax2.plot(x[40:100],upci[40:100],color='white',linewidth=whiteoutline)\n",
    "ax2.plot(x[40:100],loci[40:100],color='white',linewidth=whiteoutline)\n",
    "\n",
    "\n",
    "##### PDF \n",
    "\n",
    "# significant \n",
    "upci = np.percentile(eppdf_store_sig[40:100],97.5,axis=0)\n",
    "loci = np.percentile(eppdf_store_sig[40:100],2.5,axis=0)\n",
    "ax3.plot(x[40:100],np.mean(eppdf_store_sig,axis=0)[40:100],linewidth=mainlinewidth,color=frontalsig)\n",
    "ax3.fill_between(x[40:100],upci[40:100],loci[40:100],color=frontalsig,label='significant',alpha=alphaa)\n",
    "ax3.plot(x[40:100],upci[40:100],color='white',linewidth=whiteoutline)\n",
    "ax3.plot(x[40:100],loci[40:100],color='white',linewidth=whiteoutline)\n",
    "\n",
    "# non significant \n",
    "upci = np.percentile(eppdf_store_non[40:100],97.5,axis=0)\n",
    "loci = np.percentile(eppdf_store_non[40:100],2.5,axis=0)\n",
    "ax3.plot(x[40:100],np.mean(eppdf_store_non,axis=0)[40:100],linewidth=mainlinewidth,color=frontalnon)\n",
    "ax3.fill_between(x[40:100],upci[40:100],loci[40:100],color=frontalnon,label='non-significant',alpha=alphaa)\n",
    "ax3.plot(x[40:100],upci[40:100],color='white',linewidth=whiteoutline)\n",
    "ax3.plot(x[40:100],loci[40:100],color='white',linewidth=whiteoutline)\n",
    "\n",
    "#ax3.axvline(x=np.mean(mediann),color='b')\n",
    "ax3.axvline(x=np.mean(sig_thresh1),color=frontalnon,linewidth=chanceline)\n",
    "#ax3.axvline(x=mediann_sig,color=frontalsig)\n",
    "ax3.axvline(x=0.5,color='k',linestyle='--',label='chance decoding',linewidth=chanceline)\n",
    "ax2.axvline(x=0.5,color='k',linestyle='--',linewidth=chanceline)\n",
    "#ax3.axvline(x=np.mean(sig_thresh1),color='g')\n",
    "\n",
    "\n",
    "plt.legend()\n",
    "\n",
    "\n",
    "ax1.set_ylim(0.4,.95)\n",
    "ax1.set_xlim(-2,96)\n",
    "ax1.set_xlabel('Study ID')\n",
    "ax1.set_ylabel('Decoding Accuracy')\n",
    "ax2.set_xlabel('Decoding Accuracy')\n",
    "ax2.set_ylabel('Cumulative Probability')\n",
    "ax3.set_xlabel('Decoding Accuracy')\n",
    "ax3.set_ylabel('Probability Density')\n",
    "ax1.set_title('(a)')\n",
    "ax2.set_title('(b)')\n",
    "ax3.set_title('(c)')\n",
    "\n",
    "# reduce y ticks\n",
    "yticks = ax3.get_yticks()[:]\n",
    "ax3.set_yticks(yticks[np.arange(1,len(yticks),2)])\n",
    "\n",
    "for ax in [ax1,ax2,ax3]:\n",
    "    ax.spines[\"top\"].set_visible(False)  \n",
    "    ax.spines[\"right\"].set_visible(False) \n",
    "    #for label in (ax.get_xticklabels() + ax.get_yticklabels()):\n",
    "        #label.set_fontname('Arial')\n",
    "        #label.set_fontsize(16)\n",
    "    ax.set_axis_bgcolor('white')\n",
    "\n",
    "\n",
    "ax3.annotate('95% percentile \\n(recentered null distribution)', \n",
    "             xy=(sig_thresh1,5), \n",
    "             xytext=(sig_thresh1+0.1,5),\n",
    "             arrowprops=dict(arrowstyle='->',facecolor='black',linewidth=1),\n",
    "            )\n",
    " \n",
    "plt.tight_layout(h_pad=2.0,w_pad=1.0)\n",
    "plt.savefig('../Figures/Main/Figure2.png',dpi=300)\n",
    "plt.show()"
   ]
  },
  {
   "cell_type": "code",
   "execution_count": 39,
   "metadata": {
    "collapsed": false
   },
   "outputs": [
    {
     "name": "stdout",
     "output_type": "stream",
     "text": [
      "[  0.   2.   4.   6.   8.  10.  12.  14.  16.  18.]\n"
     ]
    },
    {
     "data": {
      "text/plain": [
       "array([  2.,   6.,  10.,  14.,  18.])"
      ]
     },
     "execution_count": 39,
     "metadata": {},
     "output_type": "execute_result"
    }
   ],
   "source": []
  }
 ],
 "metadata": {
  "hide_input": false,
  "kernelspec": {
   "display_name": "Python 2",
   "language": "python",
   "name": "python2"
  },
  "language_info": {
   "codemirror_mode": {
    "name": "ipython",
    "version": 2
   },
   "file_extension": ".py",
   "mimetype": "text/x-python",
   "name": "python",
   "nbconvert_exporter": "python",
   "pygments_lexer": "ipython2",
   "version": "2.7.12"
  }
 },
 "nbformat": 4,
 "nbformat_minor": 0
}
