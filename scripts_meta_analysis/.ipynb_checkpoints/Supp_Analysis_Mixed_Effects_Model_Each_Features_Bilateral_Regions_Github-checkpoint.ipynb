{
 "cells": [
  {
   "cell_type": "markdown",
   "metadata": {},
   "source": [
    "# Goal \n",
    "- Run a separate regression for each analysis feature to see whether any have an effect on classification accuracy. \n",
    "- Plot in the same style as the multivariate regression. \n",
    "- Still use mixed effects. \n",
    "- Don't look at region because there are other analyses dealing with that. \n",
    "\n",
    "**ToDO- it might be nice to look at each distribution again and report any that have odd effects**"
   ]
  },
  {
   "cell_type": "code",
   "execution_count": 4,
   "metadata": {
    "collapsed": false,
    "init_cell": true
   },
   "outputs": [],
   "source": [
    "options(jupyter.plot_mimetypes = \"image/png\")\n",
    "library(nlme)\n",
    "library(ggplot2)\n",
    "library(corrplot)\n",
    "library(gridExtra)\n",
    "library(grid)\n",
    "library(data.table)\n",
    "library(effects)\n",
    "library(xtable)\n",
    "library(extrafont)\n",
    "library(lsmeans)\n",
    "library(multcomp)\n"
   ]
  },
  {
   "cell_type": "markdown",
   "metadata": {},
   "source": [
    "## Load Data"
   ]
  },
  {
   "cell_type": "code",
   "execution_count": 5,
   "metadata": {
    "collapsed": false,
    "init_cell": true
   },
   "outputs": [],
   "source": [
    "data = read.csv(\"../data_meta_analysis/Data_Classifications_v7.csv\")\n",
    "\n",
    "data<-data[c('PID','Info.type','Accuracy.50','Significance','Roi.Search',\n",
    "             'Pattern.type','Classifier.type','Scanner','Smoothing','Coregistration','Pattern.normalization.type','Num_subs')]\n",
    "\n",
    "factors<-c('Info.type','Significance','Roi.Search',\n",
    "             'Pattern.type','Classifier.type','Scanner','Smoothing','Coregistration','Pattern.normalization.type','Num_subs')\n",
    "\n",
    "for (pid in unique(data$PID)){\n",
    "    #print('--')\n",
    "    #print(pid)\n",
    "    #print(nrow(data1[data1$PID==pid,]))\n",
    "    #print('--')\n",
    "    data[data$PID==pid,'n_per_study']=nrow(data[data$PID==pid,])\n",
    "}\n",
    "\n",
    "\n",
    "# msc\n",
    "\n",
    "#R1 = read.csv(paste(\"../data_meta_analysis/data_derived_meta_analysis/X_region1_before_clustering_2.csv\"))\n",
    "#R2 = read.csv(paste(\"X_region1_after_clustering.csv\"))\n",
    "#R3 = read.csv(paste(\"../data_meta_analysis/data_derived_meta_analysis/X_region1_after_clustering_lr_2.csv\"))\n",
    "#R4 = read.csv(paste(\"../data_meta_analysis/data_derived_meta_analysis/X_region1_after_clustering2_2.csv\"))\n",
    "R5 = read.csv(paste(\"../data_meta_analysis/data_derived_meta_analysis/X_region1_combined_regs.csv\"))\n",
    "\n",
    "#R1names = colnames(R1)\n",
    "#R2names = colnames(R2)\n",
    "#R3names = colnames(R3)\n",
    "#R4names = colnames(R4)\n",
    "R5names = colnames(R5)\n",
    "\n",
    "# i=1\n",
    "# for (name in R3names){\n",
    "#     R3names[i]<-paste(sep='','R3',name)\n",
    "#     i=i+1\n",
    "# }\n",
    "# R3names\n",
    "# colnames(R3)<-R3names\n",
    "# #head(R3)\n",
    "\n"
   ]
  },
  {
   "cell_type": "code",
   "execution_count": 6,
   "metadata": {
    "collapsed": false,
    "init_cell": true
   },
   "outputs": [
    {
     "data": {
      "text/html": [
       "<table>\n",
       "<thead><tr><th></th><th scope=col>PID</th><th scope=col>Info.type</th><th scope=col>Accuracy.50</th><th scope=col>Significance</th><th scope=col>Roi.Search</th><th scope=col>Pattern.type</th><th scope=col>Classifier.type</th><th scope=col>Scanner</th><th scope=col>Smoothing</th><th scope=col>Coregistration</th><th scope=col>Pattern.normalization.type</th><th scope=col>Num_subs</th><th scope=col>n_per_study</th><th scope=col>Frontal_Sup_L</th><th scope=col>Frontal_Sup_R</th><th scope=col>Frontal_Sup_Orb_L</th><th scope=col>Frontal_Sup_Orb_R</th><th scope=col>Frontal_Mid_L</th><th scope=col>Frontal_Mid_R</th><th scope=col>Frontal_Mid_Orb_L</th><th scope=col>Frontal_Mid_Orb_R</th><th scope=col>Frontal_Inf_Oper_L</th><th scope=col>Frontal_Inf_Oper_R</th><th scope=col>Frontal_Inf_Tri_L</th><th scope=col>Frontal_Inf_Tri_R</th><th scope=col>Frontal_Inf_Orb_L</th><th scope=col>Frontal_Inf_Orb_R</th><th scope=col>Supp_Motor_Area_L</th><th scope=col>Supp_Motor_Area_R</th><th scope=col>Frontal_Sup_Medial_L</th><th scope=col>Frontal_Sup_Medial_R</th><th scope=col>Insula_L</th><th scope=col>Insula_R</th><th scope=col>Cingulum_Ant_L</th><th scope=col>Cingulum_Ant_R</th><th scope=col>Cingulum_Mid_L</th><th scope=col>Cingulum_Mid_R</th><th scope=col>Precentral_L</th><th scope=col>Precentral_R</th><th scope=col>Frontal_Sup_Medial_L.Frontal_Sup_Medial_R</th><th scope=col>Cingulum_Mid_L.Cingulum_Mid_R</th><th scope=col>Frontal_Mid_L.Frontal_Mid_R</th><th scope=col>Precentral_L.Precentral_R</th><th scope=col>Frontal_Inf_Orb_L.Frontal_Inf_Orb_R</th><th scope=col>Insula_L.Insula_R</th><th scope=col>Frontal_Inf_Tri_L.Frontal_Inf_Tri_R</th><th scope=col>Frontal_Inf_Oper_R.Precentral_R</th><th scope=col>Frontal_Inf_Oper_R.Frontal_Inf_Tri_R</th><th scope=col>Cingulum_Ant_L.Cingulum_Ant_R</th><th scope=col>Frontal_Sup_L.Frontal_Sup_R</th><th scope=col>Supp_Motor_Area_L.Supp_Motor_Area_R</th><th scope=col>Frontal_Inf_Oper_L.Frontal_Inf_Oper_R</th><th scope=col>Frontal_Mid_R.Frontal_Inf_Tri_R</th><th scope=col>Frontal_Mid_Orb_L.Frontal_Mid_Orb_R</th></tr></thead>\n",
       "<tbody>\n",
       "\t<tr><th scope=row>2</th><td>93</td><td>Perceptual</td><td>0.52</td><td>1</td><td>ROI</td><td>Single Trial Multi-Time Point</td><td>svm-lin</td><td>3T</td><td>smoothed</td><td>coregistered</td><td>Normalized Temporally</td><td>21</td><td>20</td><td>0</td><td>0</td><td>0</td><td>0</td><td>0</td><td>0</td><td>0</td><td>0</td><td>0</td><td>0</td><td>0</td><td>0</td><td>0</td><td>0</td><td>0</td><td>0</td><td>0</td><td>0</td><td>0</td><td>0</td><td>0</td><td>0</td><td>0</td><td>0</td><td>0</td><td>0</td><td>1</td><td>0</td><td>0</td><td>0</td><td>0</td><td>0</td><td>0</td><td>0</td><td>0</td><td>0</td><td>0</td><td>0</td><td>0</td><td>0</td><td>0</td></tr>\n",
       "\t<tr><th scope=row>3</th><td>93</td><td>Perceptual</td><td>0.52</td><td>1</td><td>ROI</td><td>Single Trial Multi-Time Point</td><td>svm-lin</td><td>3T</td><td>smoothed</td><td>coregistered</td><td>Normalized Temporally</td><td>21</td><td>20</td><td>0</td><td>0</td><td>0</td><td>0</td><td>0</td><td>0</td><td>0</td><td>0</td><td>0</td><td>0</td><td>0</td><td>0</td><td>0</td><td>0</td><td>0</td><td>0</td><td>0</td><td>0</td><td>0</td><td>0</td><td>0</td><td>0</td><td>0</td><td>0</td><td>0</td><td>0</td><td>1</td><td>0</td><td>0</td><td>0</td><td>0</td><td>0</td><td>0</td><td>0</td><td>0</td><td>0</td><td>0</td><td>0</td><td>0</td><td>0</td><td>0</td></tr>\n",
       "\t<tr><th scope=row>4</th><td>93</td><td>Perceptual</td><td>0.52</td><td>1</td><td>ROI</td><td>Single Trial Multi-Time Point</td><td>svm-lin</td><td>3T</td><td>smoothed</td><td>coregistered</td><td>Normalized Temporally</td><td>21</td><td>20</td><td>0</td><td>0</td><td>0</td><td>0</td><td>0</td><td>0</td><td>0</td><td>0</td><td>0</td><td>0</td><td>0</td><td>0</td><td>0</td><td>0</td><td>0</td><td>0</td><td>0</td><td>0</td><td>0</td><td>0</td><td>0</td><td>0</td><td>0</td><td>0</td><td>0</td><td>0</td><td>1</td><td>0</td><td>0</td><td>0</td><td>0</td><td>0</td><td>0</td><td>0</td><td>0</td><td>0</td><td>0</td><td>0</td><td>0</td><td>0</td><td>0</td></tr>\n",
       "\t<tr><th scope=row>5</th><td>93</td><td>Perceptual</td><td>0.52</td><td>1</td><td>ROI</td><td>Single Trial Multi-Time Point</td><td>svm-lin</td><td>3T</td><td>smoothed</td><td>coregistered</td><td>Normalized Temporally</td><td>21</td><td>20</td><td>0</td><td>0</td><td>0</td><td>0</td><td>0</td><td>0</td><td>0</td><td>0</td><td>0</td><td>0</td><td>0</td><td>0</td><td>0</td><td>0</td><td>0</td><td>0</td><td>0</td><td>0</td><td>0</td><td>0</td><td>0</td><td>0</td><td>0</td><td>0</td><td>0</td><td>0</td><td>1</td><td>0</td><td>0</td><td>0</td><td>0</td><td>0</td><td>0</td><td>0</td><td>0</td><td>0</td><td>0</td><td>0</td><td>0</td><td>0</td><td>0</td></tr>\n",
       "\t<tr><th scope=row>6</th><td>93</td><td>Perceptual</td><td>0.525</td><td>1</td><td>ROI</td><td>Single Trial Multi-Time Point</td><td>svm-lin</td><td>3T</td><td>smoothed</td><td>coregistered</td><td>Normalized Temporally</td><td>21</td><td>20</td><td>0</td><td>0</td><td>0</td><td>0</td><td>0</td><td>0</td><td>0</td><td>0</td><td>0</td><td>0</td><td>0</td><td>0</td><td>0</td><td>0</td><td>0</td><td>0</td><td>0</td><td>0</td><td>0</td><td>0</td><td>0</td><td>0</td><td>0</td><td>0</td><td>0</td><td>0</td><td>1</td><td>0</td><td>0</td><td>0</td><td>0</td><td>0</td><td>0</td><td>0</td><td>0</td><td>0</td><td>0</td><td>0</td><td>0</td><td>0</td><td>0</td></tr>\n",
       "\t<tr><th scope=row>7</th><td>93</td><td>Perceptual</td><td>0.53</td><td>1</td><td>ROI</td><td>Single Trial Multi-Time Point</td><td>svm-lin</td><td>3T</td><td>smoothed</td><td>coregistered</td><td>Normalized Temporally</td><td>21</td><td>20</td><td>0</td><td>0</td><td>0</td><td>0</td><td>0</td><td>0</td><td>0</td><td>0</td><td>0</td><td>0</td><td>0</td><td>0</td><td>0</td><td>0</td><td>0</td><td>0</td><td>0</td><td>0</td><td>0</td><td>0</td><td>0</td><td>0</td><td>0</td><td>0</td><td>0</td><td>0</td><td>1</td><td>0</td><td>0</td><td>0</td><td>0</td><td>0</td><td>0</td><td>0</td><td>0</td><td>0</td><td>0</td><td>0</td><td>0</td><td>0</td><td>0</td></tr>\n",
       "</tbody>\n",
       "</table>\n"
      ],
      "text/latex": [
       "\\begin{tabular}{r|llllllllllllllllllllllllllllllllllllllllllllllllllllll}\n",
       "  & PID & Info.type & Accuracy.50 & Significance & Roi.Search & Pattern.type & Classifier.type & Scanner & Smoothing & Coregistration & Pattern.normalization.type & Num_subs & n_per_study & Frontal_Sup_L & Frontal_Sup_R & Frontal_Sup_Orb_L & Frontal_Sup_Orb_R & Frontal_Mid_L & Frontal_Mid_R & Frontal_Mid_Orb_L & Frontal_Mid_Orb_R & Frontal_Inf_Oper_L & Frontal_Inf_Oper_R & Frontal_Inf_Tri_L & Frontal_Inf_Tri_R & Frontal_Inf_Orb_L & Frontal_Inf_Orb_R & Supp_Motor_Area_L & Supp_Motor_Area_R & Frontal_Sup_Medial_L & Frontal_Sup_Medial_R & Insula_L & Insula_R & Cingulum_Ant_L & Cingulum_Ant_R & Cingulum_Mid_L & Cingulum_Mid_R & Precentral_L & Precentral_R & Frontal_Sup_Medial_L.Frontal_Sup_Medial_R & Cingulum_Mid_L.Cingulum_Mid_R & Frontal_Mid_L.Frontal_Mid_R & Precentral_L.Precentral_R & Frontal_Inf_Orb_L.Frontal_Inf_Orb_R & Insula_L.Insula_R & Frontal_Inf_Tri_L.Frontal_Inf_Tri_R & Frontal_Inf_Oper_R.Precentral_R & Frontal_Inf_Oper_R.Frontal_Inf_Tri_R & Cingulum_Ant_L.Cingulum_Ant_R & Frontal_Sup_L.Frontal_Sup_R & Supp_Motor_Area_L.Supp_Motor_Area_R & Frontal_Inf_Oper_L.Frontal_Inf_Oper_R & Frontal_Mid_R.Frontal_Inf_Tri_R & Frontal_Mid_Orb_L.Frontal_Mid_Orb_R\\\\\n",
       "\\hline\n",
       "\t2 & 93 & Perceptual & 0.52 & 1 & ROI & Single Trial Multi-Time Point & svm-lin & 3T & smoothed & coregistered & Normalized Temporally & 21 & 20 & 0 & 0 & 0 & 0 & 0 & 0 & 0 & 0 & 0 & 0 & 0 & 0 & 0 & 0 & 0 & 0 & 0 & 0 & 0 & 0 & 0 & 0 & 0 & 0 & 0 & 0 & 1 & 0 & 0 & 0 & 0 & 0 & 0 & 0 & 0 & 0 & 0 & 0 & 0 & 0 & 0\\\\\n",
       "\t3 & 93 & Perceptual & 0.52 & 1 & ROI & Single Trial Multi-Time Point & svm-lin & 3T & smoothed & coregistered & Normalized Temporally & 21 & 20 & 0 & 0 & 0 & 0 & 0 & 0 & 0 & 0 & 0 & 0 & 0 & 0 & 0 & 0 & 0 & 0 & 0 & 0 & 0 & 0 & 0 & 0 & 0 & 0 & 0 & 0 & 1 & 0 & 0 & 0 & 0 & 0 & 0 & 0 & 0 & 0 & 0 & 0 & 0 & 0 & 0\\\\\n",
       "\t4 & 93 & Perceptual & 0.52 & 1 & ROI & Single Trial Multi-Time Point & svm-lin & 3T & smoothed & coregistered & Normalized Temporally & 21 & 20 & 0 & 0 & 0 & 0 & 0 & 0 & 0 & 0 & 0 & 0 & 0 & 0 & 0 & 0 & 0 & 0 & 0 & 0 & 0 & 0 & 0 & 0 & 0 & 0 & 0 & 0 & 1 & 0 & 0 & 0 & 0 & 0 & 0 & 0 & 0 & 0 & 0 & 0 & 0 & 0 & 0\\\\\n",
       "\t5 & 93 & Perceptual & 0.52 & 1 & ROI & Single Trial Multi-Time Point & svm-lin & 3T & smoothed & coregistered & Normalized Temporally & 21 & 20 & 0 & 0 & 0 & 0 & 0 & 0 & 0 & 0 & 0 & 0 & 0 & 0 & 0 & 0 & 0 & 0 & 0 & 0 & 0 & 0 & 0 & 0 & 0 & 0 & 0 & 0 & 1 & 0 & 0 & 0 & 0 & 0 & 0 & 0 & 0 & 0 & 0 & 0 & 0 & 0 & 0\\\\\n",
       "\t6 & 93 & Perceptual & 0.525 & 1 & ROI & Single Trial Multi-Time Point & svm-lin & 3T & smoothed & coregistered & Normalized Temporally & 21 & 20 & 0 & 0 & 0 & 0 & 0 & 0 & 0 & 0 & 0 & 0 & 0 & 0 & 0 & 0 & 0 & 0 & 0 & 0 & 0 & 0 & 0 & 0 & 0 & 0 & 0 & 0 & 1 & 0 & 0 & 0 & 0 & 0 & 0 & 0 & 0 & 0 & 0 & 0 & 0 & 0 & 0\\\\\n",
       "\t7 & 93 & Perceptual & 0.53 & 1 & ROI & Single Trial Multi-Time Point & svm-lin & 3T & smoothed & coregistered & Normalized Temporally & 21 & 20 & 0 & 0 & 0 & 0 & 0 & 0 & 0 & 0 & 0 & 0 & 0 & 0 & 0 & 0 & 0 & 0 & 0 & 0 & 0 & 0 & 0 & 0 & 0 & 0 & 0 & 0 & 1 & 0 & 0 & 0 & 0 & 0 & 0 & 0 & 0 & 0 & 0 & 0 & 0 & 0 & 0\\\\\n",
       "\\end{tabular}\n"
      ],
      "text/plain": [
       "  PID  Info.type Accuracy.50 Significance Roi.Search\n",
       "2  93 Perceptual       0.520            1        ROI\n",
       "3  93 Perceptual       0.520            1        ROI\n",
       "4  93 Perceptual       0.520            1        ROI\n",
       "5  93 Perceptual       0.520            1        ROI\n",
       "6  93 Perceptual       0.525            1        ROI\n",
       "7  93 Perceptual       0.530            1        ROI\n",
       "                   Pattern.type Classifier.type Scanner Smoothing\n",
       "2 Single Trial Multi-Time Point         svm-lin      3T  smoothed\n",
       "3 Single Trial Multi-Time Point         svm-lin      3T  smoothed\n",
       "4 Single Trial Multi-Time Point         svm-lin      3T  smoothed\n",
       "5 Single Trial Multi-Time Point         svm-lin      3T  smoothed\n",
       "6 Single Trial Multi-Time Point         svm-lin      3T  smoothed\n",
       "7 Single Trial Multi-Time Point         svm-lin      3T  smoothed\n",
       "  Coregistration Pattern.normalization.type Num_subs n_per_study Frontal_Sup_L\n",
       "2   coregistered      Normalized Temporally       21          20             0\n",
       "3   coregistered      Normalized Temporally       21          20             0\n",
       "4   coregistered      Normalized Temporally       21          20             0\n",
       "5   coregistered      Normalized Temporally       21          20             0\n",
       "6   coregistered      Normalized Temporally       21          20             0\n",
       "7   coregistered      Normalized Temporally       21          20             0\n",
       "  Frontal_Sup_R Frontal_Sup_Orb_L Frontal_Sup_Orb_R Frontal_Mid_L Frontal_Mid_R\n",
       "2             0                 0                 0             0             0\n",
       "3             0                 0                 0             0             0\n",
       "4             0                 0                 0             0             0\n",
       "5             0                 0                 0             0             0\n",
       "6             0                 0                 0             0             0\n",
       "7             0                 0                 0             0             0\n",
       "  Frontal_Mid_Orb_L Frontal_Mid_Orb_R Frontal_Inf_Oper_L Frontal_Inf_Oper_R\n",
       "2                 0                 0                  0                  0\n",
       "3                 0                 0                  0                  0\n",
       "4                 0                 0                  0                  0\n",
       "5                 0                 0                  0                  0\n",
       "6                 0                 0                  0                  0\n",
       "7                 0                 0                  0                  0\n",
       "  Frontal_Inf_Tri_L Frontal_Inf_Tri_R Frontal_Inf_Orb_L Frontal_Inf_Orb_R\n",
       "2                 0                 0                 0                 0\n",
       "3                 0                 0                 0                 0\n",
       "4                 0                 0                 0                 0\n",
       "5                 0                 0                 0                 0\n",
       "6                 0                 0                 0                 0\n",
       "7                 0                 0                 0                 0\n",
       "  Supp_Motor_Area_L Supp_Motor_Area_R Frontal_Sup_Medial_L Frontal_Sup_Medial_R\n",
       "2                 0                 0                    0                    0\n",
       "3                 0                 0                    0                    0\n",
       "4                 0                 0                    0                    0\n",
       "5                 0                 0                    0                    0\n",
       "6                 0                 0                    0                    0\n",
       "7                 0                 0                    0                    0\n",
       "  Insula_L Insula_R Cingulum_Ant_L Cingulum_Ant_R Cingulum_Mid_L Cingulum_Mid_R\n",
       "2        0        0              0              0              0              0\n",
       "3        0        0              0              0              0              0\n",
       "4        0        0              0              0              0              0\n",
       "5        0        0              0              0              0              0\n",
       "6        0        0              0              0              0              0\n",
       "7        0        0              0              0              0              0\n",
       "  Precentral_L Precentral_R Frontal_Sup_Medial_L.Frontal_Sup_Medial_R\n",
       "2            0            0                                         1\n",
       "3            0            0                                         1\n",
       "4            0            0                                         1\n",
       "5            0            0                                         1\n",
       "6            0            0                                         1\n",
       "7            0            0                                         1\n",
       "  Cingulum_Mid_L.Cingulum_Mid_R Frontal_Mid_L.Frontal_Mid_R\n",
       "2                             0                           0\n",
       "3                             0                           0\n",
       "4                             0                           0\n",
       "5                             0                           0\n",
       "6                             0                           0\n",
       "7                             0                           0\n",
       "  Precentral_L.Precentral_R Frontal_Inf_Orb_L.Frontal_Inf_Orb_R\n",
       "2                         0                                   0\n",
       "3                         0                                   0\n",
       "4                         0                                   0\n",
       "5                         0                                   0\n",
       "6                         0                                   0\n",
       "7                         0                                   0\n",
       "  Insula_L.Insula_R Frontal_Inf_Tri_L.Frontal_Inf_Tri_R\n",
       "2                 0                                   0\n",
       "3                 0                                   0\n",
       "4                 0                                   0\n",
       "5                 0                                   0\n",
       "6                 0                                   0\n",
       "7                 0                                   0\n",
       "  Frontal_Inf_Oper_R.Precentral_R Frontal_Inf_Oper_R.Frontal_Inf_Tri_R\n",
       "2                               0                                    0\n",
       "3                               0                                    0\n",
       "4                               0                                    0\n",
       "5                               0                                    0\n",
       "6                               0                                    0\n",
       "7                               0                                    0\n",
       "  Cingulum_Ant_L.Cingulum_Ant_R Frontal_Sup_L.Frontal_Sup_R\n",
       "2                             0                           0\n",
       "3                             0                           0\n",
       "4                             0                           0\n",
       "5                             0                           0\n",
       "6                             0                           0\n",
       "7                             0                           0\n",
       "  Supp_Motor_Area_L.Supp_Motor_Area_R Frontal_Inf_Oper_L.Frontal_Inf_Oper_R\n",
       "2                                   0                                     0\n",
       "3                                   0                                     0\n",
       "4                                   0                                     0\n",
       "5                                   0                                     0\n",
       "6                                   0                                     0\n",
       "7                                   0                                     0\n",
       "  Frontal_Mid_R.Frontal_Inf_Tri_R Frontal_Mid_Orb_L.Frontal_Mid_Orb_R\n",
       "2                               0                                   0\n",
       "3                               0                                   0\n",
       "4                               0                                   0\n",
       "5                               0                                   0\n",
       "6                               0                                   0\n",
       "7                               0                                   0"
      ]
     },
     "execution_count": 6,
     "metadata": {},
     "output_type": "execute_result"
    },
    {
     "data": {
      "text/html": [
       "506"
      ],
      "text/latex": [
       "506"
      ],
      "text/markdown": [
       "506"
      ],
      "text/plain": [
       "[1] 506"
      ]
     },
     "execution_count": 6,
     "metadata": {},
     "output_type": "execute_result"
    }
   ],
   "source": [
    "data = cbind(data,R5) # will bind with other region names too \n",
    "\n",
    "\n",
    "# mscl fixed \n",
    "data<-data[!data$Classifier.type=='neural-net',] # no observations but still has a level\n",
    "data[data$Scanner=='4T','Scanner']='3T' # only one observatoin with 3T\n",
    "\n",
    "data$PID<-as.factor(data$PID)\n",
    "data$Info.type<-as.factor(data$Info.type)\n",
    "data$Smoothing<-as.factor(data$Smoothing)\n",
    "data$Roi.Search<-as.factor(data$Roi.Search)\n",
    "data$Classifier.type<-as.factor(data$Classifier.type)\n",
    "data$Coregistration<-as.factor(data$Coregistration)\n",
    "data$Pattern.type<-as.factor(data$Pattern.type)\n",
    "\n",
    "#data[data$Pattern.normalization.type=='Normalized Spatially']\n",
    "\n",
    "data$Pattern.normalization.type<-as.factor(data$Pattern.normalization.type)\n",
    "\n",
    "data<-droplevels(data)\n",
    "\n",
    "\n",
    "data_50<-subset(data,!is.na(Accuracy.50))\n",
    "data_50_non<-subset(data,!is.na(Accuracy.50)& Significance==0)\n",
    "data_50_sig<-subset(data,!is.na(Accuracy.50) & Significance==1)\n",
    "head(data_50_sig)\n",
    "nrow(data_50_sig)\n"
   ]
  },
  {
   "cell_type": "markdown",
   "metadata": {},
   "source": [
    "## Mixed Effects, Sig, All Factors - more regions"
   ]
  },
  {
   "cell_type": "code",
   "execution_count": 7,
   "metadata": {
    "collapsed": false
   },
   "outputs": [],
   "source": [
    "# remove some pairs of regions \n",
    "# used in a later analysis\n",
    "R5names = R5names[R5names!='Cingulum_Mid_R']\n",
    "R5names = R5names[R5names!='Frontal_Mid_R.Frontal_Inf_Tri_L']\n",
    "R5names = R5names[R5names!='Frontal_Mid_L.Precentral_R']\n",
    "R5names = R5names[R5names!='Cingulum_Ant_R.Cingulum_Mid_R']\n",
    "R5names = R5names[R5names!='Frontal_Sup_R.Frontal_Sup_Medial_R  ']\n",
    "R5names = R5names[R5names!='Frontal_Sup_L.Frontal_Sup_Medial_L']\n",
    "R5names = R5names[R5names!='Frontal_Inf_Tri_R.Frontal_Inf_Orb_R']\n",
    "R5names = R5names[R5names!='Frontal_Sup_R.Frontal_Sup_Medial_R']\n",
    "R5names = R5names[R5names!='Frontal_Inf_Oper_R.Precentral_L']\n",
    "R5names = R5names[R5names!='Frontal_Inf_Oper_R.Precentral_R']\n",
    "R5names = R5names[R5names!='Frontal_Mid_R.Frontal_Inf_Tri_R']\n",
    "R5names = R5names[R5names!='Frontal_Inf_Oper_R.Frontal_Inf_Tri_R']\n"
   ]
  },
  {
   "cell_type": "markdown",
   "metadata": {},
   "source": [
    "Removing observations that had more than 2 regions. Results in fewer analyses and studies than reported for the significant distribution"
   ]
  },
  {
   "cell_type": "code",
   "execution_count": 57,
   "metadata": {
    "collapsed": false
   },
   "outputs": [
    {
     "data": {
      "text/html": [
       "422"
      ],
      "text/latex": [
       "422"
      ],
      "text/markdown": [
       "422"
      ],
      "text/plain": [
       "[1] 422"
      ]
     },
     "execution_count": 57,
     "metadata": {},
     "output_type": "execute_result"
    }
   ],
   "source": [
    "d<-data_50_sig[c('Accuracy.50','PID',factors,R5names)]\n",
    "d=d[rowSums(d[,R5names])==1,] # remove rows with no region regressor (would have been 2+)\n",
    "nrow(d)"
   ]
  },
  {
   "cell_type": "code",
   "execution_count": 9,
   "metadata": {
    "collapsed": false
   },
   "outputs": [
    {
     "data": {
      "text/html": [
       "69"
      ],
      "text/latex": [
       "69"
      ],
      "text/markdown": [
       "69"
      ],
      "text/plain": [
       "[1] 69"
      ]
     },
     "execution_count": 9,
     "metadata": {},
     "output_type": "execute_result"
    }
   ],
   "source": [
    "nrow(unique(d['PID']))"
   ]
  },
  {
   "cell_type": "code",
   "execution_count": 10,
   "metadata": {
    "collapsed": false
   },
   "outputs": [],
   "source": [
    "factors<-c('Info.type','Roi.Search',\n",
    "             'Pattern.type','Classifier.type','Scanner','Smoothing','Coregistration','Pattern.normalization.type','Num_subs')\n"
   ]
  },
  {
   "cell_type": "code",
   "execution_count": 11,
   "metadata": {
    "collapsed": false
   },
   "outputs": [
    {
     "data": {
      "text/html": [
       "'Frontal_Sup_L+Frontal_Sup_R+Frontal_Sup_Orb_L+Frontal_Sup_Orb_R+Frontal_Mid_L+Frontal_Mid_R+Frontal_Mid_Orb_L+Frontal_Mid_Orb_R+Frontal_Inf_Oper_L+Frontal_Inf_Oper_R+Frontal_Inf_Tri_L+Frontal_Inf_Tri_R+Frontal_Inf_Orb_L+Frontal_Inf_Orb_R+Supp_Motor_Area_L+Supp_Motor_Area_R+Frontal_Sup_Medial_L+Frontal_Sup_Medial_R+Insula_L+Insula_R+Cingulum_Ant_L+Cingulum_Ant_R+Cingulum_Mid_L+Precentral_L+Precentral_R+Frontal_Sup_Medial_L.Frontal_Sup_Medial_R+Cingulum_Mid_L.Cingulum_Mid_R+Frontal_Mid_L.Frontal_Mid_R+Precentral_L.Precentral_R+Frontal_Inf_Orb_L.Frontal_Inf_Orb_R+Insula_L.Insula_R+Frontal_Inf_Tri_L.Frontal_Inf_Tri_R+Cingulum_Ant_L.Cingulum_Ant_R+Frontal_Sup_L.Frontal_Sup_R+Supp_Motor_Area_L.Supp_Motor_Area_R+Frontal_Inf_Oper_L.Frontal_Inf_Oper_R+Info.type+Roi.Search+Pattern.type+Classifier.type+Scanner+Smoothing+Coregistration+Pattern.normalization.type+Num_subs'"
      ],
      "text/latex": [
       "'Frontal_Sup_L+Frontal_Sup_R+Frontal_Sup_Orb_L+Frontal_Sup_Orb_R+Frontal_Mid_L+Frontal_Mid_R+Frontal_Mid_Orb_L+Frontal_Mid_Orb_R+Frontal_Inf_Oper_L+Frontal_Inf_Oper_R+Frontal_Inf_Tri_L+Frontal_Inf_Tri_R+Frontal_Inf_Orb_L+Frontal_Inf_Orb_R+Supp_Motor_Area_L+Supp_Motor_Area_R+Frontal_Sup_Medial_L+Frontal_Sup_Medial_R+Insula_L+Insula_R+Cingulum_Ant_L+Cingulum_Ant_R+Cingulum_Mid_L+Precentral_L+Precentral_R+Frontal_Sup_Medial_L.Frontal_Sup_Medial_R+Cingulum_Mid_L.Cingulum_Mid_R+Frontal_Mid_L.Frontal_Mid_R+Precentral_L.Precentral_R+Frontal_Inf_Orb_L.Frontal_Inf_Orb_R+Insula_L.Insula_R+Frontal_Inf_Tri_L.Frontal_Inf_Tri_R+Cingulum_Ant_L.Cingulum_Ant_R+Frontal_Sup_L.Frontal_Sup_R+Supp_Motor_Area_L.Supp_Motor_Area_R+Frontal_Inf_Oper_L.Frontal_Inf_Oper_R+Info.type+Roi.Search+Pattern.type+Classifier.type+Scanner+Smoothing+Coregistration+Pattern.normalization.type+Num_subs'"
      ],
      "text/markdown": [
       "'Frontal_Sup_L+Frontal_Sup_R+Frontal_Sup_Orb_L+Frontal_Sup_Orb_R+Frontal_Mid_L+Frontal_Mid_R+Frontal_Mid_Orb_L+Frontal_Mid_Orb_R+Frontal_Inf_Oper_L+Frontal_Inf_Oper_R+Frontal_Inf_Tri_L+Frontal_Inf_Tri_R+Frontal_Inf_Orb_L+Frontal_Inf_Orb_R+Supp_Motor_Area_L+Supp_Motor_Area_R+Frontal_Sup_Medial_L+Frontal_Sup_Medial_R+Insula_L+Insula_R+Cingulum_Ant_L+Cingulum_Ant_R+Cingulum_Mid_L+Precentral_L+Precentral_R+Frontal_Sup_Medial_L.Frontal_Sup_Medial_R+Cingulum_Mid_L.Cingulum_Mid_R+Frontal_Mid_L.Frontal_Mid_R+Precentral_L.Precentral_R+Frontal_Inf_Orb_L.Frontal_Inf_Orb_R+Insula_L.Insula_R+Frontal_Inf_Tri_L.Frontal_Inf_Tri_R+Cingulum_Ant_L.Cingulum_Ant_R+Frontal_Sup_L.Frontal_Sup_R+Supp_Motor_Area_L.Supp_Motor_Area_R+Frontal_Inf_Oper_L.Frontal_Inf_Oper_R+Info.type+Roi.Search+Pattern.type+Classifier.type+Scanner+Smoothing+Coregistration+Pattern.normalization.type+Num_subs'"
      ],
      "text/plain": [
       "[1] \"Frontal_Sup_L+Frontal_Sup_R+Frontal_Sup_Orb_L+Frontal_Sup_Orb_R+Frontal_Mid_L+Frontal_Mid_R+Frontal_Mid_Orb_L+Frontal_Mid_Orb_R+Frontal_Inf_Oper_L+Frontal_Inf_Oper_R+Frontal_Inf_Tri_L+Frontal_Inf_Tri_R+Frontal_Inf_Orb_L+Frontal_Inf_Orb_R+Supp_Motor_Area_L+Supp_Motor_Area_R+Frontal_Sup_Medial_L+Frontal_Sup_Medial_R+Insula_L+Insula_R+Cingulum_Ant_L+Cingulum_Ant_R+Cingulum_Mid_L+Precentral_L+Precentral_R+Frontal_Sup_Medial_L.Frontal_Sup_Medial_R+Cingulum_Mid_L.Cingulum_Mid_R+Frontal_Mid_L.Frontal_Mid_R+Precentral_L.Precentral_R+Frontal_Inf_Orb_L.Frontal_Inf_Orb_R+Insula_L.Insula_R+Frontal_Inf_Tri_L.Frontal_Inf_Tri_R+Cingulum_Ant_L.Cingulum_Ant_R+Frontal_Sup_L.Frontal_Sup_R+Supp_Motor_Area_L.Supp_Motor_Area_R+Frontal_Inf_Oper_L.Frontal_Inf_Oper_R+Info.type+Roi.Search+Pattern.type+Classifier.type+Scanner+Smoothing+Coregistration+Pattern.normalization.type+Num_subs\""
      ]
     },
     "execution_count": 11,
     "metadata": {},
     "output_type": "execute_result"
    }
   ],
   "source": [
    "R1names_string<-c()\n",
    "r=1\n",
    "for (R in R5names){\n",
    "    # don't add last name - to prevent overparameterization. \n",
    "    if(r<length(R5names)){\n",
    "    R1names_string<-paste(R1names_string,R,sep='+')\n",
    "    }\n",
    "    r<-r+1 \n",
    "}\n",
    "for (f in factors){\n",
    "    R1names_string<-paste(R1names_string,f,sep='+')\n",
    "    \n",
    "}\n",
    "\n",
    "R1names_string<-substring(R1names_string, 2)\n",
    "R1names_string"
   ]
  },
  {
   "cell_type": "markdown",
   "metadata": {},
   "source": [
    "# Coefficients"
   ]
  },
  {
   "cell_type": "code",
   "execution_count": 24,
   "metadata": {
    "collapsed": false
   },
   "outputs": [
    {
     "data": {
      "text/html": [
       "<ol class=list-inline>\n",
       "\t<li>'Info.type'</li>\n",
       "\t<li>'Roi.Search'</li>\n",
       "\t<li>'Pattern.type'</li>\n",
       "\t<li>'Classifier.type'</li>\n",
       "\t<li>'Scanner'</li>\n",
       "\t<li>'Smoothing'</li>\n",
       "\t<li>'Coregistration'</li>\n",
       "\t<li>'Pattern.normalization.type'</li>\n",
       "\t<li>'Num_subs'</li>\n",
       "</ol>\n"
      ],
      "text/latex": [
       "\\begin{enumerate*}\n",
       "\\item 'Info.type'\n",
       "\\item 'Roi.Search'\n",
       "\\item 'Pattern.type'\n",
       "\\item 'Classifier.type'\n",
       "\\item 'Scanner'\n",
       "\\item 'Smoothing'\n",
       "\\item 'Coregistration'\n",
       "\\item 'Pattern.normalization.type'\n",
       "\\item 'Num_subs'\n",
       "\\end{enumerate*}\n"
      ],
      "text/markdown": [
       "1. 'Info.type'\n",
       "2. 'Roi.Search'\n",
       "3. 'Pattern.type'\n",
       "4. 'Classifier.type'\n",
       "5. 'Scanner'\n",
       "6. 'Smoothing'\n",
       "7. 'Coregistration'\n",
       "8. 'Pattern.normalization.type'\n",
       "9. 'Num_subs'\n",
       "\n",
       "\n"
      ],
      "text/plain": [
       "[1] \"Info.type\"                  \"Roi.Search\"                \n",
       "[3] \"Pattern.type\"               \"Classifier.type\"           \n",
       "[5] \"Scanner\"                    \"Smoothing\"                 \n",
       "[7] \"Coregistration\"             \"Pattern.normalization.type\"\n",
       "[9] \"Num_subs\"                  "
      ]
     },
     "execution_count": 24,
     "metadata": {},
     "output_type": "execute_result"
    }
   ],
   "source": [
    "factors"
   ]
  },
  {
   "cell_type": "code",
   "execution_count": 74,
   "metadata": {
    "collapsed": false,
    "scrolled": true
   },
   "outputs": [],
   "source": [
    "model_info<-lme(as.formula('Accuracy.50~Info.type'),random=~1|PID,data=d,method='REML')\n",
    "model_rs<-lme(as.formula('Accuracy.50~Roi.Search'),random=~1|PID,data=d,method='REML')\n",
    "model_pt<-lme(as.formula('Accuracy.50~Pattern.type'),random=~1|PID,data=d,method='REML')\n",
    "model_ct<-lme(as.formula('Accuracy.50~Classifier.type'),random=~1|PID,data=d,method='REML')\n",
    "model_sc<-lme(as.formula('Accuracy.50~Scanner'),random=~1|PID,data=d,method='REML')\n",
    "model_sm<-lme(as.formula('Accuracy.50~Smoothing'),random=~1|PID,data=d,method='REML')\n",
    "model_co<-lme(as.formula('Accuracy.50~Coregistration'),random=~1|PID,data=d,method='REML')\n",
    "model_patnorm<-lme(as.formula('Accuracy.50~Pattern.normalization.type'),random=~1|PID,data=d,method='REML')\n",
    "model_n<-lme(as.formula('Accuracy.50~Num_subs'),random=~1|PID,data=d,method='REML')\n",
    "\n",
    "\n",
    "\n"
   ]
  },
  {
   "cell_type": "code",
   "execution_count": 75,
   "metadata": {
    "collapsed": false
   },
   "outputs": [
    {
     "data": {
      "text/plain": [
       "Linear mixed-effects model fit by REML\n",
       " Data: d \n",
       "        AIC      BIC   logLik\n",
       "  -1111.541 -1095.38 559.7703\n",
       "\n",
       "Random effects:\n",
       " Formula: ~1 | PID\n",
       "        (Intercept)   Residual\n",
       "StdDev:   0.0607567 0.05479463\n",
       "\n",
       "Fixed effects: as.formula(\"Accuracy.50~Roi.Search\") \n",
       "                               Value  Std.Error  DF  t-value p-value\n",
       "(Intercept)                0.5997173 0.00981514 352 61.10125  0.0000\n",
       "Roi.SearchSearchlight Peak 0.0170798 0.01500426 352  1.13833  0.2558\n",
       " Correlation: \n",
       "                           (Intr)\n",
       "Roi.SearchSearchlight Peak -0.535\n",
       "\n",
       "Standardized Within-Group Residuals:\n",
       "       Min         Q1        Med         Q3        Max \n",
       "-2.1880142 -0.4767920 -0.1535517  0.3351583  4.5644720 \n",
       "\n",
       "Number of Observations: 422\n",
       "Number of Groups: 69 "
      ]
     },
     "execution_count": 75,
     "metadata": {},
     "output_type": "execute_result"
    }
   ],
   "source": [
    "summary(model_rs)"
   ]
  },
  {
   "cell_type": "code",
   "execution_count": 76,
   "metadata": {
    "collapsed": false
   },
   "outputs": [
    {
     "data": {
      "text/plain": [
       "Linear mixed-effects model fit by REML\n",
       " Data: d \n",
       "        AIC       BIC   logLik\n",
       "  -1099.815 -1075.602 555.9074\n",
       "\n",
       "Random effects:\n",
       " Formula: ~1 | PID\n",
       "        (Intercept)  Residual\n",
       "StdDev:  0.06028215 0.0547867\n",
       "\n",
       "Fixed effects: as.formula(\"Accuracy.50~Pattern.type\") \n",
       "                                                Value  Std.Error  DF  t-value\n",
       "(Intercept)                                 0.6252514 0.01280458 353 48.83028\n",
       "Pattern.typeMulti-Trial Single-Time Point  -0.0349712 0.02737389  65 -1.27754\n",
       "Pattern.typeSingle Trial Multi-Time Point  -0.0372799 0.01945909  65 -1.91581\n",
       "Pattern.typeSingle Trial Single-Time Point -0.0239357 0.02457867  65 -0.97384\n",
       "                                           p-value\n",
       "(Intercept)                                 0.0000\n",
       "Pattern.typeMulti-Trial Single-Time Point   0.2060\n",
       "Pattern.typeSingle Trial Multi-Time Point   0.0598\n",
       "Pattern.typeSingle Trial Single-Time Point  0.3337\n",
       " Correlation: \n",
       "                                           (Intr) P.M-SP P.STMP\n",
       "Pattern.typeMulti-Trial Single-Time Point  -0.468              \n",
       "Pattern.typeSingle Trial Multi-Time Point  -0.658  0.308       \n",
       "Pattern.typeSingle Trial Single-Time Point -0.521  0.244  0.343\n",
       "\n",
       "Standardized Within-Group Residuals:\n",
       "       Min         Q1        Med         Q3        Max \n",
       "-2.1884465 -0.5006217 -0.1447676  0.3486090  4.5650177 \n",
       "\n",
       "Number of Observations: 422\n",
       "Number of Groups: 69 "
      ]
     },
     "execution_count": 76,
     "metadata": {},
     "output_type": "execute_result"
    }
   ],
   "source": [
    "summary(model_pt)"
   ]
  },
  {
   "cell_type": "code",
   "execution_count": 77,
   "metadata": {
    "collapsed": false
   },
   "outputs": [
    {
     "ename": "ERROR",
     "evalue": "Error in vapply(seq_along(mapped), function(i) {: values must be length 1,\n but FUN(X[[1]]) result is length 0\n",
     "output_type": "error",
     "traceback": [
      "Error in vapply(seq_along(mapped), function(i) {: values must be length 1,\n but FUN(X[[1]]) result is length 0\n"
     ]
    },
    {
     "data": {
      "text/plain": [
       "$lsmeans\n",
       " Pattern.type                      lsmean         SE df  lower.CL  upper.CL\n",
       " Multi-Trial Multi-Time Point   0.6252514 0.01280458 68 0.5997002 0.6508025\n",
       " Multi-Trial Single-Time Point  0.5902802 0.02419448 65 0.5419605 0.6385999\n",
       " Single Trial Multi-Time Point  0.5879715 0.01465260 65 0.5587082 0.6172347\n",
       " Single Trial Single-Time Point 0.6013157 0.02097984 65 0.5594160 0.6432153\n",
       "\n",
       "Confidence level used: 0.95 \n",
       "\n",
       "$contrasts\n",
       " contrast                                                           estimate\n",
       " Multi-Trial Multi-Time Point - Multi-Trial Single-Time Point    0.034971219\n",
       " Multi-Trial Multi-Time Point - Single Trial Multi-Time Point    0.037279941\n",
       " Multi-Trial Multi-Time Point - Single Trial Single-Time Point   0.023935724\n",
       " Multi-Trial Single-Time Point - Single Trial Multi-Time Point   0.002308722\n",
       " Multi-Trial Single-Time Point - Single Trial Single-Time Point -0.011035495\n",
       " Single Trial Multi-Time Point - Single Trial Single-Time Point -0.013344217\n",
       "         SE df t.ratio p.value\n",
       " 0.02737389 65   1.278  0.5804\n",
       " 0.01945909 65   1.916  0.2316\n",
       " 0.02457867 65   0.974  0.7647\n",
       " 0.02828553 65   0.082  0.9998\n",
       " 0.03202384 65  -0.345  0.9858\n",
       " 0.02559009 65  -0.521  0.9536\n",
       "\n",
       "P value adjustment: tukey method for comparing a family of 4 estimates \n"
      ]
     },
     "execution_count": 77,
     "metadata": {},
     "output_type": "execute_result"
    }
   ],
   "source": [
    "lsmeans(model_pt,pairwise~Pattern.type,adjust='Tukey')\n"
   ]
  },
  {
   "cell_type": "markdown",
   "metadata": {},
   "source": [
    "# Plot"
   ]
  },
  {
   "cell_type": "code",
   "execution_count": 42,
   "metadata": {
    "collapsed": false
   },
   "outputs": [],
   "source": [
    "## Get all data into table\n",
    "\n",
    "feature='Smoothing'\n",
    "dd<-data.frame(effect(feature,model_sm))\n",
    "dd$Accuracy<-dd$fit\n",
    "dd$Smoothing<-dd[,feature]\n",
    "colnames(dd)<-c('B','fit','se','lower','upper','Accuracy')\n",
    "dd_all<-dd\n",
    "\n",
    "feature='Info.type'\n",
    "dd<-data.frame(effect(feature,model_info))\n",
    "dd$Accuracy<-dd$fit\n",
    "dd$Info.type<-dd[,feature]\n",
    "colnames(dd)<-c('B','fit','se','lower','upper','Accuracy')\n",
    "dd_all<-rbind(dd_all,dd)\n",
    "\n",
    "feature='Roi.Search'\n",
    "dd<-data.frame(effect(feature,model_rs))\n",
    "dd$Accuracy<-dd$fit\n",
    "dd$Roi_or_Searchlight<-dd[,feature]\n",
    "colnames(dd)<-c('B','fit','se','lower','upper','Accuracy')\n",
    "dd_all<-rbind(dd_all,dd[,1:6])\n",
    "\n",
    "feature='Classifier.type'\n",
    "dd<-data.frame(effect(feature,model_ct))\n",
    "dd$Accuracy<-dd$fit\n",
    "dd$Classifier.type<-dd[,feature]\n",
    "colnames(dd)<-c('B','fit','se','lower','upper','Accuracy')\n",
    "dd_all<-rbind(dd_all,dd)\n",
    "\n",
    "feature='Scanner'\n",
    "dd<-data.frame(effect(feature,model_sc))\n",
    "dd$Accuracy<-dd$fit\n",
    "dd$Scanner.strength<-dd[,feature]\n",
    "colnames(dd)<-c('B','fit','se','lower','upper','Accuracy')\n",
    "dd_all<-rbind(dd_all,dd[,1:6])\n",
    "\n",
    "feature='Coregistration'\n",
    "dd<-data.frame(effect(feature,model_co))\n",
    "dd$Accuracy<-dd$fit\n",
    "dd$Coregistrated<-dd[,feature]\n",
    "colnames(dd)<-c('B','fit','se','lower','upper','Accuracy')\n",
    "dd_all<-rbind(dd_all,dd[,1:6])\n",
    "\n",
    "feature='Pattern.normalization.type'\n",
    "dd<-data.frame(effect(feature,model_patnorm))\n",
    "dd$Accuracy<-dd$fit\n",
    "dd$Pattern.normalization.type<-dd[,feature]\n",
    "colnames(dd)<-c('B','fit','se','lower','upper','Accuracy')\n",
    "dd_all<-rbind(dd_all,dd[,1:6])\n",
    "\n",
    "feature='Num_subs'\n",
    "dd<-data.frame(effect(feature,model_n))\n",
    "dd$Accuracy<-dd$fit\n",
    "dd$Feature<-dd[,feature]\n",
    "colnames(dd)<-c('B','fit','se','lower','upper','Accuracy')\n",
    "dd$B<-as.factor(dd$B)\n",
    "dd_all<-rbind(dd_all,dd[,1:6])\n",
    "\n",
    "feature='Pattern.type'\n",
    "dd<-data.frame(effect(feature,model_pt))\n",
    "dd$Accuracy<-dd$fit\n",
    "dd$Pattern.normalization.type<-dd[,feature]\n",
    "colnames(dd)<-c('B','fit','se','lower','upper','Accuracy')\n",
    "dd_all<-rbind(dd_all,dd[,1:6])\n",
    "\n"
   ]
  },
  {
   "cell_type": "code",
   "execution_count": 43,
   "metadata": {
    "collapsed": false
   },
   "outputs": [
    {
     "data": {
      "text/html": [
       "<table>\n",
       "<thead><tr><th></th><th scope=col>B</th><th scope=col>fit</th><th scope=col>se</th><th scope=col>lower</th><th scope=col>upper</th><th scope=col>Accuracy</th></tr></thead>\n",
       "<tbody>\n",
       "\t<tr><th scope=row>1</th><td>smoothed</td><td>0.6147094</td><td>0.01742571</td><td>0.580457</td><td>0.6489619</td><td>0.6147094</td></tr>\n",
       "\t<tr><th scope=row>2</th><td>unsmooth</td><td>0.6029293</td><td>0.009556133</td><td>0.5841455</td><td>0.6217131</td><td>0.6029293</td></tr>\n",
       "\t<tr><th scope=row>11</th><td>Perceptual</td><td>0.6035106</td><td>0.01204287</td><td>0.5798385</td><td>0.6271828</td><td>0.6035106</td></tr>\n",
       "\t<tr><th scope=row>21</th><td>Response</td><td>0.6066519</td><td>0.01778048</td><td>0.5717016</td><td>0.6416022</td><td>0.6066519</td></tr>\n",
       "\t<tr><th scope=row>3</th><td>Rule</td><td>0.6046658</td><td>0.01169725</td><td>0.581673</td><td>0.6276585</td><td>0.6046658</td></tr>\n",
       "\t<tr><th scope=row>4</th><td>Value</td><td>0.6116716</td><td>0.01675366</td><td>0.5787396</td><td>0.6446035</td><td>0.6116716</td></tr>\n",
       "\t<tr><th scope=row>12</th><td>ROI</td><td>0.5997173</td><td>0.00981514</td><td>0.5804244</td><td>0.6190102</td><td>0.5997173</td></tr>\n",
       "\t<tr><th scope=row>22</th><td>Searchlight Peak</td><td>0.616797</td><td>0.01279701</td><td>0.5916429</td><td>0.6419512</td><td>0.616797</td></tr>\n",
       "\t<tr><th scope=row>13</th><td>correlation</td><td>0.71</td><td>0.05939992</td><td>0.5932386</td><td>0.8267614</td><td>0.71</td></tr>\n",
       "\t<tr><th scope=row>23</th><td>GNB</td><td>0.6096206</td><td>0.03287734</td><td>0.5449941</td><td>0.674247</td><td>0.6096206</td></tr>\n",
       "\t<tr><th scope=row>31</th><td>LDA</td><td>0.6077893</td><td>0.04775555</td><td>0.5139171</td><td>0.7016616</td><td>0.6077893</td></tr>\n",
       "\t<tr><th scope=row>41</th><td>LogReg</td><td>0.5757596</td><td>0.02292049</td><td>0.5307052</td><td>0.620814</td><td>0.5757596</td></tr>\n",
       "\t<tr><th scope=row>5</th><td>svm-lin</td><td>0.5971887</td><td>0.008590762</td><td>0.580302</td><td>0.6140754</td><td>0.5971887</td></tr>\n",
       "\t<tr><th scope=row>6</th><td>svm-nonlin</td><td>0.7394681</td><td>0.03016761</td><td>0.6801682</td><td>0.798768</td><td>0.7394681</td></tr>\n",
       "\t<tr><th scope=row>14</th><td>3T</td><td>0.6055689</td><td>0.008398623</td><td>0.5890604</td><td>0.6220775</td><td>0.6055689</td></tr>\n",
       "\t<tr><th scope=row>24</th><td>7T</td><td>0.6087368</td><td>0.02900859</td><td>0.5517167</td><td>0.6657569</td><td>0.6087368</td></tr>\n",
       "\t<tr><th scope=row>15</th><td>coregistered</td><td>0.6025814</td><td>0.01062116</td><td>0.5817041</td><td>0.6234586</td><td>0.6025814</td></tr>\n",
       "\t<tr><th scope=row>25</th><td>Native Space</td><td>0.6107045</td><td>0.01360344</td><td>0.5839652</td><td>0.6374438</td><td>0.6107045</td></tr>\n",
       "\t<tr><th scope=row>16</th><td>None</td><td>0.60696</td><td>0.01135487</td><td>0.5846404</td><td>0.6292796</td><td>0.60696</td></tr>\n",
       "\t<tr><th scope=row>26</th><td>Normalized Spatially</td><td>0.6022055</td><td>0.02822824</td><td>0.5467189</td><td>0.6576921</td><td>0.6022055</td></tr>\n",
       "\t<tr><th scope=row>32</th><td>Normalized Temporally</td><td>0.6047048</td><td>0.01255992</td><td>0.5800165</td><td>0.6293931</td><td>0.6047048</td></tr>\n",
       "\t<tr><th scope=row>17</th><td>10</td><td>0.6121199</td><td>0.01036872</td><td>0.5917388</td><td>0.6325009</td><td>0.6121199</td></tr>\n",
       "\t<tr><th scope=row>27</th><td>20</td><td>0.6042416</td><td>0.00843139</td><td>0.5876686</td><td>0.6208146</td><td>0.6042416</td></tr>\n",
       "\t<tr><th scope=row>33</th><td>30</td><td>0.5963633</td><td>0.01223296</td><td>0.5723179</td><td>0.6204088</td><td>0.5963633</td></tr>\n",
       "\t<tr><th scope=row>42</th><td>40</td><td>0.5884851</td><td>0.01852515</td><td>0.5520715</td><td>0.6248986</td><td>0.5884851</td></tr>\n",
       "\t<tr><th scope=row>51</th><td>50</td><td>0.5806068</td><td>0.02552833</td><td>0.5304276</td><td>0.630786</td><td>0.5806068</td></tr>\n",
       "\t<tr><th scope=row>61</th><td>60</td><td>0.5727286</td><td>0.03279008</td><td>0.5082754</td><td>0.6371817</td><td>0.5727286</td></tr>\n",
       "\t<tr><th scope=row>18</th><td>Multi-Trial Multi-Time Point</td><td>0.6252514</td><td>0.01280458</td><td>0.600082</td><td>0.6504208</td><td>0.6252514</td></tr>\n",
       "\t<tr><th scope=row>28</th><td>Multi-Trial Single-Time Point</td><td>0.5902802</td><td>0.02419448</td><td>0.5427222</td><td>0.6378382</td><td>0.5902802</td></tr>\n",
       "\t<tr><th scope=row>34</th><td>Single Trial Multi-Time Point</td><td>0.5879715</td><td>0.0146526</td><td>0.5591695</td><td>0.6167734</td><td>0.5879715</td></tr>\n",
       "\t<tr><th scope=row>43</th><td>Single Trial Single-Time Point</td><td>0.6013157</td><td>0.02097984</td><td>0.5600765</td><td>0.6425548</td><td>0.6013157</td></tr>\n",
       "</tbody>\n",
       "</table>\n"
      ],
      "text/latex": [
       "\\begin{tabular}{r|llllll}\n",
       "  & B & fit & se & lower & upper & Accuracy\\\\\n",
       "\\hline\n",
       "\t1 & smoothed & 0.6147094 & 0.01742571 & 0.580457 & 0.6489619 & 0.6147094\\\\\n",
       "\t2 & unsmooth & 0.6029293 & 0.009556133 & 0.5841455 & 0.6217131 & 0.6029293\\\\\n",
       "\t11 & Perceptual & 0.6035106 & 0.01204287 & 0.5798385 & 0.6271828 & 0.6035106\\\\\n",
       "\t21 & Response & 0.6066519 & 0.01778048 & 0.5717016 & 0.6416022 & 0.6066519\\\\\n",
       "\t3 & Rule & 0.6046658 & 0.01169725 & 0.581673 & 0.6276585 & 0.6046658\\\\\n",
       "\t4 & Value & 0.6116716 & 0.01675366 & 0.5787396 & 0.6446035 & 0.6116716\\\\\n",
       "\t12 & ROI & 0.5997173 & 0.00981514 & 0.5804244 & 0.6190102 & 0.5997173\\\\\n",
       "\t22 & Searchlight Peak & 0.616797 & 0.01279701 & 0.5916429 & 0.6419512 & 0.616797\\\\\n",
       "\t13 & correlation & 0.71 & 0.05939992 & 0.5932386 & 0.8267614 & 0.71\\\\\n",
       "\t23 & GNB & 0.6096206 & 0.03287734 & 0.5449941 & 0.674247 & 0.6096206\\\\\n",
       "\t31 & LDA & 0.6077893 & 0.04775555 & 0.5139171 & 0.7016616 & 0.6077893\\\\\n",
       "\t41 & LogReg & 0.5757596 & 0.02292049 & 0.5307052 & 0.620814 & 0.5757596\\\\\n",
       "\t5 & svm-lin & 0.5971887 & 0.008590762 & 0.580302 & 0.6140754 & 0.5971887\\\\\n",
       "\t6 & svm-nonlin & 0.7394681 & 0.03016761 & 0.6801682 & 0.798768 & 0.7394681\\\\\n",
       "\t14 & 3T & 0.6055689 & 0.008398623 & 0.5890604 & 0.6220775 & 0.6055689\\\\\n",
       "\t24 & 7T & 0.6087368 & 0.02900859 & 0.5517167 & 0.6657569 & 0.6087368\\\\\n",
       "\t15 & coregistered & 0.6025814 & 0.01062116 & 0.5817041 & 0.6234586 & 0.6025814\\\\\n",
       "\t25 & Native Space & 0.6107045 & 0.01360344 & 0.5839652 & 0.6374438 & 0.6107045\\\\\n",
       "\t16 & None & 0.60696 & 0.01135487 & 0.5846404 & 0.6292796 & 0.60696\\\\\n",
       "\t26 & Normalized Spatially & 0.6022055 & 0.02822824 & 0.5467189 & 0.6576921 & 0.6022055\\\\\n",
       "\t32 & Normalized Temporally & 0.6047048 & 0.01255992 & 0.5800165 & 0.6293931 & 0.6047048\\\\\n",
       "\t17 & 10 & 0.6121199 & 0.01036872 & 0.5917388 & 0.6325009 & 0.6121199\\\\\n",
       "\t27 & 20 & 0.6042416 & 0.00843139 & 0.5876686 & 0.6208146 & 0.6042416\\\\\n",
       "\t33 & 30 & 0.5963633 & 0.01223296 & 0.5723179 & 0.6204088 & 0.5963633\\\\\n",
       "\t42 & 40 & 0.5884851 & 0.01852515 & 0.5520715 & 0.6248986 & 0.5884851\\\\\n",
       "\t51 & 50 & 0.5806068 & 0.02552833 & 0.5304276 & 0.630786 & 0.5806068\\\\\n",
       "\t61 & 60 & 0.5727286 & 0.03279008 & 0.5082754 & 0.6371817 & 0.5727286\\\\\n",
       "\t18 & Multi-Trial Multi-Time Point & 0.6252514 & 0.01280458 & 0.600082 & 0.6504208 & 0.6252514\\\\\n",
       "\t28 & Multi-Trial Single-Time Point & 0.5902802 & 0.02419448 & 0.5427222 & 0.6378382 & 0.5902802\\\\\n",
       "\t34 & Single Trial Multi-Time Point & 0.5879715 & 0.0146526 & 0.5591695 & 0.6167734 & 0.5879715\\\\\n",
       "\t43 & Single Trial Single-Time Point & 0.6013157 & 0.02097984 & 0.5600765 & 0.6425548 & 0.6013157\\\\\n",
       "\\end{tabular}\n"
      ],
      "text/plain": [
       "                                B       fit          se     lower     upper\n",
       "1                        smoothed 0.6147094 0.017425710 0.5804570 0.6489619\n",
       "2                        unsmooth 0.6029293 0.009556133 0.5841455 0.6217131\n",
       "11                     Perceptual 0.6035106 0.012042866 0.5798385 0.6271828\n",
       "21                       Response 0.6066519 0.017780482 0.5717016 0.6416022\n",
       "3                            Rule 0.6046658 0.011697253 0.5816730 0.6276585\n",
       "4                           Value 0.6116716 0.016753661 0.5787396 0.6446035\n",
       "12                            ROI 0.5997173 0.009815140 0.5804244 0.6190102\n",
       "22               Searchlight Peak 0.6167970 0.012797013 0.5916429 0.6419512\n",
       "13                    correlation 0.7100000 0.059399917 0.5932386 0.8267614\n",
       "23                            GNB 0.6096206 0.032877341 0.5449941 0.6742470\n",
       "31                            LDA 0.6077893 0.047755552 0.5139171 0.7016616\n",
       "41                         LogReg 0.5757596 0.022920487 0.5307052 0.6208140\n",
       "5                         svm-lin 0.5971887 0.008590762 0.5803020 0.6140754\n",
       "6                      svm-nonlin 0.7394681 0.030167605 0.6801682 0.7987680\n",
       "14                             3T 0.6055689 0.008398623 0.5890604 0.6220775\n",
       "24                             7T 0.6087368 0.029008591 0.5517167 0.6657569\n",
       "15                   coregistered 0.6025814 0.010621162 0.5817041 0.6234586\n",
       "25                   Native Space 0.6107045 0.013603444 0.5839652 0.6374438\n",
       "16                           None 0.6069600 0.011354866 0.5846404 0.6292796\n",
       "26           Normalized Spatially 0.6022055 0.028228243 0.5467189 0.6576921\n",
       "32          Normalized Temporally 0.6047048 0.012559921 0.5800165 0.6293931\n",
       "17                             10 0.6121199 0.010368718 0.5917388 0.6325009\n",
       "27                             20 0.6042416 0.008431390 0.5876686 0.6208146\n",
       "33                             30 0.5963633 0.012232958 0.5723179 0.6204088\n",
       "42                             40 0.5884851 0.018525148 0.5520715 0.6248986\n",
       "51                             50 0.5806068 0.025528335 0.5304276 0.6307860\n",
       "61                             60 0.5727286 0.032790083 0.5082754 0.6371817\n",
       "18   Multi-Trial Multi-Time Point 0.6252514 0.012804584 0.6000820 0.6504208\n",
       "28  Multi-Trial Single-Time Point 0.5902802 0.024194475 0.5427222 0.6378382\n",
       "34  Single Trial Multi-Time Point 0.5879715 0.014652603 0.5591695 0.6167734\n",
       "43 Single Trial Single-Time Point 0.6013157 0.020979842 0.5600765 0.6425548\n",
       "    Accuracy\n",
       "1  0.6147094\n",
       "2  0.6029293\n",
       "11 0.6035106\n",
       "21 0.6066519\n",
       "3  0.6046658\n",
       "4  0.6116716\n",
       "12 0.5997173\n",
       "22 0.6167970\n",
       "13 0.7100000\n",
       "23 0.6096206\n",
       "31 0.6077893\n",
       "41 0.5757596\n",
       "5  0.5971887\n",
       "6  0.7394681\n",
       "14 0.6055689\n",
       "24 0.6087368\n",
       "15 0.6025814\n",
       "25 0.6107045\n",
       "16 0.6069600\n",
       "26 0.6022055\n",
       "32 0.6047048\n",
       "17 0.6121199\n",
       "27 0.6042416\n",
       "33 0.5963633\n",
       "42 0.5884851\n",
       "51 0.5806068\n",
       "61 0.5727286\n",
       "18 0.6252514\n",
       "28 0.5902802\n",
       "34 0.5879715\n",
       "43 0.6013157"
      ]
     },
     "execution_count": 43,
     "metadata": {},
     "output_type": "execute_result"
    }
   ],
   "source": [
    "dd_all"
   ]
  },
  {
   "cell_type": "code",
   "execution_count": 44,
   "metadata": {
    "collapsed": true
   },
   "outputs": [],
   "source": [
    "alabels = c('Smoothed','Unsmooth',\n",
    "            'Perceptual','Response','Rule','Value',\n",
    "            'ROI','Searchlight peak',\n",
    "            'Correlation','GNB','LDA','Logreg','SVM-lin','SVM-nonlin',\n",
    "            '3T','7T',\n",
    "            'Coregistered','Native space',\n",
    "            'No normalization','Normalized spatially','Normalized temporally',\n",
    "            'n=10','n=20','n=30','n=40','n=50','n=60',\n",
    "            'Averaging across TRs and trials','Averaging across trials',\n",
    "            'Averaging across TRs','No temporal averaging')"
   ]
  },
  {
   "cell_type": "code",
   "execution_count": 46,
   "metadata": {
    "collapsed": false
   },
   "outputs": [
    {
     "data": {
      "text/html": [
       "<strong>pdf:</strong> 2"
      ],
      "text/latex": [
       "\\textbf{pdf:} 2"
      ],
      "text/markdown": [
       "**pdf:** 2"
      ],
      "text/plain": [
       "pdf \n",
       "  2 "
      ]
     },
     "execution_count": 46,
     "metadata": {},
     "output_type": "execute_result"
    },
    {
     "data": {
      "text/html": [
       "<strong>pdf:</strong> 2"
      ],
      "text/latex": [
       "\\textbf{pdf:} 2"
      ],
      "text/markdown": [
       "**pdf:** 2"
      ],
      "text/plain": [
       "pdf \n",
       "  2 "
      ]
     },
     "execution_count": 46,
     "metadata": {},
     "output_type": "execute_result"
    },
    {
     "data": {
      "image/png": "[encoded data removed]"
     },
     "metadata": {},
     "output_type": "display_data"
    }
   ],
   "source": [
    "\n",
    "mainlinewidth=.5\n",
    "textsize = 8\n",
    "labelsize = 8\n",
    "\n",
    "## Analysis Features \n",
    "p1 <-ggplot(aes(y = Accuracy, x = B,ymax = Accuracy + se, ymin=Accuracy - se), \n",
    "            data = dd_all) +\n",
    "geom_point(size=1)+geom_errorbar(width=0.3)\n",
    "\n",
    "\n",
    "p1<-p1+xlab('Analysis procedure')\n",
    "p1<-p1+ylab('Decoding accuracy')\n",
    "p1<-p1+theme(panel.background=element_blank())\n",
    "p1<-p1+scale_x_discrete(labels=alabels)\n",
    "p1<-p1+theme(axis.line.x = element_line(color=\"black\", size = mainlinewidth),\n",
    "        axis.line.y = element_line(color=\"black\", size =mainlinewidth))\n",
    "p1<-p1+theme(axis.ticks.x=element_blank(),axis.ticks.y=element_blank())\n",
    "p1<-p1+theme(axis.line.x = element_line(color=\"black\", size = mainlinewidth),\n",
    "        axis.line.y = element_line(color=\"black\", size =mainlinewidth))\n",
    "\n",
    "p1<-p1+theme(axis.text.y = element_text(size=textsize,family='Helvetica',colour='black'))\n",
    "p1<-p1+theme(axis.text.x = element_text(angle = 90, hjust = 1,size=textsize,vjust=0.5,\n",
    "                                        family='Helvetica',colour='black'))\n",
    "p1<-p1+theme(plot.title = element_text(size=labelsize,family='Helvetica',colour='black'))\n",
    "p1<-p1+theme(axis.title.x = element_text(size=labelsize,family='Helvetica',colour='black'))\n",
    "p1<-p1+theme(axis.title.y = element_text(size=labelsize,family='Helvetica',colour='black'))\n",
    "p1<-p1+theme(axis.ticks.x=element_blank(),axis.ticks.y=element_blank())\n",
    "\n",
    "\n",
    "setEPS()\n",
    "postscript('../Figures/Supp_individual_regressions.eps',width=6,height=3.5)\n",
    "p1\n",
    "dev.off()\n",
    "\n",
    "png('../Figures/Supp_individual_regressions.png',width=6,height=3.5,units=\"in\",res=400)\n",
    "#postscript('../Figures/Supp/full_regression_moreregions.eps',width=6,height=7)\n",
    "\n",
    "p1\n",
    "dev.off()\n",
    "\n",
    "options(repr.plot.width=6, repr.plot.height=3.5)\n",
    "p1"
   ]
  },
  {
   "cell_type": "markdown",
   "metadata": {},
   "source": [
    "# Likelihood Ratio Tests "
   ]
  },
  {
   "cell_type": "code",
   "execution_count": 71,
   "metadata": {
    "collapsed": false
   },
   "outputs": [],
   "source": [
    "null_model<-lme(Accuracy.50~1,random=~1|PID,data=d,method='ML')\n",
    "\n"
   ]
  },
  {
   "cell_type": "code",
   "execution_count": 69,
   "metadata": {
    "collapsed": false
   },
   "outputs": [],
   "source": [
    "model_info<-lme(as.formula('Accuracy.50~Info.type'),random=~1|PID,data=d,method='ML')\n",
    "a<-anova(null_model,model_info)\n",
    "dd<-data.frame(a)[c('Model','df','AIC','BIC','logLik','L.Ratio','p.value')]\n",
    "\n",
    "model_rs<-lme(as.formula('Accuracy.50~Roi.Search'),random=~1|PID,data=d,method='ML')\n",
    "a<-anova(null_model,model_rs)\n",
    "d_new<-data.frame(a)[c('Model','df','AIC','BIC','logLik','L.Ratio','p.value')]\n",
    "dd<-rbind(dd,d_new[2,])\n",
    "\n",
    "model_pt<-lme(as.formula('Accuracy.50~Pattern.type'),random=~1|PID,data=d,method='ML')\n",
    "a<-anova(null_model,model_pt)\n",
    "d_new<-data.frame(a)[c('Model','df','AIC','BIC','logLik','L.Ratio','p.value')]\n",
    "dd<-rbind(dd,d_new[2,])\n",
    "\n",
    "model_ct<-lme(as.formula('Accuracy.50~Classifier.type'),random=~1|PID,data=d,method='ML')\n",
    "a<-anova(null_model,model_ct)\n",
    "d_new<-data.frame(a)[c('Model','df','AIC','BIC','logLik','L.Ratio','p.value')]\n",
    "dd<-rbind(dd,d_new[2,])\n",
    "\n",
    "model_sc<-lme(as.formula('Accuracy.50~Scanner'),random=~1|PID,data=d,method='ML')\n",
    "a<-anova(null_model,model_sc)\n",
    "d_new<-data.frame(a)[c('Model','df','AIC','BIC','logLik','L.Ratio','p.value')]\n",
    "dd<-rbind(dd,d_new[2,])\n",
    "\n",
    "model_sm<-lme(as.formula('Accuracy.50~Smoothing'),random=~1|PID,data=d,method='ML')\n",
    "a<-anova(null_model,model_sm)\n",
    "d_new<-data.frame(a)[c('Model','df','AIC','BIC','logLik','L.Ratio','p.value')]\n",
    "dd<-rbind(dd,d_new[2,])\n",
    "\n",
    "model_co<-lme(as.formula('Accuracy.50~Coregistration'),random=~1|PID,data=d,method='ML')\n",
    "a<-anova(null_model,model_co)\n",
    "d_new<-data.frame(a)[c('Model','df','AIC','BIC','logLik','L.Ratio','p.value')]\n",
    "dd<-rbind(dd,d_new[2,])\n",
    "\n",
    "model_patnorm<-lme(as.formula('Accuracy.50~Pattern.normalization.type'),random=~1|PID,data=d,method='ML')\n",
    "a<-anova(null_model,model_patnorm)\n",
    "d_new<-data.frame(a)[c('Model','df','AIC','BIC','logLik','L.Ratio','p.value')]\n",
    "dd<-rbind(dd,d_new[2,])\n",
    "\n",
    "model_n<-lme(as.formula('Accuracy.50~Num_subs'),random=~1|PID,data=d,method='ML')\n",
    "a<-anova(null_model,model_n)\n",
    "d_new<-data.frame(a)[c('Model','df','AIC','BIC','logLik','L.Ratio','p.value')]\n",
    "dd<-rbind(dd,d_new[2,])\n"
   ]
  },
  {
   "cell_type": "code",
   "execution_count": 70,
   "metadata": {
    "collapsed": false
   },
   "outputs": [
    {
     "data": {
      "text/html": [
       "<table>\n",
       "<thead><tr><th></th><th scope=col>Model</th><th scope=col>df</th><th scope=col>AIC</th><th scope=col>BIC</th><th scope=col>logLik</th><th scope=col>L.Ratio</th><th scope=col>p.value</th></tr></thead>\n",
       "<tbody>\n",
       "\t<tr><th scope=row>null_model</th><td>1</td><td>3</td><td>-1126.554</td><td>-1114.419</td><td>566.2772</td><td>NA</td><td>NA</td></tr>\n",
       "\t<tr><th scope=row>model_info</th><td>2</td><td>6</td><td>-1120.771</td><td>-1096.501</td><td>566.3854</td><td>0.2163212</td><td>0.9749125</td></tr>\n",
       "\t<tr><th scope=row>model_rs</th><td>2</td><td>4</td><td>-1125.87</td><td>-1109.69</td><td>566.9351</td><td>1.315841</td><td>0.2513398</td></tr>\n",
       "\t<tr><th scope=row>model_pt</th><td>2</td><td>6</td><td>-1124.913</td><td>-1100.643</td><td>568.4567</td><td>4.358965</td><td>0.2252206</td></tr>\n",
       "\t<tr><th scope=row>model_ct</th><td>2</td><td>8</td><td>-1140.431</td><td>-1108.071</td><td>578.2154</td><td>23.87634</td><td>0.0002293194</td></tr>\n",
       "\t<tr><th scope=row>model_sc</th><td>2</td><td>4</td><td>-1124.568</td><td>-1108.388</td><td>566.2842</td><td>0.01406923</td><td>0.9055814</td></tr>\n",
       "\t<tr><th scope=row>model_sm</th><td>2</td><td>4</td><td>-1124.911</td><td>-1108.731</td><td>566.4556</td><td>0.35678</td><td>0.5503</td></tr>\n",
       "\t<tr><th scope=row>model_co</th><td>2</td><td>4</td><td>-1124.785</td><td>-1108.605</td><td>566.3923</td><td>0.2302904</td><td>0.6313086</td></tr>\n",
       "\t<tr><th scope=row>model_patnorm</th><td>2</td><td>5</td><td>-1122.588</td><td>-1102.363</td><td>566.2942</td><td>0.03397916</td><td>0.9831539</td></tr>\n",
       "\t<tr><th scope=row>model_n</th><td>2</td><td>4</td><td>-1125.66</td><td>-1109.48</td><td>566.83</td><td>1.105566</td><td>0.2930477</td></tr>\n",
       "</tbody>\n",
       "</table>\n"
      ],
      "text/latex": [
       "\\begin{tabular}{r|lllllll}\n",
       "  & Model & df & AIC & BIC & logLik & L.Ratio & p.value\\\\\n",
       "\\hline\n",
       "\tnull_model & 1 & 3 & -1126.554 & -1114.419 & 566.2772 & NA & NA\\\\\n",
       "\tmodel_info & 2 & 6 & -1120.771 & -1096.501 & 566.3854 & 0.2163212 & 0.9749125\\\\\n",
       "\tmodel_rs & 2 & 4 & -1125.87 & -1109.69 & 566.9351 & 1.315841 & 0.2513398\\\\\n",
       "\tmodel_pt & 2 & 6 & -1124.913 & -1100.643 & 568.4567 & 4.358965 & 0.2252206\\\\\n",
       "\tmodel_ct & 2 & 8 & -1140.431 & -1108.071 & 578.2154 & 23.87634 & 0.0002293194\\\\\n",
       "\tmodel_sc & 2 & 4 & -1124.568 & -1108.388 & 566.2842 & 0.01406923 & 0.9055814\\\\\n",
       "\tmodel_sm & 2 & 4 & -1124.911 & -1108.731 & 566.4556 & 0.35678 & 0.5503\\\\\n",
       "\tmodel_co & 2 & 4 & -1124.785 & -1108.605 & 566.3923 & 0.2302904 & 0.6313086\\\\\n",
       "\tmodel_patnorm & 2 & 5 & -1122.588 & -1102.363 & 566.2942 & 0.03397916 & 0.9831539\\\\\n",
       "\tmodel_n & 2 & 4 & -1125.66 & -1109.48 & 566.83 & 1.105566 & 0.2930477\\\\\n",
       "\\end{tabular}\n"
      ],
      "text/plain": [
       "              Model df       AIC       BIC   logLik     L.Ratio      p.value\n",
       "null_model        1  3 -1126.554 -1114.419 566.2772          NA           NA\n",
       "model_info        2  6 -1120.771 -1096.501 566.3854  0.21632118 0.9749124654\n",
       "model_rs          2  4 -1125.870 -1109.690 566.9351  1.31584126 0.2513397813\n",
       "model_pt          2  6 -1124.913 -1100.643 568.4567  4.35896459 0.2252206178\n",
       "model_ct          2  8 -1140.431 -1108.071 578.2154 23.87634232 0.0002293194\n",
       "model_sc          2  4 -1124.568 -1108.388 566.2842  0.01406923 0.9055813504\n",
       "model_sm          2  4 -1124.911 -1108.731 566.4556  0.35678001 0.5502999976\n",
       "model_co          2  4 -1124.785 -1108.605 566.3923  0.23029037 0.6313086105\n",
       "model_patnorm     2  5 -1122.588 -1102.363 566.2942  0.03397916 0.9831539296\n",
       "model_n           2  4 -1125.660 -1109.480 566.8300  1.10556640 0.2930477500"
      ]
     },
     "execution_count": 70,
     "metadata": {},
     "output_type": "execute_result"
    }
   ],
   "source": [
    "dd"
   ]
  },
  {
   "cell_type": "markdown",
   "metadata": {},
   "source": [
    "- classifier is strongly significant as indicated by the plot, but we wanted to be careful about that, because of the single observation in classifier and 4 with nonlinear svm.\n",
    "- probbaly want to re-run without correlation. \n",
    "- pattern type is not significant at the llratio level (omnibust test), though it has a  marginally significant single coefficient comparison. It perhaps somewhat confirms what we suspect, but is also still noisy. "
   ]
  }
 ],
 "metadata": {
  "hide_input": false,
  "kernelspec": {
   "display_name": "R",
   "language": "R",
   "name": "ir"
  },
  "language_info": {
   "codemirror_mode": "r",
   "file_extension": ".r",
   "mimetype": "text/x-r-source",
   "name": "R",
   "pygments_lexer": "r",
   "version": "3.2.2"
  }
 },
 "nbformat": 4,
 "nbformat_minor": 0
}
