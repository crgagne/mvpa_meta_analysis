{
 "cells": [
  {
   "cell_type": "code",
   "execution_count": 81,
   "metadata": {
    "collapsed": true
   },
   "outputs": [],
   "source": [
    "#install.packages('corrplot')"
   ]
  },
  {
   "cell_type": "code",
   "execution_count": 1,
   "metadata": {
    "init_cell": true
   },
   "outputs": [
    {
     "name": "stderr",
     "output_type": "stream",
     "text": [
      "Warning message:\n",
      "“package ‘corrplot’ was built under R version 3.4.2”corrplot 0.84 loaded\n",
      "Loading required package: carData\n",
      "lattice theme set by effectsTheme()\n",
      "See ?effectsTheme for details.\n",
      "Registering fonts with R\n",
      "Loading required package: estimability\n",
      "Loading required package: mvtnorm\n",
      "Loading required package: survival\n",
      "Loading required package: TH.data\n",
      "Loading required package: MASS\n",
      "\n",
      "Attaching package: ‘TH.data’\n",
      "\n",
      "The following object is masked from ‘package:MASS’:\n",
      "\n",
      "    geyser\n",
      "\n"
     ]
    }
   ],
   "source": [
    "options(jupyter.plot_mimetypes = \"image/png\")\n",
    "library(nlme)\n",
    "library(ggplot2)\n",
    "library(corrplot)\n",
    "library(gridExtra)\n",
    "library(grid)\n",
    "library(data.table)\n",
    "library(effects)\n",
    "library(xtable)\n",
    "library(extrafont)\n",
    "library(lsmeans)\n",
    "library(multcomp)\n"
   ]
  },
  {
   "cell_type": "markdown",
   "metadata": {},
   "source": [
    "## Load Data"
   ]
  },
  {
   "cell_type": "code",
   "execution_count": 2,
   "metadata": {
    "collapsed": true
   },
   "outputs": [],
   "source": [
    "data = read.csv(\"../data_meta_analysis/Data_Classifications_v8b.csv\")\n",
    "\n",
    "# change the resolution string 3mmx3mmx3mm->volumne 9mm^3\n",
    "calc_resolution <-function(string){\n",
    "    str_list<-strsplit(gsub('mm','',string),'x')[[1]] # \n",
    "    vol<-prod(as.integer(str_list))\n",
    "    return(vol)\n",
    "}\n",
    "\n",
    "data$Resolution_Volume<-lapply(data$Resolution,calc_resolution)"
   ]
  },
  {
   "cell_type": "code",
   "execution_count": 3,
   "metadata": {
    "collapsed": true
   },
   "outputs": [],
   "source": [
    "data<-data[c('PID','Info.type','Accuracy.50','Significance','Roi.Search',\n",
    "             'Pattern.type','Classifier.type','Scanner','Smoothing',\n",
    "             'Coregistration','Pattern.normalization.type','Num_subs',\n",
    "             'Resolution_Volume','Voxel.numbers','Training.setsize')]\n",
    "\n",
    "factors<-c('Info.type','Significance','Roi.Search',\n",
    "             'Pattern.type','Classifier.type','Scanner','Smoothing',\n",
    "           'Coregistration','Pattern.normalization.type','Num_subs',\n",
    "           'Resolution_Volume','Voxel.numbers','Training.setsize')"
   ]
  },
  {
   "cell_type": "code",
   "execution_count": 4,
   "metadata": {
    "collapsed": true
   },
   "outputs": [],
   "source": [
    "for (pid in unique(data$PID)){\n",
    "    #print('--')\n",
    "    #print(pid)\n",
    "    #print(nrow(data1[data1$PID==pid,]))\n",
    "    #print('--')\n",
    "    data[data$PID==pid,'n_per_study']=nrow(data[data$PID==pid,])\n",
    "}"
   ]
  },
  {
   "cell_type": "code",
   "execution_count": 5,
   "metadata": {
    "collapsed": true,
    "init_cell": true
   },
   "outputs": [],
   "source": [
    "# msc\n",
    "\n",
    "#R1 = read.csv(paste(\"../data_meta_analysis/data_derived_meta_analysis/X_region1_before_clustering_2.csv\"))\n",
    "#R2 = read.csv(paste(\"X_region1_after_clustering.csv\"))\n",
    "#R3 = read.csv(paste(\"../data_meta_analysis/data_derived_meta_analysis/X_region1_after_clustering_lr_2.csv\"))\n",
    "#R4 = read.csv(paste(\"../data_meta_analysis/data_derived_meta_analysis/X_region1_after_clustering2_2.csv\"))\n",
    "R5 = read.csv(paste(\"../data_meta_analysis/data_derived_meta_analysis/X_region1_combined_regs_v8b.csv\"))\n",
    "\n",
    "#R1names = colnames(R1)\n",
    "#R2names = colnames(R2)\n",
    "#R3names = colnames(R3)\n",
    "#R4names = colnames(R4)\n",
    "R5names = colnames(R5)\n",
    "\n",
    "# i=1\n",
    "# for (name in R3names){\n",
    "#     R3names[i]<-paste(sep='','R3',name)\n",
    "#     i=i+1\n",
    "# }\n",
    "# R3names\n",
    "# colnames(R3)<-R3names\n",
    "# #head(R3)"
   ]
  },
  {
   "cell_type": "code",
   "execution_count": 6,
   "metadata": {
    "collapsed": true
   },
   "outputs": [],
   "source": [
    "#R5[18,]"
   ]
  },
  {
   "cell_type": "code",
   "execution_count": 7,
   "metadata": {
    "collapsed": true
   },
   "outputs": [],
   "source": [
    "#rowSums(R5)"
   ]
  },
  {
   "cell_type": "code",
   "execution_count": 8,
   "metadata": {
    "collapsed": true
   },
   "outputs": [],
   "source": [
    "data = cbind(data,R5) # will bind with other region names too "
   ]
  },
  {
   "cell_type": "code",
   "execution_count": 9,
   "metadata": {},
   "outputs": [
    {
     "data": {
      "text/html": [
       "891"
      ],
      "text/latex": [
       "891"
      ],
      "text/markdown": [
       "891"
      ],
      "text/plain": [
       "[1] 891"
      ]
     },
     "metadata": {},
     "output_type": "display_data"
    }
   ],
   "source": [
    "nrow(data)"
   ]
  },
  {
   "cell_type": "code",
   "execution_count": 10,
   "metadata": {
    "collapsed": true
   },
   "outputs": [],
   "source": [
    "# mscl fixed \n",
    "data<-data[!data$Classifier.type=='neural-net',] # no observations but still has a level\n",
    "data[data$Scanner=='4T','Scanner']='3T' # only one observatoin with 3T\n",
    "\n",
    "data$PID<-as.factor(data$PID)\n",
    "data$Info.type<-as.factor(data$Info.type)\n",
    "data$Smoothing<-as.factor(data$Smoothing)\n",
    "data$Roi.Search<-as.factor(data$Roi.Search)\n",
    "data$Classifier.type<-as.factor(data$Classifier.type)\n",
    "data$Coregistration<-as.factor(data$Coregistration)\n",
    "data$Pattern.type<-as.factor(data$Pattern.type)\n",
    "data$Pattern.normalization.type<-as.factor(data$Pattern.normalization.type)\n",
    "\n",
    "data$Resolution_Volume<-as.numeric(data$Resolution_Volume)\n",
    "data$Voxel.numbers<-as.numeric(data$Voxel.numbers)\n",
    "data$Training.setsize<-as.numeric(data$Training.setsize)"
   ]
  },
  {
   "cell_type": "code",
   "execution_count": 11,
   "metadata": {},
   "outputs": [
    {
     "data": {
      "text/html": [
       "891"
      ],
      "text/latex": [
       "891"
      ],
      "text/markdown": [
       "891"
      ],
      "text/plain": [
       "[1] 891"
      ]
     },
     "metadata": {},
     "output_type": "display_data"
    }
   ],
   "source": [
    "data<-droplevels(data) # just drops unused levels \n",
    "nrow(data)"
   ]
  },
  {
   "cell_type": "code",
   "execution_count": 12,
   "metadata": {
    "init_cell": true
   },
   "outputs": [
    {
     "data": {
      "text/html": [
       "<table>\n",
       "<thead><tr><th></th><th scope=col>PID</th><th scope=col>Info.type</th><th scope=col>Accuracy.50</th><th scope=col>Significance</th><th scope=col>Roi.Search</th><th scope=col>Pattern.type</th><th scope=col>Classifier.type</th><th scope=col>Scanner</th><th scope=col>Smoothing</th><th scope=col>Coregistration</th><th scope=col>⋯</th><th scope=col>Frontal_Mid_L.Frontal_Mid_R</th><th scope=col>Precentral_L.Precentral_R</th><th scope=col>Supp_Motor_Area_L.Supp_Motor_Area_R</th><th scope=col>Frontal_Sup_L.Frontal_Sup_R</th><th scope=col>Frontal_Mid_R.Frontal_Inf_Tri_R</th><th scope=col>Frontal_Inf_Oper_L.Frontal_Inf_Oper_R</th><th scope=col>Cingulum_Mid_L.Cingulum_Mid_R</th><th scope=col>Cingulum_Ant_L.Cingulum_Ant_R</th><th scope=col>Frontal_Inf_Orb_L.Frontal_Inf_Orb_R</th><th scope=col>Frontal_Mid_Orb_L.Frontal_Mid_Orb_R</th></tr></thead>\n",
       "<tbody>\n",
       "\t<tr><th scope=row>4</th><td>1                            </td><td>Perceptual                   </td><td>0.528                        </td><td>1                            </td><td>ROI                          </td><td>Multi-Trial Multi-Time Point </td><td>svm-lin                      </td><td>3T                           </td><td>unsmooth                     </td><td>Native Space                 </td><td>⋯                            </td><td>0                            </td><td>0                            </td><td>0                            </td><td>0                            </td><td>0                            </td><td>0                            </td><td>0                            </td><td>0                            </td><td>0                            </td><td>0                            </td></tr>\n",
       "\t<tr><th scope=row>9</th><td>1                            </td><td>Rule                         </td><td>0.535                        </td><td>1                            </td><td>ROI                          </td><td>Multi-Trial Multi-Time Point </td><td>svm-lin                      </td><td>3T                           </td><td>unsmooth                     </td><td>Native Space                 </td><td>⋯                            </td><td>0                            </td><td>0                            </td><td>0                            </td><td>0                            </td><td>0                            </td><td>0                            </td><td>0                            </td><td>0                            </td><td>0                            </td><td>0                            </td></tr>\n",
       "\t<tr><th scope=row>10</th><td>1                            </td><td>Rule                         </td><td>0.541                        </td><td>1                            </td><td>ROI                          </td><td>Multi-Trial Multi-Time Point </td><td>svm-lin                      </td><td>3T                           </td><td>unsmooth                     </td><td>Native Space                 </td><td>⋯                            </td><td>0                            </td><td>0                            </td><td>0                            </td><td>0                            </td><td>0                            </td><td>0                            </td><td>0                            </td><td>0                            </td><td>0                            </td><td>0                            </td></tr>\n",
       "\t<tr><th scope=row>11</th><td>1                            </td><td>Rule                         </td><td>0.543                        </td><td>1                            </td><td>ROI                          </td><td>Multi-Trial Multi-Time Point </td><td>svm-lin                      </td><td>3T                           </td><td>unsmooth                     </td><td>Native Space                 </td><td>⋯                            </td><td>0                            </td><td>0                            </td><td>0                            </td><td>0                            </td><td>0                            </td><td>0                            </td><td>0                            </td><td>0                            </td><td>0                            </td><td>0                            </td></tr>\n",
       "\t<tr><th scope=row>12</th><td>1                            </td><td>Rule                         </td><td>0.593                        </td><td>1                            </td><td>ROI                          </td><td>Multi-Trial Multi-Time Point </td><td>svm-lin                      </td><td>3T                           </td><td>unsmooth                     </td><td>Native Space                 </td><td>⋯                            </td><td>0                            </td><td>0                            </td><td>0                            </td><td>0                            </td><td>0                            </td><td>0                            </td><td>0                            </td><td>0                            </td><td>0                            </td><td>0                            </td></tr>\n",
       "\t<tr><th scope=row>16</th><td>2                            </td><td>Rule                         </td><td>0.640                        </td><td>1                            </td><td>ROI                          </td><td>Single Trial Multi-Time Point</td><td>LDA                          </td><td>3T                           </td><td>unsmooth                     </td><td>Native Space                 </td><td>⋯                            </td><td>0                            </td><td>1                            </td><td>0                            </td><td>0                            </td><td>0                            </td><td>0                            </td><td>0                            </td><td>0                            </td><td>0                            </td><td>0                            </td></tr>\n",
       "</tbody>\n",
       "</table>\n"
      ],
      "text/latex": [
       "\\begin{tabular}{r|lllllllllllllllllllllllllllllllllllllllllllllllllllllll}\n",
       "  & PID & Info.type & Accuracy.50 & Significance & Roi.Search & Pattern.type & Classifier.type & Scanner & Smoothing & Coregistration & ⋯ & Frontal\\_Mid\\_L.Frontal\\_Mid\\_R & Precentral\\_L.Precentral\\_R & Supp\\_Motor\\_Area\\_L.Supp\\_Motor\\_Area\\_R & Frontal\\_Sup\\_L.Frontal\\_Sup\\_R & Frontal\\_Mid\\_R.Frontal\\_Inf\\_Tri\\_R & Frontal\\_Inf\\_Oper\\_L.Frontal\\_Inf\\_Oper\\_R & Cingulum\\_Mid\\_L.Cingulum\\_Mid\\_R & Cingulum\\_Ant\\_L.Cingulum\\_Ant\\_R & Frontal\\_Inf\\_Orb\\_L.Frontal\\_Inf\\_Orb\\_R & Frontal\\_Mid\\_Orb\\_L.Frontal\\_Mid\\_Orb\\_R\\\\\n",
       "\\hline\n",
       "\t4 & 1                             & Perceptual                    & 0.528                         & 1                             & ROI                           & Multi-Trial Multi-Time Point  & svm-lin                       & 3T                            & unsmooth                      & Native Space                  & ⋯                             & 0                             & 0                             & 0                             & 0                             & 0                             & 0                             & 0                             & 0                             & 0                             & 0                            \\\\\n",
       "\t9 & 1                             & Rule                          & 0.535                         & 1                             & ROI                           & Multi-Trial Multi-Time Point  & svm-lin                       & 3T                            & unsmooth                      & Native Space                  & ⋯                             & 0                             & 0                             & 0                             & 0                             & 0                             & 0                             & 0                             & 0                             & 0                             & 0                            \\\\\n",
       "\t10 & 1                             & Rule                          & 0.541                         & 1                             & ROI                           & Multi-Trial Multi-Time Point  & svm-lin                       & 3T                            & unsmooth                      & Native Space                  & ⋯                             & 0                             & 0                             & 0                             & 0                             & 0                             & 0                             & 0                             & 0                             & 0                             & 0                            \\\\\n",
       "\t11 & 1                             & Rule                          & 0.543                         & 1                             & ROI                           & Multi-Trial Multi-Time Point  & svm-lin                       & 3T                            & unsmooth                      & Native Space                  & ⋯                             & 0                             & 0                             & 0                             & 0                             & 0                             & 0                             & 0                             & 0                             & 0                             & 0                            \\\\\n",
       "\t12 & 1                             & Rule                          & 0.593                         & 1                             & ROI                           & Multi-Trial Multi-Time Point  & svm-lin                       & 3T                            & unsmooth                      & Native Space                  & ⋯                             & 0                             & 0                             & 0                             & 0                             & 0                             & 0                             & 0                             & 0                             & 0                             & 0                            \\\\\n",
       "\t16 & 2                             & Rule                          & 0.640                         & 1                             & ROI                           & Single Trial Multi-Time Point & LDA                           & 3T                            & unsmooth                      & Native Space                  & ⋯                             & 0                             & 1                             & 0                             & 0                             & 0                             & 0                             & 0                             & 0                             & 0                             & 0                            \\\\\n",
       "\\end{tabular}\n"
      ],
      "text/markdown": [
       "\n",
       "| <!--/--> | PID | Info.type | Accuracy.50 | Significance | Roi.Search | Pattern.type | Classifier.type | Scanner | Smoothing | Coregistration | ⋯ | Frontal_Mid_L.Frontal_Mid_R | Precentral_L.Precentral_R | Supp_Motor_Area_L.Supp_Motor_Area_R | Frontal_Sup_L.Frontal_Sup_R | Frontal_Mid_R.Frontal_Inf_Tri_R | Frontal_Inf_Oper_L.Frontal_Inf_Oper_R | Cingulum_Mid_L.Cingulum_Mid_R | Cingulum_Ant_L.Cingulum_Ant_R | Frontal_Inf_Orb_L.Frontal_Inf_Orb_R | Frontal_Mid_Orb_L.Frontal_Mid_Orb_R | \n",
       "|---|---|---|---|---|---|\n",
       "| 4 | 1                             | Perceptual                    | 0.528                         | 1                             | ROI                           | Multi-Trial Multi-Time Point  | svm-lin                       | 3T                            | unsmooth                      | Native Space                  | ⋯                             | 0                             | 0                             | 0                             | 0                             | 0                             | 0                             | 0                             | 0                             | 0                             | 0                             | \n",
       "| 9 | 1                             | Rule                          | 0.535                         | 1                             | ROI                           | Multi-Trial Multi-Time Point  | svm-lin                       | 3T                            | unsmooth                      | Native Space                  | ⋯                             | 0                             | 0                             | 0                             | 0                             | 0                             | 0                             | 0                             | 0                             | 0                             | 0                             | \n",
       "| 10 | 1                             | Rule                          | 0.541                         | 1                             | ROI                           | Multi-Trial Multi-Time Point  | svm-lin                       | 3T                            | unsmooth                      | Native Space                  | ⋯                             | 0                             | 0                             | 0                             | 0                             | 0                             | 0                             | 0                             | 0                             | 0                             | 0                             | \n",
       "| 11 | 1                             | Rule                          | 0.543                         | 1                             | ROI                           | Multi-Trial Multi-Time Point  | svm-lin                       | 3T                            | unsmooth                      | Native Space                  | ⋯                             | 0                             | 0                             | 0                             | 0                             | 0                             | 0                             | 0                             | 0                             | 0                             | 0                             | \n",
       "| 12 | 1                             | Rule                          | 0.593                         | 1                             | ROI                           | Multi-Trial Multi-Time Point  | svm-lin                       | 3T                            | unsmooth                      | Native Space                  | ⋯                             | 0                             | 0                             | 0                             | 0                             | 0                             | 0                             | 0                             | 0                             | 0                             | 0                             | \n",
       "| 16 | 2                             | Rule                          | 0.640                         | 1                             | ROI                           | Single Trial Multi-Time Point | LDA                           | 3T                            | unsmooth                      | Native Space                  | ⋯                             | 0                             | 1                             | 0                             | 0                             | 0                             | 0                             | 0                             | 0                             | 0                             | 0                             | \n",
       "\n",
       "\n"
      ],
      "text/plain": [
       "   PID Info.type  Accuracy.50 Significance Roi.Search\n",
       "4  1   Perceptual 0.528       1            ROI       \n",
       "9  1   Rule       0.535       1            ROI       \n",
       "10 1   Rule       0.541       1            ROI       \n",
       "11 1   Rule       0.543       1            ROI       \n",
       "12 1   Rule       0.593       1            ROI       \n",
       "16 2   Rule       0.640       1            ROI       \n",
       "   Pattern.type                  Classifier.type Scanner Smoothing\n",
       "4  Multi-Trial Multi-Time Point  svm-lin         3T      unsmooth \n",
       "9  Multi-Trial Multi-Time Point  svm-lin         3T      unsmooth \n",
       "10 Multi-Trial Multi-Time Point  svm-lin         3T      unsmooth \n",
       "11 Multi-Trial Multi-Time Point  svm-lin         3T      unsmooth \n",
       "12 Multi-Trial Multi-Time Point  svm-lin         3T      unsmooth \n",
       "16 Single Trial Multi-Time Point LDA             3T      unsmooth \n",
       "   Coregistration ⋯ Frontal_Mid_L.Frontal_Mid_R Precentral_L.Precentral_R\n",
       "4  Native Space   ⋯ 0                           0                        \n",
       "9  Native Space   ⋯ 0                           0                        \n",
       "10 Native Space   ⋯ 0                           0                        \n",
       "11 Native Space   ⋯ 0                           0                        \n",
       "12 Native Space   ⋯ 0                           0                        \n",
       "16 Native Space   ⋯ 0                           1                        \n",
       "   Supp_Motor_Area_L.Supp_Motor_Area_R Frontal_Sup_L.Frontal_Sup_R\n",
       "4  0                                   0                          \n",
       "9  0                                   0                          \n",
       "10 0                                   0                          \n",
       "11 0                                   0                          \n",
       "12 0                                   0                          \n",
       "16 0                                   0                          \n",
       "   Frontal_Mid_R.Frontal_Inf_Tri_R Frontal_Inf_Oper_L.Frontal_Inf_Oper_R\n",
       "4  0                               0                                    \n",
       "9  0                               0                                    \n",
       "10 0                               0                                    \n",
       "11 0                               0                                    \n",
       "12 0                               0                                    \n",
       "16 0                               0                                    \n",
       "   Cingulum_Mid_L.Cingulum_Mid_R Cingulum_Ant_L.Cingulum_Ant_R\n",
       "4  0                             0                            \n",
       "9  0                             0                            \n",
       "10 0                             0                            \n",
       "11 0                             0                            \n",
       "12 0                             0                            \n",
       "16 0                             0                            \n",
       "   Frontal_Inf_Orb_L.Frontal_Inf_Orb_R Frontal_Mid_Orb_L.Frontal_Mid_Orb_R\n",
       "4  0                                   0                                  \n",
       "9  0                                   0                                  \n",
       "10 0                                   0                                  \n",
       "11 0                                   0                                  \n",
       "12 0                                   0                                  \n",
       "16 0                                   0                                  "
      ]
     },
     "metadata": {},
     "output_type": "display_data"
    },
    {
     "data": {
      "text/html": [
       "512"
      ],
      "text/latex": [
       "512"
      ],
      "text/markdown": [
       "512"
      ],
      "text/plain": [
       "[1] 512"
      ]
     },
     "metadata": {},
     "output_type": "display_data"
    }
   ],
   "source": [
    "data_50<-subset(data,!is.na(Accuracy.50))\n",
    "data_50_non<-subset(data,!is.na(Accuracy.50)& Significance==0)\n",
    "data_50_sig<-subset(data,!is.na(Accuracy.50) & Significance==1)\n",
    "head(data_50_sig)\n",
    "nrow(data_50_sig)"
   ]
  },
  {
   "cell_type": "code",
   "execution_count": 13,
   "metadata": {},
   "outputs": [
    {
     "data": {
      "text/html": [
       "76"
      ],
      "text/latex": [
       "76"
      ],
      "text/markdown": [
       "76"
      ],
      "text/plain": [
       "[1] 76"
      ]
     },
     "metadata": {},
     "output_type": "display_data"
    }
   ],
   "source": [
    "length(unique(data$PID))"
   ]
  },
  {
   "cell_type": "markdown",
   "metadata": {},
   "source": [
    "## Mixed Effects, Sig, All Factors - more regions"
   ]
  },
  {
   "cell_type": "code",
   "execution_count": 14,
   "metadata": {
    "collapsed": true
   },
   "outputs": [],
   "source": [
    "# remove some pairs of regions \n",
    "# used in a later analysis\n",
    "R5names = R5names[R5names!='Cingulum_Mid_R']\n",
    "R5names = R5names[R5names!='Frontal_Mid_R.Frontal_Inf_Tri_L']\n",
    "R5names = R5names[R5names!='Frontal_Mid_L.Precentral_R']\n",
    "R5names = R5names[R5names!='Cingulum_Ant_R.Cingulum_Mid_R']\n",
    "R5names = R5names[R5names!='Frontal_Sup_R.Frontal_Sup_Medial_R  ']\n",
    "R5names = R5names[R5names!='Frontal_Sup_L.Frontal_Sup_Medial_L']\n",
    "R5names = R5names[R5names!='Frontal_Inf_Tri_R.Frontal_Inf_Orb_R']\n",
    "R5names = R5names[R5names!='Frontal_Sup_R.Frontal_Sup_Medial_R']\n",
    "R5names = R5names[R5names!='Frontal_Inf_Oper_R.Precentral_L']\n",
    "R5names = R5names[R5names!='Frontal_Inf_Oper_R.Precentral_R']\n",
    "R5names = R5names[R5names!='Frontal_Mid_R.Frontal_Inf_Tri_R']\n",
    "R5names = R5names[R5names!='Frontal_Inf_Oper_R.Frontal_Inf_Tri_R']\n"
   ]
  },
  {
   "cell_type": "markdown",
   "metadata": {},
   "source": [
    "Removing observations that had more than 2 regions. Results in fewer analyses and studies than reported for the significant distribution"
   ]
  },
  {
   "cell_type": "code",
   "execution_count": 15,
   "metadata": {},
   "outputs": [
    {
     "data": {
      "text/html": [
       "425"
      ],
      "text/latex": [
       "425"
      ],
      "text/markdown": [
       "425"
      ],
      "text/plain": [
       "[1] 425"
      ]
     },
     "metadata": {},
     "output_type": "display_data"
    }
   ],
   "source": [
    "d<-data_50_sig[c('Accuracy.50','PID',factors,R5names)]\n",
    "d=d[rowSums(d[,R5names])==1,] # remove rows with no region regressor (would have been 2+)\n",
    "nrow(d)"
   ]
  },
  {
   "cell_type": "code",
   "execution_count": 16,
   "metadata": {},
   "outputs": [
    {
     "data": {
      "text/html": [
       "69"
      ],
      "text/latex": [
       "69"
      ],
      "text/markdown": [
       "69"
      ],
      "text/plain": [
       "[1] 69"
      ]
     },
     "metadata": {},
     "output_type": "display_data"
    }
   ],
   "source": [
    "nrow(unique(d['PID']))"
   ]
  },
  {
   "cell_type": "markdown",
   "metadata": {},
   "source": [
    "**Indicator variables for missingness of continuous predictors.** A popular approach\n",
    "in the social sciences is to include for each continuous predictor variable with missingness\n",
    "an extra indicator identifying which observations on that variable have\n",
    "missing data. Then the missing values in the partially observed predictor are replaced\n",
    "by zeroes or by the mean (this choice is essentially irrelevant). This strategy\n",
    "is prone to yield biased coefficient estimates for the other predictors included in the\n",
    "model because it forces the slope to be the same across both missing-data groups.\n",
    "Adding interactions between an indicator for response and these predictors can help\n",
    "to alleviate this bias (this leads to estimates similar to complete-case estimates).Indicator variables for missingness of continuous predictors. A popular approach\n",
    "in the social sciences is to include for each continuous predictor variable with missingness\n",
    "an extra indicator identifying which observations on that variable have\n",
    "missing data. Then the missing values in the partially observed predictor are replaced\n",
    "by zeroes or by the mean (this choice is essentially irrelevant). This strategy\n",
    "is prone to yield biased coefficient estimates for the other predictors included in the\n",
    "model because it forces the slope to be the same across both missing-data groups.\n",
    "Adding interactions between an indicator for response and these predictors can help\n",
    "to alleviate this bias (this leads to estimates similar to complete-case estimates).\n",
    "\n",
    "See http://www.stat.columbia.edu/~gelman/arm/missing.pdf"
   ]
  },
  {
   "cell_type": "code",
   "execution_count": 17,
   "metadata": {
    "collapsed": true
   },
   "outputs": [],
   "source": [
    "# replacing missing values with median and adding indicator variable\n",
    "d['Voxel.numbers.idx'] = as.numeric(is.na(d['Voxel.numbers']))\n",
    "d[is.na(d['Voxel.numbers']),'Voxel.numbers'] = median(d$Voxel.numbers,na.rm=TRUE)\n",
    "\n",
    "d['Training.setsize.idx'] = as.numeric(is.na(d['Training.setsize']))\n",
    "d[is.na(d['Training.setsize']),'Training.setsize'] = median(d$Training.setsize,na.rm=TRUE)\n",
    "\n",
    "\n"
   ]
  },
  {
   "cell_type": "code",
   "execution_count": 18,
   "metadata": {
    "collapsed": true
   },
   "outputs": [],
   "source": [
    "# # remove signficance from the data set \n",
    "factors<-c('Info.type','Roi.Search',\n",
    "             'Pattern.type','Classifier.type','Scanner','Smoothing',\n",
    "           'Coregistration','Pattern.normalization.type','Num_subs',\n",
    "           'Resolution_Volume','Voxel.numbers','Training.setsize')\n",
    "\n",
    "# factors<-c('Info.type','Roi.Search',\n",
    "#              'Pattern.type','Classifier.type','Scanner','Smoothing',\n",
    "#            'Coregistration','Pattern.normalization.type','Num_subs',\n",
    "#            'Resolution_Volume')"
   ]
  },
  {
   "cell_type": "code",
   "execution_count": 19,
   "metadata": {},
   "outputs": [
    {
     "data": {
      "text/html": [
       "'Frontal_Sup_L+Frontal_Sup_R+Frontal_Sup_Orb_L+Frontal_Sup_Orb_R+Frontal_Mid_L+Frontal_Mid_R+Frontal_Mid_Orb_L+Frontal_Mid_Orb_R+Frontal_Inf_Oper_L+Frontal_Inf_Oper_R+Frontal_Inf_Tri_L+Frontal_Inf_Tri_R+Frontal_Inf_Orb_L+Frontal_Inf_Orb_R+Supp_Motor_Area_L+Supp_Motor_Area_R+Frontal_Sup_Medial_L+Frontal_Sup_Medial_R+Insula_L+Insula_R+Cingulum_Ant_L+Cingulum_Ant_R+Cingulum_Mid_L+Precentral_L+Precentral_R+Frontal_Inf_Tri_L.Frontal_Inf_Tri_R+Insula_L.Insula_R+Frontal_Sup_Medial_L.Frontal_Sup_Medial_R+Frontal_Mid_L.Frontal_Mid_R+Precentral_L.Precentral_R+Supp_Motor_Area_L.Supp_Motor_Area_R+Frontal_Sup_L.Frontal_Sup_R+Frontal_Inf_Oper_L.Frontal_Inf_Oper_R+Cingulum_Mid_L.Cingulum_Mid_R+Cingulum_Ant_L.Cingulum_Ant_R+Frontal_Inf_Orb_L.Frontal_Inf_Orb_R+Info.type+Roi.Search+Pattern.type+Classifier.type+Scanner+Smoothing+Coregistration+Pattern.normalization.type+Num_subs+Resolution_Volume+Voxel.numbers+Training.setsize'"
      ],
      "text/latex": [
       "'Frontal\\_Sup\\_L+Frontal\\_Sup\\_R+Frontal\\_Sup\\_Orb\\_L+Frontal\\_Sup\\_Orb\\_R+Frontal\\_Mid\\_L+Frontal\\_Mid\\_R+Frontal\\_Mid\\_Orb\\_L+Frontal\\_Mid\\_Orb\\_R+Frontal\\_Inf\\_Oper\\_L+Frontal\\_Inf\\_Oper\\_R+Frontal\\_Inf\\_Tri\\_L+Frontal\\_Inf\\_Tri\\_R+Frontal\\_Inf\\_Orb\\_L+Frontal\\_Inf\\_Orb\\_R+Supp\\_Motor\\_Area\\_L+Supp\\_Motor\\_Area\\_R+Frontal\\_Sup\\_Medial\\_L+Frontal\\_Sup\\_Medial\\_R+Insula\\_L+Insula\\_R+Cingulum\\_Ant\\_L+Cingulum\\_Ant\\_R+Cingulum\\_Mid\\_L+Precentral\\_L+Precentral\\_R+Frontal\\_Inf\\_Tri\\_L.Frontal\\_Inf\\_Tri\\_R+Insula\\_L.Insula\\_R+Frontal\\_Sup\\_Medial\\_L.Frontal\\_Sup\\_Medial\\_R+Frontal\\_Mid\\_L.Frontal\\_Mid\\_R+Precentral\\_L.Precentral\\_R+Supp\\_Motor\\_Area\\_L.Supp\\_Motor\\_Area\\_R+Frontal\\_Sup\\_L.Frontal\\_Sup\\_R+Frontal\\_Inf\\_Oper\\_L.Frontal\\_Inf\\_Oper\\_R+Cingulum\\_Mid\\_L.Cingulum\\_Mid\\_R+Cingulum\\_Ant\\_L.Cingulum\\_Ant\\_R+Frontal\\_Inf\\_Orb\\_L.Frontal\\_Inf\\_Orb\\_R+Info.type+Roi.Search+Pattern.type+Classifier.type+Scanner+Smoothing+Coregistration+Pattern.normalization.type+Num\\_subs+Resolution\\_Volume+Voxel.numbers+Training.setsize'"
      ],
      "text/markdown": [
       "'Frontal_Sup_L+Frontal_Sup_R+Frontal_Sup_Orb_L+Frontal_Sup_Orb_R+Frontal_Mid_L+Frontal_Mid_R+Frontal_Mid_Orb_L+Frontal_Mid_Orb_R+Frontal_Inf_Oper_L+Frontal_Inf_Oper_R+Frontal_Inf_Tri_L+Frontal_Inf_Tri_R+Frontal_Inf_Orb_L+Frontal_Inf_Orb_R+Supp_Motor_Area_L+Supp_Motor_Area_R+Frontal_Sup_Medial_L+Frontal_Sup_Medial_R+Insula_L+Insula_R+Cingulum_Ant_L+Cingulum_Ant_R+Cingulum_Mid_L+Precentral_L+Precentral_R+Frontal_Inf_Tri_L.Frontal_Inf_Tri_R+Insula_L.Insula_R+Frontal_Sup_Medial_L.Frontal_Sup_Medial_R+Frontal_Mid_L.Frontal_Mid_R+Precentral_L.Precentral_R+Supp_Motor_Area_L.Supp_Motor_Area_R+Frontal_Sup_L.Frontal_Sup_R+Frontal_Inf_Oper_L.Frontal_Inf_Oper_R+Cingulum_Mid_L.Cingulum_Mid_R+Cingulum_Ant_L.Cingulum_Ant_R+Frontal_Inf_Orb_L.Frontal_Inf_Orb_R+Info.type+Roi.Search+Pattern.type+Classifier.type+Scanner+Smoothing+Coregistration+Pattern.normalization.type+Num_subs+Resolution_Volume+Voxel.numbers+Training.setsize'"
      ],
      "text/plain": [
       "[1] \"Frontal_Sup_L+Frontal_Sup_R+Frontal_Sup_Orb_L+Frontal_Sup_Orb_R+Frontal_Mid_L+Frontal_Mid_R+Frontal_Mid_Orb_L+Frontal_Mid_Orb_R+Frontal_Inf_Oper_L+Frontal_Inf_Oper_R+Frontal_Inf_Tri_L+Frontal_Inf_Tri_R+Frontal_Inf_Orb_L+Frontal_Inf_Orb_R+Supp_Motor_Area_L+Supp_Motor_Area_R+Frontal_Sup_Medial_L+Frontal_Sup_Medial_R+Insula_L+Insula_R+Cingulum_Ant_L+Cingulum_Ant_R+Cingulum_Mid_L+Precentral_L+Precentral_R+Frontal_Inf_Tri_L.Frontal_Inf_Tri_R+Insula_L.Insula_R+Frontal_Sup_Medial_L.Frontal_Sup_Medial_R+Frontal_Mid_L.Frontal_Mid_R+Precentral_L.Precentral_R+Supp_Motor_Area_L.Supp_Motor_Area_R+Frontal_Sup_L.Frontal_Sup_R+Frontal_Inf_Oper_L.Frontal_Inf_Oper_R+Cingulum_Mid_L.Cingulum_Mid_R+Cingulum_Ant_L.Cingulum_Ant_R+Frontal_Inf_Orb_L.Frontal_Inf_Orb_R+Info.type+Roi.Search+Pattern.type+Classifier.type+Scanner+Smoothing+Coregistration+Pattern.normalization.type+Num_subs+Resolution_Volume+Voxel.numbers+Training.setsize\""
      ]
     },
     "metadata": {},
     "output_type": "display_data"
    }
   ],
   "source": [
    "R1names_string<-c()\n",
    "r=1\n",
    "for (R in R5names){\n",
    "    # don't add last name - to prevent overparameterization. \n",
    "    if(r<length(R5names)){\n",
    "    R1names_string<-paste(R1names_string,R,sep='+')\n",
    "    }\n",
    "    r<-r+1 \n",
    "}\n",
    "for (f in factors){\n",
    "    R1names_string<-paste(R1names_string,f,sep='+')\n",
    "    \n",
    "}\n",
    "\n",
    "R1names_string<-substring(R1names_string, 2)\n",
    "R1names_string"
   ]
  },
  {
   "cell_type": "code",
   "execution_count": 20,
   "metadata": {
    "collapsed": true
   },
   "outputs": [],
   "source": [
    "#R5names[37]"
   ]
  },
  {
   "cell_type": "code",
   "execution_count": 21,
   "metadata": {},
   "outputs": [
    {
     "data": {
      "text/html": [
       "<ol class=list-inline>\n",
       "\t<li>'Frontal_Sup_L'</li>\n",
       "\t<li>'Frontal_Sup_R'</li>\n",
       "\t<li>'Frontal_Sup_Orb_L'</li>\n",
       "\t<li>'Frontal_Sup_Orb_R'</li>\n",
       "\t<li>'Frontal_Mid_L'</li>\n",
       "\t<li>'Frontal_Mid_R'</li>\n",
       "\t<li>'Frontal_Mid_Orb_L'</li>\n",
       "\t<li>'Frontal_Mid_Orb_R'</li>\n",
       "\t<li>'Frontal_Inf_Oper_L'</li>\n",
       "\t<li>'Frontal_Inf_Oper_R'</li>\n",
       "\t<li>'Frontal_Inf_Tri_L'</li>\n",
       "\t<li>'Frontal_Inf_Tri_R'</li>\n",
       "\t<li>'Frontal_Inf_Orb_L'</li>\n",
       "\t<li>'Frontal_Inf_Orb_R'</li>\n",
       "\t<li>'Supp_Motor_Area_L'</li>\n",
       "\t<li>'Supp_Motor_Area_R'</li>\n",
       "\t<li>'Frontal_Sup_Medial_L'</li>\n",
       "\t<li>'Frontal_Sup_Medial_R'</li>\n",
       "\t<li>'Insula_L'</li>\n",
       "\t<li>'Insula_R'</li>\n",
       "\t<li>'Cingulum_Ant_L'</li>\n",
       "\t<li>'Cingulum_Ant_R'</li>\n",
       "\t<li>'Cingulum_Mid_L'</li>\n",
       "\t<li>'Precentral_L'</li>\n",
       "\t<li>'Precentral_R'</li>\n",
       "\t<li>'Frontal_Inf_Tri_L.Frontal_Inf_Tri_R'</li>\n",
       "\t<li>'Insula_L.Insula_R'</li>\n",
       "\t<li>'Frontal_Sup_Medial_L.Frontal_Sup_Medial_R'</li>\n",
       "\t<li>'Frontal_Mid_L.Frontal_Mid_R'</li>\n",
       "\t<li>'Precentral_L.Precentral_R'</li>\n",
       "\t<li>'Supp_Motor_Area_L.Supp_Motor_Area_R'</li>\n",
       "\t<li>'Frontal_Sup_L.Frontal_Sup_R'</li>\n",
       "\t<li>'Frontal_Inf_Oper_L.Frontal_Inf_Oper_R'</li>\n",
       "\t<li>'Cingulum_Mid_L.Cingulum_Mid_R'</li>\n",
       "\t<li>'Cingulum_Ant_L.Cingulum_Ant_R'</li>\n",
       "\t<li>'Frontal_Inf_Orb_L.Frontal_Inf_Orb_R'</li>\n",
       "\t<li>'Frontal_Mid_Orb_L.Frontal_Mid_Orb_R'</li>\n",
       "</ol>\n"
      ],
      "text/latex": [
       "\\begin{enumerate*}\n",
       "\\item 'Frontal\\_Sup\\_L'\n",
       "\\item 'Frontal\\_Sup\\_R'\n",
       "\\item 'Frontal\\_Sup\\_Orb\\_L'\n",
       "\\item 'Frontal\\_Sup\\_Orb\\_R'\n",
       "\\item 'Frontal\\_Mid\\_L'\n",
       "\\item 'Frontal\\_Mid\\_R'\n",
       "\\item 'Frontal\\_Mid\\_Orb\\_L'\n",
       "\\item 'Frontal\\_Mid\\_Orb\\_R'\n",
       "\\item 'Frontal\\_Inf\\_Oper\\_L'\n",
       "\\item 'Frontal\\_Inf\\_Oper\\_R'\n",
       "\\item 'Frontal\\_Inf\\_Tri\\_L'\n",
       "\\item 'Frontal\\_Inf\\_Tri\\_R'\n",
       "\\item 'Frontal\\_Inf\\_Orb\\_L'\n",
       "\\item 'Frontal\\_Inf\\_Orb\\_R'\n",
       "\\item 'Supp\\_Motor\\_Area\\_L'\n",
       "\\item 'Supp\\_Motor\\_Area\\_R'\n",
       "\\item 'Frontal\\_Sup\\_Medial\\_L'\n",
       "\\item 'Frontal\\_Sup\\_Medial\\_R'\n",
       "\\item 'Insula\\_L'\n",
       "\\item 'Insula\\_R'\n",
       "\\item 'Cingulum\\_Ant\\_L'\n",
       "\\item 'Cingulum\\_Ant\\_R'\n",
       "\\item 'Cingulum\\_Mid\\_L'\n",
       "\\item 'Precentral\\_L'\n",
       "\\item 'Precentral\\_R'\n",
       "\\item 'Frontal\\_Inf\\_Tri\\_L.Frontal\\_Inf\\_Tri\\_R'\n",
       "\\item 'Insula\\_L.Insula\\_R'\n",
       "\\item 'Frontal\\_Sup\\_Medial\\_L.Frontal\\_Sup\\_Medial\\_R'\n",
       "\\item 'Frontal\\_Mid\\_L.Frontal\\_Mid\\_R'\n",
       "\\item 'Precentral\\_L.Precentral\\_R'\n",
       "\\item 'Supp\\_Motor\\_Area\\_L.Supp\\_Motor\\_Area\\_R'\n",
       "\\item 'Frontal\\_Sup\\_L.Frontal\\_Sup\\_R'\n",
       "\\item 'Frontal\\_Inf\\_Oper\\_L.Frontal\\_Inf\\_Oper\\_R'\n",
       "\\item 'Cingulum\\_Mid\\_L.Cingulum\\_Mid\\_R'\n",
       "\\item 'Cingulum\\_Ant\\_L.Cingulum\\_Ant\\_R'\n",
       "\\item 'Frontal\\_Inf\\_Orb\\_L.Frontal\\_Inf\\_Orb\\_R'\n",
       "\\item 'Frontal\\_Mid\\_Orb\\_L.Frontal\\_Mid\\_Orb\\_R'\n",
       "\\end{enumerate*}\n"
      ],
      "text/markdown": [
       "1. 'Frontal_Sup_L'\n",
       "2. 'Frontal_Sup_R'\n",
       "3. 'Frontal_Sup_Orb_L'\n",
       "4. 'Frontal_Sup_Orb_R'\n",
       "5. 'Frontal_Mid_L'\n",
       "6. 'Frontal_Mid_R'\n",
       "7. 'Frontal_Mid_Orb_L'\n",
       "8. 'Frontal_Mid_Orb_R'\n",
       "9. 'Frontal_Inf_Oper_L'\n",
       "10. 'Frontal_Inf_Oper_R'\n",
       "11. 'Frontal_Inf_Tri_L'\n",
       "12. 'Frontal_Inf_Tri_R'\n",
       "13. 'Frontal_Inf_Orb_L'\n",
       "14. 'Frontal_Inf_Orb_R'\n",
       "15. 'Supp_Motor_Area_L'\n",
       "16. 'Supp_Motor_Area_R'\n",
       "17. 'Frontal_Sup_Medial_L'\n",
       "18. 'Frontal_Sup_Medial_R'\n",
       "19. 'Insula_L'\n",
       "20. 'Insula_R'\n",
       "21. 'Cingulum_Ant_L'\n",
       "22. 'Cingulum_Ant_R'\n",
       "23. 'Cingulum_Mid_L'\n",
       "24. 'Precentral_L'\n",
       "25. 'Precentral_R'\n",
       "26. 'Frontal_Inf_Tri_L.Frontal_Inf_Tri_R'\n",
       "27. 'Insula_L.Insula_R'\n",
       "28. 'Frontal_Sup_Medial_L.Frontal_Sup_Medial_R'\n",
       "29. 'Frontal_Mid_L.Frontal_Mid_R'\n",
       "30. 'Precentral_L.Precentral_R'\n",
       "31. 'Supp_Motor_Area_L.Supp_Motor_Area_R'\n",
       "32. 'Frontal_Sup_L.Frontal_Sup_R'\n",
       "33. 'Frontal_Inf_Oper_L.Frontal_Inf_Oper_R'\n",
       "34. 'Cingulum_Mid_L.Cingulum_Mid_R'\n",
       "35. 'Cingulum_Ant_L.Cingulum_Ant_R'\n",
       "36. 'Frontal_Inf_Orb_L.Frontal_Inf_Orb_R'\n",
       "37. 'Frontal_Mid_Orb_L.Frontal_Mid_Orb_R'\n",
       "\n",
       "\n"
      ],
      "text/plain": [
       " [1] \"Frontal_Sup_L\"                            \n",
       " [2] \"Frontal_Sup_R\"                            \n",
       " [3] \"Frontal_Sup_Orb_L\"                        \n",
       " [4] \"Frontal_Sup_Orb_R\"                        \n",
       " [5] \"Frontal_Mid_L\"                            \n",
       " [6] \"Frontal_Mid_R\"                            \n",
       " [7] \"Frontal_Mid_Orb_L\"                        \n",
       " [8] \"Frontal_Mid_Orb_R\"                        \n",
       " [9] \"Frontal_Inf_Oper_L\"                       \n",
       "[10] \"Frontal_Inf_Oper_R\"                       \n",
       "[11] \"Frontal_Inf_Tri_L\"                        \n",
       "[12] \"Frontal_Inf_Tri_R\"                        \n",
       "[13] \"Frontal_Inf_Orb_L\"                        \n",
       "[14] \"Frontal_Inf_Orb_R\"                        \n",
       "[15] \"Supp_Motor_Area_L\"                        \n",
       "[16] \"Supp_Motor_Area_R\"                        \n",
       "[17] \"Frontal_Sup_Medial_L\"                     \n",
       "[18] \"Frontal_Sup_Medial_R\"                     \n",
       "[19] \"Insula_L\"                                 \n",
       "[20] \"Insula_R\"                                 \n",
       "[21] \"Cingulum_Ant_L\"                           \n",
       "[22] \"Cingulum_Ant_R\"                           \n",
       "[23] \"Cingulum_Mid_L\"                           \n",
       "[24] \"Precentral_L\"                             \n",
       "[25] \"Precentral_R\"                             \n",
       "[26] \"Frontal_Inf_Tri_L.Frontal_Inf_Tri_R\"      \n",
       "[27] \"Insula_L.Insula_R\"                        \n",
       "[28] \"Frontal_Sup_Medial_L.Frontal_Sup_Medial_R\"\n",
       "[29] \"Frontal_Mid_L.Frontal_Mid_R\"              \n",
       "[30] \"Precentral_L.Precentral_R\"                \n",
       "[31] \"Supp_Motor_Area_L.Supp_Motor_Area_R\"      \n",
       "[32] \"Frontal_Sup_L.Frontal_Sup_R\"              \n",
       "[33] \"Frontal_Inf_Oper_L.Frontal_Inf_Oper_R\"    \n",
       "[34] \"Cingulum_Mid_L.Cingulum_Mid_R\"            \n",
       "[35] \"Cingulum_Ant_L.Cingulum_Ant_R\"            \n",
       "[36] \"Frontal_Inf_Orb_L.Frontal_Inf_Orb_R\"      \n",
       "[37] \"Frontal_Mid_Orb_L.Frontal_Mid_Orb_R\"      "
      ]
     },
     "metadata": {},
     "output_type": "display_data"
    }
   ],
   "source": [
    "R5names"
   ]
  },
  {
   "cell_type": "code",
   "execution_count": 22,
   "metadata": {
    "collapsed": true
   },
   "outputs": [],
   "source": [
    "#d$Voxel.numbers"
   ]
  },
  {
   "cell_type": "markdown",
   "metadata": {},
   "source": [
    "# Coefficients"
   ]
  },
  {
   "cell_type": "code",
   "execution_count": 23,
   "metadata": {
    "collapsed": true
   },
   "outputs": [],
   "source": [
    "#colSums(d[R5names])\n"
   ]
  },
  {
   "cell_type": "code",
   "execution_count": 24,
   "metadata": {
    "collapsed": true
   },
   "outputs": [],
   "source": [
    "#sapply(d, class)\n",
    "#d$PID"
   ]
  },
  {
   "cell_type": "code",
   "execution_count": 25,
   "metadata": {
    "collapsed": true,
    "scrolled": false
   },
   "outputs": [],
   "source": [
    "full_model<-lme(as.formula(paste('Accuracy.50~',R1names_string,sep='')),\n",
    "                random=~1|PID,data=d,method='REML',na.action=na.omit)\n",
    "#summary(full_model)"
   ]
  },
  {
   "cell_type": "markdown",
   "metadata": {},
   "source": [
    "# Post-hoc Comparison of Coefficients "
   ]
  },
  {
   "cell_type": "code",
   "execution_count": 26,
   "metadata": {
    "collapsed": true
   },
   "outputs": [],
   "source": [
    "#lsmeans(full_model,pairwise~Pattern.type,adjust='None')"
   ]
  },
  {
   "cell_type": "code",
   "execution_count": 27,
   "metadata": {},
   "outputs": [
    {
     "data": {
      "text/plain": [
       "$lsmeans\n",
       " Pattern.type                      lsmean         SE df  lower.CL  upper.CL\n",
       " Multi-Trial Multi-Time Point   0.6808757 0.03069262 54 0.6193407 0.7424107\n",
       " Multi-Trial Single-Time Point  0.6091079 0.03881999 54 0.5312785 0.6869373\n",
       " Single Trial Multi-Time Point  0.6386516 0.03198291 54 0.5745297 0.7027735\n",
       " Single Trial Single-Time Point 0.6438881 0.04046107 54 0.5627685 0.7250076\n",
       "\n",
       "Results are averaged over the levels of: Info.type, Roi.Search, Classifier.type, Scanner, Smoothing, Coregistration, Pattern.normalization.type \n",
       "Confidence level used: 0.95 \n",
       "\n",
       "$contrasts\n",
       " contrast                                                           estimate\n",
       " Multi-Trial Multi-Time Point - Multi-Trial Single-Time Point    0.071767794\n",
       " Multi-Trial Multi-Time Point - Single Trial Multi-Time Point    0.042224135\n",
       " Multi-Trial Multi-Time Point - Single Trial Single-Time Point   0.036987658\n",
       " Multi-Trial Single-Time Point - Single Trial Multi-Time Point  -0.029543659\n",
       " Multi-Trial Single-Time Point - Single Trial Single-Time Point -0.034780136\n",
       " Single Trial Multi-Time Point - Single Trial Single-Time Point -0.005236476\n",
       "         SE df t.ratio p.value\n",
       " 0.03382695 54   2.122  0.0385\n",
       " 0.02863303 54   1.475  0.1461\n",
       " 0.03252248 54   1.137  0.2604\n",
       " 0.04100125 54  -0.721  0.4743\n",
       " 0.04325390 54  -0.804  0.4249\n",
       " 0.02876460 54  -0.182  0.8562\n",
       "\n",
       "Results are averaged over the levels of: Info.type, Roi.Search, Classifier.type, Scanner, Smoothing, Coregistration, Pattern.normalization.type \n"
      ]
     },
     "metadata": {},
     "output_type": "display_data"
    }
   ],
   "source": [
    "lsmeans(full_model,pairwise~Pattern.type,adjust='None')"
   ]
  },
  {
   "cell_type": "code",
   "execution_count": 28,
   "metadata": {},
   "outputs": [
    {
     "data": {
      "text/plain": [
       "$lsmeans\n",
       " Pattern.type                      lsmean         SE df  lower.CL  upper.CL\n",
       " Multi-Trial Multi-Time Point   0.6808757 0.03069262 54 0.6193407 0.7424107\n",
       " Multi-Trial Single-Time Point  0.6091079 0.03881999 54 0.5312785 0.6869373\n",
       " Single Trial Multi-Time Point  0.6386516 0.03198291 54 0.5745297 0.7027735\n",
       " Single Trial Single-Time Point 0.6438881 0.04046107 54 0.5627685 0.7250076\n",
       "\n",
       "Results are averaged over the levels of: Info.type, Roi.Search, Classifier.type, Scanner, Smoothing, Coregistration, Pattern.normalization.type \n",
       "Confidence level used: 0.95 \n",
       "\n",
       "$contrasts\n",
       " contrast                                                           estimate\n",
       " Multi-Trial Multi-Time Point - Multi-Trial Single-Time Point    0.071767794\n",
       " Multi-Trial Multi-Time Point - Single Trial Multi-Time Point    0.042224135\n",
       " Multi-Trial Multi-Time Point - Single Trial Single-Time Point   0.036987658\n",
       " Multi-Trial Single-Time Point - Single Trial Multi-Time Point  -0.029543659\n",
       " Multi-Trial Single-Time Point - Single Trial Single-Time Point -0.034780136\n",
       " Single Trial Multi-Time Point - Single Trial Single-Time Point -0.005236476\n",
       "         SE df t.ratio p.value\n",
       " 0.03382695 54   2.122  0.1593\n",
       " 0.02863303 54   1.475  0.4596\n",
       " 0.03252248 54   1.137  0.6683\n",
       " 0.04100125 54  -0.721  0.8885\n",
       " 0.04325390 54  -0.804  0.8522\n",
       " 0.02876460 54  -0.182  0.9978\n",
       "\n",
       "Results are averaged over the levels of: Info.type, Roi.Search, Classifier.type, Scanner, Smoothing, Coregistration, Pattern.normalization.type \n",
       "P value adjustment: tukey method for comparing a family of 4 estimates \n"
      ]
     },
     "metadata": {},
     "output_type": "display_data"
    }
   ],
   "source": [
    "lsmeans(full_model,pairwise~Pattern.type,adjust='Tukey')"
   ]
  },
  {
   "cell_type": "code",
   "execution_count": 29,
   "metadata": {},
   "outputs": [
    {
     "data": {
      "text/plain": [
       "$lsmeans\n",
       " Classifier.type    lsmean         SE df  lower.CL  upper.CL\n",
       " correlation     0.7064112 0.07469712 54 0.5566525 0.8561699\n",
       " GNB             0.6114171 0.04235307 54 0.5265043 0.6963299\n",
       " LDA             0.6239096 0.06602440 54 0.4915386 0.7562805\n",
       " LogReg          0.6007717 0.03528371 54 0.5300321 0.6715113\n",
       " svm-lin         0.6054595 0.02356168 54 0.5582212 0.6526978\n",
       " svm-nonlin      0.7108159 0.04025081 54 0.6301179 0.7915139\n",
       "\n",
       "Results are averaged over the levels of: Info.type, Roi.Search, Pattern.type, Scanner, Smoothing, Coregistration, Pattern.normalization.type \n",
       "Confidence level used: 0.95 \n",
       "\n",
       "$contrasts\n",
       " contrast                     estimate         SE df t.ratio p.value\n",
       " correlation - GNB         0.094994097 0.07938651 54   1.197  0.2367\n",
       " correlation - LDA         0.082501627 0.09469803 54   0.871  0.3875\n",
       " correlation - LogReg      0.105639542 0.07296249 54   1.448  0.1534\n",
       " correlation - svm-lin     0.100951749 0.06928470 54   1.457  0.1509\n",
       " correlation - svm-nonlin -0.004404699 0.07639834 54  -0.058  0.9542\n",
       " GNB - LDA                -0.012492470 0.07169279 54  -0.174  0.8623\n",
       " GNB - LogReg              0.010645445 0.04801501 54   0.222  0.8254\n",
       " GNB - svm-lin             0.005957652 0.04128746 54   0.144  0.8858\n",
       " GNB - svm-nonlin         -0.099398796 0.05435674 54  -1.829  0.0730\n",
       " LDA - LogReg              0.023137915 0.06633801 54   0.349  0.7286\n",
       " LDA - svm-lin             0.018450122 0.06038050 54   0.306  0.7611\n",
       " LDA - svm-nonlin         -0.086906325 0.07376232 54  -1.178  0.2439\n",
       " LogReg - svm-lin         -0.004687793 0.03066381 54  -0.153  0.8791\n",
       " LogReg - svm-nonlin      -0.110044241 0.04853825 54  -2.267  0.0274\n",
       " svm-lin - svm-nonlin     -0.105356447 0.03834030 54  -2.748  0.0081\n",
       "\n",
       "Results are averaged over the levels of: Info.type, Roi.Search, Pattern.type, Scanner, Smoothing, Coregistration, Pattern.normalization.type \n"
      ]
     },
     "metadata": {},
     "output_type": "display_data"
    }
   ],
   "source": [
    "lsmeans(full_model,pairwise~Classifier.type,adjust='None')\n",
    "\n",
    "# alternative way to do it\n",
    "#g<-glht(full_model, linfct = mcp(Classifier.type=\"Tukey\"))\n",
    "#s<-summary(g)\n",
    "#s"
   ]
  },
  {
   "cell_type": "code",
   "execution_count": 30,
   "metadata": {},
   "outputs": [
    {
     "data": {
      "text/plain": [
       "$lsmeans\n",
       " Classifier.type    lsmean         SE df  lower.CL  upper.CL\n",
       " correlation     0.7064112 0.07469712 54 0.5566525 0.8561699\n",
       " GNB             0.6114171 0.04235307 54 0.5265043 0.6963299\n",
       " LDA             0.6239096 0.06602440 54 0.4915386 0.7562805\n",
       " LogReg          0.6007717 0.03528371 54 0.5300321 0.6715113\n",
       " svm-lin         0.6054595 0.02356168 54 0.5582212 0.6526978\n",
       " svm-nonlin      0.7108159 0.04025081 54 0.6301179 0.7915139\n",
       "\n",
       "Results are averaged over the levels of: Info.type, Roi.Search, Pattern.type, Scanner, Smoothing, Coregistration, Pattern.normalization.type \n",
       "Confidence level used: 0.95 \n",
       "\n",
       "$contrasts\n",
       " contrast                     estimate         SE df t.ratio p.value\n",
       " correlation - GNB         0.094994097 0.07938651 54   1.197  0.8366\n",
       " correlation - LDA         0.082501627 0.09469803 54   0.871  0.9518\n",
       " correlation - LogReg      0.105639542 0.07296249 54   1.448  0.6980\n",
       " correlation - svm-lin     0.100951749 0.06928470 54   1.457  0.6924\n",
       " correlation - svm-nonlin -0.004404699 0.07639834 54  -0.058  1.0000\n",
       " GNB - LDA                -0.012492470 0.07169279 54  -0.174  1.0000\n",
       " GNB - LogReg              0.010645445 0.04801501 54   0.222  0.9999\n",
       " GNB - svm-lin             0.005957652 0.04128746 54   0.144  1.0000\n",
       " GNB - svm-nonlin         -0.099398796 0.05435674 54  -1.829  0.4566\n",
       " LDA - LogReg              0.023137915 0.06633801 54   0.349  0.9993\n",
       " LDA - svm-lin             0.018450122 0.06038050 54   0.306  0.9996\n",
       " LDA - svm-nonlin         -0.086906325 0.07376232 54  -1.178  0.8452\n",
       " LogReg - svm-lin         -0.004687793 0.03066381 54  -0.153  1.0000\n",
       " LogReg - svm-nonlin      -0.110044241 0.04853825 54  -2.267  0.2254\n",
       " svm-lin - svm-nonlin     -0.105356447 0.03834030 54  -2.748  0.0823\n",
       "\n",
       "Results are averaged over the levels of: Info.type, Roi.Search, Pattern.type, Scanner, Smoothing, Coregistration, Pattern.normalization.type \n",
       "P value adjustment: tukey method for comparing a family of 6 estimates \n"
      ]
     },
     "metadata": {},
     "output_type": "display_data"
    }
   ],
   "source": [
    "lsmeans(full_model,pairwise~Classifier.type,adjust='Tukey')\n",
    "\n",
    "# alternative way to do it\n",
    "#g<-glht(full_model, linfct = mcp(Classifier.type=\"Tukey\"))\n",
    "#s<-summary(g)\n",
    "#s"
   ]
  },
  {
   "cell_type": "markdown",
   "metadata": {},
   "source": [
    "# Coefficient Plots"
   ]
  },
  {
   "cell_type": "code",
   "execution_count": 31,
   "metadata": {},
   "outputs": [
    {
     "data": {
      "text/html": [
       "<ol class=list-inline>\n",
       "\t<li>'Frontal_Sup_L'</li>\n",
       "\t<li>'Frontal_Sup_R'</li>\n",
       "\t<li>'Frontal_Sup_Orb_L'</li>\n",
       "\t<li>'Frontal_Sup_Orb_R'</li>\n",
       "\t<li>'Frontal_Mid_L'</li>\n",
       "\t<li>'Frontal_Mid_R'</li>\n",
       "\t<li>'Frontal_Mid_Orb_L'</li>\n",
       "\t<li>'Frontal_Mid_Orb_R'</li>\n",
       "\t<li>'Frontal_Inf_Oper_L'</li>\n",
       "\t<li>'Frontal_Inf_Oper_R'</li>\n",
       "\t<li>'Frontal_Inf_Tri_L'</li>\n",
       "\t<li>'Frontal_Inf_Tri_R'</li>\n",
       "\t<li>'Frontal_Inf_Orb_L'</li>\n",
       "\t<li>'Frontal_Inf_Orb_R'</li>\n",
       "\t<li>'Supp_Motor_Area_L'</li>\n",
       "\t<li>'Supp_Motor_Area_R'</li>\n",
       "\t<li>'Frontal_Sup_Medial_L'</li>\n",
       "\t<li>'Frontal_Sup_Medial_R'</li>\n",
       "\t<li>'Insula_L'</li>\n",
       "\t<li>'Insula_R'</li>\n",
       "\t<li>'Cingulum_Ant_L'</li>\n",
       "\t<li>'Cingulum_Ant_R'</li>\n",
       "\t<li>'Cingulum_Mid_L'</li>\n",
       "\t<li>'Precentral_L'</li>\n",
       "\t<li>'Precentral_R'</li>\n",
       "\t<li>'Frontal_Inf_Tri_L.Frontal_Inf_Tri_R'</li>\n",
       "\t<li>'Insula_L.Insula_R'</li>\n",
       "\t<li>'Frontal_Sup_Medial_L.Frontal_Sup_Medial_R'</li>\n",
       "\t<li>'Frontal_Mid_L.Frontal_Mid_R'</li>\n",
       "\t<li>'Precentral_L.Precentral_R'</li>\n",
       "\t<li>'Supp_Motor_Area_L.Supp_Motor_Area_R'</li>\n",
       "\t<li>'Frontal_Sup_L.Frontal_Sup_R'</li>\n",
       "\t<li>'Frontal_Inf_Oper_L.Frontal_Inf_Oper_R'</li>\n",
       "\t<li>'Cingulum_Mid_L.Cingulum_Mid_R'</li>\n",
       "\t<li>'Cingulum_Ant_L.Cingulum_Ant_R'</li>\n",
       "\t<li>'Frontal_Inf_Orb_L.Frontal_Inf_Orb_R'</li>\n",
       "\t<li>'Frontal_Mid_Orb_L.Frontal_Mid_Orb_R'</li>\n",
       "</ol>\n"
      ],
      "text/latex": [
       "\\begin{enumerate*}\n",
       "\\item 'Frontal\\_Sup\\_L'\n",
       "\\item 'Frontal\\_Sup\\_R'\n",
       "\\item 'Frontal\\_Sup\\_Orb\\_L'\n",
       "\\item 'Frontal\\_Sup\\_Orb\\_R'\n",
       "\\item 'Frontal\\_Mid\\_L'\n",
       "\\item 'Frontal\\_Mid\\_R'\n",
       "\\item 'Frontal\\_Mid\\_Orb\\_L'\n",
       "\\item 'Frontal\\_Mid\\_Orb\\_R'\n",
       "\\item 'Frontal\\_Inf\\_Oper\\_L'\n",
       "\\item 'Frontal\\_Inf\\_Oper\\_R'\n",
       "\\item 'Frontal\\_Inf\\_Tri\\_L'\n",
       "\\item 'Frontal\\_Inf\\_Tri\\_R'\n",
       "\\item 'Frontal\\_Inf\\_Orb\\_L'\n",
       "\\item 'Frontal\\_Inf\\_Orb\\_R'\n",
       "\\item 'Supp\\_Motor\\_Area\\_L'\n",
       "\\item 'Supp\\_Motor\\_Area\\_R'\n",
       "\\item 'Frontal\\_Sup\\_Medial\\_L'\n",
       "\\item 'Frontal\\_Sup\\_Medial\\_R'\n",
       "\\item 'Insula\\_L'\n",
       "\\item 'Insula\\_R'\n",
       "\\item 'Cingulum\\_Ant\\_L'\n",
       "\\item 'Cingulum\\_Ant\\_R'\n",
       "\\item 'Cingulum\\_Mid\\_L'\n",
       "\\item 'Precentral\\_L'\n",
       "\\item 'Precentral\\_R'\n",
       "\\item 'Frontal\\_Inf\\_Tri\\_L.Frontal\\_Inf\\_Tri\\_R'\n",
       "\\item 'Insula\\_L.Insula\\_R'\n",
       "\\item 'Frontal\\_Sup\\_Medial\\_L.Frontal\\_Sup\\_Medial\\_R'\n",
       "\\item 'Frontal\\_Mid\\_L.Frontal\\_Mid\\_R'\n",
       "\\item 'Precentral\\_L.Precentral\\_R'\n",
       "\\item 'Supp\\_Motor\\_Area\\_L.Supp\\_Motor\\_Area\\_R'\n",
       "\\item 'Frontal\\_Sup\\_L.Frontal\\_Sup\\_R'\n",
       "\\item 'Frontal\\_Inf\\_Oper\\_L.Frontal\\_Inf\\_Oper\\_R'\n",
       "\\item 'Cingulum\\_Mid\\_L.Cingulum\\_Mid\\_R'\n",
       "\\item 'Cingulum\\_Ant\\_L.Cingulum\\_Ant\\_R'\n",
       "\\item 'Frontal\\_Inf\\_Orb\\_L.Frontal\\_Inf\\_Orb\\_R'\n",
       "\\item 'Frontal\\_Mid\\_Orb\\_L.Frontal\\_Mid\\_Orb\\_R'\n",
       "\\end{enumerate*}\n"
      ],
      "text/markdown": [
       "1. 'Frontal_Sup_L'\n",
       "2. 'Frontal_Sup_R'\n",
       "3. 'Frontal_Sup_Orb_L'\n",
       "4. 'Frontal_Sup_Orb_R'\n",
       "5. 'Frontal_Mid_L'\n",
       "6. 'Frontal_Mid_R'\n",
       "7. 'Frontal_Mid_Orb_L'\n",
       "8. 'Frontal_Mid_Orb_R'\n",
       "9. 'Frontal_Inf_Oper_L'\n",
       "10. 'Frontal_Inf_Oper_R'\n",
       "11. 'Frontal_Inf_Tri_L'\n",
       "12. 'Frontal_Inf_Tri_R'\n",
       "13. 'Frontal_Inf_Orb_L'\n",
       "14. 'Frontal_Inf_Orb_R'\n",
       "15. 'Supp_Motor_Area_L'\n",
       "16. 'Supp_Motor_Area_R'\n",
       "17. 'Frontal_Sup_Medial_L'\n",
       "18. 'Frontal_Sup_Medial_R'\n",
       "19. 'Insula_L'\n",
       "20. 'Insula_R'\n",
       "21. 'Cingulum_Ant_L'\n",
       "22. 'Cingulum_Ant_R'\n",
       "23. 'Cingulum_Mid_L'\n",
       "24. 'Precentral_L'\n",
       "25. 'Precentral_R'\n",
       "26. 'Frontal_Inf_Tri_L.Frontal_Inf_Tri_R'\n",
       "27. 'Insula_L.Insula_R'\n",
       "28. 'Frontal_Sup_Medial_L.Frontal_Sup_Medial_R'\n",
       "29. 'Frontal_Mid_L.Frontal_Mid_R'\n",
       "30. 'Precentral_L.Precentral_R'\n",
       "31. 'Supp_Motor_Area_L.Supp_Motor_Area_R'\n",
       "32. 'Frontal_Sup_L.Frontal_Sup_R'\n",
       "33. 'Frontal_Inf_Oper_L.Frontal_Inf_Oper_R'\n",
       "34. 'Cingulum_Mid_L.Cingulum_Mid_R'\n",
       "35. 'Cingulum_Ant_L.Cingulum_Ant_R'\n",
       "36. 'Frontal_Inf_Orb_L.Frontal_Inf_Orb_R'\n",
       "37. 'Frontal_Mid_Orb_L.Frontal_Mid_Orb_R'\n",
       "\n",
       "\n"
      ],
      "text/plain": [
       " [1] \"Frontal_Sup_L\"                            \n",
       " [2] \"Frontal_Sup_R\"                            \n",
       " [3] \"Frontal_Sup_Orb_L\"                        \n",
       " [4] \"Frontal_Sup_Orb_R\"                        \n",
       " [5] \"Frontal_Mid_L\"                            \n",
       " [6] \"Frontal_Mid_R\"                            \n",
       " [7] \"Frontal_Mid_Orb_L\"                        \n",
       " [8] \"Frontal_Mid_Orb_R\"                        \n",
       " [9] \"Frontal_Inf_Oper_L\"                       \n",
       "[10] \"Frontal_Inf_Oper_R\"                       \n",
       "[11] \"Frontal_Inf_Tri_L\"                        \n",
       "[12] \"Frontal_Inf_Tri_R\"                        \n",
       "[13] \"Frontal_Inf_Orb_L\"                        \n",
       "[14] \"Frontal_Inf_Orb_R\"                        \n",
       "[15] \"Supp_Motor_Area_L\"                        \n",
       "[16] \"Supp_Motor_Area_R\"                        \n",
       "[17] \"Frontal_Sup_Medial_L\"                     \n",
       "[18] \"Frontal_Sup_Medial_R\"                     \n",
       "[19] \"Insula_L\"                                 \n",
       "[20] \"Insula_R\"                                 \n",
       "[21] \"Cingulum_Ant_L\"                           \n",
       "[22] \"Cingulum_Ant_R\"                           \n",
       "[23] \"Cingulum_Mid_L\"                           \n",
       "[24] \"Precentral_L\"                             \n",
       "[25] \"Precentral_R\"                             \n",
       "[26] \"Frontal_Inf_Tri_L.Frontal_Inf_Tri_R\"      \n",
       "[27] \"Insula_L.Insula_R\"                        \n",
       "[28] \"Frontal_Sup_Medial_L.Frontal_Sup_Medial_R\"\n",
       "[29] \"Frontal_Mid_L.Frontal_Mid_R\"              \n",
       "[30] \"Precentral_L.Precentral_R\"                \n",
       "[31] \"Supp_Motor_Area_L.Supp_Motor_Area_R\"      \n",
       "[32] \"Frontal_Sup_L.Frontal_Sup_R\"              \n",
       "[33] \"Frontal_Inf_Oper_L.Frontal_Inf_Oper_R\"    \n",
       "[34] \"Cingulum_Mid_L.Cingulum_Mid_R\"            \n",
       "[35] \"Cingulum_Ant_L.Cingulum_Ant_R\"            \n",
       "[36] \"Frontal_Inf_Orb_L.Frontal_Inf_Orb_R\"      \n",
       "[37] \"Frontal_Mid_Orb_L.Frontal_Mid_Orb_R\"      "
      ]
     },
     "metadata": {},
     "output_type": "display_data"
    }
   ],
   "source": [
    "R5names"
   ]
  },
  {
   "cell_type": "code",
   "execution_count": 32,
   "metadata": {
    "collapsed": true
   },
   "outputs": [],
   "source": [
    "#rlabels<-c('L Superior Frontal','R Superior Frontal','L Superior Frontal orbital part','R Superior Frontal orbital par',\n",
    "#        'L Middle Frontal','R Middle Frontal','L Middle Frontal orbital part','R Middle Frontal orbital part',\n",
    "#          'L Inferior Frontal (oper)','R Inferior Frontal (oper)','L Inferior Frontal (tri)','R Inferior Frontal (tri)')"
   ]
  },
  {
   "cell_type": "markdown",
   "metadata": {},
   "source": [
    "# Plot"
   ]
  },
  {
   "cell_type": "code",
   "execution_count": 45,
   "metadata": {
    "collapsed": true
   },
   "outputs": [],
   "source": [
    "## Get all data into table\n",
    "\n",
    "feature='Smoothing'\n",
    "dd<-data.frame(effect(feature,full_model))\n",
    "dd$Accuracy<-dd$fit\n",
    "dd$Smoothing<-dd[,feature]\n",
    "colnames(dd)<-c('B','fit','se','lower','upper','Accuracy')\n",
    "dd_all<-dd\n",
    "\n",
    "feature='Info.type'\n",
    "dd<-data.frame(effect(feature,full_model))\n",
    "dd$Accuracy<-dd$fit\n",
    "dd$Info.type<-dd[,feature]\n",
    "colnames(dd)<-c('B','fit','se','lower','upper','Accuracy')\n",
    "dd_all<-rbind(dd_all,dd)\n",
    "\n",
    "feature='Roi.Search'\n",
    "dd<-data.frame(effect(feature,full_model))\n",
    "dd$Accuracy<-dd$fit\n",
    "dd$Roi_or_Searchlight<-dd[,feature]\n",
    "colnames(dd)<-c('B','fit','se','lower','upper','Accuracy')\n",
    "dd_all<-rbind(dd_all,dd[,1:6])\n",
    "\n",
    "feature='Classifier.type'\n",
    "dd<-data.frame(effect(feature,full_model))\n",
    "dd$Accuracy<-dd$fit\n",
    "dd$Classifier.type<-dd[,feature]\n",
    "colnames(dd)<-c('B','fit','se','lower','upper','Accuracy')\n",
    "dd_all<-rbind(dd_all,dd)\n",
    "\n",
    "feature='Scanner'\n",
    "dd<-data.frame(effect(feature,full_model))\n",
    "dd$Accuracy<-dd$fit\n",
    "dd$Scanner.strength<-dd[,feature]\n",
    "colnames(dd)<-c('B','fit','se','lower','upper','Accuracy')\n",
    "dd_all<-rbind(dd_all,dd[,1:6])\n",
    "\n",
    "feature='Coregistration'\n",
    "dd<-data.frame(effect(feature,full_model))\n",
    "dd$Accuracy<-dd$fit\n",
    "dd$Coregistrated<-dd[,feature]\n",
    "colnames(dd)<-c('B','fit','se','lower','upper','Accuracy')\n",
    "dd_all<-rbind(dd_all,dd[,1:6])\n",
    "\n",
    "feature='Pattern.normalization.type'\n",
    "dd<-data.frame(effect(feature,full_model))\n",
    "dd$Accuracy<-dd$fit\n",
    "dd$Pattern.normalization.type<-dd[,feature]\n",
    "colnames(dd)<-c('B','fit','se','lower','upper','Accuracy')\n",
    "dd_all<-rbind(dd_all,dd[,1:6])\n",
    "\n",
    "feature='Num_subs'\n",
    "dd<-data.frame(effect(feature,full_model,xlevels=list(Num_subs=c(10,20,30,40))))\n",
    "dd$Accuracy<-dd$fit\n",
    "dd$Feature<-dd[,feature]\n",
    "colnames(dd)<-c('B','fit','se','lower','upper','Accuracy')\n",
    "dd$B<-as.character(dd$B)\n",
    "add_name <-function(n){return(paste('n=',n,sep=''))}\n",
    "dd$B<-unlist(lapply(dd$B,add_name))\n",
    "\n",
    "# so that it's ordered properly / I replace the name below \n",
    "dd$B<-as.factor(dd$B)\n",
    "dd_all<-rbind(dd_all,dd[,1:6]) \n",
    "# not including n=50-70 for the plot because there's no support out there for accurate esimation \n",
    "# there are only 1-2 studies \n",
    "\n",
    "feature='Resolution_Volume'\n",
    "dd<-data.frame(effect(feature,full_model,xlevels=list(Resolution_Volume=c(1,8,27,64))))\n",
    "dd$Accuracy<-dd$fit\n",
    "dd$Feature<-dd[,feature]\n",
    "colnames(dd)<-c('B','fit','se','lower','upper','Accuracy')\n",
    "dd$B<-as.character(dd$B)\n",
    "add_name <-function(n){return(paste(n,'mm^3',sep=''))}\n",
    "dd$B<-unlist(lapply(dd$B,add_name))\n",
    "dd$B[dd$B=='8mm^3']='21mm^3' # just to get in the right order\n",
    "dd$B<-as.factor(dd$B)\n",
    "dd_all<-rbind(dd_all,dd[,1:6])\n",
    "\n",
    "feature='Voxel.numbers'\n",
    "dd<-data.frame(effect(feature,full_model,xlevels=list(Voxel.numbers=c(20,100,500,2500,5000))))\n",
    "dd$Accuracy<-dd$fit\n",
    "dd$Feature<-dd[,feature]\n",
    "colnames(dd)<-c('B','fit','se','lower','upper','Accuracy')\n",
    "dd$B<-as.character(dd$B)\n",
    "add_name <-function(n){return(paste('nvoxels',n,sep=''))}\n",
    "dd$B<-unlist(lapply(dd$B,add_name))\n",
    "dd$B[dd$B=='nvoxels20']='nvoxelsa20' # just to get in the right order for plotting\n",
    "dd$B[dd$B=='nvoxels100']='nvoxelsb100' # just to get in the right order for plotting\n",
    "dd$B[dd$B=='nvoxels500']='nvoxelsc500' # just to get in the right order for plotting\n",
    "dd$B[dd$B=='nvoxels2500']='nvoxelsd2500' # just to get in the right order for plotting\n",
    "dd$B[dd$B=='nvoxels5000']='nvoxelse5000' # just to get in the right order for plotting\n",
    "dd$B<-as.factor(dd$B)\n",
    "dd_all<-rbind(dd_all,dd[,1:6])\n",
    "\n",
    "feature='Training.setsize'\n",
    "dd<-data.frame(effect(feature,full_model,xlevels=list(Training.setsize=c(20,40,80,160,320))))\n",
    "dd$Accuracy<-dd$fit\n",
    "dd$Feature<-dd[,feature]\n",
    "colnames(dd)<-c('B','fit','se','lower','upper','Accuracy')\n",
    "dd$B<-as.character(dd$B)\n",
    "add_name <-function(n){return(paste('#patterns',n,sep=''))}\n",
    "dd$B<-unlist(lapply(dd$B,add_name))\n",
    "dd$B[dd$B=='#patterns20']='#patternsa20' # just to get in the right order for plotting\n",
    "dd$B[dd$B=='#patterns40']='#patternsb40' # just to get in the right order for plotting\n",
    "dd$B[dd$B=='#patterns80']='#patternsc80' # just to get in the right order for plotting\n",
    "dd$B[dd$B=='#patterns160']='#patternsd160' # just to get in the right order for plotting\n",
    "dd$B[dd$B=='#patterns320']='#patternse320' # just to get in the right order for plotting\n",
    "\n",
    "dd$B<-as.factor(dd$B)\n",
    "dd_all<-rbind(dd_all,dd[,1:6])\n",
    "\n",
    "\n",
    "feature='Pattern.type'\n",
    "dd<-data.frame(effect(feature,full_model))\n",
    "dd$Accuracy<-dd$fit\n",
    "dd$Pattern.normalization.type<-dd[,feature]\n",
    "colnames(dd)<-c('B','fit','se','lower','upper','Accuracy')\n",
    "dd_all<-rbind(dd_all,dd[,1:6])\n",
    "\n",
    "rownames(dd_all)<-1:nrow(dd_all)"
   ]
  },
  {
   "cell_type": "code",
   "execution_count": 46,
   "metadata": {
    "collapsed": true
   },
   "outputs": [],
   "source": [
    "#hist(d$Training.setsize)"
   ]
  },
  {
   "cell_type": "code",
   "execution_count": 47,
   "metadata": {},
   "outputs": [
    {
     "data": {
      "text/html": [
       "<ol class=list-inline>\n",
       "\t<li>'smoothed'</li>\n",
       "\t<li>'unsmooth'</li>\n",
       "\t<li>'Perceptual'</li>\n",
       "\t<li>'Response'</li>\n",
       "\t<li>'Rule'</li>\n",
       "\t<li>'Value'</li>\n",
       "\t<li>'ROI'</li>\n",
       "\t<li>'Searchlight Peak'</li>\n",
       "\t<li>'correlation'</li>\n",
       "\t<li>'GNB'</li>\n",
       "\t<li>'LDA'</li>\n",
       "\t<li>'LogReg'</li>\n",
       "\t<li>'svm-lin'</li>\n",
       "\t<li>'svm-nonlin'</li>\n",
       "\t<li>'3T'</li>\n",
       "\t<li>'7T'</li>\n",
       "\t<li>'coregistered'</li>\n",
       "\t<li>'Native Space'</li>\n",
       "\t<li>'None'</li>\n",
       "\t<li>'Normalized Spatially'</li>\n",
       "\t<li>'Normalized Temporally'</li>\n",
       "\t<li>'n=10'</li>\n",
       "\t<li>'n=20'</li>\n",
       "\t<li>'n=30'</li>\n",
       "\t<li>'n=40'</li>\n",
       "\t<li>'1mm^3'</li>\n",
       "\t<li>'21mm^3'</li>\n",
       "\t<li>'27mm^3'</li>\n",
       "\t<li>'64mm^3'</li>\n",
       "\t<li>'nvoxelsa20'</li>\n",
       "\t<li>'nvoxelsb100'</li>\n",
       "\t<li>'nvoxelsc500'</li>\n",
       "\t<li>'nvoxelsd2500'</li>\n",
       "\t<li>'nvoxelse5000'</li>\n",
       "\t<li>'#patternsa20'</li>\n",
       "\t<li>'#patternsb40'</li>\n",
       "\t<li>'#patternsc80'</li>\n",
       "\t<li>'#patternsd160'</li>\n",
       "\t<li>'#patternse320'</li>\n",
       "\t<li>'Multi-Trial Multi-Time Point'</li>\n",
       "\t<li>'Multi-Trial Single-Time Point'</li>\n",
       "\t<li>'Single Trial Multi-Time Point'</li>\n",
       "\t<li>'Single Trial Single-Time Point'</li>\n",
       "</ol>\n"
      ],
      "text/latex": [
       "\\begin{enumerate*}\n",
       "\\item 'smoothed'\n",
       "\\item 'unsmooth'\n",
       "\\item 'Perceptual'\n",
       "\\item 'Response'\n",
       "\\item 'Rule'\n",
       "\\item 'Value'\n",
       "\\item 'ROI'\n",
       "\\item 'Searchlight Peak'\n",
       "\\item 'correlation'\n",
       "\\item 'GNB'\n",
       "\\item 'LDA'\n",
       "\\item 'LogReg'\n",
       "\\item 'svm-lin'\n",
       "\\item 'svm-nonlin'\n",
       "\\item '3T'\n",
       "\\item '7T'\n",
       "\\item 'coregistered'\n",
       "\\item 'Native Space'\n",
       "\\item 'None'\n",
       "\\item 'Normalized Spatially'\n",
       "\\item 'Normalized Temporally'\n",
       "\\item 'n=10'\n",
       "\\item 'n=20'\n",
       "\\item 'n=30'\n",
       "\\item 'n=40'\n",
       "\\item '1mm\\textasciicircum{}3'\n",
       "\\item '21mm\\textasciicircum{}3'\n",
       "\\item '27mm\\textasciicircum{}3'\n",
       "\\item '64mm\\textasciicircum{}3'\n",
       "\\item 'nvoxelsa20'\n",
       "\\item 'nvoxelsb100'\n",
       "\\item 'nvoxelsc500'\n",
       "\\item 'nvoxelsd2500'\n",
       "\\item 'nvoxelse5000'\n",
       "\\item '\\#patternsa20'\n",
       "\\item '\\#patternsb40'\n",
       "\\item '\\#patternsc80'\n",
       "\\item '\\#patternsd160'\n",
       "\\item '\\#patternse320'\n",
       "\\item 'Multi-Trial Multi-Time Point'\n",
       "\\item 'Multi-Trial Single-Time Point'\n",
       "\\item 'Single Trial Multi-Time Point'\n",
       "\\item 'Single Trial Single-Time Point'\n",
       "\\end{enumerate*}\n"
      ],
      "text/markdown": [
       "1. 'smoothed'\n",
       "2. 'unsmooth'\n",
       "3. 'Perceptual'\n",
       "4. 'Response'\n",
       "5. 'Rule'\n",
       "6. 'Value'\n",
       "7. 'ROI'\n",
       "8. 'Searchlight Peak'\n",
       "9. 'correlation'\n",
       "10. 'GNB'\n",
       "11. 'LDA'\n",
       "12. 'LogReg'\n",
       "13. 'svm-lin'\n",
       "14. 'svm-nonlin'\n",
       "15. '3T'\n",
       "16. '7T'\n",
       "17. 'coregistered'\n",
       "18. 'Native Space'\n",
       "19. 'None'\n",
       "20. 'Normalized Spatially'\n",
       "21. 'Normalized Temporally'\n",
       "22. 'n=10'\n",
       "23. 'n=20'\n",
       "24. 'n=30'\n",
       "25. 'n=40'\n",
       "26. '1mm^3'\n",
       "27. '21mm^3'\n",
       "28. '27mm^3'\n",
       "29. '64mm^3'\n",
       "30. 'nvoxelsa20'\n",
       "31. 'nvoxelsb100'\n",
       "32. 'nvoxelsc500'\n",
       "33. 'nvoxelsd2500'\n",
       "34. 'nvoxelse5000'\n",
       "35. '#patternsa20'\n",
       "36. '#patternsb40'\n",
       "37. '#patternsc80'\n",
       "38. '#patternsd160'\n",
       "39. '#patternse320'\n",
       "40. 'Multi-Trial Multi-Time Point'\n",
       "41. 'Multi-Trial Single-Time Point'\n",
       "42. 'Single Trial Multi-Time Point'\n",
       "43. 'Single Trial Single-Time Point'\n",
       "\n",
       "\n"
      ],
      "text/plain": [
       " [1] \"smoothed\"                       \"unsmooth\"                      \n",
       " [3] \"Perceptual\"                     \"Response\"                      \n",
       " [5] \"Rule\"                           \"Value\"                         \n",
       " [7] \"ROI\"                            \"Searchlight Peak\"              \n",
       " [9] \"correlation\"                    \"GNB\"                           \n",
       "[11] \"LDA\"                            \"LogReg\"                        \n",
       "[13] \"svm-lin\"                        \"svm-nonlin\"                    \n",
       "[15] \"3T\"                             \"7T\"                            \n",
       "[17] \"coregistered\"                   \"Native Space\"                  \n",
       "[19] \"None\"                           \"Normalized Spatially\"          \n",
       "[21] \"Normalized Temporally\"          \"n=10\"                          \n",
       "[23] \"n=20\"                           \"n=30\"                          \n",
       "[25] \"n=40\"                           \"1mm^3\"                         \n",
       "[27] \"21mm^3\"                         \"27mm^3\"                        \n",
       "[29] \"64mm^3\"                         \"nvoxelsa20\"                    \n",
       "[31] \"nvoxelsb100\"                    \"nvoxelsc500\"                   \n",
       "[33] \"nvoxelsd2500\"                   \"nvoxelse5000\"                  \n",
       "[35] \"#patternsa20\"                   \"#patternsb40\"                  \n",
       "[37] \"#patternsc80\"                   \"#patternsd160\"                 \n",
       "[39] \"#patternse320\"                  \"Multi-Trial Multi-Time Point\"  \n",
       "[41] \"Multi-Trial Single-Time Point\"  \"Single Trial Multi-Time Point\" \n",
       "[43] \"Single Trial Single-Time Point\""
      ]
     },
     "metadata": {},
     "output_type": "display_data"
    }
   ],
   "source": [
    "levels(dd_all$B)"
   ]
  },
  {
   "cell_type": "code",
   "execution_count": 48,
   "metadata": {},
   "outputs": [
    {
     "data": {
      "text/html": [
       "<table>\n",
       "<thead><tr><th scope=col>B</th><th scope=col>fit</th><th scope=col>se</th><th scope=col>lower</th><th scope=col>upper</th><th scope=col>Accuracy</th></tr></thead>\n",
       "<tbody>\n",
       "\t<tr><td>smoothed                      </td><td>0.6079858                     </td><td>0.019961543                   </td><td>0.5687325                     </td><td>0.6472392                     </td><td>0.6079858                     </td></tr>\n",
       "\t<tr><td>unsmooth                      </td><td>0.5974899                     </td><td>0.010353205                   </td><td>0.5771308                     </td><td>0.6178489                     </td><td>0.5974899                     </td></tr>\n",
       "\t<tr><td>Perceptual                    </td><td>0.5926876                     </td><td>0.015936411                   </td><td>0.5613495                     </td><td>0.6240258                     </td><td>0.5926876                     </td></tr>\n",
       "\t<tr><td>Response                      </td><td>0.5928599                     </td><td>0.018203457                   </td><td>0.5570637                     </td><td>0.6286560                     </td><td>0.5928599                     </td></tr>\n",
       "\t<tr><td>Rule                          </td><td>0.6118493                     </td><td>0.013447830                   </td><td>0.5854048                     </td><td>0.6382937                     </td><td>0.6118493                     </td></tr>\n",
       "\t<tr><td>Value                         </td><td>0.5896271                     </td><td>0.021343836                   </td><td>0.5476555                     </td><td>0.6315987                     </td><td>0.5896271                     </td></tr>\n",
       "\t<tr><td>ROI                           </td><td>0.5916349                     </td><td>0.010728163                   </td><td>0.5705385                     </td><td>0.6127313                     </td><td>0.5916349                     </td></tr>\n",
       "\t<tr><td>Searchlight Peak              </td><td>0.6312259                     </td><td>0.018988885                   </td><td>0.5938852                     </td><td>0.6685666                     </td><td>0.6312259                     </td></tr>\n",
       "\t<tr><td>correlation                   </td><td>0.6938768                     </td><td>0.068820825                   </td><td>0.5585442                     </td><td>0.8292095                     </td><td>0.6938768                     </td></tr>\n",
       "\t<tr><td>GNB                           </td><td>0.5988827                     </td><td>0.040263635                   </td><td>0.5197063                     </td><td>0.6780591                     </td><td>0.5988827                     </td></tr>\n",
       "\t<tr><td>LDA                           </td><td>0.6113752                     </td><td>0.059179537                   </td><td>0.4950017                     </td><td>0.7277487                     </td><td>0.6113752                     </td></tr>\n",
       "\t<tr><td>LogReg                        </td><td>0.5882373                     </td><td>0.028207944                   </td><td>0.5327678                     </td><td>0.6437068                     </td><td>0.5882373                     </td></tr>\n",
       "\t<tr><td>svm-lin                       </td><td>0.5929251                     </td><td>0.010335197                   </td><td>0.5726014                     </td><td>0.6132487                     </td><td>0.5929251                     </td></tr>\n",
       "\t<tr><td>svm-nonlin                    </td><td>0.6982815                     </td><td>0.038274331                   </td><td>0.6230170                     </td><td>0.7735460                     </td><td>0.6982815                     </td></tr>\n",
       "\t<tr><td>3T                            </td><td>0.5994449                     </td><td>0.009255197                   </td><td>0.5812450                     </td><td>0.6176447                     </td><td>0.5994449                     </td></tr>\n",
       "\t<tr><td>7T                            </td><td>0.5957583                     </td><td>0.035637325                   </td><td>0.5256793                     </td><td>0.6658373                     </td><td>0.5957583                     </td></tr>\n",
       "\t<tr><td>coregistered                  </td><td>0.5884688                     </td><td>0.011918173                   </td><td>0.5650323                     </td><td>0.6119053                     </td><td>0.5884688                     </td></tr>\n",
       "\t<tr><td>Native Space                  </td><td>0.6122209                     </td><td>0.014669200                   </td><td>0.5833746                     </td><td>0.6410671                     </td><td>0.6122209                     </td></tr>\n",
       "\t<tr><td>None                          </td><td>0.5719533                     </td><td>0.018323317                   </td><td>0.5359214                     </td><td>0.6079851                     </td><td>0.5719533                     </td></tr>\n",
       "\t<tr><td>Normalized Spatially          </td><td>0.6350358                     </td><td>0.031646925                   </td><td>0.5728038                     </td><td>0.6972679                     </td><td>0.6350358                     </td></tr>\n",
       "\t<tr><td>Normalized Temporally         </td><td>0.6160529                     </td><td>0.014159213                   </td><td>0.5882095                     </td><td>0.6438962                     </td><td>0.6160529                     </td></tr>\n",
       "\t<tr><td>n=10                          </td><td>0.6033903                     </td><td>0.011396911                   </td><td>0.5809789                     </td><td>0.6258018                     </td><td>0.6033903                     </td></tr>\n",
       "\t<tr><td>n=20                          </td><td>0.5984920                     </td><td>0.009416841                   </td><td>0.5799743                     </td><td>0.6170098                     </td><td>0.5984920                     </td></tr>\n",
       "\t<tr><td>n=30                          </td><td>0.5935937                     </td><td>0.014341074                   </td><td>0.5653927                     </td><td>0.6217947                     </td><td>0.5935937                     </td></tr>\n",
       "\t<tr><td>n=40                          </td><td>0.5886954                     </td><td>0.021928477                   </td><td>0.5455742                     </td><td>0.6318166                     </td><td>0.5886954                     </td></tr>\n",
       "\t<tr><td>1mm^3                         </td><td>0.6018678                     </td><td>0.019039758                   </td><td>0.5644271                     </td><td>0.6393086                     </td><td>0.6018678                     </td></tr>\n",
       "\t<tr><td>21mm^3                        </td><td>0.6011529                     </td><td>0.014870700                   </td><td>0.5719104                     </td><td>0.6303954                     </td><td>0.6011529                     </td></tr>\n",
       "\t<tr><td>27mm^3                        </td><td>0.5992123                     </td><td>0.009334764                   </td><td>0.5808559                     </td><td>0.6175686                     </td><td>0.5992123                     </td></tr>\n",
       "\t<tr><td>64mm^3                        </td><td>0.5954332                     </td><td>0.029557516                   </td><td>0.5373098                     </td><td>0.6535565                     </td><td>0.5954332                     </td></tr>\n",
       "\t<tr><td>nvoxelsa20                    </td><td>0.5986437                     </td><td>0.009200959                   </td><td>0.5805505                     </td><td>0.6167369                     </td><td>0.5986437                     </td></tr>\n",
       "\t<tr><td>nvoxelsb100                   </td><td>0.5986957                     </td><td>0.009188301                   </td><td>0.5806274                     </td><td>0.6167641                     </td><td>0.5986957                     </td></tr>\n",
       "\t<tr><td>nvoxelsc500                   </td><td>0.5989558                     </td><td>0.009152313                   </td><td>0.5809583                     </td><td>0.6169534                     </td><td>0.5989558                     </td></tr>\n",
       "\t<tr><td>nvoxelsd2500                  </td><td>0.6002564                     </td><td>0.009646761                   </td><td>0.5812866                     </td><td>0.6192263                     </td><td>0.6002564                     </td></tr>\n",
       "\t<tr><td>nvoxelse5000                  </td><td>0.6018822                     </td><td>0.011584439                   </td><td>0.5791020                     </td><td>0.6246624                     </td><td>0.6018822                     </td></tr>\n",
       "\t<tr><td>#patternsa20                  </td><td>0.5998388                     </td><td>0.011497378                   </td><td>0.5772298                     </td><td>0.6224478                     </td><td>0.5998388                     </td></tr>\n",
       "\t<tr><td>#patternsb40                  </td><td>0.5996837                     </td><td>0.010447240                   </td><td>0.5791397                     </td><td>0.6202276                     </td><td>0.5996837                     </td></tr>\n",
       "\t<tr><td>#patternsc80                  </td><td>0.5993734                     </td><td>0.009200026                   </td><td>0.5812820                     </td><td>0.6174647                     </td><td>0.5993734                     </td></tr>\n",
       "\t<tr><td>#patternsd160                 </td><td>0.5987527                     </td><td>0.011044156                   </td><td>0.5770350                     </td><td>0.6204705                     </td><td>0.5987527                     </td></tr>\n",
       "\t<tr><td>#patternse320                 </td><td>0.5975115                     </td><td>0.023281015                   </td><td>0.5517306                     </td><td>0.6432925                     </td><td>0.5975115                     </td></tr>\n",
       "\t<tr><td>Multi-Trial Multi-Time Point  </td><td>0.6292956                     </td><td>0.018457960                   </td><td>0.5929990                     </td><td>0.6655923                     </td><td>0.6292956                     </td></tr>\n",
       "\t<tr><td>Multi-Trial Single-Time Point </td><td>0.5575278                     </td><td>0.033786387                   </td><td>0.4910886                     </td><td>0.6239670                     </td><td>0.5575278                     </td></tr>\n",
       "\t<tr><td>Single Trial Multi-Time Point </td><td>0.5870715                     </td><td>0.018060194                   </td><td>0.5515570                     </td><td>0.6225859                     </td><td>0.5870715                     </td></tr>\n",
       "\t<tr><td>Single Trial Single-Time Point</td><td>0.5923080                     </td><td>0.022543595                   </td><td>0.5479771                     </td><td>0.6366388                     </td><td>0.5923080                     </td></tr>\n",
       "</tbody>\n",
       "</table>\n"
      ],
      "text/latex": [
       "\\begin{tabular}{r|llllll}\n",
       " B & fit & se & lower & upper & Accuracy\\\\\n",
       "\\hline\n",
       "\t smoothed                       & 0.6079858                      & 0.019961543                    & 0.5687325                      & 0.6472392                      & 0.6079858                     \\\\\n",
       "\t unsmooth                       & 0.5974899                      & 0.010353205                    & 0.5771308                      & 0.6178489                      & 0.5974899                     \\\\\n",
       "\t Perceptual                     & 0.5926876                      & 0.015936411                    & 0.5613495                      & 0.6240258                      & 0.5926876                     \\\\\n",
       "\t Response                       & 0.5928599                      & 0.018203457                    & 0.5570637                      & 0.6286560                      & 0.5928599                     \\\\\n",
       "\t Rule                           & 0.6118493                      & 0.013447830                    & 0.5854048                      & 0.6382937                      & 0.6118493                     \\\\\n",
       "\t Value                          & 0.5896271                      & 0.021343836                    & 0.5476555                      & 0.6315987                      & 0.5896271                     \\\\\n",
       "\t ROI                            & 0.5916349                      & 0.010728163                    & 0.5705385                      & 0.6127313                      & 0.5916349                     \\\\\n",
       "\t Searchlight Peak               & 0.6312259                      & 0.018988885                    & 0.5938852                      & 0.6685666                      & 0.6312259                     \\\\\n",
       "\t correlation                    & 0.6938768                      & 0.068820825                    & 0.5585442                      & 0.8292095                      & 0.6938768                     \\\\\n",
       "\t GNB                            & 0.5988827                      & 0.040263635                    & 0.5197063                      & 0.6780591                      & 0.5988827                     \\\\\n",
       "\t LDA                            & 0.6113752                      & 0.059179537                    & 0.4950017                      & 0.7277487                      & 0.6113752                     \\\\\n",
       "\t LogReg                         & 0.5882373                      & 0.028207944                    & 0.5327678                      & 0.6437068                      & 0.5882373                     \\\\\n",
       "\t svm-lin                        & 0.5929251                      & 0.010335197                    & 0.5726014                      & 0.6132487                      & 0.5929251                     \\\\\n",
       "\t svm-nonlin                     & 0.6982815                      & 0.038274331                    & 0.6230170                      & 0.7735460                      & 0.6982815                     \\\\\n",
       "\t 3T                             & 0.5994449                      & 0.009255197                    & 0.5812450                      & 0.6176447                      & 0.5994449                     \\\\\n",
       "\t 7T                             & 0.5957583                      & 0.035637325                    & 0.5256793                      & 0.6658373                      & 0.5957583                     \\\\\n",
       "\t coregistered                   & 0.5884688                      & 0.011918173                    & 0.5650323                      & 0.6119053                      & 0.5884688                     \\\\\n",
       "\t Native Space                   & 0.6122209                      & 0.014669200                    & 0.5833746                      & 0.6410671                      & 0.6122209                     \\\\\n",
       "\t None                           & 0.5719533                      & 0.018323317                    & 0.5359214                      & 0.6079851                      & 0.5719533                     \\\\\n",
       "\t Normalized Spatially           & 0.6350358                      & 0.031646925                    & 0.5728038                      & 0.6972679                      & 0.6350358                     \\\\\n",
       "\t Normalized Temporally          & 0.6160529                      & 0.014159213                    & 0.5882095                      & 0.6438962                      & 0.6160529                     \\\\\n",
       "\t n=10                           & 0.6033903                      & 0.011396911                    & 0.5809789                      & 0.6258018                      & 0.6033903                     \\\\\n",
       "\t n=20                           & 0.5984920                      & 0.009416841                    & 0.5799743                      & 0.6170098                      & 0.5984920                     \\\\\n",
       "\t n=30                           & 0.5935937                      & 0.014341074                    & 0.5653927                      & 0.6217947                      & 0.5935937                     \\\\\n",
       "\t n=40                           & 0.5886954                      & 0.021928477                    & 0.5455742                      & 0.6318166                      & 0.5886954                     \\\\\n",
       "\t 1mm\\textasciicircum{}3                          & 0.6018678                                        & 0.019039758                                      & 0.5644271                                        & 0.6393086                                        & 0.6018678                                       \\\\\n",
       "\t 21mm\\textasciicircum{}3                         & 0.6011529                                        & 0.014870700                                      & 0.5719104                                        & 0.6303954                                        & 0.6011529                                       \\\\\n",
       "\t 27mm\\textasciicircum{}3                         & 0.5992123                                        & 0.009334764                                      & 0.5808559                                        & 0.6175686                                        & 0.5992123                                       \\\\\n",
       "\t 64mm\\textasciicircum{}3                         & 0.5954332                                        & 0.029557516                                      & 0.5373098                                        & 0.6535565                                        & 0.5954332                                       \\\\\n",
       "\t nvoxelsa20                     & 0.5986437                      & 0.009200959                    & 0.5805505                      & 0.6167369                      & 0.5986437                     \\\\\n",
       "\t nvoxelsb100                    & 0.5986957                      & 0.009188301                    & 0.5806274                      & 0.6167641                      & 0.5986957                     \\\\\n",
       "\t nvoxelsc500                    & 0.5989558                      & 0.009152313                    & 0.5809583                      & 0.6169534                      & 0.5989558                     \\\\\n",
       "\t nvoxelsd2500                   & 0.6002564                      & 0.009646761                    & 0.5812866                      & 0.6192263                      & 0.6002564                     \\\\\n",
       "\t nvoxelse5000                   & 0.6018822                      & 0.011584439                    & 0.5791020                      & 0.6246624                      & 0.6018822                     \\\\\n",
       "\t \\#patternsa20                   & 0.5998388                        & 0.011497378                      & 0.5772298                        & 0.6224478                        & 0.5998388                       \\\\\n",
       "\t \\#patternsb40                   & 0.5996837                        & 0.010447240                      & 0.5791397                        & 0.6202276                        & 0.5996837                       \\\\\n",
       "\t \\#patternsc80                   & 0.5993734                        & 0.009200026                      & 0.5812820                        & 0.6174647                        & 0.5993734                       \\\\\n",
       "\t \\#patternsd160                  & 0.5987527                        & 0.011044156                      & 0.5770350                        & 0.6204705                        & 0.5987527                       \\\\\n",
       "\t \\#patternse320                  & 0.5975115                        & 0.023281015                      & 0.5517306                        & 0.6432925                        & 0.5975115                       \\\\\n",
       "\t Multi-Trial Multi-Time Point   & 0.6292956                      & 0.018457960                    & 0.5929990                      & 0.6655923                      & 0.6292956                     \\\\\n",
       "\t Multi-Trial Single-Time Point  & 0.5575278                      & 0.033786387                    & 0.4910886                      & 0.6239670                      & 0.5575278                     \\\\\n",
       "\t Single Trial Multi-Time Point  & 0.5870715                      & 0.018060194                    & 0.5515570                      & 0.6225859                      & 0.5870715                     \\\\\n",
       "\t Single Trial Single-Time Point & 0.5923080                      & 0.022543595                    & 0.5479771                      & 0.6366388                      & 0.5923080                     \\\\\n",
       "\\end{tabular}\n"
      ],
      "text/markdown": [
       "\n",
       "B | fit | se | lower | upper | Accuracy | \n",
       "|---|---|---|---|---|---|---|---|---|---|---|---|---|---|---|---|---|---|---|---|---|---|---|---|---|---|---|---|---|---|---|---|---|---|---|---|---|---|---|---|---|---|---|\n",
       "| smoothed                       | 0.6079858                      | 0.019961543                    | 0.5687325                      | 0.6472392                      | 0.6079858                      | \n",
       "| unsmooth                       | 0.5974899                      | 0.010353205                    | 0.5771308                      | 0.6178489                      | 0.5974899                      | \n",
       "| Perceptual                     | 0.5926876                      | 0.015936411                    | 0.5613495                      | 0.6240258                      | 0.5926876                      | \n",
       "| Response                       | 0.5928599                      | 0.018203457                    | 0.5570637                      | 0.6286560                      | 0.5928599                      | \n",
       "| Rule                           | 0.6118493                      | 0.013447830                    | 0.5854048                      | 0.6382937                      | 0.6118493                      | \n",
       "| Value                          | 0.5896271                      | 0.021343836                    | 0.5476555                      | 0.6315987                      | 0.5896271                      | \n",
       "| ROI                            | 0.5916349                      | 0.010728163                    | 0.5705385                      | 0.6127313                      | 0.5916349                      | \n",
       "| Searchlight Peak               | 0.6312259                      | 0.018988885                    | 0.5938852                      | 0.6685666                      | 0.6312259                      | \n",
       "| correlation                    | 0.6938768                      | 0.068820825                    | 0.5585442                      | 0.8292095                      | 0.6938768                      | \n",
       "| GNB                            | 0.5988827                      | 0.040263635                    | 0.5197063                      | 0.6780591                      | 0.5988827                      | \n",
       "| LDA                            | 0.6113752                      | 0.059179537                    | 0.4950017                      | 0.7277487                      | 0.6113752                      | \n",
       "| LogReg                         | 0.5882373                      | 0.028207944                    | 0.5327678                      | 0.6437068                      | 0.5882373                      | \n",
       "| svm-lin                        | 0.5929251                      | 0.010335197                    | 0.5726014                      | 0.6132487                      | 0.5929251                      | \n",
       "| svm-nonlin                     | 0.6982815                      | 0.038274331                    | 0.6230170                      | 0.7735460                      | 0.6982815                      | \n",
       "| 3T                             | 0.5994449                      | 0.009255197                    | 0.5812450                      | 0.6176447                      | 0.5994449                      | \n",
       "| 7T                             | 0.5957583                      | 0.035637325                    | 0.5256793                      | 0.6658373                      | 0.5957583                      | \n",
       "| coregistered                   | 0.5884688                      | 0.011918173                    | 0.5650323                      | 0.6119053                      | 0.5884688                      | \n",
       "| Native Space                   | 0.6122209                      | 0.014669200                    | 0.5833746                      | 0.6410671                      | 0.6122209                      | \n",
       "| None                           | 0.5719533                      | 0.018323317                    | 0.5359214                      | 0.6079851                      | 0.5719533                      | \n",
       "| Normalized Spatially           | 0.6350358                      | 0.031646925                    | 0.5728038                      | 0.6972679                      | 0.6350358                      | \n",
       "| Normalized Temporally          | 0.6160529                      | 0.014159213                    | 0.5882095                      | 0.6438962                      | 0.6160529                      | \n",
       "| n=10                           | 0.6033903                      | 0.011396911                    | 0.5809789                      | 0.6258018                      | 0.6033903                      | \n",
       "| n=20                           | 0.5984920                      | 0.009416841                    | 0.5799743                      | 0.6170098                      | 0.5984920                      | \n",
       "| n=30                           | 0.5935937                      | 0.014341074                    | 0.5653927                      | 0.6217947                      | 0.5935937                      | \n",
       "| n=40                           | 0.5886954                      | 0.021928477                    | 0.5455742                      | 0.6318166                      | 0.5886954                      | \n",
       "| 1mm^3                          | 0.6018678                      | 0.019039758                    | 0.5644271                      | 0.6393086                      | 0.6018678                      | \n",
       "| 21mm^3                         | 0.6011529                      | 0.014870700                    | 0.5719104                      | 0.6303954                      | 0.6011529                      | \n",
       "| 27mm^3                         | 0.5992123                      | 0.009334764                    | 0.5808559                      | 0.6175686                      | 0.5992123                      | \n",
       "| 64mm^3                         | 0.5954332                      | 0.029557516                    | 0.5373098                      | 0.6535565                      | 0.5954332                      | \n",
       "| nvoxelsa20                     | 0.5986437                      | 0.009200959                    | 0.5805505                      | 0.6167369                      | 0.5986437                      | \n",
       "| nvoxelsb100                    | 0.5986957                      | 0.009188301                    | 0.5806274                      | 0.6167641                      | 0.5986957                      | \n",
       "| nvoxelsc500                    | 0.5989558                      | 0.009152313                    | 0.5809583                      | 0.6169534                      | 0.5989558                      | \n",
       "| nvoxelsd2500                   | 0.6002564                      | 0.009646761                    | 0.5812866                      | 0.6192263                      | 0.6002564                      | \n",
       "| nvoxelse5000                   | 0.6018822                      | 0.011584439                    | 0.5791020                      | 0.6246624                      | 0.6018822                      | \n",
       "| #patternsa20                   | 0.5998388                      | 0.011497378                    | 0.5772298                      | 0.6224478                      | 0.5998388                      | \n",
       "| #patternsb40                   | 0.5996837                      | 0.010447240                    | 0.5791397                      | 0.6202276                      | 0.5996837                      | \n",
       "| #patternsc80                   | 0.5993734                      | 0.009200026                    | 0.5812820                      | 0.6174647                      | 0.5993734                      | \n",
       "| #patternsd160                  | 0.5987527                      | 0.011044156                    | 0.5770350                      | 0.6204705                      | 0.5987527                      | \n",
       "| #patternse320                  | 0.5975115                      | 0.023281015                    | 0.5517306                      | 0.6432925                      | 0.5975115                      | \n",
       "| Multi-Trial Multi-Time Point   | 0.6292956                      | 0.018457960                    | 0.5929990                      | 0.6655923                      | 0.6292956                      | \n",
       "| Multi-Trial Single-Time Point  | 0.5575278                      | 0.033786387                    | 0.4910886                      | 0.6239670                      | 0.5575278                      | \n",
       "| Single Trial Multi-Time Point  | 0.5870715                      | 0.018060194                    | 0.5515570                      | 0.6225859                      | 0.5870715                      | \n",
       "| Single Trial Single-Time Point | 0.5923080                      | 0.022543595                    | 0.5479771                      | 0.6366388                      | 0.5923080                      | \n",
       "\n",
       "\n"
      ],
      "text/plain": [
       "   B                              fit       se          lower     upper    \n",
       "1  smoothed                       0.6079858 0.019961543 0.5687325 0.6472392\n",
       "2  unsmooth                       0.5974899 0.010353205 0.5771308 0.6178489\n",
       "3  Perceptual                     0.5926876 0.015936411 0.5613495 0.6240258\n",
       "4  Response                       0.5928599 0.018203457 0.5570637 0.6286560\n",
       "5  Rule                           0.6118493 0.013447830 0.5854048 0.6382937\n",
       "6  Value                          0.5896271 0.021343836 0.5476555 0.6315987\n",
       "7  ROI                            0.5916349 0.010728163 0.5705385 0.6127313\n",
       "8  Searchlight Peak               0.6312259 0.018988885 0.5938852 0.6685666\n",
       "9  correlation                    0.6938768 0.068820825 0.5585442 0.8292095\n",
       "10 GNB                            0.5988827 0.040263635 0.5197063 0.6780591\n",
       "11 LDA                            0.6113752 0.059179537 0.4950017 0.7277487\n",
       "12 LogReg                         0.5882373 0.028207944 0.5327678 0.6437068\n",
       "13 svm-lin                        0.5929251 0.010335197 0.5726014 0.6132487\n",
       "14 svm-nonlin                     0.6982815 0.038274331 0.6230170 0.7735460\n",
       "15 3T                             0.5994449 0.009255197 0.5812450 0.6176447\n",
       "16 7T                             0.5957583 0.035637325 0.5256793 0.6658373\n",
       "17 coregistered                   0.5884688 0.011918173 0.5650323 0.6119053\n",
       "18 Native Space                   0.6122209 0.014669200 0.5833746 0.6410671\n",
       "19 None                           0.5719533 0.018323317 0.5359214 0.6079851\n",
       "20 Normalized Spatially           0.6350358 0.031646925 0.5728038 0.6972679\n",
       "21 Normalized Temporally          0.6160529 0.014159213 0.5882095 0.6438962\n",
       "22 n=10                           0.6033903 0.011396911 0.5809789 0.6258018\n",
       "23 n=20                           0.5984920 0.009416841 0.5799743 0.6170098\n",
       "24 n=30                           0.5935937 0.014341074 0.5653927 0.6217947\n",
       "25 n=40                           0.5886954 0.021928477 0.5455742 0.6318166\n",
       "26 1mm^3                          0.6018678 0.019039758 0.5644271 0.6393086\n",
       "27 21mm^3                         0.6011529 0.014870700 0.5719104 0.6303954\n",
       "28 27mm^3                         0.5992123 0.009334764 0.5808559 0.6175686\n",
       "29 64mm^3                         0.5954332 0.029557516 0.5373098 0.6535565\n",
       "30 nvoxelsa20                     0.5986437 0.009200959 0.5805505 0.6167369\n",
       "31 nvoxelsb100                    0.5986957 0.009188301 0.5806274 0.6167641\n",
       "32 nvoxelsc500                    0.5989558 0.009152313 0.5809583 0.6169534\n",
       "33 nvoxelsd2500                   0.6002564 0.009646761 0.5812866 0.6192263\n",
       "34 nvoxelse5000                   0.6018822 0.011584439 0.5791020 0.6246624\n",
       "35 #patternsa20                   0.5998388 0.011497378 0.5772298 0.6224478\n",
       "36 #patternsb40                   0.5996837 0.010447240 0.5791397 0.6202276\n",
       "37 #patternsc80                   0.5993734 0.009200026 0.5812820 0.6174647\n",
       "38 #patternsd160                  0.5987527 0.011044156 0.5770350 0.6204705\n",
       "39 #patternse320                  0.5975115 0.023281015 0.5517306 0.6432925\n",
       "40 Multi-Trial Multi-Time Point   0.6292956 0.018457960 0.5929990 0.6655923\n",
       "41 Multi-Trial Single-Time Point  0.5575278 0.033786387 0.4910886 0.6239670\n",
       "42 Single Trial Multi-Time Point  0.5870715 0.018060194 0.5515570 0.6225859\n",
       "43 Single Trial Single-Time Point 0.5923080 0.022543595 0.5479771 0.6366388\n",
       "   Accuracy \n",
       "1  0.6079858\n",
       "2  0.5974899\n",
       "3  0.5926876\n",
       "4  0.5928599\n",
       "5  0.6118493\n",
       "6  0.5896271\n",
       "7  0.5916349\n",
       "8  0.6312259\n",
       "9  0.6938768\n",
       "10 0.5988827\n",
       "11 0.6113752\n",
       "12 0.5882373\n",
       "13 0.5929251\n",
       "14 0.6982815\n",
       "15 0.5994449\n",
       "16 0.5957583\n",
       "17 0.5884688\n",
       "18 0.6122209\n",
       "19 0.5719533\n",
       "20 0.6350358\n",
       "21 0.6160529\n",
       "22 0.6033903\n",
       "23 0.5984920\n",
       "24 0.5935937\n",
       "25 0.5886954\n",
       "26 0.6018678\n",
       "27 0.6011529\n",
       "28 0.5992123\n",
       "29 0.5954332\n",
       "30 0.5986437\n",
       "31 0.5986957\n",
       "32 0.5989558\n",
       "33 0.6002564\n",
       "34 0.6018822\n",
       "35 0.5998388\n",
       "36 0.5996837\n",
       "37 0.5993734\n",
       "38 0.5987527\n",
       "39 0.5975115\n",
       "40 0.6292956\n",
       "41 0.5575278\n",
       "42 0.5870715\n",
       "43 0.5923080"
      ]
     },
     "metadata": {},
     "output_type": "display_data"
    }
   ],
   "source": [
    "dd_all"
   ]
  },
  {
   "cell_type": "code",
   "execution_count": 49,
   "metadata": {},
   "outputs": [
    {
     "name": "stderr",
     "output_type": "stream",
     "text": [
      "Warning message in data.table(name = R5names, se = se, Accuracy = fits):\n",
      "“Item 2 is of size 36 but maximum size is 37 (recycled leaving remainder of 1 items)”Warning message in data.table(name = R5names, se = se, Accuracy = fits):\n",
      "“Item 3 is of size 36 but maximum size is 37 (recycled leaving remainder of 1 items)”"
     ]
    }
   ],
   "source": [
    "### Region\n",
    "fits<-c()\n",
    "se<-c()\n",
    "i=1\n",
    "for (name in R5names){\n",
    "    if(i<length(R5names)){\n",
    "    ef<-effect(name,full_model)\n",
    "    fits[i]<-tail(ef$fit, n=1)\n",
    "    se[i]<-tail(ef$se, n=1)\n",
    "    i=i+1\n",
    "    }\n",
    "}\n",
    "dd_region = data.table(name=R5names,se=se,Accuracy=fits)\n"
   ]
  },
  {
   "cell_type": "code",
   "execution_count": 50,
   "metadata": {},
   "outputs": [
    {
     "data": {
      "text/html": [
       "<ol class=list-inline>\n",
       "\t<li>'Frontal_Sup_L'</li>\n",
       "\t<li>'Frontal_Sup_R'</li>\n",
       "\t<li>'Frontal_Sup_Orb_L'</li>\n",
       "\t<li>'Frontal_Sup_Orb_R'</li>\n",
       "\t<li>'Frontal_Mid_L'</li>\n",
       "\t<li>'Frontal_Mid_R'</li>\n",
       "\t<li>'Frontal_Mid_Orb_L'</li>\n",
       "\t<li>'Frontal_Mid_Orb_R'</li>\n",
       "\t<li>'Frontal_Inf_Oper_L'</li>\n",
       "\t<li>'Frontal_Inf_Oper_R'</li>\n",
       "\t<li>'Frontal_Inf_Tri_L'</li>\n",
       "\t<li>'Frontal_Inf_Tri_R'</li>\n",
       "\t<li>'Frontal_Inf_Orb_L'</li>\n",
       "\t<li>'Frontal_Inf_Orb_R'</li>\n",
       "\t<li>'Supp_Motor_Area_L'</li>\n",
       "\t<li>'Supp_Motor_Area_R'</li>\n",
       "\t<li>'Frontal_Sup_Medial_L'</li>\n",
       "\t<li>'Frontal_Sup_Medial_R'</li>\n",
       "\t<li>'Insula_L'</li>\n",
       "\t<li>'Insula_R'</li>\n",
       "\t<li>'Cingulum_Ant_L'</li>\n",
       "\t<li>'Cingulum_Ant_R'</li>\n",
       "\t<li>'Cingulum_Mid_L'</li>\n",
       "\t<li>'Precentral_L'</li>\n",
       "\t<li>'Precentral_R'</li>\n",
       "\t<li>'Frontal_Inf_Tri_L.Frontal_Inf_Tri_R'</li>\n",
       "\t<li>'Insula_L.Insula_R'</li>\n",
       "\t<li>'Frontal_Sup_Medial_L.Frontal_Sup_Medial_R'</li>\n",
       "\t<li>'Frontal_Mid_L.Frontal_Mid_R'</li>\n",
       "\t<li>'Precentral_L.Precentral_R'</li>\n",
       "\t<li>'Supp_Motor_Area_L.Supp_Motor_Area_R'</li>\n",
       "\t<li>'Frontal_Sup_L.Frontal_Sup_R'</li>\n",
       "\t<li>'Frontal_Inf_Oper_L.Frontal_Inf_Oper_R'</li>\n",
       "\t<li>'Cingulum_Mid_L.Cingulum_Mid_R'</li>\n",
       "\t<li>'Cingulum_Ant_L.Cingulum_Ant_R'</li>\n",
       "\t<li>'Frontal_Inf_Orb_L.Frontal_Inf_Orb_R'</li>\n",
       "\t<li>'Frontal_Mid_Orb_L.Frontal_Mid_Orb_R'</li>\n",
       "</ol>\n"
      ],
      "text/latex": [
       "\\begin{enumerate*}\n",
       "\\item 'Frontal\\_Sup\\_L'\n",
       "\\item 'Frontal\\_Sup\\_R'\n",
       "\\item 'Frontal\\_Sup\\_Orb\\_L'\n",
       "\\item 'Frontal\\_Sup\\_Orb\\_R'\n",
       "\\item 'Frontal\\_Mid\\_L'\n",
       "\\item 'Frontal\\_Mid\\_R'\n",
       "\\item 'Frontal\\_Mid\\_Orb\\_L'\n",
       "\\item 'Frontal\\_Mid\\_Orb\\_R'\n",
       "\\item 'Frontal\\_Inf\\_Oper\\_L'\n",
       "\\item 'Frontal\\_Inf\\_Oper\\_R'\n",
       "\\item 'Frontal\\_Inf\\_Tri\\_L'\n",
       "\\item 'Frontal\\_Inf\\_Tri\\_R'\n",
       "\\item 'Frontal\\_Inf\\_Orb\\_L'\n",
       "\\item 'Frontal\\_Inf\\_Orb\\_R'\n",
       "\\item 'Supp\\_Motor\\_Area\\_L'\n",
       "\\item 'Supp\\_Motor\\_Area\\_R'\n",
       "\\item 'Frontal\\_Sup\\_Medial\\_L'\n",
       "\\item 'Frontal\\_Sup\\_Medial\\_R'\n",
       "\\item 'Insula\\_L'\n",
       "\\item 'Insula\\_R'\n",
       "\\item 'Cingulum\\_Ant\\_L'\n",
       "\\item 'Cingulum\\_Ant\\_R'\n",
       "\\item 'Cingulum\\_Mid\\_L'\n",
       "\\item 'Precentral\\_L'\n",
       "\\item 'Precentral\\_R'\n",
       "\\item 'Frontal\\_Inf\\_Tri\\_L.Frontal\\_Inf\\_Tri\\_R'\n",
       "\\item 'Insula\\_L.Insula\\_R'\n",
       "\\item 'Frontal\\_Sup\\_Medial\\_L.Frontal\\_Sup\\_Medial\\_R'\n",
       "\\item 'Frontal\\_Mid\\_L.Frontal\\_Mid\\_R'\n",
       "\\item 'Precentral\\_L.Precentral\\_R'\n",
       "\\item 'Supp\\_Motor\\_Area\\_L.Supp\\_Motor\\_Area\\_R'\n",
       "\\item 'Frontal\\_Sup\\_L.Frontal\\_Sup\\_R'\n",
       "\\item 'Frontal\\_Inf\\_Oper\\_L.Frontal\\_Inf\\_Oper\\_R'\n",
       "\\item 'Cingulum\\_Mid\\_L.Cingulum\\_Mid\\_R'\n",
       "\\item 'Cingulum\\_Ant\\_L.Cingulum\\_Ant\\_R'\n",
       "\\item 'Frontal\\_Inf\\_Orb\\_L.Frontal\\_Inf\\_Orb\\_R'\n",
       "\\item 'Frontal\\_Mid\\_Orb\\_L.Frontal\\_Mid\\_Orb\\_R'\n",
       "\\end{enumerate*}\n"
      ],
      "text/markdown": [
       "1. 'Frontal_Sup_L'\n",
       "2. 'Frontal_Sup_R'\n",
       "3. 'Frontal_Sup_Orb_L'\n",
       "4. 'Frontal_Sup_Orb_R'\n",
       "5. 'Frontal_Mid_L'\n",
       "6. 'Frontal_Mid_R'\n",
       "7. 'Frontal_Mid_Orb_L'\n",
       "8. 'Frontal_Mid_Orb_R'\n",
       "9. 'Frontal_Inf_Oper_L'\n",
       "10. 'Frontal_Inf_Oper_R'\n",
       "11. 'Frontal_Inf_Tri_L'\n",
       "12. 'Frontal_Inf_Tri_R'\n",
       "13. 'Frontal_Inf_Orb_L'\n",
       "14. 'Frontal_Inf_Orb_R'\n",
       "15. 'Supp_Motor_Area_L'\n",
       "16. 'Supp_Motor_Area_R'\n",
       "17. 'Frontal_Sup_Medial_L'\n",
       "18. 'Frontal_Sup_Medial_R'\n",
       "19. 'Insula_L'\n",
       "20. 'Insula_R'\n",
       "21. 'Cingulum_Ant_L'\n",
       "22. 'Cingulum_Ant_R'\n",
       "23. 'Cingulum_Mid_L'\n",
       "24. 'Precentral_L'\n",
       "25. 'Precentral_R'\n",
       "26. 'Frontal_Inf_Tri_L.Frontal_Inf_Tri_R'\n",
       "27. 'Insula_L.Insula_R'\n",
       "28. 'Frontal_Sup_Medial_L.Frontal_Sup_Medial_R'\n",
       "29. 'Frontal_Mid_L.Frontal_Mid_R'\n",
       "30. 'Precentral_L.Precentral_R'\n",
       "31. 'Supp_Motor_Area_L.Supp_Motor_Area_R'\n",
       "32. 'Frontal_Sup_L.Frontal_Sup_R'\n",
       "33. 'Frontal_Inf_Oper_L.Frontal_Inf_Oper_R'\n",
       "34. 'Cingulum_Mid_L.Cingulum_Mid_R'\n",
       "35. 'Cingulum_Ant_L.Cingulum_Ant_R'\n",
       "36. 'Frontal_Inf_Orb_L.Frontal_Inf_Orb_R'\n",
       "37. 'Frontal_Mid_Orb_L.Frontal_Mid_Orb_R'\n",
       "\n",
       "\n"
      ],
      "text/plain": [
       " [1] \"Frontal_Sup_L\"                            \n",
       " [2] \"Frontal_Sup_R\"                            \n",
       " [3] \"Frontal_Sup_Orb_L\"                        \n",
       " [4] \"Frontal_Sup_Orb_R\"                        \n",
       " [5] \"Frontal_Mid_L\"                            \n",
       " [6] \"Frontal_Mid_R\"                            \n",
       " [7] \"Frontal_Mid_Orb_L\"                        \n",
       " [8] \"Frontal_Mid_Orb_R\"                        \n",
       " [9] \"Frontal_Inf_Oper_L\"                       \n",
       "[10] \"Frontal_Inf_Oper_R\"                       \n",
       "[11] \"Frontal_Inf_Tri_L\"                        \n",
       "[12] \"Frontal_Inf_Tri_R\"                        \n",
       "[13] \"Frontal_Inf_Orb_L\"                        \n",
       "[14] \"Frontal_Inf_Orb_R\"                        \n",
       "[15] \"Supp_Motor_Area_L\"                        \n",
       "[16] \"Supp_Motor_Area_R\"                        \n",
       "[17] \"Frontal_Sup_Medial_L\"                     \n",
       "[18] \"Frontal_Sup_Medial_R\"                     \n",
       "[19] \"Insula_L\"                                 \n",
       "[20] \"Insula_R\"                                 \n",
       "[21] \"Cingulum_Ant_L\"                           \n",
       "[22] \"Cingulum_Ant_R\"                           \n",
       "[23] \"Cingulum_Mid_L\"                           \n",
       "[24] \"Precentral_L\"                             \n",
       "[25] \"Precentral_R\"                             \n",
       "[26] \"Frontal_Inf_Tri_L.Frontal_Inf_Tri_R\"      \n",
       "[27] \"Insula_L.Insula_R\"                        \n",
       "[28] \"Frontal_Sup_Medial_L.Frontal_Sup_Medial_R\"\n",
       "[29] \"Frontal_Mid_L.Frontal_Mid_R\"              \n",
       "[30] \"Precentral_L.Precentral_R\"                \n",
       "[31] \"Supp_Motor_Area_L.Supp_Motor_Area_R\"      \n",
       "[32] \"Frontal_Sup_L.Frontal_Sup_R\"              \n",
       "[33] \"Frontal_Inf_Oper_L.Frontal_Inf_Oper_R\"    \n",
       "[34] \"Cingulum_Mid_L.Cingulum_Mid_R\"            \n",
       "[35] \"Cingulum_Ant_L.Cingulum_Ant_R\"            \n",
       "[36] \"Frontal_Inf_Orb_L.Frontal_Inf_Orb_R\"      \n",
       "[37] \"Frontal_Mid_Orb_L.Frontal_Mid_Orb_R\"      "
      ]
     },
     "metadata": {},
     "output_type": "display_data"
    }
   ],
   "source": [
    "R5names"
   ]
  },
  {
   "cell_type": "code",
   "execution_count": 51,
   "metadata": {
    "collapsed": true
   },
   "outputs": [],
   "source": [
    "rlabels = c('Left superior frontal gyrus',\n",
    "            'Right superior frontal gyrus',\n",
    "            'Left superior frontal gyrus, orbital part',\n",
    "            'Right superior frontal gyrus, orbital part',\n",
    "            'Left middle frontal gyrus',\n",
    "            'Right middle frontal gyrus',\n",
    "            'Left middle frontal gyrus, orbital part',\n",
    "            'Right middle frontal gyrus, orbital part',\n",
    "            'Left inferior frontal gyrus, pars opercularis',\n",
    "            'Right inferior frontal gyrus, pars opercularis',\n",
    "            'Left inferior frontal gyrus, pars triangularis',\n",
    "            'Right inferior frontal gyrus, pars triangularis',\n",
    "            'Left inferior frontal gyrus, pars orbitalis',\n",
    "            'Right inferior frontal gyrus, pars orbitalis',\n",
    "            'Left supplementary motor area',\n",
    "            'Right supplementary motor area',\n",
    "            'Left medial frontal gyrus',\n",
    "            'Right medial frontal gyrus',\n",
    "            'Left insula',\n",
    "            'Right insula',\n",
    "            'Left anterior cingulate gyrus',\n",
    "            'Right anterior cingulate gyrus',\n",
    "            'Left midcingulate area',\n",
    "            'Left precentral gyrus',\n",
    "            'Right precentral gyrus',\n",
    "            'Bilateral medial frontal gyrus',   \n",
    "            'Bilateral midcingulate area',\n",
    "            'Bilateral middle frontal gyrus',\n",
    "            'Bilateral precentral gyrus',\n",
    "            'Bilateral inferior frontal gyrus, pars orbitalis',\n",
    "            'Bilateral insula',        \n",
    "            'Bilateral inferior frontal gyrus, pars triangularis',\n",
    "            'Bilateral anterior cingulate gyrus',\n",
    "            'Bilateral superior frontal gyrus',\n",
    "            'Bilateral supplementary motor area',\n",
    "            'Bilateral inferior frontal gyrus, pars opercularis',\n",
    "            'Bilateral middle frontal gyrus, orbital part')\n",
    "\n"
   ]
  },
  {
   "cell_type": "code",
   "execution_count": 40,
   "metadata": {
    "collapsed": true
   },
   "outputs": [],
   "source": [
    "# r = 1\n",
    "# for (region in R5names){\n",
    "#     print(region)\n",
    "#     print(rlabels[r])\n",
    "#     print('')\n",
    "#     r=r+1\n",
    "    \n",
    "# }"
   ]
  },
  {
   "cell_type": "code",
   "execution_count": 70,
   "metadata": {
    "collapsed": true
   },
   "outputs": [],
   "source": [
    "alabels = c('Smoothed','Unsmooth',\n",
    "            'Perceptual','Response','Rule','Value',\n",
    "            'ROI','Searchlight peak',\n",
    "            'Correlation','GNB','LDA','Logreg','SVM-lin','SVM-nonlin',\n",
    "            '3T','7T',\n",
    "            'Coregistered','Native space',\n",
    "            'No normalization','Normalized spatially','Normalized temporally',\n",
    "            'n=10','n=20','n=30','n=40',\n",
    "            '1mm^3','8mm^3','27mm^3','64mm^3',\n",
    "            '20 voxels','100 voxels','500 voxels','2500 voxels','5000 voxels',\n",
    "            '20 training patterns','40 training patterns','80 training patterns',\n",
    "            '160 training patterns','320 training patterns',\n",
    "            'Averaging across both','Averaging across trials',\n",
    "            'Averaging across TRs','No temporal averaging')"
   ]
  },
  {
   "cell_type": "code",
   "execution_count": 71,
   "metadata": {},
   "outputs": [
    {
     "data": {
      "text/html": [
       "<ol class=list-inline>\n",
       "\t<li>smoothed</li>\n",
       "\t<li>unsmooth</li>\n",
       "\t<li>Perceptual</li>\n",
       "\t<li>Response</li>\n",
       "\t<li>Rule</li>\n",
       "\t<li>Value</li>\n",
       "\t<li>ROI</li>\n",
       "\t<li>Searchlight Peak</li>\n",
       "\t<li>correlation</li>\n",
       "\t<li>GNB</li>\n",
       "\t<li>LDA</li>\n",
       "\t<li>LogReg</li>\n",
       "\t<li>svm-lin</li>\n",
       "\t<li>svm-nonlin</li>\n",
       "\t<li>3T</li>\n",
       "\t<li>7T</li>\n",
       "\t<li>coregistered</li>\n",
       "\t<li>Native Space</li>\n",
       "\t<li>None</li>\n",
       "\t<li>Normalized Spatially</li>\n",
       "\t<li>Normalized Temporally</li>\n",
       "\t<li>n=10</li>\n",
       "\t<li>n=20</li>\n",
       "\t<li>n=30</li>\n",
       "\t<li>n=40</li>\n",
       "\t<li>1mm^3</li>\n",
       "\t<li>21mm^3</li>\n",
       "\t<li>27mm^3</li>\n",
       "\t<li>64mm^3</li>\n",
       "\t<li>nvoxelsa20</li>\n",
       "\t<li>nvoxelsb100</li>\n",
       "\t<li>nvoxelsc500</li>\n",
       "\t<li>nvoxelsd2500</li>\n",
       "\t<li>nvoxelse5000</li>\n",
       "\t<li>#patternsa20</li>\n",
       "\t<li>#patternsb40</li>\n",
       "\t<li>#patternsc80</li>\n",
       "\t<li>#patternsd160</li>\n",
       "\t<li>#patternse320</li>\n",
       "\t<li>Multi-Trial Multi-Time Point</li>\n",
       "\t<li>Multi-Trial Single-Time Point</li>\n",
       "\t<li>Single Trial Multi-Time Point</li>\n",
       "\t<li>Single Trial Single-Time Point</li>\n",
       "</ol>\n"
      ],
      "text/latex": [
       "\\begin{enumerate*}\n",
       "\\item smoothed\n",
       "\\item unsmooth\n",
       "\\item Perceptual\n",
       "\\item Response\n",
       "\\item Rule\n",
       "\\item Value\n",
       "\\item ROI\n",
       "\\item Searchlight Peak\n",
       "\\item correlation\n",
       "\\item GNB\n",
       "\\item LDA\n",
       "\\item LogReg\n",
       "\\item svm-lin\n",
       "\\item svm-nonlin\n",
       "\\item 3T\n",
       "\\item 7T\n",
       "\\item coregistered\n",
       "\\item Native Space\n",
       "\\item None\n",
       "\\item Normalized Spatially\n",
       "\\item Normalized Temporally\n",
       "\\item n=10\n",
       "\\item n=20\n",
       "\\item n=30\n",
       "\\item n=40\n",
       "\\item 1mm\\textasciicircum{}3\n",
       "\\item 21mm\\textasciicircum{}3\n",
       "\\item 27mm\\textasciicircum{}3\n",
       "\\item 64mm\\textasciicircum{}3\n",
       "\\item nvoxelsa20\n",
       "\\item nvoxelsb100\n",
       "\\item nvoxelsc500\n",
       "\\item nvoxelsd2500\n",
       "\\item nvoxelse5000\n",
       "\\item \\#patternsa20\n",
       "\\item \\#patternsb40\n",
       "\\item \\#patternsc80\n",
       "\\item \\#patternsd160\n",
       "\\item \\#patternse320\n",
       "\\item Multi-Trial Multi-Time Point\n",
       "\\item Multi-Trial Single-Time Point\n",
       "\\item Single Trial Multi-Time Point\n",
       "\\item Single Trial Single-Time Point\n",
       "\\end{enumerate*}\n"
      ],
      "text/markdown": [
       "1. smoothed\n",
       "2. unsmooth\n",
       "3. Perceptual\n",
       "4. Response\n",
       "5. Rule\n",
       "6. Value\n",
       "7. ROI\n",
       "8. Searchlight Peak\n",
       "9. correlation\n",
       "10. GNB\n",
       "11. LDA\n",
       "12. LogReg\n",
       "13. svm-lin\n",
       "14. svm-nonlin\n",
       "15. 3T\n",
       "16. 7T\n",
       "17. coregistered\n",
       "18. Native Space\n",
       "19. None\n",
       "20. Normalized Spatially\n",
       "21. Normalized Temporally\n",
       "22. n=10\n",
       "23. n=20\n",
       "24. n=30\n",
       "25. n=40\n",
       "26. 1mm^3\n",
       "27. 21mm^3\n",
       "28. 27mm^3\n",
       "29. 64mm^3\n",
       "30. nvoxelsa20\n",
       "31. nvoxelsb100\n",
       "32. nvoxelsc500\n",
       "33. nvoxelsd2500\n",
       "34. nvoxelse5000\n",
       "35. #patternsa20\n",
       "36. #patternsb40\n",
       "37. #patternsc80\n",
       "38. #patternsd160\n",
       "39. #patternse320\n",
       "40. Multi-Trial Multi-Time Point\n",
       "41. Multi-Trial Single-Time Point\n",
       "42. Single Trial Multi-Time Point\n",
       "43. Single Trial Single-Time Point\n",
       "\n",
       "\n"
      ],
      "text/plain": [
       " [1] smoothed                       unsmooth                      \n",
       " [3] Perceptual                     Response                      \n",
       " [5] Rule                           Value                         \n",
       " [7] ROI                            Searchlight Peak              \n",
       " [9] correlation                    GNB                           \n",
       "[11] LDA                            LogReg                        \n",
       "[13] svm-lin                        svm-nonlin                    \n",
       "[15] 3T                             7T                            \n",
       "[17] coregistered                   Native Space                  \n",
       "[19] None                           Normalized Spatially          \n",
       "[21] Normalized Temporally          n=10                          \n",
       "[23] n=20                           n=30                          \n",
       "[25] n=40                           1mm^3                         \n",
       "[27] 21mm^3                         27mm^3                        \n",
       "[29] 64mm^3                         nvoxelsa20                    \n",
       "[31] nvoxelsb100                    nvoxelsc500                   \n",
       "[33] nvoxelsd2500                   nvoxelse5000                  \n",
       "[35] #patternsa20                   #patternsb40                  \n",
       "[37] #patternsc80                   #patternsd160                 \n",
       "[39] #patternse320                  Multi-Trial Multi-Time Point  \n",
       "[41] Multi-Trial Single-Time Point  Single Trial Multi-Time Point \n",
       "[43] Single Trial Single-Time Point\n",
       "43 Levels: smoothed unsmooth Perceptual Response Rule Value ... Single Trial Single-Time Point"
      ]
     },
     "metadata": {},
     "output_type": "display_data"
    }
   ],
   "source": [
    "dd_all$B"
   ]
  },
  {
   "cell_type": "code",
   "execution_count": 72,
   "metadata": {
    "collapsed": true
   },
   "outputs": [],
   "source": [
    "# p1 <-ggplot(aes(y = Accuracy, x = B,ymax = Accuracy + se, ymin=Accuracy - se), \n",
    "#             data = dd_all) +geom_point(size=1)+geom_errorbar(width=0.3)\n",
    "# p1<-p1+theme(axis.text.x = element_text(angle = 90, hjust = 1,size=textsize,vjust=0.5,\n",
    "#                                         family='Helvetica',colour='black'))\n",
    "# p1"
   ]
  },
  {
   "cell_type": "code",
   "execution_count": 74,
   "metadata": {},
   "outputs": [
    {
     "data": {
      "text/html": [
       "<strong>pdf:</strong> 2"
      ],
      "text/latex": [
       "\\textbf{pdf:} 2"
      ],
      "text/markdown": [
       "**pdf:** 2"
      ],
      "text/plain": [
       "pdf \n",
       "  2 "
      ]
     },
     "metadata": {},
     "output_type": "display_data"
    },
    {
     "data": {
      "image/png": "[encoded data removed]"
     },
     "metadata": {},
     "output_type": "display_data"
    }
   ],
   "source": [
    "\n",
    "### Plot \n",
    "\n",
    "mainlinewidth=.5\n",
    "textsize = 8\n",
    "labelsize = 8\n",
    "\n",
    "\n",
    "## Analysis Features \n",
    "p1 <-ggplot(aes(y = Accuracy, x = B,ymax = Accuracy + se, ymin=Accuracy - se), \n",
    "            data = dd_all) +\n",
    "geom_point(size=1)+geom_errorbar(width=0.3)\n",
    "\n",
    "## Regions\n",
    "p10 <- ggplot(aes(y = Accuracy, x = name,ymax = Accuracy + se, ymin=Accuracy - se), \n",
    "              data = dd_region) +\n",
    "geom_point(size=1)+geom_errorbar(width=0.3)\n",
    "\n",
    "p10<-p10+scale_x_discrete(labels=rlabels)\n",
    "p10<-p10+xlab('Region')\n",
    "p10<-p10+ylab('Decoding accuracy')\n",
    "p1<-p1+xlab('Analysis procedure')\n",
    "p1<-p1+ylab('Decoding accuracy')\n",
    "\n",
    "p1<-p1+theme(panel.background=element_blank())\n",
    "p1<-p1+scale_x_discrete(labels=alabels)\n",
    "p10<-p10+theme(panel.background=element_blank())\n",
    "\n",
    "\n",
    "p10<-p10+theme(axis.line.x = element_line(color=\"black\", size =mainlinewidth),\n",
    "        axis.line.y = element_line(color=\"black\", size = mainlinewidth))\n",
    "p1<-p1+theme(axis.line.x = element_line(color=\"black\", size = mainlinewidth),\n",
    "        axis.line.y = element_line(color=\"black\", size =mainlinewidth))\n",
    "\n",
    "\n",
    "p10<-p10+theme(axis.text.y = element_text(size=textsize,family='Helvetica',colour='black'))\n",
    "p10<-p10+theme(axis.text.x = element_text(angle = 90, hjust = 1,size=textsize,vjust=0.5,\n",
    "                                          family='Helvetica',colour='black'))\n",
    "p10<-p10+theme(plot.title = element_text(size=labelsize,family='Helvetica'))\n",
    "p10<-p10+theme(axis.title.x = element_text(size=labelsize,family='Helvetica'))\n",
    "p10<-p10+theme(axis.title.y = element_text(,size=labelsize,family='Helvetica'))\n",
    "\n",
    "p1<-p1+theme(axis.text.y = element_text(size=textsize,family='Helvetica',colour='black'))\n",
    "p1<-p1+theme(axis.text.x = element_text(angle = 90, hjust = 1,size=textsize,vjust=0.5,\n",
    "                                        family='Helvetica',colour='black'))\n",
    "p1<-p1+theme(plot.title = element_text(size=labelsize,family='Helvetica',colour='black'))\n",
    "p1<-p1+theme(axis.title.x = element_text(size=labelsize,family='Helvetica',colour='black'))\n",
    "p1<-p1+theme(axis.title.y = element_text(size=labelsize,family='Helvetica',colour='black'))\n",
    "\n",
    "\n",
    "p1<-p1+theme(axis.ticks.x=element_blank(),axis.ticks.y=element_blank())\n",
    "p10<-p10+theme(axis.ticks.x=element_blank(),axis.ticks.y=element_blank())\n",
    "\n",
    "lay <- rbind(c(1),\n",
    "            c(10))\n",
    "\n",
    "\n",
    "#setEPS()\n",
    "#postscript('../Figures/Supp_full_regression_moreregion_w_res.eps',width=6,height=7)\n",
    "#grid.arrange(p1,p10 ,layout_matrix = lay)\n",
    "#dev.off()\n",
    "\n",
    "# png('../Figures/Supp_full_regression_moreregions_w_extra.png',width=6,height=7,units=\"in\",res=400)\n",
    "# #postscript('../Figures/Supp/full_regression_moreregions.eps',width=6,height=7)\n",
    "# grid.arrange(p1,p10 ,layout_matrix = lay)\n",
    "# dev.off()\n",
    "\n",
    "tiff(filename = \"../Figures_JOCN_Final/Figure5.tiff\",\n",
    "     width = 6.8, height = 6.4, units = \"in\", res=1000,\n",
    "     compression = 'none')\n",
    "grid.arrange(p1,p10 ,layout_matrix = lay)\n",
    "dev.off()\n",
    "\n",
    "options(repr.plot.width=6.8, repr.plot.height=6.4)\n",
    "grid.arrange(p1,p10,layout_matrix = lay)"
   ]
  },
  {
   "cell_type": "markdown",
   "metadata": {},
   "source": [
    "# Likelihood Ratio Tests "
   ]
  },
  {
   "cell_type": "code",
   "execution_count": 125,
   "metadata": {
    "collapsed": true
   },
   "outputs": [],
   "source": [
    "data<-d"
   ]
  },
  {
   "cell_type": "code",
   "execution_count": 126,
   "metadata": {
    "collapsed": true
   },
   "outputs": [],
   "source": [
    "full_model_ml<-lme(as.formula(paste('Accuracy.50~',R1names_string,sep='')),random=~1|PID,data=d,method='ML')\n",
    "\n",
    "full_model_wo_region<-lme(Accuracy.50~Info.type+Roi.Search+Pattern.type+Classifier.type+Scanner+\n",
    "                Smoothing+Coregistration+Pattern.normalization.type+Num_subs,random=~1|PID,data=d,method='ML')\n",
    "\n",
    "\n",
    "full_model_wo_Classifier.type<-update(full_model_ml,.~. -Classifier.type)\n",
    "full_model_wo_Info.type<-update(full_model_ml,.~. -Info.type)\n",
    "full_model_wo_Smoothing<-update(full_model_ml,.~. -Smoothing)\n",
    "full_model_wo_Coregistration<-update(full_model_ml,.~. -Coregistration)\n",
    "full_model_wo_Pattern.normalization.type<-update(full_model_ml,.~. -Pattern.normalization.type)\n",
    "full_model_wo_Num_subs<-update(full_model_ml,.~. -Num_subs)\n",
    "full_model_wo_Res<-update(full_model_ml,.~. -Resolution_Volume)\n",
    "\n",
    "full_model_wo_VN<-update(full_model_ml,.~. -Voxel.numbers)\n",
    "full_model_wo_TrainPats<-update(full_model_ml,.~. -Training.setsize)\n",
    "\n",
    "full_model_wo_Scanner<-update(full_model_ml,.~. -Scanner)\n",
    "full_model_wo_Pattern.type<-update(full_model_ml,.~. -Pattern.type)\n",
    "full_model_wo_ROI<-update(full_model_ml,.~. -Roi.Search)\n",
    "\n",
    "a <-anova(full_model_ml,full_model_wo_Classifier.type)\n",
    "d<-data.frame(a)[c('Model','df','AIC','BIC','logLik','L.Ratio','p.value')]\n",
    "a <-anova(full_model_ml,full_model_wo_Info.type)\n",
    "d_new<-data.frame(a)[c('Model','df','AIC','BIC','logLik','L.Ratio','p.value')]\n",
    "d<-rbind(d,d_new[2,])\n",
    "a <-anova(full_model_ml,full_model_wo_Smoothing)\n",
    "d_new<-data.frame(a)[c('Model','df','AIC','BIC','logLik','L.Ratio','p.value')]\n",
    "d<-rbind(d,d_new[2,])\n",
    "a <-anova(full_model_ml,full_model_wo_Coregistration)\n",
    "d_new<-data.frame(a)[c('Model','df','AIC','BIC','logLik','L.Ratio','p.value')]\n",
    "d<-rbind(d,d_new[2,])\n",
    "a <-anova(full_model_ml,full_model_wo_Pattern.normalization.type)\n",
    "d_new<-data.frame(a)[c('Model','df','AIC','BIC','logLik','L.Ratio','p.value')]\n",
    "d<-rbind(d,d_new[2,])\n",
    "a <-anova(full_model_ml,full_model_wo_Num_subs)\n",
    "d_new<-data.frame(a)[c('Model','df','AIC','BIC','logLik','L.Ratio','p.value')]\n",
    "d<-rbind(d,d_new[2,])\n",
    "a <-anova(full_model_ml,full_model_wo_Scanner)\n",
    "d_new<-data.frame(a)[c('Model','df','AIC','BIC','logLik','L.Ratio','p.value')]\n",
    "d<-rbind(d,d_new[2,])\n",
    "a <-anova(full_model_ml,full_model_wo_Pattern.type)\n",
    "d_new<-data.frame(a)[c('Model','df','AIC','BIC','logLik','L.Ratio','p.value')]\n",
    "d<-rbind(d,d_new[2,])\n",
    "a <-anova(full_model_ml,full_model_wo_ROI)\n",
    "d_new<-data.frame(a)[c('Model','df','AIC','BIC','logLik','L.Ratio','p.value')]\n",
    "d<-rbind(d,d_new[2,])\n",
    "a <-anova(full_model_ml,full_model_wo_region)\n",
    "d_new<-data.frame(a)[c('Model','df','AIC','BIC','logLik','L.Ratio','p.value')]\n",
    "d<-rbind(d,d_new[2,])\n",
    "a <-anova(full_model_ml,full_model_wo_Res)\n",
    "d_new<-data.frame(a)[c('Model','df','AIC','BIC','logLik','L.Ratio','p.value')]\n",
    "d<-rbind(d,d_new[2,])\n",
    "a <-anova(full_model_ml,full_model_wo_VN)\n",
    "d_new<-data.frame(a)[c('Model','df','AIC','BIC','logLik','L.Ratio','p.value')]\n",
    "d<-rbind(d,d_new[2,])\n",
    "a <-anova(full_model_ml,full_model_wo_TrainPats)\n",
    "d_new<-data.frame(a)[c('Model','df','AIC','BIC','logLik','L.Ratio','p.value')]\n",
    "d<-rbind(d,d_new[2,])\n",
    "\n"
   ]
  },
  {
   "cell_type": "code",
   "execution_count": 127,
   "metadata": {},
   "outputs": [
    {
     "data": {
      "text/html": [
       "<table>\n",
       "<thead><tr><th></th><th scope=col>Model</th><th scope=col>df</th><th scope=col>AIC</th><th scope=col>BIC</th><th scope=col>logLik</th><th scope=col>L.Ratio</th><th scope=col>p.value</th></tr></thead>\n",
       "<tbody>\n",
       "\t<tr><th scope=row>full_model_ml</th><td>1      </td><td>60     </td><td>-1100.3</td><td> -857.1</td><td>610.1  </td><td>   NA  </td><td>   NA  </td></tr>\n",
       "\t<tr><th scope=row>full_model_wo_Classifier.type</th><td>2      </td><td>55     </td><td>-1097.5</td><td> -874.6</td><td>603.8  </td><td>12.75  </td><td>0.026  </td></tr>\n",
       "\t<tr><th scope=row>full_model_wo_Info.type</th><td>2      </td><td>57     </td><td>-1104.3</td><td> -873.3</td><td>609.2  </td><td> 1.95  </td><td>0.582  </td></tr>\n",
       "\t<tr><th scope=row>full_model_wo_Smoothing</th><td>2      </td><td>59     </td><td>-1101.9</td><td> -862.9</td><td>610.0  </td><td> 0.32  </td><td>0.572  </td></tr>\n",
       "\t<tr><th scope=row>full_model_wo_Coregistration</th><td>2      </td><td>59     </td><td>-1099.9</td><td> -860.8</td><td>608.9  </td><td> 2.40  </td><td>0.121  </td></tr>\n",
       "\t<tr><th scope=row>full_model_wo_Pattern.normalization.type</th><td>2      </td><td>58     </td><td>-1099.4</td><td> -864.4</td><td>607.7  </td><td> 4.87  </td><td>0.088  </td></tr>\n",
       "\t<tr><th scope=row>full_model_wo_Num_subs</th><td>2      </td><td>59     </td><td>-1101.7</td><td> -862.7</td><td>609.9  </td><td> 0.52  </td><td>0.469  </td></tr>\n",
       "\t<tr><th scope=row>full_model_wo_Scanner</th><td>2      </td><td>59     </td><td>-1102.2</td><td> -863.2</td><td>610.1  </td><td> 0.01  </td><td>0.930  </td></tr>\n",
       "\t<tr><th scope=row>full_model_wo_Pattern.type</th><td>2      </td><td>57     </td><td>-1098.1</td><td> -867.1</td><td>606.0  </td><td> 8.21  </td><td>0.042  </td></tr>\n",
       "\t<tr><th scope=row>full_model_wo_ROI</th><td>2      </td><td>59     </td><td>-1098.2</td><td> -859.2</td><td>608.1  </td><td> 4.02  </td><td>0.045  </td></tr>\n",
       "\t<tr><th scope=row>full_model_wo_region</th><td>2      </td><td>21     </td><td>-1139.0</td><td>-1053.9</td><td>590.5  </td><td>39.29  </td><td>0.457  </td></tr>\n",
       "\t<tr><th scope=row>full_model_wo_Res</th><td>2      </td><td>59     </td><td>-1102.2</td><td> -863.1</td><td>610.1  </td><td> 0.05  </td><td>0.824  </td></tr>\n",
       "\t<tr><th scope=row>full_model_wo_VN</th><td>2      </td><td>59     </td><td>-1102.0</td><td> -863.0</td><td>610.0  </td><td> 0.22  </td><td>0.641  </td></tr>\n",
       "\t<tr><th scope=row>full_model_wo_TrainPats</th><td>2      </td><td>59     </td><td>-1102.2</td><td> -863.1</td><td>610.1  </td><td> 0.06  </td><td>0.809  </td></tr>\n",
       "</tbody>\n",
       "</table>\n"
      ],
      "text/latex": [
       "\\begin{tabular}{r|lllllll}\n",
       "  & Model & df & AIC & BIC & logLik & L.Ratio & p.value\\\\\n",
       "\\hline\n",
       "\tfull\\_model\\_ml & 1       & 60      & -1100.3 &  -857.1 & 610.1   &    NA   &    NA  \\\\\n",
       "\tfull\\_model\\_wo\\_Classifier.type & 2       & 55      & -1097.5 &  -874.6 & 603.8   & 12.75   & 0.026  \\\\\n",
       "\tfull\\_model\\_wo\\_Info.type & 2       & 57      & -1104.3 &  -873.3 & 609.2   &  1.95   & 0.582  \\\\\n",
       "\tfull\\_model\\_wo\\_Smoothing & 2       & 59      & -1101.9 &  -862.9 & 610.0   &  0.32   & 0.572  \\\\\n",
       "\tfull\\_model\\_wo\\_Coregistration & 2       & 59      & -1099.9 &  -860.8 & 608.9   &  2.40   & 0.121  \\\\\n",
       "\tfull\\_model\\_wo\\_Pattern.normalization.type & 2       & 58      & -1099.4 &  -864.4 & 607.7   &  4.87   & 0.088  \\\\\n",
       "\tfull\\_model\\_wo\\_Num\\_subs & 2       & 59      & -1101.7 &  -862.7 & 609.9   &  0.52   & 0.469  \\\\\n",
       "\tfull\\_model\\_wo\\_Scanner & 2       & 59      & -1102.2 &  -863.2 & 610.1   &  0.01   & 0.930  \\\\\n",
       "\tfull\\_model\\_wo\\_Pattern.type & 2       & 57      & -1098.1 &  -867.1 & 606.0   &  8.21   & 0.042  \\\\\n",
       "\tfull\\_model\\_wo\\_ROI & 2       & 59      & -1098.2 &  -859.2 & 608.1   &  4.02   & 0.045  \\\\\n",
       "\tfull\\_model\\_wo\\_region & 2       & 21      & -1139.0 & -1053.9 & 590.5   & 39.29   & 0.457  \\\\\n",
       "\tfull\\_model\\_wo\\_Res & 2       & 59      & -1102.2 &  -863.1 & 610.1   &  0.05   & 0.824  \\\\\n",
       "\tfull\\_model\\_wo\\_VN & 2       & 59      & -1102.0 &  -863.0 & 610.0   &  0.22   & 0.641  \\\\\n",
       "\tfull\\_model\\_wo\\_TrainPats & 2       & 59      & -1102.2 &  -863.1 & 610.1   &  0.06   & 0.809  \\\\\n",
       "\\end{tabular}\n"
      ],
      "text/markdown": [
       "\n",
       "| <!--/--> | Model | df | AIC | BIC | logLik | L.Ratio | p.value | \n",
       "|---|---|---|---|---|---|---|---|---|---|---|---|---|---|\n",
       "| full_model_ml | 1       | 60      | -1100.3 |  -857.1 | 610.1   |    NA   |    NA   | \n",
       "| full_model_wo_Classifier.type | 2       | 55      | -1097.5 |  -874.6 | 603.8   | 12.75   | 0.026   | \n",
       "| full_model_wo_Info.type | 2       | 57      | -1104.3 |  -873.3 | 609.2   |  1.95   | 0.582   | \n",
       "| full_model_wo_Smoothing | 2       | 59      | -1101.9 |  -862.9 | 610.0   |  0.32   | 0.572   | \n",
       "| full_model_wo_Coregistration | 2       | 59      | -1099.9 |  -860.8 | 608.9   |  2.40   | 0.121   | \n",
       "| full_model_wo_Pattern.normalization.type | 2       | 58      | -1099.4 |  -864.4 | 607.7   |  4.87   | 0.088   | \n",
       "| full_model_wo_Num_subs | 2       | 59      | -1101.7 |  -862.7 | 609.9   |  0.52   | 0.469   | \n",
       "| full_model_wo_Scanner | 2       | 59      | -1102.2 |  -863.2 | 610.1   |  0.01   | 0.930   | \n",
       "| full_model_wo_Pattern.type | 2       | 57      | -1098.1 |  -867.1 | 606.0   |  8.21   | 0.042   | \n",
       "| full_model_wo_ROI | 2       | 59      | -1098.2 |  -859.2 | 608.1   |  4.02   | 0.045   | \n",
       "| full_model_wo_region | 2       | 21      | -1139.0 | -1053.9 | 590.5   | 39.29   | 0.457   | \n",
       "| full_model_wo_Res | 2       | 59      | -1102.2 |  -863.1 | 610.1   |  0.05   | 0.824   | \n",
       "| full_model_wo_VN | 2       | 59      | -1102.0 |  -863.0 | 610.0   |  0.22   | 0.641   | \n",
       "| full_model_wo_TrainPats | 2       | 59      | -1102.2 |  -863.1 | 610.1   |  0.06   | 0.809   | \n",
       "\n",
       "\n"
      ],
      "text/plain": [
       "                                         Model df AIC     BIC     logLik\n",
       "full_model_ml                            1     60 -1100.3  -857.1 610.1 \n",
       "full_model_wo_Classifier.type            2     55 -1097.5  -874.6 603.8 \n",
       "full_model_wo_Info.type                  2     57 -1104.3  -873.3 609.2 \n",
       "full_model_wo_Smoothing                  2     59 -1101.9  -862.9 610.0 \n",
       "full_model_wo_Coregistration             2     59 -1099.9  -860.8 608.9 \n",
       "full_model_wo_Pattern.normalization.type 2     58 -1099.4  -864.4 607.7 \n",
       "full_model_wo_Num_subs                   2     59 -1101.7  -862.7 609.9 \n",
       "full_model_wo_Scanner                    2     59 -1102.2  -863.2 610.1 \n",
       "full_model_wo_Pattern.type               2     57 -1098.1  -867.1 606.0 \n",
       "full_model_wo_ROI                        2     59 -1098.2  -859.2 608.1 \n",
       "full_model_wo_region                     2     21 -1139.0 -1053.9 590.5 \n",
       "full_model_wo_Res                        2     59 -1102.2  -863.1 610.1 \n",
       "full_model_wo_VN                         2     59 -1102.0  -863.0 610.0 \n",
       "full_model_wo_TrainPats                  2     59 -1102.2  -863.1 610.1 \n",
       "                                         L.Ratio p.value\n",
       "full_model_ml                               NA      NA  \n",
       "full_model_wo_Classifier.type            12.75   0.026  \n",
       "full_model_wo_Info.type                   1.95   0.582  \n",
       "full_model_wo_Smoothing                   0.32   0.572  \n",
       "full_model_wo_Coregistration              2.40   0.121  \n",
       "full_model_wo_Pattern.normalization.type  4.87   0.088  \n",
       "full_model_wo_Num_subs                    0.52   0.469  \n",
       "full_model_wo_Scanner                     0.01   0.930  \n",
       "full_model_wo_Pattern.type                8.21   0.042  \n",
       "full_model_wo_ROI                         4.02   0.045  \n",
       "full_model_wo_region                     39.29   0.457  \n",
       "full_model_wo_Res                         0.05   0.824  \n",
       "full_model_wo_VN                          0.22   0.641  \n",
       "full_model_wo_TrainPats                   0.06   0.809  "
      ]
     },
     "metadata": {},
     "output_type": "display_data"
    }
   ],
   "source": [
    "d$p.value<-round(d$p.value,3)\n",
    "d$AIC<-round(d$AIC,1)\n",
    "d$BIC<-round(d$BIC,1)\n",
    "d$logLik<-round(d$logLik,1)\n",
    "d$L.Ratio<-round(d$L.Ratio,2)\n",
    "d"
   ]
  },
  {
   "cell_type": "code",
   "execution_count": null,
   "metadata": {
    "collapsed": true
   },
   "outputs": [],
   "source": []
  }
 ],
 "metadata": {
  "hide_input": false,
  "kernelspec": {
   "display_name": "R",
   "language": "R",
   "name": "ir"
  },
  "language_info": {
   "codemirror_mode": "r",
   "file_extension": ".r",
   "mimetype": "text/x-r-source",
   "name": "R",
   "pygments_lexer": "r",
   "version": "3.4.1"
  },
  "toc": {
   "nav_menu": {},
   "number_sections": true,
   "sideBar": true,
   "skip_h1_title": false,
   "toc_cell": false,
   "toc_position": {},
   "toc_section_display": "block",
   "toc_window_display": false
  }
 },
 "nbformat": 4,
 "nbformat_minor": 1
}
