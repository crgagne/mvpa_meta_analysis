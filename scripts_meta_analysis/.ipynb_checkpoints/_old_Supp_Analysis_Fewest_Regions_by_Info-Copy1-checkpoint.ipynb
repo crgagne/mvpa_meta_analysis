{
 "cells": [
  {
   "cell_type": "markdown",
   "metadata": {},
   "source": [
    "# Need to clean"
   ]
  },
  {
   "cell_type": "code",
   "execution_count": 4,
   "metadata": {
    "collapsed": false,
    "init_cell": true
   },
   "outputs": [],
   "source": [
    "library(nlme)\n",
    "library(multcomp)\n",
    "options(jupyter.plot_mimetypes = \"image/png\")\n",
    "library(ggplot2)\n",
    "library(corrplot)\n",
    "library(gridExtra)\n",
    "library(grid)\n",
    "library(data.table)\n",
    "library(effects)\n",
    "library(xtable)\n",
    "library(reshape)"
   ]
  },
  {
   "cell_type": "markdown",
   "metadata": {},
   "source": [
    "# Load Data"
   ]
  },
  {
   "cell_type": "code",
   "execution_count": 5,
   "metadata": {
    "collapsed": true
   },
   "outputs": [],
   "source": [
    "stat_sum_single <- function(fun, geom=\"point\", ...) {\n",
    "  stat_summary(fun.y=fun, colour=\"red\", geom=geom, size = 3, ...)\n",
    "}"
   ]
  },
  {
   "cell_type": "code",
   "execution_count": 6,
   "metadata": {
    "collapsed": false,
    "init_cell": true
   },
   "outputs": [
    {
     "data": {
      "text/html": [
       "<ol class=list-inline>\n",
       "\t<li>'R3Precentral'</li>\n",
       "\t<li>'R3Frontal_Mid'</li>\n",
       "\t<li>'R3Frontal_Mid_Orb'</li>\n",
       "\t<li>'R3Frontal_Inf_Orb'</li>\n",
       "\t<li>'R3Frontal_Inf_Oper'</li>\n",
       "\t<li>'R3Frontal_Inf_Tri'</li>\n",
       "\t<li>'R3Supp_Motor_Area'</li>\n",
       "\t<li>'R3Cingulum_Mid'</li>\n",
       "\t<li>'R3Cingulum_Ant'</li>\n",
       "\t<li>'R3Frontal_Sup'</li>\n",
       "\t<li>'R3Frontal_Sup_Medial'</li>\n",
       "\t<li>'R3Insula'</li>\n",
       "</ol>\n"
      ],
      "text/latex": [
       "\\begin{enumerate*}\n",
       "\\item 'R3Precentral'\n",
       "\\item 'R3Frontal_Mid'\n",
       "\\item 'R3Frontal_Mid_Orb'\n",
       "\\item 'R3Frontal_Inf_Orb'\n",
       "\\item 'R3Frontal_Inf_Oper'\n",
       "\\item 'R3Frontal_Inf_Tri'\n",
       "\\item 'R3Supp_Motor_Area'\n",
       "\\item 'R3Cingulum_Mid'\n",
       "\\item 'R3Cingulum_Ant'\n",
       "\\item 'R3Frontal_Sup'\n",
       "\\item 'R3Frontal_Sup_Medial'\n",
       "\\item 'R3Insula'\n",
       "\\end{enumerate*}\n"
      ],
      "text/markdown": [
       "1. 'R3Precentral'\n",
       "2. 'R3Frontal_Mid'\n",
       "3. 'R3Frontal_Mid_Orb'\n",
       "4. 'R3Frontal_Inf_Orb'\n",
       "5. 'R3Frontal_Inf_Oper'\n",
       "6. 'R3Frontal_Inf_Tri'\n",
       "7. 'R3Supp_Motor_Area'\n",
       "8. 'R3Cingulum_Mid'\n",
       "9. 'R3Cingulum_Ant'\n",
       "10. 'R3Frontal_Sup'\n",
       "11. 'R3Frontal_Sup_Medial'\n",
       "12. 'R3Insula'\n",
       "\n",
       "\n"
      ],
      "text/plain": [
       " [1] \"R3Precentral\"         \"R3Frontal_Mid\"        \"R3Frontal_Mid_Orb\"   \n",
       " [4] \"R3Frontal_Inf_Orb\"    \"R3Frontal_Inf_Oper\"   \"R3Frontal_Inf_Tri\"   \n",
       " [7] \"R3Supp_Motor_Area\"    \"R3Cingulum_Mid\"       \"R3Cingulum_Ant\"      \n",
       "[10] \"R3Frontal_Sup\"        \"R3Frontal_Sup_Medial\" \"R3Insula\"            "
      ]
     },
     "execution_count": 6,
     "metadata": {},
     "output_type": "execute_result"
    },
    {
     "data": {
      "text/html": [
       "<table>\n",
       "<thead><tr><th></th><th scope=col>R3Precentral</th><th scope=col>R3Frontal_Mid</th><th scope=col>R3Frontal_Mid_Orb</th><th scope=col>R3Frontal_Inf_Orb</th><th scope=col>R3Frontal_Inf_Oper</th><th scope=col>R3Frontal_Inf_Tri</th><th scope=col>R3Supp_Motor_Area</th><th scope=col>R3Cingulum_Mid</th><th scope=col>R3Cingulum_Ant</th><th scope=col>R3Frontal_Sup</th><th scope=col>R3Frontal_Sup_Medial</th><th scope=col>R3Insula</th></tr></thead>\n",
       "<tbody>\n",
       "\t<tr><th scope=row>1</th><td>0</td><td>0</td><td>0</td><td>0</td><td>0</td><td>1</td><td>0</td><td>0</td><td>0</td><td>0</td><td>0</td><td>0</td></tr>\n",
       "\t<tr><th scope=row>2</th><td>0</td><td>0</td><td>0</td><td>0</td><td>0</td><td>0</td><td>0</td><td>0</td><td>0</td><td>0</td><td>0</td><td>1</td></tr>\n",
       "\t<tr><th scope=row>3</th><td>0</td><td>0</td><td>0</td><td>0</td><td>0</td><td>1</td><td>0</td><td>0</td><td>0</td><td>0</td><td>0</td><td>0</td></tr>\n",
       "\t<tr><th scope=row>4</th><td>0</td><td>0</td><td>0</td><td>0</td><td>0</td><td>0</td><td>0</td><td>0</td><td>0</td><td>0</td><td>0</td><td>1</td></tr>\n",
       "\t<tr><th scope=row>5</th><td>0</td><td>0</td><td>0</td><td>0</td><td>0</td><td>1</td><td>0</td><td>0</td><td>0</td><td>0</td><td>0</td><td>0</td></tr>\n",
       "\t<tr><th scope=row>6</th><td>0</td><td>0</td><td>0</td><td>0</td><td>0</td><td>0</td><td>0</td><td>0</td><td>0</td><td>0</td><td>0</td><td>1</td></tr>\n",
       "</tbody>\n",
       "</table>\n"
      ],
      "text/latex": [
       "\\begin{tabular}{r|llllllllllll}\n",
       "  & R3Precentral & R3Frontal_Mid & R3Frontal_Mid_Orb & R3Frontal_Inf_Orb & R3Frontal_Inf_Oper & R3Frontal_Inf_Tri & R3Supp_Motor_Area & R3Cingulum_Mid & R3Cingulum_Ant & R3Frontal_Sup & R3Frontal_Sup_Medial & R3Insula\\\\\n",
       "\\hline\n",
       "\t1 & 0 & 0 & 0 & 0 & 0 & 1 & 0 & 0 & 0 & 0 & 0 & 0\\\\\n",
       "\t2 & 0 & 0 & 0 & 0 & 0 & 0 & 0 & 0 & 0 & 0 & 0 & 1\\\\\n",
       "\t3 & 0 & 0 & 0 & 0 & 0 & 1 & 0 & 0 & 0 & 0 & 0 & 0\\\\\n",
       "\t4 & 0 & 0 & 0 & 0 & 0 & 0 & 0 & 0 & 0 & 0 & 0 & 1\\\\\n",
       "\t5 & 0 & 0 & 0 & 0 & 0 & 1 & 0 & 0 & 0 & 0 & 0 & 0\\\\\n",
       "\t6 & 0 & 0 & 0 & 0 & 0 & 0 & 0 & 0 & 0 & 0 & 0 & 1\\\\\n",
       "\\end{tabular}\n"
      ],
      "text/plain": [
       "  R3Precentral R3Frontal_Mid R3Frontal_Mid_Orb R3Frontal_Inf_Orb\n",
       "1            0             0                 0                 0\n",
       "2            0             0                 0                 0\n",
       "3            0             0                 0                 0\n",
       "4            0             0                 0                 0\n",
       "5            0             0                 0                 0\n",
       "6            0             0                 0                 0\n",
       "  R3Frontal_Inf_Oper R3Frontal_Inf_Tri R3Supp_Motor_Area R3Cingulum_Mid\n",
       "1                  0                 1                 0              0\n",
       "2                  0                 0                 0              0\n",
       "3                  0                 1                 0              0\n",
       "4                  0                 0                 0              0\n",
       "5                  0                 1                 0              0\n",
       "6                  0                 0                 0              0\n",
       "  R3Cingulum_Ant R3Frontal_Sup R3Frontal_Sup_Medial R3Insula\n",
       "1              0             0                    0        0\n",
       "2              0             0                    0        1\n",
       "3              0             0                    0        0\n",
       "4              0             0                    0        1\n",
       "5              0             0                    0        0\n",
       "6              0             0                    0        1"
      ]
     },
     "execution_count": 6,
     "metadata": {},
     "output_type": "execute_result"
    },
    {
     "data": {
      "text/html": [
       "<ol class=list-inline>\n",
       "\t<li>'R4Frontal_Sup'</li>\n",
       "\t<li>'R4Frontal_Mid'</li>\n",
       "\t<li>'R4Frontal_Inf'</li>\n",
       "\t<li>'R4Frontal_Orb'</li>\n",
       "\t<li>'R4Insula'</li>\n",
       "\t<li>'R4Motor'</li>\n",
       "\t<li>'R4Cingulum'</li>\n",
       "</ol>\n"
      ],
      "text/latex": [
       "\\begin{enumerate*}\n",
       "\\item 'R4Frontal_Sup'\n",
       "\\item 'R4Frontal_Mid'\n",
       "\\item 'R4Frontal_Inf'\n",
       "\\item 'R4Frontal_Orb'\n",
       "\\item 'R4Insula'\n",
       "\\item 'R4Motor'\n",
       "\\item 'R4Cingulum'\n",
       "\\end{enumerate*}\n"
      ],
      "text/markdown": [
       "1. 'R4Frontal_Sup'\n",
       "2. 'R4Frontal_Mid'\n",
       "3. 'R4Frontal_Inf'\n",
       "4. 'R4Frontal_Orb'\n",
       "5. 'R4Insula'\n",
       "6. 'R4Motor'\n",
       "7. 'R4Cingulum'\n",
       "\n",
       "\n"
      ],
      "text/plain": [
       "[1] \"R4Frontal_Sup\" \"R4Frontal_Mid\" \"R4Frontal_Inf\" \"R4Frontal_Orb\"\n",
       "[5] \"R4Insula\"      \"R4Motor\"       \"R4Cingulum\"   "
      ]
     },
     "execution_count": 6,
     "metadata": {},
     "output_type": "execute_result"
    },
    {
     "data": {
      "text/html": [
       "<table>\n",
       "<thead><tr><th></th><th scope=col>R4Frontal_Sup</th><th scope=col>R4Frontal_Mid</th><th scope=col>R4Frontal_Inf</th><th scope=col>R4Frontal_Orb</th><th scope=col>R4Insula</th><th scope=col>R4Motor</th><th scope=col>R4Cingulum</th></tr></thead>\n",
       "<tbody>\n",
       "\t<tr><th scope=row>1</th><td>0</td><td>0</td><td>1</td><td>0</td><td>0</td><td>0</td><td>0</td></tr>\n",
       "\t<tr><th scope=row>2</th><td>0</td><td>0</td><td>0</td><td>0</td><td>1</td><td>0</td><td>0</td></tr>\n",
       "\t<tr><th scope=row>3</th><td>0</td><td>0</td><td>1</td><td>0</td><td>0</td><td>0</td><td>0</td></tr>\n",
       "\t<tr><th scope=row>4</th><td>0</td><td>0</td><td>0</td><td>0</td><td>1</td><td>0</td><td>0</td></tr>\n",
       "\t<tr><th scope=row>5</th><td>0</td><td>0</td><td>1</td><td>0</td><td>0</td><td>0</td><td>0</td></tr>\n",
       "\t<tr><th scope=row>6</th><td>0</td><td>0</td><td>0</td><td>0</td><td>1</td><td>0</td><td>0</td></tr>\n",
       "</tbody>\n",
       "</table>\n"
      ],
      "text/latex": [
       "\\begin{tabular}{r|lllllll}\n",
       "  & R4Frontal_Sup & R4Frontal_Mid & R4Frontal_Inf & R4Frontal_Orb & R4Insula & R4Motor & R4Cingulum\\\\\n",
       "\\hline\n",
       "\t1 & 0 & 0 & 1 & 0 & 0 & 0 & 0\\\\\n",
       "\t2 & 0 & 0 & 0 & 0 & 1 & 0 & 0\\\\\n",
       "\t3 & 0 & 0 & 1 & 0 & 0 & 0 & 0\\\\\n",
       "\t4 & 0 & 0 & 0 & 0 & 1 & 0 & 0\\\\\n",
       "\t5 & 0 & 0 & 1 & 0 & 0 & 0 & 0\\\\\n",
       "\t6 & 0 & 0 & 0 & 0 & 1 & 0 & 0\\\\\n",
       "\\end{tabular}\n"
      ],
      "text/plain": [
       "  R4Frontal_Sup R4Frontal_Mid R4Frontal_Inf R4Frontal_Orb R4Insula R4Motor\n",
       "1             0             0             1             0        0       0\n",
       "2             0             0             0             0        1       0\n",
       "3             0             0             1             0        0       0\n",
       "4             0             0             0             0        1       0\n",
       "5             0             0             1             0        0       0\n",
       "6             0             0             0             0        1       0\n",
       "  R4Cingulum\n",
       "1          0\n",
       "2          0\n",
       "3          0\n",
       "4          0\n",
       "5          0\n",
       "6          0"
      ]
     },
     "execution_count": 6,
     "metadata": {},
     "output_type": "execute_result"
    }
   ],
   "source": [
    "data = read.csv(\"../data_meta_analysis/Data_Classifications_v7.csv\")\n",
    "\n",
    "data<-data[c('PID','Info.type','Accuracy.50','Significance','Roi.Search',\n",
    "             'Pattern.type','Classifier.type','Scanner','Smoothing','Coregistration','Pattern.normalization.type','Num_subs')]\n",
    "\n",
    "factors<-c('Info.type','Significance','Roi.Search',\n",
    "             'Pattern.type','Classifier.type','Scanner','Smoothing','Coregistration','Pattern.normalization.type','Num_subs')\n",
    "\n",
    "for (pid in unique(data$PID)){\n",
    "    #print('--')\n",
    "    #print(pid)\n",
    "    #print(nrow(data1[data1$PID==pid,]))\n",
    "    #print('--')\n",
    "    data[data$PID==pid,'n_per_study']=nrow(data[data$PID==pid,])\n",
    "}\n",
    "\n",
    "\n",
    "# msc\n",
    "\n",
    "R1 = read.csv(paste(\"../data_meta_analysis/data_derived_meta_analysis/X_region1_before_clustering_2.csv\"))\n",
    "#R2 = read.csv(paste(\"X_region1_after_clustering.csv\"))\n",
    "R3 = read.csv(paste(\"../data_meta_analysis/data_derived_meta_analysis/X_region1_after_clustering_lr_2.csv\"))\n",
    "R4 = read.csv(paste(\"../data_meta_analysis/data_derived_meta_analysis/X_region1_after_clustering2_2.csv\"))\n",
    "\n",
    "\n",
    "R1names = colnames(R1)\n",
    "#R2names = colnames(R2)\n",
    "R3names = colnames(R3)\n",
    "R4names = colnames(R4)\n",
    "\n",
    "i=1\n",
    "for (name in R3names){\n",
    "    R3names[i]<-paste(sep='','R3',name)\n",
    "    i=i+1\n",
    "}\n",
    "R3names\n",
    "colnames(R3)<-R3names\n",
    "head(R3)\n",
    "\n",
    "i=1\n",
    "for (name in R4names){\n",
    "    R4names[i]<-paste(sep='','R4',name)\n",
    "    i=i+1\n",
    "}\n",
    "R4names\n",
    "colnames(R4)<-R4names\n",
    "head(R4)"
   ]
  },
  {
   "cell_type": "code",
   "execution_count": 7,
   "metadata": {
    "collapsed": false
   },
   "outputs": [
    {
     "data": {
      "text/html": [
       "<ol class=list-inline>\n",
       "\t<li>None</li>\n",
       "\t<li>Normalized Spatially</li>\n",
       "\t<li>Normalized Temporally</li>\n",
       "</ol>\n"
      ],
      "text/latex": [
       "\\begin{enumerate*}\n",
       "\\item None\n",
       "\\item Normalized Spatially\n",
       "\\item Normalized Temporally\n",
       "\\end{enumerate*}\n"
      ],
      "text/markdown": [
       "1. None\n",
       "2. Normalized Spatially\n",
       "3. Normalized Temporally\n",
       "\n",
       "\n"
      ],
      "text/plain": [
       "[1] None                  Normalized Spatially  Normalized Temporally\n",
       "Levels: None Normalized Spatially Normalized Temporally"
      ]
     },
     "execution_count": 7,
     "metadata": {},
     "output_type": "execute_result"
    }
   ],
   "source": [
    "unique(data$Pattern.normalization.type)"
   ]
  },
  {
   "cell_type": "code",
   "execution_count": 8,
   "metadata": {
    "collapsed": false,
    "init_cell": true
   },
   "outputs": [
    {
     "data": {
      "text/html": [
       "<table>\n",
       "<thead><tr><th></th><th scope=col>PID</th><th scope=col>Info.type</th><th scope=col>Accuracy.50</th><th scope=col>Significance</th><th scope=col>Roi.Search</th><th scope=col>Pattern.type</th><th scope=col>Classifier.type</th><th scope=col>Scanner</th><th scope=col>Smoothing</th><th scope=col>Coregistration</th><th scope=col>Pattern.normalization.type</th><th scope=col>Num_subs</th><th scope=col>n_per_study</th><th scope=col>Frontal_Sup_L</th><th scope=col>Frontal_Sup_R</th><th scope=col>Frontal_Sup_Orb_L</th><th scope=col>Frontal_Sup_Orb_R</th><th scope=col>Frontal_Mid_L</th><th scope=col>Frontal_Mid_R</th><th scope=col>Frontal_Mid_Orb_L</th><th scope=col>Frontal_Mid_Orb_R</th><th scope=col>Frontal_Inf_Oper_L</th><th scope=col>Frontal_Inf_Oper_R</th><th scope=col>Frontal_Inf_Tri_L</th><th scope=col>Frontal_Inf_Tri_R</th><th scope=col>Frontal_Inf_Orb_L</th><th scope=col>Frontal_Inf_Orb_R</th><th scope=col>Supp_Motor_Area_L</th><th scope=col>Supp_Motor_Area_R</th><th scope=col>Frontal_Sup_Medial_L</th><th scope=col>Frontal_Sup_Medial_R</th><th scope=col>Insula_L</th><th scope=col>Insula_R</th><th scope=col>Cingulum_Ant_L</th><th scope=col>Cingulum_Ant_R</th><th scope=col>Cingulum_Mid_L</th><th scope=col>Cingulum_Mid_R</th><th scope=col>Precentral_L</th><th scope=col>Precentral_R</th><th scope=col>R3Precentral</th><th scope=col>R3Frontal_Mid</th><th scope=col>R3Frontal_Mid_Orb</th><th scope=col>R3Frontal_Inf_Orb</th><th scope=col>R3Frontal_Inf_Oper</th><th scope=col>R3Frontal_Inf_Tri</th><th scope=col>R3Supp_Motor_Area</th><th scope=col>R3Cingulum_Mid</th><th scope=col>R3Cingulum_Ant</th><th scope=col>R3Frontal_Sup</th><th scope=col>R3Frontal_Sup_Medial</th><th scope=col>R3Insula</th><th scope=col>R4Frontal_Sup</th><th scope=col>R4Frontal_Mid</th><th scope=col>R4Frontal_Inf</th><th scope=col>R4Frontal_Orb</th><th scope=col>R4Insula</th><th scope=col>R4Motor</th><th scope=col>R4Cingulum</th></tr></thead>\n",
       "<tbody>\n",
       "\t<tr><th scope=row>4</th><td>1</td><td>Perceptual</td><td>0.528</td><td>1</td><td>ROI</td><td>Multi-Trial Multi-Time Point</td><td>svm-lin</td><td>3T</td><td>unsmooth</td><td>Native Space</td><td>None</td><td>17</td><td>12</td><td>0</td><td>0</td><td>0</td><td>0</td><td>0</td><td>0</td><td>0</td><td>0</td><td>0</td><td>0</td><td>0</td><td>0</td><td>0</td><td>0</td><td>0</td><td>0</td><td>0</td><td>0</td><td>1</td><td>1</td><td>0</td><td>0</td><td>0</td><td>0</td><td>0</td><td>0</td><td>0</td><td>0</td><td>0</td><td>0</td><td>0</td><td>0</td><td>0</td><td>0</td><td>0</td><td>0</td><td>0</td><td>1</td><td>0</td><td>0</td><td>0</td><td>0</td><td>1</td><td>0</td><td>0</td></tr>\n",
       "\t<tr><th scope=row>9</th><td>1</td><td>Rule</td><td>0.535</td><td>1</td><td>ROI</td><td>Multi-Trial Multi-Time Point</td><td>svm-lin</td><td>3T</td><td>unsmooth</td><td>Native Space</td><td>None</td><td>17</td><td>12</td><td>0</td><td>0</td><td>0</td><td>0</td><td>0</td><td>0</td><td>0</td><td>0</td><td>0</td><td>0</td><td>0</td><td>0</td><td>0</td><td>0</td><td>0</td><td>0</td><td>0</td><td>0</td><td>1</td><td>1</td><td>0</td><td>0</td><td>0</td><td>0</td><td>0</td><td>0</td><td>0</td><td>0</td><td>0</td><td>0</td><td>0</td><td>0</td><td>0</td><td>0</td><td>0</td><td>0</td><td>0</td><td>1</td><td>0</td><td>0</td><td>0</td><td>0</td><td>1</td><td>0</td><td>0</td></tr>\n",
       "\t<tr><th scope=row>10</th><td>1</td><td>Rule</td><td>0.541</td><td>1</td><td>ROI</td><td>Multi-Trial Multi-Time Point</td><td>svm-lin</td><td>3T</td><td>unsmooth</td><td>Native Space</td><td>None</td><td>17</td><td>12</td><td>0</td><td>0</td><td>0</td><td>0</td><td>0</td><td>0</td><td>0</td><td>0</td><td>0</td><td>0</td><td>1</td><td>1</td><td>0</td><td>0</td><td>0</td><td>0</td><td>0</td><td>0</td><td>0</td><td>0</td><td>0</td><td>0</td><td>0</td><td>0</td><td>0</td><td>0</td><td>0</td><td>0</td><td>0</td><td>0</td><td>0</td><td>1</td><td>0</td><td>0</td><td>0</td><td>0</td><td>0</td><td>0</td><td>0</td><td>0</td><td>1</td><td>0</td><td>0</td><td>0</td><td>0</td></tr>\n",
       "\t<tr><th scope=row>11</th><td>1</td><td>Rule</td><td>0.543</td><td>1</td><td>ROI</td><td>Multi-Trial Multi-Time Point</td><td>svm-lin</td><td>3T</td><td>unsmooth</td><td>Native Space</td><td>None</td><td>17</td><td>12</td><td>0</td><td>0</td><td>0</td><td>0</td><td>0</td><td>0</td><td>0</td><td>0</td><td>0</td><td>0</td><td>0</td><td>0</td><td>0</td><td>0</td><td>0</td><td>0</td><td>0</td><td>0</td><td>1</td><td>1</td><td>0</td><td>0</td><td>0</td><td>0</td><td>0</td><td>0</td><td>0</td><td>0</td><td>0</td><td>0</td><td>0</td><td>0</td><td>0</td><td>0</td><td>0</td><td>0</td><td>0</td><td>1</td><td>0</td><td>0</td><td>0</td><td>0</td><td>1</td><td>0</td><td>0</td></tr>\n",
       "\t<tr><th scope=row>12</th><td>1</td><td>Rule</td><td>0.593</td><td>1</td><td>ROI</td><td>Multi-Trial Multi-Time Point</td><td>svm-lin</td><td>3T</td><td>unsmooth</td><td>Native Space</td><td>None</td><td>17</td><td>12</td><td>0</td><td>0</td><td>0</td><td>0</td><td>0</td><td>0</td><td>0</td><td>0</td><td>0</td><td>0</td><td>1</td><td>0</td><td>0</td><td>0</td><td>0</td><td>0</td><td>0</td><td>0</td><td>0</td><td>0</td><td>0</td><td>0</td><td>0</td><td>0</td><td>0</td><td>0</td><td>0</td><td>0</td><td>0</td><td>0</td><td>0</td><td>1</td><td>0</td><td>0</td><td>0</td><td>0</td><td>0</td><td>0</td><td>0</td><td>0</td><td>1</td><td>0</td><td>0</td><td>0</td><td>0</td></tr>\n",
       "\t<tr><th scope=row>16</th><td>2</td><td>Rule</td><td>0.64</td><td>1</td><td>ROI</td><td>Single Trial Multi-Time Point</td><td>LDA</td><td>3T</td><td>unsmooth</td><td>Native Space</td><td>None</td><td>6</td><td>4</td><td>0</td><td>0</td><td>0</td><td>0</td><td>0</td><td>0</td><td>0</td><td>0</td><td>0</td><td>0</td><td>0</td><td>0</td><td>0</td><td>0</td><td>0</td><td>0</td><td>0</td><td>0</td><td>0</td><td>0</td><td>0</td><td>0</td><td>0</td><td>0</td><td>1</td><td>1</td><td>1</td><td>0</td><td>0</td><td>0</td><td>0</td><td>0</td><td>0</td><td>0</td><td>0</td><td>0</td><td>0</td><td>0</td><td>0</td><td>0</td><td>0</td><td>0</td><td>0</td><td>1</td><td>0</td></tr>\n",
       "</tbody>\n",
       "</table>\n"
      ],
      "text/latex": [
       "\\begin{tabular}{r|llllllllllllllllllllllllllllllllllllllllllllllllllllllllll}\n",
       "  & PID & Info.type & Accuracy.50 & Significance & Roi.Search & Pattern.type & Classifier.type & Scanner & Smoothing & Coregistration & Pattern.normalization.type & Num_subs & n_per_study & Frontal_Sup_L & Frontal_Sup_R & Frontal_Sup_Orb_L & Frontal_Sup_Orb_R & Frontal_Mid_L & Frontal_Mid_R & Frontal_Mid_Orb_L & Frontal_Mid_Orb_R & Frontal_Inf_Oper_L & Frontal_Inf_Oper_R & Frontal_Inf_Tri_L & Frontal_Inf_Tri_R & Frontal_Inf_Orb_L & Frontal_Inf_Orb_R & Supp_Motor_Area_L & Supp_Motor_Area_R & Frontal_Sup_Medial_L & Frontal_Sup_Medial_R & Insula_L & Insula_R & Cingulum_Ant_L & Cingulum_Ant_R & Cingulum_Mid_L & Cingulum_Mid_R & Precentral_L & Precentral_R & R3Precentral & R3Frontal_Mid & R3Frontal_Mid_Orb & R3Frontal_Inf_Orb & R3Frontal_Inf_Oper & R3Frontal_Inf_Tri & R3Supp_Motor_Area & R3Cingulum_Mid & R3Cingulum_Ant & R3Frontal_Sup & R3Frontal_Sup_Medial & R3Insula & R4Frontal_Sup & R4Frontal_Mid & R4Frontal_Inf & R4Frontal_Orb & R4Insula & R4Motor & R4Cingulum\\\\\n",
       "\\hline\n",
       "\t4 & 1 & Perceptual & 0.528 & 1 & ROI & Multi-Trial Multi-Time Point & svm-lin & 3T & unsmooth & Native Space & None & 17 & 12 & 0 & 0 & 0 & 0 & 0 & 0 & 0 & 0 & 0 & 0 & 0 & 0 & 0 & 0 & 0 & 0 & 0 & 0 & 1 & 1 & 0 & 0 & 0 & 0 & 0 & 0 & 0 & 0 & 0 & 0 & 0 & 0 & 0 & 0 & 0 & 0 & 0 & 1 & 0 & 0 & 0 & 0 & 1 & 0 & 0\\\\\n",
       "\t9 & 1 & Rule & 0.535 & 1 & ROI & Multi-Trial Multi-Time Point & svm-lin & 3T & unsmooth & Native Space & None & 17 & 12 & 0 & 0 & 0 & 0 & 0 & 0 & 0 & 0 & 0 & 0 & 0 & 0 & 0 & 0 & 0 & 0 & 0 & 0 & 1 & 1 & 0 & 0 & 0 & 0 & 0 & 0 & 0 & 0 & 0 & 0 & 0 & 0 & 0 & 0 & 0 & 0 & 0 & 1 & 0 & 0 & 0 & 0 & 1 & 0 & 0\\\\\n",
       "\t10 & 1 & Rule & 0.541 & 1 & ROI & Multi-Trial Multi-Time Point & svm-lin & 3T & unsmooth & Native Space & None & 17 & 12 & 0 & 0 & 0 & 0 & 0 & 0 & 0 & 0 & 0 & 0 & 1 & 1 & 0 & 0 & 0 & 0 & 0 & 0 & 0 & 0 & 0 & 0 & 0 & 0 & 0 & 0 & 0 & 0 & 0 & 0 & 0 & 1 & 0 & 0 & 0 & 0 & 0 & 0 & 0 & 0 & 1 & 0 & 0 & 0 & 0\\\\\n",
       "\t11 & 1 & Rule & 0.543 & 1 & ROI & Multi-Trial Multi-Time Point & svm-lin & 3T & unsmooth & Native Space & None & 17 & 12 & 0 & 0 & 0 & 0 & 0 & 0 & 0 & 0 & 0 & 0 & 0 & 0 & 0 & 0 & 0 & 0 & 0 & 0 & 1 & 1 & 0 & 0 & 0 & 0 & 0 & 0 & 0 & 0 & 0 & 0 & 0 & 0 & 0 & 0 & 0 & 0 & 0 & 1 & 0 & 0 & 0 & 0 & 1 & 0 & 0\\\\\n",
       "\t12 & 1 & Rule & 0.593 & 1 & ROI & Multi-Trial Multi-Time Point & svm-lin & 3T & unsmooth & Native Space & None & 17 & 12 & 0 & 0 & 0 & 0 & 0 & 0 & 0 & 0 & 0 & 0 & 1 & 0 & 0 & 0 & 0 & 0 & 0 & 0 & 0 & 0 & 0 & 0 & 0 & 0 & 0 & 0 & 0 & 0 & 0 & 0 & 0 & 1 & 0 & 0 & 0 & 0 & 0 & 0 & 0 & 0 & 1 & 0 & 0 & 0 & 0\\\\\n",
       "\t16 & 2 & Rule & 0.64 & 1 & ROI & Single Trial Multi-Time Point & LDA & 3T & unsmooth & Native Space & None & 6 & 4 & 0 & 0 & 0 & 0 & 0 & 0 & 0 & 0 & 0 & 0 & 0 & 0 & 0 & 0 & 0 & 0 & 0 & 0 & 0 & 0 & 0 & 0 & 0 & 0 & 1 & 1 & 1 & 0 & 0 & 0 & 0 & 0 & 0 & 0 & 0 & 0 & 0 & 0 & 0 & 0 & 0 & 0 & 0 & 1 & 0\\\\\n",
       "\\end{tabular}\n"
      ],
      "text/plain": [
       "   PID  Info.type Accuracy.50 Significance Roi.Search\n",
       "4    1 Perceptual       0.528            1        ROI\n",
       "9    1       Rule       0.535            1        ROI\n",
       "10   1       Rule       0.541            1        ROI\n",
       "11   1       Rule       0.543            1        ROI\n",
       "12   1       Rule       0.593            1        ROI\n",
       "16   2       Rule       0.640            1        ROI\n",
       "                    Pattern.type Classifier.type Scanner Smoothing\n",
       "4   Multi-Trial Multi-Time Point         svm-lin      3T  unsmooth\n",
       "9   Multi-Trial Multi-Time Point         svm-lin      3T  unsmooth\n",
       "10  Multi-Trial Multi-Time Point         svm-lin      3T  unsmooth\n",
       "11  Multi-Trial Multi-Time Point         svm-lin      3T  unsmooth\n",
       "12  Multi-Trial Multi-Time Point         svm-lin      3T  unsmooth\n",
       "16 Single Trial Multi-Time Point             LDA      3T  unsmooth\n",
       "   Coregistration Pattern.normalization.type Num_subs n_per_study Frontal_Sup_L\n",
       "4    Native Space                       None       17          12             0\n",
       "9    Native Space                       None       17          12             0\n",
       "10   Native Space                       None       17          12             0\n",
       "11   Native Space                       None       17          12             0\n",
       "12   Native Space                       None       17          12             0\n",
       "16   Native Space                       None        6           4             0\n",
       "   Frontal_Sup_R Frontal_Sup_Orb_L Frontal_Sup_Orb_R Frontal_Mid_L\n",
       "4              0                 0                 0             0\n",
       "9              0                 0                 0             0\n",
       "10             0                 0                 0             0\n",
       "11             0                 0                 0             0\n",
       "12             0                 0                 0             0\n",
       "16             0                 0                 0             0\n",
       "   Frontal_Mid_R Frontal_Mid_Orb_L Frontal_Mid_Orb_R Frontal_Inf_Oper_L\n",
       "4              0                 0                 0                  0\n",
       "9              0                 0                 0                  0\n",
       "10             0                 0                 0                  0\n",
       "11             0                 0                 0                  0\n",
       "12             0                 0                 0                  0\n",
       "16             0                 0                 0                  0\n",
       "   Frontal_Inf_Oper_R Frontal_Inf_Tri_L Frontal_Inf_Tri_R Frontal_Inf_Orb_L\n",
       "4                   0                 0                 0                 0\n",
       "9                   0                 0                 0                 0\n",
       "10                  0                 1                 1                 0\n",
       "11                  0                 0                 0                 0\n",
       "12                  0                 1                 0                 0\n",
       "16                  0                 0                 0                 0\n",
       "   Frontal_Inf_Orb_R Supp_Motor_Area_L Supp_Motor_Area_R Frontal_Sup_Medial_L\n",
       "4                  0                 0                 0                    0\n",
       "9                  0                 0                 0                    0\n",
       "10                 0                 0                 0                    0\n",
       "11                 0                 0                 0                    0\n",
       "12                 0                 0                 0                    0\n",
       "16                 0                 0                 0                    0\n",
       "   Frontal_Sup_Medial_R Insula_L Insula_R Cingulum_Ant_L Cingulum_Ant_R\n",
       "4                     0        1        1              0              0\n",
       "9                     0        1        1              0              0\n",
       "10                    0        0        0              0              0\n",
       "11                    0        1        1              0              0\n",
       "12                    0        0        0              0              0\n",
       "16                    0        0        0              0              0\n",
       "   Cingulum_Mid_L Cingulum_Mid_R Precentral_L Precentral_R R3Precentral\n",
       "4               0              0            0            0            0\n",
       "9               0              0            0            0            0\n",
       "10              0              0            0            0            0\n",
       "11              0              0            0            0            0\n",
       "12              0              0            0            0            0\n",
       "16              0              0            1            1            1\n",
       "   R3Frontal_Mid R3Frontal_Mid_Orb R3Frontal_Inf_Orb R3Frontal_Inf_Oper\n",
       "4              0                 0                 0                  0\n",
       "9              0                 0                 0                  0\n",
       "10             0                 0                 0                  0\n",
       "11             0                 0                 0                  0\n",
       "12             0                 0                 0                  0\n",
       "16             0                 0                 0                  0\n",
       "   R3Frontal_Inf_Tri R3Supp_Motor_Area R3Cingulum_Mid R3Cingulum_Ant\n",
       "4                  0                 0              0              0\n",
       "9                  0                 0              0              0\n",
       "10                 1                 0              0              0\n",
       "11                 0                 0              0              0\n",
       "12                 1                 0              0              0\n",
       "16                 0                 0              0              0\n",
       "   R3Frontal_Sup R3Frontal_Sup_Medial R3Insula R4Frontal_Sup R4Frontal_Mid\n",
       "4              0                    0        1             0             0\n",
       "9              0                    0        1             0             0\n",
       "10             0                    0        0             0             0\n",
       "11             0                    0        1             0             0\n",
       "12             0                    0        0             0             0\n",
       "16             0                    0        0             0             0\n",
       "   R4Frontal_Inf R4Frontal_Orb R4Insula R4Motor R4Cingulum\n",
       "4              0             0        1       0          0\n",
       "9              0             0        1       0          0\n",
       "10             1             0        0       0          0\n",
       "11             0             0        1       0          0\n",
       "12             1             0        0       0          0\n",
       "16             0             0        0       1          0"
      ]
     },
     "execution_count": 8,
     "metadata": {},
     "output_type": "execute_result"
    },
    {
     "data": {
      "text/html": [
       "506"
      ],
      "text/latex": [
       "506"
      ],
      "text/markdown": [
       "506"
      ],
      "text/plain": [
       "[1] 506"
      ]
     },
     "execution_count": 8,
     "metadata": {},
     "output_type": "execute_result"
    },
    {
     "data": {
      "text/html": [
       "239"
      ],
      "text/latex": [
       "239"
      ],
      "text/markdown": [
       "239"
      ],
      "text/plain": [
       "[1] 239"
      ]
     },
     "execution_count": 8,
     "metadata": {},
     "output_type": "execute_result"
    },
    {
     "data": {
      "text/html": [
       "404"
      ],
      "text/latex": [
       "404"
      ],
      "text/markdown": [
       "404"
      ],
      "text/plain": [
       "[1] 404"
      ]
     },
     "execution_count": 8,
     "metadata": {},
     "output_type": "execute_result"
    }
   ],
   "source": [
    "data = cbind(data,R1,R3,R4) # will bind with other region names too \n",
    "\n",
    "\n",
    "# mscl fixed \n",
    "data<-data[!data$Classifier.type=='neural-net',] # no observations but still has a level\n",
    "data[data$Scanner=='4T','Scanner']='3T' # only one observatoin with 3T\n",
    "\n",
    "data$PID<-as.factor(data$PID)\n",
    "data$Info.type<-as.factor(data$Info.type)\n",
    "data$Smoothing<-as.factor(data$Smoothing)\n",
    "data$Roi.Search<-as.factor(data$Roi.Search)\n",
    "data$Classifier.type<-as.factor(data$Classifier.type)\n",
    "data$Coregistration<-as.factor(data$Coregistration)\n",
    "data$Pattern.type<-as.factor(data$Pattern.type)\n",
    "\n",
    "#data[data$Pattern.normalization.type=='Normalized Spatially']\n",
    "\n",
    "data$Pattern.normalization.type<-as.factor(data$Pattern.normalization.type)\n",
    "\n",
    "data<-droplevels(data)\n",
    "\n",
    "data_50<-subset(data,!is.na(Accuracy.50))\n",
    "\n",
    "data_50_non<-subset(data,!is.na(Accuracy.50)& Significance==0)\n",
    "\n",
    "data_50_sig<-subset(data,!is.na(Accuracy.50) & Significance==1)\n",
    "head(data_50_sig)\n",
    "nrow(data_50_sig)\n",
    "\n",
    "\n",
    "# make unique\n",
    "keys <- colnames(data_50_sig)[!grepl('Accuracy.50',colnames(data_50_sig))] # grab everything but accuracy\n",
    "X <- as.data.table(data_50_sig)\n",
    "data_50_sig_unique<- X[,list(Accuracy.50.mean= mean(Accuracy.50)),keys] # average the non-unique\n",
    "data_50_sig_unique$Accuracy.50<-data_50_sig_unique$Accuracy.50.mean\n",
    "data_50_sig_unique<-data.frame(data_50_sig_unique)\n",
    "\n",
    "keys <- colnames(data_50)[!grepl('Accuracy.50',colnames(data_50))] # grab everything but accuracy\n",
    "X <- as.data.table(data_50)\n",
    "data_50_unique<- X[,list(Accuracy.50.mean= mean(Accuracy.50)),keys] # average the non-unique\n",
    "data_50_unique$Accuracy.50<-data_50_unique$Accuracy.50.mean\n",
    "data_50_unique<-data.frame(data_50_unique)\n",
    "\n",
    "\n",
    "\n",
    "nrow(data_50_sig_unique)\n",
    "nrow(data_50_unique)"
   ]
  },
  {
   "cell_type": "code",
   "execution_count": 9,
   "metadata": {
    "collapsed": false
   },
   "outputs": [
    {
     "data": {
      "text/html": [
       "877"
      ],
      "text/latex": [
       "877"
      ],
      "text/markdown": [
       "877"
      ],
      "text/plain": [
       "[1] 877"
      ]
     },
     "execution_count": 9,
     "metadata": {},
     "output_type": "execute_result"
    }
   ],
   "source": [
    "nrow(data_50)"
   ]
  },
  {
   "cell_type": "code",
   "execution_count": 10,
   "metadata": {
    "collapsed": true
   },
   "outputs": [],
   "source": [
    "#ggplot(aes(y = Accuracy.50, x=Info.type,color=Info.type), data = d) +geom_point()+ggtitle(region)+geom_boxplot()+facet_wrap()"
   ]
  },
  {
   "cell_type": "code",
   "execution_count": 11,
   "metadata": {
    "collapsed": false
   },
   "outputs": [
    {
     "data": {
      "text/html": [
       "<table>\n",
       "<thead><tr><th></th><th scope=col>Accuracy.50</th><th scope=col>PID</th><th scope=col>R4Frontal_Sup</th><th scope=col>R4Frontal_Mid</th><th scope=col>R4Frontal_Inf</th><th scope=col>R4Frontal_Orb</th><th scope=col>R4Insula</th><th scope=col>R4Motor</th><th scope=col>R4Cingulum</th></tr></thead>\n",
       "<tbody>\n",
       "\t<tr><th scope=row>4</th><td>0.528</td><td>1</td><td>0</td><td>0</td><td>0</td><td>0</td><td>1</td><td>0</td><td>0</td></tr>\n",
       "\t<tr><th scope=row>9</th><td>0.535</td><td>1</td><td>0</td><td>0</td><td>0</td><td>0</td><td>1</td><td>0</td><td>0</td></tr>\n",
       "\t<tr><th scope=row>10</th><td>0.541</td><td>1</td><td>0</td><td>0</td><td>1</td><td>0</td><td>0</td><td>0</td><td>0</td></tr>\n",
       "\t<tr><th scope=row>11</th><td>0.543</td><td>1</td><td>0</td><td>0</td><td>0</td><td>0</td><td>1</td><td>0</td><td>0</td></tr>\n",
       "\t<tr><th scope=row>12</th><td>0.593</td><td>1</td><td>0</td><td>0</td><td>1</td><td>0</td><td>0</td><td>0</td><td>0</td></tr>\n",
       "\t<tr><th scope=row>16</th><td>0.64</td><td>2</td><td>0</td><td>0</td><td>0</td><td>0</td><td>0</td><td>1</td><td>0</td></tr>\n",
       "</tbody>\n",
       "</table>\n"
      ],
      "text/latex": [
       "\\begin{tabular}{r|lllllllll}\n",
       "  & Accuracy.50 & PID & R4Frontal_Sup & R4Frontal_Mid & R4Frontal_Inf & R4Frontal_Orb & R4Insula & R4Motor & R4Cingulum\\\\\n",
       "\\hline\n",
       "\t4 & 0.528 & 1 & 0 & 0 & 0 & 0 & 1 & 0 & 0\\\\\n",
       "\t9 & 0.535 & 1 & 0 & 0 & 0 & 0 & 1 & 0 & 0\\\\\n",
       "\t10 & 0.541 & 1 & 0 & 0 & 1 & 0 & 0 & 0 & 0\\\\\n",
       "\t11 & 0.543 & 1 & 0 & 0 & 0 & 0 & 1 & 0 & 0\\\\\n",
       "\t12 & 0.593 & 1 & 0 & 0 & 1 & 0 & 0 & 0 & 0\\\\\n",
       "\t16 & 0.64 & 2 & 0 & 0 & 0 & 0 & 0 & 1 & 0\\\\\n",
       "\\end{tabular}\n"
      ],
      "text/plain": [
       "   Accuracy.50 PID R4Frontal_Sup R4Frontal_Mid R4Frontal_Inf R4Frontal_Orb\n",
       "4        0.528   1             0             0             0             0\n",
       "9        0.535   1             0             0             0             0\n",
       "10       0.541   1             0             0             1             0\n",
       "11       0.543   1             0             0             0             0\n",
       "12       0.593   1             0             0             1             0\n",
       "16       0.640   2             0             0             0             0\n",
       "   R4Insula R4Motor R4Cingulum\n",
       "4         1       0          0\n",
       "9         1       0          0\n",
       "10        0       0          0\n",
       "11        1       0          0\n",
       "12        0       0          0\n",
       "16        0       1          0"
      ]
     },
     "execution_count": 11,
     "metadata": {},
     "output_type": "execute_result"
    },
    {
     "data": {
      "text/html": [
       "506"
      ],
      "text/latex": [
       "506"
      ],
      "text/markdown": [
       "506"
      ],
      "text/plain": [
       "[1] 506"
      ]
     },
     "execution_count": 11,
     "metadata": {},
     "output_type": "execute_result"
    }
   ],
   "source": [
    "d<-data_50_sig[c('Accuracy.50','PID',R4names)]\n",
    "head(d)\n",
    "nrow(d)"
   ]
  },
  {
   "cell_type": "markdown",
   "metadata": {},
   "source": [
    "# Mixed Effects "
   ]
  },
  {
   "cell_type": "code",
   "execution_count": 12,
   "metadata": {
    "collapsed": false
   },
   "outputs": [
    {
     "data": {
      "text/html": [
       "'R4Frontal_Sup+R4Frontal_Mid+R4Frontal_Inf+R4Frontal_Orb+R4Insula+R4Motor+R4Cingulum'"
      ],
      "text/latex": [
       "'R4Frontal_Sup+R4Frontal_Mid+R4Frontal_Inf+R4Frontal_Orb+R4Insula+R4Motor+R4Cingulum'"
      ],
      "text/markdown": [
       "'R4Frontal_Sup+R4Frontal_Mid+R4Frontal_Inf+R4Frontal_Orb+R4Insula+R4Motor+R4Cingulum'"
      ],
      "text/plain": [
       "[1] \"R4Frontal_Sup+R4Frontal_Mid+R4Frontal_Inf+R4Frontal_Orb+R4Insula+R4Motor+R4Cingulum\""
      ]
     },
     "execution_count": 12,
     "metadata": {},
     "output_type": "execute_result"
    }
   ],
   "source": [
    "R1names_string<-c()\n",
    "for (R in R4names){\n",
    "    R1names_string<-paste(R1names_string,R,sep='+')\n",
    "    \n",
    "}\n",
    "R1names_string<-substring(R1names_string, 2)\n",
    "R1names_string"
   ]
  },
  {
   "cell_type": "code",
   "execution_count": 13,
   "metadata": {
    "collapsed": false
   },
   "outputs": [
    {
     "data": {
      "text/html": [
       "<table>\n",
       "<thead><tr><th></th><th scope=col>Value</th><th scope=col>Std.Error</th><th scope=col>DF</th><th scope=col>t-value</th><th scope=col>p-value</th></tr></thead>\n",
       "<tbody>\n",
       "\t<tr><th scope=row>(Intercept)</th><td> 6.109729e-01</td><td> 1.324913e-02</td><td> 4.240000e+02</td><td> 4.611418e+01</td><td>2.652292e-167</td></tr>\n",
       "\t<tr><th scope=row>R4Frontal_Sup</th><td> -0.001687091</td><td>  0.010788811</td><td>424.000000000</td><td> -0.156374109</td><td>  0.875812571</td></tr>\n",
       "\t<tr><th scope=row>R4Frontal_Mid</th><td> -0.01747157</td><td>  0.01015051</td><td>424.00000000</td><td> -1.72125037</td><td>  0.08593485</td></tr>\n",
       "\t<tr><th scope=row>R4Frontal_Inf</th><td> -0.00722383</td><td>  0.01128012</td><td>424.00000000</td><td> -0.64040380</td><td>  0.52225604</td></tr>\n",
       "\t<tr><th scope=row>R4Frontal_Orb</th><td> -0.02531750</td><td>  0.01560418</td><td>424.00000000</td><td> -1.62248188</td><td>  0.10544348</td></tr>\n",
       "\t<tr><th scope=row>R4Insula</th><td> -0.02638382</td><td>  0.02028669</td><td>424.00000000</td><td> -1.30054844</td><td>  0.19411949</td></tr>\n",
       "\t<tr><th scope=row>R4Motor</th><td>  0.01202048</td><td>  0.01057061</td><td>424.00000000</td><td>  1.13716114</td><td>  0.25611316</td></tr>\n",
       "\t<tr><th scope=row>R4Cingulum</th><td>8.508613e-03</td><td>1.322444e-02</td><td>4.240000e+02</td><td>6.434005e-01</td><td>5.203121e-01</td></tr>\n",
       "</tbody>\n",
       "</table>\n"
      ],
      "text/latex": [
       "\\begin{tabular}{r|lllll}\n",
       "  & Value & Std.Error & DF & t-value & p-value\\\\\n",
       "\\hline\n",
       "\t(Intercept) &  6.109729e-01 &  1.324913e-02 &  4.240000e+02 &  4.611418e+01 & 2.652292e-167\\\\\n",
       "\tR4Frontal_Sup &  -0.001687091 &   0.010788811 & 424.000000000 &  -0.156374109 &   0.875812571\\\\\n",
       "\tR4Frontal_Mid &  -0.01747157 &   0.01015051 & 424.00000000 &  -1.72125037 &   0.08593485\\\\\n",
       "\tR4Frontal_Inf &  -0.00722383 &   0.01128012 & 424.00000000 &  -0.64040380 &   0.52225604\\\\\n",
       "\tR4Frontal_Orb &  -0.02531750 &   0.01560418 & 424.00000000 &  -1.62248188 &   0.10544348\\\\\n",
       "\tR4Insula &  -0.02638382 &   0.02028669 & 424.00000000 &  -1.30054844 &   0.19411949\\\\\n",
       "\tR4Motor &   0.01202048 &   0.01057061 & 424.00000000 &   1.13716114 &   0.25611316\\\\\n",
       "\tR4Cingulum & 8.508613e-03 & 1.322444e-02 & 4.240000e+02 & 6.434005e-01 & 5.203121e-01\\\\\n",
       "\\end{tabular}\n"
      ],
      "text/markdown": [
       "1. 0.610972871899446\n",
       "2. -0.00168709064943541\n",
       "3. -0.0174715677982043\n",
       "4. -0.00722383046323791\n",
       "5. -0.0253175041686641\n",
       "6. -0.0263838226346508\n",
       "7. 0.0120204813407023\n",
       "8. 0.00850861338693743\n",
       "9. 0.0132491311600156\n",
       "10. 0.0107888106353272\n",
       "11. 0.0101505092490449\n",
       "12. 0.0112801180214261\n",
       "13. 0.0156041830216235\n",
       "14. 0.0202866896786133\n",
       "15. 0.0105706050523462\n",
       "16. 0.0132244434530607\n",
       "17. 424\n",
       "18. 424\n",
       "19. 424\n",
       "20. 424\n",
       "21. 424\n",
       "22. 424\n",
       "23. 424\n",
       "24. 424\n",
       "25. 46.1141839808555\n",
       "26. -0.156374108922734\n",
       "27. -1.72125036976329\n",
       "28. -0.640403801584037\n",
       "29. -1.62248187768499\n",
       "30. -1.30054844100392\n",
       "31. 1.13716114462476\n",
       "32. 0.643400489187936\n",
       "33. 2.65229177207536e-167\n",
       "34. 0.875812571190903\n",
       "35. 0.0859348456651622\n",
       "36. 0.522256039397283\n",
       "37. 0.105443480955527\n",
       "38. 0.194119489068832\n",
       "39. 0.256113158426025\n",
       "40. 0.520312090242426\n",
       "\n",
       "\n"
      ],
      "text/plain": [
       "                     Value  Std.Error  DF    t-value       p-value\n",
       "(Intercept)    0.610972872 0.01324913 424 46.1141840 2.652292e-167\n",
       "R4Frontal_Sup -0.001687091 0.01078881 424 -0.1563741  8.758126e-01\n",
       "R4Frontal_Mid -0.017471568 0.01015051 424 -1.7212504  8.593485e-02\n",
       "R4Frontal_Inf -0.007223830 0.01128012 424 -0.6404038  5.222560e-01\n",
       "R4Frontal_Orb -0.025317504 0.01560418 424 -1.6224819  1.054435e-01\n",
       "R4Insula      -0.026383823 0.02028669 424 -1.3005484  1.941195e-01\n",
       "R4Motor        0.012020481 0.01057061 424  1.1371611  2.561132e-01\n",
       "R4Cingulum     0.008508613 0.01322444 424  0.6434005  5.203121e-01"
      ]
     },
     "execution_count": 13,
     "metadata": {},
     "output_type": "execute_result"
    }
   ],
   "source": [
    "d<-data_50_sig[c('Accuracy.50','PID',R4names)]\n",
    "gmean<-mean(d$Accuracy.50)\n",
    "d$Accuracy.50_wo_gmean<-d$Accuracy.50-gmean\n",
    "region_model<-lme(as.formula(paste('Accuracy.50~',R1names_string,sep='')),random=~1|PID,data=d,method='REML')\n",
    "summary(region_model)$tTable"
   ]
  },
  {
   "cell_type": "code",
   "execution_count": 14,
   "metadata": {
    "collapsed": false
   },
   "outputs": [
    {
     "data": {
      "text/html": [
       "<table>\n",
       "<thead><tr><th></th><th scope=col>Value</th><th scope=col>Std.Error</th><th scope=col>DF</th><th scope=col>t-value</th><th scope=col>p-value</th></tr></thead>\n",
       "<tbody>\n",
       "\t<tr><th scope=row>R4Frontal_Sup</th><td> -0.002791785</td><td>  0.008393601</td><td>425.000000000</td><td> -0.332608719</td><td>  0.739593656</td></tr>\n",
       "\t<tr><th scope=row>R4Frontal_Mid</th><td> -0.01850554</td><td>  0.00783533</td><td>425.00000000</td><td> -2.36180750</td><td>  0.01863618</td></tr>\n",
       "\t<tr><th scope=row>R4Frontal_Inf</th><td> -0.008396565</td><td>  0.008634853</td><td>425.000000000</td><td> -0.972403957</td><td>  0.331402727</td></tr>\n",
       "\t<tr><th scope=row>R4Frontal_Orb</th><td> -0.02643115</td><td>  0.01399847</td><td>425.00000000</td><td> -1.88814521</td><td>  0.05968733</td></tr>\n",
       "\t<tr><th scope=row>R4Insula</th><td> -0.02791812</td><td>  0.01799369</td><td>425.00000000</td><td> -1.55155034</td><td>  0.12151417</td></tr>\n",
       "\t<tr><th scope=row>R4Motor</th><td>1.088690e-02</td><td>7.973003e-03</td><td>4.250000e+02</td><td>1.365470e+00</td><td>1.728276e-01</td></tr>\n",
       "\t<tr><th scope=row>R4Cingulum</th><td>7.412733e-03</td><td>1.133452e-02</td><td>4.250000e+02</td><td>6.539960e-01</td><td>5.134681e-01</td></tr>\n",
       "</tbody>\n",
       "</table>\n"
      ],
      "text/latex": [
       "\\begin{tabular}{r|lllll}\n",
       "  & Value & Std.Error & DF & t-value & p-value\\\\\n",
       "\\hline\n",
       "\tR4Frontal_Sup &  -0.002791785 &   0.008393601 & 425.000000000 &  -0.332608719 &   0.739593656\\\\\n",
       "\tR4Frontal_Mid &  -0.01850554 &   0.00783533 & 425.00000000 &  -2.36180750 &   0.01863618\\\\\n",
       "\tR4Frontal_Inf &  -0.008396565 &   0.008634853 & 425.000000000 &  -0.972403957 &   0.331402727\\\\\n",
       "\tR4Frontal_Orb &  -0.02643115 &   0.01399847 & 425.00000000 &  -1.88814521 &   0.05968733\\\\\n",
       "\tR4Insula &  -0.02791812 &   0.01799369 & 425.00000000 &  -1.55155034 &   0.12151417\\\\\n",
       "\tR4Motor & 1.088690e-02 & 7.973003e-03 & 4.250000e+02 & 1.365470e+00 & 1.728276e-01\\\\\n",
       "\tR4Cingulum & 7.412733e-03 & 1.133452e-02 & 4.250000e+02 & 6.539960e-01 & 5.134681e-01\\\\\n",
       "\\end{tabular}\n"
      ],
      "text/markdown": [
       "1. -0.00279178496168522\n",
       "2. -0.01850554202976\n",
       "3. -0.00839656479017165\n",
       "4. -0.026431147196932\n",
       "5. -0.0279181232999437\n",
       "6. 0.0108868972962588\n",
       "7. 0.00741273317980171\n",
       "8. 0.00839360126672498\n",
       "9. 0.00783533037781483\n",
       "10. 0.00863485255027848\n",
       "11. 0.0139984716729733\n",
       "12. 0.0179936948283072\n",
       "13. 0.0079730034640279\n",
       "14. 0.0113345240886547\n",
       "15. 425\n",
       "16. 425\n",
       "17. 425\n",
       "18. 425\n",
       "19. 425\n",
       "20. 425\n",
       "21. 425\n",
       "22. -0.332608718590527\n",
       "23. -2.3618074972508\n",
       "24. -0.972403957251228\n",
       "25. -1.88814520716303\n",
       "26. -1.55155033840097\n",
       "27. 1.36547003213752\n",
       "28. 0.653995979171416\n",
       "29. 0.739593656499729\n",
       "30. 0.0186361826133401\n",
       "31. 0.331402727051499\n",
       "32. 0.0596873337760464\n",
       "33. 0.121514166792437\n",
       "34. 0.172827627307399\n",
       "35. 0.51346810459852\n",
       "\n",
       "\n"
      ],
      "text/plain": [
       "                     Value   Std.Error  DF    t-value    p-value\n",
       "R4Frontal_Sup -0.002791785 0.008393601 425 -0.3326087 0.73959366\n",
       "R4Frontal_Mid -0.018505542 0.007835330 425 -2.3618075 0.01863618\n",
       "R4Frontal_Inf -0.008396565 0.008634853 425 -0.9724040 0.33140273\n",
       "R4Frontal_Orb -0.026431147 0.013998472 425 -1.8881452 0.05968733\n",
       "R4Insula      -0.027918123 0.017993695 425 -1.5515503 0.12151417\n",
       "R4Motor        0.010886897 0.007973003 425  1.3654700 0.17282763\n",
       "R4Cingulum     0.007412733 0.011334524 425  0.6539960 0.51346810"
      ]
     },
     "execution_count": 14,
     "metadata": {},
     "output_type": "execute_result"
    }
   ],
   "source": [
    "d<-data_50_sig[c('Accuracy.50','PID',R4names)]\n",
    "gmean<-mean(d$Accuracy.50)\n",
    "d$Accuracy.50_wo_gmean<-d$Accuracy.50-gmean\n",
    "region_model<-lme(as.formula(paste('Accuracy.50_wo_gmean~-1+',R1names_string,sep='')),random=~1|PID,data=d,method='REML')\n",
    "summary(region_model)$tTable"
   ]
  },
  {
   "cell_type": "code",
   "execution_count": 15,
   "metadata": {
    "collapsed": false
   },
   "outputs": [
    {
     "data": {
      "text/html": [
       "<strong>null device:</strong> 1"
      ],
      "text/latex": [
       "\\textbf{null device:} 1"
      ],
      "text/markdown": [
       "**null device:** 1"
      ],
      "text/plain": [
       "null device \n",
       "          1 "
      ]
     },
     "execution_count": 15,
     "metadata": {},
     "output_type": "execute_result"
    },
    {
     "data": {
      "image/png": "[encoded data removed]"
     },
     "metadata": {},
     "output_type": "display_data"
    }
   ],
   "source": [
    "options(repr.plot.width=8, repr.plot.height=4)\n",
    "fits<-c()\n",
    "se<-c()\n",
    "i=1\n",
    "for (name in R4names){\n",
    "    ef<-effect(name,region_model)\n",
    "    fits[i]<-tail(ef$fit, n=1)\n",
    "    se[i]<-tail(ef$se, n=1)\n",
    "    i=i+1 \n",
    "}\n",
    "dd = data.table(name=R4names,se=se,Accuracy=fits)\n",
    "#jpeg('accuracy_by_region_low_mixed.jpg',width=6,height=5,units=\"in\",res=800)\n",
    "#options(repr.plot.width=8, repr.plot.height=5)\n",
    "p<-ggplot(aes(y = Accuracy, x = name,ymax = Accuracy + se, ymin=Accuracy - se), data = dd) +geom_point()+geom_errorbar()+theme(axis.text.x = element_text(angle = 45, hjust = 1))+ggtitle('Region Only Model')\n",
    "p\n",
    "dev.off()\n",
    "p\n"
   ]
  },
  {
   "cell_type": "code",
   "execution_count": 16,
   "metadata": {
    "collapsed": false
   },
   "outputs": [
    {
     "data": {
      "text/html": [
       "'R4Frontal_Sup+R4Frontal_Mid+R4Frontal_Inf+R4Frontal_Orb+R4Insula+R4Motor+R4Cingulum'"
      ],
      "text/latex": [
       "'R4Frontal_Sup+R4Frontal_Mid+R4Frontal_Inf+R4Frontal_Orb+R4Insula+R4Motor+R4Cingulum'"
      ],
      "text/markdown": [
       "'R4Frontal_Sup+R4Frontal_Mid+R4Frontal_Inf+R4Frontal_Orb+R4Insula+R4Motor+R4Cingulum'"
      ],
      "text/plain": [
       "[1] \"R4Frontal_Sup+R4Frontal_Mid+R4Frontal_Inf+R4Frontal_Orb+R4Insula+R4Motor+R4Cingulum\""
      ]
     },
     "execution_count": 16,
     "metadata": {},
     "output_type": "execute_result"
    }
   ],
   "source": [
    "R1names_string"
   ]
  },
  {
   "cell_type": "code",
   "execution_count": 17,
   "metadata": {
    "collapsed": false
   },
   "outputs": [
    {
     "data": {
      "text/html": [
       "<table>\n",
       "<thead><tr><th></th><th scope=col>Value</th><th scope=col>Std.Error</th><th scope=col>DF</th><th scope=col>t-value</th><th scope=col>p-value</th></tr></thead>\n",
       "<tbody>\n",
       "\t<tr><th scope=row>(Intercept)</th><td> 6.109729e-01</td><td> 1.324913e-02</td><td> 4.240000e+02</td><td> 4.611418e+01</td><td>2.652292e-167</td></tr>\n",
       "\t<tr><th scope=row>R4Insula</th><td> -0.02638382</td><td>  0.02028669</td><td>424.00000000</td><td> -1.30054844</td><td>  0.19411949</td></tr>\n",
       "\t<tr><th scope=row>R4Frontal_Sup</th><td> -0.001687091</td><td>  0.010788811</td><td>424.000000000</td><td> -0.156374109</td><td>  0.875812571</td></tr>\n",
       "\t<tr><th scope=row>R4Frontal_Mid</th><td> -0.01747157</td><td>  0.01015051</td><td>424.00000000</td><td> -1.72125037</td><td>  0.08593485</td></tr>\n",
       "\t<tr><th scope=row>R4Frontal_Inf</th><td> -0.00722383</td><td>  0.01128012</td><td>424.00000000</td><td> -0.64040380</td><td>  0.52225604</td></tr>\n",
       "\t<tr><th scope=row>R4Frontal_Orb</th><td> -0.02531750</td><td>  0.01560418</td><td>424.00000000</td><td> -1.62248188</td><td>  0.10544348</td></tr>\n",
       "\t<tr><th scope=row>R4Cingulum</th><td>8.508613e-03</td><td>1.322444e-02</td><td>4.240000e+02</td><td>6.434005e-01</td><td>5.203121e-01</td></tr>\n",
       "\t<tr><th scope=row>R4Motor</th><td>  0.01202048</td><td>  0.01057061</td><td>424.00000000</td><td>  1.13716114</td><td>  0.25611316</td></tr>\n",
       "</tbody>\n",
       "</table>\n"
      ],
      "text/latex": [
       "\\begin{tabular}{r|lllll}\n",
       "  & Value & Std.Error & DF & t-value & p-value\\\\\n",
       "\\hline\n",
       "\t(Intercept) &  6.109729e-01 &  1.324913e-02 &  4.240000e+02 &  4.611418e+01 & 2.652292e-167\\\\\n",
       "\tR4Insula &  -0.02638382 &   0.02028669 & 424.00000000 &  -1.30054844 &   0.19411949\\\\\n",
       "\tR4Frontal_Sup &  -0.001687091 &   0.010788811 & 424.000000000 &  -0.156374109 &   0.875812571\\\\\n",
       "\tR4Frontal_Mid &  -0.01747157 &   0.01015051 & 424.00000000 &  -1.72125037 &   0.08593485\\\\\n",
       "\tR4Frontal_Inf &  -0.00722383 &   0.01128012 & 424.00000000 &  -0.64040380 &   0.52225604\\\\\n",
       "\tR4Frontal_Orb &  -0.02531750 &   0.01560418 & 424.00000000 &  -1.62248188 &   0.10544348\\\\\n",
       "\tR4Cingulum & 8.508613e-03 & 1.322444e-02 & 4.240000e+02 & 6.434005e-01 & 5.203121e-01\\\\\n",
       "\tR4Motor &   0.01202048 &   0.01057061 & 424.00000000 &   1.13716114 &   0.25611316\\\\\n",
       "\\end{tabular}\n"
      ],
      "text/markdown": [
       "1. 0.610972871899446\n",
       "2. -0.0263838226346509\n",
       "3. -0.00168709064943539\n",
       "4. -0.0174715677982043\n",
       "5. -0.00722383046323791\n",
       "6. -0.0253175041686642\n",
       "7. 0.00850861338693746\n",
       "8. 0.0120204813407023\n",
       "9. 0.0132491311600156\n",
       "10. 0.0202866896786133\n",
       "11. 0.0107888106353272\n",
       "12. 0.010150509249045\n",
       "13. 0.0112801180214261\n",
       "14. 0.0156041830216236\n",
       "15. 0.0132244434530607\n",
       "16. 0.0105706050523462\n",
       "17. 424\n",
       "18. 424\n",
       "19. 424\n",
       "20. 424\n",
       "21. 424\n",
       "22. 424\n",
       "23. 424\n",
       "24. 424\n",
       "25. 46.1141839808555\n",
       "26. -1.30054844100392\n",
       "27. -0.156374108922733\n",
       "28. -1.72125036976329\n",
       "29. -0.640403801584037\n",
       "30. -1.622481877685\n",
       "31. 0.643400489187939\n",
       "32. 1.13716114462476\n",
       "33. 2.65229177207566e-167\n",
       "34. 0.194119489068832\n",
       "35. 0.875812571190903\n",
       "36. 0.0859348456651632\n",
       "37. 0.522256039397282\n",
       "38. 0.105443480955526\n",
       "39. 0.520312090242424\n",
       "40. 0.256113158426024\n",
       "\n",
       "\n"
      ],
      "text/plain": [
       "                     Value  Std.Error  DF    t-value       p-value\n",
       "(Intercept)    0.610972872 0.01324913 424 46.1141840 2.652292e-167\n",
       "R4Insula      -0.026383823 0.02028669 424 -1.3005484  1.941195e-01\n",
       "R4Frontal_Sup -0.001687091 0.01078881 424 -0.1563741  8.758126e-01\n",
       "R4Frontal_Mid -0.017471568 0.01015051 424 -1.7212504  8.593485e-02\n",
       "R4Frontal_Inf -0.007223830 0.01128012 424 -0.6404038  5.222560e-01\n",
       "R4Frontal_Orb -0.025317504 0.01560418 424 -1.6224819  1.054435e-01\n",
       "R4Cingulum     0.008508613 0.01322444 424  0.6434005  5.203121e-01\n",
       "R4Motor        0.012020481 0.01057061 424  1.1371611  2.561132e-01"
      ]
     },
     "execution_count": 17,
     "metadata": {},
     "output_type": "execute_result"
    }
   ],
   "source": [
    "d<-data_50_sig[c('Accuracy.50','PID',R4names)]\n",
    "\n",
    "region_model<-lme(Accuracy.50~R4Insula+R4Frontal_Sup+R4Frontal_Mid+R4Frontal_Inf+R4Frontal_Orb+R4Cingulum+R4Motor,random=~1|PID,data=d,method='REML')\n",
    "summary(region_model)$tTable"
   ]
  },
  {
   "cell_type": "code",
   "execution_count": 18,
   "metadata": {
    "collapsed": false
   },
   "outputs": [
    {
     "data": {
      "text/html": [
       "<table>\n",
       "<thead><tr><th></th><th scope=col>call</th><th scope=col>Model</th><th scope=col>df</th><th scope=col>AIC</th><th scope=col>BIC</th><th scope=col>logLik</th><th scope=col>Test</th><th scope=col>L.Ratio</th><th scope=col>p-value</th></tr></thead>\n",
       "<tbody>\n",
       "\t<tr><th scope=row>region_model</th><td>lme.formula(fixed = as.formula(paste(\"Accuracy.50~\", R1names_string,     sep = \"\")), data = d, random = ~1 | PID, method = \"ML\")</td><td>1</td><td>10</td><td>-2260.699</td><td>-2212.934</td><td>1140.349</td><td></td><td>NA</td><td>NA</td></tr>\n",
       "\t<tr><th scope=row>region_model_wo_region</th><td>lme.formula(fixed = Accuracy.50 ~ 1, data = d, random = ~1 |     PID, method = \"ML\")</td><td>2</td><td>3</td><td>-2260.481</td><td>-2246.151</td><td>1133.24</td><td>1 vs 2</td><td>14.21814</td><td>0.04743473</td></tr>\n",
       "</tbody>\n",
       "</table>\n"
      ],
      "text/latex": [
       "\\begin{tabular}{r|lllllllll}\n",
       "  & call & Model & df & AIC & BIC & logLik & Test & L.Ratio & p-value\\\\\n",
       "\\hline\n",
       "\tregion_model & lme.formula(fixed = as.formula(paste(\"Accuracy.50~\", R1names_string,     sep = \"\")), data = d, random = ~1 | PID, method = \"ML\") & 1 & 10 & -2260.699 & -2212.934 & 1140.349 &  & NA & NA\\\\\n",
       "\tregion_model_wo_region & lme.formula(fixed = Accuracy.50 ~ 1, data = d, random = ~1 |     PID, method = \"ML\") & 2 & 3 & -2260.481 & -2246.151 & 1133.24 & 1 vs 2 & 14.21814 & 0.04743473\\\\\n",
       "\\end{tabular}\n"
      ],
      "text/plain": [
       "                       Model df       AIC       BIC  logLik   Test  L.Ratio\n",
       "region_model               1 10 -2260.699 -2212.934 1140.35                \n",
       "region_model_wo_region     2  3 -2260.481 -2246.151 1133.24 1 vs 2 14.21814\n",
       "                       p-value\n",
       "region_model                  \n",
       "region_model_wo_region  0.0474"
      ]
     },
     "execution_count": 18,
     "metadata": {},
     "output_type": "execute_result"
    }
   ],
   "source": [
    "d<-data_50[c('Accuracy.50','PID',R4names)]\n",
    "region_model<-lme(as.formula(paste('Accuracy.50~',R1names_string,sep='')),random=~1|PID,data=d,method='ML')\n",
    "region_model_wo_region<-lme(Accuracy.50~1,random=~1|PID,data=d,method='ML')\n",
    "anova(region_model,region_model_wo_region)"
   ]
  },
  {
   "cell_type": "code",
   "execution_count": 19,
   "metadata": {
    "collapsed": false
   },
   "outputs": [
    {
     "name": "stdout",
     "output_type": "stream",
     "text": [
      "[1] \"all \"\n"
     ]
    },
    {
     "data": {
      "text/html": [
       "<table>\n",
       "<thead><tr><th></th><th scope=col>call</th><th scope=col>Model</th><th scope=col>df</th><th scope=col>AIC</th><th scope=col>BIC</th><th scope=col>logLik</th><th scope=col>Test</th><th scope=col>L.Ratio</th><th scope=col>p-value</th></tr></thead>\n",
       "<tbody>\n",
       "\t<tr><th scope=row>region_model</th><td>lme.formula(fixed = as.formula(paste(\"Accuracy.50_wo_gmean~-1+\",     R1names_string, sep = \"\")), data = d, random = ~1 | PID,     method = \"ML\")</td><td>1</td><td>9</td><td>-2261.943</td><td>-2218.954</td><td>1139.971</td><td></td><td>NA</td><td>NA</td></tr>\n",
       "\t<tr><th scope=row>region_model_wo_region</th><td>lme.formula(fixed = Accuracy.50_wo_gmean ~ 1, data = d, random = ~1 |     PID, method = \"ML\")</td><td>2</td><td>3</td><td>-2260.481</td><td>-2246.151</td><td>1133.24</td><td>1 vs 2</td><td>13.46209</td><td>0.03625747</td></tr>\n",
       "</tbody>\n",
       "</table>\n"
      ],
      "text/latex": [
       "\\begin{tabular}{r|lllllllll}\n",
       "  & call & Model & df & AIC & BIC & logLik & Test & L.Ratio & p-value\\\\\n",
       "\\hline\n",
       "\tregion_model & lme.formula(fixed = as.formula(paste(\"Accuracy.50_wo_gmean~-1+\",     R1names_string, sep = \"\")), data = d, random = ~1 | PID,     method = \"ML\") & 1 & 9 & -2261.943 & -2218.954 & 1139.971 &  & NA & NA\\\\\n",
       "\tregion_model_wo_region & lme.formula(fixed = Accuracy.50_wo_gmean ~ 1, data = d, random = ~1 |     PID, method = \"ML\") & 2 & 3 & -2260.481 & -2246.151 & 1133.24 & 1 vs 2 & 13.46209 & 0.03625747\\\\\n",
       "\\end{tabular}\n"
      ],
      "text/plain": [
       "                       Model df       AIC       BIC   logLik   Test  L.Ratio\n",
       "region_model               1  9 -2261.943 -2218.954 1139.971                \n",
       "region_model_wo_region     2  3 -2260.481 -2246.151 1133.240 1 vs 2 13.46209\n",
       "                       p-value\n",
       "region_model                  \n",
       "region_model_wo_region  0.0363"
      ]
     },
     "execution_count": 19,
     "metadata": {},
     "output_type": "execute_result"
    },
    {
     "name": "stdout",
     "output_type": "stream",
     "text": [
      "[1] \"all unique\"\n"
     ]
    },
    {
     "data": {
      "text/html": [
       "<table>\n",
       "<thead><tr><th></th><th scope=col>call</th><th scope=col>Model</th><th scope=col>df</th><th scope=col>AIC</th><th scope=col>BIC</th><th scope=col>logLik</th><th scope=col>Test</th><th scope=col>L.Ratio</th><th scope=col>p-value</th></tr></thead>\n",
       "<tbody>\n",
       "\t<tr><th scope=row>region_model</th><td>lme.formula(fixed = as.formula(paste(\"Accuracy.50_wo_gmean~-1+\",     R1names_string, sep = \"\")), data = d, random = ~1 | PID,     method = \"ML\")</td><td>1</td><td>9</td><td>-1146.35</td><td>-1110.337</td><td>582.1748</td><td></td><td>NA</td><td>NA</td></tr>\n",
       "\t<tr><th scope=row>region_model_wo_region</th><td>lme.formula(fixed = Accuracy.50_wo_gmean ~ 1, data = d, random = ~1 |     PID, method = \"ML\")</td><td>2</td><td>3</td><td>-1152.233</td><td>-1140.228</td><td>579.1163</td><td>1 vs 2</td><td>6.117004</td><td>0.4102118</td></tr>\n",
       "</tbody>\n",
       "</table>\n"
      ],
      "text/latex": [
       "\\begin{tabular}{r|lllllllll}\n",
       "  & call & Model & df & AIC & BIC & logLik & Test & L.Ratio & p-value\\\\\n",
       "\\hline\n",
       "\tregion_model & lme.formula(fixed = as.formula(paste(\"Accuracy.50_wo_gmean~-1+\",     R1names_string, sep = \"\")), data = d, random = ~1 | PID,     method = \"ML\") & 1 & 9 & -1146.35 & -1110.337 & 582.1748 &  & NA & NA\\\\\n",
       "\tregion_model_wo_region & lme.formula(fixed = Accuracy.50_wo_gmean ~ 1, data = d, random = ~1 |     PID, method = \"ML\") & 2 & 3 & -1152.233 & -1140.228 & 579.1163 & 1 vs 2 & 6.117004 & 0.4102118\\\\\n",
       "\\end{tabular}\n"
      ],
      "text/plain": [
       "                       Model df       AIC       BIC   logLik   Test  L.Ratio\n",
       "region_model               1  9 -1146.350 -1110.337 582.1748                \n",
       "region_model_wo_region     2  3 -1152.233 -1140.228 579.1163 1 vs 2 6.117004\n",
       "                       p-value\n",
       "region_model                  \n",
       "region_model_wo_region  0.4102"
      ]
     },
     "execution_count": 19,
     "metadata": {},
     "output_type": "execute_result"
    },
    {
     "name": "stdout",
     "output_type": "stream",
     "text": [
      "[1] \"sig\"\n"
     ]
    },
    {
     "data": {
      "text/html": [
       "<table>\n",
       "<thead><tr><th></th><th scope=col>call</th><th scope=col>Model</th><th scope=col>df</th><th scope=col>AIC</th><th scope=col>BIC</th><th scope=col>logLik</th><th scope=col>Test</th><th scope=col>L.Ratio</th><th scope=col>p-value</th></tr></thead>\n",
       "<tbody>\n",
       "\t<tr><th scope=row>region_model</th><td>lme.formula(fixed = as.formula(paste(\"Accuracy.50_wo_gmean~-1+\",     R1names_string, sep = \"\")), data = d, random = ~1 | PID,     method = \"ML\")</td><td>1</td><td>9</td><td>-1389.733</td><td>-1351.694</td><td>703.8665</td><td></td><td>NA</td><td>NA</td></tr>\n",
       "\t<tr><th scope=row>region_model_wo_region</th><td>lme.formula(fixed = Accuracy.50_wo_gmean ~ 1, data = d, random = ~1 |     PID, method = \"ML\")</td><td>2</td><td>3</td><td>-1384.061</td><td>-1371.381</td><td>695.0305</td><td>1 vs 2</td><td>17.67203</td><td>0.007106269</td></tr>\n",
       "</tbody>\n",
       "</table>\n"
      ],
      "text/latex": [
       "\\begin{tabular}{r|lllllllll}\n",
       "  & call & Model & df & AIC & BIC & logLik & Test & L.Ratio & p-value\\\\\n",
       "\\hline\n",
       "\tregion_model & lme.formula(fixed = as.formula(paste(\"Accuracy.50_wo_gmean~-1+\",     R1names_string, sep = \"\")), data = d, random = ~1 | PID,     method = \"ML\") & 1 & 9 & -1389.733 & -1351.694 & 703.8665 &  & NA & NA\\\\\n",
       "\tregion_model_wo_region & lme.formula(fixed = Accuracy.50_wo_gmean ~ 1, data = d, random = ~1 |     PID, method = \"ML\") & 2 & 3 & -1384.061 & -1371.381 & 695.0305 & 1 vs 2 & 17.67203 & 0.007106269\\\\\n",
       "\\end{tabular}\n"
      ],
      "text/plain": [
       "                       Model df       AIC       BIC   logLik   Test  L.Ratio\n",
       "region_model               1  9 -1389.733 -1351.694 703.8665                \n",
       "region_model_wo_region     2  3 -1384.061 -1371.381 695.0305 1 vs 2 17.67203\n",
       "                       p-value\n",
       "region_model                  \n",
       "region_model_wo_region  0.0071"
      ]
     },
     "execution_count": 19,
     "metadata": {},
     "output_type": "execute_result"
    },
    {
     "name": "stdout",
     "output_type": "stream",
     "text": [
      "[1] \"sig unique\"\n"
     ]
    },
    {
     "data": {
      "text/html": [
       "<table>\n",
       "<thead><tr><th></th><th scope=col>call</th><th scope=col>Model</th><th scope=col>df</th><th scope=col>AIC</th><th scope=col>BIC</th><th scope=col>logLik</th><th scope=col>Test</th><th scope=col>L.Ratio</th><th scope=col>p-value</th></tr></thead>\n",
       "<tbody>\n",
       "\t<tr><th scope=row>region_model</th><td>lme.formula(fixed = as.formula(paste(\"Accuracy.50_wo_gmean~-1+\",     R1names_string, sep = \"\")), data = d, random = ~1 | PID,     method = \"ML\")</td><td>1</td><td>9</td><td>-740.0771</td><td>-708.7889</td><td>379.0385</td><td></td><td>NA</td><td>NA</td></tr>\n",
       "\t<tr><th scope=row>region_model_wo_region</th><td>lme.formula(fixed = Accuracy.50_wo_gmean ~ 1, data = d, random = ~1 |     PID, method = \"ML\")</td><td>2</td><td>3</td><td>-741.4758</td><td>-731.0464</td><td>373.7379</td><td>1 vs 2</td><td>10.60125</td><td>0.1015103</td></tr>\n",
       "</tbody>\n",
       "</table>\n"
      ],
      "text/latex": [
       "\\begin{tabular}{r|lllllllll}\n",
       "  & call & Model & df & AIC & BIC & logLik & Test & L.Ratio & p-value\\\\\n",
       "\\hline\n",
       "\tregion_model & lme.formula(fixed = as.formula(paste(\"Accuracy.50_wo_gmean~-1+\",     R1names_string, sep = \"\")), data = d, random = ~1 | PID,     method = \"ML\") & 1 & 9 & -740.0771 & -708.7889 & 379.0385 &  & NA & NA\\\\\n",
       "\tregion_model_wo_region & lme.formula(fixed = Accuracy.50_wo_gmean ~ 1, data = d, random = ~1 |     PID, method = \"ML\") & 2 & 3 & -741.4758 & -731.0464 & 373.7379 & 1 vs 2 & 10.60125 & 0.1015103\\\\\n",
       "\\end{tabular}\n"
      ],
      "text/plain": [
       "                       Model df       AIC       BIC   logLik   Test  L.Ratio\n",
       "region_model               1  9 -740.0771 -708.7889 379.0385                \n",
       "region_model_wo_region     2  3 -741.4758 -731.0464 373.7379 1 vs 2 10.60125\n",
       "                       p-value\n",
       "region_model                  \n",
       "region_model_wo_region  0.1015"
      ]
     },
     "execution_count": 19,
     "metadata": {},
     "output_type": "execute_result"
    }
   ],
   "source": [
    "print('all ')\n",
    "d<-data_50[c('Accuracy.50','PID',R4names)]\n",
    "gmean<-mean(d$Accuracy.50)\n",
    "d$Accuracy.50_wo_gmean<-d$Accuracy.50-gmean\n",
    "region_model<-lme(as.formula(paste('Accuracy.50_wo_gmean~-1+',R1names_string,sep='')),random=~1|PID,data=d,method='ML')\n",
    "region_model_wo_region<-lme(Accuracy.50_wo_gmean~1,random=~1|PID,data=d,method='ML')\n",
    "anova(region_model,region_model_wo_region)\n",
    "\n",
    "print('all unique')\n",
    "d<-data_50_unique[c('Accuracy.50','PID',R4names)]\n",
    "gmean<-mean(d$Accuracy.50)\n",
    "d$Accuracy.50_wo_gmean<-d$Accuracy.50-gmean\n",
    "region_model<-lme(as.formula(paste('Accuracy.50_wo_gmean~-1+',R1names_string,sep='')),random=~1|PID,data=d,method='ML')\n",
    "region_model_wo_region<-lme(Accuracy.50_wo_gmean~1,random=~1|PID,data=d,method='ML')\n",
    "anova(region_model,region_model_wo_region)\n",
    "\n",
    "\n",
    "print('sig')\n",
    "d<-data_50_sig[c('Accuracy.50','PID',R4names)]\n",
    "gmean<-mean(d$Accuracy.50)\n",
    "d$Accuracy.50_wo_gmean<-d$Accuracy.50-gmean\n",
    "region_model<-lme(as.formula(paste('Accuracy.50_wo_gmean~-1+',R1names_string,sep='')),random=~1|PID,data=d,method='ML')\n",
    "region_model_wo_region<-lme(Accuracy.50_wo_gmean~1,random=~1|PID,data=d,method='ML')\n",
    "anova(region_model,region_model_wo_region)\n",
    "\n",
    "print('sig unique')\n",
    "d<-data_50_sig_unique[c('Accuracy.50','PID',R4names)]\n",
    "gmean<-mean(d$Accuracy.50)\n",
    "d$Accuracy.50_wo_gmean<-d$Accuracy.50-gmean\n",
    "region_model<-lme(as.formula(paste('Accuracy.50_wo_gmean~-1+',R1names_string,sep='')),random=~1|PID,data=d,method='ML')\n",
    "region_model_wo_region<-lme(Accuracy.50_wo_gmean~1,random=~1|PID,data=d,method='ML')\n",
    "anova(region_model,region_model_wo_region)"
   ]
  },
  {
   "cell_type": "markdown",
   "metadata": {},
   "source": [
    "# Interactions with Info-type "
   ]
  },
  {
   "cell_type": "code",
   "execution_count": 20,
   "metadata": {
    "collapsed": false
   },
   "outputs": [
    {
     "data": {
      "text/html": [
       "<ol class=list-inline>\n",
       "\t<li>'Value'</li>\n",
       "\t<li>'Perceptual'</li>\n",
       "\t<li>'Response'</li>\n",
       "\t<li>'Rule'</li>\n",
       "</ol>\n"
      ],
      "text/latex": [
       "\\begin{enumerate*}\n",
       "\\item 'Value'\n",
       "\\item 'Perceptual'\n",
       "\\item 'Response'\n",
       "\\item 'Rule'\n",
       "\\end{enumerate*}\n"
      ],
      "text/markdown": [
       "1. 'Value'\n",
       "2. 'Perceptual'\n",
       "3. 'Response'\n",
       "4. 'Rule'\n",
       "\n",
       "\n"
      ],
      "text/plain": [
       "[1] \"Value\"      \"Perceptual\" \"Response\"   \"Rule\"      "
      ]
     },
     "execution_count": 20,
     "metadata": {},
     "output_type": "execute_result"
    },
    {
     "data": {
      "text/html": [
       "<table>\n",
       "<thead><tr><th></th><th scope=col>Value</th><th scope=col>Std.Error</th><th scope=col>DF</th><th scope=col>t-value</th><th scope=col>p-value</th></tr></thead>\n",
       "<tbody>\n",
       "\t<tr><th scope=row>(Intercept)</th><td>6.007505e-03</td><td>2.478401e-02</td><td>4.000000e+02</td><td>2.423944e-01</td><td>8.085988e-01</td></tr>\n",
       "\t<tr><th scope=row>Info.typePerceptual</th><td> -0.01106010</td><td>  0.03114979</td><td>400.00000000</td><td> -0.35506165</td><td>  0.72273055</td></tr>\n",
       "\t<tr><th scope=row>Info.typeResponse</th><td> -0.08013988</td><td>  0.04849224</td><td>400.00000000</td><td> -1.65263315</td><td>  0.09919020</td></tr>\n",
       "\t<tr><th scope=row>Info.typeRule</th><td> -0.003774482</td><td>  0.033813003</td><td>400.000000000</td><td> -0.111628119</td><td>  0.911174268</td></tr>\n",
       "\t<tr><th scope=row>R4Frontal_Sup</th><td> -0.004401901</td><td>  0.021565234</td><td>400.000000000</td><td> -0.204120270</td><td>  0.838363326</td></tr>\n",
       "\t<tr><th scope=row>R4Frontal_Mid</th><td> -0.01585200</td><td>  0.01924601</td><td>400.00000000</td><td> -0.82365134</td><td>  0.41062850</td></tr>\n",
       "\t<tr><th scope=row>R4Frontal_Inf</th><td> -0.02680736</td><td>  0.02546873</td><td>400.00000000</td><td> -1.05255994</td><td>  0.29317814</td></tr>\n",
       "\t<tr><th scope=row>R4Frontal_Orb</th><td>2.878781e-03</td><td>3.030249e-02</td><td>4.000000e+02</td><td>9.500147e-02</td><td>9.243612e-01</td></tr>\n",
       "\t<tr><th scope=row>R4Insula</th><td> -0.02636682</td><td>  0.05781417</td><td>400.00000000</td><td> -0.45606147</td><td>  0.64859328</td></tr>\n",
       "\t<tr><th scope=row>R4Motor</th><td> -0.02108070</td><td>  0.02498974</td><td>400.00000000</td><td> -0.84357449</td><td>  0.39941141</td></tr>\n",
       "\t<tr><th scope=row>R4Cingulum</th><td>2.882524e-04</td><td>2.919116e-02</td><td>4.000000e+02</td><td>9.874646e-03</td><td>9.921262e-01</td></tr>\n",
       "\t<tr><th scope=row>Info.typePerceptual:R4Frontal_Sup</th><td> -0.01189284</td><td>  0.02873877</td><td>400.00000000</td><td> -0.41382570</td><td>  0.67922355</td></tr>\n",
       "\t<tr><th scope=row>Info.typeResponse:R4Frontal_Sup</th><td>  0.10240197</td><td>  0.04280915</td><td>400.00000000</td><td>  2.39205824</td><td>  0.01721507</td></tr>\n",
       "\t<tr><th scope=row>Info.typeRule:R4Frontal_Sup</th><td> -0.01565952</td><td>  0.03083050</td><td>400.00000000</td><td> -0.50792293</td><td>  0.61178736</td></tr>\n",
       "\t<tr><th scope=row>Info.typePerceptual:R4Frontal_Mid</th><td>  0.01937956</td><td>  0.02835105</td><td>400.00000000</td><td>  0.68355708</td><td>  0.49465066</td></tr>\n",
       "\t<tr><th scope=row>Info.typeResponse:R4Frontal_Mid</th><td>  0.04351934</td><td>  0.04120046</td><td>400.00000000</td><td>  1.05628287</td><td>  0.29147653</td></tr>\n",
       "\t<tr><th scope=row>Info.typeRule:R4Frontal_Mid</th><td> -0.004361223</td><td>  0.027247802</td><td>400.000000000</td><td> -0.160057798</td><td>  0.872916339</td></tr>\n",
       "\t<tr><th scope=row>Info.typePerceptual:R4Frontal_Inf</th><td>  0.03385791</td><td>  0.03212399</td><td>400.00000000</td><td>  1.05397576</td><td>  0.29253024</td></tr>\n",
       "\t<tr><th scope=row>Info.typeResponse:R4Frontal_Inf</th><td>  0.07039261</td><td>  0.05157418</td><td>400.00000000</td><td>  1.36488084</td><td>  0.17305773</td></tr>\n",
       "\t<tr><th scope=row>Info.typeRule:R4Frontal_Inf</th><td>7.985183e-03</td><td>3.268239e-02</td><td>4.000000e+02</td><td>2.443268e-01</td><td>8.071030e-01</td></tr>\n",
       "\t<tr><th scope=row>Info.typePerceptual:R4Frontal_Orb</th><td> -0.03804718</td><td>  0.03771809</td><td>400.00000000</td><td> -1.00872495</td><td>  0.31371636</td></tr>\n",
       "\t<tr><th scope=row>Info.typeResponse:R4Frontal_Orb</th><td>  0.03393149</td><td>  0.07842725</td><td>400.00000000</td><td>  0.43264918</td><td>  0.66550282</td></tr>\n",
       "\t<tr><th scope=row>Info.typeRule:R4Frontal_Orb</th><td> -0.06302851</td><td>  0.05137103</td><td>400.00000000</td><td> -1.22692718</td><td>  0.22057162</td></tr>\n",
       "\t<tr><th scope=row>Info.typePerceptual:R4Insula</th><td> -0.005947859</td><td>  0.067072651</td><td>400.000000000</td><td> -0.088677852</td><td>  0.929382316</td></tr>\n",
       "\t<tr><th scope=row>Info.typeResponse:R4Insula</th><td>  0.04000972</td><td>  0.09060124</td><td>400.00000000</td><td>  0.44160232</td><td>  0.65901563</td></tr>\n",
       "\t<tr><th scope=row>Info.typeRule:R4Insula</th><td> -0.004340286</td><td>  0.065670770</td><td>400.000000000</td><td> -0.066091604</td><td>  0.947337915</td></tr>\n",
       "\t<tr><th scope=row>Info.typePerceptual:R4Motor</th><td> -0.01372235</td><td>  0.03705049</td><td>400.00000000</td><td> -0.37036893</td><td>  0.71130366</td></tr>\n",
       "\t<tr><th scope=row>Info.typeResponse:R4Motor</th><td>  0.10362198</td><td>  0.04336006</td><td>400.00000000</td><td>  2.38980240</td><td>  0.01731963</td></tr>\n",
       "\t<tr><th scope=row>Info.typeRule:R4Motor</th><td>  0.03075746</td><td>  0.03278133</td><td>400.00000000</td><td>  0.93826156</td><td>  0.34867619</td></tr>\n",
       "\t<tr><th scope=row>Info.typePerceptual:R4Cingulum</th><td>  0.07188141</td><td>  0.03944581</td><td>400.00000000</td><td>  1.82228245</td><td>  0.06915866</td></tr>\n",
       "\t<tr><th scope=row>Info.typeResponse:R4Cingulum</th><td>  0.06579419</td><td>  0.05004588</td><td>400.00000000</td><td>  1.31467753</td><td>  0.18937157</td></tr>\n",
       "\t<tr><th scope=row>Info.typeRule:R4Cingulum</th><td> -0.005194594</td><td>  0.037774584</td><td>400.000000000</td><td> -0.137515581</td><td>  0.890692471</td></tr>\n",
       "</tbody>\n",
       "</table>\n"
      ],
      "text/latex": [
       "\\begin{tabular}{r|lllll}\n",
       "  & Value & Std.Error & DF & t-value & p-value\\\\\n",
       "\\hline\n",
       "\t(Intercept) & 6.007505e-03 & 2.478401e-02 & 4.000000e+02 & 2.423944e-01 & 8.085988e-01\\\\\n",
       "\tInfo.typePerceptual &  -0.01106010 &   0.03114979 & 400.00000000 &  -0.35506165 &   0.72273055\\\\\n",
       "\tInfo.typeResponse &  -0.08013988 &   0.04849224 & 400.00000000 &  -1.65263315 &   0.09919020\\\\\n",
       "\tInfo.typeRule &  -0.003774482 &   0.033813003 & 400.000000000 &  -0.111628119 &   0.911174268\\\\\n",
       "\tR4Frontal_Sup &  -0.004401901 &   0.021565234 & 400.000000000 &  -0.204120270 &   0.838363326\\\\\n",
       "\tR4Frontal_Mid &  -0.01585200 &   0.01924601 & 400.00000000 &  -0.82365134 &   0.41062850\\\\\n",
       "\tR4Frontal_Inf &  -0.02680736 &   0.02546873 & 400.00000000 &  -1.05255994 &   0.29317814\\\\\n",
       "\tR4Frontal_Orb & 2.878781e-03 & 3.030249e-02 & 4.000000e+02 & 9.500147e-02 & 9.243612e-01\\\\\n",
       "\tR4Insula &  -0.02636682 &   0.05781417 & 400.00000000 &  -0.45606147 &   0.64859328\\\\\n",
       "\tR4Motor &  -0.02108070 &   0.02498974 & 400.00000000 &  -0.84357449 &   0.39941141\\\\\n",
       "\tR4Cingulum & 2.882524e-04 & 2.919116e-02 & 4.000000e+02 & 9.874646e-03 & 9.921262e-01\\\\\n",
       "\tInfo.typePerceptual:R4Frontal_Sup &  -0.01189284 &   0.02873877 & 400.00000000 &  -0.41382570 &   0.67922355\\\\\n",
       "\tInfo.typeResponse:R4Frontal_Sup &   0.10240197 &   0.04280915 & 400.00000000 &   2.39205824 &   0.01721507\\\\\n",
       "\tInfo.typeRule:R4Frontal_Sup &  -0.01565952 &   0.03083050 & 400.00000000 &  -0.50792293 &   0.61178736\\\\\n",
       "\tInfo.typePerceptual:R4Frontal_Mid &   0.01937956 &   0.02835105 & 400.00000000 &   0.68355708 &   0.49465066\\\\\n",
       "\tInfo.typeResponse:R4Frontal_Mid &   0.04351934 &   0.04120046 & 400.00000000 &   1.05628287 &   0.29147653\\\\\n",
       "\tInfo.typeRule:R4Frontal_Mid &  -0.004361223 &   0.027247802 & 400.000000000 &  -0.160057798 &   0.872916339\\\\\n",
       "\tInfo.typePerceptual:R4Frontal_Inf &   0.03385791 &   0.03212399 & 400.00000000 &   1.05397576 &   0.29253024\\\\\n",
       "\tInfo.typeResponse:R4Frontal_Inf &   0.07039261 &   0.05157418 & 400.00000000 &   1.36488084 &   0.17305773\\\\\n",
       "\tInfo.typeRule:R4Frontal_Inf & 7.985183e-03 & 3.268239e-02 & 4.000000e+02 & 2.443268e-01 & 8.071030e-01\\\\\n",
       "\tInfo.typePerceptual:R4Frontal_Orb &  -0.03804718 &   0.03771809 & 400.00000000 &  -1.00872495 &   0.31371636\\\\\n",
       "\tInfo.typeResponse:R4Frontal_Orb &   0.03393149 &   0.07842725 & 400.00000000 &   0.43264918 &   0.66550282\\\\\n",
       "\tInfo.typeRule:R4Frontal_Orb &  -0.06302851 &   0.05137103 & 400.00000000 &  -1.22692718 &   0.22057162\\\\\n",
       "\tInfo.typePerceptual:R4Insula &  -0.005947859 &   0.067072651 & 400.000000000 &  -0.088677852 &   0.929382316\\\\\n",
       "\tInfo.typeResponse:R4Insula &   0.04000972 &   0.09060124 & 400.00000000 &   0.44160232 &   0.65901563\\\\\n",
       "\tInfo.typeRule:R4Insula &  -0.004340286 &   0.065670770 & 400.000000000 &  -0.066091604 &   0.947337915\\\\\n",
       "\tInfo.typePerceptual:R4Motor &  -0.01372235 &   0.03705049 & 400.00000000 &  -0.37036893 &   0.71130366\\\\\n",
       "\tInfo.typeResponse:R4Motor &   0.10362198 &   0.04336006 & 400.00000000 &   2.38980240 &   0.01731963\\\\\n",
       "\tInfo.typeRule:R4Motor &   0.03075746 &   0.03278133 & 400.00000000 &   0.93826156 &   0.34867619\\\\\n",
       "\tInfo.typePerceptual:R4Cingulum &   0.07188141 &   0.03944581 & 400.00000000 &   1.82228245 &   0.06915866\\\\\n",
       "\tInfo.typeResponse:R4Cingulum &   0.06579419 &   0.05004588 & 400.00000000 &   1.31467753 &   0.18937157\\\\\n",
       "\tInfo.typeRule:R4Cingulum &  -0.005194594 &   0.037774584 & 400.000000000 &  -0.137515581 &   0.890692471\\\\\n",
       "\\end{tabular}\n"
      ],
      "text/markdown": [
       "1. 0.00600750487710298\n",
       "2. -0.0110600951261031\n",
       "3. -0.0801398827723497\n",
       "4. -0.00377448194160045\n",
       "5. -0.00440190140145912\n",
       "6. -0.0158520037595477\n",
       "7. -0.0268073602195013\n",
       "8. 0.00287878138407764\n",
       "9. -0.026366815417114\n",
       "10. -0.0210807040813216\n",
       "11. 0.00028825235261213\n",
       "12. -0.0118928421581795\n",
       "13. 0.102401971874388\n",
       "14. -0.0156595170373272\n",
       "15. 0.0193795641699043\n",
       "16. 0.0435193372918254\n",
       "17. -0.0043612231602287\n",
       "18. 0.0338579062815346\n",
       "19. 0.0703926084222751\n",
       "20. 0.00798518274859892\n",
       "21. -0.0380471771002287\n",
       "22. 0.0339314850297992\n",
       "23. -0.0630285075719449\n",
       "24. -0.00594785858284971\n",
       "25. 0.0400097186041025\n",
       "26. -0.00434028649082363\n",
       "27. -0.0137223490262823\n",
       "28. 0.103621978931682\n",
       "29. 0.0307574619900779\n",
       "30. 0.0718814069421993\n",
       "31. 0.0657941922109365\n",
       "32. -0.00519459387577953\n",
       "33. 0.0247840056043084\n",
       "34. 0.0311497881489062\n",
       "35. 0.0484922397348088\n",
       "36. 0.0338130032840508\n",
       "37. 0.0215652340866973\n",
       "38. 0.0192460122087329\n",
       "39. 0.0254687254191909\n",
       "40. 0.0303024936790441\n",
       "41. 0.0578141703396067\n",
       "42. 0.0249897363845471\n",
       "43. 0.0291911589874465\n",
       "44. 0.0287387713601545\n",
       "45. 0.0428091466610866\n",
       "46. 0.0308304982623758\n",
       "47. 0.0283510548642958\n",
       "48. 0.0412004574310939\n",
       "49. 0.0272478017727402\n",
       "50. 0.0321239895599501\n",
       "51. 0.0515741787606673\n",
       "52. 0.0326823898347162\n",
       "53. 0.0377180887460323\n",
       "54. 0.0784272492216207\n",
       "55. 0.0513710256736144\n",
       "56. 0.0670726508980904\n",
       "57. 0.0906012413193813\n",
       "58. 0.0656707696850868\n",
       "59. 0.0370504865802639\n",
       "60. 0.0433600614281387\n",
       "61. 0.0327813301990318\n",
       "62. 0.0394458097606458\n",
       "63. 0.0500458786775342\n",
       "64. 0.0377745840588154\n",
       "65. 400\n",
       "66. 400\n",
       "67. 400\n",
       "68. 400\n",
       "69. 400\n",
       "70. 400\n",
       "71. 400\n",
       "72. 400\n",
       "73. 400\n",
       "74. 400\n",
       "75. 400\n",
       "76. 400\n",
       "77. 400\n",
       "78. 400\n",
       "79. 400\n",
       "80. 400\n",
       "81. 400\n",
       "82. 400\n",
       "83. 400\n",
       "84. 400\n",
       "85. 400\n",
       "86. 400\n",
       "87. 400\n",
       "88. 400\n",
       "89. 400\n",
       "90. 400\n",
       "91. 400\n",
       "92. 400\n",
       "93. 400\n",
       "94. 400\n",
       "95. 400\n",
       "96. 400\n",
       "97. 0.242394428609177\n",
       "98. -0.355061648356394\n",
       "99. -1.6526331472956\n",
       "100. -0.111628118623252\n",
       "101. -0.204120269864099\n",
       "102. -0.823651340736181\n",
       "103. -1.05255994472742\n",
       "104. 0.0950014680167554\n",
       "105. -0.456061468360308\n",
       "106. -0.843574488218982\n",
       "107. 0.00987464570132659\n",
       "108. -0.413825699405808\n",
       "109. 2.39205823664482\n",
       "110. -0.507922930860881\n",
       "111. 0.683557076188728\n",
       "112. 1.05628286687374\n",
       "113. -0.160057798298865\n",
       "114. 1.05397575909271\n",
       "115. 1.36488083986632\n",
       "116. 0.244326770134686\n",
       "117. -1.00872494776743\n",
       "118. 0.432649179546196\n",
       "119. -1.22692717821903\n",
       "120. -0.0886778516013455\n",
       "121. 0.441602322677489\n",
       "122. -0.0660916037932364\n",
       "123. -0.370368928800842\n",
       "124. 2.38980240153525\n",
       "125. 0.938261559348995\n",
       "126. 1.82228245226477\n",
       "127. 1.31467753088871\n",
       "128. -0.137515581050251\n",
       "129. 0.808598784168342\n",
       "130. 0.722730545655811\n",
       "131. 0.099190200873546\n",
       "132. 0.911174268278894\n",
       "133. 0.838363326495897\n",
       "134. 0.410628503731119\n",
       "135. 0.293178141107363\n",
       "136. 0.924361233350049\n",
       "137. 0.648593280226372\n",
       "138. 0.399411405477214\n",
       "139. 0.992126223655255\n",
       "140. 0.679223552588997\n",
       "141. 0.0172150693309831\n",
       "142. 0.611787357284902\n",
       "143. 0.494650659497762\n",
       "144. 0.291476533152019\n",
       "145. 0.872916338966835\n",
       "146. 0.292530238609947\n",
       "147. 0.17305773448721\n",
       "148. 0.80710302785984\n",
       "149. 0.313716361484516\n",
       "150. 0.665502823266196\n",
       "151. 0.22057162267567\n",
       "152. 0.929382315578847\n",
       "153. 0.659015628724757\n",
       "154. 0.947337915221329\n",
       "155. 0.711303660557249\n",
       "156. 0.0173196253442562\n",
       "157. 0.348676193138334\n",
       "158. 0.0691586598643836\n",
       "159. 0.189371566914336\n",
       "160. 0.890692471093969\n",
       "\n",
       "\n"
      ],
      "text/plain": [
       "                                          Value  Std.Error  DF      t-value\n",
       "(Intercept)                        0.0060075049 0.02478401 400  0.242394429\n",
       "Info.typePerceptual               -0.0110600951 0.03114979 400 -0.355061648\n",
       "Info.typeResponse                 -0.0801398828 0.04849224 400 -1.652633147\n",
       "Info.typeRule                     -0.0037744819 0.03381300 400 -0.111628119\n",
       "R4Frontal_Sup                     -0.0044019014 0.02156523 400 -0.204120270\n",
       "R4Frontal_Mid                     -0.0158520038 0.01924601 400 -0.823651341\n",
       "R4Frontal_Inf                     -0.0268073602 0.02546873 400 -1.052559945\n",
       "R4Frontal_Orb                      0.0028787814 0.03030249 400  0.095001468\n",
       "R4Insula                          -0.0263668154 0.05781417 400 -0.456061468\n",
       "R4Motor                           -0.0210807041 0.02498974 400 -0.843574488\n",
       "R4Cingulum                         0.0002882524 0.02919116 400  0.009874646\n",
       "Info.typePerceptual:R4Frontal_Sup -0.0118928422 0.02873877 400 -0.413825699\n",
       "Info.typeResponse:R4Frontal_Sup    0.1024019719 0.04280915 400  2.392058237\n",
       "Info.typeRule:R4Frontal_Sup       -0.0156595170 0.03083050 400 -0.507922931\n",
       "Info.typePerceptual:R4Frontal_Mid  0.0193795642 0.02835105 400  0.683557076\n",
       "Info.typeResponse:R4Frontal_Mid    0.0435193373 0.04120046 400  1.056282867\n",
       "Info.typeRule:R4Frontal_Mid       -0.0043612232 0.02724780 400 -0.160057798\n",
       "Info.typePerceptual:R4Frontal_Inf  0.0338579063 0.03212399 400  1.053975759\n",
       "Info.typeResponse:R4Frontal_Inf    0.0703926084 0.05157418 400  1.364880840\n",
       "Info.typeRule:R4Frontal_Inf        0.0079851827 0.03268239 400  0.244326770\n",
       "Info.typePerceptual:R4Frontal_Orb -0.0380471771 0.03771809 400 -1.008724948\n",
       "Info.typeResponse:R4Frontal_Orb    0.0339314850 0.07842725 400  0.432649180\n",
       "Info.typeRule:R4Frontal_Orb       -0.0630285076 0.05137103 400 -1.226927178\n",
       "Info.typePerceptual:R4Insula      -0.0059478586 0.06707265 400 -0.088677852\n",
       "Info.typeResponse:R4Insula         0.0400097186 0.09060124 400  0.441602323\n",
       "Info.typeRule:R4Insula            -0.0043402865 0.06567077 400 -0.066091604\n",
       "Info.typePerceptual:R4Motor       -0.0137223490 0.03705049 400 -0.370368929\n",
       "Info.typeResponse:R4Motor          0.1036219789 0.04336006 400  2.389802402\n",
       "Info.typeRule:R4Motor              0.0307574620 0.03278133 400  0.938261559\n",
       "Info.typePerceptual:R4Cingulum     0.0718814069 0.03944581 400  1.822282452\n",
       "Info.typeResponse:R4Cingulum       0.0657941922 0.05004588 400  1.314677531\n",
       "Info.typeRule:R4Cingulum          -0.0051945939 0.03777458 400 -0.137515581\n",
       "                                     p-value\n",
       "(Intercept)                       0.80859878\n",
       "Info.typePerceptual               0.72273055\n",
       "Info.typeResponse                 0.09919020\n",
       "Info.typeRule                     0.91117427\n",
       "R4Frontal_Sup                     0.83836333\n",
       "R4Frontal_Mid                     0.41062850\n",
       "R4Frontal_Inf                     0.29317814\n",
       "R4Frontal_Orb                     0.92436123\n",
       "R4Insula                          0.64859328\n",
       "R4Motor                           0.39941141\n",
       "R4Cingulum                        0.99212622\n",
       "Info.typePerceptual:R4Frontal_Sup 0.67922355\n",
       "Info.typeResponse:R4Frontal_Sup   0.01721507\n",
       "Info.typeRule:R4Frontal_Sup       0.61178736\n",
       "Info.typePerceptual:R4Frontal_Mid 0.49465066\n",
       "Info.typeResponse:R4Frontal_Mid   0.29147653\n",
       "Info.typeRule:R4Frontal_Mid       0.87291634\n",
       "Info.typePerceptual:R4Frontal_Inf 0.29253024\n",
       "Info.typeResponse:R4Frontal_Inf   0.17305773\n",
       "Info.typeRule:R4Frontal_Inf       0.80710303\n",
       "Info.typePerceptual:R4Frontal_Orb 0.31371636\n",
       "Info.typeResponse:R4Frontal_Orb   0.66550282\n",
       "Info.typeRule:R4Frontal_Orb       0.22057162\n",
       "Info.typePerceptual:R4Insula      0.92938232\n",
       "Info.typeResponse:R4Insula        0.65901563\n",
       "Info.typeRule:R4Insula            0.94733792\n",
       "Info.typePerceptual:R4Motor       0.71130366\n",
       "Info.typeResponse:R4Motor         0.01731963\n",
       "Info.typeRule:R4Motor             0.34867619\n",
       "Info.typePerceptual:R4Cingulum    0.06915866\n",
       "Info.typeResponse:R4Cingulum      0.18937157\n",
       "Info.typeRule:R4Cingulum          0.89069247"
      ]
     },
     "execution_count": 20,
     "metadata": {},
     "output_type": "execute_result"
    }
   ],
   "source": [
    "d<-data_50_sig[c('Accuracy.50','PID','Info.type',R4names)]\n",
    "gmean<-mean(d$Accuracy.50)\n",
    "d$Accuracy.50_wo_gmean<-d$Accuracy.50-gmean\n",
    "R1names_string2<-paste(R1names_string,')',sep='')\n",
    "d$Info.type<-as.factor(d$Info.type)\n",
    "\n",
    "\n",
    "# first model matrix #\n",
    "d$Info.type=relevel(d$Info.type,ref='Value')\n",
    "levels(d$Info.type)\n",
    "region_model<-lme(as.formula(paste('Accuracy.50_wo_gmean~Info.type*(',R1names_string2,sep='')),random=~1|PID,data=d,method='REML')\n",
    "summary(region_model)$tTable\n",
    "\n"
   ]
  },
  {
   "cell_type": "code",
   "execution_count": 21,
   "metadata": {
    "collapsed": false
   },
   "outputs": [
    {
     "data": {
      "text/html": [
       "<table>\n",
       "<thead><tr><th></th><th scope=col>call</th><th scope=col>Model</th><th scope=col>df</th><th scope=col>AIC</th><th scope=col>BIC</th><th scope=col>logLik</th><th scope=col>Test</th><th scope=col>L.Ratio</th><th scope=col>p-value</th></tr></thead>\n",
       "<tbody>\n",
       "\t<tr><th scope=row>region_model</th><td>lme.formula(fixed = as.formula(paste(\"Accuracy.50_wo_gmean~Info.type*(\",     R1names_string2, sep = \"\")), data = d, random = ~1 | PID,     method = \"ML\")</td><td>1</td><td>34</td><td>-1371.833</td><td>-1228.131</td><td>719.9166</td><td></td><td>NA</td><td>NA</td></tr>\n",
       "\t<tr><th scope=row>region_model_l</th><td>lme.formula(fixed = as.formula(paste(\"Accuracy.50_wo_gmean~Info.type\",     sep = \"\")), data = d, random = ~1 | PID, method = \"ML\")</td><td>2</td><td>6</td><td>-1379.186</td><td>-1353.827</td><td>695.593</td><td>1 vs 2</td><td>48.64725</td><td>0.009118525</td></tr>\n",
       "</tbody>\n",
       "</table>\n"
      ],
      "text/latex": [
       "\\begin{tabular}{r|lllllllll}\n",
       "  & call & Model & df & AIC & BIC & logLik & Test & L.Ratio & p-value\\\\\n",
       "\\hline\n",
       "\tregion_model & lme.formula(fixed = as.formula(paste(\"Accuracy.50_wo_gmean~Info.type*(\",     R1names_string2, sep = \"\")), data = d, random = ~1 | PID,     method = \"ML\") & 1 & 34 & -1371.833 & -1228.131 & 719.9166 &  & NA & NA\\\\\n",
       "\tregion_model_l & lme.formula(fixed = as.formula(paste(\"Accuracy.50_wo_gmean~Info.type\",     sep = \"\")), data = d, random = ~1 | PID, method = \"ML\") & 2 & 6 & -1379.186 & -1353.827 & 695.593 & 1 vs 2 & 48.64725 & 0.009118525\\\\\n",
       "\\end{tabular}\n"
      ],
      "text/plain": [
       "               Model df       AIC       BIC   logLik   Test  L.Ratio p-value\n",
       "region_model       1 34 -1371.833 -1228.131 719.9166                        \n",
       "region_model_l     2  6 -1379.186 -1353.827 695.5930 1 vs 2 48.64725  0.0091"
      ]
     },
     "execution_count": 21,
     "metadata": {},
     "output_type": "execute_result"
    }
   ],
   "source": [
    "region_model<-lme(as.formula(paste('Accuracy.50_wo_gmean~Info.type*(',R1names_string2,sep='')),random=~1|PID,data=d,method='ML')\n",
    "region_model_l<-lme(as.formula(paste('Accuracy.50_wo_gmean~Info.type',sep='')),random=~1|PID,data=d,method='ML')\n",
    "anova(region_model,region_model_l)"
   ]
  },
  {
   "cell_type": "code",
   "execution_count": 22,
   "metadata": {
    "collapsed": false
   },
   "outputs": [
    {
     "data": {
      "image/png": "[encoded data removed]"
     },
     "metadata": {},
     "output_type": "display_data"
    }
   ],
   "source": [
    "options(repr.plot.width=8, repr.plot.height=8)\n",
    "\n",
    "# full model\n",
    "s<-summary(region_model)\n",
    "coef<-s$tTable[,1] \n",
    "se<-s$tTable[,2] \n",
    "df<-data.frame(cbind(coef,se))\n",
    "\n",
    "df$name<-rownames(df)\n",
    "df<-df[2:nrow(df),] # remove intercept \n",
    "ggplot(data=df,aes(x=name))+\n",
    "geom_point(aes(y=coef))+\n",
    "geom_errorbar(aes(ymax = coef + se, ymin=coef- se))+\n",
    "theme(axis.text.x = element_text(angle = 45, hjust = 1))+\n",
    "ggtitle('Coefficients:')"
   ]
  },
  {
   "cell_type": "markdown",
   "metadata": {},
   "source": [
    "# Just interaction model "
   ]
  },
  {
   "cell_type": "code",
   "execution_count": 47,
   "metadata": {
    "collapsed": false
   },
   "outputs": [
    {
     "data": {
      "text/html": [
       "<ol class=list-inline>\n",
       "\t<li>'Value'</li>\n",
       "\t<li>'Perceptual'</li>\n",
       "\t<li>'Response'</li>\n",
       "\t<li>'Rule'</li>\n",
       "</ol>\n"
      ],
      "text/latex": [
       "\\begin{enumerate*}\n",
       "\\item 'Value'\n",
       "\\item 'Perceptual'\n",
       "\\item 'Response'\n",
       "\\item 'Rule'\n",
       "\\end{enumerate*}\n"
      ],
      "text/markdown": [
       "1. 'Value'\n",
       "2. 'Perceptual'\n",
       "3. 'Response'\n",
       "4. 'Rule'\n",
       "\n",
       "\n"
      ],
      "text/plain": [
       "[1] \"Value\"      \"Perceptual\" \"Response\"   \"Rule\"      "
      ]
     },
     "execution_count": 47,
     "metadata": {},
     "output_type": "execute_result"
    },
    {
     "data": {
      "text/html": [
       "<ol class=list-inline>\n",
       "\t<li>'Rule'</li>\n",
       "\t<li>'Value'</li>\n",
       "\t<li>'Perceptual'</li>\n",
       "\t<li>'Response'</li>\n",
       "</ol>\n"
      ],
      "text/latex": [
       "\\begin{enumerate*}\n",
       "\\item 'Rule'\n",
       "\\item 'Value'\n",
       "\\item 'Perceptual'\n",
       "\\item 'Response'\n",
       "\\end{enumerate*}\n"
      ],
      "text/markdown": [
       "1. 'Rule'\n",
       "2. 'Value'\n",
       "3. 'Perceptual'\n",
       "4. 'Response'\n",
       "\n",
       "\n"
      ],
      "text/plain": [
       "[1] \"Rule\"       \"Value\"      \"Perceptual\" \"Response\"  "
      ]
     },
     "execution_count": 47,
     "metadata": {},
     "output_type": "execute_result"
    },
    {
     "data": {
      "text/html": [
       "<table>\n",
       "<thead><tr><th></th><th scope=col>R4Frontal_Sup.Info.typeValue</th><th scope=col>R4Frontal_Mid.Info.typeValue</th><th scope=col>R4Frontal_Inf.Info.typeValue</th><th scope=col>R4Frontal_Orb.Info.typeValue</th><th scope=col>R4Insula.Info.typeValue</th><th scope=col>R4Motor.Info.typeValue</th><th scope=col>R4Cingulum.Info.typeValue</th><th scope=col>R4Frontal_Sup.Info.typePerceptual</th><th scope=col>R4Frontal_Mid.Info.typePerceptual</th><th scope=col>R4Frontal_Inf.Info.typePerceptual</th><th scope=col>R4Frontal_Orb.Info.typePerceptual</th><th scope=col>R4Insula.Info.typePerceptual</th><th scope=col>R4Motor.Info.typePerceptual</th><th scope=col>R4Cingulum.Info.typePerceptual</th><th scope=col>R4Frontal_Sup.Info.typeResponse</th><th scope=col>R4Frontal_Mid.Info.typeResponse</th><th scope=col>R4Frontal_Inf.Info.typeResponse</th><th scope=col>R4Frontal_Orb.Info.typeResponse</th><th scope=col>R4Insula.Info.typeResponse</th><th scope=col>R4Motor.Info.typeResponse</th><th scope=col>R4Cingulum.Info.typeResponse</th><th scope=col>R4Frontal_Sup.Info.typeRule</th><th scope=col>R4Frontal_Mid.Info.typeRule</th><th scope=col>R4Frontal_Inf.Info.typeRule</th><th scope=col>R4Frontal_Orb.Info.typeRule</th><th scope=col>R4Insula.Info.typeRule</th><th scope=col>R4Motor.Info.typeRule</th><th scope=col>R4Cingulum.Info.typeRule</th></tr></thead>\n",
       "<tbody>\n",
       "\t<tr><th scope=row>4</th><td>0</td><td>0</td><td>0</td><td>0</td><td>0</td><td>0</td><td>0</td><td>0</td><td>0</td><td>0</td><td>0</td><td>1</td><td>0</td><td>0</td><td>0</td><td>0</td><td>0</td><td>0</td><td>0</td><td>0</td><td>0</td><td>0</td><td>0</td><td>0</td><td>0</td><td>0</td><td>0</td><td>0</td></tr>\n",
       "\t<tr><th scope=row>9</th><td>0</td><td>0</td><td>0</td><td>0</td><td>0</td><td>0</td><td>0</td><td>0</td><td>0</td><td>0</td><td>0</td><td>0</td><td>0</td><td>0</td><td>0</td><td>0</td><td>0</td><td>0</td><td>0</td><td>0</td><td>0</td><td>0</td><td>0</td><td>0</td><td>0</td><td>1</td><td>0</td><td>0</td></tr>\n",
       "\t<tr><th scope=row>10</th><td>0</td><td>0</td><td>0</td><td>0</td><td>0</td><td>0</td><td>0</td><td>0</td><td>0</td><td>0</td><td>0</td><td>0</td><td>0</td><td>0</td><td>0</td><td>0</td><td>0</td><td>0</td><td>0</td><td>0</td><td>0</td><td>0</td><td>0</td><td>1</td><td>0</td><td>0</td><td>0</td><td>0</td></tr>\n",
       "\t<tr><th scope=row>11</th><td>0</td><td>0</td><td>0</td><td>0</td><td>0</td><td>0</td><td>0</td><td>0</td><td>0</td><td>0</td><td>0</td><td>0</td><td>0</td><td>0</td><td>0</td><td>0</td><td>0</td><td>0</td><td>0</td><td>0</td><td>0</td><td>0</td><td>0</td><td>0</td><td>0</td><td>1</td><td>0</td><td>0</td></tr>\n",
       "\t<tr><th scope=row>12</th><td>0</td><td>0</td><td>0</td><td>0</td><td>0</td><td>0</td><td>0</td><td>0</td><td>0</td><td>0</td><td>0</td><td>0</td><td>0</td><td>0</td><td>0</td><td>0</td><td>0</td><td>0</td><td>0</td><td>0</td><td>0</td><td>0</td><td>0</td><td>1</td><td>0</td><td>0</td><td>0</td><td>0</td></tr>\n",
       "\t<tr><th scope=row>16</th><td>0</td><td>0</td><td>0</td><td>0</td><td>0</td><td>0</td><td>0</td><td>0</td><td>0</td><td>0</td><td>0</td><td>0</td><td>0</td><td>0</td><td>0</td><td>0</td><td>0</td><td>0</td><td>0</td><td>0</td><td>0</td><td>0</td><td>0</td><td>0</td><td>0</td><td>0</td><td>1</td><td>0</td></tr>\n",
       "</tbody>\n",
       "</table>\n"
      ],
      "text/latex": [
       "\\begin{tabular}{r|llllllllllllllllllllllllllll}\n",
       "  & R4Frontal_Sup.Info.typeValue & R4Frontal_Mid.Info.typeValue & R4Frontal_Inf.Info.typeValue & R4Frontal_Orb.Info.typeValue & R4Insula.Info.typeValue & R4Motor.Info.typeValue & R4Cingulum.Info.typeValue & R4Frontal_Sup.Info.typePerceptual & R4Frontal_Mid.Info.typePerceptual & R4Frontal_Inf.Info.typePerceptual & R4Frontal_Orb.Info.typePerceptual & R4Insula.Info.typePerceptual & R4Motor.Info.typePerceptual & R4Cingulum.Info.typePerceptual & R4Frontal_Sup.Info.typeResponse & R4Frontal_Mid.Info.typeResponse & R4Frontal_Inf.Info.typeResponse & R4Frontal_Orb.Info.typeResponse & R4Insula.Info.typeResponse & R4Motor.Info.typeResponse & R4Cingulum.Info.typeResponse & R4Frontal_Sup.Info.typeRule & R4Frontal_Mid.Info.typeRule & R4Frontal_Inf.Info.typeRule & R4Frontal_Orb.Info.typeRule & R4Insula.Info.typeRule & R4Motor.Info.typeRule & R4Cingulum.Info.typeRule\\\\\n",
       "\\hline\n",
       "\t4 & 0 & 0 & 0 & 0 & 0 & 0 & 0 & 0 & 0 & 0 & 0 & 1 & 0 & 0 & 0 & 0 & 0 & 0 & 0 & 0 & 0 & 0 & 0 & 0 & 0 & 0 & 0 & 0\\\\\n",
       "\t9 & 0 & 0 & 0 & 0 & 0 & 0 & 0 & 0 & 0 & 0 & 0 & 0 & 0 & 0 & 0 & 0 & 0 & 0 & 0 & 0 & 0 & 0 & 0 & 0 & 0 & 1 & 0 & 0\\\\\n",
       "\t10 & 0 & 0 & 0 & 0 & 0 & 0 & 0 & 0 & 0 & 0 & 0 & 0 & 0 & 0 & 0 & 0 & 0 & 0 & 0 & 0 & 0 & 0 & 0 & 1 & 0 & 0 & 0 & 0\\\\\n",
       "\t11 & 0 & 0 & 0 & 0 & 0 & 0 & 0 & 0 & 0 & 0 & 0 & 0 & 0 & 0 & 0 & 0 & 0 & 0 & 0 & 0 & 0 & 0 & 0 & 0 & 0 & 1 & 0 & 0\\\\\n",
       "\t12 & 0 & 0 & 0 & 0 & 0 & 0 & 0 & 0 & 0 & 0 & 0 & 0 & 0 & 0 & 0 & 0 & 0 & 0 & 0 & 0 & 0 & 0 & 0 & 1 & 0 & 0 & 0 & 0\\\\\n",
       "\t16 & 0 & 0 & 0 & 0 & 0 & 0 & 0 & 0 & 0 & 0 & 0 & 0 & 0 & 0 & 0 & 0 & 0 & 0 & 0 & 0 & 0 & 0 & 0 & 0 & 0 & 0 & 1 & 0\\\\\n",
       "\\end{tabular}\n"
      ],
      "text/markdown": [
       "1. 0\n",
       "2. 0\n",
       "3. 0\n",
       "4. 0\n",
       "5. 0\n",
       "6. 0\n",
       "7. 0\n",
       "8. 0\n",
       "9. 0\n",
       "10. 0\n",
       "11. 0\n",
       "12. 0\n",
       "13. 0\n",
       "14. 0\n",
       "15. 0\n",
       "16. 0\n",
       "17. 0\n",
       "18. 0\n",
       "19. 0\n",
       "20. 0\n",
       "21. 0\n",
       "22. 0\n",
       "23. 0\n",
       "24. 0\n",
       "25. 0\n",
       "26. 0\n",
       "27. 0\n",
       "28. 0\n",
       "29. 0\n",
       "30. 0\n",
       "31. 0\n",
       "32. 0\n",
       "33. 0\n",
       "34. 0\n",
       "35. 0\n",
       "36. 0\n",
       "37. 0\n",
       "38. 0\n",
       "39. 0\n",
       "40. 0\n",
       "41. 0\n",
       "42. 0\n",
       "43. 0\n",
       "44. 0\n",
       "45. 0\n",
       "46. 0\n",
       "47. 0\n",
       "48. 0\n",
       "49. 0\n",
       "50. 0\n",
       "51. 0\n",
       "52. 0\n",
       "53. 0\n",
       "54. 0\n",
       "55. 0\n",
       "56. 0\n",
       "57. 0\n",
       "58. 0\n",
       "59. 0\n",
       "60. 0\n",
       "61. 0\n",
       "62. 0\n",
       "63. 0\n",
       "64. 0\n",
       "65. 0\n",
       "66. 0\n",
       "67. 1\n",
       "68. 0\n",
       "69. 0\n",
       "70. 0\n",
       "71. 0\n",
       "72. 0\n",
       "73. 0\n",
       "74. 0\n",
       "75. 0\n",
       "76. 0\n",
       "77. 0\n",
       "78. 0\n",
       "79. 0\n",
       "80. 0\n",
       "81. 0\n",
       "82. 0\n",
       "83. 0\n",
       "84. 0\n",
       "85. 0\n",
       "86. 0\n",
       "87. 0\n",
       "88. 0\n",
       "89. 0\n",
       "90. 0\n",
       "91. 0\n",
       "92. 0\n",
       "93. 0\n",
       "94. 0\n",
       "95. 0\n",
       "96. 0\n",
       "97. 0\n",
       "98. 0\n",
       "99. 0\n",
       "100. 0\n",
       "101. 0\n",
       "102. 0\n",
       "103. 0\n",
       "104. 0\n",
       "105. 0\n",
       "106. 0\n",
       "107. 0\n",
       "108. 0\n",
       "109. 0\n",
       "110. 0\n",
       "111. 0\n",
       "112. 0\n",
       "113. 0\n",
       "114. 0\n",
       "115. 0\n",
       "116. 0\n",
       "117. 0\n",
       "118. 0\n",
       "119. 0\n",
       "120. 0\n",
       "121. 0\n",
       "122. 0\n",
       "123. 0\n",
       "124. 0\n",
       "125. 0\n",
       "126. 0\n",
       "127. 0\n",
       "128. 0\n",
       "129. 0\n",
       "130. 0\n",
       "131. 0\n",
       "132. 0\n",
       "133. 0\n",
       "134. 0\n",
       "135. 0\n",
       "136. 0\n",
       "137. 0\n",
       "138. 0\n",
       "139. 0\n",
       "140. 0\n",
       "141. 1\n",
       "142. 0\n",
       "143. 1\n",
       "144. 0\n",
       "145. 0\n",
       "146. 0\n",
       "147. 0\n",
       "148. 0\n",
       "149. 0\n",
       "150. 0\n",
       "151. 0\n",
       "152. 1\n",
       "153. 0\n",
       "154. 1\n",
       "155. 0\n",
       "156. 0\n",
       "157. 0\n",
       "158. 0\n",
       "159. 0\n",
       "160. 0\n",
       "161. 0\n",
       "162. 1\n",
       "163. 0\n",
       "164. 0\n",
       "165. 0\n",
       "166. 0\n",
       "167. 0\n",
       "168. 0\n",
       "\n",
       "\n"
      ],
      "text/plain": [
       "   R4Frontal_Sup.Info.typeValue R4Frontal_Mid.Info.typeValue\n",
       "4                             0                            0\n",
       "9                             0                            0\n",
       "10                            0                            0\n",
       "11                            0                            0\n",
       "12                            0                            0\n",
       "16                            0                            0\n",
       "   R4Frontal_Inf.Info.typeValue R4Frontal_Orb.Info.typeValue\n",
       "4                             0                            0\n",
       "9                             0                            0\n",
       "10                            0                            0\n",
       "11                            0                            0\n",
       "12                            0                            0\n",
       "16                            0                            0\n",
       "   R4Insula.Info.typeValue R4Motor.Info.typeValue R4Cingulum.Info.typeValue\n",
       "4                        0                      0                         0\n",
       "9                        0                      0                         0\n",
       "10                       0                      0                         0\n",
       "11                       0                      0                         0\n",
       "12                       0                      0                         0\n",
       "16                       0                      0                         0\n",
       "   R4Frontal_Sup.Info.typePerceptual R4Frontal_Mid.Info.typePerceptual\n",
       "4                                  0                                 0\n",
       "9                                  0                                 0\n",
       "10                                 0                                 0\n",
       "11                                 0                                 0\n",
       "12                                 0                                 0\n",
       "16                                 0                                 0\n",
       "   R4Frontal_Inf.Info.typePerceptual R4Frontal_Orb.Info.typePerceptual\n",
       "4                                  0                                 0\n",
       "9                                  0                                 0\n",
       "10                                 0                                 0\n",
       "11                                 0                                 0\n",
       "12                                 0                                 0\n",
       "16                                 0                                 0\n",
       "   R4Insula.Info.typePerceptual R4Motor.Info.typePerceptual\n",
       "4                             1                           0\n",
       "9                             0                           0\n",
       "10                            0                           0\n",
       "11                            0                           0\n",
       "12                            0                           0\n",
       "16                            0                           0\n",
       "   R4Cingulum.Info.typePerceptual R4Frontal_Sup.Info.typeResponse\n",
       "4                               0                               0\n",
       "9                               0                               0\n",
       "10                              0                               0\n",
       "11                              0                               0\n",
       "12                              0                               0\n",
       "16                              0                               0\n",
       "   R4Frontal_Mid.Info.typeResponse R4Frontal_Inf.Info.typeResponse\n",
       "4                                0                               0\n",
       "9                                0                               0\n",
       "10                               0                               0\n",
       "11                               0                               0\n",
       "12                               0                               0\n",
       "16                               0                               0\n",
       "   R4Frontal_Orb.Info.typeResponse R4Insula.Info.typeResponse\n",
       "4                                0                          0\n",
       "9                                0                          0\n",
       "10                               0                          0\n",
       "11                               0                          0\n",
       "12                               0                          0\n",
       "16                               0                          0\n",
       "   R4Motor.Info.typeResponse R4Cingulum.Info.typeResponse\n",
       "4                          0                            0\n",
       "9                          0                            0\n",
       "10                         0                            0\n",
       "11                         0                            0\n",
       "12                         0                            0\n",
       "16                         0                            0\n",
       "   R4Frontal_Sup.Info.typeRule R4Frontal_Mid.Info.typeRule\n",
       "4                            0                           0\n",
       "9                            0                           0\n",
       "10                           0                           0\n",
       "11                           0                           0\n",
       "12                           0                           0\n",
       "16                           0                           0\n",
       "   R4Frontal_Inf.Info.typeRule R4Frontal_Orb.Info.typeRule\n",
       "4                            0                           0\n",
       "9                            0                           0\n",
       "10                           1                           0\n",
       "11                           0                           0\n",
       "12                           1                           0\n",
       "16                           0                           0\n",
       "   R4Insula.Info.typeRule R4Motor.Info.typeRule R4Cingulum.Info.typeRule\n",
       "4                       0                     0                        0\n",
       "9                       1                     0                        0\n",
       "10                      0                     0                        0\n",
       "11                      1                     0                        0\n",
       "12                      0                     0                        0\n",
       "16                      0                     1                        0"
      ]
     },
     "execution_count": 47,
     "metadata": {},
     "output_type": "execute_result"
    }
   ],
   "source": [
    "d<-data_50_sig[c('Accuracy.50','PID','Info.type',R4names)]\n",
    "gmean<-mean(d$Accuracy.50)\n",
    "d$Accuracy.50_wo_gmean<-d$Accuracy.50-gmean\n",
    "R1names_string2<-paste(R1names_string,')',sep='')\n",
    "d$Info.type<-as.factor(d$Info.type)\n",
    "\n",
    "\n",
    "# first model matrix #\n",
    "d$Info.type=relevel(d$Info.type,ref='Value')\n",
    "levels(d$Info.type)\n",
    "region_model<-lme(as.formula(paste('Accuracy.50_wo_gmean~(',R1names_string2,'*Info.type',sep='')),random=~1|PID,data=d,method='REML')\n",
    "X<-model.matrix(region_model,d)\n",
    "X_interactions<-X[,12:ncol(X)]\n",
    "#head(X_interactions)\n",
    "\n",
    "# second one \n",
    "d$Info.type=relevel(d$Info.type,ref='Rule')\n",
    "levels(d$Info.type)\n",
    "region_model<-lme(as.formula(paste('Accuracy.50_wo_gmean~(',R1names_string2,'*Info.type',sep='')),random=~1|PID,data=d,method='REML')\n",
    "X<-model.matrix(region_model,d)\n",
    "X_interactions2<-X[,12:ncol(X)]\n",
    "X_value<-X_interactions2[,c(1,4,7,10,13,16,19)]\n",
    "X_perc<-X_interactions2[,c(2,5,8,11,14,17,20)]\n",
    "X_resp<-X_interactions2[,c(3,6,9,12,15,18,21)]\n",
    "X_rule<-X_interactions[,c(3,6,9,12,15,18,21)]\n",
    "X_new<-data.frame(cbind(X_value,X_perc,X_resp,X_rule))\n",
    "X_new<-as.matrix(X_new)\n",
    "head(X_new)"
   ]
  },
  {
   "cell_type": "code",
   "execution_count": 48,
   "metadata": {
    "collapsed": false
   },
   "outputs": [
    {
     "data": {
      "text/html": [
       "<table>\n",
       "<thead><tr><th></th><th scope=col>Value</th><th scope=col>Std.Error</th><th scope=col>DF</th><th scope=col>t-value</th><th scope=col>p-value</th></tr></thead>\n",
       "<tbody>\n",
       "\t<tr><th scope=row>(Intercept)</th><td> -0.006004366</td><td>  0.013915899</td><td>403.000000000</td><td> -0.431475257</td><td>  0.666353565</td></tr>\n",
       "\t<tr><th scope=row>X_newR4Frontal_Sup.Info.typeValue</th><td>2.838642e-03</td><td>1.665926e-02</td><td>4.030000e+02</td><td>1.703942e-01</td><td>8.647856e-01</td></tr>\n",
       "\t<tr><th scope=row>X_newR4Frontal_Mid.Info.typeValue</th><td> -0.01300298</td><td>  0.01853889</td><td>403.00000000</td><td> -0.70138968</td><td>  0.48346468</td></tr>\n",
       "\t<tr><th scope=row>X_newR4Frontal_Inf.Info.typeValue</th><td> -0.02237108</td><td>  0.02359659</td><td>403.00000000</td><td> -0.94806416</td><td>  0.34366494</td></tr>\n",
       "\t<tr><th scope=row>X_newR4Frontal_Orb.Info.typeValue</th><td>  0.01263054</td><td>  0.02800135</td><td>403.00000000</td><td>  0.45106904</td><td>  0.65218240</td></tr>\n",
       "\t<tr><th scope=row>X_newR4Insula.Info.typeValue</th><td> -0.01987325</td><td>  0.05642054</td><td>403.00000000</td><td> -0.35223431</td><td>  0.72484667</td></tr>\n",
       "\t<tr><th scope=row>X_newR4Motor.Info.typeValue</th><td> -0.01670002</td><td>  0.02374131</td><td>403.00000000</td><td> -0.70341624</td><td>  0.48220257</td></tr>\n",
       "\t<tr><th scope=row>X_newR4Cingulum.Info.typeValue</th><td>6.662075e-03</td><td>2.680151e-02</td><td>4.030000e+02</td><td>2.485709e-01</td><td>8.038193e-01</td></tr>\n",
       "\t<tr><th scope=row>X_newR4Frontal_Sup.Info.typePerceptual</th><td> -0.01684198</td><td>  0.01505933</td><td>403.00000000</td><td> -1.11837514</td><td>  0.26407301</td></tr>\n",
       "\t<tr><th scope=row>X_newR4Frontal_Mid.Info.typePerceptual</th><td>3.477833e-03</td><td>1.724333e-02</td><td>4.030000e+02</td><td>2.016915e-01</td><td>8.402597e-01</td></tr>\n",
       "\t<tr><th scope=row>X_newR4Frontal_Inf.Info.typePerceptual</th><td>7.429909e-03</td><td>1.540640e-02</td><td>4.030000e+02</td><td>4.822611e-01</td><td>6.298823e-01</td></tr>\n",
       "\t<tr><th scope=row>X_newR4Frontal_Orb.Info.typePerceptual</th><td> -0.03464627</td><td>  0.02029047</td><td>403.00000000</td><td> -1.70751424</td><td>  0.08849669</td></tr>\n",
       "\t<tr><th scope=row>X_newR4Insula.Info.typePerceptual</th><td> -0.03189179</td><td>  0.02824963</td><td>403.00000000</td><td> -1.12892791</td><td>  0.25959981</td></tr>\n",
       "\t<tr><th scope=row>X_newR4Motor.Info.typePerceptual</th><td> -0.03435593</td><td>  0.02708757</td><td>403.00000000</td><td> -1.26832834</td><td>  0.20541290</td></tr>\n",
       "\t<tr><th scope=row>X_newR4Cingulum.Info.typePerceptual</th><td>7.212311e-02</td><td>2.501662e-02</td><td>4.030000e+02</td><td>2.883008e+00</td><td>4.149982e-03</td></tr>\n",
       "\t<tr><th scope=row>X_newR4Frontal_Sup.Info.typeResponse</th><td>  0.04740377</td><td>  0.02234901</td><td>403.00000000</td><td>  2.12106831</td><td>  0.03452606</td></tr>\n",
       "\t<tr><th scope=row>X_newR4Frontal_Mid.Info.typeResponse</th><td> -0.02140022</td><td>  0.02263618</td><td>403.00000000</td><td> -0.94539866</td><td>  0.34502186</td></tr>\n",
       "\t<tr><th scope=row>X_newR4Frontal_Inf.Info.typeResponse</th><td> -0.01286069</td><td>  0.03011273</td><td>403.00000000</td><td> -0.42708470</td><td>  0.66954572</td></tr>\n",
       "\t<tr><th scope=row>X_newR4Frontal_Orb.Info.typeResponse</th><td> -0.02842871</td><td>  0.05870267</td><td>403.00000000</td><td> -0.48428318</td><td>  0.62844799</td></tr>\n",
       "\t<tr><th scope=row>X_newR4Insula.Info.typeResponse</th><td> -0.05567475</td><td>  0.05607634</td><td>403.00000000</td><td> -0.99283855</td><td>  0.32138438</td></tr>\n",
       "\t<tr><th scope=row>X_newR4Motor.Info.typeResponse</th><td>  0.03084992</td><td>  0.01822859</td><td>403.00000000</td><td>  1.69239217</td><td>  0.09134414</td></tr>\n",
       "\t<tr><th scope=row>X_newR4Cingulum.Info.typeResponse</th><td>  0.01399081</td><td>  0.02653956</td><td>403.00000000</td><td>  0.52716818</td><td>  0.59836687</td></tr>\n",
       "\t<tr><th scope=row>X_newR4Frontal_Sup.Info.typeRule</th><td> -0.01338622</td><td>  0.01745089</td><td>403.00000000</td><td> -0.76707951</td><td>  0.44348339</td></tr>\n",
       "\t<tr><th scope=row>X_newR4Frontal_Mid.Info.typeRule</th><td> -0.01407805</td><td>  0.01463205</td><td>403.00000000</td><td> -0.96213797</td><td>  0.33655724</td></tr>\n",
       "\t<tr><th scope=row>X_newR4Frontal_Inf.Info.typeRule</th><td> -0.01230451</td><td>  0.01564532</td><td>403.00000000</td><td> -0.78646596</td><td>  0.43205677</td></tr>\n",
       "\t<tr><th scope=row>X_newR4Frontal_Orb.Info.typeRule</th><td> -0.04949241</td><td>  0.03826544</td><td>403.00000000</td><td> -1.29339708</td><td>  0.19661463</td></tr>\n",
       "\t<tr><th scope=row>X_newR4Insula.Info.typeRule</th><td> -0.02370781</td><td>  0.02712107</td><td>403.00000000</td><td> -0.87414732</td><td>  0.38255865</td></tr>\n",
       "\t<tr><th scope=row>X_newR4Motor.Info.typeRule</th><td>  0.01656610</td><td>  0.01584811</td><td>403.00000000</td><td>  1.04530442</td><td>  0.29650887</td></tr>\n",
       "\t<tr><th scope=row>X_newR4Cingulum.Info.typeRule</th><td>7.757109e-04</td><td>2.083909e-02</td><td>4.030000e+02</td><td>3.722383e-02</td><td>9.703250e-01</td></tr>\n",
       "</tbody>\n",
       "</table>\n"
      ],
      "text/latex": [
       "\\begin{tabular}{r|lllll}\n",
       "  & Value & Std.Error & DF & t-value & p-value\\\\\n",
       "\\hline\n",
       "\t(Intercept) &  -0.006004366 &   0.013915899 & 403.000000000 &  -0.431475257 &   0.666353565\\\\\n",
       "\tX_newR4Frontal_Sup.Info.typeValue & 2.838642e-03 & 1.665926e-02 & 4.030000e+02 & 1.703942e-01 & 8.647856e-01\\\\\n",
       "\tX_newR4Frontal_Mid.Info.typeValue &  -0.01300298 &   0.01853889 & 403.00000000 &  -0.70138968 &   0.48346468\\\\\n",
       "\tX_newR4Frontal_Inf.Info.typeValue &  -0.02237108 &   0.02359659 & 403.00000000 &  -0.94806416 &   0.34366494\\\\\n",
       "\tX_newR4Frontal_Orb.Info.typeValue &   0.01263054 &   0.02800135 & 403.00000000 &   0.45106904 &   0.65218240\\\\\n",
       "\tX_newR4Insula.Info.typeValue &  -0.01987325 &   0.05642054 & 403.00000000 &  -0.35223431 &   0.72484667\\\\\n",
       "\tX_newR4Motor.Info.typeValue &  -0.01670002 &   0.02374131 & 403.00000000 &  -0.70341624 &   0.48220257\\\\\n",
       "\tX_newR4Cingulum.Info.typeValue & 6.662075e-03 & 2.680151e-02 & 4.030000e+02 & 2.485709e-01 & 8.038193e-01\\\\\n",
       "\tX_newR4Frontal_Sup.Info.typePerceptual &  -0.01684198 &   0.01505933 & 403.00000000 &  -1.11837514 &   0.26407301\\\\\n",
       "\tX_newR4Frontal_Mid.Info.typePerceptual & 3.477833e-03 & 1.724333e-02 & 4.030000e+02 & 2.016915e-01 & 8.402597e-01\\\\\n",
       "\tX_newR4Frontal_Inf.Info.typePerceptual & 7.429909e-03 & 1.540640e-02 & 4.030000e+02 & 4.822611e-01 & 6.298823e-01\\\\\n",
       "\tX_newR4Frontal_Orb.Info.typePerceptual &  -0.03464627 &   0.02029047 & 403.00000000 &  -1.70751424 &   0.08849669\\\\\n",
       "\tX_newR4Insula.Info.typePerceptual &  -0.03189179 &   0.02824963 & 403.00000000 &  -1.12892791 &   0.25959981\\\\\n",
       "\tX_newR4Motor.Info.typePerceptual &  -0.03435593 &   0.02708757 & 403.00000000 &  -1.26832834 &   0.20541290\\\\\n",
       "\tX_newR4Cingulum.Info.typePerceptual & 7.212311e-02 & 2.501662e-02 & 4.030000e+02 & 2.883008e+00 & 4.149982e-03\\\\\n",
       "\tX_newR4Frontal_Sup.Info.typeResponse &   0.04740377 &   0.02234901 & 403.00000000 &   2.12106831 &   0.03452606\\\\\n",
       "\tX_newR4Frontal_Mid.Info.typeResponse &  -0.02140022 &   0.02263618 & 403.00000000 &  -0.94539866 &   0.34502186\\\\\n",
       "\tX_newR4Frontal_Inf.Info.typeResponse &  -0.01286069 &   0.03011273 & 403.00000000 &  -0.42708470 &   0.66954572\\\\\n",
       "\tX_newR4Frontal_Orb.Info.typeResponse &  -0.02842871 &   0.05870267 & 403.00000000 &  -0.48428318 &   0.62844799\\\\\n",
       "\tX_newR4Insula.Info.typeResponse &  -0.05567475 &   0.05607634 & 403.00000000 &  -0.99283855 &   0.32138438\\\\\n",
       "\tX_newR4Motor.Info.typeResponse &   0.03084992 &   0.01822859 & 403.00000000 &   1.69239217 &   0.09134414\\\\\n",
       "\tX_newR4Cingulum.Info.typeResponse &   0.01399081 &   0.02653956 & 403.00000000 &   0.52716818 &   0.59836687\\\\\n",
       "\tX_newR4Frontal_Sup.Info.typeRule &  -0.01338622 &   0.01745089 & 403.00000000 &  -0.76707951 &   0.44348339\\\\\n",
       "\tX_newR4Frontal_Mid.Info.typeRule &  -0.01407805 &   0.01463205 & 403.00000000 &  -0.96213797 &   0.33655724\\\\\n",
       "\tX_newR4Frontal_Inf.Info.typeRule &  -0.01230451 &   0.01564532 & 403.00000000 &  -0.78646596 &   0.43205677\\\\\n",
       "\tX_newR4Frontal_Orb.Info.typeRule &  -0.04949241 &   0.03826544 & 403.00000000 &  -1.29339708 &   0.19661463\\\\\n",
       "\tX_newR4Insula.Info.typeRule &  -0.02370781 &   0.02712107 & 403.00000000 &  -0.87414732 &   0.38255865\\\\\n",
       "\tX_newR4Motor.Info.typeRule &   0.01656610 &   0.01584811 & 403.00000000 &   1.04530442 &   0.29650887\\\\\n",
       "\tX_newR4Cingulum.Info.typeRule & 7.757109e-04 & 2.083909e-02 & 4.030000e+02 & 3.722383e-02 & 9.703250e-01\\\\\n",
       "\\end{tabular}\n"
      ],
      "text/markdown": [
       "1. -0.00600436610762775\n",
       "2. 0.00283864186162758\n",
       "3. -0.0130029844793092\n",
       "4. -0.0223710815537197\n",
       "5. 0.0126305434025551\n",
       "6. -0.0198732508848749\n",
       "7. -0.0167000246025696\n",
       "8. 0.00666207494667068\n",
       "9. -0.0168419811910689\n",
       "10. 0.00347783275206412\n",
       "11. 0.00742990868663564\n",
       "12. -0.0346462744066545\n",
       "13. -0.0318917902800363\n",
       "14. -0.0343559281216471\n",
       "15. 0.0721231146543855\n",
       "16. 0.0474037728661911\n",
       "17. -0.0214002164421053\n",
       "18. -0.0128606854009977\n",
       "19. -0.0284287149681561\n",
       "20. -0.0556747521733584\n",
       "21. 0.0308499237823873\n",
       "22. 0.0139908132322317\n",
       "23. -0.0133862193748446\n",
       "24. -0.0140780487216649\n",
       "25. -0.0123045143806068\n",
       "26. -0.0494924055962864\n",
       "27. -0.0237078144240922\n",
       "28. 0.0165660971252573\n",
       "29. 0.000775710892385608\n",
       "30. 0.0139158990365251\n",
       "31. 0.0166592635207711\n",
       "32. 0.018538887764832\n",
       "33. 0.0235965903857204\n",
       "34. 0.0280013532129887\n",
       "35. 0.0564205429043169\n",
       "36. 0.0237413122367431\n",
       "37. 0.0268015057747338\n",
       "38. 0.0150593307618012\n",
       "39. 0.0172433255704195\n",
       "40. 0.0154064025796892\n",
       "41. 0.0202904746208955\n",
       "42. 0.0282496250600596\n",
       "43. 0.0270875662995965\n",
       "44. 0.025016622384568\n",
       "45. 0.022349008073471\n",
       "46. 0.0226361824247736\n",
       "47. 0.0301127278782191\n",
       "48. 0.0587026680963203\n",
       "49. 0.0560763400296313\n",
       "50. 0.0182285904421055\n",
       "51. 0.0265395630854336\n",
       "52. 0.0174508888912913\n",
       "53. 0.0146320477559008\n",
       "54. 0.0156453235983798\n",
       "55. 0.0382654379852498\n",
       "56. 0.0271210742294929\n",
       "57. 0.0158481077987228\n",
       "58. 0.0208390947003149\n",
       "59. 403\n",
       "60. 403\n",
       "61. 403\n",
       "62. 403\n",
       "63. 403\n",
       "64. 403\n",
       "65. 403\n",
       "66. 403\n",
       "67. 403\n",
       "68. 403\n",
       "69. 403\n",
       "70. 403\n",
       "71. 403\n",
       "72. 403\n",
       "73. 403\n",
       "74. 403\n",
       "75. 403\n",
       "76. 403\n",
       "77. 403\n",
       "78. 403\n",
       "79. 403\n",
       "80. 403\n",
       "81. 403\n",
       "82. 403\n",
       "83. 403\n",
       "84. 403\n",
       "85. 403\n",
       "86. 403\n",
       "87. 403\n",
       "88. -0.431475256601682\n",
       "89. 0.170394198884501\n",
       "90. -0.701389675813004\n",
       "91. -0.948064156220541\n",
       "92. 0.451069036074165\n",
       "93. -0.352234307964348\n",
       "94. -0.703416240687991\n",
       "95. 0.248570919957457\n",
       "96. -1.11837514279117\n",
       "97. 0.201691532057497\n",
       "98. 0.482261102045375\n",
       "99. -1.70751424271639\n",
       "100. -1.12892791363543\n",
       "101. -1.26832834451277\n",
       "102. 2.88300768767554\n",
       "103. 2.12106831365196\n",
       "104. -0.945398656033288\n",
       "105. -0.427084701625454\n",
       "106. -0.484283183202335\n",
       "107. -0.992838550874385\n",
       "108. 1.69239217263494\n",
       "109. 0.52716818235454\n",
       "110. -0.767079514300551\n",
       "111. -0.962137969785362\n",
       "112. -0.78646595599218\n",
       "113. -1.29339707585117\n",
       "114. -0.874147322612726\n",
       "115. 1.04530441966027\n",
       "116. 0.0372238287478912\n",
       "117. 0.666353564784516\n",
       "118. 0.864785644072456\n",
       "119. 0.483464679560953\n",
       "120. 0.343664941281144\n",
       "121. 0.652182403755846\n",
       "122. 0.724846673056356\n",
       "123. 0.482202570010627\n",
       "124. 0.803819325721962\n",
       "125. 0.264073008839269\n",
       "126. 0.840259650030165\n",
       "127. 0.629882296183077\n",
       "128. 0.088496688643127\n",
       "129. 0.259599807004201\n",
       "130. 0.205412904494955\n",
       "131. 0.00414998209881955\n",
       "132. 0.0345260622764126\n",
       "133. 0.345021860217688\n",
       "134. 0.669545716179574\n",
       "135. 0.628447986628418\n",
       "136. 0.32138437993359\n",
       "137. 0.0913441402771212\n",
       "138. 0.59836687350097\n",
       "139. 0.443483386469635\n",
       "140. 0.336557236291833\n",
       "141. 0.432056766561837\n",
       "142. 0.196614629300941\n",
       "143. 0.38255864541654\n",
       "144. 0.296508868013432\n",
       "145. 0.970324970707371\n",
       "\n",
       "\n"
      ],
      "text/plain": [
       "                                               Value  Std.Error  DF     t-value\n",
       "(Intercept)                            -0.0060043661 0.01391590 403 -0.43147526\n",
       "X_newR4Frontal_Sup.Info.typeValue       0.0028386419 0.01665926 403  0.17039420\n",
       "X_newR4Frontal_Mid.Info.typeValue      -0.0130029845 0.01853889 403 -0.70138968\n",
       "X_newR4Frontal_Inf.Info.typeValue      -0.0223710816 0.02359659 403 -0.94806416\n",
       "X_newR4Frontal_Orb.Info.typeValue       0.0126305434 0.02800135 403  0.45106904\n",
       "X_newR4Insula.Info.typeValue           -0.0198732509 0.05642054 403 -0.35223431\n",
       "X_newR4Motor.Info.typeValue            -0.0167000246 0.02374131 403 -0.70341624\n",
       "X_newR4Cingulum.Info.typeValue          0.0066620749 0.02680151 403  0.24857092\n",
       "X_newR4Frontal_Sup.Info.typePerceptual -0.0168419812 0.01505933 403 -1.11837514\n",
       "X_newR4Frontal_Mid.Info.typePerceptual  0.0034778328 0.01724333 403  0.20169153\n",
       "X_newR4Frontal_Inf.Info.typePerceptual  0.0074299087 0.01540640 403  0.48226110\n",
       "X_newR4Frontal_Orb.Info.typePerceptual -0.0346462744 0.02029047 403 -1.70751424\n",
       "X_newR4Insula.Info.typePerceptual      -0.0318917903 0.02824963 403 -1.12892791\n",
       "X_newR4Motor.Info.typePerceptual       -0.0343559281 0.02708757 403 -1.26832834\n",
       "X_newR4Cingulum.Info.typePerceptual     0.0721231147 0.02501662 403  2.88300769\n",
       "X_newR4Frontal_Sup.Info.typeResponse    0.0474037729 0.02234901 403  2.12106831\n",
       "X_newR4Frontal_Mid.Info.typeResponse   -0.0214002164 0.02263618 403 -0.94539866\n",
       "X_newR4Frontal_Inf.Info.typeResponse   -0.0128606854 0.03011273 403 -0.42708470\n",
       "X_newR4Frontal_Orb.Info.typeResponse   -0.0284287150 0.05870267 403 -0.48428318\n",
       "X_newR4Insula.Info.typeResponse        -0.0556747522 0.05607634 403 -0.99283855\n",
       "X_newR4Motor.Info.typeResponse          0.0308499238 0.01822859 403  1.69239217\n",
       "X_newR4Cingulum.Info.typeResponse       0.0139908132 0.02653956 403  0.52716818\n",
       "X_newR4Frontal_Sup.Info.typeRule       -0.0133862194 0.01745089 403 -0.76707951\n",
       "X_newR4Frontal_Mid.Info.typeRule       -0.0140780487 0.01463205 403 -0.96213797\n",
       "X_newR4Frontal_Inf.Info.typeRule       -0.0123045144 0.01564532 403 -0.78646596\n",
       "X_newR4Frontal_Orb.Info.typeRule       -0.0494924056 0.03826544 403 -1.29339708\n",
       "X_newR4Insula.Info.typeRule            -0.0237078144 0.02712107 403 -0.87414732\n",
       "X_newR4Motor.Info.typeRule              0.0165660971 0.01584811 403  1.04530442\n",
       "X_newR4Cingulum.Info.typeRule           0.0007757109 0.02083909 403  0.03722383\n",
       "                                           p-value\n",
       "(Intercept)                            0.666353565\n",
       "X_newR4Frontal_Sup.Info.typeValue      0.864785644\n",
       "X_newR4Frontal_Mid.Info.typeValue      0.483464680\n",
       "X_newR4Frontal_Inf.Info.typeValue      0.343664941\n",
       "X_newR4Frontal_Orb.Info.typeValue      0.652182404\n",
       "X_newR4Insula.Info.typeValue           0.724846673\n",
       "X_newR4Motor.Info.typeValue            0.482202570\n",
       "X_newR4Cingulum.Info.typeValue         0.803819326\n",
       "X_newR4Frontal_Sup.Info.typePerceptual 0.264073009\n",
       "X_newR4Frontal_Mid.Info.typePerceptual 0.840259650\n",
       "X_newR4Frontal_Inf.Info.typePerceptual 0.629882296\n",
       "X_newR4Frontal_Orb.Info.typePerceptual 0.088496689\n",
       "X_newR4Insula.Info.typePerceptual      0.259599807\n",
       "X_newR4Motor.Info.typePerceptual       0.205412904\n",
       "X_newR4Cingulum.Info.typePerceptual    0.004149982\n",
       "X_newR4Frontal_Sup.Info.typeResponse   0.034526062\n",
       "X_newR4Frontal_Mid.Info.typeResponse   0.345021860\n",
       "X_newR4Frontal_Inf.Info.typeResponse   0.669545716\n",
       "X_newR4Frontal_Orb.Info.typeResponse   0.628447987\n",
       "X_newR4Insula.Info.typeResponse        0.321384380\n",
       "X_newR4Motor.Info.typeResponse         0.091344140\n",
       "X_newR4Cingulum.Info.typeResponse      0.598366874\n",
       "X_newR4Frontal_Sup.Info.typeRule       0.443483386\n",
       "X_newR4Frontal_Mid.Info.typeRule       0.336557236\n",
       "X_newR4Frontal_Inf.Info.typeRule       0.432056767\n",
       "X_newR4Frontal_Orb.Info.typeRule       0.196614629\n",
       "X_newR4Insula.Info.typeRule            0.382558645\n",
       "X_newR4Motor.Info.typeRule             0.296508868\n",
       "X_newR4Cingulum.Info.typeRule          0.970324971"
      ]
     },
     "execution_count": 48,
     "metadata": {},
     "output_type": "execute_result"
    }
   ],
   "source": [
    "d<-data_50_sig[c('Accuracy.50','PID','Info.type',R4names)]\n",
    "gmean<-mean(d$Accuracy.50)\n",
    "d$Accuracy.50_wo_gmean<-d$Accuracy.50-gmean\n",
    "\n",
    "region_model<-lme(Accuracy.50_wo_gmean~X_new,random=~1|PID,data=d,method='REML')\n",
    "summary(region_model)$tTable"
   ]
  },
  {
   "cell_type": "code",
   "execution_count": 49,
   "metadata": {
    "collapsed": false
   },
   "outputs": [],
   "source": [
    "\n",
    "# get data #\n",
    "s<-summary(region_model)\n",
    "coef<-s$tTable[,1] \n",
    "se<-s$tTable[,2] \n",
    "df<-data.frame(cbind(coef,se))\n",
    "\n",
    "df$name<-rownames(df)\n",
    "df<-df[2:nrow(df),] # remove intercept"
   ]
  },
  {
   "cell_type": "code",
   "execution_count": 53,
   "metadata": {
    "collapsed": false
   },
   "outputs": [],
   "source": [
    "# do some name changes for axis # \n",
    "\n",
    "cc<-c()\n",
    "for (name in df$name){\n",
    "    newname<-gsub(\"R4\",\"\",name)\n",
    "    newname<-gsub(\"X_new\",\"\",newname)\n",
    "    newname<-gsub(\"Info.type\",\"\",newname)\n",
    "    newname<-gsub(\".Rule\",\" (Rule)\",newname)\n",
    "    newname<-gsub(\".Response\",\" (Response)\",newname)\n",
    "    newname<-gsub(\".Perceptual\",\" (Perceptual)\",newname)\n",
    "    newname<-gsub(\".Value\",\" (Value)\",newname)\n",
    "    newname<-gsub(\"Frontal_Sup\",\"superior frontal gyrus\",newname)\n",
    "    newname<-gsub(\"Frontal_Mid\",\"middle frontal gyrus\",newname)\n",
    "    newname<-gsub(\"Frontal_Inf\",\"inferior frontal gyrus\",newname)\n",
    "    newname<-gsub(\"Frontal_Orb\",\"superior & middle frontal gyrus, orbital part\",newname)\n",
    "    newname<-gsub(\"Insula\",\"insula\",newname)\n",
    "    newname<-gsub(\"Motor\",\"precentral gyrus & supplementary motory cortex\",newname)\n",
    "    newname<-gsub(\"Cingulum\",\"cingulate gyrus\",newname)\n",
    "    #newname<-gsub(\".\",\"_\",newname)\n",
    "    cc<-c(cc,newname)\n",
    "    #print(newname)\n",
    "    \n",
    "}\n",
    "df$name2<-cc"
   ]
  },
  {
   "cell_type": "code",
   "execution_count": 56,
   "metadata": {
    "collapsed": false
   },
   "outputs": [
    {
     "data": {
      "text/html": [
       "<strong>pdf:</strong> 2"
      ],
      "text/latex": [
       "\\textbf{pdf:} 2"
      ],
      "text/markdown": [
       "**pdf:** 2"
      ],
      "text/plain": [
       "pdf \n",
       "  2 "
      ]
     },
     "execution_count": 56,
     "metadata": {},
     "output_type": "execute_result"
    },
    {
     "data": {
      "image/png": "[encoded data removed]"
     },
     "metadata": {},
     "output_type": "display_data"
    }
   ],
   "source": [
    "\n",
    "\n",
    "# main plot \n",
    "p<-ggplot(data=df,aes(x=name2))+\n",
    "geom_point(aes(y=coef),size=1)+\n",
    "geom_errorbar(aes(ymax = coef + se, ymin=coef- se),width=0.3)\n",
    "p<-p+geom_hline(yintercept=0,linetype='dotted') \n",
    "\n",
    "# theme \n",
    "p<-p+xlab('Region (grouped by information type)')\n",
    "p<-p+ylab('Decoding Accuracy \\n (difference from grand mean)')\n",
    "p<-p+theme(panel.background=element_blank())\n",
    "p<-p+theme(axis.text.y = element_text(family=\"sans\",size=8))\n",
    "p<-p+theme(axis.text.x = element_text(family=\"sans\",angle = 90, hjust = 1,size=8))\n",
    "p<-p+theme(plot.title = element_text(family=\"sans\",size=10))\n",
    "p<-p+theme(axis.title.x = element_text(family=\"sans\",size=10))\n",
    "p<-p+theme(axis.title.y = element_text(family=\"sans\",size=10))\n",
    "p<-p+theme(axis.line.x = element_line(color=\"black\", size = .3),\n",
    "        axis.line.y = element_line(color=\"black\", size = .3))\n",
    "\n",
    "png('../Figures/Supp/accuracy_by_region_info_interaction.png',width=6,height=6,\n",
    "    units=\"in\",res=400)\n",
    "p\n",
    "dev.off()\n",
    "options(repr.plot.width=6, repr.plot.height=6)\n",
    "p\n"
   ]
  },
  {
   "cell_type": "code",
   "execution_count": null,
   "metadata": {
    "collapsed": true
   },
   "outputs": [],
   "source": []
  }
 ],
 "metadata": {
  "hide_input": false,
  "kernelspec": {
   "display_name": "R",
   "language": "R",
   "name": "ir"
  },
  "language_info": {
   "codemirror_mode": "r",
   "file_extension": ".r",
   "mimetype": "text/x-r-source",
   "name": "R",
   "pygments_lexer": "r",
   "version": "3.2.2"
  }
 },
 "nbformat": 4,
 "nbformat_minor": 0
}
