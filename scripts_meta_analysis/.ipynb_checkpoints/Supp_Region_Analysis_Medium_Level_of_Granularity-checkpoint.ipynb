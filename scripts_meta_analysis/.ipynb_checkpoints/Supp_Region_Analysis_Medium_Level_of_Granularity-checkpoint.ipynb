{
 "cells": [
  {
   "cell_type": "code",
   "execution_count": 4,
   "metadata": {
    "collapsed": false,
    "init_cell": true
   },
   "outputs": [],
   "source": [
    "library(nlme)\n",
    "library(multcomp)\n",
    "options(jupyter.plot_mimetypes = \"image/png\")\n",
    "library(ggplot2)\n",
    "library(corrplot)\n",
    "library(gridExtra)\n",
    "library(grid)\n",
    "library(data.table)\n",
    "library(effects)\n",
    "library(xtable)\n",
    "library(reshape)\n",
    "library(lsmeans)"
   ]
  },
  {
   "cell_type": "markdown",
   "metadata": {},
   "source": [
    "# Load Data"
   ]
  },
  {
   "cell_type": "code",
   "execution_count": 5,
   "metadata": {
    "collapsed": true
   },
   "outputs": [],
   "source": [
    "stat_sum_single <- function(fun, geom=\"point\", ...) {\n",
    "  stat_summary(fun.y=fun, colour=\"red\", geom=geom, size = 3, ...)\n",
    "}"
   ]
  },
  {
   "cell_type": "code",
   "execution_count": 6,
   "metadata": {
    "collapsed": false,
    "init_cell": true
   },
   "outputs": [
    {
     "data": {
      "text/html": [
       "<ol class=list-inline>\n",
       "\t<li>'R3Precentral'</li>\n",
       "\t<li>'R3Frontal_Mid'</li>\n",
       "\t<li>'R3Frontal_Mid_Orb'</li>\n",
       "\t<li>'R3Frontal_Inf_Orb'</li>\n",
       "\t<li>'R3Frontal_Inf_Oper'</li>\n",
       "\t<li>'R3Frontal_Inf_Tri'</li>\n",
       "\t<li>'R3Supp_Motor_Area'</li>\n",
       "\t<li>'R3Cingulum_Mid'</li>\n",
       "\t<li>'R3Cingulum_Ant'</li>\n",
       "\t<li>'R3Frontal_Sup'</li>\n",
       "\t<li>'R3Frontal_Sup_Medial'</li>\n",
       "\t<li>'R3Insula'</li>\n",
       "</ol>\n"
      ],
      "text/latex": [
       "\\begin{enumerate*}\n",
       "\\item 'R3Precentral'\n",
       "\\item 'R3Frontal_Mid'\n",
       "\\item 'R3Frontal_Mid_Orb'\n",
       "\\item 'R3Frontal_Inf_Orb'\n",
       "\\item 'R3Frontal_Inf_Oper'\n",
       "\\item 'R3Frontal_Inf_Tri'\n",
       "\\item 'R3Supp_Motor_Area'\n",
       "\\item 'R3Cingulum_Mid'\n",
       "\\item 'R3Cingulum_Ant'\n",
       "\\item 'R3Frontal_Sup'\n",
       "\\item 'R3Frontal_Sup_Medial'\n",
       "\\item 'R3Insula'\n",
       "\\end{enumerate*}\n"
      ],
      "text/markdown": [
       "1. 'R3Precentral'\n",
       "2. 'R3Frontal_Mid'\n",
       "3. 'R3Frontal_Mid_Orb'\n",
       "4. 'R3Frontal_Inf_Orb'\n",
       "5. 'R3Frontal_Inf_Oper'\n",
       "6. 'R3Frontal_Inf_Tri'\n",
       "7. 'R3Supp_Motor_Area'\n",
       "8. 'R3Cingulum_Mid'\n",
       "9. 'R3Cingulum_Ant'\n",
       "10. 'R3Frontal_Sup'\n",
       "11. 'R3Frontal_Sup_Medial'\n",
       "12. 'R3Insula'\n",
       "\n",
       "\n"
      ],
      "text/plain": [
       " [1] \"R3Precentral\"         \"R3Frontal_Mid\"        \"R3Frontal_Mid_Orb\"   \n",
       " [4] \"R3Frontal_Inf_Orb\"    \"R3Frontal_Inf_Oper\"   \"R3Frontal_Inf_Tri\"   \n",
       " [7] \"R3Supp_Motor_Area\"    \"R3Cingulum_Mid\"       \"R3Cingulum_Ant\"      \n",
       "[10] \"R3Frontal_Sup\"        \"R3Frontal_Sup_Medial\" \"R3Insula\"            "
      ]
     },
     "execution_count": 6,
     "metadata": {},
     "output_type": "execute_result"
    }
   ],
   "source": [
    "data = read.csv(\"../data_meta_analysis/Data_Classifications_v7.csv\")\n",
    "\n",
    "data<-data[c('PID','Info.type','Accuracy.50','Significance','Roi.Search',\n",
    "             'Pattern.type','Classifier.type','Scanner','Smoothing','Coregistration','Pattern.normalization.type','Num_subs')]\n",
    "\n",
    "factors<-c('Info.type','Significance','Roi.Search',\n",
    "             'Pattern.type','Classifier.type','Scanner','Smoothing','Coregistration','Pattern.normalization.type','Num_subs')\n",
    "\n",
    "for (pid in unique(data$PID)){\n",
    "    #print('--')\n",
    "    #print(pid)\n",
    "    #print(nrow(data1[data1$PID==pid,]))\n",
    "    #print('--')\n",
    "    data[data$PID==pid,'n_per_study']=nrow(data[data$PID==pid,])\n",
    "}\n",
    "\n",
    "R3 = read.csv(paste(\"../data_meta_analysis/data_derived_meta_analysis/X_region1_after_clustering_lr_2.csv\"))\n",
    "R3names = colnames(R3)\n",
    "\n",
    "i=1\n",
    "for (name in R3names){\n",
    "    R3names[i]<-paste(sep='','R3',name)\n",
    "    i=i+1\n",
    "}\n",
    "R3names\n",
    "colnames(R3)<-R3names\n"
   ]
  },
  {
   "cell_type": "code",
   "execution_count": 7,
   "metadata": {
    "collapsed": false,
    "init_cell": true
   },
   "outputs": [
    {
     "data": {
      "text/html": [
       "506"
      ],
      "text/latex": [
       "506"
      ],
      "text/markdown": [
       "506"
      ],
      "text/plain": [
       "[1] 506"
      ]
     },
     "execution_count": 7,
     "metadata": {},
     "output_type": "execute_result"
    }
   ],
   "source": [
    "data = cbind(data,R3) # will bind with other region names too \n",
    "\n",
    "\n",
    "# mscl fixed \n",
    "data<-data[!data$Classifier.type=='neural-net',] # no observations but still has a level\n",
    "data[data$Scanner=='4T','Scanner']='3T' # only one observatoin with 3T\n",
    "\n",
    "data$PID<-as.factor(data$PID)\n",
    "data$Info.type<-as.factor(data$Info.type)\n",
    "data$Smoothing<-as.factor(data$Smoothing)\n",
    "data$Roi.Search<-as.factor(data$Roi.Search)\n",
    "data$Classifier.type<-as.factor(data$Classifier.type)\n",
    "data$Coregistration<-as.factor(data$Coregistration)\n",
    "data$Pattern.type<-as.factor(data$Pattern.type)\n",
    "\n",
    "#data[data$Pattern.normalization.type=='Normalized Spatially']\n",
    "\n",
    "data$Pattern.normalization.type<-as.factor(data$Pattern.normalization.type)\n",
    "\n",
    "data<-droplevels(data)\n",
    "\n",
    "data_50<-subset(data,!is.na(Accuracy.50))\n",
    "data_50_non<-subset(data,!is.na(Accuracy.50)& Significance==0)\n",
    "data_50_sig<-subset(data,!is.na(Accuracy.50) & Significance==1)\n",
    "#head(data_50_sig)\n",
    "nrow(data_50_sig)\n",
    "\n",
    "\n"
   ]
  },
  {
   "cell_type": "code",
   "execution_count": 8,
   "metadata": {
    "collapsed": false
   },
   "outputs": [
    {
     "data": {
      "text/html": [
       "<table>\n",
       "<thead><tr><th></th><th scope=col>Accuracy.50</th><th scope=col>PID</th><th scope=col>R3Precentral</th><th scope=col>R3Frontal_Mid</th><th scope=col>R3Frontal_Mid_Orb</th><th scope=col>R3Frontal_Inf_Orb</th><th scope=col>R3Frontal_Inf_Oper</th><th scope=col>R3Frontal_Inf_Tri</th><th scope=col>R3Supp_Motor_Area</th><th scope=col>R3Cingulum_Mid</th><th scope=col>R3Cingulum_Ant</th><th scope=col>R3Frontal_Sup</th><th scope=col>R3Frontal_Sup_Medial</th><th scope=col>R3Insula</th></tr></thead>\n",
       "<tbody>\n",
       "\t<tr><th scope=row>2</th><td>0.52</td><td>93</td><td>0</td><td>0</td><td>0</td><td>0</td><td>0</td><td>0</td><td>0</td><td>0</td><td>0</td><td>0</td><td>1</td><td>0</td></tr>\n",
       "\t<tr><th scope=row>3</th><td>0.52</td><td>93</td><td>0</td><td>0</td><td>0</td><td>0</td><td>0</td><td>0</td><td>0</td><td>0</td><td>0</td><td>0</td><td>1</td><td>0</td></tr>\n",
       "\t<tr><th scope=row>4</th><td>0.52</td><td>93</td><td>0</td><td>0</td><td>0</td><td>0</td><td>0</td><td>0</td><td>0</td><td>0</td><td>0</td><td>0</td><td>1</td><td>0</td></tr>\n",
       "\t<tr><th scope=row>5</th><td>0.52</td><td>93</td><td>0</td><td>0</td><td>0</td><td>0</td><td>0</td><td>0</td><td>0</td><td>0</td><td>0</td><td>0</td><td>1</td><td>0</td></tr>\n",
       "\t<tr><th scope=row>6</th><td>0.525</td><td>93</td><td>0</td><td>0</td><td>0</td><td>0</td><td>0</td><td>0</td><td>0</td><td>0</td><td>0</td><td>0</td><td>1</td><td>0</td></tr>\n",
       "\t<tr><th scope=row>7</th><td>0.53</td><td>93</td><td>0</td><td>0</td><td>0</td><td>0</td><td>0</td><td>0</td><td>0</td><td>0</td><td>0</td><td>0</td><td>1</td><td>0</td></tr>\n",
       "</tbody>\n",
       "</table>\n"
      ],
      "text/latex": [
       "\\begin{tabular}{r|llllllllllllll}\n",
       "  & Accuracy.50 & PID & R3Precentral & R3Frontal_Mid & R3Frontal_Mid_Orb & R3Frontal_Inf_Orb & R3Frontal_Inf_Oper & R3Frontal_Inf_Tri & R3Supp_Motor_Area & R3Cingulum_Mid & R3Cingulum_Ant & R3Frontal_Sup & R3Frontal_Sup_Medial & R3Insula\\\\\n",
       "\\hline\n",
       "\t2 & 0.52 & 93 & 0 & 0 & 0 & 0 & 0 & 0 & 0 & 0 & 0 & 0 & 1 & 0\\\\\n",
       "\t3 & 0.52 & 93 & 0 & 0 & 0 & 0 & 0 & 0 & 0 & 0 & 0 & 0 & 1 & 0\\\\\n",
       "\t4 & 0.52 & 93 & 0 & 0 & 0 & 0 & 0 & 0 & 0 & 0 & 0 & 0 & 1 & 0\\\\\n",
       "\t5 & 0.52 & 93 & 0 & 0 & 0 & 0 & 0 & 0 & 0 & 0 & 0 & 0 & 1 & 0\\\\\n",
       "\t6 & 0.525 & 93 & 0 & 0 & 0 & 0 & 0 & 0 & 0 & 0 & 0 & 0 & 1 & 0\\\\\n",
       "\t7 & 0.53 & 93 & 0 & 0 & 0 & 0 & 0 & 0 & 0 & 0 & 0 & 0 & 1 & 0\\\\\n",
       "\\end{tabular}\n"
      ],
      "text/plain": [
       "  Accuracy.50 PID R3Precentral R3Frontal_Mid R3Frontal_Mid_Orb\n",
       "2       0.520  93            0             0                 0\n",
       "3       0.520  93            0             0                 0\n",
       "4       0.520  93            0             0                 0\n",
       "5       0.520  93            0             0                 0\n",
       "6       0.525  93            0             0                 0\n",
       "7       0.530  93            0             0                 0\n",
       "  R3Frontal_Inf_Orb R3Frontal_Inf_Oper R3Frontal_Inf_Tri R3Supp_Motor_Area\n",
       "2                 0                  0                 0                 0\n",
       "3                 0                  0                 0                 0\n",
       "4                 0                  0                 0                 0\n",
       "5                 0                  0                 0                 0\n",
       "6                 0                  0                 0                 0\n",
       "7                 0                  0                 0                 0\n",
       "  R3Cingulum_Mid R3Cingulum_Ant R3Frontal_Sup R3Frontal_Sup_Medial R3Insula\n",
       "2              0              0             0                    1        0\n",
       "3              0              0             0                    1        0\n",
       "4              0              0             0                    1        0\n",
       "5              0              0             0                    1        0\n",
       "6              0              0             0                    1        0\n",
       "7              0              0             0                    1        0"
      ]
     },
     "execution_count": 8,
     "metadata": {},
     "output_type": "execute_result"
    },
    {
     "data": {
      "text/html": [
       "506"
      ],
      "text/latex": [
       "506"
      ],
      "text/markdown": [
       "506"
      ],
      "text/plain": [
       "[1] 506"
      ]
     },
     "execution_count": 8,
     "metadata": {},
     "output_type": "execute_result"
    }
   ],
   "source": [
    "d<-data_50_sig[c('Accuracy.50','PID',R3names)]\n",
    "head(d)\n",
    "nrow(d)"
   ]
  },
  {
   "cell_type": "markdown",
   "metadata": {},
   "source": [
    "# Mixed Effects "
   ]
  },
  {
   "cell_type": "code",
   "execution_count": 9,
   "metadata": {
    "collapsed": false
   },
   "outputs": [
    {
     "data": {
      "text/html": [
       "'R3Precentral+R3Frontal_Mid+R3Frontal_Mid_Orb+R3Frontal_Inf_Orb+R3Frontal_Inf_Oper+R3Frontal_Inf_Tri+R3Supp_Motor_Area+R3Cingulum_Mid+R3Cingulum_Ant+R3Frontal_Sup+R3Frontal_Sup_Medial+R3Insula'"
      ],
      "text/latex": [
       "'R3Precentral+R3Frontal_Mid+R3Frontal_Mid_Orb+R3Frontal_Inf_Orb+R3Frontal_Inf_Oper+R3Frontal_Inf_Tri+R3Supp_Motor_Area+R3Cingulum_Mid+R3Cingulum_Ant+R3Frontal_Sup+R3Frontal_Sup_Medial+R3Insula'"
      ],
      "text/markdown": [
       "'R3Precentral+R3Frontal_Mid+R3Frontal_Mid_Orb+R3Frontal_Inf_Orb+R3Frontal_Inf_Oper+R3Frontal_Inf_Tri+R3Supp_Motor_Area+R3Cingulum_Mid+R3Cingulum_Ant+R3Frontal_Sup+R3Frontal_Sup_Medial+R3Insula'"
      ],
      "text/plain": [
       "[1] \"R3Precentral+R3Frontal_Mid+R3Frontal_Mid_Orb+R3Frontal_Inf_Orb+R3Frontal_Inf_Oper+R3Frontal_Inf_Tri+R3Supp_Motor_Area+R3Cingulum_Mid+R3Cingulum_Ant+R3Frontal_Sup+R3Frontal_Sup_Medial+R3Insula\""
      ]
     },
     "execution_count": 9,
     "metadata": {},
     "output_type": "execute_result"
    }
   ],
   "source": [
    "R1names_string<-c()\n",
    "for (R in R3names){\n",
    "    R1names_string<-paste(R1names_string,R,sep='+')\n",
    "    \n",
    "}\n",
    "R1names_string<-substring(R1names_string, 2)\n",
    "R1names_string"
   ]
  },
  {
   "cell_type": "code",
   "execution_count": 10,
   "metadata": {
    "collapsed": false
   },
   "outputs": [
    {
     "data": {
      "text/html": [
       "<table>\n",
       "<thead><tr><th></th><th scope=col>Value</th><th scope=col>Std.Error</th><th scope=col>DF</th><th scope=col>t-value</th><th scope=col>p-value</th></tr></thead>\n",
       "<tbody>\n",
       "\t<tr><th scope=row>R3Precentral</th><td>1.060320e-02</td><td>8.491684e-03</td><td>4.200000e+02</td><td>1.248656e+00</td><td>2.124863e-01</td></tr>\n",
       "\t<tr><th scope=row>R3Frontal_Mid</th><td> -0.01707515</td><td>  0.00770178</td><td>420.00000000</td><td> -2.21703977</td><td>  0.02715518</td></tr>\n",
       "\t<tr><th scope=row>R3Frontal_Mid_Orb</th><td> -0.02901548</td><td>  0.01439602</td><td>420.00000000</td><td> -2.01552041</td><td>  0.04448661</td></tr>\n",
       "\t<tr><th scope=row>R3Frontal_Inf_Orb</th><td>  0.01094602</td><td>  0.01305935</td><td>420.00000000</td><td>  0.83817462</td><td>  0.40240938</td></tr>\n",
       "\t<tr><th scope=row>R3Frontal_Inf_Oper</th><td> -0.01246058</td><td>  0.01207634</td><td>420.00000000</td><td> -1.03181726</td><td>  0.30275152</td></tr>\n",
       "\t<tr><th scope=row>R3Frontal_Inf_Tri</th><td> -0.002980384</td><td>  0.010325944</td><td>420.000000000</td><td> -0.288630631</td><td>  0.773006449</td></tr>\n",
       "\t<tr><th scope=row>R3Supp_Motor_Area</th><td>  0.01449813</td><td>  0.01028250</td><td>420.00000000</td><td>  1.40998126</td><td>  0.15928531</td></tr>\n",
       "\t<tr><th scope=row>R3Cingulum_Mid</th><td>3.470424e-03</td><td>1.577361e-02</td><td>4.200000e+02</td><td>2.200146e-01</td><td>8.259667e-01</td></tr>\n",
       "\t<tr><th scope=row>R3Cingulum_Ant</th><td>  0.01604047</td><td>  0.01400147</td><td>420.00000000</td><td>  1.14562768</td><td>  0.25260158</td></tr>\n",
       "\t<tr><th scope=row>R3Frontal_Sup</th><td>5.501433e-03</td><td>1.028760e-02</td><td>4.200000e+02</td><td>5.347634e-01</td><td>5.930965e-01</td></tr>\n",
       "\t<tr><th scope=row>R3Frontal_Sup_Medial</th><td> -0.007872136</td><td>  0.010457768</td><td>420.000000000</td><td> -0.752754891</td><td>  0.452018916</td></tr>\n",
       "\t<tr><th scope=row>R3Insula</th><td> -0.02439417</td><td>  0.01785378</td><td>420.00000000</td><td> -1.36633075</td><td>  0.17256623</td></tr>\n",
       "</tbody>\n",
       "</table>\n"
      ],
      "text/latex": [
       "\\begin{tabular}{r|lllll}\n",
       "  & Value & Std.Error & DF & t-value & p-value\\\\\n",
       "\\hline\n",
       "\tR3Precentral & 1.060320e-02 & 8.491684e-03 & 4.200000e+02 & 1.248656e+00 & 2.124863e-01\\\\\n",
       "\tR3Frontal_Mid &  -0.01707515 &   0.00770178 & 420.00000000 &  -2.21703977 &   0.02715518\\\\\n",
       "\tR3Frontal_Mid_Orb &  -0.02901548 &   0.01439602 & 420.00000000 &  -2.01552041 &   0.04448661\\\\\n",
       "\tR3Frontal_Inf_Orb &   0.01094602 &   0.01305935 & 420.00000000 &   0.83817462 &   0.40240938\\\\\n",
       "\tR3Frontal_Inf_Oper &  -0.01246058 &   0.01207634 & 420.00000000 &  -1.03181726 &   0.30275152\\\\\n",
       "\tR3Frontal_Inf_Tri &  -0.002980384 &   0.010325944 & 420.000000000 &  -0.288630631 &   0.773006449\\\\\n",
       "\tR3Supp_Motor_Area &   0.01449813 &   0.01028250 & 420.00000000 &   1.40998126 &   0.15928531\\\\\n",
       "\tR3Cingulum_Mid & 3.470424e-03 & 1.577361e-02 & 4.200000e+02 & 2.200146e-01 & 8.259667e-01\\\\\n",
       "\tR3Cingulum_Ant &   0.01604047 &   0.01400147 & 420.00000000 &   1.14562768 &   0.25260158\\\\\n",
       "\tR3Frontal_Sup & 5.501433e-03 & 1.028760e-02 & 4.200000e+02 & 5.347634e-01 & 5.930965e-01\\\\\n",
       "\tR3Frontal_Sup_Medial &  -0.007872136 &   0.010457768 & 420.000000000 &  -0.752754891 &   0.452018916\\\\\n",
       "\tR3Insula &  -0.02439417 &   0.01785378 & 420.00000000 &  -1.36633075 &   0.17256623\\\\\n",
       "\\end{tabular}\n"
      ],
      "text/markdown": [
       "1. 0.010603195920295\n",
       "2. -0.0170751534634808\n",
       "3. -0.0290154774765748\n",
       "4. 0.010946019238526\n",
       "5. -0.0124605767560569\n",
       "6. -0.0029803837556242\n",
       "7. 0.0144981289373326\n",
       "8. 0.00347042409730594\n",
       "9. 0.0160404717149287\n",
       "10. 0.00550143288685289\n",
       "11. -0.00787213621076495\n",
       "12. -0.0243941738838728\n",
       "13. 0.00849168420215718\n",
       "14. 0.00770178039048439\n",
       "15. 0.0143960226258954\n",
       "16. 0.0130593542463703\n",
       "17. 0.0120763406391806\n",
       "18. 0.010325944097845\n",
       "19. 0.0102824976402198\n",
       "20. 0.0157736064556235\n",
       "21. 0.0140014701345433\n",
       "22. 0.0102876017979505\n",
       "23. 0.0104577682626691\n",
       "24. 0.0178537838472345\n",
       "25. 420\n",
       "26. 420\n",
       "27. 420\n",
       "28. 420\n",
       "29. 420\n",
       "30. 420\n",
       "31. 420\n",
       "32. 420\n",
       "33. 420\n",
       "34. 420\n",
       "35. 420\n",
       "36. 420\n",
       "37. 1.24865641112765\n",
       "38. -2.21703977493013\n",
       "39. -2.01552041356076\n",
       "40. 0.838174616602378\n",
       "41. -1.03181726388453\n",
       "42. -0.288630630515053\n",
       "43. 1.40998125597652\n",
       "44. 0.22001462424395\n",
       "45. 1.14562767772185\n",
       "46. 0.534763397233055\n",
       "47. -0.752754891200443\n",
       "48. -1.36633075053451\n",
       "49. 0.212486319110833\n",
       "50. 0.0271551782963779\n",
       "51. 0.0444866092140497\n",
       "52. 0.402409381008188\n",
       "53. 0.302751516763848\n",
       "54. 0.773006448568208\n",
       "55. 0.159285311320632\n",
       "56. 0.825966662467912\n",
       "57. 0.252601581166279\n",
       "58. 0.593096459532096\n",
       "59. 0.45201891626345\n",
       "60. 0.172566229550588\n",
       "\n",
       "\n"
      ],
      "text/plain": [
       "                            Value   Std.Error  DF    t-value    p-value\n",
       "R3Precentral          0.010603196 0.008491684 420  1.2486564 0.21248632\n",
       "R3Frontal_Mid        -0.017075153 0.007701780 420 -2.2170398 0.02715518\n",
       "R3Frontal_Mid_Orb    -0.029015477 0.014396023 420 -2.0155204 0.04448661\n",
       "R3Frontal_Inf_Orb     0.010946019 0.013059354 420  0.8381746 0.40240938\n",
       "R3Frontal_Inf_Oper   -0.012460577 0.012076341 420 -1.0318173 0.30275152\n",
       "R3Frontal_Inf_Tri    -0.002980384 0.010325944 420 -0.2886306 0.77300645\n",
       "R3Supp_Motor_Area     0.014498129 0.010282498 420  1.4099813 0.15928531\n",
       "R3Cingulum_Mid        0.003470424 0.015773606 420  0.2200146 0.82596666\n",
       "R3Cingulum_Ant        0.016040472 0.014001470 420  1.1456277 0.25260158\n",
       "R3Frontal_Sup         0.005501433 0.010287602 420  0.5347634 0.59309646\n",
       "R3Frontal_Sup_Medial -0.007872136 0.010457768 420 -0.7527549 0.45201892\n",
       "R3Insula             -0.024394174 0.017853784 420 -1.3663308 0.17256623"
      ]
     },
     "execution_count": 10,
     "metadata": {},
     "output_type": "execute_result"
    }
   ],
   "source": [
    "d<-data_50_sig[c('Accuracy.50','PID',R3names)]\n",
    "gmean<-mean(d$Accuracy.50)\n",
    "d$Accuracy.50_wo_gmean<-d$Accuracy.50-gmean\n",
    "region_model<-lme(as.formula(paste('Accuracy.50_wo_gmean~-1+',R1names_string,sep='')),random=~1|PID,data=d,method='REML')\n",
    "summary(region_model)$tTable"
   ]
  },
  {
   "cell_type": "code",
   "execution_count": 11,
   "metadata": {
    "collapsed": false
   },
   "outputs": [],
   "source": [
    "#lsmeans(region_model,pairwise~.,adjust='Tukey')"
   ]
  },
  {
   "cell_type": "code",
   "execution_count": 12,
   "metadata": {
    "collapsed": false
   },
   "outputs": [
    {
     "data": {
      "text/html": [
       "<ol class=list-inline>\n",
       "\t<li>'Precentral'</li>\n",
       "\t<li>'Frontal_Mid'</li>\n",
       "\t<li>'Frontal_Mid_Orb'</li>\n",
       "\t<li>'Frontal_Inf_Orb'</li>\n",
       "\t<li>'Frontal_Inf_Oper'</li>\n",
       "\t<li>'Frontal_Inf_Tri'</li>\n",
       "\t<li>'Supp_Motor_Area'</li>\n",
       "\t<li>'Cingulum_Mid'</li>\n",
       "\t<li>'Cingulum_Ant'</li>\n",
       "\t<li>'Frontal_Sup'</li>\n",
       "\t<li>'Frontal_Sup_Medial'</li>\n",
       "\t<li>'Insula'</li>\n",
       "</ol>\n"
      ],
      "text/latex": [
       "\\begin{enumerate*}\n",
       "\\item 'Precentral'\n",
       "\\item 'Frontal_Mid'\n",
       "\\item 'Frontal_Mid_Orb'\n",
       "\\item 'Frontal_Inf_Orb'\n",
       "\\item 'Frontal_Inf_Oper'\n",
       "\\item 'Frontal_Inf_Tri'\n",
       "\\item 'Supp_Motor_Area'\n",
       "\\item 'Cingulum_Mid'\n",
       "\\item 'Cingulum_Ant'\n",
       "\\item 'Frontal_Sup'\n",
       "\\item 'Frontal_Sup_Medial'\n",
       "\\item 'Insula'\n",
       "\\end{enumerate*}\n"
      ],
      "text/markdown": [
       "1. 'Precentral'\n",
       "2. 'Frontal_Mid'\n",
       "3. 'Frontal_Mid_Orb'\n",
       "4. 'Frontal_Inf_Orb'\n",
       "5. 'Frontal_Inf_Oper'\n",
       "6. 'Frontal_Inf_Tri'\n",
       "7. 'Supp_Motor_Area'\n",
       "8. 'Cingulum_Mid'\n",
       "9. 'Cingulum_Ant'\n",
       "10. 'Frontal_Sup'\n",
       "11. 'Frontal_Sup_Medial'\n",
       "12. 'Insula'\n",
       "\n",
       "\n"
      ],
      "text/plain": [
       " [1] \"Precentral\"         \"Frontal_Mid\"        \"Frontal_Mid_Orb\"   \n",
       " [4] \"Frontal_Inf_Orb\"    \"Frontal_Inf_Oper\"   \"Frontal_Inf_Tri\"   \n",
       " [7] \"Supp_Motor_Area\"    \"Cingulum_Mid\"       \"Cingulum_Ant\"      \n",
       "[10] \"Frontal_Sup\"        \"Frontal_Sup_Medial\" \"Insula\"            "
      ]
     },
     "execution_count": 12,
     "metadata": {},
     "output_type": "execute_result"
    }
   ],
   "source": [
    "R3namesnew<-c()\n",
    "for (R in R3names){\n",
    "    R3namesnew<-c(R3namesnew,gsub(\"R3\", \"\",R))\n",
    "    \n",
    "}\n",
    "R3namesnew"
   ]
  },
  {
   "cell_type": "code",
   "execution_count": 13,
   "metadata": {
    "collapsed": true
   },
   "outputs": [],
   "source": [
    "# get data for plot \n",
    "fits<-c()\n",
    "se<-c()\n",
    "i=1\n",
    "for (name in R3names){\n",
    "    ef<-effect(name,region_model)\n",
    "    fits[i]<-tail(ef$fit, n=1)\n",
    "    se[i]<-tail(ef$se, n=1)\n",
    "    i=i+1 \n",
    "}\n",
    "dd = data.table(name=R3namesnew,se=se,Accuracy=fits)\n",
    "\n"
   ]
  },
  {
   "cell_type": "code",
   "execution_count": 14,
   "metadata": {
    "collapsed": false
   },
   "outputs": [
    {
     "data": {
      "text/html": [
       "<strong>pdf:</strong> 2"
      ],
      "text/latex": [
       "\\textbf{pdf:} 2"
      ],
      "text/markdown": [
       "**pdf:** 2"
      ],
      "text/plain": [
       "pdf \n",
       "  2 "
      ]
     },
     "execution_count": 14,
     "metadata": {},
     "output_type": "execute_result"
    },
    {
     "data": {
      "image/png": "[encoded data removed]"
     },
     "metadata": {},
     "output_type": "display_data"
    }
   ],
   "source": [
    "\n",
    "\n",
    "p<-ggplot(aes(y = Accuracy, x = name,ymax = Accuracy + se, ymin=Accuracy - se), \n",
    "          data = dd) +\n",
    "geom_point(size=1)+geom_errorbar(width=0.15)\n",
    "p<-p+geom_hline(yintercept=0,linetype='dotted')\n",
    "\n",
    "p<-p+theme(axis.line.x = element_line(color=\"black\", size = .3),\n",
    "        axis.line.y = element_line(color=\"black\", size = .3))\n",
    "\n",
    "p<-p+xlab('Region')\n",
    "p<-p+ylab('Decoding Accuracy \\n (difference from grand mean)')\n",
    "p<-p+theme(panel.background=element_blank())\n",
    "p<-p+theme(axis.text.y = element_text(family=\"sans\",size=8))\n",
    "p<-p+theme(axis.text.x = element_text(family=\"sans\",angle = 90, hjust = 1,size=8))\n",
    "p<-p+theme(plot.title = element_text(family=\"sans\",size=10))\n",
    "p<-p+theme(axis.title.x = element_text(family=\"sans\",size=10))\n",
    "p<-p+theme(axis.title.y = element_text(family=\"sans\",size=10,hjust=.8))\n",
    "\n",
    "rlabels = c('anterior cingulate gyrus','midcingulate area',\n",
    "            'inferior frontal gyrus, pars opercularis',\n",
    "           'inferior frontal gyrus, pars orbitalis',\n",
    "            'inferior frontal gyrus, pars triangularis',\n",
    "           'middle frontal gyrus',\n",
    "            'superior & middle frontal gyrus, orbital part',\n",
    "           'superior frontal gyrus',\n",
    "            'medial frontal gyrus',\n",
    "            'insula','precentral gyrus',\n",
    "           'supplementary motor cortex')\n",
    "p<-p+scale_x_discrete(labels=rlabels)\n",
    "\n",
    "png('../Figures/Supp/accuracy_by_region_medium_mixed_effects.png',width=6,height=4,\n",
    "     units=\"in\",res=400)\n",
    "p\n",
    "dev.off()\n",
    "options(repr.plot.width=6, repr.plot.height=4)\n",
    "p"
   ]
  }
 ],
 "metadata": {
  "hide_input": false,
  "kernelspec": {
   "display_name": "R",
   "language": "R",
   "name": "ir"
  },
  "language_info": {
   "codemirror_mode": "r",
   "file_extension": ".r",
   "mimetype": "text/x-r-source",
   "name": "R",
   "pygments_lexer": "r",
   "version": "3.2.2"
  }
 },
 "nbformat": 4,
 "nbformat_minor": 0
}
