{
 "cells": [
  {
   "cell_type": "code",
   "execution_count": 1,
   "metadata": {
    "collapsed": true
   },
   "outputs": [],
   "source": [
    "#install.packages('reshape')"
   ]
  },
  {
   "cell_type": "code",
   "execution_count": 41,
   "metadata": {
    "collapsed": true,
    "init_cell": true
   },
   "outputs": [],
   "source": [
    "library(nlme)\n",
    "library(multcomp)\n",
    "options(jupyter.plot_mimetypes = \"image/png\")\n",
    "library(ggplot2)\n",
    "library(corrplot)\n",
    "library(gridExtra)\n",
    "library(grid)\n",
    "library(data.table)\n",
    "library(effects)\n",
    "library(xtable)\n",
    "library(reshape)\n",
    "library(lsmeans)"
   ]
  },
  {
   "cell_type": "markdown",
   "metadata": {},
   "source": [
    "# Load Data"
   ]
  },
  {
   "cell_type": "code",
   "execution_count": 42,
   "metadata": {
    "collapsed": true
   },
   "outputs": [],
   "source": [
    "stat_sum_single <- function(fun, geom=\"point\", ...) {\n",
    "  stat_summary(fun.y=fun, colour=\"red\", geom=geom, size = 3, ...)\n",
    "}"
   ]
  },
  {
   "cell_type": "code",
   "execution_count": 43,
   "metadata": {
    "collapsed": true
   },
   "outputs": [],
   "source": [
    "data = read.csv(\"../data_meta_analysis/Data_Classifications_v8b.csv\")"
   ]
  },
  {
   "cell_type": "code",
   "execution_count": 44,
   "metadata": {
    "collapsed": true
   },
   "outputs": [],
   "source": [
    "data<-data[c('PID','Info.type','Accuracy.50','Significance','Roi.Search',\n",
    "             'Pattern.type','Classifier.type','Scanner','Smoothing',\n",
    "             'Coregistration','Pattern.normalization.type','Num_subs',\n",
    "             'Voxel.numbers','Training.setsize')]\n",
    "\n",
    "factors<-c('Info.type','Significance','Roi.Search',\n",
    "             'Pattern.type','Classifier.type','Scanner','Smoothing',\n",
    "           'Coregistration','Pattern.normalization.type','Num_subs',\n",
    "          'Voxel.numbers','Training.setsize')\n",
    "\n",
    "for (pid in unique(data$PID)){\n",
    "    #print('--')\n",
    "    #print(pid)\n",
    "    #print(nrow(data1[data1$PID==pid,]))\n",
    "    #print('--')\n",
    "    data[data$PID==pid,'n_per_study']=nrow(data[data$PID==pid,])\n",
    "}"
   ]
  },
  {
   "cell_type": "code",
   "execution_count": 45,
   "metadata": {
    "init_cell": true
   },
   "outputs": [
    {
     "data": {
      "text/html": [
       "<ol class=list-inline>\n",
       "\t<li>'R3Precentral'</li>\n",
       "\t<li>'R3Frontal_Mid'</li>\n",
       "\t<li>'R3Frontal_Mid_Orb'</li>\n",
       "\t<li>'R3Frontal_Inf_Orb'</li>\n",
       "\t<li>'R3Frontal_Inf_Oper'</li>\n",
       "\t<li>'R3Frontal_Inf_Tri'</li>\n",
       "\t<li>'R3Supp_Motor_Area'</li>\n",
       "\t<li>'R3Cingulum_Mid'</li>\n",
       "\t<li>'R3Cingulum_Ant'</li>\n",
       "\t<li>'R3Frontal_Sup'</li>\n",
       "\t<li>'R3Frontal_Sup_Medial'</li>\n",
       "\t<li>'R3Insula'</li>\n",
       "</ol>\n"
      ],
      "text/latex": [
       "\\begin{enumerate*}\n",
       "\\item 'R3Precentral'\n",
       "\\item 'R3Frontal\\_Mid'\n",
       "\\item 'R3Frontal\\_Mid\\_Orb'\n",
       "\\item 'R3Frontal\\_Inf\\_Orb'\n",
       "\\item 'R3Frontal\\_Inf\\_Oper'\n",
       "\\item 'R3Frontal\\_Inf\\_Tri'\n",
       "\\item 'R3Supp\\_Motor\\_Area'\n",
       "\\item 'R3Cingulum\\_Mid'\n",
       "\\item 'R3Cingulum\\_Ant'\n",
       "\\item 'R3Frontal\\_Sup'\n",
       "\\item 'R3Frontal\\_Sup\\_Medial'\n",
       "\\item 'R3Insula'\n",
       "\\end{enumerate*}\n"
      ],
      "text/markdown": [
       "1. 'R3Precentral'\n",
       "2. 'R3Frontal_Mid'\n",
       "3. 'R3Frontal_Mid_Orb'\n",
       "4. 'R3Frontal_Inf_Orb'\n",
       "5. 'R3Frontal_Inf_Oper'\n",
       "6. 'R3Frontal_Inf_Tri'\n",
       "7. 'R3Supp_Motor_Area'\n",
       "8. 'R3Cingulum_Mid'\n",
       "9. 'R3Cingulum_Ant'\n",
       "10. 'R3Frontal_Sup'\n",
       "11. 'R3Frontal_Sup_Medial'\n",
       "12. 'R3Insula'\n",
       "\n",
       "\n"
      ],
      "text/plain": [
       " [1] \"R3Precentral\"         \"R3Frontal_Mid\"        \"R3Frontal_Mid_Orb\"   \n",
       " [4] \"R3Frontal_Inf_Orb\"    \"R3Frontal_Inf_Oper\"   \"R3Frontal_Inf_Tri\"   \n",
       " [7] \"R3Supp_Motor_Area\"    \"R3Cingulum_Mid\"       \"R3Cingulum_Ant\"      \n",
       "[10] \"R3Frontal_Sup\"        \"R3Frontal_Sup_Medial\" \"R3Insula\"            "
      ]
     },
     "metadata": {},
     "output_type": "display_data"
    }
   ],
   "source": [
    "R3 = read.csv(paste(\"../data_meta_analysis/data_derived_meta_analysis/X_region1_after_clustering_lr_v8b.csv\"))\n",
    "R3names = colnames(R3)\n",
    "\n",
    "i=1\n",
    "for (name in R3names){\n",
    "    R3names[i]<-paste(sep='','R3',name)\n",
    "    i=i+1\n",
    "}\n",
    "R3names\n",
    "colnames(R3)<-R3names"
   ]
  },
  {
   "cell_type": "code",
   "execution_count": 46,
   "metadata": {
    "init_cell": true
   },
   "outputs": [
    {
     "data": {
      "text/html": [
       "512"
      ],
      "text/latex": [
       "512"
      ],
      "text/markdown": [
       "512"
      ],
      "text/plain": [
       "[1] 512"
      ]
     },
     "metadata": {},
     "output_type": "display_data"
    }
   ],
   "source": [
    "data = cbind(data,R3) # will bind with other region names too \n",
    "\n",
    "\n",
    "# mscl fixed \n",
    "data<-data[!data$Classifier.type=='neural-net',] # no observations but still has a level\n",
    "data[data$Scanner=='4T','Scanner']='3T' # only one observatoin with 3T\n",
    "\n",
    "data$PID<-as.factor(data$PID)\n",
    "data$Info.type<-as.factor(data$Info.type)\n",
    "data$Smoothing<-as.factor(data$Smoothing)\n",
    "data$Roi.Search<-as.factor(data$Roi.Search)\n",
    "data$Classifier.type<-as.factor(data$Classifier.type)\n",
    "data$Coregistration<-as.factor(data$Coregistration)\n",
    "data$Pattern.type<-as.factor(data$Pattern.type)\n",
    "\n",
    "#data[data$Pattern.normalization.type=='Normalized Spatially']\n",
    "\n",
    "data$Pattern.normalization.type<-as.factor(data$Pattern.normalization.type)\n",
    "\n",
    "data<-droplevels(data)\n",
    "\n",
    "data_50<-subset(data,!is.na(Accuracy.50))\n",
    "data_50_non<-subset(data,!is.na(Accuracy.50)& Significance==0)\n",
    "data_50_sig<-subset(data,!is.na(Accuracy.50) & Significance==1)\n",
    "#head(data_50_sig)\n",
    "nrow(data_50_sig)\n",
    "\n",
    "\n"
   ]
  },
  {
   "cell_type": "code",
   "execution_count": 47,
   "metadata": {},
   "outputs": [
    {
     "data": {
      "text/html": [
       "<table>\n",
       "<thead><tr><th></th><th scope=col>Accuracy.50</th><th scope=col>PID</th><th scope=col>R3Precentral</th><th scope=col>R3Frontal_Mid</th><th scope=col>R3Frontal_Mid_Orb</th><th scope=col>R3Frontal_Inf_Orb</th><th scope=col>R3Frontal_Inf_Oper</th><th scope=col>R3Frontal_Inf_Tri</th><th scope=col>R3Supp_Motor_Area</th><th scope=col>R3Cingulum_Mid</th><th scope=col>R3Cingulum_Ant</th><th scope=col>R3Frontal_Sup</th><th scope=col>R3Frontal_Sup_Medial</th><th scope=col>R3Insula</th></tr></thead>\n",
       "<tbody>\n",
       "\t<tr><th scope=row>4</th><td>0.528</td><td>1    </td><td>0    </td><td>0    </td><td>0    </td><td>0    </td><td>0    </td><td>0    </td><td>0    </td><td>0    </td><td>0    </td><td>0    </td><td>0    </td><td>1    </td></tr>\n",
       "\t<tr><th scope=row>9</th><td>0.535</td><td>1    </td><td>0    </td><td>0    </td><td>0    </td><td>0    </td><td>0    </td><td>0    </td><td>0    </td><td>0    </td><td>0    </td><td>0    </td><td>0    </td><td>1    </td></tr>\n",
       "\t<tr><th scope=row>10</th><td>0.541</td><td>1    </td><td>0    </td><td>0    </td><td>0    </td><td>0    </td><td>0    </td><td>1    </td><td>0    </td><td>0    </td><td>0    </td><td>0    </td><td>0    </td><td>0    </td></tr>\n",
       "\t<tr><th scope=row>11</th><td>0.543</td><td>1    </td><td>0    </td><td>0    </td><td>0    </td><td>0    </td><td>0    </td><td>0    </td><td>0    </td><td>0    </td><td>0    </td><td>0    </td><td>0    </td><td>1    </td></tr>\n",
       "\t<tr><th scope=row>12</th><td>0.593</td><td>1    </td><td>0    </td><td>0    </td><td>0    </td><td>0    </td><td>0    </td><td>1    </td><td>0    </td><td>0    </td><td>0    </td><td>0    </td><td>0    </td><td>0    </td></tr>\n",
       "\t<tr><th scope=row>16</th><td>0.640</td><td>2    </td><td>1    </td><td>0    </td><td>0    </td><td>0    </td><td>0    </td><td>0    </td><td>0    </td><td>0    </td><td>0    </td><td>0    </td><td>0    </td><td>0    </td></tr>\n",
       "</tbody>\n",
       "</table>\n"
      ],
      "text/latex": [
       "\\begin{tabular}{r|llllllllllllll}\n",
       "  & Accuracy.50 & PID & R3Precentral & R3Frontal\\_Mid & R3Frontal\\_Mid\\_Orb & R3Frontal\\_Inf\\_Orb & R3Frontal\\_Inf\\_Oper & R3Frontal\\_Inf\\_Tri & R3Supp\\_Motor\\_Area & R3Cingulum\\_Mid & R3Cingulum\\_Ant & R3Frontal\\_Sup & R3Frontal\\_Sup\\_Medial & R3Insula\\\\\n",
       "\\hline\n",
       "\t4 & 0.528 & 1     & 0     & 0     & 0     & 0     & 0     & 0     & 0     & 0     & 0     & 0     & 0     & 1    \\\\\n",
       "\t9 & 0.535 & 1     & 0     & 0     & 0     & 0     & 0     & 0     & 0     & 0     & 0     & 0     & 0     & 1    \\\\\n",
       "\t10 & 0.541 & 1     & 0     & 0     & 0     & 0     & 0     & 1     & 0     & 0     & 0     & 0     & 0     & 0    \\\\\n",
       "\t11 & 0.543 & 1     & 0     & 0     & 0     & 0     & 0     & 0     & 0     & 0     & 0     & 0     & 0     & 1    \\\\\n",
       "\t12 & 0.593 & 1     & 0     & 0     & 0     & 0     & 0     & 1     & 0     & 0     & 0     & 0     & 0     & 0    \\\\\n",
       "\t16 & 0.640 & 2     & 1     & 0     & 0     & 0     & 0     & 0     & 0     & 0     & 0     & 0     & 0     & 0    \\\\\n",
       "\\end{tabular}\n"
      ],
      "text/markdown": [
       "\n",
       "| <!--/--> | Accuracy.50 | PID | R3Precentral | R3Frontal_Mid | R3Frontal_Mid_Orb | R3Frontal_Inf_Orb | R3Frontal_Inf_Oper | R3Frontal_Inf_Tri | R3Supp_Motor_Area | R3Cingulum_Mid | R3Cingulum_Ant | R3Frontal_Sup | R3Frontal_Sup_Medial | R3Insula | \n",
       "|---|---|---|---|---|---|\n",
       "| 4 | 0.528 | 1     | 0     | 0     | 0     | 0     | 0     | 0     | 0     | 0     | 0     | 0     | 0     | 1     | \n",
       "| 9 | 0.535 | 1     | 0     | 0     | 0     | 0     | 0     | 0     | 0     | 0     | 0     | 0     | 0     | 1     | \n",
       "| 10 | 0.541 | 1     | 0     | 0     | 0     | 0     | 0     | 1     | 0     | 0     | 0     | 0     | 0     | 0     | \n",
       "| 11 | 0.543 | 1     | 0     | 0     | 0     | 0     | 0     | 0     | 0     | 0     | 0     | 0     | 0     | 1     | \n",
       "| 12 | 0.593 | 1     | 0     | 0     | 0     | 0     | 0     | 1     | 0     | 0     | 0     | 0     | 0     | 0     | \n",
       "| 16 | 0.640 | 2     | 1     | 0     | 0     | 0     | 0     | 0     | 0     | 0     | 0     | 0     | 0     | 0     | \n",
       "\n",
       "\n"
      ],
      "text/plain": [
       "   Accuracy.50 PID R3Precentral R3Frontal_Mid R3Frontal_Mid_Orb\n",
       "4  0.528       1   0            0             0                \n",
       "9  0.535       1   0            0             0                \n",
       "10 0.541       1   0            0             0                \n",
       "11 0.543       1   0            0             0                \n",
       "12 0.593       1   0            0             0                \n",
       "16 0.640       2   1            0             0                \n",
       "   R3Frontal_Inf_Orb R3Frontal_Inf_Oper R3Frontal_Inf_Tri R3Supp_Motor_Area\n",
       "4  0                 0                  0                 0                \n",
       "9  0                 0                  0                 0                \n",
       "10 0                 0                  1                 0                \n",
       "11 0                 0                  0                 0                \n",
       "12 0                 0                  1                 0                \n",
       "16 0                 0                  0                 0                \n",
       "   R3Cingulum_Mid R3Cingulum_Ant R3Frontal_Sup R3Frontal_Sup_Medial R3Insula\n",
       "4  0              0              0             0                    1       \n",
       "9  0              0              0             0                    1       \n",
       "10 0              0              0             0                    0       \n",
       "11 0              0              0             0                    1       \n",
       "12 0              0              0             0                    0       \n",
       "16 0              0              0             0                    0       "
      ]
     },
     "metadata": {},
     "output_type": "display_data"
    },
    {
     "data": {
      "text/html": [
       "512"
      ],
      "text/latex": [
       "512"
      ],
      "text/markdown": [
       "512"
      ],
      "text/plain": [
       "[1] 512"
      ]
     },
     "metadata": {},
     "output_type": "display_data"
    }
   ],
   "source": [
    "d<-data_50_sig[c('Accuracy.50','PID',R3names)]\n",
    "head(d)\n",
    "nrow(d)"
   ]
  },
  {
   "cell_type": "markdown",
   "metadata": {},
   "source": [
    "# Mixed Effects "
   ]
  },
  {
   "cell_type": "code",
   "execution_count": 48,
   "metadata": {},
   "outputs": [
    {
     "data": {
      "text/html": [
       "'R3Precentral+R3Frontal_Mid+R3Frontal_Mid_Orb+R3Frontal_Inf_Orb+R3Frontal_Inf_Oper+R3Frontal_Inf_Tri+R3Supp_Motor_Area+R3Cingulum_Mid+R3Cingulum_Ant+R3Frontal_Sup+R3Frontal_Sup_Medial+R3Insula'"
      ],
      "text/latex": [
       "'R3Precentral+R3Frontal\\_Mid+R3Frontal\\_Mid\\_Orb+R3Frontal\\_Inf\\_Orb+R3Frontal\\_Inf\\_Oper+R3Frontal\\_Inf\\_Tri+R3Supp\\_Motor\\_Area+R3Cingulum\\_Mid+R3Cingulum\\_Ant+R3Frontal\\_Sup+R3Frontal\\_Sup\\_Medial+R3Insula'"
      ],
      "text/markdown": [
       "'R3Precentral+R3Frontal_Mid+R3Frontal_Mid_Orb+R3Frontal_Inf_Orb+R3Frontal_Inf_Oper+R3Frontal_Inf_Tri+R3Supp_Motor_Area+R3Cingulum_Mid+R3Cingulum_Ant+R3Frontal_Sup+R3Frontal_Sup_Medial+R3Insula'"
      ],
      "text/plain": [
       "[1] \"R3Precentral+R3Frontal_Mid+R3Frontal_Mid_Orb+R3Frontal_Inf_Orb+R3Frontal_Inf_Oper+R3Frontal_Inf_Tri+R3Supp_Motor_Area+R3Cingulum_Mid+R3Cingulum_Ant+R3Frontal_Sup+R3Frontal_Sup_Medial+R3Insula\""
      ]
     },
     "metadata": {},
     "output_type": "display_data"
    }
   ],
   "source": [
    "R1names_string<-c()\n",
    "for (R in R3names){\n",
    "    R1names_string<-paste(R1names_string,R,sep='+')\n",
    "    \n",
    "}\n",
    "R1names_string<-substring(R1names_string, 2)\n",
    "R1names_string"
   ]
  },
  {
   "cell_type": "code",
   "execution_count": 49,
   "metadata": {},
   "outputs": [
    {
     "data": {
      "text/plain": [
       "Linear mixed-effects model fit by REML\n",
       " Data: d \n",
       "        AIC       BIC   logLik\n",
       "  -1320.823 -1261.818 674.4114\n",
       "\n",
       "Random effects:\n",
       " Formula: ~1 | PID\n",
       "        (Intercept)   Residual\n",
       "StdDev:   0.0652236 0.05174028\n",
       "\n",
       "Fixed effects: as.formula(paste(\"Accuracy.50_wo_gmean~-1+\", R1names_string,      sep = \"\")) \n",
       "                            Value   Std.Error  DF    t-value p-value\n",
       "R3Precentral          0.008969800 0.008373269 426  1.0712423  0.2847\n",
       "R3Frontal_Mid        -0.018071556 0.007595325 426 -2.3793000  0.0178\n",
       "R3Frontal_Mid_Orb    -0.026304279 0.013114997 426 -2.0056642  0.0455\n",
       "R3Frontal_Inf_Orb     0.007207193 0.012921403 426  0.5577718  0.5773\n",
       "R3Frontal_Inf_Oper   -0.011792987 0.011959218 426 -0.9861002  0.3246\n",
       "R3Frontal_Inf_Tri    -0.004023176 0.010246785 426 -0.3926281  0.6948\n",
       "R3Supp_Motor_Area     0.011930891 0.010173731 426  1.1727154  0.2416\n",
       "R3Cingulum_Mid        0.001961158 0.015612840 426  0.1256119  0.9001\n",
       "R3Cingulum_Ant        0.013319866 0.012716928 426  1.0474123  0.2955\n",
       "R3Frontal_Sup         0.004421472 0.010155410 426  0.4353809  0.6635\n",
       "R3Frontal_Sup_Medial -0.007857163 0.010042679 426 -0.7823773  0.4344\n",
       "R3Insula             -0.024836509 0.017712167 426 -1.4022287  0.1616\n",
       " Correlation: \n",
       "                     R3Prcn R3Fr_M R3F_M_ R3Frntl_Inf_Or R3Frntl_Inf_Op R3F_I_T\n",
       "R3Frontal_Mid         0.377                                                    \n",
       "R3Frontal_Mid_Orb     0.150  0.133                                             \n",
       "R3Frontal_Inf_Orb     0.092  0.112 -0.190                                      \n",
       "R3Frontal_Inf_Oper    0.136  0.129  0.121 -0.183                               \n",
       "R3Frontal_Inf_Tri     0.143  0.098  0.130 -0.090         -0.274                \n",
       "R3Supp_Motor_Area     0.457  0.223  0.118  0.073          0.104          0.037 \n",
       "R3Cingulum_Mid        0.240  0.187  0.084  0.026          0.068          0.053 \n",
       "R3Cingulum_Ant        0.102  0.173 -0.065  0.100          0.031          0.071 \n",
       "R3Frontal_Sup         0.237  0.090  0.038  0.102          0.106          0.059 \n",
       "R3Frontal_Sup_Medial  0.104  0.072  0.179  0.015          0.028          0.208 \n",
       "R3Insula              0.113  0.121  0.123  0.063         -0.026          0.251 \n",
       "                     R3S_M_ R3Cn_M R3Cn_A R3Fr_S R3F_S_\n",
       "R3Frontal_Mid                                          \n",
       "R3Frontal_Mid_Orb                                      \n",
       "R3Frontal_Inf_Orb                                      \n",
       "R3Frontal_Inf_Oper                                     \n",
       "R3Frontal_Inf_Tri                                      \n",
       "R3Supp_Motor_Area                                      \n",
       "R3Cingulum_Mid        0.169                            \n",
       "R3Cingulum_Ant        0.037 -0.165                     \n",
       "R3Frontal_Sup         0.085  0.137  0.073              \n",
       "R3Frontal_Sup_Medial  0.012  0.053  0.042 -0.136       \n",
       "R3Insula              0.063  0.050  0.077  0.075  0.199\n",
       "\n",
       "Standardized Within-Group Residuals:\n",
       "       Min         Q1        Med         Q3        Max \n",
       "-2.4999503 -0.5014436 -0.1136329  0.3079976  4.7083814 \n",
       "\n",
       "Number of Observations: 512\n",
       "Number of Groups: 75 "
      ]
     },
     "metadata": {},
     "output_type": "display_data"
    }
   ],
   "source": [
    "d<-data_50_sig[c('Accuracy.50','PID',R3names)]\n",
    "gmean<-mean(d$Accuracy.50)\n",
    "d$Accuracy.50_wo_gmean<-d$Accuracy.50-gmean\n",
    "region_model<-lme(as.formula(paste('Accuracy.50_wo_gmean~-1+',R1names_string,sep='')),random=~1|PID,data=d,method='REML')\n",
    "summary(region_model)"
   ]
  },
  {
   "cell_type": "code",
   "execution_count": 50,
   "metadata": {
    "collapsed": true
   },
   "outputs": [],
   "source": [
    "# d<-data_50_sig[c('Accuracy.50','PID',R3names)]\n",
    "# gmean<-mean(d$Accuracy.50)\n",
    "# d$Accuracy.50_wo_gmean<-d$Accuracy.50-gmean\n",
    "# region_model<-lme(as.formula(paste('Accuracy.50_wo_gmean~-1+',R1names_string,sep='')),random=~1|PID,data=d,method='ML')\n",
    "# summary(region_model)"
   ]
  },
  {
   "cell_type": "code",
   "execution_count": 51,
   "metadata": {},
   "outputs": [
    {
     "data": {
      "text/plain": [
       "Linear mixed-effects model fit by REML\n",
       " Data: d \n",
       "        AIC       BIC   logLik\n",
       "  -1320.823 -1261.818 674.4114\n",
       "\n",
       "Random effects:\n",
       " Formula: ~1 | PID\n",
       "        (Intercept)   Residual\n",
       "StdDev:   0.0652236 0.05174028\n",
       "\n",
       "Fixed effects: as.formula(paste(\"Accuracy.50_wo_gmean~-1+\", R1names_string,      sep = \"\")) \n",
       "                            Value   Std.Error  DF    t-value p-value\n",
       "R3Precentral          0.008969800 0.008373269 426  1.0712423  0.2847\n",
       "R3Frontal_Mid        -0.018071556 0.007595325 426 -2.3793000  0.0178\n",
       "R3Frontal_Mid_Orb    -0.026304279 0.013114997 426 -2.0056642  0.0455\n",
       "R3Frontal_Inf_Orb     0.007207193 0.012921403 426  0.5577718  0.5773\n",
       "R3Frontal_Inf_Oper   -0.011792987 0.011959218 426 -0.9861002  0.3246\n",
       "R3Frontal_Inf_Tri    -0.004023176 0.010246785 426 -0.3926281  0.6948\n",
       "R3Supp_Motor_Area     0.011930891 0.010173731 426  1.1727154  0.2416\n",
       "R3Cingulum_Mid        0.001961158 0.015612840 426  0.1256119  0.9001\n",
       "R3Cingulum_Ant        0.013319866 0.012716928 426  1.0474123  0.2955\n",
       "R3Frontal_Sup         0.004421472 0.010155410 426  0.4353809  0.6635\n",
       "R3Frontal_Sup_Medial -0.007857163 0.010042679 426 -0.7823773  0.4344\n",
       "R3Insula             -0.024836509 0.017712167 426 -1.4022287  0.1616\n",
       " Correlation: \n",
       "                     R3Prcn R3Fr_M R3F_M_ R3Frntl_Inf_Or R3Frntl_Inf_Op R3F_I_T\n",
       "R3Frontal_Mid         0.377                                                    \n",
       "R3Frontal_Mid_Orb     0.150  0.133                                             \n",
       "R3Frontal_Inf_Orb     0.092  0.112 -0.190                                      \n",
       "R3Frontal_Inf_Oper    0.136  0.129  0.121 -0.183                               \n",
       "R3Frontal_Inf_Tri     0.143  0.098  0.130 -0.090         -0.274                \n",
       "R3Supp_Motor_Area     0.457  0.223  0.118  0.073          0.104          0.037 \n",
       "R3Cingulum_Mid        0.240  0.187  0.084  0.026          0.068          0.053 \n",
       "R3Cingulum_Ant        0.102  0.173 -0.065  0.100          0.031          0.071 \n",
       "R3Frontal_Sup         0.237  0.090  0.038  0.102          0.106          0.059 \n",
       "R3Frontal_Sup_Medial  0.104  0.072  0.179  0.015          0.028          0.208 \n",
       "R3Insula              0.113  0.121  0.123  0.063         -0.026          0.251 \n",
       "                     R3S_M_ R3Cn_M R3Cn_A R3Fr_S R3F_S_\n",
       "R3Frontal_Mid                                          \n",
       "R3Frontal_Mid_Orb                                      \n",
       "R3Frontal_Inf_Orb                                      \n",
       "R3Frontal_Inf_Oper                                     \n",
       "R3Frontal_Inf_Tri                                      \n",
       "R3Supp_Motor_Area                                      \n",
       "R3Cingulum_Mid        0.169                            \n",
       "R3Cingulum_Ant        0.037 -0.165                     \n",
       "R3Frontal_Sup         0.085  0.137  0.073              \n",
       "R3Frontal_Sup_Medial  0.012  0.053  0.042 -0.136       \n",
       "R3Insula              0.063  0.050  0.077  0.075  0.199\n",
       "\n",
       "Standardized Within-Group Residuals:\n",
       "       Min         Q1        Med         Q3        Max \n",
       "-2.4999503 -0.5014436 -0.1136329  0.3079976  4.7083814 \n",
       "\n",
       "Number of Observations: 512\n",
       "Number of Groups: 75 "
      ]
     },
     "metadata": {},
     "output_type": "display_data"
    }
   ],
   "source": [
    "summary(region_model)"
   ]
  },
  {
   "cell_type": "code",
   "execution_count": 52,
   "metadata": {
    "collapsed": true
   },
   "outputs": [],
   "source": [
    "#region_model$fixDF\n"
   ]
  },
  {
   "cell_type": "code",
   "execution_count": 53,
   "metadata": {},
   "outputs": [
    {
     "data": {
      "text/html": [
       "<ol class=list-inline>\n",
       "\t<li>'Precentral'</li>\n",
       "\t<li>'Frontal_Mid'</li>\n",
       "\t<li>'Frontal_Mid_Orb'</li>\n",
       "\t<li>'Frontal_Inf_Orb'</li>\n",
       "\t<li>'Frontal_Inf_Oper'</li>\n",
       "\t<li>'Frontal_Inf_Tri'</li>\n",
       "\t<li>'Supp_Motor_Area'</li>\n",
       "\t<li>'Cingulum_Mid'</li>\n",
       "\t<li>'Cingulum_Ant'</li>\n",
       "\t<li>'Frontal_Sup'</li>\n",
       "\t<li>'Frontal_Sup_Medial'</li>\n",
       "\t<li>'Insula'</li>\n",
       "</ol>\n"
      ],
      "text/latex": [
       "\\begin{enumerate*}\n",
       "\\item 'Precentral'\n",
       "\\item 'Frontal\\_Mid'\n",
       "\\item 'Frontal\\_Mid\\_Orb'\n",
       "\\item 'Frontal\\_Inf\\_Orb'\n",
       "\\item 'Frontal\\_Inf\\_Oper'\n",
       "\\item 'Frontal\\_Inf\\_Tri'\n",
       "\\item 'Supp\\_Motor\\_Area'\n",
       "\\item 'Cingulum\\_Mid'\n",
       "\\item 'Cingulum\\_Ant'\n",
       "\\item 'Frontal\\_Sup'\n",
       "\\item 'Frontal\\_Sup\\_Medial'\n",
       "\\item 'Insula'\n",
       "\\end{enumerate*}\n"
      ],
      "text/markdown": [
       "1. 'Precentral'\n",
       "2. 'Frontal_Mid'\n",
       "3. 'Frontal_Mid_Orb'\n",
       "4. 'Frontal_Inf_Orb'\n",
       "5. 'Frontal_Inf_Oper'\n",
       "6. 'Frontal_Inf_Tri'\n",
       "7. 'Supp_Motor_Area'\n",
       "8. 'Cingulum_Mid'\n",
       "9. 'Cingulum_Ant'\n",
       "10. 'Frontal_Sup'\n",
       "11. 'Frontal_Sup_Medial'\n",
       "12. 'Insula'\n",
       "\n",
       "\n"
      ],
      "text/plain": [
       " [1] \"Precentral\"         \"Frontal_Mid\"        \"Frontal_Mid_Orb\"   \n",
       " [4] \"Frontal_Inf_Orb\"    \"Frontal_Inf_Oper\"   \"Frontal_Inf_Tri\"   \n",
       " [7] \"Supp_Motor_Area\"    \"Cingulum_Mid\"       \"Cingulum_Ant\"      \n",
       "[10] \"Frontal_Sup\"        \"Frontal_Sup_Medial\" \"Insula\"            "
      ]
     },
     "metadata": {},
     "output_type": "display_data"
    }
   ],
   "source": [
    "R3namesnew<-c()\n",
    "for (R in R3names){\n",
    "    R3namesnew<-c(R3namesnew,gsub(\"R3\", \"\",R))\n",
    "    \n",
    "}\n",
    "R3namesnew"
   ]
  },
  {
   "cell_type": "code",
   "execution_count": 54,
   "metadata": {
    "collapsed": true
   },
   "outputs": [],
   "source": [
    "# get data for plot \n",
    "fits<-c()\n",
    "se<-c()\n",
    "i=1\n",
    "for (name in R3names){\n",
    "    ef<-effect(name,region_model)\n",
    "    fits[i]<-tail(ef$fit, n=1)\n",
    "    se[i]<-tail(ef$se, n=1)\n",
    "    i=i+1 \n",
    "}\n",
    "dd = data.table(name=R3namesnew,se=se,Accuracy=fits)\n",
    "\n"
   ]
  },
  {
   "cell_type": "code",
   "execution_count": 55,
   "metadata": {
    "collapsed": true
   },
   "outputs": [],
   "source": [
    "#dd$Accuracy_Gmean=dd$Accuracy+gmean"
   ]
  },
  {
   "cell_type": "code",
   "execution_count": 56,
   "metadata": {},
   "outputs": [
    {
     "data": {
      "text/html": [
       "<table>\n",
       "<thead><tr><th scope=col>name</th><th scope=col>se</th><th scope=col>Accuracy</th></tr></thead>\n",
       "<tbody>\n",
       "\t<tr><td>Precentral        </td><td>0.01132234        </td><td> 0.002590143      </td></tr>\n",
       "\t<tr><td>Frontal_Mid       </td><td>0.01053940        </td><td>-0.017885388      </td></tr>\n",
       "\t<tr><td>Frontal_Mid_Orb   </td><td>0.01537222        </td><td>-0.029104540      </td></tr>\n",
       "\t<tr><td>Frontal_Inf_Orb   </td><td>0.01435865        </td><td> 0.002756554      </td></tr>\n",
       "\t<tr><td>Frontal_Inf_Oper  </td><td>0.01356611        </td><td>-0.014587778      </td></tr>\n",
       "\t<tr><td>Frontal_Inf_Tri   </td><td>0.01225072        </td><td>-0.007573497      </td></tr>\n",
       "\t<tr><td>Supp_Motor_Area   </td><td>0.01312608        </td><td> 0.006704418      </td></tr>\n",
       "\t<tr><td>Cingulum_Mid      </td><td>0.01787844        </td><td>-0.002184777      </td></tr>\n",
       "\t<tr><td>Cingulum_Ant      </td><td>0.01467010        </td><td> 0.008558817      </td></tr>\n",
       "\t<tr><td>Frontal_Sup       </td><td>0.01242779        </td><td>-0.000155412      </td></tr>\n",
       "\t<tr><td>Frontal_Sup_Medial</td><td>0.01212614        </td><td>-0.010882937      </td></tr>\n",
       "\t<tr><td>Insula            </td><td>0.01987395        </td><td>-0.028242035      </td></tr>\n",
       "</tbody>\n",
       "</table>\n"
      ],
      "text/latex": [
       "\\begin{tabular}{r|lll}\n",
       " name & se & Accuracy\\\\\n",
       "\\hline\n",
       "\t Precentral         & 0.01132234         &  0.002590143      \\\\\n",
       "\t Frontal\\_Mid        & 0.01053940           & -0.017885388        \\\\\n",
       "\t Frontal\\_Mid\\_Orb    & 0.01537222             & -0.029104540          \\\\\n",
       "\t Frontal\\_Inf\\_Orb    & 0.01435865             &  0.002756554          \\\\\n",
       "\t Frontal\\_Inf\\_Oper   & 0.01356611             & -0.014587778          \\\\\n",
       "\t Frontal\\_Inf\\_Tri    & 0.01225072             & -0.007573497          \\\\\n",
       "\t Supp\\_Motor\\_Area    & 0.01312608             &  0.006704418          \\\\\n",
       "\t Cingulum\\_Mid       & 0.01787844           & -0.002184777        \\\\\n",
       "\t Cingulum\\_Ant       & 0.01467010           &  0.008558817        \\\\\n",
       "\t Frontal\\_Sup        & 0.01242779           & -0.000155412        \\\\\n",
       "\t Frontal\\_Sup\\_Medial & 0.01212614             & -0.010882937          \\\\\n",
       "\t Insula             & 0.01987395         & -0.028242035      \\\\\n",
       "\\end{tabular}\n"
      ],
      "text/markdown": [
       "\n",
       "name | se | Accuracy | \n",
       "|---|---|---|---|---|---|---|---|---|---|---|---|\n",
       "| Precentral         | 0.01132234         |  0.002590143       | \n",
       "| Frontal_Mid        | 0.01053940         | -0.017885388       | \n",
       "| Frontal_Mid_Orb    | 0.01537222         | -0.029104540       | \n",
       "| Frontal_Inf_Orb    | 0.01435865         |  0.002756554       | \n",
       "| Frontal_Inf_Oper   | 0.01356611         | -0.014587778       | \n",
       "| Frontal_Inf_Tri    | 0.01225072         | -0.007573497       | \n",
       "| Supp_Motor_Area    | 0.01312608         |  0.006704418       | \n",
       "| Cingulum_Mid       | 0.01787844         | -0.002184777       | \n",
       "| Cingulum_Ant       | 0.01467010         |  0.008558817       | \n",
       "| Frontal_Sup        | 0.01242779         | -0.000155412       | \n",
       "| Frontal_Sup_Medial | 0.01212614         | -0.010882937       | \n",
       "| Insula             | 0.01987395         | -0.028242035       | \n",
       "\n",
       "\n"
      ],
      "text/plain": [
       "   name               se         Accuracy    \n",
       "1  Precentral         0.01132234  0.002590143\n",
       "2  Frontal_Mid        0.01053940 -0.017885388\n",
       "3  Frontal_Mid_Orb    0.01537222 -0.029104540\n",
       "4  Frontal_Inf_Orb    0.01435865  0.002756554\n",
       "5  Frontal_Inf_Oper   0.01356611 -0.014587778\n",
       "6  Frontal_Inf_Tri    0.01225072 -0.007573497\n",
       "7  Supp_Motor_Area    0.01312608  0.006704418\n",
       "8  Cingulum_Mid       0.01787844 -0.002184777\n",
       "9  Cingulum_Ant       0.01467010  0.008558817\n",
       "10 Frontal_Sup        0.01242779 -0.000155412\n",
       "11 Frontal_Sup_Medial 0.01212614 -0.010882937\n",
       "12 Insula             0.01987395 -0.028242035"
      ]
     },
     "metadata": {},
     "output_type": "display_data"
    }
   ],
   "source": [
    "dd"
   ]
  },
  {
   "cell_type": "code",
   "execution_count": 57,
   "metadata": {},
   "outputs": [
    {
     "data": {
      "text/html": [
       "0.6100623046875"
      ],
      "text/latex": [
       "0.6100623046875"
      ],
      "text/markdown": [
       "0.6100623046875"
      ],
      "text/plain": [
       "[1] 0.6100623"
      ]
     },
     "metadata": {},
     "output_type": "display_data"
    }
   ],
   "source": [
    "gmean"
   ]
  },
  {
   "cell_type": "code",
   "execution_count": 58,
   "metadata": {},
   "outputs": [
    {
     "data": {
      "text/html": [
       "<table>\n",
       "<thead><tr><th scope=col>name</th><th scope=col>se</th><th scope=col>Accuracy</th><th scope=col>Accuracy_gmean</th></tr></thead>\n",
       "<tbody>\n",
       "\t<tr><td>Precentral        </td><td>0.01132234        </td><td> 0.002590143      </td><td>0.6126524         </td></tr>\n",
       "\t<tr><td>Frontal_Mid       </td><td>0.01053940        </td><td>-0.017885388      </td><td>0.5921769         </td></tr>\n",
       "\t<tr><td>Frontal_Mid_Orb   </td><td>0.01537222        </td><td>-0.029104540      </td><td>0.5809578         </td></tr>\n",
       "\t<tr><td>Frontal_Inf_Orb   </td><td>0.01435865        </td><td> 0.002756554      </td><td>0.6128189         </td></tr>\n",
       "\t<tr><td>Frontal_Inf_Oper  </td><td>0.01356611        </td><td>-0.014587778      </td><td>0.5954745         </td></tr>\n",
       "\t<tr><td>Frontal_Inf_Tri   </td><td>0.01225072        </td><td>-0.007573497      </td><td>0.6024888         </td></tr>\n",
       "\t<tr><td>Supp_Motor_Area   </td><td>0.01312608        </td><td> 0.006704418      </td><td>0.6167667         </td></tr>\n",
       "\t<tr><td>Cingulum_Mid      </td><td>0.01787844        </td><td>-0.002184777      </td><td>0.6078775         </td></tr>\n",
       "\t<tr><td>Cingulum_Ant      </td><td>0.01467010        </td><td> 0.008558817      </td><td>0.6186211         </td></tr>\n",
       "\t<tr><td>Frontal_Sup       </td><td>0.01242779        </td><td>-0.000155412      </td><td>0.6099069         </td></tr>\n",
       "\t<tr><td>Frontal_Sup_Medial</td><td>0.01212614        </td><td>-0.010882937      </td><td>0.5991794         </td></tr>\n",
       "\t<tr><td>Insula            </td><td>0.01987395        </td><td>-0.028242035      </td><td>0.5818203         </td></tr>\n",
       "</tbody>\n",
       "</table>\n"
      ],
      "text/latex": [
       "\\begin{tabular}{r|llll}\n",
       " name & se & Accuracy & Accuracy\\_gmean\\\\\n",
       "\\hline\n",
       "\t Precentral         & 0.01132234         &  0.002590143       & 0.6126524         \\\\\n",
       "\t Frontal\\_Mid        & 0.01053940           & -0.017885388         & 0.5921769           \\\\\n",
       "\t Frontal\\_Mid\\_Orb    & 0.01537222             & -0.029104540           & 0.5809578             \\\\\n",
       "\t Frontal\\_Inf\\_Orb    & 0.01435865             &  0.002756554           & 0.6128189             \\\\\n",
       "\t Frontal\\_Inf\\_Oper   & 0.01356611             & -0.014587778           & 0.5954745             \\\\\n",
       "\t Frontal\\_Inf\\_Tri    & 0.01225072             & -0.007573497           & 0.6024888             \\\\\n",
       "\t Supp\\_Motor\\_Area    & 0.01312608             &  0.006704418           & 0.6167667             \\\\\n",
       "\t Cingulum\\_Mid       & 0.01787844           & -0.002184777         & 0.6078775           \\\\\n",
       "\t Cingulum\\_Ant       & 0.01467010           &  0.008558817         & 0.6186211           \\\\\n",
       "\t Frontal\\_Sup        & 0.01242779           & -0.000155412         & 0.6099069           \\\\\n",
       "\t Frontal\\_Sup\\_Medial & 0.01212614             & -0.010882937           & 0.5991794             \\\\\n",
       "\t Insula             & 0.01987395         & -0.028242035       & 0.5818203         \\\\\n",
       "\\end{tabular}\n"
      ],
      "text/markdown": [
       "\n",
       "name | se | Accuracy | Accuracy_gmean | \n",
       "|---|---|---|---|---|---|---|---|---|---|---|---|\n",
       "| Precentral         | 0.01132234         |  0.002590143       | 0.6126524          | \n",
       "| Frontal_Mid        | 0.01053940         | -0.017885388       | 0.5921769          | \n",
       "| Frontal_Mid_Orb    | 0.01537222         | -0.029104540       | 0.5809578          | \n",
       "| Frontal_Inf_Orb    | 0.01435865         |  0.002756554       | 0.6128189          | \n",
       "| Frontal_Inf_Oper   | 0.01356611         | -0.014587778       | 0.5954745          | \n",
       "| Frontal_Inf_Tri    | 0.01225072         | -0.007573497       | 0.6024888          | \n",
       "| Supp_Motor_Area    | 0.01312608         |  0.006704418       | 0.6167667          | \n",
       "| Cingulum_Mid       | 0.01787844         | -0.002184777       | 0.6078775          | \n",
       "| Cingulum_Ant       | 0.01467010         |  0.008558817       | 0.6186211          | \n",
       "| Frontal_Sup        | 0.01242779         | -0.000155412       | 0.6099069          | \n",
       "| Frontal_Sup_Medial | 0.01212614         | -0.010882937       | 0.5991794          | \n",
       "| Insula             | 0.01987395         | -0.028242035       | 0.5818203          | \n",
       "\n",
       "\n"
      ],
      "text/plain": [
       "   name               se         Accuracy     Accuracy_gmean\n",
       "1  Precentral         0.01132234  0.002590143 0.6126524     \n",
       "2  Frontal_Mid        0.01053940 -0.017885388 0.5921769     \n",
       "3  Frontal_Mid_Orb    0.01537222 -0.029104540 0.5809578     \n",
       "4  Frontal_Inf_Orb    0.01435865  0.002756554 0.6128189     \n",
       "5  Frontal_Inf_Oper   0.01356611 -0.014587778 0.5954745     \n",
       "6  Frontal_Inf_Tri    0.01225072 -0.007573497 0.6024888     \n",
       "7  Supp_Motor_Area    0.01312608  0.006704418 0.6167667     \n",
       "8  Cingulum_Mid       0.01787844 -0.002184777 0.6078775     \n",
       "9  Cingulum_Ant       0.01467010  0.008558817 0.6186211     \n",
       "10 Frontal_Sup        0.01242779 -0.000155412 0.6099069     \n",
       "11 Frontal_Sup_Medial 0.01212614 -0.010882937 0.5991794     \n",
       "12 Insula             0.01987395 -0.028242035 0.5818203     "
      ]
     },
     "metadata": {},
     "output_type": "display_data"
    }
   ],
   "source": [
    "dd$Accuracy_gmean = dd$Accuracy+gmean\n",
    "dd"
   ]
  },
  {
   "cell_type": "code",
   "execution_count": 69,
   "metadata": {},
   "outputs": [
    {
     "data": {},
     "metadata": {},
     "output_type": "display_data"
    },
    {
     "data": {
      "text/html": [
       "<strong>pdf:</strong> 2"
      ],
      "text/latex": [
       "\\textbf{pdf:} 2"
      ],
      "text/markdown": [
       "**pdf:** 2"
      ],
      "text/plain": [
       "pdf \n",
       "  2 "
      ]
     },
     "metadata": {},
     "output_type": "display_data"
    },
    {
     "data": {},
     "metadata": {},
     "output_type": "display_data"
    },
    {
     "data": {
      "image/png": "[encoded data removed]"
     },
     "metadata": {},
     "output_type": "display_data"
    }
   ],
   "source": [
    "\n",
    "\n",
    "p<-ggplot(aes(y = Accuracy, x = name,ymax = Accuracy + se, ymin=Accuracy - se), \n",
    "          data = dd) +\n",
    "geom_point(size=1)+geom_errorbar(width=0.15)\n",
    "\n",
    "mainlinewidth=.5\n",
    "textsize = 8\n",
    "labelsize = 8\n",
    "\n",
    "p<-p+geom_hline(yintercept=0,linetype='dotted')\n",
    "p<-p+theme(axis.line.x = element_line(color=\"black\", size = mainlinewidth),\n",
    "        axis.line.y = element_line(color=\"black\", size = mainlinewidth))\n",
    "\n",
    "p<-p+xlab('Region')\n",
    "p<-p+ylab('Decoding Accuracy \\n (difference from grand mean)')\n",
    "p<-p+theme(panel.background=element_blank())\n",
    "p<-p+theme(axis.text.y = element_text(family=\"Helvetica\",size=textsize,colour='black'))\n",
    "p<-p+theme(axis.text.x = element_text(family=\"Helvetica\",angle = 90, vjust=0.5,\n",
    "                                      hjust = 1,size=textsize,colour='black'))\n",
    "p<-p+theme(plot.title = element_text(family=\"Helvetica\",size=labelsize,colour='black'))\n",
    "p<-p+theme(axis.title.x = element_text(family=\"Helvetica\",size=labelsize,,colour='black'))\n",
    "p<-p+theme(axis.title.y = element_text(family=\"Helvetica\",size=labelsize,hjust=.8,colour='black'))\n",
    "\n",
    "rlabels = c('Anterior cingulate gyrus','Midcingulate area',\n",
    "            'Inferior frontal gyrus\\npars opercularis',\n",
    "           'Inferior frontal gyrus\\npars orbitalis',\n",
    "            \"Inferior frontal gyrus\\npars triangularis\",\n",
    "           'Middle frontal gyrus',\n",
    "            'Superior & middle frontal gyrus\\norbital part',\n",
    "           'Superior frontal gyrus',\n",
    "            'Medial frontal gyrus',\n",
    "            'Insula',\n",
    "            'Precentral gyrus',\n",
    "           'Supplementary motor cortex')\n",
    "p<-p+scale_x_discrete(labels=rlabels)\n",
    "\n",
    "p<-p+theme(axis.ticks.x=element_blank(),axis.ticks.y=element_blank())\n",
    "\n",
    "# setEPS()\n",
    "# postscript('../Figures/Supp_accuracy_by_region_medium_mixed_effects_v8b.eps',width=6,height=4)\n",
    "# p\n",
    "# dev.off()\n",
    "\n",
    "\n",
    "# png('../Figures/Supp_accuracy_by_region_medium_mixed_effects_v8b.png',width=6,height=4,\n",
    "#      units=\"in\",res=400)\n",
    "# p\n",
    "# dev.off()\n",
    "\n",
    "tiff(filename = \"../Figures_JOCN_Final/Figure6.tiff\",\n",
    "     width=6.8,height=3.5, units = \"in\", res=1000,\n",
    "     compression = 'none')\n",
    "p\n",
    "dev.off()\n",
    "\n",
    "options(repr.plot.width=6.8, repr.plot.height=3.5)\n",
    "p"
   ]
  },
  {
   "cell_type": "code",
   "execution_count": 21,
   "metadata": {},
   "outputs": [
    {
     "data": {
      "text/html": [
       "<table>\n",
       "<thead><tr><th></th><th scope=col>call</th><th scope=col>Model</th><th scope=col>df</th><th scope=col>AIC</th><th scope=col>BIC</th><th scope=col>logLik</th><th scope=col>Test</th><th scope=col>L.Ratio</th><th scope=col>p-value</th></tr></thead>\n",
       "<tbody>\n",
       "\t<tr><th scope=row>region_model_ml</th><td>lme.formula(fixed = as.formula(paste(\"Accuracy.50_wo_gmean~-1+\",     R1names_string, sep = \"\")), data = d, random = ~1 | PID,     method = \"ML\")</td><td>1                                                                                                                                               </td><td>14                                                                                                                                              </td><td>-1407.535                                                                                                                                       </td><td>-1348.199                                                                                                                                       </td><td>717.7676                                                                                                                                        </td><td>                                                                                                                                                </td><td>      NA                                                                                                                                        </td><td>        NA                                                                                                                                      </td></tr>\n",
       "\t<tr><th scope=row>region_model_baseline</th><td>lme.formula(fixed = Accuracy.50_wo_gmean ~ 1, data = d, random = ~1 |     PID, method = \"ML\")                                                   </td><td>2                                                                                                                                               </td><td> 3                                                                                                                                              </td><td>-1411.941                                                                                                                                       </td><td>-1399.226                                                                                                                                       </td><td>708.9704                                                                                                                                        </td><td>1 vs 2                                                                                                                                          </td><td>17.59439                                                                                                                                        </td><td>0.09148201                                                                                                                                      </td></tr>\n",
       "</tbody>\n",
       "</table>\n"
      ],
      "text/latex": [
       "\\begin{tabular}{r|lllllllll}\n",
       "  & call & Model & df & AIC & BIC & logLik & Test & L.Ratio & p-value\\\\\n",
       "\\hline\n",
       "\tregion\\_model\\_ml & lme.formula(fixed = as.formula(paste(\"Accuracy.50\\_wo\\_gmean\\textasciitilde{}-1+\",     R1names\\_string, sep = \"\")), data = d, random = \\textasciitilde{}1 \\textbar{} PID,     method = \"ML\") & 1                                                                                                                                                                                                  & 14                                                                                                                                                                                                 & -1407.535                                                                                                                                                                                          & -1348.199                                                                                                                                                                                          & 717.7676                                                                                                                                                                                           &                                                                                                                                                                                                    &       NA                                                                                                                                                                                           &         NA                                                                                                                                                                                        \\\\\n",
       "\tregion\\_model\\_baseline & lme.formula(fixed = Accuracy.50\\_wo\\_gmean \\textasciitilde{} 1, data = d, random = \\textasciitilde{}1 \\textbar{}     PID, method = \"ML\")                                                    & 2                                                                                                                                                                                                &  3                                                                                                                                                                                               & -1411.941                                                                                                                                                                                        & -1399.226                                                                                                                                                                                        & 708.9704                                                                                                                                                                                         & 1 vs 2                                                                                                                                                                                           & 17.59439                                                                                                                                                                                         & 0.09148201                                                                                                                                                                                      \\\\\n",
       "\\end{tabular}\n"
      ],
      "text/markdown": [
       "\n",
       "| <!--/--> | call | Model | df | AIC | BIC | logLik | Test | L.Ratio | p-value | \n",
       "|---|---|\n",
       "| region_model_ml | lme.formula(fixed = as.formula(paste(\"Accuracy.50_wo_gmean~-1+\",     R1names_string, sep = \"\")), data = d, random = ~1 | PID,     method = \"ML\") | 1                                                                                                                                                | 14                                                                                                                                               | -1407.535                                                                                                                                        | -1348.199                                                                                                                                        | 717.7676                                                                                                                                         |                                                                                                                                                  |       NA                                                                                                                                         |         NA                                                                                                                                       | \n",
       "| region_model_baseline | lme.formula(fixed = Accuracy.50_wo_gmean ~ 1, data = d, random = ~1 |     PID, method = \"ML\")                                                    | 2                                                                                                                                                |  3                                                                                                                                               | -1411.941                                                                                                                                        | -1399.226                                                                                                                                        | 708.9704                                                                                                                                         | 1 vs 2                                                                                                                                           | 17.59439                                                                                                                                         | 0.09148201                                                                                                                                       | \n",
       "\n",
       "\n"
      ],
      "text/plain": [
       "                      call                                                                                                                                            \n",
       "region_model_ml       lme.formula(fixed = as.formula(paste(\"Accuracy.50_wo_gmean~-1+\",     R1names_string, sep = \"\")), data = d, random = ~1 | PID,     method = \"ML\")\n",
       "region_model_baseline lme.formula(fixed = Accuracy.50_wo_gmean ~ 1, data = d, random = ~1 |     PID, method = \"ML\")                                                   \n",
       "                      Model df AIC       BIC       logLik   Test   L.Ratio \n",
       "region_model_ml       1     14 -1407.535 -1348.199 717.7676              NA\n",
       "region_model_baseline 2      3 -1411.941 -1399.226 708.9704 1 vs 2 17.59439\n",
       "                      p-value   \n",
       "region_model_ml               NA\n",
       "region_model_baseline 0.09148201"
      ]
     },
     "metadata": {},
     "output_type": "display_data"
    }
   ],
   "source": [
    "region_model_ml<-lme(as.formula(paste('Accuracy.50_wo_gmean~-1+',R1names_string,sep='')),random=~1|PID,data=d,method='ML')\n",
    "region_model_baseline<-lme(Accuracy.50_wo_gmean~1,random=~1|PID,data=d,method='ML')\n",
    "anova(region_model_ml,region_model_baseline)\n"
   ]
  },
  {
   "cell_type": "code",
   "execution_count": null,
   "metadata": {
    "collapsed": true
   },
   "outputs": [],
   "source": []
  }
 ],
 "metadata": {
  "hide_input": false,
  "kernelspec": {
   "display_name": "R",
   "language": "R",
   "name": "ir"
  },
  "language_info": {
   "codemirror_mode": "r",
   "file_extension": ".r",
   "mimetype": "text/x-r-source",
   "name": "R",
   "pygments_lexer": "r",
   "version": "3.4.1"
  },
  "toc": {
   "nav_menu": {},
   "number_sections": true,
   "sideBar": true,
   "skip_h1_title": false,
   "toc_cell": false,
   "toc_position": {},
   "toc_section_display": "block",
   "toc_window_display": false
  }
 },
 "nbformat": 4,
 "nbformat_minor": 1
}
