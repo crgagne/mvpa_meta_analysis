{
 "cells": [
  {
   "cell_type": "code",
   "execution_count": 85,
   "metadata": {
    "collapsed": false,
    "init_cell": true
   },
   "outputs": [],
   "source": [
    "library(nlme)\n",
    "library(multcomp)\n",
    "options(jupyter.plot_mimetypes = \"image/png\")\n",
    "library(ggplot2)\n",
    "library(corrplot)\n",
    "library(gridExtra)\n",
    "library(grid)\n",
    "library(data.table)\n",
    "library(effects)\n",
    "library(xtable)"
   ]
  },
  {
   "cell_type": "markdown",
   "metadata": {},
   "source": [
    "## Load Data"
   ]
  },
  {
   "cell_type": "code",
   "execution_count": 86,
   "metadata": {
    "collapsed": false,
    "init_cell": true
   },
   "outputs": [
    {
     "data": {
      "text/html": [
       "<ol class=list-inline>\n",
       "\t<li>'Frontal_Sup_L'</li>\n",
       "\t<li>'Frontal_Sup_R'</li>\n",
       "\t<li>'Frontal_Sup_Orb_L'</li>\n",
       "\t<li>'Frontal_Sup_Orb_R'</li>\n",
       "\t<li>'Frontal_Mid_L'</li>\n",
       "\t<li>'Frontal_Mid_R'</li>\n",
       "\t<li>'Frontal_Mid_Orb_L'</li>\n",
       "\t<li>'Frontal_Mid_Orb_R'</li>\n",
       "\t<li>'Frontal_Inf_Oper_L'</li>\n",
       "\t<li>'Frontal_Inf_Oper_R'</li>\n",
       "\t<li>'Frontal_Inf_Tri_L'</li>\n",
       "\t<li>'Frontal_Inf_Tri_R'</li>\n",
       "\t<li>'Frontal_Inf_Orb_L'</li>\n",
       "\t<li>'Frontal_Inf_Orb_R'</li>\n",
       "\t<li>'Supp_Motor_Area_L'</li>\n",
       "\t<li>'Supp_Motor_Area_R'</li>\n",
       "\t<li>'Frontal_Sup_Medial_L'</li>\n",
       "\t<li>'Frontal_Sup_Medial_R'</li>\n",
       "\t<li>'Insula_L'</li>\n",
       "\t<li>'Insula_R'</li>\n",
       "\t<li>'Cingulum_Ant_L'</li>\n",
       "\t<li>'Cingulum_Ant_R'</li>\n",
       "\t<li>'Cingulum_Mid_L'</li>\n",
       "\t<li>'Cingulum_Mid_R'</li>\n",
       "\t<li>'Precentral_L'</li>\n",
       "\t<li>'Precentral_R'</li>\n",
       "</ol>\n"
      ],
      "text/latex": [
       "\\begin{enumerate*}\n",
       "\\item 'Frontal_Sup_L'\n",
       "\\item 'Frontal_Sup_R'\n",
       "\\item 'Frontal_Sup_Orb_L'\n",
       "\\item 'Frontal_Sup_Orb_R'\n",
       "\\item 'Frontal_Mid_L'\n",
       "\\item 'Frontal_Mid_R'\n",
       "\\item 'Frontal_Mid_Orb_L'\n",
       "\\item 'Frontal_Mid_Orb_R'\n",
       "\\item 'Frontal_Inf_Oper_L'\n",
       "\\item 'Frontal_Inf_Oper_R'\n",
       "\\item 'Frontal_Inf_Tri_L'\n",
       "\\item 'Frontal_Inf_Tri_R'\n",
       "\\item 'Frontal_Inf_Orb_L'\n",
       "\\item 'Frontal_Inf_Orb_R'\n",
       "\\item 'Supp_Motor_Area_L'\n",
       "\\item 'Supp_Motor_Area_R'\n",
       "\\item 'Frontal_Sup_Medial_L'\n",
       "\\item 'Frontal_Sup_Medial_R'\n",
       "\\item 'Insula_L'\n",
       "\\item 'Insula_R'\n",
       "\\item 'Cingulum_Ant_L'\n",
       "\\item 'Cingulum_Ant_R'\n",
       "\\item 'Cingulum_Mid_L'\n",
       "\\item 'Cingulum_Mid_R'\n",
       "\\item 'Precentral_L'\n",
       "\\item 'Precentral_R'\n",
       "\\end{enumerate*}\n"
      ],
      "text/markdown": [
       "1. 'Frontal_Sup_L'\n",
       "2. 'Frontal_Sup_R'\n",
       "3. 'Frontal_Sup_Orb_L'\n",
       "4. 'Frontal_Sup_Orb_R'\n",
       "5. 'Frontal_Mid_L'\n",
       "6. 'Frontal_Mid_R'\n",
       "7. 'Frontal_Mid_Orb_L'\n",
       "8. 'Frontal_Mid_Orb_R'\n",
       "9. 'Frontal_Inf_Oper_L'\n",
       "10. 'Frontal_Inf_Oper_R'\n",
       "11. 'Frontal_Inf_Tri_L'\n",
       "12. 'Frontal_Inf_Tri_R'\n",
       "13. 'Frontal_Inf_Orb_L'\n",
       "14. 'Frontal_Inf_Orb_R'\n",
       "15. 'Supp_Motor_Area_L'\n",
       "16. 'Supp_Motor_Area_R'\n",
       "17. 'Frontal_Sup_Medial_L'\n",
       "18. 'Frontal_Sup_Medial_R'\n",
       "19. 'Insula_L'\n",
       "20. 'Insula_R'\n",
       "21. 'Cingulum_Ant_L'\n",
       "22. 'Cingulum_Ant_R'\n",
       "23. 'Cingulum_Mid_L'\n",
       "24. 'Cingulum_Mid_R'\n",
       "25. 'Precentral_L'\n",
       "26. 'Precentral_R'\n",
       "\n",
       "\n"
      ],
      "text/plain": [
       " [1] \"Frontal_Sup_L\"        \"Frontal_Sup_R\"        \"Frontal_Sup_Orb_L\"   \n",
       " [4] \"Frontal_Sup_Orb_R\"    \"Frontal_Mid_L\"        \"Frontal_Mid_R\"       \n",
       " [7] \"Frontal_Mid_Orb_L\"    \"Frontal_Mid_Orb_R\"    \"Frontal_Inf_Oper_L\"  \n",
       "[10] \"Frontal_Inf_Oper_R\"   \"Frontal_Inf_Tri_L\"    \"Frontal_Inf_Tri_R\"   \n",
       "[13] \"Frontal_Inf_Orb_L\"    \"Frontal_Inf_Orb_R\"    \"Supp_Motor_Area_L\"   \n",
       "[16] \"Supp_Motor_Area_R\"    \"Frontal_Sup_Medial_L\" \"Frontal_Sup_Medial_R\"\n",
       "[19] \"Insula_L\"             \"Insula_R\"             \"Cingulum_Ant_L\"      \n",
       "[22] \"Cingulum_Ant_R\"       \"Cingulum_Mid_L\"       \"Cingulum_Mid_R\"      \n",
       "[25] \"Precentral_L\"         \"Precentral_R\"        "
      ]
     },
     "execution_count": 86,
     "metadata": {},
     "output_type": "execute_result"
    },
    {
     "data": {
      "text/html": [
       "<ol class=list-inline>\n",
       "\t<li>'R3Precentral'</li>\n",
       "\t<li>'R3Frontal_Mid'</li>\n",
       "\t<li>'R3Frontal_Mid_Orb'</li>\n",
       "\t<li>'R3Frontal_Inf_Orb'</li>\n",
       "\t<li>'R3Frontal_Inf_Oper'</li>\n",
       "\t<li>'R3Frontal_Inf_Tri'</li>\n",
       "\t<li>'R3Supp_Motor_Area'</li>\n",
       "\t<li>'R3Cingulum_Mid'</li>\n",
       "\t<li>'R3Cingulum_Ant'</li>\n",
       "\t<li>'R3Frontal_Sup'</li>\n",
       "\t<li>'R3Frontal_Sup_Medial'</li>\n",
       "\t<li>'R3Insula'</li>\n",
       "</ol>\n"
      ],
      "text/latex": [
       "\\begin{enumerate*}\n",
       "\\item 'R3Precentral'\n",
       "\\item 'R3Frontal_Mid'\n",
       "\\item 'R3Frontal_Mid_Orb'\n",
       "\\item 'R3Frontal_Inf_Orb'\n",
       "\\item 'R3Frontal_Inf_Oper'\n",
       "\\item 'R3Frontal_Inf_Tri'\n",
       "\\item 'R3Supp_Motor_Area'\n",
       "\\item 'R3Cingulum_Mid'\n",
       "\\item 'R3Cingulum_Ant'\n",
       "\\item 'R3Frontal_Sup'\n",
       "\\item 'R3Frontal_Sup_Medial'\n",
       "\\item 'R3Insula'\n",
       "\\end{enumerate*}\n"
      ],
      "text/markdown": [
       "1. 'R3Precentral'\n",
       "2. 'R3Frontal_Mid'\n",
       "3. 'R3Frontal_Mid_Orb'\n",
       "4. 'R3Frontal_Inf_Orb'\n",
       "5. 'R3Frontal_Inf_Oper'\n",
       "6. 'R3Frontal_Inf_Tri'\n",
       "7. 'R3Supp_Motor_Area'\n",
       "8. 'R3Cingulum_Mid'\n",
       "9. 'R3Cingulum_Ant'\n",
       "10. 'R3Frontal_Sup'\n",
       "11. 'R3Frontal_Sup_Medial'\n",
       "12. 'R3Insula'\n",
       "\n",
       "\n"
      ],
      "text/plain": [
       " [1] \"R3Precentral\"         \"R3Frontal_Mid\"        \"R3Frontal_Mid_Orb\"   \n",
       " [4] \"R3Frontal_Inf_Orb\"    \"R3Frontal_Inf_Oper\"   \"R3Frontal_Inf_Tri\"   \n",
       " [7] \"R3Supp_Motor_Area\"    \"R3Cingulum_Mid\"       \"R3Cingulum_Ant\"      \n",
       "[10] \"R3Frontal_Sup\"        \"R3Frontal_Sup_Medial\" \"R3Insula\"            "
      ]
     },
     "execution_count": 86,
     "metadata": {},
     "output_type": "execute_result"
    },
    {
     "data": {
      "text/html": [
       "<ol class=list-inline>\n",
       "\t<li>'R4Frontal_Sup'</li>\n",
       "\t<li>'R4Frontal_Mid'</li>\n",
       "\t<li>'R4Frontal_Inf'</li>\n",
       "\t<li>'R4Frontal_Orb'</li>\n",
       "\t<li>'R4Insula'</li>\n",
       "\t<li>'R4Motor'</li>\n",
       "\t<li>'R4Cingulum'</li>\n",
       "</ol>\n"
      ],
      "text/latex": [
       "\\begin{enumerate*}\n",
       "\\item 'R4Frontal_Sup'\n",
       "\\item 'R4Frontal_Mid'\n",
       "\\item 'R4Frontal_Inf'\n",
       "\\item 'R4Frontal_Orb'\n",
       "\\item 'R4Insula'\n",
       "\\item 'R4Motor'\n",
       "\\item 'R4Cingulum'\n",
       "\\end{enumerate*}\n"
      ],
      "text/markdown": [
       "1. 'R4Frontal_Sup'\n",
       "2. 'R4Frontal_Mid'\n",
       "3. 'R4Frontal_Inf'\n",
       "4. 'R4Frontal_Orb'\n",
       "5. 'R4Insula'\n",
       "6. 'R4Motor'\n",
       "7. 'R4Cingulum'\n",
       "\n",
       "\n"
      ],
      "text/plain": [
       "[1] \"R4Frontal_Sup\" \"R4Frontal_Mid\" \"R4Frontal_Inf\" \"R4Frontal_Orb\"\n",
       "[5] \"R4Insula\"      \"R4Motor\"       \"R4Cingulum\"   "
      ]
     },
     "execution_count": 86,
     "metadata": {},
     "output_type": "execute_result"
    }
   ],
   "source": [
    "data = read.csv(\"../data_meta_analysis/Data_Classifications_v7.csv\")\n",
    "\n",
    "data<-data[c('PID','Info.type','Accuracy.50','Significance','Roi.Search',\n",
    "             'Pattern.type','Classifier.type','Scanner','Smoothing','Coregistration','Pattern.normalization.type','Num_subs')]\n",
    "\n",
    "factors<-c('Info.type','Significance','Roi.Search',\n",
    "             'Pattern.type','Classifier.type','Scanner','Smoothing','Coregistration','Pattern.normalization.type','Num_subs')\n",
    "\n",
    "for (pid in unique(data$PID)){\n",
    "    #print('--')\n",
    "    #print(pid)\n",
    "    #print(nrow(data1[data1$PID==pid,]))\n",
    "    #print('--')\n",
    "    data[data$PID==pid,'n_per_study']=nrow(data[data$PID==pid,])\n",
    "}\n",
    "\n",
    "\n",
    "# msc\n",
    "\n",
    "R1 = read.csv(paste(\"../data_meta_analysis/data_derived_meta_analysis/X_region1_before_clustering_2.csv\"))\n",
    "#R2 = read.csv(paste(\"X_region1_after_clustering.csv\"))\n",
    "R3 = read.csv(paste(\"../data_meta_analysis/data_derived_meta_analysis/X_region1_after_clustering_lr_2.csv\"))\n",
    "R4 = read.csv(paste(\"../data_meta_analysis/data_derived_meta_analysis/X_region1_after_clustering2_2.csv\"))\n",
    "R5 = read.csv(paste(\"../data_meta_analysis/data_derived_meta_analysis/X_region1_combined_regs.csv\"))\n",
    "\n",
    "R1names = colnames(R1)\n",
    "R1names\n",
    "\n",
    "R1names = colnames(R1)\n",
    "#R2names = colnames(R2)\n",
    "R3names = colnames(R3)\n",
    "R4names = colnames(R4)\n",
    "R5names = colnames(R5)\n",
    "\n",
    "i=1\n",
    "for (name in R3names){\n",
    "    R3names[i]<-paste(sep='','R3',name)\n",
    "    i=i+1\n",
    "}\n",
    "R3names\n",
    "colnames(R3)<-R3names\n",
    "#head(R3)\n",
    "\n",
    "i=1\n",
    "for (name in R4names){\n",
    "    R4names[i]<-paste(sep='','R4',name)\n",
    "    i=i+1\n",
    "}\n",
    "R4names\n",
    "colnames(R4)<-R4names\n",
    "#head(R4)"
   ]
  },
  {
   "cell_type": "code",
   "execution_count": 87,
   "metadata": {
    "collapsed": false
   },
   "outputs": [
    {
     "data": {
      "text/html": [
       "<ol class=list-inline>\n",
       "\t<li>None</li>\n",
       "\t<li>Normalized Spatially</li>\n",
       "\t<li>Normalized Temporally</li>\n",
       "</ol>\n"
      ],
      "text/latex": [
       "\\begin{enumerate*}\n",
       "\\item None\n",
       "\\item Normalized Spatially\n",
       "\\item Normalized Temporally\n",
       "\\end{enumerate*}\n"
      ],
      "text/markdown": [
       "1. None\n",
       "2. Normalized Spatially\n",
       "3. Normalized Temporally\n",
       "\n",
       "\n"
      ],
      "text/plain": [
       "[1] None                  Normalized Spatially  Normalized Temporally\n",
       "Levels: None Normalized Spatially Normalized Temporally"
      ]
     },
     "execution_count": 87,
     "metadata": {},
     "output_type": "execute_result"
    }
   ],
   "source": [
    "unique(data$Pattern.normalization.type)"
   ]
  },
  {
   "cell_type": "code",
   "execution_count": 88,
   "metadata": {
    "collapsed": false,
    "init_cell": true
   },
   "outputs": [
    {
     "data": {
      "text/html": [
       "<table>\n",
       "<thead><tr><th></th><th scope=col>PID</th><th scope=col>Info.type</th><th scope=col>Accuracy.50</th><th scope=col>Significance</th><th scope=col>Roi.Search</th><th scope=col>Pattern.type</th><th scope=col>Classifier.type</th><th scope=col>Scanner</th><th scope=col>Smoothing</th><th scope=col>Coregistration</th><th scope=col>Pattern.normalization.type</th><th scope=col>Num_subs</th><th scope=col>n_per_study</th><th scope=col>R3Precentral</th><th scope=col>R3Frontal_Mid</th><th scope=col>R3Frontal_Mid_Orb</th><th scope=col>R3Frontal_Inf_Orb</th><th scope=col>R3Frontal_Inf_Oper</th><th scope=col>R3Frontal_Inf_Tri</th><th scope=col>R3Supp_Motor_Area</th><th scope=col>R3Cingulum_Mid</th><th scope=col>R3Cingulum_Ant</th><th scope=col>R3Frontal_Sup</th><th scope=col>R3Frontal_Sup_Medial</th><th scope=col>R3Insula</th><th scope=col>R4Frontal_Sup</th><th scope=col>R4Frontal_Mid</th><th scope=col>R4Frontal_Inf</th><th scope=col>R4Frontal_Orb</th><th scope=col>R4Insula</th><th scope=col>R4Motor</th><th scope=col>R4Cingulum</th><th scope=col>Frontal_Sup_L</th><th scope=col>Frontal_Sup_R</th><th scope=col>Frontal_Sup_Orb_L</th><th scope=col>Frontal_Sup_Orb_R</th><th scope=col>Frontal_Mid_L</th><th scope=col>Frontal_Mid_R</th><th scope=col>Frontal_Mid_Orb_L</th><th scope=col>Frontal_Mid_Orb_R</th><th scope=col>Frontal_Inf_Oper_L</th><th scope=col>Frontal_Inf_Oper_R</th><th scope=col>Frontal_Inf_Tri_L</th><th scope=col>Frontal_Inf_Tri_R</th><th scope=col>Frontal_Inf_Orb_L</th><th scope=col>Frontal_Inf_Orb_R</th><th scope=col>Supp_Motor_Area_L</th><th scope=col>Supp_Motor_Area_R</th><th scope=col>Frontal_Sup_Medial_L</th><th scope=col>Frontal_Sup_Medial_R</th><th scope=col>Insula_L</th><th scope=col>Insula_R</th><th scope=col>Cingulum_Ant_L</th><th scope=col>Cingulum_Ant_R</th><th scope=col>Cingulum_Mid_L</th><th scope=col>Cingulum_Mid_R</th><th scope=col>Precentral_L</th><th scope=col>Precentral_R</th><th scope=col>Frontal_Inf_Tri_L.Frontal_Inf_Tri_R</th><th scope=col>Insula_L.Insula_R</th><th scope=col>Frontal_Sup_Medial_L.Frontal_Sup_Medial_R</th><th scope=col>Frontal_Mid_L.Frontal_Mid_R</th><th scope=col>Precentral_L.Precentral_R</th><th scope=col>Supp_Motor_Area_L.Supp_Motor_Area_R</th><th scope=col>Frontal_Sup_L.Frontal_Sup_R</th><th scope=col>Frontal_Mid_R.Frontal_Inf_Tri_R</th><th scope=col>Frontal_Inf_Oper_L.Frontal_Inf_Oper_R</th><th scope=col>Frontal_Inf_Orb_L.Frontal_Inf_Orb_R</th><th scope=col>Cingulum_Mid_L.Cingulum_Mid_R</th><th scope=col>Cingulum_Ant_L.Cingulum_Ant_R</th><th scope=col>Frontal_Mid_Orb_L.Frontal_Mid_Orb_R</th></tr></thead>\n",
       "<tbody>\n",
       "\t<tr><th scope=row>4</th><td>1</td><td>Perceptual</td><td>0.528</td><td>1</td><td>ROI</td><td>Multi-Trial Multi-Time Point</td><td>svm-lin</td><td>3T</td><td>unsmooth</td><td>Native Space</td><td>None</td><td>17</td><td>12</td><td>0</td><td>0</td><td>0</td><td>0</td><td>0</td><td>0</td><td>0</td><td>0</td><td>0</td><td>0</td><td>0</td><td>1</td><td>0</td><td>0</td><td>0</td><td>0</td><td>1</td><td>0</td><td>0</td><td>0</td><td>0</td><td>0</td><td>0</td><td>0</td><td>0</td><td>0</td><td>0</td><td>0</td><td>0</td><td>0</td><td>0</td><td>0</td><td>0</td><td>0</td><td>0</td><td>0</td><td>0</td><td>0</td><td>0</td><td>0</td><td>0</td><td>0</td><td>0</td><td>0</td><td>0</td><td>0</td><td>1</td><td>0</td><td>0</td><td>0</td><td>0</td><td>0</td><td>0</td><td>0</td><td>0</td><td>0</td><td>0</td><td>0</td></tr>\n",
       "\t<tr><th scope=row>9</th><td>1</td><td>Rule</td><td>0.535</td><td>1</td><td>ROI</td><td>Multi-Trial Multi-Time Point</td><td>svm-lin</td><td>3T</td><td>unsmooth</td><td>Native Space</td><td>None</td><td>17</td><td>12</td><td>0</td><td>0</td><td>0</td><td>0</td><td>0</td><td>0</td><td>0</td><td>0</td><td>0</td><td>0</td><td>0</td><td>1</td><td>0</td><td>0</td><td>0</td><td>0</td><td>1</td><td>0</td><td>0</td><td>0</td><td>0</td><td>0</td><td>0</td><td>0</td><td>0</td><td>0</td><td>0</td><td>0</td><td>0</td><td>0</td><td>0</td><td>0</td><td>0</td><td>0</td><td>0</td><td>0</td><td>0</td><td>0</td><td>0</td><td>0</td><td>0</td><td>0</td><td>0</td><td>0</td><td>0</td><td>0</td><td>1</td><td>0</td><td>0</td><td>0</td><td>0</td><td>0</td><td>0</td><td>0</td><td>0</td><td>0</td><td>0</td><td>0</td></tr>\n",
       "\t<tr><th scope=row>10</th><td>1</td><td>Rule</td><td>0.541</td><td>1</td><td>ROI</td><td>Multi-Trial Multi-Time Point</td><td>svm-lin</td><td>3T</td><td>unsmooth</td><td>Native Space</td><td>None</td><td>17</td><td>12</td><td>0</td><td>0</td><td>0</td><td>0</td><td>0</td><td>1</td><td>0</td><td>0</td><td>0</td><td>0</td><td>0</td><td>0</td><td>0</td><td>0</td><td>1</td><td>0</td><td>0</td><td>0</td><td>0</td><td>0</td><td>0</td><td>0</td><td>0</td><td>0</td><td>0</td><td>0</td><td>0</td><td>0</td><td>0</td><td>0</td><td>0</td><td>0</td><td>0</td><td>0</td><td>0</td><td>0</td><td>0</td><td>0</td><td>0</td><td>0</td><td>0</td><td>0</td><td>0</td><td>0</td><td>0</td><td>1</td><td>0</td><td>0</td><td>0</td><td>0</td><td>0</td><td>0</td><td>0</td><td>0</td><td>0</td><td>0</td><td>0</td><td>0</td></tr>\n",
       "\t<tr><th scope=row>11</th><td>1</td><td>Rule</td><td>0.543</td><td>1</td><td>ROI</td><td>Multi-Trial Multi-Time Point</td><td>svm-lin</td><td>3T</td><td>unsmooth</td><td>Native Space</td><td>None</td><td>17</td><td>12</td><td>0</td><td>0</td><td>0</td><td>0</td><td>0</td><td>0</td><td>0</td><td>0</td><td>0</td><td>0</td><td>0</td><td>1</td><td>0</td><td>0</td><td>0</td><td>0</td><td>1</td><td>0</td><td>0</td><td>0</td><td>0</td><td>0</td><td>0</td><td>0</td><td>0</td><td>0</td><td>0</td><td>0</td><td>0</td><td>0</td><td>0</td><td>0</td><td>0</td><td>0</td><td>0</td><td>0</td><td>0</td><td>0</td><td>0</td><td>0</td><td>0</td><td>0</td><td>0</td><td>0</td><td>0</td><td>0</td><td>1</td><td>0</td><td>0</td><td>0</td><td>0</td><td>0</td><td>0</td><td>0</td><td>0</td><td>0</td><td>0</td><td>0</td></tr>\n",
       "\t<tr><th scope=row>12</th><td>1</td><td>Rule</td><td>0.593</td><td>1</td><td>ROI</td><td>Multi-Trial Multi-Time Point</td><td>svm-lin</td><td>3T</td><td>unsmooth</td><td>Native Space</td><td>None</td><td>17</td><td>12</td><td>0</td><td>0</td><td>0</td><td>0</td><td>0</td><td>1</td><td>0</td><td>0</td><td>0</td><td>0</td><td>0</td><td>0</td><td>0</td><td>0</td><td>1</td><td>0</td><td>0</td><td>0</td><td>0</td><td>0</td><td>0</td><td>0</td><td>0</td><td>0</td><td>0</td><td>0</td><td>0</td><td>0</td><td>0</td><td>1</td><td>0</td><td>0</td><td>0</td><td>0</td><td>0</td><td>0</td><td>0</td><td>0</td><td>0</td><td>0</td><td>0</td><td>0</td><td>0</td><td>0</td><td>0</td><td>0</td><td>0</td><td>0</td><td>0</td><td>0</td><td>0</td><td>0</td><td>0</td><td>0</td><td>0</td><td>0</td><td>0</td><td>0</td></tr>\n",
       "\t<tr><th scope=row>16</th><td>2</td><td>Rule</td><td>0.64</td><td>1</td><td>ROI</td><td>Single Trial Multi-Time Point</td><td>LDA</td><td>3T</td><td>unsmooth</td><td>Native Space</td><td>None</td><td>6</td><td>4</td><td>1</td><td>0</td><td>0</td><td>0</td><td>0</td><td>0</td><td>0</td><td>0</td><td>0</td><td>0</td><td>0</td><td>0</td><td>0</td><td>0</td><td>0</td><td>0</td><td>0</td><td>1</td><td>0</td><td>0</td><td>0</td><td>0</td><td>0</td><td>0</td><td>0</td><td>0</td><td>0</td><td>0</td><td>0</td><td>0</td><td>0</td><td>0</td><td>0</td><td>0</td><td>0</td><td>0</td><td>0</td><td>0</td><td>0</td><td>0</td><td>0</td><td>0</td><td>0</td><td>0</td><td>0</td><td>0</td><td>0</td><td>0</td><td>0</td><td>1</td><td>0</td><td>0</td><td>0</td><td>0</td><td>0</td><td>0</td><td>0</td><td>0</td></tr>\n",
       "</tbody>\n",
       "</table>\n"
      ],
      "text/latex": [
       "\\begin{tabular}{r|lllllllllllllllllllllllllllllllllllllllllllllllllllllllllllllllllllllll}\n",
       "  & PID & Info.type & Accuracy.50 & Significance & Roi.Search & Pattern.type & Classifier.type & Scanner & Smoothing & Coregistration & Pattern.normalization.type & Num_subs & n_per_study & R3Precentral & R3Frontal_Mid & R3Frontal_Mid_Orb & R3Frontal_Inf_Orb & R3Frontal_Inf_Oper & R3Frontal_Inf_Tri & R3Supp_Motor_Area & R3Cingulum_Mid & R3Cingulum_Ant & R3Frontal_Sup & R3Frontal_Sup_Medial & R3Insula & R4Frontal_Sup & R4Frontal_Mid & R4Frontal_Inf & R4Frontal_Orb & R4Insula & R4Motor & R4Cingulum & Frontal_Sup_L & Frontal_Sup_R & Frontal_Sup_Orb_L & Frontal_Sup_Orb_R & Frontal_Mid_L & Frontal_Mid_R & Frontal_Mid_Orb_L & Frontal_Mid_Orb_R & Frontal_Inf_Oper_L & Frontal_Inf_Oper_R & Frontal_Inf_Tri_L & Frontal_Inf_Tri_R & Frontal_Inf_Orb_L & Frontal_Inf_Orb_R & Supp_Motor_Area_L & Supp_Motor_Area_R & Frontal_Sup_Medial_L & Frontal_Sup_Medial_R & Insula_L & Insula_R & Cingulum_Ant_L & Cingulum_Ant_R & Cingulum_Mid_L & Cingulum_Mid_R & Precentral_L & Precentral_R & Frontal_Inf_Tri_L.Frontal_Inf_Tri_R & Insula_L.Insula_R & Frontal_Sup_Medial_L.Frontal_Sup_Medial_R & Frontal_Mid_L.Frontal_Mid_R & Precentral_L.Precentral_R & Supp_Motor_Area_L.Supp_Motor_Area_R & Frontal_Sup_L.Frontal_Sup_R & Frontal_Mid_R.Frontal_Inf_Tri_R & Frontal_Inf_Oper_L.Frontal_Inf_Oper_R & Frontal_Inf_Orb_L.Frontal_Inf_Orb_R & Cingulum_Mid_L.Cingulum_Mid_R & Cingulum_Ant_L.Cingulum_Ant_R & Frontal_Mid_Orb_L.Frontal_Mid_Orb_R\\\\\n",
       "\\hline\n",
       "\t4 & 1 & Perceptual & 0.528 & 1 & ROI & Multi-Trial Multi-Time Point & svm-lin & 3T & unsmooth & Native Space & None & 17 & 12 & 0 & 0 & 0 & 0 & 0 & 0 & 0 & 0 & 0 & 0 & 0 & 1 & 0 & 0 & 0 & 0 & 1 & 0 & 0 & 0 & 0 & 0 & 0 & 0 & 0 & 0 & 0 & 0 & 0 & 0 & 0 & 0 & 0 & 0 & 0 & 0 & 0 & 0 & 0 & 0 & 0 & 0 & 0 & 0 & 0 & 0 & 1 & 0 & 0 & 0 & 0 & 0 & 0 & 0 & 0 & 0 & 0 & 0\\\\\n",
       "\t9 & 1 & Rule & 0.535 & 1 & ROI & Multi-Trial Multi-Time Point & svm-lin & 3T & unsmooth & Native Space & None & 17 & 12 & 0 & 0 & 0 & 0 & 0 & 0 & 0 & 0 & 0 & 0 & 0 & 1 & 0 & 0 & 0 & 0 & 1 & 0 & 0 & 0 & 0 & 0 & 0 & 0 & 0 & 0 & 0 & 0 & 0 & 0 & 0 & 0 & 0 & 0 & 0 & 0 & 0 & 0 & 0 & 0 & 0 & 0 & 0 & 0 & 0 & 0 & 1 & 0 & 0 & 0 & 0 & 0 & 0 & 0 & 0 & 0 & 0 & 0\\\\\n",
       "\t10 & 1 & Rule & 0.541 & 1 & ROI & Multi-Trial Multi-Time Point & svm-lin & 3T & unsmooth & Native Space & None & 17 & 12 & 0 & 0 & 0 & 0 & 0 & 1 & 0 & 0 & 0 & 0 & 0 & 0 & 0 & 0 & 1 & 0 & 0 & 0 & 0 & 0 & 0 & 0 & 0 & 0 & 0 & 0 & 0 & 0 & 0 & 0 & 0 & 0 & 0 & 0 & 0 & 0 & 0 & 0 & 0 & 0 & 0 & 0 & 0 & 0 & 0 & 1 & 0 & 0 & 0 & 0 & 0 & 0 & 0 & 0 & 0 & 0 & 0 & 0\\\\\n",
       "\t11 & 1 & Rule & 0.543 & 1 & ROI & Multi-Trial Multi-Time Point & svm-lin & 3T & unsmooth & Native Space & None & 17 & 12 & 0 & 0 & 0 & 0 & 0 & 0 & 0 & 0 & 0 & 0 & 0 & 1 & 0 & 0 & 0 & 0 & 1 & 0 & 0 & 0 & 0 & 0 & 0 & 0 & 0 & 0 & 0 & 0 & 0 & 0 & 0 & 0 & 0 & 0 & 0 & 0 & 0 & 0 & 0 & 0 & 0 & 0 & 0 & 0 & 0 & 0 & 1 & 0 & 0 & 0 & 0 & 0 & 0 & 0 & 0 & 0 & 0 & 0\\\\\n",
       "\t12 & 1 & Rule & 0.593 & 1 & ROI & Multi-Trial Multi-Time Point & svm-lin & 3T & unsmooth & Native Space & None & 17 & 12 & 0 & 0 & 0 & 0 & 0 & 1 & 0 & 0 & 0 & 0 & 0 & 0 & 0 & 0 & 1 & 0 & 0 & 0 & 0 & 0 & 0 & 0 & 0 & 0 & 0 & 0 & 0 & 0 & 0 & 1 & 0 & 0 & 0 & 0 & 0 & 0 & 0 & 0 & 0 & 0 & 0 & 0 & 0 & 0 & 0 & 0 & 0 & 0 & 0 & 0 & 0 & 0 & 0 & 0 & 0 & 0 & 0 & 0\\\\\n",
       "\t16 & 2 & Rule & 0.64 & 1 & ROI & Single Trial Multi-Time Point & LDA & 3T & unsmooth & Native Space & None & 6 & 4 & 1 & 0 & 0 & 0 & 0 & 0 & 0 & 0 & 0 & 0 & 0 & 0 & 0 & 0 & 0 & 0 & 0 & 1 & 0 & 0 & 0 & 0 & 0 & 0 & 0 & 0 & 0 & 0 & 0 & 0 & 0 & 0 & 0 & 0 & 0 & 0 & 0 & 0 & 0 & 0 & 0 & 0 & 0 & 0 & 0 & 0 & 0 & 0 & 0 & 1 & 0 & 0 & 0 & 0 & 0 & 0 & 0 & 0\\\\\n",
       "\\end{tabular}\n"
      ],
      "text/plain": [
       "   PID  Info.type Accuracy.50 Significance Roi.Search\n",
       "4    1 Perceptual       0.528            1        ROI\n",
       "9    1       Rule       0.535            1        ROI\n",
       "10   1       Rule       0.541            1        ROI\n",
       "11   1       Rule       0.543            1        ROI\n",
       "12   1       Rule       0.593            1        ROI\n",
       "16   2       Rule       0.640            1        ROI\n",
       "                    Pattern.type Classifier.type Scanner Smoothing\n",
       "4   Multi-Trial Multi-Time Point         svm-lin      3T  unsmooth\n",
       "9   Multi-Trial Multi-Time Point         svm-lin      3T  unsmooth\n",
       "10  Multi-Trial Multi-Time Point         svm-lin      3T  unsmooth\n",
       "11  Multi-Trial Multi-Time Point         svm-lin      3T  unsmooth\n",
       "12  Multi-Trial Multi-Time Point         svm-lin      3T  unsmooth\n",
       "16 Single Trial Multi-Time Point             LDA      3T  unsmooth\n",
       "   Coregistration Pattern.normalization.type Num_subs n_per_study R3Precentral\n",
       "4    Native Space                       None       17          12            0\n",
       "9    Native Space                       None       17          12            0\n",
       "10   Native Space                       None       17          12            0\n",
       "11   Native Space                       None       17          12            0\n",
       "12   Native Space                       None       17          12            0\n",
       "16   Native Space                       None        6           4            1\n",
       "   R3Frontal_Mid R3Frontal_Mid_Orb R3Frontal_Inf_Orb R3Frontal_Inf_Oper\n",
       "4              0                 0                 0                  0\n",
       "9              0                 0                 0                  0\n",
       "10             0                 0                 0                  0\n",
       "11             0                 0                 0                  0\n",
       "12             0                 0                 0                  0\n",
       "16             0                 0                 0                  0\n",
       "   R3Frontal_Inf_Tri R3Supp_Motor_Area R3Cingulum_Mid R3Cingulum_Ant\n",
       "4                  0                 0              0              0\n",
       "9                  0                 0              0              0\n",
       "10                 1                 0              0              0\n",
       "11                 0                 0              0              0\n",
       "12                 1                 0              0              0\n",
       "16                 0                 0              0              0\n",
       "   R3Frontal_Sup R3Frontal_Sup_Medial R3Insula R4Frontal_Sup R4Frontal_Mid\n",
       "4              0                    0        1             0             0\n",
       "9              0                    0        1             0             0\n",
       "10             0                    0        0             0             0\n",
       "11             0                    0        1             0             0\n",
       "12             0                    0        0             0             0\n",
       "16             0                    0        0             0             0\n",
       "   R4Frontal_Inf R4Frontal_Orb R4Insula R4Motor R4Cingulum Frontal_Sup_L\n",
       "4              0             0        1       0          0             0\n",
       "9              0             0        1       0          0             0\n",
       "10             1             0        0       0          0             0\n",
       "11             0             0        1       0          0             0\n",
       "12             1             0        0       0          0             0\n",
       "16             0             0        0       1          0             0\n",
       "   Frontal_Sup_R Frontal_Sup_Orb_L Frontal_Sup_Orb_R Frontal_Mid_L\n",
       "4              0                 0                 0             0\n",
       "9              0                 0                 0             0\n",
       "10             0                 0                 0             0\n",
       "11             0                 0                 0             0\n",
       "12             0                 0                 0             0\n",
       "16             0                 0                 0             0\n",
       "   Frontal_Mid_R Frontal_Mid_Orb_L Frontal_Mid_Orb_R Frontal_Inf_Oper_L\n",
       "4              0                 0                 0                  0\n",
       "9              0                 0                 0                  0\n",
       "10             0                 0                 0                  0\n",
       "11             0                 0                 0                  0\n",
       "12             0                 0                 0                  0\n",
       "16             0                 0                 0                  0\n",
       "   Frontal_Inf_Oper_R Frontal_Inf_Tri_L Frontal_Inf_Tri_R Frontal_Inf_Orb_L\n",
       "4                   0                 0                 0                 0\n",
       "9                   0                 0                 0                 0\n",
       "10                  0                 0                 0                 0\n",
       "11                  0                 0                 0                 0\n",
       "12                  0                 1                 0                 0\n",
       "16                  0                 0                 0                 0\n",
       "   Frontal_Inf_Orb_R Supp_Motor_Area_L Supp_Motor_Area_R Frontal_Sup_Medial_L\n",
       "4                  0                 0                 0                    0\n",
       "9                  0                 0                 0                    0\n",
       "10                 0                 0                 0                    0\n",
       "11                 0                 0                 0                    0\n",
       "12                 0                 0                 0                    0\n",
       "16                 0                 0                 0                    0\n",
       "   Frontal_Sup_Medial_R Insula_L Insula_R Cingulum_Ant_L Cingulum_Ant_R\n",
       "4                     0        0        0              0              0\n",
       "9                     0        0        0              0              0\n",
       "10                    0        0        0              0              0\n",
       "11                    0        0        0              0              0\n",
       "12                    0        0        0              0              0\n",
       "16                    0        0        0              0              0\n",
       "   Cingulum_Mid_L Cingulum_Mid_R Precentral_L Precentral_R\n",
       "4               0              0            0            0\n",
       "9               0              0            0            0\n",
       "10              0              0            0            0\n",
       "11              0              0            0            0\n",
       "12              0              0            0            0\n",
       "16              0              0            0            0\n",
       "   Frontal_Inf_Tri_L.Frontal_Inf_Tri_R Insula_L.Insula_R\n",
       "4                                    0                 1\n",
       "9                                    0                 1\n",
       "10                                   1                 0\n",
       "11                                   0                 1\n",
       "12                                   0                 0\n",
       "16                                   0                 0\n",
       "   Frontal_Sup_Medial_L.Frontal_Sup_Medial_R Frontal_Mid_L.Frontal_Mid_R\n",
       "4                                          0                           0\n",
       "9                                          0                           0\n",
       "10                                         0                           0\n",
       "11                                         0                           0\n",
       "12                                         0                           0\n",
       "16                                         0                           0\n",
       "   Precentral_L.Precentral_R Supp_Motor_Area_L.Supp_Motor_Area_R\n",
       "4                          0                                   0\n",
       "9                          0                                   0\n",
       "10                         0                                   0\n",
       "11                         0                                   0\n",
       "12                         0                                   0\n",
       "16                         1                                   0\n",
       "   Frontal_Sup_L.Frontal_Sup_R Frontal_Mid_R.Frontal_Inf_Tri_R\n",
       "4                            0                               0\n",
       "9                            0                               0\n",
       "10                           0                               0\n",
       "11                           0                               0\n",
       "12                           0                               0\n",
       "16                           0                               0\n",
       "   Frontal_Inf_Oper_L.Frontal_Inf_Oper_R Frontal_Inf_Orb_L.Frontal_Inf_Orb_R\n",
       "4                                      0                                   0\n",
       "9                                      0                                   0\n",
       "10                                     0                                   0\n",
       "11                                     0                                   0\n",
       "12                                     0                                   0\n",
       "16                                     0                                   0\n",
       "   Cingulum_Mid_L.Cingulum_Mid_R Cingulum_Ant_L.Cingulum_Ant_R\n",
       "4                              0                             0\n",
       "9                              0                             0\n",
       "10                             0                             0\n",
       "11                             0                             0\n",
       "12                             0                             0\n",
       "16                             0                             0\n",
       "   Frontal_Mid_Orb_L.Frontal_Mid_Orb_R\n",
       "4                                    0\n",
       "9                                    0\n",
       "10                                   0\n",
       "11                                   0\n",
       "12                                   0\n",
       "16                                   0"
      ]
     },
     "execution_count": 88,
     "metadata": {},
     "output_type": "execute_result"
    },
    {
     "data": {
      "text/html": [
       "506"
      ],
      "text/latex": [
       "506"
      ],
      "text/markdown": [
       "506"
      ],
      "text/plain": [
       "[1] 506"
      ]
     },
     "execution_count": 88,
     "metadata": {},
     "output_type": "execute_result"
    },
    {
     "data": {
      "text/html": [
       "239"
      ],
      "text/latex": [
       "239"
      ],
      "text/markdown": [
       "239"
      ],
      "text/plain": [
       "[1] 239"
      ]
     },
     "execution_count": 88,
     "metadata": {},
     "output_type": "execute_result"
    },
    {
     "data": {
      "text/html": [
       "404"
      ],
      "text/latex": [
       "404"
      ],
      "text/markdown": [
       "404"
      ],
      "text/plain": [
       "[1] 404"
      ]
     },
     "execution_count": 88,
     "metadata": {},
     "output_type": "execute_result"
    }
   ],
   "source": [
    "data = cbind(data,R3,R4,R5) # will bind with other region names too \n",
    "\n",
    "\n",
    "# mscl fixed \n",
    "data<-data[!data$Classifier.type=='neural-net',] # no observations but still has a level\n",
    "data[data$Scanner=='4T','Scanner']='3T' # only one observatoin with 3T\n",
    "\n",
    "data$PID<-as.factor(data$PID)\n",
    "data$Info.type<-as.factor(data$Info.type)\n",
    "data$Smoothing<-as.factor(data$Smoothing)\n",
    "data$Roi.Search<-as.factor(data$Roi.Search)\n",
    "data$Classifier.type<-as.factor(data$Classifier.type)\n",
    "data$Coregistration<-as.factor(data$Coregistration)\n",
    "data$Pattern.type<-as.factor(data$Pattern.type)\n",
    "\n",
    "#data[data$Pattern.normalization.type=='Normalized Spatially']\n",
    "\n",
    "data$Pattern.normalization.type<-as.factor(data$Pattern.normalization.type)\n",
    "\n",
    "data<-droplevels(data)\n",
    "\n",
    "data_50<-subset(data,!is.na(Accuracy.50))\n",
    "\n",
    "data_50_non<-subset(data,!is.na(Accuracy.50)& Significance==0)\n",
    "\n",
    "data_50_sig<-subset(data,!is.na(Accuracy.50) & Significance==1)\n",
    "head(data_50_sig)\n",
    "nrow(data_50_sig)\n",
    "\n",
    "\n",
    "# make unique\n",
    "keys <- colnames(data_50_sig)[!grepl('Accuracy.50',colnames(data_50_sig))] # grab everything but accuracy\n",
    "X <- as.data.table(data_50_sig)\n",
    "data_50_sig_unique<- X[,list(Accuracy.50.mean= mean(Accuracy.50)),keys] # average the non-unique\n",
    "data_50_sig_unique$Accuracy.50<-data_50_sig_unique$Accuracy.50.mean\n",
    "data_50_sig_unique<-data.frame(data_50_sig_unique)\n",
    "\n",
    "keys <- colnames(data_50)[!grepl('Accuracy.50',colnames(data_50))] # grab everything but accuracy\n",
    "X <- as.data.table(data_50)\n",
    "data_50_unique<- X[,list(Accuracy.50.mean= mean(Accuracy.50)),keys] # average the non-unique\n",
    "data_50_unique$Accuracy.50<-data_50_unique$Accuracy.50.mean\n",
    "data_50_unique<-data.frame(data_50_unique)\n",
    "\n",
    "\n",
    "\n",
    "nrow(data_50_sig_unique)\n",
    "nrow(data_50_unique)"
   ]
  },
  {
   "cell_type": "markdown",
   "metadata": {},
   "source": [
    "## Mixed Effects, Sig, All Factors - more regions"
   ]
  },
  {
   "cell_type": "code",
   "execution_count": 89,
   "metadata": {
    "collapsed": false
   },
   "outputs": [],
   "source": [
    "R5names = R5names[R5names!='Cingulum_Mid_R']\n",
    "R5names = R5names[R5names!='Frontal_Mid_R.Frontal_Inf_Tri_L']\n",
    "R5names = R5names[R5names!='Frontal_Mid_L.Precentral_R']\n",
    "R5names = R5names[R5names!='Cingulum_Ant_R.Cingulum_Mid_R']\n",
    "R5names = R5names[R5names!='Frontal_Sup_R.Frontal_Sup_Medial_R  ']\n",
    "R5names = R5names[R5names!='Frontal_Sup_L.Frontal_Sup_Medial_L']\n",
    "R5names = R5names[R5names!='Frontal_Inf_Tri_R.Frontal_Inf_Orb_R']\n",
    "R5names = R5names[R5names!='Frontal_Sup_R.Frontal_Sup_Medial_R']\n",
    "R5names = R5names[R5names!='Frontal_Inf_Oper_R.Precentral_L']\n",
    "\n"
   ]
  },
  {
   "cell_type": "code",
   "execution_count": 90,
   "metadata": {
    "collapsed": false
   },
   "outputs": [
    {
     "data": {
      "text/html": [
       "422"
      ],
      "text/latex": [
       "422"
      ],
      "text/markdown": [
       "422"
      ],
      "text/plain": [
       "[1] 422"
      ]
     },
     "execution_count": 90,
     "metadata": {},
     "output_type": "execute_result"
    }
   ],
   "source": [
    "d<-data_50_sig[c('Accuracy.50','PID',factors,R5names)]\n",
    "d=d[rowSums(d[,R5names])==1,] # remove rows with no region regressor (would have been 2+)\n",
    "nrow(d)"
   ]
  },
  {
   "cell_type": "code",
   "execution_count": 91,
   "metadata": {
    "collapsed": false
   },
   "outputs": [],
   "source": [
    "factors<-c('Info.type','Roi.Search',\n",
    "             'Pattern.type','Classifier.type','Scanner','Smoothing','Coregistration','Pattern.normalization.type','Num_subs')\n"
   ]
  },
  {
   "cell_type": "code",
   "execution_count": 92,
   "metadata": {
    "collapsed": false
   },
   "outputs": [
    {
     "data": {
      "text/html": [
       "'Frontal_Sup_L+Frontal_Sup_R+Frontal_Sup_Orb_L+Frontal_Sup_Orb_R+Frontal_Mid_L+Frontal_Mid_R+Frontal_Mid_Orb_L+Frontal_Mid_Orb_R+Frontal_Inf_Oper_L+Frontal_Inf_Oper_R+Frontal_Inf_Tri_L+Frontal_Inf_Tri_R+Frontal_Inf_Orb_L+Frontal_Inf_Orb_R+Supp_Motor_Area_L+Supp_Motor_Area_R+Frontal_Sup_Medial_L+Frontal_Sup_Medial_R+Insula_L+Insula_R+Cingulum_Ant_L+Cingulum_Ant_R+Cingulum_Mid_L+Precentral_L+Precentral_R+Frontal_Inf_Tri_L.Frontal_Inf_Tri_R+Insula_L.Insula_R+Frontal_Sup_Medial_L.Frontal_Sup_Medial_R+Frontal_Mid_L.Frontal_Mid_R+Precentral_L.Precentral_R+Supp_Motor_Area_L.Supp_Motor_Area_R+Frontal_Sup_L.Frontal_Sup_R+Frontal_Mid_R.Frontal_Inf_Tri_R+Frontal_Inf_Oper_L.Frontal_Inf_Oper_R+Frontal_Inf_Orb_L.Frontal_Inf_Orb_R+Cingulum_Mid_L.Cingulum_Mid_R+Cingulum_Ant_L.Cingulum_Ant_R+Info.type+Roi.Search+Pattern.type+Classifier.type+Scanner+Smoothing+Coregistration+Pattern.normalization.type+Num_subs'"
      ],
      "text/latex": [
       "'Frontal_Sup_L+Frontal_Sup_R+Frontal_Sup_Orb_L+Frontal_Sup_Orb_R+Frontal_Mid_L+Frontal_Mid_R+Frontal_Mid_Orb_L+Frontal_Mid_Orb_R+Frontal_Inf_Oper_L+Frontal_Inf_Oper_R+Frontal_Inf_Tri_L+Frontal_Inf_Tri_R+Frontal_Inf_Orb_L+Frontal_Inf_Orb_R+Supp_Motor_Area_L+Supp_Motor_Area_R+Frontal_Sup_Medial_L+Frontal_Sup_Medial_R+Insula_L+Insula_R+Cingulum_Ant_L+Cingulum_Ant_R+Cingulum_Mid_L+Precentral_L+Precentral_R+Frontal_Inf_Tri_L.Frontal_Inf_Tri_R+Insula_L.Insula_R+Frontal_Sup_Medial_L.Frontal_Sup_Medial_R+Frontal_Mid_L.Frontal_Mid_R+Precentral_L.Precentral_R+Supp_Motor_Area_L.Supp_Motor_Area_R+Frontal_Sup_L.Frontal_Sup_R+Frontal_Mid_R.Frontal_Inf_Tri_R+Frontal_Inf_Oper_L.Frontal_Inf_Oper_R+Frontal_Inf_Orb_L.Frontal_Inf_Orb_R+Cingulum_Mid_L.Cingulum_Mid_R+Cingulum_Ant_L.Cingulum_Ant_R+Info.type+Roi.Search+Pattern.type+Classifier.type+Scanner+Smoothing+Coregistration+Pattern.normalization.type+Num_subs'"
      ],
      "text/markdown": [
       "'Frontal_Sup_L+Frontal_Sup_R+Frontal_Sup_Orb_L+Frontal_Sup_Orb_R+Frontal_Mid_L+Frontal_Mid_R+Frontal_Mid_Orb_L+Frontal_Mid_Orb_R+Frontal_Inf_Oper_L+Frontal_Inf_Oper_R+Frontal_Inf_Tri_L+Frontal_Inf_Tri_R+Frontal_Inf_Orb_L+Frontal_Inf_Orb_R+Supp_Motor_Area_L+Supp_Motor_Area_R+Frontal_Sup_Medial_L+Frontal_Sup_Medial_R+Insula_L+Insula_R+Cingulum_Ant_L+Cingulum_Ant_R+Cingulum_Mid_L+Precentral_L+Precentral_R+Frontal_Inf_Tri_L.Frontal_Inf_Tri_R+Insula_L.Insula_R+Frontal_Sup_Medial_L.Frontal_Sup_Medial_R+Frontal_Mid_L.Frontal_Mid_R+Precentral_L.Precentral_R+Supp_Motor_Area_L.Supp_Motor_Area_R+Frontal_Sup_L.Frontal_Sup_R+Frontal_Mid_R.Frontal_Inf_Tri_R+Frontal_Inf_Oper_L.Frontal_Inf_Oper_R+Frontal_Inf_Orb_L.Frontal_Inf_Orb_R+Cingulum_Mid_L.Cingulum_Mid_R+Cingulum_Ant_L.Cingulum_Ant_R+Info.type+Roi.Search+Pattern.type+Classifier.type+Scanner+Smoothing+Coregistration+Pattern.normalization.type+Num_subs'"
      ],
      "text/plain": [
       "[1] \"Frontal_Sup_L+Frontal_Sup_R+Frontal_Sup_Orb_L+Frontal_Sup_Orb_R+Frontal_Mid_L+Frontal_Mid_R+Frontal_Mid_Orb_L+Frontal_Mid_Orb_R+Frontal_Inf_Oper_L+Frontal_Inf_Oper_R+Frontal_Inf_Tri_L+Frontal_Inf_Tri_R+Frontal_Inf_Orb_L+Frontal_Inf_Orb_R+Supp_Motor_Area_L+Supp_Motor_Area_R+Frontal_Sup_Medial_L+Frontal_Sup_Medial_R+Insula_L+Insula_R+Cingulum_Ant_L+Cingulum_Ant_R+Cingulum_Mid_L+Precentral_L+Precentral_R+Frontal_Inf_Tri_L.Frontal_Inf_Tri_R+Insula_L.Insula_R+Frontal_Sup_Medial_L.Frontal_Sup_Medial_R+Frontal_Mid_L.Frontal_Mid_R+Precentral_L.Precentral_R+Supp_Motor_Area_L.Supp_Motor_Area_R+Frontal_Sup_L.Frontal_Sup_R+Frontal_Mid_R.Frontal_Inf_Tri_R+Frontal_Inf_Oper_L.Frontal_Inf_Oper_R+Frontal_Inf_Orb_L.Frontal_Inf_Orb_R+Cingulum_Mid_L.Cingulum_Mid_R+Cingulum_Ant_L.Cingulum_Ant_R+Info.type+Roi.Search+Pattern.type+Classifier.type+Scanner+Smoothing+Coregistration+Pattern.normalization.type+Num_subs\""
      ]
     },
     "execution_count": 92,
     "metadata": {},
     "output_type": "execute_result"
    }
   ],
   "source": [
    "R1names_string<-c()\n",
    "r=1\n",
    "for (R in R5names){\n",
    "    # don't add last name - to prevent overparameterization. \n",
    "    if(r<length(R5names)){\n",
    "    R1names_string<-paste(R1names_string,R,sep='+')\n",
    "    }\n",
    "    r<-r+1 \n",
    "}\n",
    "for (f in factors){\n",
    "    R1names_string<-paste(R1names_string,f,sep='+')\n",
    "    \n",
    "}\n",
    "\n",
    "R1names_string<-substring(R1names_string, 2)\n",
    "R1names_string"
   ]
  },
  {
   "cell_type": "code",
   "execution_count": 93,
   "metadata": {
    "collapsed": false
   },
   "outputs": [
    {
     "data": {
      "text/html": [
       "'Cingulum_Ant_L.Cingulum_Ant_R'"
      ],
      "text/latex": [
       "'Cingulum_Ant_L.Cingulum_Ant_R'"
      ],
      "text/markdown": [
       "'Cingulum_Ant_L.Cingulum_Ant_R'"
      ],
      "text/plain": [
       "[1] \"Cingulum_Ant_L.Cingulum_Ant_R\""
      ]
     },
     "execution_count": 93,
     "metadata": {},
     "output_type": "execute_result"
    }
   ],
   "source": [
    "R5names[37]"
   ]
  },
  {
   "cell_type": "code",
   "execution_count": 94,
   "metadata": {
    "collapsed": false
   },
   "outputs": [
    {
     "data": {
      "text/html": [
       "'Frontal_Sup_L+Frontal_Sup_R+Frontal_Sup_Orb_L+Frontal_Sup_Orb_R+Frontal_Mid_L+Frontal_Mid_R+Frontal_Mid_Orb_L+Frontal_Mid_Orb_R+Frontal_Inf_Oper_L+Frontal_Inf_Oper_R+Frontal_Inf_Tri_L+Frontal_Inf_Tri_R+Frontal_Inf_Orb_L+Frontal_Inf_Orb_R+Supp_Motor_Area_L+Supp_Motor_Area_R+Frontal_Sup_Medial_L+Frontal_Sup_Medial_R+Insula_L+Insula_R+Cingulum_Ant_L+Cingulum_Ant_R+Cingulum_Mid_L+Precentral_L+Precentral_R+Frontal_Inf_Tri_L.Frontal_Inf_Tri_R+Insula_L.Insula_R+Frontal_Sup_Medial_L.Frontal_Sup_Medial_R+Frontal_Mid_L.Frontal_Mid_R+Precentral_L.Precentral_R+Supp_Motor_Area_L.Supp_Motor_Area_R+Frontal_Sup_L.Frontal_Sup_R+Frontal_Mid_R.Frontal_Inf_Tri_R+Frontal_Inf_Oper_L.Frontal_Inf_Oper_R+Frontal_Inf_Orb_L.Frontal_Inf_Orb_R+Cingulum_Mid_L.Cingulum_Mid_R+Cingulum_Ant_L.Cingulum_Ant_R+Info.type+Roi.Search+Pattern.type+Classifier.type+Scanner+Smoothing+Coregistration+Pattern.normalization.type+Num_subs'"
      ],
      "text/latex": [
       "'Frontal_Sup_L+Frontal_Sup_R+Frontal_Sup_Orb_L+Frontal_Sup_Orb_R+Frontal_Mid_L+Frontal_Mid_R+Frontal_Mid_Orb_L+Frontal_Mid_Orb_R+Frontal_Inf_Oper_L+Frontal_Inf_Oper_R+Frontal_Inf_Tri_L+Frontal_Inf_Tri_R+Frontal_Inf_Orb_L+Frontal_Inf_Orb_R+Supp_Motor_Area_L+Supp_Motor_Area_R+Frontal_Sup_Medial_L+Frontal_Sup_Medial_R+Insula_L+Insula_R+Cingulum_Ant_L+Cingulum_Ant_R+Cingulum_Mid_L+Precentral_L+Precentral_R+Frontal_Inf_Tri_L.Frontal_Inf_Tri_R+Insula_L.Insula_R+Frontal_Sup_Medial_L.Frontal_Sup_Medial_R+Frontal_Mid_L.Frontal_Mid_R+Precentral_L.Precentral_R+Supp_Motor_Area_L.Supp_Motor_Area_R+Frontal_Sup_L.Frontal_Sup_R+Frontal_Mid_R.Frontal_Inf_Tri_R+Frontal_Inf_Oper_L.Frontal_Inf_Oper_R+Frontal_Inf_Orb_L.Frontal_Inf_Orb_R+Cingulum_Mid_L.Cingulum_Mid_R+Cingulum_Ant_L.Cingulum_Ant_R+Info.type+Roi.Search+Pattern.type+Classifier.type+Scanner+Smoothing+Coregistration+Pattern.normalization.type+Num_subs'"
      ],
      "text/markdown": [
       "'Frontal_Sup_L+Frontal_Sup_R+Frontal_Sup_Orb_L+Frontal_Sup_Orb_R+Frontal_Mid_L+Frontal_Mid_R+Frontal_Mid_Orb_L+Frontal_Mid_Orb_R+Frontal_Inf_Oper_L+Frontal_Inf_Oper_R+Frontal_Inf_Tri_L+Frontal_Inf_Tri_R+Frontal_Inf_Orb_L+Frontal_Inf_Orb_R+Supp_Motor_Area_L+Supp_Motor_Area_R+Frontal_Sup_Medial_L+Frontal_Sup_Medial_R+Insula_L+Insula_R+Cingulum_Ant_L+Cingulum_Ant_R+Cingulum_Mid_L+Precentral_L+Precentral_R+Frontal_Inf_Tri_L.Frontal_Inf_Tri_R+Insula_L.Insula_R+Frontal_Sup_Medial_L.Frontal_Sup_Medial_R+Frontal_Mid_L.Frontal_Mid_R+Precentral_L.Precentral_R+Supp_Motor_Area_L.Supp_Motor_Area_R+Frontal_Sup_L.Frontal_Sup_R+Frontal_Mid_R.Frontal_Inf_Tri_R+Frontal_Inf_Oper_L.Frontal_Inf_Oper_R+Frontal_Inf_Orb_L.Frontal_Inf_Orb_R+Cingulum_Mid_L.Cingulum_Mid_R+Cingulum_Ant_L.Cingulum_Ant_R+Info.type+Roi.Search+Pattern.type+Classifier.type+Scanner+Smoothing+Coregistration+Pattern.normalization.type+Num_subs'"
      ],
      "text/plain": [
       "[1] \"Frontal_Sup_L+Frontal_Sup_R+Frontal_Sup_Orb_L+Frontal_Sup_Orb_R+Frontal_Mid_L+Frontal_Mid_R+Frontal_Mid_Orb_L+Frontal_Mid_Orb_R+Frontal_Inf_Oper_L+Frontal_Inf_Oper_R+Frontal_Inf_Tri_L+Frontal_Inf_Tri_R+Frontal_Inf_Orb_L+Frontal_Inf_Orb_R+Supp_Motor_Area_L+Supp_Motor_Area_R+Frontal_Sup_Medial_L+Frontal_Sup_Medial_R+Insula_L+Insula_R+Cingulum_Ant_L+Cingulum_Ant_R+Cingulum_Mid_L+Precentral_L+Precentral_R+Frontal_Inf_Tri_L.Frontal_Inf_Tri_R+Insula_L.Insula_R+Frontal_Sup_Medial_L.Frontal_Sup_Medial_R+Frontal_Mid_L.Frontal_Mid_R+Precentral_L.Precentral_R+Supp_Motor_Area_L.Supp_Motor_Area_R+Frontal_Sup_L.Frontal_Sup_R+Frontal_Mid_R.Frontal_Inf_Tri_R+Frontal_Inf_Oper_L.Frontal_Inf_Oper_R+Frontal_Inf_Orb_L.Frontal_Inf_Orb_R+Cingulum_Mid_L.Cingulum_Mid_R+Cingulum_Ant_L.Cingulum_Ant_R+Info.type+Roi.Search+Pattern.type+Classifier.type+Scanner+Smoothing+Coregistration+Pattern.normalization.type+Num_subs\""
      ]
     },
     "execution_count": 94,
     "metadata": {},
     "output_type": "execute_result"
    }
   ],
   "source": [
    "R1names_string"
   ]
  },
  {
   "cell_type": "markdown",
   "metadata": {},
   "source": [
    "# Coefficients"
   ]
  },
  {
   "cell_type": "code",
   "execution_count": 95,
   "metadata": {
    "collapsed": false
   },
   "outputs": [
    {
     "data": {
      "text/html": [
       "<table>\n",
       "<thead><tr><th></th><th scope=col>Value</th><th scope=col>Std.Error</th><th scope=col>DF</th><th scope=col>t-value</th><th scope=col>p-value</th></tr></thead>\n",
       "<tbody>\n",
       "\t<tr><th scope=row>(Intercept)</th><td>6.573844e-01</td><td>9.315416e-02</td><td>3.110000e+02</td><td>7.056952e+00</td><td>1.112099e-11</td></tr>\n",
       "\t<tr><th scope=row>Frontal_Sup_L</th><td>  0.06908056</td><td>  0.06339743</td><td>311.00000000</td><td>  1.08964285</td><td>  0.27671408</td></tr>\n",
       "\t<tr><th scope=row>Frontal_Sup_R</th><td>  0.05819155</td><td>  0.06276443</td><td>311.00000000</td><td>  0.92714210</td><td>  0.35457170</td></tr>\n",
       "\t<tr><th scope=row>Frontal_Sup_Orb_L</th><td>  0.05839348</td><td>  0.07271802</td><td>311.00000000</td><td>  0.80301251</td><td>  0.42258076</td></tr>\n",
       "\t<tr><th scope=row>Frontal_Sup_Orb_R</th><td>8.344512e-03</td><td>7.984323e-02</td><td>3.110000e+02</td><td>1.045112e-01</td><td>9.168310e-01</td></tr>\n",
       "\t<tr><th scope=row>Frontal_Mid_L</th><td>  0.05034512</td><td>  0.06172179</td><td>311.00000000</td><td>  0.81567817</td><td>  0.41530849</td></tr>\n",
       "\t<tr><th scope=row>Frontal_Mid_R</th><td>  0.02806031</td><td>  0.06214906</td><td>311.00000000</td><td>  0.45150018</td><td>  0.65194378</td></tr>\n",
       "\t<tr><th scope=row>Frontal_Mid_Orb_L</th><td>  0.03083601</td><td>  0.06696469</td><td>311.00000000</td><td>  0.46048161</td><td>  0.64549238</td></tr>\n",
       "\t<tr><th scope=row>Frontal_Mid_Orb_R</th><td>  0.01529132</td><td>  0.07113553</td><td>311.00000000</td><td>  0.21496036</td><td>  0.82993911</td></tr>\n",
       "\t<tr><th scope=row>Frontal_Inf_Oper_L</th><td>  0.06449750</td><td>  0.06961335</td><td>311.00000000</td><td>  0.92651048</td><td>  0.35489917</td></tr>\n",
       "\t<tr><th scope=row>Frontal_Inf_Oper_R</th><td>  0.02998447</td><td>  0.06516742</td><td>311.00000000</td><td>  0.46011445</td><td>  0.64575559</td></tr>\n",
       "\t<tr><th scope=row>Frontal_Inf_Tri_L</th><td>  0.07396693</td><td>  0.06379485</td><td>311.00000000</td><td>  1.15944989</td><td>  0.24716226</td></tr>\n",
       "\t<tr><th scope=row>Frontal_Inf_Tri_R</th><td>  0.03802197</td><td>  0.06392961</td><td>311.00000000</td><td>  0.59474735</td><td>  0.55244482</td></tr>\n",
       "\t<tr><th scope=row>Frontal_Inf_Orb_L</th><td>  0.04995640</td><td>  0.06369104</td><td>311.00000000</td><td>  0.78435523</td><td>  0.43342871</td></tr>\n",
       "\t<tr><th scope=row>Frontal_Inf_Orb_R</th><td>  0.04776991</td><td>  0.06974673</td><td>311.00000000</td><td>  0.68490531</td><td>  0.49391380</td></tr>\n",
       "\t<tr><th scope=row>Supp_Motor_Area_L</th><td>  0.10332972</td><td>  0.06300906</td><td>311.00000000</td><td>  1.63991838</td><td>  0.10203318</td></tr>\n",
       "\t<tr><th scope=row>Supp_Motor_Area_R</th><td>  0.09131362</td><td>  0.06426130</td><td>311.00000000</td><td>  1.42097383</td><td>  0.15632623</td></tr>\n",
       "\t<tr><th scope=row>Frontal_Sup_Medial_L</th><td>  0.04097245</td><td>  0.06376629</td><td>311.00000000</td><td>  0.64254102</td><td>  0.52099536</td></tr>\n",
       "\t<tr><th scope=row>Frontal_Sup_Medial_R</th><td>  0.05153987</td><td>  0.06606828</td><td>311.00000000</td><td>  0.78009998</td><td>  0.43592533</td></tr>\n",
       "\t<tr><th scope=row>Insula_L</th><td>  0.04724893</td><td>  0.07455848</td><td>311.00000000</td><td>  0.63371637</td><td>  0.52673173</td></tr>\n",
       "\t<tr><th scope=row>Insula_R</th><td> 0.04776763</td><td> 0.10124085</td><td>55.00000000</td><td> 0.47182175</td><td> 0.63892055</td></tr>\n",
       "\t<tr><th scope=row>Cingulum_Ant_L</th><td>  0.03265811</td><td>  0.08565544</td><td>311.00000000</td><td>  0.38127302</td><td>  0.70326101</td></tr>\n",
       "\t<tr><th scope=row>Cingulum_Ant_R</th><td>  0.05273160</td><td>  0.06708139</td><td>311.00000000</td><td>  0.78608392</td><td>  0.43241684</td></tr>\n",
       "\t<tr><th scope=row>Cingulum_Mid_L</th><td>  0.05886377</td><td>  0.06392573</td><td>311.00000000</td><td>  0.92081498</td><td>  0.35786074</td></tr>\n",
       "\t<tr><th scope=row>Precentral_L</th><td>  0.07134458</td><td>  0.06170597</td><td>311.00000000</td><td>  1.15620224</td><td>  0.24848584</td></tr>\n",
       "\t<tr><th scope=row>Precentral_R</th><td>  0.04588899</td><td>  0.06262970</td><td>311.00000000</td><td>  0.73270331</td><td>  0.46429127</td></tr>\n",
       "\t<tr><th scope=row>Frontal_Inf_Tri_L.Frontal_Inf_Tri_R</th><td>  0.03329371</td><td>  0.06463552</td><td>311.00000000</td><td>  0.51509937</td><td>  0.60684950</td></tr>\n",
       "\t<tr><th scope=row>Insula_L.Insula_R</th><td>  0.02568551</td><td>  0.06298113</td><td>311.00000000</td><td>  0.40782861</td><td>  0.68368011</td></tr>\n",
       "\t<tr><th scope=row>Frontal_Sup_Medial_L.Frontal_Sup_Medial_R</th><td>  0.04671135</td><td>  0.06391849</td><td>311.00000000</td><td>  0.73079551</td><td>  0.46545426</td></tr>\n",
       "\t<tr><th scope=row>Frontal_Mid_L.Frontal_Mid_R</th><td>  0.04968294</td><td>  0.06148127</td><td>311.00000000</td><td>  0.80809874</td><td>  0.41965142</td></tr>\n",
       "\t<tr><th scope=row>Precentral_L.Precentral_R</th><td>  0.08693163</td><td>  0.06227635</td><td>311.00000000</td><td>  1.39590125</td><td>  0.16373992</td></tr>\n",
       "\t<tr><th scope=row>Supp_Motor_Area_L.Supp_Motor_Area_R</th><td>  0.05304736</td><td>  0.06409463</td><td>311.00000000</td><td>  0.82764115</td><td>  0.40850838</td></tr>\n",
       "\t<tr><th scope=row>Frontal_Sup_L.Frontal_Sup_R</th><td>  0.04983621</td><td>  0.06592139</td><td>311.00000000</td><td>  0.75599457</td><td>  0.45022468</td></tr>\n",
       "\t<tr><th scope=row>Frontal_Mid_R.Frontal_Inf_Tri_R</th><td>9.209605e-03</td><td>8.843110e-02</td><td>3.110000e+02</td><td>1.041444e-01</td><td>9.171219e-01</td></tr>\n",
       "\t<tr><th scope=row>Frontal_Inf_Oper_L.Frontal_Inf_Oper_R</th><td>  0.02023178</td><td>  0.07058714</td><td>311.00000000</td><td>  0.28662130</td><td>  0.77459315</td></tr>\n",
       "\t<tr><th scope=row>Frontal_Inf_Orb_L.Frontal_Inf_Orb_R</th><td>4.525421e-03</td><td>8.394082e-02</td><td>3.110000e+02</td><td>5.391204e-02</td><td>9.570399e-01</td></tr>\n",
       "\t<tr><th scope=row>Cingulum_Mid_L.Cingulum_Mid_R</th><td>  0.05252542</td><td>  0.08394082</td><td>311.00000000</td><td>  0.62574346</td><td>  0.53194215</td></tr>\n",
       "\t<tr><th scope=row>Cingulum_Ant_L.Cingulum_Ant_R</th><td>  0.08121823</td><td>  0.06354927</td><td>311.00000000</td><td>  1.27803561</td><td>  0.20218993</td></tr>\n",
       "\t<tr><th scope=row>Info.typeResponse</th><td>4.758174e-03</td><td>2.210203e-02</td><td>3.110000e+02</td><td>2.152822e-01</td><td>8.296884e-01</td></tr>\n",
       "\t<tr><th scope=row>Info.typeRule</th><td>  0.01826208</td><td>  0.01847128</td><td>311.00000000</td><td>  0.98867464</td><td>  0.32359092</td></tr>\n",
       "\t<tr><th scope=row>Info.typeValue</th><td>5.329173e-03</td><td>1.853531e-02</td><td>3.110000e+02</td><td>2.875147e-01</td><td>7.739097e-01</td></tr>\n",
       "\t<tr><th scope=row>Roi.SearchSearchlight Peak</th><td>  0.03941565</td><td>  0.02371341</td><td>311.00000000</td><td>  1.66216677</td><td>  0.09748688</td></tr>\n",
       "\t<tr><th scope=row>Pattern.typeMulti-Trial Single-Time Point</th><td>-0.04027059</td><td> 0.03400720</td><td>55.00000000</td><td>-1.18417855</td><td> 0.24143482</td></tr>\n",
       "\t<tr><th scope=row>Pattern.typeSingle Trial Multi-Time Point</th><td>-0.02840993</td><td> 0.02790595</td><td>55.00000000</td><td>-1.01805987</td><td> 0.31310704</td></tr>\n",
       "\t<tr><th scope=row>Pattern.typeSingle Trial Single-Time Point</th><td>-0.01655254</td><td> 0.02827419</td><td>55.00000000</td><td>-0.58542937</td><td> 0.56065353</td></tr>\n",
       "\t<tr><th scope=row>Classifier.typeGNB</th><td>-0.11381185</td><td> 0.07836415</td><td>55.00000000</td><td>-1.45234572</td><td> 0.15208682</td></tr>\n",
       "\t<tr><th scope=row>Classifier.typeLDA</th><td>-0.11394740</td><td> 0.09268999</td><td>55.00000000</td><td>-1.22933874</td><td> 0.22417822</td></tr>\n",
       "\t<tr><th scope=row>Classifier.typeLogReg</th><td>-0.12351371</td><td> 0.07194372</td><td>55.00000000</td><td>-1.71681011</td><td> 0.09164119</td></tr>\n",
       "\t<tr><th scope=row>Classifier.typesvm-lin</th><td>-0.12253659</td><td> 0.06754610</td><td>55.00000000</td><td>-1.81411791</td><td> 0.07511561</td></tr>\n",
       "\t<tr><th scope=row>Classifier.typesvm-nonlin</th><td>5.607000e-05</td><td>7.542960e-02</td><td>5.500000e+01</td><td>7.433421e-04</td><td>9.994096e-01</td></tr>\n",
       "\t<tr><th scope=row>Scanner7T</th><td>  0.01918923</td><td>  0.03474954</td><td>311.00000000</td><td>  0.55221536</td><td>  0.58119743</td></tr>\n",
       "\t<tr><th scope=row>Smoothingunsmooth</th><td>-0.01273797</td><td> 0.02259571</td><td>55.00000000</td><td>-0.56373398</td><td> 0.57522666</td></tr>\n",
       "\t<tr><th scope=row>CoregistrationNative Space</th><td> 0.01687011</td><td> 0.01928800</td><td>55.00000000</td><td> 0.87464276</td><td> 0.38557176</td></tr>\n",
       "\t<tr><th scope=row>Pattern.normalization.typeNormalized Spatially</th><td> 0.04384406</td><td> 0.03810186</td><td>55.00000000</td><td> 1.15070648</td><td> 0.25483140</td></tr>\n",
       "\t<tr><th scope=row>Pattern.normalization.typeNormalized Temporally</th><td>  0.02569929</td><td>  0.02397178</td><td>311.00000000</td><td>  1.07206414</td><td>  0.28452242</td></tr>\n",
       "\t<tr><th scope=row>Num_subs</th><td>-0.0006190508</td><td> 0.0008521669</td><td>55.0000000000</td><td>-0.7264430799</td><td> 0.4706476420</td></tr>\n",
       "</tbody>\n",
       "</table>\n"
      ],
      "text/latex": [
       "\\begin{tabular}{r|lllll}\n",
       "  & Value & Std.Error & DF & t-value & p-value\\\\\n",
       "\\hline\n",
       "\t(Intercept) & 6.573844e-01 & 9.315416e-02 & 3.110000e+02 & 7.056952e+00 & 1.112099e-11\\\\\n",
       "\tFrontal_Sup_L &   0.06908056 &   0.06339743 & 311.00000000 &   1.08964285 &   0.27671408\\\\\n",
       "\tFrontal_Sup_R &   0.05819155 &   0.06276443 & 311.00000000 &   0.92714210 &   0.35457170\\\\\n",
       "\tFrontal_Sup_Orb_L &   0.05839348 &   0.07271802 & 311.00000000 &   0.80301251 &   0.42258076\\\\\n",
       "\tFrontal_Sup_Orb_R & 8.344512e-03 & 7.984323e-02 & 3.110000e+02 & 1.045112e-01 & 9.168310e-01\\\\\n",
       "\tFrontal_Mid_L &   0.05034512 &   0.06172179 & 311.00000000 &   0.81567817 &   0.41530849\\\\\n",
       "\tFrontal_Mid_R &   0.02806031 &   0.06214906 & 311.00000000 &   0.45150018 &   0.65194378\\\\\n",
       "\tFrontal_Mid_Orb_L &   0.03083601 &   0.06696469 & 311.00000000 &   0.46048161 &   0.64549238\\\\\n",
       "\tFrontal_Mid_Orb_R &   0.01529132 &   0.07113553 & 311.00000000 &   0.21496036 &   0.82993911\\\\\n",
       "\tFrontal_Inf_Oper_L &   0.06449750 &   0.06961335 & 311.00000000 &   0.92651048 &   0.35489917\\\\\n",
       "\tFrontal_Inf_Oper_R &   0.02998447 &   0.06516742 & 311.00000000 &   0.46011445 &   0.64575559\\\\\n",
       "\tFrontal_Inf_Tri_L &   0.07396693 &   0.06379485 & 311.00000000 &   1.15944989 &   0.24716226\\\\\n",
       "\tFrontal_Inf_Tri_R &   0.03802197 &   0.06392961 & 311.00000000 &   0.59474735 &   0.55244482\\\\\n",
       "\tFrontal_Inf_Orb_L &   0.04995640 &   0.06369104 & 311.00000000 &   0.78435523 &   0.43342871\\\\\n",
       "\tFrontal_Inf_Orb_R &   0.04776991 &   0.06974673 & 311.00000000 &   0.68490531 &   0.49391380\\\\\n",
       "\tSupp_Motor_Area_L &   0.10332972 &   0.06300906 & 311.00000000 &   1.63991838 &   0.10203318\\\\\n",
       "\tSupp_Motor_Area_R &   0.09131362 &   0.06426130 & 311.00000000 &   1.42097383 &   0.15632623\\\\\n",
       "\tFrontal_Sup_Medial_L &   0.04097245 &   0.06376629 & 311.00000000 &   0.64254102 &   0.52099536\\\\\n",
       "\tFrontal_Sup_Medial_R &   0.05153987 &   0.06606828 & 311.00000000 &   0.78009998 &   0.43592533\\\\\n",
       "\tInsula_L &   0.04724893 &   0.07455848 & 311.00000000 &   0.63371637 &   0.52673173\\\\\n",
       "\tInsula_R &  0.04776763 &  0.10124085 & 55.00000000 &  0.47182175 &  0.63892055\\\\\n",
       "\tCingulum_Ant_L &   0.03265811 &   0.08565544 & 311.00000000 &   0.38127302 &   0.70326101\\\\\n",
       "\tCingulum_Ant_R &   0.05273160 &   0.06708139 & 311.00000000 &   0.78608392 &   0.43241684\\\\\n",
       "\tCingulum_Mid_L &   0.05886377 &   0.06392573 & 311.00000000 &   0.92081498 &   0.35786074\\\\\n",
       "\tPrecentral_L &   0.07134458 &   0.06170597 & 311.00000000 &   1.15620224 &   0.24848584\\\\\n",
       "\tPrecentral_R &   0.04588899 &   0.06262970 & 311.00000000 &   0.73270331 &   0.46429127\\\\\n",
       "\tFrontal_Inf_Tri_L.Frontal_Inf_Tri_R &   0.03329371 &   0.06463552 & 311.00000000 &   0.51509937 &   0.60684950\\\\\n",
       "\tInsula_L.Insula_R &   0.02568551 &   0.06298113 & 311.00000000 &   0.40782861 &   0.68368011\\\\\n",
       "\tFrontal_Sup_Medial_L.Frontal_Sup_Medial_R &   0.04671135 &   0.06391849 & 311.00000000 &   0.73079551 &   0.46545426\\\\\n",
       "\tFrontal_Mid_L.Frontal_Mid_R &   0.04968294 &   0.06148127 & 311.00000000 &   0.80809874 &   0.41965142\\\\\n",
       "\tPrecentral_L.Precentral_R &   0.08693163 &   0.06227635 & 311.00000000 &   1.39590125 &   0.16373992\\\\\n",
       "\tSupp_Motor_Area_L.Supp_Motor_Area_R &   0.05304736 &   0.06409463 & 311.00000000 &   0.82764115 &   0.40850838\\\\\n",
       "\tFrontal_Sup_L.Frontal_Sup_R &   0.04983621 &   0.06592139 & 311.00000000 &   0.75599457 &   0.45022468\\\\\n",
       "\tFrontal_Mid_R.Frontal_Inf_Tri_R & 9.209605e-03 & 8.843110e-02 & 3.110000e+02 & 1.041444e-01 & 9.171219e-01\\\\\n",
       "\tFrontal_Inf_Oper_L.Frontal_Inf_Oper_R &   0.02023178 &   0.07058714 & 311.00000000 &   0.28662130 &   0.77459315\\\\\n",
       "\tFrontal_Inf_Orb_L.Frontal_Inf_Orb_R & 4.525421e-03 & 8.394082e-02 & 3.110000e+02 & 5.391204e-02 & 9.570399e-01\\\\\n",
       "\tCingulum_Mid_L.Cingulum_Mid_R &   0.05252542 &   0.08394082 & 311.00000000 &   0.62574346 &   0.53194215\\\\\n",
       "\tCingulum_Ant_L.Cingulum_Ant_R &   0.08121823 &   0.06354927 & 311.00000000 &   1.27803561 &   0.20218993\\\\\n",
       "\tInfo.typeResponse & 4.758174e-03 & 2.210203e-02 & 3.110000e+02 & 2.152822e-01 & 8.296884e-01\\\\\n",
       "\tInfo.typeRule &   0.01826208 &   0.01847128 & 311.00000000 &   0.98867464 &   0.32359092\\\\\n",
       "\tInfo.typeValue & 5.329173e-03 & 1.853531e-02 & 3.110000e+02 & 2.875147e-01 & 7.739097e-01\\\\\n",
       "\tRoi.SearchSearchlight Peak &   0.03941565 &   0.02371341 & 311.00000000 &   1.66216677 &   0.09748688\\\\\n",
       "\tPattern.typeMulti-Trial Single-Time Point & -0.04027059 &  0.03400720 & 55.00000000 & -1.18417855 &  0.24143482\\\\\n",
       "\tPattern.typeSingle Trial Multi-Time Point & -0.02840993 &  0.02790595 & 55.00000000 & -1.01805987 &  0.31310704\\\\\n",
       "\tPattern.typeSingle Trial Single-Time Point & -0.01655254 &  0.02827419 & 55.00000000 & -0.58542937 &  0.56065353\\\\\n",
       "\tClassifier.typeGNB & -0.11381185 &  0.07836415 & 55.00000000 & -1.45234572 &  0.15208682\\\\\n",
       "\tClassifier.typeLDA & -0.11394740 &  0.09268999 & 55.00000000 & -1.22933874 &  0.22417822\\\\\n",
       "\tClassifier.typeLogReg & -0.12351371 &  0.07194372 & 55.00000000 & -1.71681011 &  0.09164119\\\\\n",
       "\tClassifier.typesvm-lin & -0.12253659 &  0.06754610 & 55.00000000 & -1.81411791 &  0.07511561\\\\\n",
       "\tClassifier.typesvm-nonlin & 5.607000e-05 & 7.542960e-02 & 5.500000e+01 & 7.433421e-04 & 9.994096e-01\\\\\n",
       "\tScanner7T &   0.01918923 &   0.03474954 & 311.00000000 &   0.55221536 &   0.58119743\\\\\n",
       "\tSmoothingunsmooth & -0.01273797 &  0.02259571 & 55.00000000 & -0.56373398 &  0.57522666\\\\\n",
       "\tCoregistrationNative Space &  0.01687011 &  0.01928800 & 55.00000000 &  0.87464276 &  0.38557176\\\\\n",
       "\tPattern.normalization.typeNormalized Spatially &  0.04384406 &  0.03810186 & 55.00000000 &  1.15070648 &  0.25483140\\\\\n",
       "\tPattern.normalization.typeNormalized Temporally &   0.02569929 &   0.02397178 & 311.00000000 &   1.07206414 &   0.28452242\\\\\n",
       "\tNum_subs & -0.0006190508 &  0.0008521669 & 55.0000000000 & -0.7264430799 &  0.4706476420\\\\\n",
       "\\end{tabular}\n"
      ],
      "text/markdown": [
       "1. 0.657384404571578\n",
       "2. 0.0690805555124423\n",
       "3. 0.0581915495738312\n",
       "4. 0.0583934827993327\n",
       "5. 0.00834451247254524\n",
       "6. 0.0503451195973808\n",
       "7. 0.0280603099846607\n",
       "8. 0.030836010353056\n",
       "9. 0.0152913200862818\n",
       "10. 0.0644974960200915\n",
       "11. 0.0299844729449817\n",
       "12. 0.0739669324891797\n",
       "13. 0.0380219676645703\n",
       "14. 0.049956400197484\n",
       "15. 0.0477699077274925\n",
       "16. 0.103329717936586\n",
       "17. 0.0913136191737965\n",
       "18. 0.0409724549026682\n",
       "19. 0.0515398671999879\n",
       "20. 0.0472489283750665\n",
       "21. 0.0477676346884862\n",
       "22. 0.0326581096668986\n",
       "23. 0.0527316006297779\n",
       "24. 0.0588637674130656\n",
       "25. 0.0713445754358397\n",
       "26. 0.0458889862153808\n",
       "27. 0.0332937139887587\n",
       "28. 0.0256855076201101\n",
       "29. 0.0467113475307451\n",
       "30. 0.0496829358910364\n",
       "31. 0.0869316296489969\n",
       "32. 0.0530473564011751\n",
       "33. 0.0498362105603982\n",
       "34. 0.00920960468658941\n",
       "35. 0.0202317769287583\n",
       "36. 0.00452542147254227\n",
       "37. 0.0525254214725428\n",
       "38. 0.0812182349515347\n",
       "39. 0.00475817388357772\n",
       "40. 0.018262081359206\n",
       "41. 0.00532917281464593\n",
       "42. 0.0394156500976528\n",
       "43. -0.0402705945960018\n",
       "44. -0.0284099257985202\n",
       "45. -0.0165525412880304\n",
       "46. -0.113811845006579\n",
       "47. -0.113947400414495\n",
       "48. -0.123513710593533\n",
       "49. -0.122536589441252\n",
       "50. 5.6069998375289e-05\n",
       "51. 0.0191892306175334\n",
       "52. -0.0127379701299655\n",
       "53. 0.0168701061709232\n",
       "54. 0.0438440612585354\n",
       "55. 0.0256992884231675\n",
       "56. -0.000619050777716237\n",
       "57. 0.0931541590499736\n",
       "58. 0.0633974292254983\n",
       "59. 0.0627644345307001\n",
       "60. 0.0727180238658071\n",
       "61. 0.0798432250420136\n",
       "62. 0.0617217936113477\n",
       "63. 0.0621490558799402\n",
       "64. 0.0669646949192736\n",
       "65. 0.0711355340695726\n",
       "66. 0.0696133474599974\n",
       "67. 0.0651674231177296\n",
       "68. 0.0637948507982982\n",
       "69. 0.0639296126685086\n",
       "70. 0.0636910395256106\n",
       "71. 0.0697467332830196\n",
       "72. 0.0630090613017677\n",
       "73. 0.0642612952780411\n",
       "74. 0.0637662869842194\n",
       "75. 0.0660682846190446\n",
       "76. 0.074558478973233\n",
       "77. 0.101240848690868\n",
       "78. 0.0856554445401065\n",
       "79. 0.067081387887966\n",
       "80. 0.0639257275846382\n",
       "81. 0.0617059656787041\n",
       "82. 0.0626296971773701\n",
       "83. 0.064635516547567\n",
       "84. 0.0629811316976564\n",
       "85. 0.0639184929824474\n",
       "86. 0.0614812686771984\n",
       "87. 0.062276346270515\n",
       "88. 0.0640946340004744\n",
       "89. 0.0659213868863414\n",
       "90. 0.088431102335363\n",
       "91. 0.070587137294129\n",
       "92. 0.0839408241062087\n",
       "93. 0.0839408241062083\n",
       "94. 0.0635492736773997\n",
       "95. 0.0221020279511755\n",
       "96. 0.0184712752375811\n",
       "97. 0.0185353064952625\n",
       "98. 0.0237134147876258\n",
       "99. 0.0340071982168807\n",
       "100. 0.0279059479273415\n",
       "101. 0.0282741900160415\n",
       "102. 0.0783641547413656\n",
       "103. 0.0926899936765069\n",
       "104. 0.071943722850761\n",
       "105. 0.0675460997097101\n",
       "106. 0.0754296041247354\n",
       "107. 0.0347495415807976\n",
       "108. 0.0225957110507436\n",
       "109. 0.0192879962085088\n",
       "110. 0.0381018635374397\n",
       "111. 0.0239717825330679\n",
       "112. 0.000852166941703559\n",
       "113. 311\n",
       "114. 311\n",
       "115. 311\n",
       "116. 311\n",
       "117. 311\n",
       "118. 311\n",
       "119. 311\n",
       "120. 311\n",
       "121. 311\n",
       "122. 311\n",
       "123. 311\n",
       "124. 311\n",
       "125. 311\n",
       "126. 311\n",
       "127. 311\n",
       "128. 311\n",
       "129. 311\n",
       "130. 311\n",
       "131. 311\n",
       "132. 311\n",
       "133. 55\n",
       "134. 311\n",
       "135. 311\n",
       "136. 311\n",
       "137. 311\n",
       "138. 311\n",
       "139. 311\n",
       "140. 311\n",
       "141. 311\n",
       "142. 311\n",
       "143. 311\n",
       "144. 311\n",
       "145. 311\n",
       "146. 311\n",
       "147. 311\n",
       "148. 311\n",
       "149. 311\n",
       "150. 311\n",
       "151. 311\n",
       "152. 311\n",
       "153. 311\n",
       "154. 311\n",
       "155. 55\n",
       "156. 55\n",
       "157. 55\n",
       "158. 55\n",
       "159. 55\n",
       "160. 55\n",
       "161. 55\n",
       "162. 55\n",
       "163. 311\n",
       "164. 55\n",
       "165. 55\n",
       "166. 55\n",
       "167. 311\n",
       "168. 55\n",
       "169. 7.05695173759141\n",
       "170. 1.08964285076497\n",
       "171. 0.927142099007805\n",
       "172. 0.803012509073284\n",
       "173. 0.104511215173915\n",
       "174. 0.815678168952703\n",
       "175. 0.451500181094749\n",
       "176. 0.460481607363836\n",
       "177. 0.21496036103878\n",
       "178. 0.926510480725759\n",
       "179. 0.460114448453987\n",
       "180. 1.15944988605809\n",
       "181. 0.594747349115409\n",
       "182. 0.784355233790716\n",
       "183. 0.684905306369703\n",
       "184. 1.63991838319431\n",
       "185. 1.42097383469641\n",
       "186. 0.64254101721193\n",
       "187. 0.780099975308443\n",
       "188. 0.633716366344184\n",
       "189. 0.471821752841496\n",
       "190. 0.381273015886422\n",
       "191. 0.786083924170532\n",
       "192. 0.920814977586754\n",
       "193. 1.15620223508571\n",
       "194. 0.732703306634569\n",
       "195. 0.515099372096098\n",
       "196. 0.407828613550713\n",
       "197. 0.730795507703419\n",
       "198. 0.80809874226721\n",
       "199. 1.39590125071539\n",
       "200. 0.827641147007447\n",
       "201. 0.75599457041648\n",
       "202. 0.104144406700521\n",
       "203. 0.286621298218324\n",
       "204. 0.0539120448331118\n",
       "205. 0.625743457153621\n",
       "206. 1.2780356131815\n",
       "207. 0.215282230847268\n",
       "208. 0.988674638015817\n",
       "209. 0.287514685338924\n",
       "210. 1.66216677145211\n",
       "211. -1.18417854770559\n",
       "212. -1.01805987284471\n",
       "213. -0.585429371403361\n",
       "214. -1.45234572340129\n",
       "215. -1.2293387440739\n",
       "216. -1.71681010794713\n",
       "217. -1.81411791306784\n",
       "218. 0.000743342074055803\n",
       "219. 0.552215360105274\n",
       "220. -0.563733980371744\n",
       "221. 0.874642756487121\n",
       "222. 1.15070647963067\n",
       "223. 1.07206413989934\n",
       "224. -0.72644307989547\n",
       "225. 1.11209907052386e-11\n",
       "226. 0.276714078841124\n",
       "227. 0.354571703965094\n",
       "228. 0.422580764649538\n",
       "229. 0.91683103635335\n",
       "230. 0.415308488116423\n",
       "231. 0.651943780345921\n",
       "232. 0.645492377917263\n",
       "233. 0.829939113649325\n",
       "234. 0.354899174953111\n",
       "235. 0.645755589432986\n",
       "236. 0.247162255102724\n",
       "237. 0.552444815244125\n",
       "238. 0.433428707151141\n",
       "239. 0.493913802122602\n",
       "240. 0.102033180091692\n",
       "241. 0.156326231565865\n",
       "242. 0.520995355567417\n",
       "243. 0.435925327110142\n",
       "244. 0.526731726288538\n",
       "245. 0.638920546146247\n",
       "246. 0.703261012430723\n",
       "247. 0.432416838402838\n",
       "248. 0.357860744581025\n",
       "249. 0.248485843029083\n",
       "250. 0.464291267608596\n",
       "251. 0.60684949531682\n",
       "252. 0.683680112343106\n",
       "253. 0.465454260078189\n",
       "254. 0.4196514226057\n",
       "255. 0.163739920941719\n",
       "256. 0.408508377127405\n",
       "257. 0.450224684806903\n",
       "258. 0.917121879781924\n",
       "259. 0.774593154120799\n",
       "260. 0.957039854821947\n",
       "261. 0.531942153850213\n",
       "262. 0.2021899325276\n",
       "263. 0.829688392673996\n",
       "264. 0.32359092164255\n",
       "265. 0.773909744974442\n",
       "266. 0.0974868780488284\n",
       "267. 0.241434818364123\n",
       "268. 0.313107039667727\n",
       "269. 0.560653528579745\n",
       "270. 0.152086815082248\n",
       "271. 0.224178224540323\n",
       "272. 0.0916411921159193\n",
       "273. 0.0751156136427163\n",
       "274. 0.999409588539852\n",
       "275. 0.5811974317426\n",
       "276. 0.575226657903643\n",
       "277. 0.385571756544965\n",
       "278. 0.254831401975747\n",
       "279. 0.284522424663184\n",
       "280. 0.470647641981017\n",
       "\n",
       "\n"
      ],
      "text/plain": [
       "                                                        Value    Std.Error  DF\n",
       "(Intercept)                                      0.6573844046 0.0931541590 311\n",
       "Frontal_Sup_L                                    0.0690805555 0.0633974292 311\n",
       "Frontal_Sup_R                                    0.0581915496 0.0627644345 311\n",
       "Frontal_Sup_Orb_L                                0.0583934828 0.0727180239 311\n",
       "Frontal_Sup_Orb_R                                0.0083445125 0.0798432250 311\n",
       "Frontal_Mid_L                                    0.0503451196 0.0617217936 311\n",
       "Frontal_Mid_R                                    0.0280603100 0.0621490559 311\n",
       "Frontal_Mid_Orb_L                                0.0308360104 0.0669646949 311\n",
       "Frontal_Mid_Orb_R                                0.0152913201 0.0711355341 311\n",
       "Frontal_Inf_Oper_L                               0.0644974960 0.0696133475 311\n",
       "Frontal_Inf_Oper_R                               0.0299844729 0.0651674231 311\n",
       "Frontal_Inf_Tri_L                                0.0739669325 0.0637948508 311\n",
       "Frontal_Inf_Tri_R                                0.0380219677 0.0639296127 311\n",
       "Frontal_Inf_Orb_L                                0.0499564002 0.0636910395 311\n",
       "Frontal_Inf_Orb_R                                0.0477699077 0.0697467333 311\n",
       "Supp_Motor_Area_L                                0.1033297179 0.0630090613 311\n",
       "Supp_Motor_Area_R                                0.0913136192 0.0642612953 311\n",
       "Frontal_Sup_Medial_L                             0.0409724549 0.0637662870 311\n",
       "Frontal_Sup_Medial_R                             0.0515398672 0.0660682846 311\n",
       "Insula_L                                         0.0472489284 0.0745584790 311\n",
       "Insula_R                                         0.0477676347 0.1012408487  55\n",
       "Cingulum_Ant_L                                   0.0326581097 0.0856554445 311\n",
       "Cingulum_Ant_R                                   0.0527316006 0.0670813879 311\n",
       "Cingulum_Mid_L                                   0.0588637674 0.0639257276 311\n",
       "Precentral_L                                     0.0713445754 0.0617059657 311\n",
       "Precentral_R                                     0.0458889862 0.0626296972 311\n",
       "Frontal_Inf_Tri_L.Frontal_Inf_Tri_R              0.0332937140 0.0646355165 311\n",
       "Insula_L.Insula_R                                0.0256855076 0.0629811317 311\n",
       "Frontal_Sup_Medial_L.Frontal_Sup_Medial_R        0.0467113475 0.0639184930 311\n",
       "Frontal_Mid_L.Frontal_Mid_R                      0.0496829359 0.0614812687 311\n",
       "Precentral_L.Precentral_R                        0.0869316296 0.0622763463 311\n",
       "Supp_Motor_Area_L.Supp_Motor_Area_R              0.0530473564 0.0640946340 311\n",
       "Frontal_Sup_L.Frontal_Sup_R                      0.0498362106 0.0659213869 311\n",
       "Frontal_Mid_R.Frontal_Inf_Tri_R                  0.0092096047 0.0884311023 311\n",
       "Frontal_Inf_Oper_L.Frontal_Inf_Oper_R            0.0202317769 0.0705871373 311\n",
       "Frontal_Inf_Orb_L.Frontal_Inf_Orb_R              0.0045254215 0.0839408241 311\n",
       "Cingulum_Mid_L.Cingulum_Mid_R                    0.0525254215 0.0839408241 311\n",
       "Cingulum_Ant_L.Cingulum_Ant_R                    0.0812182350 0.0635492737 311\n",
       "Info.typeResponse                                0.0047581739 0.0221020280 311\n",
       "Info.typeRule                                    0.0182620814 0.0184712752 311\n",
       "Info.typeValue                                   0.0053291728 0.0185353065 311\n",
       "Roi.SearchSearchlight Peak                       0.0394156501 0.0237134148 311\n",
       "Pattern.typeMulti-Trial Single-Time Point       -0.0402705946 0.0340071982  55\n",
       "Pattern.typeSingle Trial Multi-Time Point       -0.0284099258 0.0279059479  55\n",
       "Pattern.typeSingle Trial Single-Time Point      -0.0165525413 0.0282741900  55\n",
       "Classifier.typeGNB                              -0.1138118450 0.0783641547  55\n",
       "Classifier.typeLDA                              -0.1139474004 0.0926899937  55\n",
       "Classifier.typeLogReg                           -0.1235137106 0.0719437229  55\n",
       "Classifier.typesvm-lin                          -0.1225365894 0.0675460997  55\n",
       "Classifier.typesvm-nonlin                        0.0000560700 0.0754296041  55\n",
       "Scanner7T                                        0.0191892306 0.0347495416 311\n",
       "Smoothingunsmooth                               -0.0127379701 0.0225957111  55\n",
       "CoregistrationNative Space                       0.0168701062 0.0192879962  55\n",
       "Pattern.normalization.typeNormalized Spatially   0.0438440613 0.0381018635  55\n",
       "Pattern.normalization.typeNormalized Temporally  0.0256992884 0.0239717825 311\n",
       "Num_subs                                        -0.0006190508 0.0008521669  55\n",
       "                                                      t-value      p-value\n",
       "(Intercept)                                      7.0569517376 1.112099e-11\n",
       "Frontal_Sup_L                                    1.0896428508 2.767141e-01\n",
       "Frontal_Sup_R                                    0.9271420990 3.545717e-01\n",
       "Frontal_Sup_Orb_L                                0.8030125091 4.225808e-01\n",
       "Frontal_Sup_Orb_R                                0.1045112152 9.168310e-01\n",
       "Frontal_Mid_L                                    0.8156781690 4.153085e-01\n",
       "Frontal_Mid_R                                    0.4515001811 6.519438e-01\n",
       "Frontal_Mid_Orb_L                                0.4604816074 6.454924e-01\n",
       "Frontal_Mid_Orb_R                                0.2149603610 8.299391e-01\n",
       "Frontal_Inf_Oper_L                               0.9265104807 3.548992e-01\n",
       "Frontal_Inf_Oper_R                               0.4601144485 6.457556e-01\n",
       "Frontal_Inf_Tri_L                                1.1594498861 2.471623e-01\n",
       "Frontal_Inf_Tri_R                                0.5947473491 5.524448e-01\n",
       "Frontal_Inf_Orb_L                                0.7843552338 4.334287e-01\n",
       "Frontal_Inf_Orb_R                                0.6849053064 4.939138e-01\n",
       "Supp_Motor_Area_L                                1.6399183832 1.020332e-01\n",
       "Supp_Motor_Area_R                                1.4209738347 1.563262e-01\n",
       "Frontal_Sup_Medial_L                             0.6425410172 5.209954e-01\n",
       "Frontal_Sup_Medial_R                             0.7800999753 4.359253e-01\n",
       "Insula_L                                         0.6337163663 5.267317e-01\n",
       "Insula_R                                         0.4718217528 6.389205e-01\n",
       "Cingulum_Ant_L                                   0.3812730159 7.032610e-01\n",
       "Cingulum_Ant_R                                   0.7860839242 4.324168e-01\n",
       "Cingulum_Mid_L                                   0.9208149776 3.578607e-01\n",
       "Precentral_L                                     1.1562022351 2.484858e-01\n",
       "Precentral_R                                     0.7327033066 4.642913e-01\n",
       "Frontal_Inf_Tri_L.Frontal_Inf_Tri_R              0.5150993721 6.068495e-01\n",
       "Insula_L.Insula_R                                0.4078286136 6.836801e-01\n",
       "Frontal_Sup_Medial_L.Frontal_Sup_Medial_R        0.7307955077 4.654543e-01\n",
       "Frontal_Mid_L.Frontal_Mid_R                      0.8080987423 4.196514e-01\n",
       "Precentral_L.Precentral_R                        1.3959012507 1.637399e-01\n",
       "Supp_Motor_Area_L.Supp_Motor_Area_R              0.8276411470 4.085084e-01\n",
       "Frontal_Sup_L.Frontal_Sup_R                      0.7559945704 4.502247e-01\n",
       "Frontal_Mid_R.Frontal_Inf_Tri_R                  0.1041444067 9.171219e-01\n",
       "Frontal_Inf_Oper_L.Frontal_Inf_Oper_R            0.2866212982 7.745932e-01\n",
       "Frontal_Inf_Orb_L.Frontal_Inf_Orb_R              0.0539120448 9.570399e-01\n",
       "Cingulum_Mid_L.Cingulum_Mid_R                    0.6257434572 5.319422e-01\n",
       "Cingulum_Ant_L.Cingulum_Ant_R                    1.2780356132 2.021899e-01\n",
       "Info.typeResponse                                0.2152822308 8.296884e-01\n",
       "Info.typeRule                                    0.9886746380 3.235909e-01\n",
       "Info.typeValue                                   0.2875146853 7.739097e-01\n",
       "Roi.SearchSearchlight Peak                       1.6621667715 9.748688e-02\n",
       "Pattern.typeMulti-Trial Single-Time Point       -1.1841785477 2.414348e-01\n",
       "Pattern.typeSingle Trial Multi-Time Point       -1.0180598728 3.131070e-01\n",
       "Pattern.typeSingle Trial Single-Time Point      -0.5854293714 5.606535e-01\n",
       "Classifier.typeGNB                              -1.4523457234 1.520868e-01\n",
       "Classifier.typeLDA                              -1.2293387441 2.241782e-01\n",
       "Classifier.typeLogReg                           -1.7168101079 9.164119e-02\n",
       "Classifier.typesvm-lin                          -1.8141179131 7.511561e-02\n",
       "Classifier.typesvm-nonlin                        0.0007433421 9.994096e-01\n",
       "Scanner7T                                        0.5522153601 5.811974e-01\n",
       "Smoothingunsmooth                               -0.5637339804 5.752267e-01\n",
       "CoregistrationNative Space                       0.8746427565 3.855718e-01\n",
       "Pattern.normalization.typeNormalized Spatially   1.1507064796 2.548314e-01\n",
       "Pattern.normalization.typeNormalized Temporally  1.0720641399 2.845224e-01\n",
       "Num_subs                                        -0.7264430799 4.706476e-01"
      ]
     },
     "execution_count": 95,
     "metadata": {},
     "output_type": "execute_result"
    }
   ],
   "source": [
    "full_model<-lme(as.formula(paste('Accuracy.50~',R1names_string,sep='')),random=~1|PID,data=d,method='REML')\n",
    "summary(full_model)$tTable"
   ]
  },
  {
   "cell_type": "code",
   "execution_count": 96,
   "metadata": {
    "collapsed": false,
    "scrolled": true
   },
   "outputs": [],
   "source": [
    "#summary(full_model)"
   ]
  },
  {
   "cell_type": "code",
   "execution_count": 97,
   "metadata": {
    "collapsed": false
   },
   "outputs": [],
   "source": [
    "#library(lsmeans)\n",
    "#install.packages('lsmeans', repos='http://cran.rstudio.com/',dependencies = TRUE)"
   ]
  },
  {
   "cell_type": "code",
   "execution_count": 98,
   "metadata": {
    "collapsed": false
   },
   "outputs": [],
   "source": [
    "library(lsmeans)"
   ]
  },
  {
   "cell_type": "markdown",
   "metadata": {},
   "source": [
    "# Post-hoc Comparison of Coefficients "
   ]
  },
  {
   "cell_type": "code",
   "execution_count": 99,
   "metadata": {
    "collapsed": false
   },
   "outputs": [
    {
     "ename": "ERROR",
     "evalue": "Error in vapply(seq_along(mapped), function(i) {: values must be length 1,\n but FUN(X[[1]]) result is length 0\n",
     "output_type": "error",
     "traceback": [
      "Error in vapply(seq_along(mapped), function(i) {: values must be length 1,\n but FUN(X[[1]]) result is length 0\n"
     ]
    },
    {
     "data": {
      "text/plain": [
       "$lsmeans\n",
       " Info.type     lsmean         SE df  lower.CL  upper.CL\n",
       " Perceptual 0.6583459 0.02818423 55 0.6018635 0.7148284\n",
       " Response   0.6631041 0.03376375 55 0.5954400 0.7307682\n",
       " Rule       0.6766080 0.03025292 55 0.6159798 0.7372362\n",
       " Value      0.6636751 0.03209942 55 0.5993464 0.7280038\n",
       "\n",
       "Results are averaged over the levels of: Roi.Search, Pattern.type, Classifier.type, Scanner, Smoothing, Coregistration, Pattern.normalization.type \n",
       "Results are given on the + (not the response) scale. \n",
       "Confidence level used: 0.95 \n",
       "\n",
       "$contrasts\n",
       " contrast                   estimate         SE  df t.ratio p.value\n",
       " Perceptual - Response -0.0047581739 0.02210203 311  -0.215  0.9965\n",
       " Perceptual - Rule     -0.0182620814 0.01847128 311  -0.989  0.7560\n",
       " Perceptual - Value    -0.0053291728 0.01853531 311  -0.288  0.9917\n",
       " Response - Rule       -0.0135039075 0.02111990 311  -0.639  0.9192\n",
       " Response - Value      -0.0005709989 0.02564536 311  -0.022  1.0000\n",
       " Rule - Value           0.0129329085 0.02334620 311   0.554  0.9454\n",
       "\n",
       "Results are averaged over the levels of: Roi.Search, Pattern.type, Classifier.type, Scanner, Smoothing, Coregistration, Pattern.normalization.type \n",
       "P value adjustment: tukey method for comparing a family of 4 estimates \n"
      ]
     },
     "execution_count": 99,
     "metadata": {},
     "output_type": "execute_result"
    }
   ],
   "source": [
    "lsmeans(full_model,pairwise~Info.type,adjust='Tukey')"
   ]
  },
  {
   "cell_type": "code",
   "execution_count": 100,
   "metadata": {
    "collapsed": false
   },
   "outputs": [
    {
     "ename": "ERROR",
     "evalue": "Error in vapply(seq_along(mapped), function(i) {: values must be length 1,\n but FUN(X[[1]]) result is length 0\n",
     "output_type": "error",
     "traceback": [
      "Error in vapply(seq_along(mapped), function(i) {: values must be length 1,\n but FUN(X[[1]]) result is length 0\n"
     ]
    },
    {
     "data": {
      "text/plain": [
       "$lsmeans\n",
       " Classifier.type    lsmean         SE df  lower.CL  upper.CL\n",
       " correlation     0.7443922 0.07326062 55 0.5975746 0.8912098\n",
       " GNB             0.6305804 0.04162617 55 0.5471596 0.7140011\n",
       " LDA             0.6304448 0.06555860 55 0.4990624 0.7618272\n",
       " LogReg          0.6208785 0.03456843 55 0.5516018 0.6901552\n",
       " svm-lin         0.6218556 0.02356405 55 0.5746322 0.6690790\n",
       " svm-nonlin      0.7444483 0.03934754 55 0.6655941 0.8233025\n",
       "\n",
       "Results are averaged over the levels of: Info.type, Roi.Search, Pattern.type, Scanner, Smoothing, Coregistration, Pattern.normalization.type \n",
       "Results are given on the + (not the response) scale. \n",
       "Confidence level used: 0.95 \n",
       "\n",
       "$contrasts\n",
       " contrast                      estimate         SE df t.ratio p.value\n",
       " correlation - GNB         0.1138118450 0.07836415 55   1.452  0.6952\n",
       " correlation - LDA         0.1139474004 0.09268999 55   1.229  0.8206\n",
       " correlation - LogReg      0.1235137106 0.07194372 55   1.717  0.5269\n",
       " correlation - svm-lin     0.1225365894 0.06754610 55   1.814  0.4654\n",
       " correlation - svm-nonlin -0.0000560700 0.07542960 55  -0.001  1.0000\n",
       " GNB - LDA                 0.0001355554 0.07101733 55   0.002  1.0000\n",
       " GNB - LogReg              0.0097018656 0.04731260 55   0.205  0.9999\n",
       " GNB - svm-lin             0.0087247444 0.04094082 55   0.213  0.9999\n",
       " GNB - svm-nonlin         -0.1138679150 0.05336106 55  -2.134  0.2856\n",
       " LDA - LogReg              0.0095663102 0.06541993 55   0.146  1.0000\n",
       " LDA - svm-lin             0.0085891890 0.05982772 55   0.144  1.0000\n",
       " LDA - svm-nonlin         -0.1140034704 0.07227788 55  -1.577  0.6166\n",
       " LogReg - svm-lin         -0.0009771212 0.03005433 55  -0.033  1.0000\n",
       " LogReg - svm-nonlin      -0.1235697806 0.04755196 55  -2.599  0.1149\n",
       " svm-lin - svm-nonlin     -0.1225926594 0.03733596 55  -3.284  0.0210\n",
       "\n",
       "Results are averaged over the levels of: Info.type, Roi.Search, Pattern.type, Scanner, Smoothing, Coregistration, Pattern.normalization.type \n",
       "P value adjustment: tukey method for comparing a family of 6 estimates \n"
      ]
     },
     "execution_count": 100,
     "metadata": {},
     "output_type": "execute_result"
    }
   ],
   "source": [
    "lsmeans(full_model,pairwise~Classifier.type,adjust='Tukey')"
   ]
  },
  {
   "cell_type": "code",
   "execution_count": 101,
   "metadata": {
    "collapsed": false
   },
   "outputs": [],
   "source": [
    "#lsmeans(full_model,pairwise~,adjust=\"tukey\")"
   ]
  },
  {
   "cell_type": "code",
   "execution_count": 102,
   "metadata": {
    "collapsed": false
   },
   "outputs": [],
   "source": [
    "library(multcomp)"
   ]
  },
  {
   "cell_type": "code",
   "execution_count": 103,
   "metadata": {
    "collapsed": false
   },
   "outputs": [
    {
     "data": {
      "text/plain": [
       "\n",
       "\t Simultaneous Tests for General Linear Hypotheses\n",
       "\n",
       "Multiple Comparisons of Means: Tukey Contrasts\n",
       "\n",
       "\n",
       "Fit: lme.formula(fixed = as.formula(paste(\"Accuracy.50~\", R1names_string, \n",
       "    sep = \"\")), data = d, random = ~1 | PID, method = \"REML\")\n",
       "\n",
       "Linear Hypotheses:\n",
       "                            Estimate Std. Error z value Pr(>|z|)\n",
       "Response - Perceptual == 0  0.004758   0.022102   0.215    0.996\n",
       "Rule - Perceptual == 0      0.018262   0.018471   0.989    0.750\n",
       "Value - Perceptual == 0     0.005329   0.018535   0.288    0.991\n",
       "Rule - Response == 0        0.013504   0.021120   0.639    0.917\n",
       "Value - Response == 0       0.000571   0.025645   0.022    1.000\n",
       "Value - Rule == 0          -0.012933   0.023346  -0.554    0.944\n",
       "(Adjusted p values reported -- single-step method)\n"
      ]
     },
     "execution_count": 103,
     "metadata": {},
     "output_type": "execute_result"
    }
   ],
   "source": [
    "g<-glht(full_model, linfct = mcp(Info.type=\"Tukey\"))\n",
    "s<-summary(g)\n",
    "s"
   ]
  },
  {
   "cell_type": "code",
   "execution_count": 104,
   "metadata": {
    "collapsed": false
   },
   "outputs": [
    {
     "data": {
      "text/plain": [
       "\n",
       "\t Simultaneous Tests for General Linear Hypotheses\n",
       "\n",
       "Multiple Comparisons of Means: Tukey Contrasts\n",
       "\n",
       "\n",
       "Fit: lme.formula(fixed = as.formula(paste(\"Accuracy.50~\", R1names_string, \n",
       "    sep = \"\")), data = d, random = ~1 | PID, method = \"REML\")\n",
       "\n",
       "Linear Hypotheses:\n",
       "                                Estimate Std. Error z value Pr(>|z|)  \n",
       "GNB - correlation == 0        -1.138e-01  7.836e-02  -1.452   0.6596  \n",
       "LDA - correlation == 0        -1.139e-01  9.269e-02  -1.229   0.7965  \n",
       "LogReg - correlation == 0     -1.235e-01  7.194e-02  -1.717   0.4816  \n",
       "svm-lin - correlation == 0    -1.225e-01  6.755e-02  -1.814   0.4184  \n",
       "svm-nonlin - correlation == 0  5.607e-05  7.543e-02   0.001   1.0000  \n",
       "LDA - GNB == 0                -1.356e-04  7.102e-02  -0.002   1.0000  \n",
       "LogReg - GNB == 0             -9.702e-03  4.731e-02  -0.205   0.9999  \n",
       "svm-lin - GNB == 0            -8.725e-03  4.094e-02  -0.213   0.9999  \n",
       "svm-nonlin - GNB == 0          1.139e-01  5.336e-02   2.134   0.2403  \n",
       "LogReg - LDA == 0             -9.566e-03  6.542e-02  -0.146   1.0000  \n",
       "svm-lin - LDA == 0            -8.589e-03  5.983e-02  -0.144   1.0000  \n",
       "svm-nonlin - LDA == 0          1.140e-01  7.228e-02   1.577   0.5755  \n",
       "svm-lin - LogReg == 0          9.771e-04  3.005e-02   0.033   1.0000  \n",
       "svm-nonlin - LogReg == 0       1.236e-01  4.755e-02   2.599   0.0842 .\n",
       "svm-nonlin - svm-lin == 0      1.226e-01  3.734e-02   3.284   0.0112 *\n",
       "---\n",
       "Signif. codes:  0 ‘***’ 0.001 ‘**’ 0.01 ‘*’ 0.05 ‘.’ 0.1 ‘ ’ 1\n",
       "(Adjusted p values reported -- single-step method)\n"
      ]
     },
     "execution_count": 104,
     "metadata": {},
     "output_type": "execute_result"
    }
   ],
   "source": [
    "g<-glht(full_model, linfct = mcp(Classifier.type=\"Tukey\"))\n",
    "s<-summary(g)\n",
    "s"
   ]
  },
  {
   "cell_type": "markdown",
   "metadata": {},
   "source": [
    "# Coefficient Plots"
   ]
  },
  {
   "cell_type": "code",
   "execution_count": 106,
   "metadata": {
    "collapsed": false
   },
   "outputs": [
    {
     "name": "stderr",
     "output_type": "stream",
     "text": [
      "NOTE: Frontal_Mid_Orb_L.Frontal_Mid_Orb_R does not appear in the model\n"
     ]
    },
    {
     "ename": "ERROR",
     "evalue": "Error in Analyze.model(focal.predictors, mod, xlevels, default.levels, : the following predictor is not in the model: Frontal_Mid_Orb_L.Frontal_Mid_Orb_R\n",
     "output_type": "error",
     "traceback": [
      "Error in Analyze.model(focal.predictors, mod, xlevels, default.levels, : the following predictor is not in the model: Frontal_Mid_Orb_L.Frontal_Mid_Orb_R\n"
     ]
    },
    {
     "name": "stderr",
     "output_type": "stream",
     "text": [
      "Warning message:\n",
      "In data.table(name = R5names, se = se, Accuracy = fits): Item 2 is of size 37 but maximum size is 38 (recycled leaving remainder of 1 items)Warning message:\n",
      "In data.table(name = R5names, se = se, Accuracy = fits): Item 3 is of size 37 but maximum size is 38 (recycled leaving remainder of 1 items)Warning message:\n",
      ": Removed 2 rows containing missing values (geom_point).Warning message:\n",
      ": Removed 2 rows containing missing values (geom_errorbar).Warning message:\n",
      ": Removed 1 rows containing missing values (geom_point).Warning message:\n",
      ": Removed 31 rows containing missing values (geom_errorbar)."
     ]
    },
    {
     "data": {
      "text/html": [
       "<strong>null device:</strong> 1"
      ],
      "text/latex": [
       "\\textbf{null device:} 1"
      ],
      "text/markdown": [
       "**null device:** 1"
      ],
      "text/plain": [
       "null device \n",
       "          1 "
      ]
     },
     "execution_count": 106,
     "metadata": {},
     "output_type": "execute_result"
    },
    {
     "name": "stderr",
     "output_type": "stream",
     "text": [
      "Warning message:\n",
      ": Removed 2 rows containing missing values (geom_point).Warning message:\n",
      ": Removed 2 rows containing missing values (geom_errorbar).Warning message:\n",
      ": Removed 1 rows containing missing values (geom_point).Warning message:\n",
      ": Removed 31 rows containing missing values (geom_errorbar)."
     ]
    },
    {
     "data": {
      "image/png": "[encoded data removed]"
     },
     "metadata": {},
     "output_type": "display_data"
    }
   ],
   "source": [
    "\n",
    "\n",
    "\n",
    "feature='Smoothing'\n",
    "dd<-data.frame(effect(feature,full_model))\n",
    "dd$Accuracy<-dd$fit\n",
    "dd$Smoothing<-dd[,feature]\n",
    "p1 <-ggplot(aes(y = Accuracy, x = Smoothing,ymax = Accuracy + se, ymin=Accuracy - se), data = dd) +\n",
    "geom_point()+geom_errorbar(width=0.5)+xlab('Smoothing')\n",
    "\n",
    "feature='Info.type'\n",
    "dd<-data.frame(effect(feature,full_model))\n",
    "dd$Accuracy<-dd$fit\n",
    "dd$Info.type<-dd[,feature]\n",
    "p2 <-ggplot(aes(y = Accuracy, x = Info.type,ymax = Accuracy + se, ymin=Accuracy - se), data = dd) +\n",
    "geom_point()+geom_errorbar(width=0.5)+\n",
    "theme(axis.text.x = element_text(angle = 0, hjust = 1))+xlab('Information Decoded')\n",
    "\n",
    "feature='Roi.Search'\n",
    "dd<-data.frame(effect(feature,full_model))\n",
    "dd$Accuracy<-dd$fit\n",
    "dd$Roi_or_Searchlight<-dd[,feature]\n",
    "p3 <-ggplot(aes(y = Accuracy, x = Roi_or_Searchlight,ymax = Accuracy + se, ymin=Accuracy - se), data = dd) +geom_point()+geom_errorbar()+xlab('ROI or Searchlight')\n",
    "p3<- p3+scale_x_discrete(labels=c('ROI','Searchlight'))\n",
    "\n",
    "feature='Classifier.type'\n",
    "dd<-data.frame(effect(feature,full_model))\n",
    "dd$Accuracy<-dd$fit\n",
    "dd$Classifier.type<-dd[,feature]\n",
    "p4 <-ggplot(aes(y = Accuracy, x = Classifier.type,ymax = Accuracy + se, ymin=Accuracy - se), data = dd) +\n",
    "geom_point()+geom_errorbar(width=0.5)+\n",
    "theme(axis.text.x = element_text(angle = 0, hjust = 1))+xlab('Classifier Used')\n",
    "\n",
    "\n",
    "feature='Scanner'\n",
    "dd<-data.frame(effect(feature,full_model))\n",
    "dd$Accuracy<-dd$fit\n",
    "dd$Scanner.strength<-dd[,feature]\n",
    "p5 <-ggplot(aes(y = Accuracy, x = Scanner.strength,ymax = Accuracy + se, ymin=Accuracy - se), data = dd) +geom_point()+geom_errorbar()+xlab('Scanner Strength')\n",
    "\n",
    "feature='Coregistration'\n",
    "dd<-data.frame(effect(feature,full_model))\n",
    "dd$Accuracy<-dd$fit\n",
    "dd$Coregistrated<-dd[,feature]\n",
    "p6 <-ggplot(aes(y = Accuracy, x = Coregistrated,ymax = Accuracy + se, ymin=Accuracy - se), data = dd) +geom_point()+geom_errorbar()+xlab('Coregistered')\n",
    "p6<- p6+scale_x_discrete(labels=c('coreg','native'))\n",
    "\n",
    "feature='Pattern.normalization.type'\n",
    "dd<-data.frame(effect(feature,full_model))\n",
    "dd$Accuracy<-dd$fit\n",
    "dd$Pattern.normalization.type<-dd[,feature]\n",
    "p7 <-ggplot(aes(y = Accuracy, x = Pattern.normalization.type,ymax = Accuracy + se, ymin=Accuracy - se), data = dd) +geom_point()+geom_errorbar()+xlab('Response Normalization')\n",
    "p7<-p7 + scale_x_discrete(labels=c('None','Spatial','Temp.'))\n",
    "p7<-p7+theme(axis.text.x = element_text(angle = 45, hjust = 1))+xlab('Temporal Compression')\n",
    "\n",
    "\n",
    "#theme(axis.text.x = element_text(angle = 45, hjust = 1))\n",
    "\n",
    "feature='Num_subs'\n",
    "dd<-data.frame(effect(feature,full_model))\n",
    "dd$Accuracy<-dd$fit\n",
    "dd$Feature<-dd[,feature]\n",
    "p8 <-ggplot(aes(y = Accuracy, x = Feature,ymax = Accuracy + se, ymin=Accuracy - se), data = dd) +geom_point()+geom_errorbar()+xlab('Number of Subjects')\n",
    "\n",
    "\n",
    "feature='Pattern.type'\n",
    "dd<-data.frame(effect(feature,full_model))\n",
    "dd$Accuracy<-dd$fit\n",
    "dd$Pattern.normalization.type<-dd[,feature]\n",
    "p9 <-ggplot(aes(y = Accuracy, x = Pattern.normalization.type,ymax = Accuracy + se, ymin=Accuracy - se), data = dd) +geom_point()+geom_errorbar()\n",
    "p9<-p9+theme(axis.text.x = element_text(angle = 45, hjust = 1))+xlab('Temporal Compression')\n",
    "p9 <- p9 + scale_x_discrete(labels=c('Multi-Multi','Multi-Single','Single-Multi','Single-Single'))\n",
    "\n",
    "\n",
    "\n",
    "\n",
    "## Regions\n",
    "fits<-c()\n",
    "se<-c()\n",
    "i=1\n",
    "for (name in R5names){\n",
    "    ef<-effect(name,full_model)\n",
    "    fits[i]<-tail(ef$fit, n=1)\n",
    "    se[i]<-tail(ef$se, n=1)\n",
    "    i=i+1\n",
    "    \n",
    "}\n",
    "dd = data.table(name=R5names,se=se,Accuracy=fits)\n",
    "p10 <- ggplot(aes(y = Accuracy, x = name,ymax = Accuracy + se, ymin=Accuracy - se), data = dd) +\n",
    "geom_point()+geom_errorbar()+\n",
    "theme(axis.text.x = element_text(angle = 90, hjust = 1))\n",
    "p10<-p10+xlab('AAL Region')\n",
    "\n",
    "p1<-p1+theme(panel.background=element_blank())+ylim(0.5,.7)\n",
    "p2<-p2+theme(panel.background=element_blank(),axis.ticks.y=element_blank(),axis.text.y=element_blank())+ylim(0.5,.7)+labs(y=\"\")\n",
    "p3<-p3+theme(panel.background=element_blank(),axis.ticks.y=element_blank(),axis.text.y=element_blank())+ylim(0.5,.7)+labs(y=\"\")\n",
    "p4<-p4+theme(panel.background=element_blank(),axis.ticks.y=element_blank(),axis.text.y=element_blank())+ylim(0.5,.7)+labs(y=\"\")\n",
    "p5<-p5+theme(panel.background=element_blank(),axis.ticks.y=element_blank(),axis.text.y=element_blank())+ylim(0.5,.7)+labs(y=\"\")\n",
    "p6<-p6+theme(panel.background=element_blank(),axis.ticks.y=element_blank(),axis.text.y=element_blank())+ylim(0.5,.7)+labs(y=\"\")\n",
    "p7<-p7+theme(panel.background=element_blank(),axis.ticks.y=element_blank())+ylim(0.5,.7)+labs(y=\"\")\n",
    "p8<-p8+theme(panel.background=element_blank(),axis.ticks.y=element_blank(),axis.text.y=element_blank())+ylim(0.5,.7)+labs(y=\"\")\n",
    "p9<-p9+theme(panel.background=element_blank(),axis.ticks.y=element_blank())+ylim(0.5,.7)+labs(y=\"\")\n",
    "p10<-p10+theme(panel.background=element_blank())+ylim(0.5,.7)\n",
    "\n",
    "lay <- rbind(c(1,2,3,5),\n",
    "             c(4,4,9,9),\n",
    "             c(6,7,8,8),\n",
    "             c(10,10,10,10),\n",
    "            c(10,10,10,10))\n",
    "\n",
    "\n",
    "lay <- rbind(c(1,2,3,5,4,4,9,9,6,7,8,8),\n",
    "            c(10,10,10,10))\n",
    "\n",
    "#jpeg('../Figures/Supp/full_regression_moreregions.jpg',width=10,height=10,units=\"in\",res=800)\n",
    "#options(repr.plot.width=8, repr.plot.height=5)\n",
    "grid.arrange(p1,p2,p3,p4,p5,p6,p7,p8,p9,p10 ,layout_matrix = lay)\n",
    "#ggsave(file=\"whatever.pdf\", g)\n",
    "#g\n",
    "#p\n",
    "dev.off()\n",
    "options(repr.plot.width=10, repr.plot.height=10)\n",
    "grid.arrange(p1,p2,p3,p4,p5,p6,p7,p8,p9,p10 ,layout_matrix = lay)\n"
   ]
  },
  {
   "cell_type": "code",
   "execution_count": 107,
   "metadata": {
    "collapsed": false
   },
   "outputs": [
    {
     "data": {
      "text/html": [
       "<ol class=list-inline>\n",
       "\t<li>'Frontal_Sup_L'</li>\n",
       "\t<li>'Frontal_Sup_R'</li>\n",
       "\t<li>'Frontal_Sup_Orb_L'</li>\n",
       "\t<li>'Frontal_Sup_Orb_R'</li>\n",
       "\t<li>'Frontal_Mid_L'</li>\n",
       "\t<li>'Frontal_Mid_R'</li>\n",
       "\t<li>'Frontal_Mid_Orb_L'</li>\n",
       "\t<li>'Frontal_Mid_Orb_R'</li>\n",
       "\t<li>'Frontal_Inf_Oper_L'</li>\n",
       "\t<li>'Frontal_Inf_Oper_R'</li>\n",
       "\t<li>'Frontal_Inf_Tri_L'</li>\n",
       "\t<li>'Frontal_Inf_Tri_R'</li>\n",
       "\t<li>'Frontal_Inf_Orb_L'</li>\n",
       "\t<li>'Frontal_Inf_Orb_R'</li>\n",
       "\t<li>'Supp_Motor_Area_L'</li>\n",
       "\t<li>'Supp_Motor_Area_R'</li>\n",
       "\t<li>'Frontal_Sup_Medial_L'</li>\n",
       "\t<li>'Frontal_Sup_Medial_R'</li>\n",
       "\t<li>'Insula_L'</li>\n",
       "\t<li>'Insula_R'</li>\n",
       "\t<li>'Cingulum_Ant_L'</li>\n",
       "\t<li>'Cingulum_Ant_R'</li>\n",
       "\t<li>'Cingulum_Mid_L'</li>\n",
       "\t<li>'Precentral_L'</li>\n",
       "\t<li>'Precentral_R'</li>\n",
       "\t<li>'Frontal_Inf_Tri_L.Frontal_Inf_Tri_R'</li>\n",
       "\t<li>'Insula_L.Insula_R'</li>\n",
       "\t<li>'Frontal_Sup_Medial_L.Frontal_Sup_Medial_R'</li>\n",
       "\t<li>'Frontal_Mid_L.Frontal_Mid_R'</li>\n",
       "\t<li>'Precentral_L.Precentral_R'</li>\n",
       "\t<li>'Supp_Motor_Area_L.Supp_Motor_Area_R'</li>\n",
       "\t<li>'Frontal_Sup_L.Frontal_Sup_R'</li>\n",
       "\t<li>'Frontal_Mid_R.Frontal_Inf_Tri_R'</li>\n",
       "\t<li>'Frontal_Inf_Oper_L.Frontal_Inf_Oper_R'</li>\n",
       "\t<li>'Frontal_Inf_Orb_L.Frontal_Inf_Orb_R'</li>\n",
       "\t<li>'Cingulum_Mid_L.Cingulum_Mid_R'</li>\n",
       "\t<li>'Cingulum_Ant_L.Cingulum_Ant_R'</li>\n",
       "\t<li>'Frontal_Mid_Orb_L.Frontal_Mid_Orb_R'</li>\n",
       "</ol>\n"
      ],
      "text/latex": [
       "\\begin{enumerate*}\n",
       "\\item 'Frontal_Sup_L'\n",
       "\\item 'Frontal_Sup_R'\n",
       "\\item 'Frontal_Sup_Orb_L'\n",
       "\\item 'Frontal_Sup_Orb_R'\n",
       "\\item 'Frontal_Mid_L'\n",
       "\\item 'Frontal_Mid_R'\n",
       "\\item 'Frontal_Mid_Orb_L'\n",
       "\\item 'Frontal_Mid_Orb_R'\n",
       "\\item 'Frontal_Inf_Oper_L'\n",
       "\\item 'Frontal_Inf_Oper_R'\n",
       "\\item 'Frontal_Inf_Tri_L'\n",
       "\\item 'Frontal_Inf_Tri_R'\n",
       "\\item 'Frontal_Inf_Orb_L'\n",
       "\\item 'Frontal_Inf_Orb_R'\n",
       "\\item 'Supp_Motor_Area_L'\n",
       "\\item 'Supp_Motor_Area_R'\n",
       "\\item 'Frontal_Sup_Medial_L'\n",
       "\\item 'Frontal_Sup_Medial_R'\n",
       "\\item 'Insula_L'\n",
       "\\item 'Insula_R'\n",
       "\\item 'Cingulum_Ant_L'\n",
       "\\item 'Cingulum_Ant_R'\n",
       "\\item 'Cingulum_Mid_L'\n",
       "\\item 'Precentral_L'\n",
       "\\item 'Precentral_R'\n",
       "\\item 'Frontal_Inf_Tri_L.Frontal_Inf_Tri_R'\n",
       "\\item 'Insula_L.Insula_R'\n",
       "\\item 'Frontal_Sup_Medial_L.Frontal_Sup_Medial_R'\n",
       "\\item 'Frontal_Mid_L.Frontal_Mid_R'\n",
       "\\item 'Precentral_L.Precentral_R'\n",
       "\\item 'Supp_Motor_Area_L.Supp_Motor_Area_R'\n",
       "\\item 'Frontal_Sup_L.Frontal_Sup_R'\n",
       "\\item 'Frontal_Mid_R.Frontal_Inf_Tri_R'\n",
       "\\item 'Frontal_Inf_Oper_L.Frontal_Inf_Oper_R'\n",
       "\\item 'Frontal_Inf_Orb_L.Frontal_Inf_Orb_R'\n",
       "\\item 'Cingulum_Mid_L.Cingulum_Mid_R'\n",
       "\\item 'Cingulum_Ant_L.Cingulum_Ant_R'\n",
       "\\item 'Frontal_Mid_Orb_L.Frontal_Mid_Orb_R'\n",
       "\\end{enumerate*}\n"
      ],
      "text/markdown": [
       "1. 'Frontal_Sup_L'\n",
       "2. 'Frontal_Sup_R'\n",
       "3. 'Frontal_Sup_Orb_L'\n",
       "4. 'Frontal_Sup_Orb_R'\n",
       "5. 'Frontal_Mid_L'\n",
       "6. 'Frontal_Mid_R'\n",
       "7. 'Frontal_Mid_Orb_L'\n",
       "8. 'Frontal_Mid_Orb_R'\n",
       "9. 'Frontal_Inf_Oper_L'\n",
       "10. 'Frontal_Inf_Oper_R'\n",
       "11. 'Frontal_Inf_Tri_L'\n",
       "12. 'Frontal_Inf_Tri_R'\n",
       "13. 'Frontal_Inf_Orb_L'\n",
       "14. 'Frontal_Inf_Orb_R'\n",
       "15. 'Supp_Motor_Area_L'\n",
       "16. 'Supp_Motor_Area_R'\n",
       "17. 'Frontal_Sup_Medial_L'\n",
       "18. 'Frontal_Sup_Medial_R'\n",
       "19. 'Insula_L'\n",
       "20. 'Insula_R'\n",
       "21. 'Cingulum_Ant_L'\n",
       "22. 'Cingulum_Ant_R'\n",
       "23. 'Cingulum_Mid_L'\n",
       "24. 'Precentral_L'\n",
       "25. 'Precentral_R'\n",
       "26. 'Frontal_Inf_Tri_L.Frontal_Inf_Tri_R'\n",
       "27. 'Insula_L.Insula_R'\n",
       "28. 'Frontal_Sup_Medial_L.Frontal_Sup_Medial_R'\n",
       "29. 'Frontal_Mid_L.Frontal_Mid_R'\n",
       "30. 'Precentral_L.Precentral_R'\n",
       "31. 'Supp_Motor_Area_L.Supp_Motor_Area_R'\n",
       "32. 'Frontal_Sup_L.Frontal_Sup_R'\n",
       "33. 'Frontal_Mid_R.Frontal_Inf_Tri_R'\n",
       "34. 'Frontal_Inf_Oper_L.Frontal_Inf_Oper_R'\n",
       "35. 'Frontal_Inf_Orb_L.Frontal_Inf_Orb_R'\n",
       "36. 'Cingulum_Mid_L.Cingulum_Mid_R'\n",
       "37. 'Cingulum_Ant_L.Cingulum_Ant_R'\n",
       "38. 'Frontal_Mid_Orb_L.Frontal_Mid_Orb_R'\n",
       "\n",
       "\n"
      ],
      "text/plain": [
       " [1] \"Frontal_Sup_L\"                            \n",
       " [2] \"Frontal_Sup_R\"                            \n",
       " [3] \"Frontal_Sup_Orb_L\"                        \n",
       " [4] \"Frontal_Sup_Orb_R\"                        \n",
       " [5] \"Frontal_Mid_L\"                            \n",
       " [6] \"Frontal_Mid_R\"                            \n",
       " [7] \"Frontal_Mid_Orb_L\"                        \n",
       " [8] \"Frontal_Mid_Orb_R\"                        \n",
       " [9] \"Frontal_Inf_Oper_L\"                       \n",
       "[10] \"Frontal_Inf_Oper_R\"                       \n",
       "[11] \"Frontal_Inf_Tri_L\"                        \n",
       "[12] \"Frontal_Inf_Tri_R\"                        \n",
       "[13] \"Frontal_Inf_Orb_L\"                        \n",
       "[14] \"Frontal_Inf_Orb_R\"                        \n",
       "[15] \"Supp_Motor_Area_L\"                        \n",
       "[16] \"Supp_Motor_Area_R\"                        \n",
       "[17] \"Frontal_Sup_Medial_L\"                     \n",
       "[18] \"Frontal_Sup_Medial_R\"                     \n",
       "[19] \"Insula_L\"                                 \n",
       "[20] \"Insula_R\"                                 \n",
       "[21] \"Cingulum_Ant_L\"                           \n",
       "[22] \"Cingulum_Ant_R\"                           \n",
       "[23] \"Cingulum_Mid_L\"                           \n",
       "[24] \"Precentral_L\"                             \n",
       "[25] \"Precentral_R\"                             \n",
       "[26] \"Frontal_Inf_Tri_L.Frontal_Inf_Tri_R\"      \n",
       "[27] \"Insula_L.Insula_R\"                        \n",
       "[28] \"Frontal_Sup_Medial_L.Frontal_Sup_Medial_R\"\n",
       "[29] \"Frontal_Mid_L.Frontal_Mid_R\"              \n",
       "[30] \"Precentral_L.Precentral_R\"                \n",
       "[31] \"Supp_Motor_Area_L.Supp_Motor_Area_R\"      \n",
       "[32] \"Frontal_Sup_L.Frontal_Sup_R\"              \n",
       "[33] \"Frontal_Mid_R.Frontal_Inf_Tri_R\"          \n",
       "[34] \"Frontal_Inf_Oper_L.Frontal_Inf_Oper_R\"    \n",
       "[35] \"Frontal_Inf_Orb_L.Frontal_Inf_Orb_R\"      \n",
       "[36] \"Cingulum_Mid_L.Cingulum_Mid_R\"            \n",
       "[37] \"Cingulum_Ant_L.Cingulum_Ant_R\"            \n",
       "[38] \"Frontal_Mid_Orb_L.Frontal_Mid_Orb_R\"      "
      ]
     },
     "execution_count": 107,
     "metadata": {},
     "output_type": "execute_result"
    }
   ],
   "source": [
    "R5names"
   ]
  },
  {
   "cell_type": "code",
   "execution_count": null,
   "metadata": {
    "collapsed": true
   },
   "outputs": [],
   "source": [
    "rlabels = ['L Superior Frontal','R Superior Frontal','L Superior Frontal orbital part','R Superior Frontal orbital par',\n",
    "        'L Middle Frontal','R Middle Frontal','L Middle Frontal orbital part','R Middle Frontal orbital part',\n",
    "          'L Inferior Frontal (oper)','R Inferior Frontal (oper)','L Inferior Frontal (tri)','R Inferior Frontal (tri)']"
   ]
  },
  {
   "cell_type": "code",
   "execution_count": 112,
   "metadata": {
    "collapsed": true
   },
   "outputs": [],
   "source": [
    "rlabels = c('left superior frontal gyrus','right superior frontal gyrus',\n",
    "            'left superior frontal gyrus, orbital part','right superior frontal gyrus, orbital part',\n",
    "            'left middle frontal gyrus','right middle frontal gyrus',\n",
    "            'left middle frontal gyrus, orbital part','right middle frontal gyrus, orbital part',\n",
    "            'left inferior frontal gyrus, pars opercularis','right inferior frontal gyrus, pars opercularis',\n",
    "            'left inferior frontal gyrus, pars triangularis','right inferior frontal gyrus, pars triangularis',\n",
    "            'left inferior frontal gyrus, pars orbitalis','right inferior frontal gyrus, pars orbitalis',\n",
    "            'left supplementary motor area','right supplementary motor area',\n",
    "            'left medial frontal gyrus','right medial frontal gyrus',\n",
    "            'left insula','right insula',\n",
    "            'left anterior cingulate gyrus','right anterior cingulate gyrus',\n",
    "            'left midcingulate area',\n",
    "            'left precentral gyrus','right precentral gyrus',\n",
    "            'bilateral inferior frontal gyrus, pars triangularis',\n",
    "            'bilateral insula',\n",
    "            'bilateral medial frontal gyrus',\n",
    "            'bilateral middle frontal gyrus',\n",
    "            'bilateral precentral gyrus',\n",
    "            'bilateral supplementary motor area',\n",
    "            'bilateral superior frontal gyrus',\n",
    "            'bilateral middle frontal gyrus',\n",
    "            'bilateral inferior frontal gyrus, pars opercularis',\n",
    "            'bilateral inferior frontal gyrus, pars orbitalis',\n",
    "            'bilateral midcingulate area',\n",
    "            'bilateral anterior cingulate gyrus',\n",
    "            'bilateral middle frontal gyrus, orbital part')\n",
    "\n"
   ]
  },
  {
   "cell_type": "code",
   "execution_count": 121,
   "metadata": {
    "collapsed": false
   },
   "outputs": [
    {
     "name": "stderr",
     "output_type": "stream",
     "text": [
      "NOTE: Frontal_Mid_Orb_L.Frontal_Mid_Orb_R does not appear in the model\n"
     ]
    },
    {
     "ename": "ERROR",
     "evalue": "Error in Analyze.model(focal.predictors, mod, xlevels, default.levels, : the following predictor is not in the model: Frontal_Mid_Orb_L.Frontal_Mid_Orb_R\n",
     "output_type": "error",
     "traceback": [
      "Error in Analyze.model(focal.predictors, mod, xlevels, default.levels, : the following predictor is not in the model: Frontal_Mid_Orb_L.Frontal_Mid_Orb_R\n"
     ]
    },
    {
     "name": "stderr",
     "output_type": "stream",
     "text": [
      "Warning message:\n",
      "In data.table(name = R5names, se = se, Accuracy = fits): Item 2 is of size 37 but maximum size is 38 (recycled leaving remainder of 1 items)Warning message:\n",
      "In data.table(name = R5names, se = se, Accuracy = fits): Item 3 is of size 37 but maximum size is 38 (recycled leaving remainder of 1 items)"
     ]
    },
    {
     "data": {
      "text/html": [
       "<strong>pdf:</strong> 2"
      ],
      "text/latex": [
       "\\textbf{pdf:} 2"
      ],
      "text/markdown": [
       "**pdf:** 2"
      ],
      "text/plain": [
       "pdf \n",
       "  2 "
      ]
     },
     "execution_count": 121,
     "metadata": {},
     "output_type": "execute_result"
    },
    {
     "data": {
      "image/png": "[encoded data removed]"
     },
     "metadata": {},
     "output_type": "display_data"
    }
   ],
   "source": [
    "feature='Smoothing'\n",
    "dd<-data.frame(effect(feature,full_model))\n",
    "dd$Accuracy<-dd$fit\n",
    "dd$Smoothing<-dd[,feature]\n",
    "colnames(dd)<-c('B','fit','se','lower','upper','Accuracy')\n",
    "dd_all<-dd\n",
    "\n",
    "feature='Info.type'\n",
    "dd<-data.frame(effect(feature,full_model))\n",
    "dd$Accuracy<-dd$fit\n",
    "dd$Info.type<-dd[,feature]\n",
    "colnames(dd)<-c('B','fit','se','lower','upper','Accuracy')\n",
    "dd_all<-rbind(dd_all,dd)\n",
    "\n",
    "feature='Roi.Search'\n",
    "dd<-data.frame(effect(feature,full_model))\n",
    "dd$Accuracy<-dd$fit\n",
    "dd$Roi_or_Searchlight<-dd[,feature]\n",
    "colnames(dd)<-c('B','fit','se','lower','upper','Accuracy')\n",
    "dd_all<-rbind(dd_all,dd[,1:6])\n",
    "\n",
    "feature='Classifier.type'\n",
    "dd<-data.frame(effect(feature,full_model))\n",
    "dd$Accuracy<-dd$fit\n",
    "dd$Classifier.type<-dd[,feature]\n",
    "colnames(dd)<-c('B','fit','se','lower','upper','Accuracy')\n",
    "dd_all<-rbind(dd_all,dd)\n",
    "\n",
    "feature='Scanner'\n",
    "dd<-data.frame(effect(feature,full_model))\n",
    "dd$Accuracy<-dd$fit\n",
    "dd$Scanner.strength<-dd[,feature]\n",
    "colnames(dd)<-c('B','fit','se','lower','upper','Accuracy')\n",
    "dd_all<-rbind(dd_all,dd[,1:6])\n",
    "\n",
    "feature='Coregistration'\n",
    "dd<-data.frame(effect(feature,full_model))\n",
    "dd$Accuracy<-dd$fit\n",
    "dd$Coregistrated<-dd[,feature]\n",
    "colnames(dd)<-c('B','fit','se','lower','upper','Accuracy')\n",
    "dd_all<-rbind(dd_all,dd[,1:6])\n",
    "\n",
    "feature='Pattern.normalization.type'\n",
    "dd<-data.frame(effect(feature,full_model))\n",
    "dd$Accuracy<-dd$fit\n",
    "dd$Pattern.normalization.type<-dd[,feature]\n",
    "colnames(dd)<-c('B','fit','se','lower','upper','Accuracy')\n",
    "dd_all<-rbind(dd_all,dd[,1:6])\n",
    "\n",
    "#feature='Num_subs'\n",
    "#dd<-data.frame(effect(feature,full_model))\n",
    "#dd$Accuracy<-dd$fit\n",
    "#dd$Feature<-dd[,feature]\n",
    "#colnames(dd)<-c('B','fit','se','lower','upper','Accuracy')\n",
    "#dd_all<-rbind(dd_all,dd[,1:6])\n",
    "\n",
    "feature='Pattern.type'\n",
    "dd<-data.frame(effect(feature,full_model))\n",
    "dd$Accuracy<-dd$fit\n",
    "dd$Pattern.normalization.type<-dd[,feature]\n",
    "colnames(dd)<-c('B','fit','se','lower','upper','Accuracy')\n",
    "dd_all<-rbind(dd_all,dd[,1:6])\n",
    "\n",
    "p1 <-ggplot(aes(y = Accuracy, x = B,ymax = Accuracy + se, ymin=Accuracy - se), data = dd_all) +\n",
    "geom_point(size=1)+geom_errorbar(width=0.3)\n",
    "#p1<-p1+annotate(geom='text',x=2,y=.5,label='Smoothing',size=6)\n",
    "p1<-p1+xlab('Analysis Procedure')\n",
    "p1<-p1+theme(axis.text.x = element_text(angle = 60, hjust = 1,size=6))\n",
    "\n",
    "## Regions\n",
    "fits<-c()\n",
    "se<-c()\n",
    "i=1\n",
    "for (name in R5names){\n",
    "    ef<-effect(name,full_model)\n",
    "    fits[i]<-tail(ef$fit, n=1)\n",
    "    se[i]<-tail(ef$se, n=1)\n",
    "    i=i+1\n",
    "    \n",
    "}\n",
    "dd = data.table(name=R5names,se=se,Accuracy=fits)\n",
    "p10 <- ggplot(aes(y = Accuracy, x = name,ymax = Accuracy + se, ymin=Accuracy - se), data = dd) +\n",
    "geom_point(size=1)+geom_errorbar(width=0.3)+\n",
    "theme(axis.text.x = element_text(angle = 60, hjust = 1,size=6))\n",
    "p10<-p10+xlab('Region (AAL)')\n",
    "p10<-p10+ylab('Classification Accuracy')\n",
    "p10<-p10+scale_x_discrete(labels=rlabels)\n",
    "\n",
    "p1<-p1+ylab('Classification Accuracy')\n",
    "p1<-p1+theme(panel.background=element_blank())\n",
    "p10<-p10+theme(panel.background=element_blank())\n",
    "\n",
    "lay <- rbind(c(1,1,1,1),\n",
    "            c(10,10,10,10))\n",
    "\n",
    "\n",
    "\n",
    "jpeg('../Figures/Supp/full_regression_moreregions.jpg',width=8,height=6,units=\"in\",res=800)\n",
    "\n",
    "grid.arrange(p1,p10 ,layout_matrix = lay)\n",
    "#ggsave(file=\"whatever.pdf\", g)\n",
    "#p\n",
    "dev.off()\n",
    "\n",
    "options(repr.plot.width=8, repr.plot.height=6)\n",
    "grid.arrange(p1,p10,layout_matrix = lay)"
   ]
  },
  {
   "cell_type": "markdown",
   "metadata": {},
   "source": [
    "# Likelihood Ratio Tests "
   ]
  },
  {
   "cell_type": "code",
   "execution_count": 83,
   "metadata": {
    "collapsed": false
   },
   "outputs": [
    {
     "data": {
      "text/html": [
       "<table>\n",
       "<thead><tr><th></th><th scope=col>Model</th><th scope=col>df</th><th scope=col>AIC</th><th scope=col>BIC</th><th scope=col>logLik</th><th scope=col>L.Ratio</th><th scope=col>p.value</th></tr></thead>\n",
       "<tbody>\n",
       "\t<tr><th scope=row>full_model_ml</th><td>1</td><td>58</td><td>-1089.056</td><td>-854.4458</td><td>602.528</td><td>NA</td><td>NA</td></tr>\n",
       "\t<tr><th scope=row>full_model_wo_Classifier.type</th><td>2</td><td>53</td><td>-1081.77</td><td>-867.385</td><td>593.8851</td><td>17.28579</td><td>0.003988496</td></tr>\n",
       "\t<tr><th scope=row>full_model_wo_Info.type</th><td>2</td><td>55</td><td>-1093.64</td><td>-871.1647</td><td>601.82</td><td>1.416087</td><td>0.7017681</td></tr>\n",
       "\t<tr><th scope=row>full_model_wo_Smoothing</th><td>2</td><td>57</td><td>-1090.579</td><td>-860.0134</td><td>602.2893</td><td>0.4773938</td><td>0.4896052</td></tr>\n",
       "\t<tr><th scope=row>full_model_wo_Coregistration</th><td>2</td><td>57</td><td>-1089.84</td><td>-859.2747</td><td>601.92</td><td>1.216085</td><td>0.2701304</td></tr>\n",
       "\t<tr><th scope=row>full_model_wo_Pattern.normalization.type</th><td>2</td><td>56</td><td>-1090.665</td><td>-864.1443</td><td>601.3323</td><td>2.391476</td><td>0.3024807</td></tr>\n",
       "\t<tr><th scope=row>full_model_wo_Num_subs</th><td>2</td><td>57</td><td>-1090.295</td><td>-859.7295</td><td>602.1474</td><td>0.761281</td><td>0.3829279</td></tr>\n",
       "\t<tr><th scope=row>full_model_wo_Scanner</th><td>2</td><td>57</td><td>-1090.614</td><td>-860.0487</td><td>602.307</td><td>0.4420582</td><td>0.5061307</td></tr>\n",
       "\t<tr><th scope=row>full_model_wo_Pattern.type</th><td>2</td><td>55</td><td>-1091.963</td><td>-869.4876</td><td>600.9814</td><td>3.093218</td><td>0.3774749</td></tr>\n",
       "\t<tr><th scope=row>full_model_wo_ROI</th><td>2</td><td>57</td><td>-1087.428</td><td>-856.8626</td><td>600.714</td><td>3.628135</td><td>0.05681046</td></tr>\n",
       "\t<tr><th scope=row>full_model_wo_region</th><td>2</td><td>21</td><td>-1122.129</td><td>-1037.184</td><td>582.0644</td><td>40.92725</td><td>0.3021421</td></tr>\n",
       "</tbody>\n",
       "</table>\n"
      ],
      "text/latex": [
       "\\begin{tabular}{r|lllllll}\n",
       "  & Model & df & AIC & BIC & logLik & L.Ratio & p.value\\\\\n",
       "\\hline\n",
       "\tfull_model_ml & 1 & 58 & -1089.056 & -854.4458 & 602.528 & NA & NA\\\\\n",
       "\tfull_model_wo_Classifier.type & 2 & 53 & -1081.77 & -867.385 & 593.8851 & 17.28579 & 0.003988496\\\\\n",
       "\tfull_model_wo_Info.type & 2 & 55 & -1093.64 & -871.1647 & 601.82 & 1.416087 & 0.7017681\\\\\n",
       "\tfull_model_wo_Smoothing & 2 & 57 & -1090.579 & -860.0134 & 602.2893 & 0.4773938 & 0.4896052\\\\\n",
       "\tfull_model_wo_Coregistration & 2 & 57 & -1089.84 & -859.2747 & 601.92 & 1.216085 & 0.2701304\\\\\n",
       "\tfull_model_wo_Pattern.normalization.type & 2 & 56 & -1090.665 & -864.1443 & 601.3323 & 2.391476 & 0.3024807\\\\\n",
       "\tfull_model_wo_Num_subs & 2 & 57 & -1090.295 & -859.7295 & 602.1474 & 0.761281 & 0.3829279\\\\\n",
       "\tfull_model_wo_Scanner & 2 & 57 & -1090.614 & -860.0487 & 602.307 & 0.4420582 & 0.5061307\\\\\n",
       "\tfull_model_wo_Pattern.type & 2 & 55 & -1091.963 & -869.4876 & 600.9814 & 3.093218 & 0.3774749\\\\\n",
       "\tfull_model_wo_ROI & 2 & 57 & -1087.428 & -856.8626 & 600.714 & 3.628135 & 0.05681046\\\\\n",
       "\tfull_model_wo_region & 2 & 21 & -1122.129 & -1037.184 & 582.0644 & 40.92725 & 0.3021421\\\\\n",
       "\\end{tabular}\n"
      ],
      "text/plain": [
       "                                         Model df       AIC        BIC   logLik\n",
       "full_model_ml                                1 58 -1089.056  -854.4458 602.5280\n",
       "full_model_wo_Classifier.type                2 53 -1081.770  -867.3850 593.8851\n",
       "full_model_wo_Info.type                      2 55 -1093.640  -871.1647 601.8200\n",
       "full_model_wo_Smoothing                      2 57 -1090.579  -860.0134 602.2893\n",
       "full_model_wo_Coregistration                 2 57 -1089.840  -859.2747 601.9200\n",
       "full_model_wo_Pattern.normalization.type     2 56 -1090.665  -864.1443 601.3323\n",
       "full_model_wo_Num_subs                       2 57 -1090.295  -859.7295 602.1474\n",
       "full_model_wo_Scanner                        2 57 -1090.614  -860.0487 602.3070\n",
       "full_model_wo_Pattern.type                   2 55 -1091.963  -869.4876 600.9814\n",
       "full_model_wo_ROI                            2 57 -1087.428  -856.8626 600.7140\n",
       "full_model_wo_region                         2 21 -1122.129 -1037.1837 582.0644\n",
       "                                            L.Ratio     p.value\n",
       "full_model_ml                                    NA          NA\n",
       "full_model_wo_Classifier.type            17.2857920 0.003988496\n",
       "full_model_wo_Info.type                   1.4160873 0.701768147\n",
       "full_model_wo_Smoothing                   0.4773938 0.489605200\n",
       "full_model_wo_Coregistration              1.2160849 0.270130359\n",
       "full_model_wo_Pattern.normalization.type  2.3914759 0.302480657\n",
       "full_model_wo_Num_subs                    0.7612810 0.382927930\n",
       "full_model_wo_Scanner                     0.4420582 0.506130704\n",
       "full_model_wo_Pattern.type                3.0932182 0.377474871\n",
       "full_model_wo_ROI                         3.6281346 0.056810458\n",
       "full_model_wo_region                     40.9272508 0.302142063"
      ]
     },
     "execution_count": 83,
     "metadata": {},
     "output_type": "execute_result"
    }
   ],
   "source": [
    "full_model_ml<-lme(as.formula(paste('Accuracy.50~',R1names_string,sep='')),random=~1|PID,data=d,method='ML')\n",
    "\n",
    "full_model_wo_region<-lme(Accuracy.50~Info.type+Roi.Search+Pattern.type+Classifier.type+Scanner+\n",
    "                Smoothing+Coregistration+Pattern.normalization.type+Num_subs,random=~1|PID,data=d,method='ML')\n",
    "\n",
    "\n",
    "full_model_wo_Classifier.type<-update(full_model_ml,.~. -Classifier.type)\n",
    "full_model_wo_Info.type<-update(full_model_ml,.~. -Info.type)\n",
    "full_model_wo_Smoothing<-update(full_model_ml,.~. -Smoothing)\n",
    "full_model_wo_Coregistration<-update(full_model_ml,.~. -Coregistration)\n",
    "full_model_wo_Pattern.normalization.type<-update(full_model_ml,.~. -Pattern.normalization.type)\n",
    "full_model_wo_Num_subs<-update(full_model_ml,.~. -Num_subs)\n",
    "full_model_wo_Scanner<-update(full_model_ml,.~. -Scanner)\n",
    "full_model_wo_Pattern.type<-update(full_model_ml,.~. -Pattern.type)\n",
    "full_model_wo_ROI<-update(full_model_ml,.~. -Roi.Search)\n",
    "\n",
    "a <-anova(full_model_ml,full_model_wo_Classifier.type)\n",
    "d<-data.frame(a)[c('Model','df','AIC','BIC','logLik','L.Ratio','p.value')]\n",
    "a <-anova(full_model_ml,full_model_wo_Info.type)\n",
    "d_new<-data.frame(a)[c('Model','df','AIC','BIC','logLik','L.Ratio','p.value')]\n",
    "d<-rbind(d,d_new[2,])\n",
    "a <-anova(full_model_ml,full_model_wo_Smoothing)\n",
    "d_new<-data.frame(a)[c('Model','df','AIC','BIC','logLik','L.Ratio','p.value')]\n",
    "d<-rbind(d,d_new[2,])\n",
    "a <-anova(full_model_ml,full_model_wo_Coregistration)\n",
    "d_new<-data.frame(a)[c('Model','df','AIC','BIC','logLik','L.Ratio','p.value')]\n",
    "d<-rbind(d,d_new[2,])\n",
    "a <-anova(full_model_ml,full_model_wo_Pattern.normalization.type)\n",
    "d_new<-data.frame(a)[c('Model','df','AIC','BIC','logLik','L.Ratio','p.value')]\n",
    "d<-rbind(d,d_new[2,])\n",
    "a <-anova(full_model_ml,full_model_wo_Num_subs)\n",
    "d_new<-data.frame(a)[c('Model','df','AIC','BIC','logLik','L.Ratio','p.value')]\n",
    "d<-rbind(d,d_new[2,])\n",
    "a <-anova(full_model_ml,full_model_wo_Scanner)\n",
    "d_new<-data.frame(a)[c('Model','df','AIC','BIC','logLik','L.Ratio','p.value')]\n",
    "d<-rbind(d,d_new[2,])\n",
    "a <-anova(full_model_ml,full_model_wo_Pattern.type)\n",
    "d_new<-data.frame(a)[c('Model','df','AIC','BIC','logLik','L.Ratio','p.value')]\n",
    "d<-rbind(d,d_new[2,])\n",
    "a <-anova(full_model_ml,full_model_wo_ROI)\n",
    "d_new<-data.frame(a)[c('Model','df','AIC','BIC','logLik','L.Ratio','p.value')]\n",
    "d<-rbind(d,d_new[2,])\n",
    "a <-anova(full_model_ml,full_model_wo_region)\n",
    "d_new<-data.frame(a)[c('Model','df','AIC','BIC','logLik','L.Ratio','p.value')]\n",
    "d<-rbind(d,d_new[2,])\n",
    "\n",
    "d\n"
   ]
  },
  {
   "cell_type": "code",
   "execution_count": 55,
   "metadata": {
    "collapsed": false
   },
   "outputs": [
    {
     "name": "stdout",
     "output_type": "stream",
     "text": [
      "% latex table generated in R 3.2.2 by xtable 1.8-2 package\n",
      "% Sat Mar 25 13:01:24 2017\n",
      "\\begin{table}[ht]\n",
      "\\centering\n",
      "\\begin{tabular}{rrrrrrrr}\n",
      "  \\hline\n",
      " & Model & df & AIC & BIC & logLik & L.Ratio & p.value \\\\ \n",
      "  \\hline\n",
      "full\\_model\\_ml &   1 & 58.00 & -1089.06 & -854.45 & 602.53 &  &  \\\\ \n",
      "  full\\_model\\_wo\\_Classifier.type &   2 & 53.00 & -1081.77 & -867.38 & 593.89 & 17.29 & 0.00 \\\\ \n",
      "  full\\_model\\_wo\\_Info.type &   2 & 55.00 & -1093.64 & -871.16 & 601.82 & 1.42 & 0.70 \\\\ \n",
      "  full\\_model\\_wo\\_Smoothing &   2 & 57.00 & -1090.58 & -860.01 & 602.29 & 0.48 & 0.49 \\\\ \n",
      "  full\\_model\\_wo\\_Coregistration &   2 & 57.00 & -1089.84 & -859.27 & 601.92 & 1.22 & 0.27 \\\\ \n",
      "  full\\_model\\_wo\\_Pattern.normalization.type &   2 & 56.00 & -1090.66 & -864.14 & 601.33 & 2.39 & 0.30 \\\\ \n",
      "  full\\_model\\_wo\\_Num\\_subs &   2 & 57.00 & -1090.29 & -859.73 & 602.15 & 0.76 & 0.38 \\\\ \n",
      "  full\\_model\\_wo\\_Scanner &   2 & 57.00 & -1090.61 & -860.05 & 602.31 & 0.44 & 0.51 \\\\ \n",
      "  full\\_model\\_wo\\_Pattern.type &   2 & 55.00 & -1091.96 & -869.49 & 600.98 & 3.09 & 0.38 \\\\ \n",
      "  full\\_model\\_wo\\_region &   2 & 21.00 & -1122.13 & -1037.18 & 582.06 & 40.93 & 0.30 \\\\ \n",
      "   \\hline\n",
      "\\end{tabular}\n",
      "\\end{table}\n"
     ]
    }
   ],
   "source": [
    "print(xtable(d),type='latex')"
   ]
  },
  {
   "cell_type": "code",
   "execution_count": 56,
   "metadata": {
    "collapsed": false,
    "scrolled": false
   },
   "outputs": [
    {
     "name": "stdout",
     "output_type": "stream",
     "text": [
      "<!-- html table generated in R 3.2.2 by xtable 1.8-2 package -->\n",
      "<!-- Sat Mar 25 13:01:24 2017 -->\n",
      "<table border=1>\n",
      "<tr> <th>  </th> <th> Model </th> <th> df </th> <th> AIC </th> <th> BIC </th> <th> logLik </th> <th> L.Ratio </th> <th> p.value </th>  </tr>\n",
      "  <tr> <td align=\"right\"> full_model_ml </td> <td align=\"right\">   1 </td> <td align=\"right\"> 58.00 </td> <td align=\"right\"> -1089.06 </td> <td align=\"right\"> -854.45 </td> <td align=\"right\"> 602.53 </td> <td align=\"right\">  </td> <td align=\"right\">  </td> </tr>\n",
      "  <tr> <td align=\"right\"> full_model_wo_Classifier.type </td> <td align=\"right\">   2 </td> <td align=\"right\"> 53.00 </td> <td align=\"right\"> -1081.77 </td> <td align=\"right\"> -867.38 </td> <td align=\"right\"> 593.89 </td> <td align=\"right\"> 17.29 </td> <td align=\"right\"> 0.00 </td> </tr>\n",
      "  <tr> <td align=\"right\"> full_model_wo_Info.type </td> <td align=\"right\">   2 </td> <td align=\"right\"> 55.00 </td> <td align=\"right\"> -1093.64 </td> <td align=\"right\"> -871.16 </td> <td align=\"right\"> 601.82 </td> <td align=\"right\"> 1.42 </td> <td align=\"right\"> 0.70 </td> </tr>\n",
      "  <tr> <td align=\"right\"> full_model_wo_Smoothing </td> <td align=\"right\">   2 </td> <td align=\"right\"> 57.00 </td> <td align=\"right\"> -1090.58 </td> <td align=\"right\"> -860.01 </td> <td align=\"right\"> 602.29 </td> <td align=\"right\"> 0.48 </td> <td align=\"right\"> 0.49 </td> </tr>\n",
      "  <tr> <td align=\"right\"> full_model_wo_Coregistration </td> <td align=\"right\">   2 </td> <td align=\"right\"> 57.00 </td> <td align=\"right\"> -1089.84 </td> <td align=\"right\"> -859.27 </td> <td align=\"right\"> 601.92 </td> <td align=\"right\"> 1.22 </td> <td align=\"right\"> 0.27 </td> </tr>\n",
      "  <tr> <td align=\"right\"> full_model_wo_Pattern.normalization.type </td> <td align=\"right\">   2 </td> <td align=\"right\"> 56.00 </td> <td align=\"right\"> -1090.66 </td> <td align=\"right\"> -864.14 </td> <td align=\"right\"> 601.33 </td> <td align=\"right\"> 2.39 </td> <td align=\"right\"> 0.30 </td> </tr>\n",
      "  <tr> <td align=\"right\"> full_model_wo_Num_subs </td> <td align=\"right\">   2 </td> <td align=\"right\"> 57.00 </td> <td align=\"right\"> -1090.29 </td> <td align=\"right\"> -859.73 </td> <td align=\"right\"> 602.15 </td> <td align=\"right\"> 0.76 </td> <td align=\"right\"> 0.38 </td> </tr>\n",
      "  <tr> <td align=\"right\"> full_model_wo_Scanner </td> <td align=\"right\">   2 </td> <td align=\"right\"> 57.00 </td> <td align=\"right\"> -1090.61 </td> <td align=\"right\"> -860.05 </td> <td align=\"right\"> 602.31 </td> <td align=\"right\"> 0.44 </td> <td align=\"right\"> 0.51 </td> </tr>\n",
      "  <tr> <td align=\"right\"> full_model_wo_Pattern.type </td> <td align=\"right\">   2 </td> <td align=\"right\"> 55.00 </td> <td align=\"right\"> -1091.96 </td> <td align=\"right\"> -869.49 </td> <td align=\"right\"> 600.98 </td> <td align=\"right\"> 3.09 </td> <td align=\"right\"> 0.38 </td> </tr>\n",
      "  <tr> <td align=\"right\"> full_model_wo_region </td> <td align=\"right\">   2 </td> <td align=\"right\"> 21.00 </td> <td align=\"right\"> -1122.13 </td> <td align=\"right\"> -1037.18 </td> <td align=\"right\"> 582.06 </td> <td align=\"right\"> 40.93 </td> <td align=\"right\"> 0.30 </td> </tr>\n",
      "   </table>\n"
     ]
    }
   ],
   "source": [
    "print(xtable(d),type='html')"
   ]
  },
  {
   "cell_type": "markdown",
   "metadata": {},
   "source": [
    "# testing with all data. - Not sure whether to include"
   ]
  },
  {
   "cell_type": "code",
   "execution_count": 57,
   "metadata": {
    "collapsed": false
   },
   "outputs": [
    {
     "data": {
      "text/html": [
       "723"
      ],
      "text/latex": [
       "723"
      ],
      "text/markdown": [
       "723"
      ],
      "text/plain": [
       "[1] 723"
      ]
     },
     "execution_count": 57,
     "metadata": {},
     "output_type": "execute_result"
    },
    {
     "data": {
      "text/html": [
       "<table>\n",
       "<thead><tr><th></th><th scope=col>Model</th><th scope=col>df</th><th scope=col>AIC</th><th scope=col>BIC</th><th scope=col>logLik</th><th scope=col>L.Ratio</th><th scope=col>p.value</th></tr></thead>\n",
       "<tbody>\n",
       "\t<tr><th scope=row>full_model_ml</th><td>1</td><td>58</td><td>-1773.833</td><td>-1507.995</td><td>944.9166</td><td>NA</td><td>NA</td></tr>\n",
       "\t<tr><th scope=row>full_model_wo_Classifier.type</th><td>2</td><td>53</td><td>-1764.045</td><td>-1521.125</td><td>935.0226</td><td>19.78794</td><td>0.001369555</td></tr>\n",
       "\t<tr><th scope=row>full_model_wo_Info.type</th><td>2</td><td>55</td><td>-1766.024</td><td>-1513.936</td><td>938.012</td><td>13.80923</td><td>0.003176662</td></tr>\n",
       "\t<tr><th scope=row>full_model_wo_Smoothing</th><td>2</td><td>57</td><td>-1775.801</td><td>-1514.547</td><td>944.9007</td><td>0.03184289</td><td>0.8583729</td></tr>\n",
       "\t<tr><th scope=row>full_model_wo_Coregistration</th><td>2</td><td>57</td><td>-1775.126</td><td>-1513.872</td><td>944.5629</td><td>0.7072881</td><td>0.4003456</td></tr>\n",
       "\t<tr><th scope=row>full_model_wo_Pattern.normalization.type</th><td>2</td><td>56</td><td>-1772.94</td><td>-1516.269</td><td>942.4702</td><td>4.89275</td><td>0.08660696</td></tr>\n",
       "\t<tr><th scope=row>full_model_wo_Num_subs</th><td>2</td><td>57</td><td>-1775.578</td><td>-1514.323</td><td>944.7888</td><td>0.2555787</td><td>0.6131741</td></tr>\n",
       "\t<tr><th scope=row>full_model_wo_Scanner</th><td>2</td><td>57</td><td>-1775.75</td><td>-1514.495</td><td>944.8749</td><td>0.08342036</td><td>0.7727147</td></tr>\n",
       "\t<tr><th scope=row>full_model_wo_Pattern.type</th><td>2</td><td>55</td><td>-1779.174</td><td>-1527.087</td><td>944.587</td><td>0.6590924</td><td>0.882781</td></tr>\n",
       "\t<tr><th scope=row>full_model_wo_region</th><td>2</td><td>21</td><td>-1801.688</td><td>-1705.437</td><td>921.8441</td><td>46.14497</td><td>0.1440239</td></tr>\n",
       "</tbody>\n",
       "</table>\n"
      ],
      "text/latex": [
       "\\begin{tabular}{r|lllllll}\n",
       "  & Model & df & AIC & BIC & logLik & L.Ratio & p.value\\\\\n",
       "\\hline\n",
       "\tfull_model_ml & 1 & 58 & -1773.833 & -1507.995 & 944.9166 & NA & NA\\\\\n",
       "\tfull_model_wo_Classifier.type & 2 & 53 & -1764.045 & -1521.125 & 935.0226 & 19.78794 & 0.001369555\\\\\n",
       "\tfull_model_wo_Info.type & 2 & 55 & -1766.024 & -1513.936 & 938.012 & 13.80923 & 0.003176662\\\\\n",
       "\tfull_model_wo_Smoothing & 2 & 57 & -1775.801 & -1514.547 & 944.9007 & 0.03184289 & 0.8583729\\\\\n",
       "\tfull_model_wo_Coregistration & 2 & 57 & -1775.126 & -1513.872 & 944.5629 & 0.7072881 & 0.4003456\\\\\n",
       "\tfull_model_wo_Pattern.normalization.type & 2 & 56 & -1772.94 & -1516.269 & 942.4702 & 4.89275 & 0.08660696\\\\\n",
       "\tfull_model_wo_Num_subs & 2 & 57 & -1775.578 & -1514.323 & 944.7888 & 0.2555787 & 0.6131741\\\\\n",
       "\tfull_model_wo_Scanner & 2 & 57 & -1775.75 & -1514.495 & 944.8749 & 0.08342036 & 0.7727147\\\\\n",
       "\tfull_model_wo_Pattern.type & 2 & 55 & -1779.174 & -1527.087 & 944.587 & 0.6590924 & 0.882781\\\\\n",
       "\tfull_model_wo_region & 2 & 21 & -1801.688 & -1705.437 & 921.8441 & 46.14497 & 0.1440239\\\\\n",
       "\\end{tabular}\n"
      ],
      "text/plain": [
       "                                         Model df       AIC       BIC   logLik\n",
       "full_model_ml                                1 58 -1773.833 -1507.995 944.9166\n",
       "full_model_wo_Classifier.type                2 53 -1764.045 -1521.125 935.0226\n",
       "full_model_wo_Info.type                      2 55 -1766.024 -1513.936 938.0120\n",
       "full_model_wo_Smoothing                      2 57 -1775.801 -1514.547 944.9007\n",
       "full_model_wo_Coregistration                 2 57 -1775.126 -1513.872 944.5629\n",
       "full_model_wo_Pattern.normalization.type     2 56 -1772.940 -1516.269 942.4702\n",
       "full_model_wo_Num_subs                       2 57 -1775.578 -1514.323 944.7888\n",
       "full_model_wo_Scanner                        2 57 -1775.750 -1514.495 944.8749\n",
       "full_model_wo_Pattern.type                   2 55 -1779.174 -1527.087 944.5870\n",
       "full_model_wo_region                         2 21 -1801.688 -1705.437 921.8441\n",
       "                                             L.Ratio     p.value\n",
       "full_model_ml                                     NA          NA\n",
       "full_model_wo_Classifier.type            19.78794280 0.001369555\n",
       "full_model_wo_Info.type                  13.80923262 0.003176662\n",
       "full_model_wo_Smoothing                   0.03184289 0.858372922\n",
       "full_model_wo_Coregistration              0.70728813 0.400345558\n",
       "full_model_wo_Pattern.normalization.type  4.89275022 0.086606959\n",
       "full_model_wo_Num_subs                    0.25557868 0.613174061\n",
       "full_model_wo_Scanner                     0.08342036 0.772714661\n",
       "full_model_wo_Pattern.type                0.65909236 0.882780990\n",
       "full_model_wo_region                     46.14496652 0.144023896"
      ]
     },
     "execution_count": 57,
     "metadata": {},
     "output_type": "execute_result"
    }
   ],
   "source": [
    "d<-data_50[c('Accuracy.50','PID',factors,R5names)]\n",
    "d=d[rowSums(d[,R5names])==1,] # remove rows with no region regressor (would have been 2+)\n",
    "nrow(d)\n",
    "\n",
    "full_model_ml<-lme(as.formula(paste('Accuracy.50~',R1names_string,sep='')),random=~1|PID,data=d,method='ML')\n",
    "\n",
    "full_model_wo_region<-lme(Accuracy.50~Info.type+Roi.Search+Pattern.type+Classifier.type+Scanner+\n",
    "                Smoothing+Coregistration+Pattern.normalization.type+Num_subs,random=~1|PID,data=d,method='ML')\n",
    "\n",
    "\n",
    "full_model_wo_Classifier.type<-update(full_model_ml,.~. -Classifier.type)\n",
    "full_model_wo_Info.type<-update(full_model_ml,.~. -Info.type)\n",
    "full_model_wo_Smoothing<-update(full_model_ml,.~. -Smoothing)\n",
    "full_model_wo_Coregistration<-update(full_model_ml,.~. -Coregistration)\n",
    "full_model_wo_Pattern.normalization.type<-update(full_model_ml,.~. -Pattern.normalization.type)\n",
    "full_model_wo_Num_subs<-update(full_model_ml,.~. -Num_subs)\n",
    "full_model_wo_Scanner<-update(full_model_ml,.~. -Scanner)\n",
    "full_model_wo_Pattern.type<-update(full_model_ml,.~. -Pattern.type)\n",
    "\n",
    "\n",
    "a <-anova(full_model_ml,full_model_wo_Classifier.type)\n",
    "d<-data.frame(a)[c('Model','df','AIC','BIC','logLik','L.Ratio','p.value')]\n",
    "a <-anova(full_model_ml,full_model_wo_Info.type)\n",
    "d_new<-data.frame(a)[c('Model','df','AIC','BIC','logLik','L.Ratio','p.value')]\n",
    "d<-rbind(d,d_new[2,])\n",
    "a <-anova(full_model_ml,full_model_wo_Smoothing)\n",
    "d_new<-data.frame(a)[c('Model','df','AIC','BIC','logLik','L.Ratio','p.value')]\n",
    "d<-rbind(d,d_new[2,])\n",
    "a <-anova(full_model_ml,full_model_wo_Coregistration)\n",
    "d_new<-data.frame(a)[c('Model','df','AIC','BIC','logLik','L.Ratio','p.value')]\n",
    "d<-rbind(d,d_new[2,])\n",
    "a <-anova(full_model_ml,full_model_wo_Pattern.normalization.type)\n",
    "d_new<-data.frame(a)[c('Model','df','AIC','BIC','logLik','L.Ratio','p.value')]\n",
    "d<-rbind(d,d_new[2,])\n",
    "a <-anova(full_model_ml,full_model_wo_Num_subs)\n",
    "d_new<-data.frame(a)[c('Model','df','AIC','BIC','logLik','L.Ratio','p.value')]\n",
    "d<-rbind(d,d_new[2,])\n",
    "a <-anova(full_model_ml,full_model_wo_Scanner)\n",
    "d_new<-data.frame(a)[c('Model','df','AIC','BIC','logLik','L.Ratio','p.value')]\n",
    "d<-rbind(d,d_new[2,])\n",
    "a <-anova(full_model_ml,full_model_wo_Pattern.type)\n",
    "d_new<-data.frame(a)[c('Model','df','AIC','BIC','logLik','L.Ratio','p.value')]\n",
    "d<-rbind(d,d_new[2,])\n",
    "a <-anova(full_model_ml,full_model_wo_region)\n",
    "d_new<-data.frame(a)[c('Model','df','AIC','BIC','logLik','L.Ratio','p.value')]\n",
    "d<-rbind(d,d_new[2,])\n",
    "d\n"
   ]
  },
  {
   "cell_type": "code",
   "execution_count": 58,
   "metadata": {
    "collapsed": false
   },
   "outputs": [
    {
     "data": {
      "text/plain": [
       "\n",
       "\t Simultaneous Tests for General Linear Hypotheses\n",
       "\n",
       "Multiple Comparisons of Means: Tukey Contrasts\n",
       "\n",
       "\n",
       "Fit: lme.formula(fixed = as.formula(paste(\"Accuracy.50~\", R1names_string, \n",
       "    sep = \"\")), data = d, random = ~1 | PID, method = \"ML\")\n",
       "\n",
       "Linear Hypotheses:\n",
       "                           Estimate Std. Error z value Pr(>|z|)  \n",
       "Response - Perceptual == 0 -0.01562    0.01487  -1.050   0.7155  \n",
       "Rule - Perceptual == 0      0.02409    0.01479   1.629   0.3573  \n",
       "Value - Perceptual == 0     0.03671    0.01519   2.417   0.0721 .\n",
       "Rule - Response == 0        0.03971    0.01526   2.603   0.0446 *\n",
       "Value - Response == 0       0.05233    0.01783   2.936   0.0171 *\n",
       "Value - Rule == 0           0.01262    0.01879   0.671   0.9061  \n",
       "---\n",
       "Signif. codes:  0 ‘***’ 0.001 ‘**’ 0.01 ‘*’ 0.05 ‘.’ 0.1 ‘ ’ 1\n",
       "(Adjusted p values reported -- single-step method)\n"
      ]
     },
     "execution_count": 58,
     "metadata": {},
     "output_type": "execute_result"
    }
   ],
   "source": [
    "g<-glht(full_model_ml, linfct = mcp(Info.type=\"Tukey\"))\n",
    "s<-summary(g)\n",
    "s"
   ]
  }
 ],
 "metadata": {
  "hide_input": false,
  "kernelspec": {
   "display_name": "R",
   "language": "R",
   "name": "ir"
  },
  "language_info": {
   "codemirror_mode": "r",
   "file_extension": ".r",
   "mimetype": "text/x-r-source",
   "name": "R",
   "pygments_lexer": "r",
   "version": "3.2.2"
  }
 },
 "nbformat": 4,
 "nbformat_minor": 0
}
