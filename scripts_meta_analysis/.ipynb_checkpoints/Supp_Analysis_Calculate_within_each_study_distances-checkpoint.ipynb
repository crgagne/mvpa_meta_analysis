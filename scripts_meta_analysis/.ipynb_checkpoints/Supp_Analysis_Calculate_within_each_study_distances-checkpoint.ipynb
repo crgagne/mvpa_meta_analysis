{
 "cells": [
  {
   "cell_type": "code",
   "execution_count": 9,
   "metadata": {
    "collapsed": false
   },
   "outputs": [],
   "source": [
    "import pandas as pd\n",
    "from nilearn import datasets\n",
    "import nibabel as nib\n",
    "import numpy as np\n",
    "import ast\n",
    "import math\n",
    "from IPython.core.debugger import Tracer\n",
    "import matplotlib.pyplot as plt\n",
    "%matplotlib inline"
   ]
  },
  {
   "cell_type": "code",
   "execution_count": 10,
   "metadata": {
    "collapsed": true
   },
   "outputs": [],
   "source": [
    "def distance(p0, p1):\n",
    "    return math.sqrt((p0[0] - p1[0])**2 + (p0[1] - p1[1])**2 + (p0[2]-p1[2])**2)"
   ]
  },
  {
   "cell_type": "markdown",
   "metadata": {},
   "source": [
    "- Get Data and regions, horizontally stack\n",
    "- for each observation get the coordinates in mm and -- \n",
    "- "
   ]
  },
  {
   "cell_type": "code",
   "execution_count": 11,
   "metadata": {
    "collapsed": false
   },
   "outputs": [
    {
     "data": {
      "text/html": [
       "<div>\n",
       "<table border=\"1\" class=\"dataframe\">\n",
       "  <thead>\n",
       "    <tr style=\"text-align: right;\">\n",
       "      <th></th>\n",
       "      <th>Frontal_Sup_L</th>\n",
       "      <th>Frontal_Sup_R</th>\n",
       "      <th>Frontal_Sup_Orb_L</th>\n",
       "      <th>Frontal_Sup_Orb_R</th>\n",
       "      <th>Frontal_Mid_L</th>\n",
       "      <th>Frontal_Mid_R</th>\n",
       "      <th>Frontal_Mid_Orb_L</th>\n",
       "      <th>Frontal_Mid_Orb_R</th>\n",
       "      <th>Frontal_Inf_Oper_L</th>\n",
       "      <th>Frontal_Inf_Oper_R</th>\n",
       "      <th>...</th>\n",
       "      <th>Frontal_Sup_Medial_L</th>\n",
       "      <th>Frontal_Sup_Medial_R</th>\n",
       "      <th>Insula_L</th>\n",
       "      <th>Insula_R</th>\n",
       "      <th>Cingulum_Ant_L</th>\n",
       "      <th>Cingulum_Ant_R</th>\n",
       "      <th>Cingulum_Mid_L</th>\n",
       "      <th>Cingulum_Mid_R</th>\n",
       "      <th>Precentral_L</th>\n",
       "      <th>Precentral_R</th>\n",
       "    </tr>\n",
       "  </thead>\n",
       "  <tbody>\n",
       "    <tr>\n",
       "      <th>0</th>\n",
       "      <td>0</td>\n",
       "      <td>0</td>\n",
       "      <td>0</td>\n",
       "      <td>0</td>\n",
       "      <td>0</td>\n",
       "      <td>0</td>\n",
       "      <td>0</td>\n",
       "      <td>0</td>\n",
       "      <td>0</td>\n",
       "      <td>0</td>\n",
       "      <td>...</td>\n",
       "      <td>0</td>\n",
       "      <td>0</td>\n",
       "      <td>0</td>\n",
       "      <td>0</td>\n",
       "      <td>0</td>\n",
       "      <td>0</td>\n",
       "      <td>0</td>\n",
       "      <td>0</td>\n",
       "      <td>0</td>\n",
       "      <td>0</td>\n",
       "    </tr>\n",
       "    <tr>\n",
       "      <th>1</th>\n",
       "      <td>0</td>\n",
       "      <td>0</td>\n",
       "      <td>0</td>\n",
       "      <td>0</td>\n",
       "      <td>0</td>\n",
       "      <td>0</td>\n",
       "      <td>0</td>\n",
       "      <td>0</td>\n",
       "      <td>0</td>\n",
       "      <td>0</td>\n",
       "      <td>...</td>\n",
       "      <td>0</td>\n",
       "      <td>0</td>\n",
       "      <td>1</td>\n",
       "      <td>1</td>\n",
       "      <td>0</td>\n",
       "      <td>0</td>\n",
       "      <td>0</td>\n",
       "      <td>0</td>\n",
       "      <td>0</td>\n",
       "      <td>0</td>\n",
       "    </tr>\n",
       "    <tr>\n",
       "      <th>2</th>\n",
       "      <td>0</td>\n",
       "      <td>0</td>\n",
       "      <td>0</td>\n",
       "      <td>0</td>\n",
       "      <td>0</td>\n",
       "      <td>0</td>\n",
       "      <td>0</td>\n",
       "      <td>0</td>\n",
       "      <td>0</td>\n",
       "      <td>0</td>\n",
       "      <td>...</td>\n",
       "      <td>0</td>\n",
       "      <td>0</td>\n",
       "      <td>0</td>\n",
       "      <td>0</td>\n",
       "      <td>0</td>\n",
       "      <td>0</td>\n",
       "      <td>0</td>\n",
       "      <td>0</td>\n",
       "      <td>0</td>\n",
       "      <td>0</td>\n",
       "    </tr>\n",
       "    <tr>\n",
       "      <th>3</th>\n",
       "      <td>0</td>\n",
       "      <td>0</td>\n",
       "      <td>0</td>\n",
       "      <td>0</td>\n",
       "      <td>0</td>\n",
       "      <td>0</td>\n",
       "      <td>0</td>\n",
       "      <td>0</td>\n",
       "      <td>0</td>\n",
       "      <td>0</td>\n",
       "      <td>...</td>\n",
       "      <td>0</td>\n",
       "      <td>0</td>\n",
       "      <td>1</td>\n",
       "      <td>1</td>\n",
       "      <td>0</td>\n",
       "      <td>0</td>\n",
       "      <td>0</td>\n",
       "      <td>0</td>\n",
       "      <td>0</td>\n",
       "      <td>0</td>\n",
       "    </tr>\n",
       "    <tr>\n",
       "      <th>4</th>\n",
       "      <td>0</td>\n",
       "      <td>0</td>\n",
       "      <td>0</td>\n",
       "      <td>0</td>\n",
       "      <td>0</td>\n",
       "      <td>0</td>\n",
       "      <td>0</td>\n",
       "      <td>0</td>\n",
       "      <td>0</td>\n",
       "      <td>0</td>\n",
       "      <td>...</td>\n",
       "      <td>0</td>\n",
       "      <td>0</td>\n",
       "      <td>0</td>\n",
       "      <td>0</td>\n",
       "      <td>0</td>\n",
       "      <td>0</td>\n",
       "      <td>0</td>\n",
       "      <td>0</td>\n",
       "      <td>0</td>\n",
       "      <td>0</td>\n",
       "    </tr>\n",
       "  </tbody>\n",
       "</table>\n",
       "<p>5 rows × 26 columns</p>\n",
       "</div>"
      ],
      "text/plain": [
       "   Frontal_Sup_L  Frontal_Sup_R  Frontal_Sup_Orb_L  Frontal_Sup_Orb_R  \\\n",
       "0              0              0                  0                  0   \n",
       "1              0              0                  0                  0   \n",
       "2              0              0                  0                  0   \n",
       "3              0              0                  0                  0   \n",
       "4              0              0                  0                  0   \n",
       "\n",
       "   Frontal_Mid_L  Frontal_Mid_R  Frontal_Mid_Orb_L  Frontal_Mid_Orb_R  \\\n",
       "0              0              0                  0                  0   \n",
       "1              0              0                  0                  0   \n",
       "2              0              0                  0                  0   \n",
       "3              0              0                  0                  0   \n",
       "4              0              0                  0                  0   \n",
       "\n",
       "   Frontal_Inf_Oper_L  Frontal_Inf_Oper_R      ...       Frontal_Sup_Medial_L  \\\n",
       "0                   0                   0      ...                          0   \n",
       "1                   0                   0      ...                          0   \n",
       "2                   0                   0      ...                          0   \n",
       "3                   0                   0      ...                          0   \n",
       "4                   0                   0      ...                          0   \n",
       "\n",
       "   Frontal_Sup_Medial_R  Insula_L  Insula_R  Cingulum_Ant_L  Cingulum_Ant_R  \\\n",
       "0                     0         0         0               0               0   \n",
       "1                     0         1         1               0               0   \n",
       "2                     0         0         0               0               0   \n",
       "3                     0         1         1               0               0   \n",
       "4                     0         0         0               0               0   \n",
       "\n",
       "   Cingulum_Mid_L  Cingulum_Mid_R  Precentral_L  Precentral_R  \n",
       "0               0               0             0             0  \n",
       "1               0               0             0             0  \n",
       "2               0               0             0             0  \n",
       "3               0               0             0             0  \n",
       "4               0               0             0             0  \n",
       "\n",
       "[5 rows x 26 columns]"
      ]
     },
     "execution_count": 11,
     "metadata": {},
     "output_type": "execute_result"
    }
   ],
   "source": [
    "data=pd.read_csv('../data_meta_analysis/Data_Classifications_v7.csv')\n",
    "#data.head()\n",
    "\n",
    "R1= pd.read_csv(\"../data_meta_analysis/data_derived_meta_analysis/X_region1_before_clustering_2.csv\")\n",
    "R1.head()"
   ]
  },
  {
   "cell_type": "code",
   "execution_count": 12,
   "metadata": {
    "collapsed": false
   },
   "outputs": [
    {
     "data": {
      "text/html": [
       "<div>\n",
       "<table border=\"1\" class=\"dataframe\">\n",
       "  <thead>\n",
       "    <tr style=\"text-align: right;\">\n",
       "      <th></th>\n",
       "      <th>PID</th>\n",
       "      <th>Info.type</th>\n",
       "      <th>MNI.Coordinates</th>\n",
       "      <th>Frontal_Sup_L</th>\n",
       "      <th>Frontal_Sup_R</th>\n",
       "      <th>Frontal_Sup_Orb_L</th>\n",
       "      <th>Frontal_Sup_Orb_R</th>\n",
       "      <th>Frontal_Mid_L</th>\n",
       "      <th>Frontal_Mid_R</th>\n",
       "      <th>Frontal_Mid_Orb_L</th>\n",
       "      <th>...</th>\n",
       "      <th>Frontal_Sup_Medial_L</th>\n",
       "      <th>Frontal_Sup_Medial_R</th>\n",
       "      <th>Insula_L</th>\n",
       "      <th>Insula_R</th>\n",
       "      <th>Cingulum_Ant_L</th>\n",
       "      <th>Cingulum_Ant_R</th>\n",
       "      <th>Cingulum_Mid_L</th>\n",
       "      <th>Cingulum_Mid_R</th>\n",
       "      <th>Precentral_L</th>\n",
       "      <th>Precentral_R</th>\n",
       "    </tr>\n",
       "  </thead>\n",
       "  <tbody>\n",
       "    <tr>\n",
       "      <th>0</th>\n",
       "      <td>1</td>\n",
       "      <td>Perceptual</td>\n",
       "      <td>-38,26,24;38,26,24</td>\n",
       "      <td>0</td>\n",
       "      <td>0</td>\n",
       "      <td>0</td>\n",
       "      <td>0</td>\n",
       "      <td>0</td>\n",
       "      <td>0</td>\n",
       "      <td>0</td>\n",
       "      <td>...</td>\n",
       "      <td>0</td>\n",
       "      <td>0</td>\n",
       "      <td>0</td>\n",
       "      <td>0</td>\n",
       "      <td>0</td>\n",
       "      <td>0</td>\n",
       "      <td>0</td>\n",
       "      <td>0</td>\n",
       "      <td>0</td>\n",
       "      <td>0</td>\n",
       "    </tr>\n",
       "    <tr>\n",
       "      <th>1</th>\n",
       "      <td>1</td>\n",
       "      <td>Perceptual</td>\n",
       "      <td>-35,19,3;35,19,3</td>\n",
       "      <td>0</td>\n",
       "      <td>0</td>\n",
       "      <td>0</td>\n",
       "      <td>0</td>\n",
       "      <td>0</td>\n",
       "      <td>0</td>\n",
       "      <td>0</td>\n",
       "      <td>...</td>\n",
       "      <td>0</td>\n",
       "      <td>0</td>\n",
       "      <td>1</td>\n",
       "      <td>1</td>\n",
       "      <td>0</td>\n",
       "      <td>0</td>\n",
       "      <td>0</td>\n",
       "      <td>0</td>\n",
       "      <td>0</td>\n",
       "      <td>0</td>\n",
       "    </tr>\n",
       "    <tr>\n",
       "      <th>2</th>\n",
       "      <td>1</td>\n",
       "      <td>Perceptual</td>\n",
       "      <td>-38,26,24;38,26,24</td>\n",
       "      <td>0</td>\n",
       "      <td>0</td>\n",
       "      <td>0</td>\n",
       "      <td>0</td>\n",
       "      <td>0</td>\n",
       "      <td>0</td>\n",
       "      <td>0</td>\n",
       "      <td>...</td>\n",
       "      <td>0</td>\n",
       "      <td>0</td>\n",
       "      <td>0</td>\n",
       "      <td>0</td>\n",
       "      <td>0</td>\n",
       "      <td>0</td>\n",
       "      <td>0</td>\n",
       "      <td>0</td>\n",
       "      <td>0</td>\n",
       "      <td>0</td>\n",
       "    </tr>\n",
       "    <tr>\n",
       "      <th>3</th>\n",
       "      <td>1</td>\n",
       "      <td>Perceptual</td>\n",
       "      <td>-35,19,3;35,19,3</td>\n",
       "      <td>0</td>\n",
       "      <td>0</td>\n",
       "      <td>0</td>\n",
       "      <td>0</td>\n",
       "      <td>0</td>\n",
       "      <td>0</td>\n",
       "      <td>0</td>\n",
       "      <td>...</td>\n",
       "      <td>0</td>\n",
       "      <td>0</td>\n",
       "      <td>1</td>\n",
       "      <td>1</td>\n",
       "      <td>0</td>\n",
       "      <td>0</td>\n",
       "      <td>0</td>\n",
       "      <td>0</td>\n",
       "      <td>0</td>\n",
       "      <td>0</td>\n",
       "    </tr>\n",
       "    <tr>\n",
       "      <th>4</th>\n",
       "      <td>1</td>\n",
       "      <td>Response</td>\n",
       "      <td>38,26,24</td>\n",
       "      <td>0</td>\n",
       "      <td>0</td>\n",
       "      <td>0</td>\n",
       "      <td>0</td>\n",
       "      <td>0</td>\n",
       "      <td>0</td>\n",
       "      <td>0</td>\n",
       "      <td>...</td>\n",
       "      <td>0</td>\n",
       "      <td>0</td>\n",
       "      <td>0</td>\n",
       "      <td>0</td>\n",
       "      <td>0</td>\n",
       "      <td>0</td>\n",
       "      <td>0</td>\n",
       "      <td>0</td>\n",
       "      <td>0</td>\n",
       "      <td>0</td>\n",
       "    </tr>\n",
       "  </tbody>\n",
       "</table>\n",
       "<p>5 rows × 29 columns</p>\n",
       "</div>"
      ],
      "text/plain": [
       "   PID   Info.type     MNI.Coordinates  Frontal_Sup_L  Frontal_Sup_R  \\\n",
       "0    1  Perceptual  -38,26,24;38,26,24              0              0   \n",
       "1    1  Perceptual    -35,19,3;35,19,3              0              0   \n",
       "2    1  Perceptual  -38,26,24;38,26,24              0              0   \n",
       "3    1  Perceptual    -35,19,3;35,19,3              0              0   \n",
       "4    1    Response            38,26,24              0              0   \n",
       "\n",
       "   Frontal_Sup_Orb_L  Frontal_Sup_Orb_R  Frontal_Mid_L  Frontal_Mid_R  \\\n",
       "0                  0                  0              0              0   \n",
       "1                  0                  0              0              0   \n",
       "2                  0                  0              0              0   \n",
       "3                  0                  0              0              0   \n",
       "4                  0                  0              0              0   \n",
       "\n",
       "   Frontal_Mid_Orb_L      ...       Frontal_Sup_Medial_L  \\\n",
       "0                  0      ...                          0   \n",
       "1                  0      ...                          0   \n",
       "2                  0      ...                          0   \n",
       "3                  0      ...                          0   \n",
       "4                  0      ...                          0   \n",
       "\n",
       "   Frontal_Sup_Medial_R  Insula_L  Insula_R  Cingulum_Ant_L  Cingulum_Ant_R  \\\n",
       "0                     0         0         0               0               0   \n",
       "1                     0         1         1               0               0   \n",
       "2                     0         0         0               0               0   \n",
       "3                     0         1         1               0               0   \n",
       "4                     0         0         0               0               0   \n",
       "\n",
       "   Cingulum_Mid_L  Cingulum_Mid_R  Precentral_L  Precentral_R  \n",
       "0               0               0             0             0  \n",
       "1               0               0             0             0  \n",
       "2               0               0             0             0  \n",
       "3               0               0             0             0  \n",
       "4               0               0             0             0  \n",
       "\n",
       "[5 rows x 29 columns]"
      ]
     },
     "execution_count": 12,
     "metadata": {},
     "output_type": "execute_result"
    }
   ],
   "source": [
    "data_simple =pd.concat((data[['PID','Info.type','MNI.Coordinates']],R1),axis=1)\n",
    "data_simple.head()"
   ]
  },
  {
   "cell_type": "code",
   "execution_count": 13,
   "metadata": {
    "collapsed": false
   },
   "outputs": [],
   "source": [
    "# get AAL atlas\n",
    "dataset = datasets.fetch_atlas_aal()\n",
    "atlas_filename = dataset.maps\n",
    "atlas_img = nib.load(dataset.maps)\n",
    "atlas_img_data = atlas_img.get_data()"
   ]
  },
  {
   "cell_type": "code",
   "execution_count": 14,
   "metadata": {
    "collapsed": false
   },
   "outputs": [],
   "source": [
    "def give_center_of_region_by_name(region_name,dataset=dataset,atlas_img=atlas_img,atlas_img_data=atlas_img_data):\n",
    "\n",
    "\n",
    "    \n",
    "    # get region number\n",
    "    index2 = np.array([d==region_name for d in dataset.labels])\n",
    "    index = np.array(dataset.indices)[index2][0]\n",
    "    #print(region_name)\n",
    "    #print(index)\n",
    "\n",
    "    # get all coordinates for the regions\n",
    "    where = np.where(atlas_img_data==np.float(index))\n",
    "\n",
    "    coords_in_matrix = np.vstack((where[0],where[1],where[2],np.ones((1,len(where[0])))[0,:]))\n",
    "    \n",
    "    # convert to MNI\n",
    "    coords_in_aal = np.empty(coords_in_matrix.shape)\n",
    "    for c in range(coords_in_matrix.shape[1]):\n",
    "        coords_in_aal[:,c] = np.dot(atlas_img.affine,coords_in_matrix[:,c])\n",
    "\n",
    "    # calculate centroid, just the mean along each axis \n",
    "    center = np.mean(coords_in_aal,axis=1)\n",
    "    return(center)"
   ]
  },
  {
   "cell_type": "code",
   "execution_count": 15,
   "metadata": {
    "collapsed": false
   },
   "outputs": [
    {
     "name": "stdout",
     "output_type": "stream",
     "text": [
      "[ -5.17379679  47.88703209  29.63636364   1.        ]\n",
      "[-38.93023256  -6.96142938  49.64038571   1.        ]\n"
     ]
    }
   ],
   "source": [
    "print(give_center_of_region_by_name(region_name='Frontal_Sup_Medial_L'))\n",
    "print(give_center_of_region_by_name(region_name='Precentral_L'))"
   ]
  },
  {
   "cell_type": "markdown",
   "metadata": {},
   "source": [
    "## Single DataFrame with Studies with only single region per observation"
   ]
  },
  {
   "cell_type": "code",
   "execution_count": 16,
   "metadata": {
    "collapsed": false,
    "scrolled": true
   },
   "outputs": [],
   "source": [
    "### put coordinates in the data-frame (only for single region observations for now)\n",
    "\n",
    "for row_num in range(R1.shape[0]):\n",
    "    R1.loc[row_num,:]==1\n",
    "    r = R1.loc[row_num,:]==1\n",
    "    regions_for_observation = list(r.index[R1.loc[row_num,:]==1])\n",
    "    #print(regions_for_observation)\n",
    "    #print(len(regions_for_observation))\n",
    "    # if observation has just one region \n",
    "    if len(regions_for_observation)==1:\n",
    "        region = regions_for_observation[0]\n",
    "        if type(data_simple.loc[row_num]['MNI.Coordinates']) is str:\n",
    "            #print('yes')\n",
    "            test = data_simple.loc[row_num]['MNI.Coordinates']\n",
    "            test = test.replace('_','')\n",
    "            test = test.replace('\\x05','')\n",
    "            test = test.split(';')[0]\n",
    "            if len(test.split(';'))>1:\n",
    "                print('checking')\n",
    "            center = [np.float(test.split(',')[i]) for i in range(3)]\n",
    "            center2 = center\n",
    "        else:\n",
    "            center = give_center_of_region_by_name(region_name=region)[:,np.newaxis]\n",
    "            center = list(center[:,0:3].flatten())[0:3] # just make a [x,y,z] list\n",
    "            center1 = center\n",
    "        data_simple.loc[row_num,'centroid']=str(center)\n",
    "    else:\n",
    "        data_simple.loc[row_num,'centroid']='NaN'\n",
    "    # more than one aal \n",
    "#     centers = np.ones((4,1))\n",
    "#     for region in regions_for_observation:\n",
    "#         center = give_center_of_region_by_name(region_name=region)[:,np.newaxis]\n",
    "#         centers = np.hstack((centers,center))\n",
    "#     centers = centers[:,1::]"
   ]
  },
  {
   "cell_type": "code",
   "execution_count": 17,
   "metadata": {
    "collapsed": false
   },
   "outputs": [
    {
     "data": {
      "text/plain": [
       "float"
      ]
     },
     "execution_count": 17,
     "metadata": {},
     "output_type": "execute_result"
    }
   ],
   "source": [
    "type(center2[1])"
   ]
  },
  {
   "cell_type": "code",
   "execution_count": 18,
   "metadata": {
    "collapsed": false
   },
   "outputs": [
    {
     "data": {
      "text/plain": [
       "numpy.float64"
      ]
     },
     "execution_count": 18,
     "metadata": {},
     "output_type": "execute_result"
    }
   ],
   "source": [
    "type(center1[1])"
   ]
  },
  {
   "cell_type": "code",
   "execution_count": 19,
   "metadata": {
    "collapsed": false
   },
   "outputs": [
    {
     "data": {
      "text/html": [
       "<div>\n",
       "<table border=\"1\" class=\"dataframe\">\n",
       "  <thead>\n",
       "    <tr style=\"text-align: right;\">\n",
       "      <th></th>\n",
       "      <th>PID</th>\n",
       "      <th>Info.type</th>\n",
       "      <th>MNI.Coordinates</th>\n",
       "      <th>Frontal_Sup_L</th>\n",
       "      <th>Frontal_Sup_R</th>\n",
       "      <th>Frontal_Sup_Orb_L</th>\n",
       "      <th>Frontal_Sup_Orb_R</th>\n",
       "      <th>Frontal_Mid_L</th>\n",
       "      <th>Frontal_Mid_R</th>\n",
       "      <th>Frontal_Mid_Orb_L</th>\n",
       "      <th>...</th>\n",
       "      <th>Frontal_Sup_Medial_R</th>\n",
       "      <th>Insula_L</th>\n",
       "      <th>Insula_R</th>\n",
       "      <th>Cingulum_Ant_L</th>\n",
       "      <th>Cingulum_Ant_R</th>\n",
       "      <th>Cingulum_Mid_L</th>\n",
       "      <th>Cingulum_Mid_R</th>\n",
       "      <th>Precentral_L</th>\n",
       "      <th>Precentral_R</th>\n",
       "      <th>centroid</th>\n",
       "    </tr>\n",
       "  </thead>\n",
       "  <tbody>\n",
       "    <tr>\n",
       "      <th>4</th>\n",
       "      <td>1</td>\n",
       "      <td>Response</td>\n",
       "      <td>38,26,24</td>\n",
       "      <td>0</td>\n",
       "      <td>0</td>\n",
       "      <td>0</td>\n",
       "      <td>0</td>\n",
       "      <td>0</td>\n",
       "      <td>0</td>\n",
       "      <td>0</td>\n",
       "      <td>...</td>\n",
       "      <td>0</td>\n",
       "      <td>0</td>\n",
       "      <td>0</td>\n",
       "      <td>0</td>\n",
       "      <td>0</td>\n",
       "      <td>0</td>\n",
       "      <td>0</td>\n",
       "      <td>0</td>\n",
       "      <td>0</td>\n",
       "      <td>[38.0, 26.0, 24.0]</td>\n",
       "    </tr>\n",
       "    <tr>\n",
       "      <th>6</th>\n",
       "      <td>1</td>\n",
       "      <td>Response</td>\n",
       "      <td>-38,26,24</td>\n",
       "      <td>0</td>\n",
       "      <td>0</td>\n",
       "      <td>0</td>\n",
       "      <td>0</td>\n",
       "      <td>0</td>\n",
       "      <td>0</td>\n",
       "      <td>0</td>\n",
       "      <td>...</td>\n",
       "      <td>0</td>\n",
       "      <td>0</td>\n",
       "      <td>0</td>\n",
       "      <td>0</td>\n",
       "      <td>0</td>\n",
       "      <td>0</td>\n",
       "      <td>0</td>\n",
       "      <td>0</td>\n",
       "      <td>0</td>\n",
       "      <td>[-38.0, 26.0, 24.0]</td>\n",
       "    </tr>\n",
       "    <tr>\n",
       "      <th>7</th>\n",
       "      <td>1</td>\n",
       "      <td>Rule</td>\n",
       "      <td>38,26,24</td>\n",
       "      <td>0</td>\n",
       "      <td>0</td>\n",
       "      <td>0</td>\n",
       "      <td>0</td>\n",
       "      <td>0</td>\n",
       "      <td>0</td>\n",
       "      <td>0</td>\n",
       "      <td>...</td>\n",
       "      <td>0</td>\n",
       "      <td>0</td>\n",
       "      <td>0</td>\n",
       "      <td>0</td>\n",
       "      <td>0</td>\n",
       "      <td>0</td>\n",
       "      <td>0</td>\n",
       "      <td>0</td>\n",
       "      <td>0</td>\n",
       "      <td>[38.0, 26.0, 24.0]</td>\n",
       "    </tr>\n",
       "    <tr>\n",
       "      <th>11</th>\n",
       "      <td>1</td>\n",
       "      <td>Rule</td>\n",
       "      <td>-38,26,24</td>\n",
       "      <td>0</td>\n",
       "      <td>0</td>\n",
       "      <td>0</td>\n",
       "      <td>0</td>\n",
       "      <td>0</td>\n",
       "      <td>0</td>\n",
       "      <td>0</td>\n",
       "      <td>...</td>\n",
       "      <td>0</td>\n",
       "      <td>0</td>\n",
       "      <td>0</td>\n",
       "      <td>0</td>\n",
       "      <td>0</td>\n",
       "      <td>0</td>\n",
       "      <td>0</td>\n",
       "      <td>0</td>\n",
       "      <td>0</td>\n",
       "      <td>[-38.0, 26.0, 24.0]</td>\n",
       "    </tr>\n",
       "    <tr>\n",
       "      <th>24</th>\n",
       "      <td>3</td>\n",
       "      <td>Rule</td>\n",
       "      <td>-3,14,49</td>\n",
       "      <td>0</td>\n",
       "      <td>0</td>\n",
       "      <td>0</td>\n",
       "      <td>0</td>\n",
       "      <td>0</td>\n",
       "      <td>0</td>\n",
       "      <td>0</td>\n",
       "      <td>...</td>\n",
       "      <td>0</td>\n",
       "      <td>0</td>\n",
       "      <td>0</td>\n",
       "      <td>0</td>\n",
       "      <td>0</td>\n",
       "      <td>0</td>\n",
       "      <td>0</td>\n",
       "      <td>0</td>\n",
       "      <td>0</td>\n",
       "      <td>[-3.0, 14.0, 49.0]</td>\n",
       "    </tr>\n",
       "  </tbody>\n",
       "</table>\n",
       "<p>5 rows × 30 columns</p>\n",
       "</div>"
      ],
      "text/plain": [
       "    PID Info.type MNI.Coordinates  Frontal_Sup_L  Frontal_Sup_R  \\\n",
       "4     1  Response        38,26,24              0              0   \n",
       "6     1  Response       -38,26,24              0              0   \n",
       "7     1      Rule        38,26,24              0              0   \n",
       "11    1      Rule       -38,26,24              0              0   \n",
       "24    3      Rule        -3,14,49              0              0   \n",
       "\n",
       "    Frontal_Sup_Orb_L  Frontal_Sup_Orb_R  Frontal_Mid_L  Frontal_Mid_R  \\\n",
       "4                   0                  0              0              0   \n",
       "6                   0                  0              0              0   \n",
       "7                   0                  0              0              0   \n",
       "11                  0                  0              0              0   \n",
       "24                  0                  0              0              0   \n",
       "\n",
       "    Frontal_Mid_Orb_L         ...           Frontal_Sup_Medial_R  Insula_L  \\\n",
       "4                   0         ...                              0         0   \n",
       "6                   0         ...                              0         0   \n",
       "7                   0         ...                              0         0   \n",
       "11                  0         ...                              0         0   \n",
       "24                  0         ...                              0         0   \n",
       "\n",
       "    Insula_R  Cingulum_Ant_L  Cingulum_Ant_R  Cingulum_Mid_L  Cingulum_Mid_R  \\\n",
       "4          0               0               0               0               0   \n",
       "6          0               0               0               0               0   \n",
       "7          0               0               0               0               0   \n",
       "11         0               0               0               0               0   \n",
       "24         0               0               0               0               0   \n",
       "\n",
       "    Precentral_L  Precentral_R             centroid  \n",
       "4              0             0   [38.0, 26.0, 24.0]  \n",
       "6              0             0  [-38.0, 26.0, 24.0]  \n",
       "7              0             0   [38.0, 26.0, 24.0]  \n",
       "11             0             0  [-38.0, 26.0, 24.0]  \n",
       "24             0             0   [-3.0, 14.0, 49.0]  \n",
       "\n",
       "[5 rows x 30 columns]"
      ]
     },
     "execution_count": 19,
     "metadata": {},
     "output_type": "execute_result"
    }
   ],
   "source": [
    "data_simple_one_region = data_simple.loc[data_simple.centroid!='NaN',]\n",
    "data_simple_one_region.head()\n",
    "\n",
    "#data_simple.centroid"
   ]
  },
  {
   "cell_type": "code",
   "execution_count": 20,
   "metadata": {
    "collapsed": false
   },
   "outputs": [],
   "source": [
    "#data_simple_one_region.iloc[:,2:-1].sum\n"
   ]
  },
  {
   "cell_type": "code",
   "execution_count": 21,
   "metadata": {
    "collapsed": false
   },
   "outputs": [],
   "source": [
    "\n",
    "def get_distance_matrix_for_study(PID,data_simple_one_region):\n",
    "    #print(PID)\n",
    "    study_data = data_simple_one_region.loc[data_simple_one_region.PID==PID,'centroid']\n",
    "\n",
    "    study_data_regions = data_simple_one_region.loc[data_simple_one_region.PID==PID,:]\n",
    "    study_data_regions = study_data_regions.iloc[:,3:29]\n",
    "    # find number of ROIs used in a study \n",
    "    d= data_simple_one_region.loc[data_simple_one_region.PID==PID,]\n",
    "    #print(d)\n",
    "    n_rois = d.iloc[:,3:-1].max(0).sum() # find a 1 first along different analyses, and then sum across ROI's\n",
    "\n",
    "    \n",
    "    distance_matrix = np.zeros((len(study_data),len(study_data)))\n",
    "    distance_matrix_names = np.chararray((len(study_data),len(study_data)),itemsize=100)\n",
    "    \n",
    "    for i in range(len(study_data)):\n",
    "        for j in range(len(study_data)):\n",
    "            p0 = np.array(ast.literal_eval(study_data.iloc[i]))\n",
    "\n",
    "            p0_row = study_data_regions.iloc[i,:]\n",
    "            p0_region_name = study_data_regions.columns[p0_row==1][0]\n",
    "\n",
    "            p1 = np.array(ast.literal_eval(study_data.iloc[j]))\n",
    "            p1_row = study_data_regions.iloc[j,:]\n",
    "            p1_region_name = study_data_regions.columns[p1_row==1][0]\n",
    "            distance_matrix[i,j]=distance(p0,p1)\n",
    "            distance_matrix_names[i,j]=p0_region_name+'--'+p1_region_name\n",
    "\n",
    "    # get the upper triangular indices\n",
    "    iu1 = np.triu_indices(np.shape(distance_matrix)[0])\n",
    "    # set to -1 \n",
    "    distance_matrix[iu1]=-1\n",
    "    # get all other distances #\n",
    "    distances = distance_matrix[distance_matrix!=-1]\n",
    "    \n",
    "    n_analyses_per_study=len(study_data)\n",
    "    \n",
    "    return(distances,distance_matrix,n_analyses_per_study,n_rois,distance_matrix_names)\n",
    "\n",
    "    "
   ]
  },
  {
   "cell_type": "code",
   "execution_count": 22,
   "metadata": {
    "collapsed": false,
    "scrolled": false
   },
   "outputs": [
    {
     "data": {
      "text/plain": [
       "(array([ 88.89319434,  14.        ,  76.90253572,   0.        ,\n",
       "         88.89319434,  14.        ,  39.23009049,  54.41507144,\n",
       "         28.47806173,  39.23009049,  14.        ,  76.90253572,\n",
       "          0.        ,  14.        ,  28.47806173]),\n",
       " array([[ -1.        ,  -1.        ,  -1.        ,  -1.        ,\n",
       "          -1.        ,  -1.        ],\n",
       "        [ 88.89319434,  -1.        ,  -1.        ,  -1.        ,\n",
       "          -1.        ,  -1.        ],\n",
       "        [ 14.        ,  76.90253572,  -1.        ,  -1.        ,\n",
       "          -1.        ,  -1.        ],\n",
       "        [  0.        ,  88.89319434,  14.        ,  -1.        ,\n",
       "          -1.        ,  -1.        ],\n",
       "        [ 39.23009049,  54.41507144,  28.47806173,  39.23009049,\n",
       "          -1.        ,  -1.        ],\n",
       "        [ 14.        ,  76.90253572,   0.        ,  14.        ,\n",
       "          28.47806173,  -1.        ]]),\n",
       " 6,\n",
       " 4,\n",
       " chararray([['Frontal_Inf_Orb_L--Frontal_Inf_Orb_L',\n",
       "         'Frontal_Inf_Orb_L--Frontal_Sup_L',\n",
       "         'Frontal_Inf_Orb_L--Frontal_Inf_Tri_L',\n",
       "         'Frontal_Inf_Orb_L--Frontal_Inf_Orb_L',\n",
       "         'Frontal_Inf_Orb_L--Frontal_Inf_Oper_L',\n",
       "         'Frontal_Inf_Orb_L--Frontal_Inf_Tri_L'],\n",
       "        ['Frontal_Sup_L--Frontal_Inf_Orb_L', 'Frontal_Sup_L--Frontal_Sup_L',\n",
       "         'Frontal_Sup_L--Frontal_Inf_Tri_L',\n",
       "         'Frontal_Sup_L--Frontal_Inf_Orb_L',\n",
       "         'Frontal_Sup_L--Frontal_Inf_Oper_L',\n",
       "         'Frontal_Sup_L--Frontal_Inf_Tri_L'],\n",
       "        ['Frontal_Inf_Tri_L--Frontal_Inf_Orb_L',\n",
       "         'Frontal_Inf_Tri_L--Frontal_Sup_L',\n",
       "         'Frontal_Inf_Tri_L--Frontal_Inf_Tri_L',\n",
       "         'Frontal_Inf_Tri_L--Frontal_Inf_Orb_L',\n",
       "         'Frontal_Inf_Tri_L--Frontal_Inf_Oper_L',\n",
       "         'Frontal_Inf_Tri_L--Frontal_Inf_Tri_L'],\n",
       "        ['Frontal_Inf_Orb_L--Frontal_Inf_Orb_L',\n",
       "         'Frontal_Inf_Orb_L--Frontal_Sup_L',\n",
       "         'Frontal_Inf_Orb_L--Frontal_Inf_Tri_L',\n",
       "         'Frontal_Inf_Orb_L--Frontal_Inf_Orb_L',\n",
       "         'Frontal_Inf_Orb_L--Frontal_Inf_Oper_L',\n",
       "         'Frontal_Inf_Orb_L--Frontal_Inf_Tri_L'],\n",
       "        ['Frontal_Inf_Oper_L--Frontal_Inf_Orb_L',\n",
       "         'Frontal_Inf_Oper_L--Frontal_Sup_L',\n",
       "         'Frontal_Inf_Oper_L--Frontal_Inf_Tri_L',\n",
       "         'Frontal_Inf_Oper_L--Frontal_Inf_Orb_L',\n",
       "         'Frontal_Inf_Oper_L--Frontal_Inf_Oper_L',\n",
       "         'Frontal_Inf_Oper_L--Frontal_Inf_Tri_L'],\n",
       "        ['Frontal_Inf_Tri_L--Frontal_Inf_Orb_L',\n",
       "         'Frontal_Inf_Tri_L--Frontal_Sup_L',\n",
       "         'Frontal_Inf_Tri_L--Frontal_Inf_Tri_L',\n",
       "         'Frontal_Inf_Tri_L--Frontal_Inf_Orb_L',\n",
       "         'Frontal_Inf_Tri_L--Frontal_Inf_Oper_L',\n",
       "         'Frontal_Inf_Tri_L--Frontal_Inf_Tri_L']], \n",
       "       dtype='|S100'))"
      ]
     },
     "execution_count": 22,
     "metadata": {},
     "output_type": "execute_result"
    }
   ],
   "source": [
    "get_distance_matrix_for_study(6,data_simple_one_region)"
   ]
  },
  {
   "cell_type": "code",
   "execution_count": 23,
   "metadata": {
    "collapsed": true
   },
   "outputs": [],
   "source": [
    "import seaborn as sns"
   ]
  },
  {
   "cell_type": "code",
   "execution_count": 24,
   "metadata": {
    "collapsed": false
   },
   "outputs": [
    {
     "data": {
      "image/png": "[encoded data removed]",
      "text/plain": [
       "<matplotlib.figure.Figure at 0x7f3be491d3d0>"
      ]
     },
     "metadata": {},
     "output_type": "display_data"
    }
   ],
   "source": [
    "\n",
    "    \n",
    "sns.set_context('paper',font_scale=1.8)\n",
    "sns.set_style('whitegrid',{'figure.facecolor':'white'})\n",
    "\n",
    "# total storage for histogram \n",
    "all_distances = np.array([])\n",
    "\n",
    "number_sharing_an_roi=np.empty(len(data_simple_one_region.PID.unique()))\n",
    "total_num=np.empty(len(data_simple_one_region.PID.unique()))\n",
    "\n",
    "n_obs=np.empty(len(data_simple_one_region.PID.unique()))\n",
    "n_rois=np.empty(len(data_simple_one_region.PID.unique()))\n",
    "\n",
    "f,axarray=plt.subplots(2,1,figsize=(8,10),sharex=False)\n",
    "\n",
    "PIDs = np.array([])\n",
    "\n",
    "# loop through studies with one region and print \n",
    "for pid,PID in enumerate(data_simple_one_region.PID.unique()):\n",
    "\n",
    "    single_study_distances,_,n_obs[pid],n_rois[pid],_ = get_distance_matrix_for_study(PID,data_simple_one_region)\n",
    "    \n",
    "    # scatter plot \n",
    "    axarray[0].scatter(single_study_distances,np.ones(len(single_study_distances))*PID);\n",
    "    \n",
    "    # store all distances. \n",
    "    all_distances = np.append(all_distances,single_study_distances)\n",
    "    \n",
    "    #calculate the percentage of 0-distance per study \n",
    "    number_sharing_an_roi[pid] = np.sum(single_study_distances==0)\n",
    "    total_num[pid] = len(single_study_distances)\n",
    "    \n",
    "    PIDs = np.append(PIDs,PID)\n",
    "    \n",
    "\n",
    "\n",
    "axarray[1].hist(all_distances,20);\n",
    "axarray[0].set_ylabel('study id')\n",
    "\n",
    "axarray[0].set_xlabel('distance (mm) between analyses in the same study')\n",
    "start, end = axarray[0].get_xlim()\n",
    "axarray[1].set_xticks(np.arange(start,end,10))\n",
    "axarray[0].set_xticks(np.arange(start,end,10))\n",
    "\n",
    "sns.despine()\n",
    "\n",
    "plt.savefig('../Figures/Supp/withinstudy_distances_using_coordinates.png')"
   ]
  },
  {
   "cell_type": "markdown",
   "metadata": {},
   "source": [
    "Why are there two observations with inbetween 0-10mm? "
   ]
  },
  {
   "cell_type": "code",
   "execution_count": 26,
   "metadata": {
    "collapsed": false,
    "scrolled": true
   },
   "outputs": [],
   "source": [
    "distances,distance_matrix,n_analyses_per_study,_,distance_matrix_names=get_distance_matrix_for_study(44,data_simple_one_region)\n",
    "### finding speficic pairwise combo \n",
    "#distance_matrix_names[np.round(distance_matrix,2)==3.6]\n",
    "#disances"
   ]
  },
  {
   "cell_type": "code",
   "execution_count": 27,
   "metadata": {
    "collapsed": false
   },
   "outputs": [
    {
     "name": "stdout",
     "output_type": "stream",
     "text": [
      "[ 40.91036907  30.99472759 -13.25834798   1.        ]\n",
      "[ 37.39184953  31.7507837   32.81426332   1.        ]\n",
      "46.2129539496\n"
     ]
    }
   ],
   "source": [
    "p0=give_center_of_region_by_name(region_name='Frontal_Inf_Orb_R')\n",
    "p1=give_center_of_region_by_name(region_name='Frontal_Mid_R')\n",
    "print(p0)\n",
    "print(p1)\n",
    "print(distance(p0,p1))"
   ]
  },
  {
   "cell_type": "markdown",
   "metadata": {},
   "source": [
    "# Within Study Percent of Pairwise Distances"
   ]
  },
  {
   "cell_type": "code",
   "execution_count": 28,
   "metadata": {
    "collapsed": false
   },
   "outputs": [
    {
     "name": "stdout",
     "output_type": "stream",
     "text": [
      "0.179340028694\n",
      "0.0896700143472\n"
     ]
    }
   ],
   "source": [
    "total = len(all_distances) \n",
    "print(2000.0/total)\n",
    "print(1000.0/total)"
   ]
  },
  {
   "cell_type": "code",
   "execution_count": 29,
   "metadata": {
    "collapsed": false
   },
   "outputs": [
    {
     "data": {
      "text/plain": [
       "array([[   2,    6],\n",
       "       [  21,   21],\n",
       "       [   2,   15],\n",
       "       [   6,   66],\n",
       "       [   2,  276],\n",
       "       [   8,   36],\n",
       "       [   3,    3],\n",
       "       [ 508, 4560],\n",
       "       [  28,   28],\n",
       "       [   0,    3],\n",
       "       [   0,    1],\n",
       "       [   1,  120],\n",
       "       [   0,    3],\n",
       "       [   0,    0],\n",
       "       [   1,    1],\n",
       "       [  15,   15],\n",
       "       [   0,    1],\n",
       "       [  12,   66],\n",
       "       [   0,    6],\n",
       "       [   1,    1],\n",
       "       [   0,   36],\n",
       "       [  44,  325],\n",
       "       [   1,    3],\n",
       "       [   4,   28],\n",
       "       [  11,  231],\n",
       "       [  15,   15],\n",
       "       [ 528, 4560],\n",
       "       [  60,  276],\n",
       "       [   0,    0],\n",
       "       [   0,   15],\n",
       "       [   0,    0],\n",
       "       [   0,   28],\n",
       "       [   2,    6],\n",
       "       [   0,    0],\n",
       "       [   0,    0],\n",
       "       [   0,    0],\n",
       "       [   0,    0],\n",
       "       [   6,    6],\n",
       "       [   0,    0],\n",
       "       [   1,    1],\n",
       "       [   2,    6],\n",
       "       [   0,    0],\n",
       "       [  10,  190],\n",
       "       [   6,    6],\n",
       "       [  15,  105],\n",
       "       [   4,   28],\n",
       "       [   1,    1],\n",
       "       [   1,    1],\n",
       "       [   6,   15],\n",
       "       [  12,   28],\n",
       "       [   0,    1],\n",
       "       [   0,    3],\n",
       "       [   0,   10]])"
      ]
     },
     "execution_count": 29,
     "metadata": {},
     "output_type": "execute_result"
    }
   ],
   "source": [
    "np.vstack((number_sharing_an_roi,total_num,)).astype('int').T"
   ]
  },
  {
   "cell_type": "code",
   "execution_count": 30,
   "metadata": {
    "collapsed": false
   },
   "outputs": [
    {
     "data": {
      "text/plain": [
       "array([   6,   21,   15,   66,  276,   36,    3, 4560,   28,    3,    1,\n",
       "        120,    3,    0,    1,   15,    1,   66,    6,    1,   36,  325,\n",
       "          3,   28,  231,   15, 4560,  276,    0,   15,    0,   28,    6,\n",
       "          0,    0,    0,    0,    6,    0,    1,    6,    0,  190,    6,\n",
       "        105,   28,    1,    1,   15,   28,    1,    3,   10])"
      ]
     },
     "execution_count": 30,
     "metadata": {},
     "output_type": "execute_result"
    }
   ],
   "source": [
    "total_num.astype('int')"
   ]
  },
  {
   "cell_type": "code",
   "execution_count": 31,
   "metadata": {
    "collapsed": false
   },
   "outputs": [
    {
     "data": {
      "text/plain": [
       "array([ 0.33333333,  1.        ,  0.13333333,  0.09090909,  0.00724638,\n",
       "        0.22222222,  1.        ,  0.11140351,  1.        ,  0.        ,\n",
       "        0.        ,  0.00833333,  0.        ,         nan,  1.        ,\n",
       "        1.        ,  0.        ,  0.18181818,  0.        ,  1.        ,\n",
       "        0.        ,  0.13538462,  0.33333333,  0.14285714,  0.04761905,\n",
       "        1.        ,  0.11578947,  0.2173913 ,         nan,  0.        ,\n",
       "               nan,  0.        ,  0.33333333,         nan,         nan,\n",
       "               nan,         nan,  1.        ,         nan,  1.        ,\n",
       "        0.33333333,         nan,  0.05263158,  1.        ,  0.14285714,\n",
       "        0.14285714,  1.        ,  1.        ,  0.4       ,  0.42857143,\n",
       "        0.        ,  0.        ,  0.        ])"
      ]
     },
     "execution_count": 31,
     "metadata": {},
     "output_type": "execute_result"
    }
   ],
   "source": [
    "number_sharing_an_roi/total_num"
   ]
  },
  {
   "cell_type": "code",
   "execution_count": 32,
   "metadata": {
    "collapsed": false
   },
   "outputs": [
    {
     "name": "stdout",
     "output_type": "stream",
     "text": [
      "53\n"
     ]
    }
   ],
   "source": [
    "x = np.arange(1,pid)\n",
    "\n",
    "print(len(total_num.astype('int')))"
   ]
  },
  {
   "cell_type": "code",
   "execution_count": 33,
   "metadata": {
    "collapsed": false
   },
   "outputs": [
    {
     "data": {
      "image/png": "[encoded data removed]",
      "text/plain": [
       "<matplotlib.figure.Figure at 0x7f3be19bc250>"
      ]
     },
     "metadata": {},
     "output_type": "display_data"
    }
   ],
   "source": [
    "f,axarray=plt.subplots(1,1,figsize=(12,8))\n",
    "x = np.arange(0,len(total_num))\n",
    "y = total_num.astype('int')\n",
    "y = number_sharing_an_roi/total_num\n",
    "axarray.bar(x,y)\n",
    "axarray.set_xlabel('PID')\n",
    "axarray.set_ylabel('percent of pairs of analyses that come from same ROI')\n",
    "plt.savefig('../Figures/Supp/withinstudy_distances_percent_pairs_same_ROI.png')"
   ]
  },
  {
   "cell_type": "code",
   "execution_count": 34,
   "metadata": {
    "collapsed": false
   },
   "outputs": [
    {
     "data": {
      "text/plain": [
       "0.22641509433962265"
      ]
     },
     "execution_count": 34,
     "metadata": {},
     "output_type": "execute_result"
    }
   ],
   "source": [
    "np.mean(y==1)"
   ]
  },
  {
   "cell_type": "markdown",
   "metadata": {},
   "source": [
    "# Number of Total Analyses per study - Percent Different ROIs"
   ]
  },
  {
   "cell_type": "code",
   "execution_count": 35,
   "metadata": {
    "collapsed": false
   },
   "outputs": [
    {
     "data": {
      "text/plain": [
       "array([  4.,   7.,   6.,  12.,  24.,   9.,   3.,  96.,   8.,   3.,   2.,\n",
       "        16.,   3.,   1.,   2.,   6.,   2.,  12.,   4.,   2.,   9.,  26.,\n",
       "         3.,   8.,  22.,   6.,  96.,  24.,   1.,   6.,   1.,   8.,   4.,\n",
       "         1.,   1.,   1.,   1.,   4.,   1.,   2.,   4.,   1.,  20.,   4.,\n",
       "        15.,   8.,   2.,   2.,   6.,   8.,   2.,   3.,   5.])"
      ]
     },
     "execution_count": 35,
     "metadata": {},
     "output_type": "execute_result"
    }
   ],
   "source": [
    "n_obs"
   ]
  },
  {
   "cell_type": "code",
   "execution_count": 36,
   "metadata": {
    "collapsed": false
   },
   "outputs": [
    {
     "data": {
      "text/plain": [
       "array([  2.,   1.,   4.,   6.,  22.,   4.,   1.,   7.,   1.,   3.,   1.,\n",
       "        15.,   3.,   1.,   1.,   1.,   2.,   4.,   4.,   1.,   5.,   5.,\n",
       "         1.,   4.,   9.,   1.,   6.,   4.,   1.,   6.,   1.,   8.,   2.,\n",
       "         1.,   1.,   1.,   1.,   1.,   1.,   1.,   2.,   1.,  10.,   1.,\n",
       "         4.,   4.,   1.,   1.,   2.,   2.,   2.,   3.,   5.])"
      ]
     },
     "execution_count": 36,
     "metadata": {},
     "output_type": "execute_result"
    }
   ],
   "source": [
    "n_rois"
   ]
  },
  {
   "cell_type": "code",
   "execution_count": 37,
   "metadata": {
    "collapsed": false
   },
   "outputs": [
    {
     "data": {
      "text/plain": [
       "array([  1.,   3.,   6.,   9.,  10.,  11.,  12.,  13.,  18.,  20.,  21.,\n",
       "        23.,  24.,  26.,  27.,  28.,  30.,  31.,  32.,  33.,  39.,  41.,\n",
       "        42.,  43.,  44.,  47.,  48.,  49.,  50.,  52.,  53.,  55.,  56.,\n",
       "        57.,  59.,  60.,  62.,  63.,  64.,  65.,  66.,  68.,  70.,  80.,\n",
       "        81.,  82.,  84.,  85.,  87.,  89.,  90.,  91.,  92.])"
      ]
     },
     "execution_count": 37,
     "metadata": {},
     "output_type": "execute_result"
    }
   ],
   "source": [
    "PIDs"
   ]
  },
  {
   "cell_type": "code",
   "execution_count": 38,
   "metadata": {
    "collapsed": false
   },
   "outputs": [
    {
     "data": {
      "text/plain": [
       "array([  2.,   1.,   4.,   6.,  22.,   4.,   1.,   7.,   1.,   3.,   1.,\n",
       "        15.,   3.,   1.,   1.,   1.,   2.,   4.,   4.,   1.,   5.,   5.,\n",
       "         1.,   4.,   9.,   1.,   6.,   4.,   1.,   6.,   1.,   8.,   2.,\n",
       "         1.,   1.,   1.,   1.,   1.,   1.,   1.,   2.,   1.,  10.,   1.,\n",
       "         4.,   4.,   1.,   1.,   2.,   2.,   2.,   3.,   5.])"
      ]
     },
     "execution_count": 38,
     "metadata": {},
     "output_type": "execute_result"
    }
   ],
   "source": [
    "n_rois"
   ]
  },
  {
   "cell_type": "code",
   "execution_count": 39,
   "metadata": {
    "collapsed": false
   },
   "outputs": [
    {
     "data": {
      "image/png": "[encoded data removed]",
      "text/plain": [
       "<matplotlib.figure.Figure at 0x7f3be1843950>"
      ]
     },
     "metadata": {},
     "output_type": "display_data"
    }
   ],
   "source": [
    "f,axarray=plt.subplots(1,1,figsize=(12,8))\n",
    "x = np.arange(len(n_obs))\n",
    "y = n_obs\n",
    "axarray.bar(x,y)\n",
    "y = n_rois\n",
    "axarray.bar(x,y,color='r')\n",
    "axarray.set_xlabel('Paper')\n",
    "axarray.set_ylabel('total analyses per study blue - unique AAL regions used')\n",
    "plt.savefig('../Figures/Supp/total_analyses_unique_rois.png')"
   ]
  },
  {
   "cell_type": "code",
   "execution_count": null,
   "metadata": {
    "collapsed": false
   },
   "outputs": [],
   "source": [
    "np.sum(n_rois)/np.sum(n_obs)"
   ]
  }
 ],
 "metadata": {
  "hide_input": false,
  "kernelspec": {
   "display_name": "Python 2",
   "language": "python",
   "name": "python2"
  },
  "language_info": {
   "codemirror_mode": {
    "name": "ipython",
    "version": 2
   },
   "file_extension": ".py",
   "mimetype": "text/x-python",
   "name": "python",
   "nbconvert_exporter": "python",
   "pygments_lexer": "ipython2",
   "version": "2.7.12"
  }
 },
 "nbformat": 4,
 "nbformat_minor": 0
}
