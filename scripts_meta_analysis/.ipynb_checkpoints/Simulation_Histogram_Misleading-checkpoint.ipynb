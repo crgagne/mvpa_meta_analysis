{
 "cells": [
  {
   "cell_type": "code",
   "execution_count": 22,
   "metadata": {
    "collapsed": true
   },
   "outputs": [],
   "source": [
    "import numpy as np\n",
    "import matplotlib.pyplot as plt\n",
    "%matplotlib inline\n",
    "import scipy.stats"
   ]
  },
  {
   "cell_type": "code",
   "execution_count": null,
   "metadata": {
    "collapsed": true
   },
   "outputs": [],
   "source": []
  },
  {
   "cell_type": "markdown",
   "metadata": {},
   "source": [
    "sample study n from a inverse gamma so there are a few studies with large numbers of observations"
   ]
  },
  {
   "cell_type": "code",
   "execution_count": 105,
   "metadata": {
    "collapsed": false
   },
   "outputs": [
    {
     "data": {
      "text/plain": [
       "(array([ 9.,  7.,  2.,  1.,  0.,  0.,  0.,  0.,  0.,  1.]),\n",
       " array([  1.22028373,   2.10591923,   2.99155473,   3.87719024,\n",
       "          4.76282574,   5.64846124,   6.53409674,   7.41973224,\n",
       "          8.30536774,   9.19100325,  10.07663875]),\n",
       " <a list of 10 Patch objects>)"
      ]
     },
     "execution_count": 105,
     "metadata": {},
     "output_type": "execute_result"
    },
    {
     "data": {
      "image/png": "[encoded data removed]",
      "text/plain": [
       "<matplotlib.figure.Figure at 0x7fc2a9d002d0>"
      ]
     },
     "metadata": {},
     "output_type": "display_data"
    }
   ],
   "source": [
    "plt.hist(scipy.stats.invgamma(loc=1,a=1.5).rvs(20))"
   ]
  },
  {
   "cell_type": "markdown",
   "metadata": {},
   "source": [
    "draw from hierarchical gaussian process. "
   ]
  },
  {
   "cell_type": "code",
   "execution_count": 109,
   "metadata": {
    "collapsed": false
   },
   "outputs": [],
   "source": [
    "def process(us):\n",
    "    u = np.random.normal(size=us)\n",
    "    x = np.array([])\n",
    "    siz = np.array([])\n",
    "    for ui in u:\n",
    "        size = int(scipy.stats.invgamma(loc=1,a=1.5).rvs(1))\n",
    "        siz = np.append(siz,size)\n",
    "        xi = np.random.normal(loc=ui,size=size)\n",
    "        x = np.append(x,xi)\n",
    "    return(x,siz)"
   ]
  },
  {
   "cell_type": "markdown",
   "metadata": {},
   "source": [
    "with 200 means the distribution looks quite normal.  "
   ]
  },
  {
   "cell_type": "code",
   "execution_count": 136,
   "metadata": {
    "collapsed": false
   },
   "outputs": [
    {
     "name": "stdout",
     "output_type": "stream",
     "text": [
      "[ 1.  1.  1. ...,  1.  3.  2.]\n"
     ]
    },
    {
     "data": {
      "text/plain": [
       "(array([   24.,   145.,   413.,   981.,  1331.,  1136.,   590.,   182.,\n",
       "           40.,     6.]),\n",
       " array([-4.57310324, -3.57953343, -2.58596363, -1.59239382, -0.59882401,\n",
       "         0.39474579,  1.3883156 ,  2.38188541,  3.37545521,  4.36902502,\n",
       "         5.36259483]),\n",
       " <a list of 10 Patch objects>)"
      ]
     },
     "execution_count": 136,
     "metadata": {},
     "output_type": "execute_result"
    },
    {
     "data": {
      "image/png": "[encoded data removed]",
      "text/plain": [
       "<matplotlib.figure.Figure at 0x7fc2a887f990>"
      ]
     },
     "metadata": {},
     "output_type": "display_data"
    }
   ],
   "source": [
    "x,size = process(2000) # 20 means \n",
    "print(size)\n",
    "plt.hist(x)"
   ]
  },
  {
   "cell_type": "markdown",
   "metadata": {},
   "source": [
    "No skew.   "
   ]
  },
  {
   "cell_type": "code",
   "execution_count": 146,
   "metadata": {
    "collapsed": false
   },
   "outputs": [
    {
     "name": "stdout",
     "output_type": "stream",
     "text": [
      "[  1.   1.   2.   4.   3.   1.   2.   3.   5.   2.   1.   1.   1.   2.   1.\n",
      "   1.   2.   1.   9.   1.   2.   1.   1.   1.   2.  16.   1.   3.   1.   1.\n",
      "   1.   1.   1.   2.   1.   2.   1.   1.   1.   1.  13.   4.   2.   2.   1.\n",
      "  12.   1.   1.   3.   1.]\n"
     ]
    },
    {
     "data": {
      "text/plain": [
       "(array([  1.,   5.,   3.,   6.,  18.,  23.,  26.,  19.,  14.,  10.]),\n",
       " array([-4.24597869, -3.52964378, -2.81330887, -2.09697396, -1.38063905,\n",
       "        -0.66430414,  0.05203077,  0.76836568,  1.48470059,  2.20103549,\n",
       "         2.9173704 ]),\n",
       " <a list of 10 Patch objects>)"
      ]
     },
     "execution_count": 146,
     "metadata": {},
     "output_type": "execute_result"
    },
    {
     "data": {
      "image/png": "[encoded data removed]",
      "text/plain": [
       "<matplotlib.figure.Figure at 0x7fc2a8322290>"
      ]
     },
     "metadata": {},
     "output_type": "display_data"
    }
   ],
   "source": [
    "x,size = process(50) # 20 means \n",
    "print(size)\n",
    "plt.hist(x)"
   ]
  },
  {
   "cell_type": "markdown",
   "metadata": {},
   "source": [
    "with 50 means the distribution is kinda skewed "
   ]
  },
  {
   "cell_type": "code",
   "execution_count": 147,
   "metadata": {
    "collapsed": false
   },
   "outputs": [
    {
     "data": {
      "text/plain": [
       "-0.4259498907311389"
      ]
     },
     "execution_count": 147,
     "metadata": {},
     "output_type": "execute_result"
    }
   ],
   "source": [
    "scipy.stats.skew(x)"
   ]
  },
  {
   "cell_type": "markdown",
   "metadata": {},
   "source": [
    "I was worried that studies with many N's, and because the obserations are not independent (without knowing their mean), that the histograms with low number of studies would be misleading. This show's that to some extent. "
   ]
  }
 ],
 "metadata": {
  "hide_input": true,
  "kernelspec": {
   "display_name": "Python 2",
   "language": "python",
   "name": "python2"
  },
  "language_info": {
   "codemirror_mode": {
    "name": "ipython",
    "version": 2
   },
   "file_extension": ".py",
   "mimetype": "text/x-python",
   "name": "python",
   "nbconvert_exporter": "python",
   "pygments_lexer": "ipython2",
   "version": "2.7.11"
  }
 },
 "nbformat": 4,
 "nbformat_minor": 0
}
