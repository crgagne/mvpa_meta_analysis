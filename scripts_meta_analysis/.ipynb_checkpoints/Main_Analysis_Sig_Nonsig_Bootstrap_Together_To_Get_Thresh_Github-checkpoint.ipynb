{
 "cells": [
  {
   "cell_type": "code",
   "execution_count": 1,
   "metadata": {
    "collapsed": true
   },
   "outputs": [],
   "source": [
    "import numpy as np\n",
    "import pandas as pd\n",
    "import matplotlib.pyplot as plt\n",
    "import os.path\n",
    "%matplotlib inline\n",
    "import scipy.stats as stats\n",
    "import statsmodels as sm\n",
    "from sklearn.neighbors import KernelDensity\n",
    "from scipy.stats import gaussian_kde"
   ]
  },
  {
   "cell_type": "markdown",
   "metadata": {},
   "source": [
    "# Data Load In "
   ]
  },
  {
   "cell_type": "code",
   "execution_count": 2,
   "metadata": {
    "collapsed": false
   },
   "outputs": [],
   "source": [
    "import Scripts_SigNonSig\n",
    "reload(Scripts_SigNonSig)\n",
    "from Scripts_SigNonSig import * "
   ]
  },
  {
   "cell_type": "code",
   "execution_count": 3,
   "metadata": {
    "collapsed": true
   },
   "outputs": [],
   "source": [
    "import Scripts_Hierarchical_Boot\n",
    "reload(Scripts_Hierarchical_Boot)\n",
    "from Scripts_Hierarchical_Boot import * "
   ]
  },
  {
   "cell_type": "code",
   "execution_count": 4,
   "metadata": {
    "collapsed": false,
    "scrolled": true
   },
   "outputs": [
    {
     "name": "stderr",
     "output_type": "stream",
     "text": [
      "/home/bishop/cgagne/anaconda2/lib/python2.7/site-packages/pandas/core/frame.py:1997: UserWarning: Boolean Series key will be reindexed to match DataFrame index.\n",
      "  \"DataFrame index.\", UserWarning)\n",
      "Scripts_SigNonSig.py:72: SettingWithCopyWarning: \n",
      "A value is trying to be set on a copy of a slice from a DataFrame\n",
      "\n",
      "See the caveats in the documentation: http://pandas.pydata.org/pandas-docs/stable/indexing.html#indexing-view-versus-copy\n",
      "  region_data_single_row['Accuracy.50'] = np.mean(region_data['Accuracy.50'])\n",
      "Scripts_SigNonSig.py:157: FutureWarning: sort(columns=....) is deprecated, use sort_values(by=.....)\n",
      "  df_50_sig = df_50_sig.sort('PID') ## careful with the soring #\n",
      "Scripts_SigNonSig.py:165: FutureWarning: sort(columns=....) is deprecated, use sort_values(by=.....)\n",
      "  df_50_nonsig = df_50_nonsig.sort('PID') ## Careful with the sorting ##\n"
     ]
    }
   ],
   "source": [
    "out = get_data_for_sig_nonsig_analyses()\n",
    "df_50_nonsig = out['df_50_nonsig']\n",
    "df_50_sig = out['df_50_sig']"
   ]
  },
  {
   "cell_type": "markdown",
   "metadata": {},
   "source": [
    "# recenter the null \n",
    "\n",
    "- then look at threshold 1, not 2"
   ]
  },
  {
   "cell_type": "code",
   "execution_count": 5,
   "metadata": {
    "collapsed": false
   },
   "outputs": [],
   "source": [
    "df_50_nonsig['Accuracy.50'] = df_50_nonsig['Accuracy.50']-df_50_nonsig['Accuracy.50'].mean()+0.5"
   ]
  },
  {
   "cell_type": "markdown",
   "metadata": {},
   "source": [
    "# Boot-Strap Both Distributions\n",
    "\n",
    "- whole bootstrapping code written here because need both sig and non sig distributions to get the overlap through bootstrapping"
   ]
  },
  {
   "cell_type": "code",
   "execution_count": 6,
   "metadata": {
    "collapsed": false
   },
   "outputs": [],
   "source": [
    "num_boots = 500\n",
    "#accs_boot = np.empty((num_boots,len(df_50_sig)))\n",
    "\n",
    "#prob_less_than\n",
    "meann = np.array([])\n",
    "mediann = np.array([])\n",
    "\n",
    "meann_non = np.array([])\n",
    "mediann_non = np.array([])\n",
    "\n",
    "prob_less_than_62 = np.array([])\n",
    "\n",
    "sig_thresh1 = np.array([])\n",
    "sig_thresh2 = np.array([])\n",
    "\n",
    "prob_less_than_thresh1 = np.array([])\n",
    "prob_less_than_thresh2 = np.array([])\n",
    "\n",
    "\n",
    "x = np.linspace(0,1,100) # what range for cdf # \n",
    "\n",
    "epcdf_store_non = np.empty((num_boots,len(x)))\n",
    "epcdf_store_sig = np.empty((num_boots,len(x)))\n",
    "\n",
    "\n",
    "eppdf_store_non= np.empty((num_boots,len(x)))\n",
    "eppdf_store_sig= np.empty((num_boots,len(x)))\n",
    "\n",
    "for boot in range(num_boots):\n",
    "                           \n",
    "    # NON SIGS \n",
    "    studies_boot = np.random.choice(df_50_nonsig['PID'].unique(),len(df_50_nonsig['PID'].unique()),replace=True)\n",
    "    study_accs_boot = np.array([])\n",
    "    maxes = []\n",
    "    for pid in studies_boot:\n",
    "        # sample same number of observations within a pid\n",
    "         study_acc_b_single = np.random.choice(df_50_nonsig.loc[df_50_nonsig['PID']==pid,'Accuracy.50'],size=len(df_50_nonsig.loc[df_50_nonsig['PID']==pid,'Accuracy.50']),replace=True)\n",
    "         study_accs_boot= np.append(study_accs_boot,study_acc_b_single)\n",
    "         maxes.append(np.max(study_acc_b_single))\n",
    "            \n",
    "    # store empirical distribution function\n",
    "    ecdf = sm.distributions.empirical_distribution.ECDF(study_accs_boot)\n",
    "    epcdf_store_non[boot,:]=ecdf(x)\n",
    "    \n",
    "    # store pdf\n",
    "    kd = kde_scipy(study_accs_boot,x,bw_method='scott')\n",
    "    eppdf_store_non[boot,:]=kd\n",
    "    \n",
    "    maxes = np.array(maxes)\n",
    "    sig_thresh2_b = maxes.mean()\n",
    "    sig_thresh2 = np.append(sig_thresh2,sig_thresh2_b)\n",
    "    \n",
    "    sig_thresh1_b = np.percentile(study_accs_boot,95)\n",
    "    sig_thresh1 = np.append(sig_thresh1,sig_thresh1_b)\n",
    "    \n",
    "    meann_non = np.append(meann_non,np.mean(study_accs_boot))\n",
    "    mediann_non = np.append(mediann_non,np.median(study_accs_boot))\n",
    "    \n",
    "    mn = np.mean(study_accs_boot)\n",
    "    \n",
    "    # SIGS \n",
    "    studies_boot = np.random.choice(df_50_sig['PID'].unique(),len(df_50_sig['PID'].unique()),replace=True)\n",
    "    study_accs_boot = np.array([])\n",
    "    for pid in studies_boot:\n",
    "        # sample same number of observations within a pid\n",
    "         study_accs_boot= np.append(study_accs_boot,np.random.choice(df_50_sig.loc[df_50_sig['PID']==pid,'Accuracy.50'],size=len(df_50_sig.loc[df_50_sig['PID']==pid,'Accuracy.50']),replace=True))\n",
    "    \n",
    "    ms = np.mean(study_accs_boot)\n",
    "    \n",
    "    # effect size (population effect)\n",
    "    #ms-mn / \n",
    "    \n",
    "    # store empirical distribution function\n",
    "    ecdf = sm.distributions.empirical_distribution.ECDF(study_accs_boot)\n",
    "    epcdf_store_sig[boot,:]=ecdf(x)\n",
    "    \n",
    "    # store pdf\n",
    "    kd = kde_scipy(study_accs_boot,x,bw_method='scott')\n",
    "    eppdf_store_sig[boot,:]=kd\n",
    "    \n",
    "    meann = np.append(meann,np.mean(study_accs_boot))\n",
    "    mediann = np.append(mediann,np.median(study_accs_boot))\n",
    "    \n",
    "    prob_less_than_62 = np.append(prob_less_than_62,np.sum(study_accs_boot<.62)/float(len(study_accs_boot)))\n",
    "    prob_less_than_thresh1 = np.append(prob_less_than_thresh1,np.sum(study_accs_boot<sig_thresh1_b)/float(len(study_accs_boot)))\n",
    "    prob_less_than_thresh2 = np.append(prob_less_than_thresh2,np.sum(study_accs_boot<sig_thresh2_b)/float(len(study_accs_boot)))\n",
    "    "
   ]
  },
  {
   "cell_type": "markdown",
   "metadata": {},
   "source": [
    "# Save "
   ]
  },
  {
   "cell_type": "code",
   "execution_count": 7,
   "metadata": {
    "collapsed": false
   },
   "outputs": [],
   "source": [
    "# not recentered = bootstrap_results\n",
    "\n",
    "np.savez('../data_meta_analysis/data_derived_meta_analysis/bootstrap_results_together_recenter',epcdf_store_non=epcdf_store_non,\n",
    "          epcdf_store_si=epcdf_store_sig,\n",
    "           eppdf_store_non= eppdf_store_non,\n",
    "           eppdf_store_sig= eppdf_store_sig,\n",
    "          meann= meann,\n",
    "         mediann = mediann,\n",
    "        meann_non= meann_non,\n",
    "         mediann_non = mediann_non,\n",
    "         prob_less_than_62 =prob_less_than_62,\n",
    "         sig_thresh1=sig_thresh1,\n",
    "         sig_thresh2=sig_thresh2)"
   ]
  },
  {
   "cell_type": "markdown",
   "metadata": {},
   "source": [
    "# Load Back In "
   ]
  },
  {
   "cell_type": "code",
   "execution_count": 8,
   "metadata": {
    "collapsed": false
   },
   "outputs": [],
   "source": [
    "#boot_results = np.load('bootstrap_results.npz')\n",
    "boot_results = np.load('../data_meta_analysis/data_derived_meta_analysis/bootstrap_results_together_recenter.npz')"
   ]
  },
  {
   "cell_type": "code",
   "execution_count": 9,
   "metadata": {
    "collapsed": false
   },
   "outputs": [],
   "source": [
    "x = np.linspace(0,1,100) # what range for cdf # \n",
    "epcdf_store_sig = boot_results['epcdf_store_si']\n",
    "epcdf_store_non = boot_results['epcdf_store_non']\n",
    "eppdf_store_sig = boot_results['eppdf_store_sig']\n",
    "eppdf_store_non = boot_results['eppdf_store_non']\n",
    "meann = boot_results['meann']\n",
    "mediann = boot_results['mediann']\n",
    "meann_non = boot_results['meann_non']\n",
    "mediann_non = boot_results['mediann_non']\n",
    "prob_less_than_62 = boot_results['prob_less_than_62']\n",
    "sig_thresh1 = boot_results['sig_thresh1']\n",
    "sig_thresh2 = boot_results['sig_thresh2']\n"
   ]
  },
  {
   "cell_type": "markdown",
   "metadata": {},
   "source": [
    "# CDF and PDF Plots "
   ]
  },
  {
   "cell_type": "code",
   "execution_count": 10,
   "metadata": {
    "collapsed": false,
    "scrolled": true
   },
   "outputs": [
    {
     "data": {
      "image/png": "[encoded data removed]",
      "text/plain": [
       "<matplotlib.figure.Figure at 0x7f8da0a4e1d0>"
      ]
     },
     "metadata": {},
     "output_type": "display_data"
    }
   ],
   "source": [
    "fig, (ax1,ax2) = plt.subplots(1, 2, figsize = (12,4))\n",
    "\n",
    "ax1.step(x, epcdf_store_sig.T);\n",
    "ax1.step(x, epcdf_store_non.T);\n",
    "\n",
    "ax2.plot(x, eppdf_store_sig.T);\n",
    "ax2.plot(x, eppdf_store_non.T);"
   ]
  },
  {
   "cell_type": "code",
   "execution_count": 11,
   "metadata": {
    "collapsed": false
   },
   "outputs": [
    {
     "name": "stdout",
     "output_type": "stream",
     "text": [
      "prob less than 62\n",
      "0.736467836205\n",
      "0.654955955632\n",
      "0.57740411835\n",
      "mean\n",
      "0.628520950562\n",
      "0.612018066766\n",
      "0.596252787929\n",
      "median\n",
      "0.6\n",
      "0.5872064\n",
      "0.57\n",
      "mean_non\n",
      "0.507888805139\n",
      "0.500451776351\n",
      "0.49378810611\n",
      "median_non\n",
      "0.500715759312\n",
      "0.497111759312\n",
      "0.490715759312\n",
      "thresh 1\n",
      "0.600715759312\n",
      "0.554269149312\n",
      "0.535565759312\n",
      "thresh 2\n",
      "0.53217733826\n",
      "0.52276732247\n",
      "0.513808127733\n",
      "prob less thresh 1\n",
      "0.604936159614\n",
      "0.235387628322\n",
      "0.0741104669716\n",
      "prob less thresh 2\n",
      "0.0672383811539\n",
      "0.0235036968254\n",
      "0.0\n"
     ]
    }
   ],
   "source": [
    "print('prob less than 62')\n",
    "print(np.percentile(prob_less_than_62,95))\n",
    "print(np.mean(prob_less_than_62))\n",
    "print(np.percentile(prob_less_than_62,5))\n",
    "\n",
    "print('mean')\n",
    "print(np.percentile(meann,95))\n",
    "print(np.mean(meann))\n",
    "print(np.percentile(meann,5))\n",
    "\n",
    "print('median')\n",
    "print(np.percentile(mediann,95))\n",
    "print(np.mean(mediann))\n",
    "print(np.percentile(mediann,5))\n",
    "\n",
    "print('mean_non')\n",
    "print(np.percentile(meann_non,95))\n",
    "print(np.mean(meann_non))\n",
    "print(np.percentile(meann_non,5))\n",
    "\n",
    "print('median_non')\n",
    "print(np.percentile(mediann_non,95))\n",
    "print(np.mean(mediann_non))\n",
    "print(np.percentile(mediann_non,5))\n",
    "\n",
    "print('thresh 1')\n",
    "print(np.percentile(sig_thresh1,95))\n",
    "print(np.mean(sig_thresh1))\n",
    "print(np.percentile(sig_thresh1,5))\n",
    "\n",
    "print('thresh 2')\n",
    "print(np.percentile(sig_thresh2,95))\n",
    "print(np.mean(sig_thresh2))\n",
    "print(np.percentile(sig_thresh2,5))\n",
    "\n",
    "print('prob less thresh 1')\n",
    "print(np.percentile(prob_less_than_thresh1,95))\n",
    "print(np.mean(prob_less_than_thresh1))\n",
    "print(np.percentile(prob_less_than_thresh1,5))\n",
    "\n",
    "print('prob less thresh 2')\n",
    "print(np.percentile(prob_less_than_thresh2,95))\n",
    "print(np.mean(prob_less_than_thresh2))\n",
    "print(np.percentile(prob_less_than_thresh2,5))"
   ]
  }
 ],
 "metadata": {
  "hide_input": false,
  "kernelspec": {
   "display_name": "Python 2",
   "language": "python",
   "name": "python2"
  },
  "language_info": {
   "codemirror_mode": {
    "name": "ipython",
    "version": 2
   },
   "file_extension": ".py",
   "mimetype": "text/x-python",
   "name": "python",
   "nbconvert_exporter": "python",
   "pygments_lexer": "ipython2",
   "version": "2.7.12"
  }
 },
 "nbformat": 4,
 "nbformat_minor": 0
}
