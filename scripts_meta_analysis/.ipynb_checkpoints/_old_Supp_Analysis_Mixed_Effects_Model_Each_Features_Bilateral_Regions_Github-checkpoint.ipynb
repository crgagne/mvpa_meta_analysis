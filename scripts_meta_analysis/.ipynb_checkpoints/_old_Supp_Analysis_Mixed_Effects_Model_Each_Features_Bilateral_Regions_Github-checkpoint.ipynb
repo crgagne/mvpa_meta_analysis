{
 "cells": [
  {
   "cell_type": "markdown",
   "metadata": {},
   "source": [
    "# Separate Effects of Analysis Features on Classification Accuracy \n",
    "\n",
    "\n",
    "    \n",
    "- I ran a separate (mixed effects) regression for each analysis characteristics on classification accuracy (only 50% studies). \n",
    "\n",
    "- I've added **Resolution** to the dataset. The voxel dimensions (e.g. 3mmx3mmx3mm) were multiplied to get the voxel volumne. This was regressed onto Accuracy like all the other characteristics.\n"
   ]
  },
  {
   "cell_type": "code",
   "execution_count": 1,
   "metadata": {
    "init_cell": true
   },
   "outputs": [
    {
     "name": "stderr",
     "output_type": "stream",
     "text": [
      "Loading required package: carData\n",
      "lattice theme set by effectsTheme()\n",
      "See ?effectsTheme for details.\n",
      "Registering fonts with R\n",
      "Loading required package: estimability\n",
      "Loading required package: mvtnorm\n",
      "Loading required package: survival\n",
      "Loading required package: TH.data\n",
      "Loading required package: MASS\n",
      "\n",
      "Attaching package: ‘TH.data’\n",
      "\n",
      "The following object is masked from ‘package:MASS’:\n",
      "\n",
      "    geyser\n",
      "\n"
     ]
    }
   ],
   "source": [
    "options(jupyter.plot_mimetypes = \"image/png\")\n",
    "library(nlme)\n",
    "library(ggplot2)\n",
    "library(gridExtra)\n",
    "library(grid)\n",
    "library(data.table)\n",
    "library(effects)\n",
    "library(xtable)\n",
    "library(extrafont)\n",
    "library(lsmeans)\n",
    "library(multcomp)\n"
   ]
  },
  {
   "cell_type": "markdown",
   "metadata": {},
   "source": [
    "## Load Data and Data Prep\n",
    "\n",
    "- Data used can be found in 'Data_Classifications_v7.csv'\n",
    "- Used only significant analyses using 50% as chance level (like the main analysis) \n",
    "- Using analyses that were assigned to more than 2 regions. These were excluded from the main regression analysis because they contained too few observations per region regressor. "
   ]
  },
  {
   "cell_type": "code",
   "execution_count": 2,
   "metadata": {
    "collapsed": true,
    "init_cell": true
   },
   "outputs": [],
   "source": [
    "data = read.csv(\"../data_meta_analysis/Data_Classifications_v7.csv\")\n",
    "\n",
    "# change the resolution string 3mmx3mmx3mm->volumne 9mm^3\n",
    "calc_resolution <-function(string){\n",
    "    str_list<-strsplit(gsub('mm','',string),'x')[[1]] # \n",
    "    vol<-prod(as.integer(str_list))\n",
    "    return(vol)\n",
    "}\n",
    "\n",
    "data$Resolution_Volume<-lapply(data$Resolution,calc_resolution)\n",
    "\n",
    "# subset the dataset \n",
    "factors<-c('Info.type','Significance','Roi.Search',\n",
    "             'Pattern.type','Classifier.type','Scanner','Smoothing','Coregistration','Pattern.normalization.type','Num_subs','Resolution_Volume')\n",
    "\n",
    "data<-data[c('PID',factors,'Accuracy.50')]\n",
    "\n",
    "\n",
    "# calculate the n per study \n",
    "for (pid in unique(data$PID)){\n",
    "    data[data$PID==pid,'n_per_study']=nrow(data[data$PID==pid,])\n",
    "}\n",
    "\n",
    "\n"
   ]
  },
  {
   "cell_type": "code",
   "execution_count": 3,
   "metadata": {
    "collapsed": true
   },
   "outputs": [],
   "source": [
    "\n",
    "# Add regions (even though I'm not using it for this analysis)\n",
    "# I'm removing rows that don't have those regions to keep the analyses consistent \n",
    "\n",
    "R5 = read.csv(paste(\"../data_meta_analysis/data_derived_meta_analysis/X_region1_combined_regs.csv\"))\n",
    "R5names = colnames(R5)\n",
    "\n",
    "data = cbind(data,R5) # will bind with other region names too \n",
    "\n"
   ]
  },
  {
   "cell_type": "code",
   "execution_count": 4,
   "metadata": {
    "collapsed": true
   },
   "outputs": [],
   "source": [
    "# mscl fixes\n",
    "data<-data[!data$Classifier.type=='neural-net',] # no observations but still has a level\n",
    "data[data$Scanner=='4T','Scanner']='3T' # only one observatoin with 4t so changed it to 3T\n",
    "data$PID<-as.factor(data$PID)\n",
    "data$Info.type<-as.factor(data$Info.type)\n",
    "data$Smoothing<-as.factor(data$Smoothing)\n",
    "data$Roi.Search<-as.factor(data$Roi.Search)\n",
    "data$Classifier.type<-as.factor(data$Classifier.type)\n",
    "data$Coregistration<-as.factor(data$Coregistration)\n",
    "data$Pattern.type<-as.factor(data$Pattern.type)\n",
    "data$Pattern.normalization.type<-as.factor(data$Pattern.normalization.type)\n",
    "data$Resolution_Volume<-as.numeric(data$Resolution_Volume)\n",
    "\n",
    "data<-droplevels(data)"
   ]
  },
  {
   "cell_type": "code",
   "execution_count": 5,
   "metadata": {
    "collapsed": true
   },
   "outputs": [],
   "source": [
    "#unique(data$Classifier.type)"
   ]
  },
  {
   "cell_type": "code",
   "execution_count": 6,
   "metadata": {
    "collapsed": true
   },
   "outputs": [],
   "source": [
    "#data[data$Classifier.type=='svm-nonlin',]"
   ]
  },
  {
   "cell_type": "code",
   "execution_count": 7,
   "metadata": {
    "collapsed": true
   },
   "outputs": [],
   "source": [
    "#hist(data$Resolution_Volume)"
   ]
  },
  {
   "cell_type": "code",
   "execution_count": 8,
   "metadata": {
    "collapsed": true,
    "init_cell": true
   },
   "outputs": [],
   "source": [
    "# subset to significant analyses using 50% as chance \n",
    "\n",
    "data_50<-subset(data,!is.na(Accuracy.50))\n",
    "data_50_non<-subset(data,!is.na(Accuracy.50)& Significance==0)\n",
    "data_50_sig<-subset(data,!is.na(Accuracy.50) & Significance==1)\n",
    "#head(data_50_sig)\n",
    "#nrow(data_50_sig)"
   ]
  },
  {
   "cell_type": "code",
   "execution_count": 9,
   "metadata": {
    "collapsed": true
   },
   "outputs": [],
   "source": [
    "# remove some pairs of regions \n",
    "# # used in a later analysis\n",
    "# R5names = R5names[R5names!='Cingulum_Mid_R']\n",
    "# R5names = R5names[R5names!='Frontal_Mid_R.Frontal_Inf_Tri_L']\n",
    "# R5names = R5names[R5names!='Frontal_Mid_L.Precentral_R']\n",
    "# R5names = R5names[R5names!='Cingulum_Ant_R.Cingulum_Mid_R']\n",
    "# R5names = R5names[R5names!='Frontal_Sup_R.Frontal_Sup_Medial_R  ']\n",
    "# R5names = R5names[R5names!='Frontal_Sup_L.Frontal_Sup_Medial_L']\n",
    "# R5names = R5names[R5names!='Frontal_Inf_Tri_R.Frontal_Inf_Orb_R']\n",
    "# R5names = R5names[R5names!='Frontal_Sup_R.Frontal_Sup_Medial_R']\n",
    "# R5names = R5names[R5names!='Frontal_Inf_Oper_R.Precentral_L']\n",
    "# R5names = R5names[R5names!='Frontal_Inf_Oper_R.Precentral_R']\n",
    "# R5names = R5names[R5names!='Frontal_Mid_R.Frontal_Inf_Tri_R']\n",
    "# R5names = R5names[R5names!='Frontal_Inf_Oper_R.Frontal_Inf_Tri_R']"
   ]
  },
  {
   "cell_type": "code",
   "execution_count": 10,
   "metadata": {},
   "outputs": [
    {
     "name": "stdout",
     "output_type": "stream",
     "text": [
      "[1] \"number of analyses\"\n",
      "[1] 506\n"
     ]
    }
   ],
   "source": [
    "d<-data_50_sig[c('Accuracy.50','PID',factors,R5names)]\n",
    "#d=d[rowSums(d[,R5names])==1,] # remove rows with no region regressor (would have been 2+)\n",
    "print('number of analyses')\n",
    "print(nrow(d))"
   ]
  },
  {
   "cell_type": "code",
   "execution_count": 11,
   "metadata": {},
   "outputs": [
    {
     "name": "stdout",
     "output_type": "stream",
     "text": [
      "[1] \"number of studies\"\n",
      "[1] 75\n"
     ]
    }
   ],
   "source": [
    "print('number of studies')\n",
    "print(nrow(unique(d['PID'])))"
   ]
  },
  {
   "cell_type": "markdown",
   "metadata": {},
   "source": [
    "# Mixed Effects Regression\n",
    "\n",
    "- Parameters werwe estimated using REML. \n",
    "- Each analysis characteristic was regressed separately onto Accuracy. \n",
    "- Random intercepts were used for the study ID.  \n"
   ]
  },
  {
   "cell_type": "code",
   "execution_count": 12,
   "metadata": {
    "collapsed": true,
    "scrolled": true
   },
   "outputs": [],
   "source": [
    "model_info<-lme(as.formula('Accuracy.50~Info.type'),random=~1|PID,data=d,method='REML')\n",
    "model_rs<-lme(as.formula('Accuracy.50~Roi.Search'),random=~1|PID,data=d,method='REML')\n",
    "model_pt<-lme(as.formula('Accuracy.50~Pattern.type'),random=~1|PID,data=d,method='REML')\n",
    "model_ct<-lme(as.formula('Accuracy.50~Classifier.type'),random=~1|PID,data=d,method='REML')\n",
    "model_sc<-lme(as.formula('Accuracy.50~Scanner'),random=~1|PID,data=d,method='REML')\n",
    "model_sm<-lme(as.formula('Accuracy.50~Smoothing'),random=~1|PID,data=d,method='REML')\n",
    "model_co<-lme(as.formula('Accuracy.50~Coregistration'),random=~1|PID,data=d,method='REML')\n",
    "model_patnorm<-lme(as.formula('Accuracy.50~Pattern.normalization.type'),random=~1|PID,data=d,method='REML')\n",
    "model_n<-lme(as.formula('Accuracy.50~Num_subs'),random=~1|PID,data=d,method='REML')\n",
    "model_res<-lme(as.formula('Accuracy.50~Resolution_Volume'),random=~1|PID,data=d,method='REML')\n",
    "\n"
   ]
  },
  {
   "cell_type": "code",
   "execution_count": 17,
   "metadata": {},
   "outputs": [
    {
     "data": {
      "text/plain": [
       "Linear mixed-effects model fit by REML\n",
       " Data: d \n",
       "        AIC      BIC   logLik\n",
       "  -1363.161 -1346.27 685.5804\n",
       "\n",
       "Random effects:\n",
       " Formula: ~1 | PID\n",
       "        (Intercept)   Residual\n",
       "StdDev:  0.06442195 0.05277548\n",
       "\n",
       "Fixed effects: as.formula(\"Accuracy.50~Num_subs\") \n",
       "                 Value   Std.Error  DF  t-value p-value\n",
       "(Intercept)  0.6222971 0.016032755 431 38.81411  0.0000\n",
       "Num_subs    -0.0008973 0.000758447  73 -1.18311  0.2406\n",
       " Correlation: \n",
       "         (Intr)\n",
       "Num_subs -0.859\n",
       "\n",
       "Standardized Within-Group Residuals:\n",
       "       Min         Q1        Med         Q3        Max \n",
       "-2.2778458 -0.4678077 -0.1463571  0.3428591  4.7329861 \n",
       "\n",
       "Number of Observations: 506\n",
       "Number of Groups: 75 "
      ]
     },
     "metadata": {},
     "output_type": "display_data"
    }
   ],
   "source": [
    "summary(model_n)"
   ]
  },
  {
   "cell_type": "markdown",
   "metadata": {},
   "source": [
    "## Between Study Test"
   ]
  },
  {
   "cell_type": "code",
   "execution_count": 13,
   "metadata": {},
   "outputs": [
    {
     "data": {
      "text/html": [
       "<table>\n",
       "<thead><tr><th></th><th scope=col>PID</th><th scope=col>Accuracy.50</th><th scope=col>Resolution_Volume</th></tr></thead>\n",
       "<tbody>\n",
       "\t<tr><th scope=row>4</th><td>1    </td><td>0.528</td><td>27   </td></tr>\n",
       "\t<tr><th scope=row>5</th><td>6    </td><td>0.560</td><td>18   </td></tr>\n",
       "\t<tr><th scope=row>13</th><td>10   </td><td>0.560</td><td>27   </td></tr>\n",
       "\t<tr><th scope=row>14</th><td>10   </td><td>0.560</td><td>27   </td></tr>\n",
       "\t<tr><th scope=row>15</th><td>10   </td><td>0.560</td><td>27   </td></tr>\n",
       "\t<tr><th scope=row>16</th><td>10   </td><td>0.570</td><td>27   </td></tr>\n",
       "</tbody>\n",
       "</table>\n"
      ],
      "text/latex": [
       "\\begin{tabular}{r|lll}\n",
       "  & PID & Accuracy.50 & Resolution\\_Volume\\\\\n",
       "\\hline\n",
       "\t4 & 1     & 0.528 & 27   \\\\\n",
       "\t5 & 6     & 0.560 & 18   \\\\\n",
       "\t13 & 10    & 0.560 & 27   \\\\\n",
       "\t14 & 10    & 0.560 & 27   \\\\\n",
       "\t15 & 10    & 0.560 & 27   \\\\\n",
       "\t16 & 10    & 0.570 & 27   \\\\\n",
       "\\end{tabular}\n"
      ],
      "text/markdown": [
       "\n",
       "| <!--/--> | PID | Accuracy.50 | Resolution_Volume | \n",
       "|---|---|---|---|---|---|\n",
       "| 4 | 1     | 0.528 | 27    | \n",
       "| 5 | 6     | 0.560 | 18    | \n",
       "| 13 | 10    | 0.560 | 27    | \n",
       "| 14 | 10    | 0.560 | 27    | \n",
       "| 15 | 10    | 0.560 | 27    | \n",
       "| 16 | 10    | 0.570 | 27    | \n",
       "\n",
       "\n"
      ],
      "text/plain": [
       "   PID Accuracy.50 Resolution_Volume\n",
       "4  1   0.528       27               \n",
       "5  6   0.560       18               \n",
       "13 10  0.560       27               \n",
       "14 10  0.560       27               \n",
       "15 10  0.560       27               \n",
       "16 10  0.570       27               "
      ]
     },
     "metadata": {},
     "output_type": "display_data"
    }
   ],
   "source": [
    "#plot(d$Resolution_Volume,d$Accuracy.50)\n",
    "tmp = d[c('PID','Accuracy.50','Resolution_Volume')]\n",
    "head(tmp)"
   ]
  },
  {
   "cell_type": "code",
   "execution_count": 14,
   "metadata": {
    "scrolled": false
   },
   "outputs": [
    {
     "data": {
      "text/html": [
       "<table>\n",
       "<thead><tr><th scope=col>Group.1</th><th scope=col>Accuracy.50</th><th scope=col>Resolution_Volume</th></tr></thead>\n",
       "<tbody>\n",
       "\t<tr><td>1     </td><td>0.5480</td><td>27    </td></tr>\n",
       "\t<tr><td>2     </td><td>0.6400</td><td>36    </td></tr>\n",
       "\t<tr><td>5     </td><td>0.5250</td><td>27    </td></tr>\n",
       "\t<tr><td>6     </td><td>0.5875</td><td>18    </td></tr>\n",
       "\t<tr><td>7     </td><td>0.5650</td><td>27    </td></tr>\n",
       "\t<tr><td>8     </td><td>0.5800</td><td>27    </td></tr>\n",
       "</tbody>\n",
       "</table>\n"
      ],
      "text/latex": [
       "\\begin{tabular}{r|lll}\n",
       " Group.1 & Accuracy.50 & Resolution\\_Volume\\\\\n",
       "\\hline\n",
       "\t 1      & 0.5480 & 27    \\\\\n",
       "\t 2      & 0.6400 & 36    \\\\\n",
       "\t 5      & 0.5250 & 27    \\\\\n",
       "\t 6      & 0.5875 & 18    \\\\\n",
       "\t 7      & 0.5650 & 27    \\\\\n",
       "\t 8      & 0.5800 & 27    \\\\\n",
       "\\end{tabular}\n"
      ],
      "text/markdown": [
       "\n",
       "Group.1 | Accuracy.50 | Resolution_Volume | \n",
       "|---|---|---|---|---|---|\n",
       "| 1      | 0.5480 | 27     | \n",
       "| 2      | 0.6400 | 36     | \n",
       "| 5      | 0.5250 | 27     | \n",
       "| 6      | 0.5875 | 18     | \n",
       "| 7      | 0.5650 | 27     | \n",
       "| 8      | 0.5800 | 27     | \n",
       "\n",
       "\n"
      ],
      "text/plain": [
       "  Group.1 Accuracy.50 Resolution_Volume\n",
       "1 1       0.5480      27               \n",
       "2 2       0.6400      36               \n",
       "3 5       0.5250      27               \n",
       "4 6       0.5875      18               \n",
       "5 7       0.5650      27               \n",
       "6 8       0.5800      27               "
      ]
     },
     "metadata": {},
     "output_type": "display_data"
    }
   ],
   "source": [
    "agg_df = aggregate(tmp[c(\"Accuracy.50\",\"Resolution_Volume\")],FUN=mean,by=list(tmp$PID))\n",
    "head(agg_df)"
   ]
  },
  {
   "cell_type": "code",
   "execution_count": 15,
   "metadata": {},
   "outputs": [
    {
     "data": {
      "text/plain": [
       "\n",
       "Call:\n",
       "lm(formula = as.formula(\"Accuracy.50~Resolution_Volume\"), data = agg_df)\n",
       "\n",
       "Residuals:\n",
       "     Min       1Q   Median       3Q      Max \n",
       "-0.08731 -0.04431 -0.01831  0.01395  0.24697 \n",
       "\n",
       "Coefficients:\n",
       "                    Estimate Std. Error t value Pr(>|t|)    \n",
       "(Intercept)        0.6081459  0.0175945  34.564   <2e-16 ***\n",
       "Resolution_Volume -0.0001421  0.0006306  -0.225    0.822    \n",
       "---\n",
       "Signif. codes:  0 ‘***’ 0.001 ‘**’ 0.01 ‘*’ 0.05 ‘.’ 0.1 ‘ ’ 1\n",
       "\n",
       "Residual standard error: 0.0723 on 73 degrees of freedom\n",
       "Multiple R-squared:  0.0006952,\tAdjusted R-squared:  -0.01299 \n",
       "F-statistic: 0.05079 on 1 and 73 DF,  p-value: 0.8223\n"
      ]
     },
     "metadata": {},
     "output_type": "display_data"
    }
   ],
   "source": [
    "summary(lm(as.formula('Accuracy.50~Resolution_Volume'),data=agg_df))\n"
   ]
  },
  {
   "cell_type": "code",
   "execution_count": 63,
   "metadata": {
    "collapsed": true
   },
   "outputs": [],
   "source": [
    "#plot(agg_df$Resolution_Volume,agg_df$Accuracy.50,)"
   ]
  },
  {
   "cell_type": "code",
   "execution_count": 16,
   "metadata": {
    "collapsed": true
   },
   "outputs": [],
   "source": [
    "#summary(model_pt)"
   ]
  },
  {
   "cell_type": "code",
   "execution_count": 17,
   "metadata": {
    "collapsed": true
   },
   "outputs": [],
   "source": [
    "#lsmeans(model_pt,pairwise~Pattern.type,adjust='Tukey')\n"
   ]
  },
  {
   "cell_type": "markdown",
   "metadata": {},
   "source": [
    "# Plotting Model Coefficient\n",
    "- Effects plots were created for each coefficient. \n",
    "- These are created by taking the average value that each factor takes on, multiplying by its corresponding beta, and adding the intercept. \n",
    "- For continuous regressors like resolution (voxel volume), values that somewhat evenly span the range are chosen by the effects package. "
   ]
  },
  {
   "cell_type": "code",
   "execution_count": 18,
   "metadata": {
    "collapsed": true
   },
   "outputs": [],
   "source": [
    "## Get all data into table\n",
    "\n",
    "feature='Smoothing'\n",
    "dd<-data.frame(effect(feature,model_sm))\n",
    "dd$Accuracy<-dd$fit\n",
    "dd$Smoothing<-dd[,feature]\n",
    "colnames(dd)<-c('B','fit','se','lower','upper','Accuracy')\n",
    "dd_all<-dd\n",
    "\n",
    "feature='Info.type'\n",
    "dd<-data.frame(effect(feature,model_info))\n",
    "dd$Accuracy<-dd$fit\n",
    "dd$Info.type<-dd[,feature]\n",
    "colnames(dd)<-c('B','fit','se','lower','upper','Accuracy')\n",
    "dd_all<-rbind(dd_all,dd)\n",
    "\n",
    "feature='Roi.Search'\n",
    "dd<-data.frame(effect(feature,model_rs))\n",
    "dd$Accuracy<-dd$fit\n",
    "dd$Roi_or_Searchlight<-dd[,feature]\n",
    "colnames(dd)<-c('B','fit','se','lower','upper','Accuracy')\n",
    "dd_all<-rbind(dd_all,dd[,1:6])\n",
    "\n",
    "feature='Classifier.type'\n",
    "dd<-data.frame(effect(feature,model_ct))\n",
    "dd$Accuracy<-dd$fit\n",
    "dd$Classifier.type<-dd[,feature]\n",
    "colnames(dd)<-c('B','fit','se','lower','upper','Accuracy')\n",
    "dd_all<-rbind(dd_all,dd)\n",
    "\n",
    "feature='Scanner'\n",
    "dd<-data.frame(effect(feature,model_sc))\n",
    "dd$Accuracy<-dd$fit\n",
    "dd$Scanner.strength<-dd[,feature]\n",
    "colnames(dd)<-c('B','fit','se','lower','upper','Accuracy')\n",
    "dd_all<-rbind(dd_all,dd[,1:6])\n",
    "\n",
    "feature='Coregistration'\n",
    "dd<-data.frame(effect(feature,model_co))\n",
    "dd$Accuracy<-dd$fit\n",
    "dd$Coregistrated<-dd[,feature]\n",
    "colnames(dd)<-c('B','fit','se','lower','upper','Accuracy')\n",
    "dd_all<-rbind(dd_all,dd[,1:6])\n",
    "\n",
    "feature='Pattern.normalization.type'\n",
    "dd<-data.frame(effect(feature,model_patnorm))\n",
    "dd$Accuracy<-dd$fit\n",
    "dd$Pattern.normalization.type<-dd[,feature]\n",
    "colnames(dd)<-c('B','fit','se','lower','upper','Accuracy')\n",
    "dd_all<-rbind(dd_all,dd[,1:6])\n",
    "\n",
    "feature='Num_subs'\n",
    "dd<-data.frame(effect(feature,model_n))\n",
    "dd$Accuracy<-dd$fit\n",
    "dd$Feature<-dd[,feature]\n",
    "colnames(dd)<-c('B','fit','se','lower','upper','Accuracy')\n",
    "dd$B<-as.character(lapply(dd$B,function(x){paste('n',x,sep='')}))\n",
    "dd$B<-as.factor(dd$B)\n",
    "dd_all<-rbind(dd_all,dd[,1:6])\n",
    "\n",
    "feature='Pattern.type'\n",
    "dd<-data.frame(effect(feature,model_pt))\n",
    "dd$Accuracy<-dd$fit\n",
    "dd$Pattern.normalization.type<-dd[,feature]\n",
    "colnames(dd)<-c('B','fit','se','lower','upper','Accuracy')\n",
    "dd_all<-rbind(dd_all,dd[,1:6])\n",
    "\n",
    "feature='Resolution_Volume'\n",
    "dd<-data.frame(effect(feature,model_res))\n",
    "dd$Accuracy<-dd$fit\n",
    "dd$Resolution_Volume<-dd[,feature]\n",
    "colnames(dd)<-c('B','fit','se','lower','upper','Accuracy')\n",
    "dd$B<-as.character(lapply(dd$B,function(x){paste(x,'mm^3',sep='')}))\n",
    "dd$B<-as.factor(dd$B)\n",
    "dd_all<-rbind(dd_all,dd[,1:6])\n",
    "\n",
    "#dd_all$B<-as.factor(as.character(dd_all$B)) # change to factor"
   ]
  },
  {
   "cell_type": "code",
   "execution_count": 20,
   "metadata": {
    "collapsed": true
   },
   "outputs": [],
   "source": [
    "alabels = c('Smoothed','Unsmooth',\n",
    "            'Perceptual','Response','Rule','Value',\n",
    "            'ROI','Searchlight peak',\n",
    "            'Correlation','GNB','LDA','Logreg','SVM-lin','SVM-nonlin',\n",
    "            '3T','7T',\n",
    "            'Coregistered','Native space',\n",
    "            'No normalization','Normalized spatially','Normalized temporally',\n",
    "            'n=6','n=20','n=40','n=50','n=70',\n",
    "            'Averaging across TRs and trials','Averaging across trials',\n",
    "            'Averaging across TRs','No temporal averaging',\n",
    "            'Res (1mm^3)',\n",
    "            'Res (20mm^3)',\n",
    "            'Res (30mm^3)',\n",
    "            'Res (50mm^3)',\n",
    "            'Res (60mm^3)')"
   ]
  },
  {
   "cell_type": "code",
   "execution_count": 21,
   "metadata": {},
   "outputs": [
    {
     "data": {},
     "metadata": {},
     "output_type": "display_data"
    },
    {
     "data": {
      "text/html": [
       "<strong>pdf:</strong> 2"
      ],
      "text/latex": [
       "\\textbf{pdf:} 2"
      ],
      "text/markdown": [
       "**pdf:** 2"
      ],
      "text/plain": [
       "pdf \n",
       "  2 "
      ]
     },
     "metadata": {},
     "output_type": "display_data"
    },
    {
     "data": {},
     "metadata": {},
     "output_type": "display_data"
    },
    {
     "data": {
      "text/html": [
       "<strong>pdf:</strong> 2"
      ],
      "text/latex": [
       "\\textbf{pdf:} 2"
      ],
      "text/markdown": [
       "**pdf:** 2"
      ],
      "text/plain": [
       "pdf \n",
       "  2 "
      ]
     },
     "metadata": {},
     "output_type": "display_data"
    },
    {
     "data": {},
     "metadata": {},
     "output_type": "display_data"
    },
    {
     "data": {
      "image/png": "[encoded data removed]"
     },
     "metadata": {},
     "output_type": "display_data"
    }
   ],
   "source": [
    "\n",
    "mainlinewidth=.5\n",
    "textsize = 8\n",
    "labelsize = 8\n",
    "\n",
    "## Analysis Features \n",
    "p1 <-ggplot(aes(y = Accuracy, x = B,ymax = Accuracy + se, ymin=Accuracy - se), \n",
    "            data = dd_all) +\n",
    "geom_point(size=1)+geom_errorbar(width=0.3)\n",
    "\n",
    "\n",
    "p1<-p1+xlab('Analysis characteristic')\n",
    "p1<-p1+ylab('Decoding accuracy')\n",
    "p1<-p1+theme(panel.background=element_blank())\n",
    "p1<-p1+scale_x_discrete(labels=alabels)\n",
    "p1<-p1+theme(axis.line.x = element_line(color=\"black\", size = mainlinewidth),\n",
    "        axis.line.y = element_line(color=\"black\", size =mainlinewidth))\n",
    "p1<-p1+theme(axis.ticks.x=element_blank(),axis.ticks.y=element_blank())\n",
    "p1<-p1+theme(axis.line.x = element_line(color=\"black\", size = mainlinewidth),\n",
    "        axis.line.y = element_line(color=\"black\", size =mainlinewidth))\n",
    "\n",
    "p1<-p1+theme(axis.text.y = element_text(size=textsize,family='Helvetica',colour='black'))\n",
    "p1<-p1+theme(axis.text.x = element_text(angle = 90, hjust = 1,size=textsize,vjust=0.5,\n",
    "                                        family='Helvetica',colour='black'))\n",
    "p1<-p1+theme(plot.title = element_text(size=labelsize,family='Helvetica',colour='black'))\n",
    "p1<-p1+theme(axis.title.x = element_text(size=labelsize,family='Helvetica',colour='black'))\n",
    "p1<-p1+theme(axis.title.y = element_text(size=labelsize,family='Helvetica',colour='black'))\n",
    "p1<-p1+theme(axis.ticks.x=element_blank(),axis.ticks.y=element_blank())\n",
    "\n",
    "\n",
    "setEPS()\n",
    "postscript('../Figures/Supp_individual_regressions.eps',width=6,height=3.5)\n",
    "p1\n",
    "dev.off()\n",
    "\n",
    "png('../Figures/Supp_individual_regressions.png',width=6,height=3.5,units=\"in\",res=400)\n",
    "#postscript('../Figures/Supp/full_regression_moreregions.eps',width=6,height=7)\n",
    "p1\n",
    "dev.off()\n",
    "\n",
    "options(repr.plot.width=6, repr.plot.height=5)\n",
    "p1"
   ]
  },
  {
   "cell_type": "markdown",
   "metadata": {},
   "source": [
    "# Likelihood Ratio Tests \n",
    "- Logliklihood ratio tests (like F-tests) were done after models were re-fit using ML estimation\n",
    "- The p-values for each test are plotted below (uncorrected for multiple comparisons)"
   ]
  },
  {
   "cell_type": "code",
   "execution_count": 13,
   "metadata": {
    "collapsed": true
   },
   "outputs": [],
   "source": [
    "null_model<-lme(Accuracy.50~1,random=~1|PID,data=d,method='ML')\n",
    "\n"
   ]
  },
  {
   "cell_type": "code",
   "execution_count": 15,
   "metadata": {},
   "outputs": [
    {
     "data": {
      "text/plain": [
       "Linear mixed-effects model fit by maximum likelihood\n",
       "  Data: d \n",
       "  Log-likelihood: 695.593\n",
       "  Fixed: as.formula(\"Accuracy.50~Info.type\") \n",
       "      (Intercept) Info.typeResponse     Info.typeRule    Info.typeValue \n",
       "      0.603213409       0.013277711      -0.001860867       0.012292694 \n",
       "\n",
       "Random effects:\n",
       " Formula: ~1 | PID\n",
       "        (Intercept)   Residual\n",
       "StdDev:  0.06396365 0.05272515\n",
       "\n",
       "Number of Observations: 506\n",
       "Number of Groups: 75 "
      ]
     },
     "metadata": {},
     "output_type": "display_data"
    }
   ],
   "source": [
    "model_info_type<-lme(as.formula('Accuracy.50~Info.type'),random=~1|PID,data=d,method='ML')\n",
    "model_info_type"
   ]
  },
  {
   "cell_type": "code",
   "execution_count": 16,
   "metadata": {},
   "outputs": [
    {
     "data": {
      "text/html": [
       "<table>\n",
       "<thead><tr><th></th><th scope=col>call</th><th scope=col>Model</th><th scope=col>df</th><th scope=col>AIC</th><th scope=col>BIC</th><th scope=col>logLik</th><th scope=col>Test</th><th scope=col>L.Ratio</th><th scope=col>p-value</th></tr></thead>\n",
       "<tbody>\n",
       "\t<tr><th scope=row>null_model</th><td>lme.formula(fixed = Accuracy.50 ~ 1, data = d, random = ~1 |     PID, method = \"ML\")                    </td><td>1                                                                                                       </td><td>3                                                                                                       </td><td>-1384.061                                                                                               </td><td>-1371.381                                                                                               </td><td>695.0305                                                                                                </td><td>                                                                                                        </td><td>      NA                                                                                                </td><td>       NA                                                                                               </td></tr>\n",
       "\t<tr><th scope=row>model_info_type</th><td>lme.formula(fixed = as.formula(\"Accuracy.50~Info.type\"), data = d,     random = ~1 | PID, method = \"ML\")</td><td>2                                                                                                       </td><td>6                                                                                                       </td><td>-1379.186                                                                                               </td><td>-1353.827                                                                                               </td><td>695.5930                                                                                                </td><td>1 vs 2                                                                                                  </td><td>1.125077                                                                                                </td><td>0.7710242                                                                                               </td></tr>\n",
       "</tbody>\n",
       "</table>\n"
      ],
      "text/latex": [
       "\\begin{tabular}{r|lllllllll}\n",
       "  & call & Model & df & AIC & BIC & logLik & Test & L.Ratio & p-value\\\\\n",
       "\\hline\n",
       "\tnull\\_model & lme.formula(fixed = Accuracy.50 \\textasciitilde{} 1, data = d, random = \\textasciitilde{}1 \\textbar{}     PID, method = \"ML\")                     & 1                                                                                                                                                    & 3                                                                                                                                                    & -1384.061                                                                                                                                            & -1371.381                                                                                                                                            & 695.0305                                                                                                                                             &                                                                                                                                                      &       NA                                                                                                                                             &        NA                                                                                                                                           \\\\\n",
       "\tmodel\\_info\\_type & lme.formula(fixed = as.formula(\"Accuracy.50\\textasciitilde{}Info.type\"), data = d,     random = \\textasciitilde{}1 \\textbar{} PID, method = \"ML\") & 2                                                                                                                                                    & 6                                                                                                                                                    & -1379.186                                                                                                                                            & -1353.827                                                                                                                                            & 695.5930                                                                                                                                             & 1 vs 2                                                                                                                                               & 1.125077                                                                                                                                             & 0.7710242                                                                                                                                           \\\\\n",
       "\\end{tabular}\n"
      ],
      "text/markdown": [
       "\n",
       "| <!--/--> | call | Model | df | AIC | BIC | logLik | Test | L.Ratio | p-value | \n",
       "|---|---|\n",
       "| null_model | lme.formula(fixed = Accuracy.50 ~ 1, data = d, random = ~1 |     PID, method = \"ML\")                     | 1                                                                                                        | 3                                                                                                        | -1384.061                                                                                                | -1371.381                                                                                                | 695.0305                                                                                                 |                                                                                                          |       NA                                                                                                 |        NA                                                                                                | \n",
       "| model_info_type | lme.formula(fixed = as.formula(\"Accuracy.50~Info.type\"), data = d,     random = ~1 | PID, method = \"ML\") | 2                                                                                                        | 6                                                                                                        | -1379.186                                                                                                | -1353.827                                                                                                | 695.5930                                                                                                 | 1 vs 2                                                                                                   | 1.125077                                                                                                 | 0.7710242                                                                                                | \n",
       "\n",
       "\n"
      ],
      "text/plain": [
       "                call                                                                                                    \n",
       "null_model      lme.formula(fixed = Accuracy.50 ~ 1, data = d, random = ~1 |     PID, method = \"ML\")                    \n",
       "model_info_type lme.formula(fixed = as.formula(\"Accuracy.50~Info.type\"), data = d,     random = ~1 | PID, method = \"ML\")\n",
       "                Model df AIC       BIC       logLik   Test   L.Ratio  p-value  \n",
       "null_model      1     3  -1384.061 -1371.381 695.0305              NA        NA\n",
       "model_info_type 2     6  -1379.186 -1353.827 695.5930 1 vs 2 1.125077 0.7710242"
      ]
     },
     "metadata": {},
     "output_type": "display_data"
    }
   ],
   "source": [
    "a<-anova(null_model,model_info_type)\n",
    "a"
   ]
  },
  {
   "cell_type": "code",
   "execution_count": 18,
   "metadata": {
    "collapsed": true
   },
   "outputs": [],
   "source": [
    "model_info_type<-lme(as.formula('Accuracy.50~Info.type'),random=~1|PID,data=d,method='ML')\n",
    "a<-anova(null_model,model_info_type)\n",
    "dd<-data.frame(a)[c('Model','df','AIC','BIC','logLik','L.Ratio','p.value')]\n",
    "\n",
    "model_roi_search<-lme(as.formula('Accuracy.50~Roi.Search'),random=~1|PID,data=d,method='ML')\n",
    "a<-anova(null_model,model_roi_search)\n",
    "d_new<-data.frame(a)[c('Model','df','AIC','BIC','logLik','L.Ratio','p.value')]\n",
    "dd<-rbind(dd,d_new[2,])\n",
    "\n",
    "model_pattern_type<-lme(as.formula('Accuracy.50~Pattern.type'),random=~1|PID,data=d,method='ML')\n",
    "a<-anova(null_model,model_pattern_type)\n",
    "d_new<-data.frame(a)[c('Model','df','AIC','BIC','logLik','L.Ratio','p.value')]\n",
    "dd<-rbind(dd,d_new[2,])\n",
    "\n",
    "model_classifier<-lme(as.formula('Accuracy.50~Classifier.type'),random=~1|PID,data=d,method='ML')\n",
    "a<-anova(null_model,model_classifier)\n",
    "d_new<-data.frame(a)[c('Model','df','AIC','BIC','logLik','L.Ratio','p.value')]\n",
    "dd<-rbind(dd,d_new[2,])\n",
    "\n",
    "model_scanner<-lme(as.formula('Accuracy.50~Scanner'),random=~1|PID,data=d,method='ML')\n",
    "a<-anova(null_model,model_scanner)\n",
    "d_new<-data.frame(a)[c('Model','df','AIC','BIC','logLik','L.Ratio','p.value')]\n",
    "dd<-rbind(dd,d_new[2,])\n",
    "\n",
    "model_smoothing<-lme(as.formula('Accuracy.50~Smoothing'),random=~1|PID,data=d,method='ML')\n",
    "a<-anova(null_model,model_smoothing)\n",
    "d_new<-data.frame(a)[c('Model','df','AIC','BIC','logLik','L.Ratio','p.value')]\n",
    "dd<-rbind(dd,d_new[2,])\n",
    "\n",
    "model_coreg<-lme(as.formula('Accuracy.50~Coregistration'),random=~1|PID,data=d,method='ML')\n",
    "a<-anova(null_model,model_coreg)\n",
    "d_new<-data.frame(a)[c('Model','df','AIC','BIC','logLik','L.Ratio','p.value')]\n",
    "dd<-rbind(dd,d_new[2,])\n",
    "\n",
    "model_pattern_norm<-lme(as.formula('Accuracy.50~Pattern.normalization.type'),random=~1|PID,data=d,method='ML')\n",
    "a<-anova(null_model,model_pattern_norm)\n",
    "d_new<-data.frame(a)[c('Model','df','AIC','BIC','logLik','L.Ratio','p.value')]\n",
    "dd<-rbind(dd,d_new[2,])\n",
    "\n",
    "model_n_subs<-lme(as.formula('Accuracy.50~Num_subs'),random=~1|PID,data=d,method='ML')\n",
    "a<-anova(null_model,model_n_subs)\n",
    "d_new<-data.frame(a)[c('Model','df','AIC','BIC','logLik','L.Ratio','p.value')]\n",
    "dd<-rbind(dd,d_new[2,])\n",
    "\n",
    "model_resolution<-lme(as.formula('Accuracy.50~Resolution_Volume'),random=~1|PID,data=d,method='ML')\n",
    "a<-anova(null_model,model_resolution)\n",
    "d_new<-data.frame(a)[c('Model','df','AIC','BIC','logLik','L.Ratio','p.value')]\n",
    "dd<-rbind(dd,d_new[2,])"
   ]
  },
  {
   "cell_type": "code",
   "execution_count": 25,
   "metadata": {},
   "outputs": [
    {
     "data": {
      "text/html": [
       "<table>\n",
       "<thead><tr><th></th><th scope=col>Model</th><th scope=col>df</th><th scope=col>AIC</th><th scope=col>BIC</th><th scope=col>logLik</th><th scope=col>L.Ratio</th><th scope=col>p.value</th></tr></thead>\n",
       "<tbody>\n",
       "\t<tr><th scope=row>null_model</th><td>1      </td><td>3      </td><td>-1384.1</td><td>-1371.4</td><td>695.0  </td><td>   NA  </td><td>   NA  </td></tr>\n",
       "\t<tr><th scope=row>model_info_type</th><td>2      </td><td>6      </td><td>-1379.2</td><td>-1353.8</td><td>695.6  </td><td> 1.13  </td><td>0.771  </td></tr>\n",
       "\t<tr><th scope=row>model_roi_search</th><td>2      </td><td>4      </td><td>-1383.2</td><td>-1366.2</td><td>695.6  </td><td> 1.09  </td><td>0.296  </td></tr>\n",
       "\t<tr><th scope=row>model_pattern_type</th><td>2      </td><td>6      </td><td>-1384.9</td><td>-1359.5</td><td>698.4  </td><td> 6.81  </td><td>0.078  </td></tr>\n",
       "\t<tr><th scope=row>model_classifier</th><td>2      </td><td>8      </td><td>-1398.8</td><td>-1365.0</td><td>707.4  </td><td>24.72  </td><td>0.000  </td></tr>\n",
       "\t<tr><th scope=row>model_scanner</th><td>2      </td><td>4      </td><td>-1382.1</td><td>-1365.2</td><td>695.0  </td><td> 0.00  </td><td>0.972  </td></tr>\n",
       "\t<tr><th scope=row>model_smoothing</th><td>2      </td><td>4      </td><td>-1382.1</td><td>-1365.2</td><td>695.1  </td><td> 0.07  </td><td>0.793  </td></tr>\n",
       "\t<tr><th scope=row>model_coreg</th><td>2      </td><td>4      </td><td>-1382.1</td><td>-1365.2</td><td>695.0  </td><td> 0.01  </td><td>0.903  </td></tr>\n",
       "\t<tr><th scope=row>model_pattern_norm</th><td>2      </td><td>5      </td><td>-1381.1</td><td>-1359.9</td><td>695.5  </td><td> 1.02  </td><td>0.602  </td></tr>\n",
       "\t<tr><th scope=row>model_n_subs</th><td>2      </td><td>4      </td><td>-1383.5</td><td>-1366.6</td><td>695.7  </td><td> 1.43  </td><td>0.232  </td></tr>\n",
       "\t<tr><th scope=row>model_resolution</th><td>2      </td><td>4      </td><td>-1382.4</td><td>-1365.5</td><td>695.2  </td><td> 0.38  </td><td>0.536  </td></tr>\n",
       "</tbody>\n",
       "</table>\n"
      ],
      "text/latex": [
       "\\begin{tabular}{r|lllllll}\n",
       "  & Model & df & AIC & BIC & logLik & L.Ratio & p.value\\\\\n",
       "\\hline\n",
       "\tnull\\_model & 1       & 3       & -1384.1 & -1371.4 & 695.0   &    NA   &    NA  \\\\\n",
       "\tmodel\\_info\\_type & 2       & 6       & -1379.2 & -1353.8 & 695.6   &  1.13   & 0.771  \\\\\n",
       "\tmodel\\_roi\\_search & 2       & 4       & -1383.2 & -1366.2 & 695.6   &  1.09   & 0.296  \\\\\n",
       "\tmodel\\_pattern\\_type & 2       & 6       & -1384.9 & -1359.5 & 698.4   &  6.81   & 0.078  \\\\\n",
       "\tmodel\\_classifier & 2       & 8       & -1398.8 & -1365.0 & 707.4   & 24.72   & 0.000  \\\\\n",
       "\tmodel\\_scanner & 2       & 4       & -1382.1 & -1365.2 & 695.0   &  0.00   & 0.972  \\\\\n",
       "\tmodel\\_smoothing & 2       & 4       & -1382.1 & -1365.2 & 695.1   &  0.07   & 0.793  \\\\\n",
       "\tmodel\\_coreg & 2       & 4       & -1382.1 & -1365.2 & 695.0   &  0.01   & 0.903  \\\\\n",
       "\tmodel\\_pattern\\_norm & 2       & 5       & -1381.1 & -1359.9 & 695.5   &  1.02   & 0.602  \\\\\n",
       "\tmodel\\_n\\_subs & 2       & 4       & -1383.5 & -1366.6 & 695.7   &  1.43   & 0.232  \\\\\n",
       "\tmodel\\_resolution & 2       & 4       & -1382.4 & -1365.5 & 695.2   &  0.38   & 0.536  \\\\\n",
       "\\end{tabular}\n"
      ],
      "text/markdown": [
       "\n",
       "| <!--/--> | Model | df | AIC | BIC | logLik | L.Ratio | p.value | \n",
       "|---|---|---|---|---|---|---|---|---|---|---|\n",
       "| null_model | 1       | 3       | -1384.1 | -1371.4 | 695.0   |    NA   |    NA   | \n",
       "| model_info_type | 2       | 6       | -1379.2 | -1353.8 | 695.6   |  1.13   | 0.771   | \n",
       "| model_roi_search | 2       | 4       | -1383.2 | -1366.2 | 695.6   |  1.09   | 0.296   | \n",
       "| model_pattern_type | 2       | 6       | -1384.9 | -1359.5 | 698.4   |  6.81   | 0.078   | \n",
       "| model_classifier | 2       | 8       | -1398.8 | -1365.0 | 707.4   | 24.72   | 0.000   | \n",
       "| model_scanner | 2       | 4       | -1382.1 | -1365.2 | 695.0   |  0.00   | 0.972   | \n",
       "| model_smoothing | 2       | 4       | -1382.1 | -1365.2 | 695.1   |  0.07   | 0.793   | \n",
       "| model_coreg | 2       | 4       | -1382.1 | -1365.2 | 695.0   |  0.01   | 0.903   | \n",
       "| model_pattern_norm | 2       | 5       | -1381.1 | -1359.9 | 695.5   |  1.02   | 0.602   | \n",
       "| model_n_subs | 2       | 4       | -1383.5 | -1366.6 | 695.7   |  1.43   | 0.232   | \n",
       "| model_resolution | 2       | 4       | -1382.4 | -1365.5 | 695.2   |  0.38   | 0.536   | \n",
       "\n",
       "\n"
      ],
      "text/plain": [
       "                   Model df AIC     BIC     logLik L.Ratio p.value\n",
       "null_model         1     3  -1384.1 -1371.4 695.0     NA      NA  \n",
       "model_info_type    2     6  -1379.2 -1353.8 695.6   1.13   0.771  \n",
       "model_roi_search   2     4  -1383.2 -1366.2 695.6   1.09   0.296  \n",
       "model_pattern_type 2     6  -1384.9 -1359.5 698.4   6.81   0.078  \n",
       "model_classifier   2     8  -1398.8 -1365.0 707.4  24.72   0.000  \n",
       "model_scanner      2     4  -1382.1 -1365.2 695.0   0.00   0.972  \n",
       "model_smoothing    2     4  -1382.1 -1365.2 695.1   0.07   0.793  \n",
       "model_coreg        2     4  -1382.1 -1365.2 695.0   0.01   0.903  \n",
       "model_pattern_norm 2     5  -1381.1 -1359.9 695.5   1.02   0.602  \n",
       "model_n_subs       2     4  -1383.5 -1366.6 695.7   1.43   0.232  \n",
       "model_resolution   2     4  -1382.4 -1365.5 695.2   0.38   0.536  "
      ]
     },
     "metadata": {},
     "output_type": "display_data"
    }
   ],
   "source": [
    "dd$p.value<-round(dd$p.value,3)\n",
    "dd$AIC<-round(dd$AIC,1)\n",
    "dd$BIC<-round(dd$BIC,1)\n",
    "dd$logLik<-round(dd$logLik,1)\n",
    "dd$L.Ratio<-round(dd$L.Ratio,2)\n",
    "dd"
   ]
  },
  {
   "cell_type": "markdown",
   "metadata": {},
   "source": [
    "- the effect of **classifier** is strongly significant as indicated by the plot, but as noted in the main analysis, this should be interpreted with caution. The effect of correlation is driven by a single study that has several analyses. The effects of nonlinear svm are driven by 4 studies. \n",
    "\n",
    "- **pattern type** (or temporal compression) is the only other characteristic that is close to significant. Studies that average across trials and TR's have a marginally significant higher accuracy than other types of averaging.\n"
   ]
  },
  {
   "cell_type": "code",
   "execution_count": 25,
   "metadata": {
    "collapsed": true
   },
   "outputs": [],
   "source": [
    "#jupyter nbconvert --to pdf --template pdf_template_nocode.tplx Supp_Analysis_Mixed_Effects_Model_Each_Features_Bilateral_Regions_Github.ipynb"
   ]
  }
 ],
 "metadata": {
  "hide_input": false,
  "kernelspec": {
   "display_name": "R",
   "language": "R",
   "name": "ir"
  },
  "language_info": {
   "codemirror_mode": "r",
   "file_extension": ".r",
   "mimetype": "text/x-r-source",
   "name": "R",
   "pygments_lexer": "r",
   "version": "3.4.1"
  },
  "toc": {
   "nav_menu": {},
   "number_sections": true,
   "sideBar": true,
   "skip_h1_title": false,
   "toc_cell": false,
   "toc_position": {},
   "toc_section_display": "block",
   "toc_window_display": false
  }
 },
 "nbformat": 4,
 "nbformat_minor": 1
}
