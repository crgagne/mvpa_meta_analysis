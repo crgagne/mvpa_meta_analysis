{
 "cells": [
  {
   "cell_type": "code",
   "execution_count": 8,
   "metadata": {
    "collapsed": true
   },
   "outputs": [],
   "source": [
    "import pandas as pd\n",
    "import sys\n",
    "%matplotlib  inline\n",
    "import matplotlib.pyplot as plt\n",
    "import numpy as np"
   ]
  },
  {
   "cell_type": "code",
   "execution_count": 9,
   "metadata": {
    "collapsed": true
   },
   "outputs": [],
   "source": [
    "df = pd.read_csv('../data_meta_analysis/Data_Classifications_v8b.csv')"
   ]
  },
  {
   "cell_type": "code",
   "execution_count": 17,
   "metadata": {},
   "outputs": [
    {
     "name": "stdout",
     "output_type": "stream",
     "text": [
      "11\n",
      "891\n"
     ]
    }
   ],
   "source": [
    "print(np.sum(x>=0.85))\n",
    "print(len(x))"
   ]
  },
  {
   "cell_type": "code",
   "execution_count": 16,
   "metadata": {},
   "outputs": [
    {
     "data": {
      "text/plain": [
       "0.012345679012345678"
      ]
     },
     "execution_count": 16,
     "metadata": {},
     "output_type": "execute_result"
    }
   ],
   "source": [
    "x =df['Accuracy.50'].as_matrix()\n",
    "np.sum(x>=0.85)/len(x)"
   ]
  },
  {
   "cell_type": "code",
   "execution_count": 19,
   "metadata": {},
   "outputs": [
    {
     "data": {
      "text/plain": [
       "0.7833894500561167"
      ]
     },
     "execution_count": 19,
     "metadata": {},
     "output_type": "execute_result"
    }
   ],
   "source": [
    "x =df['Accuracy.50'].as_matrix()\n",
    "np.sum(x<0.62)/len(x)"
   ]
  },
  {
   "cell_type": "code",
   "execution_count": null,
   "metadata": {
    "collapsed": true
   },
   "outputs": [],
   "source": [
    "np.percentile"
   ]
  },
  {
   "cell_type": "code",
   "execution_count": 33,
   "metadata": {
    "collapsed": true
   },
   "outputs": [],
   "source": [
    "#df"
   ]
  },
  {
   "cell_type": "code",
   "execution_count": 38,
   "metadata": {},
   "outputs": [
    {
     "data": {
      "text/plain": [
       "0.0"
      ]
     },
     "execution_count": 38,
     "metadata": {},
     "output_type": "execute_result"
    }
   ],
   "source": [
    "np.mean(df.groupby(by='PID').mean()['Accuracy.50'].as_matrix()>=0.85)"
   ]
  },
  {
   "cell_type": "code",
   "execution_count": 39,
   "metadata": {},
   "outputs": [
    {
     "data": {
      "text/plain": [
       "76"
      ]
     },
     "execution_count": 39,
     "metadata": {},
     "output_type": "execute_result"
    }
   ],
   "source": [
    "len(np.unique(df.PID))"
   ]
  },
  {
   "cell_type": "code",
   "execution_count": 23,
   "metadata": {
    "scrolled": true
   },
   "outputs": [
    {
     "data": {
      "text/plain": [
       "Text(0,0.5,'number of analyses')"
      ]
     },
     "execution_count": 23,
     "metadata": {},
     "output_type": "execute_result"
    },
    {
     "data": {
      "image/png": "[encoded data removed]",
      "text/plain": [
       "<matplotlib.figure.Figure at 0x11986fd68>"
      ]
     },
     "metadata": {},
     "output_type": "display_data"
    }
   ],
   "source": [
    "plt.figure(figsize=(12,4))\n",
    "df['Voxel.numbers'].hist(bins=100)\n",
    "plt.xlabel('number of voxels')\n",
    "plt.ylabel('number of analyses')\n"
   ]
  },
  {
   "cell_type": "code",
   "execution_count": 24,
   "metadata": {},
   "outputs": [
    {
     "data": {
      "text/plain": [
       "Index(['Unnamed: 0', 'PID', 'Year', 'Title', 'Info.type', 'Source.in.paper',\n",
       "       'Task.variable.decoded', 'Accuracy.50', 'Accuracy.other', 'Num_classes',\n",
       "       'Significance', 'Roi.Search', 'Pattern.type', 'Classifier.type',\n",
       "       'Classifier.Fitted', 'Scanner', 'Resolution', 'Smoothing',\n",
       "       'Coregistration', 'Movement.Correction', 'Pattern.normalization.type',\n",
       "       'Num_subs', 'Num_trials', 'Num_class_types', 'Talairach.Coordinates',\n",
       "       'MNI.Coordinates', 'Coordinate.Space', 'ROI.Atlas', 'BA', 'AAL',\n",
       "       'Desikan', 'OxHarvard', 'Destrieux', 'Unkown Atlas',\n",
       "       'Method.of.Assigning.Region', 'Region.name', 'Voxel.numbers',\n",
       "       'Training.setsize', 'Accuracy.50.Median', 'Notes', 'More.Notes',\n",
       "       'Accuracy.50.original'],\n",
       "      dtype='object')"
      ]
     },
     "execution_count": 24,
     "metadata": {},
     "output_type": "execute_result"
    }
   ],
   "source": [
    "df.columns"
   ]
  },
  {
   "cell_type": "code",
   "execution_count": 29,
   "metadata": {},
   "outputs": [
    {
     "data": {
      "text/html": [
       "<div>\n",
       "<style>\n",
       "    .dataframe thead tr:only-child th {\n",
       "        text-align: right;\n",
       "    }\n",
       "\n",
       "    .dataframe thead th {\n",
       "        text-align: left;\n",
       "    }\n",
       "\n",
       "    .dataframe tbody tr th {\n",
       "        vertical-align: top;\n",
       "    }\n",
       "</style>\n",
       "<table border=\"1\" class=\"dataframe\">\n",
       "  <thead>\n",
       "    <tr style=\"text-align: right;\">\n",
       "      <th></th>\n",
       "      <th>PID</th>\n",
       "      <th>Voxel.numbers</th>\n",
       "      <th>Resolution</th>\n",
       "      <th>Region.name</th>\n",
       "    </tr>\n",
       "  </thead>\n",
       "  <tbody>\n",
       "    <tr>\n",
       "      <th>425</th>\n",
       "      <td>46</td>\n",
       "      <td>21990.0</td>\n",
       "      <td>3mmx3mmx3mm</td>\n",
       "      <td>DLPFC</td>\n",
       "    </tr>\n",
       "    <tr>\n",
       "      <th>288</th>\n",
       "      <td>23</td>\n",
       "      <td>16429.0</td>\n",
       "      <td>3.125mmx3.125mmx5mm</td>\n",
       "      <td>R superior,mid,inf orbital frontal</td>\n",
       "    </tr>\n",
       "    <tr>\n",
       "      <th>287</th>\n",
       "      <td>23</td>\n",
       "      <td>15570.0</td>\n",
       "      <td>3.125mmx3.125mmx5mm</td>\n",
       "      <td>L superior,mid,inf orbital frontal</td>\n",
       "    </tr>\n",
       "    <tr>\n",
       "      <th>455</th>\n",
       "      <td>46</td>\n",
       "      <td>15460.0</td>\n",
       "      <td>3mmx3mmx3mm</td>\n",
       "      <td>dorsal premotor</td>\n",
       "    </tr>\n",
       "    <tr>\n",
       "      <th>426</th>\n",
       "      <td>46</td>\n",
       "      <td>15460.0</td>\n",
       "      <td>3mmx3mmx3mm</td>\n",
       "      <td>dorsal premotor</td>\n",
       "    </tr>\n",
       "    <tr>\n",
       "      <th>454</th>\n",
       "      <td>46</td>\n",
       "      <td>15460.0</td>\n",
       "      <td>3mmx3mmx3mm</td>\n",
       "      <td>dorsal premotor</td>\n",
       "    </tr>\n",
       "    <tr>\n",
       "      <th>456</th>\n",
       "      <td>46</td>\n",
       "      <td>15460.0</td>\n",
       "      <td>3mmx3mmx3mm</td>\n",
       "      <td>dorsal premotor</td>\n",
       "    </tr>\n",
       "    <tr>\n",
       "      <th>459</th>\n",
       "      <td>46</td>\n",
       "      <td>15460.0</td>\n",
       "      <td>3mmx3mmx3mm</td>\n",
       "      <td>dorsal premotor</td>\n",
       "    </tr>\n",
       "    <tr>\n",
       "      <th>461</th>\n",
       "      <td>46</td>\n",
       "      <td>15460.0</td>\n",
       "      <td>3mmx3mmx3mm</td>\n",
       "      <td>dorsal premotor</td>\n",
       "    </tr>\n",
       "    <tr>\n",
       "      <th>463</th>\n",
       "      <td>46</td>\n",
       "      <td>15460.0</td>\n",
       "      <td>3mmx3mmx3mm</td>\n",
       "      <td>dorsal premotor</td>\n",
       "    </tr>\n",
       "    <tr>\n",
       "      <th>464</th>\n",
       "      <td>46</td>\n",
       "      <td>15460.0</td>\n",
       "      <td>3mmx3mmx3mm</td>\n",
       "      <td>dorsal premotor</td>\n",
       "    </tr>\n",
       "    <tr>\n",
       "      <th>465</th>\n",
       "      <td>46</td>\n",
       "      <td>15460.0</td>\n",
       "      <td>3mmx3mmx3mm</td>\n",
       "      <td>dorsal premotor</td>\n",
       "    </tr>\n",
       "    <tr>\n",
       "      <th>466</th>\n",
       "      <td>46</td>\n",
       "      <td>15460.0</td>\n",
       "      <td>3mmx3mmx3mm</td>\n",
       "      <td>dorsal premotor</td>\n",
       "    </tr>\n",
       "    <tr>\n",
       "      <th>445</th>\n",
       "      <td>46</td>\n",
       "      <td>15460.0</td>\n",
       "      <td>3mmx3mmx3mm</td>\n",
       "      <td>dorsal premotor</td>\n",
       "    </tr>\n",
       "    <tr>\n",
       "      <th>432</th>\n",
       "      <td>46</td>\n",
       "      <td>15460.0</td>\n",
       "      <td>3mmx3mmx3mm</td>\n",
       "      <td>dorsal premotor</td>\n",
       "    </tr>\n",
       "    <tr>\n",
       "      <th>430</th>\n",
       "      <td>46</td>\n",
       "      <td>15460.0</td>\n",
       "      <td>3mmx3mmx3mm</td>\n",
       "      <td>dorsal premotor</td>\n",
       "    </tr>\n",
       "    <tr>\n",
       "      <th>431</th>\n",
       "      <td>46</td>\n",
       "      <td>15460.0</td>\n",
       "      <td>3mmx3mmx3mm</td>\n",
       "      <td>dorsal premotor</td>\n",
       "    </tr>\n",
       "    <tr>\n",
       "      <th>444</th>\n",
       "      <td>46</td>\n",
       "      <td>12510.0</td>\n",
       "      <td>3mmx3mmx3mm</td>\n",
       "      <td>ventrolateral PFC</td>\n",
       "    </tr>\n",
       "    <tr>\n",
       "      <th>343</th>\n",
       "      <td>33</td>\n",
       "      <td>5242.0</td>\n",
       "      <td>2.08mmx2.08mmx3.4mm</td>\n",
       "      <td>frontal operculum</td>\n",
       "    </tr>\n",
       "    <tr>\n",
       "      <th>295</th>\n",
       "      <td>23</td>\n",
       "      <td>5104.0</td>\n",
       "      <td>3.125mmx3.125mmx5mm</td>\n",
       "      <td>R mid frontal</td>\n",
       "    </tr>\n",
       "    <tr>\n",
       "      <th>92</th>\n",
       "      <td>10</td>\n",
       "      <td>5104.0</td>\n",
       "      <td>3mmx3mmx3mm</td>\n",
       "      <td>Frontal Mid R</td>\n",
       "    </tr>\n",
       "    <tr>\n",
       "      <th>292</th>\n",
       "      <td>23</td>\n",
       "      <td>4863.0</td>\n",
       "      <td>3.125mmx3.125mmx5mm</td>\n",
       "      <td>L mid frontal</td>\n",
       "    </tr>\n",
       "    <tr>\n",
       "      <th>100</th>\n",
       "      <td>10</td>\n",
       "      <td>4863.0</td>\n",
       "      <td>3mmx3mmx3mm</td>\n",
       "      <td>Frontal Mid L</td>\n",
       "    </tr>\n",
       "    <tr>\n",
       "      <th>457</th>\n",
       "      <td>46</td>\n",
       "      <td>4215.0</td>\n",
       "      <td>3mmx3mmx3mm</td>\n",
       "      <td>ventral premotor</td>\n",
       "    </tr>\n",
       "    <tr>\n",
       "      <th>451</th>\n",
       "      <td>46</td>\n",
       "      <td>4215.0</td>\n",
       "      <td>3mmx3mmx3mm</td>\n",
       "      <td>ventral premotor</td>\n",
       "    </tr>\n",
       "    <tr>\n",
       "      <th>452</th>\n",
       "      <td>46</td>\n",
       "      <td>4215.0</td>\n",
       "      <td>3mmx3mmx3mm</td>\n",
       "      <td>ventral premotor</td>\n",
       "    </tr>\n",
       "    <tr>\n",
       "      <th>453</th>\n",
       "      <td>46</td>\n",
       "      <td>4215.0</td>\n",
       "      <td>3mmx3mmx3mm</td>\n",
       "      <td>ventral premotor</td>\n",
       "    </tr>\n",
       "    <tr>\n",
       "      <th>440</th>\n",
       "      <td>46</td>\n",
       "      <td>4215.0</td>\n",
       "      <td>3mmx3mmx3mm</td>\n",
       "      <td>ventral premotor</td>\n",
       "    </tr>\n",
       "    <tr>\n",
       "      <th>458</th>\n",
       "      <td>46</td>\n",
       "      <td>4215.0</td>\n",
       "      <td>3mmx3mmx3mm</td>\n",
       "      <td>ventral premotor</td>\n",
       "    </tr>\n",
       "    <tr>\n",
       "      <th>442</th>\n",
       "      <td>46</td>\n",
       "      <td>4215.0</td>\n",
       "      <td>3mmx3mmx3mm</td>\n",
       "      <td>ventral premotor</td>\n",
       "    </tr>\n",
       "    <tr>\n",
       "      <th>...</th>\n",
       "      <td>...</td>\n",
       "      <td>...</td>\n",
       "      <td>...</td>\n",
       "      <td>...</td>\n",
       "    </tr>\n",
       "    <tr>\n",
       "      <th>423</th>\n",
       "      <td>43</td>\n",
       "      <td>NaN</td>\n",
       "      <td>2.1mmx2.1mmx2mm</td>\n",
       "      <td>left inferior frontal gyrus</td>\n",
       "    </tr>\n",
       "    <tr>\n",
       "      <th>424</th>\n",
       "      <td>43</td>\n",
       "      <td>NaN</td>\n",
       "      <td>2.1mmx2.1mmx2mm</td>\n",
       "      <td>right inferior frontal gyrus</td>\n",
       "    </tr>\n",
       "    <tr>\n",
       "      <th>643</th>\n",
       "      <td>63</td>\n",
       "      <td>NaN</td>\n",
       "      <td>3mmx3mmx3mm</td>\n",
       "      <td>bilateral FEF</td>\n",
       "    </tr>\n",
       "    <tr>\n",
       "      <th>644</th>\n",
       "      <td>63</td>\n",
       "      <td>NaN</td>\n",
       "      <td>3mmx3mmx3mm</td>\n",
       "      <td>bilateral FEF</td>\n",
       "    </tr>\n",
       "    <tr>\n",
       "      <th>652</th>\n",
       "      <td>66</td>\n",
       "      <td>NaN</td>\n",
       "      <td>2mmx2mmx2mm</td>\n",
       "      <td>left DLPFC</td>\n",
       "    </tr>\n",
       "    <tr>\n",
       "      <th>653</th>\n",
       "      <td>66</td>\n",
       "      <td>NaN</td>\n",
       "      <td>2mmx2mmx2mm</td>\n",
       "      <td>left DLPFC</td>\n",
       "    </tr>\n",
       "    <tr>\n",
       "      <th>654</th>\n",
       "      <td>66</td>\n",
       "      <td>NaN</td>\n",
       "      <td>2mmx2mmx2mm</td>\n",
       "      <td>right DLPFC</td>\n",
       "    </tr>\n",
       "    <tr>\n",
       "      <th>655</th>\n",
       "      <td>66</td>\n",
       "      <td>NaN</td>\n",
       "      <td>2mmx2mmx2mm</td>\n",
       "      <td>right DLPFC</td>\n",
       "    </tr>\n",
       "    <tr>\n",
       "      <th>656</th>\n",
       "      <td>66</td>\n",
       "      <td>NaN</td>\n",
       "      <td>2mmx2mmx2mm</td>\n",
       "      <td>rACC</td>\n",
       "    </tr>\n",
       "    <tr>\n",
       "      <th>657</th>\n",
       "      <td>66</td>\n",
       "      <td>NaN</td>\n",
       "      <td>2mmx2mmx2mm</td>\n",
       "      <td>rACC</td>\n",
       "    </tr>\n",
       "    <tr>\n",
       "      <th>703</th>\n",
       "      <td>74</td>\n",
       "      <td>NaN</td>\n",
       "      <td>3mmx3mmx3mm</td>\n",
       "      <td>NaN</td>\n",
       "    </tr>\n",
       "    <tr>\n",
       "      <th>704</th>\n",
       "      <td>74</td>\n",
       "      <td>NaN</td>\n",
       "      <td>3mmx3mmx3mm</td>\n",
       "      <td>NaN</td>\n",
       "    </tr>\n",
       "    <tr>\n",
       "      <th>705</th>\n",
       "      <td>74</td>\n",
       "      <td>NaN</td>\n",
       "      <td>3mmx3mmx3mm</td>\n",
       "      <td>NaN</td>\n",
       "    </tr>\n",
       "    <tr>\n",
       "      <th>706</th>\n",
       "      <td>74</td>\n",
       "      <td>NaN</td>\n",
       "      <td>3mmx3mmx3mm</td>\n",
       "      <td>NaN</td>\n",
       "    </tr>\n",
       "    <tr>\n",
       "      <th>707</th>\n",
       "      <td>74</td>\n",
       "      <td>NaN</td>\n",
       "      <td>3mmx3mmx3mm</td>\n",
       "      <td>NaN</td>\n",
       "    </tr>\n",
       "    <tr>\n",
       "      <th>708</th>\n",
       "      <td>74</td>\n",
       "      <td>NaN</td>\n",
       "      <td>3mmx3mmx3mm</td>\n",
       "      <td>NaN</td>\n",
       "    </tr>\n",
       "    <tr>\n",
       "      <th>709</th>\n",
       "      <td>75</td>\n",
       "      <td>NaN</td>\n",
       "      <td>2mmx2mmx2mm</td>\n",
       "      <td>NaN</td>\n",
       "    </tr>\n",
       "    <tr>\n",
       "      <th>710</th>\n",
       "      <td>75</td>\n",
       "      <td>NaN</td>\n",
       "      <td>2mmx2mmx2mm</td>\n",
       "      <td>NaN</td>\n",
       "    </tr>\n",
       "    <tr>\n",
       "      <th>721</th>\n",
       "      <td>78</td>\n",
       "      <td>NaN</td>\n",
       "      <td>3.3mmx3.3mmx3mm</td>\n",
       "      <td>NaN</td>\n",
       "    </tr>\n",
       "    <tr>\n",
       "      <th>722</th>\n",
       "      <td>78</td>\n",
       "      <td>NaN</td>\n",
       "      <td>3.3mmx3.3mmx3mm</td>\n",
       "      <td>NaN</td>\n",
       "    </tr>\n",
       "    <tr>\n",
       "      <th>723</th>\n",
       "      <td>78</td>\n",
       "      <td>NaN</td>\n",
       "      <td>3.3mmx3.3mmx3mm</td>\n",
       "      <td>NaN</td>\n",
       "    </tr>\n",
       "    <tr>\n",
       "      <th>724</th>\n",
       "      <td>78</td>\n",
       "      <td>NaN</td>\n",
       "      <td>3.3mmx3.3mmx3mm</td>\n",
       "      <td>NaN</td>\n",
       "    </tr>\n",
       "    <tr>\n",
       "      <th>725</th>\n",
       "      <td>78</td>\n",
       "      <td>NaN</td>\n",
       "      <td>3.3mmx3.3mmx3mm</td>\n",
       "      <td>NaN</td>\n",
       "    </tr>\n",
       "    <tr>\n",
       "      <th>726</th>\n",
       "      <td>78</td>\n",
       "      <td>NaN</td>\n",
       "      <td>3.3mmx3.3mmx3mm</td>\n",
       "      <td>NaN</td>\n",
       "    </tr>\n",
       "    <tr>\n",
       "      <th>727</th>\n",
       "      <td>78</td>\n",
       "      <td>NaN</td>\n",
       "      <td>3.3mmx3.3mmx3mm</td>\n",
       "      <td>NaN</td>\n",
       "    </tr>\n",
       "    <tr>\n",
       "      <th>728</th>\n",
       "      <td>78</td>\n",
       "      <td>NaN</td>\n",
       "      <td>3.3mmx3.3mmx3mm</td>\n",
       "      <td>NaN</td>\n",
       "    </tr>\n",
       "    <tr>\n",
       "      <th>729</th>\n",
       "      <td>78</td>\n",
       "      <td>NaN</td>\n",
       "      <td>3.3mmx3.3mmx3mm</td>\n",
       "      <td>NaN</td>\n",
       "    </tr>\n",
       "    <tr>\n",
       "      <th>730</th>\n",
       "      <td>78</td>\n",
       "      <td>NaN</td>\n",
       "      <td>3.3mmx3.3mmx3mm</td>\n",
       "      <td>NaN</td>\n",
       "    </tr>\n",
       "    <tr>\n",
       "      <th>731</th>\n",
       "      <td>78</td>\n",
       "      <td>NaN</td>\n",
       "      <td>3.3mmx3.3mmx3mm</td>\n",
       "      <td>NaN</td>\n",
       "    </tr>\n",
       "    <tr>\n",
       "      <th>732</th>\n",
       "      <td>78</td>\n",
       "      <td>NaN</td>\n",
       "      <td>3.3mmx3.3mmx3mm</td>\n",
       "      <td>NaN</td>\n",
       "    </tr>\n",
       "  </tbody>\n",
       "</table>\n",
       "<p>891 rows × 4 columns</p>\n",
       "</div>"
      ],
      "text/plain": [
       "     PID  Voxel.numbers           Resolution  \\\n",
       "425   46        21990.0          3mmx3mmx3mm   \n",
       "288   23        16429.0  3.125mmx3.125mmx5mm   \n",
       "287   23        15570.0  3.125mmx3.125mmx5mm   \n",
       "455   46        15460.0          3mmx3mmx3mm   \n",
       "426   46        15460.0          3mmx3mmx3mm   \n",
       "454   46        15460.0          3mmx3mmx3mm   \n",
       "456   46        15460.0          3mmx3mmx3mm   \n",
       "459   46        15460.0          3mmx3mmx3mm   \n",
       "461   46        15460.0          3mmx3mmx3mm   \n",
       "463   46        15460.0          3mmx3mmx3mm   \n",
       "464   46        15460.0          3mmx3mmx3mm   \n",
       "465   46        15460.0          3mmx3mmx3mm   \n",
       "466   46        15460.0          3mmx3mmx3mm   \n",
       "445   46        15460.0          3mmx3mmx3mm   \n",
       "432   46        15460.0          3mmx3mmx3mm   \n",
       "430   46        15460.0          3mmx3mmx3mm   \n",
       "431   46        15460.0          3mmx3mmx3mm   \n",
       "444   46        12510.0          3mmx3mmx3mm   \n",
       "343   33         5242.0  2.08mmx2.08mmx3.4mm   \n",
       "295   23         5104.0  3.125mmx3.125mmx5mm   \n",
       "92    10         5104.0          3mmx3mmx3mm   \n",
       "292   23         4863.0  3.125mmx3.125mmx5mm   \n",
       "100   10         4863.0          3mmx3mmx3mm   \n",
       "457   46         4215.0          3mmx3mmx3mm   \n",
       "451   46         4215.0          3mmx3mmx3mm   \n",
       "452   46         4215.0          3mmx3mmx3mm   \n",
       "453   46         4215.0          3mmx3mmx3mm   \n",
       "440   46         4215.0          3mmx3mmx3mm   \n",
       "458   46         4215.0          3mmx3mmx3mm   \n",
       "442   46         4215.0          3mmx3mmx3mm   \n",
       "..   ...            ...                  ...   \n",
       "423   43            NaN      2.1mmx2.1mmx2mm   \n",
       "424   43            NaN      2.1mmx2.1mmx2mm   \n",
       "643   63            NaN          3mmx3mmx3mm   \n",
       "644   63            NaN          3mmx3mmx3mm   \n",
       "652   66            NaN          2mmx2mmx2mm   \n",
       "653   66            NaN          2mmx2mmx2mm   \n",
       "654   66            NaN          2mmx2mmx2mm   \n",
       "655   66            NaN          2mmx2mmx2mm   \n",
       "656   66            NaN          2mmx2mmx2mm   \n",
       "657   66            NaN          2mmx2mmx2mm   \n",
       "703   74            NaN          3mmx3mmx3mm   \n",
       "704   74            NaN          3mmx3mmx3mm   \n",
       "705   74            NaN          3mmx3mmx3mm   \n",
       "706   74            NaN          3mmx3mmx3mm   \n",
       "707   74            NaN          3mmx3mmx3mm   \n",
       "708   74            NaN          3mmx3mmx3mm   \n",
       "709   75            NaN          2mmx2mmx2mm   \n",
       "710   75            NaN          2mmx2mmx2mm   \n",
       "721   78            NaN      3.3mmx3.3mmx3mm   \n",
       "722   78            NaN      3.3mmx3.3mmx3mm   \n",
       "723   78            NaN      3.3mmx3.3mmx3mm   \n",
       "724   78            NaN      3.3mmx3.3mmx3mm   \n",
       "725   78            NaN      3.3mmx3.3mmx3mm   \n",
       "726   78            NaN      3.3mmx3.3mmx3mm   \n",
       "727   78            NaN      3.3mmx3.3mmx3mm   \n",
       "728   78            NaN      3.3mmx3.3mmx3mm   \n",
       "729   78            NaN      3.3mmx3.3mmx3mm   \n",
       "730   78            NaN      3.3mmx3.3mmx3mm   \n",
       "731   78            NaN      3.3mmx3.3mmx3mm   \n",
       "732   78            NaN      3.3mmx3.3mmx3mm   \n",
       "\n",
       "                            Region.name  \n",
       "425                               DLPFC  \n",
       "288  R superior,mid,inf orbital frontal  \n",
       "287  L superior,mid,inf orbital frontal  \n",
       "455                     dorsal premotor  \n",
       "426                     dorsal premotor  \n",
       "454                     dorsal premotor  \n",
       "456                     dorsal premotor  \n",
       "459                     dorsal premotor  \n",
       "461                     dorsal premotor  \n",
       "463                     dorsal premotor  \n",
       "464                     dorsal premotor  \n",
       "465                     dorsal premotor  \n",
       "466                     dorsal premotor  \n",
       "445                     dorsal premotor  \n",
       "432                     dorsal premotor  \n",
       "430                     dorsal premotor  \n",
       "431                     dorsal premotor  \n",
       "444                   ventrolateral PFC  \n",
       "343                   frontal operculum  \n",
       "295                       R mid frontal  \n",
       "92                        Frontal Mid R  \n",
       "292                       L mid frontal  \n",
       "100                       Frontal Mid L  \n",
       "457                    ventral premotor  \n",
       "451                    ventral premotor  \n",
       "452                    ventral premotor  \n",
       "453                    ventral premotor  \n",
       "440                    ventral premotor  \n",
       "458                    ventral premotor  \n",
       "442                    ventral premotor  \n",
       "..                                  ...  \n",
       "423         left inferior frontal gyrus  \n",
       "424        right inferior frontal gyrus  \n",
       "643                       bilateral FEF  \n",
       "644                       bilateral FEF  \n",
       "652                          left DLPFC  \n",
       "653                          left DLPFC  \n",
       "654                         right DLPFC  \n",
       "655                         right DLPFC  \n",
       "656                                rACC  \n",
       "657                                rACC  \n",
       "703                                 NaN  \n",
       "704                                 NaN  \n",
       "705                                 NaN  \n",
       "706                                 NaN  \n",
       "707                                 NaN  \n",
       "708                                 NaN  \n",
       "709                                 NaN  \n",
       "710                                 NaN  \n",
       "721                                 NaN  \n",
       "722                                 NaN  \n",
       "723                                 NaN  \n",
       "724                                 NaN  \n",
       "725                                 NaN  \n",
       "726                                 NaN  \n",
       "727                                 NaN  \n",
       "728                                 NaN  \n",
       "729                                 NaN  \n",
       "730                                 NaN  \n",
       "731                                 NaN  \n",
       "732                                 NaN  \n",
       "\n",
       "[891 rows x 4 columns]"
      ]
     },
     "execution_count": 29,
     "metadata": {},
     "output_type": "execute_result"
    }
   ],
   "source": [
    "df[['PID','Voxel.numbers','Resolution','Region.name']].sort_values('Voxel.numbers',ascending=False)"
   ]
  },
  {
   "cell_type": "code",
   "execution_count": 18,
   "metadata": {},
   "outputs": [
    {
     "data": {
      "text/plain": [
       "array([6.3000e+02, 1.1100e+02, 6.3000e+02, 1.1100e+02, 3.1500e+02,\n",
       "       1.1100e+02, 3.1500e+02, 3.1500e+02, 1.1100e+02, 6.3000e+02,\n",
       "       1.1100e+02, 3.1500e+02, 1.3500e+02, 1.2500e+02, 1.4000e+02,\n",
       "       1.4000e+02, 9.0400e+02, 9.0400e+02, 2.6800e+02, 2.6800e+02,\n",
       "       2.6800e+02, 2.6800e+02, 9.5400e+02, 9.5600e+02, 9.5400e+02,\n",
       "       9.5400e+02, 9.5400e+02, 9.5600e+02, 9.5600e+02, 9.5600e+02,\n",
       "       9.5600e+02, 9.5400e+02, 9.5400e+02, 9.5600e+02, 9.5600e+02,\n",
       "       9.5400e+02, 1.9090e+03, 9.5600e+02, 9.5400e+02, 9.5600e+02,\n",
       "       1.9090e+03, 9.5600e+02, 9.5600e+02, 9.5400e+02, 1.9090e+03,\n",
       "       9.5400e+02, 9.5600e+02, 9.5400e+02, 1.9090e+03, 9.5600e+02,\n",
       "       9.5600e+02, 1.9090e+03, 1.9090e+03, 1.9090e+03, 9.5600e+02,\n",
       "       9.5400e+02, 9.5600e+02, 1.9090e+03, 1.9090e+03, 1.9090e+03,\n",
       "       9.5600e+02, 9.5600e+02, 1.9090e+03, 1.9090e+03,        nan,\n",
       "              nan,        nan, 1.1300e+02, 1.1300e+02, 1.1300e+02,\n",
       "       1.1300e+02, 1.1300e+02, 1.1300e+02, 1.1300e+02, 1.1300e+02,\n",
       "       1.1300e+02, 1.1300e+02, 1.1300e+02, 1.1300e+02, 9.9700e+02,\n",
       "       2.3710e+03, 9.6300e+02, 1.3130e+03, 1.8580e+03, 1.7700e+03,\n",
       "       3.3810e+03, 1.3990e+03, 8.5600e+02, 8.5600e+02, 7.1900e+02,\n",
       "       2.1470e+03, 1.7070e+03, 5.1040e+03, 1.0380e+03, 4.0560e+03,\n",
       "       8.8800e+02, 2.1340e+03, 2.1510e+03, 2.9920e+03, 3.5990e+03,\n",
       "       4.8630e+03, 1.6900e+03, 2.5290e+03,        nan,        nan,\n",
       "              nan,        nan,        nan,        nan,        nan,\n",
       "              nan,        nan,        nan,        nan,        nan,\n",
       "              nan,        nan,        nan,        nan,        nan,\n",
       "              nan,        nan,        nan,        nan,        nan,\n",
       "              nan,        nan, 1.0000e+02, 1.0000e+02, 1.0000e+02,\n",
       "       6.8000e+01, 5.4000e+01, 5.4000e+01, 5.4000e+01, 5.2000e+01,\n",
       "       6.3000e+01, 5.9000e+01, 4.6000e+01, 6.8000e+01, 5.4000e+01,\n",
       "       5.4000e+01, 7.3000e+01, 7.3000e+01, 7.3000e+01, 6.3000e+01,\n",
       "       6.3000e+01, 5.9000e+01, 5.9000e+01, 6.8000e+01, 5.2000e+01,\n",
       "       5.2000e+01, 5.2000e+01, 4.6000e+01, 4.6000e+01, 5.4000e+01,\n",
       "       5.4000e+01, 5.9000e+01, 5.9000e+01, 5.9000e+01, 4.8000e+01,\n",
       "       4.8000e+01, 4.8000e+01, 4.8000e+01, 4.8000e+01, 4.8000e+01,\n",
       "       4.8000e+01, 6.8000e+01, 6.8000e+01, 5.2000e+01, 5.2000e+01,\n",
       "       5.2000e+01, 4.6000e+01, 4.6000e+01, 5.4000e+01, 4.6000e+01,\n",
       "       4.6000e+01, 4.6000e+01, 5.4000e+01, 5.4000e+01, 6.3000e+01,\n",
       "       6.3000e+01, 5.9000e+01, 4.8000e+01, 4.8000e+01, 6.8000e+01,\n",
       "       6.8000e+01, 5.2000e+01, 4.6000e+01, 4.6000e+01, 5.4000e+01,\n",
       "       6.3000e+01, 5.9000e+01, 5.9000e+01, 4.8000e+01, 6.8000e+01,\n",
       "       5.2000e+01, 5.2000e+01, 5.2000e+01, 4.6000e+01, 4.6000e+01,\n",
       "       7.3000e+01, 5.9000e+01, 5.3000e+01, 7.3000e+01, 7.3000e+01,\n",
       "       6.3000e+01, 6.3000e+01, 4.8000e+01, 4.8000e+01, 6.8000e+01,\n",
       "       5.4000e+01, 7.3000e+01, 7.3000e+01, 6.3000e+01, 5.9000e+01,\n",
       "       6.8000e+01, 6.8000e+01, 6.8000e+01, 7.3000e+01, 7.3000e+01,\n",
       "       5.9000e+01, 7.3000e+01, 7.3000e+01, 6.3000e+01, 6.3000e+01,\n",
       "       6.3000e+01, 1.1980e+03, 1.1980e+03, 2.9800e+03, 3.3980e+03,\n",
       "       2.3140e+03, 2.9800e+03, 2.3140e+03, 3.3980e+03, 3.0520e+03,\n",
       "       3.0520e+03, 1.1980e+03, 2.3140e+03, 3.0520e+03, 2.9800e+03,\n",
       "       3.3980e+03, 1.0000e+02, 1.0000e+02, 1.0000e+02, 1.0000e+02,\n",
       "       1.0000e+02, 1.0000e+02, 1.0000e+02, 1.0000e+02, 1.0000e+02,\n",
       "       1.0000e+02, 1.0000e+02, 1.0000e+02, 1.0000e+02, 1.0000e+02,\n",
       "       1.0000e+02, 1.0000e+02, 1.0000e+02, 1.0000e+02, 1.0000e+02,\n",
       "       1.0000e+02, 1.0000e+02, 1.0000e+02, 1.0000e+02, 1.0000e+02,\n",
       "       4.3600e+02, 1.1300e+02, 2.6300e+02, 2.6800e+02, 2.6800e+02,\n",
       "       2.6800e+02,        nan,        nan,        nan,        nan,\n",
       "              nan,        nan,        nan,        nan,        nan,\n",
       "              nan, 2.3710e+03, 1.4000e+03, 1.3130e+03, 1.3990e+03,\n",
       "       1.7700e+03, 2.1340e+03, 1.5570e+04, 1.6429e+04, 2.1470e+03,\n",
       "       2.1510e+03, 2.1510e+03, 4.8630e+03, 2.9920e+03, 4.0560e+03,\n",
       "       5.1040e+03, 2.5290e+03, 1.8580e+03, 3.5990e+03, 1.1300e+02,\n",
       "       1.1300e+02, 1.1300e+02, 1.1300e+02,        nan, 1.1300e+02,\n",
       "       2.5100e+02, 2.5100e+02, 2.5100e+02, 2.5100e+02, 7.7700e+02,\n",
       "       6.3000e+02, 1.1100e+02, 7.7700e+02, 1.1100e+02, 6.3000e+02,\n",
       "       7.7700e+02, 7.7700e+02, 6.3000e+02, 1.1100e+02, 6.3000e+02,\n",
       "       1.1100e+02, 1.1100e+02, 7.7700e+02, 1.1100e+02, 6.3000e+02,\n",
       "       7.7700e+02, 6.3000e+02, 3.3000e+01, 3.3000e+01, 2.8000e+01,\n",
       "       2.6000e+01, 3.3000e+01, 2.6000e+01, 2.6000e+01, 2.8000e+01,\n",
       "       5.9000e+01, 3.3000e+01, 5.9000e+01, 5.9000e+01, 1.0000e+02,\n",
       "       1.0000e+02, 1.0000e+02, 1.0000e+02, 5.2420e+03,        nan,\n",
       "              nan,        nan,        nan,        nan,        nan,\n",
       "              nan,        nan,        nan,        nan,        nan,\n",
       "              nan,        nan,        nan,        nan,        nan,\n",
       "              nan,        nan,        nan,        nan,        nan,\n",
       "              nan,        nan,        nan,        nan,        nan,\n",
       "              nan,        nan,        nan,        nan,        nan,\n",
       "       2.5100e+02, 2.5100e+02, 2.5100e+02, 2.5100e+02, 2.5100e+02,\n",
       "       2.5100e+02, 2.5100e+02, 2.5100e+02, 2.5100e+02, 2.5100e+02,\n",
       "       2.3200e+02, 2.3200e+02, 2.3200e+02, 2.3200e+02, 2.3200e+02,\n",
       "       2.3200e+02, 2.3200e+02, 2.3200e+02, 2.3200e+02, 2.3200e+02,\n",
       "       2.3200e+02, 2.3200e+02, 2.3200e+02, 2.3200e+02, 2.3200e+02,\n",
       "       2.3200e+02, 2.3200e+02, 2.3200e+02, 2.3200e+02, 2.3200e+02,\n",
       "       2.3200e+02, 2.3200e+02, 2.3200e+02, 2.3200e+02, 2.3200e+02,\n",
       "       2.3200e+02, 2.6800e+02, 2.6800e+02, 2.6800e+02, 2.6800e+02,\n",
       "       2.6800e+02, 2.6800e+02,        nan,        nan,        nan,\n",
       "              nan,        nan,        nan,        nan,        nan,\n",
       "       2.1990e+04, 1.5460e+04, 3.7520e+03, 3.7520e+03, 3.7520e+03,\n",
       "       1.5460e+04, 1.5460e+04, 1.5460e+04, 2.2180e+03, 2.2180e+03,\n",
       "       3.7520e+03, 3.7520e+03, 2.2180e+03, 3.7520e+03, 3.7520e+03,\n",
       "       4.2150e+03, 3.7520e+03, 4.2150e+03, 4.2150e+03, 1.2510e+04,\n",
       "       1.5460e+04, 2.2180e+03, 3.7520e+03, 4.2150e+03, 4.2150e+03,\n",
       "       4.2150e+03, 4.2150e+03, 4.2150e+03, 4.2150e+03, 1.5460e+04,\n",
       "       1.5460e+04, 1.5460e+04, 4.2150e+03, 4.2150e+03, 1.5460e+04,\n",
       "       3.7520e+03, 1.5460e+04, 4.2150e+03, 1.5460e+04, 1.5460e+04,\n",
       "       1.5460e+04, 1.5460e+04, 7.9000e+01, 7.9000e+01, 7.9000e+01,\n",
       "       5.4000e+01, 5.4000e+01, 5.4000e+01, 7.1000e+01, 7.1000e+01,\n",
       "       7.1000e+01, 7.1000e+01, 7.1000e+01, 7.1000e+01, 7.1000e+01,\n",
       "       7.1000e+01, 7.1000e+01, 7.1000e+01, 7.1000e+01, 7.1000e+01,\n",
       "       9.2000e+01, 9.2000e+01, 9.2000e+01, 9.2000e+01, 9.2000e+01,\n",
       "       9.2000e+01, 9.2000e+01, 9.2000e+01, 9.2000e+01, 9.2000e+01,\n",
       "       9.2000e+01, 9.2000e+01, 8.2000e+01, 8.2000e+01, 8.2000e+01,\n",
       "       8.2000e+01, 8.2000e+01, 8.2000e+01, 8.2000e+01, 8.2000e+01,\n",
       "       8.2000e+01, 8.2000e+01, 8.2000e+01, 8.2000e+01, 6.8000e+01,\n",
       "       6.8000e+01, 6.8000e+01, 6.8000e+01, 6.8000e+01, 6.8000e+01,\n",
       "       6.8000e+01, 6.8000e+01, 6.8000e+01, 6.8000e+01, 6.8000e+01,\n",
       "       6.8000e+01, 5.9000e+01, 5.9000e+01, 5.9000e+01, 5.9000e+01,\n",
       "       5.9000e+01, 5.9000e+01, 5.9000e+01, 5.9000e+01, 5.9000e+01,\n",
       "       5.9000e+01, 5.9000e+01, 5.9000e+01, 8.6000e+01, 8.6000e+01,\n",
       "       8.6000e+01, 8.6000e+01, 8.6000e+01, 8.6000e+01, 8.6000e+01,\n",
       "       8.6000e+01, 8.6000e+01, 8.6000e+01, 8.6000e+01, 8.6000e+01,\n",
       "       7.6000e+01, 7.6000e+01, 7.6000e+01, 7.6000e+01, 7.6000e+01,\n",
       "       7.6000e+01, 7.6000e+01, 7.6000e+01, 7.6000e+01, 7.6000e+01,\n",
       "       7.6000e+01, 7.6000e+01, 7.0000e+01, 7.0000e+01, 7.0000e+01,\n",
       "       7.0000e+01, 7.0000e+01, 7.0000e+01, 7.0000e+01, 7.0000e+01,\n",
       "       7.0000e+01, 7.0000e+01, 7.0000e+01, 7.0000e+01, 7.5000e+01,\n",
       "       7.1000e+01, 7.1000e+01, 7.0000e+01, 7.0000e+01, 7.5000e+01,\n",
       "       7.5000e+01, 6.0000e+01, 7.0000e+01, 7.1000e+01, 7.1000e+01,\n",
       "       7.5000e+01, 6.0000e+01, 6.0000e+01, 7.0000e+01, 7.1000e+01,\n",
       "       6.0000e+01, 7.0000e+01, 7.5000e+01, 7.1000e+01, 6.0000e+01,\n",
       "       7.0000e+01, 7.5000e+01, 6.0000e+01, 2.7000e+01, 2.7000e+01,\n",
       "       2.7000e+01, 2.7000e+01, 2.7000e+01, 2.7000e+01, 2.7000e+01,\n",
       "       6.2600e+02, 6.2600e+02, 6.2600e+02, 6.9500e+02, 6.9500e+02,\n",
       "       6.9500e+02, 2.5600e+02, 2.5600e+02, 2.5600e+02, 2.5600e+02,\n",
       "       2.5600e+02, 2.5600e+02, 2.5600e+02, 2.5600e+02, 2.5600e+02,\n",
       "       1.1300e+02, 1.1300e+02, 1.1300e+02, 1.1300e+02, 5.0000e+02,\n",
       "       5.0000e+02, 5.0000e+02, 5.0000e+02, 5.0000e+02, 5.0000e+02,\n",
       "       5.0000e+02, 5.0000e+02, 5.0000e+02, 5.0000e+02, 5.0000e+02,\n",
       "       2.3300e+02, 2.7000e+02, 6.5000e+01, 2.7000e+02, 2.4240e+03,\n",
       "       6.5000e+01, 2.7000e+02, 1.4000e+01, 2.1000e+01, 3.3000e+01,\n",
       "       3.3000e+01, 3.3000e+01, 3.3000e+01,        nan,        nan,\n",
       "       1.2300e+02, 1.0000e+02, 2.0000e+02, 1.7500e+02, 1.0000e+02,\n",
       "       1.7500e+02, 2.0000e+02,        nan,        nan,        nan,\n",
       "              nan,        nan,        nan, 3.7000e+01, 1.0380e+03,\n",
       "       1.3990e+03, 2.5290e+03, 2.1510e+03, 1.0380e+03, 1.3990e+03,\n",
       "       2.5290e+03, 2.1510e+03, 5.0000e+01, 2.5000e+01, 2.5000e+01,\n",
       "       2.5000e+01, 5.0000e+01, 5.0000e+01, 5.0000e+01, 5.0000e+01,\n",
       "       5.0000e+01, 5.0000e+01, 6.6000e+01, 8.5000e+01, 8.3000e+01,\n",
       "       1.3900e+02, 8.8000e+01, 7.5500e+02, 6.2000e+01, 1.2100e+02,\n",
       "       5.0200e+02, 7.9000e+01, 8.5000e+01, 6.6000e+01, 1.3900e+02,\n",
       "       6.2000e+01, 8.3000e+01, 8.8000e+01, 5.0200e+02, 7.5500e+02,\n",
       "       1.2100e+02, 7.9000e+01, 2.6000e+01, 2.6000e+01, 2.6000e+01,\n",
       "       2.6000e+01, 2.6900e+02, 5.0000e+02,        nan,        nan,\n",
       "              nan,        nan,        nan,        nan,        nan,\n",
       "              nan, 2.6660e+03, 5.1500e+02, 2.6660e+03, 5.1500e+02,\n",
       "       2.6660e+03, 2.6660e+03, 5.1500e+02, 5.1500e+02, 1.0000e+02,\n",
       "       1.0000e+02,        nan,        nan,        nan,        nan,\n",
       "              nan,        nan,        nan,        nan,        nan,\n",
       "              nan,        nan,        nan, 4.7060e+02, 4.7060e+02,\n",
       "       4.7060e+02, 4.7060e+02, 4.7060e+02, 4.7060e+02, 4.7060e+02,\n",
       "       4.7060e+02, 4.7060e+02, 4.7060e+02, 4.7060e+02, 5.7710e+02,\n",
       "       5.7710e+02, 5.7710e+02, 5.7710e+02, 5.7710e+02, 5.7710e+02,\n",
       "       5.7710e+02, 5.7710e+02, 5.7710e+02, 5.7710e+02, 5.7710e+02,\n",
       "       1.1100e+02, 7.7700e+02, 6.3000e+02, 6.3000e+02, 1.1100e+02,\n",
       "       7.7700e+02, 6.3000e+02, 7.7700e+02, 1.1100e+02, 1.1100e+02,\n",
       "       7.7700e+02, 6.3000e+02, 1.7600e+02, 1.7600e+02, 1.7500e+02,\n",
       "       1.4900e+02, 1.2600e+02, 3.3700e+02, 1.7500e+02, 1.4900e+02,\n",
       "       1.2600e+02, 3.3700e+02, 1.4900e+02, 1.7500e+02, 3.3700e+02,\n",
       "       1.4900e+02, 1.2600e+02, 1.2000e+02, 1.2000e+02, 1.2000e+02,\n",
       "       1.2000e+02, 1.2000e+02, 1.2000e+02, 1.2000e+02, 1.2000e+02,\n",
       "       9.3000e+01, 9.3000e+01, 9.3000e+01, 9.3000e+01, 9.3000e+01,\n",
       "       9.3000e+01, 9.3000e+01, 9.3000e+01, 9.3000e+01, 9.3000e+01,\n",
       "       7.7700e+02, 1.1100e+02, 1.1100e+02, 6.3000e+02, 6.3000e+02,\n",
       "       7.7700e+02, 1.9600e+03, 1.9030e+03, 3.3970e+03, 1.7000e+02,\n",
       "       1.7000e+02, 1.7000e+02, 1.7000e+02, 4.1000e+01, 4.5000e+01,\n",
       "       1.1100e+02, 4.1000e+01, 4.5000e+01, 3.9000e+01, 3.5000e+01,\n",
       "       3.5000e+01, 9.9000e+01, 7.3000e+01, 1.1100e+02, 4.5000e+01,\n",
       "       4.3700e+02, 4.3700e+02, 9.9000e+01, 7.3000e+01, 1.1300e+02,\n",
       "       1.1300e+02, 1.1300e+02, 1.1300e+02, 1.1300e+02, 1.1300e+02,\n",
       "       2.0000e+02, 2.0000e+02, 2.0000e+02, 2.0000e+02, 2.0000e+02,\n",
       "       2.0000e+02, 2.0000e+02, 2.0000e+02, 2.0000e+02, 2.0000e+02,\n",
       "       2.0000e+02, 2.0000e+02, 5.2400e+02, 5.2400e+02, 5.2400e+02,\n",
       "       5.2400e+02, 5.2400e+02, 5.2400e+02, 5.2400e+02, 5.2400e+02,\n",
       "       5.8600e+02, 1.6150e+03, 1.2500e+02, 1.2500e+02, 1.2500e+02,\n",
       "       1.2500e+02, 1.1300e+02, 1.1300e+02, 1.1300e+02, 1.1300e+02,\n",
       "       1.1300e+02, 1.1300e+02, 1.1300e+02, 8.0000e+01, 8.0000e+01,\n",
       "       8.0000e+01, 8.0000e+01, 8.0000e+01, 8.0000e+01, 8.0000e+01,\n",
       "       8.0000e+01, 8.0000e+01, 8.0000e+01, 8.0000e+01, 8.0000e+01,\n",
       "       8.0000e+01, 8.0000e+01, 8.0000e+01, 8.0000e+01, 8.0000e+01,\n",
       "       8.0000e+01, 8.0000e+01, 8.0000e+01, 8.0000e+01, 8.0000e+01,\n",
       "       8.0000e+01])"
      ]
     },
     "execution_count": 18,
     "metadata": {},
     "output_type": "execute_result"
    }
   ],
   "source": [
    "x"
   ]
  },
  {
   "cell_type": "code",
   "execution_count": 52,
   "metadata": {},
   "outputs": [
    {
     "data": {
      "text/html": [
       "<div>\n",
       "<style>\n",
       "    .dataframe thead tr:only-child th {\n",
       "        text-align: right;\n",
       "    }\n",
       "\n",
       "    .dataframe thead th {\n",
       "        text-align: left;\n",
       "    }\n",
       "\n",
       "    .dataframe tbody tr th {\n",
       "        vertical-align: top;\n",
       "    }\n",
       "</style>\n",
       "<table border=\"1\" class=\"dataframe\">\n",
       "  <thead>\n",
       "    <tr style=\"text-align: right;\">\n",
       "      <th></th>\n",
       "      <th>PID</th>\n",
       "      <th>Accuracy.50.Median</th>\n",
       "    </tr>\n",
       "  </thead>\n",
       "  <tbody>\n",
       "    <tr>\n",
       "      <th>18</th>\n",
       "      <td>6</td>\n",
       "      <td>NaN</td>\n",
       "    </tr>\n",
       "    <tr>\n",
       "      <th>19</th>\n",
       "      <td>6</td>\n",
       "      <td>NaN</td>\n",
       "    </tr>\n",
       "    <tr>\n",
       "      <th>20</th>\n",
       "      <td>6</td>\n",
       "      <td>NaN</td>\n",
       "    </tr>\n",
       "    <tr>\n",
       "      <th>21</th>\n",
       "      <td>6</td>\n",
       "      <td>NaN</td>\n",
       "    </tr>\n",
       "    <tr>\n",
       "      <th>67</th>\n",
       "      <td>9</td>\n",
       "      <td>NaN</td>\n",
       "    </tr>\n",
       "  </tbody>\n",
       "</table>\n",
       "</div>"
      ],
      "text/plain": [
       "    PID  Accuracy.50.Median\n",
       "18    6                 NaN\n",
       "19    6                 NaN\n",
       "20    6                 NaN\n",
       "21    6                 NaN\n",
       "67    9                 NaN"
      ]
     },
     "execution_count": 52,
     "metadata": {},
     "output_type": "execute_result"
    }
   ],
   "source": [
    "dftmp = df.loc[df['Roi.Search']=='Searchlight Peak',['PID','Accuracy.50.Median']]\n",
    "dftmp.head()"
   ]
  },
  {
   "cell_type": "code",
   "execution_count": 53,
   "metadata": {},
   "outputs": [
    {
     "data": {
      "text/plain": [
       "27"
      ]
     },
     "execution_count": 53,
     "metadata": {},
     "output_type": "execute_result"
    }
   ],
   "source": [
    "# How many studies use search light? \n",
    "len(dftmp['PID'].unique())"
   ]
  },
  {
   "cell_type": "code",
   "execution_count": 54,
   "metadata": {},
   "outputs": [
    {
     "data": {
      "text/plain": [
       "10"
      ]
     },
     "execution_count": 54,
     "metadata": {},
     "output_type": "execute_result"
    }
   ],
   "source": [
    "len(dftmp.loc[~dftmp['Accuracy.50.Median'].isnull(),'PID'].unique())"
   ]
  },
  {
   "cell_type": "code",
   "execution_count": 55,
   "metadata": {},
   "outputs": [
    {
     "data": {
      "text/plain": [
       "53"
      ]
     },
     "execution_count": 55,
     "metadata": {},
     "output_type": "execute_result"
    }
   ],
   "source": [
    "# How many studies use ROI\n",
    "len(df.loc[df['Roi.Search']=='ROI']['PID'].unique())"
   ]
  },
  {
   "cell_type": "code",
   "execution_count": 56,
   "metadata": {},
   "outputs": [
    {
     "data": {
      "text/plain": [
       "array([6.3000e+02, 1.1100e+02, 3.1500e+02, 1.3500e+02, 1.2500e+02,\n",
       "       1.4000e+02, 9.0400e+02, 2.6800e+02, 9.5400e+02, 9.5600e+02,\n",
       "       1.9090e+03,        nan, 1.1300e+02, 9.9700e+02, 2.3710e+03,\n",
       "       9.6300e+02, 1.3130e+03, 1.8580e+03, 1.7700e+03, 3.3810e+03,\n",
       "       1.3990e+03, 8.5600e+02, 7.1900e+02, 2.1470e+03, 1.7070e+03,\n",
       "       5.1040e+03, 1.0380e+03, 4.0560e+03, 8.8800e+02, 2.1340e+03,\n",
       "       2.1510e+03, 2.9920e+03, 3.5990e+03, 4.8630e+03, 1.6900e+03,\n",
       "       2.5290e+03, 1.0000e+02, 6.8000e+01, 5.4000e+01, 5.2000e+01,\n",
       "       6.3000e+01, 5.9000e+01, 4.6000e+01, 7.3000e+01, 4.8000e+01,\n",
       "       5.3000e+01, 1.1980e+03, 2.9800e+03, 3.3980e+03, 2.3140e+03,\n",
       "       3.0520e+03, 4.3600e+02, 2.6300e+02, 1.4000e+03, 1.5570e+04,\n",
       "       1.6429e+04, 2.5100e+02, 7.7700e+02, 3.3000e+01, 2.8000e+01,\n",
       "       2.6000e+01, 5.2420e+03, 2.3200e+02, 2.1990e+04, 1.5460e+04,\n",
       "       3.7520e+03, 2.2180e+03, 4.2150e+03, 1.2510e+04, 7.9000e+01,\n",
       "       7.1000e+01, 9.2000e+01, 8.2000e+01, 8.6000e+01, 7.6000e+01,\n",
       "       7.0000e+01, 7.5000e+01, 6.0000e+01, 2.7000e+01, 6.2600e+02,\n",
       "       6.9500e+02, 2.5600e+02, 5.0000e+02, 2.3300e+02, 2.7000e+02,\n",
       "       6.5000e+01, 2.4240e+03, 2.1000e+01, 1.2300e+02, 2.0000e+02,\n",
       "       1.7500e+02, 3.7000e+01, 5.0000e+01, 2.5000e+01, 6.6000e+01,\n",
       "       8.5000e+01, 8.3000e+01, 1.3900e+02, 8.8000e+01, 7.5500e+02,\n",
       "       6.2000e+01, 1.2100e+02, 5.0200e+02, 2.6900e+02, 2.6660e+03,\n",
       "       5.1500e+02, 4.7060e+02, 5.7710e+02, 1.7600e+02, 1.4900e+02,\n",
       "       1.2600e+02, 3.3700e+02, 1.2000e+02, 9.3000e+01, 1.9600e+03,\n",
       "       1.9030e+03, 3.3970e+03, 1.7000e+02, 4.1000e+01, 4.5000e+01,\n",
       "       3.9000e+01, 3.5000e+01, 9.9000e+01, 4.3700e+02, 5.2400e+02,\n",
       "       5.8600e+02, 1.6150e+03, 8.0000e+01])"
      ]
     },
     "execution_count": 56,
     "metadata": {},
     "output_type": "execute_result"
    }
   ],
   "source": [
    "df['Voxel.numbers'].unique()"
   ]
  },
  {
   "cell_type": "code",
   "execution_count": 57,
   "metadata": {},
   "outputs": [
    {
     "data": {
      "text/plain": [
       "12"
      ]
     },
     "execution_count": 57,
     "metadata": {},
     "output_type": "execute_result"
    }
   ],
   "source": [
    "len(df.loc[df['Voxel.numbers'].isnull(),'PID'].unique())"
   ]
  },
  {
   "cell_type": "code",
   "execution_count": 58,
   "metadata": {},
   "outputs": [
    {
     "data": {
      "text/plain": [
       "2"
      ]
     },
     "execution_count": 58,
     "metadata": {},
     "output_type": "execute_result"
    }
   ],
   "source": [
    "len(df.loc[df['Training.setsize'].isnull(),'PID'].unique())"
   ]
  },
  {
   "cell_type": "code",
   "execution_count": 62,
   "metadata": {},
   "outputs": [
    {
     "data": {
      "text/plain": [
       "<seaborn.axisgrid.FacetGrid at 0x1160c92b0>"
      ]
     },
     "execution_count": 62,
     "metadata": {},
     "output_type": "execute_result"
    },
    {
     "data": {
      "image/png": "[encoded data removed]",
      "text/plain": [
       "<matplotlib.figure.Figure at 0x1a17831908>"
      ]
     },
     "metadata": {},
     "output_type": "display_data"
    }
   ],
   "source": [
    "import seaborn as sns\n",
    "import matplotlib.pyplot as plt\n",
    "%matplotlib inline \n",
    "df['Training.setsize']\n",
    "df['Pattern.type']=df['Pattern.type'].astype('category')\n",
    "sns.factorplot(x='Pattern.type',y='Training.setsize',data=df,size=8,aspect=2)"
   ]
  },
  {
   "cell_type": "code",
   "execution_count": 63,
   "metadata": {},
   "outputs": [
    {
     "data": {
      "text/plain": [
       "<matplotlib.axes._subplots.AxesSubplot at 0x1a17b75c50>"
      ]
     },
     "execution_count": 63,
     "metadata": {},
     "output_type": "execute_result"
    },
    {
     "data": {
      "image/png": "[encoded data removed]",
      "text/plain": [
       "<matplotlib.figure.Figure at 0x1a1787c710>"
      ]
     },
     "metadata": {},
     "output_type": "display_data"
    }
   ],
   "source": [
    "sns.stripplot(x='Pattern.type',y='Training.setsize',data=df)"
   ]
  },
  {
   "cell_type": "code",
   "execution_count": 64,
   "metadata": {
    "collapsed": true
   },
   "outputs": [],
   "source": [
    "#df['Pattern.type']"
   ]
  },
  {
   "cell_type": "code",
   "execution_count": null,
   "metadata": {
    "collapsed": true
   },
   "outputs": [],
   "source": []
  }
 ],
 "metadata": {
  "hide_input": false,
  "kernelspec": {
   "display_name": "Python 3",
   "language": "python",
   "name": "python3"
  },
  "language_info": {
   "codemirror_mode": {
    "name": "ipython",
    "version": 3
   },
   "file_extension": ".py",
   "mimetype": "text/x-python",
   "name": "python",
   "nbconvert_exporter": "python",
   "pygments_lexer": "ipython3",
   "version": "3.6.1"
  },
  "toc": {
   "nav_menu": {},
   "number_sections": true,
   "sideBar": true,
   "skip_h1_title": false,
   "toc_cell": false,
   "toc_position": {},
   "toc_section_display": "block",
   "toc_window_display": true
  }
 },
 "nbformat": 4,
 "nbformat_minor": 2
}
