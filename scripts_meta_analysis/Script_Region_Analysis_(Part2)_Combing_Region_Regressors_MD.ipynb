{
 "cells": [
  {
   "cell_type": "code",
   "execution_count": 83,
   "metadata": {
    "collapsed": true
   },
   "outputs": [],
   "source": [
    "library(corrplot)\n",
    "options(jupyter.plot_mimetypes = \"image/png\")\n",
    "library(xtable)\n",
    "library(ggplot2)"
   ]
  },
  {
   "cell_type": "code",
   "execution_count": 84,
   "metadata": {
    "collapsed": true
   },
   "outputs": [],
   "source": [
    "datadir = '../data_meta_analysis/'"
   ]
  },
  {
   "cell_type": "code",
   "execution_count": 85,
   "metadata": {},
   "outputs": [
    {
     "data": {
      "text/html": [
       "<table>\n",
       "<thead><tr><th></th><th scope=col>ACC</th><th scope=col>IFGop_L</th><th scope=col>IFGop_R</th><th scope=col>Insula_L</th><th scope=col>Insula_R</th><th scope=col>MFG_L</th><th scope=col>MFG_R</th><th scope=col>MFGorb_L</th><th scope=col>MFGorb_R</th><th scope=col>PrecG_L</th><th scope=col>PrecG_R</th><th scope=col>Outside_MD</th></tr></thead>\n",
       "<tbody>\n",
       "\t<tr><th scope=row>1</th><td>1</td><td>0</td><td>0</td><td>0</td><td>0</td><td>0</td><td>0</td><td>0</td><td>0</td><td>0</td><td>0</td><td>0</td></tr>\n",
       "\t<tr><th scope=row>2</th><td>1</td><td>0</td><td>0</td><td>0</td><td>0</td><td>0</td><td>0</td><td>0</td><td>0</td><td>0</td><td>0</td><td>0</td></tr>\n",
       "\t<tr><th scope=row>3</th><td>1</td><td>0</td><td>0</td><td>0</td><td>0</td><td>0</td><td>0</td><td>0</td><td>0</td><td>0</td><td>0</td><td>0</td></tr>\n",
       "\t<tr><th scope=row>4</th><td>1</td><td>0</td><td>0</td><td>0</td><td>0</td><td>0</td><td>0</td><td>0</td><td>0</td><td>0</td><td>0</td><td>0</td></tr>\n",
       "\t<tr><th scope=row>5</th><td>1</td><td>0</td><td>0</td><td>0</td><td>0</td><td>0</td><td>0</td><td>0</td><td>0</td><td>0</td><td>0</td><td>0</td></tr>\n",
       "\t<tr><th scope=row>6</th><td>1</td><td>0</td><td>0</td><td>0</td><td>0</td><td>0</td><td>0</td><td>0</td><td>0</td><td>0</td><td>0</td><td>0</td></tr>\n",
       "</tbody>\n",
       "</table>\n"
      ],
      "text/latex": [
       "\\begin{tabular}{r|llllllllllll}\n",
       "  & ACC & IFGop_L & IFGop_R & Insula_L & Insula_R & MFG_L & MFG_R & MFGorb_L & MFGorb_R & PrecG_L & PrecG_R & Outside_MD\\\\\n",
       "\\hline\n",
       "\t1 & 1 & 0 & 0 & 0 & 0 & 0 & 0 & 0 & 0 & 0 & 0 & 0\\\\\n",
       "\t2 & 1 & 0 & 0 & 0 & 0 & 0 & 0 & 0 & 0 & 0 & 0 & 0\\\\\n",
       "\t3 & 1 & 0 & 0 & 0 & 0 & 0 & 0 & 0 & 0 & 0 & 0 & 0\\\\\n",
       "\t4 & 1 & 0 & 0 & 0 & 0 & 0 & 0 & 0 & 0 & 0 & 0 & 0\\\\\n",
       "\t5 & 1 & 0 & 0 & 0 & 0 & 0 & 0 & 0 & 0 & 0 & 0 & 0\\\\\n",
       "\t6 & 1 & 0 & 0 & 0 & 0 & 0 & 0 & 0 & 0 & 0 & 0 & 0\\\\\n",
       "\\end{tabular}\n"
      ],
      "text/plain": [
       "  ACC IFGop_L IFGop_R Insula_L Insula_R MFG_L MFG_R MFGorb_L MFGorb_R PrecG_L\n",
       "1   1       0       0        0        0     0     0        0        0       0\n",
       "2   1       0       0        0        0     0     0        0        0       0\n",
       "3   1       0       0        0        0     0     0        0        0       0\n",
       "4   1       0       0        0        0     0     0        0        0       0\n",
       "5   1       0       0        0        0     0     0        0        0       0\n",
       "6   1       0       0        0        0     0     0        0        0       0\n",
       "  PrecG_R Outside_MD\n",
       "1       0          0\n",
       "2       0          0\n",
       "3       0          0\n",
       "4       0          0\n",
       "5       0          0\n",
       "6       0          0"
      ]
     },
     "execution_count": 85,
     "metadata": {},
     "output_type": "execute_result"
    }
   ],
   "source": [
    "data = read.csv(paste(\"../data_meta_analysis/data_derived_meta_analysis/X_region1_2_md.csv\"))\n",
    "head(data)"
   ]
  },
  {
   "cell_type": "code",
   "execution_count": 86,
   "metadata": {},
   "outputs": [
    {
     "data": {
      "text/html": [
       "<ol class=list-inline>\n",
       "\t<li>'ACC'</li>\n",
       "\t<li>'IFGop_L'</li>\n",
       "\t<li>'IFGop_R'</li>\n",
       "\t<li>'Insula_L'</li>\n",
       "\t<li>'Insula_R'</li>\n",
       "\t<li>'MFG_L'</li>\n",
       "\t<li>'MFG_R'</li>\n",
       "\t<li>'MFGorb_L'</li>\n",
       "\t<li>'MFGorb_R'</li>\n",
       "\t<li>'PrecG_L'</li>\n",
       "\t<li>'PrecG_R'</li>\n",
       "\t<li>'Outside_MD'</li>\n",
       "</ol>\n"
      ],
      "text/latex": [
       "\\begin{enumerate*}\n",
       "\\item 'ACC'\n",
       "\\item 'IFGop_L'\n",
       "\\item 'IFGop_R'\n",
       "\\item 'Insula_L'\n",
       "\\item 'Insula_R'\n",
       "\\item 'MFG_L'\n",
       "\\item 'MFG_R'\n",
       "\\item 'MFGorb_L'\n",
       "\\item 'MFGorb_R'\n",
       "\\item 'PrecG_L'\n",
       "\\item 'PrecG_R'\n",
       "\\item 'Outside_MD'\n",
       "\\end{enumerate*}\n"
      ],
      "text/markdown": [
       "1. 'ACC'\n",
       "2. 'IFGop_L'\n",
       "3. 'IFGop_R'\n",
       "4. 'Insula_L'\n",
       "5. 'Insula_R'\n",
       "6. 'MFG_L'\n",
       "7. 'MFG_R'\n",
       "8. 'MFGorb_L'\n",
       "9. 'MFGorb_R'\n",
       "10. 'PrecG_L'\n",
       "11. 'PrecG_R'\n",
       "12. 'Outside_MD'\n",
       "\n",
       "\n"
      ],
      "text/plain": [
       " [1] \"ACC\"        \"IFGop_L\"    \"IFGop_R\"    \"Insula_L\"   \"Insula_R\"  \n",
       " [6] \"MFG_L\"      \"MFG_R\"      \"MFGorb_L\"   \"MFGorb_R\"   \"PrecG_L\"   \n",
       "[11] \"PrecG_R\"    \"Outside_MD\""
      ]
     },
     "execution_count": 86,
     "metadata": {},
     "output_type": "execute_result"
    }
   ],
   "source": [
    "colnames(data)"
   ]
  },
  {
   "cell_type": "code",
   "execution_count": 87,
   "metadata": {},
   "outputs": [],
   "source": [
    "X = t(as.matrix(data))\n"
   ]
  },
  {
   "cell_type": "code",
   "execution_count": 88,
   "metadata": {},
   "outputs": [
    {
     "data": {
      "text/html": [
       "<dl class=dl-horizontal>\n",
       "\t<dt>ACC</dt>\n",
       "\t\t<dd>144</dd>\n",
       "\t<dt>IFGop_L</dt>\n",
       "\t\t<dd>57</dd>\n",
       "\t<dt>IFGop_R</dt>\n",
       "\t\t<dd>89</dd>\n",
       "\t<dt>Insula_L</dt>\n",
       "\t\t<dd>65</dd>\n",
       "\t<dt>Insula_R</dt>\n",
       "\t\t<dd>81</dd>\n",
       "\t<dt>MFG_L</dt>\n",
       "\t\t<dd>109</dd>\n",
       "\t<dt>MFG_R</dt>\n",
       "\t\t<dd>95</dd>\n",
       "\t<dt>MFGorb_L</dt>\n",
       "\t\t<dd>65</dd>\n",
       "\t<dt>MFGorb_R</dt>\n",
       "\t\t<dd>68</dd>\n",
       "\t<dt>PrecG_L</dt>\n",
       "\t\t<dd>112</dd>\n",
       "\t<dt>PrecG_R</dt>\n",
       "\t\t<dd>123</dd>\n",
       "\t<dt>Outside_MD</dt>\n",
       "\t\t<dd>357</dd>\n",
       "</dl>\n"
      ],
      "text/latex": [
       "\\begin{description*}\n",
       "\\item[ACC] 144\n",
       "\\item[IFGop_L] 57\n",
       "\\item[IFGop_R] 89\n",
       "\\item[Insula_L] 65\n",
       "\\item[Insula_R] 81\n",
       "\\item[MFG_L] 109\n",
       "\\item[MFG_R] 95\n",
       "\\item[MFGorb_L] 65\n",
       "\\item[MFGorb_R] 68\n",
       "\\item[PrecG_L] 112\n",
       "\\item[PrecG_R] 123\n",
       "\\item[Outside_MD] 357\n",
       "\\end{description*}\n"
      ],
      "text/markdown": [
       "ACC\n",
       ":   144IFGop_L\n",
       ":   57IFGop_R\n",
       ":   89Insula_L\n",
       ":   65Insula_R\n",
       ":   81MFG_L\n",
       ":   109MFG_R\n",
       ":   95MFGorb_L\n",
       ":   65MFGorb_R\n",
       ":   68PrecG_L\n",
       ":   112PrecG_R\n",
       ":   123Outside_MD\n",
       ":   357\n",
       "\n"
      ],
      "text/plain": [
       "       ACC    IFGop_L    IFGop_R   Insula_L   Insula_R      MFG_L      MFG_R \n",
       "       144         57         89         65         81        109         95 \n",
       "  MFGorb_L   MFGorb_R    PrecG_L    PrecG_R Outside_MD \n",
       "        65         68        112        123        357 "
      ]
     },
     "execution_count": 88,
     "metadata": {},
     "output_type": "execute_result"
    }
   ],
   "source": [
    "rowSums(X)\n",
    "#print(xtable(data.frame(rowSums(X))),type='latex')"
   ]
  },
  {
   "cell_type": "code",
   "execution_count": 89,
   "metadata": {},
   "outputs": [],
   "source": [
    "d=data.frame(x=colSums(X))\n",
    "options(repr.plot.width=6, repr.plot.height=6)\n",
    "#ggplot(aes(x=x),data=d)+geom_histogram()+xlab('Regions')+ggtitle('How many regions is each observation assigned to')"
   ]
  },
  {
   "cell_type": "code",
   "execution_count": 90,
   "metadata": {},
   "outputs": [
    {
     "data": {
      "text/html": [
       "<ol class=list-inline>\n",
       "</ol>\n"
      ],
      "text/latex": [
       "\\begin{enumerate*}\n",
       "\\end{enumerate*}\n"
      ],
      "text/markdown": [
       "\n",
       "\n"
      ],
      "text/plain": [
       "integer(0)"
      ]
     },
     "execution_count": 90,
     "metadata": {},
     "output_type": "execute_result"
    }
   ],
   "source": [
    "which(colSums(X)==0)"
   ]
  },
  {
   "cell_type": "code",
   "execution_count": 91,
   "metadata": {},
   "outputs": [
    {
     "data": {
      "image/png": "[encoded data removed]"
     },
     "metadata": {},
     "output_type": "display_data"
    }
   ],
   "source": [
    "C = cor(t(X))\n",
    "col <- colorRampPalette(c(\"#BB4444\", \"#EE9988\", \"#FFFFFF\", \"#77AADD\", \"#4477AA\"))\n",
    "col <- colorRampPalette(c(\"#4477AA\", \"#77AADD\", \"#FFFFFF\",\"#EE9988\", \"#BB4444\"))\n",
    "options(repr.plot.width=12, repr.plot.height=10)\n",
    "corrplot(C, method=\"color\", col=col(200),  \n",
    "         type=\"upper\", order=\"hclust\", \n",
    "         addCoef.col = \"black\", # Add coefficient of correlation\n",
    "         tl.col=\"black\", tl.srt=45, #Text label color and rotation\n",
    "         # Combine with significance\n",
    "         # hide correlation coefficient on the principal diagonal\n",
    "         diag=FALSE \n",
    "         )"
   ]
  },
  {
   "cell_type": "code",
   "execution_count": 92,
   "metadata": {},
   "outputs": [
    {
     "name": "stderr",
     "output_type": "stream",
     "text": [
      "`stat_bin()` using `bins = 30`. Pick better value with `binwidth`.\n"
     ]
    },
    {
     "data": {
      "image/png": "[encoded data removed]"
     },
     "metadata": {},
     "output_type": "display_data"
    }
   ],
   "source": [
    "d=data.frame(x=colSums(X))\n",
    "options(repr.plot.width=6, repr.plot.height=6)\n",
    "ggplot(aes(x=x),data=d)+geom_histogram()+xlab('Regions')+ggtitle('How many regions is each observation assigned to')"
   ]
  },
  {
   "cell_type": "markdown",
   "metadata": {},
   "source": [
    " Percent of analyses assigned to 1, 2 or more regions"
   ]
  },
  {
   "cell_type": "code",
   "execution_count": 93,
   "metadata": {
    "scrolled": true
   },
   "outputs": [
    {
     "name": "stdout",
     "output_type": "stream",
     "text": [
      "[1] 0.7012543\n",
      "[1] 0.2166477\n",
      "[1] 0.08209806\n"
     ]
    }
   ],
   "source": [
    "print(sum(colSums(X)==1)/ncol(X))\n",
    "print(sum(colSums(X)==2)/ncol(X))\n",
    "print(sum(colSums(X)>2)/ncol(X))"
   ]
  },
  {
   "cell_type": "markdown",
   "metadata": {},
   "source": [
    "## Creating Bi-Lateral Regressors for left and right "
   ]
  },
  {
   "cell_type": "code",
   "execution_count": 94,
   "metadata": {},
   "outputs": [],
   "source": [
    "Xt<-data.frame(t(X))\n",
    "# exclude all studies contributing more than 2\n",
    "#Xt=data.frame(Xt[rowSums(Xt)<3,])\n",
    "\n",
    "# set the rows with 2 or more to be 0\n",
    "Xtt = Xt\n",
    "for (row in seq(nrow(Xt))){\n",
    "    Xrow<-Xt[row,]\n",
    "    if (sum(Xrow,na.rm =TRUE)==2){\n",
    "        newreg<-paste(colnames(Xt)[Xrow==1],collapse='+')\n",
    "        Xtt[row,Xrow==1]=0 # set other columns to 1\n",
    "        Xtt[row,newreg]=1 # set the new combined regressor to be equal to 1\n",
    "        #Xt[!row,newreg]=0\n",
    "\n",
    "    }\n",
    "    \n",
    "}\n",
    "Xtt[is.na(Xtt)]=0\n",
    "\n",
    "#paste(colnames(Xt)[Xt2[1,]==1],collapse='+')"
   ]
  },
  {
   "cell_type": "code",
   "execution_count": 95,
   "metadata": {},
   "outputs": [
    {
     "data": {
      "text/html": [
       "<ol class=list-inline>\n",
       "\t<li>'ACC'</li>\n",
       "\t<li>'IFGop_L'</li>\n",
       "\t<li>'IFGop_R'</li>\n",
       "\t<li>'Insula_L'</li>\n",
       "\t<li>'Insula_R'</li>\n",
       "\t<li>'MFG_L'</li>\n",
       "\t<li>'MFG_R'</li>\n",
       "\t<li>'MFGorb_L'</li>\n",
       "\t<li>'MFGorb_R'</li>\n",
       "\t<li>'PrecG_L'</li>\n",
       "\t<li>'PrecG_R'</li>\n",
       "\t<li>'Outside_MD'</li>\n",
       "\t<li>'Insula_L+Insula_R'</li>\n",
       "\t<li>'MFG_L+MFG_R'</li>\n",
       "\t<li>'IFGop_R+PrecG_R'</li>\n",
       "\t<li>'IFGop_R+Insula_R'</li>\n",
       "\t<li>'MFGorb_L+MFGorb_R'</li>\n",
       "\t<li>'PrecG_L+PrecG_R'</li>\n",
       "\t<li>'IFGop_L+IFGop_R'</li>\n",
       "\t<li>'ACC+PrecG_L'</li>\n",
       "\t<li>'ACC+PrecG_R'</li>\n",
       "\t<li>'IFGop_L+Insula_L'</li>\n",
       "\t<li>'Insula_L+MFGorb_L'</li>\n",
       "\t<li>'Insula_R+MFGorb_R'</li>\n",
       "\t<li>'IFGop_L+PrecG_L'</li>\n",
       "\t<li>'Insula_R+MFG_R'</li>\n",
       "\t<li>'ACC+Outside_MD'</li>\n",
       "\t<li>'PrecG_L+Outside_MD'</li>\n",
       "\t<li>'MFG_L+Outside_MD'</li>\n",
       "</ol>\n"
      ],
      "text/latex": [
       "\\begin{enumerate*}\n",
       "\\item 'ACC'\n",
       "\\item 'IFGop_L'\n",
       "\\item 'IFGop_R'\n",
       "\\item 'Insula_L'\n",
       "\\item 'Insula_R'\n",
       "\\item 'MFG_L'\n",
       "\\item 'MFG_R'\n",
       "\\item 'MFGorb_L'\n",
       "\\item 'MFGorb_R'\n",
       "\\item 'PrecG_L'\n",
       "\\item 'PrecG_R'\n",
       "\\item 'Outside_MD'\n",
       "\\item 'Insula_L+Insula_R'\n",
       "\\item 'MFG_L+MFG_R'\n",
       "\\item 'IFGop_R+PrecG_R'\n",
       "\\item 'IFGop_R+Insula_R'\n",
       "\\item 'MFGorb_L+MFGorb_R'\n",
       "\\item 'PrecG_L+PrecG_R'\n",
       "\\item 'IFGop_L+IFGop_R'\n",
       "\\item 'ACC+PrecG_L'\n",
       "\\item 'ACC+PrecG_R'\n",
       "\\item 'IFGop_L+Insula_L'\n",
       "\\item 'Insula_L+MFGorb_L'\n",
       "\\item 'Insula_R+MFGorb_R'\n",
       "\\item 'IFGop_L+PrecG_L'\n",
       "\\item 'Insula_R+MFG_R'\n",
       "\\item 'ACC+Outside_MD'\n",
       "\\item 'PrecG_L+Outside_MD'\n",
       "\\item 'MFG_L+Outside_MD'\n",
       "\\end{enumerate*}\n"
      ],
      "text/markdown": [
       "1. 'ACC'\n",
       "2. 'IFGop_L'\n",
       "3. 'IFGop_R'\n",
       "4. 'Insula_L'\n",
       "5. 'Insula_R'\n",
       "6. 'MFG_L'\n",
       "7. 'MFG_R'\n",
       "8. 'MFGorb_L'\n",
       "9. 'MFGorb_R'\n",
       "10. 'PrecG_L'\n",
       "11. 'PrecG_R'\n",
       "12. 'Outside_MD'\n",
       "13. 'Insula_L+Insula_R'\n",
       "14. 'MFG_L+MFG_R'\n",
       "15. 'IFGop_R+PrecG_R'\n",
       "16. 'IFGop_R+Insula_R'\n",
       "17. 'MFGorb_L+MFGorb_R'\n",
       "18. 'PrecG_L+PrecG_R'\n",
       "19. 'IFGop_L+IFGop_R'\n",
       "20. 'ACC+PrecG_L'\n",
       "21. 'ACC+PrecG_R'\n",
       "22. 'IFGop_L+Insula_L'\n",
       "23. 'Insula_L+MFGorb_L'\n",
       "24. 'Insula_R+MFGorb_R'\n",
       "25. 'IFGop_L+PrecG_L'\n",
       "26. 'Insula_R+MFG_R'\n",
       "27. 'ACC+Outside_MD'\n",
       "28. 'PrecG_L+Outside_MD'\n",
       "29. 'MFG_L+Outside_MD'\n",
       "\n",
       "\n"
      ],
      "text/plain": [
       " [1] \"ACC\"                \"IFGop_L\"            \"IFGop_R\"           \n",
       " [4] \"Insula_L\"           \"Insula_R\"           \"MFG_L\"             \n",
       " [7] \"MFG_R\"              \"MFGorb_L\"           \"MFGorb_R\"          \n",
       "[10] \"PrecG_L\"            \"PrecG_R\"            \"Outside_MD\"        \n",
       "[13] \"Insula_L+Insula_R\"  \"MFG_L+MFG_R\"        \"IFGop_R+PrecG_R\"   \n",
       "[16] \"IFGop_R+Insula_R\"   \"MFGorb_L+MFGorb_R\"  \"PrecG_L+PrecG_R\"   \n",
       "[19] \"IFGop_L+IFGop_R\"    \"ACC+PrecG_L\"        \"ACC+PrecG_R\"       \n",
       "[22] \"IFGop_L+Insula_L\"   \"Insula_L+MFGorb_L\"  \"Insula_R+MFGorb_R\" \n",
       "[25] \"IFGop_L+PrecG_L\"    \"Insula_R+MFG_R\"     \"ACC+Outside_MD\"    \n",
       "[28] \"PrecG_L+Outside_MD\" \"MFG_L+Outside_MD\"  "
      ]
     },
     "execution_count": 95,
     "metadata": {},
     "output_type": "execute_result"
    }
   ],
   "source": [
    "colnames(Xtt)"
   ]
  },
  {
   "cell_type": "markdown",
   "metadata": {},
   "source": [
    "dropping regions assigned to 2 ROIs that are not L and R counterparts. "
   ]
  },
  {
   "cell_type": "code",
   "execution_count": 96,
   "metadata": {},
   "outputs": [
    {
     "data": {
      "text/html": [
       "<ol class=list-inline>\n",
       "\t<li>'ACC'</li>\n",
       "\t<li>'IFGop_L'</li>\n",
       "\t<li>'IFGop_R'</li>\n",
       "\t<li>'Insula_L'</li>\n",
       "\t<li>'Insula_R'</li>\n",
       "\t<li>'MFG_L'</li>\n",
       "\t<li>'MFG_R'</li>\n",
       "\t<li>'MFGorb_L'</li>\n",
       "\t<li>'MFGorb_R'</li>\n",
       "\t<li>'PrecG_L'</li>\n",
       "\t<li>'PrecG_R'</li>\n",
       "\t<li>'Outside_MD'</li>\n",
       "\t<li>'Insula_L+Insula_R'</li>\n",
       "\t<li>'MFG_L+MFG_R'</li>\n",
       "\t<li>'MFGorb_L+MFGorb_R'</li>\n",
       "\t<li>'PrecG_L+PrecG_R'</li>\n",
       "\t<li>'IFGop_L+IFGop_R'</li>\n",
       "</ol>\n"
      ],
      "text/latex": [
       "\\begin{enumerate*}\n",
       "\\item 'ACC'\n",
       "\\item 'IFGop_L'\n",
       "\\item 'IFGop_R'\n",
       "\\item 'Insula_L'\n",
       "\\item 'Insula_R'\n",
       "\\item 'MFG_L'\n",
       "\\item 'MFG_R'\n",
       "\\item 'MFGorb_L'\n",
       "\\item 'MFGorb_R'\n",
       "\\item 'PrecG_L'\n",
       "\\item 'PrecG_R'\n",
       "\\item 'Outside_MD'\n",
       "\\item 'Insula_L+Insula_R'\n",
       "\\item 'MFG_L+MFG_R'\n",
       "\\item 'MFGorb_L+MFGorb_R'\n",
       "\\item 'PrecG_L+PrecG_R'\n",
       "\\item 'IFGop_L+IFGop_R'\n",
       "\\end{enumerate*}\n"
      ],
      "text/markdown": [
       "1. 'ACC'\n",
       "2. 'IFGop_L'\n",
       "3. 'IFGop_R'\n",
       "4. 'Insula_L'\n",
       "5. 'Insula_R'\n",
       "6. 'MFG_L'\n",
       "7. 'MFG_R'\n",
       "8. 'MFGorb_L'\n",
       "9. 'MFGorb_R'\n",
       "10. 'PrecG_L'\n",
       "11. 'PrecG_R'\n",
       "12. 'Outside_MD'\n",
       "13. 'Insula_L+Insula_R'\n",
       "14. 'MFG_L+MFG_R'\n",
       "15. 'MFGorb_L+MFGorb_R'\n",
       "16. 'PrecG_L+PrecG_R'\n",
       "17. 'IFGop_L+IFGop_R'\n",
       "\n",
       "\n"
      ],
      "text/plain": [
       " [1] \"ACC\"               \"IFGop_L\"           \"IFGop_R\"          \n",
       " [4] \"Insula_L\"          \"Insula_R\"          \"MFG_L\"            \n",
       " [7] \"MFG_R\"             \"MFGorb_L\"          \"MFGorb_R\"         \n",
       "[10] \"PrecG_L\"           \"PrecG_R\"           \"Outside_MD\"       \n",
       "[13] \"Insula_L+Insula_R\" \"MFG_L+MFG_R\"       \"MFGorb_L+MFGorb_R\"\n",
       "[16] \"PrecG_L+PrecG_R\"   \"IFGop_L+IFGop_R\"  "
      ]
     },
     "execution_count": 96,
     "metadata": {},
     "output_type": "execute_result"
    }
   ],
   "source": [
    "dropping<-c('MFG_L+Outside_MD','MFG_R+Outside_MD',\n",
    "            'ACC+Outside_MD','PrecG_L+Outside',\n",
    "            'Insula_L+MFGorb_L','Insula_R+MFGorb_R',\n",
    "           'IFGop_L+PrecG_L','Insula_R+MFG_R','ACC+PrecG_R',\n",
    "           'IFGop_L+Insula_L','ACC+PrecG_L','PrecG_L+Outside_MD',\n",
    "           'IFGop_R+PrecG_R','IFGop_R+Insula_R')\n",
    "Xtt<-Xtt[ , -which(colnames(Xtt) %in% dropping)]\n",
    "colnames(Xtt)"
   ]
  },
  {
   "cell_type": "code",
   "execution_count": 97,
   "metadata": {},
   "outputs": [],
   "source": [
    "#colnames(Xtt)"
   ]
  },
  {
   "cell_type": "code",
   "execution_count": 98,
   "metadata": {},
   "outputs": [
    {
     "data": {
      "text/html": [
       "0.864310148232611"
      ],
      "text/latex": [
       "0.864310148232611"
      ],
      "text/markdown": [
       "0.864310148232611"
      ],
      "text/plain": [
       "[1] 0.8643101"
      ]
     },
     "execution_count": 98,
     "metadata": {},
     "output_type": "execute_result"
    }
   ],
   "source": [
    "# removing rows with 2+ assignments still \n",
    "# I wait until the regression to actually do this. \n",
    "test = Xtt[rowSums(Xtt)==1,]\n",
    "nrow(test)/ncol(X)\n"
   ]
  },
  {
   "cell_type": "code",
   "execution_count": 99,
   "metadata": {
    "collapsed": true
   },
   "outputs": [],
   "source": [
    "write.csv(Xtt,'../data_meta_analysis/data_derived_meta_analysis/X_region1_combined_regs_md.csv',row.names=FALSE)"
   ]
  },
  {
   "cell_type": "code",
   "execution_count": 100,
   "metadata": {},
   "outputs": [],
   "source": [
    "C=cor(Xtt)\n",
    "#C"
   ]
  },
  {
   "cell_type": "code",
   "execution_count": 101,
   "metadata": {},
   "outputs": [
    {
     "data": {
      "text/html": [
       "<table>\n",
       "<thead><tr><th></th><th scope=col>ACC</th><th scope=col>IFGop_L</th><th scope=col>IFGop_R</th><th scope=col>Insula_L</th><th scope=col>Insula_R</th><th scope=col>MFG_L</th><th scope=col>MFG_R</th><th scope=col>MFGorb_L</th><th scope=col>MFGorb_R</th><th scope=col>PrecG_L</th><th scope=col>PrecG_R</th><th scope=col>Outside_MD</th><th scope=col>Insula_L+Insula_R</th><th scope=col>MFG_L+MFG_R</th><th scope=col>MFGorb_L+MFGorb_R</th><th scope=col>PrecG_L+PrecG_R</th><th scope=col>IFGop_L+IFGop_R</th></tr></thead>\n",
       "<tbody>\n",
       "\t<tr><th scope=row>1</th><td>1</td><td>0</td><td>0</td><td>0</td><td>0</td><td>0</td><td>0</td><td>0</td><td>0</td><td>0</td><td>0</td><td>0</td><td>0</td><td>0</td><td>0</td><td>0</td><td>0</td></tr>\n",
       "\t<tr><th scope=row>2</th><td>1</td><td>0</td><td>0</td><td>0</td><td>0</td><td>0</td><td>0</td><td>0</td><td>0</td><td>0</td><td>0</td><td>0</td><td>0</td><td>0</td><td>0</td><td>0</td><td>0</td></tr>\n",
       "\t<tr><th scope=row>3</th><td>1</td><td>0</td><td>0</td><td>0</td><td>0</td><td>0</td><td>0</td><td>0</td><td>0</td><td>0</td><td>0</td><td>0</td><td>0</td><td>0</td><td>0</td><td>0</td><td>0</td></tr>\n",
       "\t<tr><th scope=row>4</th><td>1</td><td>0</td><td>0</td><td>0</td><td>0</td><td>0</td><td>0</td><td>0</td><td>0</td><td>0</td><td>0</td><td>0</td><td>0</td><td>0</td><td>0</td><td>0</td><td>0</td></tr>\n",
       "\t<tr><th scope=row>5</th><td>1</td><td>0</td><td>0</td><td>0</td><td>0</td><td>0</td><td>0</td><td>0</td><td>0</td><td>0</td><td>0</td><td>0</td><td>0</td><td>0</td><td>0</td><td>0</td><td>0</td></tr>\n",
       "\t<tr><th scope=row>6</th><td>1</td><td>0</td><td>0</td><td>0</td><td>0</td><td>0</td><td>0</td><td>0</td><td>0</td><td>0</td><td>0</td><td>0</td><td>0</td><td>0</td><td>0</td><td>0</td><td>0</td></tr>\n",
       "</tbody>\n",
       "</table>\n"
      ],
      "text/latex": [
       "\\begin{tabular}{r|lllllllllllllllll}\n",
       "  & ACC & IFGop_L & IFGop_R & Insula_L & Insula_R & MFG_L & MFG_R & MFGorb_L & MFGorb_R & PrecG_L & PrecG_R & Outside_MD & Insula_L+Insula_R & MFG_L+MFG_R & MFGorb_L+MFGorb_R & PrecG_L+PrecG_R & IFGop_L+IFGop_R\\\\\n",
       "\\hline\n",
       "\t1 & 1 & 0 & 0 & 0 & 0 & 0 & 0 & 0 & 0 & 0 & 0 & 0 & 0 & 0 & 0 & 0 & 0\\\\\n",
       "\t2 & 1 & 0 & 0 & 0 & 0 & 0 & 0 & 0 & 0 & 0 & 0 & 0 & 0 & 0 & 0 & 0 & 0\\\\\n",
       "\t3 & 1 & 0 & 0 & 0 & 0 & 0 & 0 & 0 & 0 & 0 & 0 & 0 & 0 & 0 & 0 & 0 & 0\\\\\n",
       "\t4 & 1 & 0 & 0 & 0 & 0 & 0 & 0 & 0 & 0 & 0 & 0 & 0 & 0 & 0 & 0 & 0 & 0\\\\\n",
       "\t5 & 1 & 0 & 0 & 0 & 0 & 0 & 0 & 0 & 0 & 0 & 0 & 0 & 0 & 0 & 0 & 0 & 0\\\\\n",
       "\t6 & 1 & 0 & 0 & 0 & 0 & 0 & 0 & 0 & 0 & 0 & 0 & 0 & 0 & 0 & 0 & 0 & 0\\\\\n",
       "\\end{tabular}\n"
      ],
      "text/plain": [
       "  ACC IFGop_L IFGop_R Insula_L Insula_R MFG_L MFG_R MFGorb_L MFGorb_R PrecG_L\n",
       "1   1       0       0        0        0     0     0        0        0       0\n",
       "2   1       0       0        0        0     0     0        0        0       0\n",
       "3   1       0       0        0        0     0     0        0        0       0\n",
       "4   1       0       0        0        0     0     0        0        0       0\n",
       "5   1       0       0        0        0     0     0        0        0       0\n",
       "6   1       0       0        0        0     0     0        0        0       0\n",
       "  PrecG_R Outside_MD Insula_L+Insula_R MFG_L+MFG_R MFGorb_L+MFGorb_R\n",
       "1       0          0                 0           0                 0\n",
       "2       0          0                 0           0                 0\n",
       "3       0          0                 0           0                 0\n",
       "4       0          0                 0           0                 0\n",
       "5       0          0                 0           0                 0\n",
       "6       0          0                 0           0                 0\n",
       "  PrecG_L+PrecG_R IFGop_L+IFGop_R\n",
       "1               0               0\n",
       "2               0               0\n",
       "3               0               0\n",
       "4               0               0\n",
       "5               0               0\n",
       "6               0               0"
      ]
     },
     "execution_count": 101,
     "metadata": {},
     "output_type": "execute_result"
    }
   ],
   "source": [
    "head(test)"
   ]
  },
  {
   "cell_type": "code",
   "execution_count": null,
   "metadata": {
    "collapsed": true
   },
   "outputs": [],
   "source": []
  },
  {
   "cell_type": "code",
   "execution_count": 102,
   "metadata": {
    "scrolled": true
   },
   "outputs": [
    {
     "name": "stderr",
     "output_type": "stream",
     "text": [
      "Warning message:\n",
      "In cor(test): the standard deviation is zero"
     ]
    },
    {
     "ename": "ERROR",
     "evalue": "Error in hclust(as.dist(1 - corr), method = hclust.method): NA/NaN/Inf in foreign function call (arg 11)\n",
     "output_type": "error",
     "traceback": [
      "Error in hclust(as.dist(1 - corr), method = hclust.method): NA/NaN/Inf in foreign function call (arg 11)\n"
     ]
    }
   ],
   "source": [
    "C = cor(test)\n",
    "col <- colorRampPalette(c(\"#BB4444\", \"#EE9988\", \"#FFFFFF\", \"#77AADD\", \"#4477AA\"))\n",
    "col <- colorRampPalette(c(\"#4477AA\", \"#77AADD\", \"#FFFFFF\",\"#EE9988\", \"#BB4444\"))\n",
    "options(repr.plot.width=20, repr.plot.height=20)\n",
    "corrplot(C, method=\"color\", col=col(200),  \n",
    "         type=\"upper\", order=\"hclust\", \n",
    "         addCoef.col = \"black\", # Add coefficient of correlation\n",
    "         tl.col=\"black\", tl.srt=45, #Text label color and rotation\n",
    "         # Combine with significance\n",
    "         # hide correlation coefficient on the principal diagonal\n",
    "         diag=FALSE \n",
    "         )"
   ]
  }
 ],
 "metadata": {
  "hide_input": false,
  "kernelspec": {
   "display_name": "R",
   "language": "R",
   "name": "ir"
  },
  "language_info": {
   "codemirror_mode": "r",
   "file_extension": ".r",
   "mimetype": "text/x-r-source",
   "name": "R",
   "pygments_lexer": "r",
   "version": "3.4.1"
  },
  "toc": {
   "nav_menu": {},
   "number_sections": true,
   "sideBar": true,
   "skip_h1_title": false,
   "toc_cell": false,
   "toc_position": {},
   "toc_section_display": "block",
   "toc_window_display": false
  }
 },
 "nbformat": 4,
 "nbformat_minor": 1
}
