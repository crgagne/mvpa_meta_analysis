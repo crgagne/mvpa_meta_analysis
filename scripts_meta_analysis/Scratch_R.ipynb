{
 "cells": [
  {
   "cell_type": "code",
   "execution_count": 14,
   "metadata": {
    "collapsed": true
   },
   "outputs": [],
   "source": [
    "options(jupyter.plot_mimetypes = \"image/png\")\n",
    "library(ggplot2)"
   ]
  },
  {
   "cell_type": "code",
   "execution_count": 15,
   "metadata": {
    "collapsed": true
   },
   "outputs": [],
   "source": [
    "data = read.csv(\"../Data/Data_Classifications_v7.csv\")\n",
    "\n",
    "data<-data[c('PID','Info.type','Accuracy.50','Significance','Roi.Search',\n",
    "             'Pattern.type','Classifier.type','Scanner','Smoothing','Coregistration','Pattern.normalization.type','Num_subs')]\n",
    "\n",
    "factors<-c('Info.type','Significance','Roi.Search',\n",
    "             'Pattern.type','Classifier.type','Scanner','Smoothing','Coregistration','Pattern.normalization.type','Num_subs')\n",
    "\n",
    "for (pid in unique(data$PID)){\n",
    "    #print('--')\n",
    "    #print(pid)\n",
    "    #print(nrow(data1[data1$PID==pid,]))\n",
    "    #print('--')\n",
    "    data[data$PID==pid,'n_per_study']=nrow(data[data$PID==pid,])\n",
    "}"
   ]
  },
  {
   "cell_type": "code",
   "execution_count": 16,
   "metadata": {
    "collapsed": false
   },
   "outputs": [
    {
     "data": {
      "text/html": [
       "<table>\n",
       "<thead><tr><th></th><th scope=col>PID</th><th scope=col>Info.type</th><th scope=col>Accuracy.50</th><th scope=col>Significance</th><th scope=col>Roi.Search</th><th scope=col>Pattern.type</th><th scope=col>Classifier.type</th><th scope=col>Scanner</th><th scope=col>Smoothing</th><th scope=col>Coregistration</th><th scope=col>Pattern.normalization.type</th><th scope=col>Num_subs</th><th scope=col>n_per_study</th></tr></thead>\n",
       "<tbody>\n",
       "\t<tr><th scope=row>4</th><td>1</td><td>Perceptual</td><td>0.528</td><td>1</td><td>ROI</td><td>Multi-Trial Multi-Time Point</td><td>svm-lin</td><td>3T</td><td>unsmooth</td><td>Native Space</td><td>None</td><td>17</td><td>12</td></tr>\n",
       "\t<tr><th scope=row>9</th><td>1</td><td>Rule</td><td>0.535</td><td>1</td><td>ROI</td><td>Multi-Trial Multi-Time Point</td><td>svm-lin</td><td>3T</td><td>unsmooth</td><td>Native Space</td><td>None</td><td>17</td><td>12</td></tr>\n",
       "\t<tr><th scope=row>10</th><td>1</td><td>Rule</td><td>0.541</td><td>1</td><td>ROI</td><td>Multi-Trial Multi-Time Point</td><td>svm-lin</td><td>3T</td><td>unsmooth</td><td>Native Space</td><td>None</td><td>17</td><td>12</td></tr>\n",
       "\t<tr><th scope=row>11</th><td>1</td><td>Rule</td><td>0.543</td><td>1</td><td>ROI</td><td>Multi-Trial Multi-Time Point</td><td>svm-lin</td><td>3T</td><td>unsmooth</td><td>Native Space</td><td>None</td><td>17</td><td>12</td></tr>\n",
       "\t<tr><th scope=row>12</th><td>1</td><td>Rule</td><td>0.593</td><td>1</td><td>ROI</td><td>Multi-Trial Multi-Time Point</td><td>svm-lin</td><td>3T</td><td>unsmooth</td><td>Native Space</td><td>None</td><td>17</td><td>12</td></tr>\n",
       "\t<tr><th scope=row>16</th><td>2</td><td>Rule</td><td>0.64</td><td>1</td><td>ROI</td><td>Single Trial Multi-Time Point</td><td>LDA</td><td>3T</td><td>unsmooth</td><td>Native Space</td><td>None</td><td>6</td><td>4</td></tr>\n",
       "</tbody>\n",
       "</table>\n"
      ],
      "text/latex": [
       "\\begin{tabular}{r|lllllllllllll}\n",
       "  & PID & Info.type & Accuracy.50 & Significance & Roi.Search & Pattern.type & Classifier.type & Scanner & Smoothing & Coregistration & Pattern.normalization.type & Num_subs & n_per_study\\\\\n",
       "\\hline\n",
       "\t4 & 1 & Perceptual & 0.528 & 1 & ROI & Multi-Trial Multi-Time Point & svm-lin & 3T & unsmooth & Native Space & None & 17 & 12\\\\\n",
       "\t9 & 1 & Rule & 0.535 & 1 & ROI & Multi-Trial Multi-Time Point & svm-lin & 3T & unsmooth & Native Space & None & 17 & 12\\\\\n",
       "\t10 & 1 & Rule & 0.541 & 1 & ROI & Multi-Trial Multi-Time Point & svm-lin & 3T & unsmooth & Native Space & None & 17 & 12\\\\\n",
       "\t11 & 1 & Rule & 0.543 & 1 & ROI & Multi-Trial Multi-Time Point & svm-lin & 3T & unsmooth & Native Space & None & 17 & 12\\\\\n",
       "\t12 & 1 & Rule & 0.593 & 1 & ROI & Multi-Trial Multi-Time Point & svm-lin & 3T & unsmooth & Native Space & None & 17 & 12\\\\\n",
       "\t16 & 2 & Rule & 0.64 & 1 & ROI & Single Trial Multi-Time Point & LDA & 3T & unsmooth & Native Space & None & 6 & 4\\\\\n",
       "\\end{tabular}\n"
      ],
      "text/plain": [
       "   PID  Info.type Accuracy.50 Significance Roi.Search\n",
       "4    1 Perceptual       0.528            1        ROI\n",
       "9    1       Rule       0.535            1        ROI\n",
       "10   1       Rule       0.541            1        ROI\n",
       "11   1       Rule       0.543            1        ROI\n",
       "12   1       Rule       0.593            1        ROI\n",
       "16   2       Rule       0.640            1        ROI\n",
       "                    Pattern.type Classifier.type Scanner Smoothing\n",
       "4   Multi-Trial Multi-Time Point         svm-lin      3T  unsmooth\n",
       "9   Multi-Trial Multi-Time Point         svm-lin      3T  unsmooth\n",
       "10  Multi-Trial Multi-Time Point         svm-lin      3T  unsmooth\n",
       "11  Multi-Trial Multi-Time Point         svm-lin      3T  unsmooth\n",
       "12  Multi-Trial Multi-Time Point         svm-lin      3T  unsmooth\n",
       "16 Single Trial Multi-Time Point             LDA      3T  unsmooth\n",
       "   Coregistration Pattern.normalization.type Num_subs n_per_study\n",
       "4    Native Space                       None       17          12\n",
       "9    Native Space                       None       17          12\n",
       "10   Native Space                       None       17          12\n",
       "11   Native Space                       None       17          12\n",
       "12   Native Space                       None       17          12\n",
       "16   Native Space                       None        6           4"
      ]
     },
     "execution_count": 16,
     "metadata": {},
     "output_type": "execute_result"
    },
    {
     "data": {
      "text/html": [
       "506"
      ],
      "text/latex": [
       "506"
      ],
      "text/markdown": [
       "506"
      ],
      "text/plain": [
       "[1] 506"
      ]
     },
     "execution_count": 16,
     "metadata": {},
     "output_type": "execute_result"
    }
   ],
   "source": [
    "# mscl fixed \n",
    "data<-data[!data$Classifier.type=='neural-net',] # no observations but still has a level\n",
    "data[data$Scanner=='4T','Scanner']='3T' # only one observatoin with 3T\n",
    "\n",
    "data$PID<-as.factor(data$PID)\n",
    "data$Info.type<-as.factor(data$Info.type)\n",
    "data$Smoothing<-as.factor(data$Smoothing)\n",
    "data$Roi.Search<-as.factor(data$Roi.Search)\n",
    "data$Classifier.type<-as.factor(data$Classifier.type)\n",
    "data$Coregistration<-as.factor(data$Coregistration)\n",
    "data$Pattern.type<-as.factor(data$Pattern.type)\n",
    "\n",
    "#data[data$Pattern.normalization.type=='Normalized Spatially']\n",
    "\n",
    "data$Pattern.normalization.type<-as.factor(data$Pattern.normalization.type)\n",
    "\n",
    "data<-droplevels(data)\n",
    "\n",
    "data_50<-subset(data,!is.na(Accuracy.50))\n",
    "\n",
    "data_50_non<-subset(data,!is.na(Accuracy.50)& Significance==0)\n",
    "\n",
    "data_50_sig<-subset(data,!is.na(Accuracy.50) & Significance==1)\n",
    "head(data_50_sig)\n",
    "nrow(data_50_sig)\n"
   ]
  },
  {
   "cell_type": "code",
   "execution_count": 18,
   "metadata": {
    "collapsed": false
   },
   "outputs": [
    {
     "data": {
      "text/html": [
       "<ol class=list-inline>\n",
       "\t<li>12</li>\n",
       "\t<li>4</li>\n",
       "\t<li>3</li>\n",
       "\t<li>6</li>\n",
       "\t<li>49</li>\n",
       "\t<li>24</li>\n",
       "\t<li>96</li>\n",
       "\t<li>15</li>\n",
       "\t<li>10</li>\n",
       "\t<li>18</li>\n",
       "\t<li>1</li>\n",
       "\t<li>2</li>\n",
       "\t<li>26</li>\n",
       "\t<li>8</li>\n",
       "\t<li>42</li>\n",
       "\t<li>9</li>\n",
       "\t<li>11</li>\n",
       "\t<li>20</li>\n",
       "\t<li>22</li>\n",
       "\t<li>16</li>\n",
       "\t<li>7</li>\n",
       "</ol>\n"
      ],
      "text/latex": [
       "\\begin{enumerate*}\n",
       "\\item 12\n",
       "\\item 4\n",
       "\\item 3\n",
       "\\item 6\n",
       "\\item 49\n",
       "\\item 24\n",
       "\\item 96\n",
       "\\item 15\n",
       "\\item 10\n",
       "\\item 18\n",
       "\\item 1\n",
       "\\item 2\n",
       "\\item 26\n",
       "\\item 8\n",
       "\\item 42\n",
       "\\item 9\n",
       "\\item 11\n",
       "\\item 20\n",
       "\\item 22\n",
       "\\item 16\n",
       "\\item 7\n",
       "\\end{enumerate*}\n"
      ],
      "text/markdown": [
       "1. 12\n",
       "2. 4\n",
       "3. 3\n",
       "4. 6\n",
       "5. 49\n",
       "6. 24\n",
       "7. 96\n",
       "8. 15\n",
       "9. 10\n",
       "10. 18\n",
       "11. 1\n",
       "12. 2\n",
       "13. 26\n",
       "14. 8\n",
       "15. 42\n",
       "16. 9\n",
       "17. 11\n",
       "18. 20\n",
       "19. 22\n",
       "20. 16\n",
       "21. 7\n",
       "\n",
       "\n"
      ],
      "text/plain": [
       " [1] 12  4  3  6 49 24 96 15 10 18  1  2 26  8 42  9 11 20 22 16  7"
      ]
     },
     "execution_count": 18,
     "metadata": {},
     "output_type": "execute_result"
    }
   ],
   "source": [
    "unique(data_50$n_per_study)"
   ]
  },
  {
   "cell_type": "code",
   "execution_count": 17,
   "metadata": {
    "collapsed": false
   },
   "outputs": [
    {
     "name": "stderr",
     "output_type": "stream",
     "text": [
      "`stat_bin()` using `bins = 30`. Pick better value with `binwidth`.\n"
     ]
    },
    {
     "data": {
      "image/png": "[encoded data removed]"
     },
     "metadata": {},
     "output_type": "display_data"
    }
   ],
   "source": [
    "options(repr.plot.width=6, repr.plot.height=6)\n",
    "\n",
    "ggplot(aes(x=n_per_study),data=data_50)+geom_histogram()+xlab('Regions')+ggtitle('How many regions is each observation assigned to')"
   ]
  }
 ],
 "metadata": {
  "hide_input": false,
  "kernelspec": {
   "display_name": "R",
   "language": "R",
   "name": "ir"
  },
  "language_info": {
   "codemirror_mode": "r",
   "file_extension": ".r",
   "mimetype": "text/x-r-source",
   "name": "R",
   "pygments_lexer": "r",
   "version": "3.2.2"
  }
 },
 "nbformat": 4,
 "nbformat_minor": 0
}
