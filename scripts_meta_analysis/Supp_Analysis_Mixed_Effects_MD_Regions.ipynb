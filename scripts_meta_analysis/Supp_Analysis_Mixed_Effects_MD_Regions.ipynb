{
 "cells": [
  {
   "cell_type": "code",
   "execution_count": 4,
   "metadata": {
    "collapsed": true,
    "init_cell": true
   },
   "outputs": [],
   "source": [
    "library(nlme)\n",
    "library(multcomp)\n",
    "options(jupyter.plot_mimetypes = \"image/png\")\n",
    "library(ggplot2)\n",
    "library(corrplot)\n",
    "library(gridExtra)\n",
    "library(grid)\n",
    "library(data.table)\n",
    "library(effects)\n",
    "library(xtable)\n",
    "library(reshape)\n",
    "library(lsmeans)"
   ]
  },
  {
   "cell_type": "markdown",
   "metadata": {},
   "source": [
    "# Load Data"
   ]
  },
  {
   "cell_type": "code",
   "execution_count": 5,
   "metadata": {
    "collapsed": true
   },
   "outputs": [],
   "source": [
    "stat_sum_single <- function(fun, geom=\"point\", ...) {\n",
    "  stat_summary(fun.y=fun, colour=\"red\", geom=geom, size = 3, ...)\n",
    "}"
   ]
  },
  {
   "cell_type": "code",
   "execution_count": 6,
   "metadata": {
    "init_cell": true
   },
   "outputs": [
    {
     "data": {
      "text/html": [
       "<ol class=list-inline>\n",
       "\t<li>'R3ACC'</li>\n",
       "\t<li>'R3IFGop_L'</li>\n",
       "\t<li>'R3IFGop_R'</li>\n",
       "\t<li>'R3Insula_L'</li>\n",
       "\t<li>'R3Insula_R'</li>\n",
       "\t<li>'R3MFG_L'</li>\n",
       "\t<li>'R3MFG_R'</li>\n",
       "\t<li>'R3MFGorb_L'</li>\n",
       "\t<li>'R3MFGorb_R'</li>\n",
       "\t<li>'R3PrecG_L'</li>\n",
       "\t<li>'R3PrecG_R'</li>\n",
       "\t<li>'R3zOutside_MD'</li>\n",
       "\t<li>'R3Insula_L.Insula_R'</li>\n",
       "\t<li>'R3MFG_L.MFG_R'</li>\n",
       "\t<li>'R3MFGorb_L.MFGorb_R'</li>\n",
       "\t<li>'R3PrecG_L.PrecG_R'</li>\n",
       "\t<li>'R3IFGop_L.IFGop_R'</li>\n",
       "</ol>\n"
      ],
      "text/latex": [
       "\\begin{enumerate*}\n",
       "\\item 'R3ACC'\n",
       "\\item 'R3IFGop_L'\n",
       "\\item 'R3IFGop_R'\n",
       "\\item 'R3Insula_L'\n",
       "\\item 'R3Insula_R'\n",
       "\\item 'R3MFG_L'\n",
       "\\item 'R3MFG_R'\n",
       "\\item 'R3MFGorb_L'\n",
       "\\item 'R3MFGorb_R'\n",
       "\\item 'R3PrecG_L'\n",
       "\\item 'R3PrecG_R'\n",
       "\\item 'R3zOutside_MD'\n",
       "\\item 'R3Insula_L.Insula_R'\n",
       "\\item 'R3MFG_L.MFG_R'\n",
       "\\item 'R3MFGorb_L.MFGorb_R'\n",
       "\\item 'R3PrecG_L.PrecG_R'\n",
       "\\item 'R3IFGop_L.IFGop_R'\n",
       "\\end{enumerate*}\n"
      ],
      "text/markdown": [
       "1. 'R3ACC'\n",
       "2. 'R3IFGop_L'\n",
       "3. 'R3IFGop_R'\n",
       "4. 'R3Insula_L'\n",
       "5. 'R3Insula_R'\n",
       "6. 'R3MFG_L'\n",
       "7. 'R3MFG_R'\n",
       "8. 'R3MFGorb_L'\n",
       "9. 'R3MFGorb_R'\n",
       "10. 'R3PrecG_L'\n",
       "11. 'R3PrecG_R'\n",
       "12. 'R3zOutside_MD'\n",
       "13. 'R3Insula_L.Insula_R'\n",
       "14. 'R3MFG_L.MFG_R'\n",
       "15. 'R3MFGorb_L.MFGorb_R'\n",
       "16. 'R3PrecG_L.PrecG_R'\n",
       "17. 'R3IFGop_L.IFGop_R'\n",
       "\n",
       "\n"
      ],
      "text/plain": [
       " [1] \"R3ACC\"               \"R3IFGop_L\"           \"R3IFGop_R\"          \n",
       " [4] \"R3Insula_L\"          \"R3Insula_R\"          \"R3MFG_L\"            \n",
       " [7] \"R3MFG_R\"             \"R3MFGorb_L\"          \"R3MFGorb_R\"         \n",
       "[10] \"R3PrecG_L\"           \"R3PrecG_R\"           \"R3zOutside_MD\"      \n",
       "[13] \"R3Insula_L.Insula_R\" \"R3MFG_L.MFG_R\"       \"R3MFGorb_L.MFGorb_R\"\n",
       "[16] \"R3PrecG_L.PrecG_R\"   \"R3IFGop_L.IFGop_R\"  "
      ]
     },
     "execution_count": 6,
     "metadata": {},
     "output_type": "execute_result"
    }
   ],
   "source": [
    "data = read.csv(\"../data_meta_analysis/Data_Classifications_v7.csv\")\n",
    "\n",
    "data<-data[c('PID','Info.type','Accuracy.50','Significance','Roi.Search',\n",
    "             'Pattern.type','Classifier.type','Scanner','Smoothing','Coregistration','Pattern.normalization.type','Num_subs')]\n",
    "\n",
    "factors<-c('Info.type','Significance','Roi.Search',\n",
    "             'Pattern.type','Classifier.type','Scanner','Smoothing','Coregistration','Pattern.normalization.type','Num_subs')\n",
    "\n",
    "for (pid in unique(data$PID)){\n",
    "    #print('--')\n",
    "    #print(pid)\n",
    "    #print(nrow(data1[data1$PID==pid,]))\n",
    "    #print('--')\n",
    "    data[data$PID==pid,'n_per_study']=nrow(data[data$PID==pid,])\n",
    "}\n",
    "\n",
    "R3 = read.csv(paste(\"../data_meta_analysis/data_derived_meta_analysis/X_region1_combined_regs_md.csv\"))\n",
    "R3names = colnames(R3)\n",
    "R3names[R3names=='Outside_MD']<-'zOutside_MD'\n",
    "\n",
    "i=1\n",
    "for (name in R3names){\n",
    "    R3names[i]<-paste(sep='','R3',name)\n",
    "    i=i+1\n",
    "}\n",
    "R3names\n",
    "colnames(R3)<-R3names\n"
   ]
  },
  {
   "cell_type": "code",
   "execution_count": 7,
   "metadata": {
    "init_cell": true
   },
   "outputs": [
    {
     "data": {
      "text/html": [
       "506"
      ],
      "text/latex": [
       "506"
      ],
      "text/markdown": [
       "506"
      ],
      "text/plain": [
       "[1] 506"
      ]
     },
     "execution_count": 7,
     "metadata": {},
     "output_type": "execute_result"
    }
   ],
   "source": [
    "data = cbind(data,R3) # will bind with other region names too \n",
    "\n",
    "\n",
    "# mscl fixed \n",
    "data<-data[!data$Classifier.type=='neural-net',] # no observations but still has a level\n",
    "data[data$Scanner=='4T','Scanner']='3T' # only one observatoin with 3T\n",
    "\n",
    "data$PID<-as.factor(data$PID)\n",
    "data$Info.type<-as.factor(data$Info.type)\n",
    "data$Smoothing<-as.factor(data$Smoothing)\n",
    "data$Roi.Search<-as.factor(data$Roi.Search)\n",
    "data$Classifier.type<-as.factor(data$Classifier.type)\n",
    "data$Coregistration<-as.factor(data$Coregistration)\n",
    "data$Pattern.type<-as.factor(data$Pattern.type)\n",
    "\n",
    "#data[data$Pattern.normalization.type=='Normalized Spatially']\n",
    "\n",
    "data$Pattern.normalization.type<-as.factor(data$Pattern.normalization.type)\n",
    "\n",
    "data<-droplevels(data)\n",
    "\n",
    "data_50<-subset(data,!is.na(Accuracy.50))\n",
    "data_50_non<-subset(data,!is.na(Accuracy.50)& Significance==0)\n",
    "data_50_sig<-subset(data,!is.na(Accuracy.50) & Significance==1)\n",
    "#head(data_50_sig)\n",
    "nrow(data_50_sig)\n",
    "\n",
    "\n"
   ]
  },
  {
   "cell_type": "code",
   "execution_count": 8,
   "metadata": {},
   "outputs": [
    {
     "data": {
      "text/html": [
       "<table>\n",
       "<thead><tr><th></th><th scope=col>Accuracy.50</th><th scope=col>PID</th><th scope=col>R3ACC</th><th scope=col>R3IFGop_L</th><th scope=col>R3IFGop_R</th><th scope=col>R3Insula_L</th><th scope=col>R3Insula_R</th><th scope=col>R3MFG_L</th><th scope=col>R3MFG_R</th><th scope=col>R3MFGorb_L</th><th scope=col>R3MFGorb_R</th><th scope=col>R3PrecG_L</th><th scope=col>R3PrecG_R</th><th scope=col>R3zOutside_MD</th><th scope=col>R3Insula_L.Insula_R</th><th scope=col>R3MFG_L.MFG_R</th><th scope=col>R3MFGorb_L.MFGorb_R</th><th scope=col>R3PrecG_L.PrecG_R</th><th scope=col>R3IFGop_L.IFGop_R</th></tr></thead>\n",
       "<tbody>\n",
       "\t<tr><th scope=row>2</th><td>0.52</td><td>93</td><td>1</td><td>0</td><td>0</td><td>0</td><td>0</td><td>0</td><td>0</td><td>0</td><td>0</td><td>0</td><td>0</td><td>0</td><td>0</td><td>0</td><td>0</td><td>0</td><td>0</td></tr>\n",
       "\t<tr><th scope=row>3</th><td>0.52</td><td>93</td><td>1</td><td>0</td><td>0</td><td>0</td><td>0</td><td>0</td><td>0</td><td>0</td><td>0</td><td>0</td><td>0</td><td>0</td><td>0</td><td>0</td><td>0</td><td>0</td><td>0</td></tr>\n",
       "\t<tr><th scope=row>4</th><td>0.52</td><td>93</td><td>1</td><td>0</td><td>0</td><td>0</td><td>0</td><td>0</td><td>0</td><td>0</td><td>0</td><td>0</td><td>0</td><td>0</td><td>0</td><td>0</td><td>0</td><td>0</td><td>0</td></tr>\n",
       "\t<tr><th scope=row>5</th><td>0.52</td><td>93</td><td>1</td><td>0</td><td>0</td><td>0</td><td>0</td><td>0</td><td>0</td><td>0</td><td>0</td><td>0</td><td>0</td><td>0</td><td>0</td><td>0</td><td>0</td><td>0</td><td>0</td></tr>\n",
       "\t<tr><th scope=row>6</th><td>0.525</td><td>93</td><td>1</td><td>0</td><td>0</td><td>0</td><td>0</td><td>0</td><td>0</td><td>0</td><td>0</td><td>0</td><td>0</td><td>0</td><td>0</td><td>0</td><td>0</td><td>0</td><td>0</td></tr>\n",
       "\t<tr><th scope=row>7</th><td>0.53</td><td>93</td><td>1</td><td>0</td><td>0</td><td>0</td><td>0</td><td>0</td><td>0</td><td>0</td><td>0</td><td>0</td><td>0</td><td>0</td><td>0</td><td>0</td><td>0</td><td>0</td><td>0</td></tr>\n",
       "</tbody>\n",
       "</table>\n"
      ],
      "text/latex": [
       "\\begin{tabular}{r|lllllllllllllllllll}\n",
       "  & Accuracy.50 & PID & R3ACC & R3IFGop_L & R3IFGop_R & R3Insula_L & R3Insula_R & R3MFG_L & R3MFG_R & R3MFGorb_L & R3MFGorb_R & R3PrecG_L & R3PrecG_R & R3zOutside_MD & R3Insula_L.Insula_R & R3MFG_L.MFG_R & R3MFGorb_L.MFGorb_R & R3PrecG_L.PrecG_R & R3IFGop_L.IFGop_R\\\\\n",
       "\\hline\n",
       "\t2 & 0.52 & 93 & 1 & 0 & 0 & 0 & 0 & 0 & 0 & 0 & 0 & 0 & 0 & 0 & 0 & 0 & 0 & 0 & 0\\\\\n",
       "\t3 & 0.52 & 93 & 1 & 0 & 0 & 0 & 0 & 0 & 0 & 0 & 0 & 0 & 0 & 0 & 0 & 0 & 0 & 0 & 0\\\\\n",
       "\t4 & 0.52 & 93 & 1 & 0 & 0 & 0 & 0 & 0 & 0 & 0 & 0 & 0 & 0 & 0 & 0 & 0 & 0 & 0 & 0\\\\\n",
       "\t5 & 0.52 & 93 & 1 & 0 & 0 & 0 & 0 & 0 & 0 & 0 & 0 & 0 & 0 & 0 & 0 & 0 & 0 & 0 & 0\\\\\n",
       "\t6 & 0.525 & 93 & 1 & 0 & 0 & 0 & 0 & 0 & 0 & 0 & 0 & 0 & 0 & 0 & 0 & 0 & 0 & 0 & 0\\\\\n",
       "\t7 & 0.53 & 93 & 1 & 0 & 0 & 0 & 0 & 0 & 0 & 0 & 0 & 0 & 0 & 0 & 0 & 0 & 0 & 0 & 0\\\\\n",
       "\\end{tabular}\n"
      ],
      "text/plain": [
       "  Accuracy.50 PID R3ACC R3IFGop_L R3IFGop_R R3Insula_L R3Insula_R R3MFG_L\n",
       "2       0.520  93     1         0         0          0          0       0\n",
       "3       0.520  93     1         0         0          0          0       0\n",
       "4       0.520  93     1         0         0          0          0       0\n",
       "5       0.520  93     1         0         0          0          0       0\n",
       "6       0.525  93     1         0         0          0          0       0\n",
       "7       0.530  93     1         0         0          0          0       0\n",
       "  R3MFG_R R3MFGorb_L R3MFGorb_R R3PrecG_L R3PrecG_R R3zOutside_MD\n",
       "2       0          0          0         0         0             0\n",
       "3       0          0          0         0         0             0\n",
       "4       0          0          0         0         0             0\n",
       "5       0          0          0         0         0             0\n",
       "6       0          0          0         0         0             0\n",
       "7       0          0          0         0         0             0\n",
       "  R3Insula_L.Insula_R R3MFG_L.MFG_R R3MFGorb_L.MFGorb_R R3PrecG_L.PrecG_R\n",
       "2                   0             0                   0                 0\n",
       "3                   0             0                   0                 0\n",
       "4                   0             0                   0                 0\n",
       "5                   0             0                   0                 0\n",
       "6                   0             0                   0                 0\n",
       "7                   0             0                   0                 0\n",
       "  R3IFGop_L.IFGop_R\n",
       "2                 0\n",
       "3                 0\n",
       "4                 0\n",
       "5                 0\n",
       "6                 0\n",
       "7                 0"
      ]
     },
     "execution_count": 8,
     "metadata": {},
     "output_type": "execute_result"
    },
    {
     "data": {
      "text/html": [
       "506"
      ],
      "text/latex": [
       "506"
      ],
      "text/markdown": [
       "506"
      ],
      "text/plain": [
       "[1] 506"
      ]
     },
     "execution_count": 8,
     "metadata": {},
     "output_type": "execute_result"
    }
   ],
   "source": [
    "d<-data_50_sig[c('Accuracy.50','PID',R3names)]\n",
    "head(d)\n",
    "nrow(d)"
   ]
  },
  {
   "cell_type": "markdown",
   "metadata": {},
   "source": [
    "# Mixed Effects "
   ]
  },
  {
   "cell_type": "code",
   "execution_count": 9,
   "metadata": {},
   "outputs": [
    {
     "data": {
      "text/html": [
       "'R3ACC+R3IFGop_L+R3IFGop_R+R3Insula_L+R3Insula_R+R3MFG_L+R3MFG_R+R3MFGorb_L+R3MFGorb_R+R3PrecG_L+R3PrecG_R+R3zOutside_MD+R3Insula_L.Insula_R+R3MFG_L.MFG_R+R3MFGorb_L.MFGorb_R+R3PrecG_L.PrecG_R+R3IFGop_L.IFGop_R'"
      ],
      "text/latex": [
       "'R3ACC+R3IFGop_L+R3IFGop_R+R3Insula_L+R3Insula_R+R3MFG_L+R3MFG_R+R3MFGorb_L+R3MFGorb_R+R3PrecG_L+R3PrecG_R+R3zOutside_MD+R3Insula_L.Insula_R+R3MFG_L.MFG_R+R3MFGorb_L.MFGorb_R+R3PrecG_L.PrecG_R+R3IFGop_L.IFGop_R'"
      ],
      "text/markdown": [
       "'R3ACC+R3IFGop_L+R3IFGop_R+R3Insula_L+R3Insula_R+R3MFG_L+R3MFG_R+R3MFGorb_L+R3MFGorb_R+R3PrecG_L+R3PrecG_R+R3zOutside_MD+R3Insula_L.Insula_R+R3MFG_L.MFG_R+R3MFGorb_L.MFGorb_R+R3PrecG_L.PrecG_R+R3IFGop_L.IFGop_R'"
      ],
      "text/plain": [
       "[1] \"R3ACC+R3IFGop_L+R3IFGop_R+R3Insula_L+R3Insula_R+R3MFG_L+R3MFG_R+R3MFGorb_L+R3MFGorb_R+R3PrecG_L+R3PrecG_R+R3zOutside_MD+R3Insula_L.Insula_R+R3MFG_L.MFG_R+R3MFGorb_L.MFGorb_R+R3PrecG_L.PrecG_R+R3IFGop_L.IFGop_R\""
      ]
     },
     "execution_count": 9,
     "metadata": {},
     "output_type": "execute_result"
    }
   ],
   "source": [
    "R1names_string<-c()\n",
    "for (R in R3names){\n",
    "    R1names_string<-paste(R1names_string,R,sep='+')\n",
    "    \n",
    "}\n",
    "R1names_string<-substring(R1names_string, 2)\n",
    "R1names_string"
   ]
  },
  {
   "cell_type": "code",
   "execution_count": 10,
   "metadata": {},
   "outputs": [
    {
     "data": {
      "text/plain": [
       "Linear mixed-effects model fit by REML\n",
       " Data: d \n",
       "        AIC       BIC   logLik\n",
       "  -1253.861 -1174.207 645.9307\n",
       "\n",
       "Random effects:\n",
       " Formula: ~1 | PID\n",
       "        (Intercept)   Residual\n",
       "StdDev:  0.06398978 0.05320457\n",
       "\n",
       "Fixed effects: as.formula(paste(\"Accuracy.50_wo_gmean~-1+\", R1names_string,      sep = \"\")) \n",
       "                          Value  Std.Error  DF    t-value p-value\n",
       "R3ACC                0.00541314 0.01201386 415  0.4505744  0.6525\n",
       "R3IFGop_L            0.00847817 0.02047634 415  0.4140469  0.6791\n",
       "R3IFGop_R           -0.00486349 0.01513734 415 -0.3212908  0.7482\n",
       "R3Insula_L          -0.00789916 0.02201752 415 -0.3587670  0.7200\n",
       "R3Insula_R           0.01696789 0.01686535 415  1.0060801  0.3150\n",
       "R3MFG_L              0.00670807 0.01753051 415  0.3826511  0.7022\n",
       "R3MFG_R              0.00398354 0.01667436 415  0.2389021  0.8113\n",
       "R3MFGorb_L          -0.03107891 0.02724440 415 -1.1407447  0.2546\n",
       "R3MFGorb_R           0.01253352 0.01613724 415  0.7766826  0.4378\n",
       "R3PrecG_L           -0.00344283 0.01891538 415 -0.1820124  0.8557\n",
       "R3PrecG_R            0.00476059 0.01184724 415  0.4018308  0.6880\n",
       "R3zOutside_MD       -0.00616968 0.00772748 415 -0.7984074  0.4251\n",
       "R3Insula_L.Insula_R -0.02455544 0.01797413 415 -1.3661543  0.1726\n",
       "R3MFG_L.MFG_R       -0.00918541 0.01492816 415 -0.6153075  0.5387\n",
       "R3MFGorb_L.MFGorb_R -0.02279017 0.03011038 415 -0.7568875  0.4495\n",
       "R3PrecG_L.PrecG_R    0.03704078 0.03134484 415  1.1817186  0.2380\n",
       "R3IFGop_L.IFGop_R   -0.01235494 0.03306559 415 -0.3736496  0.7089\n",
       " Correlation: \n",
       "                    R3ACC  R3IFGp_L R3IFG_R R3In_L R3In_R R3MFG_L R3MFG_R\n",
       "R3IFGop_L            0.060                                               \n",
       "R3IFGop_R            0.045 -0.230                                        \n",
       "R3Insula_L           0.080 -0.182    0.052                               \n",
       "R3Insula_R           0.105  0.022   -0.107  -0.055                       \n",
       "R3MFG_L              0.264 -0.404   -0.062  -0.039  0.112                \n",
       "R3MFG_R              0.211 -0.179   -0.327  -0.004 -0.103  0.129         \n",
       "R3MFGorb_L          -0.272 -0.190    0.070  -0.233 -0.154 -0.291  -0.091 \n",
       "R3MFGorb_R          -0.087  0.159   -0.190  -0.025 -0.064 -0.038  -0.234 \n",
       "R3PrecG_L            0.126 -0.066   -0.026   0.355  0.232  0.141   0.078 \n",
       "R3PrecG_R           -0.048 -0.146    0.016   0.137  0.158  0.046  -0.063 \n",
       "R3zOutside_MD        0.249 -0.049    0.099   0.127  0.131  0.155   0.002 \n",
       "R3Insula_L.Insula_R  0.260 -0.032   -0.019   0.033  0.041  0.139   0.162 \n",
       "R3MFG_L.MFG_R        0.334 -0.121   -0.052   0.019  0.046  0.339   0.245 \n",
       "R3MFGorb_L.MFGorb_R  0.111 -0.011    0.010   0.023  0.026  0.056   0.034 \n",
       "R3PrecG_L.PrecG_R    0.079 -0.034   -0.056   0.005 -0.010  0.045   0.190 \n",
       "R3IFGop_L.IFGop_R    0.109 -0.024   -0.008   0.010  0.017  0.082   0.061 \n",
       "                    R3MFGr_L R3MFGr_R R3PrG_L R3PG_R R3O_MD R3I_L.\n",
       "R3IFGop_L                                                         \n",
       "R3IFGop_R                                                         \n",
       "R3Insula_L                                                        \n",
       "R3Insula_R                                                        \n",
       "R3MFG_L                                                           \n",
       "R3MFG_R                                                           \n",
       "R3MFGorb_L                                                        \n",
       "R3MFGorb_R          -0.197                                        \n",
       "R3PrecG_L           -0.644    0.044                               \n",
       "R3PrecG_R            0.080   -0.270   -0.129                      \n",
       "R3zOutside_MD       -0.183    0.099    0.216   0.090              \n",
       "R3Insula_L.Insula_R -0.062   -0.014    0.064   0.009  0.167       \n",
       "R3MFG_L.MFG_R       -0.154   -0.055    0.094   0.001  0.181  0.293\n",
       "R3MFGorb_L.MFGorb_R -0.046    0.005    0.041   0.010  0.156  0.139\n",
       "R3PrecG_L.PrecG_R   -0.026   -0.040    0.024  -0.009  0.029  0.200\n",
       "R3IFGop_L.IFGop_R   -0.044   -0.011    0.029   0.001  0.071  0.122\n",
       "                    R3MFG_L.MFG_R R3MFGr_L.MFG_R R3PG_L.\n",
       "R3IFGop_L                                               \n",
       "R3IFGop_R                                               \n",
       "R3Insula_L                                              \n",
       "R3Insula_R                                              \n",
       "R3MFG_L                                                 \n",
       "R3MFG_R                                                 \n",
       "R3MFGorb_L                                              \n",
       "R3MFGorb_R                                              \n",
       "R3PrecG_L                                               \n",
       "R3PrecG_R                                               \n",
       "R3zOutside_MD                                           \n",
       "R3Insula_L.Insula_R                                     \n",
       "R3MFG_L.MFG_R                                           \n",
       "R3MFGorb_L.MFGorb_R  0.102                              \n",
       "R3PrecG_L.PrecG_R    0.091         0.030                \n",
       "R3IFGop_L.IFGop_R    0.219         0.088          0.031 \n",
       "\n",
       "Standardized Within-Group Residuals:\n",
       "       Min         Q1        Med         Q3        Max \n",
       "-2.2591143 -0.4720457 -0.1309960  0.3423264  4.6951749 \n",
       "\n",
       "Number of Observations: 506\n",
       "Number of Groups: 75 "
      ]
     },
     "execution_count": 10,
     "metadata": {},
     "output_type": "execute_result"
    }
   ],
   "source": [
    "d<-data_50_sig[c('Accuracy.50','PID',R3names)]\n",
    "gmean<-mean(d$Accuracy.50)\n",
    "d$Accuracy.50_wo_gmean<-d$Accuracy.50-gmean\n",
    "region_model<-lme(as.formula(paste('Accuracy.50_wo_gmean~-1+',R1names_string,sep='')),random=~1|PID,data=d,method='REML')\n",
    "summary(region_model)"
   ]
  },
  {
   "cell_type": "code",
   "execution_count": 11,
   "metadata": {
    "collapsed": true
   },
   "outputs": [],
   "source": [
    "#summary(region_model)"
   ]
  },
  {
   "cell_type": "code",
   "execution_count": 12,
   "metadata": {
    "collapsed": true
   },
   "outputs": [],
   "source": [
    "#lsmeans(region_model,pairwise~.,adjust='Tukey')"
   ]
  },
  {
   "cell_type": "code",
   "execution_count": 13,
   "metadata": {},
   "outputs": [
    {
     "data": {
      "text/html": [
       "<ol class=list-inline>\n",
       "\t<li>'R3ACC'</li>\n",
       "\t<li>'R3IFGop_L'</li>\n",
       "\t<li>'R3IFGop_R'</li>\n",
       "\t<li>'R3Insula_L'</li>\n",
       "\t<li>'R3Insula_R'</li>\n",
       "\t<li>'R3MFG_L'</li>\n",
       "\t<li>'R3MFG_R'</li>\n",
       "\t<li>'R3MFGorb_L'</li>\n",
       "\t<li>'R3MFGorb_R'</li>\n",
       "\t<li>'R3PrecG_L'</li>\n",
       "\t<li>'R3PrecG_R'</li>\n",
       "\t<li>'R3zOutside_MD'</li>\n",
       "\t<li>'R3Insula_L.Insula_R'</li>\n",
       "\t<li>'R3MFG_L.MFG_R'</li>\n",
       "\t<li>'R3MFGorb_L.MFGorb_R'</li>\n",
       "\t<li>'R3PrecG_L.PrecG_R'</li>\n",
       "\t<li>'R3IFGop_L.IFGop_R'</li>\n",
       "</ol>\n"
      ],
      "text/latex": [
       "\\begin{enumerate*}\n",
       "\\item 'R3ACC'\n",
       "\\item 'R3IFGop_L'\n",
       "\\item 'R3IFGop_R'\n",
       "\\item 'R3Insula_L'\n",
       "\\item 'R3Insula_R'\n",
       "\\item 'R3MFG_L'\n",
       "\\item 'R3MFG_R'\n",
       "\\item 'R3MFGorb_L'\n",
       "\\item 'R3MFGorb_R'\n",
       "\\item 'R3PrecG_L'\n",
       "\\item 'R3PrecG_R'\n",
       "\\item 'R3zOutside_MD'\n",
       "\\item 'R3Insula_L.Insula_R'\n",
       "\\item 'R3MFG_L.MFG_R'\n",
       "\\item 'R3MFGorb_L.MFGorb_R'\n",
       "\\item 'R3PrecG_L.PrecG_R'\n",
       "\\item 'R3IFGop_L.IFGop_R'\n",
       "\\end{enumerate*}\n"
      ],
      "text/markdown": [
       "1. 'R3ACC'\n",
       "2. 'R3IFGop_L'\n",
       "3. 'R3IFGop_R'\n",
       "4. 'R3Insula_L'\n",
       "5. 'R3Insula_R'\n",
       "6. 'R3MFG_L'\n",
       "7. 'R3MFG_R'\n",
       "8. 'R3MFGorb_L'\n",
       "9. 'R3MFGorb_R'\n",
       "10. 'R3PrecG_L'\n",
       "11. 'R3PrecG_R'\n",
       "12. 'R3zOutside_MD'\n",
       "13. 'R3Insula_L.Insula_R'\n",
       "14. 'R3MFG_L.MFG_R'\n",
       "15. 'R3MFGorb_L.MFGorb_R'\n",
       "16. 'R3PrecG_L.PrecG_R'\n",
       "17. 'R3IFGop_L.IFGop_R'\n",
       "\n",
       "\n"
      ],
      "text/plain": [
       " [1] \"R3ACC\"               \"R3IFGop_L\"           \"R3IFGop_R\"          \n",
       " [4] \"R3Insula_L\"          \"R3Insula_R\"          \"R3MFG_L\"            \n",
       " [7] \"R3MFG_R\"             \"R3MFGorb_L\"          \"R3MFGorb_R\"         \n",
       "[10] \"R3PrecG_L\"           \"R3PrecG_R\"           \"R3zOutside_MD\"      \n",
       "[13] \"R3Insula_L.Insula_R\" \"R3MFG_L.MFG_R\"       \"R3MFGorb_L.MFGorb_R\"\n",
       "[16] \"R3PrecG_L.PrecG_R\"   \"R3IFGop_L.IFGop_R\"  "
      ]
     },
     "execution_count": 13,
     "metadata": {},
     "output_type": "execute_result"
    }
   ],
   "source": [
    "R3names"
   ]
  },
  {
   "cell_type": "code",
   "execution_count": 14,
   "metadata": {
    "collapsed": true
   },
   "outputs": [],
   "source": [
    "#R3names"
   ]
  },
  {
   "cell_type": "code",
   "execution_count": 15,
   "metadata": {},
   "outputs": [
    {
     "data": {
      "text/html": [
       "<ol class=list-inline>\n",
       "\t<li>'ACC'</li>\n",
       "\t<li>'IFGop_L'</li>\n",
       "\t<li>'IFGop_R'</li>\n",
       "\t<li>'Insula_L'</li>\n",
       "\t<li>'Insula_R'</li>\n",
       "\t<li>'MFG_L'</li>\n",
       "\t<li>'MFG_R'</li>\n",
       "\t<li>'MFGorb_L'</li>\n",
       "\t<li>'MFGorb_R'</li>\n",
       "\t<li>'PrecG_L'</li>\n",
       "\t<li>'PrecG_R'</li>\n",
       "\t<li>'zOutside_MD'</li>\n",
       "\t<li>'Insula_L.Insula_R'</li>\n",
       "\t<li>'MFG_L.MFG_R'</li>\n",
       "\t<li>'MFGorb_L.MFGorb_R'</li>\n",
       "\t<li>'PrecG_L.PrecG_R'</li>\n",
       "\t<li>'IFGop_L.IFGop_R'</li>\n",
       "</ol>\n"
      ],
      "text/latex": [
       "\\begin{enumerate*}\n",
       "\\item 'ACC'\n",
       "\\item 'IFGop_L'\n",
       "\\item 'IFGop_R'\n",
       "\\item 'Insula_L'\n",
       "\\item 'Insula_R'\n",
       "\\item 'MFG_L'\n",
       "\\item 'MFG_R'\n",
       "\\item 'MFGorb_L'\n",
       "\\item 'MFGorb_R'\n",
       "\\item 'PrecG_L'\n",
       "\\item 'PrecG_R'\n",
       "\\item 'zOutside_MD'\n",
       "\\item 'Insula_L.Insula_R'\n",
       "\\item 'MFG_L.MFG_R'\n",
       "\\item 'MFGorb_L.MFGorb_R'\n",
       "\\item 'PrecG_L.PrecG_R'\n",
       "\\item 'IFGop_L.IFGop_R'\n",
       "\\end{enumerate*}\n"
      ],
      "text/markdown": [
       "1. 'ACC'\n",
       "2. 'IFGop_L'\n",
       "3. 'IFGop_R'\n",
       "4. 'Insula_L'\n",
       "5. 'Insula_R'\n",
       "6. 'MFG_L'\n",
       "7. 'MFG_R'\n",
       "8. 'MFGorb_L'\n",
       "9. 'MFGorb_R'\n",
       "10. 'PrecG_L'\n",
       "11. 'PrecG_R'\n",
       "12. 'zOutside_MD'\n",
       "13. 'Insula_L.Insula_R'\n",
       "14. 'MFG_L.MFG_R'\n",
       "15. 'MFGorb_L.MFGorb_R'\n",
       "16. 'PrecG_L.PrecG_R'\n",
       "17. 'IFGop_L.IFGop_R'\n",
       "\n",
       "\n"
      ],
      "text/plain": [
       " [1] \"ACC\"               \"IFGop_L\"           \"IFGop_R\"          \n",
       " [4] \"Insula_L\"          \"Insula_R\"          \"MFG_L\"            \n",
       " [7] \"MFG_R\"             \"MFGorb_L\"          \"MFGorb_R\"         \n",
       "[10] \"PrecG_L\"           \"PrecG_R\"           \"zOutside_MD\"      \n",
       "[13] \"Insula_L.Insula_R\" \"MFG_L.MFG_R\"       \"MFGorb_L.MFGorb_R\"\n",
       "[16] \"PrecG_L.PrecG_R\"   \"IFGop_L.IFGop_R\"  "
      ]
     },
     "execution_count": 15,
     "metadata": {},
     "output_type": "execute_result"
    }
   ],
   "source": [
    "R3namesnew<-c()\n",
    "for (R in R3names){\n",
    "    R3namesnew<-c(R3namesnew,gsub(\"R3\", \"\",R))\n",
    "    \n",
    "}\n",
    "R3namesnew"
   ]
  },
  {
   "cell_type": "code",
   "execution_count": 16,
   "metadata": {
    "collapsed": true
   },
   "outputs": [],
   "source": [
    "# get data for plot \n",
    "fits<-c()\n",
    "se<-c()\n",
    "i=1\n",
    "R3names = sort(R3names)\n",
    "for (name in R3names){\n",
    "    ef<-effect(name,region_model)\n",
    "    fits[i]<-tail(ef$fit, n=1)\n",
    "    se[i]<-tail(ef$se, n=1)\n",
    "    i=i+1 \n",
    "}\n",
    "dd = data.table(name=R3namesnew,se=se,Accuracy=fits)\n",
    "\n"
   ]
  },
  {
   "cell_type": "code",
   "execution_count": 17,
   "metadata": {},
   "outputs": [
    {
     "data": {
      "text/html": [
       "<table>\n",
       "<thead><tr><th></th><th scope=col>name</th><th scope=col>se</th><th scope=col>Accuracy</th><th scope=col>Accuracy_gmean</th></tr></thead>\n",
       "<tbody>\n",
       "\t<tr><th scope=row>1</th><td>ACC</td><td>0.01468736</td><td>0.00484073</td><td>0.617969</td></tr>\n",
       "\t<tr><th scope=row>2</th><td>IFGop_L</td><td>0.01987575</td><td>0.00813339</td><td>0.6212617</td></tr>\n",
       "\t<tr><th scope=row>3</th><td>IFGop_R</td><td>0.03440788</td><td>-0.012142</td><td>0.6009863</td></tr>\n",
       "\t<tr><th scope=row>4</th><td>Insula_L</td><td>0.01574824</td><td>-0.004445832</td><td>0.6086824</td></tr>\n",
       "\t<tr><th scope=row>5</th><td>Insula_R</td><td>0.02334638</td><td>-0.007652189</td><td>0.6054761</td></tr>\n",
       "\t<tr><th scope=row>6</th><td>MFG_L</td><td>0.02072806</td><td>-0.02368812</td><td>0.5894401</td></tr>\n",
       "</tbody>\n",
       "</table>\n"
      ],
      "text/latex": [
       "\\begin{tabular}{r|llll}\n",
       "  & name & se & Accuracy & Accuracy_gmean\\\\\n",
       "\\hline\n",
       "\t1 & ACC & 0.01468736 & 0.00484073 & 0.617969\\\\\n",
       "\t2 & IFGop_L & 0.01987575 & 0.00813339 & 0.6212617\\\\\n",
       "\t3 & IFGop_R & 0.03440788 & -0.012142 & 0.6009863\\\\\n",
       "\t4 & Insula_L & 0.01574824 & -0.004445832 & 0.6086824\\\\\n",
       "\t5 & Insula_R & 0.02334638 & -0.007652189 & 0.6054761\\\\\n",
       "\t6 & MFG_L & 0.02072806 & -0.02368812 & 0.5894401\\\\\n",
       "\\end{tabular}\n"
      ],
      "text/plain": [
       "       name         se     Accuracy Accuracy_gmean\n",
       "1:      ACC 0.01468736  0.004840730      0.6179690\n",
       "2:  IFGop_L 0.01987575  0.008133390      0.6212617\n",
       "3:  IFGop_R 0.03440788 -0.012141999      0.6009863\n",
       "4: Insula_L 0.01574824 -0.004445832      0.6086824\n",
       "5: Insula_R 0.02334638 -0.007652189      0.6054761\n",
       "6:    MFG_L 0.02072806 -0.023688120      0.5894401"
      ]
     },
     "execution_count": 17,
     "metadata": {},
     "output_type": "execute_result"
    }
   ],
   "source": [
    "dd$Accuracy_gmean = dd$Accuracy+gmean\n",
    "head(dd)"
   ]
  },
  {
   "cell_type": "code",
   "execution_count": 18,
   "metadata": {},
   "outputs": [
    {
     "data": {
      "text/html": [
       "<ol class=list-inline>\n",
       "\t<li>'ACC'</li>\n",
       "\t<li>'IFGop_L'</li>\n",
       "\t<li>'IFGop_R'</li>\n",
       "\t<li>'Insula_L'</li>\n",
       "\t<li>'Insula_R'</li>\n",
       "\t<li>'MFG_L'</li>\n",
       "\t<li>'MFG_R'</li>\n",
       "\t<li>'MFGorb_L'</li>\n",
       "\t<li>'MFGorb_R'</li>\n",
       "\t<li>'PrecG_L'</li>\n",
       "\t<li>'PrecG_R'</li>\n",
       "\t<li>'zOutside_MD'</li>\n",
       "\t<li>'Insula_L.Insula_R'</li>\n",
       "\t<li>'MFG_L.MFG_R'</li>\n",
       "\t<li>'MFGorb_L.MFGorb_R'</li>\n",
       "\t<li>'PrecG_L.PrecG_R'</li>\n",
       "\t<li>'IFGop_L.IFGop_R'</li>\n",
       "</ol>\n"
      ],
      "text/latex": [
       "\\begin{enumerate*}\n",
       "\\item 'ACC'\n",
       "\\item 'IFGop_L'\n",
       "\\item 'IFGop_R'\n",
       "\\item 'Insula_L'\n",
       "\\item 'Insula_R'\n",
       "\\item 'MFG_L'\n",
       "\\item 'MFG_R'\n",
       "\\item 'MFGorb_L'\n",
       "\\item 'MFGorb_R'\n",
       "\\item 'PrecG_L'\n",
       "\\item 'PrecG_R'\n",
       "\\item 'zOutside_MD'\n",
       "\\item 'Insula_L.Insula_R'\n",
       "\\item 'MFG_L.MFG_R'\n",
       "\\item 'MFGorb_L.MFGorb_R'\n",
       "\\item 'PrecG_L.PrecG_R'\n",
       "\\item 'IFGop_L.IFGop_R'\n",
       "\\end{enumerate*}\n"
      ],
      "text/markdown": [
       "1. 'ACC'\n",
       "2. 'IFGop_L'\n",
       "3. 'IFGop_R'\n",
       "4. 'Insula_L'\n",
       "5. 'Insula_R'\n",
       "6. 'MFG_L'\n",
       "7. 'MFG_R'\n",
       "8. 'MFGorb_L'\n",
       "9. 'MFGorb_R'\n",
       "10. 'PrecG_L'\n",
       "11. 'PrecG_R'\n",
       "12. 'zOutside_MD'\n",
       "13. 'Insula_L.Insula_R'\n",
       "14. 'MFG_L.MFG_R'\n",
       "15. 'MFGorb_L.MFGorb_R'\n",
       "16. 'PrecG_L.PrecG_R'\n",
       "17. 'IFGop_L.IFGop_R'\n",
       "\n",
       "\n"
      ],
      "text/plain": [
       " [1] \"ACC\"               \"IFGop_L\"           \"IFGop_R\"          \n",
       " [4] \"Insula_L\"          \"Insula_R\"          \"MFG_L\"            \n",
       " [7] \"MFG_R\"             \"MFGorb_L\"          \"MFGorb_R\"         \n",
       "[10] \"PrecG_L\"           \"PrecG_R\"           \"zOutside_MD\"      \n",
       "[13] \"Insula_L.Insula_R\" \"MFG_L.MFG_R\"       \"MFGorb_L.MFGorb_R\"\n",
       "[16] \"PrecG_L.PrecG_R\"   \"IFGop_L.IFGop_R\"  "
      ]
     },
     "execution_count": 18,
     "metadata": {},
     "output_type": "execute_result"
    }
   ],
   "source": [
    "dd$name"
   ]
  },
  {
   "cell_type": "code",
   "execution_count": 19,
   "metadata": {},
   "outputs": [
    {
     "data": {
      "text/html": [
       "<ol class=list-inline>\n",
       "\t<li>'R3ACC'</li>\n",
       "\t<li>'R3IFGop_L'</li>\n",
       "\t<li>'R3IFGop_L.IFGop_R'</li>\n",
       "\t<li>'R3IFGop_R'</li>\n",
       "\t<li>'R3Insula_L'</li>\n",
       "\t<li>'R3Insula_L.Insula_R'</li>\n",
       "\t<li>'R3Insula_R'</li>\n",
       "\t<li>'R3MFG_L'</li>\n",
       "\t<li>'R3MFG_L.MFG_R'</li>\n",
       "\t<li>'R3MFGorb_L'</li>\n",
       "\t<li>'R3MFGorb_L.MFGorb_R'</li>\n",
       "\t<li>'R3MFGorb_R'</li>\n",
       "\t<li>'R3MFG_R'</li>\n",
       "\t<li>'R3PrecG_L'</li>\n",
       "\t<li>'R3PrecG_L.PrecG_R'</li>\n",
       "\t<li>'R3PrecG_R'</li>\n",
       "\t<li>'R3zOutside_MD'</li>\n",
       "</ol>\n"
      ],
      "text/latex": [
       "\\begin{enumerate*}\n",
       "\\item 'R3ACC'\n",
       "\\item 'R3IFGop_L'\n",
       "\\item 'R3IFGop_L.IFGop_R'\n",
       "\\item 'R3IFGop_R'\n",
       "\\item 'R3Insula_L'\n",
       "\\item 'R3Insula_L.Insula_R'\n",
       "\\item 'R3Insula_R'\n",
       "\\item 'R3MFG_L'\n",
       "\\item 'R3MFG_L.MFG_R'\n",
       "\\item 'R3MFGorb_L'\n",
       "\\item 'R3MFGorb_L.MFGorb_R'\n",
       "\\item 'R3MFGorb_R'\n",
       "\\item 'R3MFG_R'\n",
       "\\item 'R3PrecG_L'\n",
       "\\item 'R3PrecG_L.PrecG_R'\n",
       "\\item 'R3PrecG_R'\n",
       "\\item 'R3zOutside_MD'\n",
       "\\end{enumerate*}\n"
      ],
      "text/markdown": [
       "1. 'R3ACC'\n",
       "2. 'R3IFGop_L'\n",
       "3. 'R3IFGop_L.IFGop_R'\n",
       "4. 'R3IFGop_R'\n",
       "5. 'R3Insula_L'\n",
       "6. 'R3Insula_L.Insula_R'\n",
       "7. 'R3Insula_R'\n",
       "8. 'R3MFG_L'\n",
       "9. 'R3MFG_L.MFG_R'\n",
       "10. 'R3MFGorb_L'\n",
       "11. 'R3MFGorb_L.MFGorb_R'\n",
       "12. 'R3MFGorb_R'\n",
       "13. 'R3MFG_R'\n",
       "14. 'R3PrecG_L'\n",
       "15. 'R3PrecG_L.PrecG_R'\n",
       "16. 'R3PrecG_R'\n",
       "17. 'R3zOutside_MD'\n",
       "\n",
       "\n"
      ],
      "text/plain": [
       " [1] \"R3ACC\"               \"R3IFGop_L\"           \"R3IFGop_L.IFGop_R\"  \n",
       " [4] \"R3IFGop_R\"           \"R3Insula_L\"          \"R3Insula_L.Insula_R\"\n",
       " [7] \"R3Insula_R\"          \"R3MFG_L\"             \"R3MFG_L.MFG_R\"      \n",
       "[10] \"R3MFGorb_L\"          \"R3MFGorb_L.MFGorb_R\" \"R3MFGorb_R\"         \n",
       "[13] \"R3MFG_R\"             \"R3PrecG_L\"           \"R3PrecG_L.PrecG_R\"  \n",
       "[16] \"R3PrecG_R\"           \"R3zOutside_MD\"      "
      ]
     },
     "execution_count": 19,
     "metadata": {},
     "output_type": "execute_result"
    }
   ],
   "source": [
    "R3names"
   ]
  },
  {
   "cell_type": "code",
   "execution_count": 25,
   "metadata": {},
   "outputs": [
    {
     "data": {
      "text/html": [
       "<strong>pdf:</strong> 2"
      ],
      "text/latex": [
       "\\textbf{pdf:} 2"
      ],
      "text/markdown": [
       "**pdf:** 2"
      ],
      "text/plain": [
       "pdf \n",
       "  2 "
      ]
     },
     "execution_count": 25,
     "metadata": {},
     "output_type": "execute_result"
    },
    {
     "data": {
      "text/html": [
       "<strong>pdf:</strong> 2"
      ],
      "text/latex": [
       "\\textbf{pdf:} 2"
      ],
      "text/markdown": [
       "**pdf:** 2"
      ],
      "text/plain": [
       "pdf \n",
       "  2 "
      ]
     },
     "execution_count": 25,
     "metadata": {},
     "output_type": "execute_result"
    },
    {
     "data": {
      "image/png": "[encoded data removed]"
     },
     "metadata": {},
     "output_type": "display_data"
    }
   ],
   "source": [
    "\n",
    "\n",
    "p<-ggplot(aes(y = Accuracy, x = name,ymax = Accuracy + se, ymin=Accuracy - se), \n",
    "          data = dd) +\n",
    "geom_point(size=1)+geom_errorbar(width=0.15)\n",
    "\n",
    "mainlinewidth=.5\n",
    "textsize = 8\n",
    "labelsize = 10\n",
    "\n",
    "p<-p+geom_hline(yintercept=0,linetype='dotted')\n",
    "p<-p+theme(axis.line.x = element_line(color=\"black\", size = mainlinewidth),\n",
    "        axis.line.y = element_line(color=\"black\", size = mainlinewidth))\n",
    "\n",
    "p<-p+xlab('Region')\n",
    "p<-p+ylab('Decoding Accuracy \\n (difference from grand mean)')\n",
    "p<-p+theme(panel.background=element_blank())\n",
    "p<-p+theme(axis.text.y = element_text(family=\"Helvetica\",size=textsize,colour='black'))\n",
    "p<-p+theme(axis.text.x = element_text(family=\"Helvetica\",angle = 90, vjust=0.5,\n",
    "                                      hjust = 1,size=textsize,colour='black'))\n",
    "p<-p+theme(plot.title = element_text(family=\"Helvetica\",size=labelsize,colour='black'))\n",
    "p<-p+theme(axis.title.x = element_text(family=\"Helvetica\",size=labelsize,,colour='black'))\n",
    "p<-p+theme(axis.title.y = element_text(family=\"Helvetica\",size=labelsize,hjust=.8,colour='black'))\n",
    "\n",
    "rlabels = c('ACC',\n",
    "             'left IFGop','right IFGop','bilateral IFGop',\n",
    "             'left Insula','right Insula','bilateral Insula',\n",
    "             'left MFG','right MFG','bilateral MFG',\n",
    "             'left MFGorb','right MFGorb', 'bilateral MFGorb',\n",
    "             'left PrecG','right PrecG','bilateral PrecG',\n",
    "                     'other frontal cortex regions'\n",
    "             )\n",
    "\n",
    "p<-p+scale_x_discrete(labels=rlabels)\n",
    "\n",
    "p<-p+theme(axis.ticks.x=element_blank(),axis.ticks.y=element_blank())\n",
    "\n",
    "setEPS()\n",
    "postscript('../Figures/Supp_accuracy_by_md_region_mixed_effects.eps',width=6,height=4)\n",
    "p\n",
    "dev.off()\n",
    "\n",
    "\n",
    "png('../Figures/Supp_accuracy_by_md_region_mixed_effects.png',width=6,height=4,\n",
    "     units=\"in\",res=400)\n",
    "p\n",
    "dev.off()\n",
    "options(repr.plot.width=6, repr.plot.height=4)\n",
    "p"
   ]
  },
  {
   "cell_type": "code",
   "execution_count": 21,
   "metadata": {},
   "outputs": [
    {
     "data": {
      "text/html": [
       "<table>\n",
       "<thead><tr><th></th><th scope=col>call</th><th scope=col>Model</th><th scope=col>df</th><th scope=col>AIC</th><th scope=col>BIC</th><th scope=col>logLik</th><th scope=col>Test</th><th scope=col>L.Ratio</th><th scope=col>p-value</th></tr></thead>\n",
       "<tbody>\n",
       "\t<tr><th scope=row>region_model_ml</th><td>lme.formula(fixed = as.formula(paste(\"Accuracy.50_wo_gmean~-1+\",     R1names_string, sep = \"\")), data = d, random = ~1 | PID,     method = \"ML\")</td><td>1</td><td>19</td><td>-1362.381</td><td>-1282.076</td><td>700.1903</td><td></td><td>NA</td><td>NA</td></tr>\n",
       "\t<tr><th scope=row>region_model_baseline</th><td>lme.formula(fixed = Accuracy.50_wo_gmean ~ 1, data = d, random = ~1 |     PID, method = \"ML\")</td><td>2</td><td>3</td><td>-1384.061</td><td>-1371.381</td><td>695.0305</td><td>1 vs 2</td><td>10.31963</td><td>0.849412</td></tr>\n",
       "</tbody>\n",
       "</table>\n"
      ],
      "text/latex": [
       "\\begin{tabular}{r|lllllllll}\n",
       "  & call & Model & df & AIC & BIC & logLik & Test & L.Ratio & p-value\\\\\n",
       "\\hline\n",
       "\tregion_model_ml & lme.formula(fixed = as.formula(paste(\"Accuracy.50_wo_gmean~-1+\",     R1names_string, sep = \"\")), data = d, random = ~1 | PID,     method = \"ML\") & 1 & 19 & -1362.381 & -1282.076 & 700.1903 &  & NA & NA\\\\\n",
       "\tregion_model_baseline & lme.formula(fixed = Accuracy.50_wo_gmean ~ 1, data = d, random = ~1 |     PID, method = \"ML\") & 2 & 3 & -1384.061 & -1371.381 & 695.0305 & 1 vs 2 & 10.31963 & 0.849412\\\\\n",
       "\\end{tabular}\n"
      ],
      "text/plain": [
       "                      Model df       AIC       BIC   logLik   Test  L.Ratio\n",
       "region_model_ml           1 19 -1362.381 -1282.076 700.1903                \n",
       "region_model_baseline     2  3 -1384.061 -1371.381 695.0305 1 vs 2 10.31963\n",
       "                      p-value\n",
       "region_model_ml              \n",
       "region_model_baseline  0.8494"
      ]
     },
     "execution_count": 21,
     "metadata": {},
     "output_type": "execute_result"
    }
   ],
   "source": [
    "region_model_ml<-lme(as.formula(paste('Accuracy.50_wo_gmean~-1+',R1names_string,sep='')),random=~1|PID,data=d,method='ML')\n",
    "region_model_baseline<-lme(Accuracy.50_wo_gmean~1,random=~1|PID,data=d,method='ML')\n",
    "anova(region_model_ml,region_model_baseline)\n"
   ]
  }
 ],
 "metadata": {
  "hide_input": false,
  "kernelspec": {
   "display_name": "R",
   "language": "R",
   "name": "ir"
  },
  "language_info": {
   "codemirror_mode": "r",
   "file_extension": ".r",
   "mimetype": "text/x-r-source",
   "name": "R",
   "pygments_lexer": "r",
   "version": "3.4.1"
  },
  "toc": {
   "nav_menu": {},
   "number_sections": true,
   "sideBar": true,
   "skip_h1_title": false,
   "toc_cell": false,
   "toc_position": {},
   "toc_section_display": "block",
   "toc_window_display": false
  }
 },
 "nbformat": 4,
 "nbformat_minor": 1
}
