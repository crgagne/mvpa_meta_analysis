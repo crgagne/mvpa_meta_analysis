{
 "cells": [
  {
   "cell_type": "code",
   "execution_count": 62,
   "metadata": {
    "collapsed": true
   },
   "outputs": [],
   "source": [
    "import matplotlib.pyplot as plt\n",
    "import os.path\n",
    "import numpy as np\n",
    "%matplotlib inline"
   ]
  },
  {
   "cell_type": "code",
   "execution_count": 63,
   "metadata": {
    "collapsed": true
   },
   "outputs": [],
   "source": [
    "import Scripts_SigNonSig\n",
    "reload(Scripts_SigNonSig)\n",
    "from Scripts_SigNonSig import * "
   ]
  },
  {
   "cell_type": "code",
   "execution_count": 64,
   "metadata": {
    "collapsed": false
   },
   "outputs": [],
   "source": [
    "out = get_data_for_sig_nonsig_analyses()\n",
    "df_50_coutance = get_data_coutanche()\n",
    "df_50 = out['df_50']"
   ]
  },
  {
   "cell_type": "code",
   "execution_count": 65,
   "metadata": {
    "collapsed": false
   },
   "outputs": [],
   "source": [
    "df_50_coutance['PID']=df_50_coutance['PID']+df_50_sig['PID'].max() # change pid's\n"
   ]
  },
  {
   "cell_type": "markdown",
   "metadata": {},
   "source": [
    "# Load Bootstrap Data "
   ]
  },
  {
   "cell_type": "code",
   "execution_count": 66,
   "metadata": {
    "collapsed": true
   },
   "outputs": [],
   "source": [
    "boot_results_vc = np.load('../data_meta_analysis/data_derived_meta_analysis/bootstrap_results_visual_cortex.npz')\n",
    "boot_results_vt = np.load('../data_meta_analysis/data_derived_meta_analysis/bootstrap_results_ventral_temporal.npz')\n",
    "boot_results_both = np.load('../data_meta_analysis/data_derived_meta_analysis/bootstrap_results_both_visual.npz')\n",
    "boot_results_frontal_all = np.load('../data_meta_analysis/data_derived_meta_analysis/bootstrap_results_full.npz')\n",
    "boot_results_frontal_sig = np.load('../data_meta_analysis/data_derived_meta_analysis/bootstrap_results_sig.npz')\n",
    "boot_results_frontal_non = np.load('../data_meta_analysis/data_derived_meta_analysis/bootstrap_results_nonsig.npz')\n",
    "boot_results_frontal_rule = np.load('../data_meta_analysis/data_derived_meta_analysis/bootstrap_results_rule.npz')"
   ]
  },
  {
   "cell_type": "code",
   "execution_count": 67,
   "metadata": {
    "collapsed": true
   },
   "outputs": [],
   "source": [
    "x = np.linspace(0,1,100) # what range for cdf # \n",
    "epcdf_store_vt = boot_results_vt['epcdf_store']\n",
    "eppdf_store_vt = boot_results_vt['eppdf_store']\n",
    "meann_vt = boot_results_vt['meann']\n",
    "mediann_vt = boot_results_vt['mediann']\n",
    "meann_study_vt=boot_results_vt['meann_study']\n",
    "perc25_vt = boot_results_vt['perc25']\n",
    "perc75_vt = boot_results_vt['perc75']\n",
    "\n",
    "epcdf_store_vc = boot_results_vc['epcdf_store']\n",
    "eppdf_store_vc = boot_results_vc['eppdf_store']\n",
    "meann_vc = boot_results_vc['meann']\n",
    "mediann_vc = boot_results_vc['mediann']\n",
    "meann_study_vc=boot_results_vc['meann_study']\n",
    "perc25_vc = boot_results_vc['perc25']\n",
    "perc75_vc = boot_results_vc['perc75']\n",
    "\n",
    "epcdf_store_both = boot_results_both['epcdf_store']\n",
    "eppdf_store_both = boot_results_both['eppdf_store']\n",
    "meann_both = boot_results_both['meann']\n",
    "mediann_both = boot_results_both['mediann']\n",
    "meann_study_both=boot_results_both['meann_study']\n",
    "perc25_both = boot_results_both['perc25']\n",
    "perc75_both = boot_results_both['perc75']\n",
    "\n",
    "epcdf_store_frontal_all = boot_results_frontal_all['epcdf_store']\n",
    "eppdf_store_frontal_all = boot_results_frontal_all['eppdf_store']\n",
    "meann_frontal_all = boot_results_frontal_all['meann']\n",
    "mediann_frontal_all = boot_results_frontal_all['mediann']\n",
    "meann_study_frontal_all=boot_results_frontal_all['meann_study']\n",
    "perc25_frontal_all = boot_results_frontal_all['perc25']\n",
    "perc75_frontal_all = boot_results_frontal_all['perc75']\n",
    "\n",
    "epcdf_store_frontal_sig = boot_results_frontal_sig['epcdf_store']\n",
    "eppdf_store_frontal_sig = boot_results_frontal_sig['eppdf_store']\n",
    "meann_frontal_sig = boot_results_frontal_sig['meann']\n",
    "mediann_frontal_sig = boot_results_frontal_sig['mediann']\n",
    "meann_study_frontal_sig=boot_results_frontal_sig['meann_study']\n",
    "perc25_frontal_sig = boot_results_frontal_sig['perc25']\n",
    "perc75_frontal_sig = boot_results_frontal_sig['perc75']\n",
    "\n",
    "epcdf_store_frontal_non = boot_results_frontal_non['epcdf_store']\n",
    "eppdf_store_frontal_non = boot_results_frontal_non['eppdf_store']\n",
    "meann_frontal_non = boot_results_frontal_non['meann']\n",
    "mediann_frontal_non = boot_results_frontal_non['mediann']\n",
    "meann_study_frontal_non=boot_results_frontal_non['meann_study']\n",
    "perc25_frontal_non = boot_results_frontal_non['perc25']\n",
    "perc75_frontal_non = boot_results_frontal_non['perc75']\n",
    "\n",
    "epcdf_store_frontal_rule = boot_results_frontal_rule['epcdf_store']\n",
    "eppdf_store_frontal_rule = boot_results_frontal_rule['eppdf_store']\n",
    "meann_frontal_rule = boot_results_frontal_rule['meann']\n",
    "mediann_frontal_rule = boot_results_frontal_rule['mediann']\n"
   ]
  },
  {
   "cell_type": "markdown",
   "metadata": {},
   "source": [
    "# Plot - \n"
   ]
  },
  {
   "cell_type": "code",
   "execution_count": 68,
   "metadata": {
    "collapsed": false,
    "scrolled": true
   },
   "outputs": [
    {
     "data": {
      "image/png": "[encoded data removed]",
      "text/plain": [
       "<matplotlib.figure.Figure at 0x7f993a231c90>"
      ]
     },
     "metadata": {},
     "output_type": "display_data"
    },
    {
     "data": {
      "image/png": "[encoded data removed]",
      "text/plain": [
       "<matplotlib.figure.Figure at 0x7f99399f4cd0>"
      ]
     },
     "metadata": {},
     "output_type": "display_data"
    },
    {
     "data": {
      "image/png": "[encoded data removed]",
      "text/plain": [
       "<matplotlib.figure.Figure at 0x7f9939afd4d0>"
      ]
     },
     "metadata": {},
     "output_type": "display_data"
    },
    {
     "data": {
      "image/png": "[encoded data removed]",
      "text/plain": [
       "<matplotlib.figure.Figure at 0x7f993a0d9650>"
      ]
     },
     "metadata": {},
     "output_type": "display_data"
    },
    {
     "data": {
      "image/png": "[encoded data removed]",
      "text/plain": [
       "<matplotlib.figure.Figure at 0x7f993a231150>"
      ]
     },
     "metadata": {},
     "output_type": "display_data"
    },
    {
     "data": {
      "image/png": "[encoded data removed]",
      "text/plain": [
       "<matplotlib.figure.Figure at 0x7f993327efd0>"
      ]
     },
     "metadata": {},
     "output_type": "display_data"
    },
    {
     "data": {
      "image/png": "[encoded data removed]",
      "text/plain": [
       "<matplotlib.figure.Figure at 0x7f9933193310>"
      ]
     },
     "metadata": {},
     "output_type": "display_data"
    },
    {
     "data": {
      "image/png": "[encoded data removed]",
      "text/plain": [
       "<matplotlib.figure.Figure at 0x7f9939f7b310>"
      ]
     },
     "metadata": {},
     "output_type": "display_data"
    }
   ],
   "source": [
    "import seaborn as sns\n",
    "\n",
    "\n",
    "pcube = sns.color_palette(\"cubehelix\",20)\n",
    "sns.palplot(pcube)\n",
    "\n",
    "pbg = sns.color_palette(\"BuGn_r\")\n",
    "sns.palplot(pbg)\n",
    "\n",
    "phusl = sns.hls_palette(20,l=.4,s=.8)\n",
    "sns.palplot(phusl)\n",
    "\n",
    "frontalb = phusl[13]\n",
    "frontalrule = phusl[11]\n",
    "frontalnotrule = phusl[10]\n",
    "#visualb = phusl[]\n",
    "visualc = phusl[1]\n",
    "visualt = phusl[2]\n",
    "\n",
    "sns.palplot(frontalb)\n",
    "sns.palplot(frontalnotrule)\n",
    "sns.palplot(frontalrule)\n",
    "sns.palplot(visualc)\n",
    "sns.palplot(visualt)\n"
   ]
  },
  {
   "cell_type": "code",
   "execution_count": 69,
   "metadata": {
    "collapsed": false
   },
   "outputs": [
    {
     "data": {
      "image/png": "[encoded data removed]",
      "text/plain": [
       "<matplotlib.figure.Figure at 0x7f9933588810>"
      ]
     },
     "metadata": {},
     "output_type": "display_data"
    }
   ],
   "source": [
    "import matplotlib.gridspec as gridspec\n",
    "fig = plt.figure()\n",
    "\n",
    "sns.set_style('white')\n",
    "params = {\n",
    "   'axes.labelsize': 8,\n",
    "   'axes.titlesize': 8,\n",
    "    'axes.titleweight': 'normal',\n",
    "    'axes.labelweight':'normal',\n",
    "   'text.fontsize': 6,\n",
    "   'legend.fontsize': 6,\n",
    "   'xtick.labelsize': 8,\n",
    "   'ytick.labelsize': 8,\n",
    "   'text.usetex': False,\n",
    "   'figure.figsize': [6, 4],\n",
    "    'font.family':'cambria'\n",
    "}\n",
    "plt.rcParams.update(params)\n",
    "\n",
    "alphadots=1.0\n",
    "sizedots=6\n",
    "mainlinewidth = 1\n",
    "whiteoutline = 0.1\n",
    "median_line_widths=1\n",
    "chanceline = 1\n",
    "alphaa =0.7\n",
    "\n",
    "\n",
    "gs = gridspec.GridSpec(10, 8)\n",
    "ax1 = plt.subplot(gs[0:6,:])\n",
    "ax2 = plt.subplot(gs[6:10,0:4])\n",
    "ax3 = plt.subplot(gs[6:10,4:8])\n",
    "\n",
    "\n",
    "###### SCATTER ##### \n",
    "\n",
    "# all \n",
    "y= df_50.loc[df_50['Info.type']!='Rule','Accuracy.50'].as_matrix()\n",
    "x= df_50.loc[df_50['Info.type']!='Rule','PID'].as_matrix()\n",
    "ax1.scatter(y=y,x=x,s=sizedots,c=frontalnotrule,alpha=alphadots)\n",
    "\n",
    "# rule\n",
    "y= df_50.loc[df_50['Info.type']=='Rule','Accuracy.50'].as_matrix()\n",
    "x= df_50.loc[df_50['Info.type']=='Rule','PID'].as_matrix()\n",
    "ax1.scatter(y=y,x=x,s=sizedots,c=frontalrule,alpha=alphadots)\n",
    "\n",
    "# ventral tempora. \n",
    "y= df_50_coutance.loc[df_50_coutance['Visual_Region']=='Ventral Temporal Regions','Accuracy.50'].as_matrix()\n",
    "x= df_50_coutance.loc[df_50_coutance['Visual_Region']=='Ventral Temporal Regions','PID'].as_matrix()\n",
    "ax1.scatter(y=y,x=x+.2,s=sizedots,c=visualt,alpha=alphadots)\n",
    "\n",
    "# visual cortex \n",
    "y= df_50_coutance.loc[df_50_coutance['Visual_Region']=='Visual Cortex','Accuracy.50'].as_matrix()\n",
    "x= df_50_coutance.loc[df_50_coutance['Visual_Region']=='Visual Cortex','PID'].as_matrix()\n",
    "ax1.scatter(y=y,x=x+.2,s=sizedots,c=visualc,alpha=alphadots)\n",
    "\n",
    "x = np.linspace(0,1,100) # what range for cdf # \n",
    "\n",
    "#### CDF \n",
    "\n",
    "\n",
    "# frontal all \n",
    "upci = np.percentile(epcdf_store_frontal_all[40:100],97.5,axis=0)\n",
    "loci = np.percentile(epcdf_store_frontal_all[40:100],2.5,axis=0)\n",
    "ax2.plot(x[40:100],np.mean(epcdf_store_frontal_all,axis=0)[40:100],linewidth=mainlinewidth,color=frontalb)\n",
    "ax2.fill_between(x[40:100],upci[40:100],loci[40:100],color=frontalb,alpha=alphaa)\n",
    "ax2.plot(x[40:100],upci[40:100],color='white',linewidth=whiteoutline)\n",
    "ax2.plot(x[40:100],loci[40:100],color='white',linewidth=whiteoutline)\n",
    "\n",
    "# frontal rule \n",
    "upci = np.percentile(epcdf_store_frontal_rule[40:100],97.5,axis=0)\n",
    "loci = np.percentile(epcdf_store_frontal_rule[40:100],2.5,axis=0)\n",
    "ax2.plot(x[40:100],np.mean(epcdf_store_frontal_rule,axis=0)[40:100],linewidth=mainlinewidth,color=frontalrule)\n",
    "ax2.fill_between(x[40:100],upci[40:100],loci[40:100],color=frontalrule,alpha=alphaa)\n",
    "ax2.plot(x[40:100],upci[40:100],color='white',linewidth=whiteoutline)\n",
    "ax2.plot(x[40:100],loci[40:100],color='white',linewidth=whiteoutline)\n",
    "\n",
    "\n",
    "# visual cortex \n",
    "upci = np.percentile(epcdf_store_vc[40:100],97.5,axis=0)\n",
    "loci = np.percentile(epcdf_store_vc[40:100],2.5,axis=0)\n",
    "ax2.plot(x[40:100],np.mean(epcdf_store_vc,axis=0)[40:100],linewidth=mainlinewidth,color=visualc)\n",
    "ax2.fill_between(x[40:100],upci[40:100],loci[40:100],color=visualc,alpha=alphaa)\n",
    "ax2.plot(x[40:100],upci[40:100],color='white',linewidth=whiteoutline)\n",
    "ax2.plot(x[40:100],loci[40:100],color='white',linewidth=whiteoutline)\n",
    "\n",
    "#  ventral temporal \n",
    "upci = np.percentile(epcdf_store_vt[40:100],97.5,axis=0)\n",
    "loci = np.percentile(epcdf_store_vt[40:100],2.5,axis=0)\n",
    "ax2.plot(x[40:100],np.mean(epcdf_store_vt,axis=0)[40:100],linewidth=mainlinewidth,color=visualt)\n",
    "ax2.fill_between(x[40:100],upci[40:100],loci[40:100],color=visualt,alpha=alphaa)\n",
    "ax2.plot(x[40:100],upci[40:100],color='white',linewidth=whiteoutline)\n",
    "ax2.plot(x[40:100],loci[40:100],color='white',linewidth=whiteoutline)\n",
    "\n",
    "############\n",
    "##### PDF \n",
    "\n",
    "upci = np.percentile(eppdf_store_frontal_all[40:100],97.5,axis=0)\n",
    "loci = np.percentile(eppdf_store_frontal_all[40:100],2.5,axis=0)\n",
    "ax3.plot(x[40:100],np.mean(eppdf_store_frontal_all,axis=0)[40:100],linewidth=mainlinewidth,color=frontalb)\n",
    "ax3.fill_between(x[40:100],upci[40:100],loci[40:100],label='frontal (all)',color=frontalb,alpha=alphaa)\n",
    "ax3.plot(x[40:100],upci[40:100],color='white',linewidth=whiteoutline)\n",
    "ax3.plot(x[40:100],loci[40:100],color='white',linewidth=whiteoutline)\n",
    "\n",
    "\n",
    "upci = np.percentile(eppdf_store_frontal_rule[40:100],97.5,axis=0)\n",
    "loci = np.percentile(eppdf_store_frontal_rule[40:100],2.5,axis=0)\n",
    "ax3.plot(x[40:100],np.mean(eppdf_store_frontal_rule,axis=0)[40:100],linewidth=mainlinewidth,color=frontalrule)\n",
    "ax3.fill_between(x[40:100],upci[40:100],loci[40:100],label='frontal (rule)',color=frontalrule,alpha=alphaa)\n",
    "ax3.plot(x[40:100],upci[40:100],color='white',linewidth=whiteoutline)\n",
    "ax3.plot(x[40:100],loci[40:100],color='white',linewidth=whiteoutline)\n",
    "\n",
    "# not rule for legend\n",
    "ax3.fill_between(x[40:42],[2,2],[2.01,2.01],color=frontalnotrule,\n",
    "                 alpha=alphaa,label='frontal (not rule)')\n",
    "#ax3.scatter(x[40],[2],color=frontalnotrule,\n",
    "#                 alpha=alphaa,label='frontal (not rule)')\n",
    "\n",
    "upci = np.percentile(eppdf_store_vc[40:100],97.5,axis=0)\n",
    "loci = np.percentile(eppdf_store_vc[40:100],2.5,axis=0)\n",
    "ax3.plot(x[40:100],np.mean(eppdf_store_vc,axis=0)[40:100],linewidth=mainlinewidth,color=visualc)\n",
    "ax3.fill_between(x[40:100],upci[40:100],loci[40:100],label='visual',color=visualc,alpha=alphaa)\n",
    "ax3.plot(x[40:100],upci[40:100],color='white',linewidth=whiteoutline)\n",
    "ax3.plot(x[40:100],loci[40:100],color='white',linewidth=whiteoutline)\n",
    "\n",
    "upci = np.percentile(eppdf_store_vt[40:100],97.5,axis=0)\n",
    "loci = np.percentile(eppdf_store_vt[40:100],2.5,axis=0)\n",
    "ax3.plot(x[40:100],np.mean(eppdf_store_vt,axis=0)[40:100],linewidth=mainlinewidth,color=visualt)\n",
    "ax3.fill_between(x[40:100],upci[40:100],loci[40:100],label='ventral temporal',color=visualt,alpha=alphaa)\n",
    "ax3.plot(x[40:100],upci[40:100],color='white',linewidth=whiteoutline)\n",
    "ax3.plot(x[40:100],loci[40:100],color='white',linewidth=whiteoutline)\n",
    "\n",
    "\n",
    "ax1.set_ylim(0.4,1.0)\n",
    "ax1.set_xlim(-2,180)\n",
    "ax1.yaxis.grid(False)\n",
    "\n",
    "ax1.axhline(y=0.5,color='k',linestyle='--',linewidth=chanceline)\n",
    "ax2.axvline(x=0.5,color='k',linestyle='--',linewidth=chanceline)\n",
    "ax3.axvline(x=0.5,color='k',linestyle='--',label='chance decoding',linewidth=chanceline)\n",
    "\n",
    "ax3.axvline(x=mediann_vt.mean(),color=visualt,linewidth=median_line_widths)\n",
    "ax3.axvline(x=mediann_frontal_rule.mean(),color=frontalrule,linewidth=median_line_widths)\n",
    "ax3.axvline(x=mediann_vc.mean(),color=visualc,linewidth=median_line_widths)\n",
    "ax3.axvline(x=mediann_frontal_all.mean(),color=frontalb,linewidth=median_line_widths)\n",
    "\n",
    "\n",
    "plt.legend(bbox_to_anchor=(.6, 1.5), loc=2)\n",
    "\n",
    "axis_font = {'fontname':'Arial', 'size':'16'}\n",
    "ax1.set_xlabel('Study ID')\n",
    "ax1.set_ylabel('Decoding Accuracy')\n",
    "ax2.set_xlabel('Decoding Accuracy')\n",
    "ax2.set_ylabel('Cumulative Probability')\n",
    "ax3.set_xlabel('Decoding Accuracy')\n",
    "ax3.set_ylabel('Probability Density')\n",
    "ax1.set_title('(a)')\n",
    "ax2.set_title('(b)')\n",
    "ax3.set_title('(c)')\n",
    "\n",
    "for ax in [ax1,ax2,ax3]:\n",
    "    ax.spines[\"top\"].set_visible(False)  \n",
    "    ax.spines[\"right\"].set_visible(False) \n",
    "    #for label in (ax.get_xticklabels() + ax.get_yticklabels()):\n",
    "    #    label.set_fontname('Arial')\n",
    "    #    label.set_fontsize(16)\n",
    "    ax.set_axis_bgcolor('white')\n",
    "\n",
    "\n",
    "plt.tight_layout(h_pad=2.0,w_pad=1.0)\n",
    "plt.savefig('../Figures/Main/Figure1.png',dpi=300)\n",
    "plt.show()"
   ]
  }
 ],
 "metadata": {
  "hide_input": false,
  "kernelspec": {
   "display_name": "Python 2",
   "language": "python",
   "name": "python2"
  },
  "language_info": {
   "codemirror_mode": {
    "name": "ipython",
    "version": 2
   },
   "file_extension": ".py",
   "mimetype": "text/x-python",
   "name": "python",
   "nbconvert_exporter": "python",
   "pygments_lexer": "ipython2",
   "version": "2.7.12"
  }
 },
 "nbformat": 4,
 "nbformat_minor": 0
}
