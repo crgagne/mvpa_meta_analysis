{
 "cells": [
  {
   "cell_type": "markdown",
   "metadata": {},
   "source": [
    "Finding the Top 5% of Observations for use in the outlier analysis "
   ]
  },
  {
   "cell_type": "code",
   "execution_count": 1,
   "metadata": {
    "collapsed": true
   },
   "outputs": [],
   "source": [
    "import pandas as pd\n",
    "import numpy as np\n",
    "import matplotlib.pyplot as plt\n",
    "%matplotlib inline"
   ]
  },
  {
   "cell_type": "code",
   "execution_count": 2,
   "metadata": {
    "collapsed": true
   },
   "outputs": [],
   "source": [
    "df = pd.read_csv('../data_meta_analysis/Data_Classifications_v8b.csv')"
   ]
  },
  {
   "cell_type": "code",
   "execution_count": 3,
   "metadata": {
    "collapsed": true
   },
   "outputs": [],
   "source": [
    "X = pd.read_csv('../data_meta_analysis/data_derived_meta_analysis/X_region1_v8b.csv')"
   ]
  },
  {
   "cell_type": "code",
   "execution_count": 4,
   "metadata": {
    "collapsed": true
   },
   "outputs": [],
   "source": [
    "# add aal names\n",
    "for row in range(X.shape[0]):\n",
    "    df.loc[row,'AAL.Region.2']=','.join(list(X.columns[X.loc[row,:]==1]))"
   ]
  },
  {
   "cell_type": "code",
   "execution_count": 5,
   "metadata": {},
   "outputs": [
    {
     "data": {
      "text/plain": [
       "891"
      ]
     },
     "execution_count": 5,
     "metadata": {},
     "output_type": "execute_result"
    }
   ],
   "source": [
    "df.head()\n",
    "len(df)"
   ]
  },
  {
   "cell_type": "code",
   "execution_count": 6,
   "metadata": {},
   "outputs": [
    {
     "name": "stdout",
     "output_type": "stream",
     "text": [
      "[ 1  2  5  6  7  8  9 10 11 12 13 16 18 20 21 22 23 24 25 26 27 28 31 32 33\n",
      " 37 39 41 42 43 46 47 48 49 50 52 53 54 55 56 57 59 60 61 62 63 64 65 66 67\n",
      " 68 69 70 71 72 73 74 75 76 77 78 79 80 81 82 83 84 85 86 87 88 89 90 91 92\n",
      " 93]\n",
      "76\n"
     ]
    }
   ],
   "source": [
    "print(df.PID.unique())\n",
    "print(len(df.PID.unique()))"
   ]
  },
  {
   "cell_type": "markdown",
   "metadata": {},
   "source": [
    "Find the 95% percetile for the raw accuracy data (na's excluded). "
   ]
  },
  {
   "cell_type": "code",
   "execution_count": 7,
   "metadata": {},
   "outputs": [
    {
     "name": "stdout",
     "output_type": "stream",
     "text": [
      "0.75\n"
     ]
    }
   ],
   "source": [
    "acc = df['Accuracy.50'].as_matrix()[:]\n",
    "acc = acc[~np.isnan(acc)]\n",
    "p95 = np.percentile(acc,95)\n",
    "print(p95)"
   ]
  },
  {
   "cell_type": "code",
   "execution_count": 8,
   "metadata": {},
   "outputs": [
    {
     "data": {
      "text/plain": [
       "<matplotlib.lines.Line2D at 0x108cb61d0>"
      ]
     },
     "execution_count": 8,
     "metadata": {},
     "output_type": "execute_result"
    },
    {
     "data": {
      "image/png": "[encoded data removed]",
      "text/plain": [
       "<matplotlib.figure.Figure at 0x108cb6410>"
      ]
     },
     "metadata": {},
     "output_type": "display_data"
    }
   ],
   "source": [
    "\n",
    "plt.hist(acc)\n",
    "plt.axvline(x=p95)"
   ]
  },
  {
   "cell_type": "markdown",
   "metadata": {},
   "source": [
    "There are 41 observations of accuracy > .75 coming from 11 papers. "
   ]
  },
  {
   "cell_type": "code",
   "execution_count": 12,
   "metadata": {},
   "outputs": [
    {
     "name": "stdout",
     "output_type": "stream",
     "text": [
      "41\n",
      "[31 39 48 50 52 54 66 69 70 71 78]\n",
      "11\n"
     ]
    }
   ],
   "source": [
    "outliers = df.loc[df['Accuracy.50']>p95,]\n",
    "print(len(outliers))\n",
    "outliers_unique = outliers.PID.unique()\n",
    "outliers_unique.sort()\n",
    "print((outliers_unique))\n",
    "print(len(outliers.PID.unique()))"
   ]
  },
  {
   "cell_type": "code",
   "execution_count": 16,
   "metadata": {
    "collapsed": true
   },
   "outputs": [],
   "source": [
    "#outliers"
   ]
  },
  {
   "cell_type": "markdown",
   "metadata": {},
   "source": [
    "Nice, these are the same. "
   ]
  },
  {
   "cell_type": "markdown",
   "metadata": {},
   "source": [
    "Save to look at "
   ]
  },
  {
   "cell_type": "code",
   "execution_count": 13,
   "metadata": {},
   "outputs": [
    {
     "data": {
      "text/html": [
       "<div>\n",
       "<style scoped>\n",
       "    .dataframe tbody tr th:only-of-type {\n",
       "        vertical-align: middle;\n",
       "    }\n",
       "\n",
       "    .dataframe tbody tr th {\n",
       "        vertical-align: top;\n",
       "    }\n",
       "\n",
       "    .dataframe thead th {\n",
       "        text-align: right;\n",
       "    }\n",
       "</style>\n",
       "<table border=\"1\" class=\"dataframe\">\n",
       "  <thead>\n",
       "    <tr style=\"text-align: right;\">\n",
       "      <th></th>\n",
       "      <th>Unnamed: 0</th>\n",
       "      <th>PID</th>\n",
       "      <th>Year</th>\n",
       "      <th>Title</th>\n",
       "      <th>Info.type</th>\n",
       "      <th>Source.in.paper</th>\n",
       "      <th>Task.variable.decoded</th>\n",
       "      <th>Accuracy.50</th>\n",
       "      <th>Accuracy.other</th>\n",
       "      <th>Num_classes</th>\n",
       "      <th>...</th>\n",
       "      <th>Unkown Atlas</th>\n",
       "      <th>Method.of.Assigning.Region</th>\n",
       "      <th>Region.name</th>\n",
       "      <th>Voxel.numbers</th>\n",
       "      <th>Training.setsize</th>\n",
       "      <th>Accuracy.50.Median</th>\n",
       "      <th>Notes</th>\n",
       "      <th>More.Notes</th>\n",
       "      <th>Accuracy.50.original</th>\n",
       "      <th>AAL.Region.2</th>\n",
       "    </tr>\n",
       "  </thead>\n",
       "  <tbody>\n",
       "    <tr>\n",
       "      <th>338</th>\n",
       "      <td>338</td>\n",
       "      <td>31</td>\n",
       "      <td>2014</td>\n",
       "      <td>Using fMRI to decode true thoughts independent...</td>\n",
       "      <td>Rule</td>\n",
       "      <td>Figure 8</td>\n",
       "      <td>cross task prediction of whether subjects woul...</td>\n",
       "      <td>0.77</td>\n",
       "      <td>NaN</td>\n",
       "      <td>2</td>\n",
       "      <td>...</td>\n",
       "      <td>left middle frontal gyrus</td>\n",
       "      <td>name similarity</td>\n",
       "      <td>left middle frontal gyrus</td>\n",
       "      <td>59.0</td>\n",
       "      <td>18.0</td>\n",
       "      <td>NaN</td>\n",
       "      <td>NaN</td>\n",
       "      <td>NaN</td>\n",
       "      <td>0.77</td>\n",
       "      <td>Frontal_Mid_L</td>\n",
       "    </tr>\n",
       "    <tr>\n",
       "      <th>380</th>\n",
       "      <td>380</td>\n",
       "      <td>39</td>\n",
       "      <td>2010</td>\n",
       "      <td>Neural Responses to unattended products predic...</td>\n",
       "      <td>Value</td>\n",
       "      <td>Table 2</td>\n",
       "      <td>Whether viewed product was subsequently chosen...</td>\n",
       "      <td>0.76</td>\n",
       "      <td>NaN</td>\n",
       "      <td>2</td>\n",
       "      <td>...</td>\n",
       "      <td>NaN</td>\n",
       "      <td>coordinate transfer</td>\n",
       "      <td>Middle frontal gyrus_</td>\n",
       "      <td>251.0</td>\n",
       "      <td>12.0</td>\n",
       "      <td>NaN</td>\n",
       "      <td>NaN</td>\n",
       "      <td>NaN</td>\n",
       "      <td>0.76</td>\n",
       "      <td>Frontal_Sup_R</td>\n",
       "    </tr>\n",
       "    <tr>\n",
       "      <th>381</th>\n",
       "      <td>381</td>\n",
       "      <td>39</td>\n",
       "      <td>2010</td>\n",
       "      <td>Neural Responses to unattended products predic...</td>\n",
       "      <td>Value</td>\n",
       "      <td>Table 2</td>\n",
       "      <td>Whether viewed product was subsequently chosen...</td>\n",
       "      <td>0.76</td>\n",
       "      <td>NaN</td>\n",
       "      <td>2</td>\n",
       "      <td>...</td>\n",
       "      <td>NaN</td>\n",
       "      <td>coordinate transfer</td>\n",
       "      <td>mPFC_</td>\n",
       "      <td>251.0</td>\n",
       "      <td>12.0</td>\n",
       "      <td>NaN</td>\n",
       "      <td>NaN</td>\n",
       "      <td>NaN</td>\n",
       "      <td>0.76</td>\n",
       "      <td>Cingulum_Ant_R</td>\n",
       "    </tr>\n",
       "    <tr>\n",
       "      <th>382</th>\n",
       "      <td>382</td>\n",
       "      <td>39</td>\n",
       "      <td>2010</td>\n",
       "      <td>Neural Responses to unattended products predic...</td>\n",
       "      <td>Value</td>\n",
       "      <td>Table 2</td>\n",
       "      <td>Whether viewed product was subsequently chosen...</td>\n",
       "      <td>0.77</td>\n",
       "      <td>NaN</td>\n",
       "      <td>2</td>\n",
       "      <td>...</td>\n",
       "      <td>NaN</td>\n",
       "      <td>coordinate transfer</td>\n",
       "      <td>mPFC_</td>\n",
       "      <td>251.0</td>\n",
       "      <td>12.0</td>\n",
       "      <td>NaN</td>\n",
       "      <td>NaN</td>\n",
       "      <td>NaN</td>\n",
       "      <td>0.77</td>\n",
       "      <td>Frontal_Sup_R</td>\n",
       "    </tr>\n",
       "    <tr>\n",
       "      <th>383</th>\n",
       "      <td>383</td>\n",
       "      <td>39</td>\n",
       "      <td>2010</td>\n",
       "      <td>Neural Responses to unattended products predic...</td>\n",
       "      <td>Value</td>\n",
       "      <td>Table 2</td>\n",
       "      <td>Whether viewed product was subsequently chosen...</td>\n",
       "      <td>0.79</td>\n",
       "      <td>NaN</td>\n",
       "      <td>2</td>\n",
       "      <td>...</td>\n",
       "      <td>NaN</td>\n",
       "      <td>coordinate transfer</td>\n",
       "      <td>Middle frontal gyrus_</td>\n",
       "      <td>251.0</td>\n",
       "      <td>12.0</td>\n",
       "      <td>NaN</td>\n",
       "      <td>NaN</td>\n",
       "      <td>NaN</td>\n",
       "      <td>0.79</td>\n",
       "      <td>Frontal_Sup_R</td>\n",
       "    </tr>\n",
       "  </tbody>\n",
       "</table>\n",
       "<p>5 rows × 43 columns</p>\n",
       "</div>"
      ],
      "text/plain": [
       "     Unnamed: 0  PID  Year                                              Title  \\\n",
       "338         338   31  2014  Using fMRI to decode true thoughts independent...   \n",
       "380         380   39  2010  Neural Responses to unattended products predic...   \n",
       "381         381   39  2010  Neural Responses to unattended products predic...   \n",
       "382         382   39  2010  Neural Responses to unattended products predic...   \n",
       "383         383   39  2010  Neural Responses to unattended products predic...   \n",
       "\n",
       "    Info.type Source.in.paper  \\\n",
       "338      Rule        Figure 8   \n",
       "380     Value         Table 2   \n",
       "381     Value         Table 2   \n",
       "382     Value         Table 2   \n",
       "383     Value         Table 2   \n",
       "\n",
       "                                 Task.variable.decoded  Accuracy.50  \\\n",
       "338  cross task prediction of whether subjects woul...         0.77   \n",
       "380  Whether viewed product was subsequently chosen...         0.76   \n",
       "381  Whether viewed product was subsequently chosen...         0.76   \n",
       "382  Whether viewed product was subsequently chosen...         0.77   \n",
       "383  Whether viewed product was subsequently chosen...         0.79   \n",
       "\n",
       "     Accuracy.other  Num_classes       ...                     Unkown Atlas  \\\n",
       "338             NaN            2       ...        left middle frontal gyrus   \n",
       "380             NaN            2       ...                              NaN   \n",
       "381             NaN            2       ...                              NaN   \n",
       "382             NaN            2       ...                              NaN   \n",
       "383             NaN            2       ...                              NaN   \n",
       "\n",
       "    Method.of.Assigning.Region                Region.name Voxel.numbers  \\\n",
       "338            name similarity  left middle frontal gyrus          59.0   \n",
       "380        coordinate transfer      Middle frontal gyrus_         251.0   \n",
       "381        coordinate transfer                      mPFC_         251.0   \n",
       "382        coordinate transfer                      mPFC_         251.0   \n",
       "383        coordinate transfer      Middle frontal gyrus_         251.0   \n",
       "\n",
       "     Training.setsize Accuracy.50.Median Notes More.Notes  \\\n",
       "338              18.0                NaN   NaN        NaN   \n",
       "380              12.0                NaN   NaN        NaN   \n",
       "381              12.0                NaN   NaN        NaN   \n",
       "382              12.0                NaN   NaN        NaN   \n",
       "383              12.0                NaN   NaN        NaN   \n",
       "\n",
       "    Accuracy.50.original    AAL.Region.2  \n",
       "338                 0.77   Frontal_Mid_L  \n",
       "380                 0.76   Frontal_Sup_R  \n",
       "381                 0.76  Cingulum_Ant_R  \n",
       "382                 0.77   Frontal_Sup_R  \n",
       "383                 0.79   Frontal_Sup_R  \n",
       "\n",
       "[5 rows x 43 columns]"
      ]
     },
     "execution_count": 13,
     "metadata": {},
     "output_type": "execute_result"
    }
   ],
   "source": [
    "outliers.head()"
   ]
  },
  {
   "cell_type": "code",
   "execution_count": 14,
   "metadata": {
    "collapsed": true
   },
   "outputs": [],
   "source": [
    "outliers.to_csv('../data_meta_analysis/data_derived_meta_analysis/outliers_dataframe_with_full_data_v8b.csv',header=True)"
   ]
  },
  {
   "cell_type": "markdown",
   "metadata": {},
   "source": [
    "### Compare versions\n",
    "\n",
    "paper 69 had two accuracies that dropped 1-2 percentage points from 80% to 78% and 85% to 84%. \n",
    "paper 50 had one accuracy that dropped from 85% to 75%. \n",
    "\n",
    "Otherwise, it contains the same accuracies. Thank god. "
   ]
  },
  {
   "cell_type": "code",
   "execution_count": null,
   "metadata": {
    "collapsed": true
   },
   "outputs": [],
   "source": []
  }
 ],
 "metadata": {
  "hide_input": false,
  "kernelspec": {
   "display_name": "Python 2",
   "language": "python",
   "name": "python2"
  },
  "language_info": {
   "codemirror_mode": {
    "name": "ipython",
    "version": 2
   },
   "file_extension": ".py",
   "mimetype": "text/x-python",
   "name": "python",
   "nbconvert_exporter": "python",
   "pygments_lexer": "ipython2",
   "version": "2.7.14"
  },
  "toc": {
   "nav_menu": {},
   "number_sections": true,
   "sideBar": true,
   "skip_h1_title": false,
   "toc_cell": false,
   "toc_position": {},
   "toc_section_display": "block",
   "toc_window_display": false
  }
 },
 "nbformat": 4,
 "nbformat_minor": 1
}
