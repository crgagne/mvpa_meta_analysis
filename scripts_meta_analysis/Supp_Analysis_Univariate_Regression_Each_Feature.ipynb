{
 "cells": [
  {
   "cell_type": "markdown",
   "metadata": {},
   "source": [
    "# Separate Effects of Analysis Features on Classification Accuracy \n",
    "\n",
    "\n",
    "    \n",
    "- I ran a separate (mixed effects) regression for each analysis characteristics on classification accuracy (only 50% studies). \n",
    "\n",
    "- I've added **Resolution** to the dataset. The voxel dimensions (e.g. 3mmx3mmx3mm) were multiplied to get the voxel volumne. This was regressed onto Accuracy like all the other characteristics.\n",
    "\n",
    "- 5/11/18. I've added **Voxel numbers** and **Training Setsize** to the dataset. "
   ]
  },
  {
   "cell_type": "code",
   "execution_count": 1,
   "metadata": {
    "init_cell": true
   },
   "outputs": [],
   "source": [
    "options(jupyter.plot_mimetypes = \"image/png\")\n",
    "library(nlme)\n",
    "library(ggplot2)\n",
    "library(gridExtra)\n",
    "library(grid)\n",
    "library(data.table)\n",
    "library(effects)\n",
    "library(xtable)\n",
    "library(extrafont)\n",
    "library(lsmeans)\n",
    "library(multcomp)\n"
   ]
  },
  {
   "cell_type": "markdown",
   "metadata": {},
   "source": [
    "## Load Data and Data Prep\n",
    "\n",
    "- Data used can be found in 'Data_Classifications_v7.csv'\n",
    "- Used only significant analyses using 50% as chance level (like the main analysis) \n",
    "- Using analyses that were assigned to more than 2 regions. These were excluded from the main regression analysis because they contained too few observations per region regressor. "
   ]
  },
  {
   "cell_type": "code",
   "execution_count": 4,
   "metadata": {
    "collapsed": true
   },
   "outputs": [],
   "source": [
    "data = read.csv(\"../data_meta_analysis/Data_Classifications_v8b.csv\")"
   ]
  },
  {
   "cell_type": "code",
   "execution_count": 5,
   "metadata": {
    "collapsed": true,
    "init_cell": true
   },
   "outputs": [],
   "source": [
    "# change the resolution string 3mmx3mmx3mm->volumne 9mm^3\n",
    "calc_resolution <-function(string){\n",
    "    str_list<-strsplit(gsub('mm','',string),'x')[[1]] # \n",
    "    vol<-prod(as.integer(str_list))\n",
    "    return(vol)\n",
    "}\n",
    "\n",
    "data$Resolution_Volume<-lapply(data$Resolution,calc_resolution)\n",
    "\n",
    "# subset the dataset \n",
    "factors<-c('Info.type','Significance','Roi.Search',\n",
    "             'Pattern.type','Classifier.type','Scanner','Smoothing','Coregistration',\n",
    "           'Pattern.normalization.type','Num_subs','Resolution_Volume',\n",
    "          'Voxel.numbers','Training.setsize')\n",
    "\n",
    "data<-data[c('PID',factors,'Accuracy.50')]\n",
    "\n",
    "\n",
    "# calculate the n per study \n",
    "for (pid in unique(data$PID)){\n",
    "    data[data$PID==pid,'n_per_study']=nrow(data[data$PID==pid,])\n",
    "}"
   ]
  },
  {
   "cell_type": "code",
   "execution_count": 6,
   "metadata": {
    "collapsed": true
   },
   "outputs": [],
   "source": [
    "\n",
    "# Add regions (even though I'm not using it for this analysis)\n",
    "# I'm removing rows that don't have those regions to keep the analyses consistent \n",
    "\n",
    "R5 = read.csv(paste(\"../data_meta_analysis/data_derived_meta_analysis/X_region1_combined_regs_v8b.csv\"))\n",
    "R5names = colnames(R5)\n",
    "\n",
    "data = cbind(data,R5) # will bind with other region names too \n",
    "\n"
   ]
  },
  {
   "cell_type": "code",
   "execution_count": 7,
   "metadata": {
    "collapsed": true
   },
   "outputs": [],
   "source": [
    "# mscl fixes\n",
    "data<-data[!data$Classifier.type=='neural-net',] # no observations but still has a level\n",
    "data[data$Scanner=='4T','Scanner']='3T' # only one observatoin with 4t so changed it to 3T\n",
    "data$PID<-as.factor(data$PID)\n",
    "data$Info.type<-as.factor(data$Info.type)\n",
    "data$Smoothing<-as.factor(data$Smoothing)\n",
    "data$Roi.Search<-as.factor(data$Roi.Search)\n",
    "data$Classifier.type<-as.factor(data$Classifier.type)\n",
    "data$Coregistration<-as.factor(data$Coregistration)\n",
    "data$Pattern.type<-as.factor(data$Pattern.type)\n",
    "data$Pattern.normalization.type<-as.factor(data$Pattern.normalization.type)\n",
    "data$Resolution_Volume<-as.numeric(data$Resolution_Volume)\n",
    "data$Voxel.numbers<-as.numeric(data$Voxel.numbers)\n",
    "data$Training.setsize<-as.numeric(data$Training.setsize)\n",
    "\n",
    "data<-droplevels(data)"
   ]
  },
  {
   "cell_type": "code",
   "execution_count": 8,
   "metadata": {
    "collapsed": true
   },
   "outputs": [],
   "source": [
    "#unique(data$Classifier.type)"
   ]
  },
  {
   "cell_type": "code",
   "execution_count": 9,
   "metadata": {
    "collapsed": true
   },
   "outputs": [],
   "source": [
    "#data[data$Classifier.type=='svm-nonlin',]"
   ]
  },
  {
   "cell_type": "code",
   "execution_count": 10,
   "metadata": {
    "collapsed": true
   },
   "outputs": [],
   "source": [
    "#hist(data$Resolution_Volume)"
   ]
  },
  {
   "cell_type": "code",
   "execution_count": 11,
   "metadata": {
    "collapsed": true,
    "init_cell": true
   },
   "outputs": [],
   "source": [
    "# subset to significant analyses using 50% as chance \n",
    "\n",
    "data_50<-subset(data,!is.na(Accuracy.50))\n",
    "data_50_non<-subset(data,!is.na(Accuracy.50)& Significance==0)\n",
    "data_50_sig<-subset(data,!is.na(Accuracy.50) & Significance==1)\n",
    "#head(data_50_sig)\n",
    "#nrow(data_50_sig)"
   ]
  },
  {
   "cell_type": "code",
   "execution_count": 12,
   "metadata": {
    "collapsed": true
   },
   "outputs": [],
   "source": [
    "# remove some pairs of regions \n",
    "# # used in a later analysis\n",
    "# R5names = R5names[R5names!='Cingulum_Mid_R']\n",
    "# R5names = R5names[R5names!='Frontal_Mid_R.Frontal_Inf_Tri_L']\n",
    "# R5names = R5names[R5names!='Frontal_Mid_L.Precentral_R']\n",
    "# R5names = R5names[R5names!='Cingulum_Ant_R.Cingulum_Mid_R']\n",
    "# R5names = R5names[R5names!='Frontal_Sup_R.Frontal_Sup_Medial_R  ']\n",
    "# R5names = R5names[R5names!='Frontal_Sup_L.Frontal_Sup_Medial_L']\n",
    "# R5names = R5names[R5names!='Frontal_Inf_Tri_R.Frontal_Inf_Orb_R']\n",
    "# R5names = R5names[R5names!='Frontal_Sup_R.Frontal_Sup_Medial_R']\n",
    "# R5names = R5names[R5names!='Frontal_Inf_Oper_R.Precentral_L']\n",
    "# R5names = R5names[R5names!='Frontal_Inf_Oper_R.Precentral_R']\n",
    "# R5names = R5names[R5names!='Frontal_Mid_R.Frontal_Inf_Tri_R']\n",
    "# R5names = R5names[R5names!='Frontal_Inf_Oper_R.Frontal_Inf_Tri_R']"
   ]
  },
  {
   "cell_type": "code",
   "execution_count": 13,
   "metadata": {},
   "outputs": [
    {
     "name": "stdout",
     "output_type": "stream",
     "text": [
      "[1] \"number of analyses\"\n",
      "[1] 512\n"
     ]
    }
   ],
   "source": [
    "d<-data_50_sig[c('Accuracy.50','PID',factors,R5names)]\n",
    "#d=d[rowSums(d[,R5names])==1,] # remove rows with no region regressor (would have been 2+)\n",
    "print('number of analyses')\n",
    "print(nrow(d))"
   ]
  },
  {
   "cell_type": "code",
   "execution_count": 14,
   "metadata": {},
   "outputs": [
    {
     "name": "stdout",
     "output_type": "stream",
     "text": [
      "[1] \"number of studies\"\n",
      "[1] 75\n"
     ]
    }
   ],
   "source": [
    "print('number of studies')\n",
    "print(nrow(unique(d['PID'])))"
   ]
  },
  {
   "cell_type": "markdown",
   "metadata": {},
   "source": [
    "# Mixed Effects Regression\n",
    "\n",
    "- Parameters werwe estimated using REML. \n",
    "- Each analysis characteristic was regressed separately onto Accuracy. \n",
    "- Random intercepts were used for the study ID.  \n"
   ]
  },
  {
   "cell_type": "code",
   "execution_count": 15,
   "metadata": {
    "collapsed": true
   },
   "outputs": [],
   "source": [
    "# replacing missing values with median and adding indicator variable\n",
    "d['Voxel.numbers.idx'] = as.numeric(is.na(d['Voxel.numbers']))\n",
    "d[is.na(d['Voxel.numbers']),'Voxel.numbers'] = median(d$Voxel.numbers,na.rm=TRUE)\n",
    "\n",
    "d['Training.setsize.idx'] = as.numeric(is.na(d['Training.setsize']))\n",
    "d[is.na(d['Training.setsize']),'Training.setsize'] = median(d$Training.setsize,na.rm=TRUE)\n",
    "\n"
   ]
  },
  {
   "cell_type": "code",
   "execution_count": 16,
   "metadata": {
    "collapsed": true,
    "scrolled": true
   },
   "outputs": [],
   "source": [
    "model_info<-lme(as.formula('Accuracy.50~Info.type'),random=~1|PID,data=d,method='REML')\n",
    "model_rs<-lme(as.formula('Accuracy.50~Roi.Search'),random=~1|PID,data=d,method='REML')\n",
    "model_pt<-lme(as.formula('Accuracy.50~Pattern.type'),random=~1|PID,data=d,method='REML')\n",
    "model_ct<-lme(as.formula('Accuracy.50~Classifier.type'),random=~1|PID,data=d,method='REML')\n",
    "model_sc<-lme(as.formula('Accuracy.50~Scanner'),random=~1|PID,data=d,method='REML')\n",
    "model_sm<-lme(as.formula('Accuracy.50~Smoothing'),random=~1|PID,data=d,method='REML')\n",
    "model_co<-lme(as.formula('Accuracy.50~Coregistration'),random=~1|PID,data=d,method='REML')\n",
    "model_patnorm<-lme(as.formula('Accuracy.50~Pattern.normalization.type'),random=~1|PID,data=d,method='REML')\n",
    "model_n<-lme(as.formula('Accuracy.50~Num_subs'),random=~1|PID,data=d,method='REML')\n",
    "model_res<-lme(as.formula('Accuracy.50~Resolution_Volume'),random=~1|PID,data=d,method='REML')\n",
    "model_vn<-lme(as.formula('Accuracy.50~Voxel.numbers'),random=~1|PID,data=d,method='REML')\n",
    "model_ts<-lme(as.formula('Accuracy.50~Training.setsize'),random=~1|PID,data=d,method='REML')\n",
    "\n",
    "\n"
   ]
  },
  {
   "cell_type": "code",
   "execution_count": 17,
   "metadata": {},
   "outputs": [
    {
     "data": {
      "text/plain": [
       "Linear mixed-effects model fit by REML\n",
       " Data: d \n",
       "        AIC       BIC   logLik\n",
       "  -1390.956 -1374.019 699.4781\n",
       "\n",
       "Random effects:\n",
       " Formula: ~1 | PID\n",
       "        (Intercept)   Residual\n",
       "StdDev:  0.06463623 0.05215988\n",
       "\n",
       "Fixed effects: as.formula(\"Accuracy.50~Num_subs\") \n",
       "                 Value   Std.Error  DF  t-value p-value\n",
       "(Intercept)  0.6155312 0.016153664 437 38.10474  0.0000\n",
       "Num_subs    -0.0008703 0.000760701  73 -1.14412  0.2563\n",
       " Correlation: \n",
       "         (Intr)\n",
       "Num_subs -0.861\n",
       "\n",
       "Standardized Within-Group Residuals:\n",
       "       Min         Q1        Med         Q3        Max \n",
       "-2.3036986 -0.4627789 -0.1459429  0.3375546  4.7898760 \n",
       "\n",
       "Number of Observations: 512\n",
       "Number of Groups: 75 "
      ]
     },
     "metadata": {},
     "output_type": "display_data"
    }
   ],
   "source": [
    "summary(model_n)"
   ]
  },
  {
   "cell_type": "markdown",
   "metadata": {},
   "source": [
    "## Between Study Test"
   ]
  },
  {
   "cell_type": "code",
   "execution_count": 18,
   "metadata": {},
   "outputs": [
    {
     "data": {
      "text/html": [
       "<table>\n",
       "<thead><tr><th></th><th scope=col>PID</th><th scope=col>Accuracy.50</th><th scope=col>Resolution_Volume</th></tr></thead>\n",
       "<tbody>\n",
       "\t<tr><th scope=row>4</th><td>1    </td><td>0.528</td><td>27   </td></tr>\n",
       "\t<tr><th scope=row>9</th><td>1    </td><td>0.535</td><td>27   </td></tr>\n",
       "\t<tr><th scope=row>10</th><td>1    </td><td>0.541</td><td>27   </td></tr>\n",
       "\t<tr><th scope=row>11</th><td>1    </td><td>0.543</td><td>27   </td></tr>\n",
       "\t<tr><th scope=row>12</th><td>1    </td><td>0.593</td><td>27   </td></tr>\n",
       "\t<tr><th scope=row>16</th><td>2    </td><td>0.640</td><td>36   </td></tr>\n",
       "</tbody>\n",
       "</table>\n"
      ],
      "text/latex": [
       "\\begin{tabular}{r|lll}\n",
       "  & PID & Accuracy.50 & Resolution\\_Volume\\\\\n",
       "\\hline\n",
       "\t4 & 1     & 0.528 & 27   \\\\\n",
       "\t9 & 1     & 0.535 & 27   \\\\\n",
       "\t10 & 1     & 0.541 & 27   \\\\\n",
       "\t11 & 1     & 0.543 & 27   \\\\\n",
       "\t12 & 1     & 0.593 & 27   \\\\\n",
       "\t16 & 2     & 0.640 & 36   \\\\\n",
       "\\end{tabular}\n"
      ],
      "text/markdown": [
       "\n",
       "| <!--/--> | PID | Accuracy.50 | Resolution_Volume | \n",
       "|---|---|---|---|---|---|\n",
       "| 4 | 1     | 0.528 | 27    | \n",
       "| 9 | 1     | 0.535 | 27    | \n",
       "| 10 | 1     | 0.541 | 27    | \n",
       "| 11 | 1     | 0.543 | 27    | \n",
       "| 12 | 1     | 0.593 | 27    | \n",
       "| 16 | 2     | 0.640 | 36    | \n",
       "\n",
       "\n"
      ],
      "text/plain": [
       "   PID Accuracy.50 Resolution_Volume\n",
       "4  1   0.528       27               \n",
       "9  1   0.535       27               \n",
       "10 1   0.541       27               \n",
       "11 1   0.543       27               \n",
       "12 1   0.593       27               \n",
       "16 2   0.640       36               "
      ]
     },
     "metadata": {},
     "output_type": "display_data"
    }
   ],
   "source": [
    "#plot(d$Resolution_Volume,d$Accuracy.50)\n",
    "tmp = d[c('PID','Accuracy.50','Resolution_Volume')]\n",
    "head(tmp)"
   ]
  },
  {
   "cell_type": "code",
   "execution_count": 19,
   "metadata": {
    "scrolled": false
   },
   "outputs": [
    {
     "data": {
      "text/html": [
       "<table>\n",
       "<thead><tr><th scope=col>Group.1</th><th scope=col>Accuracy.50</th><th scope=col>Resolution_Volume</th></tr></thead>\n",
       "<tbody>\n",
       "\t<tr><td>1     </td><td>0.5480</td><td>27    </td></tr>\n",
       "\t<tr><td>2     </td><td>0.6400</td><td>36    </td></tr>\n",
       "\t<tr><td>5     </td><td>0.5250</td><td>27    </td></tr>\n",
       "\t<tr><td>6     </td><td>0.5875</td><td>18    </td></tr>\n",
       "\t<tr><td>7     </td><td>0.5650</td><td>27    </td></tr>\n",
       "\t<tr><td>8     </td><td>0.5650</td><td>27    </td></tr>\n",
       "</tbody>\n",
       "</table>\n"
      ],
      "text/latex": [
       "\\begin{tabular}{r|lll}\n",
       " Group.1 & Accuracy.50 & Resolution\\_Volume\\\\\n",
       "\\hline\n",
       "\t 1      & 0.5480 & 27    \\\\\n",
       "\t 2      & 0.6400 & 36    \\\\\n",
       "\t 5      & 0.5250 & 27    \\\\\n",
       "\t 6      & 0.5875 & 18    \\\\\n",
       "\t 7      & 0.5650 & 27    \\\\\n",
       "\t 8      & 0.5650 & 27    \\\\\n",
       "\\end{tabular}\n"
      ],
      "text/markdown": [
       "\n",
       "Group.1 | Accuracy.50 | Resolution_Volume | \n",
       "|---|---|---|---|---|---|\n",
       "| 1      | 0.5480 | 27     | \n",
       "| 2      | 0.6400 | 36     | \n",
       "| 5      | 0.5250 | 27     | \n",
       "| 6      | 0.5875 | 18     | \n",
       "| 7      | 0.5650 | 27     | \n",
       "| 8      | 0.5650 | 27     | \n",
       "\n",
       "\n"
      ],
      "text/plain": [
       "  Group.1 Accuracy.50 Resolution_Volume\n",
       "1 1       0.5480      27               \n",
       "2 2       0.6400      36               \n",
       "3 5       0.5250      27               \n",
       "4 6       0.5875      18               \n",
       "5 7       0.5650      27               \n",
       "6 8       0.5650      27               "
      ]
     },
     "metadata": {},
     "output_type": "display_data"
    }
   ],
   "source": [
    "agg_df = aggregate(tmp[c(\"Accuracy.50\",\"Resolution_Volume\")],FUN=mean,by=list(tmp$PID))\n",
    "head(agg_df)"
   ]
  },
  {
   "cell_type": "code",
   "execution_count": 20,
   "metadata": {},
   "outputs": [
    {
     "data": {
      "text/plain": [
       "\n",
       "Call:\n",
       "lm(formula = as.formula(\"Accuracy.50~Resolution_Volume\"), data = agg_df)\n",
       "\n",
       "Residuals:\n",
       "     Min       1Q   Median       3Q      Max \n",
       "-0.08766 -0.04827 -0.01437  0.01552  0.22626 \n",
       "\n",
       "Coefficients:\n",
       "                   Estimate Std. Error t value Pr(>|t|)    \n",
       "(Intercept)       0.5944557  0.0177715  33.450   <2e-16 ***\n",
       "Resolution_Volume 0.0001186  0.0006330   0.187    0.852    \n",
       "---\n",
       "Signif. codes:  0 ‘***’ 0.001 ‘**’ 0.01 ‘*’ 0.05 ‘.’ 0.1 ‘ ’ 1\n",
       "\n",
       "Residual standard error: 0.07102 on 73 degrees of freedom\n",
       "Multiple R-squared:  0.0004803,\tAdjusted R-squared:  -0.01321 \n",
       "F-statistic: 0.03508 on 1 and 73 DF,  p-value: 0.852\n"
      ]
     },
     "metadata": {},
     "output_type": "display_data"
    }
   ],
   "source": [
    "summary(lm(as.formula('Accuracy.50~Resolution_Volume'),data=agg_df))\n"
   ]
  },
  {
   "cell_type": "code",
   "execution_count": 21,
   "metadata": {
    "collapsed": true
   },
   "outputs": [],
   "source": [
    "#plot(agg_df$Resolution_Volume,agg_df$Accuracy.50,)"
   ]
  },
  {
   "cell_type": "code",
   "execution_count": 22,
   "metadata": {
    "collapsed": true
   },
   "outputs": [],
   "source": [
    "#summary(model_pt)"
   ]
  },
  {
   "cell_type": "code",
   "execution_count": 23,
   "metadata": {
    "collapsed": true
   },
   "outputs": [],
   "source": [
    "#lsmeans(model_pt,pairwise~Pattern.type,adjust='Tukey')\n"
   ]
  },
  {
   "cell_type": "markdown",
   "metadata": {},
   "source": [
    "# Plotting Model Coefficient\n",
    "- Effects plots were created for each coefficient. \n",
    "- These are created by taking the average value that each factor takes on, multiplying by its corresponding beta, and adding the intercept. \n",
    "- For continuous regressors like resolution (voxel volume), values that somewhat evenly span the range are chosen by the effects package. "
   ]
  },
  {
   "cell_type": "code",
   "execution_count": 24,
   "metadata": {
    "collapsed": true
   },
   "outputs": [],
   "source": [
    "## Get all data into table\n",
    "\n",
    "feature='Smoothing'\n",
    "dd<-data.frame(effect(feature,model_sm))\n",
    "dd$Accuracy<-dd$fit\n",
    "dd$Smoothing<-dd[,feature]\n",
    "colnames(dd)<-c('B','fit','se','lower','upper','Accuracy')\n",
    "dd_all<-dd\n",
    "\n",
    "feature='Info.type'\n",
    "dd<-data.frame(effect(feature,model_info))\n",
    "dd$Accuracy<-dd$fit\n",
    "dd$Info.type<-dd[,feature]\n",
    "colnames(dd)<-c('B','fit','se','lower','upper','Accuracy')\n",
    "dd_all<-rbind(dd_all,dd)\n",
    "\n",
    "feature='Roi.Search'\n",
    "dd<-data.frame(effect(feature,model_rs))\n",
    "dd$Accuracy<-dd$fit\n",
    "dd$Roi_or_Searchlight<-dd[,feature]\n",
    "colnames(dd)<-c('B','fit','se','lower','upper','Accuracy')\n",
    "dd_all<-rbind(dd_all,dd[,1:6])\n",
    "\n",
    "feature='Classifier.type'\n",
    "dd<-data.frame(effect(feature,model_ct))\n",
    "dd$Accuracy<-dd$fit\n",
    "dd$Classifier.type<-dd[,feature]\n",
    "colnames(dd)<-c('B','fit','se','lower','upper','Accuracy')\n",
    "dd_all<-rbind(dd_all,dd)\n",
    "\n",
    "feature='Scanner'\n",
    "dd<-data.frame(effect(feature,model_sc))\n",
    "dd$Accuracy<-dd$fit\n",
    "dd$Scanner.strength<-dd[,feature]\n",
    "colnames(dd)<-c('B','fit','se','lower','upper','Accuracy')\n",
    "dd_all<-rbind(dd_all,dd[,1:6])\n",
    "\n",
    "feature='Coregistration'\n",
    "dd<-data.frame(effect(feature,model_co))\n",
    "dd$Accuracy<-dd$fit\n",
    "dd$Coregistrated<-dd[,feature]\n",
    "colnames(dd)<-c('B','fit','se','lower','upper','Accuracy')\n",
    "dd_all<-rbind(dd_all,dd[,1:6])\n",
    "\n",
    "feature='Pattern.normalization.type'\n",
    "dd<-data.frame(effect(feature,model_patnorm))\n",
    "dd$Accuracy<-dd$fit\n",
    "dd$Pattern.normalization.type<-dd[,feature]\n",
    "colnames(dd)<-c('B','fit','se','lower','upper','Accuracy')\n",
    "dd_all<-rbind(dd_all,dd[,1:6])\n",
    "\n",
    "feature='Num_subs'\n",
    "dd<-data.frame(effect(feature,model_n))\n",
    "dd$Accuracy<-dd$fit\n",
    "dd$Feature<-dd[,feature]\n",
    "colnames(dd)<-c('B','fit','se','lower','upper','Accuracy')\n",
    "dd$B<-as.character(lapply(dd$B,function(x){paste('n',x,sep='')}))\n",
    "dd$B<-as.factor(dd$B)\n",
    "dd_all<-rbind(dd_all,dd[,1:6])\n",
    "\n",
    "feature='Pattern.type'\n",
    "dd<-data.frame(effect(feature,model_pt))\n",
    "dd$Accuracy<-dd$fit\n",
    "dd$Pattern.normalization.type<-dd[,feature]\n",
    "colnames(dd)<-c('B','fit','se','lower','upper','Accuracy')\n",
    "dd_all<-rbind(dd_all,dd[,1:6])\n",
    "\n",
    "feature='Resolution_Volume'\n",
    "dd<-data.frame(effect(feature,model_res))\n",
    "dd$Accuracy<-dd$fit\n",
    "dd$Resolution_Volume<-dd[,feature]\n",
    "colnames(dd)<-c('B','fit','se','lower','upper','Accuracy')\n",
    "dd$B<-as.character(lapply(dd$B,function(x){paste(x,'mm^3',sep='')}))\n",
    "dd$B<-as.factor(dd$B)\n",
    "dd_all<-rbind(dd_all,dd[,1:6])\n",
    "\n",
    "feature='Voxel.numbers'\n",
    "dd<-data.frame(effect(feature,model_vn,xlevels=list(Voxel.numbers=c(20,100,500,2500,12500))))\n",
    "#dd<-data.frame(effect(feature,full_model,xlevels=list(Voxel.numbers=c(100,500,1000,5000))))\n",
    "dd$Accuracy<-dd$fit\n",
    "dd$Feature<-dd[,feature]\n",
    "colnames(dd)<-c('B','fit','se','lower','upper','Accuracy')\n",
    "dd$B<-as.character(dd$B)\n",
    "add_name <-function(n){return(paste(n,'nvoxels',sep=''))}\n",
    "dd$B<-unlist(lapply(dd$B,add_name))\n",
    "dd$B<-as.factor(dd$B)\n",
    "dd_all<-rbind(dd_all,dd[,1:6])\n",
    "\n",
    "feature='Training.setsize'\n",
    "dd<-data.frame(effect(feature,model_ts,xlevels=list(Training.setsize=c(20,40,80,160,320))))\n",
    "#dd<-data.frame(effect(feature,full_model,xlevels=list(Training.setsize=c(20,40,80,160))))\n",
    "dd$Accuracy<-dd$fit\n",
    "dd$Feature<-dd[,feature]\n",
    "colnames(dd)<-c('B','fit','se','lower','upper','Accuracy')\n",
    "dd$B<-as.character(dd$B)\n",
    "add_name <-function(n){return(paste(n,'#patterns',sep=''))}\n",
    "dd$B<-unlist(lapply(dd$B,add_name))\n",
    "#dd$B[dd$B=='8mm^3']='21mm^3' # just to get in the right order\n",
    "dd$B<-as.factor(dd$B)\n",
    "dd_all<-rbind(dd_all,dd[,1:6])\n",
    "\n",
    "#dd_all$B<-as.factor(as.character(dd_all$B)) # change to factor"
   ]
  },
  {
   "cell_type": "code",
   "execution_count": 25,
   "metadata": {
    "collapsed": true
   },
   "outputs": [],
   "source": [
    "dd_all['i']=seq(nrow(dd_all))"
   ]
  },
  {
   "cell_type": "code",
   "execution_count": 26,
   "metadata": {},
   "outputs": [
    {
     "data": {
      "text/html": [
       "<table>\n",
       "<thead><tr><th></th><th scope=col>B</th><th scope=col>fit</th><th scope=col>se</th><th scope=col>lower</th><th scope=col>upper</th><th scope=col>Accuracy</th><th scope=col>i</th></tr></thead>\n",
       "<tbody>\n",
       "\t<tr><th scope=row>1</th><td>smoothed                      </td><td>0.6046296                     </td><td>0.017378481                   </td><td>0.5704874                     </td><td>0.6387719                     </td><td>0.6046296                     </td><td> 1                            </td></tr>\n",
       "\t<tr><th scope=row>2</th><td>unsmooth                      </td><td>0.5980914                     </td><td>0.009428301                   </td><td>0.5795683                     </td><td>0.6166145                     </td><td>0.5980914                     </td><td> 2                            </td></tr>\n",
       "\t<tr><th scope=row>11</th><td>Perceptual                    </td><td>0.5983297                     </td><td>0.012763383                   </td><td>0.5732542                     </td><td>0.6234052                     </td><td>0.5983297                     </td><td> 3                            </td></tr>\n",
       "\t<tr><th scope=row>21</th><td>Response                      </td><td>0.6102676                     </td><td>0.016867295                   </td><td>0.5771294                     </td><td>0.6434059                     </td><td>0.6102676                     </td><td> 4                            </td></tr>\n",
       "\t<tr><th scope=row>3</th><td>Rule                          </td><td>0.5957629                     </td><td>0.011241833                   </td><td>0.5736767                     </td><td>0.6178491                     </td><td>0.5957629                     </td><td> 5                            </td></tr>\n",
       "\t<tr><th scope=row>4</th><td>Value                         </td><td>0.6031845                     </td><td>0.019217449                   </td><td>0.5654290                     </td><td>0.6409399                     </td><td>0.6031845                     </td><td> 6                            </td></tr>\n",
       "\t<tr><th scope=row>12</th><td>ROI                           </td><td>0.5967418                     </td><td>0.009421791                   </td><td>0.5782315                     </td><td>0.6152521                     </td><td>0.5967418                     </td><td> 7                            </td></tr>\n",
       "\t<tr><th scope=row>22</th><td>Searchlight Peak              </td><td>0.6055999                     </td><td>0.012629370                   </td><td>0.5807879                     </td><td>0.6304119                     </td><td>0.6055999                     </td><td> 8                            </td></tr>\n",
       "\t<tr><th scope=row>13</th><td>correlation                   </td><td>0.7342857                     </td><td>0.060518640                   </td><td>0.6153870                     </td><td>0.8531845                     </td><td>0.7342857                     </td><td> 9                            </td></tr>\n",
       "\t<tr><th scope=row>23</th><td>GNB                           </td><td>0.6090518                     </td><td>0.035087917                   </td><td>0.5401159                     </td><td>0.6779878                     </td><td>0.6090518                     </td><td>10                            </td></tr>\n",
       "\t<tr><th scope=row>31</th><td>LDA                           </td><td>0.6070217                     </td><td>0.048285027                   </td><td>0.5121579                     </td><td>0.7018855                     </td><td>0.6070217                     </td><td>11                            </td></tr>\n",
       "\t<tr><th scope=row>41</th><td>LogReg                        </td><td>0.5707321                     </td><td>0.022260588                   </td><td>0.5269976                     </td><td>0.6144667                     </td><td>0.5707321                     </td><td>12                            </td></tr>\n",
       "\t<tr><th scope=row>5</th><td>svm-lin                       </td><td>0.5920323                     </td><td>0.008555111                   </td><td>0.5752244                     </td><td>0.6088402                     </td><td>0.5920323                     </td><td>13                            </td></tr>\n",
       "\t<tr><th scope=row>6</th><td>svm-nonlin                    </td><td>0.7242490                     </td><td>0.031956629                   </td><td>0.6614650                     </td><td>0.7870330                     </td><td>0.7242490                     </td><td>14                            </td></tr>\n",
       "\t<tr><th scope=row>14</th><td>3T                            </td><td>0.5999049                     </td><td>0.008303603                   </td><td>0.5835914                     </td><td>0.6162183                     </td><td>0.5999049                     </td><td>15                            </td></tr>\n",
       "\t<tr><th scope=row>24</th><td>7T                            </td><td>0.5899098                     </td><td>0.028419054                   </td><td>0.5340770                     </td><td>0.6457426                     </td><td>0.5899098                     </td><td>16                            </td></tr>\n",
       "\t<tr><th scope=row>15</th><td>coregistered                  </td><td>0.5998205                     </td><td>0.010363340                   </td><td>0.5794604                     </td><td>0.6201806                     </td><td>0.5998205                     </td><td>17                            </td></tr>\n",
       "\t<tr><th scope=row>25</th><td>Native Space                  </td><td>0.5991438                     </td><td>0.013817576                   </td><td>0.5719974                     </td><td>0.6262901                     </td><td>0.5991438                     </td><td>18                            </td></tr>\n",
       "\t<tr><th scope=row>16</th><td>None                          </td><td>0.6019171                     </td><td>0.011159971                   </td><td>0.5799919                     </td><td>0.6238424                     </td><td>0.6019171                     </td><td>19                            </td></tr>\n",
       "\t<tr><th scope=row>26</th><td>Normalized Spatially          </td><td>0.5855799                     </td><td>0.025406350                   </td><td>0.5356657                     </td><td>0.6354941                     </td><td>0.5855799                     </td><td>20                            </td></tr>\n",
       "\t<tr><th scope=row>32</th><td>Normalized Temporally         </td><td>0.6003648                     </td><td>0.012557818                   </td><td>0.5756933                     </td><td>0.6250364                     </td><td>0.6003648                     </td><td>21                            </td></tr>\n",
       "\t<tr><th scope=row>17</th><td>n6                            </td><td>0.6103092                     </td><td>0.012441262                   </td><td>0.5858668                     </td><td>0.6347516                     </td><td>0.6103092                     </td><td>22                            </td></tr>\n",
       "\t<tr><th scope=row>27</th><td>n20                           </td><td>0.5981245                     </td><td>0.008313524                   </td><td>0.5817916                     </td><td>0.6144575                     </td><td>0.5981245                     </td><td>23                            </td></tr>\n",
       "\t<tr><th scope=row>33</th><td>n40                           </td><td>0.5807179                     </td><td>0.018445102                   </td><td>0.5444801                     </td><td>0.6169556                     </td><td>0.5807179                     </td><td>24                            </td></tr>\n",
       "\t<tr><th scope=row>42</th><td>n50                           </td><td>0.5720145                     </td><td>0.025482844                   </td><td>0.5219503                     </td><td>0.6220788                     </td><td>0.5720145                     </td><td>25                            </td></tr>\n",
       "\t<tr><th scope=row>51</th><td>n70                           </td><td>0.5546078                     </td><td>0.040185600                   </td><td>0.4756582                     </td><td>0.6335575                     </td><td>0.5546078                     </td><td>26                            </td></tr>\n",
       "\t<tr><th scope=row>18</th><td>Multi-Trial Multi-Time Point  </td><td>0.6334852                     </td><td>0.012955235                   </td><td>0.6080328                     </td><td>0.6589376                     </td><td>0.6334852                     </td><td>27                            </td></tr>\n",
       "\t<tr><th scope=row>28</th><td>Multi-Trial Single-Time Point </td><td>0.5582467                     </td><td>0.023603636                   </td><td>0.5118739                     </td><td>0.6046195                     </td><td>0.5582467                     </td><td>28                            </td></tr>\n",
       "\t<tr><th scope=row>34</th><td>Single Trial Multi-Time Point </td><td>0.5848235                     </td><td>0.012847826                   </td><td>0.5595821                     </td><td>0.6100649                     </td><td>0.5848235                     </td><td>29                            </td></tr>\n",
       "\t<tr><th scope=row>43</th><td>Single Trial Single-Time Point</td><td>0.5866070                     </td><td>0.019429418                   </td><td>0.5484351                     </td><td>0.6247789                     </td><td>0.5866070                     </td><td>30                            </td></tr>\n",
       "\t<tr><th scope=row>19</th><td>1mm^3                         </td><td>0.6020075                     </td><td>0.017645686                   </td><td>0.5673404                     </td><td>0.6366747                     </td><td>0.6020075                     </td><td>31                            </td></tr>\n",
       "\t<tr><th scope=row>29</th><td>20mm^3                        </td><td>0.6000882                     </td><td>0.008899310                   </td><td>0.5826043                     </td><td>0.6175720                     </td><td>0.6000882                     </td><td>32                            </td></tr>\n",
       "\t<tr><th scope=row>35</th><td>30mm^3                        </td><td>0.5990779                     </td><td>0.008890608                   </td><td>0.5816112                     </td><td>0.6165447                     </td><td>0.5990779                     </td><td>33                            </td></tr>\n",
       "\t<tr><th scope=row>44</th><td>50mm^3                        </td><td>0.5970575                     </td><td>0.018199792                   </td><td>0.5613017                     </td><td>0.6328133                     </td><td>0.5970575                     </td><td>34                            </td></tr>\n",
       "\t<tr><th scope=row>52</th><td>60mm^3                        </td><td>0.5960473                     </td><td>0.024157333                   </td><td>0.5485872                     </td><td>0.6435074                     </td><td>0.5960473                     </td><td>35                            </td></tr>\n",
       "\t<tr><th scope=row>110</th><td>20nvoxels                     </td><td>0.5988712                     </td><td>0.008280972                   </td><td>0.5826022                     </td><td>0.6151403                     </td><td>0.5988712                     </td><td>36                            </td></tr>\n",
       "\t<tr><th scope=row>210</th><td>100nvoxels                    </td><td>0.5989789                     </td><td>0.008272862                   </td><td>0.5827258                     </td><td>0.6152320                     </td><td>0.5989789                     </td><td>37                            </td></tr>\n",
       "\t<tr><th scope=row>36</th><td>500nvoxels                    </td><td>0.5995173                     </td><td>0.008251870                   </td><td>0.5833055                     </td><td>0.6157291                     </td><td>0.5995173                     </td><td>38                            </td></tr>\n",
       "\t<tr><th scope=row>45</th><td>2500nvoxels                   </td><td>0.6022092                     </td><td>0.008629579                   </td><td>0.5852553                     </td><td>0.6191631                     </td><td>0.6022092                     </td><td>39                            </td></tr>\n",
       "\t<tr><th scope=row>53</th><td>12500nvoxels                  </td><td>0.6156688                     </td><td>0.017581734                   </td><td>0.5811273                     </td><td>0.6502103                     </td><td>0.6156688                     </td><td>40                            </td></tr>\n",
       "\t<tr><th scope=row>111</th><td>20#patterns                   </td><td>0.6041349                     </td><td>0.009311940                   </td><td>0.5858404                     </td><td>0.6224294                     </td><td>0.6041349                     </td><td>41                            </td></tr>\n",
       "\t<tr><th scope=row>211</th><td>40#patterns                   </td><td>0.6026987                     </td><td>0.008721726                   </td><td>0.5855638                     </td><td>0.6198337                     </td><td>0.6026987                     </td><td>42                            </td></tr>\n",
       "\t<tr><th scope=row>37</th><td>80#patterns                   </td><td>0.5998264                     </td><td>0.008179701                   </td><td>0.5837563                     </td><td>0.6158965                     </td><td>0.5998264                     </td><td>43                            </td></tr>\n",
       "\t<tr><th scope=row>46</th><td>160#patterns                  </td><td>0.5940817                     </td><td>0.009853484                   </td><td>0.5747233                     </td><td>0.6134401                     </td><td>0.5940817                     </td><td>44                            </td></tr>\n",
       "\t<tr><th scope=row>54</th><td>320#patterns                  </td><td>0.5825924                     </td><td>0.018747827                   </td><td>0.5457599                     </td><td>0.6194249                     </td><td>0.5825924                     </td><td>45                            </td></tr>\n",
       "</tbody>\n",
       "</table>\n"
      ],
      "text/latex": [
       "\\begin{tabular}{r|lllllll}\n",
       "  & B & fit & se & lower & upper & Accuracy & i\\\\\n",
       "\\hline\n",
       "\t1 & smoothed                       & 0.6046296                      & 0.017378481                    & 0.5704874                      & 0.6387719                      & 0.6046296                      &  1                            \\\\\n",
       "\t2 & unsmooth                       & 0.5980914                      & 0.009428301                    & 0.5795683                      & 0.6166145                      & 0.5980914                      &  2                            \\\\\n",
       "\t11 & Perceptual                     & 0.5983297                      & 0.012763383                    & 0.5732542                      & 0.6234052                      & 0.5983297                      &  3                            \\\\\n",
       "\t21 & Response                       & 0.6102676                      & 0.016867295                    & 0.5771294                      & 0.6434059                      & 0.6102676                      &  4                            \\\\\n",
       "\t3 & Rule                           & 0.5957629                      & 0.011241833                    & 0.5736767                      & 0.6178491                      & 0.5957629                      &  5                            \\\\\n",
       "\t4 & Value                          & 0.6031845                      & 0.019217449                    & 0.5654290                      & 0.6409399                      & 0.6031845                      &  6                            \\\\\n",
       "\t12 & ROI                            & 0.5967418                      & 0.009421791                    & 0.5782315                      & 0.6152521                      & 0.5967418                      &  7                            \\\\\n",
       "\t22 & Searchlight Peak               & 0.6055999                      & 0.012629370                    & 0.5807879                      & 0.6304119                      & 0.6055999                      &  8                            \\\\\n",
       "\t13 & correlation                    & 0.7342857                      & 0.060518640                    & 0.6153870                      & 0.8531845                      & 0.7342857                      &  9                            \\\\\n",
       "\t23 & GNB                            & 0.6090518                      & 0.035087917                    & 0.5401159                      & 0.6779878                      & 0.6090518                      & 10                            \\\\\n",
       "\t31 & LDA                            & 0.6070217                      & 0.048285027                    & 0.5121579                      & 0.7018855                      & 0.6070217                      & 11                            \\\\\n",
       "\t41 & LogReg                         & 0.5707321                      & 0.022260588                    & 0.5269976                      & 0.6144667                      & 0.5707321                      & 12                            \\\\\n",
       "\t5 & svm-lin                        & 0.5920323                      & 0.008555111                    & 0.5752244                      & 0.6088402                      & 0.5920323                      & 13                            \\\\\n",
       "\t6 & svm-nonlin                     & 0.7242490                      & 0.031956629                    & 0.6614650                      & 0.7870330                      & 0.7242490                      & 14                            \\\\\n",
       "\t14 & 3T                             & 0.5999049                      & 0.008303603                    & 0.5835914                      & 0.6162183                      & 0.5999049                      & 15                            \\\\\n",
       "\t24 & 7T                             & 0.5899098                      & 0.028419054                    & 0.5340770                      & 0.6457426                      & 0.5899098                      & 16                            \\\\\n",
       "\t15 & coregistered                   & 0.5998205                      & 0.010363340                    & 0.5794604                      & 0.6201806                      & 0.5998205                      & 17                            \\\\\n",
       "\t25 & Native Space                   & 0.5991438                      & 0.013817576                    & 0.5719974                      & 0.6262901                      & 0.5991438                      & 18                            \\\\\n",
       "\t16 & None                           & 0.6019171                      & 0.011159971                    & 0.5799919                      & 0.6238424                      & 0.6019171                      & 19                            \\\\\n",
       "\t26 & Normalized Spatially           & 0.5855799                      & 0.025406350                    & 0.5356657                      & 0.6354941                      & 0.5855799                      & 20                            \\\\\n",
       "\t32 & Normalized Temporally          & 0.6003648                      & 0.012557818                    & 0.5756933                      & 0.6250364                      & 0.6003648                      & 21                            \\\\\n",
       "\t17 & n6                             & 0.6103092                      & 0.012441262                    & 0.5858668                      & 0.6347516                      & 0.6103092                      & 22                            \\\\\n",
       "\t27 & n20                            & 0.5981245                      & 0.008313524                    & 0.5817916                      & 0.6144575                      & 0.5981245                      & 23                            \\\\\n",
       "\t33 & n40                            & 0.5807179                      & 0.018445102                    & 0.5444801                      & 0.6169556                      & 0.5807179                      & 24                            \\\\\n",
       "\t42 & n50                            & 0.5720145                      & 0.025482844                    & 0.5219503                      & 0.6220788                      & 0.5720145                      & 25                            \\\\\n",
       "\t51 & n70                            & 0.5546078                      & 0.040185600                    & 0.4756582                      & 0.6335575                      & 0.5546078                      & 26                            \\\\\n",
       "\t18 & Multi-Trial Multi-Time Point   & 0.6334852                      & 0.012955235                    & 0.6080328                      & 0.6589376                      & 0.6334852                      & 27                            \\\\\n",
       "\t28 & Multi-Trial Single-Time Point  & 0.5582467                      & 0.023603636                    & 0.5118739                      & 0.6046195                      & 0.5582467                      & 28                            \\\\\n",
       "\t34 & Single Trial Multi-Time Point  & 0.5848235                      & 0.012847826                    & 0.5595821                      & 0.6100649                      & 0.5848235                      & 29                            \\\\\n",
       "\t43 & Single Trial Single-Time Point & 0.5866070                      & 0.019429418                    & 0.5484351                      & 0.6247789                      & 0.5866070                      & 30                            \\\\\n",
       "\t19 & 1mm\\textasciicircum{}3                          & 0.6020075                                        & 0.017645686                                      & 0.5673404                                        & 0.6366747                                        & 0.6020075                                        & 31                                              \\\\\n",
       "\t29 & 20mm\\textasciicircum{}3                         & 0.6000882                                        & 0.008899310                                      & 0.5826043                                        & 0.6175720                                        & 0.6000882                                        & 32                                              \\\\\n",
       "\t35 & 30mm\\textasciicircum{}3                         & 0.5990779                                        & 0.008890608                                      & 0.5816112                                        & 0.6165447                                        & 0.5990779                                        & 33                                              \\\\\n",
       "\t44 & 50mm\\textasciicircum{}3                         & 0.5970575                                        & 0.018199792                                      & 0.5613017                                        & 0.6328133                                        & 0.5970575                                        & 34                                              \\\\\n",
       "\t52 & 60mm\\textasciicircum{}3                         & 0.5960473                                        & 0.024157333                                      & 0.5485872                                        & 0.6435074                                        & 0.5960473                                        & 35                                              \\\\\n",
       "\t110 & 20nvoxels                      & 0.5988712                      & 0.008280972                    & 0.5826022                      & 0.6151403                      & 0.5988712                      & 36                            \\\\\n",
       "\t210 & 100nvoxels                     & 0.5989789                      & 0.008272862                    & 0.5827258                      & 0.6152320                      & 0.5989789                      & 37                            \\\\\n",
       "\t36 & 500nvoxels                     & 0.5995173                      & 0.008251870                    & 0.5833055                      & 0.6157291                      & 0.5995173                      & 38                            \\\\\n",
       "\t45 & 2500nvoxels                    & 0.6022092                      & 0.008629579                    & 0.5852553                      & 0.6191631                      & 0.6022092                      & 39                            \\\\\n",
       "\t53 & 12500nvoxels                   & 0.6156688                      & 0.017581734                    & 0.5811273                      & 0.6502103                      & 0.6156688                      & 40                            \\\\\n",
       "\t111 & 20\\#patterns                    & 0.6041349                        & 0.009311940                      & 0.5858404                        & 0.6224294                        & 0.6041349                        & 41                              \\\\\n",
       "\t211 & 40\\#patterns                    & 0.6026987                        & 0.008721726                      & 0.5855638                        & 0.6198337                        & 0.6026987                        & 42                              \\\\\n",
       "\t37 & 80\\#patterns                    & 0.5998264                        & 0.008179701                      & 0.5837563                        & 0.6158965                        & 0.5998264                        & 43                              \\\\\n",
       "\t46 & 160\\#patterns                   & 0.5940817                        & 0.009853484                      & 0.5747233                        & 0.6134401                        & 0.5940817                        & 44                              \\\\\n",
       "\t54 & 320\\#patterns                   & 0.5825924                        & 0.018747827                      & 0.5457599                        & 0.6194249                        & 0.5825924                        & 45                              \\\\\n",
       "\\end{tabular}\n"
      ],
      "text/markdown": [
       "\n",
       "| <!--/--> | B | fit | se | lower | upper | Accuracy | i | \n",
       "|---|---|---|---|---|---|---|---|---|---|---|---|---|---|---|---|---|---|---|---|---|---|---|---|---|---|---|---|---|---|---|---|---|---|---|---|---|---|---|---|---|---|---|---|---|\n",
       "| 1 | smoothed                       | 0.6046296                      | 0.017378481                    | 0.5704874                      | 0.6387719                      | 0.6046296                      |  1                             | \n",
       "| 2 | unsmooth                       | 0.5980914                      | 0.009428301                    | 0.5795683                      | 0.6166145                      | 0.5980914                      |  2                             | \n",
       "| 11 | Perceptual                     | 0.5983297                      | 0.012763383                    | 0.5732542                      | 0.6234052                      | 0.5983297                      |  3                             | \n",
       "| 21 | Response                       | 0.6102676                      | 0.016867295                    | 0.5771294                      | 0.6434059                      | 0.6102676                      |  4                             | \n",
       "| 3 | Rule                           | 0.5957629                      | 0.011241833                    | 0.5736767                      | 0.6178491                      | 0.5957629                      |  5                             | \n",
       "| 4 | Value                          | 0.6031845                      | 0.019217449                    | 0.5654290                      | 0.6409399                      | 0.6031845                      |  6                             | \n",
       "| 12 | ROI                            | 0.5967418                      | 0.009421791                    | 0.5782315                      | 0.6152521                      | 0.5967418                      |  7                             | \n",
       "| 22 | Searchlight Peak               | 0.6055999                      | 0.012629370                    | 0.5807879                      | 0.6304119                      | 0.6055999                      |  8                             | \n",
       "| 13 | correlation                    | 0.7342857                      | 0.060518640                    | 0.6153870                      | 0.8531845                      | 0.7342857                      |  9                             | \n",
       "| 23 | GNB                            | 0.6090518                      | 0.035087917                    | 0.5401159                      | 0.6779878                      | 0.6090518                      | 10                             | \n",
       "| 31 | LDA                            | 0.6070217                      | 0.048285027                    | 0.5121579                      | 0.7018855                      | 0.6070217                      | 11                             | \n",
       "| 41 | LogReg                         | 0.5707321                      | 0.022260588                    | 0.5269976                      | 0.6144667                      | 0.5707321                      | 12                             | \n",
       "| 5 | svm-lin                        | 0.5920323                      | 0.008555111                    | 0.5752244                      | 0.6088402                      | 0.5920323                      | 13                             | \n",
       "| 6 | svm-nonlin                     | 0.7242490                      | 0.031956629                    | 0.6614650                      | 0.7870330                      | 0.7242490                      | 14                             | \n",
       "| 14 | 3T                             | 0.5999049                      | 0.008303603                    | 0.5835914                      | 0.6162183                      | 0.5999049                      | 15                             | \n",
       "| 24 | 7T                             | 0.5899098                      | 0.028419054                    | 0.5340770                      | 0.6457426                      | 0.5899098                      | 16                             | \n",
       "| 15 | coregistered                   | 0.5998205                      | 0.010363340                    | 0.5794604                      | 0.6201806                      | 0.5998205                      | 17                             | \n",
       "| 25 | Native Space                   | 0.5991438                      | 0.013817576                    | 0.5719974                      | 0.6262901                      | 0.5991438                      | 18                             | \n",
       "| 16 | None                           | 0.6019171                      | 0.011159971                    | 0.5799919                      | 0.6238424                      | 0.6019171                      | 19                             | \n",
       "| 26 | Normalized Spatially           | 0.5855799                      | 0.025406350                    | 0.5356657                      | 0.6354941                      | 0.5855799                      | 20                             | \n",
       "| 32 | Normalized Temporally          | 0.6003648                      | 0.012557818                    | 0.5756933                      | 0.6250364                      | 0.6003648                      | 21                             | \n",
       "| 17 | n6                             | 0.6103092                      | 0.012441262                    | 0.5858668                      | 0.6347516                      | 0.6103092                      | 22                             | \n",
       "| 27 | n20                            | 0.5981245                      | 0.008313524                    | 0.5817916                      | 0.6144575                      | 0.5981245                      | 23                             | \n",
       "| 33 | n40                            | 0.5807179                      | 0.018445102                    | 0.5444801                      | 0.6169556                      | 0.5807179                      | 24                             | \n",
       "| 42 | n50                            | 0.5720145                      | 0.025482844                    | 0.5219503                      | 0.6220788                      | 0.5720145                      | 25                             | \n",
       "| 51 | n70                            | 0.5546078                      | 0.040185600                    | 0.4756582                      | 0.6335575                      | 0.5546078                      | 26                             | \n",
       "| 18 | Multi-Trial Multi-Time Point   | 0.6334852                      | 0.012955235                    | 0.6080328                      | 0.6589376                      | 0.6334852                      | 27                             | \n",
       "| 28 | Multi-Trial Single-Time Point  | 0.5582467                      | 0.023603636                    | 0.5118739                      | 0.6046195                      | 0.5582467                      | 28                             | \n",
       "| 34 | Single Trial Multi-Time Point  | 0.5848235                      | 0.012847826                    | 0.5595821                      | 0.6100649                      | 0.5848235                      | 29                             | \n",
       "| 43 | Single Trial Single-Time Point | 0.5866070                      | 0.019429418                    | 0.5484351                      | 0.6247789                      | 0.5866070                      | 30                             | \n",
       "| 19 | 1mm^3                          | 0.6020075                      | 0.017645686                    | 0.5673404                      | 0.6366747                      | 0.6020075                      | 31                             | \n",
       "| 29 | 20mm^3                         | 0.6000882                      | 0.008899310                    | 0.5826043                      | 0.6175720                      | 0.6000882                      | 32                             | \n",
       "| 35 | 30mm^3                         | 0.5990779                      | 0.008890608                    | 0.5816112                      | 0.6165447                      | 0.5990779                      | 33                             | \n",
       "| 44 | 50mm^3                         | 0.5970575                      | 0.018199792                    | 0.5613017                      | 0.6328133                      | 0.5970575                      | 34                             | \n",
       "| 52 | 60mm^3                         | 0.5960473                      | 0.024157333                    | 0.5485872                      | 0.6435074                      | 0.5960473                      | 35                             | \n",
       "| 110 | 20nvoxels                      | 0.5988712                      | 0.008280972                    | 0.5826022                      | 0.6151403                      | 0.5988712                      | 36                             | \n",
       "| 210 | 100nvoxels                     | 0.5989789                      | 0.008272862                    | 0.5827258                      | 0.6152320                      | 0.5989789                      | 37                             | \n",
       "| 36 | 500nvoxels                     | 0.5995173                      | 0.008251870                    | 0.5833055                      | 0.6157291                      | 0.5995173                      | 38                             | \n",
       "| 45 | 2500nvoxels                    | 0.6022092                      | 0.008629579                    | 0.5852553                      | 0.6191631                      | 0.6022092                      | 39                             | \n",
       "| 53 | 12500nvoxels                   | 0.6156688                      | 0.017581734                    | 0.5811273                      | 0.6502103                      | 0.6156688                      | 40                             | \n",
       "| 111 | 20#patterns                    | 0.6041349                      | 0.009311940                    | 0.5858404                      | 0.6224294                      | 0.6041349                      | 41                             | \n",
       "| 211 | 40#patterns                    | 0.6026987                      | 0.008721726                    | 0.5855638                      | 0.6198337                      | 0.6026987                      | 42                             | \n",
       "| 37 | 80#patterns                    | 0.5998264                      | 0.008179701                    | 0.5837563                      | 0.6158965                      | 0.5998264                      | 43                             | \n",
       "| 46 | 160#patterns                   | 0.5940817                      | 0.009853484                    | 0.5747233                      | 0.6134401                      | 0.5940817                      | 44                             | \n",
       "| 54 | 320#patterns                   | 0.5825924                      | 0.018747827                    | 0.5457599                      | 0.6194249                      | 0.5825924                      | 45                             | \n",
       "\n",
       "\n"
      ],
      "text/plain": [
       "    B                              fit       se          lower     upper    \n",
       "1   smoothed                       0.6046296 0.017378481 0.5704874 0.6387719\n",
       "2   unsmooth                       0.5980914 0.009428301 0.5795683 0.6166145\n",
       "11  Perceptual                     0.5983297 0.012763383 0.5732542 0.6234052\n",
       "21  Response                       0.6102676 0.016867295 0.5771294 0.6434059\n",
       "3   Rule                           0.5957629 0.011241833 0.5736767 0.6178491\n",
       "4   Value                          0.6031845 0.019217449 0.5654290 0.6409399\n",
       "12  ROI                            0.5967418 0.009421791 0.5782315 0.6152521\n",
       "22  Searchlight Peak               0.6055999 0.012629370 0.5807879 0.6304119\n",
       "13  correlation                    0.7342857 0.060518640 0.6153870 0.8531845\n",
       "23  GNB                            0.6090518 0.035087917 0.5401159 0.6779878\n",
       "31  LDA                            0.6070217 0.048285027 0.5121579 0.7018855\n",
       "41  LogReg                         0.5707321 0.022260588 0.5269976 0.6144667\n",
       "5   svm-lin                        0.5920323 0.008555111 0.5752244 0.6088402\n",
       "6   svm-nonlin                     0.7242490 0.031956629 0.6614650 0.7870330\n",
       "14  3T                             0.5999049 0.008303603 0.5835914 0.6162183\n",
       "24  7T                             0.5899098 0.028419054 0.5340770 0.6457426\n",
       "15  coregistered                   0.5998205 0.010363340 0.5794604 0.6201806\n",
       "25  Native Space                   0.5991438 0.013817576 0.5719974 0.6262901\n",
       "16  None                           0.6019171 0.011159971 0.5799919 0.6238424\n",
       "26  Normalized Spatially           0.5855799 0.025406350 0.5356657 0.6354941\n",
       "32  Normalized Temporally          0.6003648 0.012557818 0.5756933 0.6250364\n",
       "17  n6                             0.6103092 0.012441262 0.5858668 0.6347516\n",
       "27  n20                            0.5981245 0.008313524 0.5817916 0.6144575\n",
       "33  n40                            0.5807179 0.018445102 0.5444801 0.6169556\n",
       "42  n50                            0.5720145 0.025482844 0.5219503 0.6220788\n",
       "51  n70                            0.5546078 0.040185600 0.4756582 0.6335575\n",
       "18  Multi-Trial Multi-Time Point   0.6334852 0.012955235 0.6080328 0.6589376\n",
       "28  Multi-Trial Single-Time Point  0.5582467 0.023603636 0.5118739 0.6046195\n",
       "34  Single Trial Multi-Time Point  0.5848235 0.012847826 0.5595821 0.6100649\n",
       "43  Single Trial Single-Time Point 0.5866070 0.019429418 0.5484351 0.6247789\n",
       "19  1mm^3                          0.6020075 0.017645686 0.5673404 0.6366747\n",
       "29  20mm^3                         0.6000882 0.008899310 0.5826043 0.6175720\n",
       "35  30mm^3                         0.5990779 0.008890608 0.5816112 0.6165447\n",
       "44  50mm^3                         0.5970575 0.018199792 0.5613017 0.6328133\n",
       "52  60mm^3                         0.5960473 0.024157333 0.5485872 0.6435074\n",
       "110 20nvoxels                      0.5988712 0.008280972 0.5826022 0.6151403\n",
       "210 100nvoxels                     0.5989789 0.008272862 0.5827258 0.6152320\n",
       "36  500nvoxels                     0.5995173 0.008251870 0.5833055 0.6157291\n",
       "45  2500nvoxels                    0.6022092 0.008629579 0.5852553 0.6191631\n",
       "53  12500nvoxels                   0.6156688 0.017581734 0.5811273 0.6502103\n",
       "111 20#patterns                    0.6041349 0.009311940 0.5858404 0.6224294\n",
       "211 40#patterns                    0.6026987 0.008721726 0.5855638 0.6198337\n",
       "37  80#patterns                    0.5998264 0.008179701 0.5837563 0.6158965\n",
       "46  160#patterns                   0.5940817 0.009853484 0.5747233 0.6134401\n",
       "54  320#patterns                   0.5825924 0.018747827 0.5457599 0.6194249\n",
       "    Accuracy  i \n",
       "1   0.6046296  1\n",
       "2   0.5980914  2\n",
       "11  0.5983297  3\n",
       "21  0.6102676  4\n",
       "3   0.5957629  5\n",
       "4   0.6031845  6\n",
       "12  0.5967418  7\n",
       "22  0.6055999  8\n",
       "13  0.7342857  9\n",
       "23  0.6090518 10\n",
       "31  0.6070217 11\n",
       "41  0.5707321 12\n",
       "5   0.5920323 13\n",
       "6   0.7242490 14\n",
       "14  0.5999049 15\n",
       "24  0.5899098 16\n",
       "15  0.5998205 17\n",
       "25  0.5991438 18\n",
       "16  0.6019171 19\n",
       "26  0.5855799 20\n",
       "32  0.6003648 21\n",
       "17  0.6103092 22\n",
       "27  0.5981245 23\n",
       "33  0.5807179 24\n",
       "42  0.5720145 25\n",
       "51  0.5546078 26\n",
       "18  0.6334852 27\n",
       "28  0.5582467 28\n",
       "34  0.5848235 29\n",
       "43  0.5866070 30\n",
       "19  0.6020075 31\n",
       "29  0.6000882 32\n",
       "35  0.5990779 33\n",
       "44  0.5970575 34\n",
       "52  0.5960473 35\n",
       "110 0.5988712 36\n",
       "210 0.5989789 37\n",
       "36  0.5995173 38\n",
       "45  0.6022092 39\n",
       "53  0.6156688 40\n",
       "111 0.6041349 41\n",
       "211 0.6026987 42\n",
       "37  0.5998264 43\n",
       "46  0.5940817 44\n",
       "54  0.5825924 45"
      ]
     },
     "metadata": {},
     "output_type": "display_data"
    }
   ],
   "source": [
    "dd_all"
   ]
  },
  {
   "cell_type": "code",
   "execution_count": 27,
   "metadata": {
    "collapsed": true
   },
   "outputs": [],
   "source": [
    "alabels = c('Smoothed','Unsmooth',\n",
    "            'Perceptual','Response','Rule','Value',\n",
    "            'ROI','Searchlight peak',\n",
    "            'Correlation','GNB','LDA','Logreg','SVM-lin','SVM-nonlin',\n",
    "            '3T','7T',\n",
    "            'Coregistered','Native space',\n",
    "            'No normalization','Normalized spatially','Normalized temporally',\n",
    "            'n=6','n=20','n=40','n=50','n=70',\n",
    "            'Averaging across TRs and trials','Averaging across trials',\n",
    "            'Averaging across TRs','No temporal averaging',\n",
    "            'Res (1mm^3)',\n",
    "            'Res (20mm^3)',\n",
    "            'Res (30mm^3)',\n",
    "            'Res (50mm^3)',\n",
    "            'Res (60mm^3)',\n",
    "            '20 voxels','100 voxels','500 voxels','2500 voxels','12500 voxels',\n",
    "            '20 training patterns','40 training patterns','80 training patterns',\n",
    "            '160 training patterns','320 training patterns')"
   ]
  },
  {
   "cell_type": "code",
   "execution_count": 28,
   "metadata": {},
   "outputs": [
    {
     "data": {},
     "metadata": {},
     "output_type": "display_data"
    },
    {
     "data": {
      "text/html": [
       "<strong>pdf:</strong> 2"
      ],
      "text/latex": [
       "\\textbf{pdf:} 2"
      ],
      "text/markdown": [
       "**pdf:** 2"
      ],
      "text/plain": [
       "pdf \n",
       "  2 "
      ]
     },
     "metadata": {},
     "output_type": "display_data"
    },
    {
     "data": {},
     "metadata": {},
     "output_type": "display_data"
    },
    {
     "data": {
      "text/html": [
       "<strong>pdf:</strong> 2"
      ],
      "text/latex": [
       "\\textbf{pdf:} 2"
      ],
      "text/markdown": [
       "**pdf:** 2"
      ],
      "text/plain": [
       "pdf \n",
       "  2 "
      ]
     },
     "metadata": {},
     "output_type": "display_data"
    },
    {
     "data": {},
     "metadata": {},
     "output_type": "display_data"
    },
    {
     "data": {
      "image/png": "[encoded data removed]"
     },
     "metadata": {},
     "output_type": "display_data"
    }
   ],
   "source": [
    "\n",
    "mainlinewidth=.5\n",
    "textsize = 8\n",
    "labelsize = 8\n",
    "\n",
    "## Analysis Features \n",
    "p1 <-ggplot(aes(y = Accuracy, x = i,ymax = Accuracy + se, ymin=Accuracy - se), \n",
    "            data = dd_all) +\n",
    "geom_point(size=1)+geom_errorbar(width=0.3)\n",
    "\n",
    "\n",
    "p1<-p1+xlab('Analysis characteristic')\n",
    "p1<-p1+ylab('Decoding accuracy')\n",
    "p1<-p1+theme(panel.background=element_blank())\n",
    "p1<-p1+scale_x_discrete(labels=alabels)\n",
    "p1<-p1+theme(axis.line.x = element_line(color=\"black\", size = mainlinewidth),\n",
    "        axis.line.y = element_line(color=\"black\", size =mainlinewidth))\n",
    "p1<-p1+theme(axis.ticks.x=element_blank(),axis.ticks.y=element_blank())\n",
    "p1<-p1+theme(axis.line.x = element_line(color=\"black\", size = mainlinewidth),\n",
    "        axis.line.y = element_line(color=\"black\", size =mainlinewidth))\n",
    "\n",
    "p1<-p1+theme(axis.text.y = element_text(size=textsize,family='Helvetica',colour='black'))\n",
    "p1<-p1+theme(axis.text.x = element_text(angle = 90, hjust = 1,size=textsize,vjust=0.5,\n",
    "                                        family='Helvetica',colour='black'))\n",
    "p1<-p1+theme(plot.title = element_text(size=labelsize,family='Helvetica',colour='black'))\n",
    "p1<-p1+theme(axis.title.x = element_text(size=labelsize,family='Helvetica',colour='black'))\n",
    "p1<-p1+theme(axis.title.y = element_text(size=labelsize,family='Helvetica',colour='black'))\n",
    "p1<-p1+theme(axis.ticks.x=element_blank(),axis.ticks.y=element_blank())\n",
    "\n",
    "\n",
    "setEPS()\n",
    "postscript('../Figures/Supp_individual_regressions_v8b.eps',width=6,height=3.5)\n",
    "p1\n",
    "dev.off()\n",
    "\n",
    "png('../Figures/Supp_individual_regressions_v8b.png',width=6,height=3.5,units=\"in\",res=400)\n",
    "#postscript('../Figures/Supp/full_regression_moreregions.eps',width=6,height=7)\n",
    "p1\n",
    "dev.off()\n",
    "\n",
    "options(repr.plot.width=6, repr.plot.height=5)\n",
    "p1"
   ]
  },
  {
   "cell_type": "markdown",
   "metadata": {},
   "source": [
    "# Likelihood Ratio Tests \n",
    "- Logliklihood ratio tests (like F-tests) were done after models were re-fit using ML estimation\n",
    "- The p-values for each test are plotted below (uncorrected for multiple comparisons)"
   ]
  },
  {
   "cell_type": "code",
   "execution_count": 29,
   "metadata": {
    "collapsed": true
   },
   "outputs": [],
   "source": [
    "null_model<-lme(Accuracy.50~1,random=~1|PID,data=d,method='ML')\n",
    "\n"
   ]
  },
  {
   "cell_type": "code",
   "execution_count": 30,
   "metadata": {},
   "outputs": [
    {
     "data": {
      "text/plain": [
       "Linear mixed-effects model fit by maximum likelihood\n",
       "  Data: d \n",
       "  Log-likelihood: 709.2965\n",
       "  Fixed: as.formula(\"Accuracy.50~Info.type\") \n",
       "      (Intercept) Info.typeResponse     Info.typeRule    Info.typeValue \n",
       "      0.598548888       0.011822244      -0.002852454       0.004714852 \n",
       "\n",
       "Random effects:\n",
       " Formula: ~1 | PID\n",
       "        (Intercept)   Residual\n",
       "StdDev:  0.06400179 0.05215265\n",
       "\n",
       "Number of Observations: 512\n",
       "Number of Groups: 75 "
      ]
     },
     "metadata": {},
     "output_type": "display_data"
    }
   ],
   "source": [
    "model_info_type<-lme(as.formula('Accuracy.50~Info.type'),random=~1|PID,data=d,method='ML')\n",
    "model_info_type"
   ]
  },
  {
   "cell_type": "code",
   "execution_count": 36,
   "metadata": {},
   "outputs": [
    {
     "data": {
      "text/html": [
       "<table>\n",
       "<thead><tr><th></th><th scope=col>call</th><th scope=col>Model</th><th scope=col>df</th><th scope=col>AIC</th><th scope=col>BIC</th><th scope=col>logLik</th><th scope=col>Test</th><th scope=col>L.Ratio</th><th scope=col>p-value</th></tr></thead>\n",
       "<tbody>\n",
       "\t<tr><th scope=row>null_model</th><td>lme.formula(fixed = Accuracy.50 ~ 1, data = d, random = ~1 |     PID, method = \"ML\")                    </td><td>1                                                                                                       </td><td>3                                                                                                       </td><td>-1411.941                                                                                               </td><td>-1399.226                                                                                               </td><td>708.9704                                                                                                </td><td>                                                                                                        </td><td>       NA                                                                                               </td><td>       NA                                                                                               </td></tr>\n",
       "\t<tr><th scope=row>model_info_type</th><td>lme.formula(fixed = as.formula(\"Accuracy.50~Info.type\"), data = d,     random = ~1 | PID, method = \"ML\")</td><td>2                                                                                                       </td><td>6                                                                                                       </td><td>-1406.593                                                                                               </td><td>-1381.163                                                                                               </td><td>709.2965                                                                                                </td><td>1 vs 2                                                                                                  </td><td>0.6522509                                                                                               </td><td>0.8843733                                                                                               </td></tr>\n",
       "</tbody>\n",
       "</table>\n"
      ],
      "text/latex": [
       "\\begin{tabular}{r|lllllllll}\n",
       "  & call & Model & df & AIC & BIC & logLik & Test & L.Ratio & p-value\\\\\n",
       "\\hline\n",
       "\tnull\\_model & lme.formula(fixed = Accuracy.50 \\textasciitilde{} 1, data = d, random = \\textasciitilde{}1 \\textbar{}     PID, method = \"ML\")                     & 1                                                                                                                                                    & 3                                                                                                                                                    & -1411.941                                                                                                                                            & -1399.226                                                                                                                                            & 708.9704                                                                                                                                             &                                                                                                                                                      &        NA                                                                                                                                            &        NA                                                                                                                                           \\\\\n",
       "\tmodel\\_info\\_type & lme.formula(fixed = as.formula(\"Accuracy.50\\textasciitilde{}Info.type\"), data = d,     random = \\textasciitilde{}1 \\textbar{} PID, method = \"ML\") & 2                                                                                                                                                    & 6                                                                                                                                                    & -1406.593                                                                                                                                            & -1381.163                                                                                                                                            & 709.2965                                                                                                                                             & 1 vs 2                                                                                                                                               & 0.6522509                                                                                                                                            & 0.8843733                                                                                                                                           \\\\\n",
       "\\end{tabular}\n"
      ],
      "text/markdown": [
       "\n",
       "| <!--/--> | call | Model | df | AIC | BIC | logLik | Test | L.Ratio | p-value | \n",
       "|---|---|\n",
       "| null_model | lme.formula(fixed = Accuracy.50 ~ 1, data = d, random = ~1 |     PID, method = \"ML\")                     | 1                                                                                                        | 3                                                                                                        | -1411.941                                                                                                | -1399.226                                                                                                | 708.9704                                                                                                 |                                                                                                          |        NA                                                                                                |        NA                                                                                                | \n",
       "| model_info_type | lme.formula(fixed = as.formula(\"Accuracy.50~Info.type\"), data = d,     random = ~1 | PID, method = \"ML\") | 2                                                                                                        | 6                                                                                                        | -1406.593                                                                                                | -1381.163                                                                                                | 709.2965                                                                                                 | 1 vs 2                                                                                                   | 0.6522509                                                                                                | 0.8843733                                                                                                | \n",
       "\n",
       "\n"
      ],
      "text/plain": [
       "                call                                                                                                    \n",
       "null_model      lme.formula(fixed = Accuracy.50 ~ 1, data = d, random = ~1 |     PID, method = \"ML\")                    \n",
       "model_info_type lme.formula(fixed = as.formula(\"Accuracy.50~Info.type\"), data = d,     random = ~1 | PID, method = \"ML\")\n",
       "                Model df AIC       BIC       logLik   Test   L.Ratio  \n",
       "null_model      1     3  -1411.941 -1399.226 708.9704               NA\n",
       "model_info_type 2     6  -1406.593 -1381.163 709.2965 1 vs 2 0.6522509\n",
       "                p-value  \n",
       "null_model             NA\n",
       "model_info_type 0.8843733"
      ]
     },
     "metadata": {},
     "output_type": "display_data"
    }
   ],
   "source": [
    "a<-anova(null_model,model_info_type)\n",
    "a"
   ]
  },
  {
   "cell_type": "code",
   "execution_count": 37,
   "metadata": {
    "collapsed": true
   },
   "outputs": [],
   "source": [
    "model_info_type<-lme(as.formula('Accuracy.50~Info.type'),random=~1|PID,data=d,method='ML')\n",
    "a<-anova(null_model,model_info_type)\n",
    "dd<-data.frame(a)[c('Model','df','AIC','BIC','logLik','L.Ratio','p.value')]\n",
    "\n",
    "model_roi_search<-lme(as.formula('Accuracy.50~Roi.Search'),random=~1|PID,data=d,method='ML')\n",
    "a<-anova(null_model,model_roi_search)\n",
    "d_new<-data.frame(a)[c('Model','df','AIC','BIC','logLik','L.Ratio','p.value')]\n",
    "dd<-rbind(dd,d_new[2,])\n",
    "\n",
    "model_pattern_type<-lme(as.formula('Accuracy.50~Pattern.type'),random=~1|PID,data=d,method='ML')\n",
    "a<-anova(null_model,model_pattern_type)\n",
    "d_new<-data.frame(a)[c('Model','df','AIC','BIC','logLik','L.Ratio','p.value')]\n",
    "dd<-rbind(dd,d_new[2,])\n",
    "\n",
    "model_classifier<-lme(as.formula('Accuracy.50~Classifier.type'),random=~1|PID,data=d,method='ML')\n",
    "a<-anova(null_model,model_classifier)\n",
    "d_new<-data.frame(a)[c('Model','df','AIC','BIC','logLik','L.Ratio','p.value')]\n",
    "dd<-rbind(dd,d_new[2,])\n",
    "\n",
    "model_scanner<-lme(as.formula('Accuracy.50~Scanner'),random=~1|PID,data=d,method='ML')\n",
    "a<-anova(null_model,model_scanner)\n",
    "d_new<-data.frame(a)[c('Model','df','AIC','BIC','logLik','L.Ratio','p.value')]\n",
    "dd<-rbind(dd,d_new[2,])\n",
    "\n",
    "model_smoothing<-lme(as.formula('Accuracy.50~Smoothing'),random=~1|PID,data=d,method='ML')\n",
    "a<-anova(null_model,model_smoothing)\n",
    "d_new<-data.frame(a)[c('Model','df','AIC','BIC','logLik','L.Ratio','p.value')]\n",
    "dd<-rbind(dd,d_new[2,])\n",
    "\n",
    "model_coreg<-lme(as.formula('Accuracy.50~Coregistration'),random=~1|PID,data=d,method='ML')\n",
    "a<-anova(null_model,model_coreg)\n",
    "d_new<-data.frame(a)[c('Model','df','AIC','BIC','logLik','L.Ratio','p.value')]\n",
    "dd<-rbind(dd,d_new[2,])\n",
    "\n",
    "model_pattern_norm<-lme(as.formula('Accuracy.50~Pattern.normalization.type'),random=~1|PID,data=d,method='ML')\n",
    "a<-anova(null_model,model_pattern_norm)\n",
    "d_new<-data.frame(a)[c('Model','df','AIC','BIC','logLik','L.Ratio','p.value')]\n",
    "dd<-rbind(dd,d_new[2,])\n",
    "\n",
    "model_n_subs<-lme(as.formula('Accuracy.50~Num_subs'),random=~1|PID,data=d,method='ML')\n",
    "a<-anova(null_model,model_n_subs)\n",
    "d_new<-data.frame(a)[c('Model','df','AIC','BIC','logLik','L.Ratio','p.value')]\n",
    "dd<-rbind(dd,d_new[2,])\n",
    "\n",
    "model_resolution<-lme(as.formula('Accuracy.50~Resolution_Volume'),random=~1|PID,data=d,method='ML')\n",
    "a<-anova(null_model,model_resolution)\n",
    "d_new<-data.frame(a)[c('Model','df','AIC','BIC','logLik','L.Ratio','p.value')]\n",
    "dd<-rbind(dd,d_new[2,])\n",
    "\n",
    "model_voxelnumbers<-lme(as.formula('Accuracy.50~Voxel.numbers'),random=~1|PID,data=d,method='ML')\n",
    "a<-anova(null_model,model_voxelnumbers)\n",
    "d_new<-data.frame(a)[c('Model','df','AIC','BIC','logLik','L.Ratio','p.value')]\n",
    "dd<-rbind(dd,d_new[2,])\n",
    "\n",
    "model_trainingsetsize<-lme(as.formula('Accuracy.50~Training.setsize'),random=~1|PID,data=d,method='ML')\n",
    "a<-anova(null_model,model_trainingsetsize)\n",
    "d_new<-data.frame(a)[c('Model','df','AIC','BIC','logLik','L.Ratio','p.value')]\n",
    "dd<-rbind(dd,d_new[2,])\n"
   ]
  },
  {
   "cell_type": "code",
   "execution_count": 38,
   "metadata": {},
   "outputs": [
    {
     "data": {
      "text/html": [
       "<table>\n",
       "<thead><tr><th></th><th scope=col>Model</th><th scope=col>df</th><th scope=col>AIC</th><th scope=col>BIC</th><th scope=col>logLik</th><th scope=col>L.Ratio</th><th scope=col>p.value</th></tr></thead>\n",
       "<tbody>\n",
       "\t<tr><th scope=row>null_model</th><td>1      </td><td>3      </td><td>-1411.9</td><td>-1399.2</td><td>709.0  </td><td>   NA  </td><td>   NA  </td></tr>\n",
       "\t<tr><th scope=row>model_info_type</th><td>2      </td><td>6      </td><td>-1406.6</td><td>-1381.2</td><td>709.3  </td><td> 0.65  </td><td>0.884  </td></tr>\n",
       "\t<tr><th scope=row>model_roi_search</th><td>2      </td><td>4      </td><td>-1410.3</td><td>-1393.4</td><td>709.2  </td><td> 0.40  </td><td>0.528  </td></tr>\n",
       "\t<tr><th scope=row>model_pattern_type</th><td>2      </td><td>6      </td><td>-1417.4</td><td>-1391.9</td><td>714.7  </td><td>11.42  </td><td>0.010  </td></tr>\n",
       "\t<tr><th scope=row>model_classifier</th><td>2      </td><td>8      </td><td>-1423.4</td><td>-1389.5</td><td>719.7  </td><td>21.44  </td><td>0.001  </td></tr>\n",
       "\t<tr><th scope=row>model_scanner</th><td>2      </td><td>4      </td><td>-1410.1</td><td>-1393.1</td><td>709.0  </td><td> 0.12  </td><td>0.724  </td></tr>\n",
       "\t<tr><th scope=row>model_smoothing</th><td>2      </td><td>4      </td><td>-1410.1</td><td>-1393.1</td><td>709.0  </td><td> 0.11  </td><td>0.739  </td></tr>\n",
       "\t<tr><th scope=row>model_coreg</th><td>2      </td><td>4      </td><td>-1409.9</td><td>-1393.0</td><td>709.0  </td><td> 0.00  </td><td>0.971  </td></tr>\n",
       "\t<tr><th scope=row>model_pattern_norm</th><td>2      </td><td>5      </td><td>-1408.3</td><td>-1387.1</td><td>709.2  </td><td> 0.36  </td><td>0.835  </td></tr>\n",
       "\t<tr><th scope=row>model_n_subs</th><td>2      </td><td>4      </td><td>-1411.3</td><td>-1394.3</td><td>709.6  </td><td> 1.33  </td><td>0.248  </td></tr>\n",
       "\t<tr><th scope=row>model_resolution</th><td>2      </td><td>4      </td><td>-1410.0</td><td>-1393.0</td><td>709.0  </td><td> 0.03  </td><td>0.869  </td></tr>\n",
       "\t<tr><th scope=row>model_voxelnumbers</th><td>2      </td><td>4      </td><td>-1411.0</td><td>-1394.1</td><td>709.5  </td><td> 1.07  </td><td>0.300  </td></tr>\n",
       "\t<tr><th scope=row>model_trainingsetsize</th><td>2      </td><td>4      </td><td>-1411.0</td><td>-1394.0</td><td>709.5  </td><td> 1.04  </td><td>0.309  </td></tr>\n",
       "</tbody>\n",
       "</table>\n"
      ],
      "text/latex": [
       "\\begin{tabular}{r|lllllll}\n",
       "  & Model & df & AIC & BIC & logLik & L.Ratio & p.value\\\\\n",
       "\\hline\n",
       "\tnull\\_model & 1       & 3       & -1411.9 & -1399.2 & 709.0   &    NA   &    NA  \\\\\n",
       "\tmodel\\_info\\_type & 2       & 6       & -1406.6 & -1381.2 & 709.3   &  0.65   & 0.884  \\\\\n",
       "\tmodel\\_roi\\_search & 2       & 4       & -1410.3 & -1393.4 & 709.2   &  0.40   & 0.528  \\\\\n",
       "\tmodel\\_pattern\\_type & 2       & 6       & -1417.4 & -1391.9 & 714.7   & 11.42   & 0.010  \\\\\n",
       "\tmodel\\_classifier & 2       & 8       & -1423.4 & -1389.5 & 719.7   & 21.44   & 0.001  \\\\\n",
       "\tmodel\\_scanner & 2       & 4       & -1410.1 & -1393.1 & 709.0   &  0.12   & 0.724  \\\\\n",
       "\tmodel\\_smoothing & 2       & 4       & -1410.1 & -1393.1 & 709.0   &  0.11   & 0.739  \\\\\n",
       "\tmodel\\_coreg & 2       & 4       & -1409.9 & -1393.0 & 709.0   &  0.00   & 0.971  \\\\\n",
       "\tmodel\\_pattern\\_norm & 2       & 5       & -1408.3 & -1387.1 & 709.2   &  0.36   & 0.835  \\\\\n",
       "\tmodel\\_n\\_subs & 2       & 4       & -1411.3 & -1394.3 & 709.6   &  1.33   & 0.248  \\\\\n",
       "\tmodel\\_resolution & 2       & 4       & -1410.0 & -1393.0 & 709.0   &  0.03   & 0.869  \\\\\n",
       "\tmodel\\_voxelnumbers & 2       & 4       & -1411.0 & -1394.1 & 709.5   &  1.07   & 0.300  \\\\\n",
       "\tmodel\\_trainingsetsize & 2       & 4       & -1411.0 & -1394.0 & 709.5   &  1.04   & 0.309  \\\\\n",
       "\\end{tabular}\n"
      ],
      "text/markdown": [
       "\n",
       "| <!--/--> | Model | df | AIC | BIC | logLik | L.Ratio | p.value | \n",
       "|---|---|---|---|---|---|---|---|---|---|---|---|---|\n",
       "| null_model | 1       | 3       | -1411.9 | -1399.2 | 709.0   |    NA   |    NA   | \n",
       "| model_info_type | 2       | 6       | -1406.6 | -1381.2 | 709.3   |  0.65   | 0.884   | \n",
       "| model_roi_search | 2       | 4       | -1410.3 | -1393.4 | 709.2   |  0.40   | 0.528   | \n",
       "| model_pattern_type | 2       | 6       | -1417.4 | -1391.9 | 714.7   | 11.42   | 0.010   | \n",
       "| model_classifier | 2       | 8       | -1423.4 | -1389.5 | 719.7   | 21.44   | 0.001   | \n",
       "| model_scanner | 2       | 4       | -1410.1 | -1393.1 | 709.0   |  0.12   | 0.724   | \n",
       "| model_smoothing | 2       | 4       | -1410.1 | -1393.1 | 709.0   |  0.11   | 0.739   | \n",
       "| model_coreg | 2       | 4       | -1409.9 | -1393.0 | 709.0   |  0.00   | 0.971   | \n",
       "| model_pattern_norm | 2       | 5       | -1408.3 | -1387.1 | 709.2   |  0.36   | 0.835   | \n",
       "| model_n_subs | 2       | 4       | -1411.3 | -1394.3 | 709.6   |  1.33   | 0.248   | \n",
       "| model_resolution | 2       | 4       | -1410.0 | -1393.0 | 709.0   |  0.03   | 0.869   | \n",
       "| model_voxelnumbers | 2       | 4       | -1411.0 | -1394.1 | 709.5   |  1.07   | 0.300   | \n",
       "| model_trainingsetsize | 2       | 4       | -1411.0 | -1394.0 | 709.5   |  1.04   | 0.309   | \n",
       "\n",
       "\n"
      ],
      "text/plain": [
       "                      Model df AIC     BIC     logLik L.Ratio p.value\n",
       "null_model            1     3  -1411.9 -1399.2 709.0     NA      NA  \n",
       "model_info_type       2     6  -1406.6 -1381.2 709.3   0.65   0.884  \n",
       "model_roi_search      2     4  -1410.3 -1393.4 709.2   0.40   0.528  \n",
       "model_pattern_type    2     6  -1417.4 -1391.9 714.7  11.42   0.010  \n",
       "model_classifier      2     8  -1423.4 -1389.5 719.7  21.44   0.001  \n",
       "model_scanner         2     4  -1410.1 -1393.1 709.0   0.12   0.724  \n",
       "model_smoothing       2     4  -1410.1 -1393.1 709.0   0.11   0.739  \n",
       "model_coreg           2     4  -1409.9 -1393.0 709.0   0.00   0.971  \n",
       "model_pattern_norm    2     5  -1408.3 -1387.1 709.2   0.36   0.835  \n",
       "model_n_subs          2     4  -1411.3 -1394.3 709.6   1.33   0.248  \n",
       "model_resolution      2     4  -1410.0 -1393.0 709.0   0.03   0.869  \n",
       "model_voxelnumbers    2     4  -1411.0 -1394.1 709.5   1.07   0.300  \n",
       "model_trainingsetsize 2     4  -1411.0 -1394.0 709.5   1.04   0.309  "
      ]
     },
     "metadata": {},
     "output_type": "display_data"
    }
   ],
   "source": [
    "dd$p.value<-round(dd$p.value,3)\n",
    "dd$AIC<-round(dd$AIC,1)\n",
    "dd$BIC<-round(dd$BIC,1)\n",
    "dd$logLik<-round(dd$logLik,1)\n",
    "dd$L.Ratio<-round(dd$L.Ratio,2)\n",
    "dd"
   ]
  },
  {
   "cell_type": "markdown",
   "metadata": {},
   "source": [
    "- the effect of **classifier** is strongly significant as indicated by the plot, but as noted in the main analysis, this should be interpreted with caution. The effect of correlation is driven by a single study that has several analyses. The effects of nonlinear svm are driven by 4 studies. \n",
    "\n",
    "- **pattern type** (or temporal compression) is the only other characteristic that is close to significant. Studies that average across trials and TR's have a marginally significant higher accuracy than other types of averaging.\n"
   ]
  }
 ],
 "metadata": {
  "hide_input": false,
  "kernelspec": {
   "display_name": "R",
   "language": "R",
   "name": "ir"
  },
  "language_info": {
   "codemirror_mode": "r",
   "file_extension": ".r",
   "mimetype": "text/x-r-source",
   "name": "R",
   "pygments_lexer": "r",
   "version": "3.4.1"
  },
  "toc": {
   "nav_menu": {},
   "number_sections": true,
   "sideBar": true,
   "skip_h1_title": false,
   "toc_cell": false,
   "toc_position": {},
   "toc_section_display": "block",
   "toc_window_display": false
  }
 },
 "nbformat": 4,
 "nbformat_minor": 1
}
