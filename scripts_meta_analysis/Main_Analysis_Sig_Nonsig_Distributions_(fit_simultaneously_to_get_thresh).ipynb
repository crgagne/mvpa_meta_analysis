{
 "cells": [
  {
   "cell_type": "code",
   "execution_count": 2,
   "metadata": {
    "collapsed": true
   },
   "outputs": [],
   "source": [
    "import numpy as np\n",
    "import pandas as pd\n",
    "import matplotlib.pyplot as plt\n",
    "import os.path\n",
    "%matplotlib inline\n",
    "import scipy.stats as stats\n",
    "import statsmodels as sm\n",
    "from sklearn.neighbors import KernelDensity\n",
    "from scipy.stats import gaussian_kde"
   ]
  },
  {
   "cell_type": "markdown",
   "metadata": {},
   "source": [
    "# Data Load In "
   ]
  },
  {
   "cell_type": "code",
   "execution_count": 3,
   "metadata": {
    "collapsed": true
   },
   "outputs": [],
   "source": [
    "import Scripts_SigNonSig_V2\n",
    "reload(Scripts_SigNonSig_V2)\n",
    "from Scripts_SigNonSig_V2 import * "
   ]
  },
  {
   "cell_type": "code",
   "execution_count": 4,
   "metadata": {},
   "outputs": [
    {
     "name": "stderr",
     "output_type": "stream",
     "text": [
      "/Users/chris/anaconda/envs/py27/lib/python2.7/site-packages/statsmodels/compat/pandas.py:56: FutureWarning: The pandas.core.datetools module is deprecated and will be removed in a future version. Please use the pandas.tseries module instead.\n",
      "  from pandas.core import datetools\n"
     ]
    }
   ],
   "source": [
    "import Scripts_Hierarchical_Boot_V2\n",
    "reload(Scripts_Hierarchical_Boot_V2)\n",
    "from Scripts_Hierarchical_Boot_V2 import * "
   ]
  },
  {
   "cell_type": "code",
   "execution_count": 6,
   "metadata": {
    "scrolled": true
   },
   "outputs": [
    {
     "name": "stderr",
     "output_type": "stream",
     "text": [
      "Scripts_SigNonSig_V2.py:118: UserWarning: Boolean Series key will be reindexed to match DataFrame index.\n",
      "  data_simple_one_region = data_simple_one_region[np.logical_not(np.isnan(df.loc[:,'Accuracy.50']))]\n",
      "Scripts_SigNonSig_V2.py:73: SettingWithCopyWarning: \n",
      "A value is trying to be set on a copy of a slice from a DataFrame\n",
      "\n",
      "See the caveats in the documentation: http://pandas.pydata.org/pandas-docs/stable/indexing.html#indexing-view-versus-copy\n",
      "  region_data_single_row['Accuracy.50'] = np.mean(region_data['Accuracy.50'])\n"
     ]
    }
   ],
   "source": [
    "out = get_data_for_sig_nonsig_analyses(version='v8b')\n",
    "df_50_nonsig = out['df_50_nonsig']\n",
    "df_50_sig = out['df_50_sig']"
   ]
  },
  {
   "cell_type": "markdown",
   "metadata": {},
   "source": [
    "# recenter the null \n",
    "\n",
    "- then look at threshold 1, not 2"
   ]
  },
  {
   "cell_type": "code",
   "execution_count": 7,
   "metadata": {
    "collapsed": true
   },
   "outputs": [],
   "source": [
    "df_50_nonsig['Accuracy.50'] = df_50_nonsig['Accuracy.50']-df_50_nonsig['Accuracy.50'].mean()+0.5"
   ]
  },
  {
   "cell_type": "markdown",
   "metadata": {},
   "source": [
    "# Boot-Strap Both Distributions\n",
    "\n",
    "- whole bootstrapping code written here because need both sig and non sig distributions to get the overlap through bootstrapping"
   ]
  },
  {
   "cell_type": "code",
   "execution_count": 8,
   "metadata": {
    "collapsed": true
   },
   "outputs": [],
   "source": [
    "num_boots = 500\n",
    "#accs_boot = np.empty((num_boots,len(df_50_sig)))\n",
    "\n",
    "#prob_less_than\n",
    "meann = np.array([])\n",
    "mediann = np.array([])\n",
    "\n",
    "meann_non = np.array([])\n",
    "mediann_non = np.array([])\n",
    "\n",
    "prob_less_than_62 = np.array([])\n",
    "\n",
    "sig_thresh1 = np.array([])\n",
    "sig_thresh2 = np.array([])\n",
    "\n",
    "prob_less_than_thresh1 = np.array([])\n",
    "prob_less_than_thresh2 = np.array([])\n",
    "\n",
    "\n",
    "x = np.linspace(0,1,100) # what range for cdf # \n",
    "\n",
    "epcdf_store_non = np.empty((num_boots,len(x)))\n",
    "epcdf_store_sig = np.empty((num_boots,len(x)))\n",
    "\n",
    "\n",
    "eppdf_store_non= np.empty((num_boots,len(x)))\n",
    "eppdf_store_sig= np.empty((num_boots,len(x)))\n",
    "\n",
    "for boot in range(num_boots):\n",
    "                           \n",
    "    # NON SIGS \n",
    "    studies_boot = np.random.choice(df_50_nonsig['PID'].unique(),len(df_50_nonsig['PID'].unique()),replace=True)\n",
    "    study_accs_boot = np.array([])\n",
    "    maxes = []\n",
    "    for pid in studies_boot:\n",
    "        # sample same number of observations within a pid\n",
    "         study_acc_b_single = np.random.choice(df_50_nonsig.loc[df_50_nonsig['PID']==pid,'Accuracy.50'],size=len(df_50_nonsig.loc[df_50_nonsig['PID']==pid,'Accuracy.50']),replace=True)\n",
    "         study_accs_boot= np.append(study_accs_boot,study_acc_b_single)\n",
    "         maxes.append(np.max(study_acc_b_single))\n",
    "            \n",
    "    # store empirical distribution function\n",
    "    ecdf = sm.distributions.empirical_distribution.ECDF(study_accs_boot)\n",
    "    epcdf_store_non[boot,:]=ecdf(x)\n",
    "    \n",
    "    # store pdf\n",
    "    kd = kde_scipy(study_accs_boot,x,bw_method='scott')\n",
    "    eppdf_store_non[boot,:]=kd\n",
    "    \n",
    "    maxes = np.array(maxes)\n",
    "    sig_thresh2_b = maxes.mean()\n",
    "    sig_thresh2 = np.append(sig_thresh2,sig_thresh2_b)\n",
    "    \n",
    "    sig_thresh1_b = np.percentile(study_accs_boot,95)\n",
    "    sig_thresh1 = np.append(sig_thresh1,sig_thresh1_b)\n",
    "    \n",
    "    meann_non = np.append(meann_non,np.mean(study_accs_boot))\n",
    "    mediann_non = np.append(mediann_non,np.median(study_accs_boot))\n",
    "    \n",
    "    mn = np.mean(study_accs_boot)\n",
    "    \n",
    "    # SIGS \n",
    "    studies_boot = np.random.choice(df_50_sig['PID'].unique(),len(df_50_sig['PID'].unique()),replace=True)\n",
    "    study_accs_boot = np.array([])\n",
    "    for pid in studies_boot:\n",
    "        # sample same number of observations within a pid\n",
    "         study_accs_boot= np.append(study_accs_boot,np.random.choice(df_50_sig.loc[df_50_sig['PID']==pid,'Accuracy.50'],size=len(df_50_sig.loc[df_50_sig['PID']==pid,'Accuracy.50']),replace=True))\n",
    "    \n",
    "    ms = np.mean(study_accs_boot)\n",
    "    \n",
    "    # effect size (population effect)\n",
    "    #ms-mn / \n",
    "    \n",
    "    # store empirical distribution function\n",
    "    ecdf = sm.distributions.empirical_distribution.ECDF(study_accs_boot)\n",
    "    epcdf_store_sig[boot,:]=ecdf(x)\n",
    "    \n",
    "    # store pdf\n",
    "    kd = kde_scipy(study_accs_boot,x,bw_method='scott')\n",
    "    eppdf_store_sig[boot,:]=kd\n",
    "    \n",
    "    meann = np.append(meann,np.mean(study_accs_boot))\n",
    "    mediann = np.append(mediann,np.median(study_accs_boot))\n",
    "    \n",
    "    prob_less_than_62 = np.append(prob_less_than_62,np.sum(study_accs_boot<.62)/float(len(study_accs_boot)))\n",
    "    prob_less_than_thresh1 = np.append(prob_less_than_thresh1,np.sum(study_accs_boot<sig_thresh1_b)/float(len(study_accs_boot)))\n",
    "    prob_less_than_thresh2 = np.append(prob_less_than_thresh2,np.sum(study_accs_boot<sig_thresh2_b)/float(len(study_accs_boot)))\n",
    "    "
   ]
  },
  {
   "cell_type": "markdown",
   "metadata": {},
   "source": [
    "# Save "
   ]
  },
  {
   "cell_type": "code",
   "execution_count": 9,
   "metadata": {
    "collapsed": true
   },
   "outputs": [],
   "source": [
    "# not recentered = bootstrap_results\n",
    "\n",
    "np.savez('../data_meta_analysis/data_derived_meta_analysis/bootstrap_results_together_recenter_v8b',epcdf_store_non=epcdf_store_non,\n",
    "          epcdf_store_si=epcdf_store_sig,\n",
    "           eppdf_store_non= eppdf_store_non,\n",
    "           eppdf_store_sig= eppdf_store_sig,\n",
    "          meann= meann,\n",
    "         mediann = mediann,\n",
    "        meann_non= meann_non,\n",
    "         mediann_non = mediann_non,\n",
    "         prob_less_than_62 =prob_less_than_62,\n",
    "         sig_thresh1=sig_thresh1,\n",
    "         sig_thresh2=sig_thresh2)"
   ]
  },
  {
   "cell_type": "markdown",
   "metadata": {},
   "source": [
    "# Load Back In "
   ]
  },
  {
   "cell_type": "code",
   "execution_count": 10,
   "metadata": {
    "collapsed": true
   },
   "outputs": [],
   "source": [
    "#boot_results = np.load('bootstrap_results.npz')\n",
    "boot_results = np.load('../data_meta_analysis/data_derived_meta_analysis/bootstrap_results_together_recenter_v8b.npz')"
   ]
  },
  {
   "cell_type": "code",
   "execution_count": 11,
   "metadata": {
    "collapsed": true
   },
   "outputs": [],
   "source": [
    "x = np.linspace(0,1,100) # what range for cdf # \n",
    "epcdf_store_sig = boot_results['epcdf_store_si']\n",
    "epcdf_store_non = boot_results['epcdf_store_non']\n",
    "eppdf_store_sig = boot_results['eppdf_store_sig']\n",
    "eppdf_store_non = boot_results['eppdf_store_non']\n",
    "meann = boot_results['meann']\n",
    "mediann = boot_results['mediann']\n",
    "meann_non = boot_results['meann_non']\n",
    "mediann_non = boot_results['mediann_non']\n",
    "prob_less_than_62 = boot_results['prob_less_than_62']\n",
    "sig_thresh1 = boot_results['sig_thresh1']\n",
    "sig_thresh2 = boot_results['sig_thresh2']\n"
   ]
  },
  {
   "cell_type": "markdown",
   "metadata": {},
   "source": [
    "# CDF and PDF Plots "
   ]
  },
  {
   "cell_type": "code",
   "execution_count": 12,
   "metadata": {
    "scrolled": false
   },
   "outputs": [
    {
     "data": {
      "image/png": "[encoded data removed]",
      "text/plain": [
       "<matplotlib.figure.Figure at 0x11081cfd0>"
      ]
     },
     "metadata": {},
     "output_type": "display_data"
    }
   ],
   "source": [
    "fig, (ax1,ax2) = plt.subplots(1, 2, figsize = (12,4))\n",
    "\n",
    "ax1.step(x, epcdf_store_sig.T);\n",
    "ax1.step(x, epcdf_store_non.T);\n",
    "\n",
    "ax2.plot(x, eppdf_store_sig.T);\n",
    "ax2.plot(x, eppdf_store_non.T);"
   ]
  },
  {
   "cell_type": "code",
   "execution_count": 13,
   "metadata": {},
   "outputs": [
    {
     "name": "stdout",
     "output_type": "stream",
     "text": [
      "prob less than 62\n",
      "0.738822683139\n",
      "0.658871230886\n",
      "0.582918991026\n",
      "mean\n",
      "0.627469623302\n",
      "0.610162682623\n",
      "0.593997942574\n",
      "median\n",
      "0.6\n",
      "0.5844478\n",
      "0.57\n",
      "mean_non\n",
      "0.508376281429\n",
      "0.500418486445\n",
      "0.49400118103\n",
      "median_non\n",
      "0.501287955182\n",
      "0.496867955182\n",
      "0.491287955182\n",
      "thresh 1\n",
      "0.601287955182\n",
      "0.553415535182\n",
      "0.531287955182\n",
      "prob less thresh 1\n",
      "0.610639163878\n",
      "0.247551888779\n",
      "0.0796408666076\n"
     ]
    }
   ],
   "source": [
    "print('prob less than 62')\n",
    "print(np.percentile(prob_less_than_62,95))\n",
    "print(np.mean(prob_less_than_62))\n",
    "print(np.percentile(prob_less_than_62,5))\n",
    "\n",
    "print('mean')\n",
    "print(np.percentile(meann,95))\n",
    "print(np.mean(meann))\n",
    "print(np.percentile(meann,5))\n",
    "\n",
    "print('median')\n",
    "print(np.percentile(mediann,95))\n",
    "print(np.mean(mediann))\n",
    "print(np.percentile(mediann,5))\n",
    "\n",
    "print('mean_non')\n",
    "print(np.percentile(meann_non,95))\n",
    "print(np.mean(meann_non))\n",
    "print(np.percentile(meann_non,5))\n",
    "\n",
    "print('median_non')\n",
    "print(np.percentile(mediann_non,95))\n",
    "print(np.mean(mediann_non))\n",
    "print(np.percentile(mediann_non,5))\n",
    "\n",
    "print('thresh 1')\n",
    "print(np.percentile(sig_thresh1,95))\n",
    "print(np.mean(sig_thresh1))\n",
    "print(np.percentile(sig_thresh1,5))\n",
    "\n",
    "# print('thresh 2')\n",
    "# print(np.percentile(sig_thresh2,95))\n",
    "# print(np.mean(sig_thresh2))\n",
    "# print(np.percentile(sig_thresh2,5))\n",
    "\n",
    "print('prob less thresh 1')\n",
    "print(np.percentile(prob_less_than_thresh1,95))\n",
    "print(np.mean(prob_less_than_thresh1))\n",
    "print(np.percentile(prob_less_than_thresh1,5))\n",
    "\n",
    "# print('prob less thresh 2')\n",
    "# print(np.percentile(prob_less_than_thresh2,95))\n",
    "# print(np.mean(prob_less_than_thresh2))\n",
    "# print(np.percentile(prob_less_than_thresh2,5))"
   ]
  },
  {
   "cell_type": "markdown",
   "metadata": {},
   "source": [
    "# Run again without recentering\n"
   ]
  },
  {
   "cell_type": "code",
   "execution_count": 14,
   "metadata": {
    "collapsed": true
   },
   "outputs": [],
   "source": [
    "out = get_data_for_sig_nonsig_analyses(version='v8b')\n",
    "df_50_nonsig = out['df_50_nonsig']\n",
    "df_50_sig = out['df_50_sig']\n",
    "df_50_nonsig = out['df_50_nonsig']"
   ]
  },
  {
   "cell_type": "code",
   "execution_count": 15,
   "metadata": {
    "collapsed": true
   },
   "outputs": [],
   "source": [
    "num_boots = 500\n",
    "#accs_boot = np.empty((num_boots,len(df_50_sig)))\n",
    "\n",
    "#prob_less_than\n",
    "meann = np.array([])\n",
    "mediann = np.array([])\n",
    "\n",
    "meann_non = np.array([])\n",
    "mediann_non = np.array([])\n",
    "\n",
    "prob_less_than_62 = np.array([])\n",
    "\n",
    "sig_thresh1 = np.array([])\n",
    "sig_thresh2 = np.array([])\n",
    "\n",
    "prob_less_than_thresh1 = np.array([])\n",
    "prob_less_than_thresh2 = np.array([])\n",
    "\n",
    "\n",
    "x = np.linspace(0,1,100) # what range for cdf # \n",
    "\n",
    "epcdf_store_non = np.empty((num_boots,len(x)))\n",
    "epcdf_store_sig = np.empty((num_boots,len(x)))\n",
    "\n",
    "\n",
    "eppdf_store_non= np.empty((num_boots,len(x)))\n",
    "eppdf_store_sig= np.empty((num_boots,len(x)))\n",
    "\n",
    "for boot in range(num_boots):\n",
    "                           \n",
    "    # NON SIGS \n",
    "    studies_boot = np.random.choice(df_50_nonsig['PID'].unique(),len(df_50_nonsig['PID'].unique()),replace=True)\n",
    "    study_accs_boot = np.array([])\n",
    "    maxes = []\n",
    "    for pid in studies_boot:\n",
    "        # sample same number of observations within a pid\n",
    "         study_acc_b_single = np.random.choice(df_50_nonsig.loc[df_50_nonsig['PID']==pid,'Accuracy.50'],size=len(df_50_nonsig.loc[df_50_nonsig['PID']==pid,'Accuracy.50']),replace=True)\n",
    "         study_accs_boot= np.append(study_accs_boot,study_acc_b_single)\n",
    "         maxes.append(np.max(study_acc_b_single))\n",
    "            \n",
    "    # store empirical distribution function\n",
    "    ecdf = sm.distributions.empirical_distribution.ECDF(study_accs_boot)\n",
    "    epcdf_store_non[boot,:]=ecdf(x)\n",
    "    \n",
    "    # store pdf\n",
    "    kd = kde_scipy(study_accs_boot,x,bw_method='scott')\n",
    "    eppdf_store_non[boot,:]=kd\n",
    "    \n",
    "    maxes = np.array(maxes)\n",
    "    sig_thresh2_b = maxes.mean()\n",
    "    sig_thresh2 = np.append(sig_thresh2,sig_thresh2_b)\n",
    "    \n",
    "    sig_thresh1_b = np.percentile(study_accs_boot,95)\n",
    "    sig_thresh1 = np.append(sig_thresh1,sig_thresh1_b)\n",
    "    \n",
    "    meann_non = np.append(meann_non,np.mean(study_accs_boot))\n",
    "    mediann_non = np.append(mediann_non,np.median(study_accs_boot))\n",
    "    \n",
    "    mn = np.mean(study_accs_boot)\n",
    "    \n",
    "    # SIGS \n",
    "    studies_boot = np.random.choice(df_50_sig['PID'].unique(),len(df_50_sig['PID'].unique()),replace=True)\n",
    "    study_accs_boot = np.array([])\n",
    "    for pid in studies_boot:\n",
    "        # sample same number of observations within a pid\n",
    "         study_accs_boot= np.append(study_accs_boot,np.random.choice(df_50_sig.loc[df_50_sig['PID']==pid,'Accuracy.50'],size=len(df_50_sig.loc[df_50_sig['PID']==pid,'Accuracy.50']),replace=True))\n",
    "    \n",
    "    ms = np.mean(study_accs_boot)\n",
    "    \n",
    "    # effect size (population effect)\n",
    "    #ms-mn / \n",
    "    \n",
    "    # store empirical distribution function\n",
    "    ecdf = sm.distributions.empirical_distribution.ECDF(study_accs_boot)\n",
    "    epcdf_store_sig[boot,:]=ecdf(x)\n",
    "    \n",
    "    # store pdf\n",
    "    kd = kde_scipy(study_accs_boot,x,bw_method='scott')\n",
    "    eppdf_store_sig[boot,:]=kd\n",
    "    \n",
    "    meann = np.append(meann,np.mean(study_accs_boot))\n",
    "    mediann = np.append(mediann,np.median(study_accs_boot))\n",
    "    \n",
    "    prob_less_than_62 = np.append(prob_less_than_62,np.sum(study_accs_boot<.62)/float(len(study_accs_boot)))\n",
    "    prob_less_than_thresh1 = np.append(prob_less_than_thresh1,np.sum(study_accs_boot<sig_thresh1_b)/float(len(study_accs_boot)))\n",
    "    prob_less_than_thresh2 = np.append(prob_less_than_thresh2,np.sum(study_accs_boot<sig_thresh2_b)/float(len(study_accs_boot)))\n",
    "    "
   ]
  },
  {
   "cell_type": "code",
   "execution_count": 16,
   "metadata": {
    "collapsed": true
   },
   "outputs": [],
   "source": [
    "np.savez('../data_meta_analysis/data_derived_meta_analysis/bootstrap_results_together_v8b',epcdf_store_non=epcdf_store_non,\n",
    "          epcdf_store_si=epcdf_store_sig,\n",
    "           eppdf_store_non= eppdf_store_non,\n",
    "           eppdf_store_sig= eppdf_store_sig,\n",
    "          meann= meann,\n",
    "         mediann = mediann,\n",
    "        meann_non= meann_non,\n",
    "         mediann_non = mediann_non,\n",
    "         prob_less_than_62 =prob_less_than_62,\n",
    "         sig_thresh1=sig_thresh1,\n",
    "         sig_thresh2=sig_thresh2)"
   ]
  },
  {
   "cell_type": "code",
   "execution_count": 17,
   "metadata": {
    "collapsed": true
   },
   "outputs": [],
   "source": [
    "boot_results = np.load('../data_meta_analysis/data_derived_meta_analysis/bootstrap_results_together_v8b.npz')"
   ]
  },
  {
   "cell_type": "code",
   "execution_count": 18,
   "metadata": {},
   "outputs": [
    {
     "name": "stdout",
     "output_type": "stream",
     "text": [
      "prob less than 62\n",
      "0.744412698296\n",
      "0.656521354331\n",
      "0.579038883689\n",
      "mean\n",
      "0.627170752813\n",
      "0.61052427705\n",
      "0.593513873527\n",
      "median\n",
      "0.6\n",
      "0.5846545\n",
      "0.57\n",
      "mean_non\n",
      "0.526839329909\n",
      "0.519164252278\n",
      "0.512533876369\n",
      "median_non\n",
      "0.52\n",
      "0.515382\n",
      "0.51\n",
      "thresh 1\n",
      "0.62\n",
      "0.57261626\n",
      "0.55\n",
      "prob less thresh 1\n",
      "0.659519466912\n",
      "0.369346222795\n",
      "0.170130067801\n"
     ]
    }
   ],
   "source": [
    "print('prob less than 62')\n",
    "print(np.percentile(prob_less_than_62,95))\n",
    "print(np.mean(prob_less_than_62))\n",
    "print(np.percentile(prob_less_than_62,5))\n",
    "\n",
    "print('mean')\n",
    "print(np.percentile(meann,95))\n",
    "print(np.mean(meann))\n",
    "print(np.percentile(meann,5))\n",
    "\n",
    "print('median')\n",
    "print(np.percentile(mediann,95))\n",
    "print(np.mean(mediann))\n",
    "print(np.percentile(mediann,5))\n",
    "\n",
    "print('mean_non')\n",
    "print(np.percentile(meann_non,95))\n",
    "print(np.mean(meann_non))\n",
    "print(np.percentile(meann_non,5))\n",
    "\n",
    "print('median_non')\n",
    "print(np.percentile(mediann_non,95))\n",
    "print(np.mean(mediann_non))\n",
    "print(np.percentile(mediann_non,5))\n",
    "\n",
    "print('thresh 1')\n",
    "print(np.percentile(sig_thresh1,95))\n",
    "print(np.mean(sig_thresh1))\n",
    "print(np.percentile(sig_thresh1,5))\n",
    "\n",
    "# print('thresh 2')\n",
    "# print(np.percentile(sig_thresh2,95))\n",
    "# print(np.mean(sig_thresh2))\n",
    "# print(np.percentile(sig_thresh2,5))\n",
    "\n",
    "print('prob less thresh 1')\n",
    "print(np.percentile(prob_less_than_thresh1,95))\n",
    "print(np.mean(prob_less_than_thresh1))\n",
    "print(np.percentile(prob_less_than_thresh1,5))\n",
    "\n",
    "# print('prob less thresh 2')\n",
    "# print(np.percentile(prob_less_than_thresh2,95))\n",
    "# print(np.mean(prob_less_than_thresh2))\n",
    "# print(np.percentile(prob_less_than_thresh2,5))"
   ]
  },
  {
   "cell_type": "code",
   "execution_count": null,
   "metadata": {
    "collapsed": true
   },
   "outputs": [],
   "source": []
  }
 ],
 "metadata": {
  "hide_input": false,
  "kernelspec": {
   "display_name": "Python 2",
   "language": "python",
   "name": "python2"
  },
  "language_info": {
   "codemirror_mode": {
    "name": "ipython",
    "version": 2
   },
   "file_extension": ".py",
   "mimetype": "text/x-python",
   "name": "python",
   "nbconvert_exporter": "python",
   "pygments_lexer": "ipython2",
   "version": "2.7.14"
  },
  "toc": {
   "nav_menu": {},
   "number_sections": true,
   "sideBar": true,
   "skip_h1_title": false,
   "toc_cell": false,
   "toc_position": {},
   "toc_section_display": "block",
   "toc_window_display": false
  }
 },
 "nbformat": 4,
 "nbformat_minor": 1
}
