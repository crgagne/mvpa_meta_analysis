{
 "cells": [
  {
   "cell_type": "code",
   "execution_count": 1,
   "metadata": {
    "init_cell": true
   },
   "outputs": [
    {
     "name": "stderr",
     "output_type": "stream",
     "text": [
      "Loading required package: mvtnorm\n",
      "Loading required package: survival\n",
      "Loading required package: TH.data\n",
      "Loading required package: MASS\n",
      "\n",
      "Attaching package: ‘TH.data’\n",
      "\n",
      "The following object is masked from ‘package:MASS’:\n",
      "\n",
      "    geyser\n",
      "\n",
      "Warning message:\n",
      "“package ‘corrplot’ was built under R version 3.4.2”corrplot 0.84 loaded\n",
      "Loading required package: carData\n",
      "lattice theme set by effectsTheme()\n",
      "See ?effectsTheme for details.\n",
      "\n",
      "Attaching package: ‘reshape’\n",
      "\n",
      "The following object is masked from ‘package:data.table’:\n",
      "\n",
      "    melt\n",
      "\n"
     ]
    }
   ],
   "source": [
    "library(nlme)\n",
    "library(multcomp)\n",
    "options(jupyter.plot_mimetypes = \"image/png\")\n",
    "library(ggplot2)\n",
    "library(corrplot)\n",
    "library(gridExtra)\n",
    "library(grid)\n",
    "library(data.table)\n",
    "library(effects)\n",
    "library(xtable)\n",
    "library(reshape)"
   ]
  },
  {
   "cell_type": "markdown",
   "metadata": {},
   "source": [
    "# Load Data"
   ]
  },
  {
   "cell_type": "code",
   "execution_count": 3,
   "metadata": {
    "collapsed": true
   },
   "outputs": [],
   "source": [
    "data = read.csv(\"../data_meta_analysis/Data_Classifications_v8b.csv\")"
   ]
  },
  {
   "cell_type": "code",
   "execution_count": 5,
   "metadata": {
    "collapsed": true
   },
   "outputs": [],
   "source": [
    "data<-data[c('PID','Info.type','Accuracy.50','Significance','Roi.Search',\n",
    "             'Pattern.type','Classifier.type','Scanner','Smoothing',\n",
    "             'Coregistration','Pattern.normalization.type','Num_subs','Voxel.numbers',\n",
    "             'Resolution','Training.setsize')]\n",
    "\n",
    "factors<-c('Info.type','Significance','Roi.Search',\n",
    "             'Pattern.type','Classifier.type','Scanner','Smoothing',\n",
    "           'Coregistration','Pattern.normalization.type','Num_subs','Voxel.numbers',\n",
    "             'Resolution','Training.setsize')"
   ]
  },
  {
   "cell_type": "code",
   "execution_count": 6,
   "metadata": {
    "init_cell": true
   },
   "outputs": [
    {
     "data": {
      "text/html": [
       "<ol class=list-inline>\n",
       "\t<li>'R4Frontal_Sup'</li>\n",
       "\t<li>'R4Frontal_Mid'</li>\n",
       "\t<li>'R4Frontal_Inf'</li>\n",
       "\t<li>'R4Frontal_Orb'</li>\n",
       "\t<li>'R4Insula'</li>\n",
       "\t<li>'R4Motor'</li>\n",
       "\t<li>'R4Cingulum'</li>\n",
       "</ol>\n"
      ],
      "text/latex": [
       "\\begin{enumerate*}\n",
       "\\item 'R4Frontal\\_Sup'\n",
       "\\item 'R4Frontal\\_Mid'\n",
       "\\item 'R4Frontal\\_Inf'\n",
       "\\item 'R4Frontal\\_Orb'\n",
       "\\item 'R4Insula'\n",
       "\\item 'R4Motor'\n",
       "\\item 'R4Cingulum'\n",
       "\\end{enumerate*}\n"
      ],
      "text/markdown": [
       "1. 'R4Frontal_Sup'\n",
       "2. 'R4Frontal_Mid'\n",
       "3. 'R4Frontal_Inf'\n",
       "4. 'R4Frontal_Orb'\n",
       "5. 'R4Insula'\n",
       "6. 'R4Motor'\n",
       "7. 'R4Cingulum'\n",
       "\n",
       "\n"
      ],
      "text/plain": [
       "[1] \"R4Frontal_Sup\" \"R4Frontal_Mid\" \"R4Frontal_Inf\" \"R4Frontal_Orb\"\n",
       "[5] \"R4Insula\"      \"R4Motor\"       \"R4Cingulum\"   "
      ]
     },
     "metadata": {},
     "output_type": "display_data"
    },
    {
     "data": {
      "text/html": [
       "<table>\n",
       "<thead><tr><th scope=col>R4Frontal_Sup</th><th scope=col>R4Frontal_Mid</th><th scope=col>R4Frontal_Inf</th><th scope=col>R4Frontal_Orb</th><th scope=col>R4Insula</th><th scope=col>R4Motor</th><th scope=col>R4Cingulum</th></tr></thead>\n",
       "<tbody>\n",
       "\t<tr><td>0</td><td>0</td><td>1</td><td>0</td><td>0</td><td>0</td><td>0</td></tr>\n",
       "\t<tr><td>0</td><td>0</td><td>0</td><td>0</td><td>1</td><td>0</td><td>0</td></tr>\n",
       "\t<tr><td>0</td><td>0</td><td>1</td><td>0</td><td>0</td><td>0</td><td>0</td></tr>\n",
       "\t<tr><td>0</td><td>0</td><td>0</td><td>0</td><td>1</td><td>0</td><td>0</td></tr>\n",
       "\t<tr><td>0</td><td>0</td><td>1</td><td>0</td><td>0</td><td>0</td><td>0</td></tr>\n",
       "\t<tr><td>0</td><td>0</td><td>0</td><td>0</td><td>1</td><td>0</td><td>0</td></tr>\n",
       "</tbody>\n",
       "</table>\n"
      ],
      "text/latex": [
       "\\begin{tabular}{r|lllllll}\n",
       " R4Frontal\\_Sup & R4Frontal\\_Mid & R4Frontal\\_Inf & R4Frontal\\_Orb & R4Insula & R4Motor & R4Cingulum\\\\\n",
       "\\hline\n",
       "\t 0 & 0 & 1 & 0 & 0 & 0 & 0\\\\\n",
       "\t 0 & 0 & 0 & 0 & 1 & 0 & 0\\\\\n",
       "\t 0 & 0 & 1 & 0 & 0 & 0 & 0\\\\\n",
       "\t 0 & 0 & 0 & 0 & 1 & 0 & 0\\\\\n",
       "\t 0 & 0 & 1 & 0 & 0 & 0 & 0\\\\\n",
       "\t 0 & 0 & 0 & 0 & 1 & 0 & 0\\\\\n",
       "\\end{tabular}\n"
      ],
      "text/markdown": [
       "\n",
       "R4Frontal_Sup | R4Frontal_Mid | R4Frontal_Inf | R4Frontal_Orb | R4Insula | R4Motor | R4Cingulum | \n",
       "|---|---|---|---|---|---|\n",
       "| 0 | 0 | 1 | 0 | 0 | 0 | 0 | \n",
       "| 0 | 0 | 0 | 0 | 1 | 0 | 0 | \n",
       "| 0 | 0 | 1 | 0 | 0 | 0 | 0 | \n",
       "| 0 | 0 | 0 | 0 | 1 | 0 | 0 | \n",
       "| 0 | 0 | 1 | 0 | 0 | 0 | 0 | \n",
       "| 0 | 0 | 0 | 0 | 1 | 0 | 0 | \n",
       "\n",
       "\n"
      ],
      "text/plain": [
       "  R4Frontal_Sup R4Frontal_Mid R4Frontal_Inf R4Frontal_Orb R4Insula R4Motor\n",
       "1 0             0             1             0             0        0      \n",
       "2 0             0             0             0             1        0      \n",
       "3 0             0             1             0             0        0      \n",
       "4 0             0             0             0             1        0      \n",
       "5 0             0             1             0             0        0      \n",
       "6 0             0             0             0             1        0      \n",
       "  R4Cingulum\n",
       "1 0         \n",
       "2 0         \n",
       "3 0         \n",
       "4 0         \n",
       "5 0         \n",
       "6 0         "
      ]
     },
     "metadata": {},
     "output_type": "display_data"
    }
   ],
   "source": [
    "R4 = read.csv(paste(\"../data_meta_analysis/data_derived_meta_analysis/X_region1_after_clustering2_v8b.csv\"))\n",
    "\n",
    "R4names = colnames(R4)\n",
    "i=1\n",
    "for (name in R4names){\n",
    "    R4names[i]<-paste(sep='','R4',name)\n",
    "    i=i+1\n",
    "}\n",
    "R4names\n",
    "colnames(R4)<-R4names\n",
    "head(R4)"
   ]
  },
  {
   "cell_type": "code",
   "execution_count": 7,
   "metadata": {},
   "outputs": [
    {
     "data": {
      "text/html": [
       "891"
      ],
      "text/latex": [
       "891"
      ],
      "text/markdown": [
       "891"
      ],
      "text/plain": [
       "[1] 891"
      ]
     },
     "metadata": {},
     "output_type": "display_data"
    },
    {
     "data": {
      "text/html": [
       "891"
      ],
      "text/latex": [
       "891"
      ],
      "text/markdown": [
       "891"
      ],
      "text/plain": [
       "[1] 891"
      ]
     },
     "metadata": {},
     "output_type": "display_data"
    }
   ],
   "source": [
    "nrow(R4)\n",
    "nrow(data)"
   ]
  },
  {
   "cell_type": "code",
   "execution_count": 8,
   "metadata": {
    "init_cell": true
   },
   "outputs": [
    {
     "data": {
      "text/html": [
       "<table>\n",
       "<thead><tr><th></th><th scope=col>PID</th><th scope=col>Info.type</th><th scope=col>Accuracy.50</th><th scope=col>Significance</th><th scope=col>Roi.Search</th><th scope=col>Pattern.type</th><th scope=col>Classifier.type</th><th scope=col>Scanner</th><th scope=col>Smoothing</th><th scope=col>Coregistration</th><th scope=col>⋯</th><th scope=col>Voxel.numbers</th><th scope=col>Resolution</th><th scope=col>Training.setsize</th><th scope=col>R4Frontal_Sup</th><th scope=col>R4Frontal_Mid</th><th scope=col>R4Frontal_Inf</th><th scope=col>R4Frontal_Orb</th><th scope=col>R4Insula</th><th scope=col>R4Motor</th><th scope=col>R4Cingulum</th></tr></thead>\n",
       "<tbody>\n",
       "\t<tr><th scope=row>4</th><td>1                            </td><td>Perceptual                   </td><td>0.528                        </td><td>1                            </td><td>ROI                          </td><td>Multi-Trial Multi-Time Point </td><td>svm-lin                      </td><td>3T                           </td><td>unsmooth                     </td><td>Native Space                 </td><td>⋯                            </td><td>111                          </td><td>3mmx3mmx3.75mm               </td><td>36                           </td><td>0                            </td><td>0                            </td><td>0                            </td><td>0                            </td><td>1                            </td><td>0                            </td><td>0                            </td></tr>\n",
       "\t<tr><th scope=row>9</th><td>1                            </td><td>Rule                         </td><td>0.535                        </td><td>1                            </td><td>ROI                          </td><td>Multi-Trial Multi-Time Point </td><td>svm-lin                      </td><td>3T                           </td><td>unsmooth                     </td><td>Native Space                 </td><td>⋯                            </td><td>111                          </td><td>3mmx3mmx3.75mm               </td><td>36                           </td><td>0                            </td><td>0                            </td><td>0                            </td><td>0                            </td><td>1                            </td><td>0                            </td><td>0                            </td></tr>\n",
       "\t<tr><th scope=row>10</th><td>1                            </td><td>Rule                         </td><td>0.541                        </td><td>1                            </td><td>ROI                          </td><td>Multi-Trial Multi-Time Point </td><td>svm-lin                      </td><td>3T                           </td><td>unsmooth                     </td><td>Native Space                 </td><td>⋯                            </td><td>630                          </td><td>3mmx3mmx3.75mm               </td><td>36                           </td><td>0                            </td><td>0                            </td><td>1                            </td><td>0                            </td><td>0                            </td><td>0                            </td><td>0                            </td></tr>\n",
       "\t<tr><th scope=row>11</th><td>1                            </td><td>Rule                         </td><td>0.543                        </td><td>1                            </td><td>ROI                          </td><td>Multi-Trial Multi-Time Point </td><td>svm-lin                      </td><td>3T                           </td><td>unsmooth                     </td><td>Native Space                 </td><td>⋯                            </td><td>111                          </td><td>3mmx3mmx3.75mm               </td><td>36                           </td><td>0                            </td><td>0                            </td><td>0                            </td><td>0                            </td><td>1                            </td><td>0                            </td><td>0                            </td></tr>\n",
       "\t<tr><th scope=row>12</th><td>1                            </td><td>Rule                         </td><td>0.593                        </td><td>1                            </td><td>ROI                          </td><td>Multi-Trial Multi-Time Point </td><td>svm-lin                      </td><td>3T                           </td><td>unsmooth                     </td><td>Native Space                 </td><td>⋯                            </td><td>315                          </td><td>3mmx3mmx3.75mm               </td><td>36                           </td><td>0                            </td><td>0                            </td><td>1                            </td><td>0                            </td><td>0                            </td><td>0                            </td><td>0                            </td></tr>\n",
       "\t<tr><th scope=row>16</th><td>2                            </td><td>Rule                         </td><td>0.640                        </td><td>1                            </td><td>ROI                          </td><td>Single Trial Multi-Time Point</td><td>LDA                          </td><td>3T                           </td><td>unsmooth                     </td><td>Native Space                 </td><td>⋯                            </td><td>140                          </td><td>3mmx3mmx4mm                  </td><td>98                           </td><td>0                            </td><td>0                            </td><td>0                            </td><td>0                            </td><td>0                            </td><td>1                            </td><td>0                            </td></tr>\n",
       "</tbody>\n",
       "</table>\n"
      ],
      "text/latex": [
       "\\begin{tabular}{r|llllllllllllllllllllll}\n",
       "  & PID & Info.type & Accuracy.50 & Significance & Roi.Search & Pattern.type & Classifier.type & Scanner & Smoothing & Coregistration & ⋯ & Voxel.numbers & Resolution & Training.setsize & R4Frontal\\_Sup & R4Frontal\\_Mid & R4Frontal\\_Inf & R4Frontal\\_Orb & R4Insula & R4Motor & R4Cingulum\\\\\n",
       "\\hline\n",
       "\t4 & 1                             & Perceptual                    & 0.528                         & 1                             & ROI                           & Multi-Trial Multi-Time Point  & svm-lin                       & 3T                            & unsmooth                      & Native Space                  & ⋯                             & 111                           & 3mmx3mmx3.75mm                & 36                            & 0                             & 0                             & 0                             & 0                             & 1                             & 0                             & 0                            \\\\\n",
       "\t9 & 1                             & Rule                          & 0.535                         & 1                             & ROI                           & Multi-Trial Multi-Time Point  & svm-lin                       & 3T                            & unsmooth                      & Native Space                  & ⋯                             & 111                           & 3mmx3mmx3.75mm                & 36                            & 0                             & 0                             & 0                             & 0                             & 1                             & 0                             & 0                            \\\\\n",
       "\t10 & 1                             & Rule                          & 0.541                         & 1                             & ROI                           & Multi-Trial Multi-Time Point  & svm-lin                       & 3T                            & unsmooth                      & Native Space                  & ⋯                             & 630                           & 3mmx3mmx3.75mm                & 36                            & 0                             & 0                             & 1                             & 0                             & 0                             & 0                             & 0                            \\\\\n",
       "\t11 & 1                             & Rule                          & 0.543                         & 1                             & ROI                           & Multi-Trial Multi-Time Point  & svm-lin                       & 3T                            & unsmooth                      & Native Space                  & ⋯                             & 111                           & 3mmx3mmx3.75mm                & 36                            & 0                             & 0                             & 0                             & 0                             & 1                             & 0                             & 0                            \\\\\n",
       "\t12 & 1                             & Rule                          & 0.593                         & 1                             & ROI                           & Multi-Trial Multi-Time Point  & svm-lin                       & 3T                            & unsmooth                      & Native Space                  & ⋯                             & 315                           & 3mmx3mmx3.75mm                & 36                            & 0                             & 0                             & 1                             & 0                             & 0                             & 0                             & 0                            \\\\\n",
       "\t16 & 2                             & Rule                          & 0.640                         & 1                             & ROI                           & Single Trial Multi-Time Point & LDA                           & 3T                            & unsmooth                      & Native Space                  & ⋯                             & 140                           & 3mmx3mmx4mm                   & 98                            & 0                             & 0                             & 0                             & 0                             & 0                             & 1                             & 0                            \\\\\n",
       "\\end{tabular}\n"
      ],
      "text/markdown": [
       "\n",
       "| <!--/--> | PID | Info.type | Accuracy.50 | Significance | Roi.Search | Pattern.type | Classifier.type | Scanner | Smoothing | Coregistration | ⋯ | Voxel.numbers | Resolution | Training.setsize | R4Frontal_Sup | R4Frontal_Mid | R4Frontal_Inf | R4Frontal_Orb | R4Insula | R4Motor | R4Cingulum | \n",
       "|---|---|---|---|---|---|\n",
       "| 4 | 1                             | Perceptual                    | 0.528                         | 1                             | ROI                           | Multi-Trial Multi-Time Point  | svm-lin                       | 3T                            | unsmooth                      | Native Space                  | ⋯                             | 111                           | 3mmx3mmx3.75mm                | 36                            | 0                             | 0                             | 0                             | 0                             | 1                             | 0                             | 0                             | \n",
       "| 9 | 1                             | Rule                          | 0.535                         | 1                             | ROI                           | Multi-Trial Multi-Time Point  | svm-lin                       | 3T                            | unsmooth                      | Native Space                  | ⋯                             | 111                           | 3mmx3mmx3.75mm                | 36                            | 0                             | 0                             | 0                             | 0                             | 1                             | 0                             | 0                             | \n",
       "| 10 | 1                             | Rule                          | 0.541                         | 1                             | ROI                           | Multi-Trial Multi-Time Point  | svm-lin                       | 3T                            | unsmooth                      | Native Space                  | ⋯                             | 630                           | 3mmx3mmx3.75mm                | 36                            | 0                             | 0                             | 1                             | 0                             | 0                             | 0                             | 0                             | \n",
       "| 11 | 1                             | Rule                          | 0.543                         | 1                             | ROI                           | Multi-Trial Multi-Time Point  | svm-lin                       | 3T                            | unsmooth                      | Native Space                  | ⋯                             | 111                           | 3mmx3mmx3.75mm                | 36                            | 0                             | 0                             | 0                             | 0                             | 1                             | 0                             | 0                             | \n",
       "| 12 | 1                             | Rule                          | 0.593                         | 1                             | ROI                           | Multi-Trial Multi-Time Point  | svm-lin                       | 3T                            | unsmooth                      | Native Space                  | ⋯                             | 315                           | 3mmx3mmx3.75mm                | 36                            | 0                             | 0                             | 1                             | 0                             | 0                             | 0                             | 0                             | \n",
       "| 16 | 2                             | Rule                          | 0.640                         | 1                             | ROI                           | Single Trial Multi-Time Point | LDA                           | 3T                            | unsmooth                      | Native Space                  | ⋯                             | 140                           | 3mmx3mmx4mm                   | 98                            | 0                             | 0                             | 0                             | 0                             | 0                             | 1                             | 0                             | \n",
       "\n",
       "\n"
      ],
      "text/plain": [
       "   PID Info.type  Accuracy.50 Significance Roi.Search\n",
       "4  1   Perceptual 0.528       1            ROI       \n",
       "9  1   Rule       0.535       1            ROI       \n",
       "10 1   Rule       0.541       1            ROI       \n",
       "11 1   Rule       0.543       1            ROI       \n",
       "12 1   Rule       0.593       1            ROI       \n",
       "16 2   Rule       0.640       1            ROI       \n",
       "   Pattern.type                  Classifier.type Scanner Smoothing\n",
       "4  Multi-Trial Multi-Time Point  svm-lin         3T      unsmooth \n",
       "9  Multi-Trial Multi-Time Point  svm-lin         3T      unsmooth \n",
       "10 Multi-Trial Multi-Time Point  svm-lin         3T      unsmooth \n",
       "11 Multi-Trial Multi-Time Point  svm-lin         3T      unsmooth \n",
       "12 Multi-Trial Multi-Time Point  svm-lin         3T      unsmooth \n",
       "16 Single Trial Multi-Time Point LDA             3T      unsmooth \n",
       "   Coregistration ⋯ Voxel.numbers Resolution     Training.setsize R4Frontal_Sup\n",
       "4  Native Space   ⋯ 111           3mmx3mmx3.75mm 36               0            \n",
       "9  Native Space   ⋯ 111           3mmx3mmx3.75mm 36               0            \n",
       "10 Native Space   ⋯ 630           3mmx3mmx3.75mm 36               0            \n",
       "11 Native Space   ⋯ 111           3mmx3mmx3.75mm 36               0            \n",
       "12 Native Space   ⋯ 315           3mmx3mmx3.75mm 36               0            \n",
       "16 Native Space   ⋯ 140           3mmx3mmx4mm    98               0            \n",
       "   R4Frontal_Mid R4Frontal_Inf R4Frontal_Orb R4Insula R4Motor R4Cingulum\n",
       "4  0             0             0             1        0       0         \n",
       "9  0             0             0             1        0       0         \n",
       "10 0             1             0             0        0       0         \n",
       "11 0             0             0             1        0       0         \n",
       "12 0             1             0             0        0       0         \n",
       "16 0             0             0             0        1       0         "
      ]
     },
     "metadata": {},
     "output_type": "display_data"
    },
    {
     "data": {
      "text/html": [
       "512"
      ],
      "text/latex": [
       "512"
      ],
      "text/markdown": [
       "512"
      ],
      "text/plain": [
       "[1] 512"
      ]
     },
     "metadata": {},
     "output_type": "display_data"
    }
   ],
   "source": [
    "data = cbind(data,R4) # will bind with other region names too \n",
    "\n",
    "\n",
    "# mscl fixed \n",
    "data<-data[!data$Classifier.type=='neural-net',] # no observations but still has a level\n",
    "data[data$Scanner=='4T','Scanner']='3T' # only one observatoin with 3T\n",
    "\n",
    "data$PID<-as.factor(data$PID)\n",
    "data$Info.type<-as.factor(data$Info.type)\n",
    "data$Smoothing<-as.factor(data$Smoothing)\n",
    "data$Roi.Search<-as.factor(data$Roi.Search)\n",
    "data$Classifier.type<-as.factor(data$Classifier.type)\n",
    "data$Coregistration<-as.factor(data$Coregistration)\n",
    "data$Pattern.type<-as.factor(data$Pattern.type)\n",
    "data$Pattern.normalization.type<-as.factor(data$Pattern.normalization.type)\n",
    "\n",
    "# droplevels\n",
    "data<-droplevels(data)\n",
    "\n",
    "# sig / non sig split \n",
    "data_50<-subset(data,!is.na(Accuracy.50))\n",
    "data_50_non<-subset(data,!is.na(Accuracy.50)& Significance==0)\n",
    "data_50_sig<-subset(data,!is.na(Accuracy.50) & Significance==1)\n",
    "head(data_50_sig)\n",
    "nrow(data_50_sig)\n",
    "\n"
   ]
  },
  {
   "cell_type": "code",
   "execution_count": 9,
   "metadata": {},
   "outputs": [
    {
     "data": {
      "text/html": [
       "<ol class=list-inline>\n",
       "\t<li>'Perceptual'</li>\n",
       "\t<li>'Response'</li>\n",
       "\t<li>'Rule'</li>\n",
       "\t<li>'Value'</li>\n",
       "</ol>\n"
      ],
      "text/latex": [
       "\\begin{enumerate*}\n",
       "\\item 'Perceptual'\n",
       "\\item 'Response'\n",
       "\\item 'Rule'\n",
       "\\item 'Value'\n",
       "\\end{enumerate*}\n"
      ],
      "text/markdown": [
       "1. 'Perceptual'\n",
       "2. 'Response'\n",
       "3. 'Rule'\n",
       "4. 'Value'\n",
       "\n",
       "\n"
      ],
      "text/plain": [
       "[1] \"Perceptual\" \"Response\"   \"Rule\"       \"Value\"     "
      ]
     },
     "metadata": {},
     "output_type": "display_data"
    }
   ],
   "source": [
    "#data[data$Info.type==levels(data$Info.type)[1],]\n",
    "levels(data$Info.type)"
   ]
  },
  {
   "cell_type": "markdown",
   "metadata": {},
   "source": [
    "# Just interaction model "
   ]
  },
  {
   "cell_type": "code",
   "execution_count": 10,
   "metadata": {},
   "outputs": [
    {
     "data": {
      "text/html": [
       "'R4Frontal_Sup+R4Frontal_Mid+R4Frontal_Inf+R4Frontal_Orb+R4Insula+R4Motor+R4Cingulum'"
      ],
      "text/latex": [
       "'R4Frontal\\_Sup+R4Frontal\\_Mid+R4Frontal\\_Inf+R4Frontal\\_Orb+R4Insula+R4Motor+R4Cingulum'"
      ],
      "text/markdown": [
       "'R4Frontal_Sup+R4Frontal_Mid+R4Frontal_Inf+R4Frontal_Orb+R4Insula+R4Motor+R4Cingulum'"
      ],
      "text/plain": [
       "[1] \"R4Frontal_Sup+R4Frontal_Mid+R4Frontal_Inf+R4Frontal_Orb+R4Insula+R4Motor+R4Cingulum\""
      ]
     },
     "metadata": {},
     "output_type": "display_data"
    }
   ],
   "source": [
    "R1names_string<-c()\n",
    "for (R in R4names){\n",
    "    R1names_string<-paste(R1names_string,R,sep='+')\n",
    "    \n",
    "}\n",
    "R1names_string<-substring(R1names_string, 2)\n",
    "R1names_string"
   ]
  },
  {
   "cell_type": "code",
   "execution_count": 11,
   "metadata": {
    "collapsed": true
   },
   "outputs": [],
   "source": [
    "d<-data_50_sig[c('Accuracy.50','PID','Info.type',R4names)]\n",
    "gmean<-mean(d$Accuracy.50)\n",
    "d$Accuracy.50_wo_gmean<-d$Accuracy.50-gmean\n",
    "R1names_string2<-paste(R1names_string,')',sep='')\n",
    "d$Info.type<-as.factor(d$Info.type)\n"
   ]
  },
  {
   "cell_type": "code",
   "execution_count": 12,
   "metadata": {},
   "outputs": [
    {
     "data": {
      "text/html": [
       "<ol class=list-inline>\n",
       "\t<li>'Value'</li>\n",
       "\t<li>'Perceptual'</li>\n",
       "\t<li>'Response'</li>\n",
       "\t<li>'Rule'</li>\n",
       "</ol>\n"
      ],
      "text/latex": [
       "\\begin{enumerate*}\n",
       "\\item 'Value'\n",
       "\\item 'Perceptual'\n",
       "\\item 'Response'\n",
       "\\item 'Rule'\n",
       "\\end{enumerate*}\n"
      ],
      "text/markdown": [
       "1. 'Value'\n",
       "2. 'Perceptual'\n",
       "3. 'Response'\n",
       "4. 'Rule'\n",
       "\n",
       "\n"
      ],
      "text/plain": [
       "[1] \"Value\"      \"Perceptual\" \"Response\"   \"Rule\"      "
      ]
     },
     "metadata": {},
     "output_type": "display_data"
    }
   ],
   "source": [
    "# first model matrix # value as reference\n",
    "d$Info.type=relevel(d$Info.type,ref='Value')\n",
    "levels(d$Info.type)\n",
    "region_model<-lme(as.formula(paste('Accuracy.50_wo_gmean~(',R1names_string2,'*Info.type',sep='')),random=~1|PID,data=d,method='REML')\n",
    "X<-model.matrix(region_model,d)\n",
    "X_interactions<-X[,12:ncol(X)]\n",
    "#head(X_interactions)"
   ]
  },
  {
   "cell_type": "code",
   "execution_count": 13,
   "metadata": {
    "scrolled": true
   },
   "outputs": [
    {
     "data": {
      "text/html": [
       "<ol class=list-inline>\n",
       "\t<li>'Rule'</li>\n",
       "\t<li>'Value'</li>\n",
       "\t<li>'Perceptual'</li>\n",
       "\t<li>'Response'</li>\n",
       "</ol>\n"
      ],
      "text/latex": [
       "\\begin{enumerate*}\n",
       "\\item 'Rule'\n",
       "\\item 'Value'\n",
       "\\item 'Perceptual'\n",
       "\\item 'Response'\n",
       "\\end{enumerate*}\n"
      ],
      "text/markdown": [
       "1. 'Rule'\n",
       "2. 'Value'\n",
       "3. 'Perceptual'\n",
       "4. 'Response'\n",
       "\n",
       "\n"
      ],
      "text/plain": [
       "[1] \"Rule\"       \"Value\"      \"Perceptual\" \"Response\"  "
      ]
     },
     "metadata": {},
     "output_type": "display_data"
    }
   ],
   "source": [
    "# second one \n",
    "d$Info.type=relevel(d$Info.type,ref='Rule')\n",
    "levels(d$Info.type)\n",
    "region_model<-lme(as.formula(paste('Accuracy.50_wo_gmean~(',R1names_string2,'*Info.type',sep='')),random=~1|PID,data=d,method='REML')\n",
    "X<-model.matrix(region_model,d)\n",
    "X_interactions2<-X[,12:ncol(X)]\n",
    "#head(X_interactions2)"
   ]
  },
  {
   "cell_type": "code",
   "execution_count": 14,
   "metadata": {
    "collapsed": true
   },
   "outputs": [],
   "source": [
    "#colnames(X_interactions2)\n",
    "#colnames(X_interactions)"
   ]
  },
  {
   "cell_type": "code",
   "execution_count": 15,
   "metadata": {
    "collapsed": true
   },
   "outputs": [],
   "source": [
    "\n",
    "X_value<-X_interactions2[,c(1,4,7,10,13,16,19)]\n",
    "X_perc<-X_interactions2[,c(2,5,8,11,14,17,20)]\n",
    "X_resp<-X_interactions2[,c(3,6,9,12,15,18,21)]\n",
    "X_rule<-X_interactions[,c(3,6,9,12,15,18,21)]\n",
    "X_new<-data.frame(cbind(X_value,X_perc,X_resp,X_rule))\n",
    "X_new<-as.matrix(X_new)\n"
   ]
  },
  {
   "cell_type": "code",
   "execution_count": 16,
   "metadata": {},
   "outputs": [
    {
     "data": {
      "text/html": [
       "<table>\n",
       "<thead><tr><th></th><th scope=col>Value</th><th scope=col>Std.Error</th><th scope=col>DF</th><th scope=col>t-value</th><th scope=col>p-value</th></tr></thead>\n",
       "<tbody>\n",
       "\t<tr><th scope=row>(Intercept)</th><td>-9.212979e-03</td><td>0.01367586   </td><td>409          </td><td>-0.673667394 </td><td>0.500903311  </td></tr>\n",
       "\t<tr><th scope=row>X_newR4Frontal_Sup.Info.typeValue</th><td> 6.707905e-03</td><td>0.01867972   </td><td>409          </td><td> 0.359100860 </td><td>0.719704949  </td></tr>\n",
       "\t<tr><th scope=row>X_newR4Frontal_Mid.Info.typeValue</th><td>-1.387175e-02</td><td>0.01804615   </td><td>409          </td><td>-0.768681890 </td><td>0.442525803  </td></tr>\n",
       "\t<tr><th scope=row>X_newR4Frontal_Inf.Info.typeValue</th><td>-2.092714e-02</td><td>0.02350269   </td><td>409          </td><td>-0.890414494 </td><td>0.373766823  </td></tr>\n",
       "\t<tr><th scope=row>X_newR4Frontal_Orb.Info.typeValue</th><td> 4.732644e-03</td><td>0.02168791   </td><td>409          </td><td> 0.218215803 </td><td>0.827369807  </td></tr>\n",
       "\t<tr><th scope=row>X_newR4Insula.Info.typeValue</th><td>-2.035360e-02</td><td>0.05566493   </td><td>409          </td><td>-0.365644921 </td><td>0.714819082  </td></tr>\n",
       "\t<tr><th scope=row>X_newR4Motor.Info.typeValue</th><td>-1.907246e-02</td><td>0.02078258   </td><td>409          </td><td>-0.917713894 </td><td>0.359309513  </td></tr>\n",
       "\t<tr><th scope=row>X_newR4Cingulum.Info.typeValue</th><td> 3.201838e-05</td><td>0.02302724   </td><td>409          </td><td> 0.001390457 </td><td>0.998891254  </td></tr>\n",
       "\t<tr><th scope=row>X_newR4Frontal_Sup.Info.typePerceptual</th><td>-1.710947e-02</td><td>0.01638549   </td><td>409          </td><td>-1.044184146 </td><td>0.297016957  </td></tr>\n",
       "\t<tr><th scope=row>X_newR4Frontal_Mid.Info.typePerceptual</th><td> 5.332713e-03</td><td>0.01710156   </td><td>409          </td><td> 0.311826076 </td><td>0.755331601  </td></tr>\n",
       "\t<tr><th scope=row>X_newR4Frontal_Inf.Info.typePerceptual</th><td> 6.457793e-03</td><td>0.01532928   </td><td>409          </td><td> 0.421271709 </td><td>0.673777984  </td></tr>\n",
       "\t<tr><th scope=row>X_newR4Frontal_Orb.Info.typePerceptual</th><td>-3.365834e-02</td><td>0.02010437   </td><td>409          </td><td>-1.674180349 </td><td>0.094859636  </td></tr>\n",
       "\t<tr><th scope=row>X_newR4Insula.Info.typePerceptual</th><td>-3.147429e-02</td><td>0.02804850   </td><td>409          </td><td>-1.122137952 </td><td>0.262462120  </td></tr>\n",
       "\t<tr><th scope=row>X_newR4Motor.Info.typePerceptual</th><td>-3.720687e-02</td><td>0.02680406   </td><td>409          </td><td>-1.388105693 </td><td>0.165860496  </td></tr>\n",
       "\t<tr><th scope=row>X_newR4Cingulum.Info.typePerceptual</th><td> 7.223638e-02</td><td>0.02471354   </td><td>409          </td><td> 2.922947691 </td><td>0.003659881  </td></tr>\n",
       "\t<tr><th scope=row>X_newR4Frontal_Sup.Info.typeResponse</th><td> 4.646516e-02</td><td>0.02192724   </td><td>409          </td><td> 2.119060477 </td><td>0.034687448  </td></tr>\n",
       "\t<tr><th scope=row>X_newR4Frontal_Mid.Info.typeResponse</th><td>-2.311151e-02</td><td>0.02215412   </td><td>409          </td><td>-1.043215069 </td><td>0.297464907  </td></tr>\n",
       "\t<tr><th scope=row>X_newR4Frontal_Inf.Info.typeResponse</th><td>-1.388033e-02</td><td>0.02960651   </td><td>409          </td><td>-0.468826944 </td><td>0.639443125  </td></tr>\n",
       "\t<tr><th scope=row>X_newR4Frontal_Orb.Info.typeResponse</th><td>-2.776601e-02</td><td>0.05797716   </td><td>409          </td><td>-0.478912911 </td><td>0.632256518  </td></tr>\n",
       "\t<tr><th scope=row>X_newR4Insula.Info.typeResponse</th><td>-5.643353e-02</td><td>0.05538923   </td><td>409          </td><td>-1.018853899 </td><td>0.308874622  </td></tr>\n",
       "\t<tr><th scope=row>X_newR4Motor.Info.typeResponse</th><td> 2.850436e-02</td><td>0.01764115   </td><td>409          </td><td> 1.615787954 </td><td>0.106911232  </td></tr>\n",
       "\t<tr><th scope=row>X_newR4Cingulum.Info.typeResponse</th><td> 1.265316e-02</td><td>0.02602595   </td><td>409          </td><td> 0.486174873 </td><td>0.627103565  </td></tr>\n",
       "\t<tr><th scope=row>X_newR4Frontal_Sup.Info.typeRule</th><td>-1.633125e-02</td><td>0.01722011   </td><td>409          </td><td>-0.948382023 </td><td>0.343495022  </td></tr>\n",
       "\t<tr><th scope=row>X_newR4Frontal_Mid.Info.typeRule</th><td>-1.300083e-02</td><td>0.01443515   </td><td>409          </td><td>-0.900636689 </td><td>0.368311520  </td></tr>\n",
       "\t<tr><th scope=row>X_newR4Frontal_Inf.Info.typeRule</th><td>-1.474043e-02</td><td>0.01543821   </td><td>409          </td><td>-0.954801522 </td><td>0.340242051  </td></tr>\n",
       "\t<tr><th scope=row>X_newR4Frontal_Orb.Info.typeRule</th><td>-4.387962e-02</td><td>0.03779257   </td><td>409          </td><td>-1.161064742 </td><td>0.246292760  </td></tr>\n",
       "\t<tr><th scope=row>X_newR4Insula.Info.typeRule</th><td>-2.365042e-02</td><td>0.02678687   </td><td>409          </td><td>-0.882910947 </td><td>0.377803026  </td></tr>\n",
       "\t<tr><th scope=row>X_newR4Motor.Info.typeRule</th><td> 2.058032e-02</td><td>0.01563311   </td><td>409          </td><td> 1.316457246 </td><td>0.188757856  </td></tr>\n",
       "\t<tr><th scope=row>X_newR4Cingulum.Info.typeRule</th><td> 2.111860e-03</td><td>0.02057642   </td><td>409          </td><td> 0.102634965 </td><td>0.918302993  </td></tr>\n",
       "</tbody>\n",
       "</table>\n"
      ],
      "text/latex": [
       "\\begin{tabular}{r|lllll}\n",
       "  & Value & Std.Error & DF & t-value & p-value\\\\\n",
       "\\hline\n",
       "\t(Intercept) & -9.212979e-03 & 0.01367586    & 409           & -0.673667394  & 0.500903311  \\\\\n",
       "\tX\\_newR4Frontal\\_Sup.Info.typeValue &  6.707905e-03 & 0.01867972    & 409           &  0.359100860  & 0.719704949  \\\\\n",
       "\tX\\_newR4Frontal\\_Mid.Info.typeValue & -1.387175e-02 & 0.01804615    & 409           & -0.768681890  & 0.442525803  \\\\\n",
       "\tX\\_newR4Frontal\\_Inf.Info.typeValue & -2.092714e-02 & 0.02350269    & 409           & -0.890414494  & 0.373766823  \\\\\n",
       "\tX\\_newR4Frontal\\_Orb.Info.typeValue &  4.732644e-03 & 0.02168791    & 409           &  0.218215803  & 0.827369807  \\\\\n",
       "\tX\\_newR4Insula.Info.typeValue & -2.035360e-02 & 0.05566493    & 409           & -0.365644921  & 0.714819082  \\\\\n",
       "\tX\\_newR4Motor.Info.typeValue & -1.907246e-02 & 0.02078258    & 409           & -0.917713894  & 0.359309513  \\\\\n",
       "\tX\\_newR4Cingulum.Info.typeValue &  3.201838e-05 & 0.02302724    & 409           &  0.001390457  & 0.998891254  \\\\\n",
       "\tX\\_newR4Frontal\\_Sup.Info.typePerceptual & -1.710947e-02 & 0.01638549    & 409           & -1.044184146  & 0.297016957  \\\\\n",
       "\tX\\_newR4Frontal\\_Mid.Info.typePerceptual &  5.332713e-03 & 0.01710156    & 409           &  0.311826076  & 0.755331601  \\\\\n",
       "\tX\\_newR4Frontal\\_Inf.Info.typePerceptual &  6.457793e-03 & 0.01532928    & 409           &  0.421271709  & 0.673777984  \\\\\n",
       "\tX\\_newR4Frontal\\_Orb.Info.typePerceptual & -3.365834e-02 & 0.02010437    & 409           & -1.674180349  & 0.094859636  \\\\\n",
       "\tX\\_newR4Insula.Info.typePerceptual & -3.147429e-02 & 0.02804850    & 409           & -1.122137952  & 0.262462120  \\\\\n",
       "\tX\\_newR4Motor.Info.typePerceptual & -3.720687e-02 & 0.02680406    & 409           & -1.388105693  & 0.165860496  \\\\\n",
       "\tX\\_newR4Cingulum.Info.typePerceptual &  7.223638e-02 & 0.02471354    & 409           &  2.922947691  & 0.003659881  \\\\\n",
       "\tX\\_newR4Frontal\\_Sup.Info.typeResponse &  4.646516e-02 & 0.02192724    & 409           &  2.119060477  & 0.034687448  \\\\\n",
       "\tX\\_newR4Frontal\\_Mid.Info.typeResponse & -2.311151e-02 & 0.02215412    & 409           & -1.043215069  & 0.297464907  \\\\\n",
       "\tX\\_newR4Frontal\\_Inf.Info.typeResponse & -1.388033e-02 & 0.02960651    & 409           & -0.468826944  & 0.639443125  \\\\\n",
       "\tX\\_newR4Frontal\\_Orb.Info.typeResponse & -2.776601e-02 & 0.05797716    & 409           & -0.478912911  & 0.632256518  \\\\\n",
       "\tX\\_newR4Insula.Info.typeResponse & -5.643353e-02 & 0.05538923    & 409           & -1.018853899  & 0.308874622  \\\\\n",
       "\tX\\_newR4Motor.Info.typeResponse &  2.850436e-02 & 0.01764115    & 409           &  1.615787954  & 0.106911232  \\\\\n",
       "\tX\\_newR4Cingulum.Info.typeResponse &  1.265316e-02 & 0.02602595    & 409           &  0.486174873  & 0.627103565  \\\\\n",
       "\tX\\_newR4Frontal\\_Sup.Info.typeRule & -1.633125e-02 & 0.01722011    & 409           & -0.948382023  & 0.343495022  \\\\\n",
       "\tX\\_newR4Frontal\\_Mid.Info.typeRule & -1.300083e-02 & 0.01443515    & 409           & -0.900636689  & 0.368311520  \\\\\n",
       "\tX\\_newR4Frontal\\_Inf.Info.typeRule & -1.474043e-02 & 0.01543821    & 409           & -0.954801522  & 0.340242051  \\\\\n",
       "\tX\\_newR4Frontal\\_Orb.Info.typeRule & -4.387962e-02 & 0.03779257    & 409           & -1.161064742  & 0.246292760  \\\\\n",
       "\tX\\_newR4Insula.Info.typeRule & -2.365042e-02 & 0.02678687    & 409           & -0.882910947  & 0.377803026  \\\\\n",
       "\tX\\_newR4Motor.Info.typeRule &  2.058032e-02 & 0.01563311    & 409           &  1.316457246  & 0.188757856  \\\\\n",
       "\tX\\_newR4Cingulum.Info.typeRule &  2.111860e-03 & 0.02057642    & 409           &  0.102634965  & 0.918302993  \\\\\n",
       "\\end{tabular}\n"
      ],
      "text/markdown": [
       "\n",
       "| <!--/--> | Value | Std.Error | DF | t-value | p-value | \n",
       "|---|---|---|---|---|---|---|---|---|---|---|---|---|---|---|---|---|---|---|---|---|---|---|---|---|---|---|---|---|\n",
       "| (Intercept) | -9.212979e-03 | 0.01367586    | 409           | -0.673667394  | 0.500903311   | \n",
       "| X_newR4Frontal_Sup.Info.typeValue |  6.707905e-03 | 0.01867972    | 409           |  0.359100860  | 0.719704949   | \n",
       "| X_newR4Frontal_Mid.Info.typeValue | -1.387175e-02 | 0.01804615    | 409           | -0.768681890  | 0.442525803   | \n",
       "| X_newR4Frontal_Inf.Info.typeValue | -2.092714e-02 | 0.02350269    | 409           | -0.890414494  | 0.373766823   | \n",
       "| X_newR4Frontal_Orb.Info.typeValue |  4.732644e-03 | 0.02168791    | 409           |  0.218215803  | 0.827369807   | \n",
       "| X_newR4Insula.Info.typeValue | -2.035360e-02 | 0.05566493    | 409           | -0.365644921  | 0.714819082   | \n",
       "| X_newR4Motor.Info.typeValue | -1.907246e-02 | 0.02078258    | 409           | -0.917713894  | 0.359309513   | \n",
       "| X_newR4Cingulum.Info.typeValue |  3.201838e-05 | 0.02302724    | 409           |  0.001390457  | 0.998891254   | \n",
       "| X_newR4Frontal_Sup.Info.typePerceptual | -1.710947e-02 | 0.01638549    | 409           | -1.044184146  | 0.297016957   | \n",
       "| X_newR4Frontal_Mid.Info.typePerceptual |  5.332713e-03 | 0.01710156    | 409           |  0.311826076  | 0.755331601   | \n",
       "| X_newR4Frontal_Inf.Info.typePerceptual |  6.457793e-03 | 0.01532928    | 409           |  0.421271709  | 0.673777984   | \n",
       "| X_newR4Frontal_Orb.Info.typePerceptual | -3.365834e-02 | 0.02010437    | 409           | -1.674180349  | 0.094859636   | \n",
       "| X_newR4Insula.Info.typePerceptual | -3.147429e-02 | 0.02804850    | 409           | -1.122137952  | 0.262462120   | \n",
       "| X_newR4Motor.Info.typePerceptual | -3.720687e-02 | 0.02680406    | 409           | -1.388105693  | 0.165860496   | \n",
       "| X_newR4Cingulum.Info.typePerceptual |  7.223638e-02 | 0.02471354    | 409           |  2.922947691  | 0.003659881   | \n",
       "| X_newR4Frontal_Sup.Info.typeResponse |  4.646516e-02 | 0.02192724    | 409           |  2.119060477  | 0.034687448   | \n",
       "| X_newR4Frontal_Mid.Info.typeResponse | -2.311151e-02 | 0.02215412    | 409           | -1.043215069  | 0.297464907   | \n",
       "| X_newR4Frontal_Inf.Info.typeResponse | -1.388033e-02 | 0.02960651    | 409           | -0.468826944  | 0.639443125   | \n",
       "| X_newR4Frontal_Orb.Info.typeResponse | -2.776601e-02 | 0.05797716    | 409           | -0.478912911  | 0.632256518   | \n",
       "| X_newR4Insula.Info.typeResponse | -5.643353e-02 | 0.05538923    | 409           | -1.018853899  | 0.308874622   | \n",
       "| X_newR4Motor.Info.typeResponse |  2.850436e-02 | 0.01764115    | 409           |  1.615787954  | 0.106911232   | \n",
       "| X_newR4Cingulum.Info.typeResponse |  1.265316e-02 | 0.02602595    | 409           |  0.486174873  | 0.627103565   | \n",
       "| X_newR4Frontal_Sup.Info.typeRule | -1.633125e-02 | 0.01722011    | 409           | -0.948382023  | 0.343495022   | \n",
       "| X_newR4Frontal_Mid.Info.typeRule | -1.300083e-02 | 0.01443515    | 409           | -0.900636689  | 0.368311520   | \n",
       "| X_newR4Frontal_Inf.Info.typeRule | -1.474043e-02 | 0.01543821    | 409           | -0.954801522  | 0.340242051   | \n",
       "| X_newR4Frontal_Orb.Info.typeRule | -4.387962e-02 | 0.03779257    | 409           | -1.161064742  | 0.246292760   | \n",
       "| X_newR4Insula.Info.typeRule | -2.365042e-02 | 0.02678687    | 409           | -0.882910947  | 0.377803026   | \n",
       "| X_newR4Motor.Info.typeRule |  2.058032e-02 | 0.01563311    | 409           |  1.316457246  | 0.188757856   | \n",
       "| X_newR4Cingulum.Info.typeRule |  2.111860e-03 | 0.02057642    | 409           |  0.102634965  | 0.918302993   | \n",
       "\n",
       "\n"
      ],
      "text/plain": [
       "                                       Value         Std.Error  DF \n",
       "(Intercept)                            -9.212979e-03 0.01367586 409\n",
       "X_newR4Frontal_Sup.Info.typeValue       6.707905e-03 0.01867972 409\n",
       "X_newR4Frontal_Mid.Info.typeValue      -1.387175e-02 0.01804615 409\n",
       "X_newR4Frontal_Inf.Info.typeValue      -2.092714e-02 0.02350269 409\n",
       "X_newR4Frontal_Orb.Info.typeValue       4.732644e-03 0.02168791 409\n",
       "X_newR4Insula.Info.typeValue           -2.035360e-02 0.05566493 409\n",
       "X_newR4Motor.Info.typeValue            -1.907246e-02 0.02078258 409\n",
       "X_newR4Cingulum.Info.typeValue          3.201838e-05 0.02302724 409\n",
       "X_newR4Frontal_Sup.Info.typePerceptual -1.710947e-02 0.01638549 409\n",
       "X_newR4Frontal_Mid.Info.typePerceptual  5.332713e-03 0.01710156 409\n",
       "X_newR4Frontal_Inf.Info.typePerceptual  6.457793e-03 0.01532928 409\n",
       "X_newR4Frontal_Orb.Info.typePerceptual -3.365834e-02 0.02010437 409\n",
       "X_newR4Insula.Info.typePerceptual      -3.147429e-02 0.02804850 409\n",
       "X_newR4Motor.Info.typePerceptual       -3.720687e-02 0.02680406 409\n",
       "X_newR4Cingulum.Info.typePerceptual     7.223638e-02 0.02471354 409\n",
       "X_newR4Frontal_Sup.Info.typeResponse    4.646516e-02 0.02192724 409\n",
       "X_newR4Frontal_Mid.Info.typeResponse   -2.311151e-02 0.02215412 409\n",
       "X_newR4Frontal_Inf.Info.typeResponse   -1.388033e-02 0.02960651 409\n",
       "X_newR4Frontal_Orb.Info.typeResponse   -2.776601e-02 0.05797716 409\n",
       "X_newR4Insula.Info.typeResponse        -5.643353e-02 0.05538923 409\n",
       "X_newR4Motor.Info.typeResponse          2.850436e-02 0.01764115 409\n",
       "X_newR4Cingulum.Info.typeResponse       1.265316e-02 0.02602595 409\n",
       "X_newR4Frontal_Sup.Info.typeRule       -1.633125e-02 0.01722011 409\n",
       "X_newR4Frontal_Mid.Info.typeRule       -1.300083e-02 0.01443515 409\n",
       "X_newR4Frontal_Inf.Info.typeRule       -1.474043e-02 0.01543821 409\n",
       "X_newR4Frontal_Orb.Info.typeRule       -4.387962e-02 0.03779257 409\n",
       "X_newR4Insula.Info.typeRule            -2.365042e-02 0.02678687 409\n",
       "X_newR4Motor.Info.typeRule              2.058032e-02 0.01563311 409\n",
       "X_newR4Cingulum.Info.typeRule           2.111860e-03 0.02057642 409\n",
       "                                       t-value      p-value    \n",
       "(Intercept)                            -0.673667394 0.500903311\n",
       "X_newR4Frontal_Sup.Info.typeValue       0.359100860 0.719704949\n",
       "X_newR4Frontal_Mid.Info.typeValue      -0.768681890 0.442525803\n",
       "X_newR4Frontal_Inf.Info.typeValue      -0.890414494 0.373766823\n",
       "X_newR4Frontal_Orb.Info.typeValue       0.218215803 0.827369807\n",
       "X_newR4Insula.Info.typeValue           -0.365644921 0.714819082\n",
       "X_newR4Motor.Info.typeValue            -0.917713894 0.359309513\n",
       "X_newR4Cingulum.Info.typeValue          0.001390457 0.998891254\n",
       "X_newR4Frontal_Sup.Info.typePerceptual -1.044184146 0.297016957\n",
       "X_newR4Frontal_Mid.Info.typePerceptual  0.311826076 0.755331601\n",
       "X_newR4Frontal_Inf.Info.typePerceptual  0.421271709 0.673777984\n",
       "X_newR4Frontal_Orb.Info.typePerceptual -1.674180349 0.094859636\n",
       "X_newR4Insula.Info.typePerceptual      -1.122137952 0.262462120\n",
       "X_newR4Motor.Info.typePerceptual       -1.388105693 0.165860496\n",
       "X_newR4Cingulum.Info.typePerceptual     2.922947691 0.003659881\n",
       "X_newR4Frontal_Sup.Info.typeResponse    2.119060477 0.034687448\n",
       "X_newR4Frontal_Mid.Info.typeResponse   -1.043215069 0.297464907\n",
       "X_newR4Frontal_Inf.Info.typeResponse   -0.468826944 0.639443125\n",
       "X_newR4Frontal_Orb.Info.typeResponse   -0.478912911 0.632256518\n",
       "X_newR4Insula.Info.typeResponse        -1.018853899 0.308874622\n",
       "X_newR4Motor.Info.typeResponse          1.615787954 0.106911232\n",
       "X_newR4Cingulum.Info.typeResponse       0.486174873 0.627103565\n",
       "X_newR4Frontal_Sup.Info.typeRule       -0.948382023 0.343495022\n",
       "X_newR4Frontal_Mid.Info.typeRule       -0.900636689 0.368311520\n",
       "X_newR4Frontal_Inf.Info.typeRule       -0.954801522 0.340242051\n",
       "X_newR4Frontal_Orb.Info.typeRule       -1.161064742 0.246292760\n",
       "X_newR4Insula.Info.typeRule            -0.882910947 0.377803026\n",
       "X_newR4Motor.Info.typeRule              1.316457246 0.188757856\n",
       "X_newR4Cingulum.Info.typeRule           0.102634965 0.918302993"
      ]
     },
     "metadata": {},
     "output_type": "display_data"
    }
   ],
   "source": [
    "d<-data_50_sig[c('Accuracy.50','PID','Info.type',R4names)]\n",
    "gmean<-mean(d$Accuracy.50)\n",
    "d$Accuracy.50_wo_gmean<-d$Accuracy.50-gmean\n",
    "\n",
    "region_model<-lme(Accuracy.50_wo_gmean~X_new,random=~1|PID,data=d,method='REML')\n",
    "summary(region_model)$tTable"
   ]
  },
  {
   "cell_type": "code",
   "execution_count": 29,
   "metadata": {},
   "outputs": [
    {
     "data": {
      "text/html": [
       "0.004"
      ],
      "text/latex": [
       "0.004"
      ],
      "text/markdown": [
       "0.004"
      ],
      "text/plain": [
       "[1] 0.004"
      ]
     },
     "metadata": {},
     "output_type": "display_data"
    }
   ],
   "source": [
    "#round(0.034687448,2)\n",
    "round(0.003659881,3)"
   ]
  },
  {
   "cell_type": "code",
   "execution_count": 17,
   "metadata": {
    "collapsed": true
   },
   "outputs": [],
   "source": [
    "\n",
    "# get data #\n",
    "s<-summary(region_model)\n",
    "coef<-s$tTable[,1] \n",
    "se<-s$tTable[,2] \n",
    "df<-data.frame(cbind(coef,se))\n",
    "\n",
    "df$name<-rownames(df)\n",
    "df<-df[2:nrow(df),] # remove intercept"
   ]
  },
  {
   "cell_type": "code",
   "execution_count": 18,
   "metadata": {},
   "outputs": [
    {
     "data": {
      "text/html": [
       "<table>\n",
       "<thead><tr><th></th><th scope=col>coef</th><th scope=col>se</th><th scope=col>name</th><th scope=col>coef_gmean</th></tr></thead>\n",
       "<tbody>\n",
       "\t<tr><th scope=row>X_newR4Frontal_Sup.Info.typeValue</th><td> 6.707905e-03                         </td><td>0.01867972                            </td><td>X_newR4Frontal_Sup.Info.typeValue     </td><td>0.6167702                             </td></tr>\n",
       "\t<tr><th scope=row>X_newR4Frontal_Mid.Info.typeValue</th><td>-1.387175e-02                         </td><td>0.01804615                            </td><td>X_newR4Frontal_Mid.Info.typeValue     </td><td>0.5961906                             </td></tr>\n",
       "\t<tr><th scope=row>X_newR4Frontal_Inf.Info.typeValue</th><td>-2.092714e-02                         </td><td>0.02350269                            </td><td>X_newR4Frontal_Inf.Info.typeValue     </td><td>0.5891352                             </td></tr>\n",
       "\t<tr><th scope=row>X_newR4Frontal_Orb.Info.typeValue</th><td> 4.732644e-03                         </td><td>0.02168791                            </td><td>X_newR4Frontal_Orb.Info.typeValue     </td><td>0.6147949                             </td></tr>\n",
       "\t<tr><th scope=row>X_newR4Insula.Info.typeValue</th><td>-2.035360e-02                         </td><td>0.05566493                            </td><td>X_newR4Insula.Info.typeValue          </td><td>0.5897087                             </td></tr>\n",
       "\t<tr><th scope=row>X_newR4Motor.Info.typeValue</th><td>-1.907246e-02                         </td><td>0.02078258                            </td><td>X_newR4Motor.Info.typeValue           </td><td>0.5909898                             </td></tr>\n",
       "\t<tr><th scope=row>X_newR4Cingulum.Info.typeValue</th><td> 3.201838e-05                         </td><td>0.02302724                            </td><td>X_newR4Cingulum.Info.typeValue        </td><td>0.6100943                             </td></tr>\n",
       "\t<tr><th scope=row>X_newR4Frontal_Sup.Info.typePerceptual</th><td>-1.710947e-02                         </td><td>0.01638549                            </td><td>X_newR4Frontal_Sup.Info.typePerceptual</td><td>0.5929528                             </td></tr>\n",
       "\t<tr><th scope=row>X_newR4Frontal_Mid.Info.typePerceptual</th><td> 5.332713e-03                         </td><td>0.01710156                            </td><td>X_newR4Frontal_Mid.Info.typePerceptual</td><td>0.6153950                             </td></tr>\n",
       "\t<tr><th scope=row>X_newR4Frontal_Inf.Info.typePerceptual</th><td> 6.457793e-03                         </td><td>0.01532928                            </td><td>X_newR4Frontal_Inf.Info.typePerceptual</td><td>0.6165201                             </td></tr>\n",
       "\t<tr><th scope=row>X_newR4Frontal_Orb.Info.typePerceptual</th><td>-3.365834e-02                         </td><td>0.02010437                            </td><td>X_newR4Frontal_Orb.Info.typePerceptual</td><td>0.5764040                             </td></tr>\n",
       "\t<tr><th scope=row>X_newR4Insula.Info.typePerceptual</th><td>-3.147429e-02                         </td><td>0.02804850                            </td><td>X_newR4Insula.Info.typePerceptual     </td><td>0.5785880                             </td></tr>\n",
       "\t<tr><th scope=row>X_newR4Motor.Info.typePerceptual</th><td>-3.720687e-02                         </td><td>0.02680406                            </td><td>X_newR4Motor.Info.typePerceptual      </td><td>0.5728554                             </td></tr>\n",
       "\t<tr><th scope=row>X_newR4Cingulum.Info.typePerceptual</th><td> 7.223638e-02                         </td><td>0.02471354                            </td><td>X_newR4Cingulum.Info.typePerceptual   </td><td>0.6822987                             </td></tr>\n",
       "\t<tr><th scope=row>X_newR4Frontal_Sup.Info.typeResponse</th><td> 4.646516e-02                         </td><td>0.02192724                            </td><td>X_newR4Frontal_Sup.Info.typeResponse  </td><td>0.6565275                             </td></tr>\n",
       "\t<tr><th scope=row>X_newR4Frontal_Mid.Info.typeResponse</th><td>-2.311151e-02                         </td><td>0.02215412                            </td><td>X_newR4Frontal_Mid.Info.typeResponse  </td><td>0.5869508                             </td></tr>\n",
       "\t<tr><th scope=row>X_newR4Frontal_Inf.Info.typeResponse</th><td>-1.388033e-02                         </td><td>0.02960651                            </td><td>X_newR4Frontal_Inf.Info.typeResponse  </td><td>0.5961820                             </td></tr>\n",
       "\t<tr><th scope=row>X_newR4Frontal_Orb.Info.typeResponse</th><td>-2.776601e-02                         </td><td>0.05797716                            </td><td>X_newR4Frontal_Orb.Info.typeResponse  </td><td>0.5822963                             </td></tr>\n",
       "\t<tr><th scope=row>X_newR4Insula.Info.typeResponse</th><td>-5.643353e-02                         </td><td>0.05538923                            </td><td>X_newR4Insula.Info.typeResponse       </td><td>0.5536288                             </td></tr>\n",
       "\t<tr><th scope=row>X_newR4Motor.Info.typeResponse</th><td> 2.850436e-02                         </td><td>0.01764115                            </td><td>X_newR4Motor.Info.typeResponse        </td><td>0.6385667                             </td></tr>\n",
       "\t<tr><th scope=row>X_newR4Cingulum.Info.typeResponse</th><td> 1.265316e-02                         </td><td>0.02602595                            </td><td>X_newR4Cingulum.Info.typeResponse     </td><td>0.6227155                             </td></tr>\n",
       "\t<tr><th scope=row>X_newR4Frontal_Sup.Info.typeRule</th><td>-1.633125e-02                         </td><td>0.01722011                            </td><td>X_newR4Frontal_Sup.Info.typeRule      </td><td>0.5937311                             </td></tr>\n",
       "\t<tr><th scope=row>X_newR4Frontal_Mid.Info.typeRule</th><td>-1.300083e-02                         </td><td>0.01443515                            </td><td>X_newR4Frontal_Mid.Info.typeRule      </td><td>0.5970615                             </td></tr>\n",
       "\t<tr><th scope=row>X_newR4Frontal_Inf.Info.typeRule</th><td>-1.474043e-02                         </td><td>0.01543821                            </td><td>X_newR4Frontal_Inf.Info.typeRule      </td><td>0.5953219                             </td></tr>\n",
       "\t<tr><th scope=row>X_newR4Frontal_Orb.Info.typeRule</th><td>-4.387962e-02                         </td><td>0.03779257                            </td><td>X_newR4Frontal_Orb.Info.typeRule      </td><td>0.5661827                             </td></tr>\n",
       "\t<tr><th scope=row>X_newR4Insula.Info.typeRule</th><td>-2.365042e-02                         </td><td>0.02678687                            </td><td>X_newR4Insula.Info.typeRule           </td><td>0.5864119                             </td></tr>\n",
       "\t<tr><th scope=row>X_newR4Motor.Info.typeRule</th><td> 2.058032e-02                         </td><td>0.01563311                            </td><td>X_newR4Motor.Info.typeRule            </td><td>0.6306426                             </td></tr>\n",
       "\t<tr><th scope=row>X_newR4Cingulum.Info.typeRule</th><td> 2.111860e-03                         </td><td>0.02057642                            </td><td>X_newR4Cingulum.Info.typeRule         </td><td>0.6121742                             </td></tr>\n",
       "</tbody>\n",
       "</table>\n"
      ],
      "text/latex": [
       "\\begin{tabular}{r|llll}\n",
       "  & coef & se & name & coef\\_gmean\\\\\n",
       "\\hline\n",
       "\tX\\_newR4Frontal\\_Sup.Info.typeValue &  6.707905e-03                              & 0.01867972                                 & X\\_newR4Frontal\\_Sup.Info.typeValue      & 0.6167702                                 \\\\\n",
       "\tX\\_newR4Frontal\\_Mid.Info.typeValue & -1.387175e-02                              & 0.01804615                                 & X\\_newR4Frontal\\_Mid.Info.typeValue      & 0.5961906                                 \\\\\n",
       "\tX\\_newR4Frontal\\_Inf.Info.typeValue & -2.092714e-02                              & 0.02350269                                 & X\\_newR4Frontal\\_Inf.Info.typeValue      & 0.5891352                                 \\\\\n",
       "\tX\\_newR4Frontal\\_Orb.Info.typeValue &  4.732644e-03                              & 0.02168791                                 & X\\_newR4Frontal\\_Orb.Info.typeValue      & 0.6147949                                 \\\\\n",
       "\tX\\_newR4Insula.Info.typeValue & -2.035360e-02                            & 0.05566493                               & X\\_newR4Insula.Info.typeValue           & 0.5897087                               \\\\\n",
       "\tX\\_newR4Motor.Info.typeValue & -1.907246e-02                            & 0.02078258                               & X\\_newR4Motor.Info.typeValue            & 0.5909898                               \\\\\n",
       "\tX\\_newR4Cingulum.Info.typeValue &  3.201838e-05                            & 0.02302724                               & X\\_newR4Cingulum.Info.typeValue         & 0.6100943                               \\\\\n",
       "\tX\\_newR4Frontal\\_Sup.Info.typePerceptual & -1.710947e-02                              & 0.01638549                                 & X\\_newR4Frontal\\_Sup.Info.typePerceptual & 0.5929528                                 \\\\\n",
       "\tX\\_newR4Frontal\\_Mid.Info.typePerceptual &  5.332713e-03                              & 0.01710156                                 & X\\_newR4Frontal\\_Mid.Info.typePerceptual & 0.6153950                                 \\\\\n",
       "\tX\\_newR4Frontal\\_Inf.Info.typePerceptual &  6.457793e-03                              & 0.01532928                                 & X\\_newR4Frontal\\_Inf.Info.typePerceptual & 0.6165201                                 \\\\\n",
       "\tX\\_newR4Frontal\\_Orb.Info.typePerceptual & -3.365834e-02                              & 0.02010437                                 & X\\_newR4Frontal\\_Orb.Info.typePerceptual & 0.5764040                                 \\\\\n",
       "\tX\\_newR4Insula.Info.typePerceptual & -3.147429e-02                            & 0.02804850                               & X\\_newR4Insula.Info.typePerceptual      & 0.5785880                               \\\\\n",
       "\tX\\_newR4Motor.Info.typePerceptual & -3.720687e-02                            & 0.02680406                               & X\\_newR4Motor.Info.typePerceptual       & 0.5728554                               \\\\\n",
       "\tX\\_newR4Cingulum.Info.typePerceptual &  7.223638e-02                            & 0.02471354                               & X\\_newR4Cingulum.Info.typePerceptual    & 0.6822987                               \\\\\n",
       "\tX\\_newR4Frontal\\_Sup.Info.typeResponse &  4.646516e-02                              & 0.02192724                                 & X\\_newR4Frontal\\_Sup.Info.typeResponse   & 0.6565275                                 \\\\\n",
       "\tX\\_newR4Frontal\\_Mid.Info.typeResponse & -2.311151e-02                              & 0.02215412                                 & X\\_newR4Frontal\\_Mid.Info.typeResponse   & 0.5869508                                 \\\\\n",
       "\tX\\_newR4Frontal\\_Inf.Info.typeResponse & -1.388033e-02                              & 0.02960651                                 & X\\_newR4Frontal\\_Inf.Info.typeResponse   & 0.5961820                                 \\\\\n",
       "\tX\\_newR4Frontal\\_Orb.Info.typeResponse & -2.776601e-02                              & 0.05797716                                 & X\\_newR4Frontal\\_Orb.Info.typeResponse   & 0.5822963                                 \\\\\n",
       "\tX\\_newR4Insula.Info.typeResponse & -5.643353e-02                            & 0.05538923                               & X\\_newR4Insula.Info.typeResponse        & 0.5536288                               \\\\\n",
       "\tX\\_newR4Motor.Info.typeResponse &  2.850436e-02                            & 0.01764115                               & X\\_newR4Motor.Info.typeResponse         & 0.6385667                               \\\\\n",
       "\tX\\_newR4Cingulum.Info.typeResponse &  1.265316e-02                            & 0.02602595                               & X\\_newR4Cingulum.Info.typeResponse      & 0.6227155                               \\\\\n",
       "\tX\\_newR4Frontal\\_Sup.Info.typeRule & -1.633125e-02                              & 0.01722011                                 & X\\_newR4Frontal\\_Sup.Info.typeRule       & 0.5937311                                 \\\\\n",
       "\tX\\_newR4Frontal\\_Mid.Info.typeRule & -1.300083e-02                              & 0.01443515                                 & X\\_newR4Frontal\\_Mid.Info.typeRule       & 0.5970615                                 \\\\\n",
       "\tX\\_newR4Frontal\\_Inf.Info.typeRule & -1.474043e-02                              & 0.01543821                                 & X\\_newR4Frontal\\_Inf.Info.typeRule       & 0.5953219                                 \\\\\n",
       "\tX\\_newR4Frontal\\_Orb.Info.typeRule & -4.387962e-02                              & 0.03779257                                 & X\\_newR4Frontal\\_Orb.Info.typeRule       & 0.5661827                                 \\\\\n",
       "\tX\\_newR4Insula.Info.typeRule & -2.365042e-02                            & 0.02678687                               & X\\_newR4Insula.Info.typeRule            & 0.5864119                               \\\\\n",
       "\tX\\_newR4Motor.Info.typeRule &  2.058032e-02                            & 0.01563311                               & X\\_newR4Motor.Info.typeRule             & 0.6306426                               \\\\\n",
       "\tX\\_newR4Cingulum.Info.typeRule &  2.111860e-03                            & 0.02057642                               & X\\_newR4Cingulum.Info.typeRule          & 0.6121742                               \\\\\n",
       "\\end{tabular}\n"
      ],
      "text/markdown": [
       "\n",
       "| <!--/--> | coef | se | name | coef_gmean | \n",
       "|---|---|---|---|---|---|---|---|---|---|---|---|---|---|---|---|---|---|---|---|---|---|---|---|---|---|---|---|\n",
       "| X_newR4Frontal_Sup.Info.typeValue |  6.707905e-03                          | 0.01867972                             | X_newR4Frontal_Sup.Info.typeValue      | 0.6167702                              | \n",
       "| X_newR4Frontal_Mid.Info.typeValue | -1.387175e-02                          | 0.01804615                             | X_newR4Frontal_Mid.Info.typeValue      | 0.5961906                              | \n",
       "| X_newR4Frontal_Inf.Info.typeValue | -2.092714e-02                          | 0.02350269                             | X_newR4Frontal_Inf.Info.typeValue      | 0.5891352                              | \n",
       "| X_newR4Frontal_Orb.Info.typeValue |  4.732644e-03                          | 0.02168791                             | X_newR4Frontal_Orb.Info.typeValue      | 0.6147949                              | \n",
       "| X_newR4Insula.Info.typeValue | -2.035360e-02                          | 0.05566493                             | X_newR4Insula.Info.typeValue           | 0.5897087                              | \n",
       "| X_newR4Motor.Info.typeValue | -1.907246e-02                          | 0.02078258                             | X_newR4Motor.Info.typeValue            | 0.5909898                              | \n",
       "| X_newR4Cingulum.Info.typeValue |  3.201838e-05                          | 0.02302724                             | X_newR4Cingulum.Info.typeValue         | 0.6100943                              | \n",
       "| X_newR4Frontal_Sup.Info.typePerceptual | -1.710947e-02                          | 0.01638549                             | X_newR4Frontal_Sup.Info.typePerceptual | 0.5929528                              | \n",
       "| X_newR4Frontal_Mid.Info.typePerceptual |  5.332713e-03                          | 0.01710156                             | X_newR4Frontal_Mid.Info.typePerceptual | 0.6153950                              | \n",
       "| X_newR4Frontal_Inf.Info.typePerceptual |  6.457793e-03                          | 0.01532928                             | X_newR4Frontal_Inf.Info.typePerceptual | 0.6165201                              | \n",
       "| X_newR4Frontal_Orb.Info.typePerceptual | -3.365834e-02                          | 0.02010437                             | X_newR4Frontal_Orb.Info.typePerceptual | 0.5764040                              | \n",
       "| X_newR4Insula.Info.typePerceptual | -3.147429e-02                          | 0.02804850                             | X_newR4Insula.Info.typePerceptual      | 0.5785880                              | \n",
       "| X_newR4Motor.Info.typePerceptual | -3.720687e-02                          | 0.02680406                             | X_newR4Motor.Info.typePerceptual       | 0.5728554                              | \n",
       "| X_newR4Cingulum.Info.typePerceptual |  7.223638e-02                          | 0.02471354                             | X_newR4Cingulum.Info.typePerceptual    | 0.6822987                              | \n",
       "| X_newR4Frontal_Sup.Info.typeResponse |  4.646516e-02                          | 0.02192724                             | X_newR4Frontal_Sup.Info.typeResponse   | 0.6565275                              | \n",
       "| X_newR4Frontal_Mid.Info.typeResponse | -2.311151e-02                          | 0.02215412                             | X_newR4Frontal_Mid.Info.typeResponse   | 0.5869508                              | \n",
       "| X_newR4Frontal_Inf.Info.typeResponse | -1.388033e-02                          | 0.02960651                             | X_newR4Frontal_Inf.Info.typeResponse   | 0.5961820                              | \n",
       "| X_newR4Frontal_Orb.Info.typeResponse | -2.776601e-02                          | 0.05797716                             | X_newR4Frontal_Orb.Info.typeResponse   | 0.5822963                              | \n",
       "| X_newR4Insula.Info.typeResponse | -5.643353e-02                          | 0.05538923                             | X_newR4Insula.Info.typeResponse        | 0.5536288                              | \n",
       "| X_newR4Motor.Info.typeResponse |  2.850436e-02                          | 0.01764115                             | X_newR4Motor.Info.typeResponse         | 0.6385667                              | \n",
       "| X_newR4Cingulum.Info.typeResponse |  1.265316e-02                          | 0.02602595                             | X_newR4Cingulum.Info.typeResponse      | 0.6227155                              | \n",
       "| X_newR4Frontal_Sup.Info.typeRule | -1.633125e-02                          | 0.01722011                             | X_newR4Frontal_Sup.Info.typeRule       | 0.5937311                              | \n",
       "| X_newR4Frontal_Mid.Info.typeRule | -1.300083e-02                          | 0.01443515                             | X_newR4Frontal_Mid.Info.typeRule       | 0.5970615                              | \n",
       "| X_newR4Frontal_Inf.Info.typeRule | -1.474043e-02                          | 0.01543821                             | X_newR4Frontal_Inf.Info.typeRule       | 0.5953219                              | \n",
       "| X_newR4Frontal_Orb.Info.typeRule | -4.387962e-02                          | 0.03779257                             | X_newR4Frontal_Orb.Info.typeRule       | 0.5661827                              | \n",
       "| X_newR4Insula.Info.typeRule | -2.365042e-02                          | 0.02678687                             | X_newR4Insula.Info.typeRule            | 0.5864119                              | \n",
       "| X_newR4Motor.Info.typeRule |  2.058032e-02                          | 0.01563311                             | X_newR4Motor.Info.typeRule             | 0.6306426                              | \n",
       "| X_newR4Cingulum.Info.typeRule |  2.111860e-03                          | 0.02057642                             | X_newR4Cingulum.Info.typeRule          | 0.6121742                              | \n",
       "\n",
       "\n"
      ],
      "text/plain": [
       "                                       coef          se        \n",
       "X_newR4Frontal_Sup.Info.typeValue       6.707905e-03 0.01867972\n",
       "X_newR4Frontal_Mid.Info.typeValue      -1.387175e-02 0.01804615\n",
       "X_newR4Frontal_Inf.Info.typeValue      -2.092714e-02 0.02350269\n",
       "X_newR4Frontal_Orb.Info.typeValue       4.732644e-03 0.02168791\n",
       "X_newR4Insula.Info.typeValue           -2.035360e-02 0.05566493\n",
       "X_newR4Motor.Info.typeValue            -1.907246e-02 0.02078258\n",
       "X_newR4Cingulum.Info.typeValue          3.201838e-05 0.02302724\n",
       "X_newR4Frontal_Sup.Info.typePerceptual -1.710947e-02 0.01638549\n",
       "X_newR4Frontal_Mid.Info.typePerceptual  5.332713e-03 0.01710156\n",
       "X_newR4Frontal_Inf.Info.typePerceptual  6.457793e-03 0.01532928\n",
       "X_newR4Frontal_Orb.Info.typePerceptual -3.365834e-02 0.02010437\n",
       "X_newR4Insula.Info.typePerceptual      -3.147429e-02 0.02804850\n",
       "X_newR4Motor.Info.typePerceptual       -3.720687e-02 0.02680406\n",
       "X_newR4Cingulum.Info.typePerceptual     7.223638e-02 0.02471354\n",
       "X_newR4Frontal_Sup.Info.typeResponse    4.646516e-02 0.02192724\n",
       "X_newR4Frontal_Mid.Info.typeResponse   -2.311151e-02 0.02215412\n",
       "X_newR4Frontal_Inf.Info.typeResponse   -1.388033e-02 0.02960651\n",
       "X_newR4Frontal_Orb.Info.typeResponse   -2.776601e-02 0.05797716\n",
       "X_newR4Insula.Info.typeResponse        -5.643353e-02 0.05538923\n",
       "X_newR4Motor.Info.typeResponse          2.850436e-02 0.01764115\n",
       "X_newR4Cingulum.Info.typeResponse       1.265316e-02 0.02602595\n",
       "X_newR4Frontal_Sup.Info.typeRule       -1.633125e-02 0.01722011\n",
       "X_newR4Frontal_Mid.Info.typeRule       -1.300083e-02 0.01443515\n",
       "X_newR4Frontal_Inf.Info.typeRule       -1.474043e-02 0.01543821\n",
       "X_newR4Frontal_Orb.Info.typeRule       -4.387962e-02 0.03779257\n",
       "X_newR4Insula.Info.typeRule            -2.365042e-02 0.02678687\n",
       "X_newR4Motor.Info.typeRule              2.058032e-02 0.01563311\n",
       "X_newR4Cingulum.Info.typeRule           2.111860e-03 0.02057642\n",
       "                                       name                                  \n",
       "X_newR4Frontal_Sup.Info.typeValue      X_newR4Frontal_Sup.Info.typeValue     \n",
       "X_newR4Frontal_Mid.Info.typeValue      X_newR4Frontal_Mid.Info.typeValue     \n",
       "X_newR4Frontal_Inf.Info.typeValue      X_newR4Frontal_Inf.Info.typeValue     \n",
       "X_newR4Frontal_Orb.Info.typeValue      X_newR4Frontal_Orb.Info.typeValue     \n",
       "X_newR4Insula.Info.typeValue           X_newR4Insula.Info.typeValue          \n",
       "X_newR4Motor.Info.typeValue            X_newR4Motor.Info.typeValue           \n",
       "X_newR4Cingulum.Info.typeValue         X_newR4Cingulum.Info.typeValue        \n",
       "X_newR4Frontal_Sup.Info.typePerceptual X_newR4Frontal_Sup.Info.typePerceptual\n",
       "X_newR4Frontal_Mid.Info.typePerceptual X_newR4Frontal_Mid.Info.typePerceptual\n",
       "X_newR4Frontal_Inf.Info.typePerceptual X_newR4Frontal_Inf.Info.typePerceptual\n",
       "X_newR4Frontal_Orb.Info.typePerceptual X_newR4Frontal_Orb.Info.typePerceptual\n",
       "X_newR4Insula.Info.typePerceptual      X_newR4Insula.Info.typePerceptual     \n",
       "X_newR4Motor.Info.typePerceptual       X_newR4Motor.Info.typePerceptual      \n",
       "X_newR4Cingulum.Info.typePerceptual    X_newR4Cingulum.Info.typePerceptual   \n",
       "X_newR4Frontal_Sup.Info.typeResponse   X_newR4Frontal_Sup.Info.typeResponse  \n",
       "X_newR4Frontal_Mid.Info.typeResponse   X_newR4Frontal_Mid.Info.typeResponse  \n",
       "X_newR4Frontal_Inf.Info.typeResponse   X_newR4Frontal_Inf.Info.typeResponse  \n",
       "X_newR4Frontal_Orb.Info.typeResponse   X_newR4Frontal_Orb.Info.typeResponse  \n",
       "X_newR4Insula.Info.typeResponse        X_newR4Insula.Info.typeResponse       \n",
       "X_newR4Motor.Info.typeResponse         X_newR4Motor.Info.typeResponse        \n",
       "X_newR4Cingulum.Info.typeResponse      X_newR4Cingulum.Info.typeResponse     \n",
       "X_newR4Frontal_Sup.Info.typeRule       X_newR4Frontal_Sup.Info.typeRule      \n",
       "X_newR4Frontal_Mid.Info.typeRule       X_newR4Frontal_Mid.Info.typeRule      \n",
       "X_newR4Frontal_Inf.Info.typeRule       X_newR4Frontal_Inf.Info.typeRule      \n",
       "X_newR4Frontal_Orb.Info.typeRule       X_newR4Frontal_Orb.Info.typeRule      \n",
       "X_newR4Insula.Info.typeRule            X_newR4Insula.Info.typeRule           \n",
       "X_newR4Motor.Info.typeRule             X_newR4Motor.Info.typeRule            \n",
       "X_newR4Cingulum.Info.typeRule          X_newR4Cingulum.Info.typeRule         \n",
       "                                       coef_gmean\n",
       "X_newR4Frontal_Sup.Info.typeValue      0.6167702 \n",
       "X_newR4Frontal_Mid.Info.typeValue      0.5961906 \n",
       "X_newR4Frontal_Inf.Info.typeValue      0.5891352 \n",
       "X_newR4Frontal_Orb.Info.typeValue      0.6147949 \n",
       "X_newR4Insula.Info.typeValue           0.5897087 \n",
       "X_newR4Motor.Info.typeValue            0.5909898 \n",
       "X_newR4Cingulum.Info.typeValue         0.6100943 \n",
       "X_newR4Frontal_Sup.Info.typePerceptual 0.5929528 \n",
       "X_newR4Frontal_Mid.Info.typePerceptual 0.6153950 \n",
       "X_newR4Frontal_Inf.Info.typePerceptual 0.6165201 \n",
       "X_newR4Frontal_Orb.Info.typePerceptual 0.5764040 \n",
       "X_newR4Insula.Info.typePerceptual      0.5785880 \n",
       "X_newR4Motor.Info.typePerceptual       0.5728554 \n",
       "X_newR4Cingulum.Info.typePerceptual    0.6822987 \n",
       "X_newR4Frontal_Sup.Info.typeResponse   0.6565275 \n",
       "X_newR4Frontal_Mid.Info.typeResponse   0.5869508 \n",
       "X_newR4Frontal_Inf.Info.typeResponse   0.5961820 \n",
       "X_newR4Frontal_Orb.Info.typeResponse   0.5822963 \n",
       "X_newR4Insula.Info.typeResponse        0.5536288 \n",
       "X_newR4Motor.Info.typeResponse         0.6385667 \n",
       "X_newR4Cingulum.Info.typeResponse      0.6227155 \n",
       "X_newR4Frontal_Sup.Info.typeRule       0.5937311 \n",
       "X_newR4Frontal_Mid.Info.typeRule       0.5970615 \n",
       "X_newR4Frontal_Inf.Info.typeRule       0.5953219 \n",
       "X_newR4Frontal_Orb.Info.typeRule       0.5661827 \n",
       "X_newR4Insula.Info.typeRule            0.5864119 \n",
       "X_newR4Motor.Info.typeRule             0.6306426 \n",
       "X_newR4Cingulum.Info.typeRule          0.6121742 "
      ]
     },
     "metadata": {},
     "output_type": "display_data"
    }
   ],
   "source": [
    "df$coef_gmean <- df$coef+gmean\n",
    "df"
   ]
  },
  {
   "cell_type": "code",
   "execution_count": 26,
   "metadata": {},
   "outputs": [
    {
     "data": {
      "text/html": [
       "0.639"
      ],
      "text/latex": [
       "0.639"
      ],
      "text/markdown": [
       "0.639"
      ],
      "text/plain": [
       "[1] 0.639"
      ]
     },
     "metadata": {},
     "output_type": "display_data"
    },
    {
     "data": {
      "text/html": [
       "0.657"
      ],
      "text/latex": [
       "0.657"
      ],
      "text/markdown": [
       "0.657"
      ],
      "text/plain": [
       "[1] 0.657"
      ]
     },
     "metadata": {},
     "output_type": "display_data"
    }
   ],
   "source": [
    "round(.6385667,3)\n",
    "round(0.6565275,3)"
   ]
  },
  {
   "cell_type": "code",
   "execution_count": 19,
   "metadata": {
    "collapsed": true
   },
   "outputs": [],
   "source": [
    "# do some name changes for axis # \n",
    "\n",
    "cc<-c()\n",
    "for (name in df$name){\n",
    "    newname<-gsub(\"R4\",\"\",name)\n",
    "    newname<-gsub(\"X_new\",\"\",newname)\n",
    "    newname<-gsub(\"Info.type\",\"\",newname)\n",
    "    newname<-gsub(\".Rule\",\" (Rule)\",newname)\n",
    "    newname<-gsub(\".Response\",\" (Response)\",newname)\n",
    "    newname<-gsub(\".Perceptual\",\" (Perceptual)\",newname)\n",
    "    newname<-gsub(\".Value\",\" (Value)\",newname)\n",
    "    newname<-gsub(\"Frontal_Sup\",\"Superior frontal gyrus\",newname)\n",
    "    newname<-gsub(\"Frontal_Mid\",\"Middle frontal gyrus\",newname)\n",
    "    newname<-gsub(\"Frontal_Inf\",\"Inferior frontal gyrus\",newname)\n",
    "    newname<-gsub(\"Frontal_Orb\",\"Superior & middle frontal gyrus, orbital part\",newname)\n",
    "    newname<-gsub(\"Insula\",\"Insula\",newname)\n",
    "    newname<-gsub(\"Motor\",\"Precentral gyrus & supplementary motory cortex\",newname)\n",
    "    newname<-gsub(\"Cingulum\",\"Cingulate gyrus\",newname)\n",
    "    #newname<-gsub(\".\",\"_\",newname)\n",
    "    cc<-c(cc,newname)\n",
    "    #print(newname)\n",
    "    \n",
    "}\n",
    "df$name2<-cc"
   ]
  },
  {
   "cell_type": "code",
   "execution_count": 21,
   "metadata": {},
   "outputs": [
    {
     "data": {},
     "metadata": {},
     "output_type": "display_data"
    },
    {
     "data": {
      "text/html": [
       "<strong>pdf:</strong> 2"
      ],
      "text/latex": [
       "\\textbf{pdf:} 2"
      ],
      "text/markdown": [
       "**pdf:** 2"
      ],
      "text/plain": [
       "pdf \n",
       "  2 "
      ]
     },
     "metadata": {},
     "output_type": "display_data"
    },
    {
     "data": {},
     "metadata": {},
     "output_type": "display_data"
    },
    {
     "data": {
      "text/html": [
       "<strong>pdf:</strong> 2"
      ],
      "text/latex": [
       "\\textbf{pdf:} 2"
      ],
      "text/markdown": [
       "**pdf:** 2"
      ],
      "text/plain": [
       "pdf \n",
       "  2 "
      ]
     },
     "metadata": {},
     "output_type": "display_data"
    },
    {
     "data": {},
     "metadata": {},
     "output_type": "display_data"
    },
    {
     "data": {
      "image/png": "[encoded data removed]"
     },
     "metadata": {},
     "output_type": "display_data"
    }
   ],
   "source": [
    "\n",
    "\n",
    "\n",
    "# main plot \n",
    "p<-ggplot(data=df,aes(x=name2))+\n",
    "geom_point(aes(y=coef),size=1)+\n",
    "geom_errorbar(aes(ymax = coef + se, ymin=coef- se),width=0.3)\n",
    "p<-p+geom_hline(yintercept=0,linetype='dotted') \n",
    "\n",
    "mainlinewidth=.5\n",
    "textsize = 8\n",
    "labelsize = 8\n",
    "\n",
    "# theme \n",
    "p<-p+xlab('Region (grouped by information type)')\n",
    "p<-p+ylab('Decoding accuracy \\n (difference from grand mean)')\n",
    "p<-p+theme(panel.background=element_blank())\n",
    "\n",
    "\n",
    "p<-p+theme(axis.line.x = element_line(color=\"black\", size =mainlinewidth),\n",
    "        axis.line.y = element_line(color=\"black\", size = mainlinewidth))\n",
    "\n",
    "p<-p+theme(axis.text.y = element_text(family=\"Helvetica\",size=textsize,colour='black'))\n",
    "p<-p+theme(axis.text.x = element_text(family=\"Helvetica\",angle = 90, vjust=0.5,\n",
    "                                      hjust = 1,size=textsize,colour='black'))\n",
    "p<-p+theme(plot.title = element_text(family=\"Helvetica\",size=labelsize,colour='black'))\n",
    "p<-p+theme(axis.title.x = element_text(family=\"Helvetica\",size=labelsize,colour='black'))\n",
    "p<-p+theme(axis.title.y = element_text(family=\"Helvetica\",size=labelsize,colour='black'))\n",
    "\n",
    "p<-p+theme(axis.ticks.x=element_blank(),axis.ticks.y=element_blank())\n",
    "\n",
    "setEPS()\n",
    "postscript('../Figures/Supp_accuracy_by_region_info_interaction_v8b.eps',width=6,height=6)\n",
    "p\n",
    "dev.off()\n",
    "\n",
    "png('../Figures/Supp_accuracy_by_region_info_interaction_v8b.png',width=6,height=6,\n",
    "    units=\"in\",res=400)\n",
    "p\n",
    "dev.off()\n",
    "options(repr.plot.width=6, repr.plot.height=6)\n",
    "p\n"
   ]
  },
  {
   "cell_type": "code",
   "execution_count": null,
   "metadata": {
    "collapsed": true
   },
   "outputs": [],
   "source": []
  }
 ],
 "metadata": {
  "hide_input": false,
  "kernelspec": {
   "display_name": "R",
   "language": "R",
   "name": "ir"
  },
  "language_info": {
   "codemirror_mode": "r",
   "file_extension": ".r",
   "mimetype": "text/x-r-source",
   "name": "R",
   "pygments_lexer": "r",
   "version": "3.4.1"
  },
  "toc": {
   "nav_menu": {},
   "number_sections": true,
   "sideBar": true,
   "skip_h1_title": false,
   "toc_cell": false,
   "toc_position": {},
   "toc_section_display": "block",
   "toc_window_display": false
  }
 },
 "nbformat": 4,
 "nbformat_minor": 1
}
