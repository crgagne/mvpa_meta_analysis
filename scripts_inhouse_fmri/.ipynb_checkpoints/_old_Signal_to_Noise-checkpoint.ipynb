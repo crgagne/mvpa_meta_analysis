{
 "cells": [
  {
   "cell_type": "markdown",
   "metadata": {},
   "source": [
    "Goal: calculate the SNR for each region to (a) compare average levels across regions, and (b) see if decoding performance is correlated with SNR. \n",
    "\n",
    "Calculate SNR in two ways\n",
    "- raw SNR \n",
    "- all vs fix SNR "
   ]
  },
  {
   "cell_type": "code",
   "execution_count": 11,
   "metadata": {
    "collapsed": false
   },
   "outputs": [
    {
     "name": "stderr",
     "output_type": "stream",
     "text": [
      "/home/bishop/cgagne/anaconda2/lib/python2.7/site-packages/ipykernel/pylab/config.py:66: DeprecationWarning: metadata {'config': True} was set from the constructor.  Metadata should be set using the .tag() method, e.g., Int().tag(key1='value1', key2='value2')\n",
      "  inline backend.\"\"\"\n",
      "/home/bishop/cgagne/anaconda2/lib/python2.7/site-packages/ipykernel/pylab/config.py:71: DeprecationWarning: metadata {'config': True} was set from the constructor.  Metadata should be set using the .tag() method, e.g., Int().tag(key1='value1', key2='value2')\n",
      "  'retina', 'jpeg', 'svg', 'pdf'.\"\"\")\n",
      "/home/bishop/cgagne/anaconda2/lib/python2.7/site-packages/ipykernel/pylab/config.py:85: DeprecationWarning: metadata {'config': True} was set from the constructor.  Metadata should be set using the .tag() method, e.g., Int().tag(key1='value1', key2='value2')\n",
      "  use `figure_formats` instead)\"\"\")\n",
      "/home/bishop/cgagne/anaconda2/lib/python2.7/site-packages/ipykernel/pylab/config.py:95: DeprecationWarning: metadata {'config': True} was set from the constructor.  Metadata should be set using the .tag() method, e.g., Int().tag(key1='value1', key2='value2')\n",
      "  \"\"\"\n",
      "/home/bishop/cgagne/anaconda2/lib/python2.7/site-packages/ipykernel/pylab/config.py:114: DeprecationWarning: metadata {'config': True} was set from the constructor.  Metadata should be set using the .tag() method, e.g., Int().tag(key1='value1', key2='value2')\n",
      "  \"\"\")\n",
      "/home/bishop/cgagne/anaconda2/lib/python2.7/site-packages/ipykernel/pylab/config.py:44: DeprecationWarning: InlineBackend._config_changed is deprecated: use @observe and @unobserve instead.\n",
      "  def _config_changed(self, name, old, new):\n",
      "/home/bishop/cgagne/anaconda2/lib/python2.7/site-packages/traitlets/traitlets.py:770: DeprecationWarning: A parent of InlineBackend._config_changed has adopted the new @observe(change) API\n",
      "  clsname, change_or_name), DeprecationWarning)\n"
     ]
    }
   ],
   "source": [
    "import sys\n",
    "#sys.path.append(\"/home/cgagne/Dropbox/python/PyMVPA-master\")\n",
    "#sys.path.append(\"/gpfs/home/cgagne/python/PyMVPA-master\")\n",
    "#sys.path.append(\"/gpfs/home/cgagne/python/PyMVPA-master/mvpa2/lib/python2.6/site-packages\")\n",
    "sys.path.append(\"/home/bishop/cgagne/MVPA_Analysis/CCV_Files/PyMVPA/mvpa2\")\n",
    "#import mdp # so PCAmapper can work\n",
    "rois = ['Occipital_Lobe','Parietal_Lobe','Temporal_Lobe','Frontal_Lobe','Medial_Frontal','Lateral_Frontal']\n",
    "roi_names_shorted = ['occipital','parietal','temporal','frontal']\n",
    "from mvpa2.tutorial_suite import *\n",
    "import numpy as np\n",
    "import pdb\n",
    "import matplotlib.pyplot as plt\n",
    "import seaborn as sns\n",
    "import pandas as pd\n",
    "\n",
    "%matplotlib inline"
   ]
  },
  {
   "cell_type": "code",
   "execution_count": 12,
   "metadata": {
    "collapsed": true
   },
   "outputs": [],
   "source": [
    "subs = ['01','02','04','05','06','07','08','09',\n",
    "        '10','11','12','13','14','15','16','17','18','19','20','21','22']\n",
    "rois_nums = [0,1,3]\n",
    "subject = subs[1]"
   ]
  },
  {
   "cell_type": "markdown",
   "metadata": {},
   "source": [
    "- load each subjects data within a single ROI\n",
    "- calulate raw snr\n",
    "- plot raw signal to look for weird shit\n",
    "- detrend by run\n",
    "- average per TR after stimulus onset\n",
    "- SNR = time-points 4-8 minus time-points 1-4?\n",
    "- Store this SNR per subjects \n",
    "- Plot average per ROI\n",
    "- Get classification per ROI per subjects \n",
    "- Correlate and plot "
   ]
  },
  {
   "cell_type": "markdown",
   "metadata": {},
   "source": [
    "# Make AAL ROIs\n"
   ]
  },
  {
   "cell_type": "code",
   "execution_count": 17,
   "metadata": {
    "collapsed": false
   },
   "outputs": [],
   "source": [
    "import nibabel as nib\n",
    "from nilearn import datasets"
   ]
  },
  {
   "cell_type": "code",
   "execution_count": 18,
   "metadata": {
    "collapsed": false
   },
   "outputs": [],
   "source": [
    "dataset = datasets.fetch_atlas_aal()\n",
    "atlas_filename = dataset.maps\n",
    "atlas_img = nib.load(dataset.maps)\n",
    "atlas_img_data = atlas_img.get_data()\n",
    "atlas_img.to_filename('../data_inhouse_fmri/data_rois/AAL.nii.gz')"
   ]
  },
  {
   "cell_type": "code",
   "execution_count": 20,
   "metadata": {
    "collapsed": false
   },
   "outputs": [],
   "source": [
    "for roi,index in zip(dataset.labels,dataset.indices):\n",
    "    atlas_img = nib.load(dataset.maps)\n",
    "    atlas_img_data = atlas_img.get_data()\n",
    "    atlas_img_data[atlas_img_data!=int(index)]=0.0\n",
    "    atlas_img.to_filename('../data_inhouse_fmri/data_rois/AAL_'+roi+'.nii.gz')\n"
   ]
  },
  {
   "cell_type": "markdown",
   "metadata": {},
   "source": [
    "# Make Outside-the-brain Mask\n"
   ]
  },
  {
   "cell_type": "code",
   "execution_count": 5,
   "metadata": {
    "collapsed": false
   },
   "outputs": [
    {
     "name": "stdout",
     "output_type": "stream",
     "text": [
      "(79, 95, 69)\n"
     ]
    }
   ],
   "source": [
    "img = nib.load('../data_inhouse_fmri/data_rois/Occipital_Lobe.nii.gz')\n",
    "data = img.get_data()\n",
    "print(data.shape)\n",
    "data[:,:,:]=0.0\n",
    "data[0:20,0:20,49:69]=1.0\n",
    "img.to_filename('../data_inhouse_fmri/data_rois/Outside_Brain_Square.nii.gz')"
   ]
  },
  {
   "cell_type": "markdown",
   "metadata": {},
   "source": [
    "# Getting Raw Data for Each Subject"
   ]
  },
  {
   "cell_type": "code",
   "execution_count": 6,
   "metadata": {
    "collapsed": false
   },
   "outputs": [],
   "source": [
    "def get_data(subject):\n",
    "    \n",
    "    basefolder='/home/bishop/cgagne/MVPA_Analysis/data_inhouse_fmri/'\n",
    "    subjectfolder = basefolder+\"/data_mri/fmri_\"+subject+\"_TRI/bold/\"\n",
    "    subjectbehfolder = basefolder+\"/data_behavioral/fmri_\"+subject+\"_TRI/tribehav/\"\n",
    "    roifolder = basefolder+\"/data_rois/\"\n",
    "    resultsfolder = basefolder+\"/results/\"\n",
    "    stim='type'\n",
    "    onset = '+0'\n",
    "    attr = SampleAttributes(os.path.join(subjectbehfolder,'TR'+stim+'onsets'+onset+'.txt')) # order 2 has exact timings...\n",
    "\n",
    "    roi_number = 0\n",
    "    ds_occipital = fmri_dataset(os.path.join(subjectfolder,'wraf.nii.gz'),targets=attr.targets,chunks=attr.chunks,mask=os.path.join(roifolder,rois[roi_number]+'.nii.gz')) # can add mask here. \n",
    "\n",
    "    roi_number = 1\n",
    "    ds_parietal = fmri_dataset(os.path.join(subjectfolder,'wraf.nii.gz'),targets=attr.targets,chunks=attr.chunks,mask=os.path.join(roifolder,rois[roi_number]+'.nii.gz')) # can add mask here. \n",
    "\n",
    "    roi_number = 3\n",
    "    ds_frontal = fmri_dataset(os.path.join(subjectfolder,'wraf.nii.gz'),targets=attr.targets,chunks=attr.chunks,mask=os.path.join(roifolder,rois[roi_number]+'.nii.gz')) # can add mask here. \n",
    "    \n",
    "    # outside brain voxels --- \n",
    "    ds_outside = fmri_dataset(os.path.join(subjectfolder,'wraf.nii.gz'),targets=attr.targets,chunks=attr.chunks,mask=os.path.join(roifolder,'Outside_Brain_Square.nii.gz')) # can add mask here. \n",
    "    \n",
    "    \n",
    "    return(ds_occipital,ds_parietal,ds_frontal,ds_outside)"
   ]
  },
  {
   "cell_type": "code",
   "execution_count": 7,
   "metadata": {
    "collapsed": false
   },
   "outputs": [
    {
     "name": "stdout",
     "output_type": "stream",
     "text": [
      "WARNING: Detected incorrect (nan) scl_ fields. Resetting to scl_slope=1.0 and scl_inter=0.0\n",
      " * Please note: warnings are printed only once, but underlying problem might occur many times *\n"
     ]
    }
   ],
   "source": [
    "(ds_occipital,ds_parietal,ds_frontal,ds_outside) = get_data(subject)"
   ]
  },
  {
   "cell_type": "code",
   "execution_count": 8,
   "metadata": {
    "collapsed": false,
    "scrolled": true
   },
   "outputs": [
    {
     "name": "stderr",
     "output_type": "stream",
     "text": [
      "/home/bishop/cgagne/anaconda2/lib/python2.7/site-packages/IPython/core/formatters.py:92: DeprecationWarning: DisplayFormatter._ipython_display_formatter_default is deprecated: use @default decorator instead.\n",
      "  def _ipython_display_formatter_default(self):\n",
      "/home/bishop/cgagne/anaconda2/lib/python2.7/site-packages/IPython/core/formatters.py:669: DeprecationWarning: PlainTextFormatter._singleton_printers_default is deprecated: use @default decorator instead.\n",
      "  def _singleton_printers_default(self):\n"
     ]
    },
    {
     "data": {
      "image/png": "[encoded data removed]",
      "text/plain": [
       "<matplotlib.figure.Figure at 0x7f40c7f26090>"
      ]
     },
     "metadata": {},
     "output_type": "display_data"
    }
   ],
   "source": [
    "def plot_raw(ds_occipital,ds_parietal,ds_frontal,ds_outside,subject,show=True):\n",
    "    plt.figure(figsize=(8,3))\n",
    "    plt.plot(np.mean(ds_occipital.samples[:,:],axis=1),label='Occipital')\n",
    "    plt.plot(np.mean(ds_parietal.samples[:,:],axis=1),label='Parietal')\n",
    "    plt.plot(np.mean(ds_frontal.samples[:,:],axis=1),label='Frontal')\n",
    "    plt.plot(np.mean(ds_outside.samples[:,:],axis=1),label='Outside Brain')\n",
    "    plt.legend()\n",
    "    plt.xlabel('TR')\n",
    "    plt.ylabel('Average ROI Signal Intensity')\n",
    "    plt.tight_layout()\n",
    "    plt.savefig('../Figures/SNR_Analysis/Raw_TS_'+subject+'.png',dpi=300)\n",
    "\n",
    "    if show==False:\n",
    "        plt.clf()\n",
    "        \n",
    "plot_raw(ds_occipital,ds_parietal,ds_frontal,ds_outside,subject,show=True)"
   ]
  },
  {
   "cell_type": "markdown",
   "metadata": {},
   "source": [
    "# Calculating Raw SNR"
   ]
  },
  {
   "cell_type": "code",
   "execution_count": 9,
   "metadata": {
    "collapsed": false
   },
   "outputs": [],
   "source": [
    "def calc_snr_raw(ds_occipital,ds_parietal,ds_frontal,ds_outside):\n",
    "    '''the SNR here is spatial and temporal mean signal within each run / mean noise per run\n",
    "    '''\n",
    "    snr = np.array([])\n",
    "    for ds in [ds_occipital,ds_parietal,ds_frontal]:\n",
    "        snr_per_run = np.array([])\n",
    "        for run in np.unique(ds.sa.chunks):\n",
    "            \n",
    "            snr_within_run = np.mean(ds.samples[ds.sa.chunks==run,:])/np.mean(ds_outside[ds.sa.chunks==run,:])\n",
    "            snr_per_run = np.append(snr_per_run,snr_within_run)\n",
    "        snr = np.append(snr,snr_per_run.mean())\n",
    "            \n",
    "    return(snr)\n"
   ]
  },
  {
   "cell_type": "code",
   "execution_count": 10,
   "metadata": {
    "collapsed": false
   },
   "outputs": [
    {
     "name": "stdout",
     "output_type": "stream",
     "text": [
      "[ 61.82623367  48.18236745  51.841659  ]\n"
     ]
    }
   ],
   "source": [
    "snr_raw = calc_snr_raw(ds_occipital,ds_parietal,ds_frontal,ds_outside)\n",
    "print(snr_raw)"
   ]
  },
  {
   "cell_type": "markdown",
   "metadata": {},
   "source": [
    "# Detrend"
   ]
  },
  {
   "cell_type": "code",
   "execution_count": 11,
   "metadata": {
    "collapsed": true
   },
   "outputs": [],
   "source": [
    "def detrend(ds_occipital,ds_parietal,ds_frontal,ds_outside):\n",
    "    detrender = PolyDetrendMapper(polyord=1,chunks_attr='chunks')\n",
    "    ds_frontal = ds_frontal.get_mapped(detrender) # detrend by run\n",
    "    ds_outside = ds_outside.get_mapped(detrender) # detrend by run\n",
    "    ds_parietal = ds_parietal.get_mapped(detrender) # detrend by run\n",
    "    ds_occipital = ds_occipital.get_mapped(detrender) # detrend by run\n",
    "    return(ds_occipital,ds_parietal,ds_frontal,ds_outside)"
   ]
  },
  {
   "cell_type": "code",
   "execution_count": 12,
   "metadata": {
    "collapsed": true
   },
   "outputs": [],
   "source": [
    " (ds_occipital,ds_parietal,ds_frontal,ds_outside) = detrend(ds_occipital,ds_parietal,ds_frontal,ds_outside)"
   ]
  },
  {
   "cell_type": "code",
   "execution_count": 13,
   "metadata": {
    "collapsed": false,
    "scrolled": true
   },
   "outputs": [
    {
     "data": {
      "image/png": "[encoded data removed]",
      "text/plain": [
       "<matplotlib.figure.Figure at 0x7f40cb2c2310>"
      ]
     },
     "metadata": {},
     "output_type": "display_data"
    }
   ],
   "source": [
    "def plot_detrended(ds_occipital,ds_parietal,ds_frontal,ds_outside,subject,show=True):\n",
    "    plt.figure(figsize=(8,3))\n",
    "    plt.plot(np.mean(ds_occipital.samples[:,:],axis=1),label='Occipital',alpha=0.5)\n",
    "    plt.plot(np.mean(ds_parietal.samples[:,:],axis=1),label='Parietal',alpha=0.5)\n",
    "    plt.plot(np.mean(ds_frontal.samples[:,:],axis=1),label='Frontal',alpha=0.5)\n",
    "    plt.plot(np.mean(ds_outside.samples[:,:],axis=1),label='Outside Brain',alpha=0.5)\n",
    "    plt.legend()\n",
    "    plt.xlabel('TR')\n",
    "    plt.ylabel('Average ROI Signal Intensity \\n De-trended by Run')\n",
    "    plt.tight_layout()\n",
    "    plt.savefig('../Figures/SNR_Analysis/Detrended_TS_'+subject+'.png',dpi=300)\n",
    "\n",
    "    if show==False:\n",
    "        plt.clf()\n",
    "        \n",
    "\n",
    "plot_detrended(ds_occipital,ds_parietal,ds_frontal,ds_outside,subject,show=True)"
   ]
  },
  {
   "cell_type": "markdown",
   "metadata": {},
   "source": [
    "# Calculating HRF "
   ]
  },
  {
   "cell_type": "code",
   "execution_count": 14,
   "metadata": {
    "collapsed": true
   },
   "outputs": [],
   "source": [
    "def calc_hrf(ds):\n",
    "    std_per_TR = np.array([])\n",
    "    response_per_TR = np.array([])\n",
    "    for TR_after_onset in np.arange(8):\n",
    "        TR_selector = np.where(ds.sa.targets!='0')[0]+TR_after_onset\n",
    "        response_per_TR= np.append(response_per_TR,ds.samples[TR_selector,:].mean())\n",
    "        std_per_TR= np.append(std_per_TR,ds.samples[TR_selector,:].std())\n",
    "        \n",
    "    return(response_per_TR,std_per_TR)"
   ]
  },
  {
   "cell_type": "code",
   "execution_count": 15,
   "metadata": {
    "collapsed": false
   },
   "outputs": [],
   "source": [
    "\n",
    "def plot_hrfs(ds_occipital,ds_parietal,ds_frontal,ds_outside,subject,show=True):\n",
    "    \n",
    "    num_trs = 8\n",
    "    \n",
    "    fig,axes = plt.subplots(1,4,figsize=(8,3),sharey=True)\n",
    "    # occipital \n",
    "    (response_per_TR,std_per_TR)=calc_hrf(ds_occipital)\n",
    "    n = ds_occipital.samples.shape[1]\n",
    "    axes[0].errorbar(np.arange(num_trs),response_per_TR,yerr=std_per_TR/np.sqrt(n))\n",
    "    axes[0].set_title('Visual')\n",
    "    # parietal\n",
    "    (response_per_TR,std_per_TR)=calc_hrf(ds_parietal)\n",
    "    n = ds_parietal.samples.shape[1]\n",
    "    axes[1].errorbar(np.arange(num_trs),response_per_TR,yerr=std_per_TR/np.sqrt(n))\n",
    "    axes[1].set_title('Parietal')\n",
    "    # frontal\n",
    "    (response_per_TR,std_per_TR)=calc_hrf(ds_frontal)\n",
    "    n = ds_frontal.samples.shape[1]\n",
    "    axes[2].errorbar(np.arange(num_trs),response_per_TR,yerr=std_per_TR/np.sqrt(n))\n",
    "    axes[2].set_title('Frontal')\n",
    "    \n",
    "    # outside\n",
    "    (response_per_TR,std_per_TR)=calc_hrf(ds_outside)\n",
    "    n = ds_outside.samples.shape[1]\n",
    "    axes[3].errorbar(np.arange(num_trs),response_per_TR,yerr=std_per_TR/np.sqrt(n))\n",
    "    axes[3].set_title('Outside Brain')\n",
    "    \n",
    "    axes[0].set_ylabel('Average Signal \\n (demeaned within run)')\n",
    "    axes[0].set_xlabel('TR (2 sec)')\n",
    "    axes[1].set_xlabel('TR (2 sec)')\n",
    "    axes[2].set_xlabel('TR (2 sec)')\n",
    "    axes[3].set_xlabel('TR (2 sec)')\n",
    "    plt.tight_layout()\n",
    "    \n",
    "    plt.savefig('../Figures/SNR_Analysis/HRF_Plots_'+subject+'.png',dpi=300)\n",
    "    \n",
    "    if show==False:\n",
    "        plt.close() # for plotting in a loop # \n",
    "    "
   ]
  },
  {
   "cell_type": "code",
   "execution_count": 16,
   "metadata": {
    "collapsed": false
   },
   "outputs": [
    {
     "data": {
      "image/png": "[encoded data removed]",
      "text/plain": [
       "<matplotlib.figure.Figure at 0x7f400e0b6750>"
      ]
     },
     "metadata": {},
     "output_type": "display_data"
    }
   ],
   "source": [
    "plot_hrfs(ds_occipital,ds_parietal,ds_frontal,ds_outside,subject)"
   ]
  },
  {
   "cell_type": "markdown",
   "metadata": {},
   "source": [
    "# Calculating SNR (All v Fix) for Each subject"
   ]
  },
  {
   "cell_type": "code",
   "execution_count": 60,
   "metadata": {
    "collapsed": false
   },
   "outputs": [],
   "source": [
    "def calc_snr_all_v_fix(ds):\n",
    "    '''the SNR here is a two-sample t-test: \n",
    "        average Signal - average Noise / pooled std()\n",
    "        Signal = TRs 3,4,5 averaged across all 8 stimulus types\n",
    "        Noise = all other time points\n",
    "    '''\n",
    "    signal_selector = np.where(ds.sa.targets!='0')[0]+3\n",
    "    signal_selector = np.append(signal_selector,np.where(ds.sa.targets!='0')[0]+4)\n",
    "    #signal_selector = np.append(signal_selector,np.where(ds.sa.targets!='0')[0]+5)\n",
    "\n",
    "    noise_selector = np.array([i for i in np.arange(len(ds.sa.targets)) if i not in signal_selector])\n",
    "\n",
    "    signal = ds.samples[signal_selector,:]\n",
    "    noise = ds.samples[noise_selector,:]\n",
    "\n",
    "    Sm = np.nanmean(signal,axis=0) # temporal average\n",
    "    Nm = np.nanmean(noise,axis=0) # temporal average\n",
    "    std = np.nanstd(ds.samples,axis=0) # temporal std\n",
    "\n",
    "    t_map = (Sm-Nm)/np.sqrt(std**2*(1.0/len(signal_selector)+1.0/len(noise_selector)))\n",
    "\n",
    "    SNR = np.nanmean(t_map)\n",
    "    out={}\n",
    "    out['SNR']=SNR\n",
    "    out['t_map']=t_map\n",
    "    out['Sm']=Sm\n",
    "    out['Nm']=Nm\n",
    "    out['std']=std\n",
    "    return(out)\n"
   ]
  },
  {
   "cell_type": "code",
   "execution_count": 61,
   "metadata": {
    "collapsed": false
   },
   "outputs": [
    {
     "name": "stderr",
     "output_type": "stream",
     "text": [
      "/home/bishop/cgagne/anaconda2/lib/python2.7/site-packages/ipykernel/__main__.py:20: RuntimeWarning: invalid value encountered in divide\n"
     ]
    },
    {
     "name": "stdout",
     "output_type": "stream",
     "text": [
      "3.12727171675\n",
      "1.32901188749\n",
      "1.67728814663\n"
     ]
    }
   ],
   "source": [
    "out = calc_snr_all_v_fix(ds_occipital)\n",
    "print(out['SNR'])\n",
    "\n",
    "out = calc_snr_all_v_fix(ds_parietal)\n",
    "print(out['SNR'])\n",
    "\n",
    "out = calc_snr_all_v_fix(ds_frontal)\n",
    "print(out['SNR'])"
   ]
  },
  {
   "cell_type": "code",
   "execution_count": 19,
   "metadata": {
    "collapsed": false
   },
   "outputs": [],
   "source": [
    "#subject"
   ]
  },
  {
   "cell_type": "markdown",
   "metadata": {},
   "source": [
    "\n",
    "# Repeating for all Subjects"
   ]
  },
  {
   "cell_type": "code",
   "execution_count": 62,
   "metadata": {
    "collapsed": false,
    "scrolled": true
   },
   "outputs": [
    {
     "name": "stdout",
     "output_type": "stream",
     "text": [
      "01\n"
     ]
    },
    {
     "name": "stderr",
     "output_type": "stream",
     "text": [
      "/home/bishop/cgagne/anaconda2/lib/python2.7/site-packages/ipykernel/__main__.py:20: RuntimeWarning: invalid value encountered in divide\n"
     ]
    },
    {
     "name": "stdout",
     "output_type": "stream",
     "text": [
      "02\n",
      "04\n",
      "05\n",
      "06\n",
      "07\n",
      "08\n",
      "09\n",
      "10\n",
      "11\n",
      "12\n",
      "13\n",
      "14\n",
      "15\n",
      "16\n",
      "17\n",
      "18\n",
      "19\n",
      "20\n",
      "21\n",
      "22\n"
     ]
    },
    {
     "data": {
      "text/plain": [
       "<matplotlib.figure.Figure at 0x7f407dee6d50>"
      ]
     },
     "metadata": {},
     "output_type": "display_data"
    },
    {
     "data": {
      "text/plain": [
       "<matplotlib.figure.Figure at 0x7f407b627410>"
      ]
     },
     "metadata": {},
     "output_type": "display_data"
    },
    {
     "data": {
      "text/plain": [
       "<matplotlib.figure.Figure at 0x7f407b4e8490>"
      ]
     },
     "metadata": {},
     "output_type": "display_data"
    },
    {
     "data": {
      "text/plain": [
       "<matplotlib.figure.Figure at 0x7f407de14f50>"
      ]
     },
     "metadata": {},
     "output_type": "display_data"
    },
    {
     "data": {
      "text/plain": [
       "<matplotlib.figure.Figure at 0x7f407da08650>"
      ]
     },
     "metadata": {},
     "output_type": "display_data"
    },
    {
     "data": {
      "text/plain": [
       "<matplotlib.figure.Figure at 0x7f4079f30410>"
      ]
     },
     "metadata": {},
     "output_type": "display_data"
    },
    {
     "data": {
      "text/plain": [
       "<matplotlib.figure.Figure at 0x7f407e658810>"
      ]
     },
     "metadata": {},
     "output_type": "display_data"
    },
    {
     "data": {
      "text/plain": [
       "<matplotlib.figure.Figure at 0x7f407a05f790>"
      ]
     },
     "metadata": {},
     "output_type": "display_data"
    },
    {
     "data": {
      "text/plain": [
       "<matplotlib.figure.Figure at 0x7f407f8d9790>"
      ]
     },
     "metadata": {},
     "output_type": "display_data"
    },
    {
     "data": {
      "text/plain": [
       "<matplotlib.figure.Figure at 0x7f407b1ce110>"
      ]
     },
     "metadata": {},
     "output_type": "display_data"
    },
    {
     "data": {
      "text/plain": [
       "<matplotlib.figure.Figure at 0x7f407d32d1d0>"
      ]
     },
     "metadata": {},
     "output_type": "display_data"
    },
    {
     "data": {
      "text/plain": [
       "<matplotlib.figure.Figure at 0x7f407f2f2d10>"
      ]
     },
     "metadata": {},
     "output_type": "display_data"
    },
    {
     "data": {
      "text/plain": [
       "<matplotlib.figure.Figure at 0x7f40805fb490>"
      ]
     },
     "metadata": {},
     "output_type": "display_data"
    },
    {
     "data": {
      "text/plain": [
       "<matplotlib.figure.Figure at 0x7f40805d20d0>"
      ]
     },
     "metadata": {},
     "output_type": "display_data"
    },
    {
     "data": {
      "text/plain": [
       "<matplotlib.figure.Figure at 0x7f40805e2410>"
      ]
     },
     "metadata": {},
     "output_type": "display_data"
    },
    {
     "data": {
      "text/plain": [
       "<matplotlib.figure.Figure at 0x7f407fac4110>"
      ]
     },
     "metadata": {},
     "output_type": "display_data"
    },
    {
     "data": {
      "text/plain": [
       "<matplotlib.figure.Figure at 0x7f4080a43ad0>"
      ]
     },
     "metadata": {},
     "output_type": "display_data"
    },
    {
     "data": {
      "text/plain": [
       "<matplotlib.figure.Figure at 0x7f40805fb450>"
      ]
     },
     "metadata": {},
     "output_type": "display_data"
    },
    {
     "data": {
      "text/plain": [
       "<matplotlib.figure.Figure at 0x7f407fa13c90>"
      ]
     },
     "metadata": {},
     "output_type": "display_data"
    },
    {
     "data": {
      "text/plain": [
       "<matplotlib.figure.Figure at 0x7f407f2188d0>"
      ]
     },
     "metadata": {},
     "output_type": "display_data"
    },
    {
     "data": {
      "text/plain": [
       "<matplotlib.figure.Figure at 0x7f407bdede10>"
      ]
     },
     "metadata": {},
     "output_type": "display_data"
    },
    {
     "data": {
      "text/plain": [
       "<matplotlib.figure.Figure at 0x7f407e06ea10>"
      ]
     },
     "metadata": {},
     "output_type": "display_data"
    },
    {
     "data": {
      "text/plain": [
       "<matplotlib.figure.Figure at 0x7f407f3922d0>"
      ]
     },
     "metadata": {},
     "output_type": "display_data"
    },
    {
     "data": {
      "text/plain": [
       "<matplotlib.figure.Figure at 0x7f407b6ad590>"
      ]
     },
     "metadata": {},
     "output_type": "display_data"
    },
    {
     "data": {
      "text/plain": [
       "<matplotlib.figure.Figure at 0x7f407b6ad110>"
      ]
     },
     "metadata": {},
     "output_type": "display_data"
    },
    {
     "data": {
      "text/plain": [
       "<matplotlib.figure.Figure at 0x7f407cbdb050>"
      ]
     },
     "metadata": {},
     "output_type": "display_data"
    },
    {
     "data": {
      "text/plain": [
       "<matplotlib.figure.Figure at 0x7f407c6719d0>"
      ]
     },
     "metadata": {},
     "output_type": "display_data"
    },
    {
     "data": {
      "text/plain": [
       "<matplotlib.figure.Figure at 0x7f407d8c82d0>"
      ]
     },
     "metadata": {},
     "output_type": "display_data"
    },
    {
     "data": {
      "text/plain": [
       "<matplotlib.figure.Figure at 0x7f407d8b4e10>"
      ]
     },
     "metadata": {},
     "output_type": "display_data"
    },
    {
     "data": {
      "text/plain": [
       "<matplotlib.figure.Figure at 0x7f407c879250>"
      ]
     },
     "metadata": {},
     "output_type": "display_data"
    },
    {
     "data": {
      "text/plain": [
       "<matplotlib.figure.Figure at 0x7f407f3d7190>"
      ]
     },
     "metadata": {},
     "output_type": "display_data"
    },
    {
     "data": {
      "text/plain": [
       "<matplotlib.figure.Figure at 0x7f407c40e510>"
      ]
     },
     "metadata": {},
     "output_type": "display_data"
    },
    {
     "data": {
      "text/plain": [
       "<matplotlib.figure.Figure at 0x7f3f68131450>"
      ]
     },
     "metadata": {},
     "output_type": "display_data"
    },
    {
     "data": {
      "text/plain": [
       "<matplotlib.figure.Figure at 0x7f407cd75450>"
      ]
     },
     "metadata": {},
     "output_type": "display_data"
    },
    {
     "data": {
      "text/plain": [
       "<matplotlib.figure.Figure at 0x7f407ce7b6d0>"
      ]
     },
     "metadata": {},
     "output_type": "display_data"
    },
    {
     "data": {
      "text/plain": [
       "<matplotlib.figure.Figure at 0x7f3f523e8090>"
      ]
     },
     "metadata": {},
     "output_type": "display_data"
    },
    {
     "data": {
      "text/plain": [
       "<matplotlib.figure.Figure at 0x7f407b153f50>"
      ]
     },
     "metadata": {},
     "output_type": "display_data"
    },
    {
     "data": {
      "text/plain": [
       "<matplotlib.figure.Figure at 0x7f4080df4950>"
      ]
     },
     "metadata": {},
     "output_type": "display_data"
    },
    {
     "data": {
      "text/plain": [
       "<matplotlib.figure.Figure at 0x7f407f8ca410>"
      ]
     },
     "metadata": {},
     "output_type": "display_data"
    },
    {
     "data": {
      "text/plain": [
       "<matplotlib.figure.Figure at 0x7f407fd71e50>"
      ]
     },
     "metadata": {},
     "output_type": "display_data"
    },
    {
     "data": {
      "text/plain": [
       "<matplotlib.figure.Figure at 0x7f407aafca10>"
      ]
     },
     "metadata": {},
     "output_type": "display_data"
    },
    {
     "data": {
      "text/plain": [
       "<matplotlib.figure.Figure at 0x7f407a50e590>"
      ]
     },
     "metadata": {},
     "output_type": "display_data"
    }
   ],
   "source": [
    "df_subs = pd.DataFrame() # set up data frame\n",
    "for s,subject in enumerate(subs):\n",
    "    print(subject)\n",
    "    # store name\n",
    "    df_subs.loc[s,'subject']=subject\n",
    "        \n",
    "    # get data\n",
    "    (ds_occipital,ds_parietal,ds_frontal,ds_outside) = get_data(subject)\n",
    "\n",
    "    # plot raw \n",
    "    plot_raw(ds_occipital,ds_parietal,ds_frontal,ds_outside,subject,show=False)\n",
    "    \n",
    "    # raw snr\n",
    "    snr_raw = calc_snr_raw(ds_occipital,ds_parietal,ds_frontal,ds_outside)\n",
    "    df_subs.loc[s,'raw_snr_occipital']=snr_raw[0]\n",
    "    df_subs.loc[s,'raw_snr_frontal']=snr_raw[2]\n",
    "    df_subs.loc[s,'raw_snr_parietal']=snr_raw[1]\n",
    "                           \n",
    "    # detrend\n",
    "    (ds_occipital,ds_parietal,ds_frontal,ds_outside) = detrend(ds_occipital,ds_parietal,ds_frontal,ds_outside)\n",
    "    \n",
    "    # plot detrended\n",
    "    plot_detrended(ds_occipital,ds_parietal,ds_frontal,ds_outside,subject,show=False)\n",
    "        \n",
    "    # plot hrf's\n",
    "    plot_hrfs(ds_occipital,ds_parietal,ds_frontal,ds_outside,subject,show=False)\n",
    "                       \n",
    "    # snr: all v fix\n",
    "    out = calc_snr_all_v_fix(ds_occipital)\n",
    "    df_subs.loc[s,'all_v_fix_snr_occipital']=out['SNR']\n",
    "    t_map = out['t_map']\n",
    "    Sm = out['Sm']\n",
    "    Nm = out['Nm']\n",
    "    std = out['std']\n",
    "    np.save('../data_inhouse_fmri/data_derived_for_snr/t_map_occipital_'+subject+'.csv',t_map)\n",
    "    np.save('../data_inhouse_fmri/data_derived_for_snr/Sm_occipital_'+subject+'.csv',Sm)\n",
    "    np.save('../data_inhouse_fmri/data_derived_for_snr/Nm_occipital_'+subject+'.csv',Nm)\n",
    "    np.save('../data_inhouse_fmri/data_derived_for_snr/Std_occipital_'+subject+'.csv',std)\n",
    "    \n",
    "\n",
    "    out = calc_snr_all_v_fix(ds_parietal)\n",
    "    df_subs.loc[s,'all_v_fix_snr_parietal']=out['SNR']\n",
    "    t_map = out['t_map']\n",
    "    Sm = out['Sm']\n",
    "    Nm = out['Nm']\n",
    "    std = out['std']\n",
    "    np.save('../data_inhouse_fmri/data_derived_for_snr/t_map_parietal_'+subject+'.csv',t_map)\n",
    "    np.save('../data_inhouse_fmri/data_derived_for_snr/Sm_parietal_'+subject+'.csv',Sm)\n",
    "    np.save('../data_inhouse_fmri/data_derived_for_snr/Nm_parietal_'+subject+'.csv',Nm)\n",
    "    np.save('../data_inhouse_fmri/data_derived_for_snr/Std_parietal_'+subject+'.csv',std)\n",
    "    \n",
    "    out = calc_snr_all_v_fix(ds_frontal)\n",
    "    df_subs.loc[s,'all_v_fix_snr_frontal']=out['SNR']\n",
    "    t_map = out['t_map']\n",
    "    Sm = out['Sm']\n",
    "    Nm = out['Nm']\n",
    "    std = out['std']\n",
    "    np.save('../data_inhouse_fmri/data_derived_for_snr/t_map_frontal_'+subject+'.csv',t_map)\n",
    "    np.save('../data_inhouse_fmri/data_derived_for_snr/Sm_frontal_'+subject+'.csv',Sm)\n",
    "    np.save('../data_inhouse_fmri/data_derived_for_snr/Nm_frontal_'+subject+'.csv',Nm)\n",
    "    np.save('../data_inhouse_fmri/data_derived_for_snr/Std_frontal_'+subject+'.csv',std)\n",
    "    \n",
    "    out = calc_snr_all_v_fix(ds_outside)\n",
    "    df_subs.loc[s,'all_v_fix_snr_outside']=out['SNR']\n",
    "    t_map = out['t_map']\n",
    "    Sm = out['Sm']\n",
    "    Nm = out['Nm']\n",
    "    std = out['std']\n",
    "    np.save('../data_inhouse_fmri/data_derived_for_snr/t_map_outside_'+subject+'.csv',t_map)\n",
    "    np.save('../data_inhouse_fmri/data_derived_for_snr/Sm_outside_'+subject+'.csv',Sm)\n",
    "    np.save('../data_inhouse_fmri/data_derived_for_snr/Nm_outside_'+subject+'.csv',Nm)\n",
    "    np.save('../data_inhouse_fmri/data_derived_for_snr/Std_outside_'+subject+'.csv',std)\n",
    "    \n",
    "    \n",
    "    "
   ]
  },
  {
   "cell_type": "code",
   "execution_count": null,
   "metadata": {
    "collapsed": true
   },
   "outputs": [],
   "source": []
  },
  {
   "cell_type": "code",
   "execution_count": 108,
   "metadata": {
    "collapsed": false
   },
   "outputs": [],
   "source": [
    "df_subs.to_csv('../data_inhouse_fmri/data_derived_for_snr/df_sub.csv')"
   ]
  },
  {
   "cell_type": "code",
   "execution_count": 110,
   "metadata": {
    "collapsed": false
   },
   "outputs": [
    {
     "data": {
      "text/html": [
       "<div>\n",
       "<table border=\"1\" class=\"dataframe\">\n",
       "  <thead>\n",
       "    <tr style=\"text-align: right;\">\n",
       "      <th></th>\n",
       "      <th>subject</th>\n",
       "      <th>raw_snr_occipital</th>\n",
       "      <th>raw_snr_frontal</th>\n",
       "      <th>raw_snr_parietal</th>\n",
       "      <th>all_v_fix_snr_occipital</th>\n",
       "      <th>all_v_fix_snr_parietal</th>\n",
       "      <th>all_v_fix_snr_frontal</th>\n",
       "      <th>all_v_fix_snr_outside</th>\n",
       "    </tr>\n",
       "  </thead>\n",
       "  <tbody>\n",
       "    <tr>\n",
       "      <th>0</th>\n",
       "      <td>01</td>\n",
       "      <td>52.729711</td>\n",
       "      <td>66.677873</td>\n",
       "      <td>54.047269</td>\n",
       "      <td>1.836739</td>\n",
       "      <td>1.146260</td>\n",
       "      <td>1.097216</td>\n",
       "      <td>-0.027953</td>\n",
       "    </tr>\n",
       "    <tr>\n",
       "      <th>1</th>\n",
       "      <td>02</td>\n",
       "      <td>61.826234</td>\n",
       "      <td>51.841659</td>\n",
       "      <td>48.182367</td>\n",
       "      <td>2.650807</td>\n",
       "      <td>1.378679</td>\n",
       "      <td>0.680582</td>\n",
       "      <td>-0.228389</td>\n",
       "    </tr>\n",
       "    <tr>\n",
       "      <th>2</th>\n",
       "      <td>04</td>\n",
       "      <td>35.729539</td>\n",
       "      <td>69.091841</td>\n",
       "      <td>45.531663</td>\n",
       "      <td>4.091860</td>\n",
       "      <td>1.618769</td>\n",
       "      <td>0.441705</td>\n",
       "      <td>0.016534</td>\n",
       "    </tr>\n",
       "    <tr>\n",
       "      <th>3</th>\n",
       "      <td>05</td>\n",
       "      <td>43.745441</td>\n",
       "      <td>59.747717</td>\n",
       "      <td>43.506868</td>\n",
       "      <td>2.968255</td>\n",
       "      <td>1.958160</td>\n",
       "      <td>1.032028</td>\n",
       "      <td>0.093120</td>\n",
       "    </tr>\n",
       "    <tr>\n",
       "      <th>4</th>\n",
       "      <td>06</td>\n",
       "      <td>46.157373</td>\n",
       "      <td>69.397251</td>\n",
       "      <td>50.823825</td>\n",
       "      <td>3.386140</td>\n",
       "      <td>2.000466</td>\n",
       "      <td>1.350535</td>\n",
       "      <td>-0.016511</td>\n",
       "    </tr>\n",
       "    <tr>\n",
       "      <th>5</th>\n",
       "      <td>07</td>\n",
       "      <td>61.098145</td>\n",
       "      <td>80.729638</td>\n",
       "      <td>62.927502</td>\n",
       "      <td>5.411954</td>\n",
       "      <td>3.405951</td>\n",
       "      <td>2.392740</td>\n",
       "      <td>0.076999</td>\n",
       "    </tr>\n",
       "    <tr>\n",
       "      <th>6</th>\n",
       "      <td>08</td>\n",
       "      <td>41.208426</td>\n",
       "      <td>55.934082</td>\n",
       "      <td>44.907127</td>\n",
       "      <td>4.775042</td>\n",
       "      <td>3.430249</td>\n",
       "      <td>1.445870</td>\n",
       "      <td>-0.107177</td>\n",
       "    </tr>\n",
       "    <tr>\n",
       "      <th>7</th>\n",
       "      <td>09</td>\n",
       "      <td>44.612677</td>\n",
       "      <td>72.992047</td>\n",
       "      <td>49.852663</td>\n",
       "      <td>2.695290</td>\n",
       "      <td>1.453417</td>\n",
       "      <td>0.448358</td>\n",
       "      <td>0.136840</td>\n",
       "    </tr>\n",
       "    <tr>\n",
       "      <th>8</th>\n",
       "      <td>10</td>\n",
       "      <td>22.946903</td>\n",
       "      <td>48.969785</td>\n",
       "      <td>32.680460</td>\n",
       "      <td>2.844210</td>\n",
       "      <td>0.664685</td>\n",
       "      <td>0.683277</td>\n",
       "      <td>0.004332</td>\n",
       "    </tr>\n",
       "    <tr>\n",
       "      <th>9</th>\n",
       "      <td>11</td>\n",
       "      <td>22.993358</td>\n",
       "      <td>57.528557</td>\n",
       "      <td>35.759662</td>\n",
       "      <td>3.412701</td>\n",
       "      <td>3.429657</td>\n",
       "      <td>2.406215</td>\n",
       "      <td>-0.057955</td>\n",
       "    </tr>\n",
       "    <tr>\n",
       "      <th>10</th>\n",
       "      <td>12</td>\n",
       "      <td>37.663318</td>\n",
       "      <td>62.675449</td>\n",
       "      <td>43.114982</td>\n",
       "      <td>2.978814</td>\n",
       "      <td>2.069975</td>\n",
       "      <td>0.785772</td>\n",
       "      <td>0.006267</td>\n",
       "    </tr>\n",
       "    <tr>\n",
       "      <th>11</th>\n",
       "      <td>13</td>\n",
       "      <td>56.904981</td>\n",
       "      <td>83.110140</td>\n",
       "      <td>61.489581</td>\n",
       "      <td>3.626081</td>\n",
       "      <td>1.224752</td>\n",
       "      <td>0.556638</td>\n",
       "      <td>0.038767</td>\n",
       "    </tr>\n",
       "    <tr>\n",
       "      <th>12</th>\n",
       "      <td>14</td>\n",
       "      <td>50.781825</td>\n",
       "      <td>84.623946</td>\n",
       "      <td>57.971327</td>\n",
       "      <td>1.837739</td>\n",
       "      <td>-0.084908</td>\n",
       "      <td>-0.554779</td>\n",
       "      <td>0.050986</td>\n",
       "    </tr>\n",
       "    <tr>\n",
       "      <th>13</th>\n",
       "      <td>15</td>\n",
       "      <td>59.559037</td>\n",
       "      <td>102.770171</td>\n",
       "      <td>68.515828</td>\n",
       "      <td>3.694028</td>\n",
       "      <td>2.331178</td>\n",
       "      <td>1.707147</td>\n",
       "      <td>-0.209133</td>\n",
       "    </tr>\n",
       "    <tr>\n",
       "      <th>14</th>\n",
       "      <td>16</td>\n",
       "      <td>38.569475</td>\n",
       "      <td>61.226983</td>\n",
       "      <td>45.615473</td>\n",
       "      <td>1.199598</td>\n",
       "      <td>1.568414</td>\n",
       "      <td>0.721345</td>\n",
       "      <td>-0.057218</td>\n",
       "    </tr>\n",
       "    <tr>\n",
       "      <th>15</th>\n",
       "      <td>17</td>\n",
       "      <td>31.333317</td>\n",
       "      <td>66.962091</td>\n",
       "      <td>42.121767</td>\n",
       "      <td>3.003481</td>\n",
       "      <td>2.309286</td>\n",
       "      <td>1.466088</td>\n",
       "      <td>-0.101205</td>\n",
       "    </tr>\n",
       "    <tr>\n",
       "      <th>16</th>\n",
       "      <td>18</td>\n",
       "      <td>33.110352</td>\n",
       "      <td>57.494343</td>\n",
       "      <td>37.358451</td>\n",
       "      <td>2.260309</td>\n",
       "      <td>1.669271</td>\n",
       "      <td>0.588885</td>\n",
       "      <td>-0.029914</td>\n",
       "    </tr>\n",
       "    <tr>\n",
       "      <th>17</th>\n",
       "      <td>19</td>\n",
       "      <td>44.522858</td>\n",
       "      <td>73.421328</td>\n",
       "      <td>51.999531</td>\n",
       "      <td>3.458045</td>\n",
       "      <td>1.642649</td>\n",
       "      <td>0.208560</td>\n",
       "      <td>0.032451</td>\n",
       "    </tr>\n",
       "    <tr>\n",
       "      <th>18</th>\n",
       "      <td>20</td>\n",
       "      <td>35.711579</td>\n",
       "      <td>50.690223</td>\n",
       "      <td>37.821931</td>\n",
       "      <td>4.482662</td>\n",
       "      <td>3.159651</td>\n",
       "      <td>1.991895</td>\n",
       "      <td>0.081638</td>\n",
       "    </tr>\n",
       "    <tr>\n",
       "      <th>19</th>\n",
       "      <td>21</td>\n",
       "      <td>69.285830</td>\n",
       "      <td>64.296142</td>\n",
       "      <td>61.792100</td>\n",
       "      <td>3.271754</td>\n",
       "      <td>0.895001</td>\n",
       "      <td>0.573045</td>\n",
       "      <td>-0.060049</td>\n",
       "    </tr>\n",
       "    <tr>\n",
       "      <th>20</th>\n",
       "      <td>22</td>\n",
       "      <td>47.189199</td>\n",
       "      <td>75.683233</td>\n",
       "      <td>54.890915</td>\n",
       "      <td>3.127272</td>\n",
       "      <td>1.329012</td>\n",
       "      <td>1.677288</td>\n",
       "      <td>0.166974</td>\n",
       "    </tr>\n",
       "  </tbody>\n",
       "</table>\n",
       "</div>"
      ],
      "text/plain": [
       "   subject  raw_snr_occipital  raw_snr_frontal  raw_snr_parietal  \\\n",
       "0       01          52.729711        66.677873         54.047269   \n",
       "1       02          61.826234        51.841659         48.182367   \n",
       "2       04          35.729539        69.091841         45.531663   \n",
       "3       05          43.745441        59.747717         43.506868   \n",
       "4       06          46.157373        69.397251         50.823825   \n",
       "5       07          61.098145        80.729638         62.927502   \n",
       "6       08          41.208426        55.934082         44.907127   \n",
       "7       09          44.612677        72.992047         49.852663   \n",
       "8       10          22.946903        48.969785         32.680460   \n",
       "9       11          22.993358        57.528557         35.759662   \n",
       "10      12          37.663318        62.675449         43.114982   \n",
       "11      13          56.904981        83.110140         61.489581   \n",
       "12      14          50.781825        84.623946         57.971327   \n",
       "13      15          59.559037       102.770171         68.515828   \n",
       "14      16          38.569475        61.226983         45.615473   \n",
       "15      17          31.333317        66.962091         42.121767   \n",
       "16      18          33.110352        57.494343         37.358451   \n",
       "17      19          44.522858        73.421328         51.999531   \n",
       "18      20          35.711579        50.690223         37.821931   \n",
       "19      21          69.285830        64.296142         61.792100   \n",
       "20      22          47.189199        75.683233         54.890915   \n",
       "\n",
       "    all_v_fix_snr_occipital  all_v_fix_snr_parietal  all_v_fix_snr_frontal  \\\n",
       "0                  1.836739                1.146260               1.097216   \n",
       "1                  2.650807                1.378679               0.680582   \n",
       "2                  4.091860                1.618769               0.441705   \n",
       "3                  2.968255                1.958160               1.032028   \n",
       "4                  3.386140                2.000466               1.350535   \n",
       "5                  5.411954                3.405951               2.392740   \n",
       "6                  4.775042                3.430249               1.445870   \n",
       "7                  2.695290                1.453417               0.448358   \n",
       "8                  2.844210                0.664685               0.683277   \n",
       "9                  3.412701                3.429657               2.406215   \n",
       "10                 2.978814                2.069975               0.785772   \n",
       "11                 3.626081                1.224752               0.556638   \n",
       "12                 1.837739               -0.084908              -0.554779   \n",
       "13                 3.694028                2.331178               1.707147   \n",
       "14                 1.199598                1.568414               0.721345   \n",
       "15                 3.003481                2.309286               1.466088   \n",
       "16                 2.260309                1.669271               0.588885   \n",
       "17                 3.458045                1.642649               0.208560   \n",
       "18                 4.482662                3.159651               1.991895   \n",
       "19                 3.271754                0.895001               0.573045   \n",
       "20                 3.127272                1.329012               1.677288   \n",
       "\n",
       "    all_v_fix_snr_outside  \n",
       "0               -0.027953  \n",
       "1               -0.228389  \n",
       "2                0.016534  \n",
       "3                0.093120  \n",
       "4               -0.016511  \n",
       "5                0.076999  \n",
       "6               -0.107177  \n",
       "7                0.136840  \n",
       "8                0.004332  \n",
       "9               -0.057955  \n",
       "10               0.006267  \n",
       "11               0.038767  \n",
       "12               0.050986  \n",
       "13              -0.209133  \n",
       "14              -0.057218  \n",
       "15              -0.101205  \n",
       "16              -0.029914  \n",
       "17               0.032451  \n",
       "18               0.081638  \n",
       "19              -0.060049  \n",
       "20               0.166974  "
      ]
     },
     "execution_count": 110,
     "metadata": {},
     "output_type": "execute_result"
    }
   ],
   "source": [
    "df_subs"
   ]
  },
  {
   "cell_type": "markdown",
   "metadata": {},
   "source": [
    "# Averaging SNR across Regions"
   ]
  },
  {
   "cell_type": "code",
   "execution_count": 111,
   "metadata": {
    "collapsed": false
   },
   "outputs": [
    {
     "data": {
      "text/html": [
       "<div>\n",
       "<table border=\"1\" class=\"dataframe\">\n",
       "  <thead>\n",
       "    <tr style=\"text-align: right;\">\n",
       "      <th></th>\n",
       "      <th>subject</th>\n",
       "      <th>region</th>\n",
       "      <th>raw SNR</th>\n",
       "    </tr>\n",
       "  </thead>\n",
       "  <tbody>\n",
       "    <tr>\n",
       "      <th>0</th>\n",
       "      <td>01</td>\n",
       "      <td>occipital</td>\n",
       "      <td>52.729711</td>\n",
       "    </tr>\n",
       "    <tr>\n",
       "      <th>1</th>\n",
       "      <td>02</td>\n",
       "      <td>occipital</td>\n",
       "      <td>61.826234</td>\n",
       "    </tr>\n",
       "    <tr>\n",
       "      <th>2</th>\n",
       "      <td>04</td>\n",
       "      <td>occipital</td>\n",
       "      <td>35.729539</td>\n",
       "    </tr>\n",
       "    <tr>\n",
       "      <th>3</th>\n",
       "      <td>05</td>\n",
       "      <td>occipital</td>\n",
       "      <td>43.745441</td>\n",
       "    </tr>\n",
       "    <tr>\n",
       "      <th>4</th>\n",
       "      <td>06</td>\n",
       "      <td>occipital</td>\n",
       "      <td>46.157373</td>\n",
       "    </tr>\n",
       "  </tbody>\n",
       "</table>\n",
       "</div>"
      ],
      "text/plain": [
       "  subject     region    raw SNR\n",
       "0      01  occipital  52.729711\n",
       "1      02  occipital  61.826234\n",
       "2      04  occipital  35.729539\n",
       "3      05  occipital  43.745441\n",
       "4      06  occipital  46.157373"
      ]
     },
     "execution_count": 111,
     "metadata": {},
     "output_type": "execute_result"
    }
   ],
   "source": [
    "df_raw_melted = pd.melt(df_subs[['subject',\n",
    "                                 'raw_snr_occipital',\n",
    "                                 'raw_snr_frontal',\n",
    "                                 'raw_snr_parietal']],id_vars=['subject'])\n",
    "df_raw_melted.columns =['subject','region','raw SNR']\n",
    "df_raw_melted['region'] = df_raw_melted['region'].replace(['raw_snr_occipital'],'occipital')\n",
    "df_raw_melted['region'] = df_raw_melted['region'].replace(['raw_snr_frontal'],'frontal')\n",
    "df_raw_melted['region'] = df_raw_melted['region'].replace(['raw_snr_parietal'],'parietal')\n",
    "\n",
    "df_raw_melted.head()"
   ]
  },
  {
   "cell_type": "code",
   "execution_count": 112,
   "metadata": {
    "collapsed": false
   },
   "outputs": [
    {
     "data": {
      "text/html": [
       "<div>\n",
       "<table border=\"1\" class=\"dataframe\">\n",
       "  <thead>\n",
       "    <tr style=\"text-align: right;\">\n",
       "      <th></th>\n",
       "      <th>subject</th>\n",
       "      <th>region</th>\n",
       "      <th>all v fix SNR</th>\n",
       "    </tr>\n",
       "  </thead>\n",
       "  <tbody>\n",
       "    <tr>\n",
       "      <th>0</th>\n",
       "      <td>01</td>\n",
       "      <td>occipital</td>\n",
       "      <td>1.836739</td>\n",
       "    </tr>\n",
       "    <tr>\n",
       "      <th>1</th>\n",
       "      <td>02</td>\n",
       "      <td>occipital</td>\n",
       "      <td>2.650807</td>\n",
       "    </tr>\n",
       "    <tr>\n",
       "      <th>2</th>\n",
       "      <td>04</td>\n",
       "      <td>occipital</td>\n",
       "      <td>4.091860</td>\n",
       "    </tr>\n",
       "    <tr>\n",
       "      <th>3</th>\n",
       "      <td>05</td>\n",
       "      <td>occipital</td>\n",
       "      <td>2.968255</td>\n",
       "    </tr>\n",
       "    <tr>\n",
       "      <th>4</th>\n",
       "      <td>06</td>\n",
       "      <td>occipital</td>\n",
       "      <td>3.386140</td>\n",
       "    </tr>\n",
       "  </tbody>\n",
       "</table>\n",
       "</div>"
      ],
      "text/plain": [
       "  subject     region  all v fix SNR\n",
       "0      01  occipital       1.836739\n",
       "1      02  occipital       2.650807\n",
       "2      04  occipital       4.091860\n",
       "3      05  occipital       2.968255\n",
       "4      06  occipital       3.386140"
      ]
     },
     "execution_count": 112,
     "metadata": {},
     "output_type": "execute_result"
    }
   ],
   "source": [
    "df_all_melted = pd.melt(df_subs[['subject',\n",
    "                                 'all_v_fix_snr_occipital',\n",
    "                                 'all_v_fix_snr_frontal',\n",
    "                                 'all_v_fix_snr_parietal']],id_vars=['subject'])\n",
    "df_all_melted.columns =['subject','region','all v fix SNR']\n",
    "df_all_melted['region'] = df_all_melted['region'].replace(['all_v_fix_snr_occipital'],'occipital')\n",
    "df_all_melted['region'] = df_all_melted['region'].replace(['all_v_fix_snr_frontal'],'frontal')\n",
    "df_all_melted['region'] = df_all_melted['region'].replace(['all_v_fix_snr_parietal'],'parietal')\n",
    "\n",
    "df_all_melted.head()"
   ]
  },
  {
   "cell_type": "code",
   "execution_count": 114,
   "metadata": {
    "collapsed": false,
    "scrolled": true
   },
   "outputs": [
    {
     "data": {
      "image/png": "[encoded data removed]",
      "text/plain": [
       "<matplotlib.figure.Figure at 0x7fba3e127810>"
      ]
     },
     "metadata": {},
     "output_type": "display_data"
    }
   ],
   "source": [
    "fig,axes = plt.subplots(1,2)\n",
    "sns.barplot(x='region',y='raw SNR',data=df_raw_melted,ax=axes[0])\n",
    "sns.barplot(x='region',y='all v fix SNR',data=df_all_melted,ax=axes[1])\n",
    "axes[0].set_title('Raw SNR')\n",
    "axes[1].set_title('All v Fix SNR \\n mean t-stat')\n",
    "#plt.savefig('../Figures/SNR_Analysis/Group_all_v_fix_SNR.png',dpi=300)\n",
    "plt.tight_layout()\n",
    "plt.savefig('../Figures/SNR_Analysis/Group_Bar_SNR.png',dpi=300)"
   ]
  },
  {
   "cell_type": "markdown",
   "metadata": {},
   "source": [
    "# Correlating with Classification Perf"
   ]
  },
  {
   "cell_type": "code",
   "execution_count": 123,
   "metadata": {
    "collapsed": false
   },
   "outputs": [
    {
     "name": "stdout",
     "output_type": "stream",
     "text": [
      "occipital\n",
      "all v fix\n",
      "r=0.136469772029\n",
      "p=0.555284812703\n",
      "raw snr\n",
      "r=0.12804679462\n",
      "p=0.580168246029\n",
      "frontal\n",
      "all v fix\n",
      "r=0.133486427253\n",
      "p=0.564043327989\n",
      "raw snr\n",
      "r=-0.260401300146\n",
      "p=0.254267988115\n"
     ]
    },
    {
     "data": {
      "image/png": "[encoded data removed]",
      "text/plain": [
       "<matplotlib.figure.Figure at 0x7fba3e322890>"
      ]
     },
     "metadata": {},
     "output_type": "display_data"
    }
   ],
   "source": [
    "fig, axes = plt.subplots(2,2)\n",
    "\n",
    "for ri,roi_number in enumerate([0,3]):\n",
    "    \n",
    "    average_classification = np.array([])\n",
    "    all_v_fix_snr = np.array([])\n",
    "    raw_snr = np.array([])\n",
    "    \n",
    "    for subject in subs:\n",
    "        basefolder='/home/bishop/cgagne/MVPA_Analysis/data_inhouse_fmri/'\n",
    "        classificationfolder = basefolder+'data_derived_classification_results/a_standard_parameter_set/'\n",
    "        filee = classificationfolder+'roi'+rois[roi_number]+'subfmri_'+subject+'_TRI.txt'\n",
    "        class_accuracy = np.loadtxt(filee)\n",
    "        \n",
    "        # collect results\n",
    "        average_classification = np.append(average_classification,class_accuracy[0])\n",
    "        raw_snr = np.append(raw_snr,\n",
    "                            df_subs.loc[df_subs['subject']==subject,\n",
    "                                        'raw_snr_'+roi_names_shorted[roi_number]].as_matrix()[0])\n",
    "        all_v_fix_snr = np.append(all_v_fix_snr,\n",
    "                            df_subs.loc[df_subs['subject']==subject,\n",
    "                                        'all_v_fix_snr_'+roi_names_shorted[roi_number]].as_matrix()[0])\n",
    "    print(roi_names_shorted[roi_number])\n",
    "    (r,p)=scipy.stats.pearsonr(all_v_fix_snr,average_classification)\n",
    "    print('all v fix')\n",
    "    print('r='+str(r))\n",
    "    print('p='+str(p))\n",
    "    \n",
    "    (r,p)=scipy.stats.pearsonr(raw_snr,average_classification)\n",
    "    print('raw snr')\n",
    "    print('r='+str(r))\n",
    "    print('p='+str(p))\n",
    "    #axes[ri,0].scatter(raw_snr,average_classification)\n",
    "    sns.regplot(x=raw_snr,y=average_classification,ax=axes[ri,0])\n",
    "    axes[ri,0].set_xlabel('raw snr')\n",
    "    axes[ri,0].set_ylabel('classification accuracy')\n",
    "    axes[ri,0].set_title(roi_names_shorted[roi_number])\n",
    "    #axes[ri,1].scatter(all_v_fix_snr,average_classification)\n",
    "    sns.regplot(x=all_v_fix_snr,y=average_classification,ax=axes[ri,1])\n",
    "    axes[ri,1].set_xlabel('all v fix snr')\n",
    "    axes[ri,1].set_title(roi_names_shorted[roi_number])\n",
    "    axes[1,1].set_xlim([0,3])\n",
    "plt.tight_layout()\n",
    "plt.savefig('../Figures/SNR_Analysis/Group_Correlation_SNR_and_Accuracy.png',dpi=300)\n",
    "    "
   ]
  },
  {
   "cell_type": "code",
   "execution_count": 121,
   "metadata": {
    "collapsed": false
   },
   "outputs": [],
   "source": [
    "import scipy"
   ]
  },
  {
   "cell_type": "markdown",
   "metadata": {
    "collapsed": true
   },
   "source": [
    "# T-maps Histograms"
   ]
  },
  {
   "cell_type": "code",
   "execution_count": 34,
   "metadata": {
    "collapsed": false
   },
   "outputs": [
    {
     "name": "stdout",
     "output_type": "stream",
     "text": [
      "(21, 21541)\n"
     ]
    }
   ],
   "source": [
    "\n",
    "for si,subject in enumerate(subs):\n",
    "\n",
    "    tmapf = np.load('../data_inhouse_fmri/data_derived_for_snr/t_map_frontal_'+subject+'.csv.npy')\n",
    "    tmapo = np.load('../data_inhouse_fmri/data_derived_for_snr/t_map_occipital_'+subject+'.csv.npy')\n",
    "    if si==0:\n",
    "        tmaps_o = tmapo\n",
    "        tmaps_f = tmapf\n",
    "    else:\n",
    "        tmaps_o = np.vstack((tmaps_o,tmapo))\n",
    "        tmaps_f = np.vstack((tmaps_f,tmapf))\n",
    "print(tmaps_o.shape)"
   ]
  },
  {
   "cell_type": "code",
   "execution_count": 57,
   "metadata": {
    "collapsed": false
   },
   "outputs": [
    {
     "data": {
      "text/plain": [
       "3.1272717167479649"
      ]
     },
     "execution_count": 57,
     "metadata": {},
     "output_type": "execute_result"
    }
   ],
   "source": []
  },
  {
   "cell_type": "code",
   "execution_count": 58,
   "metadata": {
    "collapsed": false
   },
   "outputs": [
    {
     "data": {
      "image/png": "[encoded data removed]",
      "text/plain": [
       "<matplotlib.figure.Figure at 0x7f407def8190>"
      ]
     },
     "metadata": {},
     "output_type": "display_data"
    }
   ],
   "source": [
    "fig,axes = plt.subplots(1,1,figsize=(8,6))\n",
    "for si,subject in enumerate(subs):\n",
    "    plt.scatter(np.ones(tmaps_o.shape[1])*si,tmaps_o[si,:],c='b')\n",
    "    plt.scatter(si,np.nanmean(tmaps_o[si,:]),c='k')\n",
    "    plt.scatter(np.ones(tmaps_f.shape[1])*si+0.5,tmaps_f[si,:],c='g')\n",
    "    plt.scatter(si+0.5,np.nanmean(tmaps_f[si,:]),c='r')\n",
    "    plt.tight_layout()\n",
    "plt.xlabel('Subject')\n",
    "plt.ylabel('T-statistic')\n",
    "plt.axhline(y=0)\n",
    "plt.title('T stat (blue=occipital; green=frontal)')\n",
    "plt.savefig('../Figures/SNR_Analysis/T-distributions_bysubject.png',dpi=300)\n",
    "    "
   ]
  }
 ],
 "metadata": {
  "hide_input": false,
  "kernelspec": {
   "display_name": "Python 2",
   "language": "python",
   "name": "python2"
  },
  "language_info": {
   "codemirror_mode": {
    "name": "ipython",
    "version": 2
   },
   "file_extension": ".py",
   "mimetype": "text/x-python",
   "name": "python",
   "nbconvert_exporter": "python",
   "pygments_lexer": "ipython2",
   "version": "2.7.12"
  }
 },
 "nbformat": 4,
 "nbformat_minor": 0
}
