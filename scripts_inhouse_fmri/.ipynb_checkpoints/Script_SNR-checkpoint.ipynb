{
 "cells": [
  {
   "cell_type": "markdown",
   "metadata": {},
   "source": [
    "Calculate the SNR for each region to (a) compare average levels across regions, and (b) see if decoding performance is correlated with SNR. \n",
    "\n",
    "Calculate SNR in two ways\n",
    "- raw SNR \n",
    "- all vs fix SNR "
   ]
  },
  {
   "cell_type": "markdown",
   "metadata": {},
   "source": [
    "# Imports"
   ]
  },
  {
   "cell_type": "code",
   "execution_count": 2,
   "metadata": {
    "scrolled": true
   },
   "outputs": [
    {
     "name": "stderr",
     "output_type": "stream",
     "text": [
      "/home/bishop/cgagne/anaconda2/lib/python2.7/site-packages/ipykernel/pylab/config.py:66: DeprecationWarning: metadata {'config': True} was set from the constructor.  Metadata should be set using the .tag() method, e.g., Int().tag(key1='value1', key2='value2')\n",
      "  inline backend.\"\"\"\n",
      "/home/bishop/cgagne/anaconda2/lib/python2.7/site-packages/ipykernel/pylab/config.py:71: DeprecationWarning: metadata {'config': True} was set from the constructor.  Metadata should be set using the .tag() method, e.g., Int().tag(key1='value1', key2='value2')\n",
      "  'retina', 'jpeg', 'svg', 'pdf'.\"\"\")\n",
      "/home/bishop/cgagne/anaconda2/lib/python2.7/site-packages/ipykernel/pylab/config.py:85: DeprecationWarning: metadata {'config': True} was set from the constructor.  Metadata should be set using the .tag() method, e.g., Int().tag(key1='value1', key2='value2')\n",
      "  use `figure_formats` instead)\"\"\")\n",
      "/home/bishop/cgagne/anaconda2/lib/python2.7/site-packages/ipykernel/pylab/config.py:95: DeprecationWarning: metadata {'config': True} was set from the constructor.  Metadata should be set using the .tag() method, e.g., Int().tag(key1='value1', key2='value2')\n",
      "  \"\"\"\n",
      "/home/bishop/cgagne/anaconda2/lib/python2.7/site-packages/ipykernel/pylab/config.py:114: DeprecationWarning: metadata {'config': True} was set from the constructor.  Metadata should be set using the .tag() method, e.g., Int().tag(key1='value1', key2='value2')\n",
      "  \"\"\")\n",
      "/home/bishop/cgagne/anaconda2/lib/python2.7/site-packages/ipykernel/pylab/config.py:44: DeprecationWarning: InlineBackend._config_changed is deprecated: use @observe and @unobserve instead.\n",
      "  def _config_changed(self, name, old, new):\n",
      "/home/bishop/cgagne/anaconda2/lib/python2.7/site-packages/traitlets/traitlets.py:770: DeprecationWarning: A parent of InlineBackend._config_changed has adopted the new @observe(change) API\n",
      "  clsname, change_or_name), DeprecationWarning)\n",
      "/home/bishop/cgagne/anaconda2/lib/python2.7/site-packages/IPython/core/formatters.py:98: DeprecationWarning: DisplayFormatter._formatters_default is deprecated: use @default decorator instead.\n",
      "  def _formatters_default(self):\n",
      "/home/bishop/cgagne/anaconda2/lib/python2.7/site-packages/IPython/core/formatters.py:677: DeprecationWarning: PlainTextFormatter._deferred_printers_default is deprecated: use @default decorator instead.\n",
      "  def _deferred_printers_default(self):\n",
      "/home/bishop/cgagne/anaconda2/lib/python2.7/site-packages/IPython/core/formatters.py:669: DeprecationWarning: PlainTextFormatter._singleton_printers_default is deprecated: use @default decorator instead.\n",
      "  def _singleton_printers_default(self):\n",
      "/home/bishop/cgagne/anaconda2/lib/python2.7/site-packages/IPython/core/formatters.py:672: DeprecationWarning: PlainTextFormatter._type_printers_default is deprecated: use @default decorator instead.\n",
      "  def _type_printers_default(self):\n",
      "/home/bishop/cgagne/anaconda2/lib/python2.7/site-packages/IPython/core/formatters.py:672: DeprecationWarning: PlainTextFormatter._type_printers_default is deprecated: use @default decorator instead.\n",
      "  def _type_printers_default(self):\n",
      "/home/bishop/cgagne/anaconda2/lib/python2.7/site-packages/IPython/core/formatters.py:677: DeprecationWarning: PlainTextFormatter._deferred_printers_default is deprecated: use @default decorator instead.\n",
      "  def _deferred_printers_default(self):\n"
     ]
    }
   ],
   "source": [
    "import sys\n",
    "#sys.path.append(\"/home/cgagne/Dropbox/python/PyMVPA-master\")\n",
    "#sys.path.append(\"/gpfs/home/cgagne/python/PyMVPA-master\")\n",
    "#sys.path.append(\"/gpfs/home/cgagne/python/PyMVPA-master/mvpa2/lib/python2.6/site-packages\")\n",
    "sys.path.append(\"/home/bishop/cgagne/MVPA_Analysis/CCV_Files/PyMVPA/mvpa2\")\n",
    "#import mdp # so PCAmapper can work\n",
    "\n",
    "from mvpa2.tutorial_suite import *\n",
    "import numpy as np\n",
    "import pdb\n",
    "import matplotlib.pyplot as plt\n",
    "import seaborn as sns\n",
    "import pandas as pd\n",
    "\n",
    "%matplotlib inline"
   ]
  },
  {
   "cell_type": "code",
   "execution_count": 3,
   "metadata": {
    "collapsed": true
   },
   "outputs": [],
   "source": [
    "subs = ['01','02','04','05','06','07','08','09',\n",
    "        '10','11','12','13','14','15','16','17','18','19','20','21','22']\n",
    "#rois_nums = [0,1,3]\n",
    "subject = subs[1]"
   ]
  },
  {
   "cell_type": "code",
   "execution_count": 37,
   "metadata": {
    "collapsed": true
   },
   "outputs": [],
   "source": [
    "rois = ['Occipital_Lobe','Frontal_Lobe'] "
   ]
  },
  {
   "cell_type": "code",
   "execution_count": 12,
   "metadata": {},
   "outputs": [
    {
     "name": "stdout",
     "output_type": "stream",
     "text": [
      "['AAL_Precentral_L', 'AAL_Precentral_R', 'AAL_Frontal_Sup_L', 'AAL_Frontal_Sup_R', 'AAL_Frontal_Sup_Orb_L', 'AAL_Frontal_Sup_Orb_R', 'AAL_Frontal_Mid_L', 'AAL_Frontal_Mid_R', 'AAL_Frontal_Mid_Orb_L', 'AAL_Frontal_Mid_Orb_R', 'AAL_Frontal_Inf_Oper_L', 'AAL_Frontal_Inf_Oper_R', 'AAL_Frontal_Inf_Tri_L', 'AAL_Frontal_Inf_Tri_R', 'AAL_Frontal_Inf_Orb_L', 'AAL_Frontal_Inf_Orb_R', 'AAL_Frontal_Sup_Medial_L', 'AAL_Frontal_Sup_Medial_R', 'AAL_Frontal_Med_Orb_L', 'AAL_Frontal_Med_Orb_R', 'AAL_Insula_L', 'AAL_Insula_R', 'AAL_Cingulum_Ant_L', 'AAL_Cingulum_Ant_R', 'AAL_Calcarine_L', 'AAL_Calcarine_R', 'AAL_Cuneus_L', 'AAL_Cuneus_R', 'AAL_Occipital_Inf_L', 'AAL_Occipital_Inf_R', 'AAL_Occipital_Mid_L', 'AAL_Occipital_Mid_R', 'AAL_Occipital_Sup_L', 'AAL_Occipital_Sup_R']\n",
      "34\n"
     ]
    }
   ],
   "source": [
    "# #rois = ['Occipital_Lobe','Parietal_Lobe','Temporal_Lobe','Frontal_Lobe']       \n",
    "# rois = ['Precentral_L', 'Precentral_R', 'Frontal_Sup_L', 'Frontal_Sup_R',\n",
    "#        'Frontal_Sup_Orb_L', 'Frontal_Sup_Orb_R', 'Frontal_Mid_L',\n",
    "#        'Frontal_Mid_R', 'Frontal_Mid_Orb_L', 'Frontal_Mid_Orb_R',\n",
    "#        'Frontal_Inf_Oper_L', 'Frontal_Inf_Oper_R', 'Frontal_Inf_Tri_L',\n",
    "#        'Frontal_Inf_Tri_R', 'Frontal_Inf_Orb_L', 'Frontal_Inf_Orb_R',\n",
    "#         'Frontal_Sup_Medial_L',\n",
    "#        'Frontal_Sup_Medial_R', 'Frontal_Med_Orb_L', 'Frontal_Med_Orb_R',\n",
    "#        'Insula_L', 'Insula_R', 'Cingulum_Ant_L', 'Cingulum_Ant_R']\n",
    "# rois = ['AAL_'+roi for roi in rois]\n",
    "\n",
    "# rois = rois+['AAL_Calcarine_L','AAL_Calcarine_R',\n",
    "#              'AAL_Cuneus_L','AAL_Cuneus_R',\n",
    "#             'AAL_Occipital_Inf_L','AAL_Occipital_Inf_R',\n",
    "#             'AAL_Occipital_Mid_L','AAL_Occipital_Mid_R',\n",
    "#             'AAL_Occipital_Sup_L','AAL_Occipital_Sup_R']\n",
    "# print(rois)\n",
    "# print(len(rois))\n",
    "#rois = rois[0:4]\n",
    "#print(rois) \n",
    "#rois = ['Occipital_Lobe','Parietal_Lobe','Temporal_Lobe','Frontal_Lobe']  \n",
    "#roi_names_shorted = ['occipital','parietal','temporal','frontal']"
   ]
  },
  {
   "cell_type": "code",
   "execution_count": 13,
   "metadata": {
    "collapsed": true
   },
   "outputs": [],
   "source": [
    "# #rois = ['Occipital_Lobe','Parietal_Lobe','Temporal_Lobe','Frontal_Lobe']       \n",
    "# rois = ['MD_IFGop_R','MD_IFGop_L','MD_Insula_R','MD_Insula_L',\n",
    "#         'MD_MFG_R','MD_MFG_L','MD_ACC','MD_PrecG_R','MD_PrecG_L']\n",
    "\n",
    "# rois = rois+['AAL_Calcarine_L','AAL_Calcarine_R',\n",
    "#              'AAL_Cuneus_L','AAL_Cuneus_R',\n",
    "#             'AAL_Occipital_Inf_L','AAL_Occipital_Inf_R',\n",
    "#             'AAL_Occipital_Mid_L','AAL_Occipital_Mid_R',\n",
    "#             'AAL_Occipital_Sup_L','AAL_Occipital_Sup_R']\n",
    "# print(rois)\n",
    "# print(len(rois))\n",
    "# #rois = rois[0:4]\n",
    "# #print(rois) \n",
    "# #rois = ['Occipital_Lobe','Parietal_Lobe','Temporal_Lobe','Frontal_Lobe']  \n",
    "# #roi_names_shorted = ['occipital','parietal','temporal','frontal']"
   ]
  },
  {
   "cell_type": "markdown",
   "metadata": {},
   "source": [
    "- load each subjects data within a single ROI\n",
    "- calulate raw snr\n",
    "- plot raw signal to look for weird shit\n",
    "- detrend by run\n",
    "- average per TR after stimulus onset\n",
    "- SNR = time-points 4-8 minus time-points 1-4?\n",
    "- Store this SNR per subjects \n",
    "- Plot average per ROI\n",
    "- Get classification per ROI per subjects \n",
    "- Correlate and plot "
   ]
  },
  {
   "cell_type": "markdown",
   "metadata": {},
   "source": [
    "# Make MD ROIS\n"
   ]
  },
  {
   "cell_type": "code",
   "execution_count": 5,
   "metadata": {
    "collapsed": true
   },
   "outputs": [],
   "source": [
    "import nibabel as nib\n",
    "from nilearn import datasets"
   ]
  },
  {
   "cell_type": "code",
   "execution_count": 24,
   "metadata": {
    "collapsed": true
   },
   "outputs": [],
   "source": [
    "mdnames = {}\n",
    "mdnames['13350']='IFGop_R'\n",
    "mdnames['12136']='IFGop_L'\n",
    "mdnames['10922'] = 'Insula_R'\n",
    "mdnames['9709'] = 'Insula_L'\n",
    "mdnames['27913'] = 'MFG_R'\n",
    "mdnames['25485'] = 'MFG_L'\n",
    "mdnames['14563'] = 'ACC'\n",
    "mdnames['16990'] = 'PrecG_R'\n",
    "mdnames['15777'] = 'PrecG_L'"
   ]
  },
  {
   "cell_type": "code",
   "execution_count": 20,
   "metadata": {
    "collapsed": true
   },
   "outputs": [],
   "source": [
    "# all_md_regions = nib.load('../data_inhouse_fmri/data_rois/MDROI_sized.nii')\n",
    "# data = all_md_regions.get_data();\n",
    "# roi_nums = np.unique(data)\n",
    "# for roi_num in roi_nums:\n",
    "#     all_md_regions = nib.load('../data_inhouse_fmri/data_rois/MDROI_sized.nii')\n",
    "#     data = all_md_regions.get_data();\n",
    "#     data[data!=roi_num]=0.0\n",
    "#     data[data==roi_num]=1.0\n",
    "#     try:\n",
    "#         savename = mdnames[str(roi_num)]\n",
    "#     except:\n",
    "#         savename='0'\n",
    "#     all_md_regions.to_filename('../data_inhouse_fmri/data_rois/MD_'+savename+'_sized_0.nii.gz')"
   ]
  },
  {
   "cell_type": "code",
   "execution_count": null,
   "metadata": {
    "collapsed": true
   },
   "outputs": [],
   "source": []
  },
  {
   "cell_type": "markdown",
   "metadata": {},
   "source": [
    "# Make AAL ROIs\n"
   ]
  },
  {
   "cell_type": "code",
   "execution_count": 6,
   "metadata": {
    "collapsed": true,
    "scrolled": true
   },
   "outputs": [],
   "source": [
    "#datasets.fetch_coords_dosenbach_2010()"
   ]
  },
  {
   "cell_type": "code",
   "execution_count": 5,
   "metadata": {
    "collapsed": true
   },
   "outputs": [],
   "source": [
    "dataset = datasets.fetch_atlas_aal()\n",
    "atlas_filename = dataset.maps\n",
    "atlas_img = nib.load(dataset.maps)\n",
    "atlas_img_data = atlas_img.get_data()\n",
    "atlas_img.to_filename('../data_inhouse_fmri/data_rois/AAL.nii.gz')"
   ]
  },
  {
   "cell_type": "markdown",
   "metadata": {},
   "source": [
    "save out raw AAL (only do once)\n"
   ]
  },
  {
   "cell_type": "code",
   "execution_count": 6,
   "metadata": {
    "collapsed": true
   },
   "outputs": [],
   "source": [
    "# for roi,index in zip(dataset.labels,dataset.indices):\n",
    "#     atlas_img = nib.load(dataset.maps)\n",
    "#     atlas_img_data = atlas_img.get_data()\n",
    "#     atlas_img_data[atlas_img_data!=int(index)]=0.0\n",
    "#     atlas_img.to_filename('../data_inhouse_fmri/data_rois/AAL_'+roi+'.nii.gz')\n"
   ]
  },
  {
   "cell_type": "markdown",
   "metadata": {},
   "source": [
    "overlay each in MRI and save back out\n"
   ]
  },
  {
   "cell_type": "markdown",
   "metadata": {},
   "source": [
    "load each roi and change >0 numbers into 1\n"
   ]
  },
  {
   "cell_type": "code",
   "execution_count": 7,
   "metadata": {
    "collapsed": true
   },
   "outputs": [],
   "source": [
    "# for roi in rois:\n",
    "#     img = nib.load('../data_inhouse_fmri/data_rois/'+roi+'_sized.nii.gz')\n",
    "#     data = img.get_data()\n",
    "#     data[data>0]=1.0\n",
    "#     img.to_filename('../data_inhouse_fmri/data_rois/'+roi+'_sized_0.nii.gz')"
   ]
  },
  {
   "cell_type": "markdown",
   "metadata": {},
   "source": [
    "# Make Outside-the-brain Mask\n"
   ]
  },
  {
   "cell_type": "code",
   "execution_count": 8,
   "metadata": {
    "collapsed": true
   },
   "outputs": [],
   "source": [
    "# img = nib.load('../data_inhouse_fmri/data_rois/Occipital_Lobe.nii.gz')\n",
    "# data = img.get_data()\n",
    "# print(data.shape)\n",
    "# data[:,:,:]=0.0\n",
    "# data[0:20,0:20,49:69]=1.0\n",
    "# img.to_filename('../data_inhouse_fmri/data_rois/Outside_Brain_Square.nii.gz')"
   ]
  },
  {
   "cell_type": "markdown",
   "metadata": {},
   "source": [
    "# Getting Raw Data for Each Subject"
   ]
  },
  {
   "cell_type": "code",
   "execution_count": 51,
   "metadata": {
    "collapsed": true
   },
   "outputs": [],
   "source": [
    "def get_data(subject,rois):\n",
    "    \n",
    "    basefolder='/home/bishop/cgagne/MVPA_Analysis/data_inhouse_fmri/'\n",
    "    subjectfolder = basefolder+\"/data_mri/fmri_\"+subject+\"_TRI/bold/\"\n",
    "    subjectbehfolder = basefolder+\"/data_behavioral/fmri_\"+subject+\"_TRI/tribehav/\"\n",
    "    roifolder = basefolder+\"/data_rois/\"\n",
    "    resultsfolder = basefolder+\"/results/\"\n",
    "    stim='type'\n",
    "    onset = '+0'\n",
    "    attr = SampleAttributes(os.path.join(subjectbehfolder,'TR'+stim+'onsets'+onset+'.txt')) # order 2 has exact timings...\n",
    "    out={}\n",
    "    for roi in rois:\n",
    "        print(roi)\n",
    "        ds = fmri_dataset(os.path.join(subjectfolder,'wraf.nii.gz'),targets=attr.targets,chunks=attr.chunks,mask=os.path.join(roifolder,roi+'_sized_0.nii.gz')) # can add mask here. \n",
    "        \n",
    "        out['ds_'+roi]=ds\n",
    "    \n",
    "    return(out)"
   ]
  },
  {
   "cell_type": "code",
   "execution_count": 52,
   "metadata": {},
   "outputs": [
    {
     "name": "stdout",
     "output_type": "stream",
     "text": [
      "Occipital_Lobe\n"
     ]
    },
    {
     "ename": "IOError",
     "evalue": "[Errno 2] No such file or directory: '/home/bishop/cgagne/MVPA_Analysis/data_inhouse_fmri//data_rois/Occipital_Lobe_sized_0.nii.gz'",
     "output_type": "error",
     "traceback": [
      "\u001b[1;31m---------------------------------------------------------------------------\u001b[0m",
      "\u001b[1;31mIOError\u001b[0m                                   Traceback (most recent call last)",
      "\u001b[1;32m<ipython-input-52-af6b64fb3f00>\u001b[0m in \u001b[0;36m<module>\u001b[1;34m()\u001b[0m\n\u001b[1;32m----> 1\u001b[1;33m \u001b[0mds_set\u001b[0m \u001b[1;33m=\u001b[0m \u001b[0mget_data\u001b[0m\u001b[1;33m(\u001b[0m\u001b[0msubject\u001b[0m\u001b[1;33m,\u001b[0m\u001b[0mrois\u001b[0m\u001b[1;33m)\u001b[0m\u001b[1;33m\u001b[0m\u001b[0m\n\u001b[0m",
      "\u001b[1;32m<ipython-input-51-f1e304d01675>\u001b[0m in \u001b[0;36mget_data\u001b[1;34m(subject, rois)\u001b[0m\n\u001b[0;32m     12\u001b[0m     \u001b[1;32mfor\u001b[0m \u001b[0mroi\u001b[0m \u001b[1;32min\u001b[0m \u001b[0mrois\u001b[0m\u001b[1;33m:\u001b[0m\u001b[1;33m\u001b[0m\u001b[0m\n\u001b[0;32m     13\u001b[0m         \u001b[1;32mprint\u001b[0m\u001b[1;33m(\u001b[0m\u001b[0mroi\u001b[0m\u001b[1;33m)\u001b[0m\u001b[1;33m\u001b[0m\u001b[0m\n\u001b[1;32m---> 14\u001b[1;33m         \u001b[0mds\u001b[0m \u001b[1;33m=\u001b[0m \u001b[0mfmri_dataset\u001b[0m\u001b[1;33m(\u001b[0m\u001b[0mos\u001b[0m\u001b[1;33m.\u001b[0m\u001b[0mpath\u001b[0m\u001b[1;33m.\u001b[0m\u001b[0mjoin\u001b[0m\u001b[1;33m(\u001b[0m\u001b[0msubjectfolder\u001b[0m\u001b[1;33m,\u001b[0m\u001b[1;34m'wraf.nii.gz'\u001b[0m\u001b[1;33m)\u001b[0m\u001b[1;33m,\u001b[0m\u001b[0mtargets\u001b[0m\u001b[1;33m=\u001b[0m\u001b[0mattr\u001b[0m\u001b[1;33m.\u001b[0m\u001b[0mtargets\u001b[0m\u001b[1;33m,\u001b[0m\u001b[0mchunks\u001b[0m\u001b[1;33m=\u001b[0m\u001b[0mattr\u001b[0m\u001b[1;33m.\u001b[0m\u001b[0mchunks\u001b[0m\u001b[1;33m,\u001b[0m\u001b[0mmask\u001b[0m\u001b[1;33m=\u001b[0m\u001b[0mos\u001b[0m\u001b[1;33m.\u001b[0m\u001b[0mpath\u001b[0m\u001b[1;33m.\u001b[0m\u001b[0mjoin\u001b[0m\u001b[1;33m(\u001b[0m\u001b[0mroifolder\u001b[0m\u001b[1;33m,\u001b[0m\u001b[0mroi\u001b[0m\u001b[1;33m+\u001b[0m\u001b[1;34m'_sized_0.nii.gz'\u001b[0m\u001b[1;33m)\u001b[0m\u001b[1;33m)\u001b[0m \u001b[1;31m# can add mask here.\u001b[0m\u001b[1;33m\u001b[0m\u001b[0m\n\u001b[0m\u001b[0;32m     15\u001b[0m \u001b[1;33m\u001b[0m\u001b[0m\n\u001b[0;32m     16\u001b[0m         \u001b[0mout\u001b[0m\u001b[1;33m[\u001b[0m\u001b[1;34m'ds_'\u001b[0m\u001b[1;33m+\u001b[0m\u001b[0mroi\u001b[0m\u001b[1;33m]\u001b[0m\u001b[1;33m=\u001b[0m\u001b[0mds\u001b[0m\u001b[1;33m\u001b[0m\u001b[0m\n",
      "\u001b[1;32m/home/bishop/cgagne/anaconda2/lib/python2.7/site-packages/mvpa2/datasets/mri.pyc\u001b[0m in \u001b[0;36mfmri_dataset\u001b[1;34m(samples, targets, chunks, mask, sprefix, tprefix, add_fa)\u001b[0m\n\u001b[0;32m    256\u001b[0m     \u001b[1;31m# figure out what the mask is, but only handle known cases, the rest\u001b[0m\u001b[1;33m\u001b[0m\u001b[1;33m\u001b[0m\u001b[0m\n\u001b[0;32m    257\u001b[0m     \u001b[1;31m# goes directly into the mapper which maybe knows more\u001b[0m\u001b[1;33m\u001b[0m\u001b[1;33m\u001b[0m\u001b[0m\n\u001b[1;32m--> 258\u001b[1;33m     \u001b[0mmaskimg\u001b[0m \u001b[1;33m=\u001b[0m \u001b[0m_load_anyimg\u001b[0m\u001b[1;33m(\u001b[0m\u001b[0mmask\u001b[0m\u001b[1;33m)\u001b[0m\u001b[1;33m\u001b[0m\u001b[0m\n\u001b[0m\u001b[0;32m    259\u001b[0m     \u001b[1;32mif\u001b[0m \u001b[0mmaskimg\u001b[0m \u001b[1;32mis\u001b[0m \u001b[0mNone\u001b[0m\u001b[1;33m:\u001b[0m\u001b[1;33m\u001b[0m\u001b[0m\n\u001b[0;32m    260\u001b[0m         \u001b[1;32mpass\u001b[0m\u001b[1;33m\u001b[0m\u001b[0m\n",
      "\u001b[1;32m/home/bishop/cgagne/anaconda2/lib/python2.7/site-packages/mvpa2/datasets/mri.pyc\u001b[0m in \u001b[0;36m_load_anyimg\u001b[1;34m(src, ensure, enforce_dim)\u001b[0m\n\u001b[0;32m    394\u001b[0m         \u001b[1;31m# try opening the beast; this might yield none in case of an unsupported\u001b[0m\u001b[1;33m\u001b[0m\u001b[1;33m\u001b[0m\u001b[0m\n\u001b[0;32m    395\u001b[0m         \u001b[1;31m# argument and is handled accordingly below\u001b[0m\u001b[1;33m\u001b[0m\u001b[1;33m\u001b[0m\u001b[0m\n\u001b[1;32m--> 396\u001b[1;33m         \u001b[0mdata\u001b[0m \u001b[1;33m=\u001b[0m \u001b[0m_img2data\u001b[0m\u001b[1;33m(\u001b[0m\u001b[0msrc\u001b[0m\u001b[1;33m)\u001b[0m\u001b[1;33m\u001b[0m\u001b[0m\n\u001b[0m\u001b[0;32m    397\u001b[0m         \u001b[1;32mif\u001b[0m \u001b[0mdata\u001b[0m \u001b[1;32mis\u001b[0m \u001b[1;32mnot\u001b[0m \u001b[0mNone\u001b[0m\u001b[1;33m:\u001b[0m\u001b[1;33m\u001b[0m\u001b[0m\n\u001b[0;32m    398\u001b[0m             \u001b[0mimgdata\u001b[0m\u001b[1;33m,\u001b[0m \u001b[0mimghdr\u001b[0m\u001b[1;33m,\u001b[0m \u001b[0mimg\u001b[0m \u001b[1;33m=\u001b[0m \u001b[0mdata\u001b[0m\u001b[1;33m\u001b[0m\u001b[0m\n",
      "\u001b[1;32m/home/bishop/cgagne/anaconda2/lib/python2.7/site-packages/mvpa2/datasets/mri.pyc\u001b[0m in \u001b[0;36m_img2data\u001b[1;34m(src)\u001b[0m\n\u001b[0;32m     70\u001b[0m     \u001b[1;32mif\u001b[0m \u001b[0misinstance\u001b[0m\u001b[1;33m(\u001b[0m\u001b[0msrc\u001b[0m\u001b[1;33m,\u001b[0m \u001b[0mbasestring\u001b[0m\u001b[1;33m)\u001b[0m\u001b[1;33m:\u001b[0m\u001b[1;33m\u001b[0m\u001b[0m\n\u001b[0;32m     71\u001b[0m         \u001b[1;31m# filename\u001b[0m\u001b[1;33m\u001b[0m\u001b[1;33m\u001b[0m\u001b[0m\n\u001b[1;32m---> 72\u001b[1;33m         \u001b[0mimg\u001b[0m \u001b[1;33m=\u001b[0m \u001b[0mnibabel\u001b[0m\u001b[1;33m.\u001b[0m\u001b[0mload\u001b[0m\u001b[1;33m(\u001b[0m\u001b[0msrc\u001b[0m\u001b[1;33m)\u001b[0m\u001b[1;33m\u001b[0m\u001b[0m\n\u001b[0m\u001b[0;32m     73\u001b[0m     \u001b[1;32melse\u001b[0m\u001b[1;33m:\u001b[0m\u001b[1;33m\u001b[0m\u001b[0m\n\u001b[0;32m     74\u001b[0m         \u001b[1;31m# assume this is an image already\u001b[0m\u001b[1;33m\u001b[0m\u001b[1;33m\u001b[0m\u001b[0m\n",
      "\u001b[1;32m/home/bishop/cgagne/.local/lib/python2.7/site-packages/nibabel/loadsave.pyc\u001b[0m in \u001b[0;36mload\u001b[1;34m(filename, **kwargs)\u001b[0m\n\u001b[0;32m     42\u001b[0m        \u001b[0mImage\u001b[0m \u001b[0mof\u001b[0m \u001b[0mguessed\u001b[0m \u001b[0mtype\u001b[0m\u001b[1;33m\u001b[0m\u001b[0m\n\u001b[0;32m     43\u001b[0m     '''\n\u001b[1;32m---> 44\u001b[1;33m     \u001b[1;32mreturn\u001b[0m \u001b[0mguessed_image_type\u001b[0m\u001b[1;33m(\u001b[0m\u001b[0mfilename\u001b[0m\u001b[1;33m)\u001b[0m\u001b[1;33m.\u001b[0m\u001b[0mfrom_filename\u001b[0m\u001b[1;33m(\u001b[0m\u001b[0mfilename\u001b[0m\u001b[1;33m,\u001b[0m \u001b[1;33m**\u001b[0m\u001b[0mkwargs\u001b[0m\u001b[1;33m)\u001b[0m\u001b[1;33m\u001b[0m\u001b[0m\n\u001b[0m\u001b[0;32m     45\u001b[0m \u001b[1;33m\u001b[0m\u001b[0m\n\u001b[0;32m     46\u001b[0m \u001b[1;33m\u001b[0m\u001b[0m\n",
      "\u001b[1;32m/home/bishop/cgagne/.local/lib/python2.7/site-packages/nibabel/loadsave.pyc\u001b[0m in \u001b[0;36mguessed_image_type\u001b[1;34m(filename)\u001b[0m\n\u001b[0;32m     74\u001b[0m             \u001b[0mklass\u001b[0m \u001b[1;33m=\u001b[0m \u001b[0mMinc2Image\u001b[0m \u001b[1;32mif\u001b[0m \u001b[0msignature\u001b[0m \u001b[1;33m==\u001b[0m \u001b[1;34mb'\\211HDF'\u001b[0m \u001b[1;32melse\u001b[0m \u001b[0mMinc1Image\u001b[0m\u001b[1;33m\u001b[0m\u001b[0m\n\u001b[0;32m     75\u001b[0m     \u001b[1;32melif\u001b[0m \u001b[0mlext\u001b[0m \u001b[1;33m==\u001b[0m \u001b[1;34m'.nii'\u001b[0m\u001b[1;33m:\u001b[0m\u001b[1;33m\u001b[0m\u001b[0m\n\u001b[1;32m---> 76\u001b[1;33m         \u001b[1;32mwith\u001b[0m \u001b[0mBinOpener\u001b[0m\u001b[1;33m(\u001b[0m\u001b[0mfilename\u001b[0m\u001b[1;33m)\u001b[0m \u001b[1;32mas\u001b[0m \u001b[0mfobj\u001b[0m\u001b[1;33m:\u001b[0m\u001b[1;33m\u001b[0m\u001b[0m\n\u001b[0m\u001b[0;32m     77\u001b[0m             \u001b[0mbinaryblock\u001b[0m \u001b[1;33m=\u001b[0m \u001b[0mfobj\u001b[0m\u001b[1;33m.\u001b[0m\u001b[0mread\u001b[0m\u001b[1;33m(\u001b[0m\u001b[1;36m348\u001b[0m\u001b[1;33m)\u001b[0m\u001b[1;33m\u001b[0m\u001b[0m\n\u001b[0;32m     78\u001b[0m         \u001b[0mft\u001b[0m \u001b[1;33m=\u001b[0m \u001b[0mwhich_analyze_type\u001b[0m\u001b[1;33m(\u001b[0m\u001b[0mbinaryblock\u001b[0m\u001b[1;33m)\u001b[0m\u001b[1;33m\u001b[0m\u001b[0m\n",
      "\u001b[1;32m/home/bishop/cgagne/.local/lib/python2.7/site-packages/nibabel/openers.pyc\u001b[0m in \u001b[0;36m__init__\u001b[1;34m(self, fileish, *args, **kwargs)\u001b[0m\n\u001b[0;32m    118\u001b[0m         \u001b[1;32mif\u001b[0m \u001b[1;34m'compresslevel'\u001b[0m \u001b[1;32min\u001b[0m \u001b[0marg_names\u001b[0m \u001b[1;32mand\u001b[0m \u001b[1;34m'compresslevel'\u001b[0m \u001b[1;32mnot\u001b[0m \u001b[1;32min\u001b[0m \u001b[0mkwargs\u001b[0m\u001b[1;33m:\u001b[0m\u001b[1;33m\u001b[0m\u001b[0m\n\u001b[0;32m    119\u001b[0m             \u001b[0mkwargs\u001b[0m\u001b[1;33m[\u001b[0m\u001b[1;34m'compresslevel'\u001b[0m\u001b[1;33m]\u001b[0m \u001b[1;33m=\u001b[0m \u001b[0mself\u001b[0m\u001b[1;33m.\u001b[0m\u001b[0mdefault_compresslevel\u001b[0m\u001b[1;33m\u001b[0m\u001b[0m\n\u001b[1;32m--> 120\u001b[1;33m         \u001b[0mself\u001b[0m\u001b[1;33m.\u001b[0m\u001b[0mfobj\u001b[0m \u001b[1;33m=\u001b[0m \u001b[0mopener\u001b[0m\u001b[1;33m(\u001b[0m\u001b[0mfileish\u001b[0m\u001b[1;33m,\u001b[0m \u001b[1;33m*\u001b[0m\u001b[0margs\u001b[0m\u001b[1;33m,\u001b[0m \u001b[1;33m**\u001b[0m\u001b[0mkwargs\u001b[0m\u001b[1;33m)\u001b[0m\u001b[1;33m\u001b[0m\u001b[0m\n\u001b[0m\u001b[0;32m    121\u001b[0m         \u001b[0mself\u001b[0m\u001b[1;33m.\u001b[0m\u001b[0m_name\u001b[0m \u001b[1;33m=\u001b[0m \u001b[0mfileish\u001b[0m\u001b[1;33m\u001b[0m\u001b[0m\n\u001b[0;32m    122\u001b[0m         \u001b[0mself\u001b[0m\u001b[1;33m.\u001b[0m\u001b[0mme_opened\u001b[0m \u001b[1;33m=\u001b[0m \u001b[0mTrue\u001b[0m\u001b[1;33m\u001b[0m\u001b[0m\n",
      "\u001b[1;32m/home/bishop/cgagne/.local/lib/python2.7/site-packages/nibabel/openers.pyc\u001b[0m in \u001b[0;36m_gzip_open\u001b[1;34m(fileish, *args, **kwargs)\u001b[0m\n\u001b[0;32m     61\u001b[0m \u001b[1;33m\u001b[0m\u001b[0m\n\u001b[0;32m     62\u001b[0m \u001b[1;32mdef\u001b[0m \u001b[0m_gzip_open\u001b[0m\u001b[1;33m(\u001b[0m\u001b[0mfileish\u001b[0m\u001b[1;33m,\u001b[0m \u001b[1;33m*\u001b[0m\u001b[0margs\u001b[0m\u001b[1;33m,\u001b[0m \u001b[1;33m**\u001b[0m\u001b[0mkwargs\u001b[0m\u001b[1;33m)\u001b[0m\u001b[1;33m:\u001b[0m\u001b[1;33m\u001b[0m\u001b[0m\n\u001b[1;32m---> 63\u001b[1;33m     \u001b[0mgzip_file\u001b[0m \u001b[1;33m=\u001b[0m \u001b[0mBufferedGzipFile\u001b[0m\u001b[1;33m(\u001b[0m\u001b[0mfileish\u001b[0m\u001b[1;33m,\u001b[0m \u001b[1;33m*\u001b[0m\u001b[0margs\u001b[0m\u001b[1;33m,\u001b[0m \u001b[1;33m**\u001b[0m\u001b[0mkwargs\u001b[0m\u001b[1;33m)\u001b[0m\u001b[1;33m\u001b[0m\u001b[0m\n\u001b[0m\u001b[0;32m     64\u001b[0m \u001b[1;33m\u001b[0m\u001b[0m\n\u001b[0;32m     65\u001b[0m     \u001b[1;31m# Speedup for #209; attribute not present in in Python 3.5\u001b[0m\u001b[1;33m\u001b[0m\u001b[1;33m\u001b[0m\u001b[0m\n",
      "\u001b[1;32m/home/bishop/cgagne/anaconda2/lib/python2.7/gzip.pyc\u001b[0m in \u001b[0;36m__init__\u001b[1;34m(self, filename, mode, compresslevel, fileobj, mtime)\u001b[0m\n\u001b[0;32m     92\u001b[0m             \u001b[0mmode\u001b[0m \u001b[1;33m+=\u001b[0m \u001b[1;34m'b'\u001b[0m\u001b[1;33m\u001b[0m\u001b[0m\n\u001b[0;32m     93\u001b[0m         \u001b[1;32mif\u001b[0m \u001b[0mfileobj\u001b[0m \u001b[1;32mis\u001b[0m \u001b[0mNone\u001b[0m\u001b[1;33m:\u001b[0m\u001b[1;33m\u001b[0m\u001b[0m\n\u001b[1;32m---> 94\u001b[1;33m             \u001b[0mfileobj\u001b[0m \u001b[1;33m=\u001b[0m \u001b[0mself\u001b[0m\u001b[1;33m.\u001b[0m\u001b[0mmyfileobj\u001b[0m \u001b[1;33m=\u001b[0m \u001b[0m__builtin__\u001b[0m\u001b[1;33m.\u001b[0m\u001b[0mopen\u001b[0m\u001b[1;33m(\u001b[0m\u001b[0mfilename\u001b[0m\u001b[1;33m,\u001b[0m \u001b[0mmode\u001b[0m \u001b[1;32mor\u001b[0m \u001b[1;34m'rb'\u001b[0m\u001b[1;33m)\u001b[0m\u001b[1;33m\u001b[0m\u001b[0m\n\u001b[0m\u001b[0;32m     95\u001b[0m         \u001b[1;32mif\u001b[0m \u001b[0mfilename\u001b[0m \u001b[1;32mis\u001b[0m \u001b[0mNone\u001b[0m\u001b[1;33m:\u001b[0m\u001b[1;33m\u001b[0m\u001b[0m\n\u001b[0;32m     96\u001b[0m             \u001b[1;31m# Issue #13781: os.fdopen() creates a fileobj with a bogus name\u001b[0m\u001b[1;33m\u001b[0m\u001b[1;33m\u001b[0m\u001b[0m\n",
      "\u001b[1;31mIOError\u001b[0m: [Errno 2] No such file or directory: '/home/bishop/cgagne/MVPA_Analysis/data_inhouse_fmri//data_rois/Occipital_Lobe_sized_0.nii.gz'"
     ]
    }
   ],
   "source": [
    "ds_set = get_data(subject,rois)"
   ]
  },
  {
   "cell_type": "code",
   "execution_count": null,
   "metadata": {
    "collapsed": true
   },
   "outputs": [],
   "source": [
    "ds_set.keys()\n"
   ]
  },
  {
   "cell_type": "code",
   "execution_count": null,
   "metadata": {
    "collapsed": true,
    "scrolled": true
   },
   "outputs": [],
   "source": [
    "def plot_raw(ds_set,subject,show=True):\n",
    "    plt.figure(figsize=(8,3))\n",
    "    for ds_name in ds_set.keys():\n",
    "        ds = ds_set[ds_name]\n",
    "        plt.plot(np.mean(ds.samples[:,:],axis=1),label=ds_name)\n",
    "#     plt.plot(np.mean(ds_occipital.samples[:,:],axis=1),label='Occipital')\n",
    "#     plt.plot(np.mean(ds_parietal.samples[:,:],axis=1),label='Parietal')\n",
    "#     plt.plot(np.mean(ds_frontal.samples[:,:],axis=1),label='Frontal')\n",
    "#     plt.plot(np.mean(ds_outside.samples[:,:],axis=1),label='Outside Brain')\n",
    "    plt.legend()\n",
    "    plt.xlabel('TR')\n",
    "    plt.ylabel('Average ROI Signal Intensity')\n",
    "    plt.tight_layout()\n",
    "    plt.savefig('../Figures/SNR_Analysis/Raw_TS_'+subject+'3.png',dpi=300)\n",
    "\n",
    "    if show==False:\n",
    "        plt.clf()\n",
    "        \n",
    "plot_raw(ds_set,subject,show=True)"
   ]
  },
  {
   "cell_type": "markdown",
   "metadata": {},
   "source": [
    "# Get Outside-Brain Data"
   ]
  },
  {
   "cell_type": "code",
   "execution_count": null,
   "metadata": {
    "collapsed": true
   },
   "outputs": [],
   "source": [
    "ds_outside = get_data(subject,['Outside_Brain_Square'])\n"
   ]
  },
  {
   "cell_type": "code",
   "execution_count": null,
   "metadata": {
    "collapsed": true
   },
   "outputs": [],
   "source": [
    "ds_outside = ds_outside['ds_Outside_Brain_Square']\n",
    "#ds_outside.keys()"
   ]
  },
  {
   "cell_type": "markdown",
   "metadata": {},
   "source": [
    "# Calculating Raw SNR"
   ]
  },
  {
   "cell_type": "code",
   "execution_count": null,
   "metadata": {
    "collapsed": true
   },
   "outputs": [],
   "source": [
    "def calc_snr_raw(ds_set,ds_outside):\n",
    "    '''the SNR here is spatial and temporal mean signal within each run / mean noise per run\n",
    "    '''\n",
    "    snr = np.array([])\n",
    "    for ds_name in ds_set.keys():\n",
    "        ds = ds_set[ds_name]\n",
    "        snr_per_run = np.array([])\n",
    "        for run in np.unique(ds.sa.chunks):\n",
    "            \n",
    "            snr_within_run = np.mean(ds.samples[ds.sa.chunks==run,:])/np.mean(ds_outside[ds.sa.chunks==run,:])\n",
    "            snr_per_run = np.append(snr_per_run,snr_within_run)\n",
    "        snr = np.append(snr,snr_per_run.mean())\n",
    "            \n",
    "    return(snr)\n"
   ]
  },
  {
   "cell_type": "code",
   "execution_count": null,
   "metadata": {
    "collapsed": true
   },
   "outputs": [],
   "source": [
    "snr_raw = calc_snr_raw(ds_set,ds_outside)\n",
    "print(snr_raw)"
   ]
  },
  {
   "cell_type": "markdown",
   "metadata": {},
   "source": [
    "# Detrend"
   ]
  },
  {
   "cell_type": "code",
   "execution_count": null,
   "metadata": {
    "collapsed": true
   },
   "outputs": [],
   "source": [
    "def detrend(ds_set):\n",
    "    detrender = PolyDetrendMapper(polyord=1,chunks_attr='chunks')\n",
    "    for ds_name in ds_set.keys():\n",
    "        ds=ds_set[ds_name]\n",
    "        ds_set[ds_name] = ds.get_mapped(detrender)\n",
    "    return(ds_set)"
   ]
  },
  {
   "cell_type": "code",
   "execution_count": null,
   "metadata": {
    "collapsed": true
   },
   "outputs": [],
   "source": [
    "ds_set= detrend(ds_set)"
   ]
  },
  {
   "cell_type": "code",
   "execution_count": null,
   "metadata": {
    "collapsed": true,
    "scrolled": true
   },
   "outputs": [],
   "source": [
    "def plot_detrended(ds_set,subject,show=True):\n",
    "    plt.figure(figsize=(8,3))\n",
    "    for ds_name in ds_set.keys():\n",
    "        ds = ds_set[ds_name]\n",
    "        plt.plot(np.mean(ds.samples[:,:],axis=1),label=ds_name,alpha=0.5)\n",
    "#     plt.plot(np.mean(ds_parietal.samples[:,:],axis=1),label='Parietal',alpha=0.5)\n",
    "#     plt.plot(np.mean(ds_frontal.samples[:,:],axis=1),label='Frontal',alpha=0.5)\n",
    "#     plt.plot(np.mean(ds_outside.samples[:,:],axis=1),label='Outside Brain',alpha=0.5)\n",
    "    plt.legend()\n",
    "    plt.xlabel('TR')\n",
    "    plt.ylabel('Average ROI Signal Intensity \\n De-trended by Run')\n",
    "    plt.tight_layout()\n",
    "    plt.savefig('../Figures/SNR_Analysis/Detrended_TS_'+subject+'3.png',dpi=300)\n",
    "\n",
    "    if show==False:\n",
    "        plt.clf()\n",
    "        \n",
    "\n",
    "plot_detrended(ds_set,subject,show=True)"
   ]
  },
  {
   "cell_type": "markdown",
   "metadata": {},
   "source": [
    "# Calculating HRF "
   ]
  },
  {
   "cell_type": "code",
   "execution_count": null,
   "metadata": {
    "collapsed": true
   },
   "outputs": [],
   "source": [
    "def calc_hrf(ds):\n",
    "    std_per_TR = np.array([])\n",
    "    response_per_TR = np.array([])\n",
    "    for TR_after_onset in np.arange(8):\n",
    "        TR_selector = np.where(ds.sa.targets!='0')[0]+TR_after_onset\n",
    "        response_per_TR= np.append(response_per_TR,ds.samples[TR_selector,:].mean())\n",
    "        std_per_TR= np.append(std_per_TR,ds.samples[TR_selector,:].std())\n",
    "        \n",
    "    return(response_per_TR,std_per_TR)"
   ]
  },
  {
   "cell_type": "code",
   "execution_count": null,
   "metadata": {
    "collapsed": true
   },
   "outputs": [],
   "source": [
    "\n",
    "def plot_hrfs(ds_set,subject,show=True):\n",
    "    \n",
    "    num_trs = 8\n",
    "    \n",
    "    fig,axes = plt.subplots(int(np.round(len(ds_set)/5.0)),\n",
    "                            int(5),figsize=(18,18),sharey=True)\n",
    "    axes = axes.flatten()\n",
    "    for di,ds_name in enumerate(ds_set.keys()):\n",
    "        ds = ds_set[ds_name] \n",
    "        (response_per_TR,std_per_TR)=calc_hrf(ds)\n",
    "        n = ds.samples.shape[1]\n",
    "        axes[di].errorbar(np.arange(num_trs),response_per_TR,yerr=std_per_TR/np.sqrt(n))\n",
    "        axes[di].set_title(ds_name)\n",
    "        axes[di].set_ylabel('Average Signal \\n (demeaned within run)')\n",
    "        axes[di].set_xlabel('TR (2 sec)')\n",
    "\n",
    "    plt.tight_layout()\n",
    "    \n",
    "    plt.savefig('../Figures/SNR_Analysis/HRF_Plots_'+subject+'3.png',dpi=300)\n",
    "    \n",
    "    if show==False:\n",
    "        plt.close() # for plotting in a loop # \n",
    "    "
   ]
  },
  {
   "cell_type": "code",
   "execution_count": null,
   "metadata": {
    "collapsed": true
   },
   "outputs": [],
   "source": [
    "plot_hrfs(ds_set,subject)"
   ]
  },
  {
   "cell_type": "markdown",
   "metadata": {},
   "source": [
    "# Calculating SNR (All v Fix) for Each subject"
   ]
  },
  {
   "cell_type": "code",
   "execution_count": null,
   "metadata": {
    "collapsed": true
   },
   "outputs": [],
   "source": [
    "def calc_snr_all_v_fix(ds):\n",
    "    '''the SNR here is a two-sample t-test: \n",
    "        average Signal - average Noise / pooled std()\n",
    "        Signal = TRs 3,4 averaged across all 8 stimulus types\n",
    "        Noise = all other time points\n",
    "    '''\n",
    "    signal_selector = np.where(ds.sa.targets!='0')[0]+3\n",
    "    signal_selector = np.append(signal_selector,np.where(ds.sa.targets!='0')[0]+4)\n",
    "    #signal_selector = np.append(signal_selector,np.where(ds.sa.targets!='0')[0]+5)\n",
    "\n",
    "    noise_selector = np.array([i for i in np.arange(len(ds.sa.targets)) if i not in signal_selector])\n",
    "\n",
    "    signal = ds.samples[signal_selector,:]\n",
    "    noise = ds.samples[noise_selector,:]\n",
    "\n",
    "    Sm = np.nanmean(signal,axis=0) # temporal average\n",
    "    Nm = np.nanmean(noise,axis=0) # temporal average\n",
    "    std = np.nanstd(ds.samples,axis=0) # temporal std\n",
    "\n",
    "    t_map = (Sm-Nm)/np.sqrt(std**2*(1.0/len(signal_selector)+1.0/len(noise_selector)))\n",
    "\n",
    "    SNR = np.nanmean(t_map)\n",
    "    out={}\n",
    "    out['SNR']=SNR\n",
    "    out['t_map']=t_map\n",
    "    out['Sm']=Sm\n",
    "    out['Nm']=Nm\n",
    "    out['std']=std\n",
    "    return(out)\n"
   ]
  },
  {
   "cell_type": "code",
   "execution_count": null,
   "metadata": {
    "collapsed": true
   },
   "outputs": [],
   "source": [
    "ds = ds_set['ds_'+rois[0]]\n",
    "out = calc_snr_all_v_fix(ds)\n"
   ]
  },
  {
   "cell_type": "code",
   "execution_count": null,
   "metadata": {
    "collapsed": true
   },
   "outputs": [],
   "source": [
    "out"
   ]
  },
  {
   "cell_type": "markdown",
   "metadata": {},
   "source": [
    "\n",
    "# Repeating for all Subjects\n",
    "- make sure iteration on dictionary is the same for each loop **"
   ]
  },
  {
   "cell_type": "code",
   "execution_count": null,
   "metadata": {
    "collapsed": true
   },
   "outputs": [],
   "source": [
    "#name = ds_name.split('_')[1]\n"
   ]
  },
  {
   "cell_type": "code",
   "execution_count": null,
   "metadata": {
    "collapsed": true
   },
   "outputs": [],
   "source": [
    "#subs"
   ]
  },
  {
   "cell_type": "code",
   "execution_count": null,
   "metadata": {
    "collapsed": true,
    "scrolled": true
   },
   "outputs": [],
   "source": [
    "df_subs = pd.DataFrame() # set up data frame\n",
    "for s,subject in enumerate(subs):\n",
    "    print(subject)\n",
    "    # store name\n",
    "    df_subs.loc[s,'subject']=subject\n",
    "        \n",
    "    # get data\n",
    "    ds_set = get_data(subject,rois)\n",
    "\n",
    "    # plot raw \n",
    "    plot_raw(ds_set,subject,show=False)\n",
    "    \n",
    "    ds_outside = get_data(subject,['Outside_Brain_Square'])\n",
    "    ds_outside = ds_outside['ds_Outside_Brain_Square']\n",
    "    \n",
    "    # raw snr\n",
    "    snr_raw = calc_snr_raw(ds_set,ds_outside)\n",
    "    for di,ds_name in enumerate(ds_set.keys()):        \n",
    "        df_subs.loc[s,'raw_snr_'+ds_name.split('_')[1]]=snr_raw[di]\n",
    "        np.save('../data_inhouse_fmri/data_derived_for_snr/raw_snr_'+ds_name+'_'+subject+'.csv',snr_raw[di])\n",
    "                           \n",
    "    # detrend\n",
    "    ds_set = detrend(ds_set)\n",
    "    \n",
    "    # plot detrended\n",
    "    plot_detrended(ds_set,subject,show=False)\n",
    "        \n",
    "    # plot hrf's\n",
    "    plot_hrfs(ds_set,subject,show=False)\n",
    "                       \n",
    "    # snr: all v fix   \n",
    "    for di,ds_name in enumerate(ds_set.keys()): \n",
    "        ds = ds_set[ds_name]\n",
    "        out = calc_snr_all_v_fix(ds)\n",
    "        name = ds_name\n",
    "        df_subs.loc[s,'all_v_fix_snr_'+name]=out['SNR']\n",
    "        t_map = out['t_map']\n",
    "        Sm = out['Sm']\n",
    "        Nm = out['Nm']\n",
    "        std = out['std']\n",
    "        np.save('../data_inhouse_fmri/data_derived_for_snr/t_map_'+name+'_'+subject+'.csv',t_map)\n",
    "        np.save('../data_inhouse_fmri/data_derived_for_snr/Sm_'+name+'_'+subject+'.csv',Sm)\n",
    "        np.save('../data_inhouse_fmri/data_derived_for_snr/Nm_'+name+'_'+subject+'.csv',Nm)\n",
    "        np.save('../data_inhouse_fmri/data_derived_for_snr/Std_'+name+'_'+subject+'.csv',std)\n",
    "    \n",
    "\n",
    "    "
   ]
  },
  {
   "cell_type": "code",
   "execution_count": 102,
   "metadata": {},
   "outputs": [
    {
     "data": {
      "text/plain": [
       "Index([u'subject', u'raw_snr_AAL', u'raw_snr_MD',\n",
       "       u'all_v_fix_snr_ds_AAL_Cuneus_R',\n",
       "       u'all_v_fix_snr_ds_AAL_Occipital_Sup_R',\n",
       "       u'all_v_fix_snr_ds_AAL_Occipital_Mid_R', u'all_v_fix_snr_ds_MD_IFGop_R',\n",
       "       u'all_v_fix_snr_ds_AAL_Calcarine_L',\n",
       "       u'all_v_fix_snr_ds_AAL_Occipital_Inf_L',\n",
       "       u'all_v_fix_snr_ds_MD_Insula_R', u'all_v_fix_snr_ds_MD_MFG_L',\n",
       "       u'all_v_fix_snr_ds_MD_PrecG_L', u'all_v_fix_snr_ds_MD_MFG_R',\n",
       "       u'all_v_fix_snr_ds_AAL_Occipital_Sup_L',\n",
       "       u'all_v_fix_snr_ds_AAL_Occipital_Inf_R',\n",
       "       u'all_v_fix_snr_ds_MD_Insula_L', u'all_v_fix_snr_ds_AAL_Calcarine_R',\n",
       "       u'all_v_fix_snr_ds_AAL_Cuneus_L', u'all_v_fix_snr_ds_MD_IFGop_L',\n",
       "       u'all_v_fix_snr_ds_MD_ACC', u'all_v_fix_snr_ds_AAL_Occipital_Mid_L',\n",
       "       u'all_v_fix_snr_ds_MD_PrecG_R'],\n",
       "      dtype='object')"
      ]
     },
     "execution_count": 102,
     "metadata": {},
     "output_type": "execute_result"
    }
   ],
   "source": [
    "df_subs.columns"
   ]
  },
  {
   "cell_type": "code",
   "execution_count": null,
   "metadata": {
    "collapsed": true
   },
   "outputs": [],
   "source": [
    "\n",
    "#df_subs.to_csv('../data_inhouse_fmri/data_derived_for_snr/df_sub4.csv')\n"
   ]
  },
  {
   "cell_type": "markdown",
   "metadata": {},
   "source": [
    "# Read Back in "
   ]
  },
  {
   "cell_type": "code",
   "execution_count": null,
   "metadata": {
    "collapsed": true
   },
   "outputs": [],
   "source": [
    "#df_subs= pd.read_csv('../data_inhouse_fmri/data_derived_for_snr/df_sub2.csv',index_col=0)"
   ]
  },
  {
   "cell_type": "code",
   "execution_count": null,
   "metadata": {
    "collapsed": true,
    "scrolled": true
   },
   "outputs": [],
   "source": [
    "#df_subs.head()"
   ]
  },
  {
   "cell_type": "code",
   "execution_count": 22,
   "metadata": {
    "collapsed": true
   },
   "outputs": [],
   "source": [
    "#df_subs.columns"
   ]
  },
  {
   "cell_type": "markdown",
   "metadata": {},
   "source": [
    "# Re-Create DB"
   ]
  },
  {
   "cell_type": "code",
   "execution_count": 38,
   "metadata": {
    "scrolled": true
   },
   "outputs": [
    {
     "data": {
      "text/plain": [
       "['Occipital_Lobe', 'Frontal_Lobe']"
      ]
     },
     "execution_count": 38,
     "metadata": {},
     "output_type": "execute_result"
    }
   ],
   "source": [
    "rois"
   ]
  },
  {
   "cell_type": "code",
   "execution_count": 49,
   "metadata": {},
   "outputs": [
    {
     "ename": "IOError",
     "evalue": "[Errno 2] No such file or directory: '../data_inhouse_fmri/data_derived_for_snr/raw_snr_01_13.csv.npy'",
     "output_type": "error",
     "traceback": [
      "\u001b[1;31m---------------------------------------------------------------------------\u001b[0m",
      "\u001b[1;31mIOError\u001b[0m                                   Traceback (most recent call last)",
      "\u001b[1;32m<ipython-input-49-c0132c2164cb>\u001b[0m in \u001b[0;36m<module>\u001b[1;34m()\u001b[0m\n\u001b[0;32m     11\u001b[0m         \u001b[1;32mif\u001b[0m \u001b[0mds_name\u001b[0m\u001b[1;33m==\u001b[0m\u001b[1;34m'ds_Frontal_Lobe'\u001b[0m\u001b[1;33m:\u001b[0m\u001b[1;33m\u001b[0m\u001b[0m\n\u001b[0;32m     12\u001b[0m             \u001b[0mds_name\u001b[0m\u001b[1;33m=\u001b[0m\u001b[1;34m'03'\u001b[0m\u001b[1;33m\u001b[0m\u001b[0m\n\u001b[1;32m---> 13\u001b[1;33m         \u001b[0mraw_snr\u001b[0m \u001b[1;33m=\u001b[0m \u001b[0mnp\u001b[0m\u001b[1;33m.\u001b[0m\u001b[0mload\u001b[0m\u001b[1;33m(\u001b[0m\u001b[1;34m'../data_inhouse_fmri/data_derived_for_snr/raw_snr_'\u001b[0m\u001b[1;33m+\u001b[0m\u001b[0mds_name\u001b[0m\u001b[1;33m+\u001b[0m\u001b[1;34m'_'\u001b[0m\u001b[1;33m+\u001b[0m\u001b[0msubject\u001b[0m\u001b[1;33m+\u001b[0m\u001b[1;34m'.csv.npy'\u001b[0m\u001b[1;33m)\u001b[0m\u001b[1;33m\u001b[0m\u001b[0m\n\u001b[0m\u001b[0;32m     14\u001b[0m         \u001b[0mdf_subs_r\u001b[0m\u001b[1;33m.\u001b[0m\u001b[0mloc\u001b[0m\u001b[1;33m[\u001b[0m\u001b[0ms\u001b[0m\u001b[1;33m,\u001b[0m\u001b[1;34m'raw_snr_'\u001b[0m\u001b[1;33m+\u001b[0m\u001b[0mds_name\u001b[0m\u001b[1;33m]\u001b[0m\u001b[1;33m=\u001b[0m\u001b[0mraw_snr\u001b[0m\u001b[1;33m\u001b[0m\u001b[0m\n\u001b[0;32m     15\u001b[0m \u001b[1;33m\u001b[0m\u001b[0m\n",
      "\u001b[1;32m/home/bishop/cgagne/anaconda2/lib/python2.7/site-packages/numpy/lib/npyio.pyc\u001b[0m in \u001b[0;36mload\u001b[1;34m(file, mmap_mode, allow_pickle, fix_imports, encoding)\u001b[0m\n\u001b[0;32m    368\u001b[0m     \u001b[0mown_fid\u001b[0m \u001b[1;33m=\u001b[0m \u001b[0mFalse\u001b[0m\u001b[1;33m\u001b[0m\u001b[0m\n\u001b[0;32m    369\u001b[0m     \u001b[1;32mif\u001b[0m \u001b[0misinstance\u001b[0m\u001b[1;33m(\u001b[0m\u001b[0mfile\u001b[0m\u001b[1;33m,\u001b[0m \u001b[0mbasestring\u001b[0m\u001b[1;33m)\u001b[0m\u001b[1;33m:\u001b[0m\u001b[1;33m\u001b[0m\u001b[0m\n\u001b[1;32m--> 370\u001b[1;33m         \u001b[0mfid\u001b[0m \u001b[1;33m=\u001b[0m \u001b[0mopen\u001b[0m\u001b[1;33m(\u001b[0m\u001b[0mfile\u001b[0m\u001b[1;33m,\u001b[0m \u001b[1;34m\"rb\"\u001b[0m\u001b[1;33m)\u001b[0m\u001b[1;33m\u001b[0m\u001b[0m\n\u001b[0m\u001b[0;32m    371\u001b[0m         \u001b[0mown_fid\u001b[0m \u001b[1;33m=\u001b[0m \u001b[0mTrue\u001b[0m\u001b[1;33m\u001b[0m\u001b[0m\n\u001b[0;32m    372\u001b[0m     \u001b[1;32melif\u001b[0m \u001b[0mis_pathlib_path\u001b[0m\u001b[1;33m(\u001b[0m\u001b[0mfile\u001b[0m\u001b[1;33m)\u001b[0m\u001b[1;33m:\u001b[0m\u001b[1;33m\u001b[0m\u001b[0m\n",
      "\u001b[1;31mIOError\u001b[0m: [Errno 2] No such file or directory: '../data_inhouse_fmri/data_derived_for_snr/raw_snr_01_13.csv.npy'"
     ]
    }
   ],
   "source": [
    "df_subs = pd.DataFrame() # set up data frame\n",
    "df_subs_r = pd.DataFrame() # set up data frame\n",
    "for s,subject in enumerate(subs):\n",
    "    \n",
    "    df_subs.loc[s,'subject']=subject\n",
    "    df_subs_r.loc[s,'subject']=subject\n",
    "    for di,ds_name in enumerate(rois):   \n",
    "        ds_name = 'ds_'+ds_name\n",
    "        if ds_name=='ds_Occipital_Lobe':\n",
    "            ds_name='01'\n",
    "        if ds_name=='ds_Frontal_Lobe':\n",
    "            ds_name='03'\n",
    "        raw_snr = np.load('../data_inhouse_fmri/data_derived_for_snr/raw_snr_'+ds_name+'_'+subject+'.csv.npy')\n",
    "        df_subs_r.loc[s,'raw_snr_'+ds_name]=raw_snr\n",
    "        \n",
    "    for di,ds_name in enumerate(rois): \n",
    "        ds_name = 'ds_'+ds_name\n",
    "        tmap = np.load('../data_inhouse_fmri/data_derived_for_snr/t_map_'+ds_name+'_'+subject+'.csv.npy')\n",
    "        df_subs.loc[s,'all_v_fix_snr_'+ds_name]=np.nanmean(tmap)\n",
    "\n",
    "#print(df_subs.head())\n",
    "#print(df_subs_r.head())"
   ]
  },
  {
   "cell_type": "code",
   "execution_count": 45,
   "metadata": {},
   "outputs": [
    {
     "data": {
      "text/plain": [
       "False"
      ]
     },
     "execution_count": 45,
     "metadata": {},
     "output_type": "execute_result"
    }
   ],
   "source": [
    "ds_name=='ds_Occiptal Lobe'"
   ]
  },
  {
   "cell_type": "markdown",
   "metadata": {},
   "source": [
    "# Melt DBs"
   ]
  },
  {
   "cell_type": "code",
   "execution_count": 24,
   "metadata": {
    "collapsed": true
   },
   "outputs": [],
   "source": [
    "#df_subs['raw_']"
   ]
  },
  {
   "cell_type": "code",
   "execution_count": 25,
   "metadata": {},
   "outputs": [
    {
     "data": {
      "text/html": [
       "<div>\n",
       "<table border=\"1\" class=\"dataframe\">\n",
       "  <thead>\n",
       "    <tr style=\"text-align: right;\">\n",
       "      <th></th>\n",
       "      <th>subject</th>\n",
       "      <th>region</th>\n",
       "      <th>raw SNR</th>\n",
       "    </tr>\n",
       "  </thead>\n",
       "  <tbody>\n",
       "  </tbody>\n",
       "</table>\n",
       "</div>"
      ],
      "text/plain": [
       "Empty DataFrame\n",
       "Columns: [subject, region, raw SNR]\n",
       "Index: []"
      ]
     },
     "execution_count": 25,
     "metadata": {},
     "output_type": "execute_result"
    }
   ],
   "source": [
    "\n",
    "df_all_melted = pd.melt(df_subs,id_vars=['subject'])\n",
    "\n",
    "df_all_melted.columns =['subject','region','all v fix SNR']\n",
    "for i in range(len(df_all_melted)):\n",
    "    name = df_all_melted.loc[i,'region']\n",
    "    name = name.replace('all_v_fix_snr_ds_AAL_','')\n",
    "    name = name.replace('all_v_fix_snr_ds_MD_','')\n",
    "    df_all_melted.loc[i,'region']=name\n",
    "df_all_melted = df_all_melted.sort_values(by='region')\n",
    "df_all_melted.head()\n",
    "\n",
    "\n",
    "df_raw_melted = pd.melt(df_subs_r,id_vars=['subject'])\n",
    "\n",
    "df_raw_melted.columns =['subject','region','raw SNR']\n",
    "for i in range(len(df_raw_melted)):\n",
    "    name = df_raw_melted.loc[i,'region']\n",
    "    name = name.replace('raw_snr_ds_AAL_','')\n",
    "    name = name.replace('raw_snr_ds_MD_','')\n",
    "    df_raw_melted.loc[i,'region']=name\n",
    "df_raw_melted = df_raw_melted.sort_values(by='region')\n",
    "df_raw_melted.head()\n"
   ]
  },
  {
   "cell_type": "markdown",
   "metadata": {},
   "source": [
    "# Bar Plot SNR"
   ]
  },
  {
   "cell_type": "code",
   "execution_count": 26,
   "metadata": {
    "scrolled": true
   },
   "outputs": [
    {
     "data": {
      "image/png": "[encoded data removed]",
      "text/plain": [
       "<matplotlib.figure.Figure at 0x7f99b57e0ed0>"
      ]
     },
     "metadata": {},
     "output_type": "display_data"
    }
   ],
   "source": [
    "fig,axes = plt.subplots(1,1,figsize=(8,5))\n",
    "\n",
    "#sns.stripplot(x='region',y='all v fix SNR',data=df_raw_melted,ax=axes)\n",
    "sns.barplot(x='region',y='all v fix SNR',data=df_all_melted,ax=axes)\n",
    "\n",
    "#axes[0].set_title('Raw SNR')\n",
    "axes.set_title('All v Fix SNR \\n mean t-stat')\n",
    "#plt.savefig('../Figures/SNR_Analysis/Group_all_v_fix_SNR.png',dpi=300)\n",
    "plt.xticks(rotation='vertical')\n",
    "plt.tight_layout()\n",
    "#plt.savefig('../Figures/SNR_Analysis/Group_Bar_SNR_4.png',dpi=300)"
   ]
  },
  {
   "cell_type": "code",
   "execution_count": 125,
   "metadata": {
    "scrolled": true
   },
   "outputs": [
    {
     "data": {
      "image/png": "[encoded data removed]",
      "text/plain": [
       "<matplotlib.figure.Figure at 0x7fa2ca63da90>"
      ]
     },
     "metadata": {},
     "output_type": "display_data"
    }
   ],
   "source": [
    "fig,axes = plt.subplots(1,1,figsize=(8,5))\n",
    "\n",
    "#sns.stripplot(x='region',y='all v fix SNR',data=df_raw_melted,ax=axes)\n",
    "sns.barplot(x='region',y='raw SNR',data=df_raw_melted,ax=axes)\n",
    "\n",
    "#axes[0].set_title('Raw SNR')\n",
    "axes.set_title('Raw SNR ')\n",
    "#plt.savefig('../Figures/SNR_Analysis/Group_all_v_fix_SNR.png',dpi=300)\n",
    "plt.xticks(rotation='vertical')\n",
    "plt.tight_layout()\n",
    "plt.savefig('../Figures/SNR_Analysis/Group_Bar_raw_SNR_4.png',dpi=300)"
   ]
  },
  {
   "cell_type": "markdown",
   "metadata": {},
   "source": [
    "# Supplemental Paper Figure"
   ]
  },
  {
   "cell_type": "code",
   "execution_count": 204,
   "metadata": {
    "collapsed": true
   },
   "outputs": [],
   "source": [
    "# average across frontal and occipital? "
   ]
  },
  {
   "cell_type": "code",
   "execution_count": 27,
   "metadata": {
    "collapsed": true
   },
   "outputs": [],
   "source": [
    "regions_v = ['Calcarine_L','Calcarine_R','Cuneus_L','Cuneus_R',\n",
    "             'Occipital_Inf_L','Occipital_Inf_R','Occipital_Mid_L','Occipital_Mid_R',\n",
    "            'Occipital_Sup_L','Occipital_Sup_R']\n",
    "\n",
    "regions_f = ['ACC','IFGop_L','IFGop_R','Insula_L','Insula_R','MFG_L','MFG_R','PrecG_L','PrecG_R']\n",
    "\n",
    "regions_f = ['Precentral_L', 'Precentral_R', 'Frontal_Sup_L', 'Frontal_Sup_R',\n",
    "       'Frontal_Sup_Orb_L', 'Frontal_Sup_Orb_R', 'Frontal_Mid_L',\n",
    "       'Frontal_Mid_R', 'Frontal_Mid_Orb_L', 'Frontal_Mid_Orb_R',\n",
    "       'Frontal_Inf_Oper_L', 'Frontal_Inf_Oper_R', 'Frontal_Inf_Tri_L',\n",
    "       'Frontal_Inf_Tri_R', 'Frontal_Inf_Orb_L', 'Frontal_Inf_Orb_R',\n",
    "        'Frontal_Sup_Medial_L',\n",
    "       'Frontal_Sup_Medial_R', 'Frontal_Med_Orb_L', 'Frontal_Med_Orb_R',\n",
    "       'Insula_L', 'Insula_R', 'Cingulum_Ant_L', 'Cingulum_Ant_R']\n",
    "\n",
    "\n",
    "dftmp=df_raw_melted.copy()\n",
    "snrtype = 'raw SNR'\n",
    "newrois = ['Visual Cortex','Frontal Cortex']\n",
    "regions_news = [regions_v,regions_f]\n",
    "for (regions_new,newroi) in zip(regions_news,newrois):\n",
    "    for sub in dftmp.subject.unique():\n",
    "        means = np.array([])\n",
    "        for region in regions_new:\n",
    "            means = np.append(means,np.nanmean(\n",
    "                    dftmp.loc[(dftmp.region==region)&(dftmp.subject==sub)\n",
    "                              ,snrtype].as_matrix()))\n",
    "        dftmp.loc[len(dftmp)+1,['subject','region',snrtype]]=[sub,newroi,np.mean(means)]\n",
    "        #dftmp2.loc[(dftmp2.subject==sub)&(dftmp2.region==newroi),snrtype]=np.mean(means)\n",
    "df_raw_melted=dftmp.copy()\n",
    "        \n",
    "dftmp=df_all_melted.copy()\n",
    "snrtype = 'all v fix SNR'\n",
    "newrois = ['Visual Cortex','Frontal Cortex']\n",
    "regions_news = [regions_v,regions_f]\n",
    "for (regions_new,newroi) in zip(regions_news,newrois):\n",
    "    for sub in dftmp.subject.unique():\n",
    "        means = np.array([])\n",
    "        for region in regions_new:\n",
    "            means = np.append(means,np.nanmean(\n",
    "                    dftmp.loc[(dftmp.region==region)&(dftmp.subject==sub)\n",
    "                              ,snrtype].as_matrix()))\n",
    "        dftmp.loc[len(dftmp)+1,['subject','region',snrtype]]=[sub,newroi,np.mean(means)]\n",
    "        #dftmp2.loc[(dftmp2.subject==sub)&(dftmp2.region==newroi),snrtype]=np.mean(means)\n",
    "df_all_melted=dftmp.copy()\n",
    "\n",
    "    "
   ]
  },
  {
   "cell_type": "code",
   "execution_count": 28,
   "metadata": {},
   "outputs": [
    {
     "name": "stdout",
     "output_type": "stream",
     "text": [
      "[]\n",
      "['Calcarine_L' 'Calcarine_R' 'Cingulum_Ant_L' 'Cingulum_Ant_R' 'Cuneus_L'\n",
      " 'Cuneus_R' 'Frontal_Inf_Oper_L' 'Frontal_Inf_Oper_R' 'Frontal_Inf_Orb_L'\n",
      " 'Frontal_Inf_Orb_R' 'Frontal_Inf_Tri_L' 'Frontal_Inf_Tri_R'\n",
      " 'Frontal_Med_Orb_L' 'Frontal_Med_Orb_R' 'Frontal_Mid_L'\n",
      " 'Frontal_Mid_Orb_L' 'Frontal_Mid_Orb_R' 'Frontal_Mid_R' 'Frontal_Sup_L'\n",
      " 'Frontal_Sup_Medial_L' 'Frontal_Sup_Medial_R' 'Frontal_Sup_Orb_L'\n",
      " 'Frontal_Sup_Orb_R' 'Frontal_Sup_R' 'Insula_L' 'Insula_R'\n",
      " 'Occipital_Inf_L' 'Occipital_Inf_R' 'Occipital_Mid_L' 'Occipital_Mid_R'\n",
      " 'Occipital_Sup_L' 'Occipital_Sup_R' 'Precentral_L' 'Precentral_R'\n",
      " 'Visual Cortex' 'Frontal Cortex']\n"
     ]
    }
   ],
   "source": [
    "print(df_raw_melted.region.unique())\n",
    "print(df_all_melted.region.unique())"
   ]
  },
  {
   "cell_type": "code",
   "execution_count": 32,
   "metadata": {},
   "outputs": [
    {
     "data": {
      "text/html": [
       "<div>\n",
       "<table border=\"1\" class=\"dataframe\">\n",
       "  <thead>\n",
       "    <tr style=\"text-align: right;\">\n",
       "      <th></th>\n",
       "      <th>subject</th>\n",
       "      <th>region</th>\n",
       "      <th>all v fix SNR</th>\n",
       "    </tr>\n",
       "  </thead>\n",
       "  <tbody>\n",
       "    <tr>\n",
       "      <th>515</th>\n",
       "      <td>13</td>\n",
       "      <td>Calcarine_L</td>\n",
       "      <td>4.183877</td>\n",
       "    </tr>\n",
       "    <tr>\n",
       "      <th>507</th>\n",
       "      <td>05</td>\n",
       "      <td>Calcarine_L</td>\n",
       "      <td>2.519077</td>\n",
       "    </tr>\n",
       "    <tr>\n",
       "      <th>508</th>\n",
       "      <td>06</td>\n",
       "      <td>Calcarine_L</td>\n",
       "      <td>3.682246</td>\n",
       "    </tr>\n",
       "    <tr>\n",
       "      <th>509</th>\n",
       "      <td>07</td>\n",
       "      <td>Calcarine_L</td>\n",
       "      <td>7.209568</td>\n",
       "    </tr>\n",
       "    <tr>\n",
       "      <th>510</th>\n",
       "      <td>08</td>\n",
       "      <td>Calcarine_L</td>\n",
       "      <td>5.125267</td>\n",
       "    </tr>\n",
       "  </tbody>\n",
       "</table>\n",
       "</div>"
      ],
      "text/plain": [
       "    subject       region  all v fix SNR\n",
       "515      13  Calcarine_L       4.183877\n",
       "507      05  Calcarine_L       2.519077\n",
       "508      06  Calcarine_L       3.682246\n",
       "509      07  Calcarine_L       7.209568\n",
       "510      08  Calcarine_L       5.125267"
      ]
     },
     "execution_count": 32,
     "metadata": {},
     "output_type": "execute_result"
    }
   ],
   "source": [
    "df_all_melted.he"
   ]
  },
  {
   "cell_type": "code",
   "execution_count": 29,
   "metadata": {
    "scrolled": true
   },
   "outputs": [
    {
     "name": "stdout",
     "output_type": "stream",
     "text": [
      "756\n",
      "0\n"
     ]
    }
   ],
   "source": [
    "print(len(df_all_melted))\n",
    "print(len(df_raw_melted))"
   ]
  },
  {
   "cell_type": "code",
   "execution_count": 30,
   "metadata": {
    "collapsed": true
   },
   "outputs": [],
   "source": [
    "#df_all_melted.to_csv('../data_inhouse_fmri/data_for_fig_allsnr.csv')\n",
    "#df_raw_melted.to_csv('../data_inhouse_fmri/data_for_fig_rawsnr.csv')"
   ]
  },
  {
   "cell_type": "code",
   "execution_count": 36,
   "metadata": {},
   "outputs": [
    {
     "data": {
      "image/png": "[encoded data removed]",
      "text/plain": [
       "<matplotlib.figure.Figure at 0x7f99b55c33d0>"
      ]
     },
     "metadata": {},
     "output_type": "display_data"
    }
   ],
   "source": [
    "regions = df_all_melted.region.unique() \n",
    "regions_keep = ['IFGop_L','IFGop_R'] # can choose a subset\n",
    "regions_keep = ['Frontal Cortex','Visual Cortex'] # can choose a subset\n",
    "#regions_keep = df_raw_melted.region.unique() # or keep all \n",
    "\n",
    "index = [r in regions_keep for r in df_all_melted.region]\n",
    "\n",
    "\n",
    "avgname = ''\n",
    "avgname='FO'\n",
    "\n",
    "# plot parameters \n",
    "sns.set_style('white')\n",
    "params = {\n",
    "   'axes.labelsize': 8,\n",
    "   'axes.titlesize': 8,\n",
    "    'axes.titleweight': 'normal',\n",
    "    'axes.labelweight':'normal',\n",
    "   'text.fontsize': 8,\n",
    "   'legend.fontsize': 8,\n",
    "   'xtick.labelsize': 8,\n",
    "   'ytick.labelsize': 8,\n",
    "   'text.usetex': False,\n",
    "    'text.color':'black'\n",
    "    \n",
    "}\n",
    "\n",
    "plt.rcParams.update(params)\n",
    "plt.rcParams['font.sans-serif']='Helvetica'\n",
    "plt.rcParams['font.family']='sans-serif'\n",
    "\n",
    "fig,axes = plt.subplots(1,1,figsize=(2.5,4))\n",
    "#fig,axes = plt.subplots(1,1,figsize=(8,4))\n",
    "sns.despine()\n",
    "\n",
    "snrtype = 'all v fix SNR'\n",
    "#snrtype = 'raw SNR'\n",
    "\n",
    "if snrtype=='raw SNR':\n",
    "    subs = df_raw_melted.subject.unique()\n",
    "    df_for_plot = df_raw_melted.loc[index,]\n",
    "else:\n",
    "    subs = df_all_melted.subject.unique()\n",
    "    df_for_plot = df_all_melted.loc[index,]\n",
    "    \n",
    "regions = df_for_plot.region.unique()\n",
    "ys = np.empty((len(subs),len(regions)))\n",
    "for si,sub in enumerate(subs):\n",
    "    x=0\n",
    "    xs=np.array([])\n",
    "    for region in regions:\n",
    "            xs = np.append(xs,x)\n",
    "            y = df_for_plot.loc[(df_for_plot.subject==sub)&\n",
    "                        (df_for_plot.region==region),snrtype].as_matrix()\n",
    "            ys[si,x] = y\n",
    "            x+=1\n",
    "        \n",
    "    #axes.scatter(xs,ys[si,:],c='k',s=5)\n",
    "    if si!=len(subs)-1:\n",
    "        axes.plot(xs,ys[si,:],c='k',linewidth=0.3)\n",
    "    else:\n",
    "        axes.plot(xs,ys[si,:],c='k',linewidth=0.3,label='individual subject')\n",
    "axes.plot(xs,np.mean(ys,axis=0),c='b',linewidth=2,label='group mean')\n",
    "axes.errorbar(xs,np.mean(ys,axis=0),yerr=np.std(ys,axis=0)/np.sqrt(len(ys)),c='b')\n",
    "axes.set_xticks(xs)\n",
    "axes.set_xticklabels(regions,rotation=90)\n",
    "axes.set_xlim([-0.2,len(regions)-0.8])\n",
    "\n",
    "if snrtype=='raw SNR':\n",
    "    axes.set_ylabel('SNR Raw')\n",
    "else:\n",
    "    axes.set_ylabel('SNR Functional (avg T-statistic)')\n",
    "\n",
    "axes.set_xlabel('Region')\n",
    "plt.legend(bbox_to_anchor=(.8, 1), loc=2, borderaxespad=0.)\n",
    "plt.tight_layout()\n",
    "if snrtype=='raw SNR':\n",
    "    plt.savefig('../Figures/Supp_SNR_Raw'+avgname+'.png',dpi=400,bbox_inches=\"tight\")\n",
    "else:\n",
    "    plt.savefig('../Figures/Supp_SNR_Functional'+avgname+'.png',dpi=400,bbox_inches=\"tight\")\n",
    "plt.show()"
   ]
  },
  {
   "cell_type": "code",
   "execution_count": 35,
   "metadata": {},
   "outputs": [
    {
     "data": {
      "text/html": [
       "<div>\n",
       "<table border=\"1\" class=\"dataframe\">\n",
       "  <thead>\n",
       "    <tr style=\"text-align: right;\">\n",
       "      <th></th>\n",
       "      <th>subject</th>\n",
       "      <th>region</th>\n",
       "      <th>all v fix SNR</th>\n",
       "    </tr>\n",
       "  </thead>\n",
       "  <tbody>\n",
       "  </tbody>\n",
       "</table>\n",
       "</div>"
      ],
      "text/plain": [
       "Empty DataFrame\n",
       "Columns: [subject, region, all v fix SNR]\n",
       "Index: []"
      ]
     },
     "execution_count": 35,
     "metadata": {},
     "output_type": "execute_result"
    }
   ],
   "source": [
    "df_for_plot"
   ]
  },
  {
   "cell_type": "markdown",
   "metadata": {},
   "source": [
    "# Numerators / Denominators "
   ]
  },
  {
   "cell_type": "code",
   "execution_count": 64,
   "metadata": {
    "scrolled": true
   },
   "outputs": [
    {
     "name": "stdout",
     "output_type": "stream",
     "text": [
      "01\n",
      "02\n",
      "04\n",
      "05\n",
      "06\n",
      "07\n",
      "08\n",
      "09\n",
      "10\n",
      "11\n",
      "12\n",
      "13\n",
      "14\n",
      "15\n",
      "16\n",
      "17\n",
      "18\n",
      "19\n",
      "20\n",
      "21\n",
      "22\n"
     ]
    }
   ],
   "source": [
    "# make another dataframe  \n",
    "df_subs_num = pd.DataFrame() # set up data frame\n",
    "for s,subject in enumerate(subs):\n",
    "    print(subject)\n",
    "    # store name\n",
    "    df_subs_num.loc[s,'subject']=subject\n",
    "    \n",
    "    # snr: all v fix\n",
    "    for di,ds_name in enumerate(ds_set.keys()): \n",
    "        ds = ds_set[ds_name]\n",
    "        name = ds_name\n",
    "    \n",
    "        # load \n",
    "        Sm= np.load('../data_inhouse_fmri/data_derived_for_snr/Sm_'+name+'_'+subject+'.csv.npy')\n",
    "        Nm= np.load('../data_inhouse_fmri/data_derived_for_snr/Nm_'+name+'_'+subject+'.csv.npy')\n",
    "        std= np.load('../data_inhouse_fmri/data_derived_for_snr/Std_'+name+'_'+subject+'.csv.npy')\n",
    "        \n",
    "        # add to df # \n",
    "        df_subs_num.loc[s,'Num'+name]=np.nanmean(Sm-Nm)\n",
    "        df_subs_num.loc[s,'Dem'+name]=np.nanmean(std)"
   ]
  },
  {
   "cell_type": "code",
   "execution_count": null,
   "metadata": {
    "collapsed": true
   },
   "outputs": [],
   "source": []
  },
  {
   "cell_type": "code",
   "execution_count": 66,
   "metadata": {},
   "outputs": [
    {
     "data": {
      "text/html": [
       "<div>\n",
       "<table border=\"1\" class=\"dataframe\">\n",
       "  <thead>\n",
       "    <tr style=\"text-align: right;\">\n",
       "      <th></th>\n",
       "      <th>subject</th>\n",
       "      <th>region</th>\n",
       "      <th>numerator</th>\n",
       "      <th>denom</th>\n",
       "    </tr>\n",
       "  </thead>\n",
       "  <tbody>\n",
       "    <tr>\n",
       "      <th>0</th>\n",
       "      <td>04</td>\n",
       "      <td>ACC</td>\n",
       "      <td>3.021452</td>\n",
       "      <td>10.389512</td>\n",
       "    </tr>\n",
       "    <tr>\n",
       "      <th>1</th>\n",
       "      <td>01</td>\n",
       "      <td>ACC</td>\n",
       "      <td>1.932109</td>\n",
       "      <td>7.859031</td>\n",
       "    </tr>\n",
       "    <tr>\n",
       "      <th>2</th>\n",
       "      <td>02</td>\n",
       "      <td>ACC</td>\n",
       "      <td>1.841160</td>\n",
       "      <td>8.933608</td>\n",
       "    </tr>\n",
       "    <tr>\n",
       "      <th>3</th>\n",
       "      <td>22</td>\n",
       "      <td>ACC</td>\n",
       "      <td>3.025820</td>\n",
       "      <td>9.553349</td>\n",
       "    </tr>\n",
       "    <tr>\n",
       "      <th>4</th>\n",
       "      <td>21</td>\n",
       "      <td>ACC</td>\n",
       "      <td>1.154905</td>\n",
       "      <td>7.574135</td>\n",
       "    </tr>\n",
       "    <tr>\n",
       "      <th>5</th>\n",
       "      <td>20</td>\n",
       "      <td>ACC</td>\n",
       "      <td>3.105147</td>\n",
       "      <td>9.019081</td>\n",
       "    </tr>\n",
       "    <tr>\n",
       "      <th>6</th>\n",
       "      <td>19</td>\n",
       "      <td>ACC</td>\n",
       "      <td>2.090531</td>\n",
       "      <td>8.973504</td>\n",
       "    </tr>\n",
       "    <tr>\n",
       "      <th>7</th>\n",
       "      <td>18</td>\n",
       "      <td>ACC</td>\n",
       "      <td>1.515129</td>\n",
       "      <td>10.649769</td>\n",
       "    </tr>\n",
       "    <tr>\n",
       "      <th>8</th>\n",
       "      <td>17</td>\n",
       "      <td>ACC</td>\n",
       "      <td>1.965652</td>\n",
       "      <td>9.953264</td>\n",
       "    </tr>\n",
       "    <tr>\n",
       "      <th>9</th>\n",
       "      <td>16</td>\n",
       "      <td>ACC</td>\n",
       "      <td>1.907045</td>\n",
       "      <td>8.918790</td>\n",
       "    </tr>\n",
       "    <tr>\n",
       "      <th>10</th>\n",
       "      <td>05</td>\n",
       "      <td>ACC</td>\n",
       "      <td>1.669406</td>\n",
       "      <td>8.832710</td>\n",
       "    </tr>\n",
       "    <tr>\n",
       "      <th>11</th>\n",
       "      <td>14</td>\n",
       "      <td>ACC</td>\n",
       "      <td>0.423133</td>\n",
       "      <td>8.202859</td>\n",
       "    </tr>\n",
       "    <tr>\n",
       "      <th>12</th>\n",
       "      <td>13</td>\n",
       "      <td>ACC</td>\n",
       "      <td>2.103952</td>\n",
       "      <td>7.433128</td>\n",
       "    </tr>\n",
       "    <tr>\n",
       "      <th>13</th>\n",
       "      <td>12</td>\n",
       "      <td>ACC</td>\n",
       "      <td>2.021561</td>\n",
       "      <td>9.947167</td>\n",
       "    </tr>\n",
       "    <tr>\n",
       "      <th>14</th>\n",
       "      <td>11</td>\n",
       "      <td>ACC</td>\n",
       "      <td>3.397981</td>\n",
       "      <td>9.934027</td>\n",
       "    </tr>\n",
       "    <tr>\n",
       "      <th>15</th>\n",
       "      <td>10</td>\n",
       "      <td>ACC</td>\n",
       "      <td>1.497920</td>\n",
       "      <td>10.938207</td>\n",
       "    </tr>\n",
       "    <tr>\n",
       "      <th>16</th>\n",
       "      <td>09</td>\n",
       "      <td>ACC</td>\n",
       "      <td>1.026180</td>\n",
       "      <td>11.602860</td>\n",
       "    </tr>\n",
       "    <tr>\n",
       "      <th>17</th>\n",
       "      <td>08</td>\n",
       "      <td>ACC</td>\n",
       "      <td>2.658842</td>\n",
       "      <td>7.018671</td>\n",
       "    </tr>\n",
       "    <tr>\n",
       "      <th>18</th>\n",
       "      <td>07</td>\n",
       "      <td>ACC</td>\n",
       "      <td>2.192302</td>\n",
       "      <td>8.152083</td>\n",
       "    </tr>\n",
       "    <tr>\n",
       "      <th>19</th>\n",
       "      <td>06</td>\n",
       "      <td>ACC</td>\n",
       "      <td>2.409164</td>\n",
       "      <td>9.415505</td>\n",
       "    </tr>\n",
       "  </tbody>\n",
       "</table>\n",
       "</div>"
      ],
      "text/plain": [
       "   subject region  numerator      denom\n",
       "0       04    ACC   3.021452  10.389512\n",
       "1       01    ACC   1.932109   7.859031\n",
       "2       02    ACC   1.841160   8.933608\n",
       "3       22    ACC   3.025820   9.553349\n",
       "4       21    ACC   1.154905   7.574135\n",
       "5       20    ACC   3.105147   9.019081\n",
       "6       19    ACC   2.090531   8.973504\n",
       "7       18    ACC   1.515129  10.649769\n",
       "8       17    ACC   1.965652   9.953264\n",
       "9       16    ACC   1.907045   8.918790\n",
       "10      05    ACC   1.669406   8.832710\n",
       "11      14    ACC   0.423133   8.202859\n",
       "12      13    ACC   2.103952   7.433128\n",
       "13      12    ACC   2.021561   9.947167\n",
       "14      11    ACC   3.397981   9.934027\n",
       "15      10    ACC   1.497920  10.938207\n",
       "16      09    ACC   1.026180  11.602860\n",
       "17      08    ACC   2.658842   7.018671\n",
       "18      07    ACC   2.192302   8.152083\n",
       "19      06    ACC   2.409164   9.415505"
      ]
     },
     "execution_count": 66,
     "metadata": {},
     "output_type": "execute_result"
    }
   ],
   "source": [
    "columns  = [c for c in df_subs_num.columns.values if 'Num' in c]\n",
    "df_raw_melted = pd.melt(df_subs_num[['subject']+columns],id_vars=['subject'])\n",
    "\n",
    "df_raw_melted.columns =['subject','region','numerator']\n",
    "for i in range(len(df_raw_melted)):\n",
    "    name = df_raw_melted.loc[i,'region']\n",
    "    name = name.replace('Numds_AAL_','')\n",
    "    name = name.replace('Numds_MD_','')\n",
    "    df_raw_melted.loc[i,'region']=name\n",
    "df_raw_melted = df_raw_melted.sort_values(by='region')\n",
    "\n",
    "\n",
    "columns  = [c for c in df_subs_num.columns.values if 'Dem' in c]\n",
    "df_raw_melted2 = pd.melt(df_subs_num[['subject']+columns],id_vars=['subject'])\n",
    "\n",
    "df_raw_melted2.columns =['subject','region','denom']\n",
    "for i in range(len(df_raw_melted2)):\n",
    "    name = df_raw_melted2.loc[i,'region']\n",
    "    name = name.replace('Demds_AAL_','')\n",
    "    name = name.replace('Demds_MD_','')\n",
    "    df_raw_melted2.loc[i,'region']=name\n",
    "df_raw_melted2 = df_raw_melted2.sort_values(by='region')\n",
    "\n",
    "df_raw_melted_all = df_raw_melted.merge(df_raw_melted2,on=['region','subject'])\n",
    "df_raw_melted_all.head(20)\n"
   ]
  },
  {
   "cell_type": "code",
   "execution_count": 67,
   "metadata": {},
   "outputs": [
    {
     "data": {
      "image/png": "[encoded data removed]",
      "text/plain": [
       "<matplotlib.figure.Figure at 0x7f9d0dc9d790>"
      ]
     },
     "metadata": {},
     "output_type": "display_data"
    }
   ],
   "source": [
    "fig,axes = plt.subplots(1,1,figsize=(8,6))\n",
    "\n",
    "#sns.stripplot(x='region',y='numerator',data=df_raw_melted_all,ax=axes)\n",
    "sns.barplot(x='region',y='numerator',data=df_raw_melted_all,ax=axes)\n",
    "\n",
    "#axes[0].set_title('Raw SNR')\n",
    "axes.set_title('All v Fix SNR \\n mean t-stat (numerator)')\n",
    "#plt.savefig('../Figures/SNR_Analysis/Group_all_v_fix_SNR.png',dpi=300)\n",
    "plt.xticks(rotation='vertical')\n",
    "plt.tight_layout()\n",
    "plt.savefig('../Figures/SNR_Analysis/Group_Bar_SNR_3_numerator.png',dpi=300)"
   ]
  },
  {
   "cell_type": "code",
   "execution_count": 68,
   "metadata": {},
   "outputs": [
    {
     "data": {
      "image/png": "[encoded data removed]",
      "text/plain": [
       "<matplotlib.figure.Figure at 0x7f9d0daf7f90>"
      ]
     },
     "metadata": {},
     "output_type": "display_data"
    }
   ],
   "source": [
    "fig,axes = plt.subplots(1,1,figsize=(8,6))\n",
    "\n",
    "#sns.stripplot(x='region',y='denom',jitter=True,data=df_raw_melted_all,ax=axes)\n",
    "sns.barplot(x='region',y='denom',data=df_raw_melted_all,ax=axes)\n",
    "\n",
    "#axes[0].set_title('Raw SNR')\n",
    "axes.set_title('All v Fix SNR \\n mean t-stat (denominator)')\n",
    "#plt.savefig('../Figures/SNR_Analysis/Group_all_v_fix_SNR.png',dpi=300)\n",
    "\n",
    "plt.xticks(rotation='vertical')\n",
    "plt.tight_layout()\n",
    "plt.savefig('../Figures/SNR_Analysis/Group_Bar_SNR_3_denominator.png',dpi=300)"
   ]
  },
  {
   "cell_type": "markdown",
   "metadata": {},
   "source": [
    "# Correlating with Classification Perf"
   ]
  },
  {
   "cell_type": "code",
   "execution_count": null,
   "metadata": {
    "collapsed": true
   },
   "outputs": [],
   "source": [
    "fig, axes = plt.subplots(2,2)\n",
    "\n",
    "for ri,roi_number in enumerate([0,3]):\n",
    "    \n",
    "    average_classification = np.array([])\n",
    "    all_v_fix_snr = np.array([])\n",
    "    raw_snr = np.array([])\n",
    "    \n",
    "    for subject in subs:\n",
    "        basefolder='/home/bishop/cgagne/MVPA_Analysis/data_inhouse_fmri/'\n",
    "        classificationfolder = basefolder+'data_derived_classification_results/a_standard_parameter_set/'\n",
    "        filee = classificationfolder+'roi'+rois[roi_number]+'subfmri_'+subject+'_TRI.txt'\n",
    "        class_accuracy = np.loadtxt(filee)\n",
    "        \n",
    "        # collect results\n",
    "        average_classification = np.append(average_classification,class_accuracy[0])\n",
    "        raw_snr = np.append(raw_snr,\n",
    "                            df_subs.loc[df_subs['subject']==subject,\n",
    "                                        'raw_snr_'+roi_names_shorted[roi_number]].as_matrix()[0])\n",
    "        all_v_fix_snr = np.append(all_v_fix_snr,\n",
    "                            df_subs.loc[df_subs['subject']==subject,\n",
    "                                        'all_v_fix_snr_'+roi_names_shorted[roi_number]].as_matrix()[0])\n",
    "    print(roi_names_shorted[roi_number])\n",
    "    (r,p)=scipy.stats.pearsonr(all_v_fix_snr,average_classification)\n",
    "    print('all v fix')\n",
    "    print('r='+str(r))\n",
    "    print('p='+str(p))\n",
    "    \n",
    "    (r,p)=scipy.stats.pearsonr(raw_snr,average_classification)\n",
    "    print('raw snr')\n",
    "    print('r='+str(r))\n",
    "    print('p='+str(p))\n",
    "    #axes[ri,0].scatter(raw_snr,average_classification)\n",
    "    sns.regplot(x=raw_snr,y=average_classification,ax=axes[ri,0])\n",
    "    axes[ri,0].set_xlabel('raw snr')\n",
    "    axes[ri,0].set_ylabel('classification accuracy')\n",
    "    axes[ri,0].set_title(roi_names_shorted[roi_number])\n",
    "    #axes[ri,1].scatter(all_v_fix_snr,average_classification)\n",
    "    sns.regplot(x=all_v_fix_snr,y=average_classification,ax=axes[ri,1])\n",
    "    axes[ri,1].set_xlabel('all v fix snr')\n",
    "    axes[ri,1].set_title(roi_names_shorted[roi_number])\n",
    "    axes[1,1].set_xlim([0,3])\n",
    "plt.tight_layout()\n",
    "plt.savefig('../Figures/SNR_Analysis/Group_Correlation_SNR_and_Accuracy.png',dpi=300)\n",
    "    "
   ]
  },
  {
   "cell_type": "code",
   "execution_count": null,
   "metadata": {
    "collapsed": true
   },
   "outputs": [],
   "source": [
    "import scipy"
   ]
  },
  {
   "cell_type": "markdown",
   "metadata": {
    "collapsed": true
   },
   "source": [
    "# T-maps Histograms"
   ]
  },
  {
   "cell_type": "code",
   "execution_count": null,
   "metadata": {
    "collapsed": true
   },
   "outputs": [],
   "source": [
    "\n",
    "for si,subject in enumerate(subs):\n",
    "\n",
    "    tmapf = np.load('../data_inhouse_fmri/data_derived_for_snr/t_map_frontal_'+subject+'.csv.npy')\n",
    "    tmapo = np.load('../data_inhouse_fmri/data_derived_for_snr/t_map_occipital_'+subject+'.csv.npy')\n",
    "    if si==0:\n",
    "        tmaps_o = tmapo\n",
    "        tmaps_f = tmapf\n",
    "    else:\n",
    "        tmaps_o = np.vstack((tmaps_o,tmapo))\n",
    "        tmaps_f = np.vstack((tmaps_f,tmapf))\n",
    "print(tmaps_o.shape)"
   ]
  },
  {
   "cell_type": "code",
   "execution_count": null,
   "metadata": {
    "collapsed": true
   },
   "outputs": [],
   "source": []
  },
  {
   "cell_type": "code",
   "execution_count": null,
   "metadata": {
    "collapsed": true
   },
   "outputs": [],
   "source": [
    "fig,axes = plt.subplots(1,1,figsize=(8,6))\n",
    "for si,subject in enumerate(subs):\n",
    "    plt.scatter(np.ones(tmaps_o.shape[1])*si,tmaps_o[si,:],c='b')\n",
    "    plt.scatter(si,np.nanmean(tmaps_o[si,:]),c='k')\n",
    "    plt.scatter(np.ones(tmaps_f.shape[1])*si+0.5,tmaps_f[si,:],c='g')\n",
    "    plt.scatter(si+0.5,np.nanmean(tmaps_f[si,:]),c='r')\n",
    "    plt.tight_layout()\n",
    "plt.xlabel('Subject')\n",
    "plt.ylabel('T-statistic')\n",
    "plt.axhline(y=0)\n",
    "plt.title('T stat (blue=occipital; green=frontal)')\n",
    "plt.savefig('../Figures/SNR_Analysis/T-distributions_bysubject.png',dpi=300)\n",
    "    "
   ]
  }
 ],
 "metadata": {
  "hide_input": false,
  "kernelspec": {
   "display_name": "Python 2",
   "language": "python",
   "name": "python2"
  },
  "language_info": {
   "codemirror_mode": {
    "name": "ipython",
    "version": 2
   },
   "file_extension": ".py",
   "mimetype": "text/x-python",
   "name": "python",
   "nbconvert_exporter": "python",
   "pygments_lexer": "ipython2",
   "version": "2.7.14"
  },
  "toc": {
   "nav_menu": {},
   "number_sections": true,
   "sideBar": true,
   "skip_h1_title": false,
   "toc_cell": false,
   "toc_position": {},
   "toc_section_display": "block",
   "toc_window_display": false
  }
 },
 "nbformat": 4,
 "nbformat_minor": 1
}
