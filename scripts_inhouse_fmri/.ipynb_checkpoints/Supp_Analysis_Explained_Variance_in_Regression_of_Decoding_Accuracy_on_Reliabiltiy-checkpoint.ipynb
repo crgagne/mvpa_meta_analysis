{
 "cells": [
  {
   "cell_type": "code",
   "execution_count": 3,
   "metadata": {
    "collapsed": true
   },
   "outputs": [],
   "source": [
    "import sys\n",
    "import numpy as np\n",
    "import pdb\n",
    "import matplotlib.pyplot as plt\n",
    "import seaborn as sns\n",
    "import pandas as pd\n",
    "\n",
    "%matplotlib inline"
   ]
  },
  {
   "cell_type": "code",
   "execution_count": 5,
   "metadata": {
    "collapsed": true
   },
   "outputs": [],
   "source": [
    "df_all_melted=pd.read_csv('../data_inhouse_fmri/data_for_fig_allsnr.csv')\n",
    "df_raw_melted=pd.read_csv('../data_inhouse_fmri/data_for_fig_rawsnr.csv')\n",
    "y_reliabilities = np.load('../data_inhouse_fmri/data_for_fig_reliability.npz.npy')\n",
    "cv_accs = np.load('../data_inhouse_fmri/classification_for_fig.npz.npy').T"
   ]
  },
  {
   "cell_type": "markdown",
   "metadata": {},
   "source": [
    "### T-test for classification accuracies. "
   ]
  },
  {
   "cell_type": "code",
   "execution_count": null,
   "metadata": {
    "collapsed": true
   },
   "outputs": [],
   "source": [
    "from scipy.stats import ttest_1samp"
   ]
  },
  {
   "cell_type": "code",
   "execution_count": 50,
   "metadata": {},
   "outputs": [
    {
     "name": "stdout",
     "output_type": "stream",
     "text": [
      "Frontal cortex\n",
      "mean:0.554483331946\n"
     ]
    },
    {
     "data": {
      "text/plain": [
       "Ttest_1sampResult(statistic=3.9495924955896009, pvalue=0.00079151170831906795)"
      ]
     },
     "execution_count": 50,
     "metadata": {},
     "output_type": "execute_result"
    }
   ],
   "source": [
    "print('Frontal cortex')\n",
    "print('mean:'+str(np.mean(cv_accs[0,:])))\n",
    "ttest_1samp(cv_accs[0,:],0.5)"
   ]
  },
  {
   "cell_type": "code",
   "execution_count": 51,
   "metadata": {},
   "outputs": [
    {
     "name": "stdout",
     "output_type": "stream",
     "text": [
      "Visual cortex\n",
      "mean:0.723885597273\n"
     ]
    },
    {
     "data": {
      "text/plain": [
       "Ttest_1sampResult(statistic=6.816454045217367, pvalue=1.2589703911236738e-06)"
      ]
     },
     "execution_count": 51,
     "metadata": {},
     "output_type": "execute_result"
    }
   ],
   "source": [
    "print('Visual cortex')\n",
    "print('mean:'+str(np.mean(cv_accs[1,:])))\n",
    "ttest_1samp(cv_accs[1,:],0.5)"
   ]
  },
  {
   "cell_type": "markdown",
   "metadata": {},
   "source": [
    "### Regression of classification difference between frontal and occipital onto fSNR, rSNR, reliabiltiy. \n",
    "\n",
    "- see \"Supp_Figure_Classification_Accuracy_Single_Sub\" for how classification accuracies are saved out. They are in numerical ordering of subject names, 1,2,3,..10,11,...22. And Frontal cortex is index=0. \n",
    "\n",
    "- see \"Reliability_Analysis_Split_Half_More_regions\" for how split half reliabilities are saved out. They are in numerical ordering of subject names, 1,2,3,..10,11,...22. And Frontal cortex is index=0. "
   ]
  },
  {
   "cell_type": "code",
   "execution_count": 30,
   "metadata": {
    "collapsed": true
   },
   "outputs": [],
   "source": [
    "# get the fSNR for each region and sort by subject \n",
    "assert df_all_melted.subject.dtype=='int64' # so that subject is sorted by number properly and not by string\n",
    "fsnr_F = df_all_melted.loc[df_all_melted['region']=='Frontal Cortex',].sort_values(by='subject')['all v fix SNR'].as_matrix()\n",
    "fsnr_O = df_all_melted.loc[df_all_melted['region']=='Visual Cortex',].sort_values(by='subject')['all v fix SNR'].as_matrix()"
   ]
  },
  {
   "cell_type": "code",
   "execution_count": 78,
   "metadata": {
    "collapsed": true
   },
   "outputs": [],
   "source": [
    "# get the fSNR for each region and sort by subject \n",
    "assert df_all_melted.subject.dtype=='int64' # so that subject is sorted by number properly and not by string\n",
    "Rsnr_F = df_raw_melted.loc[df_raw_melted['region']=='Frontal Cortex',].sort_values(by='subject')['raw SNR'].as_matrix()\n",
    "Rsnr_O = df_raw_melted.loc[df_raw_melted['region']=='Visual Cortex',].sort_values(by='subject')['raw SNR'].as_matrix()"
   ]
  },
  {
   "cell_type": "code",
   "execution_count": null,
   "metadata": {
    "collapsed": true
   },
   "outputs": [],
   "source": [
    "#df_all_melted.loc[df_all_melted['region']=='Frontal Cortex',].sort_values(by='subject')['subject']#"
   ]
  },
  {
   "cell_type": "markdown",
   "metadata": {},
   "source": [
    "This subject ordering does match the other lists. "
   ]
  },
  {
   "cell_type": "code",
   "execution_count": 11,
   "metadata": {},
   "outputs": [
    {
     "data": {
      "text/plain": [
       "(2, 21)"
      ]
     },
     "execution_count": 11,
     "metadata": {},
     "output_type": "execute_result"
    }
   ],
   "source": [
    "y_reliabilities.shape"
   ]
  },
  {
   "cell_type": "code",
   "execution_count": 13,
   "metadata": {},
   "outputs": [
    {
     "data": {
      "text/plain": [
       "(2, 21)"
      ]
     },
     "execution_count": 13,
     "metadata": {},
     "output_type": "execute_result"
    }
   ],
   "source": [
    "cv_accs.shape"
   ]
  },
  {
   "cell_type": "code",
   "execution_count": 43,
   "metadata": {
    "collapsed": true
   },
   "outputs": [],
   "source": [
    "import statsmodels.api as sm\n",
    "from scipy.stats import pearsonr"
   ]
  },
  {
   "cell_type": "markdown",
   "metadata": {},
   "source": [
    "### Classification on fSNR"
   ]
  },
  {
   "cell_type": "code",
   "execution_count": 31,
   "metadata": {},
   "outputs": [
    {
     "data": {
      "text/plain": [
       "<matplotlib.collections.PathCollection at 0x114e6ba90>"
      ]
     },
     "execution_count": 31,
     "metadata": {},
     "output_type": "execute_result"
    },
    {
     "data": {
      "image/png": "[encoded data removed]",
      "text/plain": [
       "<matplotlib.figure.Figure at 0x114d98b50>"
      ]
     },
     "metadata": {},
     "output_type": "display_data"
    }
   ],
   "source": [
    "plt.scatter(cv_accs[0,:],fsnr_F)"
   ]
  },
  {
   "cell_type": "code",
   "execution_count": 75,
   "metadata": {},
   "outputs": [
    {
     "name": "stdout",
     "output_type": "stream",
     "text": [
      "0.110237474904\n",
      "0.0121523008732\n"
     ]
    }
   ],
   "source": [
    "r,p = pearsonr(cv_accs[0,:],fsnr_F)\n",
    "print(r)\n",
    "print(r**2)"
   ]
  },
  {
   "cell_type": "code",
   "execution_count": 76,
   "metadata": {},
   "outputs": [
    {
     "name": "stdout",
     "output_type": "stream",
     "text": [
      "0.153016941032\n",
      "0.0234141842428\n"
     ]
    }
   ],
   "source": [
    "r,p = pearsonr(cv_accs[1,:],fsnr_O)\n",
    "print(r)\n",
    "print(r**2)"
   ]
  },
  {
   "cell_type": "markdown",
   "metadata": {},
   "source": [
    "### Classification difference on fSNR difference "
   ]
  },
  {
   "cell_type": "code",
   "execution_count": 63,
   "metadata": {},
   "outputs": [
    {
     "data": {
      "text/plain": [
       "<matplotlib.axes._subplots.AxesSubplot at 0x1159d7050>"
      ]
     },
     "execution_count": 63,
     "metadata": {},
     "output_type": "execute_result"
    },
    {
     "data": {
      "image/png": "[encoded data removed]",
      "text/plain": [
       "<matplotlib.figure.Figure at 0x115886d10>"
      ]
     },
     "metadata": {},
     "output_type": "display_data"
    }
   ],
   "source": [
    "plt.scatter(cv_accs[1,:]-cv_accs[0,:],fsnr_O-fsnr_F)\n",
    "sns.regplot(cv_accs[1,:]-cv_accs[0,:],fsnr_O-fsnr_F)"
   ]
  },
  {
   "cell_type": "code",
   "execution_count": 72,
   "metadata": {},
   "outputs": [
    {
     "name": "stdout",
     "output_type": "stream",
     "text": [
      "-0.0857477267793\n",
      "0.00735267264782\n"
     ]
    }
   ],
   "source": [
    "r,p = pearsonr(cv_accs[1,:]-cv_accs[0,:],fsnr_O-fsnr_F)\n",
    "print(r)\n",
    "print(r**2)"
   ]
  },
  {
   "cell_type": "code",
   "execution_count": 64,
   "metadata": {},
   "outputs": [
    {
     "data": {
      "text/html": [
       "<table class=\"simpletable\">\n",
       "<caption>OLS Regression Results</caption>\n",
       "<tr>\n",
       "  <th>Dep. Variable:</th>            <td>y</td>        <th>  R-squared:         </th> <td>   0.007</td>\n",
       "</tr>\n",
       "<tr>\n",
       "  <th>Model:</th>                   <td>OLS</td>       <th>  Adj. R-squared:    </th> <td>  -0.045</td>\n",
       "</tr>\n",
       "<tr>\n",
       "  <th>Method:</th>             <td>Least Squares</td>  <th>  F-statistic:       </th> <td>  0.1407</td>\n",
       "</tr>\n",
       "<tr>\n",
       "  <th>Date:</th>             <td>Thu, 17 May 2018</td> <th>  Prob (F-statistic):</th>  <td> 0.712</td> \n",
       "</tr>\n",
       "<tr>\n",
       "  <th>Time:</th>                 <td>11:32:27</td>     <th>  Log-Likelihood:    </th> <td>  7.5742</td>\n",
       "</tr>\n",
       "<tr>\n",
       "  <th>No. Observations:</th>      <td>    21</td>      <th>  AIC:               </th> <td>  -11.15</td>\n",
       "</tr>\n",
       "<tr>\n",
       "  <th>Df Residuals:</th>          <td>    19</td>      <th>  BIC:               </th> <td>  -9.059</td>\n",
       "</tr>\n",
       "<tr>\n",
       "  <th>Df Model:</th>              <td>     1</td>      <th>                     </th>     <td> </td>   \n",
       "</tr>\n",
       "<tr>\n",
       "  <th>Covariance Type:</th>      <td>nonrobust</td>    <th>                     </th>     <td> </td>   \n",
       "</tr>\n",
       "</table>\n",
       "<table class=\"simpletable\">\n",
       "<tr>\n",
       "    <td></td>       <th>coef</th>     <th>std err</th>      <th>t</th>      <th>P>|t|</th>  <th>[0.025</th>    <th>0.975]</th>  \n",
       "</tr>\n",
       "<tr>\n",
       "  <th>const</th> <td>    0.1824</td> <td>    0.052</td> <td>    3.514</td> <td> 0.002</td> <td>    0.074</td> <td>    0.291</td>\n",
       "</tr>\n",
       "<tr>\n",
       "  <th>x1</th>    <td>   -0.0179</td> <td>    0.048</td> <td>   -0.375</td> <td> 0.712</td> <td>   -0.118</td> <td>    0.082</td>\n",
       "</tr>\n",
       "</table>\n",
       "<table class=\"simpletable\">\n",
       "<tr>\n",
       "  <th>Omnibus:</th>       <td> 4.061</td> <th>  Durbin-Watson:     </th> <td>   2.284</td>\n",
       "</tr>\n",
       "<tr>\n",
       "  <th>Prob(Omnibus):</th> <td> 0.131</td> <th>  Jarque-Bera (JB):  </th> <td>   1.507</td>\n",
       "</tr>\n",
       "<tr>\n",
       "  <th>Skew:</th>          <td> 0.174</td> <th>  Prob(JB):          </th> <td>   0.471</td>\n",
       "</tr>\n",
       "<tr>\n",
       "  <th>Kurtosis:</th>      <td> 1.735</td> <th>  Cond. No.          </th> <td>    2.25</td>\n",
       "</tr>\n",
       "</table>"
      ],
      "text/plain": [
       "<class 'statsmodels.iolib.summary.Summary'>\n",
       "\"\"\"\n",
       "                            OLS Regression Results                            \n",
       "==============================================================================\n",
       "Dep. Variable:                      y   R-squared:                       0.007\n",
       "Model:                            OLS   Adj. R-squared:                 -0.045\n",
       "Method:                 Least Squares   F-statistic:                    0.1407\n",
       "Date:                Thu, 17 May 2018   Prob (F-statistic):              0.712\n",
       "Time:                        11:32:27   Log-Likelihood:                 7.5742\n",
       "No. Observations:                  21   AIC:                            -11.15\n",
       "Df Residuals:                      19   BIC:                            -9.059\n",
       "Df Model:                           1                                         \n",
       "Covariance Type:            nonrobust                                         \n",
       "==============================================================================\n",
       "                 coef    std err          t      P>|t|      [0.025      0.975]\n",
       "------------------------------------------------------------------------------\n",
       "const          0.1824      0.052      3.514      0.002       0.074       0.291\n",
       "x1            -0.0179      0.048     -0.375      0.712      -0.118       0.082\n",
       "==============================================================================\n",
       "Omnibus:                        4.061   Durbin-Watson:                   2.284\n",
       "Prob(Omnibus):                  0.131   Jarque-Bera (JB):                1.507\n",
       "Skew:                           0.174   Prob(JB):                        0.471\n",
       "Kurtosis:                       1.735   Cond. No.                         2.25\n",
       "==============================================================================\n",
       "\n",
       "Warnings:\n",
       "[1] Standard Errors assume that the covariance matrix of the errors is correctly specified.\n",
       "\"\"\""
      ]
     },
     "execution_count": 64,
     "metadata": {},
     "output_type": "execute_result"
    }
   ],
   "source": [
    "results = sm.OLS(cv_accs[1,:]-cv_accs[0,:],sm.add_constant(fsnr_O-fsnr_F)).fit()\n",
    "results.summary()"
   ]
  },
  {
   "cell_type": "markdown",
   "metadata": {},
   "source": [
    "### Classification on reliability "
   ]
  },
  {
   "cell_type": "code",
   "execution_count": 70,
   "metadata": {},
   "outputs": [
    {
     "name": "stdout",
     "output_type": "stream",
     "text": [
      "0.193970431592\n",
      "0.037624528332\n"
     ]
    }
   ],
   "source": [
    "r,p = pearsonr(cv_accs[0,:],y_reliabilities[0,:])\n",
    "print(r)\n",
    "print(r**2)"
   ]
  },
  {
   "cell_type": "code",
   "execution_count": 71,
   "metadata": {},
   "outputs": [
    {
     "name": "stdout",
     "output_type": "stream",
     "text": [
      "0.332483351363\n",
      "0.110545178933\n"
     ]
    }
   ],
   "source": [
    "r,p = pearsonr(cv_accs[1,:],y_reliabilities[1,:])\n",
    "print(r)\n",
    "print(r**2)"
   ]
  },
  {
   "cell_type": "markdown",
   "metadata": {},
   "source": [
    "### Classification difference on reliability difference "
   ]
  },
  {
   "cell_type": "code",
   "execution_count": 65,
   "metadata": {},
   "outputs": [
    {
     "data": {
      "text/plain": [
       "<matplotlib.axes._subplots.AxesSubplot at 0x116ceaa50>"
      ]
     },
     "execution_count": 65,
     "metadata": {},
     "output_type": "execute_result"
    },
    {
     "data": {
      "image/png": "[encoded data removed]",
      "text/plain": [
       "<matplotlib.figure.Figure at 0x1158d1650>"
      ]
     },
     "metadata": {},
     "output_type": "display_data"
    }
   ],
   "source": [
    "plt.scatter(cv_accs[1,:]-cv_accs[0,:],y_reliabilities[1,:]-y_reliabilities[0,:])\n",
    "sns.regplot(cv_accs[1,:]-cv_accs[0,:],y_reliabilities[1,:]-y_reliabilities[0,:])"
   ]
  },
  {
   "cell_type": "code",
   "execution_count": 66,
   "metadata": {},
   "outputs": [
    {
     "data": {
      "text/plain": [
       "0.12156591104263743"
      ]
     },
     "execution_count": 66,
     "metadata": {},
     "output_type": "execute_result"
    }
   ],
   "source": [
    "r,p = pearsonr(cv_accs[1,:]-cv_accs[0,:],y_reliabilities[1,:]-y_reliabilities[0,:])\n",
    "r"
   ]
  },
  {
   "cell_type": "code",
   "execution_count": 68,
   "metadata": {},
   "outputs": [
    {
     "data": {
      "text/plain": [
       "0.014778270727626438"
      ]
     },
     "execution_count": 68,
     "metadata": {},
     "output_type": "execute_result"
    }
   ],
   "source": [
    "r**2"
   ]
  },
  {
   "cell_type": "code",
   "execution_count": 67,
   "metadata": {},
   "outputs": [
    {
     "data": {
      "text/html": [
       "<table class=\"simpletable\">\n",
       "<caption>OLS Regression Results</caption>\n",
       "<tr>\n",
       "  <th>Dep. Variable:</th>            <td>y</td>        <th>  R-squared:         </th> <td>   0.015</td>\n",
       "</tr>\n",
       "<tr>\n",
       "  <th>Model:</th>                   <td>OLS</td>       <th>  Adj. R-squared:    </th> <td>  -0.037</td>\n",
       "</tr>\n",
       "<tr>\n",
       "  <th>Method:</th>             <td>Least Squares</td>  <th>  F-statistic:       </th> <td>  0.2850</td>\n",
       "</tr>\n",
       "<tr>\n",
       "  <th>Date:</th>             <td>Thu, 17 May 2018</td> <th>  Prob (F-statistic):</th>  <td> 0.600</td> \n",
       "</tr>\n",
       "<tr>\n",
       "  <th>Time:</th>                 <td>11:33:25</td>     <th>  Log-Likelihood:    </th> <td>  7.6531</td>\n",
       "</tr>\n",
       "<tr>\n",
       "  <th>No. Observations:</th>      <td>    21</td>      <th>  AIC:               </th> <td>  -11.31</td>\n",
       "</tr>\n",
       "<tr>\n",
       "  <th>Df Residuals:</th>          <td>    19</td>      <th>  BIC:               </th> <td>  -9.217</td>\n",
       "</tr>\n",
       "<tr>\n",
       "  <th>Df Model:</th>              <td>     1</td>      <th>                     </th>     <td> </td>   \n",
       "</tr>\n",
       "<tr>\n",
       "  <th>Covariance Type:</th>      <td>nonrobust</td>    <th>                     </th>     <td> </td>   \n",
       "</tr>\n",
       "</table>\n",
       "<table class=\"simpletable\">\n",
       "<tr>\n",
       "    <td></td>       <th>coef</th>     <th>std err</th>      <th>t</th>      <th>P>|t|</th>  <th>[0.025</th>    <th>0.975]</th>  \n",
       "</tr>\n",
       "<tr>\n",
       "  <th>const</th> <td>    0.1146</td> <td>    0.110</td> <td>    1.044</td> <td> 0.309</td> <td>   -0.115</td> <td>    0.344</td>\n",
       "</tr>\n",
       "<tr>\n",
       "  <th>x1</th>    <td>    0.1870</td> <td>    0.350</td> <td>    0.534</td> <td> 0.600</td> <td>   -0.546</td> <td>    0.920</td>\n",
       "</tr>\n",
       "</table>\n",
       "<table class=\"simpletable\">\n",
       "<tr>\n",
       "  <th>Omnibus:</th>       <td> 5.880</td> <th>  Durbin-Watson:     </th> <td>   2.396</td>\n",
       "</tr>\n",
       "<tr>\n",
       "  <th>Prob(Omnibus):</th> <td> 0.053</td> <th>  Jarque-Bera (JB):  </th> <td>   1.857</td>\n",
       "</tr>\n",
       "<tr>\n",
       "  <th>Skew:</th>          <td> 0.255</td> <th>  Prob(JB):          </th> <td>   0.395</td>\n",
       "</tr>\n",
       "<tr>\n",
       "  <th>Kurtosis:</th>      <td> 1.635</td> <th>  Cond. No.          </th> <td>    9.88</td>\n",
       "</tr>\n",
       "</table>"
      ],
      "text/plain": [
       "<class 'statsmodels.iolib.summary.Summary'>\n",
       "\"\"\"\n",
       "                            OLS Regression Results                            \n",
       "==============================================================================\n",
       "Dep. Variable:                      y   R-squared:                       0.015\n",
       "Model:                            OLS   Adj. R-squared:                 -0.037\n",
       "Method:                 Least Squares   F-statistic:                    0.2850\n",
       "Date:                Thu, 17 May 2018   Prob (F-statistic):              0.600\n",
       "Time:                        11:33:25   Log-Likelihood:                 7.6531\n",
       "No. Observations:                  21   AIC:                            -11.31\n",
       "Df Residuals:                      19   BIC:                            -9.217\n",
       "Df Model:                           1                                         \n",
       "Covariance Type:            nonrobust                                         \n",
       "==============================================================================\n",
       "                 coef    std err          t      P>|t|      [0.025      0.975]\n",
       "------------------------------------------------------------------------------\n",
       "const          0.1146      0.110      1.044      0.309      -0.115       0.344\n",
       "x1             0.1870      0.350      0.534      0.600      -0.546       0.920\n",
       "==============================================================================\n",
       "Omnibus:                        5.880   Durbin-Watson:                   2.396\n",
       "Prob(Omnibus):                  0.053   Jarque-Bera (JB):                1.857\n",
       "Skew:                           0.255   Prob(JB):                        0.395\n",
       "Kurtosis:                       1.635   Cond. No.                         9.88\n",
       "==============================================================================\n",
       "\n",
       "Warnings:\n",
       "[1] Standard Errors assume that the covariance matrix of the errors is correctly specified.\n",
       "\"\"\""
      ]
     },
     "execution_count": 67,
     "metadata": {},
     "output_type": "execute_result"
    }
   ],
   "source": [
    "results = sm.OLS(cv_accs[1,:]-cv_accs[0,:],sm.add_constant(y_reliabilities[1,:]-y_reliabilities[0,:])).fit()\n",
    "results.summary()"
   ]
  },
  {
   "cell_type": "markdown",
   "metadata": {},
   "source": [
    "### Classification on raw SNR"
   ]
  },
  {
   "cell_type": "code",
   "execution_count": 81,
   "metadata": {},
   "outputs": [
    {
     "name": "stdout",
     "output_type": "stream",
     "text": [
      "-0.260876836174\n",
      "0.068056723652\n"
     ]
    }
   ],
   "source": [
    "r,p = pearsonr(cv_accs[0,:],Rsnr_F)\n",
    "print(r)\n",
    "print(r**2)"
   ]
  },
  {
   "cell_type": "code",
   "execution_count": 82,
   "metadata": {},
   "outputs": [
    {
     "name": "stdout",
     "output_type": "stream",
     "text": [
      "0.144710430696\n",
      "0.0209411087521\n"
     ]
    }
   ],
   "source": [
    "r,p = pearsonr(cv_accs[1,:],Rsnr_O)\n",
    "print(r)\n",
    "print(r**2)"
   ]
  },
  {
   "cell_type": "markdown",
   "metadata": {},
   "source": [
    "### Classification on all three"
   ]
  },
  {
   "cell_type": "code",
   "execution_count": 90,
   "metadata": {},
   "outputs": [
    {
     "data": {
      "text/html": [
       "<table class=\"simpletable\">\n",
       "<caption>OLS Regression Results</caption>\n",
       "<tr>\n",
       "  <th>Dep. Variable:</th>            <td>y</td>        <th>  R-squared:         </th> <td>   0.122</td>\n",
       "</tr>\n",
       "<tr>\n",
       "  <th>Model:</th>                   <td>OLS</td>       <th>  Adj. R-squared:    </th> <td>  -0.032</td>\n",
       "</tr>\n",
       "<tr>\n",
       "  <th>Method:</th>             <td>Least Squares</td>  <th>  F-statistic:       </th> <td>  0.7909</td>\n",
       "</tr>\n",
       "<tr>\n",
       "  <th>Date:</th>             <td>Thu, 17 May 2018</td> <th>  Prob (F-statistic):</th>  <td> 0.516</td> \n",
       "</tr>\n",
       "<tr>\n",
       "  <th>Time:</th>                 <td>11:39:28</td>     <th>  Log-Likelihood:    </th> <td>  30.072</td>\n",
       "</tr>\n",
       "<tr>\n",
       "  <th>No. Observations:</th>      <td>    21</td>      <th>  AIC:               </th> <td>  -52.14</td>\n",
       "</tr>\n",
       "<tr>\n",
       "  <th>Df Residuals:</th>          <td>    17</td>      <th>  BIC:               </th> <td>  -47.97</td>\n",
       "</tr>\n",
       "<tr>\n",
       "  <th>Df Model:</th>              <td>     3</td>      <th>                     </th>     <td> </td>   \n",
       "</tr>\n",
       "<tr>\n",
       "  <th>Covariance Type:</th>      <td>nonrobust</td>    <th>                     </th>     <td> </td>   \n",
       "</tr>\n",
       "</table>\n",
       "<table class=\"simpletable\">\n",
       "<tr>\n",
       "    <td></td>       <th>coef</th>     <th>std err</th>      <th>t</th>      <th>P>|t|</th>  <th>[0.025</th>    <th>0.975]</th>  \n",
       "</tr>\n",
       "<tr>\n",
       "  <th>const</th> <td>    0.5968</td> <td>    0.092</td> <td>    6.506</td> <td> 0.000</td> <td>    0.403</td> <td>    0.790</td>\n",
       "</tr>\n",
       "<tr>\n",
       "  <th>x1</th>    <td>    0.1464</td> <td>    0.167</td> <td>    0.879</td> <td> 0.392</td> <td>   -0.205</td> <td>    0.498</td>\n",
       "</tr>\n",
       "<tr>\n",
       "  <th>x2</th>    <td>   -0.0053</td> <td>    0.019</td> <td>   -0.276</td> <td> 0.786</td> <td>   -0.046</td> <td>    0.035</td>\n",
       "</tr>\n",
       "<tr>\n",
       "  <th>x3</th>    <td>   -0.0014</td> <td>    0.001</td> <td>   -1.267</td> <td> 0.222</td> <td>   -0.004</td> <td>    0.001</td>\n",
       "</tr>\n",
       "</table>\n",
       "<table class=\"simpletable\">\n",
       "<tr>\n",
       "  <th>Omnibus:</th>       <td> 1.410</td> <th>  Durbin-Watson:     </th> <td>   2.251</td>\n",
       "</tr>\n",
       "<tr>\n",
       "  <th>Prob(Omnibus):</th> <td> 0.494</td> <th>  Jarque-Bera (JB):  </th> <td>   0.896</td>\n",
       "</tr>\n",
       "<tr>\n",
       "  <th>Skew:</th>          <td> 0.065</td> <th>  Prob(JB):          </th> <td>   0.639</td>\n",
       "</tr>\n",
       "<tr>\n",
       "  <th>Kurtosis:</th>      <td> 1.996</td> <th>  Cond. No.          </th> <td>    889.</td>\n",
       "</tr>\n",
       "</table>"
      ],
      "text/plain": [
       "<class 'statsmodels.iolib.summary.Summary'>\n",
       "\"\"\"\n",
       "                            OLS Regression Results                            \n",
       "==============================================================================\n",
       "Dep. Variable:                      y   R-squared:                       0.122\n",
       "Model:                            OLS   Adj. R-squared:                 -0.032\n",
       "Method:                 Least Squares   F-statistic:                    0.7909\n",
       "Date:                Thu, 17 May 2018   Prob (F-statistic):              0.516\n",
       "Time:                        11:39:28   Log-Likelihood:                 30.072\n",
       "No. Observations:                  21   AIC:                            -52.14\n",
       "Df Residuals:                      17   BIC:                            -47.97\n",
       "Df Model:                           3                                         \n",
       "Covariance Type:            nonrobust                                         \n",
       "==============================================================================\n",
       "                 coef    std err          t      P>|t|      [0.025      0.975]\n",
       "------------------------------------------------------------------------------\n",
       "const          0.5968      0.092      6.506      0.000       0.403       0.790\n",
       "x1             0.1464      0.167      0.879      0.392      -0.205       0.498\n",
       "x2            -0.0053      0.019     -0.276      0.786      -0.046       0.035\n",
       "x3            -0.0014      0.001     -1.267      0.222      -0.004       0.001\n",
       "==============================================================================\n",
       "Omnibus:                        1.410   Durbin-Watson:                   2.251\n",
       "Prob(Omnibus):                  0.494   Jarque-Bera (JB):                0.896\n",
       "Skew:                           0.065   Prob(JB):                        0.639\n",
       "Kurtosis:                       1.996   Cond. No.                         889.\n",
       "==============================================================================\n",
       "\n",
       "Warnings:\n",
       "[1] Standard Errors assume that the covariance matrix of the errors is correctly specified.\n",
       "\"\"\""
      ]
     },
     "execution_count": 90,
     "metadata": {},
     "output_type": "execute_result"
    }
   ],
   "source": [
    "X=np.vstack((y_reliabilities[0,:],fsnr_F,Rsnr_F)).T\n",
    "results = sm.OLS(cv_accs[0,:],sm.add_constant(X)).fit()\n",
    "results.summary()"
   ]
  },
  {
   "cell_type": "code",
   "execution_count": 93,
   "metadata": {},
   "outputs": [
    {
     "data": {
      "text/html": [
       "<table class=\"simpletable\">\n",
       "<caption>OLS Regression Results</caption>\n",
       "<tr>\n",
       "  <th>Dep. Variable:</th>            <td>y</td>        <th>  R-squared:         </th> <td>   0.148</td>\n",
       "</tr>\n",
       "<tr>\n",
       "  <th>Model:</th>                   <td>OLS</td>       <th>  Adj. R-squared:    </th> <td>  -0.003</td>\n",
       "</tr>\n",
       "<tr>\n",
       "  <th>Method:</th>             <td>Least Squares</td>  <th>  F-statistic:       </th> <td>  0.9816</td>\n",
       "</tr>\n",
       "<tr>\n",
       "  <th>Date:</th>             <td>Thu, 17 May 2018</td> <th>  Prob (F-statistic):</th>  <td> 0.425</td> \n",
       "</tr>\n",
       "<tr>\n",
       "  <th>Time:</th>                 <td>11:39:56</td>     <th>  Log-Likelihood:    </th> <td>  12.160</td>\n",
       "</tr>\n",
       "<tr>\n",
       "  <th>No. Observations:</th>      <td>    21</td>      <th>  AIC:               </th> <td>  -16.32</td>\n",
       "</tr>\n",
       "<tr>\n",
       "  <th>Df Residuals:</th>          <td>    17</td>      <th>  BIC:               </th> <td>  -12.14</td>\n",
       "</tr>\n",
       "<tr>\n",
       "  <th>Df Model:</th>              <td>     3</td>      <th>                     </th>     <td> </td>   \n",
       "</tr>\n",
       "<tr>\n",
       "  <th>Covariance Type:</th>      <td>nonrobust</td>    <th>                     </th>     <td> </td>   \n",
       "</tr>\n",
       "</table>\n",
       "<table class=\"simpletable\">\n",
       "<tr>\n",
       "    <td></td>       <th>coef</th>     <th>std err</th>      <th>t</th>      <th>P>|t|</th>  <th>[0.025</th>    <th>0.975]</th>  \n",
       "</tr>\n",
       "<tr>\n",
       "  <th>const</th> <td>    0.2651</td> <td>    0.270</td> <td>    0.982</td> <td> 0.340</td> <td>   -0.304</td> <td>    0.834</td>\n",
       "</tr>\n",
       "<tr>\n",
       "  <th>x1</th>    <td>    0.6562</td> <td>    0.446</td> <td>    1.471</td> <td> 0.160</td> <td>   -0.285</td> <td>    1.597</td>\n",
       "</tr>\n",
       "<tr>\n",
       "  <th>x2</th>    <td>   -0.0347</td> <td>    0.049</td> <td>   -0.707</td> <td> 0.489</td> <td>   -0.138</td> <td>    0.069</td>\n",
       "</tr>\n",
       "<tr>\n",
       "  <th>x3</th>    <td>    0.0014</td> <td>    0.003</td> <td>    0.545</td> <td> 0.593</td> <td>   -0.004</td> <td>    0.007</td>\n",
       "</tr>\n",
       "</table>\n",
       "<table class=\"simpletable\">\n",
       "<tr>\n",
       "  <th>Omnibus:</th>       <td> 1.464</td> <th>  Durbin-Watson:     </th> <td>   2.335</td>\n",
       "</tr>\n",
       "<tr>\n",
       "  <th>Prob(Omnibus):</th> <td> 0.481</td> <th>  Jarque-Bera (JB):  </th> <td>   1.030</td>\n",
       "</tr>\n",
       "<tr>\n",
       "  <th>Skew:</th>          <td> 0.254</td> <th>  Prob(JB):          </th> <td>   0.597</td>\n",
       "</tr>\n",
       "<tr>\n",
       "  <th>Kurtosis:</th>      <td> 2.041</td> <th>  Cond. No.          </th> <td>    726.</td>\n",
       "</tr>\n",
       "</table>"
      ],
      "text/plain": [
       "<class 'statsmodels.iolib.summary.Summary'>\n",
       "\"\"\"\n",
       "                            OLS Regression Results                            \n",
       "==============================================================================\n",
       "Dep. Variable:                      y   R-squared:                       0.148\n",
       "Model:                            OLS   Adj. R-squared:                 -0.003\n",
       "Method:                 Least Squares   F-statistic:                    0.9816\n",
       "Date:                Thu, 17 May 2018   Prob (F-statistic):              0.425\n",
       "Time:                        11:39:56   Log-Likelihood:                 12.160\n",
       "No. Observations:                  21   AIC:                            -16.32\n",
       "Df Residuals:                      17   BIC:                            -12.14\n",
       "Df Model:                           3                                         \n",
       "Covariance Type:            nonrobust                                         \n",
       "==============================================================================\n",
       "                 coef    std err          t      P>|t|      [0.025      0.975]\n",
       "------------------------------------------------------------------------------\n",
       "const          0.2651      0.270      0.982      0.340      -0.304       0.834\n",
       "x1             0.6562      0.446      1.471      0.160      -0.285       1.597\n",
       "x2            -0.0347      0.049     -0.707      0.489      -0.138       0.069\n",
       "x3             0.0014      0.003      0.545      0.593      -0.004       0.007\n",
       "==============================================================================\n",
       "Omnibus:                        1.464   Durbin-Watson:                   2.335\n",
       "Prob(Omnibus):                  0.481   Jarque-Bera (JB):                1.030\n",
       "Skew:                           0.254   Prob(JB):                        0.597\n",
       "Kurtosis:                       2.041   Cond. No.                         726.\n",
       "==============================================================================\n",
       "\n",
       "Warnings:\n",
       "[1] Standard Errors assume that the covariance matrix of the errors is correctly specified.\n",
       "\"\"\""
      ]
     },
     "execution_count": 93,
     "metadata": {},
     "output_type": "execute_result"
    }
   ],
   "source": [
    "X=np.vstack((y_reliabilities[1,:],fsnr_O,Rsnr_O)).T\n",
    "results = sm.OLS(cv_accs[1,:],sm.add_constant(X)).fit()\n",
    "results.summary()"
   ]
  },
  {
   "cell_type": "markdown",
   "metadata": {},
   "source": [
    "### Classification difference on all three differences"
   ]
  },
  {
   "cell_type": "code",
   "execution_count": 94,
   "metadata": {},
   "outputs": [
    {
     "data": {
      "text/html": [
       "<table class=\"simpletable\">\n",
       "<caption>OLS Regression Results</caption>\n",
       "<tr>\n",
       "  <th>Dep. Variable:</th>            <td>y</td>        <th>  R-squared:         </th> <td>   0.074</td>\n",
       "</tr>\n",
       "<tr>\n",
       "  <th>Model:</th>                   <td>OLS</td>       <th>  Adj. R-squared:    </th> <td>  -0.089</td>\n",
       "</tr>\n",
       "<tr>\n",
       "  <th>Method:</th>             <td>Least Squares</td>  <th>  F-statistic:       </th> <td>  0.4535</td>\n",
       "</tr>\n",
       "<tr>\n",
       "  <th>Date:</th>             <td>Thu, 17 May 2018</td> <th>  Prob (F-statistic):</th>  <td> 0.718</td> \n",
       "</tr>\n",
       "<tr>\n",
       "  <th>Time:</th>                 <td>11:40:57</td>     <th>  Log-Likelihood:    </th> <td>  8.3051</td>\n",
       "</tr>\n",
       "<tr>\n",
       "  <th>No. Observations:</th>      <td>    21</td>      <th>  AIC:               </th> <td>  -8.610</td>\n",
       "</tr>\n",
       "<tr>\n",
       "  <th>Df Residuals:</th>          <td>    17</td>      <th>  BIC:               </th> <td>  -4.432</td>\n",
       "</tr>\n",
       "<tr>\n",
       "  <th>Df Model:</th>              <td>     3</td>      <th>                     </th>     <td> </td>   \n",
       "</tr>\n",
       "<tr>\n",
       "  <th>Covariance Type:</th>      <td>nonrobust</td>    <th>                     </th>     <td> </td>   \n",
       "</tr>\n",
       "</table>\n",
       "<table class=\"simpletable\">\n",
       "<tr>\n",
       "    <td></td>       <th>coef</th>     <th>std err</th>      <th>t</th>      <th>P>|t|</th>  <th>[0.025</th>    <th>0.975]</th>  \n",
       "</tr>\n",
       "<tr>\n",
       "  <th>const</th> <td>    0.0885</td> <td>    0.161</td> <td>    0.548</td> <td> 0.591</td> <td>   -0.252</td> <td>    0.429</td>\n",
       "</tr>\n",
       "<tr>\n",
       "  <th>x1</th>    <td>    0.5203</td> <td>    0.502</td> <td>    1.036</td> <td> 0.315</td> <td>   -0.539</td> <td>    1.580</td>\n",
       "</tr>\n",
       "<tr>\n",
       "  <th>x2</th>    <td>   -0.0691</td> <td>    0.068</td> <td>   -1.020</td> <td> 0.322</td> <td>   -0.212</td> <td>    0.074</td>\n",
       "</tr>\n",
       "<tr>\n",
       "  <th>x3</th>    <td>    0.0008</td> <td>    0.003</td> <td>    0.259</td> <td> 0.799</td> <td>   -0.006</td> <td>    0.008</td>\n",
       "</tr>\n",
       "</table>\n",
       "<table class=\"simpletable\">\n",
       "<tr>\n",
       "  <th>Omnibus:</th>       <td> 3.096</td> <th>  Durbin-Watson:     </th> <td>   2.288</td>\n",
       "</tr>\n",
       "<tr>\n",
       "  <th>Prob(Omnibus):</th> <td> 0.213</td> <th>  Jarque-Bera (JB):  </th> <td>   1.436</td>\n",
       "</tr>\n",
       "<tr>\n",
       "  <th>Skew:</th>          <td> 0.261</td> <th>  Prob(JB):          </th> <td>   0.488</td>\n",
       "</tr>\n",
       "<tr>\n",
       "  <th>Kurtosis:</th>      <td> 1.830</td> <th>  Cond. No.          </th> <td>    379.</td>\n",
       "</tr>\n",
       "</table>"
      ],
      "text/plain": [
       "<class 'statsmodels.iolib.summary.Summary'>\n",
       "\"\"\"\n",
       "                            OLS Regression Results                            \n",
       "==============================================================================\n",
       "Dep. Variable:                      y   R-squared:                       0.074\n",
       "Model:                            OLS   Adj. R-squared:                 -0.089\n",
       "Method:                 Least Squares   F-statistic:                    0.4535\n",
       "Date:                Thu, 17 May 2018   Prob (F-statistic):              0.718\n",
       "Time:                        11:40:57   Log-Likelihood:                 8.3051\n",
       "No. Observations:                  21   AIC:                            -8.610\n",
       "Df Residuals:                      17   BIC:                            -4.432\n",
       "Df Model:                           3                                         \n",
       "Covariance Type:            nonrobust                                         \n",
       "==============================================================================\n",
       "                 coef    std err          t      P>|t|      [0.025      0.975]\n",
       "------------------------------------------------------------------------------\n",
       "const          0.0885      0.161      0.548      0.591      -0.252       0.429\n",
       "x1             0.5203      0.502      1.036      0.315      -0.539       1.580\n",
       "x2            -0.0691      0.068     -1.020      0.322      -0.212       0.074\n",
       "x3             0.0008      0.003      0.259      0.799      -0.006       0.008\n",
       "==============================================================================\n",
       "Omnibus:                        3.096   Durbin-Watson:                   2.288\n",
       "Prob(Omnibus):                  0.213   Jarque-Bera (JB):                1.436\n",
       "Skew:                           0.261   Prob(JB):                        0.488\n",
       "Kurtosis:                       1.830   Cond. No.                         379.\n",
       "==============================================================================\n",
       "\n",
       "Warnings:\n",
       "[1] Standard Errors assume that the covariance matrix of the errors is correctly specified.\n",
       "\"\"\""
      ]
     },
     "execution_count": 94,
     "metadata": {},
     "output_type": "execute_result"
    }
   ],
   "source": [
    "X=np.vstack((y_reliabilities[1,:]-y_reliabilities[0,:],fsnr_O-fsnr_F,Rsnr_O-Rsnr_F)).T\n",
    "results = sm.OLS(cv_accs[1,:]-cv_accs[0,:],sm.add_constant(X)).fit()\n",
    "results.summary()"
   ]
  }
 ],
 "metadata": {
  "hide_input": false,
  "kernelspec": {
   "display_name": "Python 2",
   "language": "python",
   "name": "python2"
  },
  "language_info": {
   "codemirror_mode": {
    "name": "ipython",
    "version": 2
   },
   "file_extension": ".py",
   "mimetype": "text/x-python",
   "name": "python",
   "nbconvert_exporter": "python",
   "pygments_lexer": "ipython2",
   "version": "2.7.14"
  },
  "toc": {
   "nav_menu": {},
   "number_sections": true,
   "sideBar": true,
   "skip_h1_title": false,
   "toc_cell": false,
   "toc_position": {},
   "toc_section_display": "block",
   "toc_window_display": true
  }
 },
 "nbformat": 4,
 "nbformat_minor": 1
}
